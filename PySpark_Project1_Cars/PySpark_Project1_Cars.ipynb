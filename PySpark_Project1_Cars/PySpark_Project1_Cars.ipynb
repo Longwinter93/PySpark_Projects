{
 "cells": [
  {
   "cell_type": "markdown",
   "id": "bc409204",
   "metadata": {},
   "source": [
    "# Starting Spark Session"
   ]
  },
  {
   "cell_type": "code",
   "execution_count": 1,
   "id": "232b9ea2",
   "metadata": {},
   "outputs": [],
   "source": [
    "from pyspark.sql import SparkSession,functions, Window\n",
    "from pyspark.sql.functions import *\n",
    "from pyspark.sql.types import IntegerType,BooleanType,DateType, LongType,  DoubleType\n"
   ]
  },
  {
   "cell_type": "markdown",
   "id": "4bea6681",
   "metadata": {},
   "source": [
    "# Creating a Spark Session called Cars"
   ]
  },
  {
   "cell_type": "code",
   "execution_count": 2,
   "id": "274fc1ff",
   "metadata": {},
   "outputs": [],
   "source": [
    "spark = SparkSession.builder.appName('Cars').getOrCreate()"
   ]
  },
  {
   "cell_type": "code",
   "execution_count": 3,
   "id": "7870a30a",
   "metadata": {},
   "outputs": [
    {
     "data": {
      "text/html": [
       "\n",
       "            <div>\n",
       "                <p><b>SparkSession - in-memory</b></p>\n",
       "                \n",
       "        <div>\n",
       "            <p><b>SparkContext</b></p>\n",
       "\n",
       "            <p><a href=\"http://POL-8625NG3.SIIPOLSKA.PL:4041\">Spark UI</a></p>\n",
       "\n",
       "            <dl>\n",
       "              <dt>Version</dt>\n",
       "                <dd><code>v3.4.0</code></dd>\n",
       "              <dt>Master</dt>\n",
       "                <dd><code>local[*]</code></dd>\n",
       "              <dt>AppName</dt>\n",
       "                <dd><code>Cars</code></dd>\n",
       "            </dl>\n",
       "        </div>\n",
       "        \n",
       "            </div>\n",
       "        "
      ],
      "text/plain": [
       "<pyspark.sql.session.SparkSession at 0x1cb9a286f40>"
      ]
     },
     "execution_count": 3,
     "metadata": {},
     "output_type": "execute_result"
    }
   ],
   "source": [
    "spark"
   ]
  },
  {
   "cell_type": "markdown",
   "id": "9bac865e",
   "metadata": {},
   "source": [
    "# Reading a file of CSV format into Spark DataFrame"
   ]
  },
  {
   "cell_type": "code",
   "execution_count": 4,
   "id": "cba98e69",
   "metadata": {},
   "outputs": [],
   "source": [
    "pathArgCars = r'D:\\My commercial projects\\PySpark\\Project 1 PySpark\\Car Prices\\argentina_cars.csv'\n",
    "pathNigCars = r'D:\\My commercial projects\\PySpark\\Project 1 PySpark\\Car Prices\\nigerian_cars.csv'\n",
    "pathPolCars = r'D:\\My commercial projects\\PySpark\\Project 1 PySpark\\Car Prices\\poland_cars.csv'\n",
    "pathUsaCars = r'D:\\My commercial projects\\PySpark\\Project 1 PySpark\\Car Prices\\usa_cars.csv'"
   ]
  },
  {
   "cell_type": "code",
   "execution_count": 5,
   "id": "77944045",
   "metadata": {},
   "outputs": [],
   "source": [
    "df_pyspark_arg =spark.read.csv(pathArgCars,header=True,inferSchema=True)\n",
    "df_pyspark_nig =  spark.read.csv(pathNigCars,header=True,inferSchema=True)\n",
    "df_pyspark_pol = spark.read.csv(pathPolCars,header=True,inferSchema=True)\n",
    "df_pyspark_usa = spark.read.csv(pathUsaCars,header=True,inferSchema=True)"
   ]
  },
  {
   "cell_type": "code",
   "execution_count": 6,
   "id": "5cb26d87",
   "metadata": {},
   "outputs": [
    {
     "name": "stdout",
     "output_type": "stream",
     "text": [
      "+--------+-------------+-------------+----+-----------+---------+----+----------+-------------+---------+----------+--------+\n",
      "|   money|        brand|        model|year|      color|fuel_type|door|      gear|        motor|body_type|kilometres|currency|\n",
      "+--------+-------------+-------------+----+-----------+---------+----+----------+-------------+---------+----------+--------+\n",
      "|10350000|       Toyota|Corolla Cross|2022|   Plateado|    Nafta| 5.0|Automática|         null|      SUV|       500|   pesos|\n",
      "|10850000|         Jeep|      Compass|2022|     Blanco|    Nafta| 5.0|Automática|          2.4|      SUV|       500|   pesos|\n",
      "|   35500|         Jeep|      Compass|2022|Gris oscuro|    Nafta| 5.0|Automática|          2.4|      SUV|       500| dólares|\n",
      "|   19000|      Citroën|    C4 Cactus|2022|Gris oscuro|    Nafta| 5.0|Automática|         null|      SUV|       550| dólares|\n",
      "| 5800000|       Toyota|      Corolla|2019|       Gris|    Nafta| 4.0|    Manual|          1.8|    Sedán|      9000|   pesos|\n",
      "|   34500|         Jeep|      Compass|2022|      Negro|    Nafta| 5.0|Automática|          1.3|      SUV|     10500| dólares|\n",
      "|   25000|          Kia|      Sorento|2014|      Negro|   Diésel| 5.0|Automática|          2.2|      SUV|    156000| dólares|\n",
      "|   12300|Mercedes-Benz|      Clase C|2008|   Plateado|    Nafta| 4.0|Automática|          1.8|    Sedán|    174000| dólares|\n",
      "|   35500|          BMW|          220|2016|     Blanco|    Nafta| 2.0|Automática|        TURBO|    Coupé|     66000| dólares|\n",
      "| 6800000|   Volkswagen|      T-Cross|2019|    Naranja|    Nafta| 5.0|Automática|1.6 MSI Nafta|      SUV|     35000|   pesos|\n",
      "|   38500|Mercedes-Benz|      Clase A|2017|   Plateado|    Nafta| 5.0|Automática|            3|Hatchback|     55394| dólares|\n",
      "|   20500|Mercedes-Benz|      Clase A|2013|     Blanco|    Nafta| 5.0|    Manual|          1.6|Hatchback|    162080| dólares|\n",
      "| 3500000|      Renault|      Sandero|2022|   Plateado|    Nafta| 5.0|    Manual|         null|    Sedán|    111111|   pesos|\n",
      "| 5990000|   Volkswagen|         Polo|2022|     Blanco|    Nafta| 5.0|    Manual|          1.6|Hatchback|    111111|   pesos|\n",
      "|   41900|          BMW|      Serie 1|2020|      Negro|    Nafta| 5.0|Automática|         null|Hatchback|     34800| dólares|\n",
      "| 2100000|         Ford|     Ecosport|2011|      Beige|    Nafta| 4.0|    Manual|          1.6|      SUV|    101000|   pesos|\n",
      "|   38500|    Chevrolet|  Trailblazer|2019|       Gris|   Diésel| 5.0|Automática|         null|      SUV|     73000| dólares|\n",
      "| 2940000|       Toyota|        Etios|2015|     Blanco|    Nafta| 5.0|    Manual|          1.5|Hatchback|     83000|   pesos|\n",
      "| 2050000|      Renault|         Clio|2014|       Gris|    Nafta| 5.0|    Manual|          1.2|Hatchback|     99000|   pesos|\n",
      "| 4120000|       Toyota|         RAV4|2011|       Gris|    Nafta| 5.0|Automática|          2.4|      SUV|    180000|   pesos|\n",
      "+--------+-------------+-------------+----+-----------+---------+----+----------+-------------+---------+----------+--------+\n",
      "only showing top 20 rows\n",
      "\n"
     ]
    }
   ],
   "source": [
    "df_pyspark_arg.show()"
   ]
  },
  {
   "cell_type": "code",
   "execution_count": 7,
   "id": "6aeecc31",
   "metadata": {},
   "outputs": [
    {
     "name": "stdout",
     "output_type": "stream",
     "text": [
      "+---+-------------+-------------------+-------------+-------+-----------+------+------------+----------+-----+\n",
      "|_c0|         Make|Year of manufacture|    Condition|Mileage|Engine Size|  Fuel|Transmission|     Price|Build|\n",
      "+---+-------------+-------------------+-------------+-------+-----------+------+------------+----------+-----+\n",
      "|  0|       Toyota|               2007|Nigerian Used| 166418|       2400|Petrol|   Automatic| 3,120,000| null|\n",
      "|  1|        Lexus|               null|         null| 138024|       null|  null|   Automatic| 5,834,000| null|\n",
      "|  2|Mercedes-Benz|               2008|Nigerian Used| 376807|       3000|Petrol|   Automatic| 3,640,000| null|\n",
      "|  3|        Lexus|               null|         null| 213362|       null|  null|   Automatic| 3,594,000| null|\n",
      "|  4|Mercedes-Benz|               null|         null| 106199|       null|  null|   Automatic| 8,410,000| null|\n",
      "|  5|Mercedes-Benz|               null|         null|  87660|       null|  null|   Automatic| 5,554,000| null|\n",
      "|  6|        Lexus|               null|         null| 191411|       null|  null|   Automatic| 3,706,000| null|\n",
      "|  7|        Lexus|               null|         null|  59092|       null|  null|   Automatic| 8,410,000| null|\n",
      "|  8|Mercedes-Benz|               null|         null|  89423|       null|  null|   Automatic| 6,506,000| null|\n",
      "|  9|        Lexus|               null|         null| 184827|       null|  null|   Automatic| 4,000,000| null|\n",
      "| 10|        Lexus|               null|         null|  42433|       null|  null|   Automatic| 8,970,000| null|\n",
      "| 11|        Lexus|               null|         null| 116138|       null|  null|   Automatic| 3,034,000| null|\n",
      "| 12|        Lexus|               null|         null| 167583|       null|  null|   Automatic| 3,818,000| null|\n",
      "| 13|        Lexus|               null|         null| 240934|       null|  null|   Automatic| 3,930,000| null|\n",
      "| 14|         Fiat|               null|         null|    114|       null|  null|   Automatic| 8,500,000| null|\n",
      "| 15|         Fiat|               null|         null|     54|       null|  null|      Manual|12,500,000| null|\n",
      "| 16|        Lexus|               null|         null|  79740|       null|  null|   Automatic| 5,274,000| null|\n",
      "| 17|Mercedes-Benz|               null|         null| 338145|       null|  null|   Automatic| 8,060,000| null|\n",
      "| 18|        Lexus|               null|         null| 174545|       null|  null|   Automatic| 6,506,000| null|\n",
      "| 19|   Land Rover|               null|         null|  63296|       null|  null|   Automatic| 6,910,000| null|\n",
      "+---+-------------+-------------------+-------------+-------+-----------+------+------------+----------+-----+\n",
      "only showing top 20 rows\n",
      "\n"
     ]
    }
   ],
   "source": [
    "df_pyspark_nig.show()"
   ]
  },
  {
   "cell_type": "code",
   "execution_count": 8,
   "id": "43cacdbc",
   "metadata": {},
   "outputs": [
    {
     "name": "stdout",
     "output_type": "stream",
     "text": [
      "+---+----+-----+---------------+----+-------+----------+------+---------------+-------------------+-----+\n",
      "|_c0|mark|model|generation_name|year|mileage|vol_engine|  fuel|           city|           province|price|\n",
      "+---+----+-----+---------------+----+-------+----------+------+---------------+-------------------+-----+\n",
      "|  0|opel|combo|     gen-d-2011|2015| 139568|      1248|Diesel|          Janki|        Mazowieckie|35900|\n",
      "|  1|opel|combo|     gen-d-2011|2018|  31991|      1499|Diesel|       Katowice|            Śląskie|78501|\n",
      "|  2|opel|combo|     gen-d-2011|2015| 278437|      1598|Diesel|          Brzeg|           Opolskie|27000|\n",
      "|  3|opel|combo|     gen-d-2011|2016|  47600|      1248|Diesel|      Korfantów|           Opolskie|30800|\n",
      "|  4|opel|combo|     gen-d-2011|2014| 103000|      1400|   CNG|Tarnowskie Góry|            Śląskie|35900|\n",
      "|  5|opel|combo|     gen-d-2011|2017| 121203|      1598|Diesel|       Warszawa|        Mazowieckie|51900|\n",
      "|  6|opel|combo|     gen-d-2011|2017| 119965|      1248|Diesel|        Wrocław|       Dolnośląskie|44700|\n",
      "|  7|opel|combo|     gen-d-2011|2016| 201658|      1248|Diesel|         Lublin|          Lubelskie|29000|\n",
      "|  8|opel|combo|     gen-d-2011|2014| 178666|      1598|Diesel|         Złotów|      Wielkopolskie|28900|\n",
      "|  9|opel|combo|     gen-d-2011|2015| 113000|      1248|Diesel|       Strzyżew|        Mazowieckie|34900|\n",
      "| 10|opel|combo|     gen-d-2011|2012| 237000|      1598|Diesel|         Elbląg|Warmińsko-mazurskie|24800|\n",
      "| 11|opel|combo|     gen-d-2011|2017| 137000|      1248|Diesel|       Warszawa|        Mazowieckie|39900|\n",
      "| 12|opel|combo|     gen-d-2011|2016| 154000|      1248|Diesel|      Sosnowiec|            Śląskie|35900|\n",
      "| 13|opel|combo|     gen-d-2011|2017|  59339|      1248|Diesel|        Wrocław|       Dolnośląskie|55300|\n",
      "| 14|opel|combo|     gen-d-2011|2016| 137445|      1598|Diesel|          Opole|           Opolskie|34700|\n",
      "| 15|opel|combo|     gen-d-2011|2016| 141859|      1248|Diesel|       Katowice|            Śląskie|39900|\n",
      "| 16|opel|combo|     gen-d-2011|2012| 195000|      1598|Diesel|          Radom|        Mazowieckie|25900|\n",
      "| 17|opel|combo|     gen-d-2011|2015| 180000|      1598|Diesel|       Chmieleń|       Dolnośląskie|32900|\n",
      "| 18|opel|combo|     gen-d-2011|2018| 107515|      1499|Diesel|      Piaseczno|        Mazowieckie|62000|\n",
      "| 19|opel|combo|     gen-d-2011|2017| 149000|      1598|Diesel|  Góra Kalwaria|        Mazowieckie|39852|\n",
      "+---+----+-----+---------------+----+-------+----------+------+---------------+-------------------+-----+\n",
      "only showing top 20 rows\n",
      "\n"
     ]
    }
   ],
   "source": [
    "df_pyspark_pol.show()"
   ]
  },
  {
   "cell_type": "code",
   "execution_count": 9,
   "id": "f79c9e76",
   "metadata": {},
   "outputs": [
    {
     "name": "stdout",
     "output_type": "stream",
     "text": [
      "+----+-----+-----+-----+-----+------------+-----+-----+---------+--------+-----+--------+------+-----+------------+--------+\n",
      "|year| make|model| trim| body|transmission|  vin|state|condition|odometer|color|interior|seller|  mmr|sellingprice|saledate|\n",
      "+----+-----+-----+-----+-----+------------+-----+-----+---------+--------+-----+--------+------+-----+------------+--------+\n",
      "|2015|  Kia|So...|   LX|  SUV|       au...|5x...|   ca|        5|   16...|white|   black| ki...|20500|       21500|   Tu...|\n",
      "|2015|  Kia|So...|   LX|  SUV|       au...|5x...|   ca|        5|   93...|white|   beige| ki...|20800|       21500|   Tu...|\n",
      "|2014|  BMW|3 ...|32...|Sedan|       au...|wb...|   ca|      4.5|   13...| gray|   black| fi...|31900|       30000|   Th...|\n",
      "|2015|Volvo|  S60|   T5|Sedan|       au...|yv...|   ca|      4.1|   14...|white|   black| vo...|27500|       27750|   Th...|\n",
      "|2014|  BMW|6 ...| 650i|Sedan|       au...|wb...|   ca|      4.3|   26...| gray|   black| fi...|66000|       67000|   Th...|\n",
      "|2015|Ni...|Al...|2.5 S|Sedan|       au...|1n...|   ca|        1|   55...| gray|   black| en...|15350|       10900|   Tu...|\n",
      "|2014|  BMW|   M5| Base|Sedan|       au...|wb...|   ca|      3.4|   14...|black|   black| th...|69000|       65000|   We...|\n",
      "|2014|Ch...|Cruze|  1LT|Sedan|       au...|1g...|   ca|        2|   28...|black|   black| en...|11900|        9800|   Tu...|\n",
      "|2014| Audi|   A4|2....|Sedan|       au...|wa...|   ca|      4.2|   95...|white|   black| au...|32100|       32250|   Th...|\n",
      "|2014|Ch...|Ca...|   LT|Co...|       au...|2g...|   ca|        3|   48...|  red|   black| d/...|26300|       17500|   Tu...|\n",
      "|2014| Audi|   A6|3....|Sedan|       au...|wa...|   ca|      4.8|   14...|black|   black| de...|47300|       49750|   Tu...|\n",
      "|2015|  Kia|Op...|   LX|Sedan|       au...|5x...|   ca|      4.8|   20...|  red|     tan| ki...|15150|       17700|   Tu...|\n",
      "|2015| Ford|Fu...|   SE|Sedan|       au...|3f...|   ca|        2|   55...|white|   beige| en...|15350|       12000|   Tu...|\n",
      "|2015|  Kia|So...|   LX|  SUV|       au...|5x...|   ca|        5|   14...|si...|   black| ki...|20600|       21500|   Tu...|\n",
      "|2014|Ch...|Cruze|  2LT|Sedan|       au...|1g...|   ca|     null|   15...| blue|   black| av...|13900|       10600|   Tu...|\n",
      "|2015|Ni...|Al...|2.5 S|Sedan|       au...|1n...|   ca|        2|   11...|black|   black| en...|14750|       14100|   Tu...|\n",
      "|2015|Hy...|So...|   SE|Sedan|        null|5n...|   ca|     null|   83...|  red|       —| av...|15200|        4200|   Tu...|\n",
      "|2014| Audi|   Q5|2....|  SUV|       au...|wa...|   ca|      4.9|   79...|white|   black| au...|37100|       40000|   Th...|\n",
      "|2014|Ch...|Ca...|   LS|Coupe|       au...|2g...|   ca|      1.7|   13...|black|   black| we...|17750|       17000|   Tu...|\n",
      "|2014|  BMW|6 ...| 650i|Co...|       au...|wb...|   ca|      3.4|   88...|black|   black| th...|68000|       67200|   We...|\n",
      "+----+-----+-----+-----+-----+------------+-----+-----+---------+--------+-----+--------+------+-----+------------+--------+\n",
      "only showing top 20 rows\n",
      "\n"
     ]
    }
   ],
   "source": [
    "df_pyspark_usa.show(20,5)"
   ]
  },
  {
   "cell_type": "code",
   "execution_count": 10,
   "id": "24d85536",
   "metadata": {},
   "outputs": [
    {
     "name": "stdout",
     "output_type": "stream",
     "text": [
      "+----+----+-------+----+----+------------+-----------------+-----+---------+--------+-----+--------+-----------------------+-----+------------+---------------------------------------+\n",
      "|year|make|model  |trim|body|transmission|vin              |state|condition|odometer|color|interior|seller                 |mmr  |sellingprice|saledate                               |\n",
      "+----+----+-------+----+----+------------+-----------------+-----+---------+--------+-----+--------+-----------------------+-----+------------+---------------------------------------+\n",
      "|2015|Kia |Sorento|LX  |SUV |automatic   |5xyktca69fg566472|ca   |5        |16639.0 |white|black   |kia motors america, inc|20500|21500       |Tue Dec 16 2014 12:30:00 GMT-0800 (PST)|\n",
      "|2015|Kia |Sorento|LX  |SUV |automatic   |5xyktca69fg561319|ca   |5        |9393.0  |white|beige   |kia motors america, inc|20800|21500       |Tue Dec 16 2014 12:30:00 GMT-0800 (PST)|\n",
      "+----+----+-------+----+----+------------+-----------------+-----+---------+--------+-----+--------+-----------------------+-----+------------+---------------------------------------+\n",
      "only showing top 2 rows\n",
      "\n"
     ]
    }
   ],
   "source": [
    "df_pyspark_usa.show(2,truncate=False)"
   ]
  },
  {
   "cell_type": "markdown",
   "id": "6c42384f",
   "metadata": {},
   "source": [
    "# Exploratory Data, Data Cleaning, Data Wrangling"
   ]
  },
  {
   "cell_type": "markdown",
   "id": "44346ba8",
   "metadata": {},
   "source": [
    "## df_pyspark_arg"
   ]
  },
  {
   "cell_type": "code",
   "execution_count": 11,
   "id": "8b676d46",
   "metadata": {},
   "outputs": [
    {
     "name": "stdout",
     "output_type": "stream",
     "text": [
      "+--------+-------------+-------------+----+-----------+---------+----+----------+-------------+---------+----------+--------+\n",
      "|money   |brand        |model        |year|color      |fuel_type|door|gear      |motor        |body_type|kilometres|currency|\n",
      "+--------+-------------+-------------+----+-----------+---------+----+----------+-------------+---------+----------+--------+\n",
      "|10350000|Toyota       |Corolla Cross|2022|Plateado   |Nafta    |5.0 |Automática|null         |SUV      |500       |pesos   |\n",
      "|10850000|Jeep         |Compass      |2022|Blanco     |Nafta    |5.0 |Automática|2.4          |SUV      |500       |pesos   |\n",
      "|35500   |Jeep         |Compass      |2022|Gris oscuro|Nafta    |5.0 |Automática|2.4          |SUV      |500       |dólares |\n",
      "|19000   |Citroën      |C4 Cactus    |2022|Gris oscuro|Nafta    |5.0 |Automática|null         |SUV      |550       |dólares |\n",
      "|5800000 |Toyota       |Corolla      |2019|Gris       |Nafta    |4.0 |Manual    |1.8          |Sedán    |9000      |pesos   |\n",
      "|34500   |Jeep         |Compass      |2022|Negro      |Nafta    |5.0 |Automática|1.3          |SUV      |10500     |dólares |\n",
      "|25000   |Kia          |Sorento      |2014|Negro      |Diésel   |5.0 |Automática|2.2          |SUV      |156000    |dólares |\n",
      "|12300   |Mercedes-Benz|Clase C      |2008|Plateado   |Nafta    |4.0 |Automática|1.8          |Sedán    |174000    |dólares |\n",
      "|35500   |BMW          |220          |2016|Blanco     |Nafta    |2.0 |Automática|TURBO        |Coupé    |66000     |dólares |\n",
      "|6800000 |Volkswagen   |T-Cross      |2019|Naranja    |Nafta    |5.0 |Automática|1.6 MSI Nafta|SUV      |35000     |pesos   |\n",
      "|38500   |Mercedes-Benz|Clase A      |2017|Plateado   |Nafta    |5.0 |Automática|3            |Hatchback|55394     |dólares |\n",
      "|20500   |Mercedes-Benz|Clase A      |2013|Blanco     |Nafta    |5.0 |Manual    |1.6          |Hatchback|162080    |dólares |\n",
      "|3500000 |Renault      |Sandero      |2022|Plateado   |Nafta    |5.0 |Manual    |null         |Sedán    |111111    |pesos   |\n",
      "|5990000 |Volkswagen   |Polo         |2022|Blanco     |Nafta    |5.0 |Manual    |1.6          |Hatchback|111111    |pesos   |\n",
      "|41900   |BMW          |Serie 1      |2020|Negro      |Nafta    |5.0 |Automática|null         |Hatchback|34800     |dólares |\n",
      "|2100000 |Ford         |Ecosport     |2011|Beige      |Nafta    |4.0 |Manual    |1.6          |SUV      |101000    |pesos   |\n",
      "|38500   |Chevrolet    |Trailblazer  |2019|Gris       |Diésel   |5.0 |Automática|null         |SUV      |73000     |dólares |\n",
      "|2940000 |Toyota       |Etios        |2015|Blanco     |Nafta    |5.0 |Manual    |1.5          |Hatchback|83000     |pesos   |\n",
      "|2050000 |Renault      |Clio         |2014|Gris       |Nafta    |5.0 |Manual    |1.2          |Hatchback|99000     |pesos   |\n",
      "|4120000 |Toyota       |RAV4         |2011|Gris       |Nafta    |5.0 |Automática|2.4          |SUV      |180000    |pesos   |\n",
      "+--------+-------------+-------------+----+-----------+---------+----+----------+-------------+---------+----------+--------+\n",
      "only showing top 20 rows\n",
      "\n"
     ]
    }
   ],
   "source": [
    "df_pyspark_arg.show(20,truncate=False)"
   ]
  },
  {
   "cell_type": "code",
   "execution_count": 12,
   "id": "d84f3a2a",
   "metadata": {},
   "outputs": [
    {
     "name": "stdout",
     "output_type": "stream",
     "text": [
      "root\n",
      " |-- money: integer (nullable = true)\n",
      " |-- brand: string (nullable = true)\n",
      " |-- model: string (nullable = true)\n",
      " |-- year: integer (nullable = true)\n",
      " |-- color: string (nullable = true)\n",
      " |-- fuel_type: string (nullable = true)\n",
      " |-- door: double (nullable = true)\n",
      " |-- gear: string (nullable = true)\n",
      " |-- motor: string (nullable = true)\n",
      " |-- body_type: string (nullable = true)\n",
      " |-- kilometres: integer (nullable = true)\n",
      " |-- currency: string (nullable = true)\n",
      "\n"
     ]
    }
   ],
   "source": [
    "df_pyspark_arg.printSchema()"
   ]
  },
  {
   "cell_type": "markdown",
   "id": "d42eb90a",
   "metadata": {},
   "source": [
    "### Dealing with null values"
   ]
  },
  {
   "cell_type": "markdown",
   "id": "5c7f7044",
   "metadata": {},
   "source": [
    "#### Using two methods:"
   ]
  },
  {
   "cell_type": "code",
   "execution_count": 13,
   "id": "48b0a9a2",
   "metadata": {},
   "outputs": [
    {
     "name": "stdout",
     "output_type": "stream",
     "text": [
      "+-----+-----+-----+----+-----+---------+----+----+-----+---------+----------+--------+\n",
      "|money|brand|model|year|color|fuel_type|door|gear|motor|body_type|kilometres|currency|\n",
      "+-----+-----+-----+----+-----+---------+----+----+-----+---------+----------+--------+\n",
      "|    0|    0|    0|   0|   11|        0|   0|   1|   11|        1|         0|       0|\n",
      "+-----+-----+-----+----+-----+---------+----+----+-----+---------+----------+--------+\n",
      "\n"
     ]
    }
   ],
   "source": [
    "df_pyspark_arg.select([count(when(isnan(c) | col(c).isNull(), c)).alias(c) for c in df_pyspark_arg.columns]).show()\n"
   ]
  },
  {
   "cell_type": "code",
   "execution_count": 14,
   "id": "b7c30ae3",
   "metadata": {},
   "outputs": [
    {
     "data": {
      "text/plain": [
       "{'money': 0,\n",
       " 'brand': 0,\n",
       " 'model': 0,\n",
       " 'year': 0,\n",
       " 'color': 11,\n",
       " 'fuel_type': 0,\n",
       " 'door': 0,\n",
       " 'gear': 1,\n",
       " 'motor': 11,\n",
       " 'body_type': 1,\n",
       " 'kilometres': 0,\n",
       " 'currency': 0}"
      ]
     },
     "execution_count": 14,
     "metadata": {},
     "output_type": "execute_result"
    }
   ],
   "source": [
    "Dict_Null = {col:df_pyspark_arg.filter(df_pyspark_arg[col].isNull()).count() for col in df_pyspark_arg.columns}\n",
    "Dict_Null"
   ]
  },
  {
   "cell_type": "markdown",
   "id": "ba77a578",
   "metadata": {},
   "source": [
    "#### Looking for null values in columns:"
   ]
  },
  {
   "cell_type": "code",
   "execution_count": 15,
   "id": "d7a50c88",
   "metadata": {},
   "outputs": [
    {
     "name": "stdout",
     "output_type": "stream",
     "text": [
      "+-------+----------+-----------+----+-----+---------+----+----------+-----+-----------+----------+--------+\n",
      "|  money|     brand|      model|year|color|fuel_type|door|      gear|motor|  body_type|kilometres|currency|\n",
      "+-------+----------+-----------+----+-----+---------+----+----------+-----+-----------+----------+--------+\n",
      "|  16000|       BMW|         X5|2000| null|    Nafta| 5.0|    Manual|  4.4|        SUV|    132000| dólares|\n",
      "|6300000|    Toyota|    Corolla|2018| null|    Nafta| 4.0|Automática|  1.8|      Sedán|     16500|   pesos|\n",
      "|2890000|   Peugeot|        408|2013| null|    Nafta| 4.0|    Manual|  2.0|      Sedán|    129400|   pesos|\n",
      "|3050000|   Renault|      Logan|2016| null|    Nafta| 4.0|    Manual|  1.6|      Sedán|     37300|   pesos|\n",
      "|1690000| Chevrolet|      Celta|2013| null|    Nafta| 3.0|    Manual|  1.4|  Hatchback|    109000|   pesos|\n",
      "|7500000|Volkswagen|     Sharan|2014| null|    Nafta| 5.0|Automática|  2.0|Monovolumen|     66000|   pesos|\n",
      "|2750000|   Citroën|        DS3|2012| null|    Nafta| 3.0|    Manual|  1.6|  Hatchback|     95000|   pesos|\n",
      "|8700000|   Citroën|      Jumpy|2022| null|   Diésel| 3.0|    Manual|  1.6|     Furgón|      1000|   pesos|\n",
      "|2990000|Volkswagen|Suran Cross|2014| null|    Nafta| 5.0|    Manual|  1.6|Monovolumen|    120000|   pesos|\n",
      "|1698000|      Ford|         Ka|2011| null|    Nafta| 3.0|    Manual|  1.6|  Hatchback|     97000|   pesos|\n",
      "|1950000|   Peugeot|        504|1996| null|   Diésel| 4.0|    Manual|  2.3|      Sedán|     99000|   pesos|\n",
      "+-------+----------+-----------+----+-----+---------+----+----------+-----+-----------+----------+--------+\n",
      "\n"
     ]
    }
   ],
   "source": [
    "df_pyspark_arg.filter(df_pyspark_arg.color.isNull()).show()"
   ]
  },
  {
   "cell_type": "code",
   "execution_count": 16,
   "id": "0c267952",
   "metadata": {},
   "outputs": [
    {
     "name": "stdout",
     "output_type": "stream",
     "text": [
      "+-----+------+-----+----+-----+---------+----+----+------------+---------+----------+--------+\n",
      "|money| brand|model|year|color|fuel_type|door|gear|       motor|body_type|kilometres|currency|\n",
      "+-----+------+-----+----+-----+---------+----+----+------------+---------+----------+--------+\n",
      "|60000|Toyota|Hilux|2022|Negro|   Diésel| 4.0|null|2.8tdi 223cv|  Pick-Up|      4000| dólares|\n",
      "+-----+------+-----+----+-----+---------+----+----+------------+---------+----------+--------+\n",
      "\n"
     ]
    }
   ],
   "source": [
    "df_pyspark_arg.filter(df_pyspark_arg.gear.isNull()).show()"
   ]
  },
  {
   "cell_type": "code",
   "execution_count": 17,
   "id": "c0f9cc9a",
   "metadata": {},
   "outputs": [
    {
     "name": "stdout",
     "output_type": "stream",
     "text": [
      "+--------+---------+-------------+----+-----------+---------+----+----------+-----+---------+----------+--------+\n",
      "|   money|    brand|        model|year|      color|fuel_type|door|      gear|motor|body_type|kilometres|currency|\n",
      "+--------+---------+-------------+----+-----------+---------+----+----------+-----+---------+----------+--------+\n",
      "|10350000|   Toyota|Corolla Cross|2022|   Plateado|    Nafta| 5.0|Automática| null|      SUV|       500|   pesos|\n",
      "|   19000|  Citroën|    C4 Cactus|2022|Gris oscuro|    Nafta| 5.0|Automática| null|      SUV|       550| dólares|\n",
      "| 3500000|  Renault|      Sandero|2022|   Plateado|    Nafta| 5.0|    Manual| null|    Sedán|    111111|   pesos|\n",
      "|   41900|      BMW|      Serie 1|2020|      Negro|    Nafta| 5.0|Automática| null|Hatchback|     34800| dólares|\n",
      "|   38500|Chevrolet|  Trailblazer|2019|       Gris|   Diésel| 5.0|Automática| null|      SUV|     73000| dólares|\n",
      "| 2800000|     Fiat|        Bravo|2013|      Negro|    Nafta| 5.0|    Manual| null|Hatchback|    124000|   pesos|\n",
      "|10200000|   Toyota|        Hilux|2022|      Negro|   Diésel| 4.0|    Manual| null|  Pick-Up|     21000|   pesos|\n",
      "| 3150000|     Ford|       Fiesta|2016|       Rojo|    Nafta| 5.0|    Manual| null|Hatchback|     68000|   pesos|\n",
      "|   23500|  Hyundai|      Genesis|2012|       Gris|    Nafta| 2.0|    Manual| null|    Coupé|    104270| dólares|\n",
      "|   79900|  Porsche|     Panamera|2010|     Blanco|    Nafta| 4.0|Automática| null|    Sedán|     59141| dólares|\n",
      "| 1760000|     Fiat|          Uno|2010|       Rojo|    Nafta| 5.0|    Manual| null|     null|    128000|   pesos|\n",
      "+--------+---------+-------------+----+-----------+---------+----+----------+-----+---------+----------+--------+\n",
      "\n"
     ]
    }
   ],
   "source": [
    "df_pyspark_arg.filter(df_pyspark_arg.motor.isNull()).show()"
   ]
  },
  {
   "cell_type": "code",
   "execution_count": 18,
   "id": "9141a792",
   "metadata": {},
   "outputs": [
    {
     "name": "stdout",
     "output_type": "stream",
     "text": [
      "+-------+-----+-----+----+-----+---------+----+------+-----+---------+----------+--------+\n",
      "|  money|brand|model|year|color|fuel_type|door|  gear|motor|body_type|kilometres|currency|\n",
      "+-------+-----+-----+----+-----+---------+----+------+-----+---------+----------+--------+\n",
      "|1760000| Fiat|  Uno|2010| Rojo|    Nafta| 5.0|Manual| null|     null|    128000|   pesos|\n",
      "+-------+-----+-----+----+-----+---------+----+------+-----+---------+----------+--------+\n",
      "\n"
     ]
    }
   ],
   "source": [
    "df_pyspark_arg.filter(df_pyspark_arg.body_type.isNull()).show()"
   ]
  },
  {
   "cell_type": "markdown",
   "id": "a4afc1f7",
   "metadata": {},
   "source": [
    "#### Replacing  null values in columns:"
   ]
  },
  {
   "cell_type": "code",
   "execution_count": 19,
   "id": "bdbf749f",
   "metadata": {},
   "outputs": [],
   "source": [
    "df_pyspark_arg = df_pyspark_arg.na.fill(value='Not available', subset=['color','gear','motor','body_type'])"
   ]
  },
  {
   "cell_type": "markdown",
   "id": "afeb7cb4",
   "metadata": {},
   "source": [
    "#### Verifying if there are still null values"
   ]
  },
  {
   "cell_type": "code",
   "execution_count": 20,
   "id": "094ed7ca",
   "metadata": {},
   "outputs": [
    {
     "data": {
      "text/plain": [
       "{'money': 0,\n",
       " 'brand': 0,\n",
       " 'model': 0,\n",
       " 'year': 0,\n",
       " 'color': 0,\n",
       " 'fuel_type': 0,\n",
       " 'door': 0,\n",
       " 'gear': 0,\n",
       " 'motor': 0,\n",
       " 'body_type': 0,\n",
       " 'kilometres': 0,\n",
       " 'currency': 0}"
      ]
     },
     "execution_count": 20,
     "metadata": {},
     "output_type": "execute_result"
    }
   ],
   "source": [
    "Dict_Null = {col:df_pyspark_arg.filter(df_pyspark_arg[col].isNull()).count() for col in df_pyspark_arg.columns}\n",
    "Dict_Null"
   ]
  },
  {
   "cell_type": "markdown",
   "id": "54757b14",
   "metadata": {},
   "source": [
    "### Dealing with duplicate values"
   ]
  },
  {
   "cell_type": "code",
   "execution_count": 21,
   "id": "3cf073ff",
   "metadata": {},
   "outputs": [
    {
     "name": "stdout",
     "output_type": "stream",
     "text": [
      "Count  of rows in dataframe: 510\n"
     ]
    }
   ],
   "source": [
    "print(\"Count  of rows in dataframe: \" + str(df_pyspark_arg.count()))"
   ]
  },
  {
   "cell_type": "code",
   "execution_count": 22,
   "id": "30182dff",
   "metadata": {},
   "outputs": [
    {
     "name": "stdout",
     "output_type": "stream",
     "text": [
      "Distinct Count of rows in dataframe: 510\n"
     ]
    }
   ],
   "source": [
    "print(\"Distinct Count of rows in dataframe: \" + str(df_pyspark_arg.distinct().count()))"
   ]
  },
  {
   "cell_type": "markdown",
   "id": "786f2eb6",
   "metadata": {},
   "source": [
    "### Chaning the name of objects to english language"
   ]
  },
  {
   "cell_type": "code",
   "execution_count": 23,
   "id": "564a8ef5",
   "metadata": {},
   "outputs": [
    {
     "name": "stdout",
     "output_type": "stream",
     "text": [
      "+--------+-------------+-------------+----+-----------+---------+----+----------+-------------+---------+----------+--------+\n",
      "|   money|        brand|        model|year|      color|fuel_type|door|      gear|        motor|body_type|kilometres|currency|\n",
      "+--------+-------------+-------------+----+-----------+---------+----+----------+-------------+---------+----------+--------+\n",
      "|10350000|       Toyota|Corolla Cross|2022|   Plateado|    Nafta| 5.0|Automática|Not available|      SUV|       500|   pesos|\n",
      "|10850000|         Jeep|      Compass|2022|     Blanco|    Nafta| 5.0|Automática|          2.4|      SUV|       500|   pesos|\n",
      "|   35500|         Jeep|      Compass|2022|Gris oscuro|    Nafta| 5.0|Automática|          2.4|      SUV|       500| dólares|\n",
      "|   19000|      Citroën|    C4 Cactus|2022|Gris oscuro|    Nafta| 5.0|Automática|Not available|      SUV|       550| dólares|\n",
      "| 5800000|       Toyota|      Corolla|2019|       Gris|    Nafta| 4.0|    Manual|          1.8|    Sedán|      9000|   pesos|\n",
      "|   34500|         Jeep|      Compass|2022|      Negro|    Nafta| 5.0|Automática|          1.3|      SUV|     10500| dólares|\n",
      "|   25000|          Kia|      Sorento|2014|      Negro|   Diésel| 5.0|Automática|          2.2|      SUV|    156000| dólares|\n",
      "|   12300|Mercedes-Benz|      Clase C|2008|   Plateado|    Nafta| 4.0|Automática|          1.8|    Sedán|    174000| dólares|\n",
      "|   35500|          BMW|          220|2016|     Blanco|    Nafta| 2.0|Automática|        TURBO|    Coupé|     66000| dólares|\n",
      "| 6800000|   Volkswagen|      T-Cross|2019|    Naranja|    Nafta| 5.0|Automática|1.6 MSI Nafta|      SUV|     35000|   pesos|\n",
      "|   38500|Mercedes-Benz|      Clase A|2017|   Plateado|    Nafta| 5.0|Automática|            3|Hatchback|     55394| dólares|\n",
      "|   20500|Mercedes-Benz|      Clase A|2013|     Blanco|    Nafta| 5.0|    Manual|          1.6|Hatchback|    162080| dólares|\n",
      "| 3500000|      Renault|      Sandero|2022|   Plateado|    Nafta| 5.0|    Manual|Not available|    Sedán|    111111|   pesos|\n",
      "| 5990000|   Volkswagen|         Polo|2022|     Blanco|    Nafta| 5.0|    Manual|          1.6|Hatchback|    111111|   pesos|\n",
      "|   41900|          BMW|      Serie 1|2020|      Negro|    Nafta| 5.0|Automática|Not available|Hatchback|     34800| dólares|\n",
      "| 2100000|         Ford|     Ecosport|2011|      Beige|    Nafta| 4.0|    Manual|          1.6|      SUV|    101000|   pesos|\n",
      "|   38500|    Chevrolet|  Trailblazer|2019|       Gris|   Diésel| 5.0|Automática|Not available|      SUV|     73000| dólares|\n",
      "| 2940000|       Toyota|        Etios|2015|     Blanco|    Nafta| 5.0|    Manual|          1.5|Hatchback|     83000|   pesos|\n",
      "| 2050000|      Renault|         Clio|2014|       Gris|    Nafta| 5.0|    Manual|          1.2|Hatchback|     99000|   pesos|\n",
      "| 4120000|       Toyota|         RAV4|2011|       Gris|    Nafta| 5.0|Automática|          2.4|      SUV|    180000|   pesos|\n",
      "+--------+-------------+-------------+----+-----------+---------+----+----------+-------------+---------+----------+--------+\n",
      "only showing top 20 rows\n",
      "\n"
     ]
    }
   ],
   "source": [
    "df_pyspark_arg.show()"
   ]
  },
  {
   "cell_type": "markdown",
   "id": "44f5629e",
   "metadata": {},
   "source": [
    "#### Select unique values from column:"
   ]
  },
  {
   "cell_type": "code",
   "execution_count": 24,
   "id": "434b7c02",
   "metadata": {},
   "outputs": [
    {
     "name": "stdout",
     "output_type": "stream",
     "text": [
      "+-------------+\n",
      "|color        |\n",
      "+-------------+\n",
      "|Naranja      |\n",
      "|Not available|\n",
      "|Violeta      |\n",
      "|Celeste      |\n",
      "|Beige        |\n",
      "|Blanco       |\n",
      "|Negro        |\n",
      "|Azul         |\n",
      "|Plateado     |\n",
      "|Gris         |\n",
      "|Rojo         |\n",
      "|Gris oscuro  |\n",
      "|Marrón       |\n",
      "|Verde        |\n",
      "|Dorado       |\n",
      "+-------------+\n",
      "\n",
      "[Row(color='Naranja'), Row(color='Not available'), Row(color='Violeta'), Row(color='Celeste'), Row(color='Beige'), Row(color='Blanco'), Row(color='Negro'), Row(color='Azul'), Row(color='Plateado'), Row(color='Gris'), Row(color='Rojo'), Row(color='Gris oscuro'), Row(color='Marrón'), Row(color='Verde'), Row(color='Dorado')]\n"
     ]
    }
   ],
   "source": [
    "SelectUniqueValues = df_pyspark_arg.dropDuplicates([\"color\"]).select(\"color\")\n",
    "SelectUniqueValues.show(truncate=False)\n",
    "\n",
    "print(SelectUniqueValues.dropDuplicates([\"color\"]).select(\"color\").collect())"
   ]
  },
  {
   "cell_type": "code",
   "execution_count": 25,
   "id": "9262f278",
   "metadata": {},
   "outputs": [
    {
     "name": "stdout",
     "output_type": "stream",
     "text": [
      "+--------+-------------+-------------+----+---------+---------+----+----------+-------------+---------+----------+--------+\n",
      "|   money|        brand|        model|year|    Color|fuel_type|door|      gear|        motor|body_type|kilometres|currency|\n",
      "+--------+-------------+-------------+----+---------+---------+----+----------+-------------+---------+----------+--------+\n",
      "|10350000|       Toyota|Corolla Cross|2022|   Silver|    Nafta| 5.0|Automática|Not available|      SUV|       500|   pesos|\n",
      "|10850000|         Jeep|      Compass|2022|    White|    Nafta| 5.0|Automática|          2.4|      SUV|       500|   pesos|\n",
      "|   35500|         Jeep|      Compass|2022|Dark gray|    Nafta| 5.0|Automática|          2.4|      SUV|       500| dólares|\n",
      "|   19000|      Citroën|    C4 Cactus|2022|Dark gray|    Nafta| 5.0|Automática|Not available|      SUV|       550| dólares|\n",
      "| 5800000|       Toyota|      Corolla|2019|     Gray|    Nafta| 4.0|    Manual|          1.8|    Sedán|      9000|   pesos|\n",
      "|   34500|         Jeep|      Compass|2022|    Black|    Nafta| 5.0|Automática|          1.3|      SUV|     10500| dólares|\n",
      "|   25000|          Kia|      Sorento|2014|    Black|   Diésel| 5.0|Automática|          2.2|      SUV|    156000| dólares|\n",
      "|   12300|Mercedes-Benz|      Clase C|2008|   Silver|    Nafta| 4.0|Automática|          1.8|    Sedán|    174000| dólares|\n",
      "|   35500|          BMW|          220|2016|    White|    Nafta| 2.0|Automática|        TURBO|    Coupé|     66000| dólares|\n",
      "| 6800000|   Volkswagen|      T-Cross|2019|   Orange|    Nafta| 5.0|Automática|1.6 MSI Nafta|      SUV|     35000|   pesos|\n",
      "|   38500|Mercedes-Benz|      Clase A|2017|   Silver|    Nafta| 5.0|Automática|            3|Hatchback|     55394| dólares|\n",
      "|   20500|Mercedes-Benz|      Clase A|2013|    White|    Nafta| 5.0|    Manual|          1.6|Hatchback|    162080| dólares|\n",
      "| 3500000|      Renault|      Sandero|2022|   Silver|    Nafta| 5.0|    Manual|Not available|    Sedán|    111111|   pesos|\n",
      "| 5990000|   Volkswagen|         Polo|2022|    White|    Nafta| 5.0|    Manual|          1.6|Hatchback|    111111|   pesos|\n",
      "|   41900|          BMW|      Serie 1|2020|    Black|    Nafta| 5.0|Automática|Not available|Hatchback|     34800| dólares|\n",
      "| 2100000|         Ford|     Ecosport|2011|    Beige|    Nafta| 4.0|    Manual|          1.6|      SUV|    101000|   pesos|\n",
      "|   38500|    Chevrolet|  Trailblazer|2019|     Gray|   Diésel| 5.0|Automática|Not available|      SUV|     73000| dólares|\n",
      "| 2940000|       Toyota|        Etios|2015|    White|    Nafta| 5.0|    Manual|          1.5|Hatchback|     83000|   pesos|\n",
      "| 2050000|      Renault|         Clio|2014|     Gray|    Nafta| 5.0|    Manual|          1.2|Hatchback|     99000|   pesos|\n",
      "| 4120000|       Toyota|         RAV4|2011|     Gray|    Nafta| 5.0|Automática|          2.4|      SUV|    180000|   pesos|\n",
      "+--------+-------------+-------------+----+---------+---------+----+----------+-------------+---------+----------+--------+\n",
      "only showing top 20 rows\n",
      "\n"
     ]
    }
   ],
   "source": [
    "df_pyspark_arg = df_pyspark_arg.withColumn(\"Color\",\n",
    "              when(df_pyspark_arg.color == 'Naranja', 'Orange')\\\n",
    "              .when(df_pyspark_arg.color == 'Violeta', 'Violet')\\\n",
    "              .when(df_pyspark_arg.color == 'Celeste', 'Celestial')\\\n",
    "              .when(df_pyspark_arg.color == 'Beige', 'Beige')\\\n",
    "              .when(df_pyspark_arg.color == 'Blanco', 'White')\\\n",
    "              .when(df_pyspark_arg.color == 'Negro', 'Black')\\\n",
    "              .when(df_pyspark_arg.color == 'Azul', 'Blue')\\\n",
    "              .when(df_pyspark_arg.color == 'Plateado', 'Silver')\\\n",
    "              .when(df_pyspark_arg.color == 'Gris', 'Gray')\\\n",
    "              .when(df_pyspark_arg.color == 'Rojo', 'Red')\\\n",
    "              .when(df_pyspark_arg.color == 'Gris oscuro', 'Dark gray')\\\n",
    "              .when(df_pyspark_arg.color == 'Marrón', 'Brown')\\\n",
    "              .when(df_pyspark_arg.color == 'Verde', 'Green')\\\n",
    "              .when(df_pyspark_arg.color == 'Dorado', 'Golden')\\\n",
    "              .otherwise('Not available'))\n",
    "\n",
    "df_pyspark_arg.show()"
   ]
  },
  {
   "cell_type": "code",
   "execution_count": 26,
   "id": "3b2bb88d",
   "metadata": {},
   "outputs": [
    {
     "name": "stdout",
     "output_type": "stream",
     "text": [
      "+-------------+\n",
      "|fuel_type    |\n",
      "+-------------+\n",
      "|Nafta        |\n",
      "|Nafta/GNC    |\n",
      "|Diésel       |\n",
      "|Híbrido/Nafta|\n",
      "+-------------+\n",
      "\n",
      "[Row(fuel_type='Nafta'), Row(fuel_type='Nafta/GNC'), Row(fuel_type='Diésel'), Row(fuel_type='Híbrido/Nafta')]\n"
     ]
    }
   ],
   "source": [
    "SelectUniqueValues = df_pyspark_arg.dropDuplicates([\"fuel_type\"]).select(\"fuel_type\")\n",
    "SelectUniqueValues.show(truncate=False)\n",
    "\n",
    "print(SelectUniqueValues.dropDuplicates([\"fuel_type\"]).select(\"fuel_type\").collect())"
   ]
  },
  {
   "cell_type": "code",
   "execution_count": 27,
   "id": "675cd85b",
   "metadata": {},
   "outputs": [
    {
     "name": "stdout",
     "output_type": "stream",
     "text": [
      "+--------+-------------+-------------+----+---------+---------+----+----------+-------------+---------+----------+--------+\n",
      "|   money|        brand|        model|year|    Color|Fuel_type|door|      gear|        motor|body_type|kilometres|currency|\n",
      "+--------+-------------+-------------+----+---------+---------+----+----------+-------------+---------+----------+--------+\n",
      "|10350000|       Toyota|Corolla Cross|2022|   Silver|  Naphtha| 5.0|Automática|Not available|      SUV|       500|   pesos|\n",
      "|10850000|         Jeep|      Compass|2022|    White|  Naphtha| 5.0|Automática|          2.4|      SUV|       500|   pesos|\n",
      "|   35500|         Jeep|      Compass|2022|Dark gray|  Naphtha| 5.0|Automática|          2.4|      SUV|       500| dólares|\n",
      "|   19000|      Citroën|    C4 Cactus|2022|Dark gray|  Naphtha| 5.0|Automática|Not available|      SUV|       550| dólares|\n",
      "| 5800000|       Toyota|      Corolla|2019|     Gray|  Naphtha| 4.0|    Manual|          1.8|    Sedán|      9000|   pesos|\n",
      "|   34500|         Jeep|      Compass|2022|    Black|  Naphtha| 5.0|Automática|          1.3|      SUV|     10500| dólares|\n",
      "|   25000|          Kia|      Sorento|2014|    Black|   Diesel| 5.0|Automática|          2.2|      SUV|    156000| dólares|\n",
      "|   12300|Mercedes-Benz|      Clase C|2008|   Silver|  Naphtha| 4.0|Automática|          1.8|    Sedán|    174000| dólares|\n",
      "|   35500|          BMW|          220|2016|    White|  Naphtha| 2.0|Automática|        TURBO|    Coupé|     66000| dólares|\n",
      "| 6800000|   Volkswagen|      T-Cross|2019|   Orange|  Naphtha| 5.0|Automática|1.6 MSI Nafta|      SUV|     35000|   pesos|\n",
      "|   38500|Mercedes-Benz|      Clase A|2017|   Silver|  Naphtha| 5.0|Automática|            3|Hatchback|     55394| dólares|\n",
      "|   20500|Mercedes-Benz|      Clase A|2013|    White|  Naphtha| 5.0|    Manual|          1.6|Hatchback|    162080| dólares|\n",
      "| 3500000|      Renault|      Sandero|2022|   Silver|  Naphtha| 5.0|    Manual|Not available|    Sedán|    111111|   pesos|\n",
      "| 5990000|   Volkswagen|         Polo|2022|    White|  Naphtha| 5.0|    Manual|          1.6|Hatchback|    111111|   pesos|\n",
      "|   41900|          BMW|      Serie 1|2020|    Black|  Naphtha| 5.0|Automática|Not available|Hatchback|     34800| dólares|\n",
      "| 2100000|         Ford|     Ecosport|2011|    Beige|  Naphtha| 4.0|    Manual|          1.6|      SUV|    101000|   pesos|\n",
      "|   38500|    Chevrolet|  Trailblazer|2019|     Gray|   Diesel| 5.0|Automática|Not available|      SUV|     73000| dólares|\n",
      "| 2940000|       Toyota|        Etios|2015|    White|  Naphtha| 5.0|    Manual|          1.5|Hatchback|     83000|   pesos|\n",
      "| 2050000|      Renault|         Clio|2014|     Gray|  Naphtha| 5.0|    Manual|          1.2|Hatchback|     99000|   pesos|\n",
      "| 4120000|       Toyota|         RAV4|2011|     Gray|  Naphtha| 5.0|Automática|          2.4|      SUV|    180000|   pesos|\n",
      "+--------+-------------+-------------+----+---------+---------+----+----------+-------------+---------+----------+--------+\n",
      "only showing top 20 rows\n",
      "\n"
     ]
    }
   ],
   "source": [
    "df_pyspark_arg = df_pyspark_arg.withColumn(\"Fuel_type\",\n",
    "              when(df_pyspark_arg.fuel_type  == 'Nafta', 'Naphtha')\\\n",
    "              .when(df_pyspark_arg.fuel_type  == 'Nafta/GNC', 'Naphtha/CNG')\\\n",
    "              .when(df_pyspark_arg.fuel_type  == 'Diésel', 'Diesel')\\\n",
    "              .when(df_pyspark_arg.fuel_type  == 'Híbrido/Nafta', 'Hybrid/Naphtha')\\\n",
    "              .otherwise('Not available'))\n",
    "\n",
    "df_pyspark_arg.show()"
   ]
  },
  {
   "cell_type": "code",
   "execution_count": 28,
   "id": "37c5e8fd",
   "metadata": {},
   "outputs": [
    {
     "name": "stdout",
     "output_type": "stream",
     "text": [
      "+-------------+\n",
      "|gear         |\n",
      "+-------------+\n",
      "|Not available|\n",
      "|Manual       |\n",
      "|Automática   |\n",
      "+-------------+\n",
      "\n",
      "[Row(gear='Not available'), Row(gear='Manual'), Row(gear='Automática')]\n"
     ]
    }
   ],
   "source": [
    "SelectUniqueValues = df_pyspark_arg.dropDuplicates([\"gear\"]).select(\"gear\")\n",
    "SelectUniqueValues.show(truncate=False)\n",
    "\n",
    "print(SelectUniqueValues.dropDuplicates([\"gear\"]).select(\"gear\").collect())"
   ]
  },
  {
   "cell_type": "code",
   "execution_count": 29,
   "id": "369508ae",
   "metadata": {},
   "outputs": [
    {
     "name": "stdout",
     "output_type": "stream",
     "text": [
      "+--------+-------------+-------------+----+---------+---------+----+---------+-------------+---------+----------+--------+\n",
      "|   money|        brand|        model|year|    Color|Fuel_type|door|     gear|        motor|body_type|kilometres|currency|\n",
      "+--------+-------------+-------------+----+---------+---------+----+---------+-------------+---------+----------+--------+\n",
      "|10350000|       Toyota|Corolla Cross|2022|   Silver|  Naphtha| 5.0|Automatic|Not available|      SUV|       500|   pesos|\n",
      "|10850000|         Jeep|      Compass|2022|    White|  Naphtha| 5.0|Automatic|          2.4|      SUV|       500|   pesos|\n",
      "|   35500|         Jeep|      Compass|2022|Dark gray|  Naphtha| 5.0|Automatic|          2.4|      SUV|       500| dólares|\n",
      "|   19000|      Citroën|    C4 Cactus|2022|Dark gray|  Naphtha| 5.0|Automatic|Not available|      SUV|       550| dólares|\n",
      "| 5800000|       Toyota|      Corolla|2019|     Gray|  Naphtha| 4.0|   Manual|          1.8|    Sedán|      9000|   pesos|\n",
      "|   34500|         Jeep|      Compass|2022|    Black|  Naphtha| 5.0|Automatic|          1.3|      SUV|     10500| dólares|\n",
      "|   25000|          Kia|      Sorento|2014|    Black|   Diesel| 5.0|Automatic|          2.2|      SUV|    156000| dólares|\n",
      "|   12300|Mercedes-Benz|      Clase C|2008|   Silver|  Naphtha| 4.0|Automatic|          1.8|    Sedán|    174000| dólares|\n",
      "|   35500|          BMW|          220|2016|    White|  Naphtha| 2.0|Automatic|        TURBO|    Coupé|     66000| dólares|\n",
      "| 6800000|   Volkswagen|      T-Cross|2019|   Orange|  Naphtha| 5.0|Automatic|1.6 MSI Nafta|      SUV|     35000|   pesos|\n",
      "|   38500|Mercedes-Benz|      Clase A|2017|   Silver|  Naphtha| 5.0|Automatic|            3|Hatchback|     55394| dólares|\n",
      "|   20500|Mercedes-Benz|      Clase A|2013|    White|  Naphtha| 5.0|   Manual|          1.6|Hatchback|    162080| dólares|\n",
      "| 3500000|      Renault|      Sandero|2022|   Silver|  Naphtha| 5.0|   Manual|Not available|    Sedán|    111111|   pesos|\n",
      "| 5990000|   Volkswagen|         Polo|2022|    White|  Naphtha| 5.0|   Manual|          1.6|Hatchback|    111111|   pesos|\n",
      "|   41900|          BMW|      Serie 1|2020|    Black|  Naphtha| 5.0|Automatic|Not available|Hatchback|     34800| dólares|\n",
      "| 2100000|         Ford|     Ecosport|2011|    Beige|  Naphtha| 4.0|   Manual|          1.6|      SUV|    101000|   pesos|\n",
      "|   38500|    Chevrolet|  Trailblazer|2019|     Gray|   Diesel| 5.0|Automatic|Not available|      SUV|     73000| dólares|\n",
      "| 2940000|       Toyota|        Etios|2015|    White|  Naphtha| 5.0|   Manual|          1.5|Hatchback|     83000|   pesos|\n",
      "| 2050000|      Renault|         Clio|2014|     Gray|  Naphtha| 5.0|   Manual|          1.2|Hatchback|     99000|   pesos|\n",
      "| 4120000|       Toyota|         RAV4|2011|     Gray|  Naphtha| 5.0|Automatic|          2.4|      SUV|    180000|   pesos|\n",
      "+--------+-------------+-------------+----+---------+---------+----+---------+-------------+---------+----------+--------+\n",
      "only showing top 20 rows\n",
      "\n"
     ]
    }
   ],
   "source": [
    "df_pyspark_arg = df_pyspark_arg.withColumn(\"gear\",\n",
    "              when(df_pyspark_arg.gear  == 'Manual', 'Manual')\\\n",
    "              .when(df_pyspark_arg.gear  == 'Automática', 'Automatic')\\\n",
    "              .otherwise('Not available'))\n",
    "\n",
    "df_pyspark_arg.show()"
   ]
  },
  {
   "cell_type": "code",
   "execution_count": 30,
   "id": "c9016895",
   "metadata": {},
   "outputs": [
    {
     "name": "stdout",
     "output_type": "stream",
     "text": [
      "+--------+\n",
      "|currency|\n",
      "+--------+\n",
      "|dólares |\n",
      "|pesos   |\n",
      "+--------+\n",
      "\n",
      "[Row(currency='dólares'), Row(currency='pesos')]\n"
     ]
    }
   ],
   "source": [
    "SelectUniqueValues = df_pyspark_arg.dropDuplicates([\"currency\"]).select(\"currency\")\n",
    "SelectUniqueValues.show(truncate=False)\n",
    "\n",
    "print(SelectUniqueValues.dropDuplicates([\"currency\"]).select(\"currency\").collect())\n"
   ]
  },
  {
   "cell_type": "code",
   "execution_count": 31,
   "id": "122873d8",
   "metadata": {},
   "outputs": [
    {
     "name": "stdout",
     "output_type": "stream",
     "text": [
      "+--------+-------------+-------------+----+---------+---------+----+---------+-------------+---------+----------+--------+\n",
      "|   money|        brand|        model|year|    Color|Fuel_type|door|     gear|        motor|body_type|kilometres|currency|\n",
      "+--------+-------------+-------------+----+---------+---------+----+---------+-------------+---------+----------+--------+\n",
      "|10350000|       Toyota|Corolla Cross|2022|   Silver|  Naphtha| 5.0|Automatic|Not available|      SUV|       500|   Pesos|\n",
      "|10850000|         Jeep|      Compass|2022|    White|  Naphtha| 5.0|Automatic|          2.4|      SUV|       500|   Pesos|\n",
      "|   35500|         Jeep|      Compass|2022|Dark gray|  Naphtha| 5.0|Automatic|          2.4|      SUV|       500| Dollars|\n",
      "|   19000|      Citroën|    C4 Cactus|2022|Dark gray|  Naphtha| 5.0|Automatic|Not available|      SUV|       550| Dollars|\n",
      "| 5800000|       Toyota|      Corolla|2019|     Gray|  Naphtha| 4.0|   Manual|          1.8|    Sedán|      9000|   Pesos|\n",
      "|   34500|         Jeep|      Compass|2022|    Black|  Naphtha| 5.0|Automatic|          1.3|      SUV|     10500| Dollars|\n",
      "|   25000|          Kia|      Sorento|2014|    Black|   Diesel| 5.0|Automatic|          2.2|      SUV|    156000| Dollars|\n",
      "|   12300|Mercedes-Benz|      Clase C|2008|   Silver|  Naphtha| 4.0|Automatic|          1.8|    Sedán|    174000| Dollars|\n",
      "|   35500|          BMW|          220|2016|    White|  Naphtha| 2.0|Automatic|        TURBO|    Coupé|     66000| Dollars|\n",
      "| 6800000|   Volkswagen|      T-Cross|2019|   Orange|  Naphtha| 5.0|Automatic|1.6 MSI Nafta|      SUV|     35000|   Pesos|\n",
      "|   38500|Mercedes-Benz|      Clase A|2017|   Silver|  Naphtha| 5.0|Automatic|            3|Hatchback|     55394| Dollars|\n",
      "|   20500|Mercedes-Benz|      Clase A|2013|    White|  Naphtha| 5.0|   Manual|          1.6|Hatchback|    162080| Dollars|\n",
      "| 3500000|      Renault|      Sandero|2022|   Silver|  Naphtha| 5.0|   Manual|Not available|    Sedán|    111111|   Pesos|\n",
      "| 5990000|   Volkswagen|         Polo|2022|    White|  Naphtha| 5.0|   Manual|          1.6|Hatchback|    111111|   Pesos|\n",
      "|   41900|          BMW|      Serie 1|2020|    Black|  Naphtha| 5.0|Automatic|Not available|Hatchback|     34800| Dollars|\n",
      "| 2100000|         Ford|     Ecosport|2011|    Beige|  Naphtha| 4.0|   Manual|          1.6|      SUV|    101000|   Pesos|\n",
      "|   38500|    Chevrolet|  Trailblazer|2019|     Gray|   Diesel| 5.0|Automatic|Not available|      SUV|     73000| Dollars|\n",
      "| 2940000|       Toyota|        Etios|2015|    White|  Naphtha| 5.0|   Manual|          1.5|Hatchback|     83000|   Pesos|\n",
      "| 2050000|      Renault|         Clio|2014|     Gray|  Naphtha| 5.0|   Manual|          1.2|Hatchback|     99000|   Pesos|\n",
      "| 4120000|       Toyota|         RAV4|2011|     Gray|  Naphtha| 5.0|Automatic|          2.4|      SUV|    180000|   Pesos|\n",
      "+--------+-------------+-------------+----+---------+---------+----+---------+-------------+---------+----------+--------+\n",
      "only showing top 20 rows\n",
      "\n"
     ]
    }
   ],
   "source": [
    "df_pyspark_arg = df_pyspark_arg.withColumn(\"currency\",\n",
    "              when(df_pyspark_arg.currency  == 'dólares', 'Dollars')\\\n",
    "              .when(df_pyspark_arg.currency  == 'pesos', 'Pesos')\\\n",
    "              .otherwise('Not available'))\n",
    "\n",
    "df_pyspark_arg.show()"
   ]
  },
  {
   "cell_type": "code",
   "execution_count": 32,
   "id": "4d247b6b",
   "metadata": {},
   "outputs": [
    {
     "name": "stdout",
     "output_type": "stream",
     "text": [
      "+--------+-------------+-------------+----+---------+---------+----+---------+-------------+---------+----------+--------+\n",
      "|   money|        brand|        model|year|    Color|Fuel_type|door|     gear|        motor|body_type|kilometres|currency|\n",
      "+--------+-------------+-------------+----+---------+---------+----+---------+-------------+---------+----------+--------+\n",
      "|10350000|       Toyota|Corolla Cross|2022|   Silver|  Naphtha| 5.0|Automatic|Not available|      SUV|       500|   Pesos|\n",
      "|10850000|         Jeep|      Compass|2022|    White|  Naphtha| 5.0|Automatic|          2.4|      SUV|       500|   Pesos|\n",
      "|   35500|         Jeep|      Compass|2022|Dark gray|  Naphtha| 5.0|Automatic|          2.4|      SUV|       500| Dollars|\n",
      "|   19000|      Citroën|    C4 Cactus|2022|Dark gray|  Naphtha| 5.0|Automatic|Not available|      SUV|       550| Dollars|\n",
      "| 5800000|       Toyota|      Corolla|2019|     Gray|  Naphtha| 4.0|   Manual|          1.8|    Sedán|      9000|   Pesos|\n",
      "|   34500|         Jeep|      Compass|2022|    Black|  Naphtha| 5.0|Automatic|          1.3|      SUV|     10500| Dollars|\n",
      "|   25000|          Kia|      Sorento|2014|    Black|   Diesel| 5.0|Automatic|          2.2|      SUV|    156000| Dollars|\n",
      "|   12300|Mercedes-Benz|      Clase C|2008|   Silver|  Naphtha| 4.0|Automatic|          1.8|    Sedán|    174000| Dollars|\n",
      "|   35500|          BMW|          220|2016|    White|  Naphtha| 2.0|Automatic|        TURBO|    Coupé|     66000| Dollars|\n",
      "| 6800000|   Volkswagen|      T-Cross|2019|   Orange|  Naphtha| 5.0|Automatic|1.6 MSI Nafta|      SUV|     35000|   Pesos|\n",
      "|   38500|Mercedes-Benz|      Clase A|2017|   Silver|  Naphtha| 5.0|Automatic|            3|Hatchback|     55394| Dollars|\n",
      "|   20500|Mercedes-Benz|      Clase A|2013|    White|  Naphtha| 5.0|   Manual|          1.6|Hatchback|    162080| Dollars|\n",
      "| 3500000|      Renault|      Sandero|2022|   Silver|  Naphtha| 5.0|   Manual|Not available|    Sedán|    111111|   Pesos|\n",
      "| 5990000|   Volkswagen|         Polo|2022|    White|  Naphtha| 5.0|   Manual|          1.6|Hatchback|    111111|   Pesos|\n",
      "|   41900|          BMW|      Serie 1|2020|    Black|  Naphtha| 5.0|Automatic|Not available|Hatchback|     34800| Dollars|\n",
      "| 2100000|         Ford|     Ecosport|2011|    Beige|  Naphtha| 4.0|   Manual|          1.6|      SUV|    101000|   Pesos|\n",
      "|   38500|    Chevrolet|  Trailblazer|2019|     Gray|   Diesel| 5.0|Automatic|Not available|      SUV|     73000| Dollars|\n",
      "| 2940000|       Toyota|        Etios|2015|    White|  Naphtha| 5.0|   Manual|          1.5|Hatchback|     83000|   Pesos|\n",
      "| 2050000|      Renault|         Clio|2014|     Gray|  Naphtha| 5.0|   Manual|          1.2|Hatchback|     99000|   Pesos|\n",
      "| 4120000|       Toyota|         RAV4|2011|     Gray|  Naphtha| 5.0|Automatic|          2.4|      SUV|    180000|   Pesos|\n",
      "+--------+-------------+-------------+----+---------+---------+----+---------+-------------+---------+----------+--------+\n",
      "only showing top 20 rows\n",
      "\n"
     ]
    }
   ],
   "source": [
    "df_pyspark_arg.show()"
   ]
  },
  {
   "cell_type": "markdown",
   "id": "805f0f8f",
   "metadata": {},
   "source": [
    "#### Changing pesos money to USD currency"
   ]
  },
  {
   "cell_type": "code",
   "execution_count": 33,
   "id": "45081778",
   "metadata": {
    "scrolled": true
   },
   "outputs": [],
   "source": [
    "df_pyspark_arg = df_pyspark_arg.withColumn(\"Money USD\",\n",
    "              when(df_pyspark_arg.currency  == 'Pesos',  df_pyspark_arg.money * 0.054 )\\\n",
    "              .otherwise(df_pyspark_arg.money))\n",
    "\n",
    "\n"
   ]
  },
  {
   "cell_type": "code",
   "execution_count": 34,
   "id": "7dfb694f",
   "metadata": {},
   "outputs": [
    {
     "name": "stdout",
     "output_type": "stream",
     "text": [
      "+--------+----------+----------+----+---------+---------+----+---------+----------+---------+----------+--------+---------+\n",
      "|   money|     brand|     model|year|    Color|Fuel_type|door|     gear|     motor|body_type|kilometres|currency|Money USD|\n",
      "+--------+----------+----------+----+---------+---------+----+---------+----------+---------+----------+--------+---------+\n",
      "|10350000|    Toyota|Corolla...|2022|   Silver|  Naphtha| 5.0|Automatic|Not ava...|      SUV|       500|   Pesos| 558900.0|\n",
      "|10850000|      Jeep|   Compass|2022|    White|  Naphtha| 5.0|Automatic|       2.4|      SUV|       500|   Pesos| 585900.0|\n",
      "|   35500|      Jeep|   Compass|2022|Dark gray|  Naphtha| 5.0|Automatic|       2.4|      SUV|       500| Dollars|  35500.0|\n",
      "|   19000|   Citroën| C4 Cactus|2022|Dark gray|  Naphtha| 5.0|Automatic|Not ava...|      SUV|       550| Dollars|  19000.0|\n",
      "| 5800000|    Toyota|   Corolla|2019|     Gray|  Naphtha| 4.0|   Manual|       1.8|    Sedán|      9000|   Pesos| 313200.0|\n",
      "|   34500|      Jeep|   Compass|2022|    Black|  Naphtha| 5.0|Automatic|       1.3|      SUV|     10500| Dollars|  34500.0|\n",
      "|   25000|       Kia|   Sorento|2014|    Black|   Diesel| 5.0|Automatic|       2.2|      SUV|    156000| Dollars|  25000.0|\n",
      "|   12300|Mercede...|   Clase C|2008|   Silver|  Naphtha| 4.0|Automatic|       1.8|    Sedán|    174000| Dollars|  12300.0|\n",
      "|   35500|       BMW|       220|2016|    White|  Naphtha| 2.0|Automatic|     TURBO|    Coupé|     66000| Dollars|  35500.0|\n",
      "| 6800000|Volkswagen|   T-Cross|2019|   Orange|  Naphtha| 5.0|Automatic|1.6 MSI...|      SUV|     35000|   Pesos| 367200.0|\n",
      "|   38500|Mercede...|   Clase A|2017|   Silver|  Naphtha| 5.0|Automatic|         3|Hatchback|     55394| Dollars|  38500.0|\n",
      "|   20500|Mercede...|   Clase A|2013|    White|  Naphtha| 5.0|   Manual|       1.6|Hatchback|    162080| Dollars|  20500.0|\n",
      "| 3500000|   Renault|   Sandero|2022|   Silver|  Naphtha| 5.0|   Manual|Not ava...|    Sedán|    111111|   Pesos| 189000.0|\n",
      "| 5990000|Volkswagen|      Polo|2022|    White|  Naphtha| 5.0|   Manual|       1.6|Hatchback|    111111|   Pesos| 323460.0|\n",
      "|   41900|       BMW|   Serie 1|2020|    Black|  Naphtha| 5.0|Automatic|Not ava...|Hatchback|     34800| Dollars|  41900.0|\n",
      "| 2100000|      Ford|  Ecosport|2011|    Beige|  Naphtha| 4.0|   Manual|       1.6|      SUV|    101000|   Pesos| 113400.0|\n",
      "|   38500| Chevrolet|Trailbl...|2019|     Gray|   Diesel| 5.0|Automatic|Not ava...|      SUV|     73000| Dollars|  38500.0|\n",
      "| 2940000|    Toyota|     Etios|2015|    White|  Naphtha| 5.0|   Manual|       1.5|Hatchback|     83000|   Pesos| 158760.0|\n",
      "| 2050000|   Renault|      Clio|2014|     Gray|  Naphtha| 5.0|   Manual|       1.2|Hatchback|     99000|   Pesos| 110700.0|\n",
      "| 4120000|    Toyota|      RAV4|2011|     Gray|  Naphtha| 5.0|Automatic|       2.4|      SUV|    180000|   Pesos| 222480.0|\n",
      "| 4100000|    Toyota|     Etios|2018|     Gray|  Naphtha| 5.0|   Manual|       1.5|    Sedán|     80000|   Pesos| 221400.0|\n",
      "|   15000|      Mini|    Cooper|2013|      Red|  Naphtha| 5.0|   Manual|       1.6|Hatchback|    105000| Dollars|  15000.0|\n",
      "| 5099000|      Jeep|  Renegade|2018|      Red|  Naphtha| 5.0|   Manual|       1.8|      SUV|     78000|   Pesos| 275346.0|\n",
      "| 8300000|    Toyota|     Hilux|2017|      Red|   Diesel| 4.0|   Manual|       2.8|  Pick-Up|    170000|   Pesos| 448200.0|\n",
      "| 2800000|      Fiat|     Bravo|2013|    Black|  Naphtha| 5.0|   Manual|Not ava...|Hatchback|    124000|   Pesos| 151200.0|\n",
      "+--------+----------+----------+----+---------+---------+----+---------+----------+---------+----------+--------+---------+\n",
      "only showing top 25 rows\n",
      "\n"
     ]
    }
   ],
   "source": [
    "df_pyspark_arg.show(25,10)"
   ]
  },
  {
   "cell_type": "markdown",
   "id": "b78aab57",
   "metadata": {},
   "source": [
    "### Renaming columns in dataframe"
   ]
  },
  {
   "cell_type": "code",
   "execution_count": 35,
   "id": "0e714ca2",
   "metadata": {},
   "outputs": [
    {
     "data": {
      "text/plain": [
       "['money',\n",
       " 'brand',\n",
       " 'model',\n",
       " 'year',\n",
       " 'Color',\n",
       " 'Fuel_type',\n",
       " 'door',\n",
       " 'gear',\n",
       " 'motor',\n",
       " 'body_type',\n",
       " 'kilometres',\n",
       " 'currency',\n",
       " 'Money USD']"
      ]
     },
     "execution_count": 35,
     "metadata": {},
     "output_type": "execute_result"
    }
   ],
   "source": [
    "df_pyspark_arg.columns"
   ]
  },
  {
   "cell_type": "code",
   "execution_count": 36,
   "id": "70d0fe36",
   "metadata": {},
   "outputs": [],
   "source": [
    "df_pyspark_arg =df_pyspark_arg.withColumnRenamed('money', 'Money') \\\n",
    "              .withColumnRenamed('brand', 'Brand') \\\n",
    "              .withColumnRenamed('model','Model') \\\n",
    "              .withColumnRenamed('year', 'Year') \\\n",
    "              .withColumnRenamed('Fuel_type','FuelType') \\\n",
    "              .withColumnRenamed('door','Door') \\\n",
    "              .withColumnRenamed('gear','Gear') \\\n",
    "              .withColumnRenamed('motor','Motor') \\\n",
    "              .withColumnRenamed('body_type','BodyType') \\\n",
    "              .withColumnRenamed('kilometres','Kilometres') \\\n",
    "              .withColumnRenamed('currency','Currency')\n",
    "    \n",
    "            "
   ]
  },
  {
   "cell_type": "code",
   "execution_count": 37,
   "id": "996eae55",
   "metadata": {},
   "outputs": [
    {
     "name": "stdout",
     "output_type": "stream",
     "text": [
      "+--------+----------+----------+----+---------+--------+----+---------+----------+---------+----------+--------+---------+\n",
      "|   Money|     Brand|     Model|Year|    Color|FuelType|Door|     Gear|     Motor| BodyType|Kilometres|Currency|Money USD|\n",
      "+--------+----------+----------+----+---------+--------+----+---------+----------+---------+----------+--------+---------+\n",
      "|10350000|    Toyota|Corolla...|2022|   Silver| Naphtha| 5.0|Automatic|Not ava...|      SUV|       500|   Pesos| 558900.0|\n",
      "|10850000|      Jeep|   Compass|2022|    White| Naphtha| 5.0|Automatic|       2.4|      SUV|       500|   Pesos| 585900.0|\n",
      "|   35500|      Jeep|   Compass|2022|Dark gray| Naphtha| 5.0|Automatic|       2.4|      SUV|       500| Dollars|  35500.0|\n",
      "|   19000|   Citroën| C4 Cactus|2022|Dark gray| Naphtha| 5.0|Automatic|Not ava...|      SUV|       550| Dollars|  19000.0|\n",
      "| 5800000|    Toyota|   Corolla|2019|     Gray| Naphtha| 4.0|   Manual|       1.8|    Sedán|      9000|   Pesos| 313200.0|\n",
      "|   34500|      Jeep|   Compass|2022|    Black| Naphtha| 5.0|Automatic|       1.3|      SUV|     10500| Dollars|  34500.0|\n",
      "|   25000|       Kia|   Sorento|2014|    Black|  Diesel| 5.0|Automatic|       2.2|      SUV|    156000| Dollars|  25000.0|\n",
      "|   12300|Mercede...|   Clase C|2008|   Silver| Naphtha| 4.0|Automatic|       1.8|    Sedán|    174000| Dollars|  12300.0|\n",
      "|   35500|       BMW|       220|2016|    White| Naphtha| 2.0|Automatic|     TURBO|    Coupé|     66000| Dollars|  35500.0|\n",
      "| 6800000|Volkswagen|   T-Cross|2019|   Orange| Naphtha| 5.0|Automatic|1.6 MSI...|      SUV|     35000|   Pesos| 367200.0|\n",
      "|   38500|Mercede...|   Clase A|2017|   Silver| Naphtha| 5.0|Automatic|         3|Hatchback|     55394| Dollars|  38500.0|\n",
      "|   20500|Mercede...|   Clase A|2013|    White| Naphtha| 5.0|   Manual|       1.6|Hatchback|    162080| Dollars|  20500.0|\n",
      "| 3500000|   Renault|   Sandero|2022|   Silver| Naphtha| 5.0|   Manual|Not ava...|    Sedán|    111111|   Pesos| 189000.0|\n",
      "| 5990000|Volkswagen|      Polo|2022|    White| Naphtha| 5.0|   Manual|       1.6|Hatchback|    111111|   Pesos| 323460.0|\n",
      "|   41900|       BMW|   Serie 1|2020|    Black| Naphtha| 5.0|Automatic|Not ava...|Hatchback|     34800| Dollars|  41900.0|\n",
      "| 2100000|      Ford|  Ecosport|2011|    Beige| Naphtha| 4.0|   Manual|       1.6|      SUV|    101000|   Pesos| 113400.0|\n",
      "|   38500| Chevrolet|Trailbl...|2019|     Gray|  Diesel| 5.0|Automatic|Not ava...|      SUV|     73000| Dollars|  38500.0|\n",
      "| 2940000|    Toyota|     Etios|2015|    White| Naphtha| 5.0|   Manual|       1.5|Hatchback|     83000|   Pesos| 158760.0|\n",
      "| 2050000|   Renault|      Clio|2014|     Gray| Naphtha| 5.0|   Manual|       1.2|Hatchback|     99000|   Pesos| 110700.0|\n",
      "| 4120000|    Toyota|      RAV4|2011|     Gray| Naphtha| 5.0|Automatic|       2.4|      SUV|    180000|   Pesos| 222480.0|\n",
      "| 4100000|    Toyota|     Etios|2018|     Gray| Naphtha| 5.0|   Manual|       1.5|    Sedán|     80000|   Pesos| 221400.0|\n",
      "|   15000|      Mini|    Cooper|2013|      Red| Naphtha| 5.0|   Manual|       1.6|Hatchback|    105000| Dollars|  15000.0|\n",
      "| 5099000|      Jeep|  Renegade|2018|      Red| Naphtha| 5.0|   Manual|       1.8|      SUV|     78000|   Pesos| 275346.0|\n",
      "| 8300000|    Toyota|     Hilux|2017|      Red|  Diesel| 4.0|   Manual|       2.8|  Pick-Up|    170000|   Pesos| 448200.0|\n",
      "| 2800000|      Fiat|     Bravo|2013|    Black| Naphtha| 5.0|   Manual|Not ava...|Hatchback|    124000|   Pesos| 151200.0|\n",
      "+--------+----------+----------+----+---------+--------+----+---------+----------+---------+----------+--------+---------+\n",
      "only showing top 25 rows\n",
      "\n"
     ]
    }
   ],
   "source": [
    "df_pyspark_arg.show(25,10)"
   ]
  },
  {
   "cell_type": "markdown",
   "id": "1ad66071",
   "metadata": {},
   "source": [
    "##### Changing datatype "
   ]
  },
  {
   "cell_type": "code",
   "execution_count": 38,
   "id": "174e281c",
   "metadata": {},
   "outputs": [],
   "source": [
    "df_pyspark_arg = df_pyspark_arg.withColumn('Door',df_pyspark_arg.Door.cast('int'))\n",
    "df_pyspark_arg = df_pyspark_arg.withColumn('Money USD',df_pyspark_arg['Money USD'].cast('int'))"
   ]
  },
  {
   "cell_type": "markdown",
   "id": "36e9d17a",
   "metadata": {},
   "source": [
    "##### Reordening the sequence of columns"
   ]
  },
  {
   "cell_type": "code",
   "execution_count": 39,
   "id": "fcab3cda",
   "metadata": {},
   "outputs": [
    {
     "data": {
      "text/plain": [
       "['Money',\n",
       " 'Brand',\n",
       " 'Model',\n",
       " 'Year',\n",
       " 'Color',\n",
       " 'FuelType',\n",
       " 'Door',\n",
       " 'Gear',\n",
       " 'Motor',\n",
       " 'BodyType',\n",
       " 'Kilometres',\n",
       " 'Currency',\n",
       " 'Money USD']"
      ]
     },
     "execution_count": 39,
     "metadata": {},
     "output_type": "execute_result"
    }
   ],
   "source": [
    "df_pyspark_arg.columns"
   ]
  },
  {
   "cell_type": "code",
   "execution_count": 40,
   "id": "261949aa",
   "metadata": {},
   "outputs": [],
   "source": [
    "df_pyspark_arg = df_pyspark_arg.select('Brand',\n",
    " 'Model',\n",
    " 'Year',\n",
    " 'Color',\n",
    " 'FuelType',\n",
    " 'Door',\n",
    " 'Gear',\n",
    " 'Motor',\n",
    " 'BodyType',\n",
    " 'Kilometres',\n",
    " 'Currency',\n",
    "  'Money',\n",
    " 'Money USD')"
   ]
  },
  {
   "cell_type": "markdown",
   "id": "9cde9490",
   "metadata": {},
   "source": [
    "##### Browsing selected columns to check data consistency"
   ]
  },
  {
   "cell_type": "code",
   "execution_count": 41,
   "id": "953de015",
   "metadata": {},
   "outputs": [
    {
     "name": "stdout",
     "output_type": "stream",
     "text": [
      "+-------------+\n",
      "|Brand        |\n",
      "+-------------+\n",
      "|Volkswagen   |\n",
      "|Peugeot      |\n",
      "|Jeep         |\n",
      "|Mitsubishi   |\n",
      "|Kia          |\n",
      "|Mini         |\n",
      "|Chevrolet    |\n",
      "|RAM          |\n",
      "|Volvo        |\n",
      "|Baic         |\n",
      "|Hyundai      |\n",
      "|Honda        |\n",
      "|Audi         |\n",
      "|Mercedes-Benz|\n",
      "|Renault      |\n",
      "|BMW          |\n",
      "|Suzuki       |\n",
      "|Chery        |\n",
      "|Porsche      |\n",
      "|DS           |\n",
      "|Citroën      |\n",
      "|Toyota       |\n",
      "|Dodge        |\n",
      "|Nissan       |\n",
      "|Fiat         |\n",
      "|Ford         |\n",
      "|Subaru       |\n",
      "+-------------+\n",
      "\n"
     ]
    }
   ],
   "source": [
    "df_pyspark_arg.select(\"Brand\").distinct().show(35, truncate=False)"
   ]
  },
  {
   "cell_type": "markdown",
   "id": "d72c330e",
   "metadata": {},
   "source": [
    "### Basic information after cleaning"
   ]
  },
  {
   "cell_type": "code",
   "execution_count": 42,
   "id": "e2782f3d",
   "metadata": {},
   "outputs": [
    {
     "name": "stdout",
     "output_type": "stream",
     "text": [
      "root\n",
      " |-- Brand: string (nullable = true)\n",
      " |-- Model: string (nullable = true)\n",
      " |-- Year: integer (nullable = true)\n",
      " |-- Color: string (nullable = false)\n",
      " |-- FuelType: string (nullable = false)\n",
      " |-- Door: integer (nullable = true)\n",
      " |-- Gear: string (nullable = false)\n",
      " |-- Motor: string (nullable = false)\n",
      " |-- BodyType: string (nullable = false)\n",
      " |-- Kilometres: integer (nullable = true)\n",
      " |-- Currency: string (nullable = false)\n",
      " |-- Money: integer (nullable = true)\n",
      " |-- Money USD: integer (nullable = true)\n",
      "\n"
     ]
    }
   ],
   "source": [
    "df_pyspark_arg.printSchema()"
   ]
  },
  {
   "cell_type": "code",
   "execution_count": 43,
   "id": "8f0aca82",
   "metadata": {},
   "outputs": [
    {
     "name": "stdout",
     "output_type": "stream",
     "text": [
      "+----------+----------+----+---------+--------+----+---------+----------+---------+----------+--------+--------+---------+\n",
      "|     Brand|     Model|Year|    Color|FuelType|Door|     Gear|     Motor| BodyType|Kilometres|Currency|   Money|Money USD|\n",
      "+----------+----------+----+---------+--------+----+---------+----------+---------+----------+--------+--------+---------+\n",
      "|    Toyota|Corolla...|2022|   Silver| Naphtha|   5|Automatic|Not ava...|      SUV|       500|   Pesos|10350000|   558900|\n",
      "|      Jeep|   Compass|2022|    White| Naphtha|   5|Automatic|       2.4|      SUV|       500|   Pesos|10850000|   585900|\n",
      "|      Jeep|   Compass|2022|Dark gray| Naphtha|   5|Automatic|       2.4|      SUV|       500| Dollars|   35500|    35500|\n",
      "|   Citroën| C4 Cactus|2022|Dark gray| Naphtha|   5|Automatic|Not ava...|      SUV|       550| Dollars|   19000|    19000|\n",
      "|    Toyota|   Corolla|2019|     Gray| Naphtha|   4|   Manual|       1.8|    Sedán|      9000|   Pesos| 5800000|   313200|\n",
      "|      Jeep|   Compass|2022|    Black| Naphtha|   5|Automatic|       1.3|      SUV|     10500| Dollars|   34500|    34500|\n",
      "|       Kia|   Sorento|2014|    Black|  Diesel|   5|Automatic|       2.2|      SUV|    156000| Dollars|   25000|    25000|\n",
      "|Mercede...|   Clase C|2008|   Silver| Naphtha|   4|Automatic|       1.8|    Sedán|    174000| Dollars|   12300|    12300|\n",
      "|       BMW|       220|2016|    White| Naphtha|   2|Automatic|     TURBO|    Coupé|     66000| Dollars|   35500|    35500|\n",
      "|Volkswagen|   T-Cross|2019|   Orange| Naphtha|   5|Automatic|1.6 MSI...|      SUV|     35000|   Pesos| 6800000|   367200|\n",
      "|Mercede...|   Clase A|2017|   Silver| Naphtha|   5|Automatic|         3|Hatchback|     55394| Dollars|   38500|    38500|\n",
      "|Mercede...|   Clase A|2013|    White| Naphtha|   5|   Manual|       1.6|Hatchback|    162080| Dollars|   20500|    20500|\n",
      "|   Renault|   Sandero|2022|   Silver| Naphtha|   5|   Manual|Not ava...|    Sedán|    111111|   Pesos| 3500000|   189000|\n",
      "|Volkswagen|      Polo|2022|    White| Naphtha|   5|   Manual|       1.6|Hatchback|    111111|   Pesos| 5990000|   323460|\n",
      "|       BMW|   Serie 1|2020|    Black| Naphtha|   5|Automatic|Not ava...|Hatchback|     34800| Dollars|   41900|    41900|\n",
      "|      Ford|  Ecosport|2011|    Beige| Naphtha|   4|   Manual|       1.6|      SUV|    101000|   Pesos| 2100000|   113400|\n",
      "| Chevrolet|Trailbl...|2019|     Gray|  Diesel|   5|Automatic|Not ava...|      SUV|     73000| Dollars|   38500|    38500|\n",
      "|    Toyota|     Etios|2015|    White| Naphtha|   5|   Manual|       1.5|Hatchback|     83000|   Pesos| 2940000|   158760|\n",
      "|   Renault|      Clio|2014|     Gray| Naphtha|   5|   Manual|       1.2|Hatchback|     99000|   Pesos| 2050000|   110700|\n",
      "|    Toyota|      RAV4|2011|     Gray| Naphtha|   5|Automatic|       2.4|      SUV|    180000|   Pesos| 4120000|   222480|\n",
      "|    Toyota|     Etios|2018|     Gray| Naphtha|   5|   Manual|       1.5|    Sedán|     80000|   Pesos| 4100000|   221400|\n",
      "|      Mini|    Cooper|2013|      Red| Naphtha|   5|   Manual|       1.6|Hatchback|    105000| Dollars|   15000|    15000|\n",
      "|      Jeep|  Renegade|2018|      Red| Naphtha|   5|   Manual|       1.8|      SUV|     78000|   Pesos| 5099000|   275346|\n",
      "|    Toyota|     Hilux|2017|      Red|  Diesel|   4|   Manual|       2.8|  Pick-Up|    170000|   Pesos| 8300000|   448200|\n",
      "|      Fiat|     Bravo|2013|    Black| Naphtha|   5|   Manual|Not ava...|Hatchback|    124000|   Pesos| 2800000|   151200|\n",
      "+----------+----------+----+---------+--------+----+---------+----------+---------+----------+--------+--------+---------+\n",
      "only showing top 25 rows\n",
      "\n"
     ]
    }
   ],
   "source": [
    "df_pyspark_arg.show(25,10)"
   ]
  },
  {
   "cell_type": "markdown",
   "id": "d2368d2d",
   "metadata": {},
   "source": [
    "## df_pyspark_nig"
   ]
  },
  {
   "cell_type": "code",
   "execution_count": 44,
   "id": "c89692ab",
   "metadata": {
    "scrolled": true
   },
   "outputs": [
    {
     "name": "stdout",
     "output_type": "stream",
     "text": [
      "+---+-------------+-------------------+-------------+-------+-----------+------+------------+----------+-----+\n",
      "|_c0|         Make|Year of manufacture|    Condition|Mileage|Engine Size|  Fuel|Transmission|     Price|Build|\n",
      "+---+-------------+-------------------+-------------+-------+-----------+------+------------+----------+-----+\n",
      "|  0|       Toyota|               2007|Nigerian Used| 166418|       2400|Petrol|   Automatic| 3,120,000| null|\n",
      "|  1|        Lexus|               null|         null| 138024|       null|  null|   Automatic| 5,834,000| null|\n",
      "|  2|Mercedes-Benz|               2008|Nigerian Used| 376807|       3000|Petrol|   Automatic| 3,640,000| null|\n",
      "|  3|        Lexus|               null|         null| 213362|       null|  null|   Automatic| 3,594,000| null|\n",
      "|  4|Mercedes-Benz|               null|         null| 106199|       null|  null|   Automatic| 8,410,000| null|\n",
      "|  5|Mercedes-Benz|               null|         null|  87660|       null|  null|   Automatic| 5,554,000| null|\n",
      "|  6|        Lexus|               null|         null| 191411|       null|  null|   Automatic| 3,706,000| null|\n",
      "|  7|        Lexus|               null|         null|  59092|       null|  null|   Automatic| 8,410,000| null|\n",
      "|  8|Mercedes-Benz|               null|         null|  89423|       null|  null|   Automatic| 6,506,000| null|\n",
      "|  9|        Lexus|               null|         null| 184827|       null|  null|   Automatic| 4,000,000| null|\n",
      "| 10|        Lexus|               null|         null|  42433|       null|  null|   Automatic| 8,970,000| null|\n",
      "| 11|        Lexus|               null|         null| 116138|       null|  null|   Automatic| 3,034,000| null|\n",
      "| 12|        Lexus|               null|         null| 167583|       null|  null|   Automatic| 3,818,000| null|\n",
      "| 13|        Lexus|               null|         null| 240934|       null|  null|   Automatic| 3,930,000| null|\n",
      "| 14|         Fiat|               null|         null|    114|       null|  null|   Automatic| 8,500,000| null|\n",
      "| 15|         Fiat|               null|         null|     54|       null|  null|      Manual|12,500,000| null|\n",
      "| 16|        Lexus|               null|         null|  79740|       null|  null|   Automatic| 5,274,000| null|\n",
      "| 17|Mercedes-Benz|               null|         null| 338145|       null|  null|   Automatic| 8,060,000| null|\n",
      "| 18|        Lexus|               null|         null| 174545|       null|  null|   Automatic| 6,506,000| null|\n",
      "| 19|   Land Rover|               null|         null|  63296|       null|  null|   Automatic| 6,910,000| null|\n",
      "+---+-------------+-------------------+-------------+-------+-----------+------+------------+----------+-----+\n",
      "only showing top 20 rows\n",
      "\n"
     ]
    }
   ],
   "source": [
    "df_pyspark_nig.show()"
   ]
  },
  {
   "cell_type": "markdown",
   "id": "fafc1e27",
   "metadata": {},
   "source": [
    "#### Dropping one column from dataframe"
   ]
  },
  {
   "cell_type": "code",
   "execution_count": 45,
   "id": "d04f5991",
   "metadata": {},
   "outputs": [
    {
     "data": {
      "text/plain": [
       "['_c0',\n",
       " 'Make',\n",
       " 'Year of manufacture',\n",
       " 'Condition',\n",
       " 'Mileage',\n",
       " 'Engine Size',\n",
       " 'Fuel',\n",
       " 'Transmission',\n",
       " 'Price',\n",
       " 'Build']"
      ]
     },
     "execution_count": 45,
     "metadata": {},
     "output_type": "execute_result"
    }
   ],
   "source": [
    "df_pyspark_nig.columns"
   ]
  },
  {
   "cell_type": "code",
   "execution_count": 46,
   "id": "f9a4798e",
   "metadata": {},
   "outputs": [],
   "source": [
    "df_pyspark_nig = df_pyspark_nig.drop('_c0')"
   ]
  },
  {
   "cell_type": "code",
   "execution_count": 47,
   "id": "e71db70d",
   "metadata": {
    "scrolled": true
   },
   "outputs": [
    {
     "name": "stdout",
     "output_type": "stream",
     "text": [
      "+-------------+-------------------+-------------+-------+-----------+------+------------+----------+-----+\n",
      "|         Make|Year of manufacture|    Condition|Mileage|Engine Size|  Fuel|Transmission|     Price|Build|\n",
      "+-------------+-------------------+-------------+-------+-----------+------+------------+----------+-----+\n",
      "|       Toyota|               2007|Nigerian Used| 166418|       2400|Petrol|   Automatic| 3,120,000| null|\n",
      "|        Lexus|               null|         null| 138024|       null|  null|   Automatic| 5,834,000| null|\n",
      "|Mercedes-Benz|               2008|Nigerian Used| 376807|       3000|Petrol|   Automatic| 3,640,000| null|\n",
      "|        Lexus|               null|         null| 213362|       null|  null|   Automatic| 3,594,000| null|\n",
      "|Mercedes-Benz|               null|         null| 106199|       null|  null|   Automatic| 8,410,000| null|\n",
      "|Mercedes-Benz|               null|         null|  87660|       null|  null|   Automatic| 5,554,000| null|\n",
      "|        Lexus|               null|         null| 191411|       null|  null|   Automatic| 3,706,000| null|\n",
      "|        Lexus|               null|         null|  59092|       null|  null|   Automatic| 8,410,000| null|\n",
      "|Mercedes-Benz|               null|         null|  89423|       null|  null|   Automatic| 6,506,000| null|\n",
      "|        Lexus|               null|         null| 184827|       null|  null|   Automatic| 4,000,000| null|\n",
      "|        Lexus|               null|         null|  42433|       null|  null|   Automatic| 8,970,000| null|\n",
      "|        Lexus|               null|         null| 116138|       null|  null|   Automatic| 3,034,000| null|\n",
      "|        Lexus|               null|         null| 167583|       null|  null|   Automatic| 3,818,000| null|\n",
      "|        Lexus|               null|         null| 240934|       null|  null|   Automatic| 3,930,000| null|\n",
      "|         Fiat|               null|         null|    114|       null|  null|   Automatic| 8,500,000| null|\n",
      "|         Fiat|               null|         null|     54|       null|  null|      Manual|12,500,000| null|\n",
      "|        Lexus|               null|         null|  79740|       null|  null|   Automatic| 5,274,000| null|\n",
      "|Mercedes-Benz|               null|         null| 338145|       null|  null|   Automatic| 8,060,000| null|\n",
      "|        Lexus|               null|         null| 174545|       null|  null|   Automatic| 6,506,000| null|\n",
      "|   Land Rover|               null|         null|  63296|       null|  null|   Automatic| 6,910,000| null|\n",
      "+-------------+-------------------+-------------+-------+-----------+------+------------+----------+-----+\n",
      "only showing top 20 rows\n",
      "\n"
     ]
    }
   ],
   "source": [
    "df_pyspark_nig.show()"
   ]
  },
  {
   "cell_type": "markdown",
   "id": "caa096b2",
   "metadata": {},
   "source": [
    "### Looking for null values in columns:"
   ]
  },
  {
   "cell_type": "code",
   "execution_count": 48,
   "id": "5a68452b",
   "metadata": {
    "scrolled": true
   },
   "outputs": [
    {
     "name": "stdout",
     "output_type": "stream",
     "text": [
      "+----+-------------------+---------+-------+-----------+----+------------+-----+-----+\n",
      "|Make|Year of manufacture|Condition|Mileage|Engine Size|Fuel|Transmission|Price|Build|\n",
      "+----+-------------------+---------+-------+-----------+----+------------+-----+-----+\n",
      "|   0|                478|      479|     71|        511| 488|          20|    0| 2968|\n",
      "+----+-------------------+---------+-------+-----------+----+------------+-----+-----+\n",
      "\n"
     ]
    }
   ],
   "source": [
    "df_pyspark_nig.select([count(when(isnan(c) | col(c).isNull(), c)).alias(c) for c in df_pyspark_nig.columns]).show()"
   ]
  },
  {
   "cell_type": "markdown",
   "id": "f67b1d75",
   "metadata": {},
   "source": [
    "#### Exploring null values in columns:"
   ]
  },
  {
   "cell_type": "code",
   "execution_count": 49,
   "id": "f7375ae2",
   "metadata": {},
   "outputs": [
    {
     "name": "stdout",
     "output_type": "stream",
     "text": [
      "+-------------+-------------------+---------+-------+-----------+----+------------+----------+-----+\n",
      "|         Make|Year of manufacture|Condition|Mileage|Engine Size|Fuel|Transmission|     Price|Build|\n",
      "+-------------+-------------------+---------+-------+-----------+----+------------+----------+-----+\n",
      "|        Lexus|               null|     null| 138024|       null|null|   Automatic| 5,834,000| null|\n",
      "|        Lexus|               null|     null| 213362|       null|null|   Automatic| 3,594,000| null|\n",
      "|Mercedes-Benz|               null|     null| 106199|       null|null|   Automatic| 8,410,000| null|\n",
      "|Mercedes-Benz|               null|     null|  87660|       null|null|   Automatic| 5,554,000| null|\n",
      "|        Lexus|               null|     null| 191411|       null|null|   Automatic| 3,706,000| null|\n",
      "|        Lexus|               null|     null|  59092|       null|null|   Automatic| 8,410,000| null|\n",
      "|Mercedes-Benz|               null|     null|  89423|       null|null|   Automatic| 6,506,000| null|\n",
      "|        Lexus|               null|     null| 184827|       null|null|   Automatic| 4,000,000| null|\n",
      "|        Lexus|               null|     null|  42433|       null|null|   Automatic| 8,970,000| null|\n",
      "|        Lexus|               null|     null| 116138|       null|null|   Automatic| 3,034,000| null|\n",
      "|        Lexus|               null|     null| 167583|       null|null|   Automatic| 3,818,000| null|\n",
      "|        Lexus|               null|     null| 240934|       null|null|   Automatic| 3,930,000| null|\n",
      "|         Fiat|               null|     null|    114|       null|null|   Automatic| 8,500,000| null|\n",
      "|         Fiat|               null|     null|     54|       null|null|      Manual|12,500,000| null|\n",
      "|        Lexus|               null|     null|  79740|       null|null|   Automatic| 5,274,000| null|\n",
      "|Mercedes-Benz|               null|     null| 338145|       null|null|   Automatic| 8,060,000| null|\n",
      "|        Lexus|               null|     null| 174545|       null|null|   Automatic| 6,506,000| null|\n",
      "|   Land Rover|               null|     null|  63296|       null|null|   Automatic| 6,910,000| null|\n",
      "|Mercedes-Benz|               null|     null|  93469|       null|null|   Automatic| 6,910,000| null|\n",
      "|Mercedes-Benz|               null|     null|  63085|       null|null|   Automatic|15,690,000| null|\n",
      "+-------------+-------------------+---------+-------+-----------+----+------------+----------+-----+\n",
      "only showing top 20 rows\n",
      "\n"
     ]
    }
   ],
   "source": [
    "df_pyspark_nig.filter(col(\"Year of manufacture\").isNull()).show()"
   ]
  },
  {
   "cell_type": "code",
   "execution_count": 50,
   "id": "e698d031",
   "metadata": {
    "scrolled": true
   },
   "outputs": [
    {
     "name": "stdout",
     "output_type": "stream",
     "text": [
      "+-------------+-------------------+-------------+-------+-----------+------+------------+----------+-----+\n",
      "|         Make|Year of manufacture|    Condition|Mileage|Engine Size|  Fuel|Transmission|     Price|Build|\n",
      "+-------------+-------------------+-------------+-------+-----------+------+------------+----------+-----+\n",
      "|       Toyota|               2007|Nigerian Used| 166418|       2400|Petrol|   Automatic| 3,120,000| null|\n",
      "|        Lexus|               null|         null| 138024|       null|  null|   Automatic| 5,834,000| null|\n",
      "|Mercedes-Benz|               2008|Nigerian Used| 376807|       3000|Petrol|   Automatic| 3,640,000| null|\n",
      "|        Lexus|               null|         null| 213362|       null|  null|   Automatic| 3,594,000| null|\n",
      "|Mercedes-Benz|               null|         null| 106199|       null|  null|   Automatic| 8,410,000| null|\n",
      "|Mercedes-Benz|               null|         null|  87660|       null|  null|   Automatic| 5,554,000| null|\n",
      "|        Lexus|               null|         null| 191411|       null|  null|   Automatic| 3,706,000| null|\n",
      "|        Lexus|               null|         null|  59092|       null|  null|   Automatic| 8,410,000| null|\n",
      "|Mercedes-Benz|               null|         null|  89423|       null|  null|   Automatic| 6,506,000| null|\n",
      "|        Lexus|               null|         null| 184827|       null|  null|   Automatic| 4,000,000| null|\n",
      "|        Lexus|               null|         null|  42433|       null|  null|   Automatic| 8,970,000| null|\n",
      "|        Lexus|               null|         null| 116138|       null|  null|   Automatic| 3,034,000| null|\n",
      "|        Lexus|               null|         null| 167583|       null|  null|   Automatic| 3,818,000| null|\n",
      "|        Lexus|               null|         null| 240934|       null|  null|   Automatic| 3,930,000| null|\n",
      "|         Fiat|               null|         null|    114|       null|  null|   Automatic| 8,500,000| null|\n",
      "|         Fiat|               null|         null|     54|       null|  null|      Manual|12,500,000| null|\n",
      "|        Lexus|               null|         null|  79740|       null|  null|   Automatic| 5,274,000| null|\n",
      "|Mercedes-Benz|               null|         null| 338145|       null|  null|   Automatic| 8,060,000| null|\n",
      "|        Lexus|               null|         null| 174545|       null|  null|   Automatic| 6,506,000| null|\n",
      "|   Land Rover|               null|         null|  63296|       null|  null|   Automatic| 6,910,000| null|\n",
      "+-------------+-------------------+-------------+-------+-----------+------+------------+----------+-----+\n",
      "only showing top 20 rows\n",
      "\n"
     ]
    }
   ],
   "source": [
    "df_pyspark_nig.filter(col(\"Build\").isNull()).show()"
   ]
  },
  {
   "cell_type": "code",
   "execution_count": 51,
   "id": "e8ea47ba",
   "metadata": {},
   "outputs": [
    {
     "name": "stdout",
     "output_type": "stream",
     "text": [
      "+-------------+-------------------+-------------+-------+-----------+------+------------+----------+-----+\n",
      "|         Make|Year of manufacture|    Condition|Mileage|Engine Size|  Fuel|Transmission|     Price|Build|\n",
      "+-------------+-------------------+-------------+-------+-----------+------+------------+----------+-----+\n",
      "|        Lexus|               2011|Nigerian Used| 105546|       4600|Petrol|   Automatic|14,040,000|  SUV|\n",
      "|       Toyota|               2014|Nigerian Used| 216924|       2500|Petrol|   Automatic| 9,360,000|  SUV|\n",
      "|       Toyota|               2014|Nigerian Used| 216924|       2500|Petrol|   Automatic| 9,360,000|  SUV|\n",
      "|        Lexus|               2016|Nigerian Used| 107355|       5700|Petrol|   Automatic|42,000,000|  SUV|\n",
      "|Mercedes-Benz|               2007| Foreign Used| 209466|       4700|Petrol|   Automatic| 4,515,000|  SUV|\n",
      "|        Lexus|               2010| Foreign Used| 135819|       3500|Petrol|   Automatic| 8,610,000|  SUV|\n",
      "|Mercedes-Benz|               2015|Nigerian Used| 120785|       4500|Petrol|   Automatic|18,720,000|  SUV|\n",
      "|        Lexus|               2006|Nigerian Used| 156704|       3300|Petrol|   Automatic| 3,640,000|  SUV|\n",
      "|        Lexus|               2008|Nigerian Used| 162262|       4700|Petrol|   Automatic| 4,725,000|  SUV|\n",
      "|   Land Rover|               2011|Nigerian Used| 132352|       5000|Petrol|   Automatic| 5,250,000|  SUV|\n",
      "|       Toyota|               2010| Foreign Used| 170599|       3500|Petrol|   Automatic| 6,825,000|  SUV|\n",
      "|        Lexus|               2015| Foreign Used| 228013|       3500|Petrol|   Automatic|15,600,000|  SUV|\n",
      "|       Toyota|               2015| Foreign Used|  79277|       4000|Petrol|   Automatic|17,680,000|  SUV|\n",
      "|        Lexus|               2015|Nigerian Used|  88745|       3500|Petrol|   Automatic| 9,450,000|  SUV|\n",
      "|       Toyota|               2010| Foreign Used| 158017|       3500|Petrol|   Automatic| 6,825,000|  SUV|\n",
      "|        Lexus|               2004| Foreign Used| 250650|       3500|Petrol|   Automatic| 6,032,000|  SUV|\n",
      "|Mercedes-Benz|               2006|Nigerian Used| 243975|       3500|Petrol|   Automatic| 3,360,000|  SUV|\n",
      "|   Land Rover|               2018| Foreign Used|  30092|       3000|Diesel|   Automatic|36,750,000|  SUV|\n",
      "|Mercedes-Benz|               2012| Foreign Used| 173337|       3500|Petrol|   Automatic|11,025,000|  SUV|\n",
      "|        Lexus|               2005| Foreign Used|  95873|       3300|Petrol|   Automatic| 5,200,000|  SUV|\n",
      "+-------------+-------------------+-------------+-------+-----------+------+------------+----------+-----+\n",
      "only showing top 20 rows\n",
      "\n"
     ]
    }
   ],
   "source": [
    "df_pyspark_nig.filter(col(\"Build\").isNotNull()).show()"
   ]
  },
  {
   "cell_type": "markdown",
   "id": "4f6af1b6",
   "metadata": {},
   "source": [
    "#### Dropping null values"
   ]
  },
  {
   "cell_type": "code",
   "execution_count": 52,
   "id": "aeb404d5",
   "metadata": {},
   "outputs": [],
   "source": [
    "df_pyspark_nig = df_pyspark_nig.na.drop()"
   ]
  },
  {
   "cell_type": "code",
   "execution_count": 53,
   "id": "0e5865a0",
   "metadata": {},
   "outputs": [
    {
     "name": "stdout",
     "output_type": "stream",
     "text": [
      "+-------------+-------------------+-------------+-------+-----------+------+------------+----------+-----+\n",
      "|         Make|Year of manufacture|    Condition|Mileage|Engine Size|  Fuel|Transmission|     Price|Build|\n",
      "+-------------+-------------------+-------------+-------+-----------+------+------------+----------+-----+\n",
      "|        Lexus|               2011|Nigerian Used| 105546|       4600|Petrol|   Automatic|14,040,000|  SUV|\n",
      "|       Toyota|               2014|Nigerian Used| 216924|       2500|Petrol|   Automatic| 9,360,000|  SUV|\n",
      "|       Toyota|               2014|Nigerian Used| 216924|       2500|Petrol|   Automatic| 9,360,000|  SUV|\n",
      "|        Lexus|               2016|Nigerian Used| 107355|       5700|Petrol|   Automatic|42,000,000|  SUV|\n",
      "|Mercedes-Benz|               2007| Foreign Used| 209466|       4700|Petrol|   Automatic| 4,515,000|  SUV|\n",
      "|        Lexus|               2010| Foreign Used| 135819|       3500|Petrol|   Automatic| 8,610,000|  SUV|\n",
      "|Mercedes-Benz|               2015|Nigerian Used| 120785|       4500|Petrol|   Automatic|18,720,000|  SUV|\n",
      "|        Lexus|               2006|Nigerian Used| 156704|       3300|Petrol|   Automatic| 3,640,000|  SUV|\n",
      "|        Lexus|               2008|Nigerian Used| 162262|       4700|Petrol|   Automatic| 4,725,000|  SUV|\n",
      "|   Land Rover|               2011|Nigerian Used| 132352|       5000|Petrol|   Automatic| 5,250,000|  SUV|\n",
      "|       Toyota|               2010| Foreign Used| 170599|       3500|Petrol|   Automatic| 6,825,000|  SUV|\n",
      "|        Lexus|               2015| Foreign Used| 228013|       3500|Petrol|   Automatic|15,600,000|  SUV|\n",
      "|       Toyota|               2015| Foreign Used|  79277|       4000|Petrol|   Automatic|17,680,000|  SUV|\n",
      "|        Lexus|               2015|Nigerian Used|  88745|       3500|Petrol|   Automatic| 9,450,000|  SUV|\n",
      "|       Toyota|               2010| Foreign Used| 158017|       3500|Petrol|   Automatic| 6,825,000|  SUV|\n",
      "|        Lexus|               2004| Foreign Used| 250650|       3500|Petrol|   Automatic| 6,032,000|  SUV|\n",
      "|Mercedes-Benz|               2006|Nigerian Used| 243975|       3500|Petrol|   Automatic| 3,360,000|  SUV|\n",
      "|   Land Rover|               2018| Foreign Used|  30092|       3000|Diesel|   Automatic|36,750,000|  SUV|\n",
      "|Mercedes-Benz|               2012| Foreign Used| 173337|       3500|Petrol|   Automatic|11,025,000|  SUV|\n",
      "|        Lexus|               2005| Foreign Used|  95873|       3300|Petrol|   Automatic| 5,200,000|  SUV|\n",
      "+-------------+-------------------+-------------+-------+-----------+------+------------+----------+-----+\n",
      "only showing top 20 rows\n",
      "\n"
     ]
    }
   ],
   "source": [
    "df_pyspark_nig.show()"
   ]
  },
  {
   "cell_type": "markdown",
   "id": "cfca5547",
   "metadata": {},
   "source": [
    "#### Verifying if all drop values are dropped"
   ]
  },
  {
   "cell_type": "code",
   "execution_count": 54,
   "id": "55c4ee9f",
   "metadata": {},
   "outputs": [
    {
     "name": "stdout",
     "output_type": "stream",
     "text": [
      "+----+-------------------+---------+-------+-----------+----+------------+-----+-----+\n",
      "|Make|Year of manufacture|Condition|Mileage|Engine Size|Fuel|Transmission|Price|Build|\n",
      "+----+-------------------+---------+-------+-----------+----+------------+-----+-----+\n",
      "|   0|                  0|        0|      0|          0|   0|           0|    0|    0|\n",
      "+----+-------------------+---------+-------+-----------+----+------------+-----+-----+\n",
      "\n"
     ]
    }
   ],
   "source": [
    "df_pyspark_nig.select([count(when(isnan(c) | col(c).isNull(), c)).alias(c) for c in df_pyspark_nig.columns]).show()"
   ]
  },
  {
   "cell_type": "markdown",
   "id": "da3d7989",
   "metadata": {},
   "source": [
    "### Dealing with duplicates"
   ]
  },
  {
   "cell_type": "code",
   "execution_count": 55,
   "id": "f0801fec",
   "metadata": {},
   "outputs": [
    {
     "name": "stdout",
     "output_type": "stream",
     "text": [
      "Count  of rows in dataframe: 1101\n"
     ]
    }
   ],
   "source": [
    "print(\"Count  of rows in dataframe: \" + str(df_pyspark_nig.count()))"
   ]
  },
  {
   "cell_type": "code",
   "execution_count": 56,
   "id": "6fca05d5",
   "metadata": {},
   "outputs": [
    {
     "name": "stdout",
     "output_type": "stream",
     "text": [
      "Distinct Count of rows in dataframe: 851\n"
     ]
    }
   ],
   "source": [
    "print(\"Distinct Count of rows in dataframe: \" + str(df_pyspark_nig.distinct().count()))"
   ]
  },
  {
   "cell_type": "markdown",
   "id": "2b1afb6e",
   "metadata": {},
   "source": [
    "#### Removing duplicate values"
   ]
  },
  {
   "cell_type": "code",
   "execution_count": 57,
   "id": "f1314142",
   "metadata": {},
   "outputs": [
    {
     "name": "stdout",
     "output_type": "stream",
     "text": [
      "Distinct count: 851\n"
     ]
    }
   ],
   "source": [
    "df_pyspark_nig = df_pyspark_nig.dropDuplicates()\n",
    "print(\"Distinct count: \"+str(df_pyspark_nig.count()))"
   ]
  },
  {
   "cell_type": "markdown",
   "id": "d72cd2f7",
   "metadata": {},
   "source": [
    "### Changing the name of columns"
   ]
  },
  {
   "cell_type": "code",
   "execution_count": 58,
   "id": "dda983cc",
   "metadata": {},
   "outputs": [
    {
     "name": "stdout",
     "output_type": "stream",
     "text": [
      "+-------------+-------------------+-------------+-------+-----------+------+------------+----------+-----+\n",
      "|         Make|Year of manufacture|    Condition|Mileage|Engine Size|  Fuel|Transmission|     Price|Build|\n",
      "+-------------+-------------------+-------------+-------+-----------+------+------------+----------+-----+\n",
      "|Mercedes-Benz|               2013| Foreign Used| 104536|       3500|Petrol|   Automatic|14,352,000|  SUV|\n",
      "|        Honda|               2011| Foreign Used|   3621|       3500|Petrol|   Automatic| 6,240,000|  SUV|\n",
      "|       Toyota|               2007|Nigerian Used| 223493|       3500|Hybrid|   Automatic| 2,100,000|  SUV|\n",
      "|       Toyota|               2003|Nigerian Used| 367531|       4000|Petrol|   Automatic| 2,137,500|  SUV|\n",
      "|        Lexus|               2007| Foreign Used| 104138|       3500|Petrol|   Automatic| 5,928,000|  SUV|\n",
      "|      Lincoln|               2019|Nigerian Used|  35976|       2000|Petrol|   Automatic|17,850,000|  SUV|\n",
      "|   Land Rover|               2008|Nigerian Used| 178780|       4700|Petrol|   Automatic| 3,150,000|  SUV|\n",
      "|        Lexus|               2007|Nigerian Used| 220726|       3500|Petrol|   Automatic| 4,680,000|  SUV|\n",
      "|        Mazda|               2010|Nigerian Used| 322717|       2500|Petrol|   Automatic| 2,100,000|  SUV|\n",
      "|        Lexus|               2008| Foreign Used| 149092|       3500|Petrol|   Automatic| 5,145,000|  SUV|\n",
      "|      Hyundai|               2010|Nigerian Used| 262797|       3800|Petrol|   Automatic| 2,677,500|  SUV|\n",
      "|       Toyota|               2001|Nigerian Used| 119510|       3000|Petrol|   Automatic| 1,352,000|  SUV|\n",
      "|Mercedes-Benz|               2007|Nigerian Used|   1966|         35|Petrol|   Automatic| 5,720,000|  SUV|\n",
      "|       Toyota|               2002| Foreign Used| 125606|       2000|Petrol|   Automatic| 3,255,000|  SUV|\n",
      "|          Kia|               2013|Nigerian Used| 134013|       3800|Petrol|   Automatic| 4,410,000|  SUV|\n",
      "|        Honda|               2003|Nigerian Used| 175567|       3500|Petrol|   Automatic| 1,612,000|  SUV|\n",
      "|       Nissan|               2009|Nigerian Used| 213292|       3500|Petrol|         CVT| 1,575,000|  SUV|\n",
      "|        Lexus|               2005|Nigerian Used| 196345|       3300|Petrol|   Automatic| 3,432,000|  SUV|\n",
      "|       Toyota|               2007|Nigerian Used| 213548|       3500|Petrol|   Automatic| 3,328,000|  SUV|\n",
      "|       Toyota|               2009|Nigerian Used|  94618|       3500|Petrol|   Automatic| 4,725,000|  SUV|\n",
      "+-------------+-------------------+-------------+-------+-----------+------+------------+----------+-----+\n",
      "only showing top 20 rows\n",
      "\n"
     ]
    }
   ],
   "source": [
    "df_pyspark_nig.show()"
   ]
  },
  {
   "cell_type": "code",
   "execution_count": 59,
   "id": "978539eb",
   "metadata": {},
   "outputs": [
    {
     "data": {
      "text/plain": [
       "['Make',\n",
       " 'Year of manufacture',\n",
       " 'Condition',\n",
       " 'Mileage',\n",
       " 'Engine Size',\n",
       " 'Fuel',\n",
       " 'Transmission',\n",
       " 'Price',\n",
       " 'Build']"
      ]
     },
     "execution_count": 59,
     "metadata": {},
     "output_type": "execute_result"
    }
   ],
   "source": [
    "df_pyspark_nig.columns"
   ]
  },
  {
   "cell_type": "code",
   "execution_count": 60,
   "id": "7e695653",
   "metadata": {},
   "outputs": [],
   "source": [
    "df_pyspark_nig = df_pyspark_nig.withColumnRenamed(\"Make\",\"Brand\") \\\n",
    "                .withColumnRenamed(\"Year of manufacture\",\"Year\") \\\n",
    "                .withColumnRenamed(\"Mileage\",\"Kilometres\") \\\n",
    "                 .withColumnRenamed(\"Transmission\",\"Gear\") \\\n",
    "                .withColumnRenamed(\"Build\",\"BodyType\") \\\n",
    "                .withColumnRenamed(\"Fuel\",\"FuelType\") \\\n",
    "                .withColumnRenamed(\"Engine Size\",\"EngineSize\") \\\n",
    "                .withColumnRenamed(\"Price\",\"Money\") "
   ]
  },
  {
   "cell_type": "markdown",
   "id": "c86b6cbe",
   "metadata": {},
   "source": [
    "### Converting str to int data type"
   ]
  },
  {
   "cell_type": "code",
   "execution_count": 61,
   "id": "960bc8c1",
   "metadata": {},
   "outputs": [],
   "source": [
    "df_pyspark_nig = df_pyspark_nig.withColumn(\"Money\", functions.regexp_replace('Money',r'[,]',\"\"))\n",
    "df_pyspark_nig = df_pyspark_nig.withColumn(\"Money\",col(\"Money\").cast(\"integer\"))\n"
   ]
  },
  {
   "cell_type": "code",
   "execution_count": 62,
   "id": "1c1b1b15",
   "metadata": {},
   "outputs": [
    {
     "name": "stdout",
     "output_type": "stream",
     "text": [
      "+-------------+----+-------------+----------+----------+--------+---------+--------+--------+\n",
      "|        Brand|Year|    Condition|Kilometres|EngineSize|FuelType|     Gear|   Money|BodyType|\n",
      "+-------------+----+-------------+----------+----------+--------+---------+--------+--------+\n",
      "|Mercedes-Benz|2013| Foreign Used|    104536|      3500|  Petrol|Automatic|14352000|     SUV|\n",
      "|        Honda|2011| Foreign Used|      3621|      3500|  Petrol|Automatic| 6240000|     SUV|\n",
      "|       Toyota|2007|Nigerian Used|    223493|      3500|  Hybrid|Automatic| 2100000|     SUV|\n",
      "|       Toyota|2003|Nigerian Used|    367531|      4000|  Petrol|Automatic| 2137500|     SUV|\n",
      "|        Lexus|2007| Foreign Used|    104138|      3500|  Petrol|Automatic| 5928000|     SUV|\n",
      "|      Lincoln|2019|Nigerian Used|     35976|      2000|  Petrol|Automatic|17850000|     SUV|\n",
      "|   Land Rover|2008|Nigerian Used|    178780|      4700|  Petrol|Automatic| 3150000|     SUV|\n",
      "|        Lexus|2007|Nigerian Used|    220726|      3500|  Petrol|Automatic| 4680000|     SUV|\n",
      "|        Mazda|2010|Nigerian Used|    322717|      2500|  Petrol|Automatic| 2100000|     SUV|\n",
      "|        Lexus|2008| Foreign Used|    149092|      3500|  Petrol|Automatic| 5145000|     SUV|\n",
      "|      Hyundai|2010|Nigerian Used|    262797|      3800|  Petrol|Automatic| 2677500|     SUV|\n",
      "|       Toyota|2001|Nigerian Used|    119510|      3000|  Petrol|Automatic| 1352000|     SUV|\n",
      "|Mercedes-Benz|2007|Nigerian Used|      1966|        35|  Petrol|Automatic| 5720000|     SUV|\n",
      "|       Toyota|2002| Foreign Used|    125606|      2000|  Petrol|Automatic| 3255000|     SUV|\n",
      "|          Kia|2013|Nigerian Used|    134013|      3800|  Petrol|Automatic| 4410000|     SUV|\n",
      "|        Honda|2003|Nigerian Used|    175567|      3500|  Petrol|Automatic| 1612000|     SUV|\n",
      "|       Nissan|2009|Nigerian Used|    213292|      3500|  Petrol|      CVT| 1575000|     SUV|\n",
      "|        Lexus|2005|Nigerian Used|    196345|      3300|  Petrol|Automatic| 3432000|     SUV|\n",
      "|       Toyota|2007|Nigerian Used|    213548|      3500|  Petrol|Automatic| 3328000|     SUV|\n",
      "|       Toyota|2009|Nigerian Used|     94618|      3500|  Petrol|Automatic| 4725000|     SUV|\n",
      "+-------------+----+-------------+----------+----------+--------+---------+--------+--------+\n",
      "only showing top 20 rows\n",
      "\n"
     ]
    }
   ],
   "source": [
    "df_pyspark_nig.show()"
   ]
  },
  {
   "cell_type": "markdown",
   "id": "2344fd6f",
   "metadata": {},
   "source": [
    "### Converting Money to Money USD"
   ]
  },
  {
   "cell_type": "code",
   "execution_count": 63,
   "id": "3bc554f8",
   "metadata": {},
   "outputs": [],
   "source": [
    "def MoneyUSD(df_pyspark_nig):\n",
    "    return df_pyspark_nig.withColumn(\"Money USD\", \\\n",
    "                                   df_pyspark_nig.Money * 0.0022 )\n",
    "df_pyspark_nig = df_pyspark_nig.transform(MoneyUSD)"
   ]
  },
  {
   "cell_type": "markdown",
   "id": "6fe3d2e4",
   "metadata": {},
   "source": [
    "##### Browsing selected columns to check data consistency"
   ]
  },
  {
   "cell_type": "code",
   "execution_count": 64,
   "id": "aa8d9573",
   "metadata": {},
   "outputs": [
    {
     "name": "stdout",
     "output_type": "stream",
     "text": [
      "+-------------+\n",
      "|Brand        |\n",
      "+-------------+\n",
      "|Volkswagen   |\n",
      "|Infiniti     |\n",
      "|Lexus        |\n",
      "|Rover        |\n",
      "|Jeep         |\n",
      "|Mitsubishi   |\n",
      "|Kia          |\n",
      "|Chevrolet    |\n",
      "|Volvo        |\n",
      "|Hyundai      |\n",
      "|Changan      |\n",
      "|Honda        |\n",
      "|SsangYong    |\n",
      "|Audi         |\n",
      "|Pontiac      |\n",
      "|Land Rover   |\n",
      "|Mercedes-Benz|\n",
      "|Renault      |\n",
      "|Lincoln      |\n",
      "|BMW          |\n",
      "|Suzuki       |\n",
      "|Acura        |\n",
      "|Opel         |\n",
      "|GMC          |\n",
      "|Hummer       |\n",
      "|Porsche      |\n",
      "|Toyota       |\n",
      "|Nissan       |\n",
      "|Mazda        |\n",
      "|Ford         |\n",
      "+-------------+\n",
      "\n"
     ]
    }
   ],
   "source": [
    "df_pyspark_nig.select(\"Brand\").distinct().show(35, truncate=False)"
   ]
  },
  {
   "cell_type": "markdown",
   "id": "25da774e",
   "metadata": {},
   "source": [
    "### Basic information after cleaning"
   ]
  },
  {
   "cell_type": "code",
   "execution_count": 65,
   "id": "b75a4d21",
   "metadata": {},
   "outputs": [
    {
     "name": "stdout",
     "output_type": "stream",
     "text": [
      "root\n",
      " |-- Brand: string (nullable = true)\n",
      " |-- Year: integer (nullable = true)\n",
      " |-- Condition: string (nullable = true)\n",
      " |-- Kilometres: integer (nullable = true)\n",
      " |-- EngineSize: integer (nullable = true)\n",
      " |-- FuelType: string (nullable = true)\n",
      " |-- Gear: string (nullable = true)\n",
      " |-- Money: integer (nullable = true)\n",
      " |-- BodyType: string (nullable = true)\n",
      " |-- Money USD: double (nullable = true)\n",
      "\n"
     ]
    }
   ],
   "source": [
    "df_pyspark_nig.printSchema()"
   ]
  },
  {
   "cell_type": "code",
   "execution_count": 66,
   "id": "4275a82e",
   "metadata": {},
   "outputs": [
    {
     "name": "stdout",
     "output_type": "stream",
     "text": [
      "+-------------+----+-------------+----------+----------+--------+---------+--------+--------+-----------------+\n",
      "|        Brand|Year|    Condition|Kilometres|EngineSize|FuelType|     Gear|   Money|BodyType|        Money USD|\n",
      "+-------------+----+-------------+----------+----------+--------+---------+--------+--------+-----------------+\n",
      "|Mercedes-Benz|2013| Foreign Used|    104536|      3500|  Petrol|Automatic|14352000|     SUV|          31574.4|\n",
      "|        Honda|2011| Foreign Used|      3621|      3500|  Petrol|Automatic| 6240000|     SUV|          13728.0|\n",
      "|       Toyota|2007|Nigerian Used|    223493|      3500|  Hybrid|Automatic| 2100000|     SUV|           4620.0|\n",
      "|       Toyota|2003|Nigerian Used|    367531|      4000|  Petrol|Automatic| 2137500|     SUV|           4702.5|\n",
      "|        Lexus|2007| Foreign Used|    104138|      3500|  Petrol|Automatic| 5928000|     SUV|          13041.6|\n",
      "|      Lincoln|2019|Nigerian Used|     35976|      2000|  Petrol|Automatic|17850000|     SUV|          39270.0|\n",
      "|   Land Rover|2008|Nigerian Used|    178780|      4700|  Petrol|Automatic| 3150000|     SUV|           6930.0|\n",
      "|        Lexus|2007|Nigerian Used|    220726|      3500|  Petrol|Automatic| 4680000|     SUV|          10296.0|\n",
      "|        Mazda|2010|Nigerian Used|    322717|      2500|  Petrol|Automatic| 2100000|     SUV|           4620.0|\n",
      "|        Lexus|2008| Foreign Used|    149092|      3500|  Petrol|Automatic| 5145000|     SUV|          11319.0|\n",
      "|      Hyundai|2010|Nigerian Used|    262797|      3800|  Petrol|Automatic| 2677500|     SUV|           5890.5|\n",
      "|       Toyota|2001|Nigerian Used|    119510|      3000|  Petrol|Automatic| 1352000|     SUV|           2974.4|\n",
      "|Mercedes-Benz|2007|Nigerian Used|      1966|        35|  Petrol|Automatic| 5720000|     SUV|          12584.0|\n",
      "|       Toyota|2002| Foreign Used|    125606|      2000|  Petrol|Automatic| 3255000|     SUV|           7161.0|\n",
      "|          Kia|2013|Nigerian Used|    134013|      3800|  Petrol|Automatic| 4410000|     SUV|           9702.0|\n",
      "|        Honda|2003|Nigerian Used|    175567|      3500|  Petrol|Automatic| 1612000|     SUV|           3546.4|\n",
      "|       Nissan|2009|Nigerian Used|    213292|      3500|  Petrol|      CVT| 1575000|     SUV|           3465.0|\n",
      "|        Lexus|2005|Nigerian Used|    196345|      3300|  Petrol|Automatic| 3432000|     SUV|7550.400000000001|\n",
      "|       Toyota|2007|Nigerian Used|    213548|      3500|  Petrol|Automatic| 3328000|     SUV|           7321.6|\n",
      "|       Toyota|2009|Nigerian Used|     94618|      3500|  Petrol|Automatic| 4725000|     SUV|          10395.0|\n",
      "+-------------+----+-------------+----------+----------+--------+---------+--------+--------+-----------------+\n",
      "only showing top 20 rows\n",
      "\n"
     ]
    }
   ],
   "source": [
    "df_pyspark_nig.show()"
   ]
  },
  {
   "cell_type": "markdown",
   "id": "2865de24",
   "metadata": {},
   "source": [
    "## df_pyspark_pol"
   ]
  },
  {
   "cell_type": "code",
   "execution_count": 67,
   "id": "677e7d23",
   "metadata": {},
   "outputs": [
    {
     "name": "stdout",
     "output_type": "stream",
     "text": [
      "+---+----+-----+---------------+----+-------+----------+------+---------------+-------------------+-----+\n",
      "|_c0|mark|model|generation_name|year|mileage|vol_engine|  fuel|           city|           province|price|\n",
      "+---+----+-----+---------------+----+-------+----------+------+---------------+-------------------+-----+\n",
      "|  0|opel|combo|     gen-d-2011|2015| 139568|      1248|Diesel|          Janki|        Mazowieckie|35900|\n",
      "|  1|opel|combo|     gen-d-2011|2018|  31991|      1499|Diesel|       Katowice|            Śląskie|78501|\n",
      "|  2|opel|combo|     gen-d-2011|2015| 278437|      1598|Diesel|          Brzeg|           Opolskie|27000|\n",
      "|  3|opel|combo|     gen-d-2011|2016|  47600|      1248|Diesel|      Korfantów|           Opolskie|30800|\n",
      "|  4|opel|combo|     gen-d-2011|2014| 103000|      1400|   CNG|Tarnowskie Góry|            Śląskie|35900|\n",
      "|  5|opel|combo|     gen-d-2011|2017| 121203|      1598|Diesel|       Warszawa|        Mazowieckie|51900|\n",
      "|  6|opel|combo|     gen-d-2011|2017| 119965|      1248|Diesel|        Wrocław|       Dolnośląskie|44700|\n",
      "|  7|opel|combo|     gen-d-2011|2016| 201658|      1248|Diesel|         Lublin|          Lubelskie|29000|\n",
      "|  8|opel|combo|     gen-d-2011|2014| 178666|      1598|Diesel|         Złotów|      Wielkopolskie|28900|\n",
      "|  9|opel|combo|     gen-d-2011|2015| 113000|      1248|Diesel|       Strzyżew|        Mazowieckie|34900|\n",
      "| 10|opel|combo|     gen-d-2011|2012| 237000|      1598|Diesel|         Elbląg|Warmińsko-mazurskie|24800|\n",
      "| 11|opel|combo|     gen-d-2011|2017| 137000|      1248|Diesel|       Warszawa|        Mazowieckie|39900|\n",
      "| 12|opel|combo|     gen-d-2011|2016| 154000|      1248|Diesel|      Sosnowiec|            Śląskie|35900|\n",
      "| 13|opel|combo|     gen-d-2011|2017|  59339|      1248|Diesel|        Wrocław|       Dolnośląskie|55300|\n",
      "| 14|opel|combo|     gen-d-2011|2016| 137445|      1598|Diesel|          Opole|           Opolskie|34700|\n",
      "| 15|opel|combo|     gen-d-2011|2016| 141859|      1248|Diesel|       Katowice|            Śląskie|39900|\n",
      "| 16|opel|combo|     gen-d-2011|2012| 195000|      1598|Diesel|          Radom|        Mazowieckie|25900|\n",
      "| 17|opel|combo|     gen-d-2011|2015| 180000|      1598|Diesel|       Chmieleń|       Dolnośląskie|32900|\n",
      "| 18|opel|combo|     gen-d-2011|2018| 107515|      1499|Diesel|      Piaseczno|        Mazowieckie|62000|\n",
      "| 19|opel|combo|     gen-d-2011|2017| 149000|      1598|Diesel|  Góra Kalwaria|        Mazowieckie|39852|\n",
      "+---+----+-----+---------------+----+-------+----------+------+---------------+-------------------+-----+\n",
      "only showing top 20 rows\n",
      "\n"
     ]
    }
   ],
   "source": [
    "df_pyspark_pol.show()"
   ]
  },
  {
   "cell_type": "markdown",
   "id": "9e99010b",
   "metadata": {},
   "source": [
    "### Looking for null values in columns:"
   ]
  },
  {
   "cell_type": "code",
   "execution_count": 68,
   "id": "8d514af4",
   "metadata": {},
   "outputs": [
    {
     "name": "stdout",
     "output_type": "stream",
     "text": [
      "+---+----+-----+---------------+----+-------+----------+----+----+--------+-----+\n",
      "|_c0|mark|model|generation_name|year|mileage|vol_engine|fuel|city|province|price|\n",
      "+---+----+-----+---------------+----+-------+----------+----+----+--------+-----+\n",
      "|  0|   0|    0|          30085|   0|      0|         0|   0|   0|       0|    0|\n",
      "+---+----+-----+---------------+----+-------+----------+----+----+--------+-----+\n",
      "\n"
     ]
    }
   ],
   "source": [
    "df_pyspark_pol.select([count(when(isnan(c) | col(c).isNull(), c)).alias(c) for c in df_pyspark_pol.columns]).show()"
   ]
  },
  {
   "cell_type": "markdown",
   "id": "285dd1d3",
   "metadata": {},
   "source": [
    "#### Browsing null values "
   ]
  },
  {
   "cell_type": "code",
   "execution_count": 69,
   "id": "675e3d89",
   "metadata": {},
   "outputs": [
    {
     "name": "stdout",
     "output_type": "stream",
     "text": [
      "+---+----+-----+---------------+----+-------+----------+--------+--------------+-----------+-----+\n",
      "|_c0|mark|model|generation_name|year|mileage|vol_engine|    fuel|          city|   province|price|\n",
      "+---+----+-----+---------------+----+-------+----------+--------+--------------+-----------+-----+\n",
      "|189|opel| adam|           null|2013| 101514|      1398|Gasoline|      Warszawa|Mazowieckie|29900|\n",
      "|190|opel| adam|           null|2014|  98317|      1398|     LPG|         Janki|Mazowieckie|36900|\n",
      "|191|opel| adam|           null|2017|  96511|      1364|Gasoline|      Warszawa|Mazowieckie|48900|\n",
      "|192|opel| adam|           null|2013| 141399|      1398|Gasoline|      Warszawa|Mazowieckie|31300|\n",
      "|193|opel| adam|           null|2014|  60936|      1398|Gasoline|      Warszawa|Mazowieckie|40900|\n",
      "|194|opel| adam|           null|2015|  72279|       999|Gasoline|        Lublin|  Lubelskie|43500|\n",
      "|195|opel| adam|           null|2015|  91773|      1398|Gasoline|      Katowice|    Śląskie|35700|\n",
      "|196|opel| adam|           null|2018|  34000|      1398|Gasoline|      Złotniki|   Opolskie|43500|\n",
      "|197|opel| adam|           null|2014| 100053|      1398|Gasoline|       Leoncin|Mazowieckie|31500|\n",
      "|198|opel| adam|           null|2014| 109330|      1398|Gasoline|      Warszawa|Mazowieckie|32500|\n",
      "|199|opel| adam|           null|2014| 121311|      1398|Gasoline|      Warszawa|Mazowieckie|33500|\n",
      "|200|opel| adam|           null|2013|  91512|      1398|Gasoline|      Warszawa|Mazowieckie|32900|\n",
      "|201|opel| adam|           null|2018|   8049|      1398|Gasoline|      Warszawa|Mazowieckie|46600|\n",
      "|202|opel| adam|           null|2014|  81932|      1229|Gasoline|        Lublin|  Lubelskie|27900|\n",
      "|203|opel| adam|           null|2015|  95988|       999|Gasoline|      Katowice|    Śląskie|41500|\n",
      "|204|opel| adam|           null|2017|  91955|      1229|Gasoline|      Warszawa|Mazowieckie|36500|\n",
      "|205|opel| adam|           null|2015|  39007|      1398|Gasoline|      Warszawa|Mazowieckie|38900|\n",
      "|206|opel| adam|           null|2015| 106000|       999|Gasoline|          Łódź|    Łódzkie|38000|\n",
      "|207|opel| adam|           null|2015|  91000|      1229|Gasoline|Biała Podlaska|  Lubelskie|35300|\n",
      "|208|opel| adam|           null|2018|  37000|      1229|Gasoline|       Gliwice|    Śląskie|37900|\n",
      "+---+----+-----+---------------+----+-------+----------+--------+--------------+-----------+-----+\n",
      "only showing top 20 rows\n",
      "\n"
     ]
    }
   ],
   "source": [
    "df_pyspark_pol.filter(col(\"generation_name\").isNull()).show()"
   ]
  },
  {
   "cell_type": "code",
   "execution_count": 70,
   "id": "ff366526",
   "metadata": {},
   "outputs": [],
   "source": [
    "df_pyspark_pol = df_pyspark_pol.na.fill(\"Not Available\",[\"generation_name\"])"
   ]
  },
  {
   "cell_type": "markdown",
   "id": "404feeb1",
   "metadata": {},
   "source": [
    "#### Verifying if all null values are removed:"
   ]
  },
  {
   "cell_type": "code",
   "execution_count": 71,
   "id": "48ea5040",
   "metadata": {},
   "outputs": [
    {
     "name": "stdout",
     "output_type": "stream",
     "text": [
      "+---+----+-----+---------------+----+-------+----------+----+----+--------+-----+\n",
      "|_c0|mark|model|generation_name|year|mileage|vol_engine|fuel|city|province|price|\n",
      "+---+----+-----+---------------+----+-------+----------+----+----+--------+-----+\n",
      "|  0|   0|    0|              0|   0|      0|         0|   0|   0|       0|    0|\n",
      "+---+----+-----+---------------+----+-------+----------+----+----+--------+-----+\n",
      "\n"
     ]
    }
   ],
   "source": [
    "df_pyspark_pol.select([count(when(isnan(c) | col(c).isNull(), c)).alias(c) for c in df_pyspark_pol.columns]).show()"
   ]
  },
  {
   "cell_type": "markdown",
   "id": "0515558e",
   "metadata": {},
   "source": [
    "### Looking for duplicate values in columns:"
   ]
  },
  {
   "cell_type": "code",
   "execution_count": 72,
   "id": "28aa17cf",
   "metadata": {},
   "outputs": [
    {
     "name": "stdout",
     "output_type": "stream",
     "text": [
      "Distinct Count of rows in dataframe: 117927\n"
     ]
    }
   ],
   "source": [
    "print(\"Distinct Count of rows in dataframe: \" + str(df_pyspark_pol.distinct().count()))"
   ]
  },
  {
   "cell_type": "code",
   "execution_count": 73,
   "id": "2009574e",
   "metadata": {},
   "outputs": [
    {
     "name": "stdout",
     "output_type": "stream",
     "text": [
      "Count of rows in dataframe: 117927\n"
     ]
    }
   ],
   "source": [
    "print(\"Count of rows in dataframe: \" + str(df_pyspark_pol.count()))"
   ]
  },
  {
   "cell_type": "markdown",
   "id": "76fd5e01",
   "metadata": {},
   "source": [
    "### Changing the name of columns"
   ]
  },
  {
   "cell_type": "code",
   "execution_count": 74,
   "id": "44249c3d",
   "metadata": {},
   "outputs": [
    {
     "data": {
      "text/plain": [
       "['_c0',\n",
       " 'mark',\n",
       " 'model',\n",
       " 'generation_name',\n",
       " 'year',\n",
       " 'mileage',\n",
       " 'vol_engine',\n",
       " 'fuel',\n",
       " 'city',\n",
       " 'province',\n",
       " 'price']"
      ]
     },
     "execution_count": 74,
     "metadata": {},
     "output_type": "execute_result"
    }
   ],
   "source": [
    "df_pyspark_pol.columns"
   ]
  },
  {
   "cell_type": "code",
   "execution_count": 75,
   "id": "c69b47cb",
   "metadata": {},
   "outputs": [],
   "source": [
    "df_pyspark_pol = df_pyspark_pol.drop(\"_c0\")"
   ]
  },
  {
   "cell_type": "code",
   "execution_count": 76,
   "id": "1df7a34e",
   "metadata": {},
   "outputs": [],
   "source": [
    "df_pyspark_pol = df_pyspark_pol.withColumnRenamed(\"mark\",\"Brand\") \\\n",
    "                                .withColumnRenamed(\"model\",\"Model\") \\\n",
    "                                .withColumnRenamed(\"generation_name\",\"GenerationName\") \\\n",
    "                                .withColumnRenamed(\"vol_engine\",\"EngineSize\") \\\n",
    "                                .withColumnRenamed(\"fuel\",\"FuelType\") \\\n",
    "                                .withColumnRenamed(\"city\",\"City\") \\\n",
    "                               .withColumnRenamed(\"year\",\"Year\") \\\n",
    "                                .withColumnRenamed(\"mileage\",\"Kilometers\") \\\n",
    "                                 .withColumnRenamed(\"province\",\"Province\") \\\n",
    "                                .withColumnRenamed(\"price\",\"Money\")"
   ]
  },
  {
   "cell_type": "code",
   "execution_count": 77,
   "id": "ff4f32a4",
   "metadata": {},
   "outputs": [
    {
     "name": "stdout",
     "output_type": "stream",
     "text": [
      "+-----+-----+--------------+----+----------+----------+--------+---------------+-------------------+-----+\n",
      "|Brand|Model|GenerationName|Year|Kilometers|EngineSize|FuelType|           City|           Province|Money|\n",
      "+-----+-----+--------------+----+----------+----------+--------+---------------+-------------------+-----+\n",
      "| opel|combo|    gen-d-2011|2015|    139568|      1248|  Diesel|          Janki|        Mazowieckie|35900|\n",
      "| opel|combo|    gen-d-2011|2018|     31991|      1499|  Diesel|       Katowice|            Śląskie|78501|\n",
      "| opel|combo|    gen-d-2011|2015|    278437|      1598|  Diesel|          Brzeg|           Opolskie|27000|\n",
      "| opel|combo|    gen-d-2011|2016|     47600|      1248|  Diesel|      Korfantów|           Opolskie|30800|\n",
      "| opel|combo|    gen-d-2011|2014|    103000|      1400|     CNG|Tarnowskie Góry|            Śląskie|35900|\n",
      "| opel|combo|    gen-d-2011|2017|    121203|      1598|  Diesel|       Warszawa|        Mazowieckie|51900|\n",
      "| opel|combo|    gen-d-2011|2017|    119965|      1248|  Diesel|        Wrocław|       Dolnośląskie|44700|\n",
      "| opel|combo|    gen-d-2011|2016|    201658|      1248|  Diesel|         Lublin|          Lubelskie|29000|\n",
      "| opel|combo|    gen-d-2011|2014|    178666|      1598|  Diesel|         Złotów|      Wielkopolskie|28900|\n",
      "| opel|combo|    gen-d-2011|2015|    113000|      1248|  Diesel|       Strzyżew|        Mazowieckie|34900|\n",
      "| opel|combo|    gen-d-2011|2012|    237000|      1598|  Diesel|         Elbląg|Warmińsko-mazurskie|24800|\n",
      "| opel|combo|    gen-d-2011|2017|    137000|      1248|  Diesel|       Warszawa|        Mazowieckie|39900|\n",
      "| opel|combo|    gen-d-2011|2016|    154000|      1248|  Diesel|      Sosnowiec|            Śląskie|35900|\n",
      "| opel|combo|    gen-d-2011|2017|     59339|      1248|  Diesel|        Wrocław|       Dolnośląskie|55300|\n",
      "| opel|combo|    gen-d-2011|2016|    137445|      1598|  Diesel|          Opole|           Opolskie|34700|\n",
      "| opel|combo|    gen-d-2011|2016|    141859|      1248|  Diesel|       Katowice|            Śląskie|39900|\n",
      "| opel|combo|    gen-d-2011|2012|    195000|      1598|  Diesel|          Radom|        Mazowieckie|25900|\n",
      "| opel|combo|    gen-d-2011|2015|    180000|      1598|  Diesel|       Chmieleń|       Dolnośląskie|32900|\n",
      "| opel|combo|    gen-d-2011|2018|    107515|      1499|  Diesel|      Piaseczno|        Mazowieckie|62000|\n",
      "| opel|combo|    gen-d-2011|2017|    149000|      1598|  Diesel|  Góra Kalwaria|        Mazowieckie|39852|\n",
      "+-----+-----+--------------+----+----------+----------+--------+---------------+-------------------+-----+\n",
      "only showing top 20 rows\n",
      "\n"
     ]
    }
   ],
   "source": [
    "df_pyspark_pol.show()"
   ]
  },
  {
   "cell_type": "markdown",
   "id": "40a39f73",
   "metadata": {},
   "source": [
    "#### Capitalizing the first letter"
   ]
  },
  {
   "cell_type": "code",
   "execution_count": 78,
   "id": "b10454d8",
   "metadata": {},
   "outputs": [],
   "source": [
    "def to_capitalize_first_letter(df_pyspark_pol):\n",
    "    return df_pyspark_pol.withColumn(\"Brand\", initcap(col('Brand'))) \\\n",
    "                .withColumn(\"Model\", initcap(col('Model'))) \\\n",
    "                 .withColumn(\"GenerationName\", initcap(col('GenerationName')))\n"
   ]
  },
  {
   "cell_type": "code",
   "execution_count": 79,
   "id": "15e09863",
   "metadata": {},
   "outputs": [],
   "source": [
    "df_pyspark_pol = df_pyspark_pol.transform(to_capitalize_first_letter)"
   ]
  },
  {
   "cell_type": "code",
   "execution_count": 80,
   "id": "7c830fbe",
   "metadata": {
    "scrolled": true
   },
   "outputs": [
    {
     "name": "stdout",
     "output_type": "stream",
     "text": [
      "+-----+-----+--------------+----+----------+----------+--------+---------------+-------------------+-----+\n",
      "|Brand|Model|GenerationName|Year|Kilometers|EngineSize|FuelType|           City|           Province|Money|\n",
      "+-----+-----+--------------+----+----------+----------+--------+---------------+-------------------+-----+\n",
      "| Opel|Combo|    Gen-d-2011|2015|    139568|      1248|  Diesel|          Janki|        Mazowieckie|35900|\n",
      "| Opel|Combo|    Gen-d-2011|2018|     31991|      1499|  Diesel|       Katowice|            Śląskie|78501|\n",
      "| Opel|Combo|    Gen-d-2011|2015|    278437|      1598|  Diesel|          Brzeg|           Opolskie|27000|\n",
      "| Opel|Combo|    Gen-d-2011|2016|     47600|      1248|  Diesel|      Korfantów|           Opolskie|30800|\n",
      "| Opel|Combo|    Gen-d-2011|2014|    103000|      1400|     CNG|Tarnowskie Góry|            Śląskie|35900|\n",
      "| Opel|Combo|    Gen-d-2011|2017|    121203|      1598|  Diesel|       Warszawa|        Mazowieckie|51900|\n",
      "| Opel|Combo|    Gen-d-2011|2017|    119965|      1248|  Diesel|        Wrocław|       Dolnośląskie|44700|\n",
      "| Opel|Combo|    Gen-d-2011|2016|    201658|      1248|  Diesel|         Lublin|          Lubelskie|29000|\n",
      "| Opel|Combo|    Gen-d-2011|2014|    178666|      1598|  Diesel|         Złotów|      Wielkopolskie|28900|\n",
      "| Opel|Combo|    Gen-d-2011|2015|    113000|      1248|  Diesel|       Strzyżew|        Mazowieckie|34900|\n",
      "| Opel|Combo|    Gen-d-2011|2012|    237000|      1598|  Diesel|         Elbląg|Warmińsko-mazurskie|24800|\n",
      "| Opel|Combo|    Gen-d-2011|2017|    137000|      1248|  Diesel|       Warszawa|        Mazowieckie|39900|\n",
      "| Opel|Combo|    Gen-d-2011|2016|    154000|      1248|  Diesel|      Sosnowiec|            Śląskie|35900|\n",
      "| Opel|Combo|    Gen-d-2011|2017|     59339|      1248|  Diesel|        Wrocław|       Dolnośląskie|55300|\n",
      "| Opel|Combo|    Gen-d-2011|2016|    137445|      1598|  Diesel|          Opole|           Opolskie|34700|\n",
      "| Opel|Combo|    Gen-d-2011|2016|    141859|      1248|  Diesel|       Katowice|            Śląskie|39900|\n",
      "| Opel|Combo|    Gen-d-2011|2012|    195000|      1598|  Diesel|          Radom|        Mazowieckie|25900|\n",
      "| Opel|Combo|    Gen-d-2011|2015|    180000|      1598|  Diesel|       Chmieleń|       Dolnośląskie|32900|\n",
      "| Opel|Combo|    Gen-d-2011|2018|    107515|      1499|  Diesel|      Piaseczno|        Mazowieckie|62000|\n",
      "| Opel|Combo|    Gen-d-2011|2017|    149000|      1598|  Diesel|  Góra Kalwaria|        Mazowieckie|39852|\n",
      "+-----+-----+--------------+----+----------+----------+--------+---------------+-------------------+-----+\n",
      "only showing top 20 rows\n",
      "\n"
     ]
    }
   ],
   "source": [
    "df_pyspark_pol.show()"
   ]
  },
  {
   "cell_type": "markdown",
   "id": "bd656a68",
   "metadata": {},
   "source": [
    "#### Cleaning Province"
   ]
  },
  {
   "cell_type": "code",
   "execution_count": 81,
   "id": "65c24edd",
   "metadata": {},
   "outputs": [
    {
     "name": "stdout",
     "output_type": "stream",
     "text": [
      "+------------------------+\n",
      "|Province                |\n",
      "+------------------------+\n",
      "|Podkarpackie            |\n",
      "|Niedersachsen           |\n",
      "|Moravian-Silesian Region|\n",
      "|Lubelskie               |\n",
      "|Berlin                  |\n",
      "|Mazowieckie             |\n",
      "|Dolnośląskie            |\n",
      "|Wielkopolskie           |\n",
      "|Podlaskie               |\n",
      "|Pomorskie               |\n",
      "|Lubuskie                |\n",
      "|Małopolskie             |\n",
      "|Łódzkie                 |\n",
      "|Śląskie                 |\n",
      "|Zachodniopomorskie      |\n",
      "|Wiedeń                  |\n",
      "|Opolskie                |\n",
      "|Świętokrzyskie          |\n",
      "|Kujawsko-pomorskie      |\n",
      "|Warmińsko-mazurskie     |\n",
      "|(                       |\n",
      "|Trenczyn                |\n",
      "|Nordrhein-Westfalen     |\n",
      "+------------------------+\n",
      "\n"
     ]
    }
   ],
   "source": [
    "df_pyspark_pol.select(\"Province\").distinct().show(35, truncate=False)"
   ]
  },
  {
   "cell_type": "code",
   "execution_count": 82,
   "id": "244f9652",
   "metadata": {},
   "outputs": [],
   "source": [
    "Province = ['Niedersachsen','Niedersachsen','Berlin','Wiedeń','(','Trenczyn','Nordrhein-Westfalen','Moravian-Silesian Region']\n",
    "df_pyspark_pol = df_pyspark_pol.filter(~df_pyspark_pol['Province'].isin(Province))"
   ]
  },
  {
   "cell_type": "markdown",
   "id": "d3304f7a",
   "metadata": {},
   "source": [
    "#### Veryfing if it works properly:"
   ]
  },
  {
   "cell_type": "code",
   "execution_count": 83,
   "id": "92621001",
   "metadata": {
    "scrolled": true
   },
   "outputs": [
    {
     "name": "stdout",
     "output_type": "stream",
     "text": [
      "+-------------------+\n",
      "|Province           |\n",
      "+-------------------+\n",
      "|Podkarpackie       |\n",
      "|Lubelskie          |\n",
      "|Mazowieckie        |\n",
      "|Dolnośląskie       |\n",
      "|Wielkopolskie      |\n",
      "|Podlaskie          |\n",
      "|Pomorskie          |\n",
      "|Lubuskie           |\n",
      "|Małopolskie        |\n",
      "|Łódzkie            |\n",
      "|Śląskie            |\n",
      "|Zachodniopomorskie |\n",
      "|Opolskie           |\n",
      "|Świętokrzyskie     |\n",
      "|Kujawsko-pomorskie |\n",
      "|Warmińsko-mazurskie|\n",
      "+-------------------+\n",
      "\n"
     ]
    }
   ],
   "source": [
    "df_pyspark_pol.select(\"Province\").distinct().show(35, truncate=False)"
   ]
  },
  {
   "cell_type": "markdown",
   "id": "f96d897d",
   "metadata": {},
   "source": [
    "##### Browsing selected columns to check data consistency"
   ]
  },
  {
   "cell_type": "code",
   "execution_count": 84,
   "id": "0f09256e",
   "metadata": {},
   "outputs": [],
   "source": [
    "df_pyspark_pol = df_pyspark_pol.withColumn(\"Brand\", when(df_pyspark_pol['Brand'] == \"Bmw\", \"BMW\")\n",
    "                                                    .when(df_pyspark_pol['Brand'] ==\"Alfa-romeo\",\"Alfa-Romeo\")\n",
    "                                                    .when(df_pyspark_pol['Brand'] ==\"Mercedes-benz\",\"Mercedes-Benz\")\n",
    "                                                    .otherwise(df_pyspark_pol['Brand']))"
   ]
  },
  {
   "cell_type": "code",
   "execution_count": 85,
   "id": "b0a6a806",
   "metadata": {},
   "outputs": [
    {
     "name": "stdout",
     "output_type": "stream",
     "text": [
      "+-------------+\n",
      "|Brand        |\n",
      "+-------------+\n",
      "|Volkswagen   |\n",
      "|Audi         |\n",
      "|BMW          |\n",
      "|Opel         |\n",
      "|Ford         |\n",
      "|Kia          |\n",
      "|Chevrolet    |\n",
      "|Hyundai      |\n",
      "|Honda        |\n",
      "|Mercedes-Benz|\n",
      "|Renault      |\n",
      "|Alfa-Romeo   |\n",
      "|Citroen      |\n",
      "|Skoda        |\n",
      "|Toyota       |\n",
      "|Mazda        |\n",
      "|Fiat         |\n",
      "|Peugeot      |\n",
      "|Mitsubishi   |\n",
      "|Mini         |\n",
      "|Volvo        |\n",
      "|Seat         |\n",
      "|Nissan       |\n",
      "+-------------+\n",
      "\n"
     ]
    }
   ],
   "source": [
    "df_pyspark_pol.select(\"Brand\").distinct().show(35,truncate=False)"
   ]
  },
  {
   "cell_type": "code",
   "execution_count": 86,
   "id": "7e8d4c10",
   "metadata": {},
   "outputs": [
    {
     "name": "stdout",
     "output_type": "stream",
     "text": [
      "+-----+-----+--------------+----+----------+----------+--------+---------------+-------------------+-----+\n",
      "|Brand|Model|GenerationName|Year|Kilometers|EngineSize|FuelType|           City|           Province|Money|\n",
      "+-----+-----+--------------+----+----------+----------+--------+---------------+-------------------+-----+\n",
      "| Opel|Combo|    Gen-d-2011|2015|    139568|      1248|  Diesel|          Janki|        Mazowieckie|35900|\n",
      "| Opel|Combo|    Gen-d-2011|2018|     31991|      1499|  Diesel|       Katowice|            Śląskie|78501|\n",
      "| Opel|Combo|    Gen-d-2011|2015|    278437|      1598|  Diesel|          Brzeg|           Opolskie|27000|\n",
      "| Opel|Combo|    Gen-d-2011|2016|     47600|      1248|  Diesel|      Korfantów|           Opolskie|30800|\n",
      "| Opel|Combo|    Gen-d-2011|2014|    103000|      1400|     CNG|Tarnowskie Góry|            Śląskie|35900|\n",
      "| Opel|Combo|    Gen-d-2011|2017|    121203|      1598|  Diesel|       Warszawa|        Mazowieckie|51900|\n",
      "| Opel|Combo|    Gen-d-2011|2017|    119965|      1248|  Diesel|        Wrocław|       Dolnośląskie|44700|\n",
      "| Opel|Combo|    Gen-d-2011|2016|    201658|      1248|  Diesel|         Lublin|          Lubelskie|29000|\n",
      "| Opel|Combo|    Gen-d-2011|2014|    178666|      1598|  Diesel|         Złotów|      Wielkopolskie|28900|\n",
      "| Opel|Combo|    Gen-d-2011|2015|    113000|      1248|  Diesel|       Strzyżew|        Mazowieckie|34900|\n",
      "| Opel|Combo|    Gen-d-2011|2012|    237000|      1598|  Diesel|         Elbląg|Warmińsko-mazurskie|24800|\n",
      "| Opel|Combo|    Gen-d-2011|2017|    137000|      1248|  Diesel|       Warszawa|        Mazowieckie|39900|\n",
      "| Opel|Combo|    Gen-d-2011|2016|    154000|      1248|  Diesel|      Sosnowiec|            Śląskie|35900|\n",
      "| Opel|Combo|    Gen-d-2011|2017|     59339|      1248|  Diesel|        Wrocław|       Dolnośląskie|55300|\n",
      "| Opel|Combo|    Gen-d-2011|2016|    137445|      1598|  Diesel|          Opole|           Opolskie|34700|\n",
      "| Opel|Combo|    Gen-d-2011|2016|    141859|      1248|  Diesel|       Katowice|            Śląskie|39900|\n",
      "| Opel|Combo|    Gen-d-2011|2012|    195000|      1598|  Diesel|          Radom|        Mazowieckie|25900|\n",
      "| Opel|Combo|    Gen-d-2011|2015|    180000|      1598|  Diesel|       Chmieleń|       Dolnośląskie|32900|\n",
      "| Opel|Combo|    Gen-d-2011|2018|    107515|      1499|  Diesel|      Piaseczno|        Mazowieckie|62000|\n",
      "| Opel|Combo|    Gen-d-2011|2017|    149000|      1598|  Diesel|  Góra Kalwaria|        Mazowieckie|39852|\n",
      "+-----+-----+--------------+----+----------+----------+--------+---------------+-------------------+-----+\n",
      "only showing top 20 rows\n",
      "\n"
     ]
    }
   ],
   "source": [
    "df_pyspark_pol.show()"
   ]
  },
  {
   "cell_type": "markdown",
   "id": "648fcae4",
   "metadata": {},
   "source": [
    "### Basic information after cleaning"
   ]
  },
  {
   "cell_type": "code",
   "execution_count": 87,
   "id": "dd685e3d",
   "metadata": {},
   "outputs": [
    {
     "name": "stdout",
     "output_type": "stream",
     "text": [
      "root\n",
      " |-- Brand: string (nullable = true)\n",
      " |-- Model: string (nullable = true)\n",
      " |-- GenerationName: string (nullable = false)\n",
      " |-- Year: integer (nullable = true)\n",
      " |-- Kilometers: integer (nullable = true)\n",
      " |-- EngineSize: integer (nullable = true)\n",
      " |-- FuelType: string (nullable = true)\n",
      " |-- City: string (nullable = true)\n",
      " |-- Province: string (nullable = true)\n",
      " |-- Money: integer (nullable = true)\n",
      "\n"
     ]
    }
   ],
   "source": [
    "df_pyspark_pol.printSchema()"
   ]
  },
  {
   "cell_type": "markdown",
   "id": "8e894f9d",
   "metadata": {},
   "source": [
    "## df_pyspark_usa"
   ]
  },
  {
   "cell_type": "code",
   "execution_count": 88,
   "id": "a36deccb",
   "metadata": {},
   "outputs": [
    {
     "name": "stdout",
     "output_type": "stream",
     "text": [
      "+----+---------+----------+----------+----------+------------+----------+-----+---------+--------+------+--------+----------+-----+------------+----------+\n",
      "|year|     make|     model|      trim|      body|transmission|       vin|state|condition|odometer| color|interior|    seller|  mmr|sellingprice|  saledate|\n",
      "+----+---------+----------+----------+----------+------------+----------+-----+---------+--------+------+--------+----------+-----+------------+----------+\n",
      "|2015|      Kia|   Sorento|        LX|       SUV|   automatic|5xyktca...|   ca|        5| 16639.0| white|   black|kia mot...|20500|       21500|Tue Dec...|\n",
      "|2015|      Kia|   Sorento|        LX|       SUV|   automatic|5xyktca...|   ca|        5|  9393.0| white|   beige|kia mot...|20800|       21500|Tue Dec...|\n",
      "|2014|      BMW|  3 Series|328i SULEV|     Sedan|   automatic|wba3c1c...|   ca|      4.5|  1331.0|  gray|   black|financi...|31900|       30000|Thu Jan...|\n",
      "|2015|    Volvo|       S60|        T5|     Sedan|   automatic|yv1612t...|   ca|      4.1| 14282.0| white|   black|volvo n...|27500|       27750|Thu Jan...|\n",
      "|2014|      BMW|6 Serie...|      650i|     Sedan|   automatic|wba6b2c...|   ca|      4.3|  2641.0|  gray|   black|financi...|66000|       67000|Thu Dec...|\n",
      "|2015|   Nissan|    Altima|     2.5 S|     Sedan|   automatic|1n4al3a...|   ca|        1|  5554.0|  gray|   black|enterpr...|15350|       10900|Tue Dec...|\n",
      "|2014|      BMW|        M5|      Base|     Sedan|   automatic|wbsfv9c...|   ca|      3.4| 14943.0| black|   black|the her...|69000|       65000|Wed Dec...|\n",
      "|2014|Chevrolet|     Cruze|       1LT|     Sedan|   automatic|1g1pc5s...|   ca|        2| 28617.0| black|   black|enterpr...|11900|        9800|Tue Dec...|\n",
      "|2014|     Audi|        A4|2.0T Pr...|     Sedan|   automatic|wauffaf...|   ca|      4.2|  9557.0| white|   black|audi mi...|32100|       32250|Thu Dec...|\n",
      "|2014|Chevrolet|    Camaro|        LT|Convert...|   automatic|2g1fb3d...|   ca|        3|  4809.0|   red|   black|d/m aut...|26300|       17500|Tue Jan...|\n",
      "|2014|     Audi|        A6|3.0T Pr...|     Sedan|   automatic|wauhgaf...|   ca|      4.8| 14414.0| black|   black|desert ...|47300|       49750|Tue Dec...|\n",
      "|2015|      Kia|    Optima|        LX|     Sedan|   automatic|5xxgm4a...|   ca|      4.8|  2034.0|   red|     tan|kia mot...|15150|       17700|Tue Dec...|\n",
      "|2015|     Ford|    Fusion|        SE|     Sedan|   automatic|3fa6p0h...|   ca|        2|  5559.0| white|   beige|enterpr...|15350|       12000|Tue Jan...|\n",
      "|2015|      Kia|   Sorento|        LX|       SUV|   automatic|5xyktca...|   ca|        5| 14634.0|silver|   black|kia mot...|20600|       21500|Tue Dec...|\n",
      "|2014|Chevrolet|     Cruze|       2LT|     Sedan|   automatic|1g1pe5s...|   ca|     null| 15686.0|  blue|   black|avis ra...|13900|       10600|Tue Dec...|\n",
      "|2015|   Nissan|    Altima|     2.5 S|     Sedan|   automatic|1n4al3a...|   ca|        2| 11398.0| black|   black|enterpr...|14750|       14100|Tue Dec...|\n",
      "|2015|  Hyundai|    Sonata|        SE|     Sedan|        null|5npe24a...|   ca|     null|  8311.0|   red|       —|  avis tra|15200|        4200|Tue Dec...|\n",
      "|2014|     Audi|        Q5|2.0T Pr...|       SUV|   automatic|wa1lfaf...|   ca|      4.9|  7983.0| white|   black|audi no...|37100|       40000|Thu Dec...|\n",
      "|2014|Chevrolet|    Camaro|        LS|     Coupe|   automatic|2g1fa1e...|   ca|      1.7| 13441.0| black|   black|wells f...|17750|       17000|Tue Dec...|\n",
      "|2014|      BMW|  6 Series|      650i|Convert...|   automatic|wbayp9c...|   ca|      3.4|  8819.0| black|   black|the her...|68000|       67200|Wed Dec...|\n",
      "+----+---------+----------+----------+----------+------------+----------+-----+---------+--------+------+--------+----------+-----+------------+----------+\n",
      "only showing top 20 rows\n",
      "\n"
     ]
    }
   ],
   "source": [
    "df_pyspark_usa.show(20,10)"
   ]
  },
  {
   "cell_type": "code",
   "execution_count": 89,
   "id": "94c8fb5f",
   "metadata": {},
   "outputs": [
    {
     "data": {
      "text/plain": [
       "['year',\n",
       " 'make',\n",
       " 'model',\n",
       " 'trim',\n",
       " 'body',\n",
       " 'transmission',\n",
       " 'vin',\n",
       " 'state',\n",
       " 'condition',\n",
       " 'odometer',\n",
       " 'color',\n",
       " 'interior',\n",
       " 'seller',\n",
       " 'mmr',\n",
       " 'sellingprice',\n",
       " 'saledate']"
      ]
     },
     "execution_count": 89,
     "metadata": {},
     "output_type": "execute_result"
    }
   ],
   "source": [
    "df_pyspark_usa.columns"
   ]
  },
  {
   "cell_type": "markdown",
   "id": "afda1a32",
   "metadata": {},
   "source": [
    "#### Dropping columns"
   ]
  },
  {
   "cell_type": "code",
   "execution_count": 90,
   "id": "9abe36f5",
   "metadata": {},
   "outputs": [],
   "source": [
    "cols ={\"model\",\"trim\",\"vin\",\"condition\",\"interior\",\"seller\",\"mmr\",\"saledate\"}\n",
    "df_pyspark_usa = df_pyspark_usa.drop(*cols)"
   ]
  },
  {
   "cell_type": "markdown",
   "id": "43c80566",
   "metadata": {},
   "source": [
    "### Looking for null values in columns:"
   ]
  },
  {
   "cell_type": "code",
   "execution_count": 91,
   "id": "19e5841f",
   "metadata": {},
   "outputs": [
    {
     "name": "stdout",
     "output_type": "stream",
     "text": [
      "+----+-----+-----+------------+-----+--------+-----+------------+\n",
      "|year| make| body|transmission|state|odometer|color|sellingprice|\n",
      "+----+-----+-----+------------+-----+--------+-----+------------+\n",
      "|   0|10301|13195|       65353|    0|      94|  749|           0|\n",
      "+----+-----+-----+------------+-----+--------+-----+------------+\n",
      "\n"
     ]
    }
   ],
   "source": [
    "df_pyspark_usa.select([count(when(isnan(c) | col(c).isNull(), c)).alias(c) for c in df_pyspark_usa.columns]).show()"
   ]
  },
  {
   "cell_type": "markdown",
   "id": "1871b514",
   "metadata": {},
   "source": [
    "#### Browsing NULL values"
   ]
  },
  {
   "cell_type": "code",
   "execution_count": 92,
   "id": "143c12ab",
   "metadata": {},
   "outputs": [
    {
     "name": "stdout",
     "output_type": "stream",
     "text": [
      "+----+-------------+-----------+------------+-----+--------+-----+------------+\n",
      "|year|         make|       body|transmission|state|odometer|color|sellingprice|\n",
      "+----+-------------+-----------+------------+-----+--------+-----+------------+\n",
      "|2013|Mercedes-Benz|        SUV|        null|   ca| 32532.0| null|       34500|\n",
      "|2012|Mercedes-Benz|        SUV|        null|   ca|     1.0| null|       18500|\n",
      "|2011|          BMW|      Sedan|   automatic|   ca| 26406.0| null|       42500|\n",
      "|2011|Mercedes-Benz|      Sedan|   automatic|   ca| 34961.0| null|       21500|\n",
      "|2011|Mercedes-Benz|      Sedan|   automatic|   ca| 27372.0| null|       30000|\n",
      "|2011|Mercedes-Benz|      Sedan|   automatic|   ca|  8120.0| null|       66000|\n",
      "|2010|       Subaru|        SUV|        null|   ca| 89565.0| null|       10000|\n",
      "|2007|          BMW|        SUV|        null|   ca|138993.0| null|       10400|\n",
      "|2007|     Cadillac|        SUV|        null|   ca|119045.0| null|       19500|\n",
      "|2007|       Nissan|      Sedan|   automatic|   ca| 97092.0| null|        3800|\n",
      "|2005|    Chevrolet|        SUV|        null|   ca|    null| null|       27500|\n",
      "|2005|      Mercury|      Sedan|        null|   ca| 92195.0| null|        3300|\n",
      "|2003|          BMW|      Sedan|        null|   ca|    null| null|        3700|\n",
      "|2002|       Toyota|  Hatchback|        null|   ca|162246.0| null|        1600|\n",
      "|1996|       Jaguar|      Sedan|        null|   ca| 82092.0| null|        4250|\n",
      "|1993|       Saturn|      Sedan|        null|   ca| 76047.0| null|         300|\n",
      "|2013|          BMW|      Sedan|   automatic|   ca| 49997.0| null|       24250|\n",
      "|2012|Mercedes-Benz|Convertible|   automatic|   ca| 11643.0| null|       42750|\n",
      "|2004|       subaru|       null|   automatic|   ca| 98656.0| null|        5600|\n",
      "|2003|       Toyota|        SUV|   automatic|   ca|174412.0| null|        4300|\n",
      "+----+-------------+-----------+------------+-----+--------+-----+------------+\n",
      "only showing top 20 rows\n",
      "\n"
     ]
    }
   ],
   "source": [
    "df_pyspark_usa.filter(col(\"color\").isNull()).show()"
   ]
  },
  {
   "cell_type": "markdown",
   "id": "5b8ed5bd",
   "metadata": {},
   "source": [
    "#### Removing NULL values"
   ]
  },
  {
   "cell_type": "code",
   "execution_count": 93,
   "id": "67f062bd",
   "metadata": {},
   "outputs": [],
   "source": [
    "df_pyspark_usa = df_pyspark_usa.na.drop(subset=[\"make\"])"
   ]
  },
  {
   "cell_type": "markdown",
   "id": "57073096",
   "metadata": {},
   "source": [
    "#### Filling NULL values"
   ]
  },
  {
   "cell_type": "code",
   "execution_count": 94,
   "id": "b00fd7f2",
   "metadata": {},
   "outputs": [],
   "source": [
    "df_pyspark_usa = df_pyspark_usa.na.fill(\"Not Available\",[\"body\"]) \\\n",
    "                    .na.fill(\"Not Available\",[\"transmission\"]) \\\n",
    "                    .na.fill(\"Not Available\",[\"color\"]) "
   ]
  },
  {
   "cell_type": "code",
   "execution_count": 95,
   "id": "909bdded",
   "metadata": {},
   "outputs": [
    {
     "name": "stdout",
     "output_type": "stream",
     "text": [
      "+----+---------+-----------+-------------+-----+--------+------+------------+\n",
      "|year|     make|       body| transmission|state|odometer| color|sellingprice|\n",
      "+----+---------+-----------+-------------+-----+--------+------+------------+\n",
      "|2015|      Kia|        SUV|    automatic|   ca| 16639.0| white|       21500|\n",
      "|2015|      Kia|        SUV|    automatic|   ca|  9393.0| white|       21500|\n",
      "|2014|      BMW|      Sedan|    automatic|   ca|  1331.0|  gray|       30000|\n",
      "|2015|    Volvo|      Sedan|    automatic|   ca| 14282.0| white|       27750|\n",
      "|2014|      BMW|      Sedan|    automatic|   ca|  2641.0|  gray|       67000|\n",
      "|2015|   Nissan|      Sedan|    automatic|   ca|  5554.0|  gray|       10900|\n",
      "|2014|      BMW|      Sedan|    automatic|   ca| 14943.0| black|       65000|\n",
      "|2014|Chevrolet|      Sedan|    automatic|   ca| 28617.0| black|        9800|\n",
      "|2014|     Audi|      Sedan|    automatic|   ca|  9557.0| white|       32250|\n",
      "|2014|Chevrolet|Convertible|    automatic|   ca|  4809.0|   red|       17500|\n",
      "|2014|     Audi|      Sedan|    automatic|   ca| 14414.0| black|       49750|\n",
      "|2015|      Kia|      Sedan|    automatic|   ca|  2034.0|   red|       17700|\n",
      "|2015|     Ford|      Sedan|    automatic|   ca|  5559.0| white|       12000|\n",
      "|2015|      Kia|        SUV|    automatic|   ca| 14634.0|silver|       21500|\n",
      "|2014|Chevrolet|      Sedan|    automatic|   ca| 15686.0|  blue|       10600|\n",
      "|2015|   Nissan|      Sedan|    automatic|   ca| 11398.0| black|       14100|\n",
      "|2015|  Hyundai|      Sedan|Not Available|   ca|  8311.0|   red|        4200|\n",
      "|2014|     Audi|        SUV|    automatic|   ca|  7983.0| white|       40000|\n",
      "|2014|Chevrolet|      Coupe|    automatic|   ca| 13441.0| black|       17000|\n",
      "|2014|      BMW|Convertible|    automatic|   ca|  8819.0| black|       67200|\n",
      "+----+---------+-----------+-------------+-----+--------+------+------------+\n",
      "only showing top 20 rows\n",
      "\n"
     ]
    }
   ],
   "source": [
    "df_pyspark_usa.show()"
   ]
  },
  {
   "cell_type": "markdown",
   "id": "5573e3b7",
   "metadata": {},
   "source": [
    "### Verifying if there are no null values"
   ]
  },
  {
   "cell_type": "code",
   "execution_count": 96,
   "id": "efd235dd",
   "metadata": {},
   "outputs": [
    {
     "name": "stdout",
     "output_type": "stream",
     "text": [
      "+----+----+----+------------+-----+--------+-----+------------+\n",
      "|year|make|body|transmission|state|odometer|color|sellingprice|\n",
      "+----+----+----+------------+-----+--------+-----+------------+\n",
      "|   0|   0|   0|           0|    0|      90|    0|           0|\n",
      "+----+----+----+------------+-----+--------+-----+------------+\n",
      "\n"
     ]
    }
   ],
   "source": [
    "df_pyspark_usa.select([count(when(isnan(c) | col(c).isNull(), c)).alias(c) for c in df_pyspark_usa.columns]).show()"
   ]
  },
  {
   "cell_type": "markdown",
   "id": "b75ee437",
   "metadata": {},
   "source": [
    "### Looking for duplicate values in columns:"
   ]
  },
  {
   "cell_type": "code",
   "execution_count": 97,
   "id": "94c0823f",
   "metadata": {},
   "outputs": [
    {
     "name": "stdout",
     "output_type": "stream",
     "text": [
      "Distinct Count of rows in dataframe: 548536\n"
     ]
    }
   ],
   "source": [
    "print(\"Distinct Count of rows in dataframe: \" + str(df_pyspark_usa.distinct().count()))"
   ]
  },
  {
   "cell_type": "code",
   "execution_count": 98,
   "id": "4637175b",
   "metadata": {},
   "outputs": [
    {
     "name": "stdout",
     "output_type": "stream",
     "text": [
      "Count of rows in dataframe: 548536\n"
     ]
    }
   ],
   "source": [
    "print(\"Count of rows in dataframe: \" + str(df_pyspark_usa.count()))"
   ]
  },
  {
   "cell_type": "markdown",
   "id": "2ef2ca74",
   "metadata": {},
   "source": [
    "#### Removing duplicate values"
   ]
  },
  {
   "cell_type": "code",
   "execution_count": 99,
   "id": "81f36fa1",
   "metadata": {},
   "outputs": [
    {
     "name": "stdout",
     "output_type": "stream",
     "text": [
      "Distinct count: 548536\n"
     ]
    }
   ],
   "source": [
    "df_pyspark_usa = df_pyspark_usa.dropDuplicates()\n",
    "print(\"Distinct count: \"+str(df_pyspark_usa.count()))\n"
   ]
  },
  {
   "cell_type": "markdown",
   "id": "f5536c60",
   "metadata": {},
   "source": [
    "### Changing the name of columns"
   ]
  },
  {
   "cell_type": "code",
   "execution_count": 100,
   "id": "af6701bf",
   "metadata": {},
   "outputs": [
    {
     "data": {
      "text/plain": [
       "['year',\n",
       " 'make',\n",
       " 'body',\n",
       " 'transmission',\n",
       " 'state',\n",
       " 'odometer',\n",
       " 'color',\n",
       " 'sellingprice']"
      ]
     },
     "execution_count": 100,
     "metadata": {},
     "output_type": "execute_result"
    }
   ],
   "source": [
    "df_pyspark_usa.columns\n"
   ]
  },
  {
   "cell_type": "code",
   "execution_count": 101,
   "id": "c5936a2f",
   "metadata": {},
   "outputs": [],
   "source": [
    "df_pyspark_usa = df_pyspark_usa.withColumnRenamed(\"year\",\"Year\") \\\n",
    "                .withColumnRenamed(\"make\",\"Model\") \\\n",
    "                .withColumnRenamed(\"body\",\"BodyType\") \\\n",
    "                 .withColumnRenamed(\"transmission\",\"Gear\") \\\n",
    "                .withColumnRenamed(\"odometer\",\"Kilometres\") \\\n",
    "                .withColumnRenamed(\"state\",\"State\") \\\n",
    "                .withColumnRenamed(\"color\",\"Color\") \\\n",
    "                .withColumnRenamed(\"sellingprice\",\"Money\") \\\n",
    "                .withColumnRenamed(\"saledate\",\"SaleDate\")"
   ]
  },
  {
   "cell_type": "markdown",
   "id": "03cf394c",
   "metadata": {},
   "source": [
    "### Capitalizing the first letter of cell and the whole column"
   ]
  },
  {
   "cell_type": "code",
   "execution_count": 102,
   "id": "d89bd5a5",
   "metadata": {},
   "outputs": [],
   "source": [
    "def to_capitalize_first_letter_and_upper_column(df_pyspark_usa):\n",
    "    return df_pyspark_usa.withColumn(\"Gear\", initcap(col('Gear')))  \\\n",
    "                                .withColumn(\"State\", upper(col('State'))) \\\n",
    "                                 .withColumn(\"Color\", initcap(col('Color'))) \\\n",
    "                                .withColumn(\"Model\", initcap(col('Model'))) "
   ]
  },
  {
   "cell_type": "code",
   "execution_count": 103,
   "id": "f78655d9",
   "metadata": {},
   "outputs": [],
   "source": [
    "df_pyspark_usa = df_pyspark_usa.transform(to_capitalize_first_letter_and_upper_column)"
   ]
  },
  {
   "cell_type": "code",
   "execution_count": 104,
   "id": "9f06e448",
   "metadata": {
    "scrolled": false
   },
   "outputs": [
    {
     "name": "stdout",
     "output_type": "stream",
     "text": [
      "+----+-------------+---------------+---------+-----+----------+------+-----+\n",
      "|Year|Model        |BodyType       |Gear     |State|Kilometres|Color |Money|\n",
      "+----+-------------+---------------+---------+-----+----------+------+-----+\n",
      "|2013|Kia          |SUV            |Automatic|CA   |71662.0   |Black |14000|\n",
      "|2013|Nissan       |SUV            |Automatic|CA   |7794.0    |White |18250|\n",
      "|2012|Acura        |Hatchback      |Automatic|CA   |48115.0   |Black |28000|\n",
      "|2012|Bmw          |SUV            |Automatic|CA   |45760.0   |Black |36500|\n",
      "|2012|Cadillac     |SUV            |Automatic|CA   |42547.0   |White |45750|\n",
      "|2012|Land Rover   |SUV            |Automatic|CA   |19547.0   |Gray  |46500|\n",
      "|2012|Volvo        |Sedan          |Automatic|CA   |19529.0   |Gray  |16000|\n",
      "|2011|Bmw          |Convertible    |Automatic|CA   |40681.0   |Black |30000|\n",
      "|2011|Buick        |Sedan          |Automatic|CA   |67592.0   |Silver|13300|\n",
      "|2010|Infiniti     |G37 Convertible|Automatic|CA   |25212.0   |Black |24750|\n",
      "|2008|Bmw          |SUV            |Automatic|CA   |71100.0   |Black |19750|\n",
      "|2007|Ford         |SuperCab       |Automatic|CA   |102840.0  |Red   |6000 |\n",
      "|2007|Chrysler     |Wagon          |Automatic|CA   |88331.0   |Black |2700 |\n",
      "|2007|Toyota       |Not Available  |Automatic|CA   |73321.0   |Blue  |7300 |\n",
      "|2006|Mercedes-benz|Sedan          |Automatic|CA   |144503.0  |Blue  |5800 |\n",
      "|2006|Toyota       |SUV            |Automatic|CA   |129749.0  |Silver|8100 |\n",
      "|2005|Acura        |Hatchback      |Automatic|CA   |207575.0  |Black |2500 |\n",
      "|2004|Honda        |Sedan          |Automatic|CA   |127196.0  |Black |4400 |\n",
      "|2003|Bmw          |Coupe          |Automatic|CA   |114461.0  |—     |8400 |\n",
      "|2003|Nissan       |Sedan          |Automatic|CA   |82364.0   |Green |2500 |\n",
      "+----+-------------+---------------+---------+-----+----------+------+-----+\n",
      "only showing top 20 rows\n",
      "\n"
     ]
    }
   ],
   "source": [
    "df_pyspark_usa.show(truncate=False)"
   ]
  },
  {
   "cell_type": "markdown",
   "id": "c05b281c",
   "metadata": {},
   "source": [
    "#### Make Mercedes unique and correct another models:"
   ]
  },
  {
   "cell_type": "code",
   "execution_count": 105,
   "id": "de207877",
   "metadata": {},
   "outputs": [
    {
     "name": "stdout",
     "output_type": "stream",
     "text": [
      "+-------------+\n",
      "|        Model|\n",
      "+-------------+\n",
      "|   Mercedes-b|\n",
      "|     Mercedes|\n",
      "|Mercedes-benz|\n",
      "+-------------+\n",
      "\n"
     ]
    }
   ],
   "source": [
    "df_pyspark_usa.filter(df_pyspark_usa['Model'].like(\"Mercedes%\")).select(\"Model\").distinct().show()"
   ]
  },
  {
   "cell_type": "code",
   "execution_count": 106,
   "id": "e833b678",
   "metadata": {},
   "outputs": [],
   "source": [
    "df_pyspark_usa = df_pyspark_usa.withColumn(\"Model\", \n",
    "                          when(df_pyspark_usa[\"Model\"] ==\"Mercedes-b\",\"Mercedes-Benz\")\n",
    "                         .when(df_pyspark_usa[\"Model\"] ==\"Mercedes\",\"Mercedes-Benz\")\n",
    "                         .when(df_pyspark_usa[\"Model\"] ==\"Mercedes-benz\",\"Mercedes-Benz\")\n",
    "                         .when(df_pyspark_usa[\"Model\"] ==\"Bmw\",\"BMW\")\n",
    "                         .when(df_pyspark_usa[\"Model\"] ==\"Rolls-royce\",\"Rolls-Royce\")\n",
    "                         .when(df_pyspark_usa[\"Model\"] ==\"Vw\",\"Volkswagen\")                 \n",
    "                         .otherwise(df_pyspark_usa[\"Model\"]))"
   ]
  },
  {
   "cell_type": "code",
   "execution_count": 107,
   "id": "3520aa07",
   "metadata": {},
   "outputs": [
    {
     "name": "stdout",
     "output_type": "stream",
     "text": [
      "+-------------+\n",
      "|        Model|\n",
      "+-------------+\n",
      "|Mercedes-Benz|\n",
      "+-------------+\n",
      "\n"
     ]
    }
   ],
   "source": [
    "df_pyspark_usa.filter(df_pyspark_usa['Model'].like(\"Mercedes%\")).select(\"Model\").distinct().show()"
   ]
  },
  {
   "cell_type": "code",
   "execution_count": 108,
   "id": "e62a3893",
   "metadata": {},
   "outputs": [
    {
     "name": "stdout",
     "output_type": "stream",
     "text": [
      "+-------------+\n",
      "|Model        |\n",
      "+-------------+\n",
      "|Volkswagen   |\n",
      "|Oldsmobile   |\n",
      "|Infiniti     |\n",
      "|Lexus        |\n",
      "|Jaguar       |\n",
      "|Saturn       |\n",
      "|Maserati     |\n",
      "|Scion        |\n",
      "|Rolls-Royce  |\n",
      "|Jeep         |\n",
      "|Mitsubishi   |\n",
      "|Kia          |\n",
      "|Mini         |\n",
      "|Chevrolet    |\n",
      "|Volvo        |\n",
      "|Hyundai      |\n",
      "|Saab         |\n",
      "|Honda        |\n",
      "|Landrover    |\n",
      "|Audi         |\n",
      "|Ram          |\n",
      "|Cadillac     |\n",
      "|Isuzu        |\n",
      "|Plymouth     |\n",
      "|Pontiac      |\n",
      "|Geo          |\n",
      "|Land Rover   |\n",
      "|Mercedes-Benz|\n",
      "|Ford Truck   |\n",
      "|Mercury      |\n",
      "|Daewoo       |\n",
      "|Chrysler     |\n",
      "|Lincoln      |\n",
      "|Tesla        |\n",
      "|BMW          |\n",
      "|Suzuki       |\n",
      "|Acura        |\n",
      "|Smart        |\n",
      "|Ferrari      |\n",
      "|Hummer       |\n",
      "|Buick        |\n",
      "|Porsche      |\n",
      "|Fisker       |\n",
      "|Bentley      |\n",
      "|Toyota       |\n",
      "|Aston Martin |\n",
      "|Dodge        |\n",
      "|Nissan       |\n",
      "|Mazda        |\n",
      "|Fiat         |\n",
      "|Ford         |\n",
      "|Subaru       |\n",
      "|Gmc Truck    |\n",
      "|Gmc          |\n",
      "|Lamborghini  |\n",
      "|Airstream    |\n",
      "|Dodge Tk     |\n",
      "|Ford Tk      |\n",
      "|Mazda Tk     |\n",
      "|Dot          |\n",
      "|Chev Truck   |\n",
      "|Lotus        |\n",
      "|Hyundai Tk   |\n",
      "+-------------+\n",
      "\n"
     ]
    }
   ],
   "source": [
    "df_pyspark_usa.select(\"Model\").distinct().show(1111,truncate=False)"
   ]
  },
  {
   "cell_type": "markdown",
   "id": "ec784259",
   "metadata": {},
   "source": [
    "#### Changing - value to Not Available"
   ]
  },
  {
   "cell_type": "code",
   "execution_count": 109,
   "id": "1e0e6f8d",
   "metadata": {},
   "outputs": [
    {
     "name": "stdout",
     "output_type": "stream",
     "text": [
      "+-------------+\n",
      "|Color        |\n",
      "+-------------+\n",
      "|—            |\n",
      "|Orange       |\n",
      "|Beige        |\n",
      "|Turquoise    |\n",
      "|Burgundy     |\n",
      "|Silver       |\n",
      "|Green        |\n",
      "|Purple       |\n",
      "|Gray         |\n",
      "|Blue         |\n",
      "|White        |\n",
      "|Brown        |\n",
      "|Gold         |\n",
      "|Charcoal     |\n",
      "|Lime         |\n",
      "|Black        |\n",
      "|Yellow       |\n",
      "|Red          |\n",
      "|Not Available|\n",
      "|Pink         |\n",
      "|Off-white    |\n",
      "|14872        |\n",
      "|4802         |\n",
      "|12655        |\n",
      "|1167         |\n",
      "|9410         |\n",
      "|2172         |\n",
      "|15719        |\n",
      "|6388         |\n",
      "|18384        |\n",
      "|6864         |\n",
      "|2711         |\n",
      "|9887         |\n",
      "|9837         |\n",
      "|11034        |\n",
      "|20627        |\n",
      "|20379        |\n",
      "|16633        |\n",
      "|339          |\n",
      "|2846         |\n",
      "|5001         |\n",
      "|9562         |\n",
      "|2817         |\n",
      "|18561        |\n",
      "|6158         |\n",
      "|721          |\n",
      "|5705         |\n",
      "+-------------+\n",
      "\n"
     ]
    }
   ],
   "source": [
    "df_pyspark_usa.select(\"Color\").distinct().show(500,truncate=False)"
   ]
  },
  {
   "cell_type": "code",
   "execution_count": 110,
   "id": "111236d3",
   "metadata": {},
   "outputs": [],
   "source": [
    "df_pyspark_usa = df_pyspark_usa.withColumn(\"Color\", \n",
    "                          when(df_pyspark_usa[\"Color\"] ==\"—\",\"Not Available\")\n",
    "                         .when(df_pyspark_usa[\"Color\"] ==\"18384\",\"Not Available\")\n",
    "                         .when(df_pyspark_usa[\"Color\"] ==\"9837\",\"Not Available\")\n",
    "                         .when(df_pyspark_usa[\"Color\"] ==\"11034\",\"Not Available\")\n",
    "                          .when(df_pyspark_usa[\"Color\"] ==\"20379\",\"Not Available\")\n",
    "                          .when(df_pyspark_usa[\"Color\"] ==\"15719\",\"Not Available\")\n",
    "                        .when(df_pyspark_usa[\"Color\"] ==\"721\",\"Not Available\")\n",
    "                         .when(df_pyspark_usa[\"Color\"] ==\"6388\",\"Not Available\")\n",
    "                         .when(df_pyspark_usa[\"Color\"] ==\"6864\",\"Not Available\")\n",
    "                          .when(df_pyspark_usa[\"Color\"] ==\"14872\",\"Not Available\")\n",
    "                          .when(df_pyspark_usa[\"Color\"] ==\"5001\",\"Not Available\")\n",
    "                          .when(df_pyspark_usa[\"Color\"] ==\"9562\",\"Not Available\")\n",
    "                         .when(df_pyspark_usa[\"Color\"] ==\"2172\",\"Not Available\")\n",
    "                         .when(df_pyspark_usa[\"Color\"] ==\"16633\",\"Not Available\")\n",
    "                          .when(df_pyspark_usa[\"Color\"] ==\"5705\",\"Not Available\")\n",
    "                          .when(df_pyspark_usa[\"Color\"] ==\"2711\",\"Not Available\")\n",
    "                        .when(df_pyspark_usa[\"Color\"] ==\"9410\",\"Not Available\")\n",
    "                         .when(df_pyspark_usa[\"Color\"] ==\"6158\",\"Not Available\")\n",
    "                         .when(df_pyspark_usa[\"Color\"] ==\"339\",\"Not Available\")\n",
    "                          .when(df_pyspark_usa[\"Color\"] ==\"4802\",\"Not Available\")\n",
    "                          .when(df_pyspark_usa[\"Color\"] ==\"12655\",\"Not Available\")\n",
    "                          .when(df_pyspark_usa[\"Color\"] ==\"1167\",\"Not Available\")\n",
    "                         .when(df_pyspark_usa[\"Color\"] ==\"2846\",\"Not Available\")\n",
    "                         .when(df_pyspark_usa[\"Color\"] ==\"9887\",\"Not Available\")\n",
    "                          .when(df_pyspark_usa[\"Color\"] ==\"18561\",\"Not Available\")\n",
    "                          .when(df_pyspark_usa[\"Color\"] ==\"20627\",\"Not Available\")\n",
    "                        .when(df_pyspark_usa[\"Color\"] ==\"2817\",\"Not Available\")\n",
    "                         .otherwise(df_pyspark_usa[\"Color\"]))"
   ]
  },
  {
   "cell_type": "code",
   "execution_count": 111,
   "id": "169cf1e4",
   "metadata": {},
   "outputs": [
    {
     "name": "stdout",
     "output_type": "stream",
     "text": [
      "+-------------+\n",
      "|Color        |\n",
      "+-------------+\n",
      "|Orange       |\n",
      "|Beige        |\n",
      "|Turquoise    |\n",
      "|Burgundy     |\n",
      "|Silver       |\n",
      "|Green        |\n",
      "|Purple       |\n",
      "|Gray         |\n",
      "|Blue         |\n",
      "|White        |\n",
      "|Brown        |\n",
      "|Gold         |\n",
      "|Charcoal     |\n",
      "|Lime         |\n",
      "|Black        |\n",
      "|Yellow       |\n",
      "|Red          |\n",
      "|Not Available|\n",
      "|Pink         |\n",
      "|Off-white    |\n",
      "+-------------+\n",
      "\n"
     ]
    }
   ],
   "source": [
    "df_pyspark_usa.select(\"Color\").distinct().show(truncate=False)"
   ]
  },
  {
   "cell_type": "markdown",
   "id": "53e93f3c",
   "metadata": {},
   "source": [
    "### Adding a new dataframe by inner join"
   ]
  },
  {
   "cell_type": "code",
   "execution_count": 112,
   "id": "974a5580",
   "metadata": {},
   "outputs": [
    {
     "name": "stdout",
     "output_type": "stream",
     "text": [
      "+-----------+-----+------------+-----------------------------------------------------------+----+----+\n",
      "|State      |Abbrv|Capital     |Nickname                                                   |_c4 |_c5 |\n",
      "+-----------+-----+------------+-----------------------------------------------------------+----+----+\n",
      "|Alabama    |AL   |Montgomery  |Yellowhammer State, Heart of Dixie, Camellia State         |null|null|\n",
      "|Alaska     |AK   |Juneau      |The Last Frontier                                          |null|null|\n",
      "|Arizona    |AZ   |Phoenix     |Grand Canyon State, Copper State                           |null|null|\n",
      "|Arkansas   |AR   |Little Rock |The Natural State, Land of Opportunity, The Razorback State|null|null|\n",
      "|California |CA   |Sacramento  |Golden State                                               |null|null|\n",
      "|Colorado   |CO   |Denver      |Centennial State, Colorful Colorado                        |null|null|\n",
      "|Connecticut|CT   |Hartford    |Constitution State, Nutmeg State                           |null|null|\n",
      "|Delaware   |DE   |Dover       |First State, Diamond State, Blue Hen State, Small Wonder   |null|null|\n",
      "|Florida    |FL   |Tallahassee |Sunshine State                                             |null|null|\n",
      "|Georgia    |GA   |Atlanta     |Peach State, Empire of the South, Goober State             |null|null|\n",
      "|Hawaii     |HI   |Honolulu    |Aloha State, Pineapple State                               |null|null|\n",
      "|Idaho      |ID   |Boise       |Gem State, Spud State                                      |null|null|\n",
      "|Illinois   |IL   |Springfield |Prairie State, Land of Lincoln                             |null|null|\n",
      "|Indiana    |IN   |Indianapolis|Hoosier State                                              |null|null|\n",
      "|Iowa       |IA   |Des Moines  |Hawkeye State                                              |null|null|\n",
      "|Kansas     |KS   |Topeka      |Sunflower State, Salt of the Earth                         |null|null|\n",
      "|Kentucky   |KY   |Frankfort   |Bluegrass State                                            |null|null|\n",
      "|Louisiana  |LA   |Baton Rouge |Pelican State, Sugar State                                 |null|null|\n",
      "|Maine      |ME   |Augusta     |Pine Tree State                                            |null|null|\n",
      "|Maryland   |MD   |Annapolis   |Old Line State, Free State                                 |null|null|\n",
      "+-----------+-----+------------+-----------------------------------------------------------+----+----+\n",
      "only showing top 20 rows\n",
      "\n"
     ]
    }
   ],
   "source": [
    "pathUSStatesAbbrev = r'D:\\My commercial projects\\PySpark\\Project 1 PySpark\\Car Prices\\USStatesAbbrev.csv'\n",
    "\n",
    "df_USStatesAbbrev = spark.read.csv(pathUSStatesAbbrev,header=True,inferSchema=True)\n",
    "\n",
    "df_USStatesAbbrev.show(truncate=False)"
   ]
  },
  {
   "cell_type": "code",
   "execution_count": 113,
   "id": "1bfdcd7b",
   "metadata": {},
   "outputs": [
    {
     "data": {
      "text/plain": [
       "['State', 'Abbrv', 'Capital', 'Nickname', '_c4', '_c5']"
      ]
     },
     "execution_count": 113,
     "metadata": {},
     "output_type": "execute_result"
    }
   ],
   "source": [
    "df_USStatesAbbrev.columns"
   ]
  },
  {
   "cell_type": "code",
   "execution_count": 114,
   "id": "18d0c8a5",
   "metadata": {},
   "outputs": [],
   "source": [
    "cols = ( 'Nickname','_c4', '_c5')\n",
    "df_USStatesAbbrev = df_USStatesAbbrev.drop(*cols)"
   ]
  },
  {
   "cell_type": "code",
   "execution_count": 115,
   "id": "89b58c91",
   "metadata": {},
   "outputs": [
    {
     "name": "stdout",
     "output_type": "stream",
     "text": [
      "+-----------+-----+------------+\n",
      "|      State|Abbrv|     Capital|\n",
      "+-----------+-----+------------+\n",
      "|    Alabama|   AL|  Montgomery|\n",
      "|     Alaska|   AK|      Juneau|\n",
      "|    Arizona|   AZ|     Phoenix|\n",
      "|   Arkansas|   AR| Little Rock|\n",
      "| California|   CA|  Sacramento|\n",
      "|   Colorado|   CO|      Denver|\n",
      "|Connecticut|   CT|    Hartford|\n",
      "|   Delaware|   DE|       Dover|\n",
      "|    Florida|   FL| Tallahassee|\n",
      "|    Georgia|   GA|     Atlanta|\n",
      "|     Hawaii|   HI|    Honolulu|\n",
      "|      Idaho|   ID|       Boise|\n",
      "|   Illinois|   IL| Springfield|\n",
      "|    Indiana|   IN|Indianapolis|\n",
      "|       Iowa|   IA|  Des Moines|\n",
      "|     Kansas|   KS|      Topeka|\n",
      "|   Kentucky|   KY|   Frankfort|\n",
      "|  Louisiana|   LA| Baton Rouge|\n",
      "|      Maine|   ME|     Augusta|\n",
      "|   Maryland|   MD|   Annapolis|\n",
      "+-----------+-----+------------+\n",
      "only showing top 20 rows\n",
      "\n"
     ]
    }
   ],
   "source": [
    "df_USStatesAbbrev.show()"
   ]
  },
  {
   "cell_type": "code",
   "execution_count": 116,
   "id": "2955d71f",
   "metadata": {},
   "outputs": [
    {
     "name": "stdout",
     "output_type": "stream",
     "text": [
      "+----+-------------+---------------+---------+-----+----------+-------------+-----+----------+-----+----------+\n",
      "|Year|Model        |BodyType       |Gear     |State|Kilometres|Color        |Money|State     |Abbrv|Capital   |\n",
      "+----+-------------+---------------+---------+-----+----------+-------------+-----+----------+-----+----------+\n",
      "|2013|Kia          |SUV            |Automatic|CA   |71662.0   |Black        |14000|California|CA   |Sacramento|\n",
      "|2013|Nissan       |SUV            |Automatic|CA   |7794.0    |White        |18250|California|CA   |Sacramento|\n",
      "|2012|Acura        |Hatchback      |Automatic|CA   |48115.0   |Black        |28000|California|CA   |Sacramento|\n",
      "|2012|BMW          |SUV            |Automatic|CA   |45760.0   |Black        |36500|California|CA   |Sacramento|\n",
      "|2012|Cadillac     |SUV            |Automatic|CA   |42547.0   |White        |45750|California|CA   |Sacramento|\n",
      "|2012|Land Rover   |SUV            |Automatic|CA   |19547.0   |Gray         |46500|California|CA   |Sacramento|\n",
      "|2012|Volvo        |Sedan          |Automatic|CA   |19529.0   |Gray         |16000|California|CA   |Sacramento|\n",
      "|2011|BMW          |Convertible    |Automatic|CA   |40681.0   |Black        |30000|California|CA   |Sacramento|\n",
      "|2011|Buick        |Sedan          |Automatic|CA   |67592.0   |Silver       |13300|California|CA   |Sacramento|\n",
      "|2010|Infiniti     |G37 Convertible|Automatic|CA   |25212.0   |Black        |24750|California|CA   |Sacramento|\n",
      "|2008|BMW          |SUV            |Automatic|CA   |71100.0   |Black        |19750|California|CA   |Sacramento|\n",
      "|2007|Ford         |SuperCab       |Automatic|CA   |102840.0  |Red          |6000 |California|CA   |Sacramento|\n",
      "|2007|Chrysler     |Wagon          |Automatic|CA   |88331.0   |Black        |2700 |California|CA   |Sacramento|\n",
      "|2007|Toyota       |Not Available  |Automatic|CA   |73321.0   |Blue         |7300 |California|CA   |Sacramento|\n",
      "|2006|Mercedes-Benz|Sedan          |Automatic|CA   |144503.0  |Blue         |5800 |California|CA   |Sacramento|\n",
      "|2006|Toyota       |SUV            |Automatic|CA   |129749.0  |Silver       |8100 |California|CA   |Sacramento|\n",
      "|2005|Acura        |Hatchback      |Automatic|CA   |207575.0  |Black        |2500 |California|CA   |Sacramento|\n",
      "|2004|Honda        |Sedan          |Automatic|CA   |127196.0  |Black        |4400 |California|CA   |Sacramento|\n",
      "|2003|BMW          |Coupe          |Automatic|CA   |114461.0  |Not Available|8400 |California|CA   |Sacramento|\n",
      "|2003|Nissan       |Sedan          |Automatic|CA   |82364.0   |Green        |2500 |California|CA   |Sacramento|\n",
      "+----+-------------+---------------+---------+-----+----------+-------------+-----+----------+-----+----------+\n",
      "only showing top 20 rows\n",
      "\n"
     ]
    }
   ],
   "source": [
    "df_pyspark_usa.join(df_USStatesAbbrev,df_pyspark_usa['State'] == df_USStatesAbbrev[\"Abbrv\"],\"inner\").show(truncate=False)"
   ]
  },
  {
   "cell_type": "code",
   "execution_count": 117,
   "id": "51ace71e",
   "metadata": {},
   "outputs": [],
   "source": [
    "df_pyspark_usa = df_pyspark_usa.join(df_USStatesAbbrev,df_pyspark_usa['State'] == df_USStatesAbbrev[\"Abbrv\"],\"inner\")\\\n",
    "                            .drop(df_pyspark_usa.State)"
   ]
  },
  {
   "cell_type": "markdown",
   "id": "c6eded0a",
   "metadata": {},
   "source": [
    "#### Browsing data after join"
   ]
  },
  {
   "cell_type": "code",
   "execution_count": 118,
   "id": "066b3125",
   "metadata": {
    "scrolled": true
   },
   "outputs": [
    {
     "name": "stdout",
     "output_type": "stream",
     "text": [
      "+----+-------------+-----------+-------------+----------+------+-----+-------+-----+-------+\n",
      "|Year|Model        |BodyType   |Gear         |Kilometres|Color |Money|State  |Abbrv|Capital|\n",
      "+----+-------------+-----------+-------------+----------+------+-----+-------+-----+-------+\n",
      "|2014|Dodge        |Minivan    |Automatic    |23069.0   |Black |15800|Arizona|AZ   |Phoenix|\n",
      "|2008|Chrysler     |Convertible|Automatic    |116754.0  |White |3300 |Arizona|AZ   |Phoenix|\n",
      "|2005|Hyundai      |Hatchback  |Not Available|1.0       |Gray  |750  |Arizona|AZ   |Phoenix|\n",
      "|2014|Ram          |Quad Cab   |Automatic    |23266.0   |Blue  |23900|Arizona|AZ   |Phoenix|\n",
      "|2014|Toyota       |Sedan      |Automatic    |283.0     |Blue  |15750|Arizona|AZ   |Phoenix|\n",
      "|2012|Mitsubishi   |Sedan      |Automatic    |24110.0   |Black |10100|Arizona|AZ   |Phoenix|\n",
      "|2012|Nissan       |Sedan      |Automatic    |60420.0   |Gray  |7700 |Arizona|AZ   |Phoenix|\n",
      "|2012|Toyota       |Sedan      |Automatic    |28083.0   |Gray  |13500|Arizona|AZ   |Phoenix|\n",
      "|2009|Toyota       |Sedan      |Not Available|148396.0  |Black |6500 |Arizona|AZ   |Phoenix|\n",
      "|2008|Mercedes-Benz|Sedan      |Automatic    |85951.0   |White |17300|Arizona|AZ   |Phoenix|\n",
      "|2005|BMW          |Sedan      |Automatic    |148020.0  |Black |4500 |Arizona|AZ   |Phoenix|\n",
      "|2003|Volvo        |Sedan      |Automatic    |142862.0  |Black |1000 |Arizona|AZ   |Phoenix|\n",
      "|2012|Mercedes-Benz|SUV        |Automatic    |61070.0   |Black |25500|Arizona|AZ   |Phoenix|\n",
      "|2009|Pontiac      |Sedan      |Automatic    |109342.0  |White |4000 |Arizona|AZ   |Phoenix|\n",
      "|2008|Dodge        |Sedan      |Automatic    |157891.0  |Blue  |3500 |Arizona|AZ   |Phoenix|\n",
      "|2004|Mazda        |Sedan      |Not Available|110442.0  |Green |4050 |Arizona|AZ   |Phoenix|\n",
      "|2014|Kia          |SUV        |Automatic    |42263.0   |Gray  |14300|Arizona|AZ   |Phoenix|\n",
      "|2014|Volvo        |Sedan      |Automatic    |19221.0   |Silver|22200|Arizona|AZ   |Phoenix|\n",
      "|2005|Chrysler     |Minivan    |Automatic    |113299.0  |Gold  |3750 |Arizona|AZ   |Phoenix|\n",
      "|2007|Toyota       |CrewMax Cab|Automatic    |111939.0  |White |17100|Arizona|AZ   |Phoenix|\n",
      "+----+-------------+-----------+-------------+----------+------+-----+-------+-----+-------+\n",
      "only showing top 20 rows\n",
      "\n"
     ]
    }
   ],
   "source": [
    "df_pyspark_usa.filter(df_pyspark_usa['Capital'] == 'Phoenix').show(truncate=False)"
   ]
  },
  {
   "cell_type": "markdown",
   "id": "48dc3aee",
   "metadata": {},
   "source": [
    "### Basic information after cleaning"
   ]
  },
  {
   "cell_type": "code",
   "execution_count": 119,
   "id": "b2bdcadb",
   "metadata": {},
   "outputs": [
    {
     "name": "stdout",
     "output_type": "stream",
     "text": [
      "root\n",
      " |-- Year: integer (nullable = true)\n",
      " |-- Model: string (nullable = true)\n",
      " |-- BodyType: string (nullable = false)\n",
      " |-- Gear: string (nullable = false)\n",
      " |-- Kilometres: double (nullable = true)\n",
      " |-- Color: string (nullable = false)\n",
      " |-- Money: integer (nullable = true)\n",
      " |-- State: string (nullable = true)\n",
      " |-- Abbrv: string (nullable = true)\n",
      " |-- Capital: string (nullable = true)\n",
      "\n"
     ]
    }
   ],
   "source": [
    "df_pyspark_usa.printSchema()"
   ]
  },
  {
   "cell_type": "code",
   "execution_count": 120,
   "id": "98a98a77",
   "metadata": {
    "scrolled": true
   },
   "outputs": [
    {
     "name": "stdout",
     "output_type": "stream",
     "text": [
      "+----+-------------+---------------+---------+----------+-------------+-----+----------+-----+----------+\n",
      "|Year|        Model|       BodyType|     Gear|Kilometres|        Color|Money|     State|Abbrv|   Capital|\n",
      "+----+-------------+---------------+---------+----------+-------------+-----+----------+-----+----------+\n",
      "|2013|          Kia|            SUV|Automatic|   71662.0|        Black|14000|California|   CA|Sacramento|\n",
      "|2013|       Nissan|            SUV|Automatic|    7794.0|        White|18250|California|   CA|Sacramento|\n",
      "|2012|        Acura|      Hatchback|Automatic|   48115.0|        Black|28000|California|   CA|Sacramento|\n",
      "|2012|          BMW|            SUV|Automatic|   45760.0|        Black|36500|California|   CA|Sacramento|\n",
      "|2012|     Cadillac|            SUV|Automatic|   42547.0|        White|45750|California|   CA|Sacramento|\n",
      "|2012|   Land Rover|            SUV|Automatic|   19547.0|         Gray|46500|California|   CA|Sacramento|\n",
      "|2012|        Volvo|          Sedan|Automatic|   19529.0|         Gray|16000|California|   CA|Sacramento|\n",
      "|2011|          BMW|    Convertible|Automatic|   40681.0|        Black|30000|California|   CA|Sacramento|\n",
      "|2011|        Buick|          Sedan|Automatic|   67592.0|       Silver|13300|California|   CA|Sacramento|\n",
      "|2010|     Infiniti|G37 Convertible|Automatic|   25212.0|        Black|24750|California|   CA|Sacramento|\n",
      "|2008|          BMW|            SUV|Automatic|   71100.0|        Black|19750|California|   CA|Sacramento|\n",
      "|2007|         Ford|       SuperCab|Automatic|  102840.0|          Red| 6000|California|   CA|Sacramento|\n",
      "|2007|     Chrysler|          Wagon|Automatic|   88331.0|        Black| 2700|California|   CA|Sacramento|\n",
      "|2007|       Toyota|  Not Available|Automatic|   73321.0|         Blue| 7300|California|   CA|Sacramento|\n",
      "|2006|Mercedes-Benz|          Sedan|Automatic|  144503.0|         Blue| 5800|California|   CA|Sacramento|\n",
      "|2006|       Toyota|            SUV|Automatic|  129749.0|       Silver| 8100|California|   CA|Sacramento|\n",
      "|2005|        Acura|      Hatchback|Automatic|  207575.0|        Black| 2500|California|   CA|Sacramento|\n",
      "|2004|        Honda|          Sedan|Automatic|  127196.0|        Black| 4400|California|   CA|Sacramento|\n",
      "|2003|          BMW|          Coupe|Automatic|  114461.0|Not Available| 8400|California|   CA|Sacramento|\n",
      "|2003|       Nissan|          Sedan|Automatic|   82364.0|        Green| 2500|California|   CA|Sacramento|\n",
      "+----+-------------+---------------+---------+----------+-------------+-----+----------+-----+----------+\n",
      "only showing top 20 rows\n",
      "\n"
     ]
    }
   ],
   "source": [
    "df_pyspark_usa.show()"
   ]
  },
  {
   "cell_type": "markdown",
   "id": "95dd1c95",
   "metadata": {},
   "source": [
    "# Analysis of data"
   ]
  },
  {
   "cell_type": "markdown",
   "id": "ae5d9f16",
   "metadata": {},
   "source": [
    "### df_pyspark_arg"
   ]
  },
  {
   "cell_type": "code",
   "execution_count": 121,
   "id": "45c0af1d",
   "metadata": {},
   "outputs": [
    {
     "name": "stdout",
     "output_type": "stream",
     "text": [
      "+----------+----------+----+---------+--------+----+---------+----------+---------+----------+--------+--------+---------+\n",
      "|     Brand|     Model|Year|    Color|FuelType|Door|     Gear|     Motor| BodyType|Kilometres|Currency|   Money|Money USD|\n",
      "+----------+----------+----+---------+--------+----+---------+----------+---------+----------+--------+--------+---------+\n",
      "|    Toyota|Corolla...|2022|   Silver| Naphtha|   5|Automatic|Not ava...|      SUV|       500|   Pesos|10350000|   558900|\n",
      "|      Jeep|   Compass|2022|    White| Naphtha|   5|Automatic|       2.4|      SUV|       500|   Pesos|10850000|   585900|\n",
      "|      Jeep|   Compass|2022|Dark gray| Naphtha|   5|Automatic|       2.4|      SUV|       500| Dollars|   35500|    35500|\n",
      "|   Citroën| C4 Cactus|2022|Dark gray| Naphtha|   5|Automatic|Not ava...|      SUV|       550| Dollars|   19000|    19000|\n",
      "|    Toyota|   Corolla|2019|     Gray| Naphtha|   4|   Manual|       1.8|    Sedán|      9000|   Pesos| 5800000|   313200|\n",
      "|      Jeep|   Compass|2022|    Black| Naphtha|   5|Automatic|       1.3|      SUV|     10500| Dollars|   34500|    34500|\n",
      "|       Kia|   Sorento|2014|    Black|  Diesel|   5|Automatic|       2.2|      SUV|    156000| Dollars|   25000|    25000|\n",
      "|Mercede...|   Clase C|2008|   Silver| Naphtha|   4|Automatic|       1.8|    Sedán|    174000| Dollars|   12300|    12300|\n",
      "|       BMW|       220|2016|    White| Naphtha|   2|Automatic|     TURBO|    Coupé|     66000| Dollars|   35500|    35500|\n",
      "|Volkswagen|   T-Cross|2019|   Orange| Naphtha|   5|Automatic|1.6 MSI...|      SUV|     35000|   Pesos| 6800000|   367200|\n",
      "|Mercede...|   Clase A|2017|   Silver| Naphtha|   5|Automatic|         3|Hatchback|     55394| Dollars|   38500|    38500|\n",
      "|Mercede...|   Clase A|2013|    White| Naphtha|   5|   Manual|       1.6|Hatchback|    162080| Dollars|   20500|    20500|\n",
      "|   Renault|   Sandero|2022|   Silver| Naphtha|   5|   Manual|Not ava...|    Sedán|    111111|   Pesos| 3500000|   189000|\n",
      "|Volkswagen|      Polo|2022|    White| Naphtha|   5|   Manual|       1.6|Hatchback|    111111|   Pesos| 5990000|   323460|\n",
      "|       BMW|   Serie 1|2020|    Black| Naphtha|   5|Automatic|Not ava...|Hatchback|     34800| Dollars|   41900|    41900|\n",
      "|      Ford|  Ecosport|2011|    Beige| Naphtha|   4|   Manual|       1.6|      SUV|    101000|   Pesos| 2100000|   113400|\n",
      "| Chevrolet|Trailbl...|2019|     Gray|  Diesel|   5|Automatic|Not ava...|      SUV|     73000| Dollars|   38500|    38500|\n",
      "|    Toyota|     Etios|2015|    White| Naphtha|   5|   Manual|       1.5|Hatchback|     83000|   Pesos| 2940000|   158760|\n",
      "|   Renault|      Clio|2014|     Gray| Naphtha|   5|   Manual|       1.2|Hatchback|     99000|   Pesos| 2050000|   110700|\n",
      "|    Toyota|      RAV4|2011|     Gray| Naphtha|   5|Automatic|       2.4|      SUV|    180000|   Pesos| 4120000|   222480|\n",
      "+----------+----------+----+---------+--------+----+---------+----------+---------+----------+--------+--------+---------+\n",
      "only showing top 20 rows\n",
      "\n"
     ]
    }
   ],
   "source": [
    "df_pyspark_arg.show(20,10)"
   ]
  },
  {
   "cell_type": "code",
   "execution_count": 122,
   "id": "60d44538",
   "metadata": {},
   "outputs": [],
   "source": [
    "df_pyspark_argSELECTCol = df_pyspark_arg.select(\"Brand\",\"Model\",\"Year\",\"Color\",\"Gear\",\"FuelType\",\"Kilometres\",\"Money USD\")"
   ]
  },
  {
   "cell_type": "code",
   "execution_count": 123,
   "id": "baec815d",
   "metadata": {},
   "outputs": [
    {
     "name": "stdout",
     "output_type": "stream",
     "text": [
      "+-------------+-------------+----+---------+---------+--------+----------+---------+\n",
      "|        Brand|        Model|Year|    Color|     Gear|FuelType|Kilometres|Money USD|\n",
      "+-------------+-------------+----+---------+---------+--------+----------+---------+\n",
      "|       Toyota|Corolla Cross|2022|   Silver|Automatic| Naphtha|       500|   558900|\n",
      "|         Jeep|      Compass|2022|    White|Automatic| Naphtha|       500|   585900|\n",
      "|         Jeep|      Compass|2022|Dark gray|Automatic| Naphtha|       500|    35500|\n",
      "|      Citroën|    C4 Cactus|2022|Dark gray|Automatic| Naphtha|       550|    19000|\n",
      "|       Toyota|      Corolla|2019|     Gray|   Manual| Naphtha|      9000|   313200|\n",
      "|         Jeep|      Compass|2022|    Black|Automatic| Naphtha|     10500|    34500|\n",
      "|          Kia|      Sorento|2014|    Black|Automatic|  Diesel|    156000|    25000|\n",
      "|Mercedes-Benz|      Clase C|2008|   Silver|Automatic| Naphtha|    174000|    12300|\n",
      "|          BMW|          220|2016|    White|Automatic| Naphtha|     66000|    35500|\n",
      "|   Volkswagen|      T-Cross|2019|   Orange|Automatic| Naphtha|     35000|   367200|\n",
      "|Mercedes-Benz|      Clase A|2017|   Silver|Automatic| Naphtha|     55394|    38500|\n",
      "|Mercedes-Benz|      Clase A|2013|    White|   Manual| Naphtha|    162080|    20500|\n",
      "|      Renault|      Sandero|2022|   Silver|   Manual| Naphtha|    111111|   189000|\n",
      "|   Volkswagen|         Polo|2022|    White|   Manual| Naphtha|    111111|   323460|\n",
      "|          BMW|      Serie 1|2020|    Black|Automatic| Naphtha|     34800|    41900|\n",
      "|         Ford|     Ecosport|2011|    Beige|   Manual| Naphtha|    101000|   113400|\n",
      "|    Chevrolet|  Trailblazer|2019|     Gray|Automatic|  Diesel|     73000|    38500|\n",
      "|       Toyota|        Etios|2015|    White|   Manual| Naphtha|     83000|   158760|\n",
      "|      Renault|         Clio|2014|     Gray|   Manual| Naphtha|     99000|   110700|\n",
      "|       Toyota|         RAV4|2011|     Gray|Automatic| Naphtha|    180000|   222480|\n",
      "+-------------+-------------+----+---------+---------+--------+----------+---------+\n",
      "only showing top 20 rows\n",
      "\n"
     ]
    }
   ],
   "source": [
    "df_pyspark_argSELECTCol.show()"
   ]
  },
  {
   "cell_type": "code",
   "execution_count": 124,
   "id": "d9f05957",
   "metadata": {},
   "outputs": [
    {
     "name": "stdout",
     "output_type": "stream",
     "text": [
      "+----------+---------------+----+-----+---------+--------------+----------+---------+\n",
      "|     Brand|          Model|Year|Color|     Gear|      FuelType|Kilometres|Money USD|\n",
      "+----------+---------------+----+-----+---------+--------------+----------+---------+\n",
      "|Volkswagen|         Amarok|2022|White|Automatic|        Diesel|       500|   772146|\n",
      "| Chevrolet|    Trailblazer|2021| Gray|Automatic|        Diesel|     23000|   753294|\n",
      "|    Toyota|  Corolla Cross|2022|Black|Automatic|Hybrid/Naphtha|      2000|   674460|\n",
      "|    Toyota|          Hilux|2019|White|Automatic|        Diesel|     64000|   674406|\n",
      "|    Toyota|          Hilux|2019| Gray|Automatic|        Diesel|     52000|   669600|\n",
      "|       RAM|           1500|2017| Gray|Automatic|       Naphtha|     79100|   647454|\n",
      "|    Toyota|          Hilux|2019| Gray|Automatic|        Diesel|     51700|   642600|\n",
      "|    Toyota|          Hilux|2019| Gray|Automatic|        Diesel|     51600|   642600|\n",
      "|Volkswagen|           Taos|2022| Gray|Automatic|       Naphtha|      1011|   642060|\n",
      "|      Ford|         Ranger|2021| Gray|Automatic|        Diesel|     61000|   639900|\n",
      "|      Ford|      Territory|2022|White|Automatic|       Naphtha|      1000|   615600|\n",
      "|    Toyota|  Corolla Cross|2022|  Red|Automatic|Hybrid/Naphtha|       510|   609660|\n",
      "|      Ford|      Territory|2022|Black|Automatic|       Naphtha|      1000|   609660|\n",
      "|    Toyota|          Hilux|2021| Gray|Automatic|        Diesel|     28000|   604800|\n",
      "|Volkswagen|           Golf|2019|White|Automatic|       Naphtha|     58000|   604530|\n",
      "|Volkswagen|Tiguan Allspace|2021| Gray|Automatic|       Naphtha|     48500|   588600|\n",
      "|Volkswagen|Tiguan Allspace|2021| Gray|Automatic|       Naphtha|     48700|   588600|\n",
      "|Volkswagen|Tiguan Allspace|2021| Gray|Automatic|       Naphtha|     48711|   588600|\n",
      "|Volkswagen|Tiguan Allspace|2021| Gray|Automatic|       Naphtha|     48750|   588600|\n",
      "|      Jeep|        Compass|2022|White|Automatic|       Naphtha|       500|   585900|\n",
      "+----------+---------------+----+-----+---------+--------------+----------+---------+\n",
      "only showing top 20 rows\n",
      "\n"
     ]
    }
   ],
   "source": [
    "df_pyspark_argSELECTCol.orderBy(desc(\"Money USD\")).show()"
   ]
  },
  {
   "cell_type": "code",
   "execution_count": 125,
   "id": "0d3dec3c",
   "metadata": {},
   "outputs": [
    {
     "name": "stdout",
     "output_type": "stream",
     "text": [
      "+----------+-------------+----+-----+---------+--------------+----------+---------+\n",
      "|     Brand|        Model|Year|Color|     Gear|      FuelType|Kilometres|Money USD|\n",
      "+----------+-------------+----+-----+---------+--------------+----------+---------+\n",
      "|Volkswagen|       Amarok|2022|White|Automatic|        Diesel|       500|   772146|\n",
      "| Chevrolet|  Trailblazer|2021| Gray|Automatic|        Diesel|     23000|   753294|\n",
      "|    Toyota|Corolla Cross|2022|Black|Automatic|Hybrid/Naphtha|      2000|   674460|\n",
      "|    Toyota|        Hilux|2019|White|Automatic|        Diesel|     64000|   674406|\n",
      "|    Toyota|        Hilux|2019| Gray|Automatic|        Diesel|     52000|   669600|\n",
      "|       RAM|         1500|2017| Gray|Automatic|       Naphtha|     79100|   647454|\n",
      "|    Toyota|        Hilux|2019| Gray|Automatic|        Diesel|     51700|   642600|\n",
      "|    Toyota|        Hilux|2019| Gray|Automatic|        Diesel|     51600|   642600|\n",
      "|Volkswagen|         Taos|2022| Gray|Automatic|       Naphtha|      1011|   642060|\n",
      "|      Ford|       Ranger|2021| Gray|Automatic|        Diesel|     61000|   639900|\n",
      "+----------+-------------+----+-----+---------+--------------+----------+---------+\n",
      "\n"
     ]
    }
   ],
   "source": [
    "df_pyspark_argSELECTCol.orderBy(desc(\"Money USD\")).limit(10).show()"
   ]
  },
  {
   "cell_type": "code",
   "execution_count": 126,
   "id": "8642fdea",
   "metadata": {},
   "outputs": [
    {
     "name": "stdout",
     "output_type": "stream",
     "text": [
      "+-------------+-------------+----+---------+---------+--------+----------+------+\n",
      "|        Brand|        Model|Year|    Color|     Gear|FuelType|Kilometres| Money|\n",
      "+-------------+-------------+----+---------+---------+--------+----------+------+\n",
      "|       Toyota|Corolla Cross|2022|   Silver|Automatic| Naphtha|       500|558900|\n",
      "|         Jeep|      Compass|2022|    White|Automatic| Naphtha|       500|585900|\n",
      "|         Jeep|      Compass|2022|Dark gray|Automatic| Naphtha|       500| 35500|\n",
      "|      Citroën|    C4 Cactus|2022|Dark gray|Automatic| Naphtha|       550| 19000|\n",
      "|       Toyota|      Corolla|2019|     Gray|   Manual| Naphtha|      9000|313200|\n",
      "|         Jeep|      Compass|2022|    Black|Automatic| Naphtha|     10500| 34500|\n",
      "|          Kia|      Sorento|2014|    Black|Automatic|  Diesel|    156000| 25000|\n",
      "|Mercedes-Benz|      Clase C|2008|   Silver|Automatic| Naphtha|    174000| 12300|\n",
      "|          BMW|          220|2016|    White|Automatic| Naphtha|     66000| 35500|\n",
      "|   Volkswagen|      T-Cross|2019|   Orange|Automatic| Naphtha|     35000|367200|\n",
      "|Mercedes-Benz|      Clase A|2017|   Silver|Automatic| Naphtha|     55394| 38500|\n",
      "|Mercedes-Benz|      Clase A|2013|    White|   Manual| Naphtha|    162080| 20500|\n",
      "|      Renault|      Sandero|2022|   Silver|   Manual| Naphtha|    111111|189000|\n",
      "|   Volkswagen|         Polo|2022|    White|   Manual| Naphtha|    111111|323460|\n",
      "|          BMW|      Serie 1|2020|    Black|Automatic| Naphtha|     34800| 41900|\n",
      "|         Ford|     Ecosport|2011|    Beige|   Manual| Naphtha|    101000|113400|\n",
      "|    Chevrolet|  Trailblazer|2019|     Gray|Automatic|  Diesel|     73000| 38500|\n",
      "|       Toyota|        Etios|2015|    White|   Manual| Naphtha|     83000|158760|\n",
      "|      Renault|         Clio|2014|     Gray|   Manual| Naphtha|     99000|110700|\n",
      "|       Toyota|         RAV4|2011|     Gray|Automatic| Naphtha|    180000|222480|\n",
      "+-------------+-------------+----+---------+---------+--------+----------+------+\n",
      "only showing top 20 rows\n",
      "\n"
     ]
    }
   ],
   "source": [
    "df_pyspark_argSELECTCol.withColumnRenamed(\"Money USD\",\"Money\").show()"
   ]
  },
  {
   "cell_type": "code",
   "execution_count": 127,
   "id": "23f3096f",
   "metadata": {},
   "outputs": [
    {
     "name": "stdout",
     "output_type": "stream",
     "text": [
      "+----------+---------------+----+------+---------+--------------+----------+---------+\n",
      "|     Brand|          Model|Year| Color|     Gear|      FuelType|Kilometres|Money USD|\n",
      "+----------+---------------+----+------+---------+--------------+----------+---------+\n",
      "|    Toyota|  Corolla Cross|2022|Silver|Automatic|       Naphtha|       500|   558900|\n",
      "|      Jeep|        Compass|2022| White|Automatic|       Naphtha|       500|   585900|\n",
      "|    Toyota|          Hilux|2022| Black|   Manual|        Diesel|     21000|   550800|\n",
      "| Chevrolet|        Equinox|2021|Silver|Automatic|       Naphtha|     23000|   507054|\n",
      "|    Toyota|  Corolla Cross|2022|   Red|Automatic|Hybrid/Naphtha|       510|   609660|\n",
      "|    Toyota|          Hilux|2019|  Gray|Automatic|        Diesel|     51700|   642600|\n",
      "|      Ford|         Ranger|2018|  Gray|Automatic|        Diesel|     70000|   513027|\n",
      "|    Toyota|          Hilux|2019|  Gray|Automatic|        Diesel|     52000|   669600|\n",
      "|Volkswagen|Tiguan Allspace|2021|  Gray|Automatic|       Naphtha|     48711|   588600|\n",
      "|Volkswagen|         Amarok|2019|  Blue|Automatic|        Diesel|     69000|   510300|\n",
      "|      Ford|      Territory|2021| White|Automatic|       Naphtha|     15000|   502200|\n",
      "|    Toyota|  Corolla Cross|2022| Black|Automatic|Hybrid/Naphtha|      2000|   674460|\n",
      "| Chevrolet|    Trailblazer|2021|  Gray|Automatic|        Diesel|     23000|   753294|\n",
      "|    Toyota|          Hilux|2019| White|Automatic|        Diesel|     64000|   674406|\n",
      "|   Peugeot|           3008|2020|  Gray|Automatic|       Naphtha|     45800|   567000|\n",
      "|    Toyota|          Hilux|2019|  Gray|Automatic|        Diesel|     51600|   642600|\n",
      "|Volkswagen|Tiguan Allspace|2021|  Gray|Automatic|       Naphtha|     48700|   588600|\n",
      "|      Ford|         Ranger|2021|  Gray|Automatic|        Diesel|     61000|   639900|\n",
      "|    Toyota|          Hilux|2021|  Gray|Automatic|        Diesel|     28000|   604800|\n",
      "|Volkswagen|           Taos|2022|  Gray|Automatic|       Naphtha|      1011|   642060|\n",
      "+----------+---------------+----+------+---------+--------------+----------+---------+\n",
      "only showing top 20 rows\n",
      "\n"
     ]
    }
   ],
   "source": [
    "df_pyspark_argSELECTCol.filter(df_pyspark_argSELECTCol['Money USD'] > 500000).show()"
   ]
  },
  {
   "cell_type": "code",
   "execution_count": 128,
   "id": "4ee7fda4",
   "metadata": {},
   "outputs": [
    {
     "data": {
      "text/plain": [
       "34"
      ]
     },
     "execution_count": 128,
     "metadata": {},
     "output_type": "execute_result"
    }
   ],
   "source": [
    "CountRowArg = df_pyspark_argSELECTCol.filter(df_pyspark_argSELECTCol['Money USD'] > 500000)\n",
    "CountRowArg.count()"
   ]
  },
  {
   "cell_type": "code",
   "execution_count": 129,
   "id": "01a9992f",
   "metadata": {},
   "outputs": [
    {
     "name": "stdout",
     "output_type": "stream",
     "text": [
      "+----------+---------------+----+-----+---------+--------+----------+---------+\n",
      "|     Brand|          Model|Year|Color|     Gear|FuelType|Kilometres|Money USD|\n",
      "+----------+---------------+----+-----+---------+--------+----------+---------+\n",
      "|Volkswagen|Tiguan Allspace|2021| Gray|Automatic| Naphtha|     48711|   588600|\n",
      "|Volkswagen|         Amarok|2019| Blue|Automatic|  Diesel|     69000|   510300|\n",
      "|Volkswagen|Tiguan Allspace|2021| Gray|Automatic| Naphtha|     48700|   588600|\n",
      "|Volkswagen|           Taos|2022| Gray|Automatic| Naphtha|      1011|   642060|\n",
      "|Volkswagen|           Golf|2019|White|Automatic| Naphtha|     58000|   604530|\n",
      "|Volkswagen|         Amarok|2022|White|Automatic|  Diesel|       500|   772146|\n",
      "|Volkswagen|Tiguan Allspace|2021| Gray|Automatic| Naphtha|     48500|   588600|\n",
      "|Volkswagen|Tiguan Allspace|2021| Gray|Automatic| Naphtha|     48750|   588600|\n",
      "+----------+---------------+----+-----+---------+--------+----------+---------+\n",
      "\n"
     ]
    }
   ],
   "source": [
    "df_pyspark_argSELECTCol.filter((df_pyspark_argSELECTCol['Money USD'] > 500000) & \n",
    "                               (df_pyspark_argSELECTCol['Brand'] == 'Volkswagen')) .show()"
   ]
  },
  {
   "cell_type": "code",
   "execution_count": 130,
   "id": "b00aef2a",
   "metadata": {},
   "outputs": [
    {
     "name": "stdout",
     "output_type": "stream",
     "text": [
      "+---------+-------------+----+------+---------+--------------+----------+---------+\n",
      "|    Brand|        Model|Year| Color|     Gear|      FuelType|Kilometres|Money USD|\n",
      "+---------+-------------+----+------+---------+--------------+----------+---------+\n",
      "|   Toyota|Corolla Cross|2022|Silver|Automatic|       Naphtha|       500|   558900|\n",
      "|     Jeep|      Compass|2022| White|Automatic|       Naphtha|       500|   585900|\n",
      "|     Ford|     Ecosport|2011| Beige|   Manual|       Naphtha|    101000|   113400|\n",
      "|     Ford|     Ecosport|2019|  Gray|   Manual|       Naphtha|     61000|   243000|\n",
      "|     Ford|       Ranger|2021| White|   Manual|        Diesel|     55000|   405000|\n",
      "|   Toyota|        Hilux|2022| Black|   Manual|        Diesel|     21000|   550800|\n",
      "|     Ford|       Fiesta|2016|   Red|   Manual|       Naphtha|     68000|   170100|\n",
      "|Chevrolet|      Equinox|2021|Silver|Automatic|       Naphtha|     23000|   507054|\n",
      "|     Ford|         Kuga|2013| White|   Manual|       Naphtha|     85000|   202500|\n",
      "|   Toyota|Corolla Cross|2022|   Red|Automatic|Hybrid/Naphtha|       510|   609660|\n",
      "|     Ford|    Focus III|2017|  Blue|   Manual|       Naphtha|     46000|   202500|\n",
      "|     Ford|     Ecosport|2014| Black|   Manual|       Naphtha|     79000|   172254|\n",
      "|     Ford|           Ka|2019| White|   Manual|   Naphtha/CNG|     59000|   172254|\n",
      "|     Ford|    Focus III|2016|  Gray|   Manual|       Naphtha|     86000|   228798|\n",
      "|   Toyota|        Hilux|2019|  Gray|Automatic|        Diesel|     51700|   642600|\n",
      "|     Ford|     Focus II|2009|Golden|   Manual|       Naphtha|    133000|   113427|\n",
      "|     Ford|    Focus III|2018|  Gray|Automatic|       Naphtha|     55000|   285654|\n",
      "|     Ford|    Focus III|2014|Silver|   Manual|       Naphtha|     57000|   116100|\n",
      "|     Ford|       Ranger|2018|  Gray|Automatic|        Diesel|     70000|   513027|\n",
      "|   Toyota|        Hilux|2019|  Gray|Automatic|        Diesel|     52000|   669600|\n",
      "+---------+-------------+----+------+---------+--------------+----------+---------+\n",
      "only showing top 20 rows\n",
      "\n"
     ]
    }
   ],
   "source": [
    "df_pyspark_argSELECTCol.filter((df_pyspark_argSELECTCol['Money USD'] > 500000) |\n",
    "                              (df_pyspark_argSELECTCol['Brand'] == 'Ford')).show()"
   ]
  },
  {
   "cell_type": "code",
   "execution_count": 131,
   "id": "6a2b409f",
   "metadata": {},
   "outputs": [
    {
     "name": "stdout",
     "output_type": "stream",
     "text": [
      "+-------------+-----------------+----+------+---------+--------+----------+---------+\n",
      "|        Brand|            Model|Year| Color|     Gear|FuelType|Kilometres|Money USD|\n",
      "+-------------+-----------------+----+------+---------+--------+----------+---------+\n",
      "|Mercedes-Benz|          Clase C|2008|Silver|Automatic| Naphtha|    174000|    12300|\n",
      "|Mercedes-Benz|          Clase A|2017|Silver|Automatic| Naphtha|     55394|    38500|\n",
      "|Mercedes-Benz|          Clase A|2013| White|   Manual| Naphtha|    162080|    20500|\n",
      "|         Mini|           Cooper|2013|   Red|   Manual| Naphtha|    105000|    15000|\n",
      "|Mercedes-Benz|          Clase E|2014| White|Automatic| Naphtha|    129681|    32000|\n",
      "|Mercedes-Benz|          Clase E|2019|  Gray|Automatic| Naphtha|     18594|   185000|\n",
      "|Mercedes-Benz|          Clase A|2013| Black|   Manual| Naphtha|    115000|    17500|\n",
      "|   Mitsubishi|             L200|2016|  Gray|   Manual|  Diesel|    181800|   350460|\n",
      "|Mercedes-Benz|          Clase C|2008|Silver|Automatic| Naphtha|    250000|    10599|\n",
      "|Mercedes-Benz|        Clase GLA|2015| Black|Automatic| Naphtha|     86000|    34990|\n",
      "|Mercedes-Benz|          Clase C|2009|  Blue|Automatic| Naphtha|    105000|    14500|\n",
      "|Mercedes-Benz|        Clase GLA|2017|  Gray|Automatic| Naphtha|     60000|    43990|\n",
      "|Mercedes-Benz|         Sprinter|2018| White|   Manual|  Diesel|    242000|   499500|\n",
      "|Mercedes-Benz|          Clase A|2017|Silver|   Manual| Naphtha|     59000|    31000|\n",
      "|Mercedes-Benz|          Clase A|2017| White|Automatic| Naphtha|     12000|    46999|\n",
      "|         Mini|Cooper Countryman|2014|  Blue|Automatic| Naphtha|    119000|    19500|\n",
      "|Mercedes-Benz|         Sprinter|2015| White|   Manual|  Diesel|    179100|   355854|\n",
      "|   Mitsubishi|        Outlander|2012| Black|Automatic| Naphtha|    168000|    13499|\n",
      "+-------------+-----------------+----+------+---------+--------+----------+---------+\n",
      "\n"
     ]
    }
   ],
   "source": [
    "df_pyspark_argSELECTCol.filter(df_pyspark_argSELECTCol['Brand'].like(\"M%\")).show()"
   ]
  },
  {
   "cell_type": "code",
   "execution_count": 132,
   "id": "8e9ed993",
   "metadata": {},
   "outputs": [
    {
     "name": "stdout",
     "output_type": "stream",
     "text": [
      "+----------+-------------+----+-----+---------+--------------+----------+---------+\n",
      "|     Brand|        Model|Year|Color|     Gear|      FuelType|Kilometres|Money USD|\n",
      "+----------+-------------+----+-----+---------+--------------+----------+---------+\n",
      "|    Toyota|Corolla Cross|2022|  Red|Automatic|Hybrid/Naphtha|       510|   609660|\n",
      "|    Toyota|        Hilux|2019| Gray|Automatic|        Diesel|     51700|   642600|\n",
      "|    Toyota|        Hilux|2019| Gray|Automatic|        Diesel|     52000|   669600|\n",
      "|    Toyota|Corolla Cross|2022|Black|Automatic|Hybrid/Naphtha|      2000|   674460|\n",
      "|    Toyota|        Hilux|2019|White|Automatic|        Diesel|     64000|   674406|\n",
      "|    Toyota|        Hilux|2019| Gray|Automatic|        Diesel|     51600|   642600|\n",
      "|      Ford|       Ranger|2021| Gray|Automatic|        Diesel|     61000|   639900|\n",
      "|    Toyota|        Hilux|2021| Gray|Automatic|        Diesel|     28000|   604800|\n",
      "|Volkswagen|         Taos|2022| Gray|Automatic|       Naphtha|      1011|   642060|\n",
      "|Volkswagen|         Golf|2019|White|Automatic|       Naphtha|     58000|   604530|\n",
      "|      Ford|    Territory|2022|White|Automatic|       Naphtha|      1000|   615600|\n",
      "|       RAM|         1500|2017| Gray|Automatic|       Naphtha|     79100|   647454|\n",
      "|      Ford|    Territory|2022|Black|Automatic|       Naphtha|      1000|   609660|\n",
      "+----------+-------------+----+-----+---------+--------------+----------+---------+\n",
      "\n"
     ]
    }
   ],
   "source": [
    "df_pyspark_argSELECTCol.filter(df_pyspark_argSELECTCol['Money USD'].between(\"600000\",\"700000\")).show()"
   ]
  },
  {
   "cell_type": "code",
   "execution_count": 133,
   "id": "259f6896",
   "metadata": {},
   "outputs": [
    {
     "name": "stdout",
     "output_type": "stream",
     "text": [
      "+-------------+-----------+----+---------+---------+--------+----------+---------+\n",
      "|        Brand|      Model|Year|    Color|     Gear|FuelType|Kilometres|Money USD|\n",
      "+-------------+-----------+----+---------+---------+--------+----------+---------+\n",
      "|         Jeep|    Compass|2022|    White|Automatic| Naphtha|       500|   585900|\n",
      "|         Jeep|    Compass|2022|Dark gray|Automatic| Naphtha|       500|    35500|\n",
      "|      Citroën|  C4 Cactus|2022|Dark gray|Automatic| Naphtha|       550|    19000|\n",
      "|         Jeep|    Compass|2022|    Black|Automatic| Naphtha|     10500|    34500|\n",
      "|          Kia|    Sorento|2014|    Black|Automatic|  Diesel|    156000|    25000|\n",
      "|Mercedes-Benz|    Clase C|2008|   Silver|Automatic| Naphtha|    174000|    12300|\n",
      "|          BMW|        220|2016|    White|Automatic| Naphtha|     66000|    35500|\n",
      "|   Volkswagen|    T-Cross|2019|   Orange|Automatic| Naphtha|     35000|   367200|\n",
      "|Mercedes-Benz|    Clase A|2017|   Silver|Automatic| Naphtha|     55394|    38500|\n",
      "|Mercedes-Benz|    Clase A|2013|    White|   Manual| Naphtha|    162080|    20500|\n",
      "|      Renault|    Sandero|2022|   Silver|   Manual| Naphtha|    111111|   189000|\n",
      "|   Volkswagen|       Polo|2022|    White|   Manual| Naphtha|    111111|   323460|\n",
      "|          BMW|    Serie 1|2020|    Black|Automatic| Naphtha|     34800|    41900|\n",
      "|         Ford|   Ecosport|2011|    Beige|   Manual| Naphtha|    101000|   113400|\n",
      "|    Chevrolet|Trailblazer|2019|     Gray|Automatic|  Diesel|     73000|    38500|\n",
      "|      Renault|       Clio|2014|     Gray|   Manual| Naphtha|     99000|   110700|\n",
      "|         Mini|     Cooper|2013|      Red|   Manual| Naphtha|    105000|    15000|\n",
      "|         Jeep|   Renegade|2018|      Red|   Manual| Naphtha|     78000|   275346|\n",
      "|         Fiat|      Bravo|2013|    Black|   Manual| Naphtha|    124000|   151200|\n",
      "|         Ford|   Ecosport|2019|     Gray|   Manual| Naphtha|     61000|   243000|\n",
      "+-------------+-----------+----+---------+---------+--------+----------+---------+\n",
      "only showing top 20 rows\n",
      "\n"
     ]
    }
   ],
   "source": [
    "df_pyspark_argSELECTCol.filter(df_pyspark_argSELECTCol[\"Brand\"] != 'Toyota').select(\"*\").show()"
   ]
  },
  {
   "cell_type": "code",
   "execution_count": 134,
   "id": "5e201384",
   "metadata": {},
   "outputs": [
    {
     "name": "stdout",
     "output_type": "stream",
     "text": [
      "+-------------+---------+----+------+---------+--------+----------+---------+\n",
      "|        Brand|    Model|Year| Color|     Gear|FuelType|Kilometres|Money USD|\n",
      "+-------------+---------+----+------+---------+--------+----------+---------+\n",
      "|Mercedes-Benz|  Clase C|2008|Silver|Automatic| Naphtha|    174000|    12300|\n",
      "|          BMW|      220|2016| White|Automatic| Naphtha|     66000|    35500|\n",
      "|   Volkswagen|  T-Cross|2019|Orange|Automatic| Naphtha|     35000|   367200|\n",
      "|Mercedes-Benz|  Clase A|2017|Silver|Automatic| Naphtha|     55394|    38500|\n",
      "|Mercedes-Benz|  Clase A|2013| White|   Manual| Naphtha|    162080|    20500|\n",
      "|   Volkswagen|     Polo|2022| White|   Manual| Naphtha|    111111|   323460|\n",
      "|          BMW|  Serie 1|2020| Black|Automatic| Naphtha|     34800|    41900|\n",
      "|Mercedes-Benz|  Clase E|2014| White|Automatic| Naphtha|    129681|    32000|\n",
      "|Mercedes-Benz|  Clase E|2019|  Gray|Automatic| Naphtha|     18594|   185000|\n",
      "|   Volkswagen|      Up!|2015| White|Automatic| Naphtha|    110000|   135000|\n",
      "|   Volkswagen|    Vento|2018| White|   Manual| Naphtha|     44000|   458460|\n",
      "|   Volkswagen|    Nivus|2021| White|Automatic| Naphtha|     34000|   407700|\n",
      "|   Volkswagen|Gol Trend|2015|Silver|   Manual| Naphtha|     65500|   105840|\n",
      "|   Volkswagen|    Vento|2015|Silver|   Manual| Naphtha|     54500|   113400|\n",
      "|   Volkswagen|      Up!|2018| White|   Manual| Naphtha|     79000|    89100|\n",
      "|   Volkswagen|      Gol|2012| Black|   Manual| Naphtha|    102000|    83700|\n",
      "|   Volkswagen|    Vento|2017|  Gray|   Manual| Naphtha|     54000|   405000|\n",
      "|   Volkswagen|   Amarok|2016| Black|Automatic|  Diesel|    129000|   351000|\n",
      "|   Volkswagen|     Golf|2016|Silver|Automatic| Naphtha|    126000|    16000|\n",
      "|   Volkswagen|   Amarok|2016| Black|Automatic|  Diesel|    128900|   351000|\n",
      "+-------------+---------+----+------+---------+--------+----------+---------+\n",
      "only showing top 20 rows\n",
      "\n"
     ]
    }
   ],
   "source": [
    "Brands = ['BMW','Mercedes-Benz','Volkswagen']\n",
    "\n",
    "df_pyspark_argSELECTCol.filter(df_pyspark_argSELECTCol['Brand'].isin(Brands)).show()"
   ]
  },
  {
   "cell_type": "code",
   "execution_count": 135,
   "id": "1db6f729",
   "metadata": {
    "scrolled": true
   },
   "outputs": [
    {
     "name": "stdout",
     "output_type": "stream",
     "text": [
      "+-------------+-----------+----+---------+---------+--------+----------+---------+\n",
      "|        Brand|      Model|Year|    Color|     Gear|FuelType|Kilometres|Money USD|\n",
      "+-------------+-----------+----+---------+---------+--------+----------+---------+\n",
      "|      Citroën|  C4 Cactus|2022|Dark gray|Automatic| Naphtha|       550|    19000|\n",
      "|          Kia|    Sorento|2014|    Black|Automatic|  Diesel|    156000|    25000|\n",
      "|Mercedes-Benz|    Clase C|2008|   Silver|Automatic| Naphtha|    174000|    12300|\n",
      "|          BMW|        220|2016|    White|Automatic| Naphtha|     66000|    35500|\n",
      "|   Volkswagen|    T-Cross|2019|   Orange|Automatic| Naphtha|     35000|   367200|\n",
      "|Mercedes-Benz|    Clase A|2017|   Silver|Automatic| Naphtha|     55394|    38500|\n",
      "|Mercedes-Benz|    Clase A|2013|    White|   Manual| Naphtha|    162080|    20500|\n",
      "|      Renault|    Sandero|2022|   Silver|   Manual| Naphtha|    111111|   189000|\n",
      "|   Volkswagen|       Polo|2022|    White|   Manual| Naphtha|    111111|   323460|\n",
      "|          BMW|    Serie 1|2020|    Black|Automatic| Naphtha|     34800|    41900|\n",
      "|    Chevrolet|Trailblazer|2019|     Gray|Automatic|  Diesel|     73000|    38500|\n",
      "|      Renault|       Clio|2014|     Gray|   Manual| Naphtha|     99000|   110700|\n",
      "|         Mini|     Cooper|2013|      Red|   Manual| Naphtha|    105000|    15000|\n",
      "|         Fiat|      Bravo|2013|    Black|   Manual| Naphtha|    124000|   151200|\n",
      "|    Chevrolet|    Classic|2014|     Gray|   Manual| Naphtha|     38000|   129600|\n",
      "|      Renault|     Master|2013|    White|   Manual|  Diesel|    180000|   280800|\n",
      "|      Peugeot|        408|2013|Dark gray|   Manual| Naphtha|     95000|   132300|\n",
      "|        Honda|       CR-V|2013|    White|Automatic| Naphtha|    186700|   280800|\n",
      "|        Dodge|    Journey|2011|    White|Automatic| Naphtha|    110000|   132300|\n",
      "|         Fiat|      Siena|2017|     Gray|   Manual| Naphtha|     62000|   139590|\n",
      "+-------------+-----------+----+---------+---------+--------+----------+---------+\n",
      "only showing top 20 rows\n",
      "\n"
     ]
    }
   ],
   "source": [
    "df_pyspark_argSELECTCol.filter(~df_pyspark_argSELECTCol['Brand'].isin('Jeep','Toyota','Ford')).show()"
   ]
  },
  {
   "cell_type": "code",
   "execution_count": 136,
   "id": "f038ceb3",
   "metadata": {},
   "outputs": [
    {
     "name": "stdout",
     "output_type": "stream",
     "text": [
      "+-------------+-----+\n",
      "|        Brand|Count|\n",
      "+-------------+-----+\n",
      "|   Volkswagen|   88|\n",
      "|         Ford|   57|\n",
      "|    Chevrolet|   51|\n",
      "|      Peugeot|   49|\n",
      "|       Toyota|   47|\n",
      "|      Renault|   45|\n",
      "|      Citroën|   32|\n",
      "|         Fiat|   25|\n",
      "|         Jeep|   20|\n",
      "|        Honda|   18|\n",
      "|Mercedes-Benz|   14|\n",
      "|          BMW|   13|\n",
      "|      Hyundai|    9|\n",
      "|         Audi|    8|\n",
      "|       Nissan|    8|\n",
      "|          RAM|    6|\n",
      "|        Dodge|    4|\n",
      "|          Kia|    3|\n",
      "|   Mitsubishi|    2|\n",
      "|         Mini|    2|\n",
      "|        Volvo|    2|\n",
      "|           DS|    2|\n",
      "|         Baic|    1|\n",
      "|       Suzuki|    1|\n",
      "|        Chery|    1|\n",
      "|      Porsche|    1|\n",
      "|       Subaru|    1|\n",
      "+-------------+-----+\n",
      "\n"
     ]
    }
   ],
   "source": [
    "df_pyspark_argSELECTCol.groupBy(\"Brand\").agg(count(\"*\").alias(\"Count\")).select(\"Brand\",\n",
    "                                                                               \"Count\").orderBy(desc(\"Count\")).show(50,50)\n"
   ]
  },
  {
   "cell_type": "code",
   "execution_count": 137,
   "id": "8cbabfa2",
   "metadata": {},
   "outputs": [
    {
     "name": "stdout",
     "output_type": "stream",
     "text": [
      "+-------------+-----+\n",
      "|        Color|Count|\n",
      "+-------------+-----+\n",
      "|         Gray|  158|\n",
      "|        White|  150|\n",
      "|        Black|   60|\n",
      "|       Silver|   53|\n",
      "|         Blue|   25|\n",
      "|          Red|   24|\n",
      "|Not available|   11|\n",
      "|       Golden|    8|\n",
      "|    Celestial|    4|\n",
      "|        Brown|    4|\n",
      "|       Violet|    4|\n",
      "|       Orange|    3|\n",
      "|    Dark gray|    3|\n",
      "|        Green|    2|\n",
      "|        Beige|    1|\n",
      "+-------------+-----+\n",
      "\n"
     ]
    }
   ],
   "source": [
    "df_pyspark_argSELECTCol.groupBy(\"Color\").agg(count(\"*\").alias(\"Count\")).select(\"Color\",\n",
    "                                                                               \"Count\").orderBy(desc(\"Count\")).show(50,50)"
   ]
  },
  {
   "cell_type": "code",
   "execution_count": 138,
   "id": "81da5e3f",
   "metadata": {
    "scrolled": true
   },
   "outputs": [
    {
     "name": "stdout",
     "output_type": "stream",
     "text": [
      "+----+-----+\n",
      "|Year|Count|\n",
      "+----+-----+\n",
      "|2017|   74|\n",
      "|2018|   63|\n",
      "|2019|   57|\n",
      "|2016|   53|\n",
      "|2014|   43|\n",
      "|2013|   34|\n",
      "|2022|   33|\n",
      "|2015|   31|\n",
      "|2020|   26|\n",
      "|2021|   26|\n",
      "|2011|   22|\n",
      "|2012|   21|\n",
      "|2009|    8|\n",
      "|2010|    7|\n",
      "|2008|    7|\n",
      "|2007|    1|\n",
      "|1997|    1|\n",
      "|1996|    1|\n",
      "|1995|    1|\n",
      "|2000|    1|\n",
      "+----+-----+\n",
      "\n"
     ]
    }
   ],
   "source": [
    "df_pyspark_argSELECTCol.groupBy(\"Year\").agg(count(\"*\").alias(\"Count\")).select(\"Year\",\n",
    "                                                                              \"Count\").orderBy(desc(\"Count\")).show(50,50)"
   ]
  },
  {
   "cell_type": "code",
   "execution_count": 139,
   "id": "d198978b",
   "metadata": {},
   "outputs": [
    {
     "name": "stdout",
     "output_type": "stream",
     "text": [
      "+--------------+-----+\n",
      "|      FuelType|Count|\n",
      "+--------------+-----+\n",
      "|       Naphtha|  416|\n",
      "|        Diesel|   72|\n",
      "|   Naphtha/CNG|   19|\n",
      "|Hybrid/Naphtha|    3|\n",
      "+--------------+-----+\n",
      "\n"
     ]
    }
   ],
   "source": [
    "df_pyspark_argSELECTCol.groupBy(\"FuelType\").agg(count(\"*\").alias(\"Count\"))\\\n",
    ".select(\"FuelType\",\"Count\").orderBy(desc(\"Count\")).show(50,50)"
   ]
  },
  {
   "cell_type": "code",
   "execution_count": 140,
   "id": "d978db3a",
   "metadata": {},
   "outputs": [
    {
     "name": "stdout",
     "output_type": "stream",
     "text": [
      "+-------------+-----+\n",
      "|         Gear|Count|\n",
      "+-------------+-----+\n",
      "|       Manual|  298|\n",
      "|    Automatic|  211|\n",
      "|Not available|    1|\n",
      "+-------------+-----+\n",
      "\n"
     ]
    }
   ],
   "source": [
    "df_pyspark_argSELECTCol.groupBy(\"Gear\").agg(count(\"*\").alias(\"Count\"))\\\n",
    ".select(\"Gear\",\"Count\").orderBy(desc(\"Count\")).show(50,50)"
   ]
  },
  {
   "cell_type": "markdown",
   "id": "0aad3b40",
   "metadata": {},
   "source": [
    "##### Looking for avg,min, max, and total kilometres and money for each brand"
   ]
  },
  {
   "cell_type": "code",
   "execution_count": 141,
   "id": "8a75d6a2",
   "metadata": {},
   "outputs": [
    {
     "name": "stdout",
     "output_type": "stream",
     "text": [
      "+-------------+--------------+--------------+--------------+----------------+\n",
      "|        Brand|Avg Kilometres|Min Kilometres|Max Kilometres|Total Kilometres|\n",
      "+-------------+--------------+--------------+--------------+----------------+\n",
      "|   Volkswagen|       76420.9|           500|        215000|         6725039|\n",
      "|      Peugeot|      79718.16|           500|        161000|         3906190|\n",
      "|         Jeep|       47515.0|           500|        140000|          950300|\n",
      "|   Mitsubishi|      174900.0|        168000|        181800|          349800|\n",
      "|          Kia|     122666.67|         86000|        156000|          368000|\n",
      "|         Mini|      112000.0|        105000|        119000|          224000|\n",
      "|    Chevrolet|      71116.31|          1400|        153000|         3626932|\n",
      "|          RAM|      20466.67|          4700|         79100|          122800|\n",
      "|        Volvo|      149000.0|        125000|        173000|          298000|\n",
      "|         Baic|       38800.0|         38800|         38800|           38800|\n",
      "|      Hyundai|      93018.89|          8900|        137000|          837170|\n",
      "|        Honda|      95436.83|         20000|        186700|         1717863|\n",
      "|         Audi|       66725.0|          3000|        153000|          533800|\n",
      "|Mercedes-Benz|      117703.5|         12000|        250000|         1647849|\n",
      "|      Renault|      71792.47|         22000|        180000|         3230661|\n",
      "|          BMW|      58769.23|          2500|        132000|          764000|\n",
      "|       Suzuki|      190000.0|        190000|        190000|          190000|\n",
      "|        Chery|       71239.0|         71239|         71239|           71239|\n",
      "|      Porsche|       59141.0|         59141|         59141|           59141|\n",
      "|           DS|       15050.0|         15000|         15100|           30100|\n",
      "|      Citroën|      82378.13|           550|        220000|         2636100|\n",
      "|       Toyota|      59066.79|           500|        180000|         2776139|\n",
      "|        Dodge|       67925.0|         41800|        110000|          271700|\n",
      "|       Nissan|      62760.25|         30000|         96000|          502082|\n",
      "|         Fiat|       79643.8|          2000|        190000|         1991095|\n",
      "|         Ford|      68241.21|          1000|        335000|         3889749|\n",
      "|       Subaru|      204000.0|        204000|        204000|          204000|\n",
      "+-------------+--------------+--------------+--------------+----------------+\n",
      "\n"
     ]
    }
   ],
   "source": [
    "df_pyspark_argSELECTCol.groupBy(\"Brand\").agg(round(avg(\"Kilometres\"),2).alias(\"Avg Kilometres\"),\n",
    "                                            min(\"Kilometres\").alias(\"Min Kilometres\"),\n",
    "                                            max(\"Kilometres\").alias(\"Max Kilometres\"),\n",
    "                                            sum(\"Kilometres\").alias(\"Total Kilometres\")).show(30,25)"
   ]
  },
  {
   "cell_type": "code",
   "execution_count": 142,
   "id": "df0fad93",
   "metadata": {},
   "outputs": [
    {
     "name": "stdout",
     "output_type": "stream",
     "text": [
      "+-------------+-------------+-------------+-------------+---------------+\n",
      "|        Brand|Avg Money USD|Min Money USD|Max Money USD|Total Money USD|\n",
      "+-------------+-------------+-------------+-------------+---------------+\n",
      "|   Volkswagen|    263707.83|         8000|       772146|       23206289|\n",
      "|      Peugeot|    191850.82|        17900|       567000|        9400690|\n",
      "|         Jeep|     277666.3|        15990|       585900|        5553326|\n",
      "|   Mitsubishi|     181979.5|        13499|       350460|         363959|\n",
      "|          Kia|    120786.67|        13900|       323460|         362360|\n",
      "|         Mini|      17250.0|        15000|        19500|          34500|\n",
      "|    Chevrolet|     202559.9|        38500|       753294|       10330555|\n",
      "|          RAM|    170557.33|        64900|       647454|        1023344|\n",
      "|        Volvo|       9450.0|         8900|        10000|          18900|\n",
      "|         Baic|     312120.0|       312120|       312120|         312120|\n",
      "|      Hyundai|    252356.44|        23500|       426060|        2271208|\n",
      "|        Honda|    250437.89|        16500|       415800|        4507882|\n",
      "|         Audi|    239082.75|        14900|       430000|        1912662|\n",
      "|Mercedes-Benz|     95945.14|        10599|       499500|        1343232|\n",
      "|      Renault|    185776.58|        86130|       334260|        8359946|\n",
      "|          BMW|     82523.85|        12500|       295920|        1072810|\n",
      "|       Suzuki|     102330.0|       102330|       102330|         102330|\n",
      "|        Chery|     178200.0|       178200|       178200|         178200|\n",
      "|      Porsche|      79900.0|        79900|        79900|          79900|\n",
      "|           DS|     559434.0|       559434|       559434|        1118868|\n",
      "+-------------+-------------+-------------+-------------+---------------+\n",
      "only showing top 20 rows\n",
      "\n"
     ]
    }
   ],
   "source": [
    "df_pyspark_argSELECTCol.groupBy(\"Brand\").agg(round(avg(\"Money USD\"),2).alias(\"Avg Money USD\"),\n",
    "                                            min(\"Money USD\").alias(\"Min Money USD\"),\n",
    "                                            max(\"Money USD\").alias(\"Max Money USD\"),\n",
    "                                            sum(\"Money USD\").alias(\"Total Money USD\")).show()"
   ]
  },
  {
   "cell_type": "code",
   "execution_count": 143,
   "id": "cc47627c",
   "metadata": {},
   "outputs": [
    {
     "name": "stdout",
     "output_type": "stream",
     "text": [
      "+----------+------------------+\n",
      "|     Brand|             Money|\n",
      "+----------+------------------+\n",
      "|Volkswagen|263707.82954545453|\n",
      "|      Jeep|          277666.3|\n",
      "|      Baic|          312120.0|\n",
      "|   Hyundai|252356.44444444444|\n",
      "|     Honda|250437.88888888888|\n",
      "|        DS|          559434.0|\n",
      "|    Toyota| 297632.6808510638|\n",
      "|     Dodge|          398655.0|\n",
      "+----------+------------------+\n",
      "\n"
     ]
    }
   ],
   "source": [
    "df_pyspark_argSELECTCol.groupBy(\"Brand\").agg(avg(col(\"Money USD\")\n",
    "                                            .cast(\"double\"))\n",
    "                                            .alias(\"Money\")).filter(col(\"Money\") > 250000).select(\"Brand\",\"Money\").show()"
   ]
  },
  {
   "cell_type": "code",
   "execution_count": 144,
   "id": "e69c761e",
   "metadata": {},
   "outputs": [
    {
     "name": "stdout",
     "output_type": "stream",
     "text": [
      "+-------------+\n",
      "|        Brand|\n",
      "+-------------+\n",
      "|   Volkswagen|\n",
      "|      Peugeot|\n",
      "|         Jeep|\n",
      "|   Mitsubishi|\n",
      "|          Kia|\n",
      "|         Mini|\n",
      "|    Chevrolet|\n",
      "|          RAM|\n",
      "|        Volvo|\n",
      "|         Baic|\n",
      "|      Hyundai|\n",
      "|        Honda|\n",
      "|         Audi|\n",
      "|Mercedes-Benz|\n",
      "|      Renault|\n",
      "|          BMW|\n",
      "|       Suzuki|\n",
      "|        Chery|\n",
      "|      Porsche|\n",
      "|           DS|\n",
      "|      Citroën|\n",
      "|       Toyota|\n",
      "|        Dodge|\n",
      "|       Nissan|\n",
      "|         Fiat|\n",
      "|         Ford|\n",
      "|       Subaru|\n",
      "+-------------+\n",
      "\n"
     ]
    }
   ],
   "source": [
    "df_pyspark_argSELECTCol.select(\"Brand\").distinct().show(50,50)"
   ]
  },
  {
   "cell_type": "code",
   "execution_count": 145,
   "id": "53ae9fe9",
   "metadata": {},
   "outputs": [
    {
     "name": "stdout",
     "output_type": "stream",
     "text": [
      "+-------------+\n",
      "|        Brand|\n",
      "+-------------+\n",
      "|   Volkswagen|\n",
      "|      Peugeot|\n",
      "|         Jeep|\n",
      "|   Mitsubishi|\n",
      "|          Kia|\n",
      "|         Mini|\n",
      "|    Chevrolet|\n",
      "|          RAM|\n",
      "|        Volvo|\n",
      "|         Baic|\n",
      "|      Hyundai|\n",
      "|        Honda|\n",
      "|         Audi|\n",
      "|Mercedes-Benz|\n",
      "|      Renault|\n",
      "|          BMW|\n",
      "|       Suzuki|\n",
      "|        Chery|\n",
      "|      Porsche|\n",
      "|           DS|\n",
      "|      Citroën|\n",
      "|       Toyota|\n",
      "|        Dodge|\n",
      "|       Nissan|\n",
      "|         Fiat|\n",
      "|         Ford|\n",
      "|       Subaru|\n",
      "+-------------+\n",
      "\n"
     ]
    }
   ],
   "source": [
    "df_pyspark_argSELECTCol.select(\"Brand\").distinct().show(50,50)"
   ]
  },
  {
   "cell_type": "code",
   "execution_count": 146,
   "id": "356a436b",
   "metadata": {},
   "outputs": [
    {
     "name": "stdout",
     "output_type": "stream",
     "text": [
      "+-------------+\n",
      "|     BodyType|\n",
      "+-------------+\n",
      "|Not available|\n",
      "|    Hatchback|\n",
      "|        Sedán|\n",
      "|    Crossover|\n",
      "|       Furgón|\n",
      "|          SUV|\n",
      "|  Monovolumen|\n",
      "|      Pick-Up|\n",
      "|      Minivan|\n",
      "|        Rural|\n",
      "|        Coupé|\n",
      "+-------------+\n",
      "\n"
     ]
    }
   ],
   "source": [
    "df_pyspark_arg.select(\"BodyType\").distinct().show(50,50)"
   ]
  },
  {
   "cell_type": "code",
   "execution_count": 147,
   "id": "87dc1934",
   "metadata": {},
   "outputs": [
    {
     "name": "stdout",
     "output_type": "stream",
     "text": [
      "+--------------+\n",
      "|      FuelType|\n",
      "+--------------+\n",
      "|   Naphtha/CNG|\n",
      "|        Diesel|\n",
      "|Hybrid/Naphtha|\n",
      "|       Naphtha|\n",
      "+--------------+\n",
      "\n"
     ]
    }
   ],
   "source": [
    "df_pyspark_arg.select(\"FuelType\").distinct().show(50,50)"
   ]
  },
  {
   "cell_type": "code",
   "execution_count": 148,
   "id": "ec34a252",
   "metadata": {},
   "outputs": [
    {
     "name": "stdout",
     "output_type": "stream",
     "text": [
      "+-------------+\n",
      "|         Gear|\n",
      "+-------------+\n",
      "|Not available|\n",
      "|    Automatic|\n",
      "|       Manual|\n",
      "+-------------+\n",
      "\n"
     ]
    }
   ],
   "source": [
    "df_pyspark_arg.select(\"Gear\").distinct().show(50,50)\n"
   ]
  },
  {
   "cell_type": "code",
   "execution_count": 149,
   "id": "593992dd",
   "metadata": {},
   "outputs": [
    {
     "name": "stdout",
     "output_type": "stream",
     "text": [
      "+-------------+-------------+----+---------+---------+--------+----------+---------+----------+\n",
      "|        Brand|        Model|Year|    Color|     Gear|FuelType|Kilometres|Money USD|Money EURO|\n",
      "+-------------+-------------+----+---------+---------+--------+----------+---------+----------+\n",
      "|       Toyota|Corolla Cross|2022|   Silver|Automatic| Naphtha|       500|   558900|  514188.0|\n",
      "|         Jeep|      Compass|2022|    White|Automatic| Naphtha|       500|   585900|  539028.0|\n",
      "|         Jeep|      Compass|2022|Dark gray|Automatic| Naphtha|       500|    35500|   32660.0|\n",
      "|      Citroën|    C4 Cactus|2022|Dark gray|Automatic| Naphtha|       550|    19000|   17480.0|\n",
      "|       Toyota|      Corolla|2019|     Gray|   Manual| Naphtha|      9000|   313200|  288144.0|\n",
      "|         Jeep|      Compass|2022|    Black|Automatic| Naphtha|     10500|    34500|   31740.0|\n",
      "|          Kia|      Sorento|2014|    Black|Automatic|  Diesel|    156000|    25000|   23000.0|\n",
      "|Mercedes-Benz|      Clase C|2008|   Silver|Automatic| Naphtha|    174000|    12300|   11316.0|\n",
      "|          BMW|          220|2016|    White|Automatic| Naphtha|     66000|    35500|   32660.0|\n",
      "|   Volkswagen|      T-Cross|2019|   Orange|Automatic| Naphtha|     35000|   367200|  337824.0|\n",
      "|Mercedes-Benz|      Clase A|2017|   Silver|Automatic| Naphtha|     55394|    38500|   35420.0|\n",
      "|Mercedes-Benz|      Clase A|2013|    White|   Manual| Naphtha|    162080|    20500|   18860.0|\n",
      "|      Renault|      Sandero|2022|   Silver|   Manual| Naphtha|    111111|   189000|  173880.0|\n",
      "|   Volkswagen|         Polo|2022|    White|   Manual| Naphtha|    111111|   323460|  297583.2|\n",
      "|          BMW|      Serie 1|2020|    Black|Automatic| Naphtha|     34800|    41900|   38548.0|\n",
      "|         Ford|     Ecosport|2011|    Beige|   Manual| Naphtha|    101000|   113400|  104328.0|\n",
      "|    Chevrolet|  Trailblazer|2019|     Gray|Automatic|  Diesel|     73000|    38500|   35420.0|\n",
      "|       Toyota|        Etios|2015|    White|   Manual| Naphtha|     83000|   158760|  146059.2|\n",
      "|      Renault|         Clio|2014|     Gray|   Manual| Naphtha|     99000|   110700|  101844.0|\n",
      "|       Toyota|         RAV4|2011|     Gray|Automatic| Naphtha|    180000|   222480|  204681.6|\n",
      "+-------------+-------------+----+---------+---------+--------+----------+---------+----------+\n",
      "only showing top 20 rows\n",
      "\n"
     ]
    }
   ],
   "source": [
    "df_pyspark_argSELECTCol.withColumn(\"Money EURO\",df_pyspark_argSELECTCol['Money USD'] * 0.92).show()"
   ]
  },
  {
   "cell_type": "code",
   "execution_count": 150,
   "id": "923cc987",
   "metadata": {},
   "outputs": [
    {
     "name": "stdout",
     "output_type": "stream",
     "text": [
      "+-------------+----+-----+---------+\n",
      "|        Brand|left|right|substring|\n",
      "+-------------+----+-----+---------+\n",
      "|       Toyota|  To|   ta|       yo|\n",
      "|         Jeep|  Je|   ep|       ep|\n",
      "|         Jeep|  Je|   ep|       ep|\n",
      "|      Citroën|  Ci|   ën|       tr|\n",
      "|       Toyota|  To|   ta|       yo|\n",
      "|         Jeep|  Je|   ep|       ep|\n",
      "|          Kia|  Ki|   ia|        a|\n",
      "|Mercedes-Benz|  Me|   nz|       rc|\n",
      "|          BMW|  BM|   MW|        W|\n",
      "|   Volkswagen|  Vo|   en|       lk|\n",
      "|Mercedes-Benz|  Me|   nz|       rc|\n",
      "|Mercedes-Benz|  Me|   nz|       rc|\n",
      "|      Renault|  Re|   lt|       na|\n",
      "|   Volkswagen|  Vo|   en|       lk|\n",
      "|          BMW|  BM|   MW|        W|\n",
      "|         Ford|  Fo|   rd|       rd|\n",
      "|    Chevrolet|  Ch|   et|       ev|\n",
      "|       Toyota|  To|   ta|       yo|\n",
      "|      Renault|  Re|   lt|       na|\n",
      "|       Toyota|  To|   ta|       yo|\n",
      "+-------------+----+-----+---------+\n",
      "only showing top 20 rows\n",
      "\n"
     ]
    }
   ],
   "source": [
    "df_pyspark_argSELECTCol.select(df_pyspark_argSELECTCol[\"Brand\"],substring(df_pyspark_argSELECTCol[\"Brand\"],1,2).alias(\"left\"),\n",
    "                               substring(df_pyspark_argSELECTCol[\"Brand\"],-2,2).alias(\"right\"),\n",
    "                               substring(df_pyspark_argSELECTCol[\"Brand\"],3,2).alias(\"substring\")).show()"
   ]
  },
  {
   "cell_type": "code",
   "execution_count": 151,
   "id": "8106e0dd",
   "metadata": {
    "scrolled": true
   },
   "outputs": [
    {
     "name": "stdout",
     "output_type": "stream",
     "text": [
      "+---------------------------------+\n",
      "|Brand Model                      |\n",
      "+---------------------------------+\n",
      "|Brand Model Toyota Corolla Cross |\n",
      "|Brand Model Jeep Compass         |\n",
      "|Brand Model Jeep Compass         |\n",
      "|Brand Model Citroën C4 Cactus    |\n",
      "|Brand Model Toyota Corolla       |\n",
      "|Brand Model Jeep Compass         |\n",
      "|Brand Model Kia Sorento          |\n",
      "|Brand Model Mercedes-Benz Clase C|\n",
      "|Brand Model BMW 220              |\n",
      "|Brand Model Volkswagen T-Cross   |\n",
      "|Brand Model Mercedes-Benz Clase A|\n",
      "|Brand Model Mercedes-Benz Clase A|\n",
      "|Brand Model Renault Sandero      |\n",
      "|Brand Model Volkswagen Polo      |\n",
      "|Brand Model BMW Serie 1          |\n",
      "|Brand Model Ford Ecosport        |\n",
      "|Brand Model Chevrolet Trailblazer|\n",
      "|Brand Model Toyota Etios         |\n",
      "|Brand Model Renault Clio         |\n",
      "|Brand Model Toyota RAV4          |\n",
      "+---------------------------------+\n",
      "only showing top 20 rows\n",
      "\n"
     ]
    }
   ],
   "source": [
    "df_pyspark_arg.select(concat(lit(\"Brand Model \")\n",
    "                                      ,df_pyspark_arg[\"Brand\"], lit(\" \"),\n",
    "                                     df_pyspark_arg[\"Model\"]).alias(\"Brand Model\")).show(truncate=False)"
   ]
  },
  {
   "cell_type": "markdown",
   "id": "26a0681e",
   "metadata": {},
   "source": [
    "#### Money - looking for min and max values"
   ]
  },
  {
   "cell_type": "code",
   "execution_count": 152,
   "id": "64276175",
   "metadata": {},
   "outputs": [],
   "source": [
    "Min = df_pyspark_argSELECTCol.agg(min(\"Money USD\")).first()[0]\n"
   ]
  },
  {
   "cell_type": "code",
   "execution_count": 153,
   "id": "a8c0f480",
   "metadata": {},
   "outputs": [],
   "source": [
    "Max = df_pyspark_argSELECTCol.agg(max(\"Money USD\")).first()[0]"
   ]
  },
  {
   "cell_type": "code",
   "execution_count": 154,
   "id": "7257bbb8",
   "metadata": {},
   "outputs": [],
   "source": [
    "MinMoneyUSD = df_pyspark_argSELECTCol.filter(df_pyspark_argSELECTCol[\"Money USD\"] == Min )"
   ]
  },
  {
   "cell_type": "code",
   "execution_count": 155,
   "id": "bc054300",
   "metadata": {},
   "outputs": [],
   "source": [
    "MaxMoneyUSD = df_pyspark_argSELECTCol.filter(df_pyspark_argSELECTCol[\"Money USD\"] == Max )"
   ]
  },
  {
   "cell_type": "code",
   "execution_count": 156,
   "id": "c6744b56",
   "metadata": {},
   "outputs": [],
   "source": [
    "UnionMaxMinMoneyUSD =MaxMoneyUSD.union(MinMoneyUSD) "
   ]
  },
  {
   "cell_type": "code",
   "execution_count": 157,
   "id": "39c9950d",
   "metadata": {
    "scrolled": true
   },
   "outputs": [
    {
     "name": "stdout",
     "output_type": "stream",
     "text": [
      "+----------+---------+----+-----+---------+--------+----------+---------+\n",
      "|     Brand|    Model|Year|Color|     Gear|FuelType|Kilometres|Money USD|\n",
      "+----------+---------+----+-----+---------+--------+----------+---------+\n",
      "|Volkswagen|   Amarok|2022|White|Automatic|  Diesel|       500|   772146|\n",
      "|Volkswagen|Gol Trend|2013| Gray|   Manual| Naphtha|    130000|     8000|\n",
      "+----------+---------+----+-----+---------+--------+----------+---------+\n",
      "\n"
     ]
    }
   ],
   "source": [
    "UnionMaxMinMoneyUSD.show()"
   ]
  },
  {
   "cell_type": "markdown",
   "id": "aff8618b",
   "metadata": {},
   "source": [
    "#### Kilometres  - looking for min and max values"
   ]
  },
  {
   "cell_type": "code",
   "execution_count": 158,
   "id": "576f33a0",
   "metadata": {},
   "outputs": [],
   "source": [
    "MinKM = df_pyspark_argSELECTCol.agg(min(\"Kilometres\")).first()[0]"
   ]
  },
  {
   "cell_type": "code",
   "execution_count": 159,
   "id": "1d29ea17",
   "metadata": {},
   "outputs": [],
   "source": [
    "MaxKM = df_pyspark_argSELECTCol.agg(max(\"Kilometres\")).first()[0]"
   ]
  },
  {
   "cell_type": "code",
   "execution_count": 160,
   "id": "d998d8d0",
   "metadata": {},
   "outputs": [],
   "source": [
    "MinKMDF = df_pyspark_argSELECTCol.filter(df_pyspark_argSELECTCol[\"Kilometres\"] == MinKM )"
   ]
  },
  {
   "cell_type": "code",
   "execution_count": 161,
   "id": "88107cab",
   "metadata": {},
   "outputs": [],
   "source": [
    "MaxKMDF = df_pyspark_argSELECTCol.filter(df_pyspark_argSELECTCol[\"Kilometres\"] == MaxKM )"
   ]
  },
  {
   "cell_type": "code",
   "execution_count": 162,
   "id": "022b4ce6",
   "metadata": {},
   "outputs": [],
   "source": [
    "UnionMaxMinKilometres =MaxKMDF.union(MinKMDF) "
   ]
  },
  {
   "cell_type": "code",
   "execution_count": 163,
   "id": "e9c52dff",
   "metadata": {},
   "outputs": [
    {
     "name": "stdout",
     "output_type": "stream",
     "text": [
      "+----------+-------------+----+---------+---------+--------+----------+---------+\n",
      "|     Brand|        Model|Year|    Color|     Gear|FuelType|Kilometres|Money USD|\n",
      "+----------+-------------+----+---------+---------+--------+----------+---------+\n",
      "|      Ford|        F-100|1997|     Gray|   Manual|  Diesel|    335000|    16300|\n",
      "|    Toyota|Corolla Cross|2022|   Silver|Automatic| Naphtha|       500|   558900|\n",
      "|      Jeep|      Compass|2022|    White|Automatic| Naphtha|       500|   585900|\n",
      "|      Jeep|      Compass|2022|Dark gray|Automatic| Naphtha|       500|    35500|\n",
      "|   Peugeot|          208|2022|    Black|   Manual| Naphtha|       500|   250020|\n",
      "|Volkswagen|       Amarok|2022|    White|Automatic|  Diesel|       500|   772146|\n",
      "+----------+-------------+----+---------+---------+--------+----------+---------+\n",
      "\n"
     ]
    }
   ],
   "source": [
    "UnionMaxMinKilometres.show()"
   ]
  },
  {
   "cell_type": "code",
   "execution_count": 164,
   "id": "436a9d1b",
   "metadata": {
    "scrolled": true
   },
   "outputs": [
    {
     "name": "stdout",
     "output_type": "stream",
     "text": [
      "+----------+---------------+----+-----+---------+--------------+----------+---------+---+\n",
      "|     Brand|          Model|Year|Color|     Gear|      FuelType|Kilometres|Money USD| RN|\n",
      "+----------+---------------+----+-----+---------+--------------+----------+---------+---+\n",
      "|Volkswagen|         Amarok|2022|White|Automatic|        Diesel|       500|   772146|  1|\n",
      "| Chevrolet|    Trailblazer|2021| Gray|Automatic|        Diesel|     23000|   753294|  2|\n",
      "|    Toyota|  Corolla Cross|2022|Black|Automatic|Hybrid/Naphtha|      2000|   674460|  3|\n",
      "|    Toyota|          Hilux|2019|White|Automatic|        Diesel|     64000|   674406|  4|\n",
      "|    Toyota|          Hilux|2019| Gray|Automatic|        Diesel|     52000|   669600|  5|\n",
      "|       RAM|           1500|2017| Gray|Automatic|       Naphtha|     79100|   647454|  6|\n",
      "|    Toyota|          Hilux|2019| Gray|Automatic|        Diesel|     51700|   642600|  7|\n",
      "|    Toyota|          Hilux|2019| Gray|Automatic|        Diesel|     51600|   642600|  8|\n",
      "|Volkswagen|           Taos|2022| Gray|Automatic|       Naphtha|      1011|   642060|  9|\n",
      "|      Ford|         Ranger|2021| Gray|Automatic|        Diesel|     61000|   639900| 10|\n",
      "|      Ford|      Territory|2022|White|Automatic|       Naphtha|      1000|   615600| 11|\n",
      "|    Toyota|  Corolla Cross|2022|  Red|Automatic|Hybrid/Naphtha|       510|   609660| 12|\n",
      "|      Ford|      Territory|2022|Black|Automatic|       Naphtha|      1000|   609660| 13|\n",
      "|    Toyota|          Hilux|2021| Gray|Automatic|        Diesel|     28000|   604800| 14|\n",
      "|Volkswagen|           Golf|2019|White|Automatic|       Naphtha|     58000|   604530| 15|\n",
      "|Volkswagen|Tiguan Allspace|2021| Gray|Automatic|       Naphtha|     48500|   588600| 16|\n",
      "|Volkswagen|Tiguan Allspace|2021| Gray|Automatic|       Naphtha|     48700|   588600| 17|\n",
      "|Volkswagen|Tiguan Allspace|2021| Gray|Automatic|       Naphtha|     48711|   588600| 18|\n",
      "|Volkswagen|Tiguan Allspace|2021| Gray|Automatic|       Naphtha|     48750|   588600| 19|\n",
      "|      Jeep|        Compass|2022|White|Automatic|       Naphtha|       500|   585900| 20|\n",
      "+----------+---------------+----+-----+---------+--------------+----------+---------+---+\n",
      "only showing top 20 rows\n",
      "\n"
     ]
    }
   ],
   "source": [
    "windowSpec = Window.orderBy(col(\"Money USD\").desc())\n",
    "\n",
    "RowNumDf_pyspark_argSELECTCol = df_pyspark_argSELECTCol.withColumn(\"RN\", row_number().over(windowSpec))\n",
    "RowNumDf_pyspark_argSELECTCol.show()\n"
   ]
  },
  {
   "cell_type": "markdown",
   "id": "0600a51d",
   "metadata": {},
   "source": [
    "##### Looking for the most expensive car in each brand"
   ]
  },
  {
   "cell_type": "code",
   "execution_count": 165,
   "id": "b6d42b06",
   "metadata": {},
   "outputs": [
    {
     "name": "stdout",
     "output_type": "stream",
     "text": [
      "+-----+------------+----+-------------+---------+--------+----------+---------+---+\n",
      "|Brand|       Model|Year|        Color|     Gear|FuelType|Kilometres|Money USD| RN|\n",
      "+-----+------------+----+-------------+---------+--------+----------+---------+---+\n",
      "| Audi|    R8 Coupé|2020|         Blue|Automatic| Naphtha|      3000|   430000|  1|\n",
      "| Audi|          Q5|2013|        White|Automatic| Naphtha|    153000|   361800|  2|\n",
      "| Audi|          A1|2016|         Gray|Automatic| Naphtha|     46000|   350454|  3|\n",
      "| Audi|A3 Sportback|2011|        White|Automatic| Naphtha|     89000|   237054|  4|\n",
      "| Audi|    R8 Coupé|2011|        White|Automatic| Naphtha|     19200|   235000|  5|\n",
      "| Audi|          A4|2011|         Gray|Automatic| Naphtha|     99100|   215454|  6|\n",
      "| Audi|          S3|2018|         Blue|Automatic| Naphtha|     25500|    68000|  7|\n",
      "| Audi|          A1|2011|        White|Automatic| Naphtha|     99000|    14900|  8|\n",
      "|  BMW|     Serie 3|2009|         Gray|   Manual| Naphtha|     79700|   295920|  1|\n",
      "|  BMW|     Serie 1|2008|         Gray|   Manual| Naphtha|    121000|   162000|  2|\n",
      "|  BMW|     Serie M|2017|         Gray|Automatic| Naphtha|     11000|   115700|  3|\n",
      "|  BMW|     Serie 4|2022|        Black|Automatic| Naphtha|     21000|    95000|  4|\n",
      "|  BMW|     Serie 2|2021|         Blue|Automatic| Naphtha|      2500|    90000|  5|\n",
      "|  BMW|     Serie 2|2021|    Celestial|Automatic| Naphtha|      2500|    89990|  6|\n",
      "|  BMW|     Serie 2|2021|         Blue|Automatic| Naphtha|      4100|    79000|  7|\n",
      "|  BMW|     Serie 1|2020|        Black|Automatic| Naphtha|     34800|    41900|  8|\n",
      "|  BMW|         220|2016|        White|Automatic| Naphtha|     66000|    35500|  9|\n",
      "|  BMW|     Serie 3|2008|        Black|   Manual| Naphtha|     91400|    24800| 10|\n",
      "|  BMW|          X5|2000|Not available|   Manual| Naphtha|    132000|    16000| 11|\n",
      "|  BMW|     Serie 3|2008|         Gray|   Manual| Naphtha|     73000|    14500| 12|\n",
      "+-----+------------+----+-------------+---------+--------+----------+---------+---+\n",
      "only showing top 20 rows\n",
      "\n"
     ]
    }
   ],
   "source": [
    "windowSpec = Window.partitionBy(col(\"Brand\")).orderBy(col(\"Money USD\").desc())\n",
    "\n",
    "RowNumDf_pyspark_argSELECTCol = df_pyspark_argSELECTCol.withColumn(\"RN\", row_number().over(windowSpec))\n",
    "RowNumDf_pyspark_argSELECTCol.show()"
   ]
  },
  {
   "cell_type": "code",
   "execution_count": 166,
   "id": "7752fc78",
   "metadata": {
    "scrolled": true
   },
   "outputs": [
    {
     "name": "stdout",
     "output_type": "stream",
     "text": [
      "+-------------+-----------------+----+-------------+---------+--------------+----------+---------+---+\n",
      "|        Brand|            Model|Year|        Color|     Gear|      FuelType|Kilometres|Money USD| RN|\n",
      "+-------------+-----------------+----+-------------+---------+--------------+----------+---------+---+\n",
      "|   Volkswagen|           Amarok|2022|        White|Automatic|        Diesel|       500|   772146|  1|\n",
      "|    Chevrolet|      Trailblazer|2021|         Gray|Automatic|        Diesel|     23000|   753294|  1|\n",
      "|       Toyota|    Corolla Cross|2022|        Black|Automatic|Hybrid/Naphtha|      2000|   674460|  1|\n",
      "|          RAM|             1500|2017|         Gray|Automatic|       Naphtha|     79100|   647454|  1|\n",
      "|         Ford|           Ranger|2021|         Gray|Automatic|        Diesel|     61000|   639900|  1|\n",
      "|         Jeep|          Compass|2022|        White|Automatic|       Naphtha|       500|   585900|  1|\n",
      "|      Peugeot|             3008|2020|         Gray|Automatic|       Naphtha|     45800|   567000|  1|\n",
      "|           DS|    DS3 Crossback|2021|         Blue|Automatic|       Naphtha|     15100|   559434|  1|\n",
      "|Mercedes-Benz|         Sprinter|2018|        White|   Manual|        Diesel|    242000|   499500|  1|\n",
      "|        Dodge|          Journey|2018|        Black|   Manual|       Naphtha|     41800|   491400|  1|\n",
      "|      Citroën|            Jumpy|2022|Not available|   Manual|        Diesel|      1000|   469800|  1|\n",
      "|         Audi|         R8 Coupé|2020|         Blue|Automatic|       Naphtha|      3000|   430000|  1|\n",
      "|       Nissan|           Sentra|2020|        White|Automatic|       Naphtha|     30000|   429300|  1|\n",
      "|      Hyundai|         Santa Fe|2017|         Gray|   Manual|       Naphtha|     90000|   426060|  1|\n",
      "|        Honda|             CR-V|2017|         Gray|Automatic|       Naphtha|    154451|   415800|  1|\n",
      "|   Mitsubishi|             L200|2016|         Gray|   Manual|        Diesel|    181800|   350460|  1|\n",
      "|      Renault|     Duster Oroch|2021|        Black|   Manual|       Naphtha|     26000|   334260|  1|\n",
      "|         Fiat|             Toro|2017|       Silver|Automatic|        Diesel|    108933|   324000|  1|\n",
      "|          Kia|           Cerato|2020|        White|Automatic|       Naphtha|     86000|   323460|  1|\n",
      "|         Baic|              X55|2019|        Black|   Manual|       Naphtha|     38800|   312120|  1|\n",
      "|          BMW|          Serie 3|2009|         Gray|   Manual|       Naphtha|     79700|   295920|  1|\n",
      "|        Chery|          Tiggo 3|2017|         Gray|   Manual|       Naphtha|     71239|   178200|  1|\n",
      "|       Subaru|               XV|2011|        White|Automatic|       Naphtha|    204000|   135000|  1|\n",
      "|       Suzuki|            Swift|2009|         Gray|   Manual|       Naphtha|    190000|   102330|  1|\n",
      "|      Porsche|         Panamera|2010|        White|Automatic|       Naphtha|     59141|    79900|  1|\n",
      "|         Mini|Cooper Countryman|2014|         Blue|Automatic|       Naphtha|    119000|    19500|  1|\n",
      "|        Volvo|              960|1995|         Gray|   Manual|       Naphtha|    125000|    10000|  1|\n",
      "+-------------+-----------------+----+-------------+---------+--------------+----------+---------+---+\n",
      "\n"
     ]
    }
   ],
   "source": [
    "RowNumDf_pyspark_argSELECTCol.filter(RowNumDf_pyspark_argSELECTCol['RN'] == 1).orderBy(desc(\"Money USD\")).show(30)"
   ]
  },
  {
   "cell_type": "code",
   "execution_count": 167,
   "id": "dae15bc9",
   "metadata": {},
   "outputs": [],
   "source": [
    "columns = ['Brand','Year']\n",
    "windowSpec1 = Window.partitionBy([col(x) for x in columns]).orderBy(col(\"Money USD\").desc())\n",
    "RNdf_pyspark_argSELECTCol = df_pyspark_argSELECTCol.withColumn(\"RN\",row_number().over(windowSpec1))"
   ]
  },
  {
   "cell_type": "code",
   "execution_count": 168,
   "id": "414f0632",
   "metadata": {},
   "outputs": [
    {
     "name": "stdout",
     "output_type": "stream",
     "text": [
      "+-------------+---------------+----+-------------+---------+--------------+----------+---------+---+\n",
      "|        Brand|          Model|Year|        Color|     Gear|      FuelType|Kilometres|Money USD| RN|\n",
      "+-------------+---------------+----+-------------+---------+--------------+----------+---------+---+\n",
      "|   Volkswagen|         Amarok|2022|        White|Automatic|        Diesel|       500|   772146|  1|\n",
      "|       Toyota|  Corolla Cross|2022|        Black|Automatic|Hybrid/Naphtha|      2000|   674460|  1|\n",
      "|         Ford|      Territory|2022|        White|Automatic|       Naphtha|      1000|   615600|  1|\n",
      "|         Jeep|        Compass|2022|        White|Automatic|       Naphtha|       500|   585900|  1|\n",
      "|      Citroën|          Jumpy|2022|Not available|   Manual|        Diesel|      1000|   469800|  1|\n",
      "|    Chevrolet|        Tracker|2022|        White|   Manual|       Naphtha|      1400|   366660|  1|\n",
      "|      Peugeot|            208|2022|        Black|   Manual|       Naphtha|       500|   250020|  1|\n",
      "|         Fiat|           Argo|2022|        White|   Manual|       Naphtha|      2000|   229500|  1|\n",
      "|      Renault|        Sandero|2022|       Silver|   Manual|       Naphtha|    111111|   189000|  1|\n",
      "|          BMW|        Serie 4|2022|        Black|Automatic|       Naphtha|     21000|    95000|  1|\n",
      "|          RAM|           1500|2022|         Gray|Automatic|       Naphtha|      8300|    78500|  1|\n",
      "|    Chevrolet|    Trailblazer|2021|         Gray|Automatic|        Diesel|     23000|   753294|  1|\n",
      "|         Ford|         Ranger|2021|         Gray|Automatic|        Diesel|     61000|   639900|  1|\n",
      "|       Toyota|          Hilux|2021|         Gray|Automatic|        Diesel|     28000|   604800|  1|\n",
      "|   Volkswagen|Tiguan Allspace|2021|         Gray|Automatic|       Naphtha|     48711|   588600|  1|\n",
      "|           DS|  DS3 Crossback|2021|         Blue|Automatic|       Naphtha|     15100|   559434|  1|\n",
      "|      Renault|   Duster Oroch|2021|        Black|   Manual|       Naphtha|     26000|   334260|  1|\n",
      "|         Fiat|         Cronos|2021|         Gray|   Manual|       Naphtha|     21000|   226260|  1|\n",
      "|      Peugeot|            208|2021|         Gray|   Manual|       Naphtha|      7400|   215460|  1|\n",
      "|          BMW|        Serie 2|2021|         Blue|Automatic|       Naphtha|      2500|    90000|  1|\n",
      "|      Peugeot|           3008|2020|         Gray|Automatic|       Naphtha|     45800|   567000|  1|\n",
      "|         Jeep|        Compass|2020|         Gray|   Manual|       Naphtha|      6000|   517860|  1|\n",
      "|         Ford|         Ranger|2020|         Gray|Automatic|        Diesel|     14000|   485454|  1|\n",
      "|    Chevrolet|        Tracker|2020|       Silver|Automatic|       Naphtha|     37000|   480600|  1|\n",
      "|         Audi|       R8 Coupé|2020|         Blue|Automatic|       Naphtha|      3000|   430000|  1|\n",
      "|       Nissan|         Sentra|2020|        White|Automatic|       Naphtha|     30000|   429300|  1|\n",
      "|          Kia|         Cerato|2020|        White|Automatic|       Naphtha|     86000|   323460|  1|\n",
      "|       Toyota|          Yaris|2020|        White|   Manual|       Naphtha|     12000|   318600|  1|\n",
      "|   Volkswagen|        Saveiro|2020|        White|   Manual|       Naphtha|     35000|   247854|  1|\n",
      "|      Renault|        Sandero|2020|         Gray|   Manual|       Naphtha|     22000|   226800|  1|\n",
      "|      Citroën|             C3|2020|       Silver|   Manual|       Naphtha|     38000|   213300|  1|\n",
      "|          BMW|        Serie 1|2020|        Black|Automatic|       Naphtha|     34800|    41900|  1|\n",
      "|        Honda|           HR-V|2020|        White|Automatic|       Naphtha|     20000|    30000|  1|\n",
      "|       Toyota|          Hilux|2019|        White|Automatic|        Diesel|     64000|   674406|  1|\n",
      "|   Volkswagen|           Golf|2019|        White|Automatic|       Naphtha|     58000|   604530|  1|\n",
      "|         Jeep|        Compass|2019|        White|Automatic|       Naphtha|     36000|   448200|  1|\n",
      "|        Honda|           HR-V|2019|          Red|Automatic|       Naphtha|     39000|   409854|  1|\n",
      "|      Citroën| C4 Spacetourer|2019|        White|Automatic|       Naphtha|     60000|   388260|  1|\n",
      "|      Hyundai|          Creta|2019|        White|Automatic|       Naphtha|     55000|   318060|  1|\n",
      "|         Baic|            X55|2019|        Black|   Manual|       Naphtha|     38800|   312120|  1|\n",
      "|      Renault|   Duster Oroch|2019|        White|   Manual|       Naphtha|     28000|   288900|  1|\n",
      "|      Peugeot|           2008|2019|        White|   Manual|       Naphtha|     29530|   272700|  1|\n",
      "|         Ford|       Ecosport|2019|         Gray|   Manual|       Naphtha|     61000|   243000|  1|\n",
      "|       Nissan|          Versa|2019|        White|Automatic|       Naphtha|     50000|   199254|  1|\n",
      "|         Fiat|           Argo|2019|         Gray|   Manual|       Naphtha|     18000|   188460|  1|\n",
      "|Mercedes-Benz|        Clase E|2019|         Gray|Automatic|       Naphtha|     18594|   185000|  1|\n",
      "|    Chevrolet|         Prisma|2019|        Black|   Manual|   Naphtha/CNG|     83000|   181170|  1|\n",
      "|         Ford|         Ranger|2018|         Gray|Automatic|        Diesel|     70000|   513027|  1|\n",
      "|Mercedes-Benz|       Sprinter|2018|        White|   Manual|        Diesel|    242000|   499500|  1|\n",
      "|        Dodge|        Journey|2018|        Black|   Manual|       Naphtha|     41800|   491400|  1|\n",
      "+-------------+---------------+----+-------------+---------+--------------+----------+---------+---+\n",
      "only showing top 50 rows\n",
      "\n"
     ]
    }
   ],
   "source": [
    "RNdf_pyspark_argSELECTCol.filter(RNdf_pyspark_argSELECTCol['RN'] == 1).sort(['Year','Money USD'],ascending=False).show(50)"
   ]
  },
  {
   "cell_type": "code",
   "execution_count": 169,
   "id": "1824fe03",
   "metadata": {},
   "outputs": [],
   "source": [
    "FirstCarspyspark_argSELECTCol = RowNumDf_pyspark_argSELECTCol\\\n",
    "                                    .filter(RowNumDf_pyspark_argSELECTCol['RN'] == 1)\\\n",
    "                                    .orderBy(desc(\"Money USD\"))"
   ]
  },
  {
   "cell_type": "code",
   "execution_count": 170,
   "id": "88b4333e",
   "metadata": {},
   "outputs": [],
   "source": [
    "data_collect = FirstCarspyspark_argSELECTCol.collect()"
   ]
  },
  {
   "cell_type": "code",
   "execution_count": 171,
   "id": "0cd3725a",
   "metadata": {
    "scrolled": true
   },
   "outputs": [
    {
     "name": "stdout",
     "output_type": "stream",
     "text": [
      "Brand:  Volkswagen  Money USD:  772146\n",
      "Brand:  Chevrolet  Money USD:  753294\n",
      "Brand:  Toyota  Money USD:  674460\n",
      "Brand:  RAM  Money USD:  647454\n",
      "Brand:  Ford  Money USD:  639900\n",
      "Brand:  Jeep  Money USD:  585900\n",
      "Brand:  Peugeot  Money USD:  567000\n",
      "Brand:  DS  Money USD:  559434\n",
      "Brand:  Mercedes-Benz  Money USD:  499500\n",
      "Brand:  Dodge  Money USD:  491400\n",
      "Brand:  Citroën  Money USD:  469800\n",
      "Brand:  Audi  Money USD:  430000\n",
      "Brand:  Nissan  Money USD:  429300\n",
      "Brand:  Hyundai  Money USD:  426060\n",
      "Brand:  Honda  Money USD:  415800\n",
      "Brand:  Mitsubishi  Money USD:  350460\n",
      "Brand:  Renault  Money USD:  334260\n",
      "Brand:  Fiat  Money USD:  324000\n",
      "Brand:  Kia  Money USD:  323460\n",
      "Brand:  Baic  Money USD:  312120\n",
      "Brand:  BMW  Money USD:  295920\n",
      "Brand:  Chery  Money USD:  178200\n",
      "Brand:  Subaru  Money USD:  135000\n",
      "Brand:  Suzuki  Money USD:  102330\n",
      "Brand:  Porsche  Money USD:  79900\n",
      "Brand:  Mini  Money USD:  19500\n",
      "Brand:  Volvo  Money USD:  10000\n"
     ]
    }
   ],
   "source": [
    "for row in data_collect:\n",
    "    print(\"Brand: \",row['Brand'], \" Money USD: \", row[\"Money USD\"])"
   ]
  },
  {
   "cell_type": "markdown",
   "id": "1e3ed0b2",
   "metadata": {},
   "source": [
    "##### Looking for car with min values of kilometers"
   ]
  },
  {
   "cell_type": "code",
   "execution_count": 172,
   "id": "9f5821e2",
   "metadata": {},
   "outputs": [
    {
     "name": "stdout",
     "output_type": "stream",
     "text": [
      "+-----+------------+----+---------+---------+--------+----------+---------+---+\n",
      "|Brand|       Model|Year|    Color|     Gear|FuelType|Kilometres|Money USD| RN|\n",
      "+-----+------------+----+---------+---------+--------+----------+---------+---+\n",
      "| Audi|    R8 Coupé|2020|     Blue|Automatic| Naphtha|      3000|   430000|  1|\n",
      "| Audi|    R8 Coupé|2011|    White|Automatic| Naphtha|     19200|   235000|  2|\n",
      "| Audi|          S3|2018|     Blue|Automatic| Naphtha|     25500|    68000|  3|\n",
      "| Audi|          A1|2016|     Gray|Automatic| Naphtha|     46000|   350454|  4|\n",
      "| Audi|A3 Sportback|2011|    White|Automatic| Naphtha|     89000|   237054|  5|\n",
      "| Audi|          A1|2011|    White|Automatic| Naphtha|     99000|    14900|  6|\n",
      "| Audi|          A4|2011|     Gray|Automatic| Naphtha|     99100|   215454|  7|\n",
      "| Audi|          Q5|2013|    White|Automatic| Naphtha|    153000|   361800|  8|\n",
      "|  BMW|     Serie 2|2021|Celestial|Automatic| Naphtha|      2500|    89990|  1|\n",
      "|  BMW|     Serie 2|2021|     Blue|Automatic| Naphtha|      2500|    90000|  2|\n",
      "|  BMW|     Serie 2|2021|     Blue|Automatic| Naphtha|      4100|    79000|  3|\n",
      "|  BMW|     Serie M|2017|     Gray|Automatic| Naphtha|     11000|   115700|  4|\n",
      "|  BMW|     Serie 4|2022|    Black|Automatic| Naphtha|     21000|    95000|  5|\n",
      "|  BMW|     Serie 1|2020|    Black|Automatic| Naphtha|     34800|    41900|  6|\n",
      "|  BMW|         220|2016|    White|Automatic| Naphtha|     66000|    35500|  7|\n",
      "|  BMW|     Serie 3|2008|     Gray|   Manual| Naphtha|     73000|    14500|  8|\n",
      "|  BMW|     Serie 3|2009|     Gray|   Manual| Naphtha|     79700|   295920|  9|\n",
      "|  BMW|     Serie 3|2008|    Black|   Manual| Naphtha|     91400|    24800| 10|\n",
      "|  BMW|     Serie 1|2008|     Gray|   Manual| Naphtha|    121000|   162000| 11|\n",
      "|  BMW|     Serie 1|2010|   Silver|   Manual| Naphtha|    125000|    12500| 12|\n",
      "+-----+------------+----+---------+---------+--------+----------+---------+---+\n",
      "only showing top 20 rows\n",
      "\n"
     ]
    }
   ],
   "source": [
    "windowSpec = Window.partitionBy(col(\"Brand\")).orderBy(col(\"Kilometres\"))\n",
    "\n",
    "KMDf_pyspark_argSELECTCol = df_pyspark_argSELECTCol.withColumn(\"RN\", row_number().over(windowSpec))\n",
    "KMDf_pyspark_argSELECTCol.show()"
   ]
  },
  {
   "cell_type": "code",
   "execution_count": 173,
   "id": "862c7241",
   "metadata": {
    "scrolled": true
   },
   "outputs": [
    {
     "name": "stdout",
     "output_type": "stream",
     "text": [
      "+-------------+-------------+----+---------+---------+--------+----------+---------+---+\n",
      "|        Brand|        Model|Year|    Color|     Gear|FuelType|Kilometres|Money USD| RN|\n",
      "+-------------+-------------+----+---------+---------+--------+----------+---------+---+\n",
      "|         Jeep|      Compass|2022|    White|Automatic| Naphtha|       500|   585900|  1|\n",
      "|      Peugeot|          208|2022|    Black|   Manual| Naphtha|       500|   250020|  1|\n",
      "|       Toyota|Corolla Cross|2022|   Silver|Automatic| Naphtha|       500|   558900|  1|\n",
      "|   Volkswagen|       Amarok|2022|    White|Automatic|  Diesel|       500|   772146|  1|\n",
      "|      Citroën|    C4 Cactus|2022|Dark gray|Automatic| Naphtha|       550|    19000|  1|\n",
      "|         Ford|    Territory|2022|   Golden|Automatic| Naphtha|      1000|   561600|  1|\n",
      "|    Chevrolet|      Tracker|2022|    White|   Manual| Naphtha|      1400|   366660|  1|\n",
      "|         Fiat|         Argo|2022|    White|   Manual| Naphtha|      2000|   229500|  1|\n",
      "|          BMW|      Serie 2|2021|Celestial|Automatic| Naphtha|      2500|    89990|  1|\n",
      "|         Audi|     R8 Coupé|2020|     Blue|Automatic| Naphtha|      3000|   430000|  1|\n",
      "|          RAM|         1500|2022|    White|Automatic| Naphtha|      4700|    77500|  1|\n",
      "|      Hyundai|           H1|2015|     Gray|Automatic|  Diesel|      8900|    42900|  1|\n",
      "|Mercedes-Benz|      Clase A|2017|    White|Automatic| Naphtha|     12000|    46999|  1|\n",
      "|           DS|DS3 Crossback|2021|    Green|Automatic| Naphtha|     15000|   559434|  1|\n",
      "|        Honda|         HR-V|2020|    White|Automatic| Naphtha|     20000|    30000|  1|\n",
      "|      Renault|      Sandero|2020|     Gray|   Manual| Naphtha|     22000|   226800|  1|\n",
      "|       Nissan|       Sentra|2020|    White|Automatic| Naphtha|     30000|   429300|  1|\n",
      "|         Baic|          X55|2019|    Black|   Manual| Naphtha|     38800|   312120|  1|\n",
      "|        Dodge|      Journey|2018|    Black|   Manual| Naphtha|     41800|   491400|  1|\n",
      "|      Porsche|     Panamera|2010|    White|Automatic| Naphtha|     59141|    79900|  1|\n",
      "|        Chery|      Tiggo 3|2017|     Gray|   Manual| Naphtha|     71239|   178200|  1|\n",
      "|          Kia|       Cerato|2020|    White|Automatic| Naphtha|     86000|   323460|  1|\n",
      "|         Mini|       Cooper|2013|      Red|   Manual| Naphtha|    105000|    15000|  1|\n",
      "|        Volvo|          960|1995|     Gray|   Manual| Naphtha|    125000|    10000|  1|\n",
      "|   Mitsubishi|    Outlander|2012|    Black|Automatic| Naphtha|    168000|    13499|  1|\n",
      "|       Suzuki|        Swift|2009|     Gray|   Manual| Naphtha|    190000|   102330|  1|\n",
      "|       Subaru|           XV|2011|    White|Automatic| Naphtha|    204000|   135000|  1|\n",
      "+-------------+-------------+----+---------+---------+--------+----------+---------+---+\n",
      "\n"
     ]
    }
   ],
   "source": [
    "KMDf_pyspark_argSELECTCol.filter(KMDf_pyspark_argSELECTCol['RN'] == 1).orderBy('Kilometres').show(35)"
   ]
  },
  {
   "cell_type": "markdown",
   "id": "13e50924",
   "metadata": {},
   "source": [
    "##### Calculating Total Money by Brand"
   ]
  },
  {
   "cell_type": "code",
   "execution_count": 174,
   "id": "b9f9dd2e",
   "metadata": {
    "scrolled": true
   },
   "outputs": [
    {
     "name": "stdout",
     "output_type": "stream",
     "text": [
      "+-----+---------+------------------------+\n",
      "|Brand|Money USD|Total Money USD by Brand|\n",
      "+-----+---------+------------------------+\n",
      "| Audi|    14900|                 1912662|\n",
      "| Audi|   361800|                 1912662|\n",
      "| Audi|   350454|                 1912662|\n",
      "| Audi|   237054|                 1912662|\n",
      "| Audi|   215454|                 1912662|\n",
      "| Audi|    68000|                 1912662|\n",
      "| Audi|   235000|                 1912662|\n",
      "| Audi|   430000|                 1912662|\n",
      "|  BMW|    35500|                 1072810|\n",
      "|  BMW|    41900|                 1072810|\n",
      "|  BMW|   115700|                 1072810|\n",
      "|  BMW|    16000|                 1072810|\n",
      "|  BMW|    95000|                 1072810|\n",
      "|  BMW|    12500|                 1072810|\n",
      "|  BMW|    89990|                 1072810|\n",
      "|  BMW|   295920|                 1072810|\n",
      "|  BMW|   162000|                 1072810|\n",
      "|  BMW|    79000|                 1072810|\n",
      "|  BMW|    90000|                 1072810|\n",
      "|  BMW|    24800|                 1072810|\n",
      "+-----+---------+------------------------+\n",
      "only showing top 20 rows\n",
      "\n",
      "+-------------+------------------------+\n",
      "|        Brand|Total Money USD by Brand|\n",
      "+-------------+------------------------+\n",
      "|         Audi|                 1912662|\n",
      "|          BMW|                 1072810|\n",
      "|         Baic|                  312120|\n",
      "|        Chery|                  178200|\n",
      "|    Chevrolet|                10330555|\n",
      "|      Citroën|                 5882183|\n",
      "|           DS|                 1118868|\n",
      "|        Dodge|                 1594620|\n",
      "|         Fiat|                 4184509|\n",
      "|         Ford|                13830047|\n",
      "|        Honda|                 4507882|\n",
      "|      Hyundai|                 2271208|\n",
      "|         Jeep|                 5553326|\n",
      "|          Kia|                  362360|\n",
      "|Mercedes-Benz|                 1343232|\n",
      "|         Mini|                   34500|\n",
      "|   Mitsubishi|                  363959|\n",
      "|       Nissan|                 1900248|\n",
      "|      Peugeot|                 9400690|\n",
      "|      Porsche|                   79900|\n",
      "|          RAM|                 1023344|\n",
      "|      Renault|                 8359946|\n",
      "|       Subaru|                  135000|\n",
      "|       Suzuki|                  102330|\n",
      "|       Toyota|                13988736|\n",
      "|   Volkswagen|                23206289|\n",
      "|        Volvo|                   18900|\n",
      "+-------------+------------------------+\n",
      "\n"
     ]
    }
   ],
   "source": [
    "windowSpec = Window.partitionBy(col(\"Brand\"))\n",
    "\n",
    "AGGandOVERpyspark_argSELECTCol = df_pyspark_argSELECTCol.withColumn(\"Total Money USD by Brand\"\n",
    "                                 ,sum(df_pyspark_argSELECTCol[\"Money USD\"]).over(windowSpec))\n",
    "\n",
    "AGGandOVERpyspark_argSELECTCol = AGGandOVERpyspark_argSELECTCol.select([\"Brand\",\"Money USD\",\"Total Money USD by Brand\"])\n",
    "\n",
    "AGGandOVERpyspark_argSELECTColDIST = AGGandOVERpyspark_argSELECTCol.select([\"Brand\",\"Total Money USD by Brand\"])\n",
    "\n",
    "AGGandOVERpyspark_argSELECTCol.show()\n",
    "AGGandOVERpyspark_argSELECTColDIST.distinct().show(35)"
   ]
  },
  {
   "cell_type": "markdown",
   "id": "e79d952c",
   "metadata": {},
   "source": [
    "##### Using lag & lead functions to compare previous and next year"
   ]
  },
  {
   "cell_type": "code",
   "execution_count": 175,
   "id": "7a0e0cb5",
   "metadata": {},
   "outputs": [
    {
     "name": "stdout",
     "output_type": "stream",
     "text": [
      "+----+--------+-----------------+-------------+\n",
      "|Year|   Money|PreviousYearMoney|NextYearMoney|\n",
      "+----+--------+-----------------+-------------+\n",
      "|1995|   10000|             null|       105300|\n",
      "|1996|  105300|            10000|        16300|\n",
      "|1997|   16300|           105300|        16000|\n",
      "|2000|   16000|            16300|       170100|\n",
      "|2007|  170100|            16000|       297899|\n",
      "|2008|  297899|           170100|       849664|\n",
      "|2009|  849664|           297899|       727740|\n",
      "|2010|  727740|           849664|      3103635|\n",
      "|2011| 3103635|           727740|      2314229|\n",
      "|2012| 2314229|          3103635|      4986467|\n",
      "|2013| 4986467|          2314229|      6312345|\n",
      "|2014| 6312345|          4986467|      5603557|\n",
      "|2015| 5603557|          6312345|      9935214|\n",
      "|2016| 9935214|          5603557|     17585897|\n",
      "|2017|17585897|          9935214|     16708834|\n",
      "|2018|16708834|         17585897|     16898489|\n",
      "|2019|16898489|         16708834|      7126422|\n",
      "|2020| 7126422|         16898489|     10008256|\n",
      "|2021|10008256|          7126422|     10292076|\n",
      "|2022|10292076|         10008256|         null|\n",
      "+----+--------+-----------------+-------------+\n",
      "\n"
     ]
    }
   ],
   "source": [
    "df_pyspark_argSELECTColLAGLEAD =  df_pyspark_argSELECTCol.groupBy(\"Year\").agg(sum(df_pyspark_argSELECTCol[\"Money USD\"])\n",
    "                                     .alias(\"Money\"))\n",
    "df_pyspark_argSELECTColLAGLEAD = df_pyspark_argSELECTColLAGLEAD.select(df_pyspark_argSELECTColLAGLEAD['Year'],\n",
    "                                                                      df_pyspark_argSELECTColLAGLEAD['Money'],\n",
    "                                                                      lag(\"Money\").over(Window.orderBy(\"Year\"))\n",
    "                                                                      .alias(\"PreviousYearMoney\"),\n",
    "                                                                      lead(\"Money\").over(Window.orderBy(\"Year\"))\n",
    "                                                                       .alias(\"NextYearMoney\"))\n",
    "df_pyspark_argSELECTColLAGLEAD.show()"
   ]
  },
  {
   "cell_type": "code",
   "execution_count": 176,
   "id": "d4183748",
   "metadata": {},
   "outputs": [
    {
     "name": "stdout",
     "output_type": "stream",
     "text": [
      "+----------+-------------+----+-----+---------+--------------+----------+---------+\n",
      "|     Brand|        Model|Year|Color|     Gear|      FuelType|Kilometres|Money USD|\n",
      "+----------+-------------+----+-----+---------+--------------+----------+---------+\n",
      "|Volkswagen|       Amarok|2022|White|Automatic|        Diesel|       500|   772146|\n",
      "| Chevrolet|  Trailblazer|2021| Gray|Automatic|        Diesel|     23000|   753294|\n",
      "|    Toyota|Corolla Cross|2022|Black|Automatic|Hybrid/Naphtha|      2000|   674460|\n",
      "|    Toyota|        Hilux|2019|White|Automatic|        Diesel|     64000|   674406|\n",
      "|    Toyota|        Hilux|2019| Gray|Automatic|        Diesel|     52000|   669600|\n",
      "+----------+-------------+----+-----+---------+--------------+----------+---------+\n",
      "\n"
     ]
    }
   ],
   "source": [
    "cte  = df_pyspark_argSELECTCol.select(\"*\").sort(desc(\"Money USD\")).limit(5)\n",
    "cte.show()"
   ]
  },
  {
   "cell_type": "code",
   "execution_count": 177,
   "id": "4a577b90",
   "metadata": {},
   "outputs": [
    {
     "name": "stdout",
     "output_type": "stream",
     "text": [
      "+-------------+-------------+---------+--------------+\n",
      "|        Brand|        Model|Money USD|Money USD TEXT|\n",
      "+-------------+-------------+---------+--------------+\n",
      "|       Toyota|Corolla Cross|   558900|        558900|\n",
      "|         Jeep|      Compass|   585900|        585900|\n",
      "|         Jeep|      Compass|    35500|         35500|\n",
      "|      Citroën|    C4 Cactus|    19000|         19000|\n",
      "|       Toyota|      Corolla|   313200|        313200|\n",
      "|         Jeep|      Compass|    34500|         34500|\n",
      "|          Kia|      Sorento|    25000|         25000|\n",
      "|Mercedes-Benz|      Clase C|    12300|         12300|\n",
      "|          BMW|          220|    35500|         35500|\n",
      "|   Volkswagen|      T-Cross|   367200|        367200|\n",
      "|Mercedes-Benz|      Clase A|    38500|         38500|\n",
      "|Mercedes-Benz|      Clase A|    20500|         20500|\n",
      "|      Renault|      Sandero|   189000|        189000|\n",
      "|   Volkswagen|         Polo|   323460|        323460|\n",
      "|          BMW|      Serie 1|    41900|         41900|\n",
      "|         Ford|     Ecosport|   113400|        113400|\n",
      "|    Chevrolet|  Trailblazer|    38500|         38500|\n",
      "|       Toyota|        Etios|   158760|        158760|\n",
      "|      Renault|         Clio|   110700|        110700|\n",
      "|       Toyota|         RAV4|   222480|        222480|\n",
      "+-------------+-------------+---------+--------------+\n",
      "only showing top 20 rows\n",
      "\n"
     ]
    }
   ],
   "source": [
    "df_pyspark_argSELECTColCAST = df_pyspark_argSELECTCol.withColumn(\"Money USD TEXT\"\n",
    "                                                                 ,df_pyspark_argSELECTCol[\"Money USD\"].cast(\"string\") )\n",
    "df_pyspark_argSELECTColCAST = df_pyspark_argSELECTColCAST.select([\"Brand\",\"Model\",\"Money USD\",\"Money USD TEXT\"])\n",
    "df_pyspark_argSELECTColCAST.show()"
   ]
  },
  {
   "cell_type": "code",
   "execution_count": 178,
   "id": "ef7262bf",
   "metadata": {},
   "outputs": [
    {
     "name": "stdout",
     "output_type": "stream",
     "text": [
      "root\n",
      " |-- Brand: string (nullable = true)\n",
      " |-- Model: string (nullable = true)\n",
      " |-- Year: integer (nullable = true)\n",
      " |-- Color: string (nullable = false)\n",
      " |-- Gear: string (nullable = false)\n",
      " |-- FuelType: string (nullable = false)\n",
      " |-- Kilometres: integer (nullable = true)\n",
      " |-- Money USD: integer (nullable = true)\n",
      "\n"
     ]
    }
   ],
   "source": [
    "df_pyspark_argSELECTCol.printSchema()"
   ]
  },
  {
   "cell_type": "markdown",
   "id": "dd3867da",
   "metadata": {},
   "source": [
    "### df_pyspark_nig"
   ]
  },
  {
   "cell_type": "code",
   "execution_count": 179,
   "id": "464625d8",
   "metadata": {},
   "outputs": [
    {
     "name": "stdout",
     "output_type": "stream",
     "text": [
      "+-------------+----+-------------+----------+----------+--------+---------+--------+--------+-----------------+\n",
      "|        Brand|Year|    Condition|Kilometres|EngineSize|FuelType|     Gear|   Money|BodyType|        Money USD|\n",
      "+-------------+----+-------------+----------+----------+--------+---------+--------+--------+-----------------+\n",
      "|Mercedes-Benz|2013| Foreign Used|    104536|      3500|  Petrol|Automatic|14352000|     SUV|          31574.4|\n",
      "|        Honda|2011| Foreign Used|      3621|      3500|  Petrol|Automatic| 6240000|     SUV|          13728.0|\n",
      "|       Toyota|2007|Nigerian Used|    223493|      3500|  Hybrid|Automatic| 2100000|     SUV|           4620.0|\n",
      "|       Toyota|2003|Nigerian Used|    367531|      4000|  Petrol|Automatic| 2137500|     SUV|           4702.5|\n",
      "|        Lexus|2007| Foreign Used|    104138|      3500|  Petrol|Automatic| 5928000|     SUV|          13041.6|\n",
      "|      Lincoln|2019|Nigerian Used|     35976|      2000|  Petrol|Automatic|17850000|     SUV|          39270.0|\n",
      "|   Land Rover|2008|Nigerian Used|    178780|      4700|  Petrol|Automatic| 3150000|     SUV|           6930.0|\n",
      "|        Lexus|2007|Nigerian Used|    220726|      3500|  Petrol|Automatic| 4680000|     SUV|          10296.0|\n",
      "|        Mazda|2010|Nigerian Used|    322717|      2500|  Petrol|Automatic| 2100000|     SUV|           4620.0|\n",
      "|        Lexus|2008| Foreign Used|    149092|      3500|  Petrol|Automatic| 5145000|     SUV|          11319.0|\n",
      "|      Hyundai|2010|Nigerian Used|    262797|      3800|  Petrol|Automatic| 2677500|     SUV|           5890.5|\n",
      "|       Toyota|2001|Nigerian Used|    119510|      3000|  Petrol|Automatic| 1352000|     SUV|           2974.4|\n",
      "|Mercedes-Benz|2007|Nigerian Used|      1966|        35|  Petrol|Automatic| 5720000|     SUV|          12584.0|\n",
      "|       Toyota|2002| Foreign Used|    125606|      2000|  Petrol|Automatic| 3255000|     SUV|           7161.0|\n",
      "|          Kia|2013|Nigerian Used|    134013|      3800|  Petrol|Automatic| 4410000|     SUV|           9702.0|\n",
      "|        Honda|2003|Nigerian Used|    175567|      3500|  Petrol|Automatic| 1612000|     SUV|           3546.4|\n",
      "|       Nissan|2009|Nigerian Used|    213292|      3500|  Petrol|      CVT| 1575000|     SUV|           3465.0|\n",
      "|        Lexus|2005|Nigerian Used|    196345|      3300|  Petrol|Automatic| 3432000|     SUV|7550.400000000001|\n",
      "|       Toyota|2007|Nigerian Used|    213548|      3500|  Petrol|Automatic| 3328000|     SUV|           7321.6|\n",
      "|       Toyota|2009|Nigerian Used|     94618|      3500|  Petrol|Automatic| 4725000|     SUV|          10395.0|\n",
      "+-------------+----+-------------+----------+----------+--------+---------+--------+--------+-----------------+\n",
      "only showing top 20 rows\n",
      "\n"
     ]
    }
   ],
   "source": [
    "df_pyspark_nig.show()"
   ]
  },
  {
   "cell_type": "code",
   "execution_count": 180,
   "id": "cf93a7b6",
   "metadata": {},
   "outputs": [
    {
     "name": "stdout",
     "output_type": "stream",
     "text": [
      "+-------------+----+----------+--------+---------+-----------------+\n",
      "|        Brand|Year|Kilometres|FuelType|     Gear|        Money USD|\n",
      "+-------------+----+----------+--------+---------+-----------------+\n",
      "|Mercedes-Benz|2013|    104536|  Petrol|Automatic|          31574.4|\n",
      "|        Honda|2011|      3621|  Petrol|Automatic|          13728.0|\n",
      "|       Toyota|2007|    223493|  Hybrid|Automatic|           4620.0|\n",
      "|       Toyota|2003|    367531|  Petrol|Automatic|           4702.5|\n",
      "|        Lexus|2007|    104138|  Petrol|Automatic|          13041.6|\n",
      "|      Lincoln|2019|     35976|  Petrol|Automatic|          39270.0|\n",
      "|   Land Rover|2008|    178780|  Petrol|Automatic|           6930.0|\n",
      "|        Lexus|2007|    220726|  Petrol|Automatic|          10296.0|\n",
      "|        Mazda|2010|    322717|  Petrol|Automatic|           4620.0|\n",
      "|        Lexus|2008|    149092|  Petrol|Automatic|          11319.0|\n",
      "|      Hyundai|2010|    262797|  Petrol|Automatic|           5890.5|\n",
      "|       Toyota|2001|    119510|  Petrol|Automatic|           2974.4|\n",
      "|Mercedes-Benz|2007|      1966|  Petrol|Automatic|          12584.0|\n",
      "|       Toyota|2002|    125606|  Petrol|Automatic|           7161.0|\n",
      "|          Kia|2013|    134013|  Petrol|Automatic|           9702.0|\n",
      "|        Honda|2003|    175567|  Petrol|Automatic|           3546.4|\n",
      "|       Nissan|2009|    213292|  Petrol|      CVT|           3465.0|\n",
      "|        Lexus|2005|    196345|  Petrol|Automatic|7550.400000000001|\n",
      "|       Toyota|2007|    213548|  Petrol|Automatic|           7321.6|\n",
      "|       Toyota|2009|     94618|  Petrol|Automatic|          10395.0|\n",
      "+-------------+----+----------+--------+---------+-----------------+\n",
      "only showing top 20 rows\n",
      "\n"
     ]
    }
   ],
   "source": [
    "df_pyspark_nigSELColumns = df_pyspark_nig.select(\"Brand\",\"Year\",\"Kilometres\",\"FuelType\",\"Gear\",\"Money USD\")\n",
    "\n",
    "df_pyspark_nigSELColumns.show()"
   ]
  },
  {
   "cell_type": "code",
   "execution_count": 181,
   "id": "c5b3777d",
   "metadata": {},
   "outputs": [
    {
     "name": "stdout",
     "output_type": "stream",
     "text": [
      "+----------+----+----------+--------+---------+------------------+\n",
      "|     Brand|Year|Kilometres|FuelType|     Gear|         Money USD|\n",
      "+----------+----+----------+--------+---------+------------------+\n",
      "|     Honda|2001|    201202|  Petrol|Automatic|           1361.25|\n",
      "|    Nissan|2001|    266361|  Petrol|Automatic|            1732.5|\n",
      "|     Honda|1997|    289470|  Petrol|Automatic|            1732.5|\n",
      "|    Nissan|2001|    318605|  Petrol|Automatic|            1848.0|\n",
      "|    Toyota|1998|    165135|  Petrol|   Manual|            1848.0|\n",
      "|    Nissan|1997|    377755|  Petrol|   Manual|            1848.0|\n",
      "|     Honda|2000|    198095|  Petrol|Automatic|            1848.0|\n",
      "|  Infiniti|2002|    109615|  Petrol|Automatic|1963.5000000000002|\n",
      "|     Honda|2002|    385231|  Petrol|Automatic|            2079.0|\n",
      "|Mitsubishi|2001|    188821|  Petrol|Automatic|            2079.0|\n",
      "|  Infiniti|2003|    195784|  Petrol|Automatic|            2079.0|\n",
      "|    Nissan|2002|    338106|  Petrol|Automatic|            2079.0|\n",
      "|Mitsubishi|2005|    159742|  Petrol|Automatic|            2227.5|\n",
      "|    Nissan|2001|    254983|  Petrol|Automatic|            2310.0|\n",
      "|    Nissan|1997|    201847|  Petrol|Automatic|            2310.0|\n",
      "|    Nissan|2004|    395355|  Petrol|Automatic|            2310.0|\n",
      "|    Toyota|2001|     43473|  Petrol|Automatic|            2310.0|\n",
      "|     Volvo|2005|    125634|  Petrol|Automatic|            2310.0|\n",
      "|    Nissan|2003|    270851|  Petrol|Automatic|            2310.0|\n",
      "|    Nissan|2003|    210314|  Petrol|Automatic|            2310.0|\n",
      "+----------+----+----------+--------+---------+------------------+\n",
      "only showing top 20 rows\n",
      "\n"
     ]
    }
   ],
   "source": [
    "df_pyspark_nigSELColumnsOrderBy = df_pyspark_nigSELColumns.orderBy(\"Money USD\")\n",
    "df_pyspark_nigSELColumnsOrderBy.show()"
   ]
  },
  {
   "cell_type": "code",
   "execution_count": 182,
   "id": "eb519e79",
   "metadata": {},
   "outputs": [
    {
     "name": "stdout",
     "output_type": "stream",
     "text": [
      "+-------------+----+----------+--------+---------+------------------+\n",
      "|        Brand|Year|Kilometres|FuelType|     Gear|         Money USD|\n",
      "+-------------+----+----------+--------+---------+------------------+\n",
      "|       Toyota|2021|        80|  Petrol|Automatic|          102960.0|\n",
      "|Mercedes-Benz|2008|       650|  Petrol|Automatic|           14872.0|\n",
      "|Mercedes-Benz|2007|      1966|  Petrol|Automatic|           12584.0|\n",
      "|        Honda|2011|      3621|  Petrol|Automatic|           13728.0|\n",
      "|   Land Rover|2011|      7842|  Petrol|Automatic|           15015.0|\n",
      "|       Toyota|2017|      8383|  Petrol|Automatic|           76230.0|\n",
      "|   Land Rover|2018|      8711|  Petrol|Automatic|           86625.0|\n",
      "|Mercedes-Benz|2011|      9388|  Petrol|Automatic|           11550.0|\n",
      "|       Toyota|2019|     10427|  Petrol|Automatic|           66990.0|\n",
      "|       Toyota|2005|     10680|  Petrol|Automatic|            4620.0|\n",
      "|       Toyota|2009|     11582|  Petrol|      AMT|            9240.0|\n",
      "|        Volvo|2008|     12074|  Petrol|Automatic| 7550.400000000001|\n",
      "|       Toyota|2008|     12500|  Petrol|Automatic|            6468.0|\n",
      "|         Ford|2008|     12500|  Petrol|Automatic|            3217.5|\n",
      "|       Toyota|2011|     12683|  Petrol|Automatic|31185.000000000004|\n",
      "|       Toyota|2015|     13022|  Petrol|Automatic|16016.000000000002|\n",
      "|Mercedes-Benz|2006|     13571|  Petrol|Automatic| 8236.800000000001|\n",
      "|       Toyota|2020|     13668|  Petrol|Automatic|           87780.0|\n",
      "|         Ford|2018|     14405|  Petrol|Automatic|           40425.0|\n",
      "|       Toyota|2016|     16548|  Petrol|Automatic|           27456.0|\n",
      "+-------------+----+----------+--------+---------+------------------+\n",
      "only showing top 20 rows\n",
      "\n"
     ]
    }
   ],
   "source": [
    "df_pyspark_nigSELColumnsOrderBy = df_pyspark_nigSELColumns.orderBy(\"Kilometres\")\n",
    "df_pyspark_nigSELColumnsOrderBy.show()"
   ]
  },
  {
   "cell_type": "code",
   "execution_count": 183,
   "id": "569f533a",
   "metadata": {},
   "outputs": [
    {
     "name": "stdout",
     "output_type": "stream",
     "text": [
      "+-------------+----+----------+--------+---------+------------------+\n",
      "|        Brand|Year|Kilometres|FuelType|     Gear|         Money USD|\n",
      "+-------------+----+----------+--------+---------+------------------+\n",
      "|Mercedes-Benz|2020|     20106|  Petrol|Automatic|129360.00000000001|\n",
      "|Mercedes-Benz|2018|     56263|  Petrol|Automatic|          114400.0|\n",
      "|         Audi|2019|     24577|  Petrol|Automatic|          108570.0|\n",
      "|       Toyota|2021|        80|  Petrol|Automatic|          102960.0|\n",
      "|       Toyota|2018|     64098|  Petrol|Automatic|           99000.0|\n",
      "|       Toyota|2020|     57656|  Petrol|Automatic|           94050.0|\n",
      "|   Land Rover|2018|     59656|  Diesel|Automatic|           92400.0|\n",
      "|        Lexus|2016|    107355|  Petrol|Automatic|           92400.0|\n",
      "|       Toyota|2020|     13668|  Petrol|Automatic|           87780.0|\n",
      "|   Land Rover|2018|      8711|  Petrol|Automatic|           86625.0|\n",
      "|         Jeep|2018|     56222|  Petrol|Automatic|           82368.0|\n",
      "|   Land Rover|2016|    102429|  Petrol|Automatic|           80850.0|\n",
      "|   Land Rover|2018|     30092|  Diesel|Automatic|           80850.0|\n",
      "|       Toyota|2017|      8383|  Petrol|Automatic|           76230.0|\n",
      "|Mercedes-Benz|2017|     33853|  Petrol|Automatic|           73216.0|\n",
      "|   Land Rover|2017|     87589|  Petrol|Automatic|           71610.0|\n",
      "|       Toyota|2019|     10427|  Petrol|Automatic|           66990.0|\n",
      "|        Lexus|2017|     59838|  Petrol|Automatic|           60060.0|\n",
      "|        Lexus|2017|     41905|  Petrol|Automatic|           59488.0|\n",
      "|       Toyota|2010|     17429|  Petrol|   Manual|           57750.0|\n",
      "+-------------+----+----------+--------+---------+------------------+\n",
      "only showing top 20 rows\n",
      "\n"
     ]
    }
   ],
   "source": [
    "df_pyspark_nigSELColumnsOrderBy = df_pyspark_nigSELColumns.orderBy(desc(\"Money USD\"))\n",
    "df_pyspark_nigSELColumnsOrderBy.show()"
   ]
  },
  {
   "cell_type": "code",
   "execution_count": 184,
   "id": "a0207495",
   "metadata": {},
   "outputs": [
    {
     "name": "stdout",
     "output_type": "stream",
     "text": [
      "+----------+----+----------+--------+---------+------------------+\n",
      "|     Brand|Year|Kilometres|FuelType|     Gear|         Money USD|\n",
      "+----------+----+----------+--------+---------+------------------+\n",
      "|    Toyota|2004|   2671736|  Petrol|Automatic|10982.400000000001|\n",
      "|     Lexus|1999|   2254489|  Petrol|Automatic|            3465.0|\n",
      "|   Hyundai|2012|   1580052|  Petrol|Automatic|            5082.0|\n",
      "|     Lexus|2009|   1530065|  Petrol|Automatic|10524.800000000001|\n",
      "|      Ford|2012|   1284898|  Petrol|Automatic|           11550.0|\n",
      "|Land Rover|2006|    613630|  Petrol|Automatic|           11440.0|\n",
      "|     Volvo|2004|    567302|  Petrol|Automatic|            4158.0|\n",
      "|     Honda|2009|    511741|  Petrol|Automatic|           10395.0|\n",
      "|     Lexus|2000|    485206|  Petrol|Automatic|            3696.0|\n",
      "|    Nissan|2005|    468578|  Petrol|Automatic|            3696.0|\n",
      "|      Ford|2007|    467397|  Petrol|Automatic|            6237.0|\n",
      "|      Ford|2010|    463172|  Petrol|Automatic|            6237.0|\n",
      "|    Toyota|2004|    455552|  Petrol|Automatic|            4576.0|\n",
      "|     Acura|2009|    429408|  Petrol|Automatic|            5775.0|\n",
      "|      Opel|2000|    419605|  Petrol|Automatic|            2772.0|\n",
      "|Land Rover|2008|    418613|  Petrol|Automatic|           11550.0|\n",
      "|    Toyota|1997|    410470|  Petrol|Automatic|            3234.0|\n",
      "|     Honda|2007|    405706|  Petrol|Automatic|            7150.0|\n",
      "|     Honda|2003|    404395|  Petrol|Automatic|            3660.8|\n",
      "|     Lexus|1999|    404250|  Petrol|Automatic|            4576.0|\n",
      "+----------+----+----------+--------+---------+------------------+\n",
      "only showing top 20 rows\n",
      "\n"
     ]
    }
   ],
   "source": [
    "df_pyspark_nigSELColumnsOrderBy = df_pyspark_nigSELColumns.orderBy(desc(\"Kilometres\"))\n",
    "df_pyspark_nigSELColumnsOrderBy.show()"
   ]
  },
  {
   "cell_type": "code",
   "execution_count": 185,
   "id": "86365d19",
   "metadata": {},
   "outputs": [
    {
     "name": "stdout",
     "output_type": "stream",
     "text": [
      "+-------------+----+----------+--------+---------+------------------+\n",
      "|        Brand|Year|Kilometres|FuelType|     Gear|         Money USD|\n",
      "+-------------+----+----------+--------+---------+------------------+\n",
      "|Mercedes-Benz|2020|     20106|  Petrol|Automatic|129360.00000000001|\n",
      "|Mercedes-Benz|2018|     56263|  Petrol|Automatic|          114400.0|\n",
      "|         Audi|2019|     24577|  Petrol|Automatic|          108570.0|\n",
      "|       Toyota|2021|        80|  Petrol|Automatic|          102960.0|\n",
      "|       Toyota|2018|     64098|  Petrol|Automatic|           99000.0|\n",
      "|       Toyota|2020|     57656|  Petrol|Automatic|           94050.0|\n",
      "|   Land Rover|2018|     59656|  Diesel|Automatic|           92400.0|\n",
      "|        Lexus|2016|    107355|  Petrol|Automatic|           92400.0|\n",
      "|       Toyota|2020|     13668|  Petrol|Automatic|           87780.0|\n",
      "|   Land Rover|2018|      8711|  Petrol|Automatic|           86625.0|\n",
      "|         Jeep|2018|     56222|  Petrol|Automatic|           82368.0|\n",
      "|   Land Rover|2016|    102429|  Petrol|Automatic|           80850.0|\n",
      "|   Land Rover|2018|     30092|  Diesel|Automatic|           80850.0|\n",
      "|       Toyota|2017|      8383|  Petrol|Automatic|           76230.0|\n",
      "|Mercedes-Benz|2017|     33853|  Petrol|Automatic|           73216.0|\n",
      "|   Land Rover|2017|     87589|  Petrol|Automatic|           71610.0|\n",
      "|       Toyota|2019|     10427|  Petrol|Automatic|           66990.0|\n",
      "|        Lexus|2017|     59838|  Petrol|Automatic|           60060.0|\n",
      "|        Lexus|2017|     41905|  Petrol|Automatic|           59488.0|\n",
      "|       Toyota|2010|     17429|  Petrol|   Manual|           57750.0|\n",
      "|       Toyota|2008|    105681|  Petrol|Automatic|           57200.0|\n",
      "|       Toyota|2014|     40470|  Petrol|Automatic|           57200.0|\n",
      "|       Toyota|2013|     79393|  Petrol|Automatic|           57200.0|\n",
      "|   Land Rover|2014|     56908|  Petrol|Automatic|           57200.0|\n",
      "|        Lexus|2017|     68077|  Petrol|Automatic|           57200.0|\n",
      "+-------------+----+----------+--------+---------+------------------+\n",
      "\n"
     ]
    }
   ],
   "source": [
    "df_pyspark_nigSELColumnsTOP25 = df_pyspark_nigSELColumns.orderBy(desc('Money USD')).limit(25)\n",
    "df_pyspark_nigSELColumnsTOP25.show(50,50)"
   ]
  },
  {
   "cell_type": "code",
   "execution_count": 186,
   "id": "d456a11c",
   "metadata": {},
   "outputs": [
    {
     "name": "stdout",
     "output_type": "stream",
     "text": [
      "+----------+----+----------+--------+---------+------------------+\n",
      "|     Brand|Year|Kilometres|FuelType|     Gear|         Money USD|\n",
      "+----------+----+----------+--------+---------+------------------+\n",
      "|    Toyota|2004|   2671736|  Petrol|Automatic|10982.400000000001|\n",
      "|     Lexus|1999|   2254489|  Petrol|Automatic|            3465.0|\n",
      "|   Hyundai|2012|   1580052|  Petrol|Automatic|            5082.0|\n",
      "|     Lexus|2009|   1530065|  Petrol|Automatic|10524.800000000001|\n",
      "|      Ford|2012|   1284898|  Petrol|Automatic|           11550.0|\n",
      "|Land Rover|2006|    613630|  Petrol|Automatic|           11440.0|\n",
      "|     Volvo|2004|    567302|  Petrol|Automatic|            4158.0|\n",
      "|     Honda|2009|    511741|  Petrol|Automatic|           10395.0|\n",
      "|     Lexus|2000|    485206|  Petrol|Automatic|            3696.0|\n",
      "|    Nissan|2005|    468578|  Petrol|Automatic|            3696.0|\n",
      "|      Ford|2007|    467397|  Petrol|Automatic|            6237.0|\n",
      "|      Ford|2010|    463172|  Petrol|Automatic|            6237.0|\n",
      "|    Toyota|2004|    455552|  Petrol|Automatic|            4576.0|\n",
      "|     Acura|2009|    429408|  Petrol|Automatic|            5775.0|\n",
      "|      Opel|2000|    419605|  Petrol|Automatic|            2772.0|\n",
      "|Land Rover|2008|    418613|  Petrol|Automatic|           11550.0|\n",
      "|    Toyota|1997|    410470|  Petrol|Automatic|            3234.0|\n",
      "|     Honda|2007|    405706|  Petrol|Automatic|            7150.0|\n",
      "|     Honda|2003|    404395|  Petrol|Automatic|            3660.8|\n",
      "|     Lexus|1999|    404250|  Petrol|Automatic|            4576.0|\n",
      "|     Honda|2004|    401187|  Petrol|Automatic| 6406.400000000001|\n",
      "|      Ford|2004|    398223|  Petrol|Automatic|            6468.0|\n",
      "|     Honda|2004|    397157|  Petrol|Automatic|            5082.0|\n",
      "|    Nissan|2004|    395355|  Petrol|Automatic|            2310.0|\n",
      "|    Toyota|1997|    393678|  Petrol|Automatic|            3217.5|\n",
      "+----------+----+----------+--------+---------+------------------+\n",
      "\n"
     ]
    }
   ],
   "source": [
    "df_pyspark_nigSELColumnsTOP25 = df_pyspark_nigSELColumns.orderBy(desc('Kilometres')).limit(25)\n",
    "df_pyspark_nigSELColumnsTOP25.show(50,50)"
   ]
  },
  {
   "cell_type": "code",
   "execution_count": 187,
   "id": "899e034b",
   "metadata": {},
   "outputs": [
    {
     "name": "stdout",
     "output_type": "stream",
     "text": [
      "+-------------+----+----------+--------+---------+-----------------+\n",
      "|        Brand|Year|Kilometres|FuelType|     Gear|            Money|\n",
      "+-------------+----+----------+--------+---------+-----------------+\n",
      "|Mercedes-Benz|2013|    104536|  Petrol|Automatic|          31574.4|\n",
      "|        Honda|2011|      3621|  Petrol|Automatic|          13728.0|\n",
      "|       Toyota|2007|    223493|  Hybrid|Automatic|           4620.0|\n",
      "|       Toyota|2003|    367531|  Petrol|Automatic|           4702.5|\n",
      "|        Lexus|2007|    104138|  Petrol|Automatic|          13041.6|\n",
      "|      Lincoln|2019|     35976|  Petrol|Automatic|          39270.0|\n",
      "|   Land Rover|2008|    178780|  Petrol|Automatic|           6930.0|\n",
      "|        Lexus|2007|    220726|  Petrol|Automatic|          10296.0|\n",
      "|        Mazda|2010|    322717|  Petrol|Automatic|           4620.0|\n",
      "|        Lexus|2008|    149092|  Petrol|Automatic|          11319.0|\n",
      "|      Hyundai|2010|    262797|  Petrol|Automatic|           5890.5|\n",
      "|       Toyota|2001|    119510|  Petrol|Automatic|           2974.4|\n",
      "|Mercedes-Benz|2007|      1966|  Petrol|Automatic|          12584.0|\n",
      "|       Toyota|2002|    125606|  Petrol|Automatic|           7161.0|\n",
      "|          Kia|2013|    134013|  Petrol|Automatic|           9702.0|\n",
      "|        Honda|2003|    175567|  Petrol|Automatic|           3546.4|\n",
      "|       Nissan|2009|    213292|  Petrol|      CVT|           3465.0|\n",
      "|        Lexus|2005|    196345|  Petrol|Automatic|7550.400000000001|\n",
      "|       Toyota|2007|    213548|  Petrol|Automatic|           7321.6|\n",
      "|       Toyota|2009|     94618|  Petrol|Automatic|          10395.0|\n",
      "+-------------+----+----------+--------+---------+-----------------+\n",
      "only showing top 20 rows\n",
      "\n"
     ]
    }
   ],
   "source": [
    "df_pyspark_nigSELColumnsRenamed = df_pyspark_nigSELColumns.withColumnRenamed(\"Money USD\", 'Money')\n",
    "df_pyspark_nigSELColumnsRenamed.show()"
   ]
  },
  {
   "cell_type": "code",
   "execution_count": 188,
   "id": "3b7d3bb7",
   "metadata": {},
   "outputs": [
    {
     "name": "stdout",
     "output_type": "stream",
     "text": [
      "+-------------+----+----------+--------+---------+------------------+\n",
      "|        Brand|Year|Kilometres|FuelType|     Gear|         Money USD|\n",
      "+-------------+----+----------+--------+---------+------------------+\n",
      "|Mercedes-Benz|2020|     20106|  Petrol|Automatic|129360.00000000001|\n",
      "|Mercedes-Benz|2018|     56263|  Petrol|Automatic|          114400.0|\n",
      "|         Audi|2019|     24577|  Petrol|Automatic|          108570.0|\n",
      "|       Toyota|2021|        80|  Petrol|Automatic|          102960.0|\n",
      "+-------------+----+----------+--------+---------+------------------+\n",
      "\n"
     ]
    }
   ],
   "source": [
    "df_pyspark_nigSELColumnsFIL = df_pyspark_nigSELColumns.filter(df_pyspark_nigSELColumns[\"Money USD\"] > 100000)\n",
    "df_pyspark_nigSELColumnsFIL.show()"
   ]
  },
  {
   "cell_type": "code",
   "execution_count": 189,
   "id": "7d979c3e",
   "metadata": {},
   "outputs": [],
   "source": [
    "RowCountNigMoney = df_pyspark_nigSELColumns.filter(df_pyspark_nigSELColumns[\"Money USD\"] > 100000)"
   ]
  },
  {
   "cell_type": "code",
   "execution_count": 190,
   "id": "2aa4319e",
   "metadata": {},
   "outputs": [
    {
     "data": {
      "text/plain": [
       "4"
      ]
     },
     "execution_count": 190,
     "metadata": {},
     "output_type": "execute_result"
    }
   ],
   "source": [
    "RowCountNigMoney.count()"
   ]
  },
  {
   "cell_type": "code",
   "execution_count": 191,
   "id": "7f3da3ee",
   "metadata": {},
   "outputs": [
    {
     "name": "stdout",
     "output_type": "stream",
     "text": [
      "+----------+----+----------+--------+---------+------------------+\n",
      "|     Brand|Year|Kilometres|FuelType|     Gear|         Money USD|\n",
      "+----------+----+----------+--------+---------+------------------+\n",
      "|    Toyota|2004|   2671736|  Petrol|Automatic|10982.400000000001|\n",
      "|     Lexus|1999|   2254489|  Petrol|Automatic|            3465.0|\n",
      "|   Hyundai|2012|   1580052|  Petrol|Automatic|            5082.0|\n",
      "|     Lexus|2009|   1530065|  Petrol|Automatic|10524.800000000001|\n",
      "|      Ford|2012|   1284898|  Petrol|Automatic|           11550.0|\n",
      "|Land Rover|2006|    613630|  Petrol|Automatic|           11440.0|\n",
      "|     Volvo|2004|    567302|  Petrol|Automatic|            4158.0|\n",
      "|     Honda|2009|    511741|  Petrol|Automatic|           10395.0|\n",
      "+----------+----+----------+--------+---------+------------------+\n",
      "\n"
     ]
    }
   ],
   "source": [
    "df_pyspark_nigSELColumnsFIL = df_pyspark_nigSELColumns.filter(df_pyspark_nigSELColumns[\"Kilometres\"] > 500000)\n",
    "df_pyspark_nigSELColumnsFIL.orderBy(desc('Kilometres')).show()"
   ]
  },
  {
   "cell_type": "code",
   "execution_count": 192,
   "id": "cb56dbcd",
   "metadata": {},
   "outputs": [
    {
     "name": "stdout",
     "output_type": "stream",
     "text": [
      "+-----+----+----------+--------+---------+------------------+\n",
      "|Brand|Year|Kilometres|FuelType|     Gear|         Money USD|\n",
      "+-----+----+----------+--------+---------+------------------+\n",
      "|  BMW|2016|    111617|  Petrol|Automatic|32340.000000000004|\n",
      "|  BMW|2013|    167237|  Petrol|Automatic|           23100.0|\n",
      "|  BMW|2010|    280474|  Petrol|Automatic|           11550.0|\n",
      "|  BMW|2008|    258273|  Petrol|Automatic|            8778.0|\n",
      "|  BMW|2008|    248853|  Petrol|Automatic|           11550.0|\n",
      "|  BMW|2007|     89287|  Petrol|Automatic|            5775.0|\n",
      "|  BMW|2007|    135253|  Petrol|Automatic|            9900.0|\n",
      "|  BMW|2007|    316930|  Petrol|Automatic|            5313.0|\n",
      "|  BMW|2004|    232322|  Petrol|Automatic|            7392.0|\n",
      "|  BMW|2002|    176466|  Petrol|Automatic|            3712.5|\n",
      "+-----+----+----------+--------+---------+------------------+\n",
      "\n"
     ]
    }
   ],
   "source": [
    "df_pyspark_nigSELColumnsFILTERAND = df_pyspark_nigSELColumns.filter((df_pyspark_nigSELColumns['Brand'] == 'BMW') &\n",
    "                                                                (df_pyspark_nigSELColumns[\"Gear\"] == 'Automatic'))\n",
    "df_pyspark_nigSELColumnsFILTERAND.orderBy(desc('Year')).show()"
   ]
  },
  {
   "cell_type": "code",
   "execution_count": 193,
   "id": "4e73239b",
   "metadata": {},
   "outputs": [
    {
     "name": "stdout",
     "output_type": "stream",
     "text": [
      "+-----+----+----------+--------+---------+------------------+\n",
      "|Brand|Year|Kilometres|FuelType|     Gear|         Money USD|\n",
      "+-----+----+----------+--------+---------+------------------+\n",
      "|  BMW|2016|    111617|  Petrol|Automatic|32340.000000000004|\n",
      "|  BMW|2013|    167237|  Petrol|Automatic|           23100.0|\n",
      "|  BMW|2010|    280474|  Petrol|Automatic|           11550.0|\n",
      "|  BMW|2008|    258273|  Petrol|Automatic|            8778.0|\n",
      "|  BMW|2008|    248853|  Petrol|Automatic|           11550.0|\n",
      "|  BMW|2007|     89287|  Petrol|Automatic|            5775.0|\n",
      "|  BMW|2007|    135253|  Petrol|Automatic|            9900.0|\n",
      "|  BMW|2007|    316930|  Petrol|Automatic|            5313.0|\n",
      "|  BMW|2004|    232322|  Petrol|Automatic|            7392.0|\n",
      "|  BMW|2002|    176466|  Petrol|Automatic|            3712.5|\n",
      "| Opel|2000|    419605|  Petrol|Automatic|            2772.0|\n",
      "| Opel|1999|    216343|  Petrol|   Manual|            3234.0|\n",
      "+-----+----+----------+--------+---------+------------------+\n",
      "\n"
     ]
    }
   ],
   "source": [
    "df_pyspark_nigSELColumnsFILTEROR = df_pyspark_nigSELColumns.filter((df_pyspark_nigSELColumns[\"Brand\"] == \"BMW\")  |\n",
    "                                                                  (df_pyspark_nigSELColumns[\"Brand\"] ==\"Opel\"))\n",
    "df_pyspark_nigSELColumnsFILTEROR.orderBy(desc(\"Year\")).show()"
   ]
  },
  {
   "cell_type": "code",
   "execution_count": 194,
   "id": "24cf09ac",
   "metadata": {},
   "outputs": [
    {
     "name": "stdout",
     "output_type": "stream",
     "text": [
      "+-------+----+----------+--------+---------+---------+\n",
      "|  Brand|Year|Kilometres|FuelType|     Gear|Money USD|\n",
      "+-------+----+----------+--------+---------+---------+\n",
      "|Porsche|2017|     68343|  Petrol|Automatic|  41580.0|\n",
      "|Porsche|2014|     61129|  Petrol|Automatic|  14322.0|\n",
      "|Porsche|2005|    222372|  Petrol|Automatic|  13860.0|\n",
      "|Porsche|2006|    215921|  Petrol|Automatic|  12705.0|\n",
      "|Porsche|2004|    359713|  Petrol|Automatic|   9240.0|\n",
      "|Pontiac|2007|    322537|  Petrol|Automatic|   4851.0|\n",
      "+-------+----+----------+--------+---------+---------+\n",
      "\n"
     ]
    }
   ],
   "source": [
    "df_pyspark_nigSELColumnsFilterWildCard = df_pyspark_nigSELColumns.filter(df_pyspark_nigSELColumns['Brand'].like(\"P%\"))\n",
    "\n",
    "df_pyspark_nigSELColumnsFilterWildCard.orderBy(desc(\"Money USD\")).show()"
   ]
  },
  {
   "cell_type": "code",
   "execution_count": 195,
   "id": "a6b7073c",
   "metadata": {},
   "outputs": [
    {
     "name": "stdout",
     "output_type": "stream",
     "text": [
      "+-------+----+----------+--------+---------+-----------------+\n",
      "|Brand  |Year|Kilometres|FuelType|Gear     |Money USD        |\n",
      "+-------+----+----------+--------+---------+-----------------+\n",
      "|Toyota |2007|223493    |Hybrid  |Automatic|4620.0           |\n",
      "|Toyota |2003|367531    |Petrol  |Automatic|4702.5           |\n",
      "|Mazda  |2010|322717    |Petrol  |Automatic|4620.0           |\n",
      "|Toyota |2001|119510    |Petrol  |Automatic|2974.4           |\n",
      "|Honda  |2003|175567    |Petrol  |Automatic|3546.4           |\n",
      "|Nissan |2009|213292    |Petrol  |CVT      |3465.0           |\n",
      "|Ford   |2001|239647    |Petrol  |Automatic|3003.0           |\n",
      "|Ford   |2002|253810    |Petrol  |Automatic|3234.0           |\n",
      "|Honda  |2002|385231    |Petrol  |Automatic|2079.0           |\n",
      "|Lexus  |2000|222631    |Petrol  |Automatic|3234.0           |\n",
      "|Lexus  |1999|2254489   |Petrol  |Automatic|3465.0           |\n",
      "|Honda  |2009|87829     |Petrol  |Automatic|4620.0           |\n",
      "|Nissan |2001|318605    |Petrol  |Automatic|1848.0           |\n",
      "|Hyundai|2004|180368    |Petrol  |Automatic|2772.0           |\n",
      "|Toyota |2001|174340    |Petrol  |Automatic|4118.400000000001|\n",
      "|Lexus  |1999|53312     |Petrol  |Automatic|3465.0           |\n",
      "|Hyundai|2009|87854     |Petrol  |Automatic|3465.0           |\n",
      "|Nissan |2005|185972    |Petrol  |Automatic|4620.0           |\n",
      "|Honda  |2006|328495    |Petrol  |Automatic|4118.400000000001|\n",
      "|Honda  |2003|194620    |Petrol  |Automatic|3465.0           |\n",
      "+-------+----+----------+--------+---------+-----------------+\n",
      "only showing top 20 rows\n",
      "\n"
     ]
    }
   ],
   "source": [
    "df_pyspark_nigSELColumnsFILBETWEEN = df_pyspark_nigSELColumns.filter(df_pyspark_nigSELColumns[\"Money USD\"].\n",
    "                                                                    between(1000, 5000))\n",
    "df_pyspark_nigSELColumnsFILBETWEEN.show(truncate=False)"
   ]
  },
  {
   "cell_type": "code",
   "execution_count": 196,
   "id": "b823d8bf",
   "metadata": {},
   "outputs": [
    {
     "name": "stdout",
     "output_type": "stream",
     "text": [
      "+-------------+----+----------+--------+---------+-----------------+\n",
      "|        Brand|Year|Kilometres|FuelType|     Gear|        Money USD|\n",
      "+-------------+----+----------+--------+---------+-----------------+\n",
      "|Mercedes-Benz|2013|    104536|  Petrol|Automatic|          31574.4|\n",
      "|        Honda|2011|      3621|  Petrol|Automatic|          13728.0|\n",
      "|        Lexus|2007|    104138|  Petrol|Automatic|          13041.6|\n",
      "|      Lincoln|2019|     35976|  Petrol|Automatic|          39270.0|\n",
      "|   Land Rover|2008|    178780|  Petrol|Automatic|           6930.0|\n",
      "|        Lexus|2007|    220726|  Petrol|Automatic|          10296.0|\n",
      "|        Mazda|2010|    322717|  Petrol|Automatic|           4620.0|\n",
      "|        Lexus|2008|    149092|  Petrol|Automatic|          11319.0|\n",
      "|      Hyundai|2010|    262797|  Petrol|Automatic|           5890.5|\n",
      "|Mercedes-Benz|2007|      1966|  Petrol|Automatic|          12584.0|\n",
      "|          Kia|2013|    134013|  Petrol|Automatic|           9702.0|\n",
      "|        Honda|2003|    175567|  Petrol|Automatic|           3546.4|\n",
      "|       Nissan|2009|    213292|  Petrol|      CVT|           3465.0|\n",
      "|        Lexus|2005|    196345|  Petrol|Automatic|7550.400000000001|\n",
      "|      Porsche|2004|    359713|  Petrol|Automatic|           9240.0|\n",
      "|        Lexus|2008|    175395|  Petrol|Automatic|           8465.6|\n",
      "|Mercedes-Benz|2007|    210226|  Petrol|Automatic|         9348.768|\n",
      "|      Hyundai|2011|    107347|  Petrol|Automatic|           6930.0|\n",
      "|         Ford|2001|    239647|  Petrol|Automatic|           3003.0|\n",
      "|Mercedes-Benz|2009|     96757|  Diesel|Automatic|          10164.0|\n",
      "+-------------+----+----------+--------+---------+-----------------+\n",
      "only showing top 20 rows\n",
      "\n"
     ]
    }
   ],
   "source": [
    "df_pyspark_nigSELColumns.filter(df_pyspark_nigSELColumns['Brand'] != 'Toyota').select(\"*\").show()\n"
   ]
  },
  {
   "cell_type": "code",
   "execution_count": 197,
   "id": "00a44eea",
   "metadata": {},
   "outputs": [
    {
     "name": "stdout",
     "output_type": "stream",
     "text": [
      "+-------------+----+----------+--------+---------+------------------+\n",
      "|        Brand|Year|Kilometres|FuelType|     Gear|         Money USD|\n",
      "+-------------+----+----------+--------+---------+------------------+\n",
      "|Mercedes-Benz|2020|     20106|  Petrol|Automatic|129360.00000000001|\n",
      "|Mercedes-Benz|2018|     56263|  Petrol|Automatic|          114400.0|\n",
      "|         Audi|2019|     24577|  Petrol|Automatic|          108570.0|\n",
      "|Mercedes-Benz|2017|     33853|  Petrol|Automatic|           73216.0|\n",
      "|Mercedes-Benz|2018|    115896|  Petrol|Automatic|           53130.0|\n",
      "|Mercedes-Benz|2015|     38636|  Petrol|Automatic|           43472.0|\n",
      "|      Porsche|2017|     68343|  Petrol|Automatic|           41580.0|\n",
      "|Mercedes-Benz|2015|    120785|  Petrol|Automatic|           41184.0|\n",
      "|Mercedes-Benz|2016|     54116|  Petrol|Automatic|           40425.0|\n",
      "|Mercedes-Benz|2015|    168946|  Petrol|Automatic|           38896.0|\n",
      "|Mercedes-Benz|2015|    225529|  Petrol|Automatic|           36608.0|\n",
      "|Mercedes-Benz|2013|     90604|  Petrol|Automatic|           34320.0|\n",
      "|Mercedes-Benz|2014|     29355|  Petrol|Automatic|           34320.0|\n",
      "|          BMW|2016|    111617|  Petrol|Automatic|32340.000000000004|\n",
      "|Mercedes-Benz|2015|     61515|  Petrol|Automatic|32032.000000000004|\n",
      "|Mercedes-Benz|2015|     39662|  Petrol|Automatic|32032.000000000004|\n",
      "|Mercedes-Benz|2012|     55264|  Petrol|Automatic|           31574.4|\n",
      "|Mercedes-Benz|2013|    104536|  Petrol|Automatic|           31574.4|\n",
      "|Mercedes-Benz|2015|    183487|  Petrol|Automatic|           30030.0|\n",
      "|Mercedes-Benz|2017|     39674|  Petrol|Automatic|           30030.0|\n",
      "|Mercedes-Benz|2012|    165585|  Petrol|Automatic|           29744.0|\n",
      "|Mercedes-Benz|2013|    225174|  Petrol|Automatic|           29744.0|\n",
      "|Mercedes-Benz|2014|    152669|  Petrol|Automatic|           29744.0|\n",
      "|Mercedes-Benz|2011|    129709|  Petrol|Automatic|           29205.0|\n",
      "|Mercedes-Benz|2012|    148637|  Petrol|Automatic|           28600.0|\n",
      "+-------------+----+----------+--------+---------+------------------+\n",
      "only showing top 25 rows\n",
      "\n"
     ]
    }
   ],
   "source": [
    "Brand = [\"Mercedes-Benz\",'BMW','Volkswagen','Porsche','Opel','Audi']\n",
    "df_pyspark_nigSELColumnsBrand = df_pyspark_nigSELColumns.filter(df_pyspark_nigSELColumns['Brand'].isin(Brand))\n",
    "\n",
    "df_pyspark_nigSELColumnsBrand.orderBy(desc(\"Money USD\"),\"Year\").show(25,25)"
   ]
  },
  {
   "cell_type": "code",
   "execution_count": 198,
   "id": "59bb586c",
   "metadata": {},
   "outputs": [
    {
     "name": "stdout",
     "output_type": "stream",
     "text": [
      "+-------------+----+----------+--------+---------+------------------+\n",
      "|        Brand|Year|Kilometres|FuelType|     Gear|         Money USD|\n",
      "+-------------+----+----------+--------+---------+------------------+\n",
      "|Mercedes-Benz|2013|    104536|  Petrol|Automatic|           31574.4|\n",
      "|      Lincoln|2019|     35976|  Petrol|Automatic|           39270.0|\n",
      "|   Land Rover|2008|    178780|  Petrol|Automatic|            6930.0|\n",
      "|        Mazda|2010|    322717|  Petrol|Automatic|            4620.0|\n",
      "|Mercedes-Benz|2007|      1966|  Petrol|Automatic|           12584.0|\n",
      "|          Kia|2013|    134013|  Petrol|Automatic|            9702.0|\n",
      "|       Nissan|2009|    213292|  Petrol|      CVT|            3465.0|\n",
      "|      Porsche|2004|    359713|  Petrol|Automatic|            9240.0|\n",
      "|Mercedes-Benz|2007|    210226|  Petrol|Automatic|          9348.768|\n",
      "|         Ford|2001|    239647|  Petrol|Automatic|            3003.0|\n",
      "|Mercedes-Benz|2009|     96757|  Diesel|Automatic|           10164.0|\n",
      "|         Ford|2011|    143007|  Petrol|Automatic|           11550.0|\n",
      "|Mercedes-Benz|2007|    209466|  Petrol|Automatic|            9933.0|\n",
      "|Mercedes-Benz|2008|     87432|  Petrol|Automatic|           12705.0|\n",
      "|         Ford|2007|    171104|  Petrol|Automatic|            8694.4|\n",
      "|         Ford|2002|    253810|  Petrol|Automatic|            3234.0|\n",
      "|       Nissan|2014|    118154|  Petrol|      CVT|           12705.0|\n",
      "|Mercedes-Benz|2006|    172043|  Petrol|Automatic|            6006.0|\n",
      "|Mercedes-Benz|2012|    144761|  Petrol|Automatic|16016.000000000002|\n",
      "|         Ford|2007|     95227|  Petrol|Automatic|            5720.0|\n",
      "+-------------+----+----------+--------+---------+------------------+\n",
      "only showing top 20 rows\n",
      "\n"
     ]
    }
   ],
   "source": [
    "Brand = [\"Toyota\",\"Lexus\",\"Honda\",\"Hyundai\"]\n",
    "df_pyspark_nigSELColumnsNOTBrand = df_pyspark_nigSELColumns.filter(~df_pyspark_nigSELColumns[\"Brand\"].isin(Brand))\n",
    "df_pyspark_nigSELColumnsNOTBrand.show()"
   ]
  },
  {
   "cell_type": "code",
   "execution_count": 199,
   "id": "59396353",
   "metadata": {},
   "outputs": [
    {
     "name": "stdout",
     "output_type": "stream",
     "text": [
      "+-------------+-----+\n",
      "|        Brand|Count|\n",
      "+-------------+-----+\n",
      "|       Toyota|  216|\n",
      "|        Lexus|  136|\n",
      "|Mercedes-Benz|  103|\n",
      "|         Ford|   80|\n",
      "|        Honda|   65|\n",
      "|       Nissan|   44|\n",
      "|   Land Rover|   39|\n",
      "|      Hyundai|   25|\n",
      "|        Acura|   25|\n",
      "|        Mazda|   21|\n",
      "|     Infiniti|   19|\n",
      "|          Kia|   16|\n",
      "|        Volvo|   10|\n",
      "|          BMW|   10|\n",
      "|   Mitsubishi|    9|\n",
      "|         Jeep|    6|\n",
      "|      Porsche|    5|\n",
      "|   Volkswagen|    3|\n",
      "|      Lincoln|    3|\n",
      "|          GMC|    3|\n",
      "|      Changan|    2|\n",
      "|         Audi|    2|\n",
      "|         Opel|    2|\n",
      "|        Rover|    1|\n",
      "|    Chevrolet|    1|\n",
      "|    SsangYong|    1|\n",
      "|      Pontiac|    1|\n",
      "|      Renault|    1|\n",
      "|       Suzuki|    1|\n",
      "|       Hummer|    1|\n",
      "+-------------+-----+\n",
      "\n"
     ]
    }
   ],
   "source": [
    "df_pyspark_nigSELColumnsCOUNT = df_pyspark_nigSELColumns.groupBy(\"Brand\").agg(count(\"*\")\n",
    "                                                                              .alias(\"Count\")).select(\"Brand\",\"Count\")\n",
    "df_pyspark_nigSELColumnsCOUNT.orderBy(desc(\"Count\")).show(40,40)"
   ]
  },
  {
   "cell_type": "code",
   "execution_count": 200,
   "id": "8b7f46a5",
   "metadata": {},
   "outputs": [
    {
     "name": "stdout",
     "output_type": "stream",
     "text": [
      "+--------+-----+\n",
      "|FuelType|Count|\n",
      "+--------+-----+\n",
      "|  Petrol|  838|\n",
      "|  Hybrid|   10|\n",
      "|  Diesel|    3|\n",
      "+--------+-----+\n",
      "\n"
     ]
    }
   ],
   "source": [
    "df_pyspark_nigSELColumnsCOUNT = df_pyspark_nigSELColumns.groupBy(\"FuelType\").agg(count(\"*\")\n",
    "                                                                              .alias(\"Count\")).select(\"FuelType\",\"Count\")\n",
    "df_pyspark_nigSELColumnsCOUNT.orderBy(desc(\"Count\")).show()"
   ]
  },
  {
   "cell_type": "code",
   "execution_count": 201,
   "id": "5d638d47",
   "metadata": {},
   "outputs": [
    {
     "name": "stdout",
     "output_type": "stream",
     "text": [
      "+---------+-----+\n",
      "|     Gear|Count|\n",
      "+---------+-----+\n",
      "|Automatic|  832|\n",
      "|      CVT|    9|\n",
      "|   Manual|    6|\n",
      "|      AMT|    4|\n",
      "+---------+-----+\n",
      "\n"
     ]
    }
   ],
   "source": [
    "df_pyspark_nigSELColumnsCOUNT = df_pyspark_nigSELColumns.groupBy(\"Gear\").agg(count(\"*\")\n",
    "                                                                              .alias(\"Count\")).select(\"Gear\",\"Count\")\n",
    "df_pyspark_nigSELColumnsCOUNT.orderBy(desc(\"Count\")).show()"
   ]
  },
  {
   "cell_type": "markdown",
   "id": "18d9679e",
   "metadata": {},
   "source": [
    "##### Looking for avg,min, max, and total kilometres and money for each brand"
   ]
  },
  {
   "cell_type": "code",
   "execution_count": 202,
   "id": "17deb0f4",
   "metadata": {},
   "outputs": [
    {
     "name": "stdout",
     "output_type": "stream",
     "text": [
      "+-------------+-------------+-------------+-------------+----------------+\n",
      "|        Brand|AVG Money USD|Min Money USD|Max Money USD| Total Money USD|\n",
      "+-------------+-------------+-------------+-------------+----------------+\n",
      "|   Volkswagen|       3773.0|       3465.0|       4389.0|         11319.0|\n",
      "|     Infiniti|      8800.75|       1963.5|      32340.0|        167214.3|\n",
      "|        Lexus|      15238.0|       3003.0|      92400.0|      2072367.44|\n",
      "|        Rover|      22407.0|      22407.0|      22407.0|         22407.0|\n",
      "|         Jeep|      25619.0|       3465.0|      82368.0|        153714.0|\n",
      "|   Mitsubishi|      4123.17|       2079.0|       8085.0|         37108.5|\n",
      "|          Kia|      9882.47|       2772.0|      18480.0|        158119.5|\n",
      "|    Chevrolet|      13860.0|      13860.0|      13860.0|         13860.0|\n",
      "|        Volvo|      5157.24|       2310.0|       7550.4|         51572.4|\n",
      "|      Hyundai|      9526.66|       2541.0|      21736.0|        238166.5|\n",
      "|      Changan|      33412.5|      22275.0|      44550.0|         66825.0|\n",
      "|        Honda|      6292.53|      1361.25|      23100.0|       409014.65|\n",
      "|    SsangYong|       5775.0|       5775.0|       5775.0|          5775.0|\n",
      "|         Audi|      61215.0|      13860.0|     108570.0|        122430.0|\n",
      "|      Pontiac|       4851.0|       4851.0|       4851.0|          4851.0|\n",
      "|   Land Rover|      22565.4|       3696.0|      92400.0|        880050.6|\n",
      "|Mercedes-Benz|     19029.27|       4118.4|     129360.0|      1960015.07|\n",
      "|      Renault|       8085.0|       8085.0|       8085.0|          8085.0|\n",
      "|      Lincoln|      20482.0|       8778.0|      39270.0|         61446.0|\n",
      "|          BMW|     11941.05|       3712.5|      32340.0|        119410.5|\n",
      "+-------------+-------------+-------------+-------------+----------------+\n",
      "only showing top 20 rows\n",
      "\n"
     ]
    }
   ],
   "source": [
    "df_pyspark_nigSELColumnsMinMaxAvgSUM = df_pyspark_nigSELColumns.groupBy(\"Brand\").agg(round(avg(\"Money USD\"),2)\\\n",
    "                                                                                     .alias(\"AVG Money USD\"),\n",
    "                                                                                    round(min(\"Money USD\"),2)\\\n",
    "                                                                                     .alias(\"Min Money USD\"),\n",
    "                                                                                    round(max(\"Money USD\"),2)\\\n",
    "                                                                                     .alias(\"Max Money USD\"),\n",
    "                                                                                    round(sum(\"Money USD\"),2)\\\n",
    "                                                                                     .alias(\" Total Money USD\"))\n",
    "df_pyspark_nigSELColumnsMinMaxAvgSUM.show()"
   ]
  },
  {
   "cell_type": "code",
   "execution_count": 203,
   "id": "4886e88f",
   "metadata": {},
   "outputs": [
    {
     "name": "stdout",
     "output_type": "stream",
     "text": [
      "+-------------+--------------+--------------+--------------+-----------------+\n",
      "|        Brand|AVG Kilometres|Min Kilometres|Max Kilometres| Total Kilometres|\n",
      "+-------------+--------------+--------------+--------------+-----------------+\n",
      "|   Volkswagen|     185003.33|         90783|        264945|           555010|\n",
      "|     Infiniti|     157520.11|         48902|        286114|          2992882|\n",
      "|        Lexus|     189924.93|         16767|       2254489|         25829790|\n",
      "|        Rover|      163834.0|        163834|        163834|           163834|\n",
      "|         Jeep|      128551.0|         51566|        239555|           771306|\n",
      "|   Mitsubishi|     203911.11|         70000|        361889|          1835200|\n",
      "|          Kia|     138810.63|         24798|        284462|          2220970|\n",
      "|    Chevrolet|      274542.0|        274542|        274542|           274542|\n",
      "|        Volvo|      225323.1|         12074|        567302|          2253231|\n",
      "|      Hyundai|     205636.56|         43168|       1580052|          5140914|\n",
      "|      Changan|       20853.5|         17688|         24019|            41707|\n",
      "|        Honda|     201331.74|          3621|        511741|         13086563|\n",
      "|    SsangYong|      155231.0|        155231|        155231|           155231|\n",
      "|         Audi|       91958.0|         24577|        159339|           183916|\n",
      "|      Pontiac|      322537.0|        322537|        322537|           322537|\n",
      "|   Land Rover|     147919.67|          7842|        613630|          5768867|\n",
      "|Mercedes-Benz|     146064.85|           650|        380097|         15044680|\n",
      "|      Renault|       60207.0|         60207|         60207|            60207|\n",
      "|      Lincoln|     114092.67|         35976|        186615|           342278|\n",
      "|          BMW|      201671.2|         89287|        316930|          2016712|\n",
      "+-------------+--------------+--------------+--------------+-----------------+\n",
      "only showing top 20 rows\n",
      "\n"
     ]
    }
   ],
   "source": [
    "df_pyspark_nigSELColumnsMinMaxAvgSUM = df_pyspark_nigSELColumns.groupBy(\"Brand\").agg(round(avg(\"Kilometres\"),2)\\\n",
    "                                                                                     .alias(\"AVG Kilometres\"),\n",
    "                                                                                    min(\"Kilometres\").alias(\"Min Kilometres\"),\n",
    "                                                                                    max(\"Kilometres\").alias(\"Max Kilometres\"),\n",
    "                                                                                    sum(\"Kilometres\").alias(\" Total Kilometres\"))\n",
    "df_pyspark_nigSELColumnsMinMaxAvgSUM.show()\n",
    "\n",
    "\n",
    "\n",
    "\n",
    "\n",
    "                                                                                    "
   ]
  },
  {
   "cell_type": "code",
   "execution_count": 204,
   "id": "6d524665",
   "metadata": {},
   "outputs": [
    {
     "name": "stdout",
     "output_type": "stream",
     "text": [
      "+----------+------------------+\n",
      "|     Brand|             Money|\n",
      "+----------+------------------+\n",
      "|      Audi|           61215.0|\n",
      "|   Changan|           33412.5|\n",
      "|      Jeep|           25619.0|\n",
      "|Land Rover|22565.399999999998|\n",
      "|     Rover|           22407.0|\n",
      "|   Lincoln|           20482.0|\n",
      "+----------+------------------+\n",
      "\n"
     ]
    }
   ],
   "source": [
    "df_pyspark_nigSELColumnsAGGHaving = df_pyspark_nigSELColumns.groupBy(\"Brand\").agg(avg(col(\"Money USD\").cast(\"double\"))\n",
    ".alias(\"Money\")).filter(col(\"Money\") > 20000).select(\"Brand\",\"Money\")\n",
    "\n",
    "df_pyspark_nigSELColumnsAGGHaving.orderBy(desc(\"Money\")).show()"
   ]
  },
  {
   "cell_type": "code",
   "execution_count": 205,
   "id": "0ca4ac8d",
   "metadata": {},
   "outputs": [
    {
     "name": "stdout",
     "output_type": "stream",
     "text": [
      "+-------------+\n",
      "|        Brand|\n",
      "+-------------+\n",
      "|   Volkswagen|\n",
      "|     Infiniti|\n",
      "|        Lexus|\n",
      "|        Rover|\n",
      "|         Jeep|\n",
      "|   Mitsubishi|\n",
      "|          Kia|\n",
      "|    Chevrolet|\n",
      "|        Volvo|\n",
      "|      Hyundai|\n",
      "|      Changan|\n",
      "|        Honda|\n",
      "|    SsangYong|\n",
      "|         Audi|\n",
      "|      Pontiac|\n",
      "|   Land Rover|\n",
      "|Mercedes-Benz|\n",
      "|      Renault|\n",
      "|      Lincoln|\n",
      "|          BMW|\n",
      "|       Suzuki|\n",
      "|        Acura|\n",
      "|         Opel|\n",
      "|          GMC|\n",
      "|       Hummer|\n",
      "|      Porsche|\n",
      "|       Toyota|\n",
      "|       Nissan|\n",
      "|        Mazda|\n",
      "|         Ford|\n",
      "+-------------+\n",
      "\n"
     ]
    }
   ],
   "source": [
    "df_pyspark_nigSELColumns.select(\"Brand\").distinct().show(30,25)"
   ]
  },
  {
   "cell_type": "code",
   "execution_count": 206,
   "id": "8d6d1544",
   "metadata": {},
   "outputs": [
    {
     "name": "stdout",
     "output_type": "stream",
     "text": [
      "+-------------+----+----------+--------+---------+-----------------+----------+\n",
      "|        Brand|Year|Kilometres|FuelType|     Gear|        Money USD|Money EURO|\n",
      "+-------------+----+----------+--------+---------+-----------------+----------+\n",
      "|Mercedes-Benz|2013|    104536|  Petrol|Automatic|          31574.4|   28732.7|\n",
      "|        Honda|2011|      3621|  Petrol|Automatic|          13728.0|  12492.48|\n",
      "|       Toyota|2007|    223493|  Hybrid|Automatic|           4620.0|    4204.2|\n",
      "|       Toyota|2003|    367531|  Petrol|Automatic|           4702.5|   4279.28|\n",
      "|        Lexus|2007|    104138|  Petrol|Automatic|          13041.6|  11867.86|\n",
      "|      Lincoln|2019|     35976|  Petrol|Automatic|          39270.0|   35735.7|\n",
      "|   Land Rover|2008|    178780|  Petrol|Automatic|           6930.0|    6306.3|\n",
      "|        Lexus|2007|    220726|  Petrol|Automatic|          10296.0|   9369.36|\n",
      "|        Mazda|2010|    322717|  Petrol|Automatic|           4620.0|    4204.2|\n",
      "|        Lexus|2008|    149092|  Petrol|Automatic|          11319.0|  10300.29|\n",
      "|      Hyundai|2010|    262797|  Petrol|Automatic|           5890.5|   5360.36|\n",
      "|       Toyota|2001|    119510|  Petrol|Automatic|           2974.4|    2706.7|\n",
      "|Mercedes-Benz|2007|      1966|  Petrol|Automatic|          12584.0|  11451.44|\n",
      "|       Toyota|2002|    125606|  Petrol|Automatic|           7161.0|   6516.51|\n",
      "|          Kia|2013|    134013|  Petrol|Automatic|           9702.0|   8828.82|\n",
      "|        Honda|2003|    175567|  Petrol|Automatic|           3546.4|   3227.22|\n",
      "|       Nissan|2009|    213292|  Petrol|      CVT|           3465.0|   3153.15|\n",
      "|        Lexus|2005|    196345|  Petrol|Automatic|7550.400000000001|   6870.86|\n",
      "|       Toyota|2007|    213548|  Petrol|Automatic|           7321.6|   6662.66|\n",
      "|       Toyota|2009|     94618|  Petrol|Automatic|          10395.0|   9459.45|\n",
      "+-------------+----+----------+--------+---------+-----------------+----------+\n",
      "only showing top 20 rows\n",
      "\n"
     ]
    }
   ],
   "source": [
    "df_pyspark_nigSELColumns.withColumn(\"Money EURO\", round(df_pyspark_nigSELColumns['Money USD'] * 0.91,2) ).show()"
   ]
  },
  {
   "cell_type": "code",
   "execution_count": 207,
   "id": "accd7b5b",
   "metadata": {
    "scrolled": true
   },
   "outputs": [
    {
     "name": "stdout",
     "output_type": "stream",
     "text": [
      "+------------------------------+\n",
      "|New Brand                     |\n",
      "+------------------------------+\n",
      "|Mercedes-Benz Petrol Automatic|\n",
      "|Honda Petrol Automatic        |\n",
      "|Toyota Hybrid Automatic       |\n",
      "|Toyota Petrol Automatic       |\n",
      "|Lexus Petrol Automatic        |\n",
      "|Lincoln Petrol Automatic      |\n",
      "|Land Rover Petrol Automatic   |\n",
      "|Lexus Petrol Automatic        |\n",
      "|Mazda Petrol Automatic        |\n",
      "|Lexus Petrol Automatic        |\n",
      "|Hyundai Petrol Automatic      |\n",
      "|Toyota Petrol Automatic       |\n",
      "|Mercedes-Benz Petrol Automatic|\n",
      "|Toyota Petrol Automatic       |\n",
      "|Kia Petrol Automatic          |\n",
      "|Honda Petrol Automatic        |\n",
      "|Nissan Petrol CVT             |\n",
      "|Lexus Petrol Automatic        |\n",
      "|Toyota Petrol Automatic       |\n",
      "|Toyota Petrol Automatic       |\n",
      "+------------------------------+\n",
      "only showing top 20 rows\n",
      "\n"
     ]
    }
   ],
   "source": [
    "df_pyspark_nigSELColumns.select(concat(df_pyspark_nigSELColumns[\"Brand\"], lit(\" \"),\n",
    "                                      df_pyspark_nigSELColumns[\"FuelType\"], lit(\" \"),\n",
    "                                       df_pyspark_nigSELColumns[\"Gear\"]).alias(\"New Brand\")).show(truncate=False)"
   ]
  },
  {
   "cell_type": "markdown",
   "id": "44172020",
   "metadata": {},
   "source": [
    "#### Money - looking for min and max values"
   ]
  },
  {
   "cell_type": "code",
   "execution_count": 208,
   "id": "20770f0b",
   "metadata": {},
   "outputs": [],
   "source": [
    "Min = df_pyspark_nigSELColumns.agg(min(\"Money USD\")).first()[0]\n",
    "Max  = df_pyspark_nigSELColumns.agg(max(\"Money USD\")).first()[0]"
   ]
  },
  {
   "cell_type": "code",
   "execution_count": 209,
   "id": "1703dc79",
   "metadata": {},
   "outputs": [],
   "source": [
    "MinMoneyUSD = df_pyspark_nigSELColumns.filter(df_pyspark_nigSELColumns['Money USD'] == Min)\n",
    "MaxMoneyUSD = df_pyspark_nigSELColumns.filter(df_pyspark_nigSELColumns['Money USD'] == Max)"
   ]
  },
  {
   "cell_type": "code",
   "execution_count": 210,
   "id": "21d2d716",
   "metadata": {},
   "outputs": [
    {
     "name": "stdout",
     "output_type": "stream",
     "text": [
      "+-------------+----+----------+--------+---------+------------------+\n",
      "|        Brand|Year|Kilometres|FuelType|     Gear|         Money USD|\n",
      "+-------------+----+----------+--------+---------+------------------+\n",
      "|Mercedes-Benz|2020|     20106|  Petrol|Automatic|129360.00000000001|\n",
      "|        Honda|2001|    201202|  Petrol|Automatic|           1361.25|\n",
      "+-------------+----+----------+--------+---------+------------------+\n",
      "\n"
     ]
    }
   ],
   "source": [
    "UnionMaxMinMoneyUSD = MaxMoneyUSD.union(MinMoneyUSD)\n",
    "UnionMaxMinMoneyUSD.show()"
   ]
  },
  {
   "cell_type": "markdown",
   "id": "0f9c9d41",
   "metadata": {},
   "source": [
    "#### Kilometres - looking for min and max values"
   ]
  },
  {
   "cell_type": "code",
   "execution_count": 211,
   "id": "33689b6d",
   "metadata": {},
   "outputs": [],
   "source": [
    "MinKM = df_pyspark_nigSELColumns.agg(min(\"Kilometres\")).first()[0]\n",
    "MaxKM  = df_pyspark_nigSELColumns.agg(max(\"Kilometres\")).first()[0]"
   ]
  },
  {
   "cell_type": "code",
   "execution_count": 212,
   "id": "ba96ead1",
   "metadata": {},
   "outputs": [],
   "source": [
    "MinKMDF = df_pyspark_nigSELColumns.filter(df_pyspark_nigSELColumns['Kilometres'] == MinKM)\n",
    "MaxKMDF = df_pyspark_nigSELColumns.filter(df_pyspark_nigSELColumns['Kilometres'] == MaxKM)"
   ]
  },
  {
   "cell_type": "code",
   "execution_count": 213,
   "id": "d697ded0",
   "metadata": {},
   "outputs": [
    {
     "name": "stdout",
     "output_type": "stream",
     "text": [
      "+------+----+----------+--------+---------+------------------+\n",
      "| Brand|Year|Kilometres|FuelType|     Gear|         Money USD|\n",
      "+------+----+----------+--------+---------+------------------+\n",
      "|Toyota|2004|   2671736|  Petrol|Automatic|10982.400000000001|\n",
      "|Toyota|2021|        80|  Petrol|Automatic|          102960.0|\n",
      "+------+----+----------+--------+---------+------------------+\n",
      "\n"
     ]
    }
   ],
   "source": [
    "UnionMaxMinKM = MaxKMDF.union(MinKMDF)\n",
    "UnionMaxMinKM.show()"
   ]
  },
  {
   "cell_type": "code",
   "execution_count": 214,
   "id": "ef032f8a",
   "metadata": {
    "scrolled": true
   },
   "outputs": [
    {
     "name": "stdout",
     "output_type": "stream",
     "text": [
      "+-------------+----+----------+--------+---------+------------------+---+\n",
      "|        Brand|Year|Kilometres|FuelType|     Gear|         Money USD| RN|\n",
      "+-------------+----+----------+--------+---------+------------------+---+\n",
      "|Mercedes-Benz|2020|     20106|  Petrol|Automatic|129360.00000000001|  1|\n",
      "|Mercedes-Benz|2018|     56263|  Petrol|Automatic|          114400.0|  2|\n",
      "|         Audi|2019|     24577|  Petrol|Automatic|          108570.0|  3|\n",
      "|       Toyota|2021|        80|  Petrol|Automatic|          102960.0|  4|\n",
      "|       Toyota|2018|     64098|  Petrol|Automatic|           99000.0|  5|\n",
      "|       Toyota|2020|     57656|  Petrol|Automatic|           94050.0|  6|\n",
      "|   Land Rover|2018|     59656|  Diesel|Automatic|           92400.0|  7|\n",
      "|        Lexus|2016|    107355|  Petrol|Automatic|           92400.0|  8|\n",
      "|       Toyota|2020|     13668|  Petrol|Automatic|           87780.0|  9|\n",
      "|   Land Rover|2018|      8711|  Petrol|Automatic|           86625.0| 10|\n",
      "|         Jeep|2018|     56222|  Petrol|Automatic|           82368.0| 11|\n",
      "|   Land Rover|2016|    102429|  Petrol|Automatic|           80850.0| 12|\n",
      "|   Land Rover|2018|     30092|  Diesel|Automatic|           80850.0| 13|\n",
      "|       Toyota|2017|      8383|  Petrol|Automatic|           76230.0| 14|\n",
      "|Mercedes-Benz|2017|     33853|  Petrol|Automatic|           73216.0| 15|\n",
      "|   Land Rover|2017|     87589|  Petrol|Automatic|           71610.0| 16|\n",
      "|       Toyota|2019|     10427|  Petrol|Automatic|           66990.0| 17|\n",
      "|        Lexus|2017|     59838|  Petrol|Automatic|           60060.0| 18|\n",
      "|        Lexus|2017|     41905|  Petrol|Automatic|           59488.0| 19|\n",
      "|       Toyota|2010|     17429|  Petrol|   Manual|           57750.0| 20|\n",
      "+-------------+----+----------+--------+---------+------------------+---+\n",
      "only showing top 20 rows\n",
      "\n"
     ]
    }
   ],
   "source": [
    "windowSpec = Window.orderBy(col(\"Money USD\").desc())\n",
    "\n",
    "\n",
    "df_pyspark_nigSELColumns.withColumn(\"RN\",row_number().over(windowSpec)).show()\n"
   ]
  },
  {
   "cell_type": "markdown",
   "id": "b4a54fed",
   "metadata": {},
   "source": [
    "##### Looking for most expensive car for each brand"
   ]
  },
  {
   "cell_type": "code",
   "execution_count": 215,
   "id": "fea0df31",
   "metadata": {},
   "outputs": [
    {
     "name": "stdout",
     "output_type": "stream",
     "text": [
      "+-------------+----+----------+--------+---------+------------------+---+\n",
      "|        Brand|Year|Kilometres|FuelType|     Gear|         Money USD| RN|\n",
      "+-------------+----+----------+--------+---------+------------------+---+\n",
      "|Mercedes-Benz|2020|     20106|  Petrol|Automatic|129360.00000000001|  1|\n",
      "|Mercedes-Benz|2018|     56263|  Petrol|Automatic|          114400.0|  2|\n",
      "|         Audi|2019|     24577|  Petrol|Automatic|          108570.0|  1|\n",
      "|       Toyota|2021|        80|  Petrol|Automatic|          102960.0|  1|\n",
      "|       Toyota|2018|     64098|  Petrol|Automatic|           99000.0|  2|\n",
      "|       Toyota|2020|     57656|  Petrol|Automatic|           94050.0|  3|\n",
      "|   Land Rover|2018|     59656|  Diesel|Automatic|           92400.0|  1|\n",
      "|        Lexus|2016|    107355|  Petrol|Automatic|           92400.0|  1|\n",
      "|       Toyota|2020|     13668|  Petrol|Automatic|           87780.0|  4|\n",
      "|   Land Rover|2018|      8711|  Petrol|Automatic|           86625.0|  2|\n",
      "|         Jeep|2018|     56222|  Petrol|Automatic|           82368.0|  1|\n",
      "|   Land Rover|2016|    102429|  Petrol|Automatic|           80850.0|  3|\n",
      "|   Land Rover|2018|     30092|  Diesel|Automatic|           80850.0|  4|\n",
      "|       Toyota|2017|      8383|  Petrol|Automatic|           76230.0|  5|\n",
      "|Mercedes-Benz|2017|     33853|  Petrol|Automatic|           73216.0|  3|\n",
      "|   Land Rover|2017|     87589|  Petrol|Automatic|           71610.0|  5|\n",
      "|       Toyota|2019|     10427|  Petrol|Automatic|           66990.0|  6|\n",
      "|        Lexus|2017|     59838|  Petrol|Automatic|           60060.0|  2|\n",
      "|        Lexus|2017|     41905|  Petrol|Automatic|           59488.0|  3|\n",
      "|       Toyota|2010|     17429|  Petrol|   Manual|           57750.0|  7|\n",
      "+-------------+----+----------+--------+---------+------------------+---+\n",
      "only showing top 20 rows\n",
      "\n"
     ]
    }
   ],
   "source": [
    "windowSpec = Window.partitionBy(col(\"Brand\")).orderBy(col(\"Money USD\").desc())\n",
    "RNNig = df_pyspark_nigSELColumns.withColumn(\"RN\", row_number().over(windowSpec)).orderBy(desc(\"Money USD\"))\n",
    "RNNig.show()\n",
    "\n"
   ]
  },
  {
   "cell_type": "code",
   "execution_count": 216,
   "id": "4ba5524d",
   "metadata": {},
   "outputs": [
    {
     "name": "stdout",
     "output_type": "stream",
     "text": [
      "+-------------+----+----------+--------+---------+------------------+---+\n",
      "|        Brand|Year|Kilometres|FuelType|     Gear|         Money USD| RN|\n",
      "+-------------+----+----------+--------+---------+------------------+---+\n",
      "|Mercedes-Benz|2020|     20106|  Petrol|Automatic|129360.00000000001|  1|\n",
      "|         Audi|2019|     24577|  Petrol|Automatic|          108570.0|  1|\n",
      "|       Toyota|2021|        80|  Petrol|Automatic|          102960.0|  1|\n",
      "|   Land Rover|2018|     59656|  Diesel|Automatic|           92400.0|  1|\n",
      "|        Lexus|2016|    107355|  Petrol|Automatic|           92400.0|  1|\n",
      "|         Jeep|2018|     56222|  Petrol|Automatic|           82368.0|  1|\n",
      "|      Changan|2020|     24019|  Petrol|Automatic|           44550.0|  1|\n",
      "|      Porsche|2017|     68343|  Petrol|Automatic|           41580.0|  1|\n",
      "|         Ford|2018|     14405|  Petrol|Automatic|           40425.0|  1|\n",
      "|      Lincoln|2019|     35976|  Petrol|Automatic|           39270.0|  1|\n",
      "|          BMW|2016|    111617|  Petrol|Automatic|32340.000000000004|  1|\n",
      "|     Infiniti|2015|    135688|  Petrol|Automatic|32340.000000000004|  1|\n",
      "|        Acura|2016|    163198|  Petrol|Automatic|           24255.0|  1|\n",
      "|        Honda|2016|    142904|  Petrol|Automatic|           23100.0|  1|\n",
      "|        Rover|2012|    163834|  Petrol|Automatic|           22407.0|  1|\n",
      "|      Hyundai|2014|    120005|  Petrol|Automatic|           21736.0|  1|\n",
      "|        Mazda|2014|     94365|  Petrol|Automatic|           18562.5|  1|\n",
      "|          Kia|2015|     96648|  Petrol|Automatic|           18480.0|  1|\n",
      "|       Nissan|2015|     50278|  Petrol|Automatic|           17325.0|  1|\n",
      "|    Chevrolet|2009|    274542|  Petrol|Automatic|           13860.0|  1|\n",
      "|       Hummer|2005|    139809|  Petrol|Automatic|           13860.0|  1|\n",
      "|          GMC|2012|     89897|  Petrol|Automatic|           12705.0|  1|\n",
      "|   Mitsubishi|2010|    136376|  Petrol|Automatic| 8085.000000000001|  1|\n",
      "|      Renault|2005|     60207|  Petrol|Automatic| 8085.000000000001|  1|\n",
      "|        Volvo|2008|     12074|  Petrol|Automatic| 7550.400000000001|  1|\n",
      "|    SsangYong|2009|    155231|  Petrol|Automatic|            5775.0|  1|\n",
      "|      Pontiac|2007|    322537|  Petrol|Automatic|            4851.0|  1|\n",
      "|       Suzuki|2009|    113587|  Petrol|Automatic|            4620.0|  1|\n",
      "|   Volkswagen|2004|    199282|  Petrol|Automatic|            4389.0|  1|\n",
      "|         Opel|1999|    216343|  Petrol|   Manual|            3234.0|  1|\n",
      "+-------------+----+----------+--------+---------+------------------+---+\n",
      "\n"
     ]
    }
   ],
   "source": [
    "RNNig.filter(RNNig['RN'] == 1).orderBy(desc(\"Money USD\")).show(30)"
   ]
  },
  {
   "cell_type": "code",
   "execution_count": 217,
   "id": "c75cc1be",
   "metadata": {
    "scrolled": false
   },
   "outputs": [
    {
     "name": "stdout",
     "output_type": "stream",
     "text": [
      "Brand:  Mercedes-Benz   Money USD:  129360.00000000001\n",
      "Brand:  Audi   Money USD:  108570.0\n",
      "Brand:  Toyota   Money USD:  102960.0\n",
      "Brand:  Land Rover   Money USD:  92400.0\n",
      "Brand:  Lexus   Money USD:  92400.0\n",
      "Brand:  Jeep   Money USD:  82368.0\n",
      "Brand:  Changan   Money USD:  44550.0\n",
      "Brand:  Porsche   Money USD:  41580.0\n",
      "Brand:  Ford   Money USD:  40425.0\n",
      "Brand:  Lincoln   Money USD:  39270.0\n",
      "Brand:  BMW   Money USD:  32340.000000000004\n",
      "Brand:  Infiniti   Money USD:  32340.000000000004\n",
      "Brand:  Acura   Money USD:  24255.0\n",
      "Brand:  Honda   Money USD:  23100.0\n",
      "Brand:  Rover   Money USD:  22407.0\n",
      "Brand:  Hyundai   Money USD:  21736.0\n",
      "Brand:  Mazda   Money USD:  18562.5\n",
      "Brand:  Kia   Money USD:  18480.0\n",
      "Brand:  Nissan   Money USD:  17325.0\n",
      "Brand:  Chevrolet   Money USD:  13860.0\n",
      "Brand:  Hummer   Money USD:  13860.0\n",
      "Brand:  GMC   Money USD:  12705.0\n",
      "Brand:  Mitsubishi   Money USD:  8085.000000000001\n",
      "Brand:  Renault   Money USD:  8085.000000000001\n",
      "Brand:  Volvo   Money USD:  7550.400000000001\n",
      "Brand:  SsangYong   Money USD:  5775.0\n",
      "Brand:  Pontiac   Money USD:  4851.0\n",
      "Brand:  Suzuki   Money USD:  4620.0\n",
      "Brand:  Volkswagen   Money USD:  4389.0\n",
      "Brand:  Opel   Money USD:  3234.0\n"
     ]
    }
   ],
   "source": [
    "FirstCarsdf_pyspark_nigSELColumns = RNNig.filter(RNNig['RN'] == 1).orderBy(desc(\"Money USD\"))\n",
    "data_collectNIG = FirstCarsdf_pyspark_nigSELColumns.collect()\n",
    "\n",
    "for row in data_collectNIG:\n",
    "    print(\"Brand: \", row[\"Brand\"],\" \",\"Money USD: \", row[\"Money USD\"])"
   ]
  },
  {
   "cell_type": "markdown",
   "id": "a9b38d50",
   "metadata": {},
   "source": [
    "##### Looking for min kilometers values for car from each brand"
   ]
  },
  {
   "cell_type": "code",
   "execution_count": 218,
   "id": "423eb262",
   "metadata": {},
   "outputs": [
    {
     "name": "stdout",
     "output_type": "stream",
     "text": [
      "+-----+----+----------+--------+---------+------------------+---+\n",
      "|Brand|Year|Kilometres|FuelType|     Gear|         Money USD| RN|\n",
      "+-----+----+----------+--------+---------+------------------+---+\n",
      "|Acura|2011|     78613|  Petrol|Automatic|           13728.0|  1|\n",
      "|Acura|2011|     90726|  Petrol|Automatic|            9240.0|  2|\n",
      "|Acura|2005|    111304|  Petrol|Automatic|            2541.0|  3|\n",
      "|Acura|2010|    112020|  Petrol|Automatic|           10296.0|  4|\n",
      "|Acura|2006|    114031|  Petrol|Automatic|3889.6000000000004|  5|\n",
      "|Acura|2005|    122273|  Petrol|Automatic|            4950.0|  6|\n",
      "|Acura|2008|    133729|  Petrol|Automatic|           11880.0|  7|\n",
      "|Acura|2010|    147282|  Petrol|Automatic|           20592.0|  8|\n",
      "|Acura|2008|    158238|  Petrol|Automatic| 7550.400000000001|  9|\n",
      "|Acura|2016|    163198|  Petrol|Automatic|           24255.0| 10|\n",
      "|Acura|2008|    174107|  Petrol|Automatic| 8236.800000000001| 11|\n",
      "|Acura|2008|    174861|  Petrol|Automatic| 7779.200000000001| 12|\n",
      "|Acura|2011|    178050|  Petrol|Automatic|           11440.0| 13|\n",
      "|Acura|2009|    182036|  Petrol|Automatic|            6864.0| 14|\n",
      "|Acura|2008|    186539|  Petrol|Automatic|            6468.0| 15|\n",
      "|Acura|2007|    196814|  Petrol|Automatic| 7854.000000000001| 16|\n",
      "|Acura|2002|    200741|  Petrol|Automatic|            2772.0| 17|\n",
      "|Acura|2010|    221054|  Petrol|Automatic|           20790.0| 18|\n",
      "|Acura|2004|    231349|  Petrol|Automatic| 5285.280000000001| 19|\n",
      "|Acura|2007|    233488|  Petrol|Automatic| 7854.000000000001| 20|\n",
      "+-----+----+----------+--------+---------+------------------+---+\n",
      "only showing top 20 rows\n",
      "\n"
     ]
    }
   ],
   "source": [
    "windowSpec = Window.partitionBy(col(\"Brand\")).orderBy(col(\"Kilometres\"))\n",
    "\n",
    "KMdf_pyspark_nigSELColumns = df_pyspark_nigSELColumns.withColumn(\"RN\", row_number().over(windowSpec))\n",
    "KMdf_pyspark_nigSELColumns.show()"
   ]
  },
  {
   "cell_type": "code",
   "execution_count": 219,
   "id": "7f587208",
   "metadata": {},
   "outputs": [
    {
     "name": "stdout",
     "output_type": "stream",
     "text": [
      "+-------------+----+----------+--------+---------+-----------------+---+\n",
      "|        Brand|Year|Kilometres|FuelType|     Gear|        Money USD| RN|\n",
      "+-------------+----+----------+--------+---------+-----------------+---+\n",
      "|       Toyota|2021|        80|  Petrol|Automatic|         102960.0|  1|\n",
      "|Mercedes-Benz|2008|       650|  Petrol|Automatic|          14872.0|  1|\n",
      "|        Honda|2011|      3621|  Petrol|Automatic|          13728.0|  1|\n",
      "|   Land Rover|2011|      7842|  Petrol|Automatic|          15015.0|  1|\n",
      "|        Volvo|2008|     12074|  Petrol|Automatic|7550.400000000001|  1|\n",
      "|         Ford|2008|     12500|  Petrol|Automatic|           3217.5|  1|\n",
      "|        Lexus|2004|     16767|  Petrol|Automatic|           6006.0|  1|\n",
      "|      Changan|2020|     17688|  Petrol|Automatic|          22275.0|  1|\n",
      "|         Audi|2019|     24577|  Petrol|Automatic|         108570.0|  1|\n",
      "|          Kia|2011|     24798|  Petrol|Automatic|           9240.0|  1|\n",
      "|       Nissan|2015|     32325|  Petrol|Automatic|          16632.0|  1|\n",
      "|      Lincoln|2019|     35976|  Petrol|Automatic|          39270.0|  1|\n",
      "|      Hyundai|2019|     43168|  Petrol|Automatic|          15015.0|  1|\n",
      "|     Infiniti|2010|     48902|  Petrol|Automatic|           9240.0|  1|\n",
      "|         Jeep|2014|     51566|  Petrol|Automatic|          41580.0|  1|\n",
      "|      Renault|2005|     60207|  Petrol|Automatic|8085.000000000001|  1|\n",
      "|      Porsche|2014|     61129|  Petrol|Automatic|          14322.0|  1|\n",
      "|   Mitsubishi|2008|     70000|  Petrol|Automatic|           2310.0|  1|\n",
      "|        Acura|2011|     78613|  Petrol|Automatic|          13728.0|  1|\n",
      "|        Mazda|2014|     82730|  Petrol|Automatic|          15015.0|  1|\n",
      "|          BMW|2007|     89287|  Petrol|Automatic|           5775.0|  1|\n",
      "|          GMC|2012|     89897|  Petrol|Automatic|          12705.0|  1|\n",
      "|   Volkswagen|2012|     90783|  Petrol|Automatic|           3465.0|  1|\n",
      "|       Suzuki|2009|    113587|  Petrol|Automatic|           4620.0|  1|\n",
      "|       Hummer|2005|    139809|  Petrol|Automatic|          13860.0|  1|\n",
      "|    SsangYong|2009|    155231|  Petrol|Automatic|           5775.0|  1|\n",
      "|        Rover|2012|    163834|  Petrol|Automatic|          22407.0|  1|\n",
      "|         Opel|1999|    216343|  Petrol|   Manual|           3234.0|  1|\n",
      "|    Chevrolet|2009|    274542|  Petrol|Automatic|          13860.0|  1|\n",
      "|      Pontiac|2007|    322537|  Petrol|Automatic|           4851.0|  1|\n",
      "+-------------+----+----------+--------+---------+-----------------+---+\n",
      "\n"
     ]
    }
   ],
   "source": [
    "KMdf_pyspark_nigSELColumns.filter(KMdf_pyspark_nigSELColumns['RN'] == 1).orderBy('Kilometres').show(35)"
   ]
  },
  {
   "cell_type": "code",
   "execution_count": 220,
   "id": "3ceceb45",
   "metadata": {},
   "outputs": [],
   "source": [
    "columns = ['Brand','Year']\n",
    "windowSpec1 = Window.partitionBy([col(x) for x in columns]).orderBy(col(\"Money USD\").desc())\n",
    "RNdf_pyspark_nigSELColumns = df_pyspark_nigSELColumns.withColumn(\"RN\", row_number().over(windowSpec1))"
   ]
  },
  {
   "cell_type": "code",
   "execution_count": 221,
   "id": "ad099ea3",
   "metadata": {},
   "outputs": [
    {
     "name": "stdout",
     "output_type": "stream",
     "text": [
      "+-------------+----+----------+--------+---------+------------------+---+\n",
      "|        Brand|Year|Kilometres|FuelType|     Gear|         Money USD| RN|\n",
      "+-------------+----+----------+--------+---------+------------------+---+\n",
      "|       Toyota|2021|        80|  Petrol|Automatic|          102960.0|  1|\n",
      "|Mercedes-Benz|2020|     20106|  Petrol|Automatic|129360.00000000001|  1|\n",
      "|       Toyota|2020|     57656|  Petrol|Automatic|           94050.0|  1|\n",
      "|      Changan|2020|     24019|  Petrol|Automatic|           44550.0|  1|\n",
      "|         Audi|2019|     24577|  Petrol|Automatic|          108570.0|  1|\n",
      "|       Toyota|2019|     10427|  Petrol|Automatic|           66990.0|  1|\n",
      "|      Lincoln|2019|     35976|  Petrol|Automatic|           39270.0|  1|\n",
      "|      Hyundai|2019|     43168|  Petrol|Automatic|           15015.0|  1|\n",
      "|Mercedes-Benz|2018|     56263|  Petrol|Automatic|          114400.0|  1|\n",
      "|       Toyota|2018|     64098|  Petrol|Automatic|           99000.0|  1|\n",
      "|   Land Rover|2018|     59656|  Diesel|Automatic|           92400.0|  1|\n",
      "|         Jeep|2018|     56222|  Petrol|Automatic|           82368.0|  1|\n",
      "|        Lexus|2018|     53288|  Petrol|Automatic|           46200.0|  1|\n",
      "|         Ford|2018|     14405|  Petrol|Automatic|           40425.0|  1|\n",
      "|       Toyota|2017|      8383|  Petrol|Automatic|           76230.0|  1|\n",
      "|Mercedes-Benz|2017|     33853|  Petrol|Automatic|           73216.0|  1|\n",
      "|   Land Rover|2017|     87589|  Petrol|Automatic|           71610.0|  1|\n",
      "|        Lexus|2017|     59838|  Petrol|Automatic|           60060.0|  1|\n",
      "|      Porsche|2017|     68343|  Petrol|Automatic|           41580.0|  1|\n",
      "|         Ford|2017|     64052|  Petrol|Automatic|           18480.0|  1|\n",
      "|        Lexus|2016|    107355|  Petrol|Automatic|           92400.0|  1|\n",
      "|   Land Rover|2016|    102429|  Petrol|Automatic|           80850.0|  1|\n",
      "|Mercedes-Benz|2016|     54116|  Petrol|Automatic|           40425.0|  1|\n",
      "|          BMW|2016|    111617|  Petrol|Automatic|32340.000000000004|  1|\n",
      "|       Toyota|2016|     16548|  Petrol|Automatic|           27456.0|  1|\n",
      "+-------------+----+----------+--------+---------+------------------+---+\n",
      "only showing top 25 rows\n",
      "\n"
     ]
    }
   ],
   "source": [
    "RNdf_pyspark_nigSELColumns.filter(RNdf_pyspark_nigSELColumns['RN'] ==1).sort(['Year','Money USD']\n",
    "                                                                             ,ascending=False).show(25)"
   ]
  },
  {
   "cell_type": "code",
   "execution_count": 222,
   "id": "720f7fd1",
   "metadata": {
    "scrolled": true
   },
   "outputs": [
    {
     "name": "stdout",
     "output_type": "stream",
     "text": [
      "+-----+------------------+------------------------+\n",
      "|Brand|         Money USD|Total Money USD By Brand|\n",
      "+-----+------------------+------------------------+\n",
      "|Acura|           20592.0|      217097.98000000004|\n",
      "|Acura|            2541.0|      217097.98000000004|\n",
      "|Acura|           10296.0|      217097.98000000004|\n",
      "|Acura|            2541.0|      217097.98000000004|\n",
      "|Acura|            4950.0|      217097.98000000004|\n",
      "|Acura| 8236.800000000001|      217097.98000000004|\n",
      "|Acura|           11880.0|      217097.98000000004|\n",
      "|Acura|           20790.0|      217097.98000000004|\n",
      "|Acura| 5285.280000000001|      217097.98000000004|\n",
      "|Acura|            6864.0|      217097.98000000004|\n",
      "|Acura| 7854.000000000001|      217097.98000000004|\n",
      "|Acura| 7854.000000000001|      217097.98000000004|\n",
      "|Acura|           24255.0|      217097.98000000004|\n",
      "|Acura|3775.2000000000003|      217097.98000000004|\n",
      "|Acura| 7550.400000000001|      217097.98000000004|\n",
      "|Acura|            9240.0|      217097.98000000004|\n",
      "|Acura|            2772.0|      217097.98000000004|\n",
      "|Acura|3889.6000000000004|      217097.98000000004|\n",
      "|Acura|           11440.0|      217097.98000000004|\n",
      "|Acura|            5082.0|      217097.98000000004|\n",
      "+-----+------------------+------------------------+\n",
      "only showing top 20 rows\n",
      "\n"
     ]
    }
   ],
   "source": [
    "windowSpec = Window.partitionBy(col(\"Brand\"))\n",
    "\n",
    "\n",
    "df_pyspark_nigSELColumns.withColumn(\"Total Money USD By Brand\",\n",
    "                                    sum(df_pyspark_nigSELColumns['Money USD'])\n",
    "                                    .over(windowSpec)).select(\"Brand\", \"Money USD\", \"Total Money USD By Brand\").show()\n"
   ]
  },
  {
   "cell_type": "markdown",
   "id": "5ebecbd3",
   "metadata": {},
   "source": [
    "##### Calculating Total Money USD by Brand"
   ]
  },
  {
   "cell_type": "code",
   "execution_count": 223,
   "id": "7a625cb1",
   "metadata": {
    "scrolled": true
   },
   "outputs": [
    {
     "name": "stdout",
     "output_type": "stream",
     "text": [
      "+-------------+------------------------+\n",
      "|        Brand|Total Money USD By Brand|\n",
      "+-------------+------------------------+\n",
      "|        Acura|      217097.98000000004|\n",
      "|         Audi|                122430.0|\n",
      "|          BMW|                119410.5|\n",
      "|      Changan|                 66825.0|\n",
      "|    Chevrolet|                 13860.0|\n",
      "|         Ford|                681983.5|\n",
      "|          GMC|                 30630.6|\n",
      "|        Honda|       409014.6500000001|\n",
      "|       Hummer|                 13860.0|\n",
      "|      Hyundai|                238166.5|\n",
      "|     Infiniti|                167214.3|\n",
      "|         Jeep|                153714.0|\n",
      "|          Kia|                158119.5|\n",
      "|   Land Rover|                880050.6|\n",
      "|        Lexus|      2072367.4399999997|\n",
      "|      Lincoln|                 61446.0|\n",
      "|        Mazda|                171448.2|\n",
      "|Mercedes-Benz|      1960015.0679999997|\n",
      "|   Mitsubishi|                 37108.5|\n",
      "|       Nissan|               231919.05|\n",
      "|         Opel|                  6006.0|\n",
      "|      Pontiac|                  4851.0|\n",
      "|      Porsche|                 91707.0|\n",
      "|      Renault|       8085.000000000001|\n",
      "|        Rover|                 22407.0|\n",
      "|    SsangYong|                  5775.0|\n",
      "|       Suzuki|                  4620.0|\n",
      "|       Toyota|      3187113.5999999996|\n",
      "|   Volkswagen|                 11319.0|\n",
      "|        Volvo|                 51572.4|\n",
      "+-------------+------------------------+\n",
      "\n"
     ]
    }
   ],
   "source": [
    "windowSpec = Window.partitionBy(col(\"Brand\"))\n",
    "\n",
    "\n",
    "df_pyspark_nigSELColumnsAGGOVER = df_pyspark_nigSELColumns.withColumn(\"Total Money USD By Brand\",\n",
    "                                    sum(df_pyspark_nigSELColumns['Money USD']).over(windowSpec))\n",
    "\n",
    "df_pyspark_nigSELColumnsAGGOVER.select(\"Brand\",\"Total Money USD By Brand\").distinct().show(35,35)"
   ]
  },
  {
   "cell_type": "markdown",
   "id": "100125cc",
   "metadata": {},
   "source": [
    "##### Calculating Money USD for each car in previous and next year"
   ]
  },
  {
   "cell_type": "code",
   "execution_count": 224,
   "id": "7f3e5565",
   "metadata": {},
   "outputs": [
    {
     "name": "stdout",
     "output_type": "stream",
     "text": [
      "+----+------------------+------------------+------------------+\n",
      "|Year|             Money| PreviousYearMoney|     NextYearMoney|\n",
      "+----+------------------+------------------+------------------+\n",
      "|1997|           12342.0|              null|           4941.75|\n",
      "|1998|           4941.75|           12342.0|           33886.6|\n",
      "|1999|           33886.6|           4941.75|           24486.0|\n",
      "|2000|           24486.0|           33886.6|          82695.25|\n",
      "|2001|          82695.25|           24486.0| 82603.40000000001|\n",
      "|2002| 82603.40000000001|          82695.25|          131927.4|\n",
      "|2003|          131927.4| 82603.40000000001|341031.67999999993|\n",
      "|2004|341031.67999999993|          131927.4|         317945.65|\n",
      "|2005|         317945.65|341031.67999999993|444816.89999999997|\n",
      "|2006|444816.89999999997|         317945.65| 666151.6180000001|\n",
      "|2007| 666151.6180000001|444816.89999999997|         898596.05|\n",
      "|2008|         898596.05| 666151.6180000001| 568498.7000000001|\n",
      "|2009| 568498.7000000001|         898596.05|        1017290.34|\n",
      "|2010|        1017290.34| 568498.7000000001|          785371.4|\n",
      "|2011|          785371.4|        1017290.34| 702087.1000000001|\n",
      "|2012| 702087.1000000001|          785371.4| 833443.0499999999|\n",
      "|2013| 833443.0499999999| 702087.1000000001|          895361.5|\n",
      "|2014|          895361.5| 833443.0499999999|          879362.0|\n",
      "|2015|          879362.0|          895361.5|          386463.0|\n",
      "|2016|          386463.0|          879362.0|          595034.0|\n",
      "|2017|          595034.0|          386463.0|          748022.0|\n",
      "|2018|          748022.0|          595034.0|          266805.0|\n",
      "|2019|          266805.0|          748022.0|          378015.0|\n",
      "|2020|          378015.0|          266805.0|          102960.0|\n",
      "|2021|          102960.0|          378015.0|              null|\n",
      "+----+------------------+------------------+------------------+\n",
      "\n"
     ]
    }
   ],
   "source": [
    "df_pyspark_nigSELColumnsLAGLEAD = df_pyspark_nigSELColumns\\\n",
    ".groupBy(\"Year\").agg(sum(df_pyspark_nigSELColumns[\"Money USD\"]).alias(\"Money\"))\n",
    "\n",
    "df_pyspark_nigSELColumnsLAGLEAD.select(\"Year\",\"Money\",\n",
    "                                       lag(\"Money\").over(Window.orderBy(\"Year\")).alias(\"PreviousYearMoney\"),\n",
    "                                      lead(\"Money\").over(Window.orderBy(\"Year\")).alias(\"NextYearMoney\")).show(25,25)\n"
   ]
  },
  {
   "cell_type": "code",
   "execution_count": 225,
   "id": "69b110c9",
   "metadata": {},
   "outputs": [
    {
     "name": "stdout",
     "output_type": "stream",
     "text": [
      "+-------------+----+----------+--------+---------+------------------+\n",
      "|        Brand|Year|Kilometres|FuelType|     Gear|         Money USD|\n",
      "+-------------+----+----------+--------+---------+------------------+\n",
      "|Mercedes-Benz|2020|     20106|  Petrol|Automatic|129360.00000000001|\n",
      "|Mercedes-Benz|2018|     56263|  Petrol|Automatic|          114400.0|\n",
      "|         Audi|2019|     24577|  Petrol|Automatic|          108570.0|\n",
      "|       Toyota|2021|        80|  Petrol|Automatic|          102960.0|\n",
      "|       Toyota|2018|     64098|  Petrol|Automatic|           99000.0|\n",
      "|       Toyota|2020|     57656|  Petrol|Automatic|           94050.0|\n",
      "|   Land Rover|2018|     59656|  Diesel|Automatic|           92400.0|\n",
      "|        Lexus|2016|    107355|  Petrol|Automatic|           92400.0|\n",
      "|       Toyota|2020|     13668|  Petrol|Automatic|           87780.0|\n",
      "|   Land Rover|2018|      8711|  Petrol|Automatic|           86625.0|\n",
      "+-------------+----+----------+--------+---------+------------------+\n",
      "\n"
     ]
    }
   ],
   "source": [
    "cte = df_pyspark_nigSELColumns.select(\"*\").sort(desc(\"Money USD\")).limit(10)\n",
    "cte.show()"
   ]
  },
  {
   "cell_type": "code",
   "execution_count": 226,
   "id": "eff0a907",
   "metadata": {},
   "outputs": [
    {
     "name": "stdout",
     "output_type": "stream",
     "text": [
      "+-------------+-----------------+-----------------+\n",
      "|        Brand|        Money USD|   Money USD text|\n",
      "+-------------+-----------------+-----------------+\n",
      "|Mercedes-Benz|          31574.4|          31574.4|\n",
      "|        Honda|          13728.0|          13728.0|\n",
      "|       Toyota|           4620.0|           4620.0|\n",
      "|       Toyota|           4702.5|           4702.5|\n",
      "|        Lexus|          13041.6|          13041.6|\n",
      "|      Lincoln|          39270.0|          39270.0|\n",
      "|   Land Rover|           6930.0|           6930.0|\n",
      "|        Lexus|          10296.0|          10296.0|\n",
      "|        Mazda|           4620.0|           4620.0|\n",
      "|        Lexus|          11319.0|          11319.0|\n",
      "|      Hyundai|           5890.5|           5890.5|\n",
      "|       Toyota|           2974.4|           2974.4|\n",
      "|Mercedes-Benz|          12584.0|          12584.0|\n",
      "|       Toyota|           7161.0|           7161.0|\n",
      "|          Kia|           9702.0|           9702.0|\n",
      "|        Honda|           3546.4|           3546.4|\n",
      "|       Nissan|           3465.0|           3465.0|\n",
      "|        Lexus|7550.400000000001|7550.400000000001|\n",
      "|       Toyota|           7321.6|           7321.6|\n",
      "|       Toyota|          10395.0|          10395.0|\n",
      "+-------------+-----------------+-----------------+\n",
      "only showing top 20 rows\n",
      "\n"
     ]
    }
   ],
   "source": [
    "df_pyspark_nigSELColumns.withColumn(\"Money USD text\", df_pyspark_nigSELColumns['Money USD'].cast(\"string\"))\\\n",
    ".select(\"Brand\",\"Money USD\",\"Money USD text\").show()"
   ]
  },
  {
   "cell_type": "code",
   "execution_count": 227,
   "id": "c8ee5c1d",
   "metadata": {},
   "outputs": [
    {
     "name": "stdout",
     "output_type": "stream",
     "text": [
      "+-------------+----+----------+--------+---------+-----------------+\n",
      "|        Brand|Year|Kilometres|FuelType|     Gear|        Money USD|\n",
      "+-------------+----+----------+--------+---------+-----------------+\n",
      "|Mercedes-Benz|2013|    104536|  Petrol|Automatic|          31574.4|\n",
      "|        Honda|2011|      3621|  Petrol|Automatic|          13728.0|\n",
      "|       Toyota|2007|    223493|  Hybrid|Automatic|           4620.0|\n",
      "|       Toyota|2003|    367531|  Petrol|Automatic|           4702.5|\n",
      "|        Lexus|2007|    104138|  Petrol|Automatic|          13041.6|\n",
      "|      Lincoln|2019|     35976|  Petrol|Automatic|          39270.0|\n",
      "|   Land Rover|2008|    178780|  Petrol|Automatic|           6930.0|\n",
      "|        Lexus|2007|    220726|  Petrol|Automatic|          10296.0|\n",
      "|        Mazda|2010|    322717|  Petrol|Automatic|           4620.0|\n",
      "|        Lexus|2008|    149092|  Petrol|Automatic|          11319.0|\n",
      "|      Hyundai|2010|    262797|  Petrol|Automatic|           5890.5|\n",
      "|       Toyota|2001|    119510|  Petrol|Automatic|           2974.4|\n",
      "|Mercedes-Benz|2007|      1966|  Petrol|Automatic|          12584.0|\n",
      "|       Toyota|2002|    125606|  Petrol|Automatic|           7161.0|\n",
      "|          Kia|2013|    134013|  Petrol|Automatic|           9702.0|\n",
      "|        Honda|2003|    175567|  Petrol|Automatic|           3546.4|\n",
      "|       Nissan|2009|    213292|  Petrol|      CVT|           3465.0|\n",
      "|        Lexus|2005|    196345|  Petrol|Automatic|7550.400000000001|\n",
      "|       Toyota|2007|    213548|  Petrol|Automatic|           7321.6|\n",
      "|       Toyota|2009|     94618|  Petrol|Automatic|          10395.0|\n",
      "+-------------+----+----------+--------+---------+-----------------+\n",
      "only showing top 20 rows\n",
      "\n"
     ]
    }
   ],
   "source": [
    "df_pyspark_nigSELColumns.show()"
   ]
  },
  {
   "cell_type": "code",
   "execution_count": 228,
   "id": "eaab8a25",
   "metadata": {},
   "outputs": [
    {
     "name": "stdout",
     "output_type": "stream",
     "text": [
      "root\n",
      " |-- Brand: string (nullable = true)\n",
      " |-- Year: integer (nullable = true)\n",
      " |-- Kilometres: integer (nullable = true)\n",
      " |-- FuelType: string (nullable = true)\n",
      " |-- Gear: string (nullable = true)\n",
      " |-- Money USD: double (nullable = true)\n",
      "\n"
     ]
    }
   ],
   "source": [
    "df_pyspark_nigSELColumns.printSchema()"
   ]
  },
  {
   "cell_type": "markdown",
   "id": "2e2551e1",
   "metadata": {},
   "source": [
    "### df_pyspark_pol"
   ]
  },
  {
   "cell_type": "code",
   "execution_count": 229,
   "id": "4225816c",
   "metadata": {},
   "outputs": [
    {
     "name": "stdout",
     "output_type": "stream",
     "text": [
      "+-----+-----+--------------+----+----------+----------+--------+---------------+-------------------+-----+\n",
      "|Brand|Model|GenerationName|Year|Kilometers|EngineSize|FuelType|           City|           Province|Money|\n",
      "+-----+-----+--------------+----+----------+----------+--------+---------------+-------------------+-----+\n",
      "| Opel|Combo|    Gen-d-2011|2015|    139568|      1248|  Diesel|          Janki|        Mazowieckie|35900|\n",
      "| Opel|Combo|    Gen-d-2011|2018|     31991|      1499|  Diesel|       Katowice|            Śląskie|78501|\n",
      "| Opel|Combo|    Gen-d-2011|2015|    278437|      1598|  Diesel|          Brzeg|           Opolskie|27000|\n",
      "| Opel|Combo|    Gen-d-2011|2016|     47600|      1248|  Diesel|      Korfantów|           Opolskie|30800|\n",
      "| Opel|Combo|    Gen-d-2011|2014|    103000|      1400|     CNG|Tarnowskie Góry|            Śląskie|35900|\n",
      "| Opel|Combo|    Gen-d-2011|2017|    121203|      1598|  Diesel|       Warszawa|        Mazowieckie|51900|\n",
      "| Opel|Combo|    Gen-d-2011|2017|    119965|      1248|  Diesel|        Wrocław|       Dolnośląskie|44700|\n",
      "| Opel|Combo|    Gen-d-2011|2016|    201658|      1248|  Diesel|         Lublin|          Lubelskie|29000|\n",
      "| Opel|Combo|    Gen-d-2011|2014|    178666|      1598|  Diesel|         Złotów|      Wielkopolskie|28900|\n",
      "| Opel|Combo|    Gen-d-2011|2015|    113000|      1248|  Diesel|       Strzyżew|        Mazowieckie|34900|\n",
      "| Opel|Combo|    Gen-d-2011|2012|    237000|      1598|  Diesel|         Elbląg|Warmińsko-mazurskie|24800|\n",
      "| Opel|Combo|    Gen-d-2011|2017|    137000|      1248|  Diesel|       Warszawa|        Mazowieckie|39900|\n",
      "| Opel|Combo|    Gen-d-2011|2016|    154000|      1248|  Diesel|      Sosnowiec|            Śląskie|35900|\n",
      "| Opel|Combo|    Gen-d-2011|2017|     59339|      1248|  Diesel|        Wrocław|       Dolnośląskie|55300|\n",
      "| Opel|Combo|    Gen-d-2011|2016|    137445|      1598|  Diesel|          Opole|           Opolskie|34700|\n",
      "| Opel|Combo|    Gen-d-2011|2016|    141859|      1248|  Diesel|       Katowice|            Śląskie|39900|\n",
      "| Opel|Combo|    Gen-d-2011|2012|    195000|      1598|  Diesel|          Radom|        Mazowieckie|25900|\n",
      "| Opel|Combo|    Gen-d-2011|2015|    180000|      1598|  Diesel|       Chmieleń|       Dolnośląskie|32900|\n",
      "| Opel|Combo|    Gen-d-2011|2018|    107515|      1499|  Diesel|      Piaseczno|        Mazowieckie|62000|\n",
      "| Opel|Combo|    Gen-d-2011|2017|    149000|      1598|  Diesel|  Góra Kalwaria|        Mazowieckie|39852|\n",
      "+-----+-----+--------------+----+----------+----------+--------+---------------+-------------------+-----+\n",
      "only showing top 20 rows\n",
      "\n"
     ]
    }
   ],
   "source": [
    "df_pyspark_pol.show()"
   ]
  },
  {
   "cell_type": "code",
   "execution_count": 230,
   "id": "4afe1814",
   "metadata": {},
   "outputs": [],
   "source": [
    "df_pyspark_polSELECTColumns = df_pyspark_pol.select(\"Brand\",\"Model\",\"Year\",\"Kilometers\",'FuelType','Province','Money')"
   ]
  },
  {
   "cell_type": "code",
   "execution_count": 231,
   "id": "8704429e",
   "metadata": {},
   "outputs": [
    {
     "name": "stdout",
     "output_type": "stream",
     "text": [
      "+-----+-----+----+----------+--------+-------------------+-----+\n",
      "|Brand|Model|Year|Kilometers|FuelType|           Province|Money|\n",
      "+-----+-----+----+----------+--------+-------------------+-----+\n",
      "| Opel|Combo|2015|    139568|  Diesel|        Mazowieckie|35900|\n",
      "| Opel|Combo|2018|     31991|  Diesel|            Śląskie|78501|\n",
      "| Opel|Combo|2015|    278437|  Diesel|           Opolskie|27000|\n",
      "| Opel|Combo|2016|     47600|  Diesel|           Opolskie|30800|\n",
      "| Opel|Combo|2014|    103000|     CNG|            Śląskie|35900|\n",
      "| Opel|Combo|2017|    121203|  Diesel|        Mazowieckie|51900|\n",
      "| Opel|Combo|2017|    119965|  Diesel|       Dolnośląskie|44700|\n",
      "| Opel|Combo|2016|    201658|  Diesel|          Lubelskie|29000|\n",
      "| Opel|Combo|2014|    178666|  Diesel|      Wielkopolskie|28900|\n",
      "| Opel|Combo|2015|    113000|  Diesel|        Mazowieckie|34900|\n",
      "| Opel|Combo|2012|    237000|  Diesel|Warmińsko-mazurskie|24800|\n",
      "| Opel|Combo|2017|    137000|  Diesel|        Mazowieckie|39900|\n",
      "| Opel|Combo|2016|    154000|  Diesel|            Śląskie|35900|\n",
      "| Opel|Combo|2017|     59339|  Diesel|       Dolnośląskie|55300|\n",
      "| Opel|Combo|2016|    137445|  Diesel|           Opolskie|34700|\n",
      "| Opel|Combo|2016|    141859|  Diesel|            Śląskie|39900|\n",
      "| Opel|Combo|2012|    195000|  Diesel|        Mazowieckie|25900|\n",
      "| Opel|Combo|2015|    180000|  Diesel|       Dolnośląskie|32900|\n",
      "| Opel|Combo|2018|    107515|  Diesel|        Mazowieckie|62000|\n",
      "| Opel|Combo|2017|    149000|  Diesel|        Mazowieckie|39852|\n",
      "+-----+-----+----+----------+--------+-------------------+-----+\n",
      "only showing top 20 rows\n",
      "\n"
     ]
    }
   ],
   "source": [
    "df_pyspark_polSELECTColumns.show()"
   ]
  },
  {
   "cell_type": "code",
   "execution_count": 232,
   "id": "0c04cdf6",
   "metadata": {},
   "outputs": [
    {
     "name": "stdout",
     "output_type": "stream",
     "text": [
      "+----------+---------+----+----------+--------+-------------------+-----+\n",
      "|     Brand|    Model|Year|Kilometers|FuelType|           Province|Money|\n",
      "+----------+---------+----+----------+--------+-------------------+-----+\n",
      "|Volkswagen|Golf-plus|2007|    300567|Gasoline|     Świętokrzyskie|  500|\n",
      "|    Toyota|     Aygo|2019|     17123|Gasoline|          Pomorskie|  900|\n",
      "|       BMW|  Seria-3|2004|    260000|  Diesel|Warmińsko-mazurskie|  900|\n",
      "|Volkswagen|     Golf|1999|    190321|Gasoline|            Śląskie| 1000|\n",
      "|Volkswagen|   Passat|1998|    220000|Gasoline|      Wielkopolskie| 1250|\n",
      "|Volkswagen|     Golf|2003|    250000|  Diesel|       Dolnośląskie| 1290|\n",
      "|      Audi|       80|1994|    450000|  Diesel|          Lubelskie| 1450|\n",
      "|   Renault|     Clio|2000|    215000|Gasoline|      Wielkopolskie| 1500|\n",
      "|      Seat|    Ibiza|2003|    230000|  Diesel|          Pomorskie| 1500|\n",
      "|Volkswagen|     Golf|1999|    280000|Gasoline|            Śląskie| 1500|\n",
      "|     Skoda|  Octavia|1999|    217000|Gasoline|           Lubuskie| 1590|\n",
      "|   Renault|     Clio|2002|    276000|Gasoline|        Małopolskie| 1600|\n",
      "|      Opel|    Corsa|1996|    160000|Gasoline|        Małopolskie| 1700|\n",
      "|     Skoda|    Fabia|2001|    227154|Gasoline|       Dolnośląskie| 1700|\n",
      "|Volkswagen|     Golf|1995|    296153|Gasoline|        Mazowieckie| 1700|\n",
      "|   Renault|     Clio|2002|    293000|  Diesel|      Wielkopolskie| 1750|\n",
      "|     Skoda|  Octavia|1998|    140000|Gasoline|       Dolnośląskie| 1750|\n",
      "|    Toyota|  Corolla|2019|     75211|  Hybrid|       Dolnośląskie| 1767|\n",
      "|      Audi|       A3|2001|    296000|Gasoline|      Wielkopolskie| 1790|\n",
      "|Volkswagen|     Polo|2000|    236000|  Diesel|       Dolnośląskie| 1790|\n",
      "+----------+---------+----+----------+--------+-------------------+-----+\n",
      "only showing top 20 rows\n",
      "\n"
     ]
    }
   ],
   "source": [
    "df_pyspark_polSELECTColumns.orderBy(\"Money\").show()"
   ]
  },
  {
   "cell_type": "code",
   "execution_count": 233,
   "id": "8afa5ef3",
   "metadata": {},
   "outputs": [
    {
     "name": "stdout",
     "output_type": "stream",
     "text": [
      "+-------------+---------+----+----------+--------+-------------+-------+\n",
      "|        Brand|    Model|Year|Kilometers|FuelType|     Province|  Money|\n",
      "+-------------+---------+----+----------+--------+-------------+-------+\n",
      "|Mercedes-Benz|  S-klasa|2017|       400|Gasoline|  Mazowieckie|2399900|\n",
      "|Mercedes-Benz|  S-klasa|2019|     12000|Gasoline|Wielkopolskie|1966770|\n",
      "|Mercedes-Benz|  S-klasa|2018|        21|Gasoline|  Mazowieckie|1550000|\n",
      "|Mercedes-Benz|   Amg-gt|2019|     28500|Gasoline|Wielkopolskie|1368341|\n",
      "|         Audi|      Rs6|2021|        20|Gasoline|  Mazowieckie|1100000|\n",
      "|Mercedes-Benz|   Amg-gt|2020|     16000|Gasoline|    Pomorskie|1100000|\n",
      "|          BMW|     X6-m|2022|        20|Gasoline|    Pomorskie|1100000|\n",
      "|Mercedes-Benz|   Amg-gt|2020|     16000|Gasoline|    Pomorskie|1100000|\n",
      "|Mercedes-Benz|   Amg-gt|2021|      6097|Gasoline|Wielkopolskie|1090000|\n",
      "|Mercedes-Benz|   Amg-gt|2021|      6097|Gasoline|Wielkopolskie|1090000|\n",
      "|Mercedes-Benz|  E-klasa|2021|     13000|Gasoline|Wielkopolskie|1075000|\n",
      "|Mercedes-Benz|   Amg-gt|2021|         5|Gasoline|    Pomorskie|1061592|\n",
      "|Mercedes-Benz|   Amg-gt|2021|        13|Gasoline| Podkarpackie|1059494|\n",
      "|Mercedes-Benz|   Amg-gt|2021|        13|Gasoline|  Małopolskie|1059494|\n",
      "|Mercedes-Benz|  S-klasa|2022|         2|Gasoline| Dolnośląskie|1036270|\n",
      "|Mercedes-Benz|Gls-klasa|2021|     19000|Gasoline|  Mazowieckie|1000000|\n",
      "|Mercedes-Benz|  S-klasa|2021|        50|Gasoline|      Łódzkie|1000000|\n",
      "|         Opel|    Corsa|2013|    105703|Gasoline|  Mazowieckie| 999999|\n",
      "|        Skoda|  Octavia|2013|    251050|  Diesel|      Śląskie| 999999|\n",
      "|Mercedes-Benz|  G-klasa|2020|      8000|Gasoline|    Pomorskie| 998000|\n",
      "+-------------+---------+----+----------+--------+-------------+-------+\n",
      "only showing top 20 rows\n",
      "\n"
     ]
    }
   ],
   "source": [
    "df_pyspark_polSELECTColumns.orderBy(desc(\"Money\")).show()"
   ]
  },
  {
   "cell_type": "code",
   "execution_count": 234,
   "id": "69efe1f9",
   "metadata": {},
   "outputs": [
    {
     "name": "stdout",
     "output_type": "stream",
     "text": [
      "+-------------+-------+----+----------+--------+-------------+-------+\n",
      "|        Brand|  Model|Year|Kilometers|FuelType|     Province|  Money|\n",
      "+-------------+-------+----+----------+--------+-------------+-------+\n",
      "|Mercedes-Benz|S-klasa|2017|       400|Gasoline|  Mazowieckie|2399900|\n",
      "|Mercedes-Benz|S-klasa|2019|     12000|Gasoline|Wielkopolskie|1966770|\n",
      "|Mercedes-Benz|S-klasa|2018|        21|Gasoline|  Mazowieckie|1550000|\n",
      "|Mercedes-Benz| Amg-gt|2019|     28500|Gasoline|Wielkopolskie|1368341|\n",
      "|         Audi|    Rs6|2021|        20|Gasoline|  Mazowieckie|1100000|\n",
      "|Mercedes-Benz| Amg-gt|2020|     16000|Gasoline|    Pomorskie|1100000|\n",
      "|          BMW|   X6-m|2022|        20|Gasoline|    Pomorskie|1100000|\n",
      "|Mercedes-Benz| Amg-gt|2020|     16000|Gasoline|    Pomorskie|1100000|\n",
      "|Mercedes-Benz| Amg-gt|2021|      6097|Gasoline|Wielkopolskie|1090000|\n",
      "|Mercedes-Benz| Amg-gt|2021|      6097|Gasoline|Wielkopolskie|1090000|\n",
      "|Mercedes-Benz|E-klasa|2021|     13000|Gasoline|Wielkopolskie|1075000|\n",
      "|Mercedes-Benz| Amg-gt|2021|         5|Gasoline|    Pomorskie|1061592|\n",
      "|Mercedes-Benz| Amg-gt|2021|        13|Gasoline|  Małopolskie|1059494|\n",
      "|Mercedes-Benz| Amg-gt|2021|        13|Gasoline| Podkarpackie|1059494|\n",
      "|Mercedes-Benz|S-klasa|2022|         2|Gasoline| Dolnośląskie|1036270|\n",
      "+-------------+-------+----+----------+--------+-------------+-------+\n",
      "\n"
     ]
    }
   ],
   "source": [
    "df_pyspark_polSELECTColumns.orderBy(desc(\"Money\")).limit(15).show()"
   ]
  },
  {
   "cell_type": "code",
   "execution_count": 235,
   "id": "671b4896",
   "metadata": {},
   "outputs": [
    {
     "name": "stdout",
     "output_type": "stream",
     "text": [
      "+-----+-----+----+----------+--------+-------------------+---------+\n",
      "|Brand|Model|Year|Kilometers|FuelType|        Wojewodztwo|Money PLN|\n",
      "+-----+-----+----+----------+--------+-------------------+---------+\n",
      "| Opel|Combo|2015|    139568|  Diesel|        Mazowieckie|    35900|\n",
      "| Opel|Combo|2018|     31991|  Diesel|            Śląskie|    78501|\n",
      "| Opel|Combo|2015|    278437|  Diesel|           Opolskie|    27000|\n",
      "| Opel|Combo|2016|     47600|  Diesel|           Opolskie|    30800|\n",
      "| Opel|Combo|2014|    103000|     CNG|            Śląskie|    35900|\n",
      "| Opel|Combo|2017|    121203|  Diesel|        Mazowieckie|    51900|\n",
      "| Opel|Combo|2017|    119965|  Diesel|       Dolnośląskie|    44700|\n",
      "| Opel|Combo|2016|    201658|  Diesel|          Lubelskie|    29000|\n",
      "| Opel|Combo|2014|    178666|  Diesel|      Wielkopolskie|    28900|\n",
      "| Opel|Combo|2015|    113000|  Diesel|        Mazowieckie|    34900|\n",
      "| Opel|Combo|2012|    237000|  Diesel|Warmińsko-mazurskie|    24800|\n",
      "| Opel|Combo|2017|    137000|  Diesel|        Mazowieckie|    39900|\n",
      "| Opel|Combo|2016|    154000|  Diesel|            Śląskie|    35900|\n",
      "| Opel|Combo|2017|     59339|  Diesel|       Dolnośląskie|    55300|\n",
      "| Opel|Combo|2016|    137445|  Diesel|           Opolskie|    34700|\n",
      "| Opel|Combo|2016|    141859|  Diesel|            Śląskie|    39900|\n",
      "| Opel|Combo|2012|    195000|  Diesel|        Mazowieckie|    25900|\n",
      "| Opel|Combo|2015|    180000|  Diesel|       Dolnośląskie|    32900|\n",
      "| Opel|Combo|2018|    107515|  Diesel|        Mazowieckie|    62000|\n",
      "| Opel|Combo|2017|    149000|  Diesel|        Mazowieckie|    39852|\n",
      "+-----+-----+----+----------+--------+-------------------+---------+\n",
      "only showing top 20 rows\n",
      "\n"
     ]
    }
   ],
   "source": [
    "df_pyspark_polSELECTColumns.withColumnRenamed(\"Money\",\"Money PLN\")\\\n",
    "                            .withColumnRenamed(\"Province\",'Wojewodztwo').show()"
   ]
  },
  {
   "cell_type": "code",
   "execution_count": 236,
   "id": "40925123",
   "metadata": {},
   "outputs": [
    {
     "name": "stdout",
     "output_type": "stream",
     "text": [
      "+-------------+-------+----+----------+--------+-------------+-------+\n",
      "|        Brand|  Model|Year|Kilometers|FuelType|     Province|  Money|\n",
      "+-------------+-------+----+----------+--------+-------------+-------+\n",
      "|         Audi|    Rs6|2021|        20|Gasoline|  Mazowieckie|1100000|\n",
      "|          BMW|   X6-m|2022|        20|Gasoline|    Pomorskie|1100000|\n",
      "|Mercedes-Benz| Amg-gt|2019|     28500|Gasoline|Wielkopolskie|1368341|\n",
      "|Mercedes-Benz| Amg-gt|2021|         5|Gasoline|    Pomorskie|1061592|\n",
      "|Mercedes-Benz| Amg-gt|2021|        13|Gasoline| Podkarpackie|1059494|\n",
      "|Mercedes-Benz| Amg-gt|2021|        13|Gasoline|  Małopolskie|1059494|\n",
      "|Mercedes-Benz| Amg-gt|2020|     16000|Gasoline|    Pomorskie|1100000|\n",
      "|Mercedes-Benz| Amg-gt|2021|      6097|Gasoline|Wielkopolskie|1090000|\n",
      "|Mercedes-Benz| Amg-gt|2020|     16000|Gasoline|    Pomorskie|1100000|\n",
      "|Mercedes-Benz| Amg-gt|2021|      6097|Gasoline|Wielkopolskie|1090000|\n",
      "|Mercedes-Benz|E-klasa|2021|     13000|Gasoline|Wielkopolskie|1075000|\n",
      "|Mercedes-Benz|S-klasa|2019|     12000|Gasoline|Wielkopolskie|1966770|\n",
      "|Mercedes-Benz|S-klasa|2018|        21|Gasoline|  Mazowieckie|1550000|\n",
      "|Mercedes-Benz|S-klasa|2017|       400|Gasoline|  Mazowieckie|2399900|\n",
      "|Mercedes-Benz|S-klasa|2022|         2|Gasoline| Dolnośląskie|1036270|\n",
      "+-------------+-------+----+----------+--------+-------------+-------+\n",
      "\n"
     ]
    }
   ],
   "source": [
    "df_pyspark_polSELECTColumns.filter(df_pyspark_polSELECTColumns['Money'] > 1000000).show()"
   ]
  },
  {
   "cell_type": "code",
   "execution_count": 237,
   "id": "973329ad",
   "metadata": {},
   "outputs": [
    {
     "data": {
      "text/plain": [
       "15"
      ]
     },
     "execution_count": 237,
     "metadata": {},
     "output_type": "execute_result"
    }
   ],
   "source": [
    "CountBrandMoney = df_pyspark_polSELECTColumns.filter(df_pyspark_polSELECTColumns['Money'] > 1000000)\n",
    "CountBrandMoney.count()"
   ]
  },
  {
   "cell_type": "code",
   "execution_count": 238,
   "id": "5073acff",
   "metadata": {},
   "outputs": [
    {
     "name": "stdout",
     "output_type": "stream",
     "text": [
      "+-----+-----+----+----------+--------+-----------+-------+\n",
      "|Brand|Model|Year|Kilometers|FuelType|   Province|  Money|\n",
      "+-----+-----+----+----------+--------+-----------+-------+\n",
      "| Audi|  Rs6|2021|        20|Gasoline|Mazowieckie|1100000|\n",
      "+-----+-----+----+----------+--------+-----------+-------+\n",
      "\n"
     ]
    }
   ],
   "source": [
    "df_pyspark_polSELECTColumns.filter((df_pyspark_polSELECTColumns['Money'] > 1000000)\n",
    "                                   & (df_pyspark_polSELECTColumns['Brand'] ==\"Audi\")).show()"
   ]
  },
  {
   "cell_type": "code",
   "execution_count": 239,
   "id": "19d8aa12",
   "metadata": {},
   "outputs": [
    {
     "name": "stdout",
     "output_type": "stream",
     "text": [
      "+-----+-----+----+----------+--------+-------------------+-----+\n",
      "|Brand|Model|Year|Kilometers|FuelType|           Province|Money|\n",
      "+-----+-----+----+----------+--------+-------------------+-----+\n",
      "| Opel|Corsa|1994|    204881|  Diesel|       Podkarpackie| 2500|\n",
      "| Opel|Corsa|1999|    149657|Gasoline|Warmińsko-mazurskie| 2199|\n",
      "| Opel|Corsa|1996|    160000|Gasoline|        Małopolskie| 1700|\n",
      "| Opel|Corsa|1997|    222496|Gasoline| Zachodniopomorskie| 3500|\n",
      "| Opel|Corsa|1998|     67000|Gasoline|            Śląskie| 6200|\n",
      "| Opel|Corsa|1998|    142800|Gasoline|        Małopolskie| 3300|\n",
      "| Opel|Corsa|1988|    105570|Gasoline|        Mazowieckie| 8700|\n",
      "| Opel|Corsa|1998|    119645|Gasoline|            Łódzkie| 4500|\n",
      "| Opel|Corsa|2000|    126436|Gasoline| Kujawsko-pomorskie| 3999|\n",
      "| Opel|Corsa|1996|    162125|Gasoline|            Śląskie| 3500|\n",
      "| Opel|Corsa|1999|    199000|Gasoline|       Dolnośląskie| 3690|\n",
      "| Opel|Corsa|1997|     70723|Gasoline|        Mazowieckie| 3600|\n",
      "| Opel|Corsa|2000|    166500|Gasoline|        Małopolskie| 3600|\n",
      "| Opel|Corsa|2003|    205000|Gasoline|      Wielkopolskie| 3900|\n",
      "| Opel|Corsa|2002|    209000|Gasoline|            Śląskie| 3900|\n",
      "| Opel|Corsa|2005|    154060|Gasoline|     Świętokrzyskie| 7700|\n",
      "| Opel|Corsa|2005|    207000|Gasoline|     Świętokrzyskie| 8300|\n",
      "| Opel|Corsa|2003|    256000|  Diesel|            Łódzkie| 3500|\n",
      "| Opel|Corsa|2004|    165840|Gasoline|      Wielkopolskie| 6500|\n",
      "| Opel|Corsa|2001|    167000|     LPG|            Śląskie| 4700|\n",
      "+-----+-----+----+----------+--------+-------------------+-----+\n",
      "only showing top 20 rows\n",
      "\n"
     ]
    }
   ],
   "source": [
    "df_pyspark_polSELECTColumns.filter((df_pyspark_polSELECTColumns['Brand'] == \"Opel\")\n",
    "                                   & (df_pyspark_polSELECTColumns['Model'] ==\"Corsa\")).show()"
   ]
  },
  {
   "cell_type": "code",
   "execution_count": 240,
   "id": "65eea99c",
   "metadata": {},
   "outputs": [
    {
     "name": "stdout",
     "output_type": "stream",
     "text": [
      "+-----+-----+----+----------+--------+------------------+------+\n",
      "|Brand|Model|Year|Kilometers|FuelType|          Province| Money|\n",
      "+-----+-----+----+----------+--------+------------------+------+\n",
      "| Audi|   A3|2010|    169500|Gasoline|           Śląskie| 29900|\n",
      "| Audi|   A3|2018|     67990|Gasoline|    Świętokrzyskie|129850|\n",
      "| Audi|   A3|2008|    222248|  Diesel|           Śląskie| 22900|\n",
      "| Audi|   A3|2010|    243000|  Diesel|           Śląskie| 27907|\n",
      "| Audi|   A3|2009|    259658|  Diesel|         Pomorskie| 23900|\n",
      "| Audi|   A3|2008|    306000|  Diesel|       Małopolskie| 26000|\n",
      "| Audi|   A3|2009|    198050|Gasoline|       Małopolskie| 24000|\n",
      "| Audi|   A3|2008|    234000|Gasoline|    Świętokrzyskie| 27900|\n",
      "| Audi|   A3|2004|    215000|Gasoline|           Łódzkie|  9900|\n",
      "| Audi|   A3|2008|    258000|  Diesel|      Dolnośląskie| 30900|\n",
      "| Audi|   A3|2008|    195000|  Diesel|           Łódzkie|  5900|\n",
      "| Audi|   A3|2009|    246000|  Diesel|       Małopolskie| 36900|\n",
      "| Audi|   A3|2009|    154000|Gasoline|       Mazowieckie| 34990|\n",
      "| Audi|   A3|2005|    234300|Gasoline|Zachodniopomorskie| 19600|\n",
      "| Audi|   A3|2011|    135000|Gasoline|           Śląskie| 37900|\n",
      "| Audi|   A3|2008|    192347|  Diesel|Zachodniopomorskie| 32900|\n",
      "| Audi|   A3|2009|    265000|Gasoline|       Małopolskie| 25900|\n",
      "| Audi|   A3|2009|    242000|  Diesel|         Podlaskie| 27999|\n",
      "| Audi|   A3|2009|    250000|  Diesel|     Wielkopolskie| 29000|\n",
      "| Audi|   A3|2003|    194000|Gasoline|     Wielkopolskie|  9900|\n",
      "+-----+-----+----+----------+--------+------------------+------+\n",
      "only showing top 20 rows\n",
      "\n"
     ]
    }
   ],
   "source": [
    "df_pyspark_polSELECTColumns.filter((df_pyspark_polSELECTColumns['Brand'] ==\"BMW\")\n",
    "                                  | (df_pyspark_polSELECTColumns[\"Brand\"]==\"Audi\")).show()"
   ]
  },
  {
   "cell_type": "code",
   "execution_count": 241,
   "id": "2e308c0e",
   "metadata": {},
   "outputs": [
    {
     "name": "stdout",
     "output_type": "stream",
     "text": [
      "+-----+------+----+----------+--------+-------------------+-----+\n",
      "|Brand| Model|Year|Kilometers|FuelType|           Province|Money|\n",
      "+-----+------+----+----------+--------+-------------------+-----+\n",
      "|  Kia|Carens|2006|    242303|  Diesel|           Lubuskie|11500|\n",
      "|  Kia|Carens|2008|    305000|  Diesel|        Mazowieckie|11000|\n",
      "|  Kia|Carens|2009|    152485|Gasoline|          Lubelskie|18000|\n",
      "|  Kia|Carens|2009|    164000|  Diesel|          Pomorskie|17900|\n",
      "|  Kia|Carens|2008|    166000|Gasoline|          Lubelskie|14950|\n",
      "|  Kia|Carens|2008|    161629|Gasoline|        Mazowieckie|16900|\n",
      "|  Kia|Carens|2007|    204594|Gasoline|            Śląskie|13999|\n",
      "|  Kia|Carens|2012|    210923|  Diesel|            Łódzkie|18900|\n",
      "|  Kia|Carens|2009|    201000|  Diesel|      Wielkopolskie|12500|\n",
      "|  Kia|Carens|2007|    270000|Gasoline|            Łódzkie|13900|\n",
      "|  Kia|Carens|2007|    158300|     LPG|        Mazowieckie| 7500|\n",
      "|  Kia|Carens|2007|    160000|Gasoline|            Śląskie|11800|\n",
      "|  Kia|Carens|2011|    188000|  Diesel|            Łódzkie|19900|\n",
      "|  Kia|Carens|2007|    268000|Gasoline|            Śląskie|10900|\n",
      "|  Kia|Carens|2007|    220000|     LPG|      Wielkopolskie|12800|\n",
      "|  Kia|Carens|2008|    420000|  Diesel|Warmińsko-mazurskie| 9500|\n",
      "|  Kia|Carens|2008|    198212|     LPG|Warmińsko-mazurskie|16700|\n",
      "|  Kia|Carens|2007|    201420|  Diesel|        Małopolskie| 8900|\n",
      "|  Kia|Carens|2006|    206000|     LPG|            Śląskie|17900|\n",
      "|  Kia|Carens|2008|    237000|Gasoline| Kujawsko-pomorskie|16900|\n",
      "+-----+------+----+----------+--------+-------------------+-----+\n",
      "only showing top 20 rows\n",
      "\n"
     ]
    }
   ],
   "source": [
    "df_pyspark_polSELECTColumns.filter(df_pyspark_polSELECTColumns['Brand'].like(\"K%\")).show()"
   ]
  },
  {
   "cell_type": "code",
   "execution_count": 242,
   "id": "1c179e6e",
   "metadata": {},
   "outputs": [
    {
     "name": "stdout",
     "output_type": "stream",
     "text": [
      "+-----+------+----+----------+--------+------------------+-----+\n",
      "|Brand| Model|Year|Kilometers|FuelType|          Province|Money|\n",
      "+-----+------+----+----------+--------+------------------+-----+\n",
      "| Opel|Vectra|1998|    240000|     LPG|Kujawsko-pomorskie| 2900|\n",
      "| Opel|Vectra|1999|    310000|Gasoline|       Mazowieckie| 2600|\n",
      "| Opel|Vectra|1999|    292356|  Diesel|         Pomorskie| 3900|\n",
      "| Opel|Vectra|2000|    175000|Gasoline|Kujawsko-pomorskie| 4999|\n",
      "| Opel|Vectra|1998|    401315|     LPG|Kujawsko-pomorskie| 2000|\n",
      "| Opel|Vectra|2000|    200000|     LPG|           Śląskie| 4700|\n",
      "| Opel|Vectra|2001|    255000|Gasoline|       Mazowieckie| 2550|\n",
      "| Opel|Vectra|1996|    120000|Gasoline|      Dolnośląskie| 4000|\n",
      "| Opel|Vectra|1998|    303000|     LPG|     Wielkopolskie| 2350|\n",
      "| Opel|Vectra|2000|    260000|     LPG|         Podlaskie| 3000|\n",
      "| Opel|Vectra|1996|    142000|Gasoline|           Łódzkie| 4400|\n",
      "| Opel|Vectra|2000|    198465|Gasoline|Kujawsko-pomorskie| 3900|\n",
      "| Opel|Vectra|1999|    326492|     LPG|      Dolnośląskie| 4500|\n",
      "| Opel|Vectra|1999|    275162|Gasoline|      Dolnośląskie| 2800|\n",
      "| Opel|Vectra|1998|    200000|     LPG|    Świętokrzyskie| 2999|\n",
      "| Opel|Vectra|1999|    290000|  Diesel|       Mazowieckie| 3300|\n",
      "| Opel|Vectra|1997|    153000|Gasoline|         Lubelskie| 2999|\n",
      "| Opel|Vectra|1998|    152000|Gasoline|           Śląskie| 3500|\n",
      "| Opel|Vectra|2004|    398119|  Diesel|         Lubelskie| 4500|\n",
      "| Opel|Vectra|2005|    375000|  Diesel|       Małopolskie| 3800|\n",
      "| Opel|Vectra|2002|    220000|     LPG|Zachodniopomorskie| 4500|\n",
      "| Opel| Agila|2000|    224600|Gasoline|           Śląskie| 4900|\n",
      "| Opel| Agila|2004|    188000|Gasoline|           Śląskie| 4900|\n",
      "| Opel| Agila|2000|    209221|Gasoline|      Dolnośląskie| 4300|\n",
      "| Opel| Agila|2001|    202781|Gasoline|       Małopolskie| 5000|\n",
      "| Opel| Agila|2000|    178000|Gasoline|     Wielkopolskie| 3500|\n",
      "| Opel| Agila|2004|    238000|Gasoline|           Śląskie| 4100|\n",
      "| Opel| Agila|2004|    226041|     LPG|       Mazowieckie| 3950|\n",
      "| Opel| Agila|2000|    219000|     LPG|           Śląskie| 3750|\n",
      "| Opel| Agila|2002|    202000|Gasoline|       Mazowieckie| 4500|\n",
      "| Opel| Agila|2002|    146000|Gasoline|Kujawsko-pomorskie| 4600|\n",
      "| Opel| Agila|2007|    213654|  Diesel|         Podlaskie| 3699|\n",
      "| Opel| Agila|2000|    175423|Gasoline|       Małopolskie| 3999|\n",
      "| Opel| Astra|1999|    219000|Gasoline|Zachodniopomorskie| 2700|\n",
      "| Opel| Astra|2003|    240000|Gasoline|    Świętokrzyskie| 4500|\n",
      "| Opel| Astra|1998|    235000|Gasoline|     Wielkopolskie| 3700|\n",
      "| Opel| Astra|1999|    241000|     LPG|      Podkarpackie| 4995|\n",
      "| Opel| Astra|1998|    198469|Gasoline|Kujawsko-pomorskie| 2200|\n",
      "| Opel| Astra|1998|    289452|Gasoline|           Łódzkie| 3200|\n",
      "| Opel| Astra|2003|    300000|Gasoline|     Wielkopolskie| 4000|\n",
      "| Opel| Astra|2000|    363000|     LPG|         Pomorskie| 3900|\n",
      "| Opel| Astra|2000|    205000|Gasoline|     Wielkopolskie| 3800|\n",
      "| Opel| Astra|2002|    157201|Gasoline|      Dolnośląskie| 4100|\n",
      "| Opel| Astra|1999|    265000|Gasoline|          Opolskie| 2450|\n",
      "| Opel| Astra|2000|    243540|  Diesel|Kujawsko-pomorskie| 3500|\n",
      "| Opel| Astra|1999|    219000|Gasoline|Zachodniopomorskie| 2700|\n",
      "| Opel| Astra|2003|    240000|Gasoline|    Świętokrzyskie| 4500|\n",
      "| Opel| Astra|1998|    235000|Gasoline|     Wielkopolskie| 3700|\n",
      "| Opel| Astra|1999|    241000|     LPG|      Podkarpackie| 4995|\n",
      "| Opel| Astra|1998|    198469|Gasoline|Kujawsko-pomorskie| 2200|\n",
      "+-----+------+----+----------+--------+------------------+-----+\n",
      "only showing top 50 rows\n",
      "\n"
     ]
    }
   ],
   "source": [
    "df_pyspark_polSELECTColumns.filter(df_pyspark_polSELECTColumns['Money'].between(2000,5000)).show(50,20)"
   ]
  },
  {
   "cell_type": "code",
   "execution_count": 243,
   "id": "dcff3b1b",
   "metadata": {},
   "outputs": [
    {
     "name": "stdout",
     "output_type": "stream",
     "text": [
      "+-----+-----+----+----------+--------+------------------+------+\n",
      "|Brand|Model|Year|Kilometers|FuelType|          Province| Money|\n",
      "+-----+-----+----+----------+--------+------------------+------+\n",
      "| Audi|   A3|2010|    169500|Gasoline|           Śląskie| 29900|\n",
      "| Audi|   A3|2018|     67990|Gasoline|    Świętokrzyskie|129850|\n",
      "| Audi|   A3|2008|    222248|  Diesel|           Śląskie| 22900|\n",
      "| Audi|   A3|2010|    243000|  Diesel|           Śląskie| 27907|\n",
      "| Audi|   A3|2009|    259658|  Diesel|         Pomorskie| 23900|\n",
      "| Audi|   A3|2008|    306000|  Diesel|       Małopolskie| 26000|\n",
      "| Audi|   A3|2009|    198050|Gasoline|       Małopolskie| 24000|\n",
      "| Audi|   A3|2008|    234000|Gasoline|    Świętokrzyskie| 27900|\n",
      "| Audi|   A3|2004|    215000|Gasoline|           Łódzkie|  9900|\n",
      "| Audi|   A3|2008|    258000|  Diesel|      Dolnośląskie| 30900|\n",
      "| Audi|   A3|2008|    195000|  Diesel|           Łódzkie|  5900|\n",
      "| Audi|   A3|2009|    246000|  Diesel|       Małopolskie| 36900|\n",
      "| Audi|   A3|2009|    154000|Gasoline|       Mazowieckie| 34990|\n",
      "| Audi|   A3|2005|    234300|Gasoline|Zachodniopomorskie| 19600|\n",
      "| Audi|   A3|2011|    135000|Gasoline|           Śląskie| 37900|\n",
      "| Audi|   A3|2008|    192347|  Diesel|Zachodniopomorskie| 32900|\n",
      "| Audi|   A3|2009|    265000|Gasoline|       Małopolskie| 25900|\n",
      "| Audi|   A3|2009|    242000|  Diesel|         Podlaskie| 27999|\n",
      "| Audi|   A3|2009|    250000|  Diesel|     Wielkopolskie| 29000|\n",
      "| Audi|   A3|2003|    194000|Gasoline|     Wielkopolskie|  9900|\n",
      "+-----+-----+----+----------+--------+------------------+------+\n",
      "only showing top 20 rows\n",
      "\n"
     ]
    }
   ],
   "source": [
    "df_pyspark_polSELECTColumns.filter(df_pyspark_polSELECTColumns['Brand'] !=\"Opel\").select(\"*\").show()"
   ]
  },
  {
   "cell_type": "code",
   "execution_count": 244,
   "id": "48b252bd",
   "metadata": {},
   "outputs": [
    {
     "name": "stdout",
     "output_type": "stream",
     "text": [
      "+-----+-----+----+----------+--------+------------------+------+\n",
      "|Brand|Model|Year|Kilometers|FuelType|          Province| Money|\n",
      "+-----+-----+----+----------+--------+------------------+------+\n",
      "| Audi|   A3|2010|    169500|Gasoline|           Śląskie| 29900|\n",
      "| Audi|   A3|2018|     67990|Gasoline|    Świętokrzyskie|129850|\n",
      "| Audi|   A3|2008|    222248|  Diesel|           Śląskie| 22900|\n",
      "| Audi|   A3|2010|    243000|  Diesel|           Śląskie| 27907|\n",
      "| Audi|   A3|2009|    259658|  Diesel|         Pomorskie| 23900|\n",
      "| Audi|   A3|2008|    306000|  Diesel|       Małopolskie| 26000|\n",
      "| Audi|   A3|2009|    198050|Gasoline|       Małopolskie| 24000|\n",
      "| Audi|   A3|2008|    234000|Gasoline|    Świętokrzyskie| 27900|\n",
      "| Audi|   A3|2004|    215000|Gasoline|           Łódzkie|  9900|\n",
      "| Audi|   A3|2008|    258000|  Diesel|      Dolnośląskie| 30900|\n",
      "| Audi|   A3|2008|    195000|  Diesel|           Łódzkie|  5900|\n",
      "| Audi|   A3|2009|    246000|  Diesel|       Małopolskie| 36900|\n",
      "| Audi|   A3|2009|    154000|Gasoline|       Mazowieckie| 34990|\n",
      "| Audi|   A3|2005|    234300|Gasoline|Zachodniopomorskie| 19600|\n",
      "| Audi|   A3|2011|    135000|Gasoline|           Śląskie| 37900|\n",
      "| Audi|   A3|2008|    192347|  Diesel|Zachodniopomorskie| 32900|\n",
      "| Audi|   A3|2009|    265000|Gasoline|       Małopolskie| 25900|\n",
      "| Audi|   A3|2009|    242000|  Diesel|         Podlaskie| 27999|\n",
      "| Audi|   A3|2009|    250000|  Diesel|     Wielkopolskie| 29000|\n",
      "| Audi|   A3|2003|    194000|Gasoline|     Wielkopolskie|  9900|\n",
      "+-----+-----+----+----------+--------+------------------+------+\n",
      "only showing top 20 rows\n",
      "\n"
     ]
    }
   ],
   "source": [
    "Brand = [\"Mercedes-benz\",\"Audi\",\"Bmw\",\"Volkswagen\"]\n",
    "df_pyspark_polSELECTColumns.filter(df_pyspark_polSELECTColumns[\"Brand\"].isin(Brand)).show()"
   ]
  },
  {
   "cell_type": "code",
   "execution_count": 245,
   "id": "47c58f04",
   "metadata": {},
   "outputs": [
    {
     "name": "stdout",
     "output_type": "stream",
     "text": [
      "+-----+-----+----+----------+--------+-------------+------+\n",
      "|Brand|Model|Year|Kilometers|FuelType|     Province| Money|\n",
      "+-----+-----+----+----------+--------+-------------+------+\n",
      "|  BMW|  3gt|2015|    330000|  Diesel| Podkarpackie| 57900|\n",
      "|  BMW|  3gt|2017|     79665|  Diesel| Podkarpackie|142000|\n",
      "|  BMW|  3gt|2014|     79160|  Diesel| Dolnośląskie| 91700|\n",
      "|  BMW|  3gt|2015|    223000|  Diesel|  Małopolskie| 54900|\n",
      "|  BMW|  3gt|2018|    179000|  Diesel|  Mazowieckie| 92700|\n",
      "|  BMW|  3gt|2014|     48000|Gasoline|  Mazowieckie| 93900|\n",
      "|  BMW|  3gt|2017|     99964|  Diesel|     Lubuskie|129900|\n",
      "|  BMW|  3gt|2017|    166000|  Diesel|    Lubelskie| 89800|\n",
      "|  BMW|  3gt|2015|    278000|  Diesel|      Łódzkie| 79800|\n",
      "|  BMW|  3gt|2014|    114393|Gasoline|    Lubelskie| 72000|\n",
      "|  BMW|  3gt|2017|     42000|  Diesel|  Mazowieckie| 84999|\n",
      "|  BMW|  3gt|2014|    478000|  Diesel|  Małopolskie| 57900|\n",
      "|  BMW|  3gt|2019|     56507|  Diesel|      Śląskie|128900|\n",
      "|  BMW|  3gt|2018|     68000|Gasoline|      Śląskie|145000|\n",
      "|  BMW|  3gt|2018|     61950|  Diesel|    Pomorskie|149900|\n",
      "|  BMW|  3gt|2020|     44600|  Diesel|    Pomorskie|169900|\n",
      "|  BMW|  3gt|2015|    129000|Gasoline|  Mazowieckie| 89900|\n",
      "|  BMW|  3gt|2014|     93000|  Diesel|      Łódzkie| 68000|\n",
      "|  BMW|  3gt|2017|     67600|Gasoline|    Pomorskie|139900|\n",
      "|  BMW|  3gt|2016|     87700|  Diesel|Wielkopolskie|117000|\n",
      "+-----+-----+----+----------+--------+-------------+------+\n",
      "only showing top 20 rows\n",
      "\n"
     ]
    }
   ],
   "source": [
    "Brand = [\"Mercedes-benz\",\"Audi\",\"Bmw\",\"Opel\",\"Ford\",\"Renault\"]\n",
    "df_pyspark_polSELECTColumns.filter(~df_pyspark_polSELECTColumns[\"Brand\"].isin(Brand)).show()"
   ]
  },
  {
   "cell_type": "code",
   "execution_count": 246,
   "id": "4e9800e4",
   "metadata": {},
   "outputs": [
    {
     "name": "stdout",
     "output_type": "stream",
     "text": [
      "+-------------+-----+\n",
      "|        Brand|Count|\n",
      "+-------------+-----+\n",
      "|         Audi|12026|\n",
      "|         Opel|11914|\n",
      "|          BMW|11070|\n",
      "|   Volkswagen|10828|\n",
      "|         Ford| 9664|\n",
      "|Mercedes-Benz| 7136|\n",
      "|      Renault| 6976|\n",
      "|        Skoda| 5873|\n",
      "|       Toyota| 5119|\n",
      "|      Peugeot| 5056|\n",
      "|        Volvo| 4384|\n",
      "|      Hyundai| 4032|\n",
      "|          Kia| 3744|\n",
      "|       Nissan| 3072|\n",
      "|         Fiat| 2880|\n",
      "|        Mazda| 2848|\n",
      "|         Seat| 2846|\n",
      "|      Citroen| 2720|\n",
      "|        Honda| 2176|\n",
      "|   Mitsubishi| 1120|\n",
      "|         Mini| 1087|\n",
      "|   Alfa-Romeo|  704|\n",
      "|    Chevrolet|  608|\n",
      "+-------------+-----+\n",
      "\n"
     ]
    }
   ],
   "source": [
    "df_pyspark_polSELECTColumns.groupBy(\"Brand\").agg(count(\"*\")\\\n",
    "                                                 .alias(\"Count\")).select(\"Brand\",\"Count\").orderBy(desc(\"Count\")).show(25)"
   ]
  },
  {
   "cell_type": "code",
   "execution_count": 247,
   "id": "7c7cb9e0",
   "metadata": {},
   "outputs": [
    {
     "name": "stdout",
     "output_type": "stream",
     "text": [
      "+----+-----+\n",
      "|Year|Count|\n",
      "+----+-----+\n",
      "|2022| 2094|\n",
      "|2021|10559|\n",
      "|2020| 3525|\n",
      "|2019| 5194|\n",
      "|2018| 8631|\n",
      "|2017| 8897|\n",
      "|2016| 7019|\n",
      "|2015| 6021|\n",
      "|2014| 5787|\n",
      "|2013| 5445|\n",
      "|2012| 6240|\n",
      "|2011| 6596|\n",
      "|2010| 6398|\n",
      "|2009| 6826|\n",
      "|2008| 6528|\n",
      "|2007| 5735|\n",
      "|2006| 4755|\n",
      "|2005| 3534|\n",
      "|2004| 2641|\n",
      "|2003| 1766|\n",
      "|2002| 1220|\n",
      "|2001|  757|\n",
      "|2000|  510|\n",
      "|1999|  405|\n",
      "|1998|  270|\n",
      "+----+-----+\n",
      "only showing top 25 rows\n",
      "\n"
     ]
    }
   ],
   "source": [
    "df_pyspark_polSELECTColumns.groupBy(\"Year\").agg(count(\"*\")\\\n",
    "                                                 .alias(\"Count\")).select(\"Year\",\"Count\").orderBy(desc(\"Year\")).show(25)"
   ]
  },
  {
   "cell_type": "code",
   "execution_count": 248,
   "id": "54f2ed4c",
   "metadata": {},
   "outputs": [
    {
     "name": "stdout",
     "output_type": "stream",
     "text": [
      "+--------+-----+\n",
      "|FuelType|Count|\n",
      "+--------+-----+\n",
      "|Gasoline|61587|\n",
      "|  Diesel|48443|\n",
      "|     LPG| 4301|\n",
      "|  Hybrid| 2621|\n",
      "|Electric|  885|\n",
      "|     CNG|   46|\n",
      "+--------+-----+\n",
      "\n"
     ]
    }
   ],
   "source": [
    "df_pyspark_polSELECTColumns.groupBy(\"FuelType\").agg(count(\"*\")\\\n",
    "                                                 .alias(\"Count\")).select(\"FuelType\",\"Count\").orderBy(desc(\"Count\")).show()"
   ]
  },
  {
   "cell_type": "code",
   "execution_count": 249,
   "id": "109d073e",
   "metadata": {
    "scrolled": true
   },
   "outputs": [
    {
     "name": "stdout",
     "output_type": "stream",
     "text": [
      "+-------------------+-----+\n",
      "|           Province|Count|\n",
      "+-------------------+-----+\n",
      "|        Mazowieckie|22219|\n",
      "|            Śląskie|16706|\n",
      "|      Wielkopolskie|14016|\n",
      "|        Małopolskie| 9756|\n",
      "|       Dolnośląskie| 8838|\n",
      "|            Łódzkie| 7884|\n",
      "|          Pomorskie| 7605|\n",
      "| Kujawsko-pomorskie| 5371|\n",
      "|          Lubelskie| 4740|\n",
      "| Zachodniopomorskie| 3963|\n",
      "|       Podkarpackie| 3553|\n",
      "|     Świętokrzyskie| 3337|\n",
      "|Warmińsko-mazurskie| 2956|\n",
      "|           Lubuskie| 2743|\n",
      "|          Podlaskie| 2123|\n",
      "|           Opolskie| 2073|\n",
      "+-------------------+-----+\n",
      "\n"
     ]
    }
   ],
   "source": [
    "df_pyspark_polSELECTColumns.groupBy(\"Province\").agg(count(\"*\")\\\n",
    "                                                 .alias(\"Count\")).select(\"Province\",\"Count\").orderBy(desc(\"Count\")).show()"
   ]
  },
  {
   "cell_type": "markdown",
   "id": "686a8960",
   "metadata": {},
   "source": [
    "##### Looking for avg,min, max, and total kilometres and money for each brand"
   ]
  },
  {
   "cell_type": "code",
   "execution_count": 250,
   "id": "4df43c04",
   "metadata": {},
   "outputs": [
    {
     "name": "stdout",
     "output_type": "stream",
     "text": [
      "+-------------+---------+---------+---------+-----------+\n",
      "|        Brand|AVG Money|Min Money|Max Money|Total Money|\n",
      "+-------------+---------+---------+---------+-----------+\n",
      "|   Volkswagen| 61727.29|      500|   535851|  668383098|\n",
      "|         Audi| 105061.9|     1450|  1100000| 1263474400|\n",
      "|          BMW| 122836.9|      900|  1100000| 1359804507|\n",
      "|         Opel| 35109.65|     1700|   999999|  418296342|\n",
      "|         Ford|  51801.1|     1990|   849000|  500605817|\n",
      "|          Kia| 59718.26|     2900|   270000|  223585167|\n",
      "|    Chevrolet| 40287.22|     3200|   554900|   24494629|\n",
      "|      Hyundai| 54830.43|     8500|   219200|  221076288|\n",
      "|        Honda| 51344.85|     1999|   201900|  111726400|\n",
      "|Mercedes-Benz|139316.95|     2300|  2399900|  994165750|\n",
      "|      Renault| 45034.32|     1500|   284000|  314159448|\n",
      "|   Alfa-Romeo| 69643.07|     1800|   446890|   49028720|\n",
      "|      Citroen| 34098.13|     2000|   197900|   92746906|\n",
      "|        Skoda| 61643.65|     1590|   999999|  362033160|\n",
      "|       Toyota| 54565.77|      900|   665000|  279322166|\n",
      "|        Mazda| 57337.48|     2700|   199592|  163297136|\n",
      "|         Fiat| 39326.18|     2337|   389950|  113259388|\n",
      "|      Peugeot| 47144.63|     2200|   311100|  238363263|\n",
      "|   Mitsubishi| 51085.78|     2990|   225029|   57216075|\n",
      "|         Mini| 72295.71|     5555|   245800|   78585433|\n",
      "|        Volvo|110734.15|     4500|   489500|  485458530|\n",
      "|         Seat| 40428.14|     1500|   195000|  115058474|\n",
      "|       Nissan| 49635.93|     2200|   279000|  152481579|\n",
      "+-------------+---------+---------+---------+-----------+\n",
      "\n"
     ]
    }
   ],
   "source": [
    "df_pyspark_polSELECTColumns.groupBy(\"Brand\").agg(round(avg(\"Money\"),2).alias(\"AVG Money\"),\n",
    "min(\"Money\").alias(\"Min Money\"), max(\"Money\").alias(\"Max Money\"),\n",
    "sum(\"Money\").alias(\"Total Money\")).show(50)"
   ]
  },
  {
   "cell_type": "code",
   "execution_count": 251,
   "id": "f578f21f",
   "metadata": {},
   "outputs": [
    {
     "name": "stdout",
     "output_type": "stream",
     "text": [
      "+-------------+--------------+--------------+--------------+----------------+\n",
      "|        Brand|AVG Kilometers|Min Kilometers|Max Kilometers|Total Kilometers|\n",
      "+-------------+--------------+--------------+--------------+----------------+\n",
      "|   Volkswagen|     153186.22|             0|       1000000|      1658700338|\n",
      "|         Audi|     159862.83|             0|        550000|      1922510400|\n",
      "|          BMW|     145835.39|             0|        999999|      1614397795|\n",
      "|         Opel|     154548.31|             0|        692800|      1841288582|\n",
      "|         Ford|     150246.59|             0|       2800000|      1451983036|\n",
      "|          Kia|     105278.05|             1|        482000|       394161016|\n",
      "|    Chevrolet|     141144.63|            10|        730000|        85815936|\n",
      "|      Hyundai|     107286.99|             0|        542000|       432581147|\n",
      "|        Honda|     143693.76|             1|        455258|       312677617|\n",
      "|Mercedes-Benz|     139314.73|             0|        900000|       994149898|\n",
      "|      Renault|     127453.62|             0|        602112|       889116478|\n",
      "|   Alfa-Romeo|     136646.89|             0|        440000|        96199412|\n",
      "|      Citroen|     167729.49|             1|        488303|       456224225|\n",
      "|        Skoda|     129043.88|             0|        611500|       757874697|\n",
      "|       Toyota|     126436.74|             1|        555555|       647229665|\n",
      "|        Mazda|     125832.21|             1|        424000|       358370141|\n",
      "|         Fiat|     105979.48|             0|        394000|       305220912|\n",
      "|      Peugeot|     141757.87|             0|        527000|       716727777|\n",
      "|   Mitsubishi|     118572.35|             0|        390000|       132801033|\n",
      "|         Mini|      95554.58|             0|        320000|       103867833|\n",
      "|        Volvo|     147367.57|             1|        545000|       646059419|\n",
      "|         Seat|     146500.12|             0|        500000|       416939353|\n",
      "|       Nissan|     125185.86|             0|        634485|       384570971|\n",
      "+-------------+--------------+--------------+--------------+----------------+\n",
      "\n"
     ]
    }
   ],
   "source": [
    "df_pyspark_polSELECTColumns.groupBy(\"Brand\").agg(round(avg(\"Kilometers\"),2).alias(\"AVG Kilometers\"),\n",
    "min(\"Kilometers\").alias(\"Min Kilometers\"), max(\"Kilometers\").alias(\"Max Kilometers\"),\n",
    "sum(\"Kilometers\").alias(\"Total Kilometers\")).show(50)"
   ]
  },
  {
   "cell_type": "code",
   "execution_count": 252,
   "id": "729f7b68",
   "metadata": {},
   "outputs": [
    {
     "name": "stdout",
     "output_type": "stream",
     "text": [
      "+-------------+------------------+\n",
      "|        Brand|         Money PLN|\n",
      "+-------------+------------------+\n",
      "|         Audi|105061.89921836022|\n",
      "|          BMW|122836.90216802168|\n",
      "|Mercedes-Benz|139316.94927130046|\n",
      "|        Volvo|110734.15374087592|\n",
      "+-------------+------------------+\n",
      "\n"
     ]
    }
   ],
   "source": [
    "df_pyspark_polSELECTColumns.groupBy(\"Brand\").agg(avg(col(\"Money\").cast(\"double\"))\\\n",
    "                                                .alias(\"Money PLN\")).filter(col(\"Money PLN\")> 100000).select(\"Brand\",\n",
    "                                                                                                             \"Money PLN\").show()"
   ]
  },
  {
   "cell_type": "code",
   "execution_count": 253,
   "id": "ed611a47",
   "metadata": {},
   "outputs": [
    {
     "name": "stdout",
     "output_type": "stream",
     "text": [
      "+-------------+\n",
      "|        Brand|\n",
      "+-------------+\n",
      "|   Volkswagen|\n",
      "|         Audi|\n",
      "|          BMW|\n",
      "|         Opel|\n",
      "|         Ford|\n",
      "|          Kia|\n",
      "|    Chevrolet|\n",
      "|      Hyundai|\n",
      "|        Honda|\n",
      "|Mercedes-Benz|\n",
      "|      Renault|\n",
      "|   Alfa-Romeo|\n",
      "|      Citroen|\n",
      "|        Skoda|\n",
      "|       Toyota|\n",
      "|        Mazda|\n",
      "|         Fiat|\n",
      "|      Peugeot|\n",
      "|   Mitsubishi|\n",
      "|         Mini|\n",
      "|        Volvo|\n",
      "|         Seat|\n",
      "|       Nissan|\n",
      "+-------------+\n",
      "\n"
     ]
    }
   ],
   "source": [
    "df_pyspark_polSELECTColumns.select(\"Brand\").distinct().show(25,25)"
   ]
  },
  {
   "cell_type": "code",
   "execution_count": 254,
   "id": "366b8017",
   "metadata": {},
   "outputs": [
    {
     "name": "stdout",
     "output_type": "stream",
     "text": [
      "+--------+\n",
      "|FuelType|\n",
      "+--------+\n",
      "|Gasoline|\n",
      "|  Diesel|\n",
      "|  Hybrid|\n",
      "|     CNG|\n",
      "|Electric|\n",
      "|     LPG|\n",
      "+--------+\n",
      "\n"
     ]
    }
   ],
   "source": [
    "df_pyspark_polSELECTColumns.select(\"FuelType\").distinct().show()"
   ]
  },
  {
   "cell_type": "code",
   "execution_count": 255,
   "id": "5d92e1ec",
   "metadata": {
    "scrolled": true
   },
   "outputs": [
    {
     "name": "stdout",
     "output_type": "stream",
     "text": [
      "+-------------------+\n",
      "|           Province|\n",
      "+-------------------+\n",
      "|       Podkarpackie|\n",
      "|          Lubelskie|\n",
      "|        Mazowieckie|\n",
      "|       Dolnośląskie|\n",
      "|      Wielkopolskie|\n",
      "|          Podlaskie|\n",
      "|          Pomorskie|\n",
      "|           Lubuskie|\n",
      "|        Małopolskie|\n",
      "|            Łódzkie|\n",
      "|            Śląskie|\n",
      "| Zachodniopomorskie|\n",
      "|           Opolskie|\n",
      "|     Świętokrzyskie|\n",
      "| Kujawsko-pomorskie|\n",
      "|Warmińsko-mazurskie|\n",
      "+-------------------+\n",
      "\n"
     ]
    }
   ],
   "source": [
    "df_pyspark_polSELECTColumns.select(\"Province\").distinct().show(25)"
   ]
  },
  {
   "cell_type": "code",
   "execution_count": 256,
   "id": "b00ee31d",
   "metadata": {},
   "outputs": [
    {
     "name": "stdout",
     "output_type": "stream",
     "text": [
      "+-----+-----+----+----------+--------+-------------------+-----+----------+---------+\n",
      "|Brand|Model|Year|Kilometers|FuelType|           Province|Money|Money EURO|Money USD|\n",
      "+-----+-----+----+----------+--------+-------------------+-----+----------+---------+\n",
      "| Opel|Combo|2015|    139568|  Diesel|        Mazowieckie|35900|    7539.0|   8257.0|\n",
      "| Opel|Combo|2018|     31991|  Diesel|            Śląskie|78501|  16485.21| 18055.23|\n",
      "| Opel|Combo|2015|    278437|  Diesel|           Opolskie|27000|    5670.0|   6210.0|\n",
      "| Opel|Combo|2016|     47600|  Diesel|           Opolskie|30800|    6468.0|   7084.0|\n",
      "| Opel|Combo|2014|    103000|     CNG|            Śląskie|35900|    7539.0|   8257.0|\n",
      "| Opel|Combo|2017|    121203|  Diesel|        Mazowieckie|51900|   10899.0|  11937.0|\n",
      "| Opel|Combo|2017|    119965|  Diesel|       Dolnośląskie|44700|    9387.0|  10281.0|\n",
      "| Opel|Combo|2016|    201658|  Diesel|          Lubelskie|29000|    6090.0|   6670.0|\n",
      "| Opel|Combo|2014|    178666|  Diesel|      Wielkopolskie|28900|    6069.0|   6647.0|\n",
      "| Opel|Combo|2015|    113000|  Diesel|        Mazowieckie|34900|    7329.0|   8027.0|\n",
      "| Opel|Combo|2012|    237000|  Diesel|Warmińsko-mazurskie|24800|    5208.0|   5704.0|\n",
      "| Opel|Combo|2017|    137000|  Diesel|        Mazowieckie|39900|    8379.0|   9177.0|\n",
      "| Opel|Combo|2016|    154000|  Diesel|            Śląskie|35900|    7539.0|   8257.0|\n",
      "| Opel|Combo|2017|     59339|  Diesel|       Dolnośląskie|55300|   11613.0|  12719.0|\n",
      "| Opel|Combo|2016|    137445|  Diesel|           Opolskie|34700|    7287.0|   7981.0|\n",
      "| Opel|Combo|2016|    141859|  Diesel|            Śląskie|39900|    8379.0|   9177.0|\n",
      "| Opel|Combo|2012|    195000|  Diesel|        Mazowieckie|25900|    5439.0|   5957.0|\n",
      "| Opel|Combo|2015|    180000|  Diesel|       Dolnośląskie|32900|    6909.0|   7567.0|\n",
      "| Opel|Combo|2018|    107515|  Diesel|        Mazowieckie|62000|   13020.0|  14260.0|\n",
      "| Opel|Combo|2017|    149000|  Diesel|        Mazowieckie|39852|   8368.92|  9165.96|\n",
      "+-----+-----+----+----------+--------+-------------------+-----+----------+---------+\n",
      "only showing top 20 rows\n",
      "\n"
     ]
    }
   ],
   "source": [
    "df_pyspark_polSELECTColumns.withColumn(\"Money EURO\",df_pyspark_polSELECTColumns[\"Money\"] * 0.21) \\\n",
    "                            .withColumn(\"Money USD\",round(df_pyspark_polSELECTColumns[\"Money\"] * 0.23,2)) \\\n",
    ".show()"
   ]
  },
  {
   "cell_type": "code",
   "execution_count": 257,
   "id": "d910a594",
   "metadata": {},
   "outputs": [
    {
     "name": "stdout",
     "output_type": "stream",
     "text": [
      "+-------------------+----+-----+---------+\n",
      "|           Province|left|right|substring|\n",
      "+-------------------+----+-----+---------+\n",
      "|        Mazowieckie|  Ma|   ie|       zo|\n",
      "|            Śląskie|  Śl|   ie|       ąs|\n",
      "|           Opolskie|  Op|   ie|       ol|\n",
      "|           Opolskie|  Op|   ie|       ol|\n",
      "|            Śląskie|  Śl|   ie|       ąs|\n",
      "|        Mazowieckie|  Ma|   ie|       zo|\n",
      "|       Dolnośląskie|  Do|   ie|       ln|\n",
      "|          Lubelskie|  Lu|   ie|       be|\n",
      "|      Wielkopolskie|  Wi|   ie|       el|\n",
      "|        Mazowieckie|  Ma|   ie|       zo|\n",
      "|Warmińsko-mazurskie|  Wa|   ie|       rm|\n",
      "|        Mazowieckie|  Ma|   ie|       zo|\n",
      "|            Śląskie|  Śl|   ie|       ąs|\n",
      "|       Dolnośląskie|  Do|   ie|       ln|\n",
      "|           Opolskie|  Op|   ie|       ol|\n",
      "|            Śląskie|  Śl|   ie|       ąs|\n",
      "|        Mazowieckie|  Ma|   ie|       zo|\n",
      "|       Dolnośląskie|  Do|   ie|       ln|\n",
      "|        Mazowieckie|  Ma|   ie|       zo|\n",
      "|        Mazowieckie|  Ma|   ie|       zo|\n",
      "+-------------------+----+-----+---------+\n",
      "only showing top 20 rows\n",
      "\n"
     ]
    }
   ],
   "source": [
    "df_pyspark_polSELECTColumns.select(df_pyspark_polSELECTColumns['Province'],\n",
    "                                  substring(df_pyspark_polSELECTColumns['Province'],1,2)\n",
    "                                    .alias('left'), substring(df_pyspark_polSELECTColumns['Province'],-2,2).alias('right'),\n",
    "                                  substring(df_pyspark_polSELECTColumns['Province'],3,2).alias('substring')).show()\n"
   ]
  },
  {
   "cell_type": "code",
   "execution_count": 258,
   "id": "cd3266fa",
   "metadata": {
    "scrolled": true
   },
   "outputs": [
    {
     "name": "stdout",
     "output_type": "stream",
     "text": [
      "+-----------------+\n",
      "|        New Brand|\n",
      "+-----------------+\n",
      "|Opel Combo Diesel|\n",
      "|Opel Combo Diesel|\n",
      "|Opel Combo Diesel|\n",
      "|Opel Combo Diesel|\n",
      "|   Opel Combo CNG|\n",
      "|Opel Combo Diesel|\n",
      "|Opel Combo Diesel|\n",
      "|Opel Combo Diesel|\n",
      "|Opel Combo Diesel|\n",
      "|Opel Combo Diesel|\n",
      "|Opel Combo Diesel|\n",
      "|Opel Combo Diesel|\n",
      "|Opel Combo Diesel|\n",
      "|Opel Combo Diesel|\n",
      "|Opel Combo Diesel|\n",
      "|Opel Combo Diesel|\n",
      "|Opel Combo Diesel|\n",
      "|Opel Combo Diesel|\n",
      "|Opel Combo Diesel|\n",
      "|Opel Combo Diesel|\n",
      "+-----------------+\n",
      "only showing top 20 rows\n",
      "\n"
     ]
    }
   ],
   "source": [
    "df_pyspark_polSELECTColumns.select(concat(df_pyspark_polSELECTColumns['Brand'], \n",
    "                                          lit(\" \"),df_pyspark_polSELECTColumns['Model']\n",
    "                                          ,lit(\" \"),df_pyspark_polSELECTColumns['FuelType'])\\\n",
    "                                   .alias('New Brand')).show()"
   ]
  },
  {
   "cell_type": "markdown",
   "id": "cea20775",
   "metadata": {},
   "source": [
    "#### Money - looking for min and max values"
   ]
  },
  {
   "cell_type": "code",
   "execution_count": 259,
   "id": "e41a0afe",
   "metadata": {},
   "outputs": [],
   "source": [
    "Min = df_pyspark_polSELECTColumns.agg(min(\"Money\")).first()[0]\n",
    "Max = df_pyspark_polSELECTColumns.agg(max(\"Money\")).first()[0]"
   ]
  },
  {
   "cell_type": "code",
   "execution_count": 260,
   "id": "e2eb2e72",
   "metadata": {},
   "outputs": [],
   "source": [
    "MinMoney = df_pyspark_polSELECTColumns.filter(df_pyspark_polSELECTColumns['Money'] == Min)\n",
    "MaxMoney = df_pyspark_polSELECTColumns.filter(df_pyspark_polSELECTColumns['Money'] == Max)\n"
   ]
  },
  {
   "cell_type": "code",
   "execution_count": 261,
   "id": "161d678b",
   "metadata": {},
   "outputs": [
    {
     "name": "stdout",
     "output_type": "stream",
     "text": [
      "+-------------+---------+----+----------+--------+--------------+-------+\n",
      "|        Brand|    Model|Year|Kilometers|FuelType|      Province|  Money|\n",
      "+-------------+---------+----+----------+--------+--------------+-------+\n",
      "|Mercedes-Benz|  S-klasa|2017|       400|Gasoline|   Mazowieckie|2399900|\n",
      "|   Volkswagen|Golf-plus|2007|    300567|Gasoline|Świętokrzyskie|    500|\n",
      "+-------------+---------+----+----------+--------+--------------+-------+\n",
      "\n"
     ]
    }
   ],
   "source": [
    "UnionMaxMinMoney = MaxMoney.union(MinMoney)\n",
    "UnionMaxMinMoney.show()"
   ]
  },
  {
   "cell_type": "markdown",
   "id": "6117ae36",
   "metadata": {},
   "source": [
    "#### Kilometres  - looking for min and max values"
   ]
  },
  {
   "cell_type": "code",
   "execution_count": 262,
   "id": "0f66e48f",
   "metadata": {},
   "outputs": [],
   "source": [
    "Min = df_pyspark_polSELECTColumns.agg(min(\"Kilometers\")).first()[0]\n",
    "Max = df_pyspark_polSELECTColumns.agg(max(\"Kilometers\")).first()[0]"
   ]
  },
  {
   "cell_type": "code",
   "execution_count": 263,
   "id": "c2c96dda",
   "metadata": {},
   "outputs": [],
   "source": [
    "MinKM = df_pyspark_polSELECTColumns.filter(df_pyspark_polSELECTColumns['Kilometers'] == Min)\n",
    "MaxKM = df_pyspark_polSELECTColumns.filter(df_pyspark_polSELECTColumns['Kilometers'] == Max)\n"
   ]
  },
  {
   "cell_type": "code",
   "execution_count": 264,
   "id": "0896a951",
   "metadata": {},
   "outputs": [
    {
     "name": "stdout",
     "output_type": "stream",
     "text": [
      "+-----+---------------+----+----------+--------+-------------+------+\n",
      "|Brand|          Model|Year|Kilometers|FuelType|     Province| Money|\n",
      "+-----+---------------+----+----------+--------+-------------+------+\n",
      "| Ford|Tourneo-connect|2008|   2800000|  Diesel| Dolnośląskie| 12300|\n",
      "| Opel|          Astra|2021|         0|  Diesel|      Śląskie| 91600|\n",
      "| Opel|          Astra|2021|         0|  Diesel|      Śląskie|100000|\n",
      "| Opel|          Corsa|2021|         0|Gasoline|      Śląskie| 75890|\n",
      "| Opel|          Corsa|2021|         0|Gasoline|      Śląskie| 76790|\n",
      "| Opel|    Crossland-x|2021|         0|Gasoline|      Śląskie| 80968|\n",
      "| Opel|    Grandland-x|2021|         0|  Hybrid|      Śląskie|190000|\n",
      "| Opel|          Mokka|2021|         0|Gasoline|Wielkopolskie|102900|\n",
      "| Opel|          Mokka|2021|         0|Gasoline|      Śląskie|114500|\n",
      "| Audi|             A3|2021|         0|Gasoline|     Opolskie|137954|\n",
      "| Audi|             A3|2021|         0|Gasoline|Wielkopolskie|175950|\n",
      "| Audi|             A3|2021|         0|  Diesel|Wielkopolskie|218300|\n",
      "| Audi|             A4|2021|         0|Gasoline|Wielkopolskie|186050|\n",
      "| Audi|             A4|2021|         0|Gasoline|Wielkopolskie|186050|\n",
      "| Audi|             A4|2021|         0|Gasoline|Wielkopolskie|186050|\n",
      "| Audi|             A4|2021|         0|Gasoline|Wielkopolskie|186050|\n",
      "| Audi|             A4|2021|         0|  Diesel|  Mazowieckie|229228|\n",
      "| Audi|             A4|2021|         0|Gasoline|Wielkopolskie|187100|\n",
      "| Audi|             A4|2022|         0|Gasoline|      Śląskie|176955|\n",
      "| Audi|             A4|2021|         0|  Diesel|  Mazowieckie|249542|\n",
      "+-----+---------------+----+----------+--------+-------------+------+\n",
      "only showing top 20 rows\n",
      "\n"
     ]
    }
   ],
   "source": [
    "UnionMaxMinKM = MaxKM.union(MinKM)\n",
    "UnionMaxMinKM.show()"
   ]
  },
  {
   "cell_type": "code",
   "execution_count": 265,
   "id": "a35bdaed",
   "metadata": {
    "scrolled": true
   },
   "outputs": [
    {
     "name": "stdout",
     "output_type": "stream",
     "text": [
      "+-------------+---------+----+----------+--------+-------------+-------+---+\n",
      "|        Brand|    Model|Year|Kilometers|FuelType|     Province|  Money| RN|\n",
      "+-------------+---------+----+----------+--------+-------------+-------+---+\n",
      "|Mercedes-Benz|  S-klasa|2017|       400|Gasoline|  Mazowieckie|2399900|  1|\n",
      "|Mercedes-Benz|  S-klasa|2019|     12000|Gasoline|Wielkopolskie|1966770|  2|\n",
      "|Mercedes-Benz|  S-klasa|2018|        21|Gasoline|  Mazowieckie|1550000|  3|\n",
      "|Mercedes-Benz|   Amg-gt|2019|     28500|Gasoline|Wielkopolskie|1368341|  4|\n",
      "|         Audi|      Rs6|2021|        20|Gasoline|  Mazowieckie|1100000|  5|\n",
      "|          BMW|     X6-m|2022|        20|Gasoline|    Pomorskie|1100000|  6|\n",
      "|Mercedes-Benz|   Amg-gt|2020|     16000|Gasoline|    Pomorskie|1100000|  7|\n",
      "|Mercedes-Benz|   Amg-gt|2020|     16000|Gasoline|    Pomorskie|1100000|  8|\n",
      "|Mercedes-Benz|   Amg-gt|2021|      6097|Gasoline|Wielkopolskie|1090000|  9|\n",
      "|Mercedes-Benz|   Amg-gt|2021|      6097|Gasoline|Wielkopolskie|1090000| 10|\n",
      "|Mercedes-Benz|  E-klasa|2021|     13000|Gasoline|Wielkopolskie|1075000| 11|\n",
      "|Mercedes-Benz|   Amg-gt|2021|         5|Gasoline|    Pomorskie|1061592| 12|\n",
      "|Mercedes-Benz|   Amg-gt|2021|        13|Gasoline| Podkarpackie|1059494| 13|\n",
      "|Mercedes-Benz|   Amg-gt|2021|        13|Gasoline|  Małopolskie|1059494| 14|\n",
      "|Mercedes-Benz|  S-klasa|2022|         2|Gasoline| Dolnośląskie|1036270| 15|\n",
      "|Mercedes-Benz|Gls-klasa|2021|     19000|Gasoline|  Mazowieckie|1000000| 16|\n",
      "|Mercedes-Benz|  S-klasa|2021|        50|Gasoline|      Łódzkie|1000000| 17|\n",
      "|         Opel|    Corsa|2013|    105703|Gasoline|  Mazowieckie| 999999| 18|\n",
      "|        Skoda|  Octavia|2013|    251050|  Diesel|      Śląskie| 999999| 19|\n",
      "|Mercedes-Benz|  G-klasa|2020|      8000|Gasoline|    Pomorskie| 998000| 20|\n",
      "+-------------+---------+----+----------+--------+-------------+-------+---+\n",
      "only showing top 20 rows\n",
      "\n"
     ]
    }
   ],
   "source": [
    "windowSpec = Window.orderBy(col(\"Money\").desc())\n",
    "df_pyspark_polSELECTColumns.withColumn(\"RN\",row_number().over(windowSpec)).show()\n"
   ]
  },
  {
   "cell_type": "markdown",
   "id": "8603aa62",
   "metadata": {},
   "source": [
    "##### Looking for most expensive car in each brand"
   ]
  },
  {
   "cell_type": "code",
   "execution_count": 266,
   "id": "74b2d9c6",
   "metadata": {},
   "outputs": [
    {
     "name": "stdout",
     "output_type": "stream",
     "text": [
      "+-----+------+----+----------+--------+------------------+-------+---+\n",
      "|Brand| Model|Year|Kilometers|FuelType|          Province|  Money| RN|\n",
      "+-----+------+----+----------+--------+------------------+-------+---+\n",
      "| Audi|   Rs6|2021|        20|Gasoline|       Mazowieckie|1100000|  1|\n",
      "| Audi|   Rs6|2020|     48000|Gasoline|           Śląskie| 899900|  2|\n",
      "| Audi|   Rs6|2022|         5|Gasoline|           Łódzkie| 843000|  3|\n",
      "| Audi|    S8|2022|         5|Gasoline|           Śląskie| 818400|  4|\n",
      "| Audi|   Rs6|2021|        20|Gasoline|       Mazowieckie| 816900|  5|\n",
      "| Audi|   Rs6|2022|         1|Gasoline|         Pomorskie| 815610|  6|\n",
      "| Audi|   Rs6|2022|         5|Gasoline|           Łódzkie| 806000|  7|\n",
      "| Audi|E-tron|2021|      9000|Electric|           Śląskie| 803900|  8|\n",
      "| Audi|   Rs6|2020|     36535|Gasoline|         Pomorskie| 799900|  9|\n",
      "| Audi|   Rs6|2021|        29|Gasoline|         Pomorskie| 799900| 10|\n",
      "| Audi|   Rs6|2020|     14613|Gasoline|Kujawsko-pomorskie| 794900| 11|\n",
      "| Audi|   Rs6|2021|         8|Gasoline|       Mazowieckie| 793304| 12|\n",
      "| Audi|   Rs6|2022|        10|Gasoline|       Mazowieckie| 791442| 13|\n",
      "| Audi|   Rs6|2022|        10|Gasoline|       Mazowieckie| 790502| 14|\n",
      "| Audi|   Rs6|2021|        20|Gasoline|       Mazowieckie| 790000| 15|\n",
      "| Audi|   Rs6|2020|        10|Gasoline|Kujawsko-pomorskie| 787588| 16|\n",
      "| Audi|   Rs6|2021|         1|Gasoline|         Pomorskie| 777000| 17|\n",
      "| Audi|   Rs6|2022|        10|Gasoline|       Mazowieckie| 762400| 18|\n",
      "| Audi|    A8|2022|        10|  Diesel|         Pomorskie| 754380| 19|\n",
      "| Audi|    A8|2020|      6000|  Diesel|         Pomorskie| 750000| 20|\n",
      "+-----+------+----+----------+--------+------------------+-------+---+\n",
      "only showing top 20 rows\n",
      "\n"
     ]
    }
   ],
   "source": [
    "windowSpec = Window.partitionBy(col(\"Brand\")).orderBy(col(\"Money\").desc())\n",
    "RNdf_pyspark_pol = df_pyspark_polSELECTColumns.withColumn(\"RN\",row_number().over(windowSpec))\n",
    "RNdf_pyspark_pol.show()"
   ]
  },
  {
   "cell_type": "code",
   "execution_count": 267,
   "id": "b4063606",
   "metadata": {
    "scrolled": true
   },
   "outputs": [
    {
     "name": "stdout",
     "output_type": "stream",
     "text": [
      "+-------------+-------------+----+----------+--------+-------------+-------+---+\n",
      "|        Brand|        Model|Year|Kilometers|FuelType|     Province|  Money| RN|\n",
      "+-------------+-------------+----+----------+--------+-------------+-------+---+\n",
      "|Mercedes-Benz|      S-klasa|2017|       400|Gasoline|  Mazowieckie|2399900|  1|\n",
      "|         Audi|          Rs6|2021|        20|Gasoline|  Mazowieckie|1100000|  1|\n",
      "|          BMW|         X6-m|2022|        20|Gasoline|    Pomorskie|1100000|  1|\n",
      "|         Opel|        Corsa|2013|    105703|Gasoline|  Mazowieckie| 999999|  1|\n",
      "|        Skoda|      Octavia|2013|    251050|  Diesel|      Śląskie| 999999|  1|\n",
      "|         Ford|      Mustang|2020|        50|Gasoline| Dolnośląskie| 849000|  1|\n",
      "|       Toyota| Land-cruiser|2021|        25|  Diesel|Wielkopolskie| 665000|  1|\n",
      "|    Chevrolet|       Camaro|2021|        50|Gasoline| Dolnośląskie| 554900|  1|\n",
      "|   Volkswagen|   California|2021|         1|  Diesel|    Pomorskie| 535851|  1|\n",
      "|        Volvo|        Xc-90|2021|        10|  Hybrid|  Mazowieckie| 489500|  1|\n",
      "|   Alfa-Romeo|       Giulia|2022|         5|Gasoline|  Mazowieckie| 446890|  1|\n",
      "|         Fiat|         Tipo|2021|         1|Gasoline|      Śląskie| 389950|  1|\n",
      "|      Peugeot|          508|2021|         1|  Hybrid|  Mazowieckie| 311100|  1|\n",
      "|      Renault|       Trafic|2021|         1|  Diesel|    Pomorskie| 284000|  1|\n",
      "|       Nissan|       Patrol|2021|        25|Gasoline|Wielkopolskie| 279000|  1|\n",
      "|          Kia|      Stinger|2021|     13400|Gasoline|  Mazowieckie| 270000|  1|\n",
      "|         Mini|   Countryman|2021|         5|Gasoline|      Łódzkie| 245800|  1|\n",
      "|   Mitsubishi|Eclipse-cross|2021|         1|  Hybrid|  Mazowieckie| 225029|  1|\n",
      "|      Hyundai|       Tucson|2022|         5|  Hybrid|Wielkopolskie| 219200|  1|\n",
      "|        Honda|         Cr-v|2021|         5|  Hybrid|      Łódzkie| 201900|  1|\n",
      "|        Mazda|         Cx-5|2021|     26600|Gasoline|      Śląskie| 199592|  1|\n",
      "|      Citroen|  C5-aircross|2021|         5|Gasoline|Wielkopolskie| 197900|  1|\n",
      "|         Seat|        Ateca|2019|     46937|Gasoline|Wielkopolskie| 195000|  1|\n",
      "+-------------+-------------+----+----------+--------+-------------+-------+---+\n",
      "\n"
     ]
    }
   ],
   "source": [
    "RNdf_pyspark_pol.filter(RNdf_pyspark_pol['RN'] == 1).orderBy(desc(\"Money\")).show(30)"
   ]
  },
  {
   "cell_type": "code",
   "execution_count": 268,
   "id": "69a63849",
   "metadata": {
    "scrolled": true
   },
   "outputs": [
    {
     "name": "stdout",
     "output_type": "stream",
     "text": [
      "Brand:  Mercedes-Benz   Money:  2399900\n",
      "Brand:  Audi   Money:  1100000\n",
      "Brand:  BMW   Money:  1100000\n",
      "Brand:  Opel   Money:  999999\n",
      "Brand:  Skoda   Money:  999999\n",
      "Brand:  Ford   Money:  849000\n",
      "Brand:  Toyota   Money:  665000\n",
      "Brand:  Chevrolet   Money:  554900\n",
      "Brand:  Volkswagen   Money:  535851\n",
      "Brand:  Volvo   Money:  489500\n",
      "Brand:  Alfa-Romeo   Money:  446890\n",
      "Brand:  Fiat   Money:  389950\n",
      "Brand:  Peugeot   Money:  311100\n",
      "Brand:  Renault   Money:  284000\n",
      "Brand:  Nissan   Money:  279000\n",
      "Brand:  Kia   Money:  270000\n",
      "Brand:  Mini   Money:  245800\n",
      "Brand:  Mitsubishi   Money:  225029\n",
      "Brand:  Hyundai   Money:  219200\n",
      "Brand:  Honda   Money:  201900\n",
      "Brand:  Mazda   Money:  199592\n",
      "Brand:  Citroen   Money:  197900\n",
      "Brand:  Seat   Money:  195000\n"
     ]
    }
   ],
   "source": [
    "FirstCarsdf_pyspark_pol = RNdf_pyspark_pol.filter(RNdf_pyspark_pol['RN'] == 1).orderBy(desc(\"Money\"))\n",
    "data_collectPL = FirstCarsdf_pyspark_pol.collect()\n",
    "\n",
    "for row in data_collectPL:\n",
    "    print(\"Brand: \",row[\"Brand\"], \" \",\"Money: \", row[\"Money\"])"
   ]
  },
  {
   "cell_type": "markdown",
   "id": "49ae83eb",
   "metadata": {},
   "source": [
    "##### Looking for min values of kilometres"
   ]
  },
  {
   "cell_type": "code",
   "execution_count": 269,
   "id": "7b4956f5",
   "metadata": {},
   "outputs": [
    {
     "name": "stdout",
     "output_type": "stream",
     "text": [
      "+-----+----------+----+----------+--------+-------------+------+---+\n",
      "|Brand|     Model|Year|Kilometers|FuelType|     Province| Money| RN|\n",
      "+-----+----------+----+----------+--------+-------------+------+---+\n",
      "| Audi|        A3|2021|         0|Gasoline|     Opolskie|137954|  1|\n",
      "| Audi|        A3|2021|         0|Gasoline|Wielkopolskie|175950|  2|\n",
      "| Audi|        A3|2021|         0|  Diesel|Wielkopolskie|218300|  3|\n",
      "| Audi|        A4|2021|         0|Gasoline|Wielkopolskie|186050|  4|\n",
      "| Audi|        A4|2021|         0|Gasoline|Wielkopolskie|186050|  5|\n",
      "| Audi|        A4|2021|         0|Gasoline|Wielkopolskie|186050|  6|\n",
      "| Audi|        A4|2021|         0|Gasoline|Wielkopolskie|186050|  7|\n",
      "| Audi|        A4|2021|         0|  Diesel|  Mazowieckie|229228|  8|\n",
      "| Audi|        A4|2021|         0|Gasoline|Wielkopolskie|187100|  9|\n",
      "| Audi|        A4|2022|         0|Gasoline|      Śląskie|176955| 10|\n",
      "| Audi|        A4|2021|         0|  Diesel|  Mazowieckie|249542| 11|\n",
      "| Audi|        A4|2022|         0|  Diesel|      Śląskie|181984| 12|\n",
      "| Audi|A4-allroad|2021|         0|  Diesel|  Mazowieckie|275533| 13|\n",
      "| Audi|        A5|2021|         0|  Diesel|  Mazowieckie|208201| 14|\n",
      "| Audi|        A5|2021|         0|Gasoline|      Śląskie|245556| 15|\n",
      "| Audi|        A5|2021|         0|  Diesel|     Opolskie|265832| 16|\n",
      "| Audi|        A6|2021|         0|  Diesel|Wielkopolskie|258750| 17|\n",
      "| Audi|        A6|2021|         0|  Diesel|  Mazowieckie|274113| 18|\n",
      "| Audi|        A6|2021|         0|  Diesel|Wielkopolskie|271400| 19|\n",
      "| Audi|        A6|2021|         0|  Diesel|Wielkopolskie|325600| 20|\n",
      "+-----+----------+----+----------+--------+-------------+------+---+\n",
      "only showing top 20 rows\n",
      "\n"
     ]
    }
   ],
   "source": [
    "windowSpec = Window.partitionBy(col(\"Brand\")).orderBy(col(\"Kilometers\"))\n",
    "\n",
    "KMdf_pyspark_polSELECTColumns = df_pyspark_polSELECTColumns.withColumn(\"RN\", row_number().over(windowSpec))\n",
    "KMdf_pyspark_polSELECTColumns.show()"
   ]
  },
  {
   "cell_type": "code",
   "execution_count": 270,
   "id": "d7b69a4e",
   "metadata": {},
   "outputs": [
    {
     "name": "stdout",
     "output_type": "stream",
     "text": [
      "+-------------+--------------+----+----------+--------+------------------+------+---+\n",
      "|        Brand|         Model|Year|Kilometers|FuelType|          Province| Money| RN|\n",
      "+-------------+--------------+----+----------+--------+------------------+------+---+\n",
      "|         Audi|            A3|2021|         0|Gasoline|          Opolskie|137954|  1|\n",
      "|    Chevrolet|        Camaro|2021|        10|Gasoline|           Śląskie|249900|  1|\n",
      "|        Honda|          Cr-v|2021|         1|  Hybrid|           Śląskie|177600|  1|\n",
      "|      Hyundai|           I30|2022|         0|Gasoline|       Małopolskie| 99200|  1|\n",
      "|          Kia|          Ceed|2021|         1|Gasoline|      Dolnośląskie| 85390|  1|\n",
      "|         Mini|       Clubman|2021|         0|Gasoline|      Podkarpackie|172200|  1|\n",
      "|   Mitsubishi| Eclipse-cross|2021|         0|  Hybrid|       Mazowieckie|204890|  1|\n",
      "|      Peugeot|           508|2021|         0|  Diesel|Zachodniopomorskie|173800|  1|\n",
      "|   Volkswagen|        Arteon|2022|         0|  Diesel|       Mazowieckie|208790|  1|\n",
      "|        Volvo|           S60|2022|         1|Gasoline|           Śląskie|184700|  1|\n",
      "|   Alfa-Romeo|        Giulia|2021|         0|Gasoline|       Mazowieckie|221900|  1|\n",
      "|          BMW|            I3|2021|         0|Electric|      Dolnośląskie|199900|  1|\n",
      "|      Citroen|   C3-aircross|2021|         1|Gasoline|           Śląskie| 90500|  1|\n",
      "|         Fiat|           500|2021|         0|Electric|       Mazowieckie|154690|  1|\n",
      "|         Ford|Tourneo-custom|2022|         0|  Diesel|       Mazowieckie|199000|  1|\n",
      "|        Mazda|             2|2021|         1|Gasoline|       Mazowieckie| 98109|  1|\n",
      "|Mercedes-Benz|        Amg-gt|2021|         0|Gasoline|     Wielkopolskie|811341|  1|\n",
      "|       Nissan|          Leaf|2021|         0|Electric|           Śląskie|129300|  1|\n",
      "|         Opel|         Astra|2021|         0|  Diesel|           Śląskie| 91600|  1|\n",
      "|      Renault|        Captur|2021|         0|Gasoline|       Mazowieckie| 88400|  1|\n",
      "|         Seat|         Arona|2021|         0|Gasoline|      Dolnośląskie| 91017|  1|\n",
      "|        Skoda|         Enyaq|2021|         0|Electric|           Śląskie|287405|  1|\n",
      "|       Toyota|          Aygo|2021|         1|Gasoline|           Śląskie| 49000|  1|\n",
      "+-------------+--------------+----+----------+--------+------------------+------+---+\n",
      "\n"
     ]
    }
   ],
   "source": [
    "KMdf_pyspark_polSELECTColumns.filter(KMdf_pyspark_polSELECTColumns['RN'] == 1).show(35)"
   ]
  },
  {
   "cell_type": "code",
   "execution_count": 271,
   "id": "b850abaf",
   "metadata": {},
   "outputs": [],
   "source": [
    "columns = ['Brand','Year']\n",
    "windowSpec1 = Window.partitionBy([col(x) for x in columns]).orderBy(col(\"Money\").desc())\n",
    "RNdf_pyspark_polBrandYear = df_pyspark_polSELECTColumns.withColumn(\"RN\",row_number().over(windowSpec1))"
   ]
  },
  {
   "cell_type": "code",
   "execution_count": 272,
   "id": "56d42515",
   "metadata": {},
   "outputs": [
    {
     "name": "stdout",
     "output_type": "stream",
     "text": [
      "+----------+-----+----+----------+--------+------------------+-----+---+\n",
      "|     Brand|Model|Year|Kilometers|FuelType|          Province|Money| RN|\n",
      "+----------+-----+----+----------+--------+------------------+-----+---+\n",
      "|Alfa-Romeo|  147|2001|    200000|Gasoline|       Mazowieckie| 4500|  1|\n",
      "|Alfa-Romeo|  147|2001|    246497|Gasoline|    Świętokrzyskie| 3800|  2|\n",
      "|Alfa-Romeo|  147|2001|    196000|Gasoline|       Małopolskie| 2900|  3|\n",
      "|Alfa-Romeo|  147|2001|    266000|  Diesel|     Wielkopolskie| 1800|  4|\n",
      "|Alfa-Romeo|  147|2004|    129521|Gasoline|       Mazowieckie| 6999|  1|\n",
      "|Alfa-Romeo|  147|2004|    185000|     LPG|           Śląskie| 5000|  2|\n",
      "|Alfa-Romeo|  147|2004|    223800|Gasoline|    Świętokrzyskie| 4900|  3|\n",
      "|Alfa-Romeo|  147|2004|    161000|     LPG|         Lubelskie| 4900|  4|\n",
      "|Alfa-Romeo|  159|2005|    123044|Gasoline|    Świętokrzyskie|16900|  1|\n",
      "|Alfa-Romeo|  159|2005|    173000|  Diesel|           Śląskie|16300|  2|\n",
      "|Alfa-Romeo|  159|2005|    224910|  Diesel|           Śląskie|14900|  3|\n",
      "|Alfa-Romeo|  159|2005|    148000|Gasoline|      Dolnośląskie|14800|  4|\n",
      "|Alfa-Romeo|  159|2005|    191283|Gasoline|           Śląskie|11300|  5|\n",
      "|Alfa-Romeo|  147|2005|    106146|Gasoline|Kujawsko-pomorskie| 9900|  6|\n",
      "|Alfa-Romeo|  147|2005|    176000|Gasoline|           Śląskie| 8999|  7|\n",
      "|Alfa-Romeo|  147|2005|    225862|  Diesel|         Pomorskie| 8900|  8|\n",
      "|Alfa-Romeo|  147|2005|    210000|     LPG|      Dolnośląskie| 8500|  9|\n",
      "|Alfa-Romeo|  147|2005|    192000|Gasoline|      Dolnośląskie| 5500| 10|\n",
      "|Alfa-Romeo|  159|2007|    267000|  Diesel|Zachodniopomorskie|30000|  1|\n",
      "|Alfa-Romeo|  159|2007|    175000|  Diesel|       Mazowieckie|26900|  2|\n",
      "+----------+-----+----+----------+--------+------------------+-----+---+\n",
      "only showing top 20 rows\n",
      "\n"
     ]
    }
   ],
   "source": [
    "RNdf_pyspark_polBrandYear.show()"
   ]
  },
  {
   "cell_type": "code",
   "execution_count": 273,
   "id": "6ad34053",
   "metadata": {
    "scrolled": true
   },
   "outputs": [
    {
     "name": "stdout",
     "output_type": "stream",
     "text": [
      "+-------------+--------------+----+----------+--------+------------------+-------+---+\n",
      "|        Brand|         Model|Year|Kilometers|FuelType|          Province|  Money| RN|\n",
      "+-------------+--------------+----+----------+--------+------------------+-------+---+\n",
      "|          BMW|          X6-m|2022|        20|Gasoline|         Pomorskie|1100000|  1|\n",
      "|Mercedes-Benz|       S-klasa|2022|         2|Gasoline|      Dolnośląskie|1036270|  1|\n",
      "|         Audi|           Rs6|2022|         5|Gasoline|           Łódzkie| 843000|  1|\n",
      "|   Volkswagen|       Touareg|2022|         1|  Diesel|       Mazowieckie| 468470|  1|\n",
      "|   Alfa-Romeo|        Giulia|2022|         5|Gasoline|       Mazowieckie| 446890|  1|\n",
      "|        Volvo|         Xc-90|2022|         1|  Hybrid|           Śląskie| 405300|  1|\n",
      "|         Ford|Mustang-mach-e|2022|         5|Electric|      Dolnośląskie| 351000|  1|\n",
      "|      Peugeot|           508|2022|         2|  Hybrid|         Podlaskie| 306000|  1|\n",
      "|       Nissan|        Patrol|2022|        50|Gasoline|       Małopolskie| 269000|  1|\n",
      "|        Skoda|         Enyaq|2022|         5|Electric|           Łódzkie| 247900|  1|\n",
      "|       Toyota|  Proace-verso|2022|         5|  Diesel|      Dolnośląskie| 227000|  1|\n",
      "|          Kia|      Sportage|2022|         5|  Hybrid|Kujawsko-pomorskie| 222400|  1|\n",
      "|      Hyundai|        Tucson|2022|         5|  Hybrid|     Wielkopolskie| 219200|  1|\n",
      "|         Mini|    Countryman|2022|         5|Gasoline|           Śląskie| 210400|  1|\n",
      "|      Renault|        Trafic|2022|        10|  Diesel|           Śląskie| 206000|  1|\n",
      "|         Seat|         Ateca|2022|         5|Gasoline|           Łódzkie| 171900|  1|\n",
      "|         Fiat|           500|2022|         1|Electric|           Śląskie| 169900|  1|\n",
      "|        Mazda|          Cx-5|2022|         1|Gasoline|     Wielkopolskie| 165100|  1|\n",
      "|        Honda|          Hr-v|2022|         5|  Hybrid|          Lubuskie| 154900|  1|\n",
      "|         Opel|   Grandland-x|2022|         5|Gasoline|           Łódzkie| 144700|  1|\n",
      "|      Citroen|            C5|2022|         2|Gasoline|           Śląskie| 135900|  1|\n",
      "|         Audi|           Rs6|2021|        20|Gasoline|       Mazowieckie|1100000|  1|\n",
      "|Mercedes-Benz|        Amg-gt|2021|      6097|Gasoline|     Wielkopolskie|1090000|  1|\n",
      "|          BMW|            M5|2021|        58|Gasoline|           Śląskie| 979000|  1|\n",
      "|       Toyota|  Land-cruiser|2021|        25|  Diesel|     Wielkopolskie| 665000|  1|\n",
      "|         Ford|       Mustang|2021|       500|Gasoline|       Mazowieckie| 650000|  1|\n",
      "|    Chevrolet|        Camaro|2021|        50|Gasoline|      Dolnośląskie| 554900|  1|\n",
      "|   Volkswagen|    California|2021|         1|  Diesel|         Pomorskie| 535851|  1|\n",
      "|        Volvo|         Xc-90|2021|        10|  Hybrid|       Mazowieckie| 489500|  1|\n",
      "|   Alfa-Romeo|        Giulia|2021|         5|Gasoline|     Wielkopolskie| 436200|  1|\n",
      "|         Fiat|          Tipo|2021|         1|Gasoline|           Śląskie| 389950|  1|\n",
      "|      Peugeot|           508|2021|         1|  Hybrid|       Mazowieckie| 311100|  1|\n",
      "|        Skoda|         Enyaq|2021|         1|Electric|           Śląskie| 302380|  1|\n",
      "|      Renault|        Trafic|2021|         1|  Diesel|         Pomorskie| 284000|  1|\n",
      "|       Nissan|        Patrol|2021|        25|Gasoline|     Wielkopolskie| 279000|  1|\n",
      "|          Kia|       Stinger|2021|     13400|Gasoline|       Mazowieckie| 270000|  1|\n",
      "|         Mini|    Countryman|2021|         5|Gasoline|           Łódzkie| 245800|  1|\n",
      "|   Mitsubishi| Eclipse-cross|2021|         1|  Hybrid|       Mazowieckie| 225029|  1|\n",
      "|         Opel|   Grandland-x|2021|       493|  Hybrid|           Łódzkie| 209000|  1|\n",
      "|        Honda|          Cr-v|2021|         5|  Hybrid|           Łódzkie| 201900|  1|\n",
      "|        Mazda|          Cx-5|2021|     26600|Gasoline|           Śląskie| 199592|  1|\n",
      "|      Citroen|   C5-aircross|2021|         5|Gasoline|     Wielkopolskie| 197900|  1|\n",
      "|      Hyundai|        Tucson|2021|        10|Gasoline|       Małopolskie| 186600|  1|\n",
      "|         Seat|         Ateca|2021|         5|Gasoline|Kujawsko-pomorskie| 170505|  1|\n",
      "|Mercedes-Benz|        Amg-gt|2020|     16000|Gasoline|         Pomorskie|1100000|  1|\n",
      "|         Audi|           Rs6|2020|     48000|Gasoline|           Śląskie| 899900|  1|\n",
      "|         Ford|       Mustang|2020|        50|Gasoline|      Dolnośląskie| 849000|  1|\n",
      "|          BMW|            M8|2020|      8600|Gasoline|     Wielkopolskie| 729000|  1|\n",
      "|   Volkswagen|       Touareg|2020|      9500|Gasoline|         Pomorskie| 449900|  1|\n",
      "|        Volvo|           V90|2020|      2579|Gasoline|         Lubelskie| 359000|  1|\n",
      "+-------------+--------------+----+----------+--------+------------------+-------+---+\n",
      "only showing top 50 rows\n",
      "\n"
     ]
    }
   ],
   "source": [
    "RNdf_pyspark_polBrandYear.filter(RNdf_pyspark_polBrandYear['RN'] == 1).sort(['Year','Money'],\n",
    "                                                                            ascending=False).show(50)"
   ]
  },
  {
   "cell_type": "markdown",
   "id": "cb654105",
   "metadata": {},
   "source": [
    "##### Calculating Total Money by Brand"
   ]
  },
  {
   "cell_type": "code",
   "execution_count": 274,
   "id": "2c82868f",
   "metadata": {
    "scrolled": true
   },
   "outputs": [
    {
     "name": "stdout",
     "output_type": "stream",
     "text": [
      "+----------+-----+--------------------+\n",
      "|     Brand|Money|Total Money by Brand|\n",
      "+----------+-----+--------------------+\n",
      "|Alfa-Romeo| 5000|            49028720|\n",
      "|Alfa-Romeo| 8999|            49028720|\n",
      "|Alfa-Romeo| 4000|            49028720|\n",
      "|Alfa-Romeo| 6900|            49028720|\n",
      "|Alfa-Romeo| 5000|            49028720|\n",
      "|Alfa-Romeo| 2999|            49028720|\n",
      "|Alfa-Romeo| 8500|            49028720|\n",
      "|Alfa-Romeo| 9450|            49028720|\n",
      "|Alfa-Romeo| 2900|            49028720|\n",
      "|Alfa-Romeo|12900|            49028720|\n",
      "|Alfa-Romeo| 3800|            49028720|\n",
      "|Alfa-Romeo| 8500|            49028720|\n",
      "|Alfa-Romeo| 2200|            49028720|\n",
      "|Alfa-Romeo| 9500|            49028720|\n",
      "|Alfa-Romeo| 4900|            49028720|\n",
      "|Alfa-Romeo| 8900|            49028720|\n",
      "|Alfa-Romeo| 6900|            49028720|\n",
      "|Alfa-Romeo| 9500|            49028720|\n",
      "|Alfa-Romeo| 9900|            49028720|\n",
      "|Alfa-Romeo| 9900|            49028720|\n",
      "+----------+-----+--------------------+\n",
      "only showing top 20 rows\n",
      "\n"
     ]
    }
   ],
   "source": [
    "windowSpec = Window.partitionBy(col('Brand'))\n",
    "df_pyspark_polSELECTColumns.withColumn(\"Total Money by Brand\",\n",
    "                                      sum(df_pyspark_polSELECTColumns['Money'])\\\n",
    "                                       .over(windowSpec)).select('Brand','Money','Total Money by Brand').show()\n"
   ]
  },
  {
   "cell_type": "code",
   "execution_count": 275,
   "id": "c88a4d4f",
   "metadata": {
    "scrolled": true
   },
   "outputs": [
    {
     "name": "stdout",
     "output_type": "stream",
     "text": [
      "+-------------+--------------------+\n",
      "|        Brand|Total Money by Brand|\n",
      "+-------------+--------------------+\n",
      "|   Alfa-Romeo|            49028720|\n",
      "|         Audi|          1263474400|\n",
      "|          BMW|          1359804507|\n",
      "|    Chevrolet|            24494629|\n",
      "|      Citroen|            92746906|\n",
      "|         Fiat|           113259388|\n",
      "|         Ford|           500605817|\n",
      "|        Honda|           111726400|\n",
      "|      Hyundai|           221076288|\n",
      "|          Kia|           223585167|\n",
      "|        Mazda|           163297136|\n",
      "|Mercedes-Benz|           994165750|\n",
      "|         Mini|            78585433|\n",
      "|   Mitsubishi|            57216075|\n",
      "|       Nissan|           152481579|\n",
      "|         Opel|           418296342|\n",
      "|      Peugeot|           238363263|\n",
      "|      Renault|           314159448|\n",
      "|         Seat|           115058474|\n",
      "|        Skoda|           362033160|\n",
      "|       Toyota|           279322166|\n",
      "|   Volkswagen|           668383098|\n",
      "|        Volvo|           485458530|\n",
      "+-------------+--------------------+\n",
      "\n"
     ]
    }
   ],
   "source": [
    "windowSpec = Window.partitionBy(col('Brand'))\n",
    "df_pyspark_polSELECTColumns.withColumn(\"Total Money by Brand\",\n",
    "                                      sum(df_pyspark_polSELECTColumns['Money'])\\\n",
    "                                       .over(windowSpec)).select('Brand','Total Money by Brand').distinct().show(35)\n"
   ]
  },
  {
   "cell_type": "markdown",
   "id": "5e1fb60d",
   "metadata": {},
   "source": [
    "##### Using lag & lead functions to observe previous and next year for all cars"
   ]
  },
  {
   "cell_type": "code",
   "execution_count": 276,
   "id": "414136f2",
   "metadata": {},
   "outputs": [
    {
     "name": "stdout",
     "output_type": "stream",
     "text": [
      "+----+----------+-----------------+-------------+\n",
      "|Year|     Money|PreviousYearMoney|NextYearMonet|\n",
      "+----+----------+-----------------+-------------+\n",
      "|1945|     40900|             null|       149900|\n",
      "|1952|    149900|            40900|       258900|\n",
      "|1964|    258900|           149900|       599500|\n",
      "|1965|    599500|           258900|       940900|\n",
      "|1966|    940900|           599500|       508900|\n",
      "|1967|    508900|           940900|      1109700|\n",
      "|1968|   1109700|           508900|       223900|\n",
      "|1969|    223900|          1109700|       263100|\n",
      "|1970|    263100|           223900|        69200|\n",
      "|1971|     69200|           263100|        98000|\n",
      "|1972|     98000|            69200|       183998|\n",
      "|1973|    183998|            98000|        21900|\n",
      "|1974|     21900|           183998|       100500|\n",
      "|1978|    100500|            21900|        41000|\n",
      "|1981|     41000|           100500|        45900|\n",
      "|1983|     45900|            41000|        35800|\n",
      "|1985|     35800|            45900|        75900|\n",
      "|1986|     75900|            35800|        34400|\n",
      "|1987|     34400|            75900|       400150|\n",
      "|1988|    400150|            34400|       235597|\n",
      "|1989|    235597|           400150|       821597|\n",
      "|1990|    821597|           235597|       722473|\n",
      "|1991|    722473|           821597|      1093437|\n",
      "|1992|   1093437|           722473|       838152|\n",
      "|1993|    838152|          1093437|       896884|\n",
      "|1994|    896884|           838152|      1277714|\n",
      "|1995|   1277714|           896884|      2632292|\n",
      "|1996|   2632292|          1277714|      2370500|\n",
      "|1997|   2370500|          2632292|      3412851|\n",
      "|1998|   3412851|          2370500|      4470687|\n",
      "|1999|   4470687|          3412851|      6119643|\n",
      "|2000|   6119643|          4470687|      8862166|\n",
      "|2001|   8862166|          6119643|     15522612|\n",
      "|2002|  15522612|          8862166|     23621380|\n",
      "|2003|  23621380|         15522612|     39353928|\n",
      "|2004|  39353928|         23621380|     56106255|\n",
      "|2005|  56106255|         39353928|     83849706|\n",
      "|2006|  83849706|         56106255|    113205227|\n",
      "|2007| 113205227|         83849706|    145300415|\n",
      "|2008| 145300415|        113205227|    164729281|\n",
      "|2009| 164729281|        145300415|    188600382|\n",
      "|2010| 188600382|        164729281|    217784162|\n",
      "|2011| 217784162|        188600382|    250964603|\n",
      "|2012| 250964603|        217784162|    248204461|\n",
      "|2013| 248204461|        250964603|    305660544|\n",
      "|2014| 305660544|        248204461|    382540282|\n",
      "|2015| 382540282|        305660544|    528542947|\n",
      "|2016| 528542947|        382540282|    790565697|\n",
      "|2017| 790565697|        528542947|    897114672|\n",
      "|2018| 897114672|        790565697|    671259383|\n",
      "|2019| 671259383|        897114672|    610651324|\n",
      "|2020| 610651324|        671259383|   2091497786|\n",
      "|2021|2091497786|        610651324|    422591188|\n",
      "|2022| 422591188|       2091497786|         null|\n",
      "+----+----------+-----------------+-------------+\n",
      "\n"
     ]
    }
   ],
   "source": [
    "df_pyspark_polSELECTColumnsLAGLEAD = df_pyspark_polSELECTColumns.groupBy(\"Year\").agg(sum(df_pyspark_polSELECTColumns[\"Money\"]).alias(\"Money\"))\n",
    "df_pyspark_polSELECTColumnsLAGLEAD.select(df_pyspark_polSELECTColumnsLAGLEAD[\"Year\"],df_pyspark_polSELECTColumnsLAGLEAD[\"Money\"],\n",
    "                                         lag(\"Money\").over(Window.orderBy(\"Year\")).alias(\"PreviousYearMoney\"),\n",
    "                                         lead(\"Money\").over(Window.orderBy(\"Year\")).alias(\"NextYearMonet\")).show(100)"
   ]
  },
  {
   "cell_type": "code",
   "execution_count": 277,
   "id": "16eb17cb",
   "metadata": {},
   "outputs": [
    {
     "name": "stdout",
     "output_type": "stream",
     "text": [
      "+-------------+-------+----+----------+--------+-------------+-------+\n",
      "|        Brand|  Model|Year|Kilometers|FuelType|     Province|  Money|\n",
      "+-------------+-------+----+----------+--------+-------------+-------+\n",
      "|Mercedes-Benz|S-klasa|2017|       400|Gasoline|  Mazowieckie|2399900|\n",
      "|Mercedes-Benz|S-klasa|2019|     12000|Gasoline|Wielkopolskie|1966770|\n",
      "|Mercedes-Benz|S-klasa|2018|        21|Gasoline|  Mazowieckie|1550000|\n",
      "|Mercedes-Benz| Amg-gt|2019|     28500|Gasoline|Wielkopolskie|1368341|\n",
      "|         Audi|    Rs6|2021|        20|Gasoline|  Mazowieckie|1100000|\n",
      "|Mercedes-Benz| Amg-gt|2020|     16000|Gasoline|    Pomorskie|1100000|\n",
      "|          BMW|   X6-m|2022|        20|Gasoline|    Pomorskie|1100000|\n",
      "|Mercedes-Benz| Amg-gt|2020|     16000|Gasoline|    Pomorskie|1100000|\n",
      "|Mercedes-Benz| Amg-gt|2021|      6097|Gasoline|Wielkopolskie|1090000|\n",
      "|Mercedes-Benz| Amg-gt|2021|      6097|Gasoline|Wielkopolskie|1090000|\n",
      "+-------------+-------+----+----------+--------+-------------+-------+\n",
      "\n"
     ]
    }
   ],
   "source": [
    "cte = df_pyspark_polSELECTColumns.select(\"*\").sort(desc(\"Money\")).limit(10)\n",
    "cte.show()"
   ]
  },
  {
   "cell_type": "code",
   "execution_count": 278,
   "id": "b3bd0adb",
   "metadata": {},
   "outputs": [
    {
     "name": "stdout",
     "output_type": "stream",
     "text": [
      "+-----+-----+----------+\n",
      "|Brand|Money|Money Text|\n",
      "+-----+-----+----------+\n",
      "| Opel|35900|     35900|\n",
      "| Opel|78501|     78501|\n",
      "| Opel|27000|     27000|\n",
      "| Opel|30800|     30800|\n",
      "| Opel|35900|     35900|\n",
      "| Opel|51900|     51900|\n",
      "| Opel|44700|     44700|\n",
      "| Opel|29000|     29000|\n",
      "| Opel|28900|     28900|\n",
      "| Opel|34900|     34900|\n",
      "| Opel|24800|     24800|\n",
      "| Opel|39900|     39900|\n",
      "| Opel|35900|     35900|\n",
      "| Opel|55300|     55300|\n",
      "| Opel|34700|     34700|\n",
      "| Opel|39900|     39900|\n",
      "| Opel|25900|     25900|\n",
      "| Opel|32900|     32900|\n",
      "| Opel|62000|     62000|\n",
      "| Opel|39852|     39852|\n",
      "| Opel|44990|     44990|\n",
      "| Opel|15500|     15500|\n",
      "| Opel|40900|     40900|\n",
      "| Opel|53600|     53600|\n",
      "| Opel|37500|     37500|\n",
      "| Opel|39900|     39900|\n",
      "| Opel|39975|     39975|\n",
      "| Opel|20999|     20999|\n",
      "| Opel|39000|     39000|\n",
      "| Opel|62000|     62000|\n",
      "| Opel|53874|     53874|\n",
      "| Opel|38900|     38900|\n",
      "| Opel|35900|     35900|\n",
      "| Opel|78501|     78501|\n",
      "| Opel|27000|     27000|\n",
      "| Opel|30800|     30800|\n",
      "| Opel|35900|     35900|\n",
      "| Opel|51900|     51900|\n",
      "| Opel|44700|     44700|\n",
      "| Opel|29000|     29000|\n",
      "| Opel|28900|     28900|\n",
      "| Opel|34900|     34900|\n",
      "| Opel|24800|     24800|\n",
      "| Opel|39900|     39900|\n",
      "| Opel|35900|     35900|\n",
      "| Opel|55300|     55300|\n",
      "| Opel|34700|     34700|\n",
      "| Opel|39900|     39900|\n",
      "| Opel|25900|     25900|\n",
      "| Opel|32900|     32900|\n",
      "+-----+-----+----------+\n",
      "only showing top 50 rows\n",
      "\n"
     ]
    }
   ],
   "source": [
    "df_pyspark_polSELECTColumns.withColumn(\"Money Text\",df_pyspark_polSELECTColumns[\"Money\"].cast(\"string\"))\\\n",
    ".select(\"Brand\",\"Money\",\"Money Text\").show(50)"
   ]
  },
  {
   "cell_type": "code",
   "execution_count": 279,
   "id": "0a926e88",
   "metadata": {},
   "outputs": [
    {
     "name": "stdout",
     "output_type": "stream",
     "text": [
      "+-----+-----+----+----------+--------+-------------------+-----+\n",
      "|Brand|Model|Year|Kilometers|FuelType|           Province|Money|\n",
      "+-----+-----+----+----------+--------+-------------------+-----+\n",
      "| Opel|Combo|2015|    139568|  Diesel|        Mazowieckie|35900|\n",
      "| Opel|Combo|2018|     31991|  Diesel|            Śląskie|78501|\n",
      "| Opel|Combo|2015|    278437|  Diesel|           Opolskie|27000|\n",
      "| Opel|Combo|2016|     47600|  Diesel|           Opolskie|30800|\n",
      "| Opel|Combo|2014|    103000|     CNG|            Śląskie|35900|\n",
      "| Opel|Combo|2017|    121203|  Diesel|        Mazowieckie|51900|\n",
      "| Opel|Combo|2017|    119965|  Diesel|       Dolnośląskie|44700|\n",
      "| Opel|Combo|2016|    201658|  Diesel|          Lubelskie|29000|\n",
      "| Opel|Combo|2014|    178666|  Diesel|      Wielkopolskie|28900|\n",
      "| Opel|Combo|2015|    113000|  Diesel|        Mazowieckie|34900|\n",
      "| Opel|Combo|2012|    237000|  Diesel|Warmińsko-mazurskie|24800|\n",
      "| Opel|Combo|2017|    137000|  Diesel|        Mazowieckie|39900|\n",
      "| Opel|Combo|2016|    154000|  Diesel|            Śląskie|35900|\n",
      "| Opel|Combo|2017|     59339|  Diesel|       Dolnośląskie|55300|\n",
      "| Opel|Combo|2016|    137445|  Diesel|           Opolskie|34700|\n",
      "| Opel|Combo|2016|    141859|  Diesel|            Śląskie|39900|\n",
      "| Opel|Combo|2012|    195000|  Diesel|        Mazowieckie|25900|\n",
      "| Opel|Combo|2015|    180000|  Diesel|       Dolnośląskie|32900|\n",
      "| Opel|Combo|2018|    107515|  Diesel|        Mazowieckie|62000|\n",
      "| Opel|Combo|2017|    149000|  Diesel|        Mazowieckie|39852|\n",
      "+-----+-----+----+----------+--------+-------------------+-----+\n",
      "only showing top 20 rows\n",
      "\n"
     ]
    }
   ],
   "source": [
    "df_pyspark_polSELECTColumns.show()"
   ]
  },
  {
   "cell_type": "code",
   "execution_count": 280,
   "id": "ad461d2b",
   "metadata": {},
   "outputs": [
    {
     "name": "stdout",
     "output_type": "stream",
     "text": [
      "root\n",
      " |-- Brand: string (nullable = true)\n",
      " |-- Model: string (nullable = true)\n",
      " |-- Year: integer (nullable = true)\n",
      " |-- Kilometers: integer (nullable = true)\n",
      " |-- FuelType: string (nullable = true)\n",
      " |-- Province: string (nullable = true)\n",
      " |-- Money: integer (nullable = true)\n",
      "\n"
     ]
    }
   ],
   "source": [
    "df_pyspark_polSELECTColumns.printSchema()"
   ]
  },
  {
   "cell_type": "markdown",
   "id": "9681f8b4",
   "metadata": {},
   "source": [
    "### df_pyspark_usa"
   ]
  },
  {
   "cell_type": "code",
   "execution_count": 281,
   "id": "9d3d784f",
   "metadata": {},
   "outputs": [
    {
     "name": "stdout",
     "output_type": "stream",
     "text": [
      "+----+-------------+---------------+---------+----------+-------------+-----+----------+-----+----------+\n",
      "|Year|        Model|       BodyType|     Gear|Kilometres|        Color|Money|     State|Abbrv|   Capital|\n",
      "+----+-------------+---------------+---------+----------+-------------+-----+----------+-----+----------+\n",
      "|2013|          Kia|            SUV|Automatic|   71662.0|        Black|14000|California|   CA|Sacramento|\n",
      "|2013|       Nissan|            SUV|Automatic|    7794.0|        White|18250|California|   CA|Sacramento|\n",
      "|2012|        Acura|      Hatchback|Automatic|   48115.0|        Black|28000|California|   CA|Sacramento|\n",
      "|2012|          BMW|            SUV|Automatic|   45760.0|        Black|36500|California|   CA|Sacramento|\n",
      "|2012|     Cadillac|            SUV|Automatic|   42547.0|        White|45750|California|   CA|Sacramento|\n",
      "|2012|   Land Rover|            SUV|Automatic|   19547.0|         Gray|46500|California|   CA|Sacramento|\n",
      "|2012|        Volvo|          Sedan|Automatic|   19529.0|         Gray|16000|California|   CA|Sacramento|\n",
      "|2011|          BMW|    Convertible|Automatic|   40681.0|        Black|30000|California|   CA|Sacramento|\n",
      "|2011|        Buick|          Sedan|Automatic|   67592.0|       Silver|13300|California|   CA|Sacramento|\n",
      "|2010|     Infiniti|G37 Convertible|Automatic|   25212.0|        Black|24750|California|   CA|Sacramento|\n",
      "|2008|          BMW|            SUV|Automatic|   71100.0|        Black|19750|California|   CA|Sacramento|\n",
      "|2007|         Ford|       SuperCab|Automatic|  102840.0|          Red| 6000|California|   CA|Sacramento|\n",
      "|2007|     Chrysler|          Wagon|Automatic|   88331.0|        Black| 2700|California|   CA|Sacramento|\n",
      "|2007|       Toyota|  Not Available|Automatic|   73321.0|         Blue| 7300|California|   CA|Sacramento|\n",
      "|2006|Mercedes-Benz|          Sedan|Automatic|  144503.0|         Blue| 5800|California|   CA|Sacramento|\n",
      "|2006|       Toyota|            SUV|Automatic|  129749.0|       Silver| 8100|California|   CA|Sacramento|\n",
      "|2005|        Acura|      Hatchback|Automatic|  207575.0|        Black| 2500|California|   CA|Sacramento|\n",
      "|2004|        Honda|          Sedan|Automatic|  127196.0|        Black| 4400|California|   CA|Sacramento|\n",
      "|2003|          BMW|          Coupe|Automatic|  114461.0|Not Available| 8400|California|   CA|Sacramento|\n",
      "|2003|       Nissan|          Sedan|Automatic|   82364.0|        Green| 2500|California|   CA|Sacramento|\n",
      "+----+-------------+---------------+---------+----------+-------------+-----+----------+-----+----------+\n",
      "only showing top 20 rows\n",
      "\n"
     ]
    }
   ],
   "source": [
    "df_pyspark_usa.show()"
   ]
  },
  {
   "cell_type": "code",
   "execution_count": 282,
   "id": "28689a41",
   "metadata": {},
   "outputs": [
    {
     "name": "stdout",
     "output_type": "stream",
     "text": [
      "+-------------+---------+-------------+----------+----------+----+-----+----------+\n",
      "|        Model|     Gear|        Color|     State|   Capital|Year|Money|Kilometres|\n",
      "+-------------+---------+-------------+----------+----------+----+-----+----------+\n",
      "|          Kia|Automatic|        Black|California|Sacramento|2013|14000|   71662.0|\n",
      "|       Nissan|Automatic|        White|California|Sacramento|2013|18250|    7794.0|\n",
      "|        Acura|Automatic|        Black|California|Sacramento|2012|28000|   48115.0|\n",
      "|          BMW|Automatic|        Black|California|Sacramento|2012|36500|   45760.0|\n",
      "|     Cadillac|Automatic|        White|California|Sacramento|2012|45750|   42547.0|\n",
      "|   Land Rover|Automatic|         Gray|California|Sacramento|2012|46500|   19547.0|\n",
      "|        Volvo|Automatic|         Gray|California|Sacramento|2012|16000|   19529.0|\n",
      "|          BMW|Automatic|        Black|California|Sacramento|2011|30000|   40681.0|\n",
      "|        Buick|Automatic|       Silver|California|Sacramento|2011|13300|   67592.0|\n",
      "|     Infiniti|Automatic|        Black|California|Sacramento|2010|24750|   25212.0|\n",
      "|          BMW|Automatic|        Black|California|Sacramento|2008|19750|   71100.0|\n",
      "|         Ford|Automatic|          Red|California|Sacramento|2007| 6000|  102840.0|\n",
      "|     Chrysler|Automatic|        Black|California|Sacramento|2007| 2700|   88331.0|\n",
      "|       Toyota|Automatic|         Blue|California|Sacramento|2007| 7300|   73321.0|\n",
      "|Mercedes-Benz|Automatic|         Blue|California|Sacramento|2006| 5800|  144503.0|\n",
      "|       Toyota|Automatic|       Silver|California|Sacramento|2006| 8100|  129749.0|\n",
      "|        Acura|Automatic|        Black|California|Sacramento|2005| 2500|  207575.0|\n",
      "|        Honda|Automatic|        Black|California|Sacramento|2004| 4400|  127196.0|\n",
      "|          BMW|Automatic|Not Available|California|Sacramento|2003| 8400|  114461.0|\n",
      "|       Nissan|Automatic|        Green|California|Sacramento|2003| 2500|   82364.0|\n",
      "+-------------+---------+-------------+----------+----------+----+-----+----------+\n",
      "only showing top 20 rows\n",
      "\n"
     ]
    }
   ],
   "source": [
    "df_pyspark_usaSELECTCol = df_pyspark_usa.select(\"Model\",\"Gear\",\"Color\",\"State\",\"Capital\",\"Year\",\"Money\",\"Kilometres\")\n",
    "df_pyspark_usaSELECTCol.show()"
   ]
  },
  {
   "cell_type": "code",
   "execution_count": 283,
   "id": "3a01a0cc",
   "metadata": {},
   "outputs": [
    {
     "name": "stdout",
     "output_type": "stream",
     "text": [
      "+-------------+-------------+------+------------+--------------+----+-----+----------+\n",
      "|        Model|         Gear| Color|       State|       Capital|Year|Money|Kilometres|\n",
      "+-------------+-------------+------+------------+--------------+----+-----+----------+\n",
      "|        Isuzu|Not Available|   Red|    Virginia|      Richmond|1995|    1|  254132.0|\n",
      "|         Ford|Not Available| White|  California|    Sacramento|2002|    1|      null|\n",
      "|         Ford|    Automatic| White|       Texas|        Austin|2014|    1|   31886.0|\n",
      "|Mercedes-Benz|    Automatic| Black|     Georgia|       Atlanta|2003|    1|       1.0|\n",
      "|   Mitsubishi|    Automatic|  Gray|  California|    Sacramento|1997|  100|  226034.0|\n",
      "|      Hyundai|    Automatic| White| Mississippi|       Jackson|2005|  100|  999999.0|\n",
      "|      Pontiac|    Automatic|Silver|      Hawaii|      Honolulu|2004|  100|  106495.0|\n",
      "|         Ford|    Automatic| White|  California|    Sacramento|1997|  100|  195748.0|\n",
      "|          BMW|    Automatic| White|  California|    Sacramento|1995|  100|  198766.0|\n",
      "|     Chrysler|    Automatic| Black|        Utah|Salt Lake City|2002|  100|   94937.0|\n",
      "|        Buick|    Automatic|Silver| Mississippi|       Jackson|2006|  100|  256040.0|\n",
      "|         Ford|Not Available|Silver|Pennsylvania|    Harrisburg|2002|  100|  132230.0|\n",
      "|    Chevrolet|    Automatic|  Gray|Pennsylvania|    Harrisburg|2003|  100|  215987.0|\n",
      "|    Chevrolet|    Automatic|   Red|  New Jersey|       Trenton|2003|  100|  186893.0|\n",
      "|       Nissan|    Automatic| White|      Hawaii|      Honolulu|2003|  100|  101792.0|\n",
      "|         Ford|    Automatic|Silver|      Hawaii|      Honolulu|2006|  100|   75389.0|\n",
      "|      Hyundai|    Automatic|Silver|  California|    Sacramento|2005|  100|  255438.0|\n",
      "|     Chrysler|    Automatic| White|      Hawaii|      Honolulu|2008|  100|   90335.0|\n",
      "|         Ford|Not Available|Silver|Pennsylvania|    Harrisburg|2002|  100|  164660.0|\n",
      "|      Mercury|Not Available| Green| Mississippi|       Jackson|1995|  100|  165658.0|\n",
      "+-------------+-------------+------+------------+--------------+----+-----+----------+\n",
      "only showing top 20 rows\n",
      "\n"
     ]
    }
   ],
   "source": [
    "df_pyspark_usaSELECTCol.orderBy(\"Money\").show()"
   ]
  },
  {
   "cell_type": "code",
   "execution_count": 284,
   "id": "905020ea",
   "metadata": {},
   "outputs": [
    {
     "name": "stdout",
     "output_type": "stream",
     "text": [
      "+-------------+---------+------+----------+--------------+----+------+----------+\n",
      "|        Model|     Gear| Color|     State|       Capital|Year| Money|Kilometres|\n",
      "+-------------+---------+------+----------+--------------+----+------+----------+\n",
      "|         Ford|Automatic| Green|  Missouri|Jefferson City|2014|230000|   27802.0|\n",
      "|      Ferrari|Automatic|   Red|   Florida|   Tallahassee|2011|183000|   12116.0|\n",
      "|Mercedes-Benz|Automatic| White|California|    Sacramento|2015|173000|    5277.0|\n",
      "|  Rolls-Royce|Automatic| White|   Florida|   Tallahassee|2013|171500|    7852.0|\n",
      "|  Rolls-Royce|Automatic| Black|   Florida|   Tallahassee|2012|169500|   14316.0|\n",
      "|  Rolls-Royce|Automatic| White|California|    Sacramento|2012|169000|   11832.0|\n",
      "|  Rolls-Royce|Automatic| White|California|    Sacramento|2012|167000|    5215.0|\n",
      "|          BMW|Automatic| White|California|    Sacramento|2014|165000|      60.0|\n",
      "|          BMW|Automatic| White|   Florida|   Tallahassee|2014|165000|     154.0|\n",
      "|      Bentley|Automatic| Black|   Florida|   Tallahassee|2013|163000|    2968.0|\n",
      "|  Rolls-Royce|Automatic| Black|California|    Sacramento|2011|163000|   12912.0|\n",
      "|          BMW|Automatic| White|California|    Sacramento|2014|161000|     303.0|\n",
      "|          BMW|Automatic| White|California|    Sacramento|2014|160000|     124.0|\n",
      "|          BMW|Automatic|  Gray|   Florida|   Tallahassee|2014|159000|     530.0|\n",
      "|          BMW|Automatic| White|California|    Sacramento|2014|158000|     603.0|\n",
      "|      Bentley|Automatic| Black|California|    Sacramento|2013|158000|    5593.0|\n",
      "|      Porsche|Automatic| White|California|    Sacramento|2014|157000|   11981.0|\n",
      "|Mercedes-Benz|Automatic|  Gray|   Florida|   Tallahassee|2013|156500|   15019.0|\n",
      "|      Ferrari|Automatic|Silver|   Florida|   Tallahassee|2012|156000|    8149.0|\n",
      "|  Rolls-Royce|Automatic| Black|California|    Sacramento|2011|155000|   22761.0|\n",
      "+-------------+---------+------+----------+--------------+----+------+----------+\n",
      "only showing top 20 rows\n",
      "\n"
     ]
    }
   ],
   "source": [
    "df_pyspark_usaSELECTCol.orderBy(desc(\"Money\")).show()"
   ]
  },
  {
   "cell_type": "code",
   "execution_count": 285,
   "id": "8681ffd7",
   "metadata": {},
   "outputs": [
    {
     "name": "stdout",
     "output_type": "stream",
     "text": [
      "+-------------+-------------+-------------+------------+--------------+----+------+----------+\n",
      "|        Model|         Gear|        Color|       State|       Capital|Year| Money|Kilometres|\n",
      "+-------------+-------------+-------------+------------+--------------+----+------+----------+\n",
      "|         Ford|    Automatic|        Green|    Missouri|Jefferson City|2014|230000|   27802.0|\n",
      "|      Ferrari|    Automatic|          Red|     Florida|   Tallahassee|2011|183000|   12116.0|\n",
      "|Mercedes-Benz|    Automatic|        White|  California|    Sacramento|2015|173000|    5277.0|\n",
      "|  Rolls-Royce|    Automatic|        White|     Florida|   Tallahassee|2013|171500|    7852.0|\n",
      "|  Rolls-Royce|    Automatic|        Black|     Florida|   Tallahassee|2012|169500|   14316.0|\n",
      "|  Rolls-Royce|    Automatic|        White|  California|    Sacramento|2012|169000|   11832.0|\n",
      "|  Rolls-Royce|    Automatic|        White|  California|    Sacramento|2012|167000|    5215.0|\n",
      "|          BMW|    Automatic|        White|  California|    Sacramento|2014|165000|      60.0|\n",
      "|          BMW|    Automatic|        White|     Florida|   Tallahassee|2014|165000|     154.0|\n",
      "|  Rolls-Royce|    Automatic|        Black|  California|    Sacramento|2011|163000|   12912.0|\n",
      "|      Bentley|    Automatic|        Black|     Florida|   Tallahassee|2013|163000|    2968.0|\n",
      "|          BMW|    Automatic|        White|  California|    Sacramento|2014|161000|     303.0|\n",
      "|          BMW|    Automatic|        White|  California|    Sacramento|2014|160000|     124.0|\n",
      "|          BMW|    Automatic|         Gray|     Florida|   Tallahassee|2014|159000|     530.0|\n",
      "|          BMW|    Automatic|        White|  California|    Sacramento|2014|158000|     603.0|\n",
      "|      Bentley|    Automatic|        Black|  California|    Sacramento|2013|158000|    5593.0|\n",
      "|      Porsche|    Automatic|        White|  California|    Sacramento|2014|157000|   11981.0|\n",
      "|Mercedes-Benz|    Automatic|         Gray|     Florida|   Tallahassee|2013|156500|   15019.0|\n",
      "|      Ferrari|    Automatic|       Silver|     Florida|   Tallahassee|2012|156000|    8149.0|\n",
      "|  Rolls-Royce|    Automatic|        Black|  California|    Sacramento|2011|155000|   22761.0|\n",
      "|      Bentley|Not Available|Not Available|Pennsylvania|    Harrisburg|2014|154750|   12139.0|\n",
      "|  Rolls-Royce|    Automatic|Not Available|  California|    Sacramento|2010|154000|   19836.0|\n",
      "|      Ferrari|    Automatic|         Gray|  California|    Sacramento|2012|154000|   10902.0|\n",
      "|      Bentley|Not Available|         Gray|Pennsylvania|    Harrisburg|2014|153250|    2343.0|\n",
      "|      Porsche|    Automatic|        White|     Florida|   Tallahassee|2014|152000|    5993.0|\n",
      "+-------------+-------------+-------------+------------+--------------+----+------+----------+\n",
      "\n"
     ]
    }
   ],
   "source": [
    "df_pyspark_usaSELECTCol.orderBy(desc(\"Money\")).limit(25).show(25)"
   ]
  },
  {
   "cell_type": "code",
   "execution_count": 286,
   "id": "bbbff54b",
   "metadata": {},
   "outputs": [
    {
     "name": "stdout",
     "output_type": "stream",
     "text": [
      "+-------------+---------+-------------+----------+----------+----+---------+----------+\n",
      "|        Model|     Gear|        Color|     State|   Capital|Year|Money USD|Kilometres|\n",
      "+-------------+---------+-------------+----------+----------+----+---------+----------+\n",
      "|          Kia|Automatic|        Black|California|Sacramento|2013|    14000|   71662.0|\n",
      "|       Nissan|Automatic|        White|California|Sacramento|2013|    18250|    7794.0|\n",
      "|        Acura|Automatic|        Black|California|Sacramento|2012|    28000|   48115.0|\n",
      "|          BMW|Automatic|        Black|California|Sacramento|2012|    36500|   45760.0|\n",
      "|     Cadillac|Automatic|        White|California|Sacramento|2012|    45750|   42547.0|\n",
      "|   Land Rover|Automatic|         Gray|California|Sacramento|2012|    46500|   19547.0|\n",
      "|        Volvo|Automatic|         Gray|California|Sacramento|2012|    16000|   19529.0|\n",
      "|          BMW|Automatic|        Black|California|Sacramento|2011|    30000|   40681.0|\n",
      "|        Buick|Automatic|       Silver|California|Sacramento|2011|    13300|   67592.0|\n",
      "|     Infiniti|Automatic|        Black|California|Sacramento|2010|    24750|   25212.0|\n",
      "|          BMW|Automatic|        Black|California|Sacramento|2008|    19750|   71100.0|\n",
      "|         Ford|Automatic|          Red|California|Sacramento|2007|     6000|  102840.0|\n",
      "|     Chrysler|Automatic|        Black|California|Sacramento|2007|     2700|   88331.0|\n",
      "|       Toyota|Automatic|         Blue|California|Sacramento|2007|     7300|   73321.0|\n",
      "|Mercedes-Benz|Automatic|         Blue|California|Sacramento|2006|     5800|  144503.0|\n",
      "|       Toyota|Automatic|       Silver|California|Sacramento|2006|     8100|  129749.0|\n",
      "|        Acura|Automatic|        Black|California|Sacramento|2005|     2500|  207575.0|\n",
      "|        Honda|Automatic|        Black|California|Sacramento|2004|     4400|  127196.0|\n",
      "|          BMW|Automatic|Not Available|California|Sacramento|2003|     8400|  114461.0|\n",
      "|       Nissan|Automatic|        Green|California|Sacramento|2003|     2500|   82364.0|\n",
      "+-------------+---------+-------------+----------+----------+----+---------+----------+\n",
      "only showing top 20 rows\n",
      "\n"
     ]
    }
   ],
   "source": [
    "df_pyspark_usaSELECTCol.withColumnRenamed(\"Money\",\"Money USD\").show()"
   ]
  },
  {
   "cell_type": "code",
   "execution_count": 287,
   "id": "6b6b5f1c",
   "metadata": {},
   "outputs": [
    {
     "name": "stdout",
     "output_type": "stream",
     "text": [
      "+-------------+-------------+-------------+------------+--------------+----+------+----------+\n",
      "|        Model|         Gear|        Color|       State|       Capital|Year| Money|Kilometres|\n",
      "+-------------+-------------+-------------+------------+--------------+----+------+----------+\n",
      "|      Ferrari|    Automatic|         Gray|  California|    Sacramento|2012|154000|   10902.0|\n",
      "|      Ferrari|    Automatic|       Silver|     Florida|   Tallahassee|2012|156000|    8149.0|\n",
      "|  Rolls-Royce|    Automatic|        Black|     Florida|   Tallahassee|2012|169500|   14316.0|\n",
      "|  Rolls-Royce|    Automatic|        Black|  California|    Sacramento|2011|163000|   12912.0|\n",
      "|  Rolls-Royce|    Automatic|Not Available|  California|    Sacramento|2010|154000|   19836.0|\n",
      "|          BMW|    Automatic|        White|  California|    Sacramento|2014|165000|      60.0|\n",
      "|          BMW|    Automatic|        White|     Florida|   Tallahassee|2014|165000|     154.0|\n",
      "|          BMW|    Automatic|        White|  California|    Sacramento|2014|160000|     124.0|\n",
      "|          BMW|    Automatic|         Gray|     Florida|   Tallahassee|2014|159000|     530.0|\n",
      "|          BMW|    Automatic|        White|  California|    Sacramento|2014|158000|     603.0|\n",
      "|      Bentley|    Automatic|        Black|     Florida|   Tallahassee|2013|163000|    2968.0|\n",
      "|         Ford|    Automatic|        Green|    Missouri|Jefferson City|2014|230000|   27802.0|\n",
      "|          BMW|    Automatic|        White|  California|    Sacramento|2014|161000|     303.0|\n",
      "|      Bentley|    Automatic|        Black|  California|    Sacramento|2013|158000|    5593.0|\n",
      "|      Porsche|    Automatic|        White|  California|    Sacramento|2014|157000|   11981.0|\n",
      "|  Rolls-Royce|    Automatic|        Black|  California|    Sacramento|2011|155000|   22761.0|\n",
      "|Mercedes-Benz|    Automatic|         Gray|     Florida|   Tallahassee|2013|156500|   15019.0|\n",
      "|      Bentley|Not Available|         Gray|Pennsylvania|    Harrisburg|2014|153250|    2343.0|\n",
      "|      Bentley|Not Available|Not Available|Pennsylvania|    Harrisburg|2014|154750|   12139.0|\n",
      "|Mercedes-Benz|    Automatic|        White|  California|    Sacramento|2015|173000|    5277.0|\n",
      "|  Rolls-Royce|    Automatic|        White|  California|    Sacramento|2012|167000|    5215.0|\n",
      "|      Porsche|    Automatic|        White|     Florida|   Tallahassee|2014|152000|    5993.0|\n",
      "|  Rolls-Royce|    Automatic|        White|     Florida|   Tallahassee|2013|171500|    7852.0|\n",
      "|  Rolls-Royce|    Automatic|        White|  California|    Sacramento|2012|169000|   11832.0|\n",
      "|      Ferrari|    Automatic|          Red|     Florida|   Tallahassee|2011|183000|   12116.0|\n",
      "+-------------+-------------+-------------+------------+--------------+----+------+----------+\n",
      "\n"
     ]
    }
   ],
   "source": [
    "df_pyspark_usaSELECTCol.filter(df_pyspark_usaSELECTCol['Money'] > 150000).show(25)"
   ]
  },
  {
   "cell_type": "code",
   "execution_count": 288,
   "id": "c41bfb4f",
   "metadata": {},
   "outputs": [
    {
     "data": {
      "text/plain": [
       "25"
      ]
     },
     "execution_count": 288,
     "metadata": {},
     "output_type": "execute_result"
    }
   ],
   "source": [
    "CountRowUSAMoney150000 = df_pyspark_usaSELECTCol.filter(df_pyspark_usaSELECTCol['Money'] > 150000)\n",
    "CountRowUSAMoney150000.count()"
   ]
  },
  {
   "cell_type": "code",
   "execution_count": 289,
   "id": "2a6151d0",
   "metadata": {},
   "outputs": [
    {
     "name": "stdout",
     "output_type": "stream",
     "text": [
      "+-------+---------+------+----------+-----------+----+------+----------+\n",
      "|  Model|     Gear| Color|     State|    Capital|Year| Money|Kilometres|\n",
      "+-------+---------+------+----------+-----------+----+------+----------+\n",
      "|Ferrari|Automatic|  Gray|California| Sacramento|2012|154000|   10902.0|\n",
      "|Ferrari|Automatic|Silver|   Florida|Tallahassee|2012|156000|    8149.0|\n",
      "|Ferrari|Automatic|   Red|   Florida|Tallahassee|2011|183000|   12116.0|\n",
      "+-------+---------+------+----------+-----------+----+------+----------+\n",
      "\n"
     ]
    }
   ],
   "source": [
    "df_pyspark_usaSELECTCol.filter((df_pyspark_usaSELECTCol['Model'] ==\"Ferrari\")\n",
    "                               & (df_pyspark_usaSELECTCol['Money'] > 150000)).show()"
   ]
  },
  {
   "cell_type": "code",
   "execution_count": 290,
   "id": "b55edf17",
   "metadata": {},
   "outputs": [
    {
     "name": "stdout",
     "output_type": "stream",
     "text": [
      "+-----------+---------+-------------+----------+-----------+----+------+----------+\n",
      "|      Model|     Gear|        Color|     State|    Capital|Year| Money|Kilometres|\n",
      "+-----------+---------+-------------+----------+-----------+----+------+----------+\n",
      "|Rolls-Royce|Automatic|        Black|   Florida|Tallahassee|2012|169500|   14316.0|\n",
      "|Rolls-Royce|Automatic|        Black|California| Sacramento|2011|163000|   12912.0|\n",
      "|Rolls-Royce|Automatic|Not Available|California| Sacramento|2010|154000|   19836.0|\n",
      "|Rolls-Royce|Automatic|        Black|California| Sacramento|2011|155000|   22761.0|\n",
      "|Rolls-Royce|Automatic|        White|California| Sacramento|2012|167000|    5215.0|\n",
      "|Rolls-Royce|Automatic|        White|   Florida|Tallahassee|2013|171500|    7852.0|\n",
      "|Rolls-Royce|Automatic|        White|California| Sacramento|2012|169000|   11832.0|\n",
      "+-----------+---------+-------------+----------+-----------+----+------+----------+\n",
      "\n"
     ]
    }
   ],
   "source": [
    "df_pyspark_usaSELECTCol.filter((df_pyspark_usaSELECTCol['Model'] == \"Rolls-Royce\")\n",
    "                               & (df_pyspark_usaSELECTCol['Money'] > 150000)).show()"
   ]
  },
  {
   "cell_type": "code",
   "execution_count": 291,
   "id": "f13b1f9e",
   "metadata": {},
   "outputs": [
    {
     "name": "stdout",
     "output_type": "stream",
     "text": [
      "+-------+-------------+------+----------+-----------+----+------+----------+\n",
      "|  Model|         Gear| Color|     State|    Capital|Year| Money|Kilometres|\n",
      "+-------+-------------+------+----------+-----------+----+------+----------+\n",
      "|Bentley|    Automatic|  Gray|   Florida|Tallahassee|2006| 50250|   64671.0|\n",
      "|Bentley|Not Available| White|California| Sacramento|2007| 76500|   28573.0|\n",
      "|Bentley|    Automatic|  Blue|California| Sacramento|2006| 57250|   15909.0|\n",
      "|Bentley|    Automatic| Black|California| Sacramento|2007| 72500|   29897.0|\n",
      "|Bentley|    Automatic|  Blue|California| Sacramento|2013|139000|   16603.0|\n",
      "|Bentley|    Automatic| Black|California| Sacramento|2007| 54000|   96822.0|\n",
      "|Bentley|    Automatic|  Gray|    Nevada|Carson City|2008| 69750|   37555.0|\n",
      "|Bentley|    Automatic| Black|California| Sacramento|2012|118000|   21689.0|\n",
      "|Bentley|    Automatic|  Gray|California| Sacramento|2004| 22700|   92208.0|\n",
      "|Ferrari|    Automatic|   Red|   Florida|Tallahassee|2008|117000|   11301.0|\n",
      "|Bentley|    Automatic| White|California| Sacramento|2006| 58500|   41445.0|\n",
      "|Bentley|    Automatic| Black|California| Sacramento|2010| 96000|   15640.0|\n",
      "|Bentley|    Automatic| Black|California| Sacramento|2005| 54500|   34855.0|\n",
      "|Ferrari|    Automatic| Black|California| Sacramento|2010|124000|    7529.0|\n",
      "|Bentley|    Automatic|Silver|California| Sacramento|2005| 52500|   66950.0|\n",
      "|Bentley|    Automatic|  Gray|California| Sacramento|2007| 52750|   75333.0|\n",
      "|Bentley|    Automatic|Silver|      Ohio|   Columbus|2006| 47500|   70500.0|\n",
      "|Ferrari|    Automatic|  Gray|California| Sacramento|2012|154000|   10902.0|\n",
      "|Ferrari|    Automatic|Silver|   Florida|Tallahassee|2012|156000|    8149.0|\n",
      "|Bentley|    Automatic| Black|California| Sacramento|2005| 44250|   91330.0|\n",
      "|Bentley|    Automatic|  Gray|     Texas|     Austin|2008| 55000|   51686.0|\n",
      "|Bentley|    Automatic|  Gray|     Texas|     Austin|2007| 59000|   74246.0|\n",
      "|Bentley|    Automatic|  Blue|California| Sacramento|2007| 67000|   38725.0|\n",
      "|Bentley|    Automatic| White|California| Sacramento|2011|123000|   14593.0|\n",
      "|Bentley|    Automatic|  Gray|   Florida|Tallahassee|2008| 73500|   34009.0|\n",
      "+-------+-------------+------+----------+-----------+----+------+----------+\n",
      "only showing top 25 rows\n",
      "\n"
     ]
    }
   ],
   "source": [
    "df_pyspark_usaSELECTCol.filter((df_pyspark_usaSELECTCol['Model'] == \"Bentley\")\n",
    "                               | (df_pyspark_usaSELECTCol['Model'] == \"Ferrari\")).show(25)"
   ]
  },
  {
   "cell_type": "code",
   "execution_count": 292,
   "id": "12a73346",
   "metadata": {},
   "outputs": [
    {
     "name": "stdout",
     "output_type": "stream",
     "text": [
      "+-------------+-------------+-------------+------------+-----------+----+-----+----------+\n",
      "|        Model|         Gear|        Color|       State|    Capital|Year|Money|Kilometres|\n",
      "+-------------+-------------+-------------+------------+-----------+----+-----+----------+\n",
      "|Mercedes-Benz|    Automatic|         Blue|  California| Sacramento|2006| 5800|  144503.0|\n",
      "|        Mazda|    Automatic|        White|  California| Sacramento|2014|18750|   14899.0|\n",
      "|        Mazda|    Automatic|        Black|    Virginia|   Richmond|2007| 6700|   97368.0|\n",
      "|Mercedes-Benz|    Automatic|       Silver|     Florida|Tallahassee|2007| 5500|  140389.0|\n",
      "|        Mazda|    Automatic|       Purple|    Michigan|    Lansing|2005| 3750|   91029.0|\n",
      "|Mercedes-Benz|    Automatic|         Blue|    New York|     Albany|2005| 4000|  170419.0|\n",
      "|   Mitsubishi|    Automatic|        Black|     Florida|Tallahassee|2005| 2200|  151170.0|\n",
      "|         Mini|    Automatic|          Red|       Texas|     Austin|2013|15500|   20318.0|\n",
      "|Mercedes-Benz|    Automatic|Not Available|   Wisconsin|    Madison|2012|20750|   40625.0|\n",
      "|Mercedes-Benz|Not Available|        White|Pennsylvania| Harrisburg|2012|16000|   15289.0|\n",
      "|   Mitsubishi|    Automatic|        Black|     Arizona|    Phoenix|2012|10100|   24110.0|\n",
      "|Mercedes-Benz|    Automatic|       Silver|     Georgia|    Atlanta|2003| 5100|  138428.0|\n",
      "|Mercedes-Benz|    Automatic|Not Available|        Ohio|   Columbus|2014|39250|    9354.0|\n",
      "|Mercedes-Benz|    Automatic|         Gray|        Ohio|   Columbus|2014|83000|    8814.0|\n",
      "|Mercedes-Benz|    Automatic|         Gray|     Georgia|    Atlanta|2003| 4000|  149997.0|\n",
      "|   Mitsubishi|    Automatic|        Black|      Nevada|Carson City|2014|16600|    5889.0|\n",
      "|        Mazda|    Automatic|     Burgundy|       Texas|     Austin|2007| 8500|   65491.0|\n",
      "|Mercedes-Benz|    Automatic|        White|     Florida|Tallahassee|2001| 5300|   83019.0|\n",
      "|Mercedes-Benz|    Automatic|       Silver|        Ohio|   Columbus|2013|28001|   42739.0|\n",
      "|Mercedes-Benz|    Automatic|Not Available|     Florida|Tallahassee|2012|19800|   25669.0|\n",
      "+-------------+-------------+-------------+------------+-----------+----+-----+----------+\n",
      "only showing top 20 rows\n",
      "\n"
     ]
    }
   ],
   "source": [
    "df_pyspark_usaSELECTCol.filter(df_pyspark_usaSELECTCol['Model'].like(\"M%\")).show()"
   ]
  },
  {
   "cell_type": "code",
   "execution_count": 293,
   "id": "d66b10bf",
   "metadata": {},
   "outputs": [
    {
     "name": "stdout",
     "output_type": "stream",
     "text": [
      "+-------------+-------------+-------------+------------+-----------+----+------+----------+\n",
      "|        Model|         Gear|        Color|       State|    Capital|Year| Money|Kilometres|\n",
      "+-------------+-------------+-------------+------------+-----------+----+------+----------+\n",
      "|         Audi|    Automatic|        Black|  California| Sacramento|2014|105000|    6526.0|\n",
      "|  Rolls-Royce|    Automatic|         Gray|   Wisconsin|    Madison|2010|149800|    8440.0|\n",
      "|      Bentley|    Automatic|         Blue|  California| Sacramento|2013|139000|   16603.0|\n",
      "|      Bentley|    Automatic|        Black|  California| Sacramento|2012|118000|   21689.0|\n",
      "|   Land Rover|    Automatic|        White|  California| Sacramento|2014|135000|    5369.0|\n",
      "|      Ferrari|    Automatic|          Red|     Florida|Tallahassee|2008|117000|   11301.0|\n",
      "|   Land Rover|    Automatic|        Brown|  California| Sacramento|2014|108000|    4460.0|\n",
      "|      Ferrari|    Automatic|        Black|  California| Sacramento|2010|124000|    7529.0|\n",
      "|      Ferrari|    Automatic|         Gray|  California| Sacramento|2012|154000|   10902.0|\n",
      "|      Ferrari|    Automatic|       Silver|     Florida|Tallahassee|2012|156000|    8149.0|\n",
      "|          BMW|    Automatic|Not Available|        Ohio|   Columbus|2014|113000|    4586.0|\n",
      "|          BMW|    Automatic|        White|        Ohio|   Columbus|2014|103000|    5844.0|\n",
      "|         Audi|    Automatic|        White|  California| Sacramento|2011|112000|   17027.0|\n",
      "|Mercedes-Benz|    Automatic|     Charcoal|  California| Sacramento|2014|134000|     980.0|\n",
      "|Mercedes-Benz|    Automatic|         Gray|  California| Sacramento|2011|117800|   22128.0|\n",
      "|Mercedes-Benz|    Automatic|        Black|  California| Sacramento|2014|139000|     147.0|\n",
      "|      Bentley|    Automatic|        White|  California| Sacramento|2011|123000|   14593.0|\n",
      "|   Land Rover|    Automatic|       Silver|  California| Sacramento|2014|127000|   10040.0|\n",
      "|   Land Rover|    Automatic|        White|  California| Sacramento|2014|115000|    6814.0|\n",
      "|      Bentley|Not Available|         Gray|Pennsylvania| Harrisburg|2013|130000|   10128.0|\n",
      "+-------------+-------------+-------------+------------+-----------+----+------+----------+\n",
      "only showing top 20 rows\n",
      "\n"
     ]
    }
   ],
   "source": [
    "df_pyspark_usaSELECTCol.filter(df_pyspark_usaSELECTCol[\"Money\"].between(100000,300000)).show()"
   ]
  },
  {
   "cell_type": "code",
   "execution_count": 294,
   "id": "ac928196",
   "metadata": {},
   "outputs": [
    {
     "name": "stdout",
     "output_type": "stream",
     "text": [
      "+----------+-------------+--------+------------+-----------+----+-----+----------+\n",
      "|     Model|         Gear|   Color|       State|    Capital|Year|Money|Kilometres|\n",
      "+----------+-------------+--------+------------+-----------+----+-----+----------+\n",
      "|     Honda|       Manual|   White|  California| Sacramento|2013|17700|   33870.0|\n",
      "|     Dodge|Not Available|   White|  California| Sacramento|2006| 4400|  204983.0|\n",
      "|    Nissan|       Manual|    Gray|  California| Sacramento|2000| 2000|  114077.0|\n",
      "|    Toyota|       Manual|     Red|        Ohio|   Columbus|2012|19700|   38951.0|\n",
      "|    Subaru|Not Available|   Black|Pennsylvania| Harrisburg|2011|12800|   35565.0|\n",
      "|    Toyota|Not Available|    Blue|Pennsylvania| Harrisburg|2011|16000|   25117.0|\n",
      "|     Honda|       Manual|   Black|  New Jersey|    Trenton|2010| 3250|       1.0|\n",
      "|      Ford|Not Available|   White|Pennsylvania| Harrisburg|2014|23800|    5044.0|\n",
      "|  Cadillac|Not Available|  Silver|    Michigan|    Lansing|2008| 9500|   90870.0|\n",
      "|  Cadillac|Not Available|   Black|  New Jersey|    Trenton|2007| 4900|  125377.0|\n",
      "| Chevrolet|Not Available|    Gold|     Georgia|    Atlanta|2006| 2400|  143988.0|\n",
      "|      Ford|Not Available|   White|     Florida|Tallahassee|2005| 3800|  113078.0|\n",
      "|   Hyundai|Not Available|    Gray|     Arizona|    Phoenix|2005|  750|       1.0|\n",
      "|      Jeep|Not Available|    Blue|    Virginia|   Richmond|2005| 3500|  154122.0|\n",
      "|      Jeep|Not Available|   Green|  New Jersey|    Trenton|2005| 3400|  142378.0|\n",
      "|      Jeep|Not Available|  Silver|    Virginia|   Richmond|2004| 4000|  126140.0|\n",
      "|    Toyota|Not Available|    Blue|    Virginia|   Richmond|2003| 5700|  185225.0|\n",
      "|Volkswagen|Not Available|    Gray|    Illinois|Springfield|2003| 2450|   96314.0|\n",
      "|   Lincoln|Not Available|  Silver|    Virginia|   Richmond|2002| 3800|   63367.0|\n",
      "|     Honda|Not Available|Burgundy|    Virginia|   Richmond|2001| 1500|  169645.0|\n",
      "+----------+-------------+--------+------------+-----------+----+-----+----------+\n",
      "only showing top 20 rows\n",
      "\n"
     ]
    }
   ],
   "source": [
    "df_pyspark_usaSELECTCol.filter(df_pyspark_usaSELECTCol[\"Gear\"] != \"Automatic\").select(\"*\").show()"
   ]
  },
  {
   "cell_type": "code",
   "execution_count": 295,
   "id": "5480d51a",
   "metadata": {},
   "outputs": [
    {
     "name": "stdout",
     "output_type": "stream",
     "text": [
      "+-------+-------------+------+------------+-----------+----+-----+----------+\n",
      "|  Model|         Gear| Color|       State|    Capital|Year|Money|Kilometres|\n",
      "+-------+-------------+------+------------+-----------+----+-----+----------+\n",
      "| Jaguar|    Automatic|   Red|  California| Sacramento|2001|  800|  147682.0|\n",
      "|Porsche|    Automatic| White|     Florida|Tallahassee|2008|26400|   36251.0|\n",
      "|Porsche|       Manual|Silver|Pennsylvania| Harrisburg|2002|15500|  109085.0|\n",
      "| Jaguar|    Automatic| Black|  California| Sacramento|2011|30250|   75312.0|\n",
      "|Porsche|       Manual| Beige|      Nevada|Carson City|2009|59250|   12537.0|\n",
      "|Porsche|    Automatic| Black|       Texas|     Austin|2011|48250|   19681.0|\n",
      "|Porsche|       Manual| White|       Texas|     Austin|2008|23000|   10604.0|\n",
      "|Porsche|       Manual| White|  California| Sacramento|2004|20250|   65394.0|\n",
      "|Porsche|    Automatic|  Gray|  California| Sacramento|2012|49750|   49288.0|\n",
      "|Porsche|    Automatic|  Gray|  California| Sacramento|2012|41500|   42303.0|\n",
      "| Jaguar|    Automatic|  Blue|     Georgia|    Atlanta|2013|49000|    9182.0|\n",
      "| Jaguar|    Automatic|  Blue|  California| Sacramento|2013|26000|    6891.0|\n",
      "|Porsche|Not Available| Black|Pennsylvania| Harrisburg|2006|10600|   94640.0|\n",
      "| Jaguar|    Automatic|Silver|     Georgia|    Atlanta|2004| 4100|   95160.0|\n",
      "| Jaguar|Not Available| Black|   Tennessee|  Nashville|2012|31500|   11408.0|\n",
      "| Jaguar|    Automatic| Black|       Texas|     Austin|2011|32000|   57507.0|\n",
      "|Porsche|    Automatic|Silver|     Florida|Tallahassee|2001| 6100|   84707.0|\n",
      "| Jaguar|Not Available| Black|   Tennessee|  Nashville|2011|35200|   49363.0|\n",
      "|Porsche|    Automatic| Black|     Florida|Tallahassee|2006|35800|   51287.0|\n",
      "|Porsche|    Automatic|Silver|     Florida|Tallahassee|2013|87000|    9357.0|\n",
      "+-------+-------------+------+------------+-----------+----+-----+----------+\n",
      "only showing top 20 rows\n",
      "\n"
     ]
    }
   ],
   "source": [
    "Model = ['Rolls-Royce','Porsche','Bentley','Jaguar']\n",
    "df_pyspark_usaSELECTCol.filter(df_pyspark_usaSELECTCol['Model'].isin(Model)).show()"
   ]
  },
  {
   "cell_type": "code",
   "execution_count": 296,
   "id": "495418f3",
   "metadata": {},
   "outputs": [
    {
     "name": "stdout",
     "output_type": "stream",
     "text": [
      "+----------+---------+------+----------+----------+----+-----+----------+\n",
      "|     Model|     Gear| Color|     State|   Capital|Year|Money|Kilometres|\n",
      "+----------+---------+------+----------+----------+----+-----+----------+\n",
      "|       Kia|Automatic| Black|California|Sacramento|2013|14000|   71662.0|\n",
      "|    Nissan|Automatic| White|California|Sacramento|2013|18250|    7794.0|\n",
      "|     Acura|Automatic| Black|California|Sacramento|2012|28000|   48115.0|\n",
      "|  Cadillac|Automatic| White|California|Sacramento|2012|45750|   42547.0|\n",
      "|Land Rover|Automatic|  Gray|California|Sacramento|2012|46500|   19547.0|\n",
      "|     Buick|Automatic|Silver|California|Sacramento|2011|13300|   67592.0|\n",
      "|  Infiniti|Automatic| Black|California|Sacramento|2010|24750|   25212.0|\n",
      "|      Ford|Automatic|   Red|California|Sacramento|2007| 6000|  102840.0|\n",
      "|  Chrysler|Automatic| Black|California|Sacramento|2007| 2700|   88331.0|\n",
      "|    Toyota|Automatic|  Blue|California|Sacramento|2007| 7300|   73321.0|\n",
      "|    Toyota|Automatic|Silver|California|Sacramento|2006| 8100|  129749.0|\n",
      "|     Acura|Automatic| Black|California|Sacramento|2005| 2500|  207575.0|\n",
      "|     Honda|Automatic| Black|California|Sacramento|2004| 4400|  127196.0|\n",
      "|    Nissan|Automatic| Green|California|Sacramento|2003| 2500|   82364.0|\n",
      "|    Jaguar|Automatic|   Red|California|Sacramento|2001|  800|  147682.0|\n",
      "|      Ford|Automatic| White|California|Sacramento|2001| 1400|  147066.0|\n",
      "|      Ford|Automatic|  Gold|California|Sacramento|2000|  800|  148740.0|\n",
      "|   Hyundai|Automatic|  Blue|California|Sacramento|2014|19700|    3380.0|\n",
      "|       Kia|Automatic|Silver|California|Sacramento|2014|11700|   40773.0|\n",
      "|     Mazda|Automatic| White|California|Sacramento|2014|18750|   14899.0|\n",
      "+----------+---------+------+----------+----------+----+-----+----------+\n",
      "only showing top 20 rows\n",
      "\n"
     ]
    }
   ],
   "source": [
    "Model = ['BMW','Mercedes-Benz','Volvo']\n",
    "df_pyspark_usaSELECTCol.filter(~df_pyspark_usaSELECTCol['Model'].isin(Model)).show()"
   ]
  },
  {
   "cell_type": "code",
   "execution_count": 297,
   "id": "6839fe1e",
   "metadata": {},
   "outputs": [
    {
     "name": "stdout",
     "output_type": "stream",
     "text": [
      "+-------------+-----+\n",
      "|        Model|Count|\n",
      "+-------------+-----+\n",
      "|         Ford|92582|\n",
      "|    Chevrolet|60276|\n",
      "|       Nissan|53679|\n",
      "|       Toyota|39316|\n",
      "|        Dodge|29991|\n",
      "|        Honda|27207|\n",
      "|      Hyundai|21451|\n",
      "|          BMW|20490|\n",
      "|          Kia|17843|\n",
      "|Mercedes-Benz|17059|\n",
      "|     Chrysler|16821|\n",
      "|     Infiniti|15283|\n",
      "|         Jeep|14954|\n",
      "|   Volkswagen|12469|\n",
      "|        Lexus|11958|\n",
      "|          Gmc|10562|\n",
      "|        Mazda| 8289|\n",
      "|     Cadillac| 7598|\n",
      "|        Acura| 5894|\n",
      "|         Audi| 5860|\n",
      "|      Lincoln| 5753|\n",
      "|       Subaru| 5092|\n",
      "|        Buick| 5059|\n",
      "|          Ram| 4514|\n",
      "|      Pontiac| 4456|\n",
      "|   Mitsubishi| 3905|\n",
      "|        Volvo| 3781|\n",
      "|         Mini| 3167|\n",
      "|       Saturn| 2831|\n",
      "|      Mercury| 2018|\n",
      "|   Land Rover| 1863|\n",
      "|        Scion| 1654|\n",
      "|       Jaguar| 1419|\n",
      "|      Porsche| 1400|\n",
      "|       Suzuki|  900|\n",
      "|       Hummer|  799|\n",
      "|         Fiat|  784|\n",
      "|         Saab|  483|\n",
      "|        Smart|  386|\n",
      "|   Oldsmobile|  384|\n",
      "|        Isuzu|  200|\n",
      "|     Maserati|  135|\n",
      "|      Bentley|  116|\n",
      "|    Landrover|   27|\n",
      "|     Plymouth|   27|\n",
      "| Aston Martin|   25|\n",
      "|        Tesla|   23|\n",
      "|          Geo|   19|\n",
      "|      Ferrari|   19|\n",
      "|  Rolls-Royce|   17|\n",
      "|    Gmc Truck|   11|\n",
      "|       Fisker|    9|\n",
      "|  Lamborghini|    4|\n",
      "|   Ford Truck|    3|\n",
      "|       Daewoo|    2|\n",
      "|    Airstream|    1|\n",
      "|     Dodge Tk|    1|\n",
      "|      Ford Tk|    1|\n",
      "|     Mazda Tk|    1|\n",
      "|          Dot|    1|\n",
      "|   Chev Truck|    1|\n",
      "|        Lotus|    1|\n",
      "+-------------+-----+\n",
      "\n"
     ]
    }
   ],
   "source": [
    "df_pyspark_usaSELECTCol.groupBy(\"Model\").agg(count(\"*\").alias(\"Count\")).select(\"Model\",\"Count\").orderBy(desc(\"Count\")).show(400)"
   ]
  },
  {
   "cell_type": "code",
   "execution_count": 298,
   "id": "0b4706bb",
   "metadata": {},
   "outputs": [
    {
     "name": "stdout",
     "output_type": "stream",
     "text": [
      "+-------------+------+\n",
      "|         Gear| Count|\n",
      "+-------------+------+\n",
      "|    Automatic|465712|\n",
      "|Not Available| 58418|\n",
      "|       Manual| 16744|\n",
      "+-------------+------+\n",
      "\n"
     ]
    }
   ],
   "source": [
    "df_pyspark_usaSELECTCol.groupBy(\"Gear\").agg(count(\"*\").alias(\"Count\")).select(\"Gear\",\"Count\").orderBy(desc(\"Count\")).show()"
   ]
  },
  {
   "cell_type": "code",
   "execution_count": 299,
   "id": "08d3b2bc",
   "metadata": {},
   "outputs": [
    {
     "name": "stdout",
     "output_type": "stream",
     "text": [
      "+-------------+------+\n",
      "|        Color| Count|\n",
      "+-------------+------+\n",
      "|        Black|107568|\n",
      "|        White|102603|\n",
      "|       Silver| 80912|\n",
      "|         Gray| 80469|\n",
      "|         Blue| 49406|\n",
      "|          Red| 42261|\n",
      "|Not Available| 25186|\n",
      "|         Gold| 10927|\n",
      "|        Green| 10806|\n",
      "|     Burgundy|  8781|\n",
      "|        Beige|  8597|\n",
      "|        Brown|  6520|\n",
      "|       Orange|  1948|\n",
      "|       Purple|  1506|\n",
      "|    Off-white|  1416|\n",
      "|       Yellow|  1213|\n",
      "|     Charcoal|   473|\n",
      "|    Turquoise|   225|\n",
      "|         Pink|    42|\n",
      "|         Lime|    15|\n",
      "+-------------+------+\n",
      "\n"
     ]
    }
   ],
   "source": [
    "df_pyspark_usaSELECTCol.groupBy(\"Color\").agg(count(\"*\").alias(\"Count\")).select(\"Color\",\"Count\").orderBy(desc(\"Count\")).show()"
   ]
  },
  {
   "cell_type": "code",
   "execution_count": 300,
   "id": "fad531ec",
   "metadata": {},
   "outputs": [
    {
     "name": "stdout",
     "output_type": "stream",
     "text": [
      "+--------------+-----+\n",
      "|       Capital|Count|\n",
      "+--------------+-----+\n",
      "|   Tallahassee|81482|\n",
      "|    Sacramento|71667|\n",
      "|    Harrisburg|53158|\n",
      "|        Austin|45196|\n",
      "|       Atlanta|34059|\n",
      "|       Trenton|27365|\n",
      "|   Springfield|23196|\n",
      "|       Raleigh|21333|\n",
      "|      Columbus|21252|\n",
      "|     Nashville|20691|\n",
      "|Jefferson City|15798|\n",
      "|       Lansing|15287|\n",
      "|   Carson City|12453|\n",
      "|      Richmond|11696|\n",
      "|     Annapolis|10842|\n",
      "|       Madison| 9705|\n",
      "|      St. Paul| 9301|\n",
      "|       Phoenix| 8576|\n",
      "|        Denver| 7661|\n",
      "|       Olympia| 7257|\n",
      "|        Boston| 6525|\n",
      "|        Albany| 5609|\n",
      "|  Indianapolis| 4273|\n",
      "|      Columbia| 4146|\n",
      "|       Lincoln| 3954|\n",
      "|   Baton Rouge| 2164|\n",
      "|       Jackson| 1814|\n",
      "|Salt Lake City| 1798|\n",
      "|      Honolulu| 1222|\n",
      "|         Salem| 1136|\n",
      "|      Santa Fe|  164|\n",
      "| Oklahoma City|   69|\n",
      "|    Montgomery|   25|\n",
      "+--------------+-----+\n",
      "\n"
     ]
    }
   ],
   "source": [
    "df_pyspark_usaSELECTCol.groupBy(\"Capital\").agg(count(\"*\")\\\n",
    "                                               .alias(\"Count\")).select(\"Capital\",\"Count\").orderBy(desc(\"Count\")).show(40)"
   ]
  },
  {
   "cell_type": "code",
   "execution_count": 301,
   "id": "e7ef3a74",
   "metadata": {},
   "outputs": [
    {
     "name": "stdout",
     "output_type": "stream",
     "text": [
      "+--------------+-----+\n",
      "|         State|Count|\n",
      "+--------------+-----+\n",
      "|       Florida|81482|\n",
      "|    California|71667|\n",
      "|  Pennsylvania|53158|\n",
      "|         Texas|45196|\n",
      "|       Georgia|34059|\n",
      "|    New Jersey|27365|\n",
      "|      Illinois|23196|\n",
      "|North Carolina|21333|\n",
      "|          Ohio|21252|\n",
      "|     Tennessee|20691|\n",
      "|      Missouri|15798|\n",
      "|      Michigan|15287|\n",
      "|        Nevada|12453|\n",
      "|      Virginia|11696|\n",
      "|      Maryland|10842|\n",
      "|     Wisconsin| 9705|\n",
      "|     Minnesota| 9301|\n",
      "|       Arizona| 8576|\n",
      "|      Colorado| 7661|\n",
      "|    Washington| 7257|\n",
      "| Massachusetts| 6525|\n",
      "|      New York| 5609|\n",
      "|       Indiana| 4273|\n",
      "|South Carolina| 4146|\n",
      "|      Nebraska| 3954|\n",
      "|     Louisiana| 2164|\n",
      "|   Mississippi| 1814|\n",
      "|          Utah| 1798|\n",
      "|        Hawaii| 1222|\n",
      "|        Oregon| 1136|\n",
      "|    New Mexico|  164|\n",
      "|      Oklahoma|   69|\n",
      "|       Alabama|   25|\n",
      "+--------------+-----+\n",
      "\n"
     ]
    }
   ],
   "source": [
    "df_pyspark_usaSELECTCol.groupBy(\"State\").agg(count(\"*\").alias(\"Count\")).select(\"State\",\"Count\").orderBy(desc(\"Count\")).show(40)"
   ]
  },
  {
   "cell_type": "code",
   "execution_count": 302,
   "id": "e309577f",
   "metadata": {
    "scrolled": true
   },
   "outputs": [
    {
     "name": "stdout",
     "output_type": "stream",
     "text": [
      "+----+------+\n",
      "|Year| Count|\n",
      "+----+------+\n",
      "|1984|     1|\n",
      "|1985|     2|\n",
      "|1986|     2|\n",
      "|1987|     1|\n",
      "|1989|     6|\n",
      "|1990|    45|\n",
      "|1991|    65|\n",
      "|1992|   123|\n",
      "|1993|   177|\n",
      "|1994|   353|\n",
      "|1995|   647|\n",
      "|1996|   754|\n",
      "|1997|  1341|\n",
      "|1998|  1908|\n",
      "|1999|  2995|\n",
      "|2000|  4505|\n",
      "|2001|  6368|\n",
      "|2002|  9534|\n",
      "|2003| 12680|\n",
      "|2004| 16357|\n",
      "|2005| 20076|\n",
      "|2006| 25189|\n",
      "|2007| 29175|\n",
      "|2008| 30700|\n",
      "|2009| 20080|\n",
      "|2010| 25353|\n",
      "|2011| 47117|\n",
      "|2012|100539|\n",
      "|2013| 97358|\n",
      "|2014| 78263|\n",
      "|2015|  9160|\n",
      "+----+------+\n",
      "\n"
     ]
    }
   ],
   "source": [
    "df_pyspark_usaSELECTCol.groupBy(\"Year\").agg(count(\"*\").alias(\"Count\")).select(\"Year\",\"Count\").orderBy('Year').show(40)"
   ]
  },
  {
   "cell_type": "markdown",
   "id": "858778b2",
   "metadata": {},
   "source": [
    "##### Looking for avg, min, max and total money and kilometers"
   ]
  },
  {
   "cell_type": "code",
   "execution_count": 303,
   "id": "a8f8e3de",
   "metadata": {},
   "outputs": [
    {
     "name": "stdout",
     "output_type": "stream",
     "text": [
      "+-------------+---------+---------+---------+-----------+\n",
      "|        Model|AVG Money|Min Money|Max Money|Total Money|\n",
      "+-------------+---------+---------+---------+-----------+\n",
      "|   Volkswagen|  9381.33|      200|    42800|  116975784|\n",
      "|   Oldsmobile|   939.45|      200|     5000|     360750|\n",
      "|     Infiniti| 20437.01|      200|    75000|  312338840|\n",
      "|        Lexus| 20230.75|      200|    81000|  241919355|\n",
      "|       Jaguar| 19794.98|      250|    95250|   28089076|\n",
      "|       Saturn|  3388.43|      150|    15050|    9592650|\n",
      "|     Maserati| 45153.33|     1200|    95000|    6095700|\n",
      "|        Scion|  9496.77|      800|    22000|   15707650|\n",
      "|  Rolls-Royce|153488.24|   140000|   171500|    2609300|\n",
      "|         Jeep|  14641.6|      200|    61000|  218950428|\n",
      "|   Mitsubishi|  8242.13|      100|    34400|   32185533|\n",
      "|          Kia|  11848.4|      150|    42750|  211411063|\n",
      "|         Mini| 12296.13|     1100|    34750|   38941850|\n",
      "|    Chevrolet| 11961.78|      100|    88250|  721008049|\n",
      "|        Volvo| 11470.43|      200|    34700|   43369702|\n",
      "|      Hyundai| 11021.03|      100|    55000|  236412136|\n",
      "|         Saab|   3611.8|      200|    17750|    1744500|\n",
      "|        Honda| 10928.84|      200|    37000|  297340934|\n",
      "|    Landrover| 11516.67|     2200|    20000|     310950|\n",
      "|         Audi| 19946.98|      150|   120000|  116889275|\n",
      "|          Ram| 25287.14|     3000|    54000|  114146161|\n",
      "|     Cadillac| 15087.13|      150|    83000|  114632021|\n",
      "|        Isuzu|  1724.88|        1|     7900|     344976|\n",
      "|     Plymouth|  7287.96|      300|    26500|     196775|\n",
      "|      Pontiac|  3768.69|      100|    30000|   16793276|\n",
      "|          Geo|   528.95|      150|     1600|      10050|\n",
      "|   Land Rover| 31632.64|      200|   135000|   58931605|\n",
      "|Mercedes-Benz| 21590.89|        1|   173000|  368318956|\n",
      "|   Ford Truck|   483.33|      350|      700|       1450|\n",
      "|      Mercury|  3916.03|      100|    18300|    7902550|\n",
      "+-------------+---------+---------+---------+-----------+\n",
      "only showing top 30 rows\n",
      "\n"
     ]
    }
   ],
   "source": [
    "df_pyspark_usaSELECTCol.groupBy(\"Model\").agg(round(avg(\"Money\"),2).alias(\"AVG Money\"),\n",
    "                                            min(\"Money\").alias(\"Min Money\"),\n",
    "                                            max(\"Money\").alias(\"Max Money\"),\n",
    "                                            sum(\"Money\").alias(\"Total Money\")).show(30)"
   ]
  },
  {
   "cell_type": "code",
   "execution_count": 304,
   "id": "6ca68a8a",
   "metadata": {},
   "outputs": [
    {
     "name": "stdout",
     "output_type": "stream",
     "text": [
      "+-------------+--------------+--------------+--------------+----------------+\n",
      "|        Model|AVG Kilometres|Min Kilometres|Max Kilometres|Total Kilometres|\n",
      "+-------------+--------------+--------------+--------------+----------------+\n",
      "|   Volkswagen|       66654.5|           1.0|      999999.0|    8.31048336E8|\n",
      "|   Oldsmobile|     139437.72|           1.0|      327230.0|     5.3544085E7|\n",
      "|     Infiniti|      45724.47|           1.0|      349837.0|    6.98715586E8|\n",
      "|        Lexus|      69885.27|           1.0|      999999.0|    8.35688061E8|\n",
      "|       Jaguar|      68814.47|           1.0|      277677.0|      9.764774E7|\n",
      "|       Saturn|     117214.24|           1.0|      999999.0|    3.31833522E8|\n",
      "|     Maserati|      29588.75|           1.0|       99048.0|       3994481.0|\n",
      "|        Scion|      63932.76|           1.0|      280454.0|     1.0574479E8|\n",
      "|  Rolls-Royce|      13824.12|        5215.0|       23699.0|        235010.0|\n",
      "|         Jeep|      70841.58|           1.0|      999999.0|   1.059294143E9|\n",
      "|   Mitsubishi|       77580.2|           1.0|      999999.0|     3.0295067E8|\n",
      "|          Kia|      45909.51|           1.0|      999999.0|    8.19117549E8|\n",
      "|         Mini|      47932.59|           1.0|      237485.0|    1.51802497E8|\n",
      "|    Chevrolet|      77034.81|           1.0|      999999.0|   4.642271597E9|\n",
      "|        Volvo|      83842.17|           1.0|      999999.0|    3.16839543E8|\n",
      "|      Hyundai|      51030.17|           1.0|      999999.0|   1.094648183E9|\n",
      "|         Saab|     104418.48|           1.0|      282178.0|     5.0434128E7|\n",
      "|        Honda|      80468.74|           1.0|      428472.0|    2.18883019E9|\n",
      "|    Landrover|      99271.04|       61330.0|      140194.0|       2680318.0|\n",
      "|         Audi|      65794.82|           1.0|      277574.0|    3.85491869E8|\n",
      "|          Ram|      40300.25|           1.0|      436372.0|    1.81915323E8|\n",
      "|     Cadillac|      83660.36|           1.0|      453041.0|    6.35651407E8|\n",
      "|        Isuzu|     139410.06|           1.0|      262788.0|     2.7882011E7|\n",
      "|     Plymouth|       97360.3|           1.0|      238356.0|       2628728.0|\n",
      "|      Pontiac|     117302.54|           1.0|      999999.0|    5.22230892E8|\n",
      "|          Geo|     177356.74|       82009.0|      291755.0|       3369778.0|\n",
      "|   Land Rover|      61429.88|           1.0|      218184.0|    1.14382445E8|\n",
      "|Mercedes-Benz|      62316.92|           1.0|      999999.0|   1.062877329E9|\n",
      "|   Ford Truck|     194084.67|      173262.0|      235685.0|        582254.0|\n",
      "|      Mercury|     113774.98|           1.0|      395827.0|     2.2937035E8|\n",
      "+-------------+--------------+--------------+--------------+----------------+\n",
      "only showing top 30 rows\n",
      "\n"
     ]
    }
   ],
   "source": [
    "df_pyspark_usaSELECTCol.groupBy(\"Model\").agg(round(avg(\"Kilometres\"),2).alias(\"AVG Kilometres\"),\n",
    "                                            min(\"Kilometres\").alias(\"Min Kilometres\"),\n",
    "                                            max(\"Kilometres\").alias(\"Max Kilometres\"),\n",
    "                                            sum(\"Kilometres\").alias(\"Total Kilometres\")).show(30)"
   ]
  },
  {
   "cell_type": "code",
   "execution_count": 305,
   "id": "5de44df1",
   "metadata": {},
   "outputs": [
    {
     "name": "stdout",
     "output_type": "stream",
     "text": [
      "+-----------+------------------+\n",
      "|      Model|             Money|\n",
      "+-----------+------------------+\n",
      "|Rolls-Royce|153488.23529411765|\n",
      "|    Ferrari|127210.52631578948|\n",
      "|Lamborghini|          112625.0|\n",
      "+-----------+------------------+\n",
      "\n"
     ]
    }
   ],
   "source": [
    "df_pyspark_usaSELECTCol.groupBy(\"Model\").agg(avg(col(\"Money\")\\\n",
    "                                                 .cast(\"double\"))\\\n",
    "                                             .alias(\"Money\")).filter(col(\"Money\") > 100000).select(\"Model\",\"Money\").show()"
   ]
  },
  {
   "cell_type": "code",
   "execution_count": 306,
   "id": "09dfc8d8",
   "metadata": {},
   "outputs": [
    {
     "name": "stdout",
     "output_type": "stream",
     "text": [
      "+-----------+\n",
      "|      Model|\n",
      "+-----------+\n",
      "| Volkswagen|\n",
      "| Oldsmobile|\n",
      "|   Infiniti|\n",
      "|      Lexus|\n",
      "|     Jaguar|\n",
      "|     Saturn|\n",
      "|   Maserati|\n",
      "|      Scion|\n",
      "|Rolls-Royce|\n",
      "|       Jeep|\n",
      "| Mitsubishi|\n",
      "|        Kia|\n",
      "|       Mini|\n",
      "|  Chevrolet|\n",
      "|      Volvo|\n",
      "|    Hyundai|\n",
      "|       Saab|\n",
      "|      Honda|\n",
      "|  Landrover|\n",
      "|       Audi|\n",
      "+-----------+\n",
      "only showing top 20 rows\n",
      "\n"
     ]
    }
   ],
   "source": [
    "df_pyspark_usaSELECTCol.select(\"Model\").distinct().show()"
   ]
  },
  {
   "cell_type": "code",
   "execution_count": 307,
   "id": "3a222735",
   "metadata": {},
   "outputs": [
    {
     "name": "stdout",
     "output_type": "stream",
     "text": [
      "+-------------+---------+-------------+----------+----------+----+-----+----------+----------+\n",
      "|        Model|     Gear|        Color|     State|   Capital|Year|Money|Kilometres|Money EURO|\n",
      "+-------------+---------+-------------+----------+----------+----+-----+----------+----------+\n",
      "|          Kia|Automatic|        Black|California|Sacramento|2013|14000|   71662.0|   12740.0|\n",
      "|       Nissan|Automatic|        White|California|Sacramento|2013|18250|    7794.0|   16607.5|\n",
      "|        Acura|Automatic|        Black|California|Sacramento|2012|28000|   48115.0|   25480.0|\n",
      "|          BMW|Automatic|        Black|California|Sacramento|2012|36500|   45760.0|   33215.0|\n",
      "|     Cadillac|Automatic|        White|California|Sacramento|2012|45750|   42547.0|   41632.5|\n",
      "|   Land Rover|Automatic|         Gray|California|Sacramento|2012|46500|   19547.0|   42315.0|\n",
      "|        Volvo|Automatic|         Gray|California|Sacramento|2012|16000|   19529.0|   14560.0|\n",
      "|          BMW|Automatic|        Black|California|Sacramento|2011|30000|   40681.0|   27300.0|\n",
      "|        Buick|Automatic|       Silver|California|Sacramento|2011|13300|   67592.0|   12103.0|\n",
      "|     Infiniti|Automatic|        Black|California|Sacramento|2010|24750|   25212.0|   22522.5|\n",
      "|          BMW|Automatic|        Black|California|Sacramento|2008|19750|   71100.0|   17972.5|\n",
      "|         Ford|Automatic|          Red|California|Sacramento|2007| 6000|  102840.0|    5460.0|\n",
      "|     Chrysler|Automatic|        Black|California|Sacramento|2007| 2700|   88331.0|    2457.0|\n",
      "|       Toyota|Automatic|         Blue|California|Sacramento|2007| 7300|   73321.0|    6643.0|\n",
      "|Mercedes-Benz|Automatic|         Blue|California|Sacramento|2006| 5800|  144503.0|    5278.0|\n",
      "|       Toyota|Automatic|       Silver|California|Sacramento|2006| 8100|  129749.0|    7371.0|\n",
      "|        Acura|Automatic|        Black|California|Sacramento|2005| 2500|  207575.0|    2275.0|\n",
      "|        Honda|Automatic|        Black|California|Sacramento|2004| 4400|  127196.0|    4004.0|\n",
      "|          BMW|Automatic|Not Available|California|Sacramento|2003| 8400|  114461.0|    7644.0|\n",
      "|       Nissan|Automatic|        Green|California|Sacramento|2003| 2500|   82364.0|    2275.0|\n",
      "+-------------+---------+-------------+----------+----------+----+-----+----------+----------+\n",
      "only showing top 20 rows\n",
      "\n"
     ]
    }
   ],
   "source": [
    "df_pyspark_usaSELECTCol.withColumn(\"Money EURO\", df_pyspark_usaSELECTCol['Money'] * 0.91).show()"
   ]
  },
  {
   "cell_type": "code",
   "execution_count": 308,
   "id": "8c8380b8",
   "metadata": {},
   "outputs": [
    {
     "name": "stdout",
     "output_type": "stream",
     "text": [
      "+--------------+----+-----+---------+\n",
      "|       Capital|left|right|substring|\n",
      "+--------------+----+-----+---------+\n",
      "|   Carson City|  Ca|   ty|       rs|\n",
      "|        Boston|  Bo|   on|       st|\n",
      "|      Honolulu|  Ho|   lu|       no|\n",
      "|      St. Paul|  St|   ul|       . |\n",
      "|   Baton Rouge|  Ba|   ge|       to|\n",
      "|        Denver|  De|   er|       nv|\n",
      "|    Montgomery|  Mo|   ry|       nt|\n",
      "|      Santa Fe|  Sa|   Fe|       nt|\n",
      "|       Lincoln|  Li|   ln|       nc|\n",
      "|Jefferson City|  Je|   ty|       ff|\n",
      "|      Columbia|  Co|   ia|       lu|\n",
      "|       Phoenix|  Ph|   ix|       oe|\n",
      "|       Madison|  Ma|   on|       di|\n",
      "|    Sacramento|  Sa|   to|       cr|\n",
      "|   Tallahassee|  Ta|   ee|       ll|\n",
      "|     Nashville|  Na|   le|       sh|\n",
      "|      Richmond|  Ri|   nd|       ch|\n",
      "|       Lansing|  La|   ng|       ns|\n",
      "|     Annapolis|  An|   is|       na|\n",
      "|       Atlanta|  At|   ta|       la|\n",
      "|    Harrisburg|  Ha|   rg|       rr|\n",
      "|         Salem|  Sa|   em|       le|\n",
      "|Salt Lake City|  Sa|   ty|       lt|\n",
      "|        Austin|  Au|   in|       st|\n",
      "|   Springfield|  Sp|   ld|       ri|\n",
      "|       Jackson|  Ja|   on|       ck|\n",
      "|       Trenton|  Tr|   on|       en|\n",
      "| Oklahoma City|  Ok|   ty|       la|\n",
      "|       Olympia|  Ol|   ia|       ym|\n",
      "|        Albany|  Al|   ny|       ba|\n",
      "|  Indianapolis|  In|   is|       di|\n",
      "|       Raleigh|  Ra|   gh|       le|\n",
      "|      Columbus|  Co|   us|       lu|\n",
      "+--------------+----+-----+---------+\n",
      "\n"
     ]
    }
   ],
   "source": [
    "df_pyspark_usaSELECTCol.select(df_pyspark_usaSELECTCol[\"Capital\"]\n",
    "                               ,substring(df_pyspark_usaSELECTCol['Capital'],1,2).alias(\"left\")\n",
    "                               ,substring(df_pyspark_usaSELECTCol['Capital'],-2,2).alias(\"right\")\n",
    "                               ,substring(df_pyspark_usaSELECTCol['Capital'],3,2).alias(\"substring\")).distinct().show(35)\n",
    "    "
   ]
  },
  {
   "cell_type": "code",
   "execution_count": 309,
   "id": "388f7eb9",
   "metadata": {},
   "outputs": [
    {
     "name": "stdout",
     "output_type": "stream",
     "text": [
      "+----------------------------+\n",
      "|Model                       |\n",
      "+----------------------------+\n",
      "|Kia Automatic Black         |\n",
      "|Nissan Automatic White      |\n",
      "|Acura Automatic Black       |\n",
      "|BMW Automatic Black         |\n",
      "|Cadillac Automatic White    |\n",
      "|Land Rover Automatic Gray   |\n",
      "|Volvo Automatic Gray        |\n",
      "|BMW Automatic Black         |\n",
      "|Buick Automatic Silver      |\n",
      "|Infiniti Automatic Black    |\n",
      "|BMW Automatic Black         |\n",
      "|Ford Automatic Red          |\n",
      "|Chrysler Automatic Black    |\n",
      "|Toyota Automatic Blue       |\n",
      "|Mercedes-Benz Automatic Blue|\n",
      "|Toyota Automatic Silver     |\n",
      "|Acura Automatic Black       |\n",
      "|Honda Automatic Black       |\n",
      "|BMW Automatic Not Available |\n",
      "|Nissan Automatic Green      |\n",
      "+----------------------------+\n",
      "only showing top 20 rows\n",
      "\n"
     ]
    }
   ],
   "source": [
    "df_pyspark_usaSELECTCol.select(concat(df_pyspark_usaSELECTCol[\"Model\"],\n",
    "                                     lit(\" \"),\n",
    "                                     df_pyspark_usaSELECTCol[\"Gear\"],\n",
    "                                     lit(\" \"),\n",
    "                                     df_pyspark_usaSELECTCol[\"Color\"]).alias(\"Model\")).show(truncate=False)"
   ]
  },
  {
   "cell_type": "markdown",
   "id": "5ca4134e",
   "metadata": {},
   "source": [
    "#### Money looking for min and max values"
   ]
  },
  {
   "cell_type": "code",
   "execution_count": 310,
   "id": "d2a6a690",
   "metadata": {},
   "outputs": [],
   "source": [
    "Min = df_pyspark_usaSELECTCol.agg(min(\"Money\")).first()[0]\n",
    "Max = df_pyspark_usaSELECTCol.agg(max(\"Money\")).first()[0]"
   ]
  },
  {
   "cell_type": "code",
   "execution_count": 311,
   "id": "ed9504c7",
   "metadata": {},
   "outputs": [],
   "source": [
    "MinMoney = df_pyspark_usaSELECTCol.filter(df_pyspark_usaSELECTCol['Money']==Min)\n",
    "MaxMoney = df_pyspark_usaSELECTCol.filter(df_pyspark_usaSELECTCol['Money']==Max)"
   ]
  },
  {
   "cell_type": "code",
   "execution_count": 312,
   "id": "1c6f44ed",
   "metadata": {},
   "outputs": [
    {
     "name": "stdout",
     "output_type": "stream",
     "text": [
      "+-------------+-------------+-----+----------+--------------+----+------+----------+\n",
      "|        Model|         Gear|Color|     State|       Capital|Year| Money|Kilometres|\n",
      "+-------------+-------------+-----+----------+--------------+----+------+----------+\n",
      "|         Ford|    Automatic|Green|  Missouri|Jefferson City|2014|230000|   27802.0|\n",
      "|         Ford|Not Available|White|California|    Sacramento|2002|     1|      null|\n",
      "|Mercedes-Benz|    Automatic|Black|   Georgia|       Atlanta|2003|     1|       1.0|\n",
      "|         Ford|    Automatic|White|     Texas|        Austin|2014|     1|   31886.0|\n",
      "|        Isuzu|Not Available|  Red|  Virginia|      Richmond|1995|     1|  254132.0|\n",
      "+-------------+-------------+-----+----------+--------------+----+------+----------+\n",
      "\n"
     ]
    }
   ],
   "source": [
    "UnionMaxMinMoney = MaxMoney.union(MinMoney)\n",
    "UnionMaxMinMoney.show()"
   ]
  },
  {
   "cell_type": "markdown",
   "id": "46074da5",
   "metadata": {},
   "source": [
    "#### Kilometers looking for min and max values"
   ]
  },
  {
   "cell_type": "code",
   "execution_count": 313,
   "id": "e3c008d9",
   "metadata": {},
   "outputs": [],
   "source": [
    "Min = df_pyspark_usaSELECTCol.agg(min(\"Kilometres\")).first()[0]\n",
    "Max = df_pyspark_usaSELECTCol.agg(max(\"Kilometres\")).first()[0]"
   ]
  },
  {
   "cell_type": "code",
   "execution_count": 314,
   "id": "44810cfb",
   "metadata": {},
   "outputs": [],
   "source": [
    "MinKM = df_pyspark_usaSELECTCol.filter(df_pyspark_usaSELECTCol['Kilometres']==Min)\n",
    "MaxKM = df_pyspark_usaSELECTCol.filter(df_pyspark_usaSELECTCol['Kilometres']==Max)"
   ]
  },
  {
   "cell_type": "code",
   "execution_count": 315,
   "id": "b52de593",
   "metadata": {},
   "outputs": [
    {
     "name": "stdout",
     "output_type": "stream",
     "text": [
      "+---------+-------------+-------------+-----------+-----------+----+-----+----------+\n",
      "|    Model|         Gear|        Color|      State|    Capital|Year|Money|Kilometres|\n",
      "+---------+-------------+-------------+-----------+-----------+----+-----+----------+\n",
      "|    Dodge|    Automatic|        Black|   Illinois|Springfield|2009| 1700|  999999.0|\n",
      "| Chrysler|    Automatic|       Silver|       Ohio|   Columbus|2006| 2600|  999999.0|\n",
      "|  Hyundai|    Automatic|         Blue| California| Sacramento|2013| 2500|  999999.0|\n",
      "|Chevrolet|    Automatic|         Gray| California| Sacramento|2003|  700|  999999.0|\n",
      "|   Nissan|    Automatic|        Green|   Illinois|Springfield|2005| 2600|  999999.0|\n",
      "|    Dodge|    Automatic|         Blue|      Texas|     Austin|2009| 5500|  999999.0|\n",
      "|Chevrolet|    Automatic|       Silver|   New York|     Albany|2010|  275|  999999.0|\n",
      "|      Kia|    Automatic|        Black| California| Sacramento|2013| 2700|  999999.0|\n",
      "|    Dodge|    Automatic|        Black|   Maryland|  Annapolis|2009| 1500|  999999.0|\n",
      "|   Nissan|    Automatic|       Silver|   Maryland|  Annapolis|2004| 1100|  999999.0|\n",
      "|      Kia|    Automatic|         Gray|Mississippi|    Jackson|2006|  800|  999999.0|\n",
      "|   Nissan|    Automatic|        White|       Ohio|   Columbus|2012|  800|  999999.0|\n",
      "|Chevrolet|    Automatic|        White|      Texas|     Austin|2009|  400|  999999.0|\n",
      "|     Ford|    Automatic|        Black|    Georgia|    Atlanta|2006| 3600|  999999.0|\n",
      "|   Nissan|Not Available|Not Available|   Maryland|  Annapolis|2008|  275|  999999.0|\n",
      "|    Dodge|    Automatic|        Black|      Texas|     Austin|2014| 6000|  999999.0|\n",
      "|     Ford|    Automatic|         Gray|Mississippi|    Jackson|2005| 1300|  999999.0|\n",
      "|    Mazda|    Automatic|          Red|      Texas|     Austin|2010| 3200|  999999.0|\n",
      "|     Ford|    Automatic|         Gray|    Florida|Tallahassee|2013| 3000|  999999.0|\n",
      "|Chevrolet|    Automatic|         Gray|   Maryland|  Annapolis|2008| 1100|  999999.0|\n",
      "|Chevrolet|Not Available|       Silver|      Texas|     Austin|2013| 1300|  999999.0|\n",
      "|  Pontiac|    Automatic|        Black|      Texas|     Austin|2007| 3600|  999999.0|\n",
      "|  Hyundai|    Automatic|        White|       Ohio|   Columbus|2012|  800|  999999.0|\n",
      "|    Volvo|    Automatic|         Gray|   Illinois|Springfield|2005|  550|  999999.0|\n",
      "|   Nissan|    Automatic|        White|   Maryland|  Annapolis|2005| 1100|  999999.0|\n",
      "+---------+-------------+-------------+-----------+-----------+----+-----+----------+\n",
      "only showing top 25 rows\n",
      "\n"
     ]
    }
   ],
   "source": [
    "UnionMaxMinKM = MaxKM.union(MinKM)\n",
    "UnionMaxMinKM.show(25)"
   ]
  },
  {
   "cell_type": "code",
   "execution_count": 316,
   "id": "05107723",
   "metadata": {},
   "outputs": [
    {
     "name": "stdout",
     "output_type": "stream",
     "text": [
      "+-------------+---------+------+----------+--------------+----+------+----------+---+\n",
      "|        Model|     Gear| Color|     State|       Capital|Year| Money|Kilometres| RN|\n",
      "+-------------+---------+------+----------+--------------+----+------+----------+---+\n",
      "|         Ford|Automatic| Green|  Missouri|Jefferson City|2014|230000|   27802.0|  1|\n",
      "|      Ferrari|Automatic|   Red|   Florida|   Tallahassee|2011|183000|   12116.0|  2|\n",
      "|Mercedes-Benz|Automatic| White|California|    Sacramento|2015|173000|    5277.0|  3|\n",
      "|  Rolls-Royce|Automatic| White|   Florida|   Tallahassee|2013|171500|    7852.0|  4|\n",
      "|  Rolls-Royce|Automatic| Black|   Florida|   Tallahassee|2012|169500|   14316.0|  5|\n",
      "|  Rolls-Royce|Automatic| White|California|    Sacramento|2012|169000|   11832.0|  6|\n",
      "|  Rolls-Royce|Automatic| White|California|    Sacramento|2012|167000|    5215.0|  7|\n",
      "|          BMW|Automatic| White|   Florida|   Tallahassee|2014|165000|     154.0|  8|\n",
      "|          BMW|Automatic| White|California|    Sacramento|2014|165000|      60.0|  9|\n",
      "|  Rolls-Royce|Automatic| Black|California|    Sacramento|2011|163000|   12912.0| 10|\n",
      "|      Bentley|Automatic| Black|   Florida|   Tallahassee|2013|163000|    2968.0| 11|\n",
      "|          BMW|Automatic| White|California|    Sacramento|2014|161000|     303.0| 12|\n",
      "|          BMW|Automatic| White|California|    Sacramento|2014|160000|     124.0| 13|\n",
      "|          BMW|Automatic|  Gray|   Florida|   Tallahassee|2014|159000|     530.0| 14|\n",
      "|          BMW|Automatic| White|California|    Sacramento|2014|158000|     603.0| 15|\n",
      "|      Bentley|Automatic| Black|California|    Sacramento|2013|158000|    5593.0| 16|\n",
      "|      Porsche|Automatic| White|California|    Sacramento|2014|157000|   11981.0| 17|\n",
      "|Mercedes-Benz|Automatic|  Gray|   Florida|   Tallahassee|2013|156500|   15019.0| 18|\n",
      "|      Ferrari|Automatic|Silver|   Florida|   Tallahassee|2012|156000|    8149.0| 19|\n",
      "|  Rolls-Royce|Automatic| Black|California|    Sacramento|2011|155000|   22761.0| 20|\n",
      "+-------------+---------+------+----------+--------------+----+------+----------+---+\n",
      "only showing top 20 rows\n",
      "\n"
     ]
    }
   ],
   "source": [
    "windowSpec = Window.orderBy(col(\"Money\").desc())\n",
    "\n",
    "df_pyspark_usaSELECTCol.withColumn(\"RN\", row_number().over(windowSpec)).show()"
   ]
  },
  {
   "cell_type": "markdown",
   "id": "93779a65",
   "metadata": {},
   "source": [
    "##### Looking for most expensive car for each model"
   ]
  },
  {
   "cell_type": "code",
   "execution_count": 317,
   "id": "71230766",
   "metadata": {},
   "outputs": [
    {
     "name": "stdout",
     "output_type": "stream",
     "text": [
      "+--------+-------------+------+------------+-----------+----+-----+----------+---+\n",
      "|   Model|         Gear| Color|       State|    Capital|Year|Money|Kilometres| RN|\n",
      "+--------+-------------+------+------------+-----------+----+-----+----------+---+\n",
      "|Dodge Tk|    Automatic| White|  California| Sacramento|1997|  550|  246997.0|  1|\n",
      "|     Dot|    Automatic|Silver|     Arizona|    Phoenix|1998|  500|  191734.0|  1|\n",
      "|Infiniti|    Automatic| Black|      Nevada|Carson City|2015|75000|     147.0|  1|\n",
      "|Infiniti|    Automatic| White|   Tennessee|  Nashville|2014|66000|    6044.0|  2|\n",
      "|Infiniti|    Automatic| White|   Tennessee|  Nashville|2014|65200|    6476.0|  3|\n",
      "|Infiniti|    Automatic|  Gray|  California| Sacramento|2015|64500|   12213.0|  4|\n",
      "|Infiniti|    Automatic| Black|   Tennessee|  Nashville|2014|64000|    9964.0|  5|\n",
      "|Infiniti|    Automatic|  Gray|   Tennessee|  Nashville|2014|63800|    4877.0|  6|\n",
      "|Infiniti|    Automatic| White|   Tennessee|  Nashville|2014|63500|   13657.0|  7|\n",
      "|Infiniti|    Automatic|Silver|   Tennessee|  Nashville|2014|63400|    9336.0|  8|\n",
      "|Infiniti|    Automatic| White|   Tennessee|  Nashville|2014|63200|   11368.0|  9|\n",
      "|Infiniti|    Automatic| Black|   Tennessee|  Nashville|2014|63000|   12291.0| 10|\n",
      "|Infiniti|    Automatic|  Gray|   Tennessee|  Nashville|2014|62800|    8890.0| 11|\n",
      "|Infiniti|    Automatic| Black|   Tennessee|  Nashville|2014|62800|   17709.0| 12|\n",
      "|Infiniti|Not Available|  Gray|Pennsylvania| Harrisburg|2014|62600|   15897.0| 13|\n",
      "|Infiniti|    Automatic| White|   Tennessee|  Nashville|2014|62400|    8310.0| 14|\n",
      "|Infiniti|    Automatic| Black|   Tennessee|  Nashville|2014|62000|   13343.0| 15|\n",
      "|Infiniti|    Automatic| White|   Tennessee|  Nashville|2014|61600|    9834.0| 16|\n",
      "|Infiniti|    Automatic| Black|    Illinois|Springfield|2014|61400|   16893.0| 17|\n",
      "|Infiniti|    Automatic|  Blue|     Georgia|    Atlanta|2015|61000|    9390.0| 18|\n",
      "+--------+-------------+------+------------+-----------+----+-----+----------+---+\n",
      "only showing top 20 rows\n",
      "\n"
     ]
    }
   ],
   "source": [
    "windowSpec = Window.partitionBy(col(\"Model\")).orderBy(col(\"Money\").desc())\n",
    "RNdf_pyspark_usa = df_pyspark_usaSELECTCol.withColumn(\"RN\", row_number().over(windowSpec))\n",
    "RNdf_pyspark_usa.show()"
   ]
  },
  {
   "cell_type": "code",
   "execution_count": 318,
   "id": "3fdf5d56",
   "metadata": {},
   "outputs": [
    {
     "name": "stdout",
     "output_type": "stream",
     "text": [
      "+-------------+-------------+-------------+--------------+--------------+----+------+----------+---+\n",
      "|        Model|         Gear|        Color|         State|       Capital|Year| Money|Kilometres| RN|\n",
      "+-------------+-------------+-------------+--------------+--------------+----+------+----------+---+\n",
      "|         Ford|    Automatic|        Green|      Missouri|Jefferson City|2014|230000|   27802.0|  1|\n",
      "|      Ferrari|    Automatic|          Red|       Florida|   Tallahassee|2011|183000|   12116.0|  1|\n",
      "|Mercedes-Benz|    Automatic|        White|    California|    Sacramento|2015|173000|    5277.0|  1|\n",
      "|  Rolls-Royce|    Automatic|        White|       Florida|   Tallahassee|2013|171500|    7852.0|  1|\n",
      "|          BMW|    Automatic|        White|       Florida|   Tallahassee|2014|165000|     154.0|  1|\n",
      "|      Bentley|    Automatic|        Black|       Florida|   Tallahassee|2013|163000|    2968.0|  1|\n",
      "|      Porsche|    Automatic|        White|    California|    Sacramento|2014|157000|   11981.0|  1|\n",
      "|   Land Rover|    Automatic|        White|    California|    Sacramento|2014|135000|    5369.0|  1|\n",
      "|         Audi|    Automatic|Not Available|    California|    Sacramento|2012|120000|    3885.0|  1|\n",
      "|  Lamborghini|    Automatic|       Yellow|       Florida|   Tallahassee|2007|117500|    8824.0|  1|\n",
      "| Aston Martin|    Automatic|        White|    California|    Sacramento|2011|103000|   19769.0|  1|\n",
      "|       Jaguar|    Automatic|        White|    California|    Sacramento|2015| 95250|     548.0|  1|\n",
      "|     Maserati|    Automatic|          Red|    California|    Sacramento|2013| 95000|    8550.0|  1|\n",
      "|    Chevrolet|Not Available|         Gray|  Pennsylvania|    Harrisburg|2015| 88250|    2748.0|  1|\n",
      "|       Nissan|    Automatic|        Black|      Illinois|   Springfield|2015| 86400|    1985.0|  1|\n",
      "|        Tesla|    Automatic|        Black|        Nevada|   Carson City|2013| 85750|    9566.0|  1|\n",
      "|     Cadillac|    Automatic|        White|     Tennessee|     Nashville|2015| 83000|    2510.0|  1|\n",
      "|        Lexus|    Automatic|        Black|    California|    Sacramento|2015| 81000|    2613.0|  1|\n",
      "|     Infiniti|    Automatic|        Black|        Nevada|   Carson City|2015| 75000|     147.0|  1|\n",
      "|    Airstream|    Automatic|        Black|    California|    Sacramento|2012| 71000|   51971.0|  1|\n",
      "|       Toyota|    Automatic|       Silver|    New Jersey|       Trenton|2015| 68900|     517.0|  1|\n",
      "|          Gmc|Not Available|        Black|  Pennsylvania|    Harrisburg|2015| 66000|    7084.0|  1|\n",
      "|         Jeep|    Automatic|        White|       Georgia|       Atlanta|2015| 61000|    6846.0|  1|\n",
      "|      Lincoln|Not Available|        Black|  Pennsylvania|    Harrisburg|2015| 59000|    8189.0|  1|\n",
      "|      Hyundai|    Automatic|         Gray|       Florida|   Tallahassee|2015| 55000|    1536.0|  1|\n",
      "|       Fisker|    Automatic|        Black|    California|    Sacramento|2012| 54500|    1806.0|  1|\n",
      "|          Ram|    Automatic|        Black|         Texas|        Austin|2014| 54000|    4620.0|  1|\n",
      "|        Dodge|       Manual|        Black|         Texas|        Austin|2008| 51700|   25926.0|  1|\n",
      "|       Hummer|    Automatic|        White|       Georgia|       Atlanta|2008| 50000|   16981.0|  1|\n",
      "|        Acura|Not Available|        Black|  Pennsylvania|    Harrisburg|2014| 47800|    3988.0|  1|\n",
      "|   Volkswagen|Not Available|        Black|       Georgia|       Atlanta|2014| 42800|   19800.0|  1|\n",
      "|          Kia|    Automatic|        Black|     Wisconsin|       Madison|2015| 42750|    4223.0|  1|\n",
      "|        Buick|Not Available|        White|North Carolina|       Raleigh|2015| 41000|    8935.0|  1|\n",
      "|     Chrysler|    Automatic|         Gray|         Texas|        Austin|2015| 41000|   19190.0|  1|\n",
      "|        Lotus|       Manual|        Black|    California|    Sacramento|2007| 40800|   16932.0|  1|\n",
      "|       Subaru|       Manual|        Black|      Illinois|   Springfield|2015| 37600|    8220.0|  1|\n",
      "|        Honda|    Automatic|        Black|        Nevada|   Carson City|2015| 37000|     292.0|  1|\n",
      "|        Mazda|    Automatic|          Red|         Texas|        Austin|2006| 35000|       1.0|  1|\n",
      "|         Mini|    Automatic|        Black|    California|    Sacramento|2014| 34750|    1789.0|  1|\n",
      "|        Volvo|    Automatic|         Gray|  Pennsylvania|    Harrisburg|2014| 34700|   11102.0|  1|\n",
      "|   Mitsubishi|Not Available|        Black|  Pennsylvania|    Harrisburg|2014| 34400|    7087.0|  1|\n",
      "|      Pontiac|Not Available|          Red|  Pennsylvania|    Harrisburg|2009| 30000|   40546.0|  1|\n",
      "|     Plymouth|    Automatic|       Orange|    California|    Sacramento|2001| 26500|   11953.0|  1|\n",
      "|        Scion|    Automatic|          Red|     Louisiana|   Baton Rouge|2014| 22000|    6535.0|  1|\n",
      "|    Gmc Truck|    Automatic|        White|North Carolina|       Raleigh|2007| 21425|   53142.0|  1|\n",
      "|    Landrover|    Automatic|        White|    California|    Sacramento|2007| 20000|   88653.0|  1|\n",
      "|      Mercury|    Automatic|        Black|          Ohio|      Columbus|2010| 18300|   49730.0|  1|\n",
      "|         Saab|    Automatic|       Silver|    California|    Sacramento|2010| 17750|   38031.0|  1|\n",
      "|         Fiat|    Automatic|        Black|    California|    Sacramento|2014| 16000|   12365.0|  1|\n",
      "|       Saturn|    Automatic|        White|        Nevada|   Carson City|2008| 15050|   45301.0|  1|\n",
      "|       Suzuki|    Automatic|       Silver|    California|    Sacramento|2012| 14900|   18424.0|  1|\n",
      "|        Smart|    Automatic|       Yellow|       Indiana|  Indianapolis|2013| 11000|    8240.0|  1|\n",
      "|        Isuzu|    Automatic|        White|        Hawaii|      Honolulu|2007|  7900|   80468.0|  1|\n",
      "|     Mazda Tk|    Automatic|        Black|      Illinois|   Springfield|2007|  6500|  103395.0|  1|\n",
      "|   Oldsmobile|    Automatic|     Burgundy|     Tennessee|     Nashville|2002|  5000|   28980.0|  1|\n",
      "|      Ford Tk|       Manual|          Red|      Virginia|      Richmond|2000|  2800|  108474.0|  1|\n",
      "|   Chev Truck|    Automatic|          Red|     Wisconsin|       Madison|2000|  2000|  136490.0|  1|\n",
      "|          Geo|       Manual|         Gold|       Georgia|       Atlanta|1997|  1600|   82009.0|  1|\n",
      "|   Ford Truck|    Automatic|       Silver|       Georgia|       Atlanta|1997|   700|  173307.0|  1|\n",
      "|       Daewoo|    Automatic|         Blue|       Florida|   Tallahassee|2001|   600|   71103.0|  1|\n",
      "|     Dodge Tk|    Automatic|        White|    California|    Sacramento|1997|   550|  246997.0|  1|\n",
      "|          Dot|    Automatic|       Silver|       Arizona|       Phoenix|1998|   500|  191734.0|  1|\n",
      "+-------------+-------------+-------------+--------------+--------------+----+------+----------+---+\n",
      "\n"
     ]
    }
   ],
   "source": [
    "RNdf_pyspark_usa.filter(RNdf_pyspark_usa['RN'] == 1).orderBy(desc('Money')).show(100)"
   ]
  },
  {
   "cell_type": "code",
   "execution_count": 319,
   "id": "f9adfafa",
   "metadata": {
    "scrolled": true
   },
   "outputs": [
    {
     "name": "stdout",
     "output_type": "stream",
     "text": [
      "Model:  Ford   Money:  230000\n",
      "Model:  Ferrari   Money:  183000\n",
      "Model:  Mercedes-Benz   Money:  173000\n",
      "Model:  Rolls-Royce   Money:  171500\n",
      "Model:  BMW   Money:  165000\n",
      "Model:  Bentley   Money:  163000\n",
      "Model:  Porsche   Money:  157000\n",
      "Model:  Land Rover   Money:  135000\n",
      "Model:  Audi   Money:  120000\n",
      "Model:  Lamborghini   Money:  117500\n",
      "Model:  Aston Martin   Money:  103000\n",
      "Model:  Jaguar   Money:  95250\n",
      "Model:  Maserati   Money:  95000\n",
      "Model:  Chevrolet   Money:  88250\n",
      "Model:  Nissan   Money:  86400\n",
      "Model:  Tesla   Money:  85750\n",
      "Model:  Cadillac   Money:  83000\n",
      "Model:  Lexus   Money:  81000\n",
      "Model:  Infiniti   Money:  75000\n",
      "Model:  Airstream   Money:  71000\n",
      "Model:  Toyota   Money:  68900\n",
      "Model:  Gmc   Money:  66000\n",
      "Model:  Jeep   Money:  61000\n",
      "Model:  Lincoln   Money:  59000\n",
      "Model:  Hyundai   Money:  55000\n",
      "Model:  Fisker   Money:  54500\n",
      "Model:  Ram   Money:  54000\n",
      "Model:  Dodge   Money:  51700\n",
      "Model:  Hummer   Money:  50000\n",
      "Model:  Acura   Money:  47800\n",
      "Model:  Volkswagen   Money:  42800\n",
      "Model:  Kia   Money:  42750\n",
      "Model:  Chrysler   Money:  41000\n",
      "Model:  Buick   Money:  41000\n",
      "Model:  Lotus   Money:  40800\n",
      "Model:  Subaru   Money:  37600\n",
      "Model:  Honda   Money:  37000\n",
      "Model:  Mazda   Money:  35000\n",
      "Model:  Mini   Money:  34750\n",
      "Model:  Volvo   Money:  34700\n",
      "Model:  Mitsubishi   Money:  34400\n",
      "Model:  Pontiac   Money:  30000\n",
      "Model:  Plymouth   Money:  26500\n",
      "Model:  Scion   Money:  22000\n",
      "Model:  Gmc Truck   Money:  21425\n",
      "Model:  Landrover   Money:  20000\n",
      "Model:  Mercury   Money:  18300\n",
      "Model:  Saab   Money:  17750\n",
      "Model:  Fiat   Money:  16000\n",
      "Model:  Saturn   Money:  15050\n",
      "Model:  Suzuki   Money:  14900\n",
      "Model:  Smart   Money:  11000\n",
      "Model:  Isuzu   Money:  7900\n",
      "Model:  Mazda Tk   Money:  6500\n",
      "Model:  Oldsmobile   Money:  5000\n",
      "Model:  Ford Tk   Money:  2800\n",
      "Model:  Chev Truck   Money:  2000\n",
      "Model:  Geo   Money:  1600\n",
      "Model:  Ford Truck   Money:  700\n",
      "Model:  Daewoo   Money:  600\n",
      "Model:  Dodge Tk   Money:  550\n",
      "Model:  Dot   Money:  500\n"
     ]
    }
   ],
   "source": [
    "FirstCarsdf_pyspark_usa = RNdf_pyspark_usa.filter(RNdf_pyspark_usa['RN'] == 1).orderBy(desc('Money'))\n",
    "data_collectdf_pyspark_usa = FirstCarsdf_pyspark_usa.collect()\n",
    "\n",
    "for row in data_collectdf_pyspark_usa:\n",
    "    print(\"Model: \",row[\"Model\"],\" \", \"Money: \",row[\"Money\"])\n"
   ]
  },
  {
   "cell_type": "markdown",
   "id": "8b8ab505",
   "metadata": {},
   "source": [
    "##### Looking for min values of kilometers for each model"
   ]
  },
  {
   "cell_type": "code",
   "execution_count": 320,
   "id": "20c36276",
   "metadata": {},
   "outputs": [
    {
     "name": "stdout",
     "output_type": "stream",
     "text": [
      "+--------+-------------+------+----------+-----------+----+-----+----------+---+\n",
      "|   Model|         Gear| Color|     State|    Capital|Year|Money|Kilometres| RN|\n",
      "+--------+-------------+------+----------+-----------+----+-----+----------+---+\n",
      "|Dodge Tk|    Automatic| White|California| Sacramento|1997|  550|  246997.0|  1|\n",
      "|     Dot|    Automatic|Silver|   Arizona|    Phoenix|1998|  500|  191734.0|  1|\n",
      "|Infiniti|       Manual|  Gray|   Arizona|    Phoenix|2005| 5900|      null|  1|\n",
      "|Infiniti|    Automatic| White|      Ohio|   Columbus|1998|  300|      null|  2|\n",
      "|Infiniti|    Automatic| Black|     Texas|     Austin|2013|23800|       1.0|  3|\n",
      "|Infiniti|Not Available| Black|New Jersey|    Trenton|2008| 8500|       1.0|  4|\n",
      "|Infiniti|Not Available|Silver|   Arizona|    Phoenix|2003|  750|       1.0|  5|\n",
      "|Infiniti|    Automatic|  Gray| Wisconsin|    Madison|2006|12200|       1.0|  6|\n",
      "|Infiniti|    Automatic|Silver|California| Sacramento|1999|  350|       1.0|  7|\n",
      "|Infiniti|    Automatic| Black|California| Sacramento|2009| 5000|       1.0|  8|\n",
      "|Infiniti|       Manual|  Gray|     Texas|     Austin|2006| 2200|       1.0|  9|\n",
      "|Infiniti|Not Available|Silver|     Texas|     Austin|2008|  600|       1.0| 10|\n",
      "|Infiniti|    Automatic| Black|California| Sacramento|2013|27250|      68.0| 11|\n",
      "|Infiniti|    Automatic| Brown|California| Sacramento|2014|36000|     113.0| 12|\n",
      "|Infiniti|    Automatic| Black|    Nevada|Carson City|2015|75000|     147.0| 13|\n",
      "|Infiniti|    Automatic| Black|   Florida|Tallahassee|2013|37000|     263.0| 14|\n",
      "|Infiniti|    Automatic| Black|California| Sacramento|2014|32500|     320.0| 15|\n",
      "|Infiniti|    Automatic| Black|  Illinois|Springfield|2014|35600|     382.0| 16|\n",
      "|Infiniti|    Automatic| White|California| Sacramento|2015|32000|     732.0| 17|\n",
      "|Infiniti|    Automatic|Silver|California| Sacramento|2014|44500|    1142.0| 18|\n",
      "+--------+-------------+------+----------+-----------+----+-----+----------+---+\n",
      "only showing top 20 rows\n",
      "\n"
     ]
    }
   ],
   "source": [
    "windowSpec = Window.partitionBy(col(\"Model\")).orderBy(col(\"Kilometres\"))\n",
    "\n",
    "KMdf_pyspark_usaSELECTCol = df_pyspark_usaSELECTCol.withColumn(\"RN\", row_number().over(windowSpec))\n",
    "KMdf_pyspark_usaSELECTCol.show()"
   ]
  },
  {
   "cell_type": "code",
   "execution_count": 321,
   "id": "7797c563",
   "metadata": {},
   "outputs": [],
   "source": [
    "columns = ['Model','Year']\n",
    "windowSpec1 = Window.partitionBy([col(x) for x in columns]).orderBy(col(\"Money\").desc())\n",
    "RNdf_pyspark_usaSELECTCol = df_pyspark_usaSELECTCol.withColumn(\"RN\", row_number().over(windowSpec1))"
   ]
  },
  {
   "cell_type": "code",
   "execution_count": 322,
   "id": "f958d40f",
   "metadata": {
    "scrolled": true
   },
   "outputs": [
    {
     "name": "stdout",
     "output_type": "stream",
     "text": [
      "+-------------+-------------+-------------+--------------+-----------+----+------+----------+---+\n",
      "|        Model|         Gear|        Color|         State|    Capital|Year| Money|Kilometres| RN|\n",
      "+-------------+-------------+-------------+--------------+-----------+----+------+----------+---+\n",
      "|Mercedes-Benz|    Automatic|        White|    California| Sacramento|2015|173000|    5277.0|  1|\n",
      "|          BMW|    Automatic|Not Available|          Ohio|   Columbus|2015|108000|   11944.0|  1|\n",
      "|       Jaguar|    Automatic|        White|    California| Sacramento|2015| 95250|     548.0|  1|\n",
      "|    Chevrolet|Not Available|         Gray|  Pennsylvania| Harrisburg|2015| 88250|    2748.0|  1|\n",
      "|   Land Rover|Not Available|        White|  Pennsylvania| Harrisburg|2015| 87000|    2596.0|  1|\n",
      "|       Nissan|    Automatic|        Black|      Illinois|Springfield|2015| 86400|    1985.0|  1|\n",
      "|     Cadillac|    Automatic|        White|     Tennessee|  Nashville|2015| 83000|    2510.0|  1|\n",
      "|        Lexus|    Automatic|        Black|    California| Sacramento|2015| 81000|    2613.0|  1|\n",
      "|      Porsche|    Automatic|        White|  Pennsylvania| Harrisburg|2015| 76000|    8850.0|  1|\n",
      "|     Infiniti|    Automatic|        Black|        Nevada|Carson City|2015| 75000|     147.0|  1|\n",
      "|       Toyota|    Automatic|       Silver|    New Jersey|    Trenton|2015| 68900|     517.0|  1|\n",
      "|          Gmc|Not Available|        Black|  Pennsylvania| Harrisburg|2015| 66000|    7084.0|  1|\n",
      "|         Jeep|    Automatic|        White|       Georgia|    Atlanta|2015| 61000|    6846.0|  1|\n",
      "|      Lincoln|Not Available|        Black|  Pennsylvania| Harrisburg|2015| 59000|    8189.0|  1|\n",
      "|         Audi|Not Available|         Blue|  Pennsylvania| Harrisburg|2015| 58500|   21768.0|  1|\n",
      "|         Ford|    Automatic|        Black|       Florida|Tallahassee|2015| 58400|    9481.0|  1|\n",
      "|      Hyundai|    Automatic|         Gray|       Florida|Tallahassee|2015| 55000|    1536.0|  1|\n",
      "|          Ram|    Automatic|        Black|       Florida|Tallahassee|2015| 50400|       4.0|  1|\n",
      "|          Kia|    Automatic|        Black|     Wisconsin|    Madison|2015| 42750|    4223.0|  1|\n",
      "|        Acura|    Automatic|        White|South Carolina|   Columbia|2015| 41750|   10177.0|  1|\n",
      "+-------------+-------------+-------------+--------------+-----------+----+------+----------+---+\n",
      "only showing top 20 rows\n",
      "\n"
     ]
    }
   ],
   "source": [
    "RNdf_pyspark_usaSELECTCol.filter(RNdf_pyspark_usaSELECTCol['RN'] == 1).sort(['Year','Money'],ascending=False).show()"
   ]
  },
  {
   "cell_type": "markdown",
   "id": "b1c58327",
   "metadata": {},
   "source": [
    "##### Calculating Total Money by Model"
   ]
  },
  {
   "cell_type": "code",
   "execution_count": 323,
   "id": "27a7eb90",
   "metadata": {},
   "outputs": [
    {
     "name": "stdout",
     "output_type": "stream",
     "text": [
      "+-----+-----+-----------------+\n",
      "|Model|Money|TotalMoneyByModel|\n",
      "+-----+-----+-----------------+\n",
      "| Audi|27250|        116889275|\n",
      "| Audi|17500|        116889275|\n",
      "| Audi| 8200|        116889275|\n",
      "| Audi|18300|        116889275|\n",
      "| Audi|15800|        116889275|\n",
      "| Audi|33400|        116889275|\n",
      "| Audi| 4100|        116889275|\n",
      "| Audi| 5600|        116889275|\n",
      "| Audi| 7200|        116889275|\n",
      "| Audi|  500|        116889275|\n",
      "| Audi|43000|        116889275|\n",
      "| Audi|24800|        116889275|\n",
      "| Audi|  600|        116889275|\n",
      "| Audi|14900|        116889275|\n",
      "| Audi| 1800|        116889275|\n",
      "| Audi|20750|        116889275|\n",
      "| Audi| 1000|        116889275|\n",
      "| Audi|16100|        116889275|\n",
      "| Audi| 8100|        116889275|\n",
      "| Audi| 1700|        116889275|\n",
      "+-----+-----+-----------------+\n",
      "only showing top 20 rows\n",
      "\n"
     ]
    }
   ],
   "source": [
    "windowSpec = Window.partitionBy(col(\"Model\"))\n",
    "df_pyspark_usaSELECTCol.withColumn(\"TotalMoneyByModel\", \n",
    "                                   sum(df_pyspark_usaSELECTCol[\"Money\"]).over(windowSpec))\\\n",
    ".select(\"Model\",\"Money\",\"TotalMoneyByModel\").show()"
   ]
  },
  {
   "cell_type": "code",
   "execution_count": 324,
   "id": "39df03d3",
   "metadata": {
    "scrolled": true
   },
   "outputs": [
    {
     "name": "stdout",
     "output_type": "stream",
     "text": [
      "+------------+-----------------+\n",
      "|       Model|TotalMoneyByModel|\n",
      "+------------+-----------------+\n",
      "|        Audi|        116889275|\n",
      "|   Chevrolet|        721008049|\n",
      "|    Dodge Tk|              550|\n",
      "|         Dot|              500|\n",
      "|       Honda|        297340934|\n",
      "|     Hyundai|        236412136|\n",
      "|    Infiniti|        312338840|\n",
      "|      Jaguar|         28089076|\n",
      "|        Jeep|        218950428|\n",
      "|         Kia|        211411063|\n",
      "|   Landrover|           310950|\n",
      "|       Lexus|        241919355|\n",
      "|    Maserati|          6095700|\n",
      "|        Mini|         38941850|\n",
      "|  Mitsubishi|         32185533|\n",
      "|  Oldsmobile|           360750|\n",
      "| Rolls-Royce|          2609300|\n",
      "|        Saab|          1744500|\n",
      "|      Saturn|          9592650|\n",
      "|       Scion|         15707650|\n",
      "|  Volkswagen|        116975784|\n",
      "|       Volvo|         43369702|\n",
      "|       Acura|         82568400|\n",
      "|   Airstream|            71000|\n",
      "|Aston Martin|          1370300|\n",
      "+------------+-----------------+\n",
      "only showing top 25 rows\n",
      "\n"
     ]
    }
   ],
   "source": [
    "windowSpec = Window.partitionBy(col(\"Model\"))\n",
    "df_pyspark_usaSELECTCol.withColumn(\"TotalMoneyByModel\", \n",
    "                                   sum(df_pyspark_usaSELECTCol[\"Money\"]).over(windowSpec))\\\n",
    ".select(\"Model\",\"TotalMoneyByModel\").distinct().show(25)"
   ]
  },
  {
   "cell_type": "markdown",
   "id": "656f4463",
   "metadata": {},
   "source": [
    "##### Using lead & lag functions to observe money in previous and next years"
   ]
  },
  {
   "cell_type": "code",
   "execution_count": 325,
   "id": "ce56329e",
   "metadata": {},
   "outputs": [
    {
     "name": "stdout",
     "output_type": "stream",
     "text": [
      "+----+----------+-----------------+-------------+\n",
      "|Year|     Money|PreviousYearMoney|NextYearMoney|\n",
      "+----+----------+-----------------+-------------+\n",
      "|1984|      3100|             null|         7750|\n",
      "|1985|      7750|             3100|        10000|\n",
      "|1986|     10000|             7750|          300|\n",
      "|1987|       300|            10000|        11775|\n",
      "|1989|     11775|              300|        65300|\n",
      "|1990|     65300|            11775|        60125|\n",
      "|1991|     60125|            65300|       115850|\n",
      "|1992|    115850|            60125|       131300|\n",
      "|1993|    131300|           115850|       297025|\n",
      "|1994|    297025|           131300|       566951|\n",
      "|1995|    566951|           297025|       682225|\n",
      "|1996|    682225|           566951|      1454400|\n",
      "|1997|   1454400|           682225|      2366835|\n",
      "|1998|   2366835|          1454400|      4483070|\n",
      "|1999|   4483070|          2366835|      7891414|\n",
      "|2000|   7891414|          4483070|     13629750|\n",
      "|2001|  13629750|          7891414|     25063031|\n",
      "|2002|  25063031|         13629750|     42725025|\n",
      "|2003|  42725025|         25063031|     70007826|\n",
      "|2004|  70007826|         42725025|     98280619|\n",
      "|2005|  98280619|         70007826|    153077507|\n",
      "|2006| 153077507|         98280619|    233197425|\n",
      "|2007| 233197425|        153077507|    293796520|\n",
      "|2008| 293796520|        233197425|    211213730|\n",
      "|2009| 211213730|        293796520|    317453201|\n",
      "|2010| 317453201|        211213730|    751025624|\n",
      "|2011| 751025624|        317453201|   1672405487|\n",
      "|2012|1672405487|        751025624|   1702862771|\n",
      "|2013|1702862771|       1672405487|   1565707428|\n",
      "|2014|1565707428|       1702862771|    239438790|\n",
      "|2015| 239438790|       1565707428|         null|\n",
      "+----+----------+-----------------+-------------+\n",
      "\n"
     ]
    }
   ],
   "source": [
    "df_pyspark_usaSELECTColLAGLEAD = df_pyspark_usaSELECTCol.groupBy(\"Year\")\\\n",
    ".agg(sum(df_pyspark_usaSELECTCol[\"Money\"]).alias(\"Money\"))\n",
    "df_pyspark_usaSELECTColLAGLEAD.select(\"Year\",\"Money\",\n",
    "                                      lag(\"Money\").over(Window.orderBy(\"Year\")).alias(\"PreviousYearMoney\"),\n",
    "                                      lead(\"Money\").over(Window.orderBy(\"Year\")).alias(\"NextYearMoney\")).show(60)"
   ]
  },
  {
   "cell_type": "code",
   "execution_count": 326,
   "id": "60680c12",
   "metadata": {},
   "outputs": [
    {
     "name": "stdout",
     "output_type": "stream",
     "text": [
      "+-------------+---------+-----+----------+--------------+----+------+----------+\n",
      "|        Model|     Gear|Color|     State|       Capital|Year| Money|Kilometres|\n",
      "+-------------+---------+-----+----------+--------------+----+------+----------+\n",
      "|         Ford|Automatic|Green|  Missouri|Jefferson City|2014|230000|   27802.0|\n",
      "|      Ferrari|Automatic|  Red|   Florida|   Tallahassee|2011|183000|   12116.0|\n",
      "|Mercedes-Benz|Automatic|White|California|    Sacramento|2015|173000|    5277.0|\n",
      "|  Rolls-Royce|Automatic|White|   Florida|   Tallahassee|2013|171500|    7852.0|\n",
      "|  Rolls-Royce|Automatic|Black|   Florida|   Tallahassee|2012|169500|   14316.0|\n",
      "|  Rolls-Royce|Automatic|White|California|    Sacramento|2012|169000|   11832.0|\n",
      "|  Rolls-Royce|Automatic|White|California|    Sacramento|2012|167000|    5215.0|\n",
      "|          BMW|Automatic|White|   Florida|   Tallahassee|2014|165000|     154.0|\n",
      "|          BMW|Automatic|White|California|    Sacramento|2014|165000|      60.0|\n",
      "|  Rolls-Royce|Automatic|Black|California|    Sacramento|2011|163000|   12912.0|\n",
      "+-------------+---------+-----+----------+--------------+----+------+----------+\n",
      "\n"
     ]
    }
   ],
   "source": [
    "cte = df_pyspark_usaSELECTCol.select(\"*\").sort(desc(\"Money\")).limit(10)\n",
    "cte.show()"
   ]
  },
  {
   "cell_type": "code",
   "execution_count": 327,
   "id": "501c8269",
   "metadata": {},
   "outputs": [
    {
     "name": "stdout",
     "output_type": "stream",
     "text": [
      "+-------------+-----+----------+\n",
      "|        Model|Money|Money Text|\n",
      "+-------------+-----+----------+\n",
      "|          Kia|14000|     14000|\n",
      "|       Nissan|18250|     18250|\n",
      "|        Acura|28000|     28000|\n",
      "|          BMW|36500|     36500|\n",
      "|     Cadillac|45750|     45750|\n",
      "|   Land Rover|46500|     46500|\n",
      "|        Volvo|16000|     16000|\n",
      "|          BMW|30000|     30000|\n",
      "|        Buick|13300|     13300|\n",
      "|     Infiniti|24750|     24750|\n",
      "|          BMW|19750|     19750|\n",
      "|         Ford| 6000|      6000|\n",
      "|     Chrysler| 2700|      2700|\n",
      "|       Toyota| 7300|      7300|\n",
      "|Mercedes-Benz| 5800|      5800|\n",
      "|       Toyota| 8100|      8100|\n",
      "|        Acura| 2500|      2500|\n",
      "|        Honda| 4400|      4400|\n",
      "|          BMW| 8400|      8400|\n",
      "|       Nissan| 2500|      2500|\n",
      "+-------------+-----+----------+\n",
      "only showing top 20 rows\n",
      "\n"
     ]
    }
   ],
   "source": [
    "df_pyspark_usaSELECTCol.withColumn(\"Money Text\",\n",
    "                                   df_pyspark_usaSELECTCol[\"Money\"]\\\n",
    "                                   .cast(\"string\")).select(\"Model\",\"Money\",\"Money Text\").show()"
   ]
  },
  {
   "cell_type": "code",
   "execution_count": 328,
   "id": "dbafcdc4",
   "metadata": {
    "scrolled": true
   },
   "outputs": [
    {
     "name": "stdout",
     "output_type": "stream",
     "text": [
      "+-------------+---------+-------------+----------+----------+----+-----+----------+\n",
      "|        Model|     Gear|        Color|     State|   Capital|Year|Money|Kilometres|\n",
      "+-------------+---------+-------------+----------+----------+----+-----+----------+\n",
      "|          Kia|Automatic|        Black|California|Sacramento|2013|14000|   71662.0|\n",
      "|       Nissan|Automatic|        White|California|Sacramento|2013|18250|    7794.0|\n",
      "|        Acura|Automatic|        Black|California|Sacramento|2012|28000|   48115.0|\n",
      "|          BMW|Automatic|        Black|California|Sacramento|2012|36500|   45760.0|\n",
      "|     Cadillac|Automatic|        White|California|Sacramento|2012|45750|   42547.0|\n",
      "|   Land Rover|Automatic|         Gray|California|Sacramento|2012|46500|   19547.0|\n",
      "|        Volvo|Automatic|         Gray|California|Sacramento|2012|16000|   19529.0|\n",
      "|          BMW|Automatic|        Black|California|Sacramento|2011|30000|   40681.0|\n",
      "|        Buick|Automatic|       Silver|California|Sacramento|2011|13300|   67592.0|\n",
      "|     Infiniti|Automatic|        Black|California|Sacramento|2010|24750|   25212.0|\n",
      "|          BMW|Automatic|        Black|California|Sacramento|2008|19750|   71100.0|\n",
      "|         Ford|Automatic|          Red|California|Sacramento|2007| 6000|  102840.0|\n",
      "|     Chrysler|Automatic|        Black|California|Sacramento|2007| 2700|   88331.0|\n",
      "|       Toyota|Automatic|         Blue|California|Sacramento|2007| 7300|   73321.0|\n",
      "|Mercedes-Benz|Automatic|         Blue|California|Sacramento|2006| 5800|  144503.0|\n",
      "|       Toyota|Automatic|       Silver|California|Sacramento|2006| 8100|  129749.0|\n",
      "|        Acura|Automatic|        Black|California|Sacramento|2005| 2500|  207575.0|\n",
      "|        Honda|Automatic|        Black|California|Sacramento|2004| 4400|  127196.0|\n",
      "|          BMW|Automatic|Not Available|California|Sacramento|2003| 8400|  114461.0|\n",
      "|       Nissan|Automatic|        Green|California|Sacramento|2003| 2500|   82364.0|\n",
      "+-------------+---------+-------------+----------+----------+----+-----+----------+\n",
      "only showing top 20 rows\n",
      "\n"
     ]
    }
   ],
   "source": [
    "df_pyspark_usaSELECTCol.show()"
   ]
  },
  {
   "cell_type": "code",
   "execution_count": 329,
   "id": "9803da7f",
   "metadata": {},
   "outputs": [
    {
     "name": "stdout",
     "output_type": "stream",
     "text": [
      "root\n",
      " |-- Model: string (nullable = true)\n",
      " |-- Gear: string (nullable = false)\n",
      " |-- Color: string (nullable = false)\n",
      " |-- State: string (nullable = true)\n",
      " |-- Capital: string (nullable = true)\n",
      " |-- Year: integer (nullable = true)\n",
      " |-- Money: integer (nullable = true)\n",
      " |-- Kilometres: double (nullable = true)\n",
      "\n"
     ]
    }
   ],
   "source": [
    "df_pyspark_usaSELECTCol.printSchema()"
   ]
  },
  {
   "cell_type": "markdown",
   "id": "32027bb7",
   "metadata": {},
   "source": [
    "# Loading data to parquet files"
   ]
  },
  {
   "cell_type": "code",
   "execution_count": 330,
   "id": "a44e0ddf",
   "metadata": {},
   "outputs": [],
   "source": [
    "df_pyspark_usa.coalesce(1).write.mode('overwrite').parquet(\"carsusa.parquet\")"
   ]
  },
  {
   "cell_type": "code",
   "execution_count": 331,
   "id": "3ebaaffd",
   "metadata": {},
   "outputs": [],
   "source": [
    "df_pyspark_pol.coalesce(1).write.mode('overwrite').parquet(\"carspol.parquet\")"
   ]
  },
  {
   "cell_type": "code",
   "execution_count": 332,
   "id": "9fa4a2ff",
   "metadata": {},
   "outputs": [],
   "source": [
    "df_pyspark_nig.coalesce(1).write.mode('overwrite').parquet(\"carsnig.parquet\")"
   ]
  },
  {
   "cell_type": "code",
   "execution_count": 333,
   "id": "bd232e4b",
   "metadata": {},
   "outputs": [],
   "source": [
    "df_pyspark_arg.coalesce(1).write.mode('overwrite').parquet(\"carsarg.parquet\")"
   ]
  }
 ],
 "metadata": {
  "kernelspec": {
   "display_name": "Python 3 (ipykernel)",
   "language": "python",
   "name": "python3"
  },
  "language_info": {
   "codemirror_mode": {
    "name": "ipython",
    "version": 3
   },
   "file_extension": ".py",
   "mimetype": "text/x-python",
   "name": "python",
   "nbconvert_exporter": "python",
   "pygments_lexer": "ipython3",
   "version": "3.9.7"
  }
 },
 "nbformat": 4,
 "nbformat_minor": 5
}
