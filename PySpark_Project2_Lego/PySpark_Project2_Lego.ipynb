{
 "cells": [
  {
   "cell_type": "markdown",
   "id": "4be75338",
   "metadata": {},
   "source": [
    "# Starting Spark Session"
   ]
  },
  {
   "cell_type": "code",
   "execution_count": 1,
   "id": "d4b67a8e",
   "metadata": {},
   "outputs": [],
   "source": [
    "from pyspark.sql import SparkSession,functions, Window\n",
    "from pyspark.sql.functions import *\n",
    "from pyspark.sql.types import IntegerType,BooleanType,DateType, LongType,  DoubleType\n",
    "import glob\n",
    "import datetime\n",
    "\n"
   ]
  },
  {
   "cell_type": "markdown",
   "id": "c6b25998",
   "metadata": {},
   "source": [
    "# Creating a Spark Session called Lego"
   ]
  },
  {
   "cell_type": "code",
   "execution_count": 2,
   "id": "6e82bcb2",
   "metadata": {},
   "outputs": [],
   "source": [
    "spark = SparkSession.builder.appName('Lego').getOrCreate()"
   ]
  },
  {
   "cell_type": "code",
   "execution_count": 3,
   "id": "4eca2b64",
   "metadata": {},
   "outputs": [
    {
     "data": {
      "text/html": [
       "\n",
       "            <div>\n",
       "                <p><b>SparkSession - in-memory</b></p>\n",
       "                \n",
       "        <div>\n",
       "            <p><b>SparkContext</b></p>\n",
       "\n",
       "            <p><a href=\"http://POL-8625NG3.SIIPOLSKA.PL:4040\">Spark UI</a></p>\n",
       "\n",
       "            <dl>\n",
       "              <dt>Version</dt>\n",
       "                <dd><code>v3.4.0</code></dd>\n",
       "              <dt>Master</dt>\n",
       "                <dd><code>local[*]</code></dd>\n",
       "              <dt>AppName</dt>\n",
       "                <dd><code>Lego</code></dd>\n",
       "            </dl>\n",
       "        </div>\n",
       "        \n",
       "            </div>\n",
       "        "
      ],
      "text/plain": [
       "<pyspark.sql.session.SparkSession at 0x1ff1e6c6fa0>"
      ]
     },
     "execution_count": 3,
     "metadata": {},
     "output_type": "execute_result"
    }
   ],
   "source": [
    "spark"
   ]
  },
  {
   "cell_type": "markdown",
   "id": "8bcdc422",
   "metadata": {},
   "source": [
    "# Browsing csv files from a folder"
   ]
  },
  {
   "cell_type": "code",
   "execution_count": 4,
   "id": "19348fd3",
   "metadata": {},
   "outputs": [],
   "source": [
    "path = 'C:\\My commercial projects\\PySpark\\Project 2 PySpark\\Lego'\n",
    "\n",
    "filenames = glob.glob(path + \"\\*.csv\")\n",
    "\n",
    "for file in filenames:\n",
    "    print('File names:', file)"
   ]
  },
  {
   "cell_type": "markdown",
   "id": "cc1fa2a5",
   "metadata": {},
   "source": [
    "# Reading csv files into Spark DataFrame"
   ]
  },
  {
   "cell_type": "code",
   "execution_count": 5,
   "id": "48609e2a",
   "metadata": {},
   "outputs": [],
   "source": [
    "PathLegoColor = r'D:\\My commercial projects\\PySpark\\Project 2 PySpark\\Lego\\colors.csv'\n",
    "PathInventories =r'D:\\My commercial projects\\PySpark\\Project 2 PySpark\\Lego\\inventories.csv'\n",
    "PathInventoriesParts =r'D:\\My commercial projects\\PySpark\\Project 2 PySpark\\Lego\\inventory_parts.csv'\n",
    "PathInventoriesSets =r'D:\\My commercial projects\\PySpark\\Project 2 PySpark\\Lego\\inventory_sets.csv'\n",
    "PathParts = r'D:\\My commercial projects\\PySpark\\Project 2 PySpark\\Lego\\parts.csv'\n",
    "PathPartCategories =r'D:\\My commercial projects\\PySpark\\Project 2 PySpark\\Lego\\part_categories.csv'\n",
    "PathSets = r'D:\\My commercial projects\\PySpark\\Project 2 PySpark\\Lego\\sets.csv'\n",
    "PathThemes =r'D:\\My commercial projects\\PySpark\\Project 2 PySpark\\Lego\\themes.csv'"
   ]
  },
  {
   "cell_type": "code",
   "execution_count": 6,
   "id": "40ddf89e",
   "metadata": {},
   "outputs": [],
   "source": [
    "dfLegoColor = spark.read.csv(PathLegoColor,header=True,inferSchema=True)\n",
    "dfLegoInventories = spark.read.csv(PathInventories,header=True,inferSchema=True)\n",
    "dfLegoInventoriesParts = spark.read.csv(PathInventoriesParts,header=True,inferSchema=True)\n",
    "dfLegoInventoriesSets = spark.read.csv(PathInventoriesSets,header=True,inferSchema=True)\n",
    "dfLegoParts =  spark.read.csv(PathParts,header=True,inferSchema=True)\n",
    "dfLegoPartCategories = spark.read.csv(PathPartCategories,header=True,inferSchema=True)\n",
    "dfLegoSets = spark.read.csv(PathSets,header=True,inferSchema=True)\n",
    "dfLegoThemes = spark.read.csv(PathThemes,header=True,inferSchema=True)"
   ]
  },
  {
   "cell_type": "markdown",
   "id": "3da2e2f0",
   "metadata": {},
   "source": [
    "# Browsing Spark DataFrames"
   ]
  },
  {
   "cell_type": "code",
   "execution_count": 7,
   "id": "da3fbc99",
   "metadata": {},
   "outputs": [
    {
     "name": "stdout",
     "output_type": "stream",
     "text": [
      "+---+---------------+------+--------+\n",
      "| id|           name|   rgb|is_trans|\n",
      "+---+---------------+------+--------+\n",
      "| -1|        Unknown|0033B2|       f|\n",
      "|  0|          Black|05131D|       f|\n",
      "|  1|           Blue|0055BF|       f|\n",
      "|  2|          Green|237841|       f|\n",
      "|  3| Dark Turquoise|008F9B|       f|\n",
      "|  4|            Red|C91A09|       f|\n",
      "|  5|      Dark Pink|C870A0|       f|\n",
      "|  6|          Brown|583927|       f|\n",
      "|  7|     Light Gray|9BA19D|       f|\n",
      "|  8|      Dark Gray|6D6E5C|       f|\n",
      "|  9|     Light Blue|B4D2E3|       f|\n",
      "| 10|   Bright Green|4B9F4A|       f|\n",
      "| 11|Light Turquoise|55A5AF|       f|\n",
      "| 12|         Salmon|F2705E|       f|\n",
      "| 13|           Pink|FC97AC|       f|\n",
      "| 14|         Yellow|F2CD37|       f|\n",
      "| 15|          White|FFFFFF|       f|\n",
      "| 17|    Light Green|C2DAB8|       f|\n",
      "| 18|   Light Yellow|FBE696|       f|\n",
      "| 19|            Tan|E4CD9E|       f|\n",
      "+---+---------------+------+--------+\n",
      "only showing top 20 rows\n",
      "\n"
     ]
    }
   ],
   "source": [
    "dfLegoColor.show()"
   ]
  },
  {
   "cell_type": "code",
   "execution_count": 8,
   "id": "9cb00fb5",
   "metadata": {},
   "outputs": [
    {
     "name": "stdout",
     "output_type": "stream",
     "text": [
      "+---+-------+---------+\n",
      "| id|version|  set_num|\n",
      "+---+-------+---------+\n",
      "|  1|      1|   7922-1|\n",
      "|  3|      1|   3931-1|\n",
      "|  4|      1|   6942-1|\n",
      "| 15|      1|   5158-1|\n",
      "| 16|      1|    903-1|\n",
      "| 17|      1| 850950-1|\n",
      "| 19|      1|   4444-1|\n",
      "| 21|      1|   3474-1|\n",
      "| 22|      1|  30277-1|\n",
      "| 25|      1| 71012-11|\n",
      "| 26|      1|   6435-1|\n",
      "| 27|      1|   3055-1|\n",
      "| 28|      1|   7899-1|\n",
      "| 29|      1|   1076-3|\n",
      "| 30|      1|  40107-1|\n",
      "| 31|      1|     14-4|\n",
      "| 32|      1|  4024-21|\n",
      "| 33|      1|   6356-1|\n",
      "| 34|      1| 71017-20|\n",
      "| 35|      1|5004559-1|\n",
      "+---+-------+---------+\n",
      "only showing top 20 rows\n",
      "\n"
     ]
    }
   ],
   "source": [
    "dfLegoInventories.show()"
   ]
  },
  {
   "cell_type": "code",
   "execution_count": 9,
   "id": "da49575e",
   "metadata": {},
   "outputs": [
    {
     "name": "stdout",
     "output_type": "stream",
     "text": [
      "+------------+-----------+--------+--------+--------+\n",
      "|inventory_id|   part_num|color_id|quantity|is_spare|\n",
      "+------------+-----------+--------+--------+--------+\n",
      "|           1|   48379c01|      72|       1|       f|\n",
      "|           1|      48395|       7|       1|       f|\n",
      "|           1|   mcsport6|      25|       1|       f|\n",
      "|           1|     paddle|       0|       1|       f|\n",
      "|           3|11816pr0005|      78|       1|       f|\n",
      "|           3|       2343|      47|       1|       f|\n",
      "|           3|       3003|      29|       1|       f|\n",
      "|           3|      30176|       2|       1|       f|\n",
      "|           3|       3020|      15|       1|       f|\n",
      "|           3|       3022|      15|       2|       f|\n",
      "|           3|       3023|      15|       1|       f|\n",
      "|           3|      30357|      29|       4|       f|\n",
      "|           3|       3039|      15|       1|       f|\n",
      "|           3|      3062b|      15|       1|       f|\n",
      "|           3|      3068b|      29|       1|       f|\n",
      "|           3|      3069b|      29|       2|       f|\n",
      "|           3|      3069b|      27|       5|       f|\n",
      "|           3|      33291|     191|       3|       f|\n",
      "|           3|      33291|     191|       1|       t|\n",
      "|           3|       3795|      15|       1|       f|\n",
      "+------------+-----------+--------+--------+--------+\n",
      "only showing top 20 rows\n",
      "\n"
     ]
    }
   ],
   "source": [
    "dfLegoInventoriesParts.show()"
   ]
  },
  {
   "cell_type": "code",
   "execution_count": 10,
   "id": "82404ebb",
   "metadata": {},
   "outputs": [
    {
     "name": "stdout",
     "output_type": "stream",
     "text": [
      "+------------+-------+--------+\n",
      "|inventory_id|set_num|quantity|\n",
      "+------------+-------+--------+\n",
      "|          35|75911-1|       1|\n",
      "|          35|75912-1|       1|\n",
      "|          39|75048-1|       1|\n",
      "|          39|75053-1|       1|\n",
      "|          50| 4515-1|       1|\n",
      "|          50| 4520-1|       2|\n",
      "|          50| 4531-1|       1|\n",
      "|          71| 7690-1|       1|\n",
      "|          71| 7691-1|       1|\n",
      "|          71| 7692-1|       1|\n",
      "|          71| 7693-1|       1|\n",
      "|          71| 7694-1|       1|\n",
      "|          71| 7695-1|       1|\n",
      "|          71| 7697-1|       1|\n",
      "|          81| 8451-1|       1|\n",
      "|          81| 8453-1|       1|\n",
      "|          87|10233-1|       1|\n",
      "|          87|88002-1|       1|\n",
      "|          87| 8870-1|       1|\n",
      "|          87| 8878-1|       1|\n",
      "+------------+-------+--------+\n",
      "only showing top 20 rows\n",
      "\n"
     ]
    }
   ],
   "source": [
    "dfLegoInventoriesSets.show()"
   ]
  },
  {
   "cell_type": "code",
   "execution_count": 11,
   "id": "5ecae63e",
   "metadata": {},
   "outputs": [
    {
     "name": "stdout",
     "output_type": "stream",
     "text": [
      "+-----------+------------------------------------------------------------------------------+-----------+\n",
      "|part_num   |name                                                                          |part_cat_id|\n",
      "+-----------+------------------------------------------------------------------------------+-----------+\n",
      "|0687b1     |Set 0687 Activity Booklet 1                                                   |17         |\n",
      "|0901       |Baseplate 16 x 30 with Set 080 Yellow House Print                             |1          |\n",
      "|0902       |Baseplate 16 x 24 with Set 080 Small White House Print                        |1          |\n",
      "|0903       |Baseplate 16 x 24 with Set 080 Red House Print                                |1          |\n",
      "|0904       |Baseplate 16 x 24 with Set 080 Large White House Print                        |1          |\n",
      "|1          |Homemaker Bookcase 2 x 4 x 4                                                  |7          |\n",
      "|10         |Baseplate 24 x 32                                                             |1          |\n",
      "|10016414   |Sticker Sheet #1 for 41055-1                                                  |17         |\n",
      "|10019stk01 |Sticker for Set 10019 - (43274/4170393)                                       |17         |\n",
      "|10026stk01 |Sticker for Set 10026 - (44942/4184185)                                       |17         |\n",
      "|10029stk01 |Sticker for Set 10029 - (4216816)                                             |17         |\n",
      "|10036stk01 |Sticker for Set 10036 - (821407)                                              |17         |\n",
      "|10039      |Pullback Motor 8 x 4 x 2/3                                                    |44         |\n",
      "|10048      |Minifig Hair Tousled                                                          |13         |\n",
      "|10049      |Minifig Shield Broad with Spiked Bottom and Cutout Corner                     |27         |\n",
      "|10049pr0001|Minifig Shield Broad with Spiked Bottom and Cutout Corner with Handprint Print|27         |\n",
      "|10050      |Minifig Sword [Uruk-hai]                                                      |27         |\n",
      "|10051      |Minifig Helmet Castle with Lateral Comb [Uruk-hai]                            |27         |\n",
      "|10051pr01  |Minifig Helmet Castle with Lateral Comb and Handprint Print                   |27         |\n",
      "|10052      |Minifig Beard, Rounded End [Gandalf]                                          |27         |\n",
      "+-----------+------------------------------------------------------------------------------+-----------+\n",
      "only showing top 20 rows\n",
      "\n"
     ]
    }
   ],
   "source": [
    "dfLegoParts.show(truncate=False)"
   ]
  },
  {
   "cell_type": "code",
   "execution_count": 12,
   "id": "bd28e4eb",
   "metadata": {},
   "outputs": [
    {
     "name": "stdout",
     "output_type": "stream",
     "text": [
      "+---+---------------------------+\n",
      "|id |name                       |\n",
      "+---+---------------------------+\n",
      "|1  |Baseplates                 |\n",
      "|2  |Bricks Printed             |\n",
      "|3  |Bricks Sloped              |\n",
      "|4  |Duplo, Quatro and Primo    |\n",
      "|5  |Bricks Special             |\n",
      "|6  |Bricks Wedged              |\n",
      "|7  |Containers                 |\n",
      "|8  |Technic Bricks             |\n",
      "|9  |Plates Special             |\n",
      "|10 |Tiles Printed              |\n",
      "|11 |Bricks                     |\n",
      "|12 |Technic Connectors         |\n",
      "|13 |Minifigs                   |\n",
      "|14 |Plates                     |\n",
      "|15 |Tiles Special              |\n",
      "|16 |Windows and Doors          |\n",
      "|17 |Non-LEGO                   |\n",
      "|18 |Hinges, Arms and Turntables|\n",
      "|19 |Tiles                      |\n",
      "|20 |Bricks Round and Cones     |\n",
      "+---+---------------------------+\n",
      "only showing top 20 rows\n",
      "\n"
     ]
    }
   ],
   "source": [
    "dfLegoPartCategories.show(truncate=False)"
   ]
  },
  {
   "cell_type": "code",
   "execution_count": 13,
   "id": "833990f9",
   "metadata": {},
   "outputs": [
    {
     "name": "stdout",
     "output_type": "stream",
     "text": [
      "+-------+---------------------------------+----+--------+---------+\n",
      "|set_num|name                             |year|theme_id|num_parts|\n",
      "+-------+---------------------------------+----+--------+---------+\n",
      "|00-1   |Weetabix Castle                  |1970|414     |471      |\n",
      "|0011-2 |Town Mini-Figures                |1978|84      |12       |\n",
      "|0011-3 |Castle 2 for 1 Bonus Offer       |1987|199     |2        |\n",
      "|0012-1 |Space Mini-Figures               |1979|143     |12       |\n",
      "|0013-1 |Space Mini-Figures               |1979|143     |12       |\n",
      "|0014-1 |Space Mini-Figures               |1979|143     |12       |\n",
      "|0015-1 |Space Mini-Figures               |1979|143     |18       |\n",
      "|0016-1 |Castle Mini Figures              |1978|186     |15       |\n",
      "|00-2   |Weetabix Promotional House 1     |1976|413     |147      |\n",
      "|00-3   |Weetabix Promotional House 2     |1976|413     |149      |\n",
      "|00-4   |Weetabix Promotional Windmill    |1976|413     |126      |\n",
      "|005-1  |Basic Building Set in Cardboard  |1965|366     |35       |\n",
      "|00-6   |Special Offer                    |1985|67      |3        |\n",
      "|00-7   |Weetabix Promotional Lego Village|1976|413     |3        |\n",
      "|010-1  |Basic Building Set in Cardboard  |1965|366     |57       |\n",
      "|010-3  |Basic Building Set               |1968|366     |77       |\n",
      "|011-1  |Basic Building Set               |1968|366     |145      |\n",
      "|022-1  |Basic Building Set               |1968|366     |110      |\n",
      "|03093-1|The Race to Build It Board Game  |1999|502     |70       |\n",
      "|033-2  |Basic Building Set               |1968|366     |177      |\n",
      "+-------+---------------------------------+----+--------+---------+\n",
      "only showing top 20 rows\n",
      "\n"
     ]
    }
   ],
   "source": [
    "dfLegoSets.show(truncate=False)"
   ]
  },
  {
   "cell_type": "code",
   "execution_count": 14,
   "id": "d3813dcf",
   "metadata": {},
   "outputs": [
    {
     "name": "stdout",
     "output_type": "stream",
     "text": [
      "+---+---------------+---------+\n",
      "| id|           name|parent_id|\n",
      "+---+---------------+---------+\n",
      "|  1|        Technic|     null|\n",
      "|  2| Arctic Technic|        1|\n",
      "|  3|    Competition|        1|\n",
      "|  4| Expert Builder|        1|\n",
      "|  5|          Model|        1|\n",
      "|  6|        Airport|        5|\n",
      "|  7|   Construction|        5|\n",
      "|  8|           Farm|        5|\n",
      "|  9|           Fire|        5|\n",
      "| 10|         Harbor|        5|\n",
      "| 11|       Off-Road|        5|\n",
      "| 12|           Race|        5|\n",
      "| 13|   Riding Cycle|        5|\n",
      "| 14|          Robot|        5|\n",
      "| 15|        Traffic|        5|\n",
      "| 16|     RoboRiders|        1|\n",
      "| 17| Speed Slammers|        1|\n",
      "| 18|      Star Wars|        1|\n",
      "| 19|   Supplemental|        1|\n",
      "| 20|Throwbot Slizer|        1|\n",
      "+---+---------------+---------+\n",
      "only showing top 20 rows\n",
      "\n"
     ]
    }
   ],
   "source": [
    "dfLegoThemes.show()"
   ]
  },
  {
   "cell_type": "markdown",
   "id": "4e5d5d17",
   "metadata": {},
   "source": [
    "# Combining DataFrames "
   ]
  },
  {
   "cell_type": "code",
   "execution_count": 15,
   "id": "ccfce7ff",
   "metadata": {},
   "outputs": [
    {
     "name": "stdout",
     "output_type": "stream",
     "text": [
      "+-------+---------------------------------+----+------------+\n",
      "|set_num|NameSets                         |Year|NameThemes  |\n",
      "+-------+---------------------------------+----+------------+\n",
      "|00-1   |Weetabix Castle                  |1970|Castle      |\n",
      "|0011-2 |Town Mini-Figures                |1978|Supplemental|\n",
      "|0011-3 |Castle 2 for 1 Bonus Offer       |1987|Lion Knights|\n",
      "|0012-1 |Space Mini-Figures               |1979|Supplemental|\n",
      "|0013-1 |Space Mini-Figures               |1979|Supplemental|\n",
      "|0014-1 |Space Mini-Figures               |1979|Supplemental|\n",
      "|0015-1 |Space Mini-Figures               |1979|Supplemental|\n",
      "|0016-1 |Castle Mini Figures              |1978|Castle      |\n",
      "|00-2   |Weetabix Promotional House 1     |1976|Building    |\n",
      "|00-3   |Weetabix Promotional House 2     |1976|Building    |\n",
      "|00-4   |Weetabix Promotional Windmill    |1976|Building    |\n",
      "|005-1  |Basic Building Set in Cardboard  |1965|Basic Set   |\n",
      "|00-6   |Special Offer                    |1985|Classic Town|\n",
      "|00-7   |Weetabix Promotional Lego Village|1976|Building    |\n",
      "|010-1  |Basic Building Set in Cardboard  |1965|Basic Set   |\n",
      "|010-3  |Basic Building Set               |1968|Basic Set   |\n",
      "|011-1  |Basic Building Set               |1968|Basic Set   |\n",
      "|022-1  |Basic Building Set               |1968|Basic Set   |\n",
      "|03093-1|The Race to Build It Board Game  |1999|Game        |\n",
      "|033-2  |Basic Building Set               |1968|Basic Set   |\n",
      "+-------+---------------------------------+----+------------+\n",
      "only showing top 20 rows\n",
      "\n"
     ]
    }
   ],
   "source": [
    "dfLegoSetsThemes = dfLegoSets.join(dfLegoThemes,dfLegoSets[\"theme_id\"] == dfLegoThemes[\"id\"], 'inner') \\\n",
    "                .select(dfLegoSets[\"set_num\"],\n",
    "                       dfLegoSets[\"name\"].alias(\"NameSets\"),\n",
    "                       dfLegoSets[\"year\"].alias(\"Year\"),\n",
    "                       dfLegoThemes[\"name\"].alias('NameThemes'))\n",
    "dfLegoSetsThemes.show(truncate=False)"
   ]
  },
  {
   "cell_type": "code",
   "execution_count": 16,
   "id": "b79d2ddc",
   "metadata": {},
   "outputs": [
    {
     "name": "stdout",
     "output_type": "stream",
     "text": [
      "+-------+---------+--------+-----------+-------+----------+-------+\n",
      "|set_num|InvSetQTy|part_num|InvPartsQty|IsSpare|ColorName |IsTrans|\n",
      "+-------+---------+--------+-----------+-------+----------+-------+\n",
      "|8884-1 |1        |8887-1  |1          |f      |[No Color]|f      |\n",
      "|8879-1 |1        |8887-1  |1          |f      |[No Color]|f      |\n",
      "|8878-1 |1        |8887-1  |1          |f      |[No Color]|f      |\n",
      "|8870-1 |1        |8887-1  |1          |f      |[No Color]|f      |\n",
      "|88002-1|1        |8887-1  |1          |f      |[No Color]|f      |\n",
      "|10233-1|1        |8887-1  |1          |f      |[No Color]|f      |\n",
      "|8596-1 |1        |48419   |1          |f      |Black     |f      |\n",
      "|8593-1 |1        |48419   |1          |f      |Black     |f      |\n",
      "|7958-9 |1        |4625992 |1          |f      |Royal Blue|f      |\n",
      "|7958-8 |1        |4625992 |1          |f      |Royal Blue|f      |\n",
      "|7958-7 |1        |4625992 |1          |f      |Royal Blue|f      |\n",
      "|7958-6 |1        |4625992 |1          |f      |Royal Blue|f      |\n",
      "|7958-5 |1        |4625992 |1          |f      |Royal Blue|f      |\n",
      "|7958-4 |1        |4625992 |1          |f      |Royal Blue|f      |\n",
      "|7958-3 |1        |4625992 |1          |f      |Royal Blue|f      |\n",
      "|7958-25|1        |4625992 |1          |f      |Royal Blue|f      |\n",
      "|7958-24|1        |4625992 |1          |f      |Royal Blue|f      |\n",
      "|7958-23|1        |4625992 |1          |f      |Royal Blue|f      |\n",
      "|7958-22|1        |4625992 |1          |f      |Royal Blue|f      |\n",
      "|7958-21|1        |4625992 |1          |f      |Royal Blue|f      |\n",
      "+-------+---------+--------+-----------+-------+----------+-------+\n",
      "only showing top 20 rows\n",
      "\n"
     ]
    }
   ],
   "source": [
    "dfLegoInvSetsInvPartsColor = dfLegoInventoriesSets.join(dfLegoInventories\n",
    "                                                        ,dfLegoInventoriesSets[\"inventory_id\"] == dfLegoInventories[\"id\"],\n",
    "                                                        'inner') \\\n",
    "                .join(dfLegoInventoriesParts, \n",
    "                      dfLegoInventories[\"id\"] == dfLegoInventoriesParts[\"inventory_id\"]\n",
    "                      ,'inner') \\\n",
    "                .join(dfLegoColor,dfLegoInventoriesParts['color_id'] == dfLegoColor['id']\n",
    "                      , 'inner') \\\n",
    "                .select(dfLegoInventoriesSets.set_num,\n",
    "                        dfLegoInventoriesSets.quantity.alias(\"InvSetQTy\"), \n",
    "                        dfLegoInventoriesParts.part_num,\n",
    "                        dfLegoInventoriesParts.quantity.alias(\"InvPartsQty\"),\n",
    "                        dfLegoInventoriesParts.is_spare.alias(\"IsSpare\"),\n",
    "                        dfLegoColor.name.alias(\"ColorName\"), \n",
    "                        dfLegoColor.is_trans.alias(\"IsTrans\"))\n",
    "\n",
    "dfLegoInvSetsInvPartsColor.show(truncate=False)"
   ]
  },
  {
   "cell_type": "code",
   "execution_count": 17,
   "id": "ed5fadac",
   "metadata": {},
   "outputs": [
    {
     "name": "stdout",
     "output_type": "stream",
     "text": [
      "+-----------+------------------------------------------------------------------------------+-------------------+\n",
      "|part_num   |PartsName                                                                     |PartCatName        |\n",
      "+-----------+------------------------------------------------------------------------------+-------------------+\n",
      "|0687b1     |Set 0687 Activity Booklet 1                                                   |Non-LEGO           |\n",
      "|0901       |Baseplate 16 x 30 with Set 080 Yellow House Print                             |Baseplates         |\n",
      "|0902       |Baseplate 16 x 24 with Set 080 Small White House Print                        |Baseplates         |\n",
      "|0903       |Baseplate 16 x 24 with Set 080 Red House Print                                |Baseplates         |\n",
      "|0904       |Baseplate 16 x 24 with Set 080 Large White House Print                        |Baseplates         |\n",
      "|1          |Homemaker Bookcase 2 x 4 x 4                                                  |Containers         |\n",
      "|10         |Baseplate 24 x 32                                                             |Baseplates         |\n",
      "|10016414   |Sticker Sheet #1 for 41055-1                                                  |Non-LEGO           |\n",
      "|10019stk01 |Sticker for Set 10019 - (43274/4170393)                                       |Non-LEGO           |\n",
      "|10026stk01 |Sticker for Set 10026 - (44942/4184185)                                       |Non-LEGO           |\n",
      "|10029stk01 |Sticker for Set 10029 - (4216816)                                             |Non-LEGO           |\n",
      "|10036stk01 |Sticker for Set 10036 - (821407)                                              |Non-LEGO           |\n",
      "|10039      |Pullback Motor 8 x 4 x 2/3                                                    |Mechanical         |\n",
      "|10048      |Minifig Hair Tousled                                                          |Minifigs           |\n",
      "|10049      |Minifig Shield Broad with Spiked Bottom and Cutout Corner                     |Minifig Accessories|\n",
      "|10049pr0001|Minifig Shield Broad with Spiked Bottom and Cutout Corner with Handprint Print|Minifig Accessories|\n",
      "|10050      |Minifig Sword [Uruk-hai]                                                      |Minifig Accessories|\n",
      "|10051      |Minifig Helmet Castle with Lateral Comb [Uruk-hai]                            |Minifig Accessories|\n",
      "|10051pr01  |Minifig Helmet Castle with Lateral Comb and Handprint Print                   |Minifig Accessories|\n",
      "|10052      |Minifig Beard, Rounded End [Gandalf]                                          |Minifig Accessories|\n",
      "+-----------+------------------------------------------------------------------------------+-------------------+\n",
      "only showing top 20 rows\n",
      "\n"
     ]
    }
   ],
   "source": [
    "dfLegoPartsPartCategories = dfLegoParts.join(dfLegoPartCategories, dfLegoParts[\"part_cat_id\"] == dfLegoPartCategories[\"id\"],\n",
    "                                             'inner') \\\n",
    "                       .select(\n",
    "                       dfLegoParts[\"part_num\"],\n",
    "                       dfLegoParts[\"name\"].alias(\"PartsName\"),\n",
    "                       dfLegoPartCategories[\"name\"].alias(\"PartCatName\"))\n",
    "\n",
    "\n",
    "dfLegoPartsPartCategories.show(truncate=False) "
   ]
  },
  {
   "cell_type": "markdown",
   "id": "133bbb5b",
   "metadata": {},
   "source": [
    "# Combining all PySpark DataFrames into one"
   ]
  },
  {
   "cell_type": "markdown",
   "id": "7982887b",
   "metadata": {},
   "source": [
    "## Final Lego DataFrame"
   ]
  },
  {
   "cell_type": "code",
   "execution_count": 18,
   "id": "5cb2c4d2",
   "metadata": {},
   "outputs": [
    {
     "name": "stdout",
     "output_type": "stream",
     "text": [
      "+--------------------+---------------+----+---------+--------------------+-----------+-----------+-------+----------+-------+\n",
      "|            NameSets|     NameThemes|Year|InvSetQty|           PartsName|PartCatName|InvPartsQty|IsSpare| ColorName|IsTrans|\n",
      "+--------------------+---------------+----+---------+--------------------+-----------+-----------+-------+----------+-------+\n",
      "|Power Functions I...|Power Functions|2008|        1|(Set) Power Funct...|      Other|          1|      f|[No Color]|      f|\n",
      "|IR Speed Remote C...|Power Functions|2009|        1|(Set) Power Funct...|      Other|          1|      f|[No Color]|      f|\n",
      "+--------------------+---------------+----+---------+--------------------+-----------+-----------+-------+----------+-------+\n",
      "only showing top 2 rows\n",
      "\n"
     ]
    },
    {
     "data": {
      "text/plain": [
       "(None, pyspark.sql.dataframe.DataFrame)"
      ]
     },
     "execution_count": 18,
     "metadata": {},
     "output_type": "execute_result"
    }
   ],
   "source": [
    "dfFinalLego =dfLegoSetsThemes.join(dfLegoInvSetsInvPartsColor,\n",
    "                                   dfLegoSetsThemes[\"set_num\"] == dfLegoInvSetsInvPartsColor[\"set_num\"]\n",
    "                      ,'inner') \\\n",
    "                .join(dfLegoPartsPartCategories,dfLegoInvSetsInvPartsColor[\"part_num\"] ==dfLegoPartsPartCategories[\"part_num\"],\n",
    "                     'inner') \\\n",
    "                .select(dfLegoSetsThemes[\"NameSets\"],\n",
    "                     dfLegoSetsThemes[\"NameThemes\"],\n",
    "                       dfLegoSetsThemes[\"Year\"],\n",
    "                       dfLegoInvSetsInvPartsColor[\"InvSetQty\"],\n",
    "                       dfLegoPartsPartCategories[\"PartsName\"],\n",
    "                       dfLegoPartsPartCategories[\"PartCatName\"],\n",
    "                       dfLegoInvSetsInvPartsColor[\"InvPartsQty\"],\n",
    "                       dfLegoInvSetsInvPartsColor[\"IsSpare\"],\n",
    "                       dfLegoInvSetsInvPartsColor[\"ColorName\"],\n",
    "                       dfLegoInvSetsInvPartsColor[\"IsTrans\"]\n",
    "                       ) \n",
    "dfFinalLego.show(2), type(dfFinalLego)"
   ]
  },
  {
   "cell_type": "markdown",
   "id": "858c587d",
   "metadata": {},
   "source": [
    "## Final Inventory Sets DataFrame"
   ]
  },
  {
   "cell_type": "code",
   "execution_count": 19,
   "id": "e54d7a01",
   "metadata": {},
   "outputs": [
    {
     "name": "stdout",
     "output_type": "stream",
     "text": [
      "+-------------------------------------------------------+--------------------+----+---------+\n",
      "|NameSets                                               |NameThemes          |Year|InvSetQty|\n",
      "+-------------------------------------------------------+--------------------+----+---------+\n",
      "|Light Flyer                                            |Insectoids          |1999|1        |\n",
      "|Advent Calendar 2002 Creator (Day 18) Space Shuttle    |Creator             |2002|1        |\n",
      "|Rocker Girl - Complete Set                             |Series 7 Minifigures|2012|1        |\n",
      "|Swimming Champion - Complete Set                       |Series 7 Minifigures|2012|1        |\n",
      "|Basic Bricks -- Medium                                 |Supplemental        |2008|1        |\n",
      "|Advent Calendar 2008 City (Day 12) Oven                |City                |2008|1        |\n",
      "|Flora's Bubbling Bath                                  |Fairy-Tale          |2002|1        |\n",
      "|Race Car Driver - Complete Set                         |Series 3 Minifigures|2011|1        |\n",
      "|Basic Bricks -- Medium                                 |Supplemental        |2008|1        |\n",
      "|Go-Cart                                                |Race                |1999|1        |\n",
      "|Lunar MPV Vehicle                                      |Futuron             |1990|1        |\n",
      "|MX-11 Astro Fighter                                    |Mars Mission        |2007|1        |\n",
      "|Advent Calendar 2004 Clikits (Day 11) Icons            |Clikits             |2004|1        |\n",
      "|Fireboat                                               |Fire                |2007|1        |\n",
      "|Advent Calendar 2014, Friends (Day 3) - Gift and Basket|Friends             |2014|1        |\n",
      "|Snax                                                   |Series 6            |2015|1        |\n",
      "|Fire Station                                           |Fire                |2013|1        |\n",
      "|MX-11 Astro Fighter                                    |Mars Mission        |2007|1        |\n",
      "|Fireboat                                               |Fire                |2007|1        |\n",
      "|Advent Calendar 2006 City (Day 19) Mechanic            |City                |2006|1        |\n",
      "+-------------------------------------------------------+--------------------+----+---------+\n",
      "only showing top 20 rows\n",
      "\n"
     ]
    },
    {
     "data": {
      "text/plain": [
       "(None, pyspark.sql.dataframe.DataFrame)"
      ]
     },
     "execution_count": 19,
     "metadata": {},
     "output_type": "execute_result"
    }
   ],
   "source": [
    "dfFinalLegoInvSetTheme = dfLegoInventoriesSets.join(dfLegoInventories\n",
    "                                                        ,dfLegoInventoriesSets[\"inventory_id\"] == dfLegoInventories[\"id\"],\n",
    "                                                        'inner') \\\n",
    "                    .join(dfLegoSetsThemes,dfLegoInventoriesSets[\"set_num\"] ==dfLegoSetsThemes[\"set_num\"],\n",
    "                          'inner') \\\n",
    "                    .select(dfLegoSetsThemes[\"NameSets\"],\n",
    "                           dfLegoSetsThemes[\"NameThemes\"],\n",
    "                           dfLegoSetsThemes[\"Year\"],\n",
    "                           dfLegoInventoriesSets['quantity'].alias(\"InvSetQty\"))\n",
    "\n",
    "dfFinalLegoInvSetTheme.show(truncate=False), type(dfFinalLegoInvSetTheme)"
   ]
  },
  {
   "cell_type": "markdown",
   "id": "2070202e",
   "metadata": {},
   "source": [
    "## Final Inventory Parts DataFrame"
   ]
  },
  {
   "cell_type": "code",
   "execution_count": 20,
   "id": "8e76934f",
   "metadata": {},
   "outputs": [
    {
     "name": "stdout",
     "output_type": "stream",
     "text": [
      "+----------------------------------------+---------------------------------------+-----------------+-------+----------+-------+\n",
      "|                               PartsName|                            PartCatName|        ColorName|IsTrans|InvPartQty|IsSpare|\n",
      "+----------------------------------------+---------------------------------------+-----------------+-------+----------+-------+\n",
      "|               Minifig Space Gun / Torch|                    Minifig Accessories|       Light Gray|      f|         1|      f|\n",
      "|Plate Special 1 x 1 with Clip Vertica...|                         Plates Special| Dark Bluish Gray|      f|         6|      f|\n",
      "|Plate Special 1 x 1 with Clip Vertica...|                         Plates Special|Light Bluish Gray|      f|         2|      f|\n",
      "|Plate Special 1 x 1 with Clip Vertica...|                         Plates Special|Light Bluish Gray|      f|         6|      f|\n",
      "|               Minifig Space Gun / Torch|                    Minifig Accessories|              Red|      f|         2|      f|\n",
      "|               Minifig Space Gun / Torch|                    Minifig Accessories| Dark Bluish Gray|      f|         2|      f|\n",
      "|Bionicle Weapon Toa Flame Sword 2 x 1...|Bionicle, Hero Factory and Constraction|            Black|      f|         6|      f|\n",
      "|Plate Special 1 x 1 with Clip Vertica...|                         Plates Special|           Yellow|      f|         1|      f|\n",
      "|Plate Special 1 x 1 with Clip Vertica...|                         Plates Special| Dark Bluish Gray|      f|         2|      f|\n",
      "|Plate Special 1 x 1 with Clip Vertica...|                         Plates Special|            White|      f|         2|      f|\n",
      "|          FOUR-SIDED SIGN WITH SNAP NO.3|       Flags, Signs, Plastics and Cloth|            White|      f|         1|      f|\n",
      "|Body Rock Monster with Dark Bluish Gr...|                               Minifigs| Trans-Neon Green|      t|         1|      f|\n",
      "|               Minifig Space Gun / Torch|                    Minifig Accessories|            White|      f|         1|      f|\n",
      "|               Minifig Space Gun / Torch|                    Minifig Accessories|Light Bluish Gray|      f|         5|      f|\n",
      "|Plate Special 1 x 1 with Clip Vertica...|                         Plates Special|            Black|      f|         4|      f|\n",
      "|Train Wheel Small, hole notched for w...|                       Wheels and Tyres|            Black|      f|         2|      f|\n",
      "|Plate Special 1 x 1 with Clip Vertica...|                         Plates Special| Dark Bluish Gray|      f|         5|      f|\n",
      "|Plate Special 1 x 1 with Clip Vertica...|                         Plates Special|            White|      f|         8|      f|\n",
      "|Plate Special 1 x 1 with Clip Vertica...|                         Plates Special|            Black|      f|         3|      f|\n",
      "|Plate Special 1 x 1 with Clip Vertica...|                         Plates Special|      Medium Blue|      f|         4|      f|\n",
      "+----------------------------------------+---------------------------------------+-----------------+-------+----------+-------+\n",
      "only showing top 20 rows\n",
      "\n"
     ]
    },
    {
     "data": {
      "text/plain": [
       "(None, pyspark.sql.dataframe.DataFrame)"
      ]
     },
     "execution_count": 20,
     "metadata": {},
     "output_type": "execute_result"
    }
   ],
   "source": [
    "dfFinalLegoInventoryParts =dfLegoInventoriesParts.join(dfLegoColor,dfLegoInventoriesParts['color_id'] == dfLegoColor['id']\n",
    "                      , 'inner') \\\n",
    "                .join(dfLegoPartsPartCategories, dfLegoInventoriesParts[\"part_num\"] == dfLegoPartsPartCategories[\"part_num\"],\n",
    "                     'inner') \\\n",
    "                .select(dfLegoPartsPartCategories[\"PartsName\"],\n",
    "                       dfLegoPartsPartCategories[\"PartCatName\"],\n",
    "                       dfLegoColor[\"name\"].alias(\"ColorName\"),\n",
    "                       dfLegoColor[\"is_trans\"].alias(\"IsTrans\"),\n",
    "                       dfLegoInventoriesParts[\"quantity\"].alias(\"InvPartQty\"),\n",
    "                       dfLegoInventoriesParts[\"is_spare\"].alias(\"IsSpare\"))\n",
    "\n",
    "dfFinalLegoInventoryParts.show(20,40), type(dfFinalLegoInventoryParts)"
   ]
  },
  {
   "cell_type": "markdown",
   "id": "85695ca7",
   "metadata": {},
   "source": [
    "## DataFrame that sets has no inventory items"
   ]
  },
  {
   "cell_type": "code",
   "execution_count": 21,
   "id": "57d140e0",
   "metadata": {},
   "outputs": [
    {
     "name": "stdout",
     "output_type": "stream",
     "text": [
      "+----------------+--------------------+----+---------+--------------------+----------+-----------+-------+----------+-------+\n",
      "|      NameThemes|            NameSets|Year|InvSetQty|           PartsName|InvPartQty|PartCatName|IsSpare|     Color|IsTrans|\n",
      "+----------------+--------------------+----+---------+--------------------+----------+-----------+-------+----------+-------+\n",
      "| Speed Champions|McLaren Mercedes ...|2015|        1|                null|      null|       null|   null|      null|   null|\n",
      "| Speed Champions|Porsche 911 GT Fi...|2015|        1|                null|      null|       null|   null|      null|   null|\n",
      "|Star Wars Rebels|         The Phantom|2014|        1|                null|      null|       null|   null|      null|   null|\n",
      "|Star Wars Rebels|           The Ghost|2014|        1|                null|      null|       null|   null|      null|   null|\n",
      "|              9V|      Straight Rails|1991|        1|                null|      null|       null|   null|      null|   null|\n",
      "|              9V|        Curved Rails|1991|        2|                null|      null|       null|   null|      null|   null|\n",
      "|              9V|       Manual Points|1991|        1|                null|      null|       null|   null|      null|   null|\n",
      "|    Mars Mission|MB-01 Eagle Comma...|2007|        1|                null|      null|       null|   null|      null|   null|\n",
      "|    Mars Mission|ETX Alien Mothers...|2007|        1|                null|      null|       null|   null|      null|   null|\n",
      "|    Mars Mission|MX-71 Recon Dropship|2007|        1|                null|      null|       null|   null|      null|   null|\n",
      "|    Mars Mission|    ETX Alien Strike|2007|        1|                null|      null|       null|   null|      null|   null|\n",
      "|    Mars Mission|         MT-31 Trike|2007|        1|                null|      null|       null|   null|      null|   null|\n",
      "|    Mars Mission| MX-11 Astro Fighter|2007|        1|                null|      null|       null|   null|      null|   null|\n",
      "|    Mars Mission|MT-51 Claw-Tank A...|2007|        1|                null|      null|       null|   null|      null|   null|\n",
      "|    Construction|              Dumper|2003|        1|                null|      null|       null|   null|      null|   null|\n",
      "|    Construction|    Front End Loader|2003|        1|                null|      null|       null|   null|      null|   null|\n",
      "|        RC Train|     Horizon Express|2013|        1|(Set) Power Funct...|         1|      Other|      f|[No Color]|      f|\n",
      "| Power Functions|Power Functions T...|2011|        1|(Set) Power Funct...|         1|      Other|      f|[No Color]|      f|\n",
      "| Power Functions|Power Functions L...|2009|        1|(Set) Power Funct...|         1|      Other|      f|[No Color]|      f|\n",
      "| Power Functions|Rechargeable Batt...|2009|        1|(Set) Power Funct...|         1|      Other|      f|[No Color]|      f|\n",
      "+----------------+--------------------+----+---------+--------------------+----------+-----------+-------+----------+-------+\n",
      "only showing top 20 rows\n",
      "\n"
     ]
    },
    {
     "data": {
      "text/plain": [
       "(None, pyspark.sql.dataframe.DataFrame)"
      ]
     },
     "execution_count": 21,
     "metadata": {},
     "output_type": "execute_result"
    }
   ],
   "source": [
    "dfLegoInvSetsInvPartsLeft = dfLegoInventoriesSets.join(dfLegoInventories\n",
    "                                                        ,dfLegoInventoriesSets[\"inventory_id\"] == dfLegoInventories[\"id\"],\n",
    "                                                        'left') \\\n",
    "                    .join(dfLegoInventoriesParts, \n",
    "                      dfLegoInventories[\"id\"] == dfLegoInventoriesParts[\"inventory_id\"],\n",
    "                      'left').join(dfLegoSetsThemes,\n",
    "                      dfLegoInventoriesSets[\"set_num\"] == dfLegoSetsThemes[\"set_num\"],\n",
    "                       \"left\").join(dfLegoPartsPartCategories,\n",
    "                      dfLegoInventoriesParts[\"part_num\"] ==dfLegoPartsPartCategories[\"part_num\"],\n",
    "                     'left') \\\n",
    "                    .join(dfLegoColor,dfLegoInventoriesParts[\"color_id\"] ==dfLegoColor[\"id\"],\n",
    "                         \"left\") \\\n",
    "                    .select(dfLegoSetsThemes['NameThemes'],\n",
    "                            dfLegoSetsThemes['NameSets'],\n",
    "                            dfLegoSetsThemes['Year'],\n",
    "                            dfLegoInventoriesSets[\"quantity\"].alias(\"InvSetQty\"),\n",
    "                            dfLegoPartsPartCategories['PartsName'],\n",
    "                            dfLegoInventoriesParts[\"quantity\"].alias(\"InvPartQty\"),\n",
    "                            dfLegoPartsPartCategories['PartCatName'],\n",
    "                            dfLegoInventoriesParts[\"is_spare\"].alias(\"IsSpare\"),\n",
    "                            dfLegoColor[\"name\"].alias(\"Color\"),\n",
    "                            dfLegoColor[\"is_trans\"].alias(\"IsTrans\")\n",
    "                           \n",
    "                       )\n",
    "\n",
    "dfLegoInvSetsInvPartsLeft.show(), type(dfLegoInvSetsInvPartsLeft)\n",
    "\n"
   ]
  },
  {
   "cell_type": "markdown",
   "id": "53a48b3c",
   "metadata": {},
   "source": [
    "# Exploratory Data Analysis PySpark DataFrame"
   ]
  },
  {
   "cell_type": "markdown",
   "id": "8f7efe61",
   "metadata": {},
   "source": [
    "## dfFinalLego"
   ]
  },
  {
   "cell_type": "markdown",
   "id": "e18ac58a",
   "metadata": {},
   "source": [
    "### Looking for null values"
   ]
  },
  {
   "cell_type": "code",
   "execution_count": 22,
   "id": "ffb843c9",
   "metadata": {},
   "outputs": [
    {
     "name": "stdout",
     "output_type": "stream",
     "text": [
      "+--------+----------+----+---------+---------+-----------+-----------+-------+---------+-------+\n",
      "|NameSets|NameThemes|Year|InvSetQty|PartsName|PartCatName|InvPartsQty|IsSpare|ColorName|IsTrans|\n",
      "+--------+----------+----+---------+---------+-----------+-----------+-------+---------+-------+\n",
      "|       0|         0|   0|        0|        0|          0|          0|      0|        0|      0|\n",
      "+--------+----------+----+---------+---------+-----------+-----------+-------+---------+-------+\n",
      "\n"
     ]
    }
   ],
   "source": [
    "dfFinalLego.select([count(when(isnan(c) | col(c).isNull(), c)).alias(c) for c in dfFinalLego.columns]).show()"
   ]
  },
  {
   "cell_type": "markdown",
   "id": "85ed748c",
   "metadata": {},
   "source": [
    "### Removing duplicate values"
   ]
  },
  {
   "cell_type": "code",
   "execution_count": 23,
   "id": "c2e0f9af",
   "metadata": {},
   "outputs": [
    {
     "data": {
      "text/plain": [
       "432"
      ]
     },
     "execution_count": 23,
     "metadata": {},
     "output_type": "execute_result"
    }
   ],
   "source": [
    "dfFinalLego.count()"
   ]
  },
  {
   "cell_type": "code",
   "execution_count": 24,
   "id": "8fa5ede6",
   "metadata": {
    "scrolled": true
   },
   "outputs": [
    {
     "data": {
      "text/plain": [
       "422"
      ]
     },
     "execution_count": 24,
     "metadata": {},
     "output_type": "execute_result"
    }
   ],
   "source": [
    "dfFinalLego.distinct().count()"
   ]
  },
  {
   "cell_type": "code",
   "execution_count": 25,
   "id": "9599d497",
   "metadata": {},
   "outputs": [],
   "source": [
    "dfFinalLegoDuplicate = dfFinalLego.groupBy('NameSets',\n",
    " 'Year',\n",
    " 'NameThemes',\n",
    " 'InvSetQty',\n",
    " 'InvPartsQty',\n",
    " 'IsSpare',\n",
    " 'ColorName',\n",
    " 'IsTrans',\n",
    " 'PartsName',\n",
    " 'PartCatName').count().filter(\"count > 1\")"
   ]
  },
  {
   "cell_type": "code",
   "execution_count": 26,
   "id": "727cc5e3",
   "metadata": {},
   "outputs": [
    {
     "name": "stdout",
     "output_type": "stream",
     "text": [
      "+---------------+----+---------------+---------+-----------+-------+----------+-------+---------------+-----------+-----+\n",
      "|       NameSets|Year|     NameThemes|InvSetQty|InvPartsQty|IsSpare| ColorName|IsTrans|      PartsName|PartCatName|count|\n",
      "+---------------+----+---------------+---------+-----------+-------+----------+-------+---------------+-----------+-----+\n",
      "|Power Functi...|2009|Power Functions|        1|          1|      f|[No Color]|      f|(Set) Power ...|      Other|    3|\n",
      "|Power Functi...|2008|Power Functions|        1|          1|      f|[No Color]|      f|(Set) Power ...|      Other|    2|\n",
      "|Vladek (USA ...|2004|Knights King...|        1|          1|      f|Royal Blue|      f|Food - Water...|   Non-LEGO|    2|\n",
      "|Rechargeable...|2009|Power Functions|        1|          1|      f|[No Color]|      f|(Set) Power ...|      Other|    3|\n",
      "|IR Speed Rem...|2009|Power Functions|        1|          1|      f|[No Color]|      f|(Set) Power ...|      Other|    3|\n",
      "|Power Functi...|2008|Power Functions|        1|          1|      f|[No Color]|      f|(Set) Power ...|      Other|    3|\n",
      "+---------------+----+---------------+---------+-----------+-------+----------+-------+---------------+-----------+-----+\n",
      "\n"
     ]
    }
   ],
   "source": [
    "dfFinalLegoDuplicate.show(20,15)"
   ]
  },
  {
   "cell_type": "code",
   "execution_count": 27,
   "id": "3655fa47",
   "metadata": {},
   "outputs": [],
   "source": [
    "dfFinalLego = dfFinalLego.dropDuplicates()"
   ]
  },
  {
   "cell_type": "code",
   "execution_count": 28,
   "id": "9ff28938",
   "metadata": {},
   "outputs": [
    {
     "name": "stdout",
     "output_type": "stream",
     "text": [
      "Distinct Count: 422\n"
     ]
    }
   ],
   "source": [
    "print(\"Distinct Count: \" + str(dfFinalLego.count()))"
   ]
  },
  {
   "cell_type": "code",
   "execution_count": 29,
   "id": "fa1a27ac",
   "metadata": {},
   "outputs": [],
   "source": [
    "dfFinalLegoDuplicate = dfFinalLego.groupBy('NameSets',\n",
    " 'Year',\n",
    " 'NameThemes',\n",
    " 'InvSetQty',\n",
    " 'InvPartsQty',\n",
    " 'IsSpare',\n",
    " 'ColorName',\n",
    " 'IsTrans',\n",
    " 'PartsName',\n",
    " 'PartCatName').count().filter(\"count > 1\")"
   ]
  },
  {
   "cell_type": "code",
   "execution_count": 30,
   "id": "bd8f31de",
   "metadata": {
    "scrolled": true
   },
   "outputs": [
    {
     "name": "stdout",
     "output_type": "stream",
     "text": [
      "+--------+----+----------+---------+-----------+-------+---------+-------+---------+-----------+-----+\n",
      "|NameSets|Year|NameThemes|InvSetQty|InvPartsQty|IsSpare|ColorName|IsTrans|PartsName|PartCatName|count|\n",
      "+--------+----+----------+---------+-----------+-------+---------+-------+---------+-----------+-----+\n",
      "+--------+----+----------+---------+-----------+-------+---------+-------+---------+-----------+-----+\n",
      "\n"
     ]
    }
   ],
   "source": [
    "dfFinalLegoDuplicate.show()"
   ]
  },
  {
   "cell_type": "markdown",
   "id": "22d784b4",
   "metadata": {},
   "source": [
    "### Calculating distinct values in each column on DataFrame:"
   ]
  },
  {
   "cell_type": "code",
   "execution_count": 31,
   "id": "1e11fcd8",
   "metadata": {},
   "outputs": [
    {
     "name": "stdout",
     "output_type": "stream",
     "text": [
      "+--------+----------+----+---------+---------+-----------+-----------+-------+---------+-------+\n",
      "|NameSets|NameThemes|Year|InvSetQty|PartsName|PartCatName|InvPartsQty|IsSpare|ColorName|IsTrans|\n",
      "+--------+----------+----+---------+---------+-----------+-----------+-------+---------+-------+\n",
      "|     169|        36|  24|        2|       92|         18|         10|      2|       20|      2|\n",
      "+--------+----------+----+---------+---------+-----------+-----------+-------+---------+-------+\n",
      "\n"
     ]
    }
   ],
   "source": [
    "dfFinalLego.agg(*(countDistinct(col(c)).alias(c) for c in dfFinalLego.columns)).show()\n"
   ]
  },
  {
   "cell_type": "markdown",
   "id": "74cf0741",
   "metadata": {},
   "source": [
    "### Replacing values in a ColorName column"
   ]
  },
  {
   "cell_type": "code",
   "execution_count": 32,
   "id": "82e37249",
   "metadata": {},
   "outputs": [
    {
     "name": "stdout",
     "output_type": "stream",
     "text": [
      "+-----------------+\n",
      "|        ColorName|\n",
      "+-----------------+\n",
      "|           Orange|\n",
      "|       Royal Blue|\n",
      "|       Pearl Gold|\n",
      "|     Trans-Yellow|\n",
      "|       [No Color]|\n",
      "|          Unknown|\n",
      "|            Green|\n",
      "|      Trans-Green|\n",
      "|      Medium Blue|\n",
      "|       Light Gray|\n",
      "|             Blue|\n",
      "|   Flat Dark Gold|\n",
      "|    Metallic Gold|\n",
      "|            White|\n",
      "|Light Bluish Gray|\n",
      "|        Trans-Red|\n",
      "|            Black|\n",
      "|           Yellow|\n",
      "|              Red|\n",
      "| Dark Bluish Gray|\n",
      "+-----------------+\n",
      "\n"
     ]
    }
   ],
   "source": [
    "dfFinalLego.select(\"ColorName\").distinct().show()"
   ]
  },
  {
   "cell_type": "code",
   "execution_count": 33,
   "id": "d423cc15",
   "metadata": {},
   "outputs": [],
   "source": [
    "dfFinalLego = dfFinalLego.withColumn(\"ColorName\", when(dfFinalLego.ColorName == \"[No Color]\", \"Not Available\")\n",
    "                                                .when(dfFinalLego.ColorName == \"Unknown\", \"Not Available\")\n",
    "                                                .otherwise(dfFinalLego.ColorName))"
   ]
  },
  {
   "cell_type": "code",
   "execution_count": 34,
   "id": "54c0ae31",
   "metadata": {},
   "outputs": [
    {
     "name": "stdout",
     "output_type": "stream",
     "text": [
      "+-----------------+\n",
      "|        ColorName|\n",
      "+-----------------+\n",
      "|           Orange|\n",
      "|       Royal Blue|\n",
      "|       Pearl Gold|\n",
      "|     Trans-Yellow|\n",
      "|            Green|\n",
      "|      Trans-Green|\n",
      "|      Medium Blue|\n",
      "|       Light Gray|\n",
      "|             Blue|\n",
      "|   Flat Dark Gold|\n",
      "|    Metallic Gold|\n",
      "|            White|\n",
      "|Light Bluish Gray|\n",
      "|        Trans-Red|\n",
      "|            Black|\n",
      "|           Yellow|\n",
      "|              Red|\n",
      "|    Not Available|\n",
      "| Dark Bluish Gray|\n",
      "+-----------------+\n",
      "\n"
     ]
    }
   ],
   "source": [
    "dfFinalLego.select(\"ColorName\").distinct().show()"
   ]
  },
  {
   "cell_type": "markdown",
   "id": "2b75e8e0",
   "metadata": {},
   "source": [
    "### Converting boolean to True/False"
   ]
  },
  {
   "cell_type": "code",
   "execution_count": 35,
   "id": "846a1ce0",
   "metadata": {},
   "outputs": [
    {
     "name": "stdout",
     "output_type": "stream",
     "text": [
      "+---------------+---------------+----+---------+---------------+-----------+-----------+-------+-------------+-------+\n",
      "|       NameSets|     NameThemes|Year|InvSetQty|      PartsName|PartCatName|InvPartsQty|IsSpare|    ColorName|IsTrans|\n",
      "+---------------+---------------+----+---------+---------------+-----------+-----------+-------+-------------+-------+\n",
      "|Rascus (Euro...|Knights King...|2004|        1|Headgear, Ma...|   Non-LEGO|          1|      f|Not Available|      f|\n",
      "|Advent Calen...|      Star Wars|2012|        1|Star Wars 20...|   Non-LEGO|          1|      f|Not Available|      f|\n",
      "+---------------+---------------+----+---------+---------------+-----------+-----------+-------+-------------+-------+\n",
      "only showing top 2 rows\n",
      "\n"
     ]
    }
   ],
   "source": [
    "dfFinalLego.show(2,15)"
   ]
  },
  {
   "cell_type": "code",
   "execution_count": 36,
   "id": "6a390298",
   "metadata": {},
   "outputs": [],
   "source": [
    "import pyspark.sql.functions as f\n",
    "\n",
    "cols = [\"IsSpare\",\"IsTrans\"]\n",
    "\n",
    "for col in cols:\n",
    "    dfFinalLego = dfFinalLego.withColumn(\n",
    "                col,\n",
    "                f.when(\n",
    "                        f.col(col) =='f',\n",
    "                        'False'\n",
    "                ).when(\n",
    "                        f.col(col) =='t',\n",
    "                        'True')\n",
    "                .otherwise(f.col(col)))\n",
    "\n",
    "\n"
   ]
  },
  {
   "cell_type": "code",
   "execution_count": 37,
   "id": "56f617bd",
   "metadata": {},
   "outputs": [
    {
     "name": "stdout",
     "output_type": "stream",
     "text": [
      "+-------+\n",
      "|IsSpare|\n",
      "+-------+\n",
      "|  False|\n",
      "|   True|\n",
      "+-------+\n",
      "\n"
     ]
    }
   ],
   "source": [
    "dfFinalLego.select(\"IsSpare\").distinct().show()"
   ]
  },
  {
   "cell_type": "code",
   "execution_count": 38,
   "id": "7d5b3f16",
   "metadata": {},
   "outputs": [
    {
     "name": "stdout",
     "output_type": "stream",
     "text": [
      "+-------+\n",
      "|IsTrans|\n",
      "+-------+\n",
      "|  False|\n",
      "|   True|\n",
      "+-------+\n",
      "\n"
     ]
    }
   ],
   "source": [
    "dfFinalLego.select(\"IsTrans\").distinct().show()"
   ]
  },
  {
   "cell_type": "markdown",
   "id": "76ea644d",
   "metadata": {},
   "source": [
    "### Summary"
   ]
  },
  {
   "cell_type": "code",
   "execution_count": 39,
   "id": "862c5ac1",
   "metadata": {},
   "outputs": [
    {
     "name": "stdout",
     "output_type": "stream",
     "text": [
      "root\n",
      " |-- NameSets: string (nullable = true)\n",
      " |-- NameThemes: string (nullable = true)\n",
      " |-- Year: integer (nullable = true)\n",
      " |-- InvSetQty: integer (nullable = true)\n",
      " |-- PartsName: string (nullable = true)\n",
      " |-- PartCatName: string (nullable = true)\n",
      " |-- InvPartsQty: integer (nullable = true)\n",
      " |-- IsSpare: string (nullable = true)\n",
      " |-- ColorName: string (nullable = true)\n",
      " |-- IsTrans: string (nullable = true)\n",
      "\n"
     ]
    }
   ],
   "source": [
    "dfFinalLego.printSchema()\n"
   ]
  },
  {
   "cell_type": "code",
   "execution_count": 40,
   "id": "1951f65c",
   "metadata": {},
   "outputs": [
    {
     "data": {
      "text/plain": [
       "[('NameSets', 'string'),\n",
       " ('NameThemes', 'string'),\n",
       " ('Year', 'int'),\n",
       " ('InvSetQty', 'int'),\n",
       " ('PartsName', 'string'),\n",
       " ('PartCatName', 'string'),\n",
       " ('InvPartsQty', 'int'),\n",
       " ('IsSpare', 'string'),\n",
       " ('ColorName', 'string'),\n",
       " ('IsTrans', 'string')]"
      ]
     },
     "execution_count": 40,
     "metadata": {},
     "output_type": "execute_result"
    }
   ],
   "source": [
    "dfFinalLego.dtypes"
   ]
  },
  {
   "cell_type": "code",
   "execution_count": 41,
   "id": "f549cad3",
   "metadata": {},
   "outputs": [
    {
     "data": {
      "text/plain": [
       "422"
      ]
     },
     "execution_count": 41,
     "metadata": {},
     "output_type": "execute_result"
    }
   ],
   "source": [
    "dfFinalLego.count()"
   ]
  },
  {
   "cell_type": "code",
   "execution_count": 42,
   "id": "f1d6dc0f",
   "metadata": {},
   "outputs": [
    {
     "name": "stdout",
     "output_type": "stream",
     "text": [
      "+-------+----------+----------+----------+----------+----------+-----------+-----------+-------+---------+-------+\n",
      "|summary|  NameSets|NameThemes|      Year| InvSetQty| PartsName|PartCatName|InvPartsQty|IsSpare|ColorName|IsTrans|\n",
      "+-------+----------+----------+----------+----------+----------+-----------+-----------+-------+---------+-------+\n",
      "|  count|       422|       422|       422|       422|       422|        422|        422|    422|      422|    422|\n",
      "|   mean|      null|      null|1999.06...|1.04265...|      null|       null| 2.35071...|   null|     null|   null|\n",
      "| stddev|      null|      null|11.4693...|0.20231...|      null|       null| 3.34411...|   null|     null|   null|\n",
      "|    min|ARC-170...|        9V|      1969|         1|(Set) P...| Bars, L...|          1|  False|    Black|  False|\n",
      "|    max|{Town V...|     X-Pod|      2013|         2|X-Pod P...| Tubes a...|         25|   True|   Yellow|   True|\n",
      "+-------+----------+----------+----------+----------+----------+-----------+-----------+-------+---------+-------+\n",
      "\n"
     ]
    }
   ],
   "source": [
    "dfFinalLego.describe().show(20,10)"
   ]
  },
  {
   "cell_type": "code",
   "execution_count": 43,
   "id": "c1496291",
   "metadata": {},
   "outputs": [
    {
     "name": "stdout",
     "output_type": "stream",
     "text": [
      "+-------+-----------------+\n",
      "|summary|        InvSetQty|\n",
      "+-------+-----------------+\n",
      "|  count|              422|\n",
      "|   mean|1.042654028436019|\n",
      "| stddev|0.202315735278927|\n",
      "|    min|                1|\n",
      "|    max|                2|\n",
      "+-------+-----------------+\n",
      "\n"
     ]
    }
   ],
   "source": [
    "dfFinalLego.describe('InvSetQty').show()"
   ]
  },
  {
   "cell_type": "code",
   "execution_count": 44,
   "id": "f543189c",
   "metadata": {},
   "outputs": [
    {
     "name": "stdout",
     "output_type": "stream",
     "text": [
      "+-------+------------------+\n",
      "|summary|       InvPartsQty|\n",
      "+-------+------------------+\n",
      "|  count|               422|\n",
      "|   mean|2.3507109004739335|\n",
      "| stddev| 3.344117672699263|\n",
      "|    min|                 1|\n",
      "|    max|                25|\n",
      "+-------+------------------+\n",
      "\n"
     ]
    }
   ],
   "source": [
    "dfFinalLego.describe('InvPartsQty').show()"
   ]
  },
  {
   "cell_type": "code",
   "execution_count": 45,
   "id": "de15044b",
   "metadata": {},
   "outputs": [
    {
     "data": {
      "text/plain": [
       "(10,\n",
       " ['NameSets',\n",
       "  'NameThemes',\n",
       "  'Year',\n",
       "  'InvSetQty',\n",
       "  'PartsName',\n",
       "  'PartCatName',\n",
       "  'InvPartsQty',\n",
       "  'IsSpare',\n",
       "  'ColorName',\n",
       "  'IsTrans'])"
      ]
     },
     "execution_count": 45,
     "metadata": {},
     "output_type": "execute_result"
    }
   ],
   "source": [
    "len(dfFinalLego.columns), dfFinalLego.columns"
   ]
  },
  {
   "cell_type": "code",
   "execution_count": 46,
   "id": "8859ab38",
   "metadata": {},
   "outputs": [
    {
     "name": "stdout",
     "output_type": "stream",
     "text": [
      "After Data Cleaning\n",
      "+---------------+---------------+----+---------+---------------+---------------+-----------+-------+-------------+-------+\n",
      "|       NameSets|     NameThemes|Year|InvSetQty|      PartsName|    PartCatName|InvPartsQty|IsSpare|    ColorName|IsTrans|\n",
      "+---------------+---------------+----+---------+---------------+---------------+-----------+-------+-------------+-------+\n",
      "|Rascus (Euro...|Knights King...|2004|        1|Headgear, Ma...|       Non-LEGO|          1|  False|Not Available|  False|\n",
      "|Advent Calen...|      Star Wars|2012|        1|Star Wars 20...|       Non-LEGO|          1|  False|Not Available|  False|\n",
      "|Set K1062 Ac...|           Town|1981|        1|   Plate 4 x 10|         Plates|          1|  False|        White|  False|\n",
      "|Set K1062 Ac...|           Town|1981|        1|    Brick 2 x 4|         Bricks|         12|  False|        White|  False|\n",
      "|Droid Tri-Fi...|Star Wars Ep...|2005|        1|Star Wars Ep...|       Non-LEGO|          1|  False|Not Available|  False|\n",
      "|Adventurers ...|         Desert|1998|        1|Compass Key ...|       Non-LEGO|          1|  False|   Royal Blue|  False|\n",
      "|Power Functi...|Power Functions|2008|        1|(Set) Power ...|          Other|          1|  False|Not Available|  False|\n",
      "|Interface Ca...|        Technic|1989|        1|Instruction ...|       Non-LEGO|          1|  False|Not Available|  False|\n",
      "|Advent Calen...|      Star Wars|2012|        1|Star Wars 20...|       Non-LEGO|          1|  False|Not Available|  False|\n",
      "|         Reidak|         Piraka|2006|        1|Technic Pin ...|   Technic Pins|          3|  False|        Black|  False|\n",
      "|{Town Vehicles}|           Town|1980|        1|Brick Round ...|Bricks Round...|          8|  False|    Trans-Red|   True|\n",
      "|Hockey Game Set|         Hockey|2003|        1|Bionicle Sho...|Bionicle, He...|          2|  False|        Green|  False|\n",
      "|Set K1062 Ac...|           Town|1981|        1|    Plate 1 x 3|         Plates|          8|  False|        White|  False|\n",
      "|        Nidhiki|         Titans|2004|        1|Bionicle Mas...|Bionicle, He...|          1|  False|        Black|  False|\n",
      "|Advent Calen...|           City|2007|        1|Minifig Head...|       Minifigs|          1|  False|       Yellow|  False|\n",
      "|World Team P...|         Soccer|1998|        2|Sticker for ...|       Non-LEGO|          1|   True|Not Available|  False|\n",
      "|Advent Calen...|           City|2007|        1|Minifig Head...|       Minifigs|          1|  False|       Yellow|  False|\n",
      "|Santis (USA ...|Knights King...|2004|        1|Food - Water...|       Non-LEGO|          1|  False|   Royal Blue|  False|\n",
      "|Advent Calen...|           City|2007|        1|Torso Mechan...|       Minifigs|          1|  False|  Medium Blue|  False|\n",
      "|Advent Calen...|           City|2007|        1|Minifig Head...|       Minifigs|          1|  False|       Yellow|  False|\n",
      "+---------------+---------------+----+---------+---------------+---------------+-----------+-------+-------------+-------+\n",
      "only showing top 20 rows\n",
      "\n"
     ]
    }
   ],
   "source": [
    "print('After Data Cleaning')\n",
    "dfFinalLego.show(20,15)"
   ]
  },
  {
   "cell_type": "markdown",
   "id": "04d080d6",
   "metadata": {},
   "source": [
    "## dfFinalLegoInvSetTheme"
   ]
  },
  {
   "cell_type": "code",
   "execution_count": 47,
   "id": "269ff613",
   "metadata": {},
   "outputs": [
    {
     "name": "stdout",
     "output_type": "stream",
     "text": [
      "+-------------------------------------------------------+--------------------+----+---------+\n",
      "|NameSets                                               |NameThemes          |Year|InvSetQty|\n",
      "+-------------------------------------------------------+--------------------+----+---------+\n",
      "|Go-Cart                                                |Race                |1999|1        |\n",
      "|Lunar MPV Vehicle                                      |Futuron             |1990|1        |\n",
      "|Light Flyer                                            |Insectoids          |1999|1        |\n",
      "|Advent Calendar 2002 Creator (Day 18) Space Shuttle    |Creator             |2002|1        |\n",
      "|Basic Bricks -- Medium                                 |Supplemental        |2008|1        |\n",
      "|Basic Bricks -- Medium                                 |Supplemental        |2008|1        |\n",
      "|Flora's Bubbling Bath                                  |Fairy-Tale          |2002|1        |\n",
      "|Advent Calendar 2008 City (Day 12) Oven                |City                |2008|1        |\n",
      "|Race Car Driver - Complete Set                         |Series 3 Minifigures|2011|1        |\n",
      "|Swimming Champion - Complete Set                       |Series 7 Minifigures|2012|1        |\n",
      "|Rocker Girl - Complete Set                             |Series 7 Minifigures|2012|1        |\n",
      "|Catapult                                               |Knights Kingdom I   |2000|1        |\n",
      "|Advent Calendar 2014, Friends (Day 3) - Gift and Basket|Friends             |2014|1        |\n",
      "|Advent Calendar 2001, Creator (Day  4) Santa           |Advent Sub-Set      |2001|1        |\n",
      "|Snax                                                   |Series 6            |2015|1        |\n",
      "|Fire Station                                           |Fire                |2013|1        |\n",
      "|Flexible Rails                                         |RC Train            |2011|1        |\n",
      "|Flexible Rails                                         |RC Train            |2011|1        |\n",
      "|Advent Calendar 2004 Clikits (Day 11) Icons            |Clikits             |2004|1        |\n",
      "|MX-11 Astro Fighter                                    |Mars Mission        |2007|1        |\n",
      "+-------------------------------------------------------+--------------------+----+---------+\n",
      "only showing top 20 rows\n",
      "\n"
     ]
    }
   ],
   "source": [
    "dfFinalLegoInvSetTheme.show(truncate=False)"
   ]
  },
  {
   "cell_type": "markdown",
   "id": "01f0379f",
   "metadata": {},
   "source": [
    "### Looking for null values"
   ]
  },
  {
   "cell_type": "code",
   "execution_count": 48,
   "id": "649224eb",
   "metadata": {},
   "outputs": [],
   "source": [
    "from pyspark.sql.functions import *"
   ]
  },
  {
   "cell_type": "code",
   "execution_count": 49,
   "id": "b0d1a288",
   "metadata": {},
   "outputs": [
    {
     "name": "stdout",
     "output_type": "stream",
     "text": [
      "+--------+----------+----+---------+\n",
      "|NameSets|NameThemes|Year|InvSetQty|\n",
      "+--------+----------+----+---------+\n",
      "|       0|         0|   0|        0|\n",
      "+--------+----------+----+---------+\n",
      "\n"
     ]
    }
   ],
   "source": [
    "dfFinalLegoInvSetTheme.select([count(when(isnan(c) | col(c).isNull(),\n",
    "                                          c)).alias(c) for c in dfFinalLegoInvSetTheme.columns]).show()"
   ]
  },
  {
   "cell_type": "markdown",
   "id": "ea12f3b7",
   "metadata": {},
   "source": [
    "### Removing duplicate values"
   ]
  },
  {
   "cell_type": "code",
   "execution_count": 50,
   "id": "cbe8b712",
   "metadata": {},
   "outputs": [
    {
     "data": {
      "text/plain": [
       "2846"
      ]
     },
     "execution_count": 50,
     "metadata": {},
     "output_type": "execute_result"
    }
   ],
   "source": [
    "dfFinalLegoInvSetTheme.count()"
   ]
  },
  {
   "cell_type": "code",
   "execution_count": 51,
   "id": "0843f020",
   "metadata": {},
   "outputs": [
    {
     "data": {
      "text/plain": [
       "2317"
      ]
     },
     "execution_count": 51,
     "metadata": {},
     "output_type": "execute_result"
    }
   ],
   "source": [
    "dfFinalLegoInvSetTheme.distinct().count()"
   ]
  },
  {
   "cell_type": "code",
   "execution_count": 52,
   "id": "dffd6ec9",
   "metadata": {},
   "outputs": [
    {
     "data": {
      "text/plain": [
       "['NameSets', 'NameThemes', 'Year', 'InvSetQty']"
      ]
     },
     "execution_count": 52,
     "metadata": {},
     "output_type": "execute_result"
    }
   ],
   "source": [
    "dfFinalLegoInvSetTheme.columns"
   ]
  },
  {
   "cell_type": "code",
   "execution_count": 53,
   "id": "ded89117",
   "metadata": {},
   "outputs": [
    {
     "name": "stdout",
     "output_type": "stream",
     "text": [
      "+--------------------------------------------------------+-----------------------+----+---------+-----+\n",
      "|NameSets                                                |NameThemes             |Year|InvSetQty|count|\n",
      "+--------------------------------------------------------+-----------------------+----+---------+-----+\n",
      "|Airplane Mechanic                                       |Airport                |2006|1        |2    |\n",
      "|Exo Stealth                                             |Power Racers           |2004|1        |2    |\n",
      "|Space Digger                                            |Classic Space          |1981|1        |2    |\n",
      "|Vakama                                                  |Turaga                 |2001|1        |2    |\n",
      "|Slave I                                                 |Star Wars Episode 4/5/6|2000|1        |2    |\n",
      "|Tahnok                                                  |Bohrok                 |2002|1        |4    |\n",
      "|Off-Road Fire Truck & Fireboat                          |Fire                   |2010|1        |2    |\n",
      "|Final Duel I                                            |Star Wars Episode 4/5/6|2002|1        |3    |\n",
      "|Large Locomotive (base unit without color trim elements)|My Own Train           |2001|1        |11   |\n",
      "|Nurp-Naut                                               |Series 4               |2015|1        |2    |\n",
      "|Skull Motorbike                                         |Ninjago                |2011|1        |2    |\n",
      "|Kohrak                                                  |Bohrok                 |2002|1        |4    |\n",
      "|Uruk-hai Army                                           |The Two Towers         |2012|1        |2    |\n",
      "|Rover                                                   |Life On Mars           |2001|1        |2    |\n",
      "|Speedboat                                               |Harbor                 |1997|1        |2    |\n",
      "|Vahki Rorzakh                                           |Vahki                  |2004|1        |2    |\n",
      "|Pahrak Va                                               |Bohrok Va              |2002|1        |2    |\n",
      "|Visorak Vohtarak                                        |Visorak                |2005|1        |2    |\n",
      "|Lava                                                    |RoboRiders             |2000|1        |2    |\n",
      "|Skeletons' Prison Carriage                              |Fantasy Era            |2007|1        |2    |\n",
      "+--------------------------------------------------------+-----------------------+----+---------+-----+\n",
      "only showing top 20 rows\n",
      "\n"
     ]
    }
   ],
   "source": [
    "dfFinalLegoInvSetThemeDuplicate = dfFinalLegoInvSetTheme.groupBy('NameSets', \n",
    "                                           'NameThemes', \n",
    "                                           'Year', \n",
    "                                           'InvSetQty').count().filter(\"count > 1\")\n",
    "\n",
    "dfFinalLegoInvSetThemeDuplicate.show(truncate=False)"
   ]
  },
  {
   "cell_type": "code",
   "execution_count": 54,
   "id": "6e354519",
   "metadata": {},
   "outputs": [],
   "source": [
    "dfFinalLegoInvSetTheme = dfFinalLegoInvSetTheme.dropDuplicates()\n"
   ]
  },
  {
   "cell_type": "code",
   "execution_count": 55,
   "id": "bf1c22e6",
   "metadata": {},
   "outputs": [
    {
     "name": "stdout",
     "output_type": "stream",
     "text": [
      "Distinct Count: 2317\n"
     ]
    }
   ],
   "source": [
    "print(\"Distinct Count: \" + str(dfFinalLegoInvSetTheme.count()))"
   ]
  },
  {
   "cell_type": "code",
   "execution_count": 56,
   "id": "40863bfd",
   "metadata": {},
   "outputs": [
    {
     "name": "stdout",
     "output_type": "stream",
     "text": [
      "+--------+----------+----+---------+-----+\n",
      "|NameSets|NameThemes|Year|InvSetQty|count|\n",
      "+--------+----------+----+---------+-----+\n",
      "+--------+----------+----+---------+-----+\n",
      "\n"
     ]
    }
   ],
   "source": [
    "dfFinalLegoInvSetThemeDuplicate = dfFinalLegoInvSetTheme.groupBy('NameSets', \n",
    "                                           'NameThemes', \n",
    "                                           'Year', \n",
    "                                           'InvSetQty').count().filter(\"count > 1\")\n",
    "\n",
    "dfFinalLegoInvSetThemeDuplicate.show()"
   ]
  },
  {
   "cell_type": "markdown",
   "id": "6441c932",
   "metadata": {},
   "source": [
    "### Calculating distinct values in each column on DataFrame:"
   ]
  },
  {
   "cell_type": "code",
   "execution_count": 57,
   "id": "db10613d",
   "metadata": {},
   "outputs": [
    {
     "name": "stdout",
     "output_type": "stream",
     "text": [
      "+--------+----------+----+---------+\n",
      "|NameSets|NameThemes|Year|InvSetQty|\n",
      "+--------+----------+----+---------+\n",
      "|    2262|       208|  42|        7|\n",
      "+--------+----------+----+---------+\n",
      "\n"
     ]
    }
   ],
   "source": [
    "dfFinalLegoInvSetTheme.agg(*(countDistinct(col(c)).alias(c) for c in dfFinalLegoInvSetTheme.columns )).show()"
   ]
  },
  {
   "cell_type": "markdown",
   "id": "88152686",
   "metadata": {},
   "source": [
    "### Summary"
   ]
  },
  {
   "cell_type": "code",
   "execution_count": 58,
   "id": "abd0d8b0",
   "metadata": {},
   "outputs": [
    {
     "name": "stdout",
     "output_type": "stream",
     "text": [
      "root\n",
      " |-- NameSets: string (nullable = true)\n",
      " |-- NameThemes: string (nullable = true)\n",
      " |-- Year: integer (nullable = true)\n",
      " |-- InvSetQty: integer (nullable = true)\n",
      "\n"
     ]
    }
   ],
   "source": [
    "dfFinalLegoInvSetTheme.printSchema()"
   ]
  },
  {
   "cell_type": "code",
   "execution_count": 59,
   "id": "1d0e2dd1",
   "metadata": {},
   "outputs": [
    {
     "data": {
      "text/plain": [
       "[('NameSets', 'string'),\n",
       " ('NameThemes', 'string'),\n",
       " ('Year', 'int'),\n",
       " ('InvSetQty', 'int')]"
      ]
     },
     "execution_count": 59,
     "metadata": {},
     "output_type": "execute_result"
    }
   ],
   "source": [
    "dfFinalLegoInvSetTheme.dtypes"
   ]
  },
  {
   "cell_type": "code",
   "execution_count": 60,
   "id": "a390fab9",
   "metadata": {},
   "outputs": [
    {
     "data": {
      "text/plain": [
       "2317"
      ]
     },
     "execution_count": 60,
     "metadata": {},
     "output_type": "execute_result"
    }
   ],
   "source": [
    "dfFinalLegoInvSetTheme.count()"
   ]
  },
  {
   "cell_type": "code",
   "execution_count": 61,
   "id": "46e0fed8",
   "metadata": {
    "scrolled": true
   },
   "outputs": [
    {
     "name": "stdout",
     "output_type": "stream",
     "text": [
      "+-------+---------------+----------+------------------+------------------+\n",
      "|summary|NameSets       |NameThemes|Year              |InvSetQty         |\n",
      "+-------+---------------+----------+------------------+------------------+\n",
      "|count  |2317           |2317      |2317              |2317              |\n",
      "|mean   |null           |null      |2006.6672421234355|1.4587829089339663|\n",
      "|stddev |null           |null      |6.893103223806022 |5.05339852844668  |\n",
      "|min    | Spectre       |9V        |1969              |1                 |\n",
      "|max    |{Town Vehicles}|X-Pod     |2017              |60                |\n",
      "+-------+---------------+----------+------------------+------------------+\n",
      "\n"
     ]
    }
   ],
   "source": [
    "dfFinalLegoInvSetTheme.describe().show(truncate=False)\n",
    "\n"
   ]
  },
  {
   "cell_type": "code",
   "execution_count": 62,
   "id": "20a578a3",
   "metadata": {},
   "outputs": [
    {
     "name": "stdout",
     "output_type": "stream",
     "text": [
      "+-------+------------------+\n",
      "|summary|         InvSetQty|\n",
      "+-------+------------------+\n",
      "|  count|              2317|\n",
      "|   mean|1.4587829089339663|\n",
      "| stddev|  5.05339852844668|\n",
      "|    min|                 1|\n",
      "|    max|                60|\n",
      "+-------+------------------+\n",
      "\n"
     ]
    }
   ],
   "source": [
    "dfFinalLegoInvSetTheme.describe('InvSetQty').show()"
   ]
  },
  {
   "cell_type": "code",
   "execution_count": 63,
   "id": "efdbddff",
   "metadata": {},
   "outputs": [
    {
     "data": {
      "text/plain": [
       "(4, ['NameSets', 'NameThemes', 'Year', 'InvSetQty'])"
      ]
     },
     "execution_count": 63,
     "metadata": {},
     "output_type": "execute_result"
    }
   ],
   "source": [
    "len(dfFinalLegoInvSetTheme.columns), dfFinalLegoInvSetTheme.columns"
   ]
  },
  {
   "cell_type": "code",
   "execution_count": 64,
   "id": "4682a944",
   "metadata": {},
   "outputs": [
    {
     "name": "stdout",
     "output_type": "stream",
     "text": [
      "After Data Cleaning: \n",
      "+----------------------------------------------------------+---------------------+----+---------+\n",
      "|NameSets                                                  |NameThemes           |Year|InvSetQty|\n",
      "+----------------------------------------------------------+---------------------+----+---------+\n",
      "|Yeti - Complete Set                                       |Series 11 Minifigures|2013|1        |\n",
      "|Airplane Mechanic                                         |Airport              |2006|1        |\n",
      "|Exo Stealth                                               |Power Racers         |2004|1        |\n",
      "|Advent Calendar 1998 Classic Basic (Day 23) Truck         |Classic Basic        |1998|1        |\n",
      "|Mariachi                                                  |Series 16 Minifigures|2016|1        |\n",
      "|Advent Calendar 2011 Star Wars (Day 14) - Mouse Droid     |Star Wars            |2011|1        |\n",
      "|Advent Calendar 2012, Star Wars (Day 17) - Flash Speeder  |Star Wars            |2012|1        |\n",
      "|Martin                                                    |The Simpsons         |2015|1        |\n",
      "|Gahlok-Kal                                                |Bohrok-Kal           |2003|1        |\n",
      "|Balta                                                     |Matoran of Voya Nui  |2006|1        |\n",
      "|Advent Calendar 2013, Friends (Day 21) - Musical Score    |Friends              |2013|1        |\n",
      "|Alice                                                     |Disney               |2016|1        |\n",
      "|Coca-Cola Goal Keeper                                     |Soccer               |2002|1        |\n",
      "|Coca-Cola Stand                                           |Soccer               |2002|1        |\n",
      "|Advent Calendar 2014, Friends (Day 9) - Holiday Candle    |Friends              |2014|1        |\n",
      "|Advent Calendar 2012, City (Day 8) Wall with Ski Equipment|Advent Sub-Set       |2012|1        |\n",
      "|Technic Control Center                                    |Technic              |1987|1        |\n",
      "|Mummy - Complete Set                                      |Series 3 Minifigures |2011|1        |\n",
      "|Spider-Man's First Chase                                  |Spider-Man           |2003|1        |\n",
      "|Shark Fisherman                                           |Recreation           |1994|1        |\n",
      "+----------------------------------------------------------+---------------------+----+---------+\n",
      "only showing top 20 rows\n",
      "\n"
     ]
    }
   ],
   "source": [
    "print(\"After Data Cleaning: \")\n",
    "dfFinalLegoInvSetTheme.show(truncate=False)"
   ]
  },
  {
   "cell_type": "markdown",
   "id": "281063b1",
   "metadata": {},
   "source": [
    "## dfFinalLegoInventoryParts "
   ]
  },
  {
   "cell_type": "code",
   "execution_count": 65,
   "id": "5c58e7e8",
   "metadata": {},
   "outputs": [
    {
     "name": "stdout",
     "output_type": "stream",
     "text": [
      "+----------------------------------------+---------------------------------------+-----------------+-------+----------+-------+\n",
      "|                               PartsName|                            PartCatName|        ColorName|IsTrans|InvPartQty|IsSpare|\n",
      "+----------------------------------------+---------------------------------------+-----------------+-------+----------+-------+\n",
      "|               Minifig Space Gun / Torch|                    Minifig Accessories|       Light Gray|      f|         1|      f|\n",
      "|Plate Special 1 x 1 with Clip Vertica...|                         Plates Special| Dark Bluish Gray|      f|         6|      f|\n",
      "|Plate Special 1 x 1 with Clip Vertica...|                         Plates Special|Light Bluish Gray|      f|         2|      f|\n",
      "|Plate Special 1 x 1 with Clip Vertica...|                         Plates Special|Light Bluish Gray|      f|         6|      f|\n",
      "|               Minifig Space Gun / Torch|                    Minifig Accessories|              Red|      f|         2|      f|\n",
      "|               Minifig Space Gun / Torch|                    Minifig Accessories| Dark Bluish Gray|      f|         2|      f|\n",
      "|Bionicle Weapon Toa Flame Sword 2 x 1...|Bionicle, Hero Factory and Constraction|            Black|      f|         6|      f|\n",
      "|Plate Special 1 x 1 with Clip Vertica...|                         Plates Special|           Yellow|      f|         1|      f|\n",
      "|Plate Special 1 x 1 with Clip Vertica...|                         Plates Special| Dark Bluish Gray|      f|         2|      f|\n",
      "|Plate Special 1 x 1 with Clip Vertica...|                         Plates Special|            White|      f|         2|      f|\n",
      "|          FOUR-SIDED SIGN WITH SNAP NO.3|       Flags, Signs, Plastics and Cloth|            White|      f|         1|      f|\n",
      "|Body Rock Monster with Dark Bluish Gr...|                               Minifigs| Trans-Neon Green|      t|         1|      f|\n",
      "|               Minifig Space Gun / Torch|                    Minifig Accessories|            White|      f|         1|      f|\n",
      "|               Minifig Space Gun / Torch|                    Minifig Accessories|Light Bluish Gray|      f|         5|      f|\n",
      "|Plate Special 1 x 1 with Clip Vertica...|                         Plates Special|            Black|      f|         4|      f|\n",
      "|Train Wheel Small, hole notched for w...|                       Wheels and Tyres|            Black|      f|         2|      f|\n",
      "|Plate Special 1 x 1 with Clip Vertica...|                         Plates Special| Dark Bluish Gray|      f|         5|      f|\n",
      "|Plate Special 1 x 1 with Clip Vertica...|                         Plates Special|            White|      f|         8|      f|\n",
      "|Plate Special 1 x 1 with Clip Vertica...|                         Plates Special|            Black|      f|         3|      f|\n",
      "|Plate Special 1 x 1 with Clip Vertica...|                         Plates Special|      Medium Blue|      f|         4|      f|\n",
      "+----------------------------------------+---------------------------------------+-----------------+-------+----------+-------+\n",
      "only showing top 20 rows\n",
      "\n"
     ]
    }
   ],
   "source": [
    "dfFinalLegoInventoryParts.show(20,40)"
   ]
  },
  {
   "cell_type": "markdown",
   "id": "1116a9fa",
   "metadata": {},
   "source": [
    "### Looking for null values"
   ]
  },
  {
   "cell_type": "code",
   "execution_count": 66,
   "id": "72fada88",
   "metadata": {},
   "outputs": [
    {
     "name": "stdout",
     "output_type": "stream",
     "text": [
      "+---------+-----------+---------+-------+----------+-------+\n",
      "|PartsName|PartCatName|ColorName|IsTrans|InvPartQty|IsSpare|\n",
      "+---------+-----------+---------+-------+----------+-------+\n",
      "|        0|          0|        0|      0|         0|      0|\n",
      "+---------+-----------+---------+-------+----------+-------+\n",
      "\n"
     ]
    }
   ],
   "source": [
    "dfFinalLegoInventoryParts.select([count(when(isnan(c) | col(c).isNull(),\n",
    "                                             c)).alias(c) for c in dfFinalLegoInventoryParts.columns]).show()"
   ]
  },
  {
   "cell_type": "markdown",
   "id": "256a21be",
   "metadata": {},
   "source": [
    "### Removing duplicate values"
   ]
  },
  {
   "cell_type": "code",
   "execution_count": 67,
   "id": "625b8591",
   "metadata": {},
   "outputs": [
    {
     "data": {
      "text/plain": [
       "580069"
      ]
     },
     "execution_count": 67,
     "metadata": {},
     "output_type": "execute_result"
    }
   ],
   "source": [
    "dfFinalLegoInventoryParts.count()"
   ]
  },
  {
   "cell_type": "code",
   "execution_count": 68,
   "id": "bc81a68e",
   "metadata": {},
   "outputs": [
    {
     "data": {
      "text/plain": [
       "103031"
      ]
     },
     "execution_count": 68,
     "metadata": {},
     "output_type": "execute_result"
    }
   ],
   "source": [
    "dfFinalLegoInventoryParts.distinct().count()"
   ]
  },
  {
   "cell_type": "code",
   "execution_count": 69,
   "id": "8cde1306",
   "metadata": {},
   "outputs": [
    {
     "data": {
      "text/plain": [
       "['PartsName', 'PartCatName', 'ColorName', 'IsTrans', 'InvPartQty', 'IsSpare']"
      ]
     },
     "execution_count": 69,
     "metadata": {},
     "output_type": "execute_result"
    }
   ],
   "source": [
    "dfFinalLegoInventoryParts.columns"
   ]
  },
  {
   "cell_type": "code",
   "execution_count": 70,
   "id": "257b061c",
   "metadata": {},
   "outputs": [],
   "source": [
    "dfFinalLegoInventoryPartsDuplicate = dfFinalLegoInventoryParts.groupBy('PartsName', \n",
    "                                                                       'PartCatName', \n",
    "                                                                       'ColorName', \n",
    "                                                                       'IsTrans', \n",
    "                                                                       'InvPartQty', \n",
    "                                                                       'IsSpare').count().filter(\"count > 1\")"
   ]
  },
  {
   "cell_type": "code",
   "execution_count": 71,
   "id": "03739282",
   "metadata": {},
   "outputs": [
    {
     "name": "stdout",
     "output_type": "stream",
     "text": [
      "+--------------------+--------------------+-----------------+-------+----------+-------+-----+\n",
      "|           PartsName|         PartCatName|        ColorName|IsTrans|InvPartQty|IsSpare|count|\n",
      "+--------------------+--------------------+-----------------+-------+----------+-------+-----+\n",
      "|Torso Friends Mag...|            Minifigs|      Light Flesh|      f|         1|      f|    5|\n",
      "|            Legs Old|            Minifigs|           Yellow|      f|         1|      f|    3|\n",
      "|Slope Inverted 45...|       Bricks Sloped|Light Bluish Gray|      f|         1|      f|   60|\n",
      "|Slope Curved 3 x ...|       Bricks Curved|              Red|      f|         3|      f|    6|\n",
      "|Wheel 30.4 x 20 w...|    Wheels and Tyres|Light Bluish Gray|      f|         4|      f|   29|\n",
      "|String with End S...|String, Bands and...|            Black|      f|         2|      f|    3|\n",
      "|Brick Special 2 x...|      Bricks Special|              Red|      f|         2|      f|   16|\n",
      "|Wedge 3 x 4 x 2/3...|       Bricks Curved|    Reddish Brown|      f|         1|      f|    2|\n",
      "|Torso SW Gungan D...|            Minifigs|              Tan|      f|         1|      f|    5|\n",
      "|Minifig Head Modi...|            Minifigs|           Orange|      f|         1|      f|    2|\n",
      "|Plate Round 1 x 1...|Plates Round and ...|       Pearl Gold|      f|         1|      t|   15|\n",
      "|     Slope 18° 4 x 1|       Bricks Sloped|            Black|      f|         6|      f|    2|\n",
      "|Minifig Helmet Cl...| Minifig Accessories|             Blue|      f|         1|      f|    5|\n",
      "|Brick 2 x 4 witho...|              Bricks|           Yellow|      f|         2|      f|   20|\n",
      "|Brick 2 x 4 witho...|              Bricks|            White|      f|        30|      f|    3|\n",
      "|Plate Round 2 x 2...|Plates Round and ...|            White|      f|         5|      f|    2|\n",
      "|Mudguard 1 1/2 x ...|Transportation - ...|           Yellow|      f|         2|      f|    6|\n",
      "|Technic Beam 3 x ...|       Technic Beams|            Black|      f|         2|      f|   43|\n",
      "|Brick Special 1 x...|      Bricks Special| Dark Bluish Gray|      f|         2|      f|   29|\n",
      "|        Brick 1 x 10|              Bricks| Dark Bluish Gray|      f|         3|      f|    7|\n",
      "+--------------------+--------------------+-----------------+-------+----------+-------+-----+\n",
      "only showing top 20 rows\n",
      "\n"
     ]
    }
   ],
   "source": [
    "dfFinalLegoInventoryPartsDuplicate.show(20,20)"
   ]
  },
  {
   "cell_type": "code",
   "execution_count": 72,
   "id": "284cfb7f",
   "metadata": {},
   "outputs": [],
   "source": [
    "dfFinalLegoInventoryParts = dfFinalLegoInventoryParts.dropDuplicates()"
   ]
  },
  {
   "cell_type": "code",
   "execution_count": 73,
   "id": "a8273a79",
   "metadata": {},
   "outputs": [
    {
     "name": "stdout",
     "output_type": "stream",
     "text": [
      "Distinct Count: 103031\n"
     ]
    }
   ],
   "source": [
    "print(\"Distinct Count: \" + str(dfFinalLegoInventoryParts.count()))"
   ]
  },
  {
   "cell_type": "code",
   "execution_count": 74,
   "id": "36c24fb0",
   "metadata": {},
   "outputs": [],
   "source": [
    "dfFinalLegoInventoryPartsDuplicate = dfFinalLegoInventoryParts.groupBy('PartsName', \n",
    "                                                                       'PartCatName', \n",
    "                                                                       'ColorName', \n",
    "                                                                       'IsTrans', \n",
    "                                                                       'InvPartQty', \n",
    "                                                                       'IsSpare').count().filter(\"count > 1\")"
   ]
  },
  {
   "cell_type": "code",
   "execution_count": 75,
   "id": "0cbe9e61",
   "metadata": {},
   "outputs": [
    {
     "name": "stdout",
     "output_type": "stream",
     "text": [
      "+---------+-----------+---------+-------+----------+-------+-----+\n",
      "|PartsName|PartCatName|ColorName|IsTrans|InvPartQty|IsSpare|count|\n",
      "+---------+-----------+---------+-------+----------+-------+-----+\n",
      "+---------+-----------+---------+-------+----------+-------+-----+\n",
      "\n"
     ]
    }
   ],
   "source": [
    "dfFinalLegoInventoryPartsDuplicate.show()"
   ]
  },
  {
   "cell_type": "markdown",
   "id": "52bfdd8e",
   "metadata": {},
   "source": [
    "### Calculating distinct values in each column on DataFrame:"
   ]
  },
  {
   "cell_type": "code",
   "execution_count": 76,
   "id": "7c7f22d5",
   "metadata": {},
   "outputs": [
    {
     "name": "stdout",
     "output_type": "stream",
     "text": [
      "+---------+-----------+---------+-------+----------+-------+\n",
      "|PartsName|PartCatName|ColorName|IsTrans|InvPartQty|IsSpare|\n",
      "+---------+-----------+---------+-------+----------+-------+\n",
      "|    22942|         57|      131|      2|       239|      2|\n",
      "+---------+-----------+---------+-------+----------+-------+\n",
      "\n"
     ]
    }
   ],
   "source": [
    "dfFinalLegoInventoryParts.agg(*(countDistinct(col(c)).alias(c) for c in dfFinalLegoInventoryParts.columns )).show()"
   ]
  },
  {
   "cell_type": "markdown",
   "id": "ab9dd289",
   "metadata": {},
   "source": [
    "### Replacing values in a ColorName column"
   ]
  },
  {
   "cell_type": "code",
   "execution_count": 77,
   "id": "e00ae58c",
   "metadata": {},
   "outputs": [],
   "source": [
    "dfFinalLegoInventoryParts = dfFinalLegoInventoryParts.withColumn(\"ColorName\",\n",
    "                                                    when(dfFinalLegoInventoryParts.ColorName == \"[No Color]\", \"Not Available\")\n",
    "                                                .when(dfFinalLegoInventoryParts.ColorName == \"Unknown\", \"Not Available\")\n",
    "                                                .otherwise(dfFinalLegoInventoryParts.ColorName))"
   ]
  },
  {
   "cell_type": "code",
   "execution_count": 78,
   "id": "6dc5d291",
   "metadata": {},
   "outputs": [
    {
     "name": "stdout",
     "output_type": "stream",
     "text": [
      "+---------+-----------+---------+-------+----------+-------+\n",
      "|PartsName|PartCatName|ColorName|IsTrans|InvPartQty|IsSpare|\n",
      "+---------+-----------+---------+-------+----------+-------+\n",
      "+---------+-----------+---------+-------+----------+-------+\n",
      "\n"
     ]
    }
   ],
   "source": [
    "Color = [\"No Color\", \"Unknown\"]\n",
    "dfFinalLegoInventoryParts.filter(dfFinalLegoInventoryParts.ColorName.isin(Color)).show()\n"
   ]
  },
  {
   "cell_type": "markdown",
   "id": "699956b5",
   "metadata": {},
   "source": [
    "### Converting boolean to True/False"
   ]
  },
  {
   "cell_type": "code",
   "execution_count": 79,
   "id": "0e610234",
   "metadata": {},
   "outputs": [],
   "source": [
    "import pyspark.sql.functions as f\n",
    "\n",
    "cols = [\"IsTrans\",\"IsSpare\"]\n",
    "\n",
    "\n",
    "for col in cols:\n",
    "    dfFinalLegoInventoryParts = dfFinalLegoInventoryParts.withColumn(\n",
    "                                col,\n",
    "                                f.when(\n",
    "                                        f.col(col) == 'f',\n",
    "                                        'False'\n",
    "                                ).when(\n",
    "                                        f.col(col) == 't',\n",
    "                                        'True'\n",
    "                                ).otherwise(f.col(col)))"
   ]
  },
  {
   "cell_type": "code",
   "execution_count": 80,
   "id": "1a8a559c",
   "metadata": {},
   "outputs": [
    {
     "name": "stdout",
     "output_type": "stream",
     "text": [
      "+-------+\n",
      "|IsSpare|\n",
      "+-------+\n",
      "|  False|\n",
      "|   True|\n",
      "+-------+\n",
      "\n"
     ]
    }
   ],
   "source": [
    "dfFinalLegoInventoryParts.select(\"IsSpare\").distinct().show()"
   ]
  },
  {
   "cell_type": "code",
   "execution_count": 81,
   "id": "d9955626",
   "metadata": {},
   "outputs": [
    {
     "name": "stdout",
     "output_type": "stream",
     "text": [
      "+-------+\n",
      "|IsTrans|\n",
      "+-------+\n",
      "|  False|\n",
      "|   True|\n",
      "+-------+\n",
      "\n"
     ]
    }
   ],
   "source": [
    "dfFinalLegoInventoryParts.select(\"IsTrans\").distinct().show()"
   ]
  },
  {
   "cell_type": "code",
   "execution_count": 82,
   "id": "e2e67222",
   "metadata": {},
   "outputs": [],
   "source": [
    "from pyspark.sql.functions import *"
   ]
  },
  {
   "cell_type": "markdown",
   "id": "61260196",
   "metadata": {},
   "source": [
    "### Summary"
   ]
  },
  {
   "cell_type": "code",
   "execution_count": 83,
   "id": "ebdc1ea6",
   "metadata": {},
   "outputs": [
    {
     "name": "stdout",
     "output_type": "stream",
     "text": [
      "root\n",
      " |-- PartsName: string (nullable = true)\n",
      " |-- PartCatName: string (nullable = true)\n",
      " |-- ColorName: string (nullable = true)\n",
      " |-- IsTrans: string (nullable = true)\n",
      " |-- InvPartQty: integer (nullable = true)\n",
      " |-- IsSpare: string (nullable = true)\n",
      "\n"
     ]
    }
   ],
   "source": [
    "dfFinalLegoInventoryParts.printSchema()"
   ]
  },
  {
   "cell_type": "code",
   "execution_count": 84,
   "id": "e5cb6705",
   "metadata": {},
   "outputs": [
    {
     "data": {
      "text/plain": [
       "[('PartsName', 'string'),\n",
       " ('PartCatName', 'string'),\n",
       " ('ColorName', 'string'),\n",
       " ('IsTrans', 'string'),\n",
       " ('InvPartQty', 'int'),\n",
       " ('IsSpare', 'string')]"
      ]
     },
     "execution_count": 84,
     "metadata": {},
     "output_type": "execute_result"
    }
   ],
   "source": [
    "dfFinalLegoInventoryParts.dtypes"
   ]
  },
  {
   "cell_type": "code",
   "execution_count": 85,
   "id": "28f14d2d",
   "metadata": {},
   "outputs": [
    {
     "data": {
      "text/plain": [
       "103031"
      ]
     },
     "execution_count": 85,
     "metadata": {},
     "output_type": "execute_result"
    }
   ],
   "source": [
    "dfFinalLegoInventoryParts.count()"
   ]
  },
  {
   "cell_type": "code",
   "execution_count": 86,
   "id": "9e81f2d1",
   "metadata": {},
   "outputs": [
    {
     "name": "stdout",
     "output_type": "stream",
     "text": [
      "+-------+-----------------------+------------------------+---------------+-------+------------------+-------+\n",
      "|summary|              PartsName|             PartCatName|      ColorName|IsTrans|        InvPartQty|IsSpare|\n",
      "+-------+-----------------------+------------------------+---------------+-------+------------------+-------+\n",
      "|  count|                 103031|                  103031|         103031| 103031|            103031| 103031|\n",
      "|   mean|                   null|                    null|           null|   null| 6.258562956779998|   null|\n",
      "| stddev|                   null|                    null|           null|   null|17.491692647776546|   null|\n",
      "|    min|     Cupboard 2 x 3 x 4|Bars, Ladders and Fences|           Aqua|  False|                 1|  False|\n",
      "|    max|Ø1,5MM STRING WITH 0,5M|                    Znap|Yellowish Green|   True|              1440|   True|\n",
      "+-------+-----------------------+------------------------+---------------+-------+------------------+-------+\n",
      "\n"
     ]
    }
   ],
   "source": [
    "dfFinalLegoInventoryParts.describe().show(20,40)"
   ]
  },
  {
   "cell_type": "code",
   "execution_count": 87,
   "id": "834d23a4",
   "metadata": {},
   "outputs": [
    {
     "name": "stdout",
     "output_type": "stream",
     "text": [
      "+-------+------------------+\n",
      "|summary|        InvPartQty|\n",
      "+-------+------------------+\n",
      "|  count|            103031|\n",
      "|   mean| 6.258562956779998|\n",
      "| stddev|17.491692647776546|\n",
      "|    min|                 1|\n",
      "|    max|              1440|\n",
      "+-------+------------------+\n",
      "\n"
     ]
    }
   ],
   "source": [
    "dfFinalLegoInventoryParts.describe('InvPartQty').show()"
   ]
  },
  {
   "cell_type": "code",
   "execution_count": 88,
   "id": "384fcb81",
   "metadata": {},
   "outputs": [
    {
     "data": {
      "text/plain": [
       "(6,\n",
       " ['PartsName', 'PartCatName', 'ColorName', 'IsTrans', 'InvPartQty', 'IsSpare'])"
      ]
     },
     "execution_count": 88,
     "metadata": {},
     "output_type": "execute_result"
    }
   ],
   "source": [
    "len(dfFinalLegoInventoryParts.columns),dfFinalLegoInventoryParts.columns"
   ]
  },
  {
   "cell_type": "code",
   "execution_count": 89,
   "id": "e48a7165",
   "metadata": {},
   "outputs": [
    {
     "name": "stdout",
     "output_type": "stream",
     "text": [
      "After Data Cleaning\n",
      "+--------------------------------------------------+---------------------------+-------------+-------+----------+-------+\n",
      "|                                         PartsName|                PartCatName|    ColorName|IsTrans|InvPartQty|IsSpare|\n",
      "+--------------------------------------------------+---------------------------+-------------+-------+----------+-------+\n",
      "|Train Wheel Small, hole notched for wheels hold...|           Wheels and Tyres|        Black|  False|         4|  False|\n",
      "|Brick 10 x 20 with Bottom Tubes in single row a...|                     Bricks|          Red|  False|         1|  False|\n",
      "|             Tile Round 2 x 2 - Thick Lifting Ring|              Tiles Special|        Black|  False|         2|  False|\n",
      "|      Brick Special 1 x 4 with 4 Studs on One Side|             Bricks Special|         Blue|  False|         3|  False|\n",
      "|                                Duplo Plate 6 x 12|    Duplo, Quatro and Primo|Reddish Brown|  False|         1|  False|\n",
      "|             Technic Plate 1 x 6 with Toothed Ends|            Technic Special|        Black|  False|         4|  False|\n",
      "|                 Lever Small Base with Black Lever|   Bars, Ladders and Fences|        White|  False|         2|  False|\n",
      "|Minifig Head Male Eyepatch, Frown, Stubble and ...|                   Minifigs|       Yellow|  False|         1|  False|\n",
      "|                   Hinge Vehicle Roof Holder 1 x 4|Hinges, Arms and Turntables|        Black|  False|         3|  False|\n",
      "|     Brick Special 2 x 2 with Pin and No Axle Hole|             Bricks Special|          Red|  False|         1|  False|\n",
      "+--------------------------------------------------+---------------------------+-------------+-------+----------+-------+\n",
      "only showing top 10 rows\n",
      "\n"
     ]
    }
   ],
   "source": [
    "print(\"After Data Cleaning\")\n",
    "dfFinalLegoInventoryParts.show(10,50)"
   ]
  },
  {
   "cell_type": "markdown",
   "id": "8f9d98df",
   "metadata": {},
   "source": [
    "## dfLegoInvSetsInvPartsLeft"
   ]
  },
  {
   "cell_type": "code",
   "execution_count": 90,
   "id": "19b9efcb",
   "metadata": {},
   "outputs": [
    {
     "name": "stdout",
     "output_type": "stream",
     "text": [
      "+----------------+--------------------+----+---------+--------------------+----------+-----------+-------+----------+-------+\n",
      "|      NameThemes|            NameSets|Year|InvSetQty|           PartsName|InvPartQty|PartCatName|IsSpare|     Color|IsTrans|\n",
      "+----------------+--------------------+----+---------+--------------------+----------+-----------+-------+----------+-------+\n",
      "| Speed Champions|McLaren Mercedes ...|2015|        1|                null|      null|       null|   null|      null|   null|\n",
      "| Speed Champions|Porsche 911 GT Fi...|2015|        1|                null|      null|       null|   null|      null|   null|\n",
      "|Star Wars Rebels|         The Phantom|2014|        1|                null|      null|       null|   null|      null|   null|\n",
      "|Star Wars Rebels|           The Ghost|2014|        1|                null|      null|       null|   null|      null|   null|\n",
      "|              9V|      Straight Rails|1991|        1|                null|      null|       null|   null|      null|   null|\n",
      "|              9V|        Curved Rails|1991|        2|                null|      null|       null|   null|      null|   null|\n",
      "|              9V|       Manual Points|1991|        1|                null|      null|       null|   null|      null|   null|\n",
      "|    Mars Mission|MB-01 Eagle Comma...|2007|        1|                null|      null|       null|   null|      null|   null|\n",
      "|    Mars Mission|ETX Alien Mothers...|2007|        1|                null|      null|       null|   null|      null|   null|\n",
      "|    Mars Mission|MX-71 Recon Dropship|2007|        1|                null|      null|       null|   null|      null|   null|\n",
      "|    Mars Mission|    ETX Alien Strike|2007|        1|                null|      null|       null|   null|      null|   null|\n",
      "|    Mars Mission|         MT-31 Trike|2007|        1|                null|      null|       null|   null|      null|   null|\n",
      "|    Mars Mission| MX-11 Astro Fighter|2007|        1|                null|      null|       null|   null|      null|   null|\n",
      "|    Mars Mission|MT-51 Claw-Tank A...|2007|        1|                null|      null|       null|   null|      null|   null|\n",
      "|    Construction|              Dumper|2003|        1|                null|      null|       null|   null|      null|   null|\n",
      "|    Construction|    Front End Loader|2003|        1|                null|      null|       null|   null|      null|   null|\n",
      "|        RC Train|     Horizon Express|2013|        1|(Set) Power Funct...|         1|      Other|      f|[No Color]|      f|\n",
      "| Power Functions|Power Functions T...|2011|        1|(Set) Power Funct...|         1|      Other|      f|[No Color]|      f|\n",
      "| Power Functions|Power Functions L...|2009|        1|(Set) Power Funct...|         1|      Other|      f|[No Color]|      f|\n",
      "| Power Functions|Rechargeable Batt...|2009|        1|(Set) Power Funct...|         1|      Other|      f|[No Color]|      f|\n",
      "+----------------+--------------------+----+---------+--------------------+----------+-----------+-------+----------+-------+\n",
      "only showing top 20 rows\n",
      "\n"
     ]
    }
   ],
   "source": [
    "dfLegoInvSetsInvPartsLeft.show()"
   ]
  },
  {
   "cell_type": "markdown",
   "id": "cb127a8c",
   "metadata": {},
   "source": [
    "### Looking for null values"
   ]
  },
  {
   "cell_type": "code",
   "execution_count": 91,
   "id": "380add21",
   "metadata": {},
   "outputs": [
    {
     "name": "stdout",
     "output_type": "stream",
     "text": [
      "+----------+--------+----+---------+---------+----------+-----------+-------+-----+-------+\n",
      "|NameThemes|NameSets|Year|InvSetQty|PartsName|InvPartQty|PartCatName|IsSpare|Color|IsTrans|\n",
      "+----------+--------+----+---------+---------+----------+-----------+-------+-----+-------+\n",
      "|         0|       0|   0|        0|     2657|      2657|       2657|   2657| 2657|   2657|\n",
      "+----------+--------+----+---------+---------+----------+-----------+-------+-----+-------+\n",
      "\n"
     ]
    }
   ],
   "source": [
    "\n",
    "dfLegoInvSetsInvPartsLeft.select([count(when(isnan(c) | col(c).isNull(),\n",
    "                                             c)).alias(c) for c in dfLegoInvSetsInvPartsLeft.columns]).show()"
   ]
  },
  {
   "cell_type": "markdown",
   "id": "8004aa17",
   "metadata": {},
   "source": [
    "### Replacing null values to Not Available - there are no parts in Inventory for these sets"
   ]
  },
  {
   "cell_type": "code",
   "execution_count": 92,
   "id": "af6eaefe",
   "metadata": {},
   "outputs": [],
   "source": [
    "dfLegoInvSetsInvPartsLeft = dfLegoInvSetsInvPartsLeft.na.fill('Not Available')\n",
    "dfLegoInvSetsInvPartsLeft = dfLegoInvSetsInvPartsLeft.na.fill(0, [\"InvPartQty\"])"
   ]
  },
  {
   "cell_type": "code",
   "execution_count": 93,
   "id": "6fdeec7c",
   "metadata": {},
   "outputs": [
    {
     "name": "stdout",
     "output_type": "stream",
     "text": [
      "+----------+--------+----+---------+---------+----------+-----------+-------+-----+-------+\n",
      "|NameThemes|NameSets|Year|InvSetQty|PartsName|InvPartQty|PartCatName|IsSpare|Color|IsTrans|\n",
      "+----------+--------+----+---------+---------+----------+-----------+-------+-----+-------+\n",
      "|         0|       0|   0|        0|        0|         0|          0|      0|    0|      0|\n",
      "+----------+--------+----+---------+---------+----------+-----------+-------+-----+-------+\n",
      "\n"
     ]
    }
   ],
   "source": [
    "dfLegoInvSetsInvPartsLeft.select([count(when(isnan(c) | col(c).isNull(),\n",
    "                                             c)).alias(c) for c in dfLegoInvSetsInvPartsLeft.columns]).show()"
   ]
  },
  {
   "cell_type": "markdown",
   "id": "f0b3efde",
   "metadata": {},
   "source": [
    "### Removing duplicate values"
   ]
  },
  {
   "cell_type": "code",
   "execution_count": 94,
   "id": "af2251fc",
   "metadata": {},
   "outputs": [
    {
     "data": {
      "text/plain": [
       "3089"
      ]
     },
     "execution_count": 94,
     "metadata": {},
     "output_type": "execute_result"
    }
   ],
   "source": [
    "dfLegoInvSetsInvPartsLeft.count()"
   ]
  },
  {
   "cell_type": "code",
   "execution_count": 95,
   "id": "9f395277",
   "metadata": {},
   "outputs": [
    {
     "data": {
      "text/plain": [
       "2602"
      ]
     },
     "execution_count": 95,
     "metadata": {},
     "output_type": "execute_result"
    }
   ],
   "source": [
    "dfLegoInvSetsInvPartsLeft.distinct().count()"
   ]
  },
  {
   "cell_type": "code",
   "execution_count": 96,
   "id": "1915d8be",
   "metadata": {},
   "outputs": [
    {
     "data": {
      "text/plain": [
       "['NameThemes',\n",
       " 'NameSets',\n",
       " 'Year',\n",
       " 'InvSetQty',\n",
       " 'PartsName',\n",
       " 'InvPartQty',\n",
       " 'PartCatName',\n",
       " 'IsSpare',\n",
       " 'Color',\n",
       " 'IsTrans']"
      ]
     },
     "execution_count": 96,
     "metadata": {},
     "output_type": "execute_result"
    }
   ],
   "source": [
    "dfLegoInvSetsInvPartsLeft.columns"
   ]
  },
  {
   "cell_type": "code",
   "execution_count": 97,
   "id": "41d99342",
   "metadata": {},
   "outputs": [
    {
     "name": "stdout",
     "output_type": "stream",
     "text": [
      "+----------+----------+----+---------+----------+----------+-----------+----------+----------+----------+-----+\n",
      "|NameThemes|  NameSets|Year|InvSetQty| PartsName|InvPartQty|PartCatName|   IsSpare|     Color|   IsTrans|count|\n",
      "+----------+----------+----+---------+----------+----------+-----------+----------+----------+----------+-----+\n",
      "|Fantasy...|Knights...|2007|        1|Not Ava...|         0| Not Ava...|Not Ava...|Not Ava...|Not Ava...|    2|\n",
      "|      Fire|Off-Roa...|2010|        1|Not Ava...|         0| Not Ava...|Not Ava...|Not Ava...|Not Ava...|    2|\n",
      "|Fantasy...|King's ...|2007|        1|Not Ava...|         0| Not Ava...|Not Ava...|Not Ava...|Not Ava...|    2|\n",
      "| Toa Metru| Toa Matau|2004|        1|Not Ava...|         0| Not Ava...|Not Ava...|Not Ava...|Not Ava...|    2|\n",
      "|    Titans|  Keetongu|2005|        1|Not Ava...|         0| Not Ava...|Not Ava...|Not Ava...|Not Ava...|    2|\n",
      "|   Rahkshi|   Guurahk|2003|        1|Not Ava...|         0| Not Ava...|Not Ava...|Not Ava...|Not Ava...|    3|\n",
      "|   Traffic| Tow Truck|2009|        1|Not Ava...|         0| Not Ava...|Not Ava...|Not Ava...|Not Ava...|    3|\n",
      "|    Harbor| Speedboat|1997|        1|Not Ava...|         0| Not Ava...|Not Ava...|Not Ava...|Not Ava...|    2|\n",
      "|    Soccer|Fans' G...|2000|        1|Not Ava...|         0| Not Ava...|Not Ava...|Not Ava...|Not Ava...|    2|\n",
      "|Star Wa...|Millenn...|2003|        1|Not Ava...|         0| Not Ava...|Not Ava...|Not Ava...|Not Ava...|    2|\n",
      "|    Bohrok|    Lehvak|2002|        1|Not Ava...|         0| Not Ava...|Not Ava...|Not Ava...|Not Ava...|    6|\n",
      "|   Rahkshi|    Lerahk|2003|        1|Not Ava...|         0| Not Ava...|Not Ava...|Not Ava...|Not Ava...|    4|\n",
      "|    Police|Police ...|2011|        1|Not Ava...|         0| Not Ava...|Not Ava...|Not Ava...|Not Ava...|    4|\n",
      "|My Own ...|Locomot...|2001|        1|Not Ava...|         0| Not Ava...|Not Ava...|Not Ava...|Not Ava...|    4|\n",
      "|     Vahki|Vahki R...|2004|        1|Not Ava...|         0| Not Ava...|Not Ava...|Not Ava...|Not Ava...|    2|\n",
      "|    Police|Prisone...|2005|        1|Not Ava...|         0| Not Ava...|Not Ava...|Not Ava...|Not Ava...|    5|\n",
      "|My Own ...|Locomot...|2001|        1|Not Ava...|         0| Not Ava...|Not Ava...|Not Ava...|Not Ava...|    4|\n",
      "|Toa Hor...|Toa Hor...|2005|        1|Not Ava...|         0| Not Ava...|Not Ava...|Not Ava...|Not Ava...|    3|\n",
      "|    Police|Police ...|2008|        1|Not Ava...|         0| Not Ava...|Not Ava...|Not Ava...|Not Ava...|    4|\n",
      "|    Police|Police ...|2005|        1|Not Ava...|         0| Not Ava...|Not Ava...|Not Ava...|Not Ava...|    4|\n",
      "+----------+----------+----+---------+----------+----------+-----------+----------+----------+----------+-----+\n",
      "only showing top 20 rows\n",
      "\n"
     ]
    }
   ],
   "source": [
    "dfLegoInvSetsInvPartsLeftDuplicate = dfLegoInvSetsInvPartsLeft.groupBy('NameThemes',\n",
    " 'NameSets',\n",
    " 'Year',\n",
    " 'InvSetQty',\n",
    " 'PartsName',\n",
    " 'InvPartQty',\n",
    " 'PartCatName',\n",
    " 'IsSpare',\n",
    " 'Color',\n",
    " 'IsTrans').count().filter(\"count > 1\")\n",
    "\n",
    "dfLegoInvSetsInvPartsLeftDuplicate.show(20,10)"
   ]
  },
  {
   "cell_type": "code",
   "execution_count": 98,
   "id": "e898d7d4",
   "metadata": {},
   "outputs": [],
   "source": [
    "dfLegoInvSetsInvPartsLeft = dfLegoInvSetsInvPartsLeft.dropDuplicates()"
   ]
  },
  {
   "cell_type": "code",
   "execution_count": 99,
   "id": "f4120001",
   "metadata": {},
   "outputs": [
    {
     "name": "stdout",
     "output_type": "stream",
     "text": [
      "+----------+--------+----+---------+---------+----------+-----------+-------+-----+-------+-----+\n",
      "|NameThemes|NameSets|Year|InvSetQty|PartsName|InvPartQty|PartCatName|IsSpare|Color|IsTrans|count|\n",
      "+----------+--------+----+---------+---------+----------+-----------+-------+-----+-------+-----+\n",
      "+----------+--------+----+---------+---------+----------+-----------+-------+-----+-------+-----+\n",
      "\n"
     ]
    }
   ],
   "source": [
    "dfLegoInvSetsInvPartsLeftDuplicate = dfLegoInvSetsInvPartsLeft.groupBy('NameThemes',\n",
    " 'NameSets',\n",
    " 'Year',\n",
    " 'InvSetQty',\n",
    " 'PartsName',\n",
    " 'InvPartQty',\n",
    " 'PartCatName',\n",
    " 'IsSpare',\n",
    " 'Color',\n",
    " 'IsTrans').count().filter(\"count > 1\")\n",
    "\n",
    "dfLegoInvSetsInvPartsLeftDuplicate.show()"
   ]
  },
  {
   "cell_type": "code",
   "execution_count": 100,
   "id": "2fe63f0f",
   "metadata": {},
   "outputs": [
    {
     "name": "stdout",
     "output_type": "stream",
     "text": [
      "Distinct Count: 2602\n"
     ]
    }
   ],
   "source": [
    "print(\"Distinct Count: \" + str(dfLegoInvSetsInvPartsLeft.count()))"
   ]
  },
  {
   "cell_type": "markdown",
   "id": "f6a47860",
   "metadata": {},
   "source": [
    "### Calculating distinct values in each column on DataFrame"
   ]
  },
  {
   "cell_type": "code",
   "execution_count": 101,
   "id": "2fbcb2db",
   "metadata": {},
   "outputs": [
    {
     "name": "stdout",
     "output_type": "stream",
     "text": [
      "+----------+--------+----+---------+---------+----------+-----------+-------+-----+-------+\n",
      "|NameThemes|NameSets|Year|InvSetQty|PartsName|InvPartQty|PartCatName|IsSpare|Color|IsTrans|\n",
      "+----------+--------+----+---------+---------+----------+-----------+-------+-----+-------+\n",
      "|       208|    2262|  42|        7|       93|        11|         19|      3|   21|      3|\n",
      "+----------+--------+----+---------+---------+----------+-----------+-------+-----+-------+\n",
      "\n"
     ]
    }
   ],
   "source": [
    "dfLegoInvSetsInvPartsLeft.agg(*(countDistinct(col(c)).alias(c) for c in dfLegoInvSetsInvPartsLeft.columns)).show()"
   ]
  },
  {
   "cell_type": "markdown",
   "id": "2d3050f3",
   "metadata": {},
   "source": [
    "### Replacing values in a ColorName column"
   ]
  },
  {
   "cell_type": "code",
   "execution_count": 102,
   "id": "19aaa1c0",
   "metadata": {},
   "outputs": [],
   "source": [
    "dfLegoInvSetsInvPartsLeft = dfLegoInvSetsInvPartsLeft.withColumn(\"Color\",\n",
    "                                                    when(dfLegoInvSetsInvPartsLeft.Color == \"[No Color]\", \"Not Available\")\n",
    "                                                .when(dfLegoInvSetsInvPartsLeft.Color == \"Unknown\", \"Not Available\")\n",
    "                                                .otherwise(dfLegoInvSetsInvPartsLeft.Color))"
   ]
  },
  {
   "cell_type": "code",
   "execution_count": 103,
   "id": "505bf820",
   "metadata": {
    "scrolled": true
   },
   "outputs": [
    {
     "name": "stdout",
     "output_type": "stream",
     "text": [
      "+-----------------+\n",
      "|            Color|\n",
      "+-----------------+\n",
      "|           Orange|\n",
      "|       Royal Blue|\n",
      "|       Pearl Gold|\n",
      "|     Trans-Yellow|\n",
      "|            Green|\n",
      "|      Trans-Green|\n",
      "|      Medium Blue|\n",
      "|       Light Gray|\n",
      "|             Blue|\n",
      "|   Flat Dark Gold|\n",
      "|    Metallic Gold|\n",
      "|            White|\n",
      "|Light Bluish Gray|\n",
      "|        Trans-Red|\n",
      "|            Black|\n",
      "|           Yellow|\n",
      "|              Red|\n",
      "|    Not Available|\n",
      "| Dark Bluish Gray|\n",
      "+-----------------+\n",
      "\n"
     ]
    }
   ],
   "source": [
    "dfLegoInvSetsInvPartsLeft.select(\"Color\").distinct().show()"
   ]
  },
  {
   "cell_type": "markdown",
   "id": "65451e1a",
   "metadata": {},
   "source": [
    "### Converting boolean to True/False"
   ]
  },
  {
   "cell_type": "code",
   "execution_count": 104,
   "id": "15c4fcc8",
   "metadata": {},
   "outputs": [],
   "source": [
    "import pyspark.sql.functions as f\n",
    "\n",
    "cols = ['IsSpare','IsTrans']\n",
    "\n",
    "for col in cols:\n",
    "    dfLegoInvSetsInvPartsLeft = dfLegoInvSetsInvPartsLeft.withColumn(\n",
    "                            col,\n",
    "                            f.when(\n",
    "                                    f.col(col) == 'f',\n",
    "                                    'False'\n",
    "                            ).when(\n",
    "                                    f.col(col) == 't',\n",
    "                                    'True'\n",
    "                            ).otherwise(f.col(col)))"
   ]
  },
  {
   "cell_type": "code",
   "execution_count": 105,
   "id": "ab2853e8",
   "metadata": {},
   "outputs": [
    {
     "name": "stdout",
     "output_type": "stream",
     "text": [
      "+-------------+\n",
      "|      IsSpare|\n",
      "+-------------+\n",
      "|        False|\n",
      "|         True|\n",
      "|Not Available|\n",
      "+-------------+\n",
      "\n"
     ]
    }
   ],
   "source": [
    "dfLegoInvSetsInvPartsLeft.select(\"IsSpare\").distinct().show()"
   ]
  },
  {
   "cell_type": "code",
   "execution_count": 106,
   "id": "fa4dcb05",
   "metadata": {},
   "outputs": [
    {
     "name": "stdout",
     "output_type": "stream",
     "text": [
      "+-------------+\n",
      "|      IsTrans|\n",
      "+-------------+\n",
      "|        False|\n",
      "|         True|\n",
      "|Not Available|\n",
      "+-------------+\n",
      "\n"
     ]
    }
   ],
   "source": [
    "dfLegoInvSetsInvPartsLeft.select(\"IsTrans\").distinct().show()"
   ]
  },
  {
   "cell_type": "code",
   "execution_count": 107,
   "id": "560ae167",
   "metadata": {},
   "outputs": [],
   "source": [
    "from pyspark.sql.functions import *"
   ]
  },
  {
   "cell_type": "markdown",
   "id": "7fe429f0",
   "metadata": {},
   "source": [
    "### Summary"
   ]
  },
  {
   "cell_type": "code",
   "execution_count": 108,
   "id": "0757d42f",
   "metadata": {},
   "outputs": [
    {
     "name": "stdout",
     "output_type": "stream",
     "text": [
      "root\n",
      " |-- NameThemes: string (nullable = false)\n",
      " |-- NameSets: string (nullable = false)\n",
      " |-- Year: integer (nullable = true)\n",
      " |-- InvSetQty: integer (nullable = true)\n",
      " |-- PartsName: string (nullable = false)\n",
      " |-- InvPartQty: integer (nullable = true)\n",
      " |-- PartCatName: string (nullable = false)\n",
      " |-- IsSpare: string (nullable = false)\n",
      " |-- Color: string (nullable = false)\n",
      " |-- IsTrans: string (nullable = false)\n",
      "\n"
     ]
    }
   ],
   "source": [
    "dfLegoInvSetsInvPartsLeft.printSchema()"
   ]
  },
  {
   "cell_type": "code",
   "execution_count": 109,
   "id": "c2aed374",
   "metadata": {},
   "outputs": [
    {
     "data": {
      "text/plain": [
       "[('NameThemes', 'string'),\n",
       " ('NameSets', 'string'),\n",
       " ('Year', 'int'),\n",
       " ('InvSetQty', 'int'),\n",
       " ('PartsName', 'string'),\n",
       " ('InvPartQty', 'int'),\n",
       " ('PartCatName', 'string'),\n",
       " ('IsSpare', 'string'),\n",
       " ('Color', 'string'),\n",
       " ('IsTrans', 'string')]"
      ]
     },
     "execution_count": 109,
     "metadata": {},
     "output_type": "execute_result"
    }
   ],
   "source": [
    "dfLegoInvSetsInvPartsLeft.dtypes"
   ]
  },
  {
   "cell_type": "code",
   "execution_count": 110,
   "id": "4257dc9b",
   "metadata": {},
   "outputs": [
    {
     "data": {
      "text/plain": [
       "2602"
      ]
     },
     "execution_count": 110,
     "metadata": {},
     "output_type": "execute_result"
    }
   ],
   "source": [
    "dfLegoInvSetsInvPartsLeft.count()"
   ]
  },
  {
   "cell_type": "code",
   "execution_count": 111,
   "id": "5cce3327",
   "metadata": {},
   "outputs": [
    {
     "name": "stdout",
     "output_type": "stream",
     "text": [
      "+-------+----------+----------+----------+----------+----------+----------+-----------+-------+------+-------+\n",
      "|summary|NameThemes|  NameSets|      Year| InvSetQty| PartsName|InvPartQty|PartCatName|IsSpare| Color|IsTrans|\n",
      "+-------+----------+----------+----------+----------+----------+----------+-----------+-------+------+-------+\n",
      "|  count|      2602|      2602|      2602|      2602|      2602|      2602|       2602|   2602|  2602|   2602|\n",
      "|   mean|      null|      null|2005.53...|1.41352...|      null|0.38124...|       null|   null|  null|   null|\n",
      "| stddev|      null|      null|8.17875...|4.77075...|      null|1.60038...|       null|   null|  null|   null|\n",
      "|    min|        9V|   Spectre|      1969|         1|(Set) P...|         0| Bars, L...|  False| Black|  False|\n",
      "|    max|     X-Pod|{Town V...|      2017|        60|X-Pod P...|        25| Tubes a...|   True|Yellow|   True|\n",
      "+-------+----------+----------+----------+----------+----------+----------+-----------+-------+------+-------+\n",
      "\n"
     ]
    }
   ],
   "source": [
    "dfLegoInvSetsInvPartsLeft.describe().show(20,10)"
   ]
  },
  {
   "cell_type": "code",
   "execution_count": 112,
   "id": "e0c3b174",
   "metadata": {},
   "outputs": [
    {
     "name": "stdout",
     "output_type": "stream",
     "text": [
      "+-------+------------------+\n",
      "|summary|         InvSetQty|\n",
      "+-------+------------------+\n",
      "|  count|              2602|\n",
      "|   mean|1.4135280553420446|\n",
      "| stddev| 4.770755612758574|\n",
      "|    min|                 1|\n",
      "|    max|                60|\n",
      "+-------+------------------+\n",
      "\n"
     ]
    }
   ],
   "source": [
    "dfLegoInvSetsInvPartsLeft.describe('InvSetQty').show()"
   ]
  },
  {
   "cell_type": "code",
   "execution_count": 113,
   "id": "f171db67",
   "metadata": {},
   "outputs": [
    {
     "name": "stdout",
     "output_type": "stream",
     "text": [
      "+-------+-------------------+\n",
      "|summary|         InvPartQty|\n",
      "+-------+-------------------+\n",
      "|  count|               2602|\n",
      "|   mean|0.38124519600307455|\n",
      "| stddev| 1.6003897984383013|\n",
      "|    min|                  0|\n",
      "|    max|                 25|\n",
      "+-------+-------------------+\n",
      "\n"
     ]
    }
   ],
   "source": [
    "dfLegoInvSetsInvPartsLeft.describe('InvPartQty').show()"
   ]
  },
  {
   "cell_type": "code",
   "execution_count": 114,
   "id": "ab668b4b",
   "metadata": {},
   "outputs": [
    {
     "data": {
      "text/plain": [
       "(10,\n",
       " ['NameThemes',\n",
       "  'NameSets',\n",
       "  'Year',\n",
       "  'InvSetQty',\n",
       "  'PartsName',\n",
       "  'InvPartQty',\n",
       "  'PartCatName',\n",
       "  'IsSpare',\n",
       "  'Color',\n",
       "  'IsTrans'])"
      ]
     },
     "execution_count": 114,
     "metadata": {},
     "output_type": "execute_result"
    }
   ],
   "source": [
    "len(dfLegoInvSetsInvPartsLeft.columns),dfLegoInvSetsInvPartsLeft.columns"
   ]
  },
  {
   "cell_type": "code",
   "execution_count": 115,
   "id": "d0decfd0",
   "metadata": {},
   "outputs": [
    {
     "name": "stdout",
     "output_type": "stream",
     "text": [
      "After Data Cleaning: \n",
      "+----------+----------+----+---------+----------+----------+-----------+----------+----------+----------+\n",
      "|NameThemes|  NameSets|Year|InvSetQty| PartsName|InvPartQty|PartCatName|   IsSpare|     Color|   IsTrans|\n",
      "+----------+----------+----+---------+----------+----------+-----------+----------+----------+----------+\n",
      "|      Town|Service...|2007|        1|Not Ava...|         0| Not Ava...|Not Ava...|Not Ava...|Not Ava...|\n",
      "|Spider-Man|Spider-...|2004|        1|Not Ava...|         0| Not Ava...|Not Ava...|Not Ava...|Not Ava...|\n",
      "|Bohrok-Kal|Pahrak-Kal|2003|        1|Not Ava...|         0| Not Ava...|Not Ava...|Not Ava...|Not Ava...|\n",
      "|Monster...|The Cra...|2012|        1|Not Ava...|         0| Not Ava...|Not Ava...|Not Ava...|Not Ava...|\n",
      "|Life On...|     Rover|2001|        1|Not Ava...|         0| Not Ava...|Not Ava...|Not Ava...|Not Ava...|\n",
      "|      City|Advent ...|2008|        1|Not Ava...|         0| Not Ava...|Not Ava...|Not Ava...|Not Ava...|\n",
      "|   Studios|     Buggy|2001|        1|Not Ava...|         0| Not Ava...|Not Ava...|Not Ava...|Not Ava...|\n",
      "|      City|Advent ...|2010|        1|Not Ava...|         0| Not Ava...|Not Ava...|Not Ava...|Not Ava...|\n",
      "|   Technic|Technic...|1987|        1|LEGO TC...|         1|   Non-LEGO|     False|Not Ava...|     False|\n",
      "| Star Wars|Advent ...|2012|        1|Star Wa...|         1|   Non-LEGO|     False|Not Ava...|     False|\n",
      "+----------+----------+----+---------+----------+----------+-----------+----------+----------+----------+\n",
      "only showing top 10 rows\n",
      "\n"
     ]
    }
   ],
   "source": [
    "print('After Data Cleaning: ')\n",
    "dfLegoInvSetsInvPartsLeft.show(10,10)"
   ]
  },
  {
   "cell_type": "markdown",
   "id": "2c8ba765",
   "metadata": {},
   "source": [
    "# Analysis"
   ]
  },
  {
   "cell_type": "markdown",
   "id": "fe558d58",
   "metadata": {},
   "source": [
    "## dfFinalLego"
   ]
  },
  {
   "cell_type": "code",
   "execution_count": 116,
   "id": "bd4352c0",
   "metadata": {
    "scrolled": true
   },
   "outputs": [
    {
     "name": "stdout",
     "output_type": "stream",
     "text": [
      "+---------------+---------------+----+---------+---------------+---------------+-----------+-------+-------------+-------+\n",
      "|       NameSets|     NameThemes|Year|InvSetQty|      PartsName|    PartCatName|InvPartsQty|IsSpare|    ColorName|IsTrans|\n",
      "+---------------+---------------+----+---------+---------------+---------------+-----------+-------+-------------+-------+\n",
      "|Rascus (Euro...|Knights King...|2004|        1|Headgear, Ma...|       Non-LEGO|          1|  False|Not Available|  False|\n",
      "|Advent Calen...|      Star Wars|2012|        1|Star Wars 20...|       Non-LEGO|          1|  False|Not Available|  False|\n",
      "|Set K1062 Ac...|           Town|1981|        1|   Plate 4 x 10|         Plates|          1|  False|        White|  False|\n",
      "|Set K1062 Ac...|           Town|1981|        1|    Brick 2 x 4|         Bricks|         12|  False|        White|  False|\n",
      "|Droid Tri-Fi...|Star Wars Ep...|2005|        1|Star Wars Ep...|       Non-LEGO|          1|  False|Not Available|  False|\n",
      "|Adventurers ...|         Desert|1998|        1|Compass Key ...|       Non-LEGO|          1|  False|   Royal Blue|  False|\n",
      "|Power Functi...|Power Functions|2008|        1|(Set) Power ...|          Other|          1|  False|Not Available|  False|\n",
      "|Interface Ca...|        Technic|1989|        1|Instruction ...|       Non-LEGO|          1|  False|Not Available|  False|\n",
      "|Advent Calen...|      Star Wars|2012|        1|Star Wars 20...|       Non-LEGO|          1|  False|Not Available|  False|\n",
      "|         Reidak|         Piraka|2006|        1|Technic Pin ...|   Technic Pins|          3|  False|        Black|  False|\n",
      "|{Town Vehicles}|           Town|1980|        1|Brick Round ...|Bricks Round...|          8|  False|    Trans-Red|   True|\n",
      "|Hockey Game Set|         Hockey|2003|        1|Bionicle Sho...|Bionicle, He...|          2|  False|        Green|  False|\n",
      "|Set K1062 Ac...|           Town|1981|        1|    Plate 1 x 3|         Plates|          8|  False|        White|  False|\n",
      "|        Nidhiki|         Titans|2004|        1|Bionicle Mas...|Bionicle, He...|          1|  False|        Black|  False|\n",
      "|Advent Calen...|           City|2007|        1|Minifig Head...|       Minifigs|          1|  False|       Yellow|  False|\n",
      "|World Team P...|         Soccer|1998|        2|Sticker for ...|       Non-LEGO|          1|   True|Not Available|  False|\n",
      "|Advent Calen...|           City|2007|        1|Minifig Head...|       Minifigs|          1|  False|       Yellow|  False|\n",
      "|Santis (USA ...|Knights King...|2004|        1|Food - Water...|       Non-LEGO|          1|  False|   Royal Blue|  False|\n",
      "|Advent Calen...|           City|2007|        1|Torso Mechan...|       Minifigs|          1|  False|  Medium Blue|  False|\n",
      "|Advent Calen...|           City|2007|        1|Minifig Head...|       Minifigs|          1|  False|       Yellow|  False|\n",
      "+---------------+---------------+----+---------+---------------+---------------+-----------+-------+-------------+-------+\n",
      "only showing top 20 rows\n",
      "\n"
     ]
    }
   ],
   "source": [
    "dfFinalLego.show(20,15)"
   ]
  },
  {
   "cell_type": "markdown",
   "id": "844ae363",
   "metadata": {},
   "source": [
    "#### Upper all columns"
   ]
  },
  {
   "cell_type": "code",
   "execution_count": 117,
   "id": "deba2361",
   "metadata": {},
   "outputs": [],
   "source": [
    "dfFinalLegoUpperColumns = dfFinalLego"
   ]
  },
  {
   "cell_type": "code",
   "execution_count": 118,
   "id": "620f19cf",
   "metadata": {},
   "outputs": [
    {
     "name": "stdout",
     "output_type": "stream",
     "text": [
      "+---------------+---------------+----+---------+---------------+---------------+-----------+-------+-------------+-------+\n",
      "|       NameSets|     NameThemes|Year|InvSetQty|      PartsName|    PartCatName|InvPartsQty|IsSpare|    ColorName|IsTrans|\n",
      "+---------------+---------------+----+---------+---------------+---------------+-----------+-------+-------------+-------+\n",
      "|DROID TRI-FI...|STAR WARS EP...|2005|        1|STAR WARS EP...|       NON-LEGO|          1|  FALSE|NOT AVAILABLE|  FALSE|\n",
      "|RASCUS (EURO...|KNIGHTS KING...|2004|        1|HEADGEAR, MA...|       NON-LEGO|          1|  FALSE|NOT AVAILABLE|  FALSE|\n",
      "|SET K1062 AC...|           TOWN|1981|        1|   PLATE 4 X 10|         PLATES|          1|  FALSE|        WHITE|  FALSE|\n",
      "|SET K1062 AC...|           TOWN|1981|        1|    BRICK 2 X 4|         BRICKS|         12|  FALSE|        WHITE|  FALSE|\n",
      "|ADVENT CALEN...|      STAR WARS|2012|        1|STAR WARS 20...|       NON-LEGO|          1|  FALSE|NOT AVAILABLE|  FALSE|\n",
      "|ADVENTURERS ...|         DESERT|1998|        1|COMPASS KEY ...|       NON-LEGO|          1|  FALSE|   ROYAL BLUE|  FALSE|\n",
      "|POWER FUNCTI...|POWER FUNCTIONS|2008|        1|(SET) POWER ...|          OTHER|          1|  FALSE|NOT AVAILABLE|  FALSE|\n",
      "|ADVENT CALEN...|      STAR WARS|2012|        1|STAR WARS 20...|       NON-LEGO|          1|  FALSE|NOT AVAILABLE|  FALSE|\n",
      "|         REIDAK|         PIRAKA|2006|        1|TECHNIC PIN ...|   TECHNIC PINS|          3|  FALSE|        BLACK|  FALSE|\n",
      "|{TOWN VEHICLES}|           TOWN|1980|        1|BRICK ROUND ...|BRICKS ROUND...|          8|  FALSE|    TRANS-RED|   TRUE|\n",
      "|INTERFACE CA...|        TECHNIC|1989|        1|INSTRUCTION ...|       NON-LEGO|          1|  FALSE|NOT AVAILABLE|  FALSE|\n",
      "|HOCKEY GAME SET|         HOCKEY|2003|        1|BIONICLE SHO...|BIONICLE, HE...|          2|  FALSE|        GREEN|  FALSE|\n",
      "|        NIDHIKI|         TITANS|2004|        1|BIONICLE MAS...|BIONICLE, HE...|          1|  FALSE|        BLACK|  FALSE|\n",
      "|SET K1062 AC...|           TOWN|1981|        1|    PLATE 1 X 3|         PLATES|          8|  FALSE|        WHITE|  FALSE|\n",
      "|ADVENT CALEN...|           CITY|2007|        1|MINIFIG HEAD...|       MINIFIGS|          1|  FALSE|       YELLOW|  FALSE|\n",
      "|WORLD TEAM P...|         SOCCER|1998|        2|STICKER FOR ...|       NON-LEGO|          1|   TRUE|NOT AVAILABLE|  FALSE|\n",
      "|ADVENT CALEN...|           CITY|2007|        1|MINIFIG HEAD...|       MINIFIGS|          1|  FALSE|       YELLOW|  FALSE|\n",
      "|SANTIS (USA ...|KNIGHTS KING...|2004|        1|FOOD - WATER...|       NON-LEGO|          1|  FALSE|   ROYAL BLUE|  FALSE|\n",
      "|FIELD ACCESS...|         SOCCER|1998|        1|STICKER FOR ...|       NON-LEGO|          1|   TRUE|NOT AVAILABLE|  FALSE|\n",
      "|ADVENT CALEN...|           CITY|2007|        1|TORSO MECHAN...|       MINIFIGS|          1|  FALSE|  MEDIUM BLUE|  FALSE|\n",
      "+---------------+---------------+----+---------+---------------+---------------+-----------+-------+-------------+-------+\n",
      "only showing top 20 rows\n",
      "\n"
     ]
    }
   ],
   "source": [
    "for col_name in dfFinalLegoUpperColumns.columns:\n",
    "    dfFinalLegoUpperColumns = dfFinalLegoUpperColumns.withColumn(col_name,\n",
    "                                                                upper(col(col_name)))\n",
    "\n",
    "dfFinalLegoUpperColumns.show(20,15)"
   ]
  },
  {
   "cell_type": "markdown",
   "id": "db45578a",
   "metadata": {},
   "source": [
    "## Sum of quantity of sets"
   ]
  },
  {
   "cell_type": "code",
   "execution_count": 119,
   "id": "e50eb601",
   "metadata": {},
   "outputs": [],
   "source": [
    "SumQuantityOfSets = dfFinalLego.groupBy(\"NameSets\").agg(sum('InvSetQty').alias(\"Quantity of Sets\"))\n"
   ]
  },
  {
   "cell_type": "code",
   "execution_count": 120,
   "id": "0c400a13",
   "metadata": {
    "scrolled": true
   },
   "outputs": [
    {
     "name": "stdout",
     "output_type": "stream",
     "text": [
      "+------------------------------------------------------------------+----------------+\n",
      "|NameSets                                                          |Quantity of Sets|\n",
      "+------------------------------------------------------------------+----------------+\n",
      "|NHL Action Set with Stickers                                      |24              |\n",
      "|Lego Road Safety Kit Poster                                       |22              |\n",
      "|{Town Vehicles}                                                   |22              |\n",
      "|Dacta Buildings                                                   |22              |\n",
      "|Set K1062 Activity Booklet                                        |22              |\n",
      "|Hockey Game Set                                                   |12              |\n",
      "|Interface Card/Cable for Apple IIe and IIGS                       |8               |\n",
      "|Technic Control Center                                            |8               |\n",
      "|LEGO Interface                                                    |8               |\n",
      "|Transformer and Speed Regulator                                   |6               |\n",
      "|World Team Player                                                 |6               |\n",
      "|Holiday Train                                                     |6               |\n",
      "|Droids Battle Pack                                                |5               |\n",
      "|Hailfire Droid & Spider Droid                                     |5               |\n",
      "|Advent Calendar 2007 City (Day 19) Sanitary Engineer and Broom    |4               |\n",
      "|Vezok                                                             |4               |\n",
      "|Advent Calendar 2007 City (Day 15) Cash Register and Display      |4               |\n",
      "|Advent Calendar 2007 City (Day 23) Computer Desk and Chair        |4               |\n",
      "|Advent Calendar 2007 City (Day  4) Construction Worker and Pickaxe|4               |\n",
      "|Advent Calendar 2007 City (Day 11) Small Dock with Life Preserver |4               |\n",
      "+------------------------------------------------------------------+----------------+\n",
      "only showing top 20 rows\n",
      "\n"
     ]
    }
   ],
   "source": [
    "SumQuantityOfSets.orderBy(col(\"Quantity of Sets\").desc()).show(truncate=False)"
   ]
  },
  {
   "cell_type": "code",
   "execution_count": 121,
   "id": "a5dea914",
   "metadata": {},
   "outputs": [
    {
     "name": "stdout",
     "output_type": "stream",
     "text": [
      "+---------------------+\n",
      "|max(Quantity of Sets)|\n",
      "+---------------------+\n",
      "|                   24|\n",
      "+---------------------+\n",
      "\n"
     ]
    }
   ],
   "source": [
    "SumQuantityOfSets.agg({'Quantity of Sets':'max'}).show()"
   ]
  },
  {
   "cell_type": "markdown",
   "id": "f197b510",
   "metadata": {},
   "source": [
    "## Grouping of NameSets"
   ]
  },
  {
   "cell_type": "code",
   "execution_count": 122,
   "id": "2eaa0f59",
   "metadata": {},
   "outputs": [
    {
     "name": "stdout",
     "output_type": "stream",
     "text": [
      "+--------------------+----------------+----------------+\n",
      "|            NameSets|Quantity of Sets|Grouping of Sets|\n",
      "+--------------------+----------------+----------------+\n",
      "|NHL Action Set wi...|              24|               5|\n",
      "|Set K1062 Activit...|              22|               5|\n",
      "|Lego Road Safety ...|              22|               5|\n",
      "|     {Town Vehicles}|              22|               5|\n",
      "|     Dacta Buildings|              22|               5|\n",
      "|     Hockey Game Set|              12|               5|\n",
      "|Interface Card/Ca...|               8|               5|\n",
      "|Technic Control C...|               8|               5|\n",
      "|      LEGO Interface|               8|               5|\n",
      "|Transformer and S...|               6|               5|\n",
      "|   World Team Player|               6|               5|\n",
      "|       Holiday Train|               6|               5|\n",
      "|  Droids Battle Pack|               5|               5|\n",
      "|Hailfire Droid & ...|               5|               5|\n",
      "|Advent Calendar 2...|               4|               5|\n",
      "|Advent Calendar 2...|               4|               5|\n",
      "|Advent Calendar 2...|               4|               5|\n",
      "|Advent Calendar 2...|               4|               4|\n",
      "|              Reidak|               4|               5|\n",
      "|Advent Calendar 2...|               4|               4|\n",
      "+--------------------+----------------+----------------+\n",
      "only showing top 20 rows\n",
      "\n"
     ]
    }
   ],
   "source": [
    "windowSpec = Window.orderBy(\"Quantity of Sets\")\n",
    "SumQuantityOfSets.withColumn(\"Grouping of Sets\", ntile(5).over(windowSpec)).orderBy(col('Quantity of Sets').desc()).show()\n",
    "\n"
   ]
  },
  {
   "cell_type": "code",
   "execution_count": 123,
   "id": "49ceda28",
   "metadata": {},
   "outputs": [
    {
     "name": "stdout",
     "output_type": "stream",
     "text": [
      "+----------+------------------------------------------------------------------+--------+\n",
      "|NameThemes|NameSets                                                          |Quantity|\n",
      "+----------+------------------------------------------------------------------+--------+\n",
      "|9V        |Transformer and Speed Regulator                                   |6       |\n",
      "|9V        |Holiday Train                                                     |6       |\n",
      "|Basic Set |Basic Set                                                         |1       |\n",
      "|Basketball|Streetball 2 vs 2                                                 |1       |\n",
      "|Books     |DK Star Wars Brickmaster: Battle For The Stolen Crystals          |1       |\n",
      "|Building  |Bungalow                                                          |1       |\n",
      "|Building  |House with Car                                                    |1       |\n",
      "|City      |Advent Calendar 2007 City (Day  3) Crate with Burning Cylinders   |4       |\n",
      "|City      |Advent Calendar 2007 City (Day  4) Construction Worker and Pickaxe|4       |\n",
      "|City      |Advent Calendar 2007 City (Day 19) Sanitary Engineer and Broom    |4       |\n",
      "|City      |Advent Calendar 2007 City (Day 15) Cash Register and Display      |4       |\n",
      "|City      |Advent Calendar 2007 City (Day  2) Fire Hydrant and Tools         |4       |\n",
      "|City      |Advent Calendar 2007 City (Day  1) Firefighter and Saw            |4       |\n",
      "|City      |Advent Calendar 2007 City (Day  9) Radar                          |4       |\n",
      "|City      |Advent Calendar 2007 City (Day 17) Bench with Clock               |4       |\n",
      "|City      |Advent Calendar 2007 City (Day 24) Christmas Tree                 |4       |\n",
      "|City      |Advent Calendar 2007 City (Day 23) Computer Desk and Chair        |4       |\n",
      "|City      |Advent Calendar 2007 City (Day 12) Hand Truck and Load            |4       |\n",
      "|City      |Advent Calendar 2007 City (Day  7) Airline Worker and Radio       |4       |\n",
      "|City      |Advent Calendar 2007 City (Day 16) Train Worker and Briefcase     |4       |\n",
      "+----------+------------------------------------------------------------------+--------+\n",
      "only showing top 20 rows\n",
      "\n"
     ]
    }
   ],
   "source": [
    "CountThemesSets = dfFinalLego.groupBy('NameThemes','NameSets').count()\n",
    "CountThemesSets.select(col(\"NameThemes\"), col(\"NameSets\"), col(\"count\").alias(\"Quantity\")) \\\n",
    "                    .orderBy(col('NameThemes')).show(truncate=False)"
   ]
  },
  {
   "cell_type": "code",
   "execution_count": 124,
   "id": "f1bd6244",
   "metadata": {},
   "outputs": [
    {
     "name": "stdout",
     "output_type": "stream",
     "text": [
      "+-------------------+---------------------------------------------------------------+--------+\n",
      "|NameThemes         |NameSets                                                       |Quantity|\n",
      "+-------------------+---------------------------------------------------------------+--------+\n",
      "|Town               |Dacta Buildings                                                |22      |\n",
      "|Gear               |Lego Road Safety Kit Poster                                    |22      |\n",
      "|Town               |{Town Vehicles}                                                |22      |\n",
      "|Town               |Set K1062 Activity Booklet                                     |22      |\n",
      "|Hockey             |NHL Action Set with Stickers                                   |12      |\n",
      "|Hockey             |Hockey Game Set                                                |12      |\n",
      "|Technic            |Technic Control Center                                         |8       |\n",
      "|Supplemental       |LEGO Interface                                                 |8       |\n",
      "|Technic            |Interface Card/Cable for Apple IIe and IIGS                    |8       |\n",
      "|9V                 |Transformer and Speed Regulator                                |6       |\n",
      "|9V                 |Holiday Train                                                  |6       |\n",
      "|Star Wars Episode 2|Hailfire Droid & Spider Droid                                  |5       |\n",
      "|Star Wars Episode 3|Droids Battle Pack                                             |5       |\n",
      "|City               |Advent Calendar 2007 City (Day 17) Bench with Clock            |4       |\n",
      "|City               |Advent Calendar 2007 City (Day  3) Crate with Burning Cylinders|4       |\n",
      "|City               |Advent Calendar 2007 City (Day 10) Dock Worker                 |4       |\n",
      "|City               |Advent Calendar 2007 City (Day 14) Car Wash Kiosk              |4       |\n",
      "|City               |Advent Calendar 2007 City (Day 19) Sanitary Engineer and Broom |4       |\n",
      "|City               |Advent Calendar 2007 City (Day 22) Policeman with Megaphone    |4       |\n",
      "|City               |Advent Calendar 2007 City (Day 12) Hand Truck and Load         |4       |\n",
      "+-------------------+---------------------------------------------------------------+--------+\n",
      "only showing top 20 rows\n",
      "\n"
     ]
    }
   ],
   "source": [
    "CountThemesSets.select(col(\"NameThemes\"), col(\"NameSets\"), col(\"count\").alias(\"Quantity\")) \\\n",
    "                    .orderBy(desc(col('Quantity'))).show(truncate=False)"
   ]
  },
  {
   "cell_type": "code",
   "execution_count": 125,
   "id": "1452e8a8",
   "metadata": {},
   "outputs": [
    {
     "name": "stdout",
     "output_type": "stream",
     "text": [
      "+----------+\n",
      "|max(count)|\n",
      "+----------+\n",
      "|        22|\n",
      "+----------+\n",
      "\n"
     ]
    }
   ],
   "source": [
    "CountThemesSets.agg({'count':'max'}).show()"
   ]
  },
  {
   "cell_type": "markdown",
   "id": "f88eadf0",
   "metadata": {},
   "source": [
    "## Sum of quantity of parts"
   ]
  },
  {
   "cell_type": "code",
   "execution_count": 126,
   "id": "f6107cab",
   "metadata": {},
   "outputs": [],
   "source": [
    "SumQuantityOfParts = dfFinalLego.groupBy(\"PartsName\").agg(sum('InvPartsQty').alias(\"Quantity of Parts\"))\n"
   ]
  },
  {
   "cell_type": "code",
   "execution_count": 127,
   "id": "2d588e52",
   "metadata": {},
   "outputs": [
    {
     "name": "stdout",
     "output_type": "stream",
     "text": [
      "+----------------------------------------------------------------------------------------------+-----------------+\n",
      "|PartsName                                                                                     |Quantity of Parts|\n",
      "+----------------------------------------------------------------------------------------------+-----------------+\n",
      "|Fence 1 x 4 x 1                                                                               |100              |\n",
      "|Brick Round 1 x 1 Solid Stud                                                                  |96               |\n",
      "|Pine Tree - Large 4 x 4 x 6 2/3                                                               |52               |\n",
      "|Brick 2 x 4                                                                                   |48               |\n",
      "|Road Sign Round                                                                               |32               |\n",
      "|Train Track  9V Curved                                                                        |32               |\n",
      "|Road Sign Triangle                                                                            |32               |\n",
      "|Plate 1 x 3                                                                                   |32               |\n",
      "|Torso Mechanic Blue Overalls, Tools in Pocket Print / Medium Blue Arms / Yellow Hands         |24               |\n",
      "|Minifig Knitted Cap                                                                           |24               |\n",
      "|Star Wars 2011 Advent Calendar Poster                                                         |24               |\n",
      "|Plate 2 x 2                                                                                   |24               |\n",
      "|Star Wars 2012 Advent Calendar Poster                                                         |24               |\n",
      "|Plate 1 x 8                                                                                   |24               |\n",
      "|Minifig Head Brown Eyebrows, Thin Grin, Black Eyes with White Pupils Print [Blocked Open Stud]|24               |\n",
      "|Legs and Hips [Complete Assembly]                                                             |24               |\n",
      "|Bionicle Shoulder Armour                                                                      |24               |\n",
      "|Baseplate Road 32 x 32 9-Stud Crossroads                                                      |16               |\n",
      "|Baseplate Road 32 x 32 9-Stud Curve                                                           |16               |\n",
      "|Plate 1 x 1                                                                                   |16               |\n",
      "+----------------------------------------------------------------------------------------------+-----------------+\n",
      "only showing top 20 rows\n",
      "\n"
     ]
    }
   ],
   "source": [
    "SumQuantityOfParts.orderBy(col(\"Quantity of Parts\").desc()).show(truncate=False)"
   ]
  },
  {
   "cell_type": "code",
   "execution_count": 128,
   "id": "51f54a9f",
   "metadata": {},
   "outputs": [
    {
     "name": "stdout",
     "output_type": "stream",
     "text": [
      "+----------------------+\n",
      "|max(Quantity of Parts)|\n",
      "+----------------------+\n",
      "|                   100|\n",
      "+----------------------+\n",
      "\n"
     ]
    }
   ],
   "source": [
    "SumQuantityOfParts.agg({'Quantity of Parts':'max'}).show()"
   ]
  },
  {
   "cell_type": "markdown",
   "id": "b9e0d04a",
   "metadata": {},
   "source": [
    "## Grouping of PartsName"
   ]
  },
  {
   "cell_type": "code",
   "execution_count": 129,
   "id": "d611f6ec",
   "metadata": {},
   "outputs": [
    {
     "name": "stdout",
     "output_type": "stream",
     "text": [
      "+--------------------------------------------------------------------------------+-----------------+-----------------+\n",
      "|                                                                       PartsName|Quantity of Parts|Grouping of Parts|\n",
      "+--------------------------------------------------------------------------------+-----------------+-----------------+\n",
      "|                                                                 Fence 1 x 4 x 1|              100|                5|\n",
      "|                                                    Brick Round 1 x 1 Solid Stud|               96|                5|\n",
      "|                                                 Pine Tree - Large 4 x 4 x 6 2/3|               52|                5|\n",
      "|                                                                     Brick 2 x 4|               48|                5|\n",
      "|                                                          Train Track  9V Curved|               32|                5|\n",
      "|                                                              Road Sign Triangle|               32|                5|\n",
      "|                                                                 Road Sign Round|               32|                5|\n",
      "|                                                                     Plate 1 x 3|               32|                5|\n",
      "|                                                        Bionicle Shoulder Armour|               24|                5|\n",
      "|                                                             Minifig Knitted Cap|               24|                5|\n",
      "|Torso Mechanic Blue Overalls, Tools in Pocket Print / Medium Blue Arms / Yell...|               24|                5|\n",
      "|                                           Star Wars 2011 Advent Calendar Poster|               24|                5|\n",
      "|                                                                     Plate 2 x 2|               24|                5|\n",
      "|                                           Star Wars 2012 Advent Calendar Poster|               24|                5|\n",
      "|                                                                     Plate 1 x 8|               24|                5|\n",
      "|Minifig Head Brown Eyebrows, Thin Grin, Black Eyes with White Pupils Print [B...|               24|                5|\n",
      "|                                               Legs and Hips [Complete Assembly]|               24|                5|\n",
      "|                                        Baseplate Road 32 x 32 9-Stud Crossroads|               16|                4|\n",
      "|                                                                     Plate 1 x 1|               16|                4|\n",
      "|                                          Baseplate Road 32 x 32 9-Stud Straight|               16|                4|\n",
      "+--------------------------------------------------------------------------------+-----------------+-----------------+\n",
      "only showing top 20 rows\n",
      "\n"
     ]
    }
   ],
   "source": [
    "windowSpec = Window.orderBy(\"Quantity of Parts\")\n",
    "SumQuantityOfParts.withColumn(\"Grouping of Parts\", \n",
    "                              ntile(5).over(windowSpec)).orderBy(col('Quantity of Parts').desc()).show(20,80)\n",
    "\n"
   ]
  },
  {
   "cell_type": "code",
   "execution_count": 130,
   "id": "bdd6697a",
   "metadata": {},
   "outputs": [
    {
     "name": "stdout",
     "output_type": "stream",
     "text": [
      "+---------------------------------------+-------------------------------------------------------------+--------+\n",
      "|PartCatName                            |PartsName                                                    |Quantity|\n",
      "+---------------------------------------+-------------------------------------------------------------+--------+\n",
      "|Bars, Ladders and Fences               |Fence 1 x 4 x 1                                              |4       |\n",
      "|Baseplates                             |Baseplate Road 32 x 32 9-Stud Crossroads                     |4       |\n",
      "|Baseplates                             |Baseplate Road 32 x 32 9-Stud Straight                       |4       |\n",
      "|Baseplates                             |Baseplate Road 32 x 32 9-Stud Curve                          |4       |\n",
      "|Bionicle, Hero Factory and Constraction|Bionicle Mask Ultimate Dume (Mask of Power)                  |3       |\n",
      "|Bionicle, Hero Factory and Constraction|Bionicle Shoulder Armour                                     |12      |\n",
      "|Bionicle, Hero Factory and Constraction|Bionicle Piraka Spine Flexible with Mask and Arm Covers, Thok|3       |\n",
      "|Bionicle, Hero Factory and Constraction|Bionicle Mask Kraahkan, Movie Edition                        |2       |\n",
      "|Bionicle, Hero Factory and Constraction|Bionicle Mask Avohkii                                        |6       |\n",
      "|Bionicle, Hero Factory and Constraction|Bionicle Mask Hau Nuva Poisoned - Green Forehead             |1       |\n",
      "|Bricks                                 |Brick 1 x 2                                                  |4       |\n",
      "|Bricks                                 |Brick 2 x 4                                                  |4       |\n",
      "|Bricks Round and Cones                 |Brick Round 2 x 2 with Axle Hole                             |4       |\n",
      "|Bricks Round and Cones                 |Brick Round 1 x 1 Solid Stud                                 |12      |\n",
      "|Flags, Signs, Plastics and Cloth       |Road Sign Round                                              |4       |\n",
      "|Flags, Signs, Plastics and Cloth       |Road Sign Triangle                                           |4       |\n",
      "|Magnets and Holders                    |Magnet Cylindrical                                           |2       |\n",
      "|Minifig Accessories                    |Minifig Star Wars Blaster Short                              |2       |\n",
      "|Minifig Accessories                    |Minifig Rangefinder for Helmet SW Clone Trooper with Holes   |2       |\n",
      "|Minifig Accessories                    |Minifig Lance                                                |4       |\n",
      "+---------------------------------------+-------------------------------------------------------------+--------+\n",
      "only showing top 20 rows\n",
      "\n"
     ]
    }
   ],
   "source": [
    "CountPartCatName = dfFinalLego.groupBy('PartCatName','PartsName').count()\n",
    "CountPartCatName.select(col('PartCatName'), col('PartsName'), col('count').alias(\"Quantity\")).orderBy(col('PartCatName')) \\\n",
    "                .show(truncate=False)"
   ]
  },
  {
   "cell_type": "code",
   "execution_count": 131,
   "id": "3782400c",
   "metadata": {},
   "outputs": [
    {
     "name": "stdout",
     "output_type": "stream",
     "text": [
      "+---------------------------------------+------------------------------------------------------------+--------+\n",
      "|                            PartCatName|                                                   PartsName|Quantity|\n",
      "+---------------------------------------+------------------------------------------------------------+--------+\n",
      "|                               Minifigs|Minifig Head Brown Eyebrows, Thin Grin, Black Eyes with W...|      24|\n",
      "|                               Non-LEGO|                       Star Wars 2012 Advent Calendar Poster|      24|\n",
      "|                               Minifigs|                           Legs and Hips [Complete Assembly]|      24|\n",
      "|                               Minifigs|Torso Mechanic Blue Overalls, Tools in Pocket Print / Med...|      24|\n",
      "|                               Non-LEGO|                       Star Wars 2011 Advent Calendar Poster|      24|\n",
      "|                    Minifig Accessories|                                         Minifig Knitted Cap|      24|\n",
      "|Bionicle, Hero Factory and Constraction|                                    Bionicle Shoulder Armour|      12|\n",
      "|                 Bricks Round and Cones|                                Brick Round 1 x 1 Solid Stud|      12|\n",
      "|                                  Other|                     (Set) Power Functions Transformer 10VDC|       9|\n",
      "|                                 Plates|                                                 Plate 1 x 1|       8|\n",
      "|                               Non-LEGO|Backpack Multicolor with Transparent Front with LEGO Logo...|       6|\n",
      "|Bionicle, Hero Factory and Constraction|                                       Bionicle Mask Avohkii|       6|\n",
      "|                               Non-LEGO|                       X-Pod Play Off Game Cards - Set of 50|       5|\n",
      "|                               Non-LEGO|                  Sticker for Set 880002-3 - (22094/4121585)|       5|\n",
      "|                               Non-LEGO|                  Sticker for Set 880002-1 - (72951/4120162)|       5|\n",
      "|                               Non-LEGO|            Food - Water Bottle, Knights' Kingdom II Pattern|       5|\n",
      "|                               Non-LEGO|                                   X-Pod Play Off Game Board|       5|\n",
      "|                               Non-LEGO|                  Sticker for Set 880002-2 - (72831/4119257)|       5|\n",
      "|                             Baseplates|                         Baseplate Road 32 x 32 9-Stud Curve|       4|\n",
      "|       Flags, Signs, Plastics and Cloth|                                          Road Sign Triangle|       4|\n",
      "+---------------------------------------+------------------------------------------------------------+--------+\n",
      "only showing top 20 rows\n",
      "\n"
     ]
    }
   ],
   "source": [
    "CountPartCatName.select(col('PartCatName'), col('PartsName'), col('count').alias(\"Quantity\")).orderBy(desc(col('Quantity'))) \\\n",
    "                .show(20,60)"
   ]
  },
  {
   "cell_type": "code",
   "execution_count": 132,
   "id": "8ae7259a",
   "metadata": {},
   "outputs": [
    {
     "name": "stdout",
     "output_type": "stream",
     "text": [
      "+----------+\n",
      "|max(count)|\n",
      "+----------+\n",
      "|        24|\n",
      "+----------+\n",
      "\n"
     ]
    }
   ],
   "source": [
    "CountPartCatName.agg({'count':'max'}).show()"
   ]
  },
  {
   "cell_type": "markdown",
   "id": "23616b5d",
   "metadata": {},
   "source": [
    "## Counting of sets and their parts"
   ]
  },
  {
   "cell_type": "code",
   "execution_count": 133,
   "id": "49e835b3",
   "metadata": {},
   "outputs": [],
   "source": [
    "NameOfSetsPartsQty = dfFinalLego.groupBy(\"NameSets\",\"PartsName\")\\\n",
    "                                        .agg(sum('InvPartsQty').alias(\"QtyOfParts\"),\n",
    "                                               sum('InvSetQty').alias(\"QtyOfSets\"))"
   ]
  },
  {
   "cell_type": "code",
   "execution_count": 134,
   "id": "0c5d79b8",
   "metadata": {},
   "outputs": [
    {
     "name": "stdout",
     "output_type": "stream",
     "text": [
      "+--------------------------------------------------+---------+--------------------------------------------------+----------+\n",
      "|                                          NameSets|QtyOfSets|                                         PartsName|QtyOfParts|\n",
      "+--------------------------------------------------+---------+--------------------------------------------------+----------+\n",
      "|                               ARC-170 Starfighter|        1|Star Wars Revenge of the Brick / LEGO Star Wars...|         1|\n",
      "|                               ARC-170 Starfighter|        1|Star Wars Episode III Collectors' Poster - (Set...|         1|\n",
      "|Advent Calendar 2007 City (Day  1) Firefighter ...|        1|Minifig Head Brown Eyebrows, Thin Grin, Black E...|         1|\n",
      "|Advent Calendar 2007 City (Day  1) Firefighter ...|        1|Torso Mechanic Blue Overalls, Tools in Pocket P...|         1|\n",
      "|Advent Calendar 2007 City (Day  1) Firefighter ...|        1|                               Minifig Knitted Cap|         1|\n",
      "|Advent Calendar 2007 City (Day  1) Firefighter ...|        1|                 Legs and Hips [Complete Assembly]|         1|\n",
      "|Advent Calendar 2007 City (Day  2) Fire Hydrant...|        1|                 Legs and Hips [Complete Assembly]|         1|\n",
      "|Advent Calendar 2007 City (Day  2) Fire Hydrant...|        1|Minifig Head Brown Eyebrows, Thin Grin, Black E...|         1|\n",
      "|Advent Calendar 2007 City (Day  2) Fire Hydrant...|        1|Torso Mechanic Blue Overalls, Tools in Pocket P...|         1|\n",
      "|Advent Calendar 2007 City (Day  2) Fire Hydrant...|        1|                               Minifig Knitted Cap|         1|\n",
      "|Advent Calendar 2007 City (Day  3) Crate with B...|        1|Torso Mechanic Blue Overalls, Tools in Pocket P...|         1|\n",
      "|Advent Calendar 2007 City (Day  3) Crate with B...|        1|                 Legs and Hips [Complete Assembly]|         1|\n",
      "|Advent Calendar 2007 City (Day  3) Crate with B...|        1|                               Minifig Knitted Cap|         1|\n",
      "|Advent Calendar 2007 City (Day  3) Crate with B...|        1|Minifig Head Brown Eyebrows, Thin Grin, Black E...|         1|\n",
      "|Advent Calendar 2007 City (Day  4) Construction...|        1|Minifig Head Brown Eyebrows, Thin Grin, Black E...|         1|\n",
      "|Advent Calendar 2007 City (Day  4) Construction...|        1|                               Minifig Knitted Cap|         1|\n",
      "|Advent Calendar 2007 City (Day  4) Construction...|        1|                 Legs and Hips [Complete Assembly]|         1|\n",
      "|Advent Calendar 2007 City (Day  4) Construction...|        1|Torso Mechanic Blue Overalls, Tools in Pocket P...|         1|\n",
      "|      Advent Calendar 2007 City (Day  5) Barricade|        1|Torso Mechanic Blue Overalls, Tools in Pocket P...|         1|\n",
      "|      Advent Calendar 2007 City (Day  5) Barricade|        1|Minifig Head Brown Eyebrows, Thin Grin, Black E...|         1|\n",
      "|      Advent Calendar 2007 City (Day  5) Barricade|        1|                               Minifig Knitted Cap|         1|\n",
      "|      Advent Calendar 2007 City (Day  5) Barricade|        1|                 Legs and Hips [Complete Assembly]|         1|\n",
      "|Advent Calendar 2007 City (Day  6) Directional ...|        1|                 Legs and Hips [Complete Assembly]|         1|\n",
      "|Advent Calendar 2007 City (Day  6) Directional ...|        1|Torso Mechanic Blue Overalls, Tools in Pocket P...|         1|\n",
      "|Advent Calendar 2007 City (Day  6) Directional ...|        1|Minifig Head Brown Eyebrows, Thin Grin, Black E...|         1|\n",
      "+--------------------------------------------------+---------+--------------------------------------------------+----------+\n",
      "only showing top 25 rows\n",
      "\n"
     ]
    }
   ],
   "source": [
    "NameOfSetsPartsQty.select(\"NameSets\",\"QtyOfSets\",\"PartsName\",\"QtyOfParts\").orderBy(col(\"NameSets\")).show(25,50)"
   ]
  },
  {
   "cell_type": "code",
   "execution_count": 135,
   "id": "e9cb75dd",
   "metadata": {},
   "outputs": [
    {
     "name": "stdout",
     "output_type": "stream",
     "text": [
      "+-------------------------------+---------+-------------------------------+----------+\n",
      "|                       NameSets|QtyOfSets|                      PartsName|QtyOfParts|\n",
      "+-------------------------------+---------+-------------------------------+----------+\n",
      "|                {Town Vehicles}|        1|                Fence 1 x 4 x 1|        25|\n",
      "|    Lego Road Safety Kit Poster|        1|                Fence 1 x 4 x 1|        25|\n",
      "|     Set K1062 Activity Booklet|        1|                Fence 1 x 4 x 1|        25|\n",
      "|                Dacta Buildings|        1|                Fence 1 x 4 x 1|        25|\n",
      "|     Set K1062 Activity Booklet|        3|   Brick Round 1 x 1 Solid Stud|        24|\n",
      "|                Dacta Buildings|        3|   Brick Round 1 x 1 Solid Stud|        24|\n",
      "|    Lego Road Safety Kit Poster|        3|   Brick Round 1 x 1 Solid Stud|        24|\n",
      "|                {Town Vehicles}|        3|   Brick Round 1 x 1 Solid Stud|        24|\n",
      "|Transformer and Speed Regulator|        1|         Train Track  9V Curved|        16|\n",
      "|                  Holiday Train|        1|         Train Track  9V Curved|        16|\n",
      "|                Dacta Buildings|        1|Pine Tree - Large 4 x 4 x 6 2/3|        13|\n",
      "|                {Town Vehicles}|        1|Pine Tree - Large 4 x 4 x 6 2/3|        13|\n",
      "|     Set K1062 Activity Booklet|        1|Pine Tree - Large 4 x 4 x 6 2/3|        13|\n",
      "|    Lego Road Safety Kit Poster|        1|Pine Tree - Large 4 x 4 x 6 2/3|        13|\n",
      "|                Hockey Game Set|        6|       Bionicle Shoulder Armour|        12|\n",
      "|                {Town Vehicles}|        1|                    Brick 2 x 4|        12|\n",
      "|                Dacta Buildings|        1|                    Brick 2 x 4|        12|\n",
      "|   NHL Action Set with Stickers|       12|       Bionicle Shoulder Armour|        12|\n",
      "|     Set K1062 Activity Booklet|        1|                    Brick 2 x 4|        12|\n",
      "|    Lego Road Safety Kit Poster|        1|                    Brick 2 x 4|        12|\n",
      "|     Set K1062 Activity Booklet|        1|                    Plate 1 x 3|         8|\n",
      "|    Lego Road Safety Kit Poster|        1|                    Plate 1 x 3|         8|\n",
      "|                {Town Vehicles}|        1|             Road Sign Triangle|         8|\n",
      "|                Dacta Buildings|        1|             Road Sign Triangle|         8|\n",
      "|     Set K1062 Activity Booklet|        1|             Road Sign Triangle|         8|\n",
      "+-------------------------------+---------+-------------------------------+----------+\n",
      "only showing top 25 rows\n",
      "\n"
     ]
    }
   ],
   "source": [
    "NameOfSetsPartsQty.select(\"NameSets\",\"QtyOfSets\",\"PartsName\",\"QtyOfParts\").orderBy(desc(col(\"QtyOfParts\"))).show(25,50)"
   ]
  },
  {
   "cell_type": "code",
   "execution_count": 136,
   "id": "399c6483",
   "metadata": {},
   "outputs": [
    {
     "name": "stdout",
     "output_type": "stream",
     "text": [
      "+--------------------------------------------------+---------+--------------------------------------------------+----------+\n",
      "|                                          NameSets|QtyOfSets|                                         PartsName|QtyOfParts|\n",
      "+--------------------------------------------------+---------+--------------------------------------------------+----------+\n",
      "|                      NHL Action Set with Stickers|       12|                          Bionicle Shoulder Armour|        12|\n",
      "|                                   Hockey Game Set|        6|                          Bionicle Shoulder Armour|        12|\n",
      "|                        Set K1062 Activity Booklet|        3|                      Brick Round 1 x 1 Solid Stud|        24|\n",
      "|                                   Dacta Buildings|        3|                      Brick Round 1 x 1 Solid Stud|        24|\n",
      "|                       Lego Road Safety Kit Poster|        3|                      Brick Round 1 x 1 Solid Stud|        24|\n",
      "|                                   {Town Vehicles}|        3|                      Brick Round 1 x 1 Solid Stud|        24|\n",
      "|                                 World Team Player|        2|        Sticker for Set 880002-1 - (72951/4120162)|         1|\n",
      "|                      NHL Action Set with Stickers|        2|                     Sports Hockey Chest Protector|         2|\n",
      "|                      NHL Action Set with Stickers|        2|                             Sticker for Set 65182|         2|\n",
      "|                      NHL Action Set with Stickers|        2|Sticker for Set 10127 - Sheet 2, Primarily West...|         1|\n",
      "|                            German National Player|        2|        Sticker for Set 880002-1 - (72951/4120162)|         1|\n",
      "|                                 World Team Player|        2|        Sticker for Set 880002-3 - (22094/4121585)|         1|\n",
      "|                      NHL Action Set with Stickers|        2|                 Sports Hockey Action Rink Playmat|         1|\n",
      "|                       Lego Road Safety Kit Poster|        2|                                       Plate 1 x 1|         4|\n",
      "|                      NHL Action Set with Stickers|        2|Sticker for Set 10127 - Sheet 3, All 30 Teams a...|         2|\n",
      "|                                   Dacta Buildings|        2|                                       Plate 1 x 1|         4|\n",
      "|                        Set K1062 Activity Booklet|        2|                                       Plate 1 x 1|         4|\n",
      "|                                   {Town Vehicles}|        2|                                       Plate 1 x 1|         4|\n",
      "|                      NHL Action Set with Stickers|        2|Sticker for Set 10127 - Sheet 1, Primarily East...|         2|\n",
      "|                             Dutch National Player|        2|        Sticker for Set 880002-2 - (72831/4119257)|         1|\n",
      "|                                    English Player|        2|        Sticker for Set 880002-3 - (22094/4121585)|         1|\n",
      "|                                 World Team Player|        2|        Sticker for Set 880002-2 - (72831/4119257)|         1|\n",
      "|Advent Calendar 2011 Star Wars (Day  1) - Repub...|        1|             Star Wars 2011 Advent Calendar Poster|         1|\n",
      "|Advent Calendar 2012, Star Wars (Day 9) - Imper...|        1|             Star Wars 2012 Advent Calendar Poster|         1|\n",
      "|                                    Remote Control|        1|    Electric 9V Mini-Motor [Lightweight New Style]|         1|\n",
      "+--------------------------------------------------+---------+--------------------------------------------------+----------+\n",
      "only showing top 25 rows\n",
      "\n"
     ]
    }
   ],
   "source": [
    "NameOfSetsPartsQty.select(\"NameSets\",\"QtyOfSets\",\"PartsName\",\"QtyOfParts\").orderBy(desc(col(\"QtyOfSets\"))).show(25,50)"
   ]
  },
  {
   "cell_type": "markdown",
   "id": "fe64b330",
   "metadata": {},
   "source": [
    "## Counting the quantity of colors and stock of items and transparent"
   ]
  },
  {
   "cell_type": "code",
   "execution_count": 137,
   "id": "87f7f17b",
   "metadata": {},
   "outputs": [
    {
     "name": "stdout",
     "output_type": "stream",
     "text": [
      "+----------------------------------------------------------------------------------------------+--------------+--------+\n",
      "|PartsName                                                                                     |ColorName     |Quantity|\n",
      "+----------------------------------------------------------------------------------------------+--------------+--------+\n",
      "|Star Wars 2012 Advent Calendar Poster                                                         |Not Available |24      |\n",
      "|Minifig Knitted Cap                                                                           |Black         |24      |\n",
      "|Star Wars 2011 Advent Calendar Poster                                                         |Royal Blue    |24      |\n",
      "|Legs and Hips [Complete Assembly]                                                             |Blue          |24      |\n",
      "|Minifig Head Brown Eyebrows, Thin Grin, Black Eyes with White Pupils Print [Blocked Open Stud]|Yellow        |24      |\n",
      "|Torso Mechanic Blue Overalls, Tools in Pocket Print / Medium Blue Arms / Yellow Hands         |Medium Blue   |24      |\n",
      "|(Set) Power Functions Transformer 10VDC                                                       |Not Available |9       |\n",
      "|Bionicle Mask Avohkii                                                                         |Flat Dark Gold|6       |\n",
      "|Backpack Multicolor with Transparent Front with LEGO Logo and Beading                         |Not Available |6       |\n",
      "|X-Pod Play Off Game Cards - Set of 50                                                         |Not Available |5       |\n",
      "|X-Pod Play Off Game Board                                                                     |Not Available |5       |\n",
      "|Food - Water Bottle, Knights' Kingdom II Pattern                                              |Royal Blue    |5       |\n",
      "|Sticker for Set 880002-3 - (22094/4121585)                                                    |Not Available |5       |\n",
      "|Sticker for Set 880002-1 - (72951/4120162)                                                    |Not Available |5       |\n",
      "|Sticker for Set 880002-2 - (72831/4119257)                                                    |Not Available |5       |\n",
      "|Baseplate Road 32 x 32 9-Stud Straight                                                        |Light Gray    |4       |\n",
      "|Headgear, Mask, Soft Foam, Knights Kingdom II Jayko                                           |Not Available |4       |\n",
      "|Road Sign Triangle                                                                            |White         |4       |\n",
      "|Clikits Jewelry Box (3-level)                                                                 |Royal Blue    |4       |\n",
      "|Plate 2 x 2                                                                                   |Black         |4       |\n",
      "+----------------------------------------------------------------------------------------------+--------------+--------+\n",
      "only showing top 20 rows\n",
      "\n"
     ]
    }
   ],
   "source": [
    "CountingColorsFinalLegoItems = dfFinalLego.groupBy('PartsName','ColorName').count()\n",
    "CountingColorsFinalLegoItems.select(col(\"PartsName\"),\n",
    "                                    col(\"ColorName\"),\n",
    "                                    col('count').alias(\"Quantity\")) \\\n",
    "                                    .orderBy(col(\"Quantity\").desc()) \\\n",
    "                                    .show(truncate=False)"
   ]
  },
  {
   "cell_type": "code",
   "execution_count": 138,
   "id": "a38f31cc",
   "metadata": {},
   "outputs": [
    {
     "name": "stdout",
     "output_type": "stream",
     "text": [
      "+----------------------------------------------------------------------------------------------+-------+--------+\n",
      "|PartsName                                                                                     |IsSpare|Quantity|\n",
      "+----------------------------------------------------------------------------------------------+-------+--------+\n",
      "|Minifig Head Brown Eyebrows, Thin Grin, Black Eyes with White Pupils Print [Blocked Open Stud]|False  |24      |\n",
      "|Torso Mechanic Blue Overalls, Tools in Pocket Print / Medium Blue Arms / Yellow Hands         |False  |24      |\n",
      "|Minifig Knitted Cap                                                                           |False  |24      |\n",
      "|Star Wars 2012 Advent Calendar Poster                                                         |False  |24      |\n",
      "|Legs and Hips [Complete Assembly]                                                             |False  |24      |\n",
      "|Star Wars 2011 Advent Calendar Poster                                                         |False  |24      |\n",
      "|Brick Round 1 x 1 Solid Stud                                                                  |False  |12      |\n",
      "|Bionicle Shoulder Armour                                                                      |False  |12      |\n",
      "|(Set) Power Functions Transformer 10VDC                                                       |False  |9       |\n",
      "|Plate 1 x 1                                                                                   |False  |8       |\n",
      "|Backpack Multicolor with Transparent Front with LEGO Logo and Beading                         |False  |6       |\n",
      "|Bionicle Mask Avohkii                                                                         |False  |6       |\n",
      "|Sticker for Set 880002-2 - (72831/4119257)                                                    |True   |5       |\n",
      "|Food - Water Bottle, Knights' Kingdom II Pattern                                              |False  |5       |\n",
      "|X-Pod Play Off Game Cards - Set of 50                                                         |False  |5       |\n",
      "|X-Pod Play Off Game Board                                                                     |False  |5       |\n",
      "|Sticker for Set 880002-3 - (22094/4121585)                                                    |True   |5       |\n",
      "|Sticker for Set 880002-1 - (72951/4120162)                                                    |True   |5       |\n",
      "|Baseplate Road 32 x 32 9-Stud Crossroads                                                      |False  |4       |\n",
      "|Baseplate Road 32 x 32 9-Stud Curve                                                           |False  |4       |\n",
      "+----------------------------------------------------------------------------------------------+-------+--------+\n",
      "only showing top 20 rows\n",
      "\n"
     ]
    }
   ],
   "source": [
    "CountingIsSpareFinalLegoItems = dfFinalLego.groupBy('PartsName','IsSpare').count()\n",
    "CountingIsSpareFinalLegoItems.select(col(\"PartsName\"),\n",
    "                                    col(\"IsSpare\"),\n",
    "                                     col('count').alias(\"Quantity\")) \\\n",
    "                                    .orderBy(col(\"Quantity\").desc()) \\\n",
    "                                    .show(truncate=False)"
   ]
  },
  {
   "cell_type": "code",
   "execution_count": 139,
   "id": "de8d978d",
   "metadata": {},
   "outputs": [
    {
     "name": "stdout",
     "output_type": "stream",
     "text": [
      "+----------------------------------------------------------------------------------------------+-------+--------+\n",
      "|PartsName                                                                                     |IsTrans|Quantity|\n",
      "+----------------------------------------------------------------------------------------------+-------+--------+\n",
      "|Torso Mechanic Blue Overalls, Tools in Pocket Print / Medium Blue Arms / Yellow Hands         |False  |24      |\n",
      "|Minifig Head Brown Eyebrows, Thin Grin, Black Eyes with White Pupils Print [Blocked Open Stud]|False  |24      |\n",
      "|Minifig Knitted Cap                                                                           |False  |24      |\n",
      "|Star Wars 2012 Advent Calendar Poster                                                         |False  |24      |\n",
      "|Legs and Hips [Complete Assembly]                                                             |False  |24      |\n",
      "|Star Wars 2011 Advent Calendar Poster                                                         |False  |24      |\n",
      "|Brick Round 1 x 1 Solid Stud                                                                  |True   |12      |\n",
      "|Bionicle Shoulder Armour                                                                      |False  |12      |\n",
      "|(Set) Power Functions Transformer 10VDC                                                       |False  |9       |\n",
      "|Plate 1 x 1                                                                                   |True   |8       |\n",
      "|Backpack Multicolor with Transparent Front with LEGO Logo and Beading                         |False  |6       |\n",
      "|Bionicle Mask Avohkii                                                                         |False  |6       |\n",
      "|Food - Water Bottle, Knights' Kingdom II Pattern                                              |False  |5       |\n",
      "|Sticker for Set 880002-1 - (72951/4120162)                                                    |False  |5       |\n",
      "|X-Pod Play Off Game Cards - Set of 50                                                         |False  |5       |\n",
      "|Sticker for Set 880002-3 - (22094/4121585)                                                    |False  |5       |\n",
      "|X-Pod Play Off Game Board                                                                     |False  |5       |\n",
      "|Sticker for Set 880002-2 - (72831/4119257)                                                    |False  |5       |\n",
      "|Baseplate Road 32 x 32 9-Stud Curve                                                           |False  |4       |\n",
      "|Road Sign Triangle                                                                            |False  |4       |\n",
      "+----------------------------------------------------------------------------------------------+-------+--------+\n",
      "only showing top 20 rows\n",
      "\n"
     ]
    }
   ],
   "source": [
    "CountingIsTransFinalLegoItems = dfFinalLego.groupBy('PartsName','IsTrans').count()\n",
    "CountingIsTransFinalLegoItems.select(col(\"PartsName\"),\n",
    "                                    col(\"IsTrans\"),\n",
    "                                     col('count').alias(\"Quantity\")) \\\n",
    "                                    .orderBy(col(\"Quantity\").desc()) \\\n",
    "                                    .show(truncate=False)"
   ]
  },
  {
   "cell_type": "code",
   "execution_count": 140,
   "id": "09487057",
   "metadata": {},
   "outputs": [
    {
     "name": "stdout",
     "output_type": "stream",
     "text": [
      "+-------+--------+\n",
      "|IsSpare|Quantity|\n",
      "+-------+--------+\n",
      "|  False|     407|\n",
      "|   True|      15|\n",
      "+-------+--------+\n",
      "\n"
     ]
    }
   ],
   "source": [
    "CountingIsSpare = dfFinalLego.groupBy('IsSpare').count()\n",
    "CountingIsSpare.select(col('IsSpare'),col('count').alias(\"Quantity\")).show()"
   ]
  },
  {
   "cell_type": "code",
   "execution_count": 141,
   "id": "3b457def",
   "metadata": {},
   "outputs": [
    {
     "name": "stdout",
     "output_type": "stream",
     "text": [
      "+-------+--------+\n",
      "|IsTrans|Quantity|\n",
      "+-------+--------+\n",
      "|  False|     402|\n",
      "|   True|      20|\n",
      "+-------+--------+\n",
      "\n"
     ]
    }
   ],
   "source": [
    "CountingIsTrans = dfFinalLego.groupBy('IsTrans').count()\n",
    "CountingIsTrans.select(col('IsTrans'),col('count').alias(\"Quantity\")).show()"
   ]
  },
  {
   "cell_type": "code",
   "execution_count": 142,
   "id": "1b554de5",
   "metadata": {},
   "outputs": [
    {
     "name": "stdout",
     "output_type": "stream",
     "text": [
      "+-----------------+--------+\n",
      "|        ColorName|Quantity|\n",
      "+-----------------+--------+\n",
      "|    Metallic Gold|       1|\n",
      "|           Orange|       2|\n",
      "|Light Bluish Gray|       3|\n",
      "|     Trans-Yellow|       4|\n",
      "|              Red|       4|\n",
      "|   Flat Dark Gold|       6|\n",
      "|      Trans-Green|       8|\n",
      "|        Trans-Red|       8|\n",
      "|       Pearl Gold|       9|\n",
      "|            Green|      10|\n",
      "| Dark Bluish Gray|      10|\n",
      "|       Light Gray|      16|\n",
      "|      Medium Blue|      24|\n",
      "|           Yellow|      24|\n",
      "|             Blue|      26|\n",
      "|            White|      37|\n",
      "|       Royal Blue|      49|\n",
      "|            Black|      63|\n",
      "|    Not Available|     118|\n",
      "+-----------------+--------+\n",
      "\n"
     ]
    }
   ],
   "source": [
    "CountingColorName = dfFinalLego.groupBy('ColorName').count()\n",
    "CountingColorName.select(col('ColorName'), col(\"Count\").alias(\"Quantity\")) \\\n",
    "                                        .orderBy(\"Quantity\").show()"
   ]
  },
  {
   "cell_type": "markdown",
   "id": "9f366a18",
   "metadata": {},
   "source": [
    "#### Creating a  function and uppercase ColorName"
   ]
  },
  {
   "cell_type": "code",
   "execution_count": 143,
   "id": "dc2b5b45",
   "metadata": {},
   "outputs": [],
   "source": [
    "def upperCase(CountingColorNameUpperLetter):\n",
    "    return CountingColorNameUpperLetter.withColumn(\"ColorName\", upper(CountingColorNameUpperLetter['ColorName']))"
   ]
  },
  {
   "cell_type": "code",
   "execution_count": 144,
   "id": "a221b61a",
   "metadata": {},
   "outputs": [
    {
     "name": "stdout",
     "output_type": "stream",
     "text": [
      "+-----------------+--------+\n",
      "|        ColorName|Quantity|\n",
      "+-----------------+--------+\n",
      "|    NOT AVAILABLE|     118|\n",
      "|            BLACK|      63|\n",
      "|       ROYAL BLUE|      49|\n",
      "|            WHITE|      37|\n",
      "|             BLUE|      26|\n",
      "|      MEDIUM BLUE|      24|\n",
      "|           YELLOW|      24|\n",
      "|       LIGHT GRAY|      16|\n",
      "|            GREEN|      10|\n",
      "| DARK BLUISH GRAY|      10|\n",
      "|       PEARL GOLD|       9|\n",
      "|      TRANS-GREEN|       8|\n",
      "|        TRANS-RED|       8|\n",
      "|   FLAT DARK GOLD|       6|\n",
      "|     TRANS-YELLOW|       4|\n",
      "|              RED|       4|\n",
      "|LIGHT BLUISH GRAY|       3|\n",
      "|           ORANGE|       2|\n",
      "|    METALLIC GOLD|       1|\n",
      "+-----------------+--------+\n",
      "\n"
     ]
    }
   ],
   "source": [
    "CountingColorNameUpperLetter =CountingColorName.select(col('ColorName'), col(\"Count\").alias(\"Quantity\")) \\\n",
    "                                        .orderBy(\"Quantity\")\n",
    "\n",
    "CountingColorNameUpperLetter = CountingColorNameUpperLetter.transform(upperCase)\n",
    "CountingColorNameUpperLetter.orderBy(desc('Quantity')).show()"
   ]
  },
  {
   "cell_type": "markdown",
   "id": "4abd91c3",
   "metadata": {},
   "source": [
    "#### Create Table/View using PySpark createOrReplaceTempView() based on CountingColorNameUpperLetter"
   ]
  },
  {
   "cell_type": "code",
   "execution_count": 145,
   "id": "704cd830",
   "metadata": {},
   "outputs": [],
   "source": [
    "CountingColorNameUpperLetter.createOrReplaceTempView('UpperColorNameQty')"
   ]
  },
  {
   "cell_type": "code",
   "execution_count": 146,
   "id": "9f57e6d9",
   "metadata": {},
   "outputs": [
    {
     "name": "stdout",
     "output_type": "stream",
     "text": [
      "+-----------------+--------+\n",
      "|        ColorName|Quantity|\n",
      "+-----------------+--------+\n",
      "|    METALLIC GOLD|       1|\n",
      "|           ORANGE|       2|\n",
      "|LIGHT BLUISH GRAY|       3|\n",
      "|     TRANS-YELLOW|       4|\n",
      "|              RED|       4|\n",
      "|   FLAT DARK GOLD|       6|\n",
      "|      TRANS-GREEN|       8|\n",
      "|        TRANS-RED|       8|\n",
      "|       PEARL GOLD|       9|\n",
      "|            GREEN|      10|\n",
      "| DARK BLUISH GRAY|      10|\n",
      "|       LIGHT GRAY|      16|\n",
      "|      MEDIUM BLUE|      24|\n",
      "|           YELLOW|      24|\n",
      "|             BLUE|      26|\n",
      "|            WHITE|      37|\n",
      "|       ROYAL BLUE|      49|\n",
      "|            BLACK|      63|\n",
      "|    NOT AVAILABLE|     118|\n",
      "+-----------------+--------+\n",
      "\n"
     ]
    }
   ],
   "source": [
    "spark.sql('SELECT * FROM UpperColorNameQty').show()"
   ]
  },
  {
   "cell_type": "markdown",
   "id": "d79752ab",
   "metadata": {},
   "source": [
    "## dfFinalLegoInvSetTheme"
   ]
  },
  {
   "cell_type": "code",
   "execution_count": 147,
   "id": "a571df33",
   "metadata": {
    "scrolled": true
   },
   "outputs": [
    {
     "name": "stdout",
     "output_type": "stream",
     "text": [
      "+----------------------------------------------------------+---------------------+----+---------+\n",
      "|NameSets                                                  |NameThemes           |Year|InvSetQty|\n",
      "+----------------------------------------------------------+---------------------+----+---------+\n",
      "|Yeti - Complete Set                                       |Series 11 Minifigures|2013|1        |\n",
      "|Airplane Mechanic                                         |Airport              |2006|1        |\n",
      "|Exo Stealth                                               |Power Racers         |2004|1        |\n",
      "|Advent Calendar 1998 Classic Basic (Day 23) Truck         |Classic Basic        |1998|1        |\n",
      "|Mariachi                                                  |Series 16 Minifigures|2016|1        |\n",
      "|Advent Calendar 2011 Star Wars (Day 14) - Mouse Droid     |Star Wars            |2011|1        |\n",
      "|Advent Calendar 2012, Star Wars (Day 17) - Flash Speeder  |Star Wars            |2012|1        |\n",
      "|Martin                                                    |The Simpsons         |2015|1        |\n",
      "|Gahlok-Kal                                                |Bohrok-Kal           |2003|1        |\n",
      "|Balta                                                     |Matoran of Voya Nui  |2006|1        |\n",
      "|Advent Calendar 2013, Friends (Day 21) - Musical Score    |Friends              |2013|1        |\n",
      "|Alice                                                     |Disney               |2016|1        |\n",
      "|Coca-Cola Goal Keeper                                     |Soccer               |2002|1        |\n",
      "|Coca-Cola Stand                                           |Soccer               |2002|1        |\n",
      "|Advent Calendar 2014, Friends (Day 9) - Holiday Candle    |Friends              |2014|1        |\n",
      "|Advent Calendar 2012, City (Day 8) Wall with Ski Equipment|Advent Sub-Set       |2012|1        |\n",
      "|Technic Control Center                                    |Technic              |1987|1        |\n",
      "|Mummy - Complete Set                                      |Series 3 Minifigures |2011|1        |\n",
      "|Spider-Man's First Chase                                  |Spider-Man           |2003|1        |\n",
      "|Shark Fisherman                                           |Recreation           |1994|1        |\n",
      "+----------------------------------------------------------+---------------------+----+---------+\n",
      "only showing top 20 rows\n",
      "\n"
     ]
    }
   ],
   "source": [
    "dfFinalLegoInvSetTheme.show(truncate=False)"
   ]
  },
  {
   "cell_type": "markdown",
   "id": "0b4874d0",
   "metadata": {},
   "source": [
    "#### Calculating the year between the production year and now"
   ]
  },
  {
   "cell_type": "code",
   "execution_count": 148,
   "id": "3eb8e1d7",
   "metadata": {},
   "outputs": [
    {
     "name": "stdout",
     "output_type": "stream",
     "text": [
      "+----------------------------------------------------------+---------------------+----+---------+------------+------------+\n",
      "|NameSets                                                  |NameThemes           |Year|InvSetQty|Today's Date|Current Year|\n",
      "+----------------------------------------------------------+---------------------+----+---------+------------+------------+\n",
      "|Yeti - Complete Set                                       |Series 11 Minifigures|2013|1        |2023-05-22  |2023        |\n",
      "|Airplane Mechanic                                         |Airport              |2006|1        |2023-05-22  |2023        |\n",
      "|Exo Stealth                                               |Power Racers         |2004|1        |2023-05-22  |2023        |\n",
      "|Advent Calendar 1998 Classic Basic (Day 23) Truck         |Classic Basic        |1998|1        |2023-05-22  |2023        |\n",
      "|Mariachi                                                  |Series 16 Minifigures|2016|1        |2023-05-22  |2023        |\n",
      "|Advent Calendar 2011 Star Wars (Day 14) - Mouse Droid     |Star Wars            |2011|1        |2023-05-22  |2023        |\n",
      "|Advent Calendar 2012, Star Wars (Day 17) - Flash Speeder  |Star Wars            |2012|1        |2023-05-22  |2023        |\n",
      "|Martin                                                    |The Simpsons         |2015|1        |2023-05-22  |2023        |\n",
      "|Gahlok-Kal                                                |Bohrok-Kal           |2003|1        |2023-05-22  |2023        |\n",
      "|Balta                                                     |Matoran of Voya Nui  |2006|1        |2023-05-22  |2023        |\n",
      "|Advent Calendar 2013, Friends (Day 21) - Musical Score    |Friends              |2013|1        |2023-05-22  |2023        |\n",
      "|Alice                                                     |Disney               |2016|1        |2023-05-22  |2023        |\n",
      "|Coca-Cola Goal Keeper                                     |Soccer               |2002|1        |2023-05-22  |2023        |\n",
      "|Coca-Cola Stand                                           |Soccer               |2002|1        |2023-05-22  |2023        |\n",
      "|Advent Calendar 2014, Friends (Day 9) - Holiday Candle    |Friends              |2014|1        |2023-05-22  |2023        |\n",
      "|Advent Calendar 2012, City (Day 8) Wall with Ski Equipment|Advent Sub-Set       |2012|1        |2023-05-22  |2023        |\n",
      "|Technic Control Center                                    |Technic              |1987|1        |2023-05-22  |2023        |\n",
      "|Mummy - Complete Set                                      |Series 3 Minifigures |2011|1        |2023-05-22  |2023        |\n",
      "|Spider-Man's First Chase                                  |Spider-Man           |2003|1        |2023-05-22  |2023        |\n",
      "|Shark Fisherman                                           |Recreation           |1994|1        |2023-05-22  |2023        |\n",
      "+----------------------------------------------------------+---------------------+----+---------+------------+------------+\n",
      "only showing top 20 rows\n",
      "\n"
     ]
    }
   ],
   "source": [
    "AddDatedfFinalLegoInvSetTheme = dfFinalLegoInvSetTheme.withColumn(\"Today's Date\", lit(datetime.date.today()))\n",
    "AddDatedfFinalLegoInvSetTheme = AddDatedfFinalLegoInvSetTheme.withColumn('Current Year',\n",
    "                                                                         year(AddDatedfFinalLegoInvSetTheme[\"Today's Date\"]))\n",
    "\n",
    "AddDatedfFinalLegoInvSetTheme.show(truncate=False)"
   ]
  },
  {
   "cell_type": "code",
   "execution_count": 149,
   "id": "dfe38f66",
   "metadata": {},
   "outputs": [
    {
     "name": "stdout",
     "output_type": "stream",
     "text": [
      "+-----------------------------+-------------+----+---------+------------+------------+------------+\n",
      "|NameSets                     |NameThemes   |Year|InvSetQty|Today's Date|Current Year|Age of parts|\n",
      "+-----------------------------+-------------+----+---------+------------+------------+------------+\n",
      "|Bungalow                     |Building     |1969|1        |2023-05-22  |2023        |54          |\n",
      "|House with Car               |Building     |1969|1        |2023-05-22  |2023        |54          |\n",
      "|Vintage Car                  |Factory      |1970|1        |2023-05-22  |2023        |53          |\n",
      "|Fire Station with Mini Cars  |Fire         |1970|1        |2023-05-22  |2023        |53          |\n",
      "|Weetabix Promotional House 2 |Building     |1976|1        |2023-05-22  |2023        |47          |\n",
      "|Weetabix Promotional House 1 |Building     |1976|1        |2023-05-22  |2023        |47          |\n",
      "|Weetabix Promotional Windmill|Building     |1976|1        |2023-05-22  |2023        |47          |\n",
      "|Radar Truck                  |Classic Space|1979|1        |2023-05-22  |2023        |44          |\n",
      "|Space Buggy                  |Classic Space|1979|1        |2023-05-22  |2023        |44          |\n",
      "|{Town Vehicles}              |Town         |1980|1        |2023-05-22  |2023        |43          |\n",
      "|Space Digger                 |Classic Space|1981|1        |2023-05-22  |2023        |42          |\n",
      "|Moon Buggy                   |Classic Space|1981|1        |2023-05-22  |2023        |42          |\n",
      "|Set K1062 Activity Booklet   |Town         |1981|1        |2023-05-22  |2023        |42          |\n",
      "|Fire Chief's Car             |Fire         |1981|1        |2023-05-22  |2023        |42          |\n",
      "|Dacta Buildings              |Town         |1981|1        |2023-05-22  |2023        |42          |\n",
      "|Bucket Loader                |Construction |1981|1        |2023-05-22  |2023        |42          |\n",
      "|Ambulance                    |Hospital     |1981|1        |2023-05-22  |2023        |42          |\n",
      "|Shell Tow Truck              |Station      |1981|1        |2023-05-22  |2023        |42          |\n",
      "|Basic Set                    |Basic Set    |1981|1        |2023-05-22  |2023        |42          |\n",
      "|Lego Road Safety Kit Poster  |Gear         |1981|1        |2023-05-22  |2023        |42          |\n",
      "+-----------------------------+-------------+----+---------+------------+------------+------------+\n",
      "only showing top 20 rows\n",
      "\n"
     ]
    }
   ],
   "source": [
    "AddDatedfFinalLegoInvSetTheme.withColumn('Age of parts',\n",
    "                                         col('Current Year') - col('Year')).orderBy(desc('Age of parts')).show(truncate=False)"
   ]
  },
  {
   "cell_type": "markdown",
   "id": "db4a1793",
   "metadata": {},
   "source": [
    "#### Summing Quantity of Inventory Sets by NameSets, NameThemes and Year:"
   ]
  },
  {
   "cell_type": "code",
   "execution_count": 150,
   "id": "bda9b300",
   "metadata": {},
   "outputs": [
    {
     "name": "stdout",
     "output_type": "stream",
     "text": [
      "+-----------------------------------------------------+--------------+----+--------+\n",
      "|NameSets                                             |NameThemes    |Year|SumOfQty|\n",
      "+-----------------------------------------------------+--------------+----+--------+\n",
      "|Curved Rails                                         |9V            |1991|8       |\n",
      "|Electric Train Motor 9V (My Own Train)               |9V            |2002|1       |\n",
      "|Holiday Train                                        |9V            |2006|1       |\n",
      "|Manual Points                                        |9V            |1991|6       |\n",
      "|Rail Crossing                                        |9V            |1999|1       |\n",
      "|Santa Fe Super Chief, NOT the Limited Edition        |9V            |2002|3       |\n",
      "|Straight Rails                                       |9V            |1991|13      |\n",
      "|Transformer and Speed Regulator                      |9V            |1991|1       |\n",
      "|Advent Calendar 2001, Creator (Day  3) Fireplace     |Advent Sub-Set|2001|1       |\n",
      "|Advent Calendar 2001, Creator (Day 23) Christmas Tree|Advent Sub-Set|2001|1       |\n",
      "|Advent Calendar 2001, Creator (Day  4) Santa         |Advent Sub-Set|2001|1       |\n",
      "|Advent Calendar 2001, Creator (Day 13) Snowman       |Advent Sub-Set|2001|1       |\n",
      "|Advent Calendar 2001, Creator (Day 22) Helicopter    |Advent Sub-Set|2001|1       |\n",
      "|Advent Calendar 2001, Creator (Day 14) Jet Ski       |Advent Sub-Set|2001|1       |\n",
      "|Advent Calendar 2001, Creator (Day  1) Cat           |Advent Sub-Set|2001|1       |\n",
      "|Advent Calendar 2001, Creator (Day 15) Dog           |Advent Sub-Set|2001|1       |\n",
      "|Advent Calendar 2001, Creator (Day  6) Penguin       |Advent Sub-Set|2001|1       |\n",
      "|Advent Calendar 2001, Creator (Day 16) Police Boat   |Advent Sub-Set|2001|1       |\n",
      "|Advent Calendar 2001, Creator (Day  8) Frog with Hat |Advent Sub-Set|2001|1       |\n",
      "|Advent Calendar 2001, Creator (Day 17) Whale         |Advent Sub-Set|2001|1       |\n",
      "+-----------------------------------------------------+--------------+----+--------+\n",
      "only showing top 20 rows\n",
      "\n"
     ]
    }
   ],
   "source": [
    "column_list = [\"NameSets\",'NameThemes','Year']\n",
    "win_spec = Window.partitionBy([col(x) for x in column_list])\n",
    "\n",
    "NameSetsThemesYearSumQty = dfFinalLegoInvSetTheme.withColumn(\"SumOfQty\", \n",
    "                                  sum(col(\"InvSetQty\")).over(win_spec)) \\\n",
    "                                .select(col('NameSets'), col('NameThemes'), col(\"Year\"), col(\"SumOfQty\")) \\\n",
    "                                .distinct() \\\n",
    "                                .orderBy(\"NameThemes\") \\\n",
    "                                \n",
    "NameSetsThemesYearSumQty.show(truncate=False)\n"
   ]
  },
  {
   "cell_type": "code",
   "execution_count": 151,
   "id": "baae7b42",
   "metadata": {},
   "outputs": [
    {
     "name": "stdout",
     "output_type": "stream",
     "text": [
      "+-----------------------------------------------------+---------------------+----+--------+\n",
      "|NameSets                                             |NameThemes           |Year|SumOfQty|\n",
      "+-----------------------------------------------------+---------------------+----+--------+\n",
      "|Minifigure Series 1 [Random Bag]                     |Series 1 Minifigures |2010|60      |\n",
      "|Minifigure Series 10 [Random Bag]                    |Series 10 Minifigures|2013|60      |\n",
      "|Minifigure Series 11 [Random Bag]                    |Series 11 Minifigures|2013|60      |\n",
      "|LEGO Minifigures Series 12 [Random Bag]              |Series 12 Minifigures|2014|60      |\n",
      "|LEGO Minifigures - Series 13 [Random Bag]            |Series 13 Minifigures|2015|60      |\n",
      "|Minifigure Series 2 [Random Bag]                     |Series 2 Minifigures |2010|60      |\n",
      "|Minifigure Series 3 [Random Bag]                     |Series 3 Minifigures |2011|60      |\n",
      "|Minifigure Series 4 [Random Bag]                     |Series 4 Minifigures |2011|60      |\n",
      "|Minifigure Series 5 [Random Bag]                     |Series 5 Minifigures |2011|60      |\n",
      "|Minifigure Series 6 [Random Bag]                     |Series 6 Minifigures |2012|60      |\n",
      "|Minifigure Series 7 [Random Bag]                     |Series 7 Minifigures |2012|60      |\n",
      "|Minifigure Series 8 [Random Bag]                     |Series 8 Minifigures |2012|60      |\n",
      "|Minifigure Series 9 [Random Bag]                     |Series 9 Minifigures |2013|60      |\n",
      "|Team GB Minifigures [Random Bag]                     |Team GB              |2012|60      |\n",
      "|LEGO Minifigures - The LEGO Movie Series [Random Bag]|The LEGO Movie Series|2014|60      |\n",
      "|LEGO Minifigures - The Simpsons Series [Random Bag]  |The Simpsons         |2014|60      |\n",
      "|The Simpsons Series 2 {Random bag}                   |The Simpsons         |2015|60      |\n",
      "+-----------------------------------------------------+---------------------+----+--------+\n",
      "\n"
     ]
    }
   ],
   "source": [
    "NameSetsThemesYearSumQty.filter(NameSetsThemesYearSumQty['SumOfQty'] == \n",
    "                                NameSetsThemesYearSumQty.agg({'SumOfQty':'max'}).collect()[0][0]).show(truncate=False)"
   ]
  },
  {
   "cell_type": "markdown",
   "id": "88c30d7a",
   "metadata": {},
   "source": [
    "#### Calculating the quantity of set in previous and next year, then calculating the percentage change in Qty from the previous year"
   ]
  },
  {
   "cell_type": "code",
   "execution_count": 152,
   "id": "88e2b7ed",
   "metadata": {},
   "outputs": [],
   "source": [
    "GroupingByYear = dfFinalLegoInvSetTheme.groupBy('Year').sum('InvSetQty').orderBy('Year')\n",
    "\n",
    "GroupingByYear = GroupingByYear.select(col('Year'), col('sum(InvSetQty)').alias('SumInvQtySet'))\n"
   ]
  },
  {
   "cell_type": "code",
   "execution_count": 153,
   "id": "0488653c",
   "metadata": {},
   "outputs": [
    {
     "name": "stdout",
     "output_type": "stream",
     "text": [
      "+----+------------+-----------+-----------+----------------+\n",
      "|Year|SumInvQtySet|PrevYearQty|NextYearQty|QtyPctChange [%]|\n",
      "+----+------------+-----------+-----------+----------------+\n",
      "|1969|           2|       null|          2|            null|\n",
      "|1970|           2|          2|          3|             0.0|\n",
      "|1976|           3|          2|          2|             0.5|\n",
      "|1979|           2|          3|          1|           -0.33|\n",
      "|1980|           1|          2|         10|            -0.5|\n",
      "|1981|          10|          1|          1|             9.0|\n",
      "|1982|           1|         10|          3|            -0.9|\n",
      "|1983|           3|          1|          4|             2.0|\n",
      "|1984|           4|          3|          7|            0.33|\n",
      "|1985|           7|          4|          6|            0.75|\n",
      "|1986|           6|          7|          6|           -0.14|\n",
      "|1987|           6|          6|          3|             0.0|\n",
      "|1988|           3|          6|         10|            -0.5|\n",
      "|1989|          10|          3|          5|            2.33|\n",
      "|1990|           5|         10|         36|            -0.5|\n",
      "|1991|          36|          5|          5|             6.2|\n",
      "|1992|           5|         36|         15|           -0.86|\n",
      "|1993|          15|          5|         13|             2.0|\n",
      "|1994|          13|         15|          5|           -0.13|\n",
      "|1995|           5|         13|         11|           -0.62|\n",
      "|1996|          11|          5|         16|             1.2|\n",
      "|1997|          16|         11|         66|            0.45|\n",
      "|1998|          66|         16|         46|            3.13|\n",
      "|1999|          46|         66|         73|            -0.3|\n",
      "|2000|          73|         46|        128|            0.59|\n",
      "|2001|         128|         73|        144|            0.75|\n",
      "|2002|         144|        128|        135|            0.13|\n",
      "|2003|         135|        144|        119|           -0.06|\n",
      "|2004|         119|        135|        107|           -0.12|\n",
      "|2005|         107|        119|         79|            -0.1|\n",
      "|2006|          79|        107|        131|           -0.26|\n",
      "|2007|         131|         79|        110|            0.66|\n",
      "|2008|         110|        131|        107|           -0.16|\n",
      "|2009|         107|        110|        221|           -0.03|\n",
      "|2010|         221|        107|        327|            1.07|\n",
      "|2011|         327|        221|        442|            0.48|\n",
      "|2012|         442|        327|        318|            0.35|\n",
      "|2013|         318|        442|        334|           -0.28|\n",
      "|2014|         334|        318|        224|            0.05|\n",
      "|2015|         224|        334|         66|           -0.33|\n",
      "|2016|          66|        224|         37|           -0.71|\n",
      "|2017|          37|         66|       null|           -0.44|\n",
      "+----+------------+-----------+-----------+----------------+\n",
      "\n"
     ]
    }
   ],
   "source": [
    "Windowspec=Window.orderBy('Year')\n",
    "\n",
    "GroupingByYear.withColumn('PrevYearQty', lag(GroupingByYear['SumInvQtySet']).over(Windowspec)\n",
    "                         ).withColumn('NextYearQty', lead(GroupingByYear['SumInvQtySet']).over(Windowspec)\n",
    "                          ).withColumn('QtyPctChange [%]',\n",
    "                                       round((col('SumInvQtySet') - col('PrevYearQty')) / col('PrevYearQty'),2)).show(50,50)"
   ]
  },
  {
   "cell_type": "markdown",
   "id": "c6bde0f6",
   "metadata": {},
   "source": [
    "## dfFinalLegoInventoryParts"
   ]
  },
  {
   "cell_type": "code",
   "execution_count": 154,
   "id": "86662fe1",
   "metadata": {},
   "outputs": [
    {
     "name": "stdout",
     "output_type": "stream",
     "text": [
      "+----------------------------------------+---------------------------------------+----------------+-------+----------+-------+\n",
      "|                               PartsName|                            PartCatName|       ColorName|IsTrans|InvPartQty|IsSpare|\n",
      "+----------------------------------------+---------------------------------------+----------------+-------+----------+-------+\n",
      "|Train Wheel Small, hole notched for w...|                       Wheels and Tyres|           Black|  False|         4|  False|\n",
      "|Brick 10 x 20 with Bottom Tubes in si...|                                 Bricks|             Red|  False|         1|  False|\n",
      "|   Tile Round 2 x 2 - Thick Lifting Ring|                          Tiles Special|           Black|  False|         2|  False|\n",
      "|Brick Special 1 x 4 with 4 Studs on O...|                         Bricks Special|            Blue|  False|         3|  False|\n",
      "|                      Duplo Plate 6 x 12|                Duplo, Quatro and Primo|   Reddish Brown|  False|         1|  False|\n",
      "|   Technic Plate 1 x 6 with Toothed Ends|                        Technic Special|           Black|  False|         4|  False|\n",
      "|       Lever Small Base with Black Lever|               Bars, Ladders and Fences|           White|  False|         2|  False|\n",
      "|Minifig Head Male Eyepatch, Frown, St...|                               Minifigs|          Yellow|  False|         1|  False|\n",
      "|         Hinge Vehicle Roof Holder 1 x 4|            Hinges, Arms and Turntables|           Black|  False|         3|  False|\n",
      "|Brick Special 2 x 2 with Pin and No A...|                         Bricks Special|             Red|  False|         1|  False|\n",
      "|             Dish 2 x 2 Inverted [Radar]|                Plates Round and Dishes|     Trans-Clear|   True|         5|  False|\n",
      "|    Vehicle, Tipper Bed 32 x 16 x 10 2/3|                  Transportation - Land|          Yellow|  False|         1|  False|\n",
      "|                      Slope Curved 6 x 1|                          Bricks Curved|            Lime|  False|         4|  False|\n",
      "|                     Bionicle Mask Solek|Bionicle, Hero Factory and Constraction|           White|  False|         1|  False|\n",
      "|Plate Special 1 x 1 with Clip Horizon...|                         Plates Special|          Orange|  False|         2|  False|\n",
      "|                          Flower - Small|                     Plants and Animals|     Bright Pink|  False|         3|  False|\n",
      "|           Technic Plate 2 x 4 [3 Holes]|                         Plates Special|Dark Bluish Gray|  False|        10|  False|\n",
      "|           Technic Plate 2 x 4 [3 Holes]|                         Plates Special|           Black|  False|        10|  False|\n",
      "|          Support 1 x 1 x 6 Solid Pillar|           Supports, Girders and Cranes|   Reddish Brown|  False|         6|  False|\n",
      "|Torso SW Jedi Robe, Reddish Brown Und...|                               Minifigs|     Dark Orange|  False|         1|  False|\n",
      "+----------------------------------------+---------------------------------------+----------------+-------+----------+-------+\n",
      "only showing top 20 rows\n",
      "\n"
     ]
    }
   ],
   "source": [
    "dfFinalLegoInventoryParts.show(20,40)"
   ]
  },
  {
   "cell_type": "markdown",
   "id": "211744f7",
   "metadata": {},
   "source": [
    "### Concating PartsName with Color Name"
   ]
  },
  {
   "cell_type": "code",
   "execution_count": 155,
   "id": "e7359449",
   "metadata": {},
   "outputs": [
    {
     "name": "stdout",
     "output_type": "stream",
     "text": [
      "+--------------------------------------------------------------------------------------------------------------------------+\n",
      "|Parts Name and Color                                                                                                      |\n",
      "+--------------------------------------------------------------------------------------------------------------------------+\n",
      "|Train Wheel Small, hole notched for wheels holder pin, Color: Black                                                       |\n",
      "|Brick 10 x 20 with Bottom Tubes in single row around edge, with '+' Cross Support, Color: Red                             |\n",
      "|Tile Round 2 x 2 - Thick Lifting Ring, Color: Black                                                                       |\n",
      "|Brick Special 1 x 4 with 4 Studs on One Side, Color: Blue                                                                 |\n",
      "|Duplo Plate 6 x 12, Color: Reddish Brown                                                                                  |\n",
      "|Technic Plate 1 x 6 with Toothed Ends, Color: Black                                                                       |\n",
      "|Lever Small Base with Black Lever, Color: White                                                                           |\n",
      "|Minifig Head Male Eyepatch, Frown, Stubble and Gray Eye Print [Blocked Open Stud], Color: Yellow                          |\n",
      "|Hinge Vehicle Roof Holder 1 x 4, Color: Black                                                                             |\n",
      "|Brick Special 2 x 2 with Pin and No Axle Hole, Color: Red                                                                 |\n",
      "|Dish 2 x 2 Inverted [Radar], Color: Trans-Clear                                                                           |\n",
      "|Vehicle, Tipper Bed 32 x 16 x 10 2/3, Color: Yellow                                                                       |\n",
      "|Slope Curved 6 x 1, Color: Lime                                                                                           |\n",
      "|Bionicle Mask Solek, Color: White                                                                                         |\n",
      "|Plate Special 1 x 1 with Clip Horizontal [Thick Open O Clip], Color: Orange                                               |\n",
      "|Flower - Small, Color: Bright Pink                                                                                        |\n",
      "|Technic Plate 2 x 4 [3 Holes], Color: Dark Bluish Gray                                                                    |\n",
      "|Technic Plate 2 x 4 [3 Holes], Color: Black                                                                               |\n",
      "|Support 1 x 1 x 6 Solid Pillar, Color: Reddish Brown                                                                      |\n",
      "|Torso SW Jedi Robe, Reddish Brown Undershirt and Belt Print (SW Pong Krell) / White Arms / Black Hands, Color: Dark Orange|\n",
      "+--------------------------------------------------------------------------------------------------------------------------+\n",
      "only showing top 20 rows\n",
      "\n"
     ]
    }
   ],
   "source": [
    "dfFinalLegoInventoryParts.select(concat(\n",
    "                                    dfFinalLegoInventoryParts['PartsName'],\n",
    "                                    lit(','),\n",
    "                                    lit(' Color: '),\n",
    "                                    dfFinalLegoInventoryParts['ColorName']).alias(\"Parts Name and Color\")).show(truncate=False)"
   ]
  },
  {
   "cell_type": "markdown",
   "id": "fd185fde",
   "metadata": {},
   "source": [
    "### Counting sum of Inventory parts regarding PartsName, PartCatName and ColorName"
   ]
  },
  {
   "cell_type": "code",
   "execution_count": 156,
   "id": "bf765e7d",
   "metadata": {},
   "outputs": [
    {
     "data": {
      "text/plain": [
       "['PartsName', 'PartCatName', 'ColorName', 'IsTrans', 'InvPartQty', 'IsSpare']"
      ]
     },
     "execution_count": 156,
     "metadata": {},
     "output_type": "execute_result"
    }
   ],
   "source": [
    "dfFinalLegoInventoryParts.columns"
   ]
  },
  {
   "cell_type": "code",
   "execution_count": 157,
   "id": "0a9ffaa0",
   "metadata": {},
   "outputs": [
    {
     "name": "stdout",
     "output_type": "stream",
     "text": [
      "+------------------------------------------------------------+---------------+-----------------+---------------+\n",
      "|PartsName                                                   |PartCatName    |ColorName        |sum(InvPartQty)|\n",
      "+------------------------------------------------------------+---------------+-----------------+---------------+\n",
      "|Technic Pin with Friction Ridges Lengthwise and Center Slots|Technic Pins   |Black            |18056          |\n",
      "|Plate 1 x 1                                                 |Plates         |White            |6200           |\n",
      "|Technic Pin Long with Friction Ridges Lengthwise            |Technic Pins   |Blue             |5657           |\n",
      "|Plate 1 x 1                                                 |Plates         |Black            |3899           |\n",
      "|Technic Axle Pin with Friction Ridges Lengthwise            |Technic Pins   |Blue             |3456           |\n",
      "|Plate 1 x 1                                                 |Plates         |Dark Bluish Gray |3205           |\n",
      "|Plate 1 x 1                                                 |Plates         |Light Bluish Gray|2561           |\n",
      "|Technic Pin Long with Friction Ridges Lengthwise            |Technic Pins   |Black            |2417           |\n",
      "|Brick 1 x 2                                                 |Bricks         |White            |2334           |\n",
      "|Technic Chain Link                                          |Technic Special|Black            |1862           |\n",
      "|Brick 1 x 2                                                 |Bricks         |Yellow           |1804           |\n",
      "|Brick 2 x 2                                                 |Bricks         |Red              |1758           |\n",
      "|Technic Axle 2 Notched                                      |Technic Axles  |Red              |1744           |\n",
      "|Brick 1 x 2                                                 |Bricks         |Red              |1741           |\n",
      "|Brick 2 x 2                                                 |Bricks         |White            |1690           |\n",
      "|Plate 1 x 2                                                 |Plates         |Dark Bluish Gray |1628           |\n",
      "|Brick 2 x 2                                                 |Bricks         |Yellow           |1626           |\n",
      "|Brick 2 x 2                                                 |Bricks         |Blue             |1616           |\n",
      "|Technic Axle 3                                              |Technic Axles  |Light Bluish Gray|1607           |\n",
      "|Plate 1 x 2                                                 |Plates         |Black            |1604           |\n",
      "+------------------------------------------------------------+---------------+-----------------+---------------+\n",
      "only showing top 20 rows\n",
      "\n"
     ]
    }
   ],
   "source": [
    "GroupingPartsColorQty = dfFinalLegoInventoryParts.groupBy('PartsName',\n",
    "                                                          'PartCatName',\n",
    "                                                          'ColorName').sum('InvPartQty').sort(desc('sum(InvPartQty)'))\n",
    "GroupingPartsColorQty.show(truncate=False)\n"
   ]
  },
  {
   "cell_type": "code",
   "execution_count": 158,
   "id": "699d4299",
   "metadata": {},
   "outputs": [],
   "source": [
    "column_list = ['PartCatName','ColorName']\n",
    "win_spec = Window.partitionBy([col(x) for x in column_list]).orderBy(desc('sum(InvPartQty)'))\n",
    "\n",
    "PartitioningPartColorQty = GroupingPartsColorQty.withColumn('RowNumber',\n",
    "                                                           row_number().over(win_spec))\n"
   ]
  },
  {
   "cell_type": "code",
   "execution_count": 159,
   "id": "8525b797",
   "metadata": {},
   "outputs": [
    {
     "name": "stdout",
     "output_type": "stream",
     "text": [
      "+---------------------------------------------------+------------------------+-------------------+---------------+---------+\n",
      "|PartsName                                          |PartCatName             |ColorName          |sum(InvPartQty)|RowNumber|\n",
      "+---------------------------------------------------+------------------------+-------------------+---------------+---------+\n",
      "|Lever Small Base with Black Lever                  |Bars, Ladders and Fences|Blue               |36             |1        |\n",
      "|Fence 1 x 4 x 2                                    |Bars, Ladders and Fences|Blue               |30             |2        |\n",
      "|Antenna 1 x 4 with Rounded Top                     |Bars, Ladders and Fences|Blue               |19             |3        |\n",
      "|Bar 1 x 4 x 2                                      |Bars, Ladders and Fences|Blue               |11             |4        |\n",
      "|Bar 1 x 3 [Clip / Anti-Stud]                       |Bars, Ladders and Fences|Blue               |10             |5        |\n",
      "|Fence 1 x 4 x 1                                    |Bars, Ladders and Fences|Blue               |7              |6        |\n",
      "|Bar 1 x 4 x 2 with Studs                           |Bars, Ladders and Fences|Blue               |6              |7        |\n",
      "|Lever Small Base with Light Bluish Gray Lever      |Bars, Ladders and Fences|Blue               |4              |8        |\n",
      "|Lever Small Base with Light Gray Lever             |Bars, Ladders and Fences|Blue               |4              |9        |\n",
      "|Lever Small Base with Yellow Lever                 |Bars, Ladders and Fences|Blue               |4              |10       |\n",
      "|Bar 6.6L with Stop Ring [Umbrella Stand]           |Bars, Ladders and Fences|Blue               |4              |11       |\n",
      "|Antenna 1 x 4 with Flat Top                        |Bars, Ladders and Fences|Blue               |3              |12       |\n",
      "|Bar 1 x 6 [Closed Studs]                           |Bars, Ladders and Fences|Blue               |2              |13       |\n",
      "|Antenna Whip 8H                                    |Bars, Ladders and Fences|Blue               |2              |14       |\n",
      "|Bar 1 x 3 (Radio Handle, Phone Handset)            |Bars, Ladders and Fences|Blue               |2              |15       |\n",
      "|Fence Spindled 4 x 4 x 2 Quarter Round with 2 Studs|Bars, Ladders and Fences|Blue               |2              |16       |\n",
      "|Fence Spindled 1 x 4 x 2 [2 Top Studs]             |Bars, Ladders and Fences|Blue               |1              |17       |\n",
      "|Bar 3L                                             |Bars, Ladders and Fences|Bright Green       |9              |1        |\n",
      "|Ladder 14 x 2.5                                    |Bars, Ladders and Fences|Bright Light Orange|1              |1        |\n",
      "|Bar 1 x 4 x 2                                      |Bars, Ladders and Fences|Bright Light Yellow|3              |1        |\n",
      "+---------------------------------------------------+------------------------+-------------------+---------------+---------+\n",
      "only showing top 20 rows\n",
      "\n"
     ]
    }
   ],
   "source": [
    "PartitioningPartColorQty.show(truncate=False)"
   ]
  },
  {
   "cell_type": "markdown",
   "id": "6040666c",
   "metadata": {},
   "source": [
    "### Showing the greatest quantity of PartCatName"
   ]
  },
  {
   "cell_type": "code",
   "execution_count": 160,
   "id": "d5023693",
   "metadata": {},
   "outputs": [
    {
     "name": "stdout",
     "output_type": "stream",
     "text": [
      "+------------------------------------------------------------+---------------+-----------------+---------------+---------+\n",
      "|PartsName                                                   |PartCatName    |ColorName        |sum(InvPartQty)|RowNumber|\n",
      "+------------------------------------------------------------+---------------+-----------------+---------------+---------+\n",
      "|Technic Pin with Friction Ridges Lengthwise and Center Slots|Technic Pins   |Black            |18056          |1        |\n",
      "|Plate 1 x 1                                                 |Plates         |White            |6200           |1        |\n",
      "|Technic Pin Long with Friction Ridges Lengthwise            |Technic Pins   |Blue             |5657           |1        |\n",
      "|Plate 1 x 1                                                 |Plates         |Black            |3899           |1        |\n",
      "|Plate 1 x 1                                                 |Plates         |Dark Bluish Gray |3205           |1        |\n",
      "|Plate 1 x 1                                                 |Plates         |Light Bluish Gray|2561           |1        |\n",
      "|Brick 1 x 2                                                 |Bricks         |White            |2334           |1        |\n",
      "|Technic Chain Link                                          |Technic Special|Black            |1862           |1        |\n",
      "|Brick 1 x 2                                                 |Bricks         |Yellow           |1804           |1        |\n",
      "|Brick 2 x 2                                                 |Bricks         |Red              |1758           |1        |\n",
      "|Technic Axle 2 Notched                                      |Technic Axles  |Red              |1744           |1        |\n",
      "|Brick 2 x 2                                                 |Bricks         |Blue             |1616           |1        |\n",
      "|Technic Axle 3                                              |Technic Axles  |Light Bluish Gray|1607           |1        |\n",
      "|Technic Bush                                                |Technic Bushes |Light Gray       |1545           |1        |\n",
      "|Technic Axle 2 Notched                                      |Technic Axles  |Black            |1384           |1        |\n",
      "|Brick 1 x 2                                                 |Bricks         |Light Bluish Gray|1338           |1        |\n",
      "|Plate 1 x 1                                                 |Plates         |Yellow           |1333           |1        |\n",
      "|Brick 1 x 2                                                 |Bricks         |Black            |1254           |1        |\n",
      "|Plate 1 x 1                                                 |Plates         |Trans-Clear      |1252           |1        |\n",
      "|Brick 1 x 2                                                 |Bricks         |Dark Bluish Gray |1239           |1        |\n",
      "+------------------------------------------------------------+---------------+-----------------+---------------+---------+\n",
      "only showing top 20 rows\n",
      "\n"
     ]
    }
   ],
   "source": [
    "PartitioningPartColorQty.filter(PartitioningPartColorQty['RowNumber'] == 1).orderBy(col('sum(InvPartQty)').desc()) \\\n",
    "                                                                                        .show(truncate=False)"
   ]
  },
  {
   "cell_type": "code",
   "execution_count": 161,
   "id": "8319fdf0",
   "metadata": {},
   "outputs": [
    {
     "name": "stdout",
     "output_type": "stream",
     "text": [
      "+------------------------------------------------------------+------------+---------+---------------+\n",
      "|PartsName                                                   |PartCatName |ColorName|sum(InvPartQty)|\n",
      "+------------------------------------------------------------+------------+---------+---------------+\n",
      "|Technic Pin with Friction Ridges Lengthwise and Center Slots|Technic Pins|Black    |18056          |\n",
      "+------------------------------------------------------------+------------+---------+---------------+\n",
      "\n"
     ]
    }
   ],
   "source": [
    "GroupingPartsColorQty.filter(GroupingPartsColorQty['sum(InvPartQty)'] == \n",
    "                                GroupingPartsColorQty.agg({'sum(InvPartQty)':'max'}).collect()[0][0]).show(truncate=False)\n"
   ]
  },
  {
   "cell_type": "code",
   "execution_count": 162,
   "id": "1df0c94f",
   "metadata": {},
   "outputs": [
    {
     "name": "stdout",
     "output_type": "stream",
     "text": [
      "+------------------------------------------------------------+---------------+-----------------+---------------+\n",
      "|PartsName                                                   |PartCatName    |ColorName        |sum(InvPartQty)|\n",
      "+------------------------------------------------------------+---------------+-----------------+---------------+\n",
      "|Technic Pin with Friction Ridges Lengthwise and Center Slots|Technic Pins   |Black            |18056          |\n",
      "|Plate 1 x 1                                                 |Plates         |White            |6200           |\n",
      "|Technic Pin Long with Friction Ridges Lengthwise            |Technic Pins   |Blue             |5657           |\n",
      "|Plate 1 x 1                                                 |Plates         |Black            |3899           |\n",
      "|Technic Axle Pin with Friction Ridges Lengthwise            |Technic Pins   |Blue             |3456           |\n",
      "|Plate 1 x 1                                                 |Plates         |Dark Bluish Gray |3205           |\n",
      "|Plate 1 x 1                                                 |Plates         |Light Bluish Gray|2561           |\n",
      "|Technic Pin Long with Friction Ridges Lengthwise            |Technic Pins   |Black            |2417           |\n",
      "|Brick 1 x 2                                                 |Bricks         |White            |2334           |\n",
      "|Technic Chain Link                                          |Technic Special|Black            |1862           |\n",
      "+------------------------------------------------------------+---------------+-----------------+---------------+\n",
      "\n"
     ]
    }
   ],
   "source": [
    "GroupingPartsColorQty.limit(10).show(truncate=False)"
   ]
  },
  {
   "cell_type": "markdown",
   "id": "295af645",
   "metadata": {},
   "source": [
    "### Grouping Part, Color Name, then Couting IsTrans And IsSpare"
   ]
  },
  {
   "cell_type": "code",
   "execution_count": 163,
   "id": "bb4a928a",
   "metadata": {},
   "outputs": [
    {
     "name": "stdout",
     "output_type": "stream",
     "text": [
      "+------------------------------------------------------------+-----------------+-------+--------+\n",
      "|PartsName                                                   |ColorName        |IsTrans|Quantity|\n",
      "+------------------------------------------------------------+-----------------+-------+--------+\n",
      "|Technic Pin with Friction Ridges Lengthwise and Center Slots|Black            |False  |169     |\n",
      "|Technic Pin Long with Friction Ridges Lengthwise            |Blue             |False  |87      |\n",
      "|Technic Axle Pin with Friction Ridges Lengthwise            |Blue             |False  |79      |\n",
      "|Brick 1 x 2                                                 |White            |False  |63      |\n",
      "|Technic Pin Long with Friction Ridges Lengthwise            |Black            |False  |61      |\n",
      "|Technic Axle 2 Notched                                      |Red              |False  |56      |\n",
      "|Technic Axle 3                                              |Light Bluish Gray|False  |56      |\n",
      "|Brick 1 x 2                                                 |Red              |False  |56      |\n",
      "|Brick 1 x 2                                                 |Yellow           |False  |53      |\n",
      "|Technic Bush                                                |Light Bluish Gray|False  |52      |\n",
      "|Technic Axle 2 Notched                                      |Black            |False  |51      |\n",
      "|Plate 1 x 2                                                 |Black            |False  |50      |\n",
      "|Brick 2 x 2                                                 |Red              |False  |50      |\n",
      "|Brick 2 x 2                                                 |Blue             |False  |48      |\n",
      "|Brick 2 x 2                                                 |White            |False  |48      |\n",
      "|Plate 1 x 2                                                 |Light Bluish Gray|False  |48      |\n",
      "|Technic Bush                                                |Light Gray       |False  |48      |\n",
      "|Brick 2 x 2                                                 |Yellow           |False  |48      |\n",
      "|Brick 1 x 2                                                 |Blue             |False  |48      |\n",
      "|Technic Bush 1/2 Smooth with Axle Hole Semi-Reduced         |Light Bluish Gray|False  |46      |\n",
      "+------------------------------------------------------------+-----------------+-------+--------+\n",
      "only showing top 20 rows\n",
      "\n"
     ]
    }
   ],
   "source": [
    "CountingPartsColorIsTrans = dfFinalLegoInventoryParts.groupBy('PartsName',\n",
    "                                 'ColorName',\n",
    "                                 'IsTrans').count()\n",
    "\n",
    "CountingPartsColorIsTrans = CountingPartsColorIsTrans.select(col('PartsName'),\n",
    "                                col('ColorName'),\n",
    "                                col('IsTrans'),\n",
    "                                col('count').alias('Quantity'))\n",
    "CountingPartsColorIsTrans.orderBy(desc('Quantity')).show(truncate=False)\n"
   ]
  },
  {
   "cell_type": "markdown",
   "id": "aca60f2e",
   "metadata": {},
   "source": [
    "### Dividing DataFrame into True and False IsTrans"
   ]
  },
  {
   "cell_type": "markdown",
   "id": "5cf59b41",
   "metadata": {},
   "source": [
    "#### True"
   ]
  },
  {
   "cell_type": "code",
   "execution_count": 164,
   "id": "7216a9e3",
   "metadata": {},
   "outputs": [
    {
     "name": "stdout",
     "output_type": "stream",
     "text": [
      "+------------------------------------------------------------+------------------+-------+--------+\n",
      "|                                                   PartsName|         ColorName|IsTrans|Quantity|\n",
      "+------------------------------------------------------------+------------------+-------+--------+\n",
      "|                                        Windscreen 1 x 6 x 3|       Trans-Clear|   True|       2|\n",
      "|                                      MINI, ACCESSORY, NO. 1|  Trans-Light Blue|   True|       4|\n",
      "|                                      Tile 1 x 2 with Groove|       Trans-Black|   True|      16|\n",
      "|                                        Windscreen 2 x 4 x 2|       Trans-Black|   True|       3|\n",
      "|                                           Duplo Utensil Cup|   Trans-Dark Pink|   True|       1|\n",
      "|Clikits Icon, Star 2 x 2 Large with Pin, Silver Star Cent...|      Trans-Purple|   True|       2|\n",
      "|   Dish 6 x 6 Inverted [Radar / Webbed / anti-studs at  90°]|         Trans-Red|   True|       1|\n",
      "|                                 Dish 4 x 4 Inverted [Radar]|       Trans-Clear|   True|       2|\n",
      "|          Tile 2 x 2 with Black Chest X-Ray Print [col06-11]|  Trans-Light Blue|   True|       1|\n",
      "|Dimensions Toy Tag 4 x 4 x 2/3 with 2 Studs with Harley Q...|  Trans-Light Blue|   True|       1|\n",
      "|                                   Rock 1 x 1 Jewel 24 Facet|Trans-Bright Green|   True|       4|\n",
      "|Glass for Window 1 x 4 x 6 with 'OPEN', 'Soap 'n' Suds' a...|       Trans-Clear|   True|       1|\n",
      "|                                  Windscreen 8 x 6 x 3 Wedge|       Trans-Green|   True|       1|\n",
      "|                                     Cone 1 x 1 [Top Groove]|   Trans-Dark Pink|   True|       5|\n",
      "|                     Clikits Bead, Ring Thin Large with Hole|   Trans-Dark Pink|   True|       3|\n",
      "|                                 Windscreen 3 x 6 x 1 Curved|      Trans-Yellow|   True|       1|\n",
      "|   Bottle [Erlenmeyer Flask] with Trans-Purple Fluid Pattern|       Trans-Clear|   True|       1|\n",
      "|          Clikits Frame, Square with 3 x 3 Holes Arrangement| Trans-Neon Orange|   True|       1|\n",
      "|                           Plate Round 1 x 1 with Solid Stud| Trans-Neon Orange|   True|      30|\n",
      "|                                                 Plate 2 x 4|       Trans-Clear|   True|       6|\n",
      "+------------------------------------------------------------+------------------+-------+--------+\n",
      "only showing top 20 rows\n",
      "\n"
     ]
    }
   ],
   "source": [
    "CountingPartsColorIsTransTrue = CountingPartsColorIsTrans.filter(CountingPartsColorIsTrans['IsTrans'] =='True')\n",
    "CountingPartsColorIsTransTrue.show(20,60)"
   ]
  },
  {
   "cell_type": "code",
   "execution_count": 165,
   "id": "69dc3bdb",
   "metadata": {},
   "outputs": [
    {
     "name": "stdout",
     "output_type": "stream",
     "text": [
      "+-------------------------------------+------------------+-------+--------+---------+\n",
      "|PartsName                            |ColorName         |IsTrans|Quantity|RowNumber|\n",
      "+-------------------------------------+------------------+-------+--------+---------+\n",
      "|Plate 1 x 1                          |Trans-Clear       |True   |31      |1        |\n",
      "|Plate Round 1 x 1 with Solid Stud    |Trans-Clear       |True   |31      |1        |\n",
      "|Plate Round 1 x 1 with Solid Stud    |Trans-Neon Orange |True   |30      |2        |\n",
      "|Plate Round 1 x 1 with Solid Stud    |Trans-Neon Green  |True   |29      |3        |\n",
      "|Plate Round 1 x 1 with Solid Stud    |Trans-Red         |True   |29      |4        |\n",
      "|Brick 1 x 2 without Bottom Tube      |Trans-Clear       |True   |26      |1        |\n",
      "|Plate 1 x 2                          |Trans-Clear       |True   |26      |1        |\n",
      "|Plate Round 1 x 1 with Solid Stud    |Trans-Light Blue  |True   |26      |5        |\n",
      "|Plate Round 1 x 1 with Solid Stud    |Trans-Yellow      |True   |26      |6        |\n",
      "|Plate 1 x 2                          |Trans-Light Blue  |True   |24      |2        |\n",
      "|Glass for Window 1 x 2 x 2 Flat      |Trans-Clear       |True   |21      |1        |\n",
      "|Glass for Window 1 x 2 x 3 Flat Front|Trans-Clear       |True   |21      |1        |\n",
      "|Plate Round 1 x 1 with Solid Stud    |Trans-Dark Blue   |True   |21      |7        |\n",
      "|Plate Round 1 x 1 with Solid Stud    |Trans-Orange      |True   |21      |8        |\n",
      "|Slope 30° 1 x 1 x 2/3 (Cheese Slope) |Trans-Clear       |True   |20      |1        |\n",
      "|Plate Round 1 x 1 with Solid Stud    |Trans-Bright Green|True   |19      |9        |\n",
      "|Plate 1 x 1                          |Trans-Red         |True   |18      |2        |\n",
      "|Plate 1 x 2                          |Trans-Red         |True   |18      |3        |\n",
      "|Slope 30° 1 x 1 x 2/3 (Cheese Slope) |Trans-Dark Blue   |True   |18      |2        |\n",
      "|Slope 30° 1 x 1 x 2/3 (Cheese Slope) |Trans-Orange      |True   |18      |3        |\n",
      "+-------------------------------------+------------------+-------+--------+---------+\n",
      "only showing top 20 rows\n",
      "\n"
     ]
    }
   ],
   "source": [
    "column_list = ['PartsName']\n",
    "\n",
    "win_spec = Window.partitionBy([col(x) for x in column_list]).orderBy(desc('Quantity'))\n",
    "\n",
    "\n",
    "\n",
    "PartitioningPartIsTransTrueQty = CountingPartsColorIsTransTrue.withColumn('RowNumber',\n",
    "                                                           row_number().over(win_spec))\n",
    "\n",
    "PartitioningPartIsTransTrueQty.orderBy(desc('Quantity')).show(truncate=False)"
   ]
  },
  {
   "cell_type": "code",
   "execution_count": 166,
   "id": "98071efa",
   "metadata": {},
   "outputs": [
    {
     "name": "stdout",
     "output_type": "stream",
     "text": [
      "+-----------------------------------------------------------------+------------------+-------+--------+---------+\n",
      "|PartsName                                                        |ColorName         |IsTrans|Quantity|RowNumber|\n",
      "+-----------------------------------------------------------------+------------------+-------+--------+---------+\n",
      "|\"Brick  1 x  4 w/o Centre Studs w LEGO Logo Open \"\"O\"\"/Red Patt.\"|Trans-Clear       |True   |1       |1        |\n",
      "|3.2 SHAFT 2X4 M.                                                 |Trans-Red         |True   |1       |1        |\n",
      "|3.2 shaft w/ knob                                                |Trans-Clear       |True   |3       |1        |\n",
      "|ARMOR NO.17                                                      |Trans-Bright Green|True   |1       |1        |\n",
      "|Aero Tube 32 x 3 x 2 1/3                                         |Trans-Orange      |True   |2       |1        |\n",
      "|Aero Tube Joiner 3 x 4 x 3                                       |Trans-Clear       |True   |2       |1        |\n",
      "|Aircraft Fuselage Angular Top 6 x 8 x 4                          |Trans-Light Blue  |True   |1       |1        |\n",
      "|Antenna 1 x 4 with Flat Top                                      |Trans-Neon Green  |True   |2       |1        |\n",
      "|Antenna 1 x 4 with Rounded Top                                   |Trans-Red         |True   |8       |1        |\n",
      "|Antenna Whip 8H                                                  |Trans-Neon Green  |True   |11      |1        |\n",
      "|Appendage Bony with Axle (Rib, Tail)                             |Trans-Light Blue  |True   |5       |1        |\n",
      "|Arm / Leg Mechanical - Alien                                     |Trans-Green       |True   |1       |1        |\n",
      "|Arm Piece 90° Turn [2 / 3 Fingers]                               |Trans-Neon Orange |True   |3       |1        |\n",
      "|Arm Rock Monster Large, Left with Black Print                    |Trans-Orange      |True   |1       |1        |\n",
      "|Arm Rock Monster Large, Right with Black Print                   |Trans-Orange      |True   |1       |1        |\n",
      "|Arm Skeleton [Bent / 2 Clips]                                    |Trans-Light Blue  |True   |3       |1        |\n",
      "|BANNER W. 3.18 STICK 3X8 NO.1                                    |Trans-Neon Orange |True   |1       |1        |\n",
      "|BLADE NO. 6                                                      |Trans-Red         |True   |1       |1        |\n",
      "|BOOK NO. 2 NO. 2                                                 |Trans-Orange      |True   |1       |1        |\n",
      "|BOOK NO. 2 NO. 7                                                 |Trans-Dark Blue   |True   |1       |1        |\n",
      "+-----------------------------------------------------------------+------------------+-------+--------+---------+\n",
      "only showing top 20 rows\n",
      "\n"
     ]
    }
   ],
   "source": [
    "PartitioningPartIsTransTrueQty.filter(PartitioningPartIsTransTrueQty['RowNumber'] ==1).show(truncate=False)"
   ]
  },
  {
   "cell_type": "markdown",
   "id": "f99a2489",
   "metadata": {},
   "source": [
    "#### False"
   ]
  },
  {
   "cell_type": "code",
   "execution_count": 167,
   "id": "e69ce8ff",
   "metadata": {},
   "outputs": [
    {
     "name": "stdout",
     "output_type": "stream",
     "text": [
      "+----------------------------------------------------------------------------+----------------+-------+--------+\n",
      "|PartsName                                                                   |ColorName       |IsTrans|Quantity|\n",
      "+----------------------------------------------------------------------------+----------------+-------+--------+\n",
      "|Flag 2 x 2 Square with Black Dragon Print                                   |Black           |False  |2       |\n",
      "|Tile Special 1 x 2 Grille with Bottom Groove                                |Blue            |False  |18      |\n",
      "|Minifig Telescope                                                           |Pearl Gold      |False  |8       |\n",
      "|Technic Axle Connector 2 x 3 with Ball Socket, Open Sides                   |Black           |False  |13      |\n",
      "|Bionicle Armor Small Triangular with Pincer End                             |Orange          |False  |1       |\n",
      "|Slope 33° 3 x 3                                                             |Black           |False  |12      |\n",
      "|Brick 2 x 2 Corner                                                          |Tan             |False  |20      |\n",
      "|Technic Rubber Belt 24mm                                                    |Bright Green    |False  |4       |\n",
      "|Cone 2 x 2 x 2 [Completely Open Stud]                                       |Pearl Gold      |False  |2       |\n",
      "|Torso Space Unitron Print / Light Gray Arms / Blue Hands                    |Dark Gray       |False  |3       |\n",
      "|Technic Pin Connector Plate 1 x 2 x 1 2/3 [Two Holes On Top]                |Red             |False  |7       |\n",
      "|Panel 1 x 4 x 1 with Rounded Corners [Thin Wall]                            |Dark Bluish Gray|False  |9       |\n",
      "|Wedge 8 x 3 x 2 Open Left                                                   |Dark Tan        |False  |2       |\n",
      "|Technic Axle 7                                                              |Light Gray      |False  |7       |\n",
      "|Wheel 31 x 15 Technic                                                       |Dark Tan        |False  |4       |\n",
      "|Bracket 1 x 2 - 2 x 2                                                       |Dark Bluish Gray|False  |18      |\n",
      "|Wedge 6 x 2 Left                                                            |Green           |False  |2       |\n",
      "|Legs and Hips with Yellow Reflective Stripe Print                           |Black           |False  |4       |\n",
      "|Fabuland Door Frame 2 x 6 x 5 with White Door with Red Cross Print (Sticker)|White           |False  |1       |\n",
      "|Bionicle Weapon Mistika Nynrah Ghost Blaster Body                           |Pearl Light Gray|False  |1       |\n",
      "+----------------------------------------------------------------------------+----------------+-------+--------+\n",
      "only showing top 20 rows\n",
      "\n"
     ]
    }
   ],
   "source": [
    "CountingPartsColorIsTransFalse = CountingPartsColorIsTrans.filter(CountingPartsColorIsTrans['IsTrans'] =='False')\n",
    "CountingPartsColorIsTransFalse.show(truncate=False)"
   ]
  },
  {
   "cell_type": "code",
   "execution_count": 168,
   "id": "b2fed538",
   "metadata": {},
   "outputs": [
    {
     "name": "stdout",
     "output_type": "stream",
     "text": [
      "+------------------------------------------------------------+-----------------+-------+--------+---------+\n",
      "|PartsName                                                   |ColorName        |IsTrans|Quantity|RowNumber|\n",
      "+------------------------------------------------------------+-----------------+-------+--------+---------+\n",
      "|Technic Pin with Friction Ridges Lengthwise and Center Slots|Black            |False  |169     |1        |\n",
      "|Technic Pin Long with Friction Ridges Lengthwise            |Blue             |False  |87      |1        |\n",
      "|Technic Axle Pin with Friction Ridges Lengthwise            |Blue             |False  |79      |1        |\n",
      "|Brick 1 x 2                                                 |White            |False  |63      |1        |\n",
      "|Technic Pin Long with Friction Ridges Lengthwise            |Black            |False  |61      |2        |\n",
      "|Brick 1 x 2                                                 |Red              |False  |56      |2        |\n",
      "|Technic Axle 2 Notched                                      |Red              |False  |56      |1        |\n",
      "|Technic Axle 3                                              |Light Bluish Gray|False  |56      |1        |\n",
      "|Brick 1 x 2                                                 |Yellow           |False  |53      |3        |\n",
      "|Technic Bush                                                |Light Bluish Gray|False  |52      |1        |\n",
      "|Technic Axle 2 Notched                                      |Black            |False  |51      |2        |\n",
      "|Brick 2 x 2                                                 |Red              |False  |50      |1        |\n",
      "|Plate 1 x 2                                                 |Black            |False  |50      |1        |\n",
      "|Brick 2 x 2                                                 |White            |False  |48      |2        |\n",
      "|Brick 1 x 2                                                 |Blue             |False  |48      |4        |\n",
      "|Brick 2 x 2                                                 |Blue             |False  |48      |3        |\n",
      "|Plate 1 x 2                                                 |Light Bluish Gray|False  |48      |2        |\n",
      "|Brick 2 x 2                                                 |Yellow           |False  |48      |4        |\n",
      "|Technic Bush                                                |Light Gray       |False  |48      |2        |\n",
      "|Technic Bush 1/2 Smooth with Axle Hole Semi-Reduced         |Light Bluish Gray|False  |46      |1        |\n",
      "+------------------------------------------------------------+-----------------+-------+--------+---------+\n",
      "only showing top 20 rows\n",
      "\n"
     ]
    }
   ],
   "source": [
    "column_list = ['PartsName']\n",
    "\n",
    "win_spec = Window.partitionBy([col(x) for x in column_list]).orderBy(desc('Quantity'))\n",
    "\n",
    "\n",
    "\n",
    "PartitioningPartIsFalseQty = CountingPartsColorIsTransFalse.withColumn('RowNumber',\n",
    "                                                           row_number().over(win_spec))\n",
    "\n",
    "PartitioningPartIsFalseQty.orderBy(desc('Quantity')).show(truncate=False)"
   ]
  },
  {
   "cell_type": "markdown",
   "id": "2222c9d9",
   "metadata": {},
   "source": [
    "#### Union Max and Min Values in terms of IsTrans True/False"
   ]
  },
  {
   "cell_type": "code",
   "execution_count": 169,
   "id": "9523193c",
   "metadata": {},
   "outputs": [
    {
     "name": "stdout",
     "output_type": "stream",
     "text": [
      "+---------------------------------+-----------+-------+--------+---------+\n",
      "|PartsName                        |ColorName  |IsTrans|Quantity|RowNumber|\n",
      "+---------------------------------+-----------+-------+--------+---------+\n",
      "|Plate 1 x 1                      |Trans-Clear|True   |31      |1        |\n",
      "|Plate Round 1 x 1 with Solid Stud|Trans-Clear|True   |31      |1        |\n",
      "+---------------------------------+-----------+-------+--------+---------+\n",
      "\n"
     ]
    }
   ],
   "source": [
    "PartitioningPartIsTransTrueQty.filter(PartitioningPartIsTransTrueQty['Quantity'] == \n",
    "                                PartitioningPartIsTransTrueQty.agg({'Quantity':'max'}).collect()[0][0]) \\\n",
    ".show(truncate=False)"
   ]
  },
  {
   "cell_type": "code",
   "execution_count": 170,
   "id": "9abe504a",
   "metadata": {},
   "outputs": [
    {
     "name": "stdout",
     "output_type": "stream",
     "text": [
      "+------------------------------------------------------------+---------+-------+--------+---------+\n",
      "|PartsName                                                   |ColorName|IsTrans|Quantity|RowNumber|\n",
      "+------------------------------------------------------------+---------+-------+--------+---------+\n",
      "|Technic Pin with Friction Ridges Lengthwise and Center Slots|Black    |False  |169     |1        |\n",
      "+------------------------------------------------------------+---------+-------+--------+---------+\n",
      "\n"
     ]
    }
   ],
   "source": [
    "PartitioningPartIsFalseQty.filter(PartitioningPartIsFalseQty['Quantity'] == \n",
    "                                PartitioningPartIsFalseQty.agg({'Quantity':'max'}).collect()[0][0]) \\\n",
    ".show(truncate=False)"
   ]
  },
  {
   "cell_type": "code",
   "execution_count": 171,
   "id": "e7e562ee",
   "metadata": {},
   "outputs": [
    {
     "name": "stdout",
     "output_type": "stream",
     "text": [
      "+------------------------------------------------------------+-----------+-------+--------+---------+\n",
      "|PartsName                                                   |ColorName  |IsTrans|Quantity|RowNumber|\n",
      "+------------------------------------------------------------+-----------+-------+--------+---------+\n",
      "|Plate 1 x 1                                                 |Trans-Clear|True   |31      |1        |\n",
      "|Plate Round 1 x 1 with Solid Stud                           |Trans-Clear|True   |31      |1        |\n",
      "|Technic Pin with Friction Ridges Lengthwise and Center Slots|Black      |False  |169     |1        |\n",
      "+------------------------------------------------------------+-----------+-------+--------+---------+\n",
      "\n"
     ]
    }
   ],
   "source": [
    "MaxIsTransTrue = PartitioningPartIsTransTrueQty.filter(PartitioningPartIsTransTrueQty['Quantity'] == \n",
    "                                PartitioningPartIsTransTrueQty.agg({'Quantity':'max'}).collect()[0][0])\n",
    "\n",
    "MaxIsTransFalse = PartitioningPartIsFalseQty.filter(PartitioningPartIsFalseQty['Quantity'] == \n",
    "                                PartitioningPartIsFalseQty.agg({'Quantity':'max'}).collect()[0][0])\n",
    "\n",
    "unionDFIsTransFalseTrue = MaxIsTransTrue.union(MaxIsTransFalse).show(truncate=False)"
   ]
  },
  {
   "cell_type": "markdown",
   "id": "d7e6239a",
   "metadata": {},
   "source": [
    "### Dividing DataFrame into True and False IsSpare"
   ]
  },
  {
   "cell_type": "code",
   "execution_count": 172,
   "id": "b5d94735",
   "metadata": {},
   "outputs": [
    {
     "name": "stdout",
     "output_type": "stream",
     "text": [
      "+------------------------------------------------------------+----------------+-------+--------+\n",
      "|                                                   PartsName|       ColorName|IsSpare|Quantity|\n",
      "+------------------------------------------------------------+----------------+-------+--------+\n",
      "|                   Flag 2 x 2 Square with Black Dragon Print|           Black|  False|       2|\n",
      "|                Tile Special 1 x 2 Grille with Bottom Groove|            Blue|  False|      18|\n",
      "|                                           Minifig Telescope|      Pearl Gold|  False|       7|\n",
      "|   Technic Axle Connector 2 x 3 with Ball Socket, Open Sides|           Black|  False|      13|\n",
      "|             Bionicle Armor Small Triangular with Pincer End|          Orange|  False|       1|\n",
      "|                                             Slope 33° 3 x 3|           Black|  False|      12|\n",
      "|                                          Brick 2 x 2 Corner|             Tan|  False|      20|\n",
      "|                                    Technic Rubber Belt 24mm|    Bright Green|  False|       4|\n",
      "|                       Cone 2 x 2 x 2 [Completely Open Stud]|      Pearl Gold|  False|       2|\n",
      "|                            Glass for Train Window 1 x 2 x 3|Trans-Light Blue|  False|       2|\n",
      "|    Torso Space Unitron Print / Light Gray Arms / Blue Hands|       Dark Gray|  False|       3|\n",
      "|        Tile Special 2 x 3 with 2 Clips [Thick Open O Clips]|Trans-Light Blue|  False|       4|\n",
      "|Technic Pin Connector Plate 1 x 2 x 1 2/3 [Two Holes On Top]|             Red|  False|       7|\n",
      "|            Panel 1 x 4 x 1 with Rounded Corners [Thin Wall]|Dark Bluish Gray|  False|       9|\n",
      "|                                   Wedge 8 x 3 x 2 Open Left|        Dark Tan|  False|       2|\n",
      "|                                              Technic Axle 7|      Light Gray|  False|       7|\n",
      "|                                       Wheel 31 x 15 Technic|        Dark Tan|  False|       4|\n",
      "|                                       Bracket 1 x 2 - 2 x 2|Dark Bluish Gray|  False|      18|\n",
      "|                                            Wedge 6 x 2 Left|           Green|  False|       2|\n",
      "|           Legs and Hips with Yellow Reflective Stripe Print|           Black|  False|       4|\n",
      "+------------------------------------------------------------+----------------+-------+--------+\n",
      "only showing top 20 rows\n",
      "\n"
     ]
    }
   ],
   "source": [
    "CountingPartsColorIsSpare=  dfFinalLegoInventoryParts.groupBy('PartsName',\n",
    "                                 'ColorName',\n",
    "                                 'IsSpare').count()\n",
    "\n",
    "CountingPartsColorIsSpare = CountingPartsColorIsSpare.select(col('PartsName'),\n",
    "                                col('ColorName'),\n",
    "                                col('IsSpare'),\n",
    "                                col('count').alias('Quantity'))\n",
    "\n",
    "CountingPartsColorIsSpare.show(20,80)"
   ]
  },
  {
   "cell_type": "markdown",
   "id": "c3d76db4",
   "metadata": {},
   "source": [
    "#### True"
   ]
  },
  {
   "cell_type": "code",
   "execution_count": 173,
   "id": "6db3ff2e",
   "metadata": {},
   "outputs": [
    {
     "name": "stdout",
     "output_type": "stream",
     "text": [
      "+-----------------------------------------------------------------------------------+----------------+-------+--------+\n",
      "|PartsName                                                                          |ColorName       |IsSpare|Quantity|\n",
      "+-----------------------------------------------------------------------------------+----------------+-------+--------+\n",
      "|Hinge Brick 1 x 4 [Upper]                                                          |Red             |True   |1       |\n",
      "|Tricycle Complete Assembly with Dark Bluish Gray Chassis &amp; White Wheels        |Blue            |True   |1       |\n",
      "|Tile 1 x 2 with Groove                                                             |Red             |True   |1       |\n",
      "|Ninjago Masters of Spinjitzu Deck #1 Game Card 4 - Frakjaw - North American Version|Not Available   |True   |1       |\n",
      "|Minifig Lightsaber Hilt with Bottom Ring                                           |Black           |True   |3       |\n",
      "|Sticker for Set 7035 - (46169/4194476)                                             |Not Available   |True   |1       |\n",
      "|Plate Round 1 x 1 with Solid Stud                                                  |Chrome Silver   |True   |1       |\n",
      "|Minifig Plume Feathers with Clip                                                   |Blue            |True   |1       |\n",
      "|Sticker for Set 7779 - (56708/4297011)                                             |Not Available   |True   |1       |\n",
      "|Hose Soft Axle 19                                                                  |Black           |True   |1       |\n",
      "|Knights Kingdom II Card, Shadow Knights - 57                                       |Not Available   |True   |1       |\n",
      "|Mudguard 2 x 4 with Flared Wings                                                   |Black           |True   |1       |\n",
      "|Tile 1 x 2 with Groove                                                             |Trans-Black     |True   |1       |\n",
      "|Knights Kingdom II Card, Shadow Knights - 58                                       |Not Available   |True   |1       |\n",
      "|Tile 1 x 2 with '100' Banknote Print                                               |Green           |True   |1       |\n",
      "|Minifig Beard, Short                                                               |Dark Orange     |True   |1       |\n",
      "|Plate Special 1 x 2 with Handle on End [Closed Ends]                               |Black           |True   |1       |\n",
      "|U.S.S. Constellation Poster                                                        |Not Available   |True   |1       |\n",
      "|Minifig Key                                                                        |Dark Bluish Gray|True   |1       |\n",
      "|Sticker for Set 2964                                                               |Not Available   |True   |1       |\n",
      "+-----------------------------------------------------------------------------------+----------------+-------+--------+\n",
      "only showing top 20 rows\n",
      "\n"
     ]
    }
   ],
   "source": [
    "CountingPartsColorIsSpareTrue = CountingPartsColorIsSpare.filter(CountingPartsColorIsSpare['IsSpare'] =='True')\n",
    "\n",
    "CountingPartsColorIsSpareTrue.show(truncate=False)"
   ]
  },
  {
   "cell_type": "code",
   "execution_count": 174,
   "id": "b6538365",
   "metadata": {},
   "outputs": [
    {
     "name": "stdout",
     "output_type": "stream",
     "text": [
      "+------------------------------------------------------------+-----------------+-------+--------+---------+\n",
      "|PartsName                                                   |ColorName        |IsSpare|Quantity|RowNumber|\n",
      "+------------------------------------------------------------+-----------------+-------+--------+---------+\n",
      "|Technic Pin with Friction Ridges Lengthwise and Center Slots|Black            |True   |12      |1        |\n",
      "|Plate Round 1 x 1 with Solid Stud                           |Pearl Gold       |True   |8       |1        |\n",
      "|Plate Round 1 x 1 with Solid Stud                           |Tan              |True   |7       |2        |\n",
      "|Rubber Band Small 13mm (Square Cross Section)               |Black            |True   |7       |1        |\n",
      "|Technic Bush                                                |Light Bluish Gray|True   |7       |1        |\n",
      "|Tile 1 x 1 with Groove                                      |Dark Bluish Gray |True   |7       |1        |\n",
      "|Tile 1 x 1 with Groove                                      |White            |True   |7       |2        |\n",
      "|Tile 1 x 1 with Groove                                      |Light Bluish Gray|True   |7       |3        |\n",
      "|Flower - Small                                              |Red              |True   |6       |1        |\n",
      "|Plate 1 x 1                                                 |Light Bluish Gray|True   |6       |1        |\n",
      "|Barb Small (Helmet Horn)                                    |White            |True   |6       |1        |\n",
      "|Plate Round 1 x 1 with Solid Stud                           |Trans-Neon Orange|True   |6       |3        |\n",
      "|Plate Round 1 x 1 with Solid Stud                           |Trans-Clear      |True   |6       |4        |\n",
      "|Plate Round 1 x 1 with Solid Stud                           |Dark Bluish Gray |True   |6       |5        |\n",
      "|Plate Round 1 x 1 with Solid Stud                           |Reddish Brown    |True   |6       |6        |\n",
      "|Plate Round 1 x 1 with Solid Stud                           |Black            |True   |6       |7        |\n",
      "|Plate Round 1 x 1 with Solid Stud                           |Trans-Red        |True   |6       |8        |\n",
      "|Plate Round 1 x 1 with Solid Stud                           |Flat Silver      |True   |6       |9        |\n",
      "|Rubber Band 15mm [Square Cross Section]                     |Black            |True   |6       |1        |\n",
      "|Rubber Band Medium (Square Cross Section) Thin Cut          |Black            |True   |6       |1        |\n",
      "+------------------------------------------------------------+-----------------+-------+--------+---------+\n",
      "only showing top 20 rows\n",
      "\n"
     ]
    }
   ],
   "source": [
    "column_list = ['PartsName']\n",
    "\n",
    "win_spec = Window.partitionBy([col(x) for x in column_list]).orderBy(desc('Quantity'))\n",
    "\n",
    "\n",
    "\n",
    "PartitioningPartIsSpareTrueQty = CountingPartsColorIsSpareTrue.withColumn('RowNumber',\n",
    "                                                           row_number().over(win_spec))\n",
    "\n",
    "PartitioningPartIsSpareTrueQty.orderBy(desc('Quantity')).show(truncate=False)"
   ]
  },
  {
   "cell_type": "markdown",
   "id": "ebb47ab6",
   "metadata": {},
   "source": [
    "#### False"
   ]
  },
  {
   "cell_type": "code",
   "execution_count": 175,
   "id": "4f7bad6b",
   "metadata": {},
   "outputs": [
    {
     "name": "stdout",
     "output_type": "stream",
     "text": [
      "+------------------------------------------------------------+----------------+-------+--------+\n",
      "|PartsName                                                   |ColorName       |IsSpare|Quantity|\n",
      "+------------------------------------------------------------+----------------+-------+--------+\n",
      "|Flag 2 x 2 Square with Black Dragon Print                   |Black           |False  |2       |\n",
      "|Tile Special 1 x 2 Grille with Bottom Groove                |Blue            |False  |18      |\n",
      "|Minifig Telescope                                           |Pearl Gold      |False  |7       |\n",
      "|Technic Axle Connector 2 x 3 with Ball Socket, Open Sides   |Black           |False  |13      |\n",
      "|Bionicle Armor Small Triangular with Pincer End             |Orange          |False  |1       |\n",
      "|Slope 33° 3 x 3                                             |Black           |False  |12      |\n",
      "|Brick 2 x 2 Corner                                          |Tan             |False  |20      |\n",
      "|Technic Rubber Belt 24mm                                    |Bright Green    |False  |4       |\n",
      "|Cone 2 x 2 x 2 [Completely Open Stud]                       |Pearl Gold      |False  |2       |\n",
      "|Glass for Train Window 1 x 2 x 3                            |Trans-Light Blue|False  |2       |\n",
      "|Torso Space Unitron Print / Light Gray Arms / Blue Hands    |Dark Gray       |False  |3       |\n",
      "|Tile Special 2 x 3 with 2 Clips [Thick Open O Clips]        |Trans-Light Blue|False  |4       |\n",
      "|Technic Pin Connector Plate 1 x 2 x 1 2/3 [Two Holes On Top]|Red             |False  |7       |\n",
      "|Panel 1 x 4 x 1 with Rounded Corners [Thin Wall]            |Dark Bluish Gray|False  |9       |\n",
      "|Wedge 8 x 3 x 2 Open Left                                   |Dark Tan        |False  |2       |\n",
      "|Technic Axle 7                                              |Light Gray      |False  |7       |\n",
      "|Wheel 31 x 15 Technic                                       |Dark Tan        |False  |4       |\n",
      "|Bracket 1 x 2 - 2 x 2                                       |Dark Bluish Gray|False  |18      |\n",
      "|Wedge 6 x 2 Left                                            |Green           |False  |2       |\n",
      "|Legs and Hips with Yellow Reflective Stripe Print           |Black           |False  |4       |\n",
      "+------------------------------------------------------------+----------------+-------+--------+\n",
      "only showing top 20 rows\n",
      "\n"
     ]
    }
   ],
   "source": [
    "CountingPartsColorIsSpareFalse = CountingPartsColorIsSpare.filter(CountingPartsColorIsSpare['IsSpare'] =='False')\n",
    "CountingPartsColorIsSpareFalse.show(truncate=False)"
   ]
  },
  {
   "cell_type": "code",
   "execution_count": 176,
   "id": "6a8f70a3",
   "metadata": {},
   "outputs": [
    {
     "name": "stdout",
     "output_type": "stream",
     "text": [
      "+------------------------------------------------------------+-----------------+-------+--------+---------+\n",
      "|PartsName                                                   |ColorName        |IsSpare|Quantity|RowNumber|\n",
      "+------------------------------------------------------------+-----------------+-------+--------+---------+\n",
      "|Technic Pin with Friction Ridges Lengthwise and Center Slots|Black            |False  |157     |1        |\n",
      "|Technic Pin Long with Friction Ridges Lengthwise            |Blue             |False  |85      |1        |\n",
      "|Technic Axle Pin with Friction Ridges Lengthwise            |Blue             |False  |74      |1        |\n",
      "|Brick 1 x 2                                                 |White            |False  |62      |1        |\n",
      "|Technic Pin Long with Friction Ridges Lengthwise            |Black            |False  |58      |2        |\n",
      "|Technic Axle 2 Notched                                      |Red              |False  |55      |1        |\n",
      "|Brick 1 x 2                                                 |Red              |False  |54      |2        |\n",
      "|Technic Axle 3                                              |Light Bluish Gray|False  |54      |1        |\n",
      "|Brick 1 x 2                                                 |Yellow           |False  |52      |3        |\n",
      "|Brick 2 x 2                                                 |Red              |False  |49      |1        |\n",
      "|Brick 1 x 2                                                 |Blue             |False  |48      |4        |\n",
      "|Brick 2 x 2                                                 |White            |False  |48      |2        |\n",
      "|Plate 1 x 2                                                 |Black            |False  |48      |1        |\n",
      "|Technic Axle 2 Notched                                      |Black            |False  |48      |2        |\n",
      "|Brick 2 x 2                                                 |Yellow           |False  |47      |4        |\n",
      "|Brick 2 x 2                                                 |Blue             |False  |47      |3        |\n",
      "|Brick 2 x 4                                                 |Red              |False  |46      |1        |\n",
      "|Plate 1 x 2                                                 |Light Bluish Gray|False  |46      |2        |\n",
      "|Technic Bush                                                |Light Bluish Gray|False  |45      |1        |\n",
      "|Brick 1 x 1                                                 |White            |False  |44      |1        |\n",
      "+------------------------------------------------------------+-----------------+-------+--------+---------+\n",
      "only showing top 20 rows\n",
      "\n"
     ]
    }
   ],
   "source": [
    "column_list = ['PartsName']\n",
    "\n",
    "win_spec = Window.partitionBy([col(x) for x in column_list]).orderBy(desc('Quantity'))\n",
    "\n",
    "\n",
    "\n",
    "PartitioningPartIsSpareFalseQty = CountingPartsColorIsSpareFalse.withColumn('RowNumber',\n",
    "                                                           row_number().over(win_spec))\n",
    "\n",
    "PartitioningPartIsSpareFalseQty.orderBy(desc('Quantity')).show(truncate=False)"
   ]
  },
  {
   "cell_type": "markdown",
   "id": "f0417155",
   "metadata": {},
   "source": [
    "#### Union Max and Min Values in terms of IsTrans True/False"
   ]
  },
  {
   "cell_type": "code",
   "execution_count": 177,
   "id": "3a6dd205",
   "metadata": {},
   "outputs": [
    {
     "name": "stdout",
     "output_type": "stream",
     "text": [
      "+------------------------------------------------------------+---------+-------+--------+---------+\n",
      "|PartsName                                                   |ColorName|IsSpare|Quantity|RowNumber|\n",
      "+------------------------------------------------------------+---------+-------+--------+---------+\n",
      "|Technic Pin with Friction Ridges Lengthwise and Center Slots|Black    |True   |12      |1        |\n",
      "|Technic Pin with Friction Ridges Lengthwise and Center Slots|Black    |False  |157     |1        |\n",
      "+------------------------------------------------------------+---------+-------+--------+---------+\n",
      "\n"
     ]
    }
   ],
   "source": [
    "MaxIsSpareTrue = PartitioningPartIsSpareTrueQty.filter(PartitioningPartIsSpareTrueQty['Quantity'] == \n",
    "                                PartitioningPartIsSpareTrueQty.agg({'Quantity':'max'}).collect()[0][0])\n",
    "\n",
    "MaxIsSpareFalse = PartitioningPartIsSpareFalseQty.filter(PartitioningPartIsSpareFalseQty['Quantity'] == \n",
    "                                PartitioningPartIsSpareFalseQty.agg({'Quantity':'max'}).collect()[0][0])\n",
    "\n",
    "unionDFIsSparseFalseTrue = MaxIsSpareTrue.union(MaxIsSpareFalse)\n",
    "\n",
    "unionDFIsSparseFalseTrue.show(truncate=False)"
   ]
  },
  {
   "cell_type": "markdown",
   "id": "c7559fcd",
   "metadata": {},
   "source": [
    "#### Loop through rows in DataFrame"
   ]
  },
  {
   "cell_type": "code",
   "execution_count": 178,
   "id": "a14e1f6d",
   "metadata": {},
   "outputs": [
    {
     "name": "stdout",
     "output_type": "stream",
     "text": [
      "Technic Pin with Friction Ridges Lengthwise and Center Slots   Color:    Black   Spare:  True   Qty:  12\n",
      "Technic Pin with Friction Ridges Lengthwise and Center Slots   Color:    Black   Spare:  False   Qty:  157\n"
     ]
    }
   ],
   "source": [
    "unionDFIsSparseFalseTrueIterateThroughRows = unionDFIsSparseFalseTrue.collect()\n",
    "\n",
    "for row in unionDFIsSparseFalseTrueIterateThroughRows:\n",
    "    print(row[\"PartsName\"],' ','Color: ',' ',row['ColorName'], ' ','Spare: ',row['IsSpare'],' ','Qty: ', row['Quantity'])"
   ]
  },
  {
   "cell_type": "markdown",
   "id": "e664e3a8",
   "metadata": {},
   "source": [
    "## dfLegoInvSetsInvPartsLeft"
   ]
  },
  {
   "cell_type": "code",
   "execution_count": 179,
   "id": "4d664f06",
   "metadata": {},
   "outputs": [
    {
     "name": "stdout",
     "output_type": "stream",
     "text": [
      "+----------+----------+----+---------+----------+----------+-----------+----------+----------+----------+\n",
      "|NameThemes|  NameSets|Year|InvSetQty| PartsName|InvPartQty|PartCatName|   IsSpare|     Color|   IsTrans|\n",
      "+----------+----------+----+---------+----------+----------+-----------+----------+----------+----------+\n",
      "|      Town|Service...|2007|        1|Not Ava...|         0| Not Ava...|Not Ava...|Not Ava...|Not Ava...|\n",
      "|   Technic|Technic...|1987|        1|LEGO TC...|         1|   Non-LEGO|     False|Not Ava...|     False|\n",
      "|Spider-Man|Spider-...|2004|        1|Not Ava...|         0| Not Ava...|Not Ava...|Not Ava...|Not Ava...|\n",
      "|Bohrok-Kal|Pahrak-Kal|2003|        1|Not Ava...|         0| Not Ava...|Not Ava...|Not Ava...|Not Ava...|\n",
      "|Monster...|The Cra...|2012|        1|Not Ava...|         0| Not Ava...|Not Ava...|Not Ava...|Not Ava...|\n",
      "|Life On...|     Rover|2001|        1|Not Ava...|         0| Not Ava...|Not Ava...|Not Ava...|Not Ava...|\n",
      "| Star Wars|Advent ...|2012|        1|Star Wa...|         1|   Non-LEGO|     False|Not Ava...|     False|\n",
      "|      City|Advent ...|2008|        1|Not Ava...|         0| Not Ava...|Not Ava...|Not Ava...|Not Ava...|\n",
      "|   Studios|     Buggy|2001|        1|Not Ava...|         0| Not Ava...|Not Ava...|Not Ava...|Not Ava...|\n",
      "|      City|Advent ...|2010|        1|Not Ava...|         0| Not Ava...|Not Ava...|Not Ava...|Not Ava...|\n",
      "|    Titans|    Krekka|2004|        1|Technic...|         2| Technic...|     False|     Black|     False|\n",
      "|   Clikits|Advent ...|2004|        1|Not Ava...|         0| Not Ava...|Not Ava...|Not Ava...|Not Ava...|\n",
      "|   Ferrari|Ferrari...|2006|        1|Not Ava...|         0| Not Ava...|Not Ava...|Not Ava...|Not Ava...|\n",
      "|  Building|Weetabi...|1976|        1|Not Ava...|         0| Not Ava...|Not Ava...|Not Ava...|Not Ava...|\n",
      "|  Series 6|      Berp|2015|        1|Not Ava...|         0| Not Ava...|Not Ava...|Not Ava...|Not Ava...|\n",
      "|The LEG...|Abraham...|2014|        1|Not Ava...|         0| Not Ava...|Not Ava...|Not Ava...|Not Ava...|\n",
      "|      City|Advent ...|2006|        1|Not Ava...|         0| Not Ava...|Not Ava...|Not Ava...|Not Ava...|\n",
      "|Supplem...|Accesso...|2004|        1|Not Ava...|         0| Not Ava...|Not Ava...|Not Ava...|Not Ava...|\n",
      "|      Gear|Lego Ro...|1981|        1|Brick 1...|         2|     Bricks|     False|     White|     False|\n",
      "|Knights...|Jayko (...|2004|        1|Headgea...|         1|   Non-LEGO|     False|Not Ava...|     False|\n",
      "+----------+----------+----+---------+----------+----------+-----------+----------+----------+----------+\n",
      "only showing top 20 rows\n",
      "\n"
     ]
    }
   ],
   "source": [
    "dfLegoInvSetsInvPartsLeft.show(20,10)"
   ]
  },
  {
   "cell_type": "markdown",
   "id": "6884e139",
   "metadata": {},
   "source": [
    "#### Calculating Themes that do not have any parts"
   ]
  },
  {
   "cell_type": "code",
   "execution_count": 180,
   "id": "458edcfb",
   "metadata": {},
   "outputs": [],
   "source": [
    "NoPartsForThemes = dfLegoInvSetsInvPartsLeft.filter(dfLegoInvSetsInvPartsLeft['InvPartQty'] == 0)"
   ]
  },
  {
   "cell_type": "code",
   "execution_count": 181,
   "id": "144216e8",
   "metadata": {},
   "outputs": [
    {
     "name": "stdout",
     "output_type": "stream",
     "text": [
      "+----------------+\n",
      "|count(PartsName)|\n",
      "+----------------+\n",
      "|            2180|\n",
      "+----------------+\n",
      "\n"
     ]
    }
   ],
   "source": [
    "NoPartsForThemes.select(count(NoPartsForThemes.PartsName)).show()"
   ]
  },
  {
   "cell_type": "markdown",
   "id": "74f79898",
   "metadata": {},
   "source": [
    "#### Max and min values of InvSetQty & InvPartQty"
   ]
  },
  {
   "cell_type": "markdown",
   "id": "9a16df3c",
   "metadata": {},
   "source": [
    "##### Max and Min of InvSetQty"
   ]
  },
  {
   "cell_type": "code",
   "execution_count": 182,
   "id": "862a4c59",
   "metadata": {},
   "outputs": [
    {
     "name": "stdout",
     "output_type": "stream",
     "text": [
      "+-----------------------------------------------------+--------------+\n",
      "|NameSets                                             |QuantityOfSets|\n",
      "+-----------------------------------------------------+--------------+\n",
      "|Minifigure Series 8 [Random Bag]                     |60            |\n",
      "|LEGO Minifigures - The LEGO Movie Series [Random Bag]|60            |\n",
      "|Minifigure Series 6 [Random Bag]                     |60            |\n",
      "|LEGO Minifigures Series 12 [Random Bag]              |60            |\n",
      "|Team GB Minifigures [Random Bag]                     |60            |\n",
      "|Minifigure Series 5 [Random Bag]                     |60            |\n",
      "|Minifigure Series 11 [Random Bag]                    |60            |\n",
      "|Minifigure Series 2 [Random Bag]                     |60            |\n",
      "|Minifigure Series 9 [Random Bag]                     |60            |\n",
      "|Minifigure Series 4 [Random Bag]                     |60            |\n",
      "|LEGO Minifigures - Series 13 [Random Bag]            |60            |\n",
      "|The Simpsons Series 2 {Random bag}                   |60            |\n",
      "|LEGO Minifigures - The Simpsons Series [Random Bag]  |60            |\n",
      "|Minifigure Series 3 [Random Bag]                     |60            |\n",
      "|Minifigure Series 7 [Random Bag]                     |60            |\n",
      "|Minifigure Series 10 [Random Bag]                    |60            |\n",
      "|Minifigure Series 1 [Random Bag]                     |60            |\n",
      "|NHL Action Set with Stickers                         |24            |\n",
      "|Lego Road Safety Kit Poster                          |22            |\n",
      "|Dacta Buildings                                      |22            |\n",
      "+-----------------------------------------------------+--------------+\n",
      "only showing top 20 rows\n",
      "\n"
     ]
    }
   ],
   "source": [
    "NameSetsQtyInvSet = dfLegoInvSetsInvPartsLeft.groupBy('NameSets').sum('InvSetQty')\n",
    "\n",
    "NameSetsQtyInvSet = NameSetsQtyInvSet.select('NameSets',\n",
    "                         col('sum(InvSetQty)').alias('QuantityOfSets')).orderBy(desc('QuantityOfSets'))\n",
    "\n",
    "\n",
    "NameSetsQtyInvSet.show(truncate=False)"
   ]
  },
  {
   "cell_type": "code",
   "execution_count": 183,
   "id": "9c65d193",
   "metadata": {},
   "outputs": [
    {
     "name": "stdout",
     "output_type": "stream",
     "text": [
      "+-----------------------------------------------------+--------------+\n",
      "|NameSets                                             |QuantityOfSets|\n",
      "+-----------------------------------------------------+--------------+\n",
      "|Minifigure Series 5 [Random Bag]                     |60            |\n",
      "|Minifigure Series 2 [Random Bag]                     |60            |\n",
      "|Minifigure Series 8 [Random Bag]                     |60            |\n",
      "|Minifigure Series 6 [Random Bag]                     |60            |\n",
      "|Minifigure Series 4 [Random Bag]                     |60            |\n",
      "|LEGO Minifigures - Series 13 [Random Bag]            |60            |\n",
      "|LEGO Minifigures Series 12 [Random Bag]              |60            |\n",
      "|Team GB Minifigures [Random Bag]                     |60            |\n",
      "|Minifigure Series 11 [Random Bag]                    |60            |\n",
      "|Minifigure Series 9 [Random Bag]                     |60            |\n",
      "|LEGO Minifigures - The Simpsons Series [Random Bag]  |60            |\n",
      "|Minifigure Series 3 [Random Bag]                     |60            |\n",
      "|Minifigure Series 7 [Random Bag]                     |60            |\n",
      "|Minifigure Series 10 [Random Bag]                    |60            |\n",
      "|The Simpsons Series 2 {Random bag}                   |60            |\n",
      "|LEGO Minifigures - The LEGO Movie Series [Random Bag]|60            |\n",
      "|Minifigure Series 1 [Random Bag]                     |60            |\n",
      "+-----------------------------------------------------+--------------+\n",
      "\n"
     ]
    }
   ],
   "source": [
    "MaxNameSetsQtyInvSet = NameSetsQtyInvSet.filter(NameSetsQtyInvSet['QuantityOfSets'] == \n",
    "                                NameSetsQtyInvSet.agg({'QuantityOfSets':'max'}).collect()[0][0])\n",
    "MaxNameSetsQtyInvSet.show(truncate=False)\n"
   ]
  },
  {
   "cell_type": "code",
   "execution_count": 184,
   "id": "2183bcd9",
   "metadata": {},
   "outputs": [
    {
     "name": "stdout",
     "output_type": "stream",
     "text": [
      "+-----------------------------------------------------------------------+--------------+\n",
      "|NameSets                                                               |QuantityOfSets|\n",
      "+-----------------------------------------------------------------------+--------------+\n",
      "|Divers Jet Ski                                                         |1             |\n",
      "|Advent Calendar 2012, Friends (Day 6) - Christina, Red Christmas Outfit|1             |\n",
      "|Star Wars #4 - Battle Droid Minifig Pack                               |1             |\n",
      "|Pizza Delivery Man                                                     |1             |\n",
      "|Toa Undersea Attack                                                    |1             |\n",
      "|Advent Calendar 2010 City (Day 14) Woman with Bread                    |1             |\n",
      "|T-Rex                                                                  |1             |\n",
      "|Stormer 2.0                                                            |1             |\n",
      "|Advent Calendar 2012, Star Wars (Day 20) - General Grievous Starfighter|1             |\n",
      "|Sprint Racer                                                           |1             |\n",
      "|Sheriff's Showdown                                                     |1             |\n",
      "|Hans Moleman                                                           |1             |\n",
      "|Advent Calendar 2011 Star Wars (Day 23) - Christmas Tree               |1             |\n",
      "|Super Model Building Instruction                                       |1             |\n",
      "|Spider-Man Action Pack                                                 |1             |\n",
      "|Vezon & Fenrakk                                                        |1             |\n",
      "|Light Hover                                                            |1             |\n",
      "|Fire Response SUV                                                      |1             |\n",
      "|Birthday Pack Heart                                                    |1             |\n",
      "|Advent Calendar 2002 Creator (Day  7) Girl                             |1             |\n",
      "+-----------------------------------------------------------------------+--------------+\n",
      "only showing top 20 rows\n",
      "\n"
     ]
    }
   ],
   "source": [
    "MinNameSetsQtyInvSet = NameSetsQtyInvSet.filter(NameSetsQtyInvSet['QuantityOfSets'] == \n",
    "                                NameSetsQtyInvSet.agg({'QuantityOfSets':'min'}).collect()[0][0])\n",
    "MinNameSetsQtyInvSet.show(truncate=False)\n"
   ]
  },
  {
   "cell_type": "markdown",
   "id": "a45d3f8b",
   "metadata": {},
   "source": [
    "##### Max and Min of InvPartQty"
   ]
  },
  {
   "cell_type": "code",
   "execution_count": 185,
   "id": "7e4e323a",
   "metadata": {},
   "outputs": [
    {
     "name": "stdout",
     "output_type": "stream",
     "text": [
      "+----------------------------------------------------------------------------------------------+-----------------+\n",
      "|PartsName                                                                                     |QuantityOfInvPart|\n",
      "+----------------------------------------------------------------------------------------------+-----------------+\n",
      "|Fence 1 x 4 x 1                                                                               |100              |\n",
      "|Brick Round 1 x 1 Solid Stud                                                                  |96               |\n",
      "|Pine Tree - Large 4 x 4 x 6 2/3                                                               |52               |\n",
      "|Brick 2 x 4                                                                                   |48               |\n",
      "|Road Sign Round                                                                               |32               |\n",
      "|Train Track  9V Curved                                                                        |32               |\n",
      "|Road Sign Triangle                                                                            |32               |\n",
      "|Plate 1 x 3                                                                                   |32               |\n",
      "|Minifig Knitted Cap                                                                           |24               |\n",
      "|Star Wars 2011 Advent Calendar Poster                                                         |24               |\n",
      "|Plate 2 x 2                                                                                   |24               |\n",
      "|Torso Mechanic Blue Overalls, Tools in Pocket Print / Medium Blue Arms / Yellow Hands         |24               |\n",
      "|Star Wars 2012 Advent Calendar Poster                                                         |24               |\n",
      "|Plate 1 x 8                                                                                   |24               |\n",
      "|Minifig Head Brown Eyebrows, Thin Grin, Black Eyes with White Pupils Print [Blocked Open Stud]|24               |\n",
      "|Legs and Hips [Complete Assembly]                                                             |24               |\n",
      "|Bionicle Shoulder Armour                                                                      |24               |\n",
      "|Baseplate Road 32 x 32 9-Stud Crossroads                                                      |16               |\n",
      "|Baseplate Road 32 x 32 9-Stud Curve                                                           |16               |\n",
      "|Plate 1 x 1                                                                                   |16               |\n",
      "+----------------------------------------------------------------------------------------------+-----------------+\n",
      "only showing top 20 rows\n",
      "\n"
     ]
    }
   ],
   "source": [
    "\n",
    "PartsNameInvPartQty = dfLegoInvSetsInvPartsLeft.groupBy('PartsName').sum('InvPartQty')\n",
    "PartsNameInvPartQty = PartsNameInvPartQty.select('PartsName', \n",
    "                           col('sum(InvPartQty)').alias('QuantityOfInvPart')).orderBy(desc('QuantityOfInvPart')) \\\n",
    "                        .where(PartsNameInvPartQty['sum(InvPartQty)'] != 0)\n",
    "\n",
    "\n",
    "PartsNameInvPartQty.show(truncate=False)"
   ]
  },
  {
   "cell_type": "code",
   "execution_count": 186,
   "id": "014c97e9",
   "metadata": {},
   "outputs": [
    {
     "name": "stdout",
     "output_type": "stream",
     "text": [
      "+---------------+-----------------+\n",
      "|      PartsName|QuantityOfInvPart|\n",
      "+---------------+-----------------+\n",
      "|Fence 1 x 4 x 1|              100|\n",
      "+---------------+-----------------+\n",
      "\n"
     ]
    }
   ],
   "source": [
    "MaxPartsNameInvPartQty = PartsNameInvPartQty.filter(PartsNameInvPartQty['QuantityOfInvPart'] ==\n",
    "                                                   PartsNameInvPartQty.agg({'QuantityOfInvPart':'max'}).collect()[0][0])\n",
    "\n",
    "MaxPartsNameInvPartQty.show()"
   ]
  },
  {
   "cell_type": "code",
   "execution_count": 187,
   "id": "b0bf7e47",
   "metadata": {
    "scrolled": false
   },
   "outputs": [
    {
     "name": "stdout",
     "output_type": "stream",
     "text": [
      "+---------------------------------------------------------------------------------------+-----------------+\n",
      "|PartsName                                                                              |QuantityOfInvPart|\n",
      "+---------------------------------------------------------------------------------------+-----------------+\n",
      "|5573 LEGO Build & Play (Red Tub)                                                       |1                |\n",
      "|Gear Shield with Vladek Print                                                          |1                |\n",
      "|Ball, Inflatable Soccer Ball, Mini - Blue Triangles Print                              |1                |\n",
      "|Bionicle #13 September 2003 Unleash the Rahkshi                                        |1                |\n",
      "|Ball, Inflatable Basketball, Mini - LEGO Sports and NBA Logo Print                     |1                |\n",
      "|Sword, Scimitar                                                                        |1                |\n",
      "|Gear Sword with Vladek Print                                                           |1                |\n",
      "|Storage Case with LEGO Logo (305 x 264 x 90 mm)                                        |1                |\n",
      "|Storage Case with Molded Handle and Panel Opening, Small 'Made In Canada for Samsonite'|1                |\n",
      "|DK Brickmaster Star Wars - Battle for the Stolen Crystals - Hardcover Book ONLY        |1                |\n",
      "|Bionicle Mask Hau Nuva Poisoned - Green Forehead                                       |1                |\n",
      "+---------------------------------------------------------------------------------------+-----------------+\n",
      "\n"
     ]
    }
   ],
   "source": [
    "MinPartsNameInvPartQty = PartsNameInvPartQty.filter(PartsNameInvPartQty['QuantityOfInvPart'] ==\n",
    "                                                   PartsNameInvPartQty.agg({'QuantityOfInvPart':'min'}).collect()[0][0])\n",
    "\n",
    "MinPartsNameInvPartQty.show(truncate=False)"
   ]
  },
  {
   "cell_type": "markdown",
   "id": "13492a28",
   "metadata": {},
   "source": [
    "#### Calculating InvParts in NameSets"
   ]
  },
  {
   "cell_type": "code",
   "execution_count": 188,
   "id": "b9360c1a",
   "metadata": {},
   "outputs": [],
   "source": [
    "SetsPartsInv = dfLegoInvSetsInvPartsLeft.select('NameSets','InvPartQty')"
   ]
  },
  {
   "cell_type": "code",
   "execution_count": 189,
   "id": "6b857daa",
   "metadata": {},
   "outputs": [
    {
     "name": "stdout",
     "output_type": "stream",
     "text": [
      "+-----------------------------------------------------------+-------------------+\n",
      "|NameSets                                                   |SumOfInvPartsInSets|\n",
      "+-----------------------------------------------------------+-------------------+\n",
      "|Dacta Buildings                                            |136                |\n",
      "|Lego Road Safety Kit Poster                                |136                |\n",
      "|Set K1062 Activity Booklet                                 |136                |\n",
      "|{Town Vehicles}                                            |136                |\n",
      "|Holiday Train                                              |29                 |\n",
      "|Transformer and Speed Regulator                            |29                 |\n",
      "|Hockey Game Set                                            |22                 |\n",
      "|NHL Action Set with Stickers                               |22                 |\n",
      "|Interface Card/Cable for Apple IIe and IIGS                |13                 |\n",
      "|LEGO Interface                                             |13                 |\n",
      "|Technic Control Center                                     |13                 |\n",
      "|Droids Battle Pack                                         |10                 |\n",
      "|Hailfire Droid & Spider Droid                              |10                 |\n",
      "|Reidak                                                     |8                  |\n",
      "|Thok                                                       |8                  |\n",
      "|Vezok                                                      |8                  |\n",
      "|Advent Calendar 2007 City (Day 22) Policeman with Megaphone|4                  |\n",
      "|Advent Calendar 2007 City (Day  8) Luggage Cart            |4                  |\n",
      "|Advent Calendar 2007 City (Day 23) Computer Desk and Chair |4                  |\n",
      "|Advent Calendar 2007 City (Day 10) Dock Worker             |4                  |\n",
      "+-----------------------------------------------------------+-------------------+\n",
      "only showing top 20 rows\n",
      "\n"
     ]
    }
   ],
   "source": [
    "partition = Window.partitionBy('NameSets')\n",
    "\n",
    "SumOfInvPartInSets = SetsPartsInv.withColumn('SumOfInvPartsInSets',\n",
    "                                     sum(col(\"InvPartQty\")).over(partition)).orderBy(desc('SumOfInvPartsInSets'))\n",
    "\n",
    "SumOfInvPartInSets = SumOfInvPartInSets.select('NameSets','SumOfInvPartsInSets').distinct().orderBy(desc('SumOfInvPartsInSets'))\n",
    "\n",
    "SumOfInvPartInSets = SumOfInvPartInSets.where(SumOfInvPartInSets['SumOfInvPartsInSets'] != 0)\n",
    "\n",
    "SumOfInvPartInSets.show(truncate=False)"
   ]
  },
  {
   "cell_type": "markdown",
   "id": "7407d2f4",
   "metadata": {},
   "source": [
    "#### Creating ranking of InvPartsInSets"
   ]
  },
  {
   "cell_type": "code",
   "execution_count": 190,
   "id": "9f3c62bb",
   "metadata": {},
   "outputs": [
    {
     "name": "stdout",
     "output_type": "stream",
     "text": [
      "+-----------------------------------------------------------+-------------------+-----------------------+\n",
      "|NameSets                                                   |SumOfInvPartsInSets|RankingOfInvPartsInSets|\n",
      "+-----------------------------------------------------------+-------------------+-----------------------+\n",
      "|Dacta Buildings                                            |136                |High Amount of Parts   |\n",
      "|Lego Road Safety Kit Poster                                |136                |High Amount of Parts   |\n",
      "|Set K1062 Activity Booklet                                 |136                |High Amount of Parts   |\n",
      "|{Town Vehicles}                                            |136                |High Amount of Parts   |\n",
      "|Holiday Train                                              |29                 |High Amount of Parts   |\n",
      "|Transformer and Speed Regulator                            |29                 |High Amount of Parts   |\n",
      "|Hockey Game Set                                            |22                 |High Amount of Parts   |\n",
      "|NHL Action Set with Stickers                               |22                 |High Amount of Parts   |\n",
      "|Interface Card/Cable for Apple IIe and IIGS                |13                 |Low Amount of Parts    |\n",
      "|LEGO Interface                                             |13                 |Low Amount of Parts    |\n",
      "|Technic Control Center                                     |13                 |Low Amount of Parts    |\n",
      "|Droids Battle Pack                                         |10                 |Low Amount of Parts    |\n",
      "|Hailfire Droid & Spider Droid                              |10                 |Low Amount of Parts    |\n",
      "|Reidak                                                     |8                  |Low Amount of Parts    |\n",
      "|Thok                                                       |8                  |Low Amount of Parts    |\n",
      "|Vezok                                                      |8                  |Low Amount of Parts    |\n",
      "|Advent Calendar 2007 City (Day 22) Policeman with Megaphone|4                  |Low Amount of Parts    |\n",
      "|Advent Calendar 2007 City (Day  8) Luggage Cart            |4                  |Low Amount of Parts    |\n",
      "|Advent Calendar 2007 City (Day 23) Computer Desk and Chair |4                  |Low Amount of Parts    |\n",
      "|Advent Calendar 2007 City (Day 10) Dock Worker             |4                  |Low Amount of Parts    |\n",
      "+-----------------------------------------------------------+-------------------+-----------------------+\n",
      "only showing top 20 rows\n",
      "\n"
     ]
    }
   ],
   "source": [
    "SumOfInvPartInSets.withColumn('RankingOfInvPartsInSets', \n",
    "                             when(col('SumOfInvPartsInSets') >= 20,\n",
    "                              lit('High Amount of Parts')).otherwise(lit(\"Low Amount of Parts\"))).show(truncate=False)"
   ]
  },
  {
   "cell_type": "code",
   "execution_count": 191,
   "id": "3393bcac",
   "metadata": {},
   "outputs": [],
   "source": [
    "CountingSumOfInvPartInSets = SumOfInvPartInSets.withColumn('RankingOfInvPartsInSets', \n",
    "                             when(col('SumOfInvPartsInSets') >= 20,\n",
    "                              lit('High Amount of Parts')).otherwise(lit(\"Low Amount of Parts\")))"
   ]
  },
  {
   "cell_type": "markdown",
   "id": "9e05d212",
   "metadata": {},
   "source": [
    "#### Quantity of High Amount of parts"
   ]
  },
  {
   "cell_type": "code",
   "execution_count": 192,
   "id": "59298ed5",
   "metadata": {},
   "outputs": [
    {
     "data": {
      "text/plain": [
       "8"
      ]
     },
     "execution_count": 192,
     "metadata": {},
     "output_type": "execute_result"
    }
   ],
   "source": [
    "CountingSumOfInvPartInSets.filter(CountingSumOfInvPartInSets['RankingOfInvPartsInSets'] == 'High Amount of Parts').count()"
   ]
  },
  {
   "cell_type": "markdown",
   "id": "deeefa3e",
   "metadata": {},
   "source": [
    "#### Iterate through rows"
   ]
  },
  {
   "cell_type": "code",
   "execution_count": 193,
   "id": "cb560c27",
   "metadata": {},
   "outputs": [
    {
     "name": "stdout",
     "output_type": "stream",
     "text": [
      "NameSets:    Dacta Buildings    Sum Of Inventory Parts In Sets:  136\n",
      "NameSets:    Lego Road Safety Kit Poster    Sum Of Inventory Parts In Sets:  136\n",
      "NameSets:    Set K1062 Activity Booklet    Sum Of Inventory Parts In Sets:  136\n",
      "NameSets:    {Town Vehicles}    Sum Of Inventory Parts In Sets:  136\n",
      "NameSets:    Holiday Train    Sum Of Inventory Parts In Sets:  29\n",
      "NameSets:    Transformer and Speed Regulator    Sum Of Inventory Parts In Sets:  29\n",
      "NameSets:    Hockey Game Set    Sum Of Inventory Parts In Sets:  22\n",
      "NameSets:    NHL Action Set with Stickers    Sum Of Inventory Parts In Sets:  22\n",
      "NameSets:    Interface Card/Cable for Apple IIe and IIGS    Sum Of Inventory Parts In Sets:  13\n",
      "NameSets:    LEGO Interface    Sum Of Inventory Parts In Sets:  13\n"
     ]
    }
   ],
   "source": [
    "IterateThroughRowsSumOfInvPartInSets = SumOfInvPartInSets.limit(10)\n",
    "data_itr = IterateThroughRowsSumOfInvPartInSets.rdd.toLocalIterator()\n",
    "\n",
    "for row in data_itr:\n",
    "    print('NameSets: ', ' ',row['NameSets'],' ', ' Sum Of Inventory Parts In Sets: ', row['SumOfInvPartsInSets'])"
   ]
  },
  {
   "cell_type": "markdown",
   "id": "9b98d70a",
   "metadata": {},
   "source": [
    "#### Creating createOrReplaceTempView() based on a IterateThroughRowsSumOfInvPartInSets DataFrame"
   ]
  },
  {
   "cell_type": "code",
   "execution_count": 194,
   "id": "4347a9db",
   "metadata": {},
   "outputs": [],
   "source": [
    "IterateThroughRowsSumOfInvPartInSets.createOrReplaceTempView('NameSetsSumOfInvPartsInSets')"
   ]
  },
  {
   "cell_type": "code",
   "execution_count": 195,
   "id": "ce28955a",
   "metadata": {},
   "outputs": [
    {
     "name": "stdout",
     "output_type": "stream",
     "text": [
      "+-------------------------------------------+-------------------+\n",
      "|NameSets                                   |SumOfInvPartsInSets|\n",
      "+-------------------------------------------+-------------------+\n",
      "|Dacta Buildings                            |136                |\n",
      "|Lego Road Safety Kit Poster                |136                |\n",
      "|Set K1062 Activity Booklet                 |136                |\n",
      "|{Town Vehicles}                            |136                |\n",
      "|Holiday Train                              |29                 |\n",
      "|Transformer and Speed Regulator            |29                 |\n",
      "|Hockey Game Set                            |22                 |\n",
      "|NHL Action Set with Stickers               |22                 |\n",
      "|Interface Card/Cable for Apple IIe and IIGS|13                 |\n",
      "|LEGO Interface                             |13                 |\n",
      "+-------------------------------------------+-------------------+\n",
      "\n"
     ]
    }
   ],
   "source": [
    "spark.sql('SELECT * FROM NameSetsSumOfInvPartsInSets').show(truncate=False)"
   ]
  },
  {
   "cell_type": "markdown",
   "id": "559affc1",
   "metadata": {},
   "source": [
    "#### Quantity of NameSets and their Parts regarding quantity of sets and parts"
   ]
  },
  {
   "cell_type": "code",
   "execution_count": 196,
   "id": "709ba0ef",
   "metadata": {
    "scrolled": true
   },
   "outputs": [
    {
     "name": "stdout",
     "output_type": "stream",
     "text": [
      "+----------------------------------------+---------+----------------------------------------+----------+-----+\n",
      "|                                NameSets|InvSetQty|                               PartsName|InvPartQty|count|\n",
      "+----------------------------------------+---------+----------------------------------------+----------+-----+\n",
      "|                         Dacta Buildings|        1|                             Plate 1 x 8|         6|    1|\n",
      "|Advent Calendar 2007 City (Day 10) Do...|        1|Torso Mechanic Blue Overalls, Tools i...|         1|    1|\n",
      "|Interface Card/Cable for Apple IIe an...|        1|            LEGO TC logo Reference Guide|         1|    1|\n",
      "|                           Holiday Train|        1|        Train Motor 9V Complete Assembly|         1|    1|\n",
      "|              Set K1062 Activity Booklet|        1|                            Plate 4 x 10|         1|    1|\n",
      "|                                   Hahli|        1|                   Bionicle Mask Avohkii|         1|    1|\n",
      "|Interface Card/Cable for Apple IIe an...|        1|      LEGO TC logo - Teaching the Turtle|         2|    1|\n",
      "|             Lego Road Safety Kit Poster|        1|                         Road Sign Round|         8|    1|\n",
      "|             Lego Road Safety Kit Poster|        1|                           Minifig Lance|         2|    1|\n",
      "|Advent Calendar 2012, Star Wars (Day ...|        1|   Star Wars 2012 Advent Calendar Poster|         1|    1|\n",
      "|             Lego Road Safety Kit Poster|        1|                      Road Sign Triangle|         8|    1|\n",
      "|                             Lord Vladek|        1|                       Lord Vladek Sword|         1|    1|\n",
      "|             Lego Road Safety Kit Poster|        1|                   Sticker for Set K1062|         1|    1|\n",
      "|                                  Reidak|        1|Bionicle Piraka Spine Flexible with M...|         1|    1|\n",
      "|                                Robo Pod|        1|   X-Pod Play Off Game Cards - Set of 50|         1|    1|\n",
      "|                  Technic Control Center|        1|      LEGO TC logo Quick Reference Guide|         1|    1|\n",
      "|Advent Calendar 2007 City (Day  2) Fi...|        1|                     Minifig Knitted Cap|         1|    1|\n",
      "|Advent Calendar 2012, Star Wars (Day ...|        1|   Star Wars 2012 Advent Calendar Poster|         1|    1|\n",
      "|                                Bungalow|        1|            Plant - Granulated Pine Tree|         3|    1|\n",
      "|Advent Calendar 2012, Star Wars (Day ...|        1|   Star Wars 2012 Advent Calendar Poster|         1|    1|\n",
      "+----------------------------------------+---------+----------------------------------------+----------+-----+\n",
      "only showing top 20 rows\n",
      "\n"
     ]
    }
   ],
   "source": [
    "QtyOfAll  = dfLegoInvSetsInvPartsLeft.groupBy('NameSets','InvSetQty','PartsName','InvPartQty').count()\n",
    "\n",
    "QtyOfAll.orderBy(asc('InvSetQty')).where(QtyOfAll['InvPartQty'] != 0).show(20,40)"
   ]
  },
  {
   "cell_type": "code",
   "execution_count": 197,
   "id": "f6d6fcba",
   "metadata": {},
   "outputs": [
    {
     "name": "stdout",
     "output_type": "stream",
     "text": [
      "+----------------------------------------+---------+----------------------------------------+----------+-----+\n",
      "|                                NameSets|InvSetQty|                               PartsName|InvPartQty|count|\n",
      "+----------------------------------------+---------+----------------------------------------+----------+-----+\n",
      "|                       World Team Player|        2|Sticker for Set 880002-2 - (72831/411...|         1|    1|\n",
      "|                          English Player|        2|Sticker for Set 880002-3 - (22094/412...|         1|    1|\n",
      "|            NHL Action Set with Stickers|        2|           Sports Hockey Chest Protector|         2|    1|\n",
      "|            NHL Action Set with Stickers|        2|Sticker for Set 10127 - Sheet 1, Prim...|         2|    1|\n",
      "|            NHL Action Set with Stickers|        2|Sticker for Set 10127 - Sheet 2, Prim...|         1|    1|\n",
      "|            NHL Action Set with Stickers|        2|                Bionicle Shoulder Armour|         2|    6|\n",
      "|                  German National Player|        2|Sticker for Set 880002-1 - (72951/412...|         1|    1|\n",
      "|                   Dutch National Player|        2|Sticker for Set 880002-2 - (72831/411...|         1|    1|\n",
      "|            NHL Action Set with Stickers|        2|       Sports Hockey Action Rink Playmat|         1|    1|\n",
      "|            NHL Action Set with Stickers|        2|                   Sticker for Set 65182|         2|    1|\n",
      "|                       World Team Player|        2|Sticker for Set 880002-1 - (72951/412...|         1|    1|\n",
      "|                       World Team Player|        2|Sticker for Set 880002-3 - (22094/412...|         1|    1|\n",
      "|            NHL Action Set with Stickers|        2|Sticker for Set 10127 - Sheet 3, All ...|         2|    1|\n",
      "|                 Jedi Starfighter - Mini|        1|Star Wars Revenge of the Brick / LEGO...|         1|    1|\n",
      "|                           Holiday Train|        1|        Train Motor 9V Complete Assembly|         1|    1|\n",
      "|                         Dacta Buildings|        1|                   Sticker for Set K1062|         1|    1|\n",
      "|                                   Hahli|        1|                   Bionicle Mask Avohkii|         1|    1|\n",
      "|             Lego Road Safety Kit Poster|        1|                         Road Sign Round|         8|    1|\n",
      "|                      Droids Battle Pack|        1|Minifig Rangefinder for Helmet SW Clo...|         2|    1|\n",
      "|Advent Calendar 2012, Star Wars (Day ...|        1|   Star Wars 2012 Advent Calendar Poster|         1|    1|\n",
      "+----------------------------------------+---------+----------------------------------------+----------+-----+\n",
      "only showing top 20 rows\n",
      "\n"
     ]
    }
   ],
   "source": [
    "QtyOfAll.orderBy(asc('InvSetQty')).where(QtyOfAll['InvPartQty'] != 0).orderBy(desc('InvSetQty')).show(20,40)"
   ]
  },
  {
   "cell_type": "code",
   "execution_count": 198,
   "id": "552d524f",
   "metadata": {},
   "outputs": [
    {
     "name": "stdout",
     "output_type": "stream",
     "text": [
      "+-------------------------------+---------+-------------------------------+----------+-----+\n",
      "|                       NameSets|InvSetQty|                      PartsName|InvPartQty|count|\n",
      "+-------------------------------+---------+-------------------------------+----------+-----+\n",
      "|                {Town Vehicles}|        1|                Fence 1 x 4 x 1|        25|    1|\n",
      "|                Dacta Buildings|        1|                Fence 1 x 4 x 1|        25|    1|\n",
      "|    Lego Road Safety Kit Poster|        1|                Fence 1 x 4 x 1|        25|    1|\n",
      "|     Set K1062 Activity Booklet|        1|                Fence 1 x 4 x 1|        25|    1|\n",
      "|                  Holiday Train|        1|         Train Track  9V Curved|        16|    1|\n",
      "|Transformer and Speed Regulator|        1|         Train Track  9V Curved|        16|    1|\n",
      "|    Lego Road Safety Kit Poster|        1|Pine Tree - Large 4 x 4 x 6 2/3|        13|    1|\n",
      "|     Set K1062 Activity Booklet|        1|Pine Tree - Large 4 x 4 x 6 2/3|        13|    1|\n",
      "|                {Town Vehicles}|        1|Pine Tree - Large 4 x 4 x 6 2/3|        13|    1|\n",
      "|                Dacta Buildings|        1|Pine Tree - Large 4 x 4 x 6 2/3|        13|    1|\n",
      "|                Dacta Buildings|        1|                    Brick 2 x 4|        12|    1|\n",
      "|                {Town Vehicles}|        1|                    Brick 2 x 4|        12|    1|\n",
      "|     Set K1062 Activity Booklet|        1|                    Brick 2 x 4|        12|    1|\n",
      "|    Lego Road Safety Kit Poster|        1|                    Brick 2 x 4|        12|    1|\n",
      "|    Lego Road Safety Kit Poster|        1|                Road Sign Round|         8|    1|\n",
      "|    Lego Road Safety Kit Poster|        1|             Road Sign Triangle|         8|    1|\n",
      "|     Set K1062 Activity Booklet|        1|   Brick Round 1 x 1 Solid Stud|         8|    3|\n",
      "|                {Town Vehicles}|        1|   Brick Round 1 x 1 Solid Stud|         8|    3|\n",
      "|     Set K1062 Activity Booklet|        1|                Road Sign Round|         8|    1|\n",
      "|                Dacta Buildings|        1|             Road Sign Triangle|         8|    1|\n",
      "+-------------------------------+---------+-------------------------------+----------+-----+\n",
      "only showing top 20 rows\n",
      "\n"
     ]
    }
   ],
   "source": [
    "QtyOfAll.orderBy(asc('InvSetQty')).where(QtyOfAll['InvPartQty'] != 0).orderBy(desc('InvPartQty')).show(20,40)"
   ]
  },
  {
   "cell_type": "markdown",
   "id": "8db3f3d5",
   "metadata": {},
   "source": [
    "#### Loading data to a parquet file"
   ]
  },
  {
   "cell_type": "code",
   "execution_count": 199,
   "id": "634d0329",
   "metadata": {},
   "outputs": [],
   "source": [
    "dfFinalLego.coalesce(1).write.mode('overwrite').parquet(\"dfFinalLego.parquet\")\n",
    "\n"
   ]
  },
  {
   "cell_type": "code",
   "execution_count": 200,
   "id": "332fa4d5",
   "metadata": {},
   "outputs": [],
   "source": [
    "dfFinalLegoInvSetTheme.coalesce(1).write.mode('overwrite').parquet(\"dfFinalLegoInvSetTheme.parquet\")"
   ]
  },
  {
   "cell_type": "code",
   "execution_count": 201,
   "id": "f1c41110",
   "metadata": {},
   "outputs": [],
   "source": [
    "dfFinalLegoInventoryParts.coalesce(1).write.mode('overwrite').parquet(\"dfFinalLegoInventoryParts.parquet\")"
   ]
  },
  {
   "cell_type": "code",
   "execution_count": 202,
   "id": "a15d667f",
   "metadata": {},
   "outputs": [],
   "source": [
    "dfLegoInvSetsInvPartsLeft.coalesce(1).write.mode('overwrite').parquet(\"dfLegoInvSetsInvPartsLeft.parquet\")"
   ]
  }
 ],
 "metadata": {
  "kernelspec": {
   "display_name": "Python 3 (ipykernel)",
   "language": "python",
   "name": "python3"
  },
  "language_info": {
   "codemirror_mode": {
    "name": "ipython",
    "version": 3
   },
   "file_extension": ".py",
   "mimetype": "text/x-python",
   "name": "python",
   "nbconvert_exporter": "python",
   "pygments_lexer": "ipython3",
   "version": "3.9.7"
  }
 },
 "nbformat": 4,
 "nbformat_minor": 5
}
