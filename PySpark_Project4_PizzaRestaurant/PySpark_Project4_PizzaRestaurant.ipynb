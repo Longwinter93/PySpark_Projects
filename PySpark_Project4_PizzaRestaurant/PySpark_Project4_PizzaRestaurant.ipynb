{
 "cells": [
  {
   "cell_type": "markdown",
   "id": "b023cdbd",
   "metadata": {},
   "source": [
    "# Importing libraries"
   ]
  },
  {
   "cell_type": "code",
   "execution_count": 1,
   "id": "ab2baf11",
   "metadata": {},
   "outputs": [],
   "source": [
    "import os\n",
    "import sys\n",
    "import glob\n",
    "os.environ[\"PYARROW_IGNORE_TIMEZONE\"] = \"1\"\n",
    "os.environ['PYSPARK_PYTHON'] = sys.executable\n",
    "os.environ['PYSPARK_DRIVER_PYTHON'] = sys.executable"
   ]
  },
  {
   "cell_type": "code",
   "execution_count": 2,
   "id": "63ff700b",
   "metadata": {},
   "outputs": [],
   "source": [
    "from pyspark.sql import SparkSession,functions, Window\n",
    "from pyspark.sql.functions import *\n",
    "from pyspark.sql.types import *\n",
    "import pyspark.pandas as ps\n"
   ]
  },
  {
   "cell_type": "markdown",
   "id": "f3edf6de",
   "metadata": {},
   "source": [
    "# Starting Spark Session and Creating a Spark Session Called Pizza"
   ]
  },
  {
   "cell_type": "code",
   "execution_count": 3,
   "id": "0b247c07",
   "metadata": {},
   "outputs": [],
   "source": [
    "spark = SparkSession.builder \\\n",
    "        .master(\"local[1]\") \\\n",
    "        .appName(\"PizzaRestaurant\") \\\n",
    "        .config(\"spark.some.config.option\", \"config-value\") \\\n",
    "        .enableHiveSupport() \\\n",
    "        .getOrCreate()"
   ]
  },
  {
   "cell_type": "code",
   "execution_count": 4,
   "id": "79e9c2cb",
   "metadata": {},
   "outputs": [
    {
     "data": {
      "text/html": [
       "\n",
       "            <div>\n",
       "                <p><b>SparkSession - hive</b></p>\n",
       "                \n",
       "        <div>\n",
       "            <p><b>SparkContext</b></p>\n",
       "\n",
       "            <p><a href=\"http://192.168.0.13:4040\">Spark UI</a></p>\n",
       "\n",
       "            <dl>\n",
       "              <dt>Version</dt>\n",
       "                <dd><code>v3.4.0</code></dd>\n",
       "              <dt>Master</dt>\n",
       "                <dd><code>local[1]</code></dd>\n",
       "              <dt>AppName</dt>\n",
       "                <dd><code>PizzaRestaurant</code></dd>\n",
       "            </dl>\n",
       "        </div>\n",
       "        \n",
       "            </div>\n",
       "        "
      ],
      "text/plain": [
       "<pyspark.sql.session.SparkSession at 0x1f2b699d8a0>"
      ]
     },
     "execution_count": 4,
     "metadata": {},
     "output_type": "execute_result"
    }
   ],
   "source": [
    "spark"
   ]
  },
  {
   "cell_type": "markdown",
   "id": "eaafe855",
   "metadata": {},
   "source": [
    "# Browsing .csv PizzaRestaurant files"
   ]
  },
  {
   "cell_type": "code",
   "execution_count": 5,
   "id": "1e6fa78f",
   "metadata": {},
   "outputs": [
    {
     "name": "stdout",
     "output_type": "stream",
     "text": [
      "The file C:\\My commercial projects\\PySpark\\Project 4 PySpark\\Pizza Place Sales exists\n",
      "\n",
      "File names: C:\\My commercial projects\\PySpark\\Project 4 PySpark\\Pizza Place Sales\\orders.csv\n",
      "\n",
      "File names: C:\\My commercial projects\\PySpark\\Project 4 PySpark\\Pizza Place Sales\\order_details.csv\n",
      "\n",
      "File names: C:\\My commercial projects\\PySpark\\Project 4 PySpark\\Pizza Place Sales\\pizzas.csv\n",
      "\n",
      "File names: C:\\My commercial projects\\PySpark\\Project 4 PySpark\\Pizza Place Sales\\pizza_types.csv\n"
     ]
    }
   ],
   "source": [
    "path = r\"C:\\My commercial projects\\PySpark\\Project 4 PySpark\\Pizza Place Sales\"\n",
    "\n",
    "\n",
    "if os.path.exists(path):\n",
    "    print(f'The file {path} exists')\n",
    "else: \n",
    "    print(f\"The file {path} does not exist \")\n",
    "\n",
    "filenames = glob.glob(path + '\\*.csv')\n",
    "\n",
    "for file in filenames:\n",
    "    print(\"\\nFile names:\", file)\n"
   ]
  },
  {
   "cell_type": "markdown",
   "id": "e4097c21",
   "metadata": {},
   "source": [
    "# Reading csv files into Spark DataFrames"
   ]
  },
  {
   "cell_type": "code",
   "execution_count": 6,
   "id": "a1ddb85f",
   "metadata": {},
   "outputs": [],
   "source": [
    "PathOrders = 'C:\\My commercial projects\\PySpark\\Project 4 PySpark\\Pizza Place Sales\\orders.csv'\n",
    "PathOrderDetails = 'C:\\My commercial projects\\PySpark\\Project 4 PySpark\\Pizza Place Sales\\order_details.csv'\n",
    "PathPizzas = 'C:\\My commercial projects\\PySpark\\Project 4 PySpark\\Pizza Place Sales\\pizzas.csv'\n",
    "PathPizzaTypes = 'C:\\My commercial projects\\PySpark\\Project 4 PySpark\\Pizza Place Sales\\pizza_types.csv'\n",
    "\n",
    "dfPizzaOrders = spark.read.csv(PathOrders, header=True, inferSchema=True)\n",
    "dfPizzaOrderDetails = spark.read.csv(PathOrderDetails, header=True, inferSchema=True)\n",
    "dfPizzas = spark.read.csv(PathPizzas, header=True, inferSchema=True)\n",
    "dfPizzaTypes = spark.read.csv(PathPizzaTypes, header=True, inferSchema=True)\n"
   ]
  },
  {
   "cell_type": "markdown",
   "id": "0c99fedd",
   "metadata": {},
   "source": [
    "# Data Exploration"
   ]
  },
  {
   "cell_type": "code",
   "execution_count": 7,
   "id": "f019f9cc",
   "metadata": {},
   "outputs": [
    {
     "name": "stdout",
     "output_type": "stream",
     "text": [
      "+--------+----------+-------------------+\n",
      "|order_id|date      |time               |\n",
      "+--------+----------+-------------------+\n",
      "|1       |2015-01-01|2023-06-17 11:38:36|\n",
      "|2       |2015-01-01|2023-06-17 11:57:40|\n",
      "|3       |2015-01-01|2023-06-17 12:12:28|\n",
      "|4       |2015-01-01|2023-06-17 12:16:31|\n",
      "|5       |2015-01-01|2023-06-17 12:21:30|\n",
      "|6       |2015-01-01|2023-06-17 12:29:36|\n",
      "|7       |2015-01-01|2023-06-17 12:50:37|\n",
      "|8       |2015-01-01|2023-06-17 12:51:37|\n",
      "|9       |2015-01-01|2023-06-17 12:52:01|\n",
      "|10      |2015-01-01|2023-06-17 13:00:15|\n",
      "|11      |2015-01-01|2023-06-17 13:02:59|\n",
      "|12      |2015-01-01|2023-06-17 13:04:41|\n",
      "|13      |2015-01-01|2023-06-17 13:11:55|\n",
      "|14      |2015-01-01|2023-06-17 13:14:19|\n",
      "|15      |2015-01-01|2023-06-17 13:33:00|\n",
      "|16      |2015-01-01|2023-06-17 13:34:07|\n",
      "|17      |2015-01-01|2023-06-17 13:53:00|\n",
      "|18      |2015-01-01|2023-06-17 13:57:08|\n",
      "|19      |2015-01-01|2023-06-17 13:59:09|\n",
      "|20      |2015-01-01|2023-06-17 14:03:08|\n",
      "+--------+----------+-------------------+\n",
      "only showing top 20 rows\n",
      "\n"
     ]
    }
   ],
   "source": [
    "dfPizzaOrders.show(truncate=False)"
   ]
  },
  {
   "cell_type": "code",
   "execution_count": 8,
   "id": "0acfee9b",
   "metadata": {},
   "outputs": [
    {
     "name": "stdout",
     "output_type": "stream",
     "text": [
      "+----------------+--------+--------------+--------+\n",
      "|order_details_id|order_id|pizza_id      |quantity|\n",
      "+----------------+--------+--------------+--------+\n",
      "|1               |1       |hawaiian_m    |1       |\n",
      "|2               |2       |classic_dlx_m |1       |\n",
      "|3               |2       |five_cheese_l |1       |\n",
      "|4               |2       |ital_supr_l   |1       |\n",
      "|5               |2       |mexicana_m    |1       |\n",
      "|6               |2       |thai_ckn_l    |1       |\n",
      "|7               |3       |ital_supr_m   |1       |\n",
      "|8               |3       |prsc_argla_l  |1       |\n",
      "|9               |4       |ital_supr_m   |1       |\n",
      "|10              |5       |ital_supr_m   |1       |\n",
      "|11              |6       |bbq_ckn_s     |1       |\n",
      "|12              |6       |the_greek_s   |1       |\n",
      "|13              |7       |spinach_supr_s|1       |\n",
      "|14              |8       |spinach_supr_s|1       |\n",
      "|15              |9       |classic_dlx_s |1       |\n",
      "|16              |9       |green_garden_s|1       |\n",
      "|17              |9       |ital_cpcllo_l |1       |\n",
      "|18              |9       |ital_supr_l   |1       |\n",
      "|19              |9       |ital_supr_s   |1       |\n",
      "|20              |9       |mexicana_s    |1       |\n",
      "+----------------+--------+--------------+--------+\n",
      "only showing top 20 rows\n",
      "\n"
     ]
    }
   ],
   "source": [
    "dfPizzaOrderDetails.show(truncate=False)"
   ]
  },
  {
   "cell_type": "code",
   "execution_count": 9,
   "id": "2d6e4176",
   "metadata": {},
   "outputs": [
    {
     "name": "stdout",
     "output_type": "stream",
     "text": [
      "+-------------+-------------+----+-----+\n",
      "|pizza_id     |pizza_type_id|size|price|\n",
      "+-------------+-------------+----+-----+\n",
      "|bbq_ckn_s    |bbq_ckn      |S   |12.75|\n",
      "|bbq_ckn_m    |bbq_ckn      |M   |16.75|\n",
      "|bbq_ckn_l    |bbq_ckn      |L   |20.75|\n",
      "|cali_ckn_s   |cali_ckn     |S   |12.75|\n",
      "|cali_ckn_m   |cali_ckn     |M   |16.75|\n",
      "|cali_ckn_l   |cali_ckn     |L   |20.75|\n",
      "|ckn_alfredo_s|ckn_alfredo  |S   |12.75|\n",
      "|ckn_alfredo_m|ckn_alfredo  |M   |16.75|\n",
      "|ckn_alfredo_l|ckn_alfredo  |L   |20.75|\n",
      "|ckn_pesto_s  |ckn_pesto    |S   |12.75|\n",
      "|ckn_pesto_m  |ckn_pesto    |M   |16.75|\n",
      "|ckn_pesto_l  |ckn_pesto    |L   |20.75|\n",
      "|southw_ckn_s |southw_ckn   |S   |12.75|\n",
      "|southw_ckn_m |southw_ckn   |M   |16.75|\n",
      "|southw_ckn_l |southw_ckn   |L   |20.75|\n",
      "|thai_ckn_s   |thai_ckn     |S   |12.75|\n",
      "|thai_ckn_m   |thai_ckn     |M   |16.75|\n",
      "|thai_ckn_l   |thai_ckn     |L   |20.75|\n",
      "|big_meat_s   |big_meat     |S   |12.0 |\n",
      "|big_meat_m   |big_meat     |M   |16.0 |\n",
      "+-------------+-------------+----+-----+\n",
      "only showing top 20 rows\n",
      "\n"
     ]
    }
   ],
   "source": [
    "dfPizzas.show(truncate=False)"
   ]
  },
  {
   "cell_type": "code",
   "execution_count": 10,
   "id": "c696c975",
   "metadata": {},
   "outputs": [
    {
     "name": "stdout",
     "output_type": "stream",
     "text": [
      "+-------------+------------------------------------------+--------+--------------------------------------------------------------------------------------------+\n",
      "|pizza_type_id|name                                      |category|ingredients                                                                                 |\n",
      "+-------------+------------------------------------------+--------+--------------------------------------------------------------------------------------------+\n",
      "|bbq_ckn      |The Barbecue Chicken Pizza                |Chicken |Barbecued Chicken, Red Peppers, Green Peppers, Tomatoes, Red Onions, Barbecue Sauce         |\n",
      "|cali_ckn     |The California Chicken Pizza              |Chicken |Chicken, Artichoke, Spinach, Garlic, Jalapeno Peppers, Fontina Cheese, Gouda Cheese         |\n",
      "|ckn_alfredo  |The Chicken Alfredo Pizza                 |Chicken |Chicken, Red Onions, Red Peppers, Mushrooms, Asiago Cheese, Alfredo Sauce                   |\n",
      "|ckn_pesto    |The Chicken Pesto Pizza                   |Chicken |Chicken, Tomatoes, Red Peppers, Spinach, Garlic, Pesto Sauce                                |\n",
      "|southw_ckn   |The Southwest Chicken Pizza               |Chicken |Chicken, Tomatoes, Red Peppers, Red Onions, Jalapeno Peppers, Corn, Cilantro, Chipotle Sauce|\n",
      "|thai_ckn     |The Thai Chicken Pizza                    |Chicken |Chicken, Pineapple, Tomatoes, Red Peppers, Thai Sweet Chilli Sauce                          |\n",
      "|big_meat     |The Big Meat Pizza                        |Classic |Bacon, Pepperoni, Italian Sausage, Chorizo Sausage                                          |\n",
      "|classic_dlx  |The Classic Deluxe Pizza                  |Classic |Pepperoni, Mushrooms, Red Onions, Red Peppers, Bacon                                        |\n",
      "|hawaiian     |The Hawaiian Pizza                        |Classic |Sliced Ham, Pineapple, Mozzarella Cheese                                                    |\n",
      "|ital_cpcllo  |The Italian Capocollo Pizza               |Classic |Capocollo, Red Peppers, Tomatoes, Goat Cheese, Garlic, Oregano                              |\n",
      "|napolitana   |The Napolitana Pizza                      |Classic |Tomatoes, Anchovies, Green Olives, Red Onions, Garlic                                       |\n",
      "|pep_msh_pep  |The Pepperoni, Mushroom, and Peppers Pizza|Classic |Pepperoni, Mushrooms, Green Peppers                                                         |\n",
      "|pepperoni    |The Pepperoni Pizza                       |Classic |Mozzarella Cheese, Pepperoni                                                                |\n",
      "|the_greek    |The Greek Pizza                           |Classic |Kalamata Olives, Feta Cheese, Tomatoes, Garlic, Beef Chuck Roast, Red Onions                |\n",
      "|brie_carre   |The Brie Carre Pizza                      |Supreme |Brie Carre Cheese, Prosciutto, Caramelized Onions, Pears, Thyme, Garlic                     |\n",
      "|calabrese    |The Calabrese Pizza                       |Supreme |�Nduja Salami, Pancetta, Tomatoes, Red Onions, Friggitello Peppers, Garlic                  |\n",
      "|ital_supr    |The Italian Supreme Pizza                 |Supreme |Calabrese Salami, Capocollo, Tomatoes, Red Onions, Green Olives, Garlic                     |\n",
      "|peppr_salami |The Pepper Salami Pizza                   |Supreme |Genoa Salami, Capocollo, Pepperoni, Tomatoes, Asiago Cheese, Garlic                         |\n",
      "|prsc_argla   |The Prosciutto and Arugula Pizza          |Supreme |Prosciutto di San Daniele, Arugula, Mozzarella Cheese                                       |\n",
      "|sicilian     |The Sicilian Pizza                        |Supreme |Coarse Sicilian Salami, Tomatoes, Green Olives, Luganega Sausage, Onions, Garlic            |\n",
      "+-------------+------------------------------------------+--------+--------------------------------------------------------------------------------------------+\n",
      "only showing top 20 rows\n",
      "\n"
     ]
    }
   ],
   "source": [
    "dfPizzaTypes.show(truncate=False)"
   ]
  },
  {
   "cell_type": "markdown",
   "id": "6b039cb0",
   "metadata": {},
   "source": [
    "# Combining DataFrames"
   ]
  },
  {
   "cell_type": "code",
   "execution_count": 11,
   "id": "688ec221",
   "metadata": {},
   "outputs": [
    {
     "name": "stdout",
     "output_type": "stream",
     "text": [
      "+--------+----------+-------------------+----------------+--------+--------------+--------+\n",
      "|order_id|date      |time               |order_details_id|order_id|pizza_id      |quantity|\n",
      "+--------+----------+-------------------+----------------+--------+--------------+--------+\n",
      "|1       |2015-01-01|2023-06-17 11:38:36|1               |1       |hawaiian_m    |1       |\n",
      "|2       |2015-01-01|2023-06-17 11:57:40|2               |2       |classic_dlx_m |1       |\n",
      "|2       |2015-01-01|2023-06-17 11:57:40|3               |2       |five_cheese_l |1       |\n",
      "|2       |2015-01-01|2023-06-17 11:57:40|4               |2       |ital_supr_l   |1       |\n",
      "|2       |2015-01-01|2023-06-17 11:57:40|5               |2       |mexicana_m    |1       |\n",
      "|2       |2015-01-01|2023-06-17 11:57:40|6               |2       |thai_ckn_l    |1       |\n",
      "|3       |2015-01-01|2023-06-17 12:12:28|7               |3       |ital_supr_m   |1       |\n",
      "|3       |2015-01-01|2023-06-17 12:12:28|8               |3       |prsc_argla_l  |1       |\n",
      "|4       |2015-01-01|2023-06-17 12:16:31|9               |4       |ital_supr_m   |1       |\n",
      "|5       |2015-01-01|2023-06-17 12:21:30|10              |5       |ital_supr_m   |1       |\n",
      "|6       |2015-01-01|2023-06-17 12:29:36|11              |6       |bbq_ckn_s     |1       |\n",
      "|6       |2015-01-01|2023-06-17 12:29:36|12              |6       |the_greek_s   |1       |\n",
      "|7       |2015-01-01|2023-06-17 12:50:37|13              |7       |spinach_supr_s|1       |\n",
      "|8       |2015-01-01|2023-06-17 12:51:37|14              |8       |spinach_supr_s|1       |\n",
      "|9       |2015-01-01|2023-06-17 12:52:01|15              |9       |classic_dlx_s |1       |\n",
      "|9       |2015-01-01|2023-06-17 12:52:01|16              |9       |green_garden_s|1       |\n",
      "|9       |2015-01-01|2023-06-17 12:52:01|17              |9       |ital_cpcllo_l |1       |\n",
      "|9       |2015-01-01|2023-06-17 12:52:01|18              |9       |ital_supr_l   |1       |\n",
      "|9       |2015-01-01|2023-06-17 12:52:01|19              |9       |ital_supr_s   |1       |\n",
      "|9       |2015-01-01|2023-06-17 12:52:01|20              |9       |mexicana_s    |1       |\n",
      "+--------+----------+-------------------+----------------+--------+--------------+--------+\n",
      "only showing top 20 rows\n",
      "\n"
     ]
    }
   ],
   "source": [
    "dfPizzaOrdersAll = dfPizzaOrders.join(dfPizzaOrderDetails,dfPizzaOrders.order_id == dfPizzaOrderDetails.order_id, \"inner\" )\n",
    "dfPizzaOrdersAll.show(truncate=False)"
   ]
  },
  {
   "cell_type": "code",
   "execution_count": 12,
   "id": "93c7fc0f",
   "metadata": {},
   "outputs": [
    {
     "name": "stdout",
     "output_type": "stream",
     "text": [
      "+--------------+--------+----------+-------------------+\n",
      "|      pizza_id|quantity|      date|               time|\n",
      "+--------------+--------+----------+-------------------+\n",
      "|    hawaiian_m|       1|2015-01-01|2023-06-17 11:38:36|\n",
      "| classic_dlx_m|       1|2015-01-01|2023-06-17 11:57:40|\n",
      "| five_cheese_l|       1|2015-01-01|2023-06-17 11:57:40|\n",
      "|   ital_supr_l|       1|2015-01-01|2023-06-17 11:57:40|\n",
      "|    mexicana_m|       1|2015-01-01|2023-06-17 11:57:40|\n",
      "|    thai_ckn_l|       1|2015-01-01|2023-06-17 11:57:40|\n",
      "|   ital_supr_m|       1|2015-01-01|2023-06-17 12:12:28|\n",
      "|  prsc_argla_l|       1|2015-01-01|2023-06-17 12:12:28|\n",
      "|   ital_supr_m|       1|2015-01-01|2023-06-17 12:16:31|\n",
      "|   ital_supr_m|       1|2015-01-01|2023-06-17 12:21:30|\n",
      "|     bbq_ckn_s|       1|2015-01-01|2023-06-17 12:29:36|\n",
      "|   the_greek_s|       1|2015-01-01|2023-06-17 12:29:36|\n",
      "|spinach_supr_s|       1|2015-01-01|2023-06-17 12:50:37|\n",
      "|spinach_supr_s|       1|2015-01-01|2023-06-17 12:51:37|\n",
      "| classic_dlx_s|       1|2015-01-01|2023-06-17 12:52:01|\n",
      "|green_garden_s|       1|2015-01-01|2023-06-17 12:52:01|\n",
      "| ital_cpcllo_l|       1|2015-01-01|2023-06-17 12:52:01|\n",
      "|   ital_supr_l|       1|2015-01-01|2023-06-17 12:52:01|\n",
      "|   ital_supr_s|       1|2015-01-01|2023-06-17 12:52:01|\n",
      "|    mexicana_s|       1|2015-01-01|2023-06-17 12:52:01|\n",
      "+--------------+--------+----------+-------------------+\n",
      "only showing top 20 rows\n",
      "\n"
     ]
    }
   ],
   "source": [
    "dfPizzaOrdersAll = dfPizzaOrdersAll.select(\"pizza_id\",\"quantity\",\"date\",\"time\")\n",
    "dfPizzaOrdersAll.show()"
   ]
  },
  {
   "cell_type": "code",
   "execution_count": 13,
   "id": "18380592",
   "metadata": {},
   "outputs": [
    {
     "name": "stdout",
     "output_type": "stream",
     "text": [
      "+-------------+----+-----+----------------------------+--------+--------------------------------------------------------------------------------------------+\n",
      "|pizza_id     |size|price|name                        |category|ingredients                                                                                 |\n",
      "+-------------+----+-----+----------------------------+--------+--------------------------------------------------------------------------------------------+\n",
      "|bbq_ckn_l    |L   |20.75|The Barbecue Chicken Pizza  |Chicken |Barbecued Chicken, Red Peppers, Green Peppers, Tomatoes, Red Onions, Barbecue Sauce         |\n",
      "|bbq_ckn_m    |M   |16.75|The Barbecue Chicken Pizza  |Chicken |Barbecued Chicken, Red Peppers, Green Peppers, Tomatoes, Red Onions, Barbecue Sauce         |\n",
      "|bbq_ckn_s    |S   |12.75|The Barbecue Chicken Pizza  |Chicken |Barbecued Chicken, Red Peppers, Green Peppers, Tomatoes, Red Onions, Barbecue Sauce         |\n",
      "|cali_ckn_l   |L   |20.75|The California Chicken Pizza|Chicken |Chicken, Artichoke, Spinach, Garlic, Jalapeno Peppers, Fontina Cheese, Gouda Cheese         |\n",
      "|cali_ckn_m   |M   |16.75|The California Chicken Pizza|Chicken |Chicken, Artichoke, Spinach, Garlic, Jalapeno Peppers, Fontina Cheese, Gouda Cheese         |\n",
      "|cali_ckn_s   |S   |12.75|The California Chicken Pizza|Chicken |Chicken, Artichoke, Spinach, Garlic, Jalapeno Peppers, Fontina Cheese, Gouda Cheese         |\n",
      "|ckn_alfredo_l|L   |20.75|The Chicken Alfredo Pizza   |Chicken |Chicken, Red Onions, Red Peppers, Mushrooms, Asiago Cheese, Alfredo Sauce                   |\n",
      "|ckn_alfredo_m|M   |16.75|The Chicken Alfredo Pizza   |Chicken |Chicken, Red Onions, Red Peppers, Mushrooms, Asiago Cheese, Alfredo Sauce                   |\n",
      "|ckn_alfredo_s|S   |12.75|The Chicken Alfredo Pizza   |Chicken |Chicken, Red Onions, Red Peppers, Mushrooms, Asiago Cheese, Alfredo Sauce                   |\n",
      "|ckn_pesto_l  |L   |20.75|The Chicken Pesto Pizza     |Chicken |Chicken, Tomatoes, Red Peppers, Spinach, Garlic, Pesto Sauce                                |\n",
      "|ckn_pesto_m  |M   |16.75|The Chicken Pesto Pizza     |Chicken |Chicken, Tomatoes, Red Peppers, Spinach, Garlic, Pesto Sauce                                |\n",
      "|ckn_pesto_s  |S   |12.75|The Chicken Pesto Pizza     |Chicken |Chicken, Tomatoes, Red Peppers, Spinach, Garlic, Pesto Sauce                                |\n",
      "|southw_ckn_l |L   |20.75|The Southwest Chicken Pizza |Chicken |Chicken, Tomatoes, Red Peppers, Red Onions, Jalapeno Peppers, Corn, Cilantro, Chipotle Sauce|\n",
      "|southw_ckn_m |M   |16.75|The Southwest Chicken Pizza |Chicken |Chicken, Tomatoes, Red Peppers, Red Onions, Jalapeno Peppers, Corn, Cilantro, Chipotle Sauce|\n",
      "|southw_ckn_s |S   |12.75|The Southwest Chicken Pizza |Chicken |Chicken, Tomatoes, Red Peppers, Red Onions, Jalapeno Peppers, Corn, Cilantro, Chipotle Sauce|\n",
      "|thai_ckn_l   |L   |20.75|The Thai Chicken Pizza      |Chicken |Chicken, Pineapple, Tomatoes, Red Peppers, Thai Sweet Chilli Sauce                          |\n",
      "|thai_ckn_m   |M   |16.75|The Thai Chicken Pizza      |Chicken |Chicken, Pineapple, Tomatoes, Red Peppers, Thai Sweet Chilli Sauce                          |\n",
      "|thai_ckn_s   |S   |12.75|The Thai Chicken Pizza      |Chicken |Chicken, Pineapple, Tomatoes, Red Peppers, Thai Sweet Chilli Sauce                          |\n",
      "|big_meat_l   |L   |20.5 |The Big Meat Pizza          |Classic |Bacon, Pepperoni, Italian Sausage, Chorizo Sausage                                          |\n",
      "|big_meat_m   |M   |16.0 |The Big Meat Pizza          |Classic |Bacon, Pepperoni, Italian Sausage, Chorizo Sausage                                          |\n",
      "+-------------+----+-----+----------------------------+--------+--------------------------------------------------------------------------------------------+\n",
      "only showing top 20 rows\n",
      "\n"
     ]
    }
   ],
   "source": [
    "dfPizzaAll = dfPizzas.join(dfPizzaTypes,dfPizzas.pizza_type_id == dfPizzaTypes.pizza_type_id, \"inner\" )\n",
    "dfPizzaAll = dfPizzaAll.select(\"pizza_id\",\"size\",\"price\",\"name\",\"category\",\"ingredients\")\n",
    "dfPizzaAll.show(truncate=False)\n"
   ]
  },
  {
   "cell_type": "code",
   "execution_count": 14,
   "id": "547df98a",
   "metadata": {},
   "outputs": [
    {
     "name": "stdout",
     "output_type": "stream",
     "text": [
      "+--------------------------+--------+-----------------------------------------------------------------------------------+----+-----+--------+----------+\n",
      "|Name                      |Category|Ingredients                                                                        |Size|Price|Quantity|Date      |\n",
      "+--------------------------+--------+-----------------------------------------------------------------------------------+----+-----+--------+----------+\n",
      "|The Barbecue Chicken Pizza|Chicken |Barbecued Chicken, Red Peppers, Green Peppers, Tomatoes, Red Onions, Barbecue Sauce|L   |20.75|1       |2015-01-01|\n",
      "|The Barbecue Chicken Pizza|Chicken |Barbecued Chicken, Red Peppers, Green Peppers, Tomatoes, Red Onions, Barbecue Sauce|L   |20.75|1       |2015-01-01|\n",
      "|The Barbecue Chicken Pizza|Chicken |Barbecued Chicken, Red Peppers, Green Peppers, Tomatoes, Red Onions, Barbecue Sauce|L   |20.75|1       |2015-01-01|\n",
      "|The Barbecue Chicken Pizza|Chicken |Barbecued Chicken, Red Peppers, Green Peppers, Tomatoes, Red Onions, Barbecue Sauce|L   |20.75|1       |2015-01-01|\n",
      "|The Barbecue Chicken Pizza|Chicken |Barbecued Chicken, Red Peppers, Green Peppers, Tomatoes, Red Onions, Barbecue Sauce|L   |20.75|1       |2015-01-01|\n",
      "|The Barbecue Chicken Pizza|Chicken |Barbecued Chicken, Red Peppers, Green Peppers, Tomatoes, Red Onions, Barbecue Sauce|L   |20.75|1       |2015-01-01|\n",
      "|The Barbecue Chicken Pizza|Chicken |Barbecued Chicken, Red Peppers, Green Peppers, Tomatoes, Red Onions, Barbecue Sauce|L   |20.75|2       |2015-01-02|\n",
      "|The Barbecue Chicken Pizza|Chicken |Barbecued Chicken, Red Peppers, Green Peppers, Tomatoes, Red Onions, Barbecue Sauce|L   |20.75|1       |2015-01-02|\n",
      "|The Barbecue Chicken Pizza|Chicken |Barbecued Chicken, Red Peppers, Green Peppers, Tomatoes, Red Onions, Barbecue Sauce|L   |20.75|1       |2015-01-03|\n",
      "|The Barbecue Chicken Pizza|Chicken |Barbecued Chicken, Red Peppers, Green Peppers, Tomatoes, Red Onions, Barbecue Sauce|L   |20.75|1       |2015-01-03|\n",
      "|The Barbecue Chicken Pizza|Chicken |Barbecued Chicken, Red Peppers, Green Peppers, Tomatoes, Red Onions, Barbecue Sauce|L   |20.75|1       |2015-01-03|\n",
      "|The Barbecue Chicken Pizza|Chicken |Barbecued Chicken, Red Peppers, Green Peppers, Tomatoes, Red Onions, Barbecue Sauce|L   |20.75|1       |2015-01-04|\n",
      "|The Barbecue Chicken Pizza|Chicken |Barbecued Chicken, Red Peppers, Green Peppers, Tomatoes, Red Onions, Barbecue Sauce|L   |20.75|1       |2015-01-04|\n",
      "|The Barbecue Chicken Pizza|Chicken |Barbecued Chicken, Red Peppers, Green Peppers, Tomatoes, Red Onions, Barbecue Sauce|L   |20.75|1       |2015-01-04|\n",
      "|The Barbecue Chicken Pizza|Chicken |Barbecued Chicken, Red Peppers, Green Peppers, Tomatoes, Red Onions, Barbecue Sauce|L   |20.75|1       |2015-01-04|\n",
      "|The Barbecue Chicken Pizza|Chicken |Barbecued Chicken, Red Peppers, Green Peppers, Tomatoes, Red Onions, Barbecue Sauce|L   |20.75|1       |2015-01-04|\n",
      "|The Barbecue Chicken Pizza|Chicken |Barbecued Chicken, Red Peppers, Green Peppers, Tomatoes, Red Onions, Barbecue Sauce|L   |20.75|1       |2015-01-04|\n",
      "|The Barbecue Chicken Pizza|Chicken |Barbecued Chicken, Red Peppers, Green Peppers, Tomatoes, Red Onions, Barbecue Sauce|L   |20.75|1       |2015-01-05|\n",
      "|The Barbecue Chicken Pizza|Chicken |Barbecued Chicken, Red Peppers, Green Peppers, Tomatoes, Red Onions, Barbecue Sauce|L   |20.75|1       |2015-01-06|\n",
      "|The Barbecue Chicken Pizza|Chicken |Barbecued Chicken, Red Peppers, Green Peppers, Tomatoes, Red Onions, Barbecue Sauce|L   |20.75|1       |2015-01-06|\n",
      "+--------------------------+--------+-----------------------------------------------------------------------------------+----+-----+--------+----------+\n",
      "only showing top 20 rows\n",
      "\n"
     ]
    }
   ],
   "source": [
    "dfPizza = dfPizzaAll.join(dfPizzaOrdersAll,dfPizzaAll.pizza_id == dfPizzaOrdersAll.pizza_id, \"left\" )\n",
    "dfPizza = dfPizza.select(col(\"name\").alias(\"Name\"), \n",
    "                col(\"category\").alias(\"Category\"),\n",
    "                col(\"ingredients\").alias(\"Ingredients\"),\n",
    "                col(\"size\").alias(\"Size\"),\n",
    "                col(\"price\").alias(\"Price\"),\n",
    "                col(\"quantity\").alias(\"Quantity\"),\n",
    "                col(\"date\").alias(\"Date\"))\n",
    "\n",
    "dfPizza.show(truncate=False)\n"
   ]
  },
  {
   "cell_type": "markdown",
   "id": "7e3a7741",
   "metadata": {},
   "source": [
    "# Data Cleaning"
   ]
  },
  {
   "cell_type": "markdown",
   "id": "129b5c77",
   "metadata": {},
   "source": [
    "### Looking for null values"
   ]
  },
  {
   "cell_type": "code",
   "execution_count": 15,
   "id": "892c2730",
   "metadata": {},
   "outputs": [
    {
     "name": "stdout",
     "output_type": "stream",
     "text": [
      "+----+--------+-----------+----+-----+--------+\n",
      "|Name|Category|Ingredients|Size|Price|Quantity|\n",
      "+----+--------+-----------+----+-----+--------+\n",
      "|   0|       0|          0|   0|    0|       5|\n",
      "+----+--------+-----------+----+-----+--------+\n",
      "\n"
     ]
    }
   ],
   "source": [
    "dfPizzaNull = dfPizza.select(\"Name\", \"Category\", \"Ingredients\", \"Size\", \"Price\", \"Quantity\")\n",
    "\n",
    "dfPizzaNull.select([count(when(isnan(c) | col(c).isNull(), c)).alias(c) for c in dfPizzaNull.columns]\n",
    "   ).show()"
   ]
  },
  {
   "cell_type": "markdown",
   "id": "daac4ee0",
   "metadata": {},
   "source": [
    "##### There are a few Null values in Quantity, but it means that there were no orders for these pizza"
   ]
  },
  {
   "cell_type": "code",
   "execution_count": 16,
   "id": "e323ea28",
   "metadata": {},
   "outputs": [
    {
     "name": "stdout",
     "output_type": "stream",
     "text": [
      "+--------------------+--------+--------------------+----+-----+--------+----+\n",
      "|                Name|Category|         Ingredients|Size|Price|Quantity|Date|\n",
      "+--------------------+--------+--------------------+----+-----+--------+----+\n",
      "|The Four Cheese P...|  Veggie|Ricotta Cheese, G...|   S|11.75|    null|null|\n",
      "|  The Big Meat Pizza| Classic|Bacon, Pepperoni,...|   L| 20.5|    null|null|\n",
      "|The Five Cheese P...|  Veggie|Mozzarella Cheese...|   S| 12.5|    null|null|\n",
      "|  The Big Meat Pizza| Classic|Bacon, Pepperoni,...|   M| 16.0|    null|null|\n",
      "|The Five Cheese P...|  Veggie|Mozzarella Cheese...|   M| 15.5|    null|null|\n",
      "+--------------------+--------+--------------------+----+-----+--------+----+\n",
      "\n"
     ]
    }
   ],
   "source": [
    "dfPizza.filter(col(\"Date\").isNull()).show()"
   ]
  },
  {
   "cell_type": "markdown",
   "id": "6c0c4921",
   "metadata": {},
   "source": [
    "###### DataFrame was split into two DataFrames. The first with  orders, the second without orders"
   ]
  },
  {
   "cell_type": "code",
   "execution_count": 17,
   "id": "15298984",
   "metadata": {},
   "outputs": [],
   "source": [
    "dfPizzaWithoutOrders =dfPizza.filter(col(\"Date\").isNull())"
   ]
  },
  {
   "cell_type": "code",
   "execution_count": 18,
   "id": "f2c8de73",
   "metadata": {},
   "outputs": [],
   "source": [
    "dfPizza = dfPizza.na.drop()\n"
   ]
  },
  {
   "cell_type": "markdown",
   "id": "16b1ae4e",
   "metadata": {},
   "source": [
    "### Dealing with duplicate values"
   ]
  },
  {
   "cell_type": "code",
   "execution_count": 19,
   "id": "a4de4b70",
   "metadata": {},
   "outputs": [
    {
     "name": "stdout",
     "output_type": "stream",
     "text": [
      "Counting rows 48620\n"
     ]
    }
   ],
   "source": [
    "print(\"Counting rows {}\".format(dfPizza.count()))"
   ]
  },
  {
   "cell_type": "code",
   "execution_count": 20,
   "id": "6f5dc300",
   "metadata": {},
   "outputs": [
    {
     "name": "stdout",
     "output_type": "stream",
     "text": [
      "+--------------------+--------+--------------------+----+-----+--------+----------+-----+\n",
      "|                Name|Category|         Ingredients|Size|Price|Quantity|      Date|count|\n",
      "+--------------------+--------+--------------------+----+-----+--------+----------+-----+\n",
      "|  The Hawaiian Pizza| Classic|Sliced Ham, Pinea...|   L| 16.5|       1|2015-07-20|    5|\n",
      "|  The Hawaiian Pizza| Classic|Sliced Ham, Pinea...|   L| 16.5|       1|2015-05-04|    2|\n",
      "|The Spinach and F...|  Veggie|Spinach, Mushroom...|   S| 12.0|       1|2015-11-22|    2|\n",
      "|The Classic Delux...| Classic|Pepperoni, Mushro...|   L| 20.5|       1|2015-11-13|    2|\n",
      "|The Barbecue Chic...| Chicken|Barbecued Chicken...|   L|20.75|       1|2015-04-13|    5|\n",
      "|  The Sicilian Pizza| Supreme|Coarse Sicilian S...|   L|20.25|       1|2015-09-05|    2|\n",
      "|  The Sicilian Pizza| Supreme|Coarse Sicilian S...|   L|20.25|       1|2015-07-27|    2|\n",
      "|  The Sicilian Pizza| Supreme|Coarse Sicilian S...|   L|20.25|       1|2015-05-16|    3|\n",
      "|  The Mexicana Pizza|  Veggie|Tomatoes, Red Pep...|   M| 16.0|       1|2015-05-15|    3|\n",
      "|The Barbecue Chic...| Chicken|Barbecued Chicken...|   S|12.75|       1|2015-07-28|    2|\n",
      "|The Barbecue Chic...| Chicken|Barbecued Chicken...|   S|12.75|       1|2015-07-15|    3|\n",
      "|The Thai Chicken ...| Chicken|Chicken, Pineappl...|   S|12.75|       1|2015-12-19|    4|\n",
      "|The Thai Chicken ...| Chicken|Chicken, Pineappl...|   S|12.75|       1|2015-05-04|    2|\n",
      "|The Italian Supre...| Supreme|Calabrese Salami,...|   L|20.75|       1|2015-04-25|    2|\n",
      "|The Italian Supre...| Supreme|Calabrese Salami,...|   L|20.75|       1|2015-04-04|    2|\n",
      "|The Chicken Pesto...| Chicken|Chicken, Tomatoes...|   M|16.75|       1|2015-08-05|    2|\n",
      "|The Pepperoni, Mu...| Classic|Pepperoni, Mushro...|   M| 14.5|       1|2015-08-24|    2|\n",
      "|The Thai Chicken ...| Chicken|Chicken, Pineappl...|   L|20.75|       1|2015-11-18|    3|\n",
      "|The Thai Chicken ...| Chicken|Chicken, Pineappl...|   L|20.75|       1|2015-04-14|    6|\n",
      "|The Napolitana Pizza| Classic|Tomatoes, Anchovi...|   L| 20.5|       1|2015-07-16|    2|\n",
      "+--------------------+--------+--------------------+----+-----+--------+----------+-----+\n",
      "only showing top 20 rows\n",
      "\n"
     ]
    }
   ],
   "source": [
    "dfPizzaDuplicates = dfPizza.groupBy(dfPizza.columns).count().filter(col(\"count\") > 1)\n",
    "dfPizzaDuplicates.show()"
   ]
  },
  {
   "cell_type": "markdown",
   "id": "8f35a32f",
   "metadata": {},
   "source": [
    "### Cleaning one of rows in ingredients"
   ]
  },
  {
   "cell_type": "code",
   "execution_count": 21,
   "id": "ef1e9a71",
   "metadata": {},
   "outputs": [
    {
     "name": "stdout",
     "output_type": "stream",
     "text": [
      "+-------------------+--------+--------------------------------------------------------------------------+----+-----+--------+----------+\n",
      "|Name               |Category|Ingredients                                                               |Size|Price|Quantity|Date      |\n",
      "+-------------------+--------+--------------------------------------------------------------------------+----+-----+--------+----------+\n",
      "|The Calabrese Pizza|Supreme |�Nduja Salami, Pancetta, Tomatoes, Red Onions, Friggitello Peppers, Garlic|L   |20.25|1       |2015-01-06|\n",
      "|The Calabrese Pizza|Supreme |�Nduja Salami, Pancetta, Tomatoes, Red Onions, Friggitello Peppers, Garlic|L   |20.25|1       |2015-01-07|\n",
      "|The Calabrese Pizza|Supreme |�Nduja Salami, Pancetta, Tomatoes, Red Onions, Friggitello Peppers, Garlic|L   |20.25|1       |2015-01-07|\n",
      "|The Calabrese Pizza|Supreme |�Nduja Salami, Pancetta, Tomatoes, Red Onions, Friggitello Peppers, Garlic|L   |20.25|1       |2015-01-10|\n",
      "|The Calabrese Pizza|Supreme |�Nduja Salami, Pancetta, Tomatoes, Red Onions, Friggitello Peppers, Garlic|L   |20.25|1       |2015-01-11|\n",
      "|The Calabrese Pizza|Supreme |�Nduja Salami, Pancetta, Tomatoes, Red Onions, Friggitello Peppers, Garlic|L   |20.25|1       |2015-01-13|\n",
      "|The Calabrese Pizza|Supreme |�Nduja Salami, Pancetta, Tomatoes, Red Onions, Friggitello Peppers, Garlic|L   |20.25|1       |2015-01-13|\n",
      "|The Calabrese Pizza|Supreme |�Nduja Salami, Pancetta, Tomatoes, Red Onions, Friggitello Peppers, Garlic|L   |20.25|1       |2015-01-13|\n",
      "|The Calabrese Pizza|Supreme |�Nduja Salami, Pancetta, Tomatoes, Red Onions, Friggitello Peppers, Garlic|L   |20.25|2       |2015-01-14|\n",
      "|The Calabrese Pizza|Supreme |�Nduja Salami, Pancetta, Tomatoes, Red Onions, Friggitello Peppers, Garlic|L   |20.25|1       |2015-01-14|\n",
      "|The Calabrese Pizza|Supreme |�Nduja Salami, Pancetta, Tomatoes, Red Onions, Friggitello Peppers, Garlic|L   |20.25|1       |2015-01-16|\n",
      "|The Calabrese Pizza|Supreme |�Nduja Salami, Pancetta, Tomatoes, Red Onions, Friggitello Peppers, Garlic|L   |20.25|1       |2015-01-17|\n",
      "|The Calabrese Pizza|Supreme |�Nduja Salami, Pancetta, Tomatoes, Red Onions, Friggitello Peppers, Garlic|L   |20.25|1       |2015-01-22|\n",
      "|The Calabrese Pizza|Supreme |�Nduja Salami, Pancetta, Tomatoes, Red Onions, Friggitello Peppers, Garlic|L   |20.25|1       |2015-01-24|\n",
      "|The Calabrese Pizza|Supreme |�Nduja Salami, Pancetta, Tomatoes, Red Onions, Friggitello Peppers, Garlic|L   |20.25|1       |2015-01-25|\n",
      "|The Calabrese Pizza|Supreme |�Nduja Salami, Pancetta, Tomatoes, Red Onions, Friggitello Peppers, Garlic|L   |20.25|1       |2015-01-26|\n",
      "|The Calabrese Pizza|Supreme |�Nduja Salami, Pancetta, Tomatoes, Red Onions, Friggitello Peppers, Garlic|L   |20.25|1       |2015-01-26|\n",
      "|The Calabrese Pizza|Supreme |�Nduja Salami, Pancetta, Tomatoes, Red Onions, Friggitello Peppers, Garlic|L   |20.25|1       |2015-01-27|\n",
      "|The Calabrese Pizza|Supreme |�Nduja Salami, Pancetta, Tomatoes, Red Onions, Friggitello Peppers, Garlic|L   |20.25|1       |2015-01-28|\n",
      "|The Calabrese Pizza|Supreme |�Nduja Salami, Pancetta, Tomatoes, Red Onions, Friggitello Peppers, Garlic|L   |20.25|1       |2015-01-29|\n",
      "+-------------------+--------+--------------------------------------------------------------------------+----+-----+--------+----------+\n",
      "only showing top 20 rows\n",
      "\n"
     ]
    }
   ],
   "source": [
    "dfPizza.filter(col(\"Ingredients\").like(\"%�Nduja Salami%\")).show(truncate=False)"
   ]
  },
  {
   "cell_type": "code",
   "execution_count": 22,
   "id": "c70310e6",
   "metadata": {},
   "outputs": [],
   "source": [
    "dfPizza = dfPizza.withColumn(\"Ingredients\", when(col(\"Ingredients\") == \"�Nduja Salami, Pancetta, Tomatoes, Red Onions, Friggitello Peppers, Garlic\",\n",
    "                   \"Salami, Pancetta, Tomatoes, Red Onions, Friggitello Peppers, Garlic\")\n",
    "                    .otherwise(dfPizza.Ingredients))\n",
    "\n"
   ]
  },
  {
   "cell_type": "code",
   "execution_count": 23,
   "id": "1e8923ca",
   "metadata": {},
   "outputs": [
    {
     "name": "stdout",
     "output_type": "stream",
     "text": [
      "+----+--------+-----------+----+-----+--------+----+\n",
      "|Name|Category|Ingredients|Size|Price|Quantity|Date|\n",
      "+----+--------+-----------+----+-----+--------+----+\n",
      "+----+--------+-----------+----+-----+--------+----+\n",
      "\n"
     ]
    }
   ],
   "source": [
    "dfPizza.filter(col(\"Ingredients\").like(\"%�Nduja Salami%\")).show(truncate=False)"
   ]
  },
  {
   "cell_type": "markdown",
   "id": "9bd51ea1",
   "metadata": {},
   "source": [
    "### Browsing for distinct values in each column"
   ]
  },
  {
   "cell_type": "code",
   "execution_count": 24,
   "id": "aff9f1d2",
   "metadata": {},
   "outputs": [
    {
     "name": "stdout",
     "output_type": "stream",
     "text": [
      "Counting distinct rows 23730\n"
     ]
    }
   ],
   "source": [
    "print(\"Counting distinct rows {}\".format(dfPizza.distinct().count()))"
   ]
  },
  {
   "cell_type": "code",
   "execution_count": 25,
   "id": "de0e39f0",
   "metadata": {},
   "outputs": [
    {
     "name": "stdout",
     "output_type": "stream",
     "text": [
      "+----+--------+-----------+----+-----+--------+----+\n",
      "|Name|Category|Ingredients|Size|Price|Quantity|Date|\n",
      "+----+--------+-----------+----+-----+--------+----+\n",
      "|  32|       4|         32|   5|   25|       4| 358|\n",
      "+----+--------+-----------+----+-----+--------+----+\n",
      "\n"
     ]
    }
   ],
   "source": [
    "dfPizza.agg(*(countDistinct(col(c)).alias(c) for c in dfPizza.columns)).show()"
   ]
  },
  {
   "cell_type": "markdown",
   "id": "ec03a939",
   "metadata": {},
   "source": [
    "### Columns"
   ]
  },
  {
   "cell_type": "code",
   "execution_count": 26,
   "id": "69cc3c9e",
   "metadata": {},
   "outputs": [
    {
     "name": "stdout",
     "output_type": "stream",
     "text": [
      "There are 7 columns in the DataFrame and their names are ['Name', 'Category', 'Ingredients', 'Size', 'Price', 'Quantity', 'Date']\n"
     ]
    }
   ],
   "source": [
    "print(\"There are {} columns in the DataFrame and their names are {}\".format(len(dfPizza.columns),\n",
    "                                                                              dfPizza.columns))"
   ]
  },
  {
   "cell_type": "markdown",
   "id": "62cd0490",
   "metadata": {},
   "source": [
    "### Datatypes"
   ]
  },
  {
   "cell_type": "code",
   "execution_count": 27,
   "id": "bfddd5d5",
   "metadata": {},
   "outputs": [
    {
     "name": "stdout",
     "output_type": "stream",
     "text": [
      "root\n",
      " |-- Name: string (nullable = true)\n",
      " |-- Category: string (nullable = true)\n",
      " |-- Ingredients: string (nullable = true)\n",
      " |-- Size: string (nullable = true)\n",
      " |-- Price: double (nullable = true)\n",
      " |-- Quantity: integer (nullable = true)\n",
      " |-- Date: date (nullable = true)\n",
      "\n"
     ]
    }
   ],
   "source": [
    "dfPizza.printSchema()"
   ]
  },
  {
   "cell_type": "code",
   "execution_count": 28,
   "id": "9758335e",
   "metadata": {},
   "outputs": [],
   "source": [
    "dfPizza = dfPizza.withColumn(\"Price\",col(\"Price\").cast(DecimalType(18,2)))"
   ]
  },
  {
   "cell_type": "markdown",
   "id": "d0217720",
   "metadata": {},
   "source": [
    "### Summary"
   ]
  },
  {
   "cell_type": "code",
   "execution_count": 29,
   "id": "6748f28c",
   "metadata": {},
   "outputs": [
    {
     "name": "stdout",
     "output_type": "stream",
     "text": [
      "+-------+------------------+\n",
      "|summary|             Price|\n",
      "+-------+------------------+\n",
      "|  count|             48620|\n",
      "|   mean|         16.494132|\n",
      "| stddev|3.6217891586575433|\n",
      "|    min|              9.75|\n",
      "|    max|             35.95|\n",
      "+-------+------------------+\n",
      "\n"
     ]
    }
   ],
   "source": [
    "dfPizza.describe(\"Price\").show()"
   ]
  },
  {
   "cell_type": "code",
   "execution_count": 30,
   "id": "759e8058",
   "metadata": {},
   "outputs": [
    {
     "data": {
      "text/plain": [
       "[('Name', 'string'),\n",
       " ('Category', 'string'),\n",
       " ('Ingredients', 'string'),\n",
       " ('Size', 'string'),\n",
       " ('Price', 'decimal(18,2)'),\n",
       " ('Quantity', 'int'),\n",
       " ('Date', 'date')]"
      ]
     },
     "execution_count": 30,
     "metadata": {},
     "output_type": "execute_result"
    }
   ],
   "source": [
    "dfPizza.dtypes"
   ]
  },
  {
   "cell_type": "code",
   "execution_count": 31,
   "id": "639cef85",
   "metadata": {},
   "outputs": [
    {
     "name": "stdout",
     "output_type": "stream",
     "text": [
      "Shape of DataFrame: 48620, 7 \n"
     ]
    }
   ],
   "source": [
    "print(\"Shape of DataFrame: {}, {} \".format(dfPizza.count(),\n",
    "                                          len(dfPizza.columns)))"
   ]
  },
  {
   "cell_type": "markdown",
   "id": "f7e36737",
   "metadata": {},
   "source": [
    "# Data Analysis"
   ]
  },
  {
   "cell_type": "markdown",
   "id": "1efc0349",
   "metadata": {},
   "source": [
    "### Creating Total Amount &  Creating upper case of Category"
   ]
  },
  {
   "cell_type": "code",
   "execution_count": 32,
   "id": "eb016553",
   "metadata": {},
   "outputs": [],
   "source": [
    "def CreateMultipiplication(x, y):\n",
    "    return (x * y)\n",
    "def upperCase(str):\n",
    "    return str.upper()\n",
    "\n",
    "upperCaseUDF = udf(lambda z:upperCase(z), StringType())\n",
    "multiplicationUDF = udf(CreateMultipiplication, DecimalType(18,2))"
   ]
  },
  {
   "cell_type": "code",
   "execution_count": 33,
   "id": "db0568f8",
   "metadata": {},
   "outputs": [
    {
     "name": "stdout",
     "output_type": "stream",
     "text": [
      "+-------------------------+--------+-----------------------------------------------------------------------+----+-----+--------+------------+----------+\n",
      "|Name                     |Category|Ingredients                                                            |Size|Price|Quantity|Total Amount|Date      |\n",
      "+-------------------------+--------+-----------------------------------------------------------------------+----+-----+--------+------------+----------+\n",
      "|The Italian Supreme Pizza|SUPREME |Calabrese Salami, Capocollo, Tomatoes, Red Onions, Green Olives, Garlic|S   |12.50|1       |12.50       |2015-12-30|\n",
      "|The Italian Supreme Pizza|SUPREME |Calabrese Salami, Capocollo, Tomatoes, Red Onions, Green Olives, Garlic|S   |12.50|1       |12.50       |2015-12-27|\n",
      "|The Italian Supreme Pizza|SUPREME |Calabrese Salami, Capocollo, Tomatoes, Red Onions, Green Olives, Garlic|S   |12.50|1       |12.50       |2015-12-24|\n",
      "|The Italian Supreme Pizza|SUPREME |Calabrese Salami, Capocollo, Tomatoes, Red Onions, Green Olives, Garlic|S   |12.50|1       |12.50       |2015-12-23|\n",
      "|The Italian Supreme Pizza|SUPREME |Calabrese Salami, Capocollo, Tomatoes, Red Onions, Green Olives, Garlic|S   |12.50|1       |12.50       |2015-12-20|\n",
      "|The Italian Supreme Pizza|SUPREME |Calabrese Salami, Capocollo, Tomatoes, Red Onions, Green Olives, Garlic|S   |12.50|1       |12.50       |2015-12-16|\n",
      "|The Italian Supreme Pizza|SUPREME |Calabrese Salami, Capocollo, Tomatoes, Red Onions, Green Olives, Garlic|S   |12.50|1       |12.50       |2015-12-13|\n",
      "|The Italian Supreme Pizza|SUPREME |Calabrese Salami, Capocollo, Tomatoes, Red Onions, Green Olives, Garlic|S   |12.50|1       |12.50       |2015-12-13|\n",
      "|The Italian Supreme Pizza|SUPREME |Calabrese Salami, Capocollo, Tomatoes, Red Onions, Green Olives, Garlic|S   |12.50|1       |12.50       |2015-12-12|\n",
      "|The Italian Supreme Pizza|SUPREME |Calabrese Salami, Capocollo, Tomatoes, Red Onions, Green Olives, Garlic|S   |12.50|1       |12.50       |2015-12-09|\n",
      "|The Italian Supreme Pizza|SUPREME |Calabrese Salami, Capocollo, Tomatoes, Red Onions, Green Olives, Garlic|S   |12.50|1       |12.50       |2015-12-08|\n",
      "|The Italian Supreme Pizza|SUPREME |Calabrese Salami, Capocollo, Tomatoes, Red Onions, Green Olives, Garlic|S   |12.50|1       |12.50       |2015-12-06|\n",
      "|The Italian Supreme Pizza|SUPREME |Calabrese Salami, Capocollo, Tomatoes, Red Onions, Green Olives, Garlic|S   |12.50|1       |12.50       |2015-11-29|\n",
      "|The Italian Supreme Pizza|SUPREME |Calabrese Salami, Capocollo, Tomatoes, Red Onions, Green Olives, Garlic|S   |12.50|1       |12.50       |2015-11-29|\n",
      "|The Italian Supreme Pizza|SUPREME |Calabrese Salami, Capocollo, Tomatoes, Red Onions, Green Olives, Garlic|S   |12.50|1       |12.50       |2015-11-28|\n",
      "|The Italian Supreme Pizza|SUPREME |Calabrese Salami, Capocollo, Tomatoes, Red Onions, Green Olives, Garlic|S   |12.50|1       |12.50       |2015-11-24|\n",
      "|The Italian Supreme Pizza|SUPREME |Calabrese Salami, Capocollo, Tomatoes, Red Onions, Green Olives, Garlic|S   |12.50|1       |12.50       |2015-11-21|\n",
      "|The Italian Supreme Pizza|SUPREME |Calabrese Salami, Capocollo, Tomatoes, Red Onions, Green Olives, Garlic|S   |12.50|1       |12.50       |2015-11-15|\n",
      "|The Italian Supreme Pizza|SUPREME |Calabrese Salami, Capocollo, Tomatoes, Red Onions, Green Olives, Garlic|S   |12.50|1       |12.50       |2015-11-13|\n",
      "|The Italian Supreme Pizza|SUPREME |Calabrese Salami, Capocollo, Tomatoes, Red Onions, Green Olives, Garlic|S   |12.50|1       |12.50       |2015-11-13|\n",
      "+-------------------------+--------+-----------------------------------------------------------------------+----+-----+--------+------------+----------+\n",
      "only showing top 20 rows\n",
      "\n"
     ]
    }
   ],
   "source": [
    "dfPizza = dfPizza.withColumn(\"Total Amount\",multiplicationUDF(col(\"Price\"),col(\"Quantity\")))  \\\n",
    "                    .withColumn(\"Category\",upperCaseUDF(col(\"Category\")))\n",
    "                \n",
    "dfPizza = dfPizza.select('Name',\n",
    " 'Category',\n",
    " 'Ingredients',\n",
    " 'Size',\n",
    " 'Price',\n",
    " 'Quantity',\n",
    " 'Total Amount',\n",
    " 'Date')\n",
    "\n",
    "\n",
    "dfPizza.show(truncate=False)"
   ]
  },
  {
   "cell_type": "markdown",
   "id": "b7a1a848",
   "metadata": {},
   "source": [
    "### Summing of Total Amount by Category and Pizza Name"
   ]
  },
  {
   "cell_type": "code",
   "execution_count": 34,
   "id": "f062b0c1",
   "metadata": {},
   "outputs": [
    {
     "name": "stdout",
     "output_type": "stream",
     "text": [
      "+--------+------------+\n",
      "|Category|Total Amount|\n",
      "+--------+------------+\n",
      "|CLASSIC |220053.10   |\n",
      "|SUPREME |208197.00   |\n",
      "|CHICKEN |195919.50   |\n",
      "|VEGGIE  |193690.45   |\n",
      "+--------+------------+\n",
      "\n"
     ]
    }
   ],
   "source": [
    "dfPizzaCategoryByTotalAmount = dfPizza.groupBy(\"Category\").sum(\"Total Amount\").orderBy(desc(\"sum(Total Amount)\"))\n",
    "dfPizzaCategoryByTotalAmount.select(\"Category\", col(\"sum(Total Amount)\").alias(\"Total Amount\")).show(truncate=False)\n"
   ]
  },
  {
   "cell_type": "code",
   "execution_count": 35,
   "id": "9b170e9a",
   "metadata": {},
   "outputs": [
    {
     "name": "stdout",
     "output_type": "stream",
     "text": [
      "+---------------------------------+------------+-------+\n",
      "|Name                             |Total Amount|Ranking|\n",
      "+---------------------------------+------------+-------+\n",
      "|The Thai Chicken Pizza           |43434.25    |1      |\n",
      "|The Barbecue Chicken Pizza       |42768.00    |2      |\n",
      "|The California Chicken Pizza     |41409.50    |3      |\n",
      "|The Classic Deluxe Pizza         |38180.50    |4      |\n",
      "|The Spicy Italian Pizza          |34831.25    |5      |\n",
      "|The Southwest Chicken Pizza      |34705.75    |6      |\n",
      "|The Italian Supreme Pizza        |33476.75    |7      |\n",
      "|The Hawaiian Pizza               |32273.25    |8      |\n",
      "|The Four Cheese Pizza            |32265.70    |9      |\n",
      "|The Sicilian Pizza               |30940.50    |10     |\n",
      "|The Pepperoni Pizza              |30161.75    |11     |\n",
      "|The Greek Pizza                  |28454.10    |12     |\n",
      "|The Mexicana Pizza               |26780.75    |13     |\n",
      "|The Five Cheese Pizza            |26066.50    |14     |\n",
      "|The Pepper Salami Pizza          |25529.00    |15     |\n",
      "|The Italian Capocollo Pizza      |25094.00    |16     |\n",
      "|The Vegetables + Vegetables Pizza|24374.75    |17     |\n",
      "|The Prosciutto and Arugula Pizza |24193.25    |18     |\n",
      "|The Napolitana Pizza             |24087.00    |19     |\n",
      "|The Spinach and Feta Pizza       |23271.25    |20     |\n",
      "+---------------------------------+------------+-------+\n",
      "only showing top 20 rows\n",
      "\n"
     ]
    }
   ],
   "source": [
    "dfPizzaPizzaNameByTotalAmount = dfPizza.groupBy(\"Name\").sum(\"Total Amount\")\n",
    "dfPizzaPizzaNameByTotalAmount = dfPizzaPizzaNameByTotalAmount.select(\"Name\",\n",
    "                                                                     col(\"sum(Total Amount)\").alias(\"Total Amount\"))\n",
    "windowSpec = Window.orderBy(desc(\"Total Amount\"))\n",
    "dfPizzaPizzaNameByTotalAmount.withColumn(\"Ranking\", \n",
    "                                         row_number().over(windowSpec)).show(truncate=False)"
   ]
  },
  {
   "cell_type": "markdown",
   "id": "736d8899",
   "metadata": {},
   "source": [
    "### Grouping of Pizza Name "
   ]
  },
  {
   "cell_type": "code",
   "execution_count": 36,
   "id": "5cceecf2",
   "metadata": {},
   "outputs": [
    {
     "name": "stdout",
     "output_type": "stream",
     "text": [
      "+---------------------------------+------------+--------+\n",
      "|Name                             |Total Amount|Grouping|\n",
      "+---------------------------------+------------+--------+\n",
      "|The Thai Chicken Pizza           |43434.25    |1       |\n",
      "|The Barbecue Chicken Pizza       |42768.00    |1       |\n",
      "|The California Chicken Pizza     |41409.50    |1       |\n",
      "|The Classic Deluxe Pizza         |38180.50    |1       |\n",
      "|The Spicy Italian Pizza          |34831.25    |1       |\n",
      "|The Southwest Chicken Pizza      |34705.75    |1       |\n",
      "|The Italian Supreme Pizza        |33476.75    |1       |\n",
      "|The Hawaiian Pizza               |32273.25    |2       |\n",
      "|The Four Cheese Pizza            |32265.70    |2       |\n",
      "|The Sicilian Pizza               |30940.50    |2       |\n",
      "|The Pepperoni Pizza              |30161.75    |2       |\n",
      "|The Greek Pizza                  |28454.10    |2       |\n",
      "|The Mexicana Pizza               |26780.75    |2       |\n",
      "|The Five Cheese Pizza            |26066.50    |2       |\n",
      "|The Pepper Salami Pizza          |25529.00    |3       |\n",
      "|The Italian Capocollo Pizza      |25094.00    |3       |\n",
      "|The Vegetables + Vegetables Pizza|24374.75    |3       |\n",
      "|The Prosciutto and Arugula Pizza |24193.25    |3       |\n",
      "|The Napolitana Pizza             |24087.00    |3       |\n",
      "|The Spinach and Feta Pizza       |23271.25    |3       |\n",
      "+---------------------------------+------------+--------+\n",
      "only showing top 20 rows\n",
      "\n"
     ]
    }
   ],
   "source": [
    "dfPizzaPizzaNameByTotalAmount.withColumn(\"Grouping\",ntile(5).over(windowSpec)).show(truncate=False)\n",
    "\n",
    "dfPizzaPizzaNameByTotalAmountGrouping = dfPizzaPizzaNameByTotalAmount.withColumn(\"Grouping\",\n",
    "                                                                                 ntile(5).over(windowSpec))\n"
   ]
  },
  {
   "cell_type": "code",
   "execution_count": 37,
   "id": "bd96102f",
   "metadata": {},
   "outputs": [
    {
     "name": "stdout",
     "output_type": "stream",
     "text": [
      "+----------------------------+------------+--------+\n",
      "|Name                        |Total Amount|Grouping|\n",
      "+----------------------------+------------+--------+\n",
      "|The Thai Chicken Pizza      |43434.25    |1       |\n",
      "|The Barbecue Chicken Pizza  |42768.00    |1       |\n",
      "|The California Chicken Pizza|41409.50    |1       |\n",
      "|The Classic Deluxe Pizza    |38180.50    |1       |\n",
      "|The Spicy Italian Pizza     |34831.25    |1       |\n",
      "|The Southwest Chicken Pizza |34705.75    |1       |\n",
      "|The Italian Supreme Pizza   |33476.75    |1       |\n",
      "+----------------------------+------------+--------+\n",
      "\n"
     ]
    }
   ],
   "source": [
    "dfPizzaPizzaNameByTotalAmountGrouping.filter(dfPizzaPizzaNameByTotalAmountGrouping[\"Grouping\"] == 1).show(truncate=False)"
   ]
  },
  {
   "cell_type": "code",
   "execution_count": 38,
   "id": "880b61ef",
   "metadata": {},
   "outputs": [
    {
     "name": "stdout",
     "output_type": "stream",
     "text": [
      "+-------------------------+------------+--------+\n",
      "|Name                     |Total Amount|Grouping|\n",
      "+-------------------------+------------+--------+\n",
      "|The Calabrese Pizza      |15934.25    |5       |\n",
      "|The Spinach Pesto Pizza  |15596.00    |5       |\n",
      "|The Mediterranean Pizza  |15360.50    |5       |\n",
      "|The Spinach Supreme Pizza|15277.75    |5       |\n",
      "|The Green Garden Pizza   |13955.75    |5       |\n",
      "|The Brie Carre Pizza     |11588.50    |5       |\n",
      "+-------------------------+------------+--------+\n",
      "\n"
     ]
    }
   ],
   "source": [
    "dfPizzaPizzaNameByTotalAmountGrouping.filter(dfPizzaPizzaNameByTotalAmountGrouping[\"Grouping\"] == 5).show(truncate=False)"
   ]
  },
  {
   "cell_type": "markdown",
   "id": "78d2a698",
   "metadata": {},
   "source": [
    "### Running Total by Month"
   ]
  },
  {
   "cell_type": "code",
   "execution_count": 39,
   "id": "3b26802e",
   "metadata": {},
   "outputs": [
    {
     "name": "stdout",
     "output_type": "stream",
     "text": [
      "+----+-----+------------+\n",
      "|Year|Month|Total Amount|\n",
      "+----+-----+------------+\n",
      "|2015|1    |69793.30    |\n",
      "|2015|2    |65159.60    |\n",
      "|2015|3    |70397.10    |\n",
      "|2015|4    |68736.80    |\n",
      "|2015|5    |71402.75    |\n",
      "|2015|6    |68230.20    |\n",
      "|2015|7    |72557.90    |\n",
      "|2015|8    |68278.25    |\n",
      "|2015|9    |64180.05    |\n",
      "|2015|10   |64027.60    |\n",
      "|2015|11   |70395.35    |\n",
      "|2015|12   |64701.15    |\n",
      "+----+-----+------------+\n",
      "\n"
     ]
    }
   ],
   "source": [
    "dfPizzaGrouping = dfPizza.select(year(col(\"Date\")),\n",
    "               month(col(\"Date\")),\n",
    "               col(\"Total Amount\"))\n",
    "\n",
    "\n",
    "dfPizzaGrouping = dfPizzaGrouping.groupBy(\"year(Date)\",\"month(Date)\").sum(\"Total Amount\")\n",
    "dfPizzaGrouping = dfPizzaGrouping.na.drop()\n",
    "dfPizzaGrouping = dfPizzaGrouping.select(col(\"year(Date)\").alias(\"Year\"),\n",
    "                       col(\"month(Date)\").alias(\"Month\"),\n",
    "                       col(\"sum(Total Amount)\").alias(\"Total Amount\"))\n",
    "\n",
    "dfPizzaGrouping.orderBy(\"Month\").show(truncate=False)\n"
   ]
  },
  {
   "cell_type": "code",
   "execution_count": 40,
   "id": "9efeb68f",
   "metadata": {},
   "outputs": [
    {
     "name": "stdout",
     "output_type": "stream",
     "text": [
      "+----------+------------+--------+--------+--------+---------------+\n",
      "|Month-Year|Total Amount|Lag     |Diff    |Lead    |Cummluative Sum|\n",
      "+----------+------------+--------+--------+--------+---------------+\n",
      "|1-2015    |69793.30    |0.00    |69793.30|65159.60|69793.30       |\n",
      "|2-2015    |65159.60    |69793.30|-4633.70|70397.10|134952.90      |\n",
      "|3-2015    |70397.10    |65159.60|5237.50 |68736.80|205350.00      |\n",
      "|4-2015    |68736.80    |70397.10|-1660.30|71402.75|274086.80      |\n",
      "|5-2015    |71402.75    |68736.80|2665.95 |68230.20|345489.55      |\n",
      "|6-2015    |68230.20    |71402.75|-3172.55|72557.90|413719.75      |\n",
      "|7-2015    |72557.90    |68230.20|4327.70 |68278.25|486277.65      |\n",
      "|8-2015    |68278.25    |72557.90|-4279.65|64180.05|554555.90      |\n",
      "|9-2015    |64180.05    |68278.25|-4098.20|64027.60|618735.95      |\n",
      "|10-2015   |64027.60    |64180.05|-152.45 |70395.35|682763.55      |\n",
      "|11-2015   |70395.35    |64027.60|6367.75 |64701.15|753158.90      |\n",
      "|12-2015   |64701.15    |70395.35|-5694.20|0.00    |817860.05      |\n",
      "+----------+------------+--------+--------+--------+---------------+\n",
      "\n"
     ]
    }
   ],
   "source": [
    "windowSpec = Window.partitionBy().orderBy(\"Month\")\n",
    "windowval = (Window.partitionBy().orderBy(\"Month\").rangeBetween(Window.unboundedPreceding,0))\n",
    "\n",
    "dfPizzaGrouping = dfPizzaGrouping.select(\"Year\",\n",
    "                                         \"Month\",\n",
    "                                         concat_ws(\"-\",col(\"Month\"),col(\"Year\")).alias(\"Month-Year\"),\n",
    "                                         \"Total Amount\")\n",
    "dfPizzaGrouping = dfPizzaGrouping.withColumn(\"Lag\", lag(col(\"Total Amount\"), offset=1, default=0).over(windowSpec))\n",
    "dfPizzaGrouping = dfPizzaGrouping.withColumn(\"Diff\",\n",
    "                                             when(isnull(col(\"Total Amount\") - col(\"Lag\")),0)\n",
    "                                                  .otherwise(col(\"Total Amount\") - col(\"Lag\")))\n",
    "dfPizzaGrouping = dfPizzaGrouping.withColumn(\"Lead\", lead(col(\"Total Amount\"), offset=1,default = 0).over(windowSpec))\n",
    "dfPizzaGrouping = dfPizzaGrouping.withColumn(\"Cummluative Sum\", sum(col(\"Total Amount\")).over(windowval))\n",
    "\n",
    "dfPizzaGrouping.select(\"Month-Year\",\n",
    "                       \"Total Amount\",\n",
    "                       \"Lag\",\n",
    "                       \"Diff\",\n",
    "                       \"Lead\",\n",
    "                       \"Cummluative Sum\").show(truncate=False )\n",
    "\n",
    "\n"
   ]
  },
  {
   "cell_type": "markdown",
   "id": "1bb42055",
   "metadata": {},
   "source": [
    "### The quantity of orders in terms of Pizza and its size"
   ]
  },
  {
   "cell_type": "code",
   "execution_count": 41,
   "id": "8ed47b57",
   "metadata": {},
   "outputs": [
    {
     "name": "stdout",
     "output_type": "stream",
     "text": [
      "+------------------------------------------+------------------+\n",
      "|Name                                      |Quantity of Orders|\n",
      "+------------------------------------------+------------------+\n",
      "|The Classic Deluxe Pizza                  |2416              |\n",
      "|The Barbecue Chicken Pizza                |2372              |\n",
      "|The Hawaiian Pizza                        |2370              |\n",
      "|The Pepperoni Pizza                       |2369              |\n",
      "|The Thai Chicken Pizza                    |2315              |\n",
      "|The California Chicken Pizza              |2302              |\n",
      "|The Spicy Italian Pizza                   |1887              |\n",
      "|The Sicilian Pizza                        |1887              |\n",
      "|The Southwest Chicken Pizza               |1885              |\n",
      "|The Four Cheese Pizza                     |1850              |\n",
      "|The Italian Supreme Pizza                 |1849              |\n",
      "|The Big Meat Pizza                        |1811              |\n",
      "|The Vegetables + Vegetables Pizza         |1510              |\n",
      "|The Mexicana Pizza                        |1456              |\n",
      "|The Napolitana Pizza                      |1451              |\n",
      "|The Spinach and Feta Pizza                |1432              |\n",
      "|The Prosciutto and Arugula Pizza          |1428              |\n",
      "|The Pepper Salami Pizza                   |1422              |\n",
      "|The Italian Capocollo Pizza               |1414              |\n",
      "|The Greek Pizza                           |1406              |\n",
      "|The Five Cheese Pizza                     |1359              |\n",
      "|The Pepperoni, Mushroom, and Peppers Pizza|1342              |\n",
      "|The Green Garden Pizza                    |987               |\n",
      "|The Chicken Alfredo Pizza                 |980               |\n",
      "|The Italian Vegetables Pizza              |975               |\n",
      "|The Chicken Pesto Pizza                   |961               |\n",
      "|The Soppressata Pizza                     |957               |\n",
      "|The Spinach Pesto Pizza                   |957               |\n",
      "|The Spinach Supreme Pizza                 |940               |\n",
      "|The Calabrese Pizza                       |927               |\n",
      "|The Mediterranean Pizza                   |923               |\n",
      "|The Brie Carre Pizza                      |480               |\n",
      "+------------------------------------------+------------------+\n",
      "\n"
     ]
    }
   ],
   "source": [
    "dfOrderedPizza = dfPizza.na.drop()\n",
    "\n",
    "dfOrderedPizza = dfOrderedPizza.groupBy(\"Name\").count()\n",
    "\n",
    "dfOrderedPizza = dfOrderedPizza.select(\"Name\",col(\"Count\").alias(\"Quantity of Orders\")).orderBy(desc(\"count\"))\n",
    "\n",
    "dfOrderedPizza.show(dfOrderedPizza.count(), False)\n"
   ]
  },
  {
   "cell_type": "code",
   "execution_count": 42,
   "id": "b2ca231b",
   "metadata": {},
   "outputs": [
    {
     "name": "stdout",
     "output_type": "stream",
     "text": [
      "+----+------------------+\n",
      "|Size|Quantity of Orders|\n",
      "+----+------------------+\n",
      "|L   |18526             |\n",
      "|M   |15385             |\n",
      "|S   |14137             |\n",
      "|XL  |544               |\n",
      "|XXL |28                |\n",
      "+----+------------------+\n",
      "\n"
     ]
    }
   ],
   "source": [
    "dfPizzaSize = dfPizza.groupBy(\"Size\").count()\n",
    "dfPizzaSize.na.drop()\n",
    "dfPizzaSize.select(\"Size\", \n",
    "                   col(\"count\").alias(\"Quantity of Orders\")).orderBy(desc(\"Quantity of Orders\")).show(truncate=False)\n",
    "\n",
    "\n"
   ]
  },
  {
   "cell_type": "markdown",
   "id": "e8494331",
   "metadata": {},
   "source": [
    "### Quantity of orders in a day and which pizza was ordered most of the time"
   ]
  },
  {
   "cell_type": "code",
   "execution_count": 43,
   "id": "967e91d7",
   "metadata": {},
   "outputs": [
    {
     "name": "stdout",
     "output_type": "stream",
     "text": [
      "+---+----------+------------------+\n",
      "|Day|Month Name|Quantity of Orders|\n",
      "+---+----------+------------------+\n",
      "|1  |January   |161               |\n",
      "|2  |January   |160               |\n",
      "|3  |January   |154               |\n",
      "|4  |January   |106               |\n",
      "|5  |January   |121               |\n",
      "|6  |January   |144               |\n",
      "|7  |January   |133               |\n",
      "|8  |January   |171               |\n",
      "|9  |January   |123               |\n",
      "|10 |January   |145               |\n",
      "|11 |January   |114               |\n",
      "|12 |January   |118               |\n",
      "|13 |January   |117               |\n",
      "|14 |January   |144               |\n",
      "|15 |January   |123               |\n",
      "|16 |January   |155               |\n",
      "|17 |January   |122               |\n",
      "|18 |January   |119               |\n",
      "|19 |January   |139               |\n",
      "|20 |January   |139               |\n",
      "+---+----------+------------------+\n",
      "only showing top 20 rows\n",
      "\n"
     ]
    }
   ],
   "source": [
    "dfPizzaWithoutTime  = dfPizza.select('Name',\n",
    " 'Category',\n",
    " 'Ingredients',\n",
    " 'Size',\n",
    " 'Price',\n",
    " 'Quantity',\n",
    " 'Total Amount',\n",
    " 'Date')\n",
    "\n",
    "dfPizzaDayMonthYear = dfPizzaWithoutTime.withColumn(\"Day\", dayofmonth(col(\"Date\"))) \\\n",
    "        .withColumn(\"Month\", month(col(\"Date\"))) \\\n",
    "        .withColumn(\"Month Name\",date_format(\"date\", \"MMMM\")) \\\n",
    "        .withColumn(\"Year\", year(col(\"Date\")))\n",
    "\n",
    "dfPizzaDayMonthYear = dfPizzaDayMonthYear.na.drop()\n",
    "\n",
    "dfPizzaDayMonthYearQuantity = dfPizzaDayMonthYear.groupBy(\"Day\",\n",
    "                                                          \"Month\",\n",
    "                                                          \"Month Name\").count().orderBy(\"Month\",\"Day\")\n",
    "\n",
    "dfPizzaDayMonthYearQuantity = dfPizzaDayMonthYearQuantity.select(\"Day\",\n",
    "                                                                 \"Month Name\", \n",
    "                                                                 col(\"count\").alias(\"Quantity of Orders\"))\n",
    "\n",
    "dfPizzaDayMonthYearQuantity.show(truncate=False)"
   ]
  },
  {
   "cell_type": "code",
   "execution_count": 44,
   "id": "a2367a5d",
   "metadata": {},
   "outputs": [
    {
     "name": "stdout",
     "output_type": "stream",
     "text": [
      "+---+----------+------------------------------------------+------------------+\n",
      "|Day|Month Name|Name                                      |Quantity of Orders|\n",
      "+---+----------+------------------------------------------+------------------+\n",
      "|1  |January   |The Chicken Pesto Pizza                   |4                 |\n",
      "|1  |January   |The Italian Supreme Pizza                 |15                |\n",
      "|1  |January   |The Hawaiian Pizza                        |4                 |\n",
      "|1  |January   |The Barbecue Chicken Pizza                |11                |\n",
      "|1  |January   |The Napolitana Pizza                      |2                 |\n",
      "|1  |January   |The Pepperoni Pizza                       |6                 |\n",
      "|1  |January   |The Southwest Chicken Pizza               |7                 |\n",
      "|1  |January   |The Pepperoni, Mushroom, and Peppers Pizza|6                 |\n",
      "|1  |January   |The Classic Deluxe Pizza                  |10                |\n",
      "|1  |January   |The Mediterranean Pizza                   |2                 |\n",
      "|1  |January   |The Thai Chicken Pizza                    |8                 |\n",
      "|1  |January   |The Soppressata Pizza                     |1                 |\n",
      "|1  |January   |The Spicy Italian Pizza                   |5                 |\n",
      "|1  |January   |The Spinach Pesto Pizza                   |2                 |\n",
      "|1  |January   |The Four Cheese Pizza                     |6                 |\n",
      "|1  |January   |The Chicken Alfredo Pizza                 |2                 |\n",
      "|1  |January   |The Pepper Salami Pizza                   |4                 |\n",
      "|1  |January   |The Big Meat Pizza                        |5                 |\n",
      "|1  |January   |The Sicilian Pizza                        |4                 |\n",
      "|1  |January   |The Green Garden Pizza                    |7                 |\n",
      "+---+----------+------------------------------------------+------------------+\n",
      "only showing top 20 rows\n",
      "\n"
     ]
    }
   ],
   "source": [
    "dfPizzaDayNameQuantity = dfPizzaDayMonthYear.groupBy(\"Day\",\n",
    "                                                     \"Month\",\n",
    "                                                     \"Month Name\",\n",
    "                                                     \"Name\").count().orderBy(\"Month\",\"Day\")\n",
    "\n",
    "\n",
    "dfPizzaDayNameQuantity = dfPizzaDayNameQuantity.select(\"Day\",\n",
    "                                                       \"Month Name\",\n",
    "                                                       \"Name\",\n",
    "                                                       col(\"count\").alias(\"Quantity of Orders\"))\n",
    "\n",
    "dfPizzaDayNameQuantity.show(truncate=False) "
   ]
  },
  {
   "cell_type": "markdown",
   "id": "9b644455",
   "metadata": {},
   "source": [
    "### Total Amount of Pizza in each day"
   ]
  },
  {
   "cell_type": "code",
   "execution_count": 45,
   "id": "d99feec2",
   "metadata": {},
   "outputs": [
    {
     "name": "stdout",
     "output_type": "stream",
     "text": [
      "+---+----------+------------+\n",
      "|Day|Month Name|Total Amount|\n",
      "+---+----------+------------+\n",
      "|1  |January   |2713.85     |\n",
      "|2  |January   |2731.90     |\n",
      "|3  |January   |2662.40     |\n",
      "|4  |January   |1755.45     |\n",
      "|5  |January   |2065.95     |\n",
      "|6  |January   |2428.95     |\n",
      "|7  |January   |2202.20     |\n",
      "|8  |January   |2838.35     |\n",
      "|9  |January   |2127.35     |\n",
      "|10 |January   |2463.95     |\n",
      "|11 |January   |1872.30     |\n",
      "|12 |January   |1919.05     |\n",
      "|13 |January   |2049.60     |\n",
      "|14 |January   |2527.40     |\n",
      "|15 |January   |1984.80     |\n",
      "|16 |January   |2594.15     |\n",
      "|17 |January   |2064.10     |\n",
      "|18 |January   |1976.85     |\n",
      "|19 |January   |2387.15     |\n",
      "|20 |January   |2397.90     |\n",
      "+---+----------+------------+\n",
      "only showing top 20 rows\n",
      "\n"
     ]
    }
   ],
   "source": [
    "dfPizzaTotalAmountEachDay = dfPizzaDayMonthYear.groupBy(\"Day\",\n",
    "                                                        \"Month\",\n",
    "                                                        \"Month Name\").sum(\"Total Amount\").orderBy(\"Month\",\"Day\")\n",
    "\n",
    "dfPizzaTotalAmountEachDay = dfPizzaTotalAmountEachDay.select(\"Day\",\n",
    "                                                             \"Month Name\",\n",
    "                                                             col(\"sum(Total Amount)\").alias(\"Total Amount\"))\n",
    "dfPizzaTotalAmountEachDay.show(truncate=False)"
   ]
  },
  {
   "cell_type": "code",
   "execution_count": 46,
   "id": "14f7858f",
   "metadata": {},
   "outputs": [
    {
     "name": "stdout",
     "output_type": "stream",
     "text": [
      "+---+----------+------------------------------------------+------------+\n",
      "|Day|Month Name|Name                                      |Total Amount|\n",
      "+---+----------+------------------------------------------+------------+\n",
      "|1  |January   |The Chicken Pesto Pizza                   |79.00       |\n",
      "|1  |January   |The Italian Supreme Pizza                 |269.00      |\n",
      "|1  |January   |The Hawaiian Pizza                        |50.75       |\n",
      "|1  |January   |The Barbecue Chicken Pizza                |204.25      |\n",
      "|1  |January   |The Napolitana Pizza                      |32.50       |\n",
      "|1  |January   |The Pepperoni Pizza                       |77.75       |\n",
      "|1  |January   |The Southwest Chicken Pizza               |125.25      |\n",
      "|1  |January   |The Pepperoni, Mushroom, and Peppers Pizza|82.50       |\n",
      "|1  |January   |The Classic Deluxe Pizza                  |156.50      |\n",
      "|1  |January   |The Mediterranean Pizza                   |52.25       |\n",
      "|1  |January   |The Thai Chicken Pizza                    |158.00      |\n",
      "|1  |January   |The Soppressata Pizza                     |20.75       |\n",
      "|1  |January   |The Spicy Italian Pizza                   |95.50       |\n",
      "|1  |January   |The Spinach Pesto Pizza                   |33.25       |\n",
      "|1  |January   |The Four Cheese Pizza                     |98.10       |\n",
      "|1  |January   |The Chicken Alfredo Pizza                 |29.50       |\n",
      "|1  |January   |The Pepper Salami Pizza                   |62.25       |\n",
      "|1  |January   |The Big Meat Pizza                        |60.00       |\n",
      "|1  |January   |The Sicilian Pizza                        |69.00       |\n",
      "|1  |January   |The Green Garden Pizza                    |96.25       |\n",
      "+---+----------+------------------------------------------+------------+\n",
      "only showing top 20 rows\n",
      "\n"
     ]
    }
   ],
   "source": [
    "dfPizzaDayNameTotalAmount = dfPizzaDayMonthYear.groupBy(\"Day\",\n",
    "                                                        \"Month\",\n",
    "                                                        \"Month Name\",\n",
    "                                                        \"Name\").sum(\"Total Amount\").orderBy(\"Month\",\"Day\")\n",
    "\n",
    "dfPizzaDayNameTotalAmount = dfPizzaDayNameTotalAmount.select(\"Day\",\n",
    "                                                             \"Month Name\",\n",
    "                                                             \"Name\",\n",
    "                                                             col(\"sum(Total Amount)\").alias(\"Total Amount\"))\n",
    "\n",
    "dfPizzaDayNameTotalAmount.show(truncate=False)"
   ]
  },
  {
   "cell_type": "markdown",
   "id": "7397c528",
   "metadata": {},
   "source": [
    "### Looking for the greatest value of these and minimum and which day"
   ]
  },
  {
   "cell_type": "code",
   "execution_count": 47,
   "id": "563575e0",
   "metadata": {},
   "outputs": [
    {
     "name": "stdout",
     "output_type": "stream",
     "text": [
      "+---+----------+------------------------+------------+\n",
      "|Day|Month Name|Name                    |Total Amount|\n",
      "+---+----------+------------------------+------------+\n",
      "|27 |November  |The Classic Deluxe Pizza|322.00      |\n",
      "|17 |June      |The Pepperoni Pizza     |9.75        |\n",
      "|10 |December  |The Pepperoni Pizza     |9.75        |\n",
      "+---+----------+------------------------+------------+\n",
      "\n"
     ]
    }
   ],
   "source": [
    "MaxValueTotalAmount = dfPizzaDayNameTotalAmount.agg({\"Total Amount\": \"max\"}).collect()[0][0]\n",
    "MinValueTotalAmount = dfPizzaDayNameTotalAmount.agg({\"Total Amount\": \"min\"}).collect()[0][0]\n",
    "\n",
    "MaxTotalAmount = dfPizzaDayNameTotalAmount.filter(dfPizzaDayNameTotalAmount[\"Total Amount\"] == MaxValueTotalAmount)\n",
    "MinTotalAmount = dfPizzaDayNameTotalAmount.filter(dfPizzaDayNameTotalAmount[\"Total Amount\"] == MinValueTotalAmount)\n",
    "\n",
    "unionPizzaDayNameTotalAmount = MaxTotalAmount.union(MinTotalAmount)\n",
    "\n",
    "unionPizzaDayNameTotalAmount.show(truncate=False)\n"
   ]
  },
  {
   "cell_type": "code",
   "execution_count": 48,
   "id": "8f3453b2",
   "metadata": {},
   "outputs": [
    {
     "name": "stdout",
     "output_type": "stream",
     "text": [
      "+---+----------+------------------------------------------+------------------+\n",
      "|Day|Month Name|Name                                      |Quantity of Orders|\n",
      "+---+----------+------------------------------------------+------------------+\n",
      "|26 |November  |The Hawaiian Pizza                        |21                |\n",
      "|1  |January   |The Calabrese Pizza                       |1                 |\n",
      "|1  |January   |The Soppressata Pizza                     |1                 |\n",
      "|2  |January   |The Green Garden Pizza                    |1                 |\n",
      "|2  |January   |The Mediterranean Pizza                   |1                 |\n",
      "|2  |January   |The Chicken Alfredo Pizza                 |1                 |\n",
      "|2  |January   |The Pepperoni, Mushroom, and Peppers Pizza|1                 |\n",
      "|3  |January   |The Brie Carre Pizza                      |1                 |\n",
      "|3  |January   |The Soppressata Pizza                     |1                 |\n",
      "|3  |January   |The Green Garden Pizza                    |1                 |\n",
      "|3  |January   |The Calabrese Pizza                       |1                 |\n",
      "|4  |January   |The Pepper Salami Pizza                   |1                 |\n",
      "|4  |January   |The Vegetables + Vegetables Pizza         |1                 |\n",
      "|4  |January   |The Chicken Pesto Pizza                   |1                 |\n",
      "|4  |January   |The Southwest Chicken Pizza               |1                 |\n",
      "|5  |January   |The Chicken Pesto Pizza                   |1                 |\n",
      "|5  |January   |The Mediterranean Pizza                   |1                 |\n",
      "|6  |January   |The Napolitana Pizza                      |1                 |\n",
      "|6  |January   |The Brie Carre Pizza                      |1                 |\n",
      "|6  |January   |The Soppressata Pizza                     |1                 |\n",
      "+---+----------+------------------------------------------+------------------+\n",
      "only showing top 20 rows\n",
      "\n"
     ]
    }
   ],
   "source": [
    "MaxValueQty = dfPizzaDayNameQuantity.agg({\"Quantity of Orders\": \"max\"}).collect()[0][0]\n",
    "MinValueQty = dfPizzaDayNameQuantity.agg({\"Quantity of Orders\": \"min\"}).collect()[0][0]\n",
    "\n",
    "MaxQty = dfPizzaDayNameQuantity.filter(dfPizzaDayNameQuantity[\"Quantity of Orders\"] == MaxValueQty)\n",
    "MinQty = dfPizzaDayNameQuantity.filter(dfPizzaDayNameQuantity[\"Quantity of Orders\"] == MinValueQty)\n",
    "\n",
    "unionPizzaDayNameQty = MaxQty.union(MinQty)\n",
    "\n",
    "unionPizzaDayNameQty.show(truncate=False)\n",
    "\n"
   ]
  },
  {
   "cell_type": "code",
   "execution_count": 49,
   "id": "2a92e8ee",
   "metadata": {},
   "outputs": [
    {
     "name": "stdout",
     "output_type": "stream",
     "text": [
      "+------------------------+------------------+\n",
      "|Name                    |Quantity of Orders|\n",
      "+------------------------+------------------+\n",
      "|The Classic Deluxe Pizza|2416              |\n",
      "|The Brie Carre Pizza    |480               |\n",
      "+------------------------+------------------+\n",
      "\n"
     ]
    }
   ],
   "source": [
    "MaxQtyOrder = dfOrderedPizza.agg({\"Quantity of Orders\": \"max\"}).collect()[0][0]\n",
    "MinQtyOrder = dfOrderedPizza.agg({\"Quantity of Orders\": \"min\"}).collect()[0][0]\n",
    "\n",
    "MaxQty = dfOrderedPizza.filter(dfOrderedPizza[\"Quantity of Orders\"] == MaxQtyOrder)\n",
    "MinQty = dfOrderedPizza.filter(dfOrderedPizza[\"Quantity of Orders\"] == MinQtyOrder)\n",
    "\n",
    "unionPizzaQty = MaxQty.union(MinQty)\n",
    "\n",
    "unionPizzaQty.show(truncate=False)\n"
   ]
  },
  {
   "cell_type": "code",
   "execution_count": 50,
   "id": "2d9be29a",
   "metadata": {},
   "outputs": [
    {
     "name": "stdout",
     "output_type": "stream",
     "text": [
      "+----------------------+------------+\n",
      "|Name                  |Total Amount|\n",
      "+----------------------+------------+\n",
      "|The Thai Chicken Pizza|43434.25    |\n",
      "|The Brie Carre Pizza  |11588.50    |\n",
      "+----------------------+------------+\n",
      "\n"
     ]
    }
   ],
   "source": [
    "MaxTotalAmount = dfPizzaPizzaNameByTotalAmount.agg({\"Total Amount\": \"max\"}).collect()[0][0]\n",
    "MinTotalAmount = dfPizzaPizzaNameByTotalAmount.agg({\"Total Amount\": \"min\"}).collect()[0][0]\n",
    "\n",
    "MaxTA = dfPizzaPizzaNameByTotalAmount.filter(dfPizzaPizzaNameByTotalAmount[\"Total Amount\"] == MaxTotalAmount)\n",
    "MinTA = dfPizzaPizzaNameByTotalAmount.filter(dfPizzaPizzaNameByTotalAmount[\"Total Amount\"] == MinTotalAmount)\n",
    "\n",
    "unionPizzaTotalAmount = MaxTA.union(MinTA)\n",
    "\n",
    "unionPizzaTotalAmount.show(truncate=False)\n",
    "\n",
    "\n"
   ]
  },
  {
   "cell_type": "markdown",
   "id": "ccc69e98",
   "metadata": {},
   "source": [
    "### Counting orders in each month in the name of month"
   ]
  },
  {
   "cell_type": "code",
   "execution_count": 51,
   "id": "41a32413",
   "metadata": {},
   "outputs": [
    {
     "name": "stdout",
     "output_type": "stream",
     "text": [
      "+---------+------------------+\n",
      "|Month    |Quantity of Orders|\n",
      "+---------+------------------+\n",
      "|January  |4156              |\n",
      "|February |3892              |\n",
      "|March    |4186              |\n",
      "|April    |4067              |\n",
      "|May      |4239              |\n",
      "|June     |4025              |\n",
      "|July     |4301              |\n",
      "|August   |4094              |\n",
      "|September|3819              |\n",
      "|October  |3797              |\n",
      "|November |4185              |\n",
      "|December |3859              |\n",
      "+---------+------------------+\n",
      "\n"
     ]
    }
   ],
   "source": [
    "dfPizzaMonthName = dfPizza.withColumn(\"Month Name\",\n",
    "                                      date_format(\"date\", \"MMMM\")).withColumn(\"Month\",\n",
    "                                                                               month(col(\"Date\")))\n",
    "dfPizzaMonthName = dfPizzaMonthName.na.drop()\n",
    "\n",
    "dfPizzaMonthName = dfPizzaMonthName.groupBy(\"Month Name\",\n",
    "                                            \"Month\").count().orderBy(\"Month\")\n",
    "\n",
    "dfPizzaMonthName.select(col(\"Month Name\").alias(\"Month\"),\n",
    "                        col(\"count\").alias(\"Quantity of Orders\")).show(truncate=False)"
   ]
  },
  {
   "cell_type": "markdown",
   "id": "babf9036",
   "metadata": {},
   "source": [
    "### Dealing with pizza without orders"
   ]
  },
  {
   "cell_type": "code",
   "execution_count": 52,
   "id": "06c6698e",
   "metadata": {},
   "outputs": [
    {
     "name": "stdout",
     "output_type": "stream",
     "text": [
      "+---------------------+--------+-------------------------------------------------------------------------------------------------+----+-----+--------+----+\n",
      "|Name                 |Category|Ingredients                                                                                      |Size|Price|Quantity|Date|\n",
      "+---------------------+--------+-------------------------------------------------------------------------------------------------+----+-----+--------+----+\n",
      "|The Four Cheese Pizza|Veggie  |Ricotta Cheese, Gorgonzola Piccante Cheese, Mozzarella Cheese, Parmigiano Reggiano Cheese, Garlic|S   |11.75|null    |null|\n",
      "|The Big Meat Pizza   |Classic |Bacon, Pepperoni, Italian Sausage, Chorizo Sausage                                               |L   |20.5 |null    |null|\n",
      "|The Five Cheese Pizza|Veggie  |Mozzarella Cheese, Provolone Cheese, Smoked Gouda Cheese, Romano Cheese, Blue Cheese, Garlic     |S   |12.5 |null    |null|\n",
      "|The Big Meat Pizza   |Classic |Bacon, Pepperoni, Italian Sausage, Chorizo Sausage                                               |M   |16.0 |null    |null|\n",
      "|The Five Cheese Pizza|Veggie  |Mozzarella Cheese, Provolone Cheese, Smoked Gouda Cheese, Romano Cheese, Blue Cheese, Garlic     |M   |15.5 |null    |null|\n",
      "+---------------------+--------+-------------------------------------------------------------------------------------------------+----+-----+--------+----+\n",
      "\n"
     ]
    }
   ],
   "source": [
    "dfPizzaWithoutOrders.show(truncate=False)\n",
    "NamePizzaWithoutOrders = dfPizzaWithoutOrders.agg(collect_set(\"Name\")).collect()[0][0]\n",
    "CategoryPizzaWithoutOrders = dfPizzaWithoutOrders.agg(collect_set(\"Category\")).collect()[0][0]\n",
    "QuantityOfPizzaWithoutOrders = dfPizzaWithoutOrders.count()\n"
   ]
  },
  {
   "cell_type": "code",
   "execution_count": 53,
   "id": "c49fc1a7",
   "metadata": {},
   "outputs": [
    {
     "name": "stdout",
     "output_type": "stream",
     "text": [
      "The quantity of pizza without orders: 5\n",
      "The name of pizza without orders: ['The Big Meat Pizza', 'The Four Cheese Pizza', 'The Five Cheese Pizza']\n",
      "The category of pizza without orders: ['Classic', 'Veggie']\n"
     ]
    }
   ],
   "source": [
    "print(f'The quantity of pizza without orders: {QuantityOfPizzaWithoutOrders}')\n",
    "print(f'The name of pizza without orders: {NamePizzaWithoutOrders}')\n",
    "print(f'The category of pizza without orders: {CategoryPizzaWithoutOrders}')"
   ]
  },
  {
   "cell_type": "markdown",
   "id": "c4451e30",
   "metadata": {},
   "source": [
    "#### Changing the size of pizza into the full name"
   ]
  },
  {
   "cell_type": "code",
   "execution_count": 54,
   "id": "ef2083ba",
   "metadata": {},
   "outputs": [
    {
     "name": "stdout",
     "output_type": "stream",
     "text": [
      "+---------------------+--------+-------------------------------------------------------------------------------------------------+------+-----+--------+----+\n",
      "|Name                 |Category|Ingredients                                                                                      |Size  |Price|Quantity|Date|\n",
      "+---------------------+--------+-------------------------------------------------------------------------------------------------+------+-----+--------+----+\n",
      "|The Four Cheese Pizza|Veggie  |Ricotta Cheese, Gorgonzola Piccante Cheese, Mozzarella Cheese, Parmigiano Reggiano Cheese, Garlic|Small |11.75|null    |null|\n",
      "|The Big Meat Pizza   |Classic |Bacon, Pepperoni, Italian Sausage, Chorizo Sausage                                               |Large |20.5 |null    |null|\n",
      "|The Five Cheese Pizza|Veggie  |Mozzarella Cheese, Provolone Cheese, Smoked Gouda Cheese, Romano Cheese, Blue Cheese, Garlic     |Small |12.5 |null    |null|\n",
      "|The Big Meat Pizza   |Classic |Bacon, Pepperoni, Italian Sausage, Chorizo Sausage                                               |Medium|16.0 |null    |null|\n",
      "|The Five Cheese Pizza|Veggie  |Mozzarella Cheese, Provolone Cheese, Smoked Gouda Cheese, Romano Cheese, Blue Cheese, Garlic     |Medium|15.5 |null    |null|\n",
      "+---------------------+--------+-------------------------------------------------------------------------------------------------+------+-----+--------+----+\n",
      "\n"
     ]
    }
   ],
   "source": [
    "dfPizzaWithoutOrdersFullNameSize = dfPizzaWithoutOrders.withColumn(\"Size\", when(dfPizzaWithoutOrders.Size ==\"S\", \"Small\")\n",
    "                                        .when(dfPizzaWithoutOrders.Size ==\"M\", \"Medium\")\n",
    "                                        .when(dfPizzaWithoutOrders.Size ==\"L\", \"Large\")\n",
    "                                        .when(dfPizzaWithoutOrders.Size ==\"XL\", \"Extra Large\")\n",
    "                                        .when(dfPizzaWithoutOrders.Size ==\"XXL\", \"Extra Extra Large\")\n",
    "                                        .when(dfPizzaWithoutOrders.Size.isNull(), \"Size unavailable\")\n",
    "                                        .otherwise(lit(\"No Size\")))\n",
    "\n",
    "dfPizzaWithoutOrdersFullNameSize.show(truncate=False)\n"
   ]
  },
  {
   "cell_type": "markdown",
   "id": "b7d3d31c",
   "metadata": {},
   "source": [
    "### Using loop for showing name, category and size of pizza"
   ]
  },
  {
   "cell_type": "code",
   "execution_count": 55,
   "id": "783f0709",
   "metadata": {},
   "outputs": [
    {
     "name": "stdout",
     "output_type": "stream",
     "text": [
      "Pizza name:  The Four Cheese Pizza ,Pizza Category:  Veggie ,Pizza size:  Small\n",
      "Pizza name:  The Big Meat Pizza ,Pizza Category:  Classic ,Pizza size:  Large\n",
      "Pizza name:  The Five Cheese Pizza ,Pizza Category:  Veggie ,Pizza size:  Small\n",
      "Pizza name:  The Big Meat Pizza ,Pizza Category:  Classic ,Pizza size:  Medium\n",
      "Pizza name:  The Five Cheese Pizza ,Pizza Category:  Veggie ,Pizza size:  Medium\n"
     ]
    }
   ],
   "source": [
    "dataCollect = dfPizzaWithoutOrdersFullNameSize.collect()\n",
    "\n",
    "for row in dataCollect:\n",
    "    print(\"Pizza name: \", row['Name'],\",Pizza Category: \", row['Category'], \",Pizza size: \", row[\"Size\"])"
   ]
  },
  {
   "cell_type": "markdown",
   "id": "f4cf2fd9",
   "metadata": {},
   "source": [
    "### Calculating the quantity of orders and total amount regarding pizza in each month"
   ]
  },
  {
   "cell_type": "code",
   "execution_count": 56,
   "id": "0368fa18",
   "metadata": {},
   "outputs": [],
   "source": [
    "dfPizzaDayNameMonthYear = dfPizzaDayMonthYear.withColumn(\"Month Name\",date_format(\"date\", \"MMMM\"))\n",
    "dfPizzaMonthQty = dfPizzaDayNameMonthYear.groupBy(\"Name\",\"Month Name\",\"Month\").count()\n",
    "dfPizzaMonthTotalAmount = dfPizzaDayNameMonthYear.groupBy(\"Name\",\"Month Name\",\"Month\").sum(\"Total Amount\")\n",
    "\n"
   ]
  },
  {
   "cell_type": "markdown",
   "id": "52196163",
   "metadata": {},
   "source": [
    "### Orders"
   ]
  },
  {
   "cell_type": "code",
   "execution_count": 57,
   "id": "58615372",
   "metadata": {},
   "outputs": [
    {
     "name": "stdout",
     "output_type": "stream",
     "text": [
      "+----------+---------------------------------+------------------+\n",
      "|Month Name|Name                             |Quantity of Orders|\n",
      "+----------+---------------------------------+------------------+\n",
      "|January   |The Spicy Italian Pizza          |147               |\n",
      "|January   |The Italian Supreme Pizza        |166               |\n",
      "|January   |The Vegetables + Vegetables Pizza|143               |\n",
      "|January   |The Sicilian Pizza               |186               |\n",
      "|January   |The Classic Deluxe Pizza         |189               |\n",
      "|January   |The Spinach and Feta Pizza       |123               |\n",
      "|January   |The California Chicken Pizza     |197               |\n",
      "|January   |The Thai Chicken Pizza           |197               |\n",
      "|January   |The Mediterranean Pizza          |66                |\n",
      "|January   |The Four Cheese Pizza            |153               |\n",
      "|January   |The Spinach Supreme Pizza        |87                |\n",
      "|January   |The Pepperoni Pizza              |235               |\n",
      "|January   |The Southwest Chicken Pizza      |135               |\n",
      "|January   |The Five Cheese Pizza            |134               |\n",
      "|January   |The Italian Vegetables Pizza     |100               |\n",
      "|January   |The Brie Carre Pizza             |34                |\n",
      "|January   |The Chicken Alfredo Pizza        |83                |\n",
      "|January   |The Green Garden Pizza           |74                |\n",
      "|January   |The Napolitana Pizza             |135               |\n",
      "|January   |The Prosciutto and Arugula Pizza |133               |\n",
      "+----------+---------------------------------+------------------+\n",
      "only showing top 20 rows\n",
      "\n"
     ]
    }
   ],
   "source": [
    "dfPizzaMonthNameQty = dfPizzaMonthQty.select(\"Month Name\",\n",
    "                        \"Name\",\n",
    "                        col(\"count\").alias(\"Quantity of Orders\")).orderBy(\"Month\")\n",
    "dfPizzaMonthNameQty.show(truncate=False)"
   ]
  },
  {
   "cell_type": "markdown",
   "id": "5d8a8c57",
   "metadata": {},
   "source": [
    "### Ranking"
   ]
  },
  {
   "cell_type": "code",
   "execution_count": 58,
   "id": "e6f232e8",
   "metadata": {},
   "outputs": [
    {
     "name": "stdout",
     "output_type": "stream",
     "text": [
      "+----------+---------------------------------+------------------+-------+\n",
      "|Month Name|Name                             |Quantity of Orders|Ranking|\n",
      "+----------+---------------------------------+------------------+-------+\n",
      "|January   |The Pepperoni Pizza              |235               |1      |\n",
      "|January   |The Barbecue Chicken Pizza       |206               |2      |\n",
      "|January   |The California Chicken Pizza     |197               |3      |\n",
      "|January   |The Thai Chicken Pizza           |197               |4      |\n",
      "|January   |The Classic Deluxe Pizza         |189               |5      |\n",
      "|January   |The Sicilian Pizza               |186               |6      |\n",
      "|January   |The Hawaiian Pizza               |182               |7      |\n",
      "|January   |The Italian Supreme Pizza        |166               |8      |\n",
      "|January   |The Four Cheese Pizza            |153               |9      |\n",
      "|January   |The Spicy Italian Pizza          |147               |10     |\n",
      "|January   |The Big Meat Pizza               |146               |11     |\n",
      "|January   |The Vegetables + Vegetables Pizza|143               |12     |\n",
      "|January   |The Southwest Chicken Pizza      |135               |13     |\n",
      "|January   |The Napolitana Pizza             |135               |14     |\n",
      "|January   |The Five Cheese Pizza            |134               |15     |\n",
      "|January   |The Prosciutto and Arugula Pizza |133               |16     |\n",
      "|January   |The Mexicana Pizza               |129               |17     |\n",
      "|January   |The Greek Pizza                  |128               |18     |\n",
      "|January   |The Pepper Salami Pizza          |128               |19     |\n",
      "|January   |The Spinach and Feta Pizza       |123               |20     |\n",
      "+----------+---------------------------------+------------------+-------+\n",
      "only showing top 20 rows\n",
      "\n"
     ]
    }
   ],
   "source": [
    "windowSpec = Window.partitionBy(\"Month Name\").orderBy(desc(\"count\"))\n",
    "\n",
    "dfPizzaMonthQtyRanking= dfPizzaMonthQty.withColumn(\"Ranking\"\n",
    "                           ,row_number().over(windowSpec)).orderBy(\"Month\",\n",
    "                                                                   desc(\"count\"))\n",
    "\n",
    "dfPizzaMonthQtyRanking.select(\"Month Name\",\n",
    "                              \"Name\",\n",
    "                              col(\"count\").alias(\"Quantity of Orders\"),\n",
    "                              \"Ranking\").show(truncate=False)"
   ]
  },
  {
   "cell_type": "code",
   "execution_count": 59,
   "id": "5f34d870",
   "metadata": {},
   "outputs": [
    {
     "name": "stdout",
     "output_type": "stream",
     "text": [
      "+----------+----------------------------+------------------+-------+\n",
      "|Month Name|Name                        |Quantity of Orders|Ranking|\n",
      "+----------+----------------------------+------------------+-------+\n",
      "|January   |The Pepperoni Pizza         |235               |1      |\n",
      "|February  |The Pepperoni Pizza         |201               |1      |\n",
      "|March     |The Barbecue Chicken Pizza  |229               |1      |\n",
      "|April     |The Classic Deluxe Pizza    |214               |1      |\n",
      "|May       |The Pepperoni Pizza         |238               |1      |\n",
      "|June      |The California Chicken Pizza|216               |1      |\n",
      "|July      |The Pepperoni Pizza         |223               |1      |\n",
      "|August    |The California Chicken Pizza|225               |1      |\n",
      "|September |The Classic Deluxe Pizza    |201               |1      |\n",
      "|October   |The Classic Deluxe Pizza    |193               |1      |\n",
      "|November  |The Hawaiian Pizza          |219               |1      |\n",
      "|December  |The Hawaiian Pizza          |206               |1      |\n",
      "+----------+----------------------------+------------------+-------+\n",
      "\n"
     ]
    }
   ],
   "source": [
    "dfPizzaMonthQtyFirstRanking = dfPizzaMonthQtyRanking.select(\"Month Name\",\n",
    "                              \"Name\",\n",
    "                              col(\"count\").alias(\"Quantity of Orders\"),\n",
    "                              \"Ranking\")\n",
    "\n",
    "dfPizzaMonthQtyFirstRanking.filter(dfPizzaMonthQtyFirstRanking.Ranking == 1).show(truncate=False)"
   ]
  },
  {
   "cell_type": "markdown",
   "id": "fbb960c3",
   "metadata": {},
   "source": [
    "### Maximum Quantity of Orders in month:"
   ]
  },
  {
   "cell_type": "code",
   "execution_count": 60,
   "id": "bd50dd25",
   "metadata": {},
   "outputs": [
    {
     "name": "stdout",
     "output_type": "stream",
     "text": [
      "+----------+-------------------+------------------+\n",
      "|Month Name|Name               |Quantity of Orders|\n",
      "+----------+-------------------+------------------+\n",
      "|May       |The Pepperoni Pizza|238               |\n",
      "+----------+-------------------+------------------+\n",
      "\n"
     ]
    }
   ],
   "source": [
    "MaxQtyOrder = dfPizzaMonthNameQty.agg({\"Quantity of Orders\": \"max\"}).collect()[0][0]\n",
    "\n",
    "dfPizzaMonthNameQty.filter(dfPizzaMonthNameQty[\"Quantity of Orders\"] == MaxQtyOrder).show(truncate=False)\n"
   ]
  },
  {
   "cell_type": "markdown",
   "id": "a3ce6a08",
   "metadata": {},
   "source": [
    "### Total Amount"
   ]
  },
  {
   "cell_type": "code",
   "execution_count": 61,
   "id": "69d70a8a",
   "metadata": {},
   "outputs": [
    {
     "name": "stdout",
     "output_type": "stream",
     "text": [
      "+----------+---------------------------------+------------+\n",
      "|Month Name|Name                             |Total Amount|\n",
      "+----------+---------------------------------+------------+\n",
      "|January   |The Spicy Italian Pizza          |2762.00     |\n",
      "|January   |The Italian Supreme Pizza        |2954.75     |\n",
      "|January   |The Vegetables + Vegetables Pizza|2289.50     |\n",
      "|January   |The Sicilian Pizza               |2987.75     |\n",
      "|January   |The Classic Deluxe Pizza         |2941.50     |\n",
      "|January   |The Spinach and Feta Pizza       |2047.25     |\n",
      "|January   |The California Chicken Pizza     |3471.50     |\n",
      "|January   |The Thai Chicken Pizza           |3657.25     |\n",
      "|January   |The Mediterranean Pizza          |1147.50     |\n",
      "|January   |The Four Cheese Pizza            |2671.65     |\n",
      "|January   |The Spinach Supreme Pizza        |1357.00     |\n",
      "|January   |The Pepperoni Pizza              |3001.25     |\n",
      "|January   |The Southwest Chicken Pizza      |2495.50     |\n",
      "|January   |The Five Cheese Pizza            |2553.00     |\n",
      "|January   |The Italian Vegetables Pizza     |1653.50     |\n",
      "|January   |The Brie Carre Pizza             |827.75      |\n",
      "|January   |The Chicken Alfredo Pizza        |1456.50     |\n",
      "|January   |The Green Garden Pizza           |1065.50     |\n",
      "|January   |The Napolitana Pizza             |2306.50     |\n",
      "|January   |The Prosciutto and Arugula Pizza |2218.00     |\n",
      "+----------+---------------------------------+------------+\n",
      "only showing top 20 rows\n",
      "\n"
     ]
    }
   ],
   "source": [
    "dfPizzaMonthNameTotalAmount = dfPizzaMonthTotalAmount.select(\"Month Name\",\n",
    "                        \"Name\",\n",
    "                        col(\"sum(Total Amount)\").alias(\"Total Amount\")).orderBy(\"Month\")\n",
    "\n",
    "dfPizzaMonthNameTotalAmount.show(truncate=False)\n"
   ]
  },
  {
   "cell_type": "markdown",
   "id": "af04958d",
   "metadata": {},
   "source": [
    "### Ranking"
   ]
  },
  {
   "cell_type": "code",
   "execution_count": 62,
   "id": "4dc9bc6d",
   "metadata": {},
   "outputs": [
    {
     "name": "stdout",
     "output_type": "stream",
     "text": [
      "+------------------------------------------+----------+-----+-----------------+\n",
      "|Name                                      |Month Name|Month|sum(Total Amount)|\n",
      "+------------------------------------------+----------+-----+-----------------+\n",
      "|The Spinach Supreme Pizza                 |September |9    |1116.25          |\n",
      "|The Italian Capocollo Pizza               |February  |2    |2079.00          |\n",
      "|The Sicilian Pizza                        |July      |7    |2473.75          |\n",
      "|The Chicken Pesto Pizza                   |November  |11   |1401.50          |\n",
      "|The Italian Vegetables Pizza              |August    |8    |1295.50          |\n",
      "|The Sicilian Pizza                        |April     |4    |2434.75          |\n",
      "|The Four Cheese Pizza                     |January   |1    |2671.65          |\n",
      "|The Spinach Supreme Pizza                 |March     |3    |1153.25          |\n",
      "|The Southwest Chicken Pizza               |June      |6    |2584.00          |\n",
      "|The Hawaiian Pizza                        |September |9    |2616.25          |\n",
      "|The Brie Carre Pizza                      |March     |3    |1087.90          |\n",
      "|The Big Meat Pizza                        |October   |10   |1812.00          |\n",
      "|The Pepper Salami Pizza                   |August    |8    |1894.25          |\n",
      "|The Pepperoni Pizza                       |April     |4    |2112.75          |\n",
      "|The Pepperoni, Mushroom, and Peppers Pizza|October   |10   |1474.00          |\n",
      "|The California Chicken Pizza              |September |9    |3088.75          |\n",
      "|The Prosciutto and Arugula Pizza          |June      |6    |1876.75          |\n",
      "|The Chicken Pesto Pizza                   |May       |5    |1379.25          |\n",
      "|The Italian Supreme Pizza                 |January   |1    |2954.75          |\n",
      "|The Spinach Pesto Pizza                   |February  |2    |1211.00          |\n",
      "+------------------------------------------+----------+-----+-----------------+\n",
      "only showing top 20 rows\n",
      "\n"
     ]
    }
   ],
   "source": [
    "dfPizzaMonthTotalAmount.show(truncate=False)"
   ]
  },
  {
   "cell_type": "code",
   "execution_count": 63,
   "id": "d58f952c",
   "metadata": {},
   "outputs": [
    {
     "name": "stdout",
     "output_type": "stream",
     "text": [
      "+----------+---------------------------------+------------+-------+\n",
      "|Month Name|Name                             |Total Amount|Ranking|\n",
      "+----------+---------------------------------+------------+-------+\n",
      "|January   |The Barbecue Chicken Pizza       |3770.25     |1      |\n",
      "|January   |The Thai Chicken Pizza           |3657.25     |2      |\n",
      "|January   |The California Chicken Pizza     |3471.50     |3      |\n",
      "|January   |The Pepperoni Pizza              |3001.25     |4      |\n",
      "|January   |The Sicilian Pizza               |2987.75     |5      |\n",
      "|January   |The Italian Supreme Pizza        |2954.75     |6      |\n",
      "|January   |The Classic Deluxe Pizza         |2941.50     |7      |\n",
      "|January   |The Spicy Italian Pizza          |2762.00     |8      |\n",
      "|January   |The Four Cheese Pizza            |2671.65     |9      |\n",
      "|January   |The Five Cheese Pizza            |2553.00     |10     |\n",
      "|January   |The Greek Pizza                  |2539.40     |11     |\n",
      "|January   |The Southwest Chicken Pizza      |2495.50     |12     |\n",
      "|January   |The Hawaiian Pizza               |2442.75     |13     |\n",
      "|January   |The Mexicana Pizza               |2358.25     |14     |\n",
      "|January   |The Pepper Salami Pizza          |2342.25     |15     |\n",
      "|January   |The Napolitana Pizza             |2306.50     |16     |\n",
      "|January   |The Vegetables + Vegetables Pizza|2289.50     |17     |\n",
      "|January   |The Prosciutto and Arugula Pizza |2218.00     |18     |\n",
      "|January   |The Italian Capocollo Pizza      |2153.00     |19     |\n",
      "|January   |The Spinach and Feta Pizza       |2047.25     |20     |\n",
      "+----------+---------------------------------+------------+-------+\n",
      "only showing top 20 rows\n",
      "\n"
     ]
    }
   ],
   "source": [
    "windowSpec = Window.partitionBy(\"Month Name\").orderBy(desc(\"sum(Total Amount)\"))\n",
    "\n",
    "dfPizzaMonthTotalAmountRanking= dfPizzaMonthTotalAmount.withColumn(\"Ranking\"\n",
    "                           ,row_number().over(windowSpec)).orderBy(\"Month\",\n",
    "                                                                   desc(\"sum(Total Amount)\"))\n",
    "\n",
    "dfPizzaMonthTotalAmountRanking.select(\"Month Name\",\n",
    "                                      \"Name\",\n",
    "                                      col(\"sum(Total Amount)\").alias(\"Total Amount\"),\n",
    "                                      \"Ranking\").show(truncate=False)"
   ]
  },
  {
   "cell_type": "code",
   "execution_count": 64,
   "id": "c61df9a4",
   "metadata": {},
   "outputs": [
    {
     "name": "stdout",
     "output_type": "stream",
     "text": [
      "+----------+----------------------------+------------+-------+\n",
      "|Month Name|Name                        |Total Amount|Ranking|\n",
      "+----------+----------------------------+------------+-------+\n",
      "|January   |The Barbecue Chicken Pizza  |3770.25     |1      |\n",
      "|February  |The California Chicken Pizza|3537.00     |1      |\n",
      "|March     |The Barbecue Chicken Pizza  |4049.25     |1      |\n",
      "|April     |The Barbecue Chicken Pizza  |3788.50     |1      |\n",
      "|May       |The Barbecue Chicken Pizza  |3953.50     |1      |\n",
      "|June      |The California Chicken Pizza|3870.50     |1      |\n",
      "|July      |The Thai Chicken Pizza      |4073.75     |1      |\n",
      "|August    |The California Chicken Pizza|3977.25     |1      |\n",
      "|September |The Thai Chicken Pizza      |3736.25     |1      |\n",
      "|October   |The Thai Chicken Pizza      |3503.25     |1      |\n",
      "|November  |The Barbecue Chicken Pizza  |3881.75     |1      |\n",
      "|December  |The Thai Chicken Pizza      |3813.00     |1      |\n",
      "+----------+----------------------------+------------+-------+\n",
      "\n"
     ]
    }
   ],
   "source": [
    "dfPizzaMonthTotalAmountFirstRanking = dfPizzaMonthTotalAmountRanking.select(\"Month Name\",\n",
    "                                      \"Name\",\n",
    "                                      col(\"sum(Total Amount)\").alias(\"Total Amount\"),\n",
    "                                      \"Ranking\")\n",
    "\n",
    "dfPizzaMonthTotalAmountFirstRanking.filter(dfPizzaMonthTotalAmountFirstRanking.Ranking == 1).show(truncate=False)"
   ]
  },
  {
   "cell_type": "markdown",
   "id": "0c15b594",
   "metadata": {},
   "source": [
    "### Using Pandas API to filter data"
   ]
  },
  {
   "cell_type": "code",
   "execution_count": 65,
   "id": "7526e187",
   "metadata": {},
   "outputs": [
    {
     "name": "stdout",
     "output_type": "stream",
     "text": [
      "<class 'pyspark.pandas.frame.DataFrame'>\n"
     ]
    },
    {
     "data": {
      "text/html": [
       "<div>\n",
       "<style scoped>\n",
       "    .dataframe tbody tr th:only-of-type {\n",
       "        vertical-align: middle;\n",
       "    }\n",
       "\n",
       "    .dataframe tbody tr th {\n",
       "        vertical-align: top;\n",
       "    }\n",
       "\n",
       "    .dataframe thead th {\n",
       "        text-align: right;\n",
       "    }\n",
       "</style>\n",
       "<table border=\"1\" class=\"dataframe\">\n",
       "  <thead>\n",
       "    <tr style=\"text-align: right;\">\n",
       "      <th></th>\n",
       "      <th>Month Name</th>\n",
       "      <th>Name</th>\n",
       "      <th>Total Amount</th>\n",
       "      <th>Ranking</th>\n",
       "    </tr>\n",
       "  </thead>\n",
       "  <tbody>\n",
       "    <tr>\n",
       "      <th>0</th>\n",
       "      <td>January</td>\n",
       "      <td>The Barbecue Chicken Pizza</td>\n",
       "      <td>3770.25</td>\n",
       "      <td>1</td>\n",
       "    </tr>\n",
       "    <tr>\n",
       "      <th>1</th>\n",
       "      <td>February</td>\n",
       "      <td>The California Chicken Pizza</td>\n",
       "      <td>3537.00</td>\n",
       "      <td>1</td>\n",
       "    </tr>\n",
       "    <tr>\n",
       "      <th>2</th>\n",
       "      <td>March</td>\n",
       "      <td>The Barbecue Chicken Pizza</td>\n",
       "      <td>4049.25</td>\n",
       "      <td>1</td>\n",
       "    </tr>\n",
       "    <tr>\n",
       "      <th>3</th>\n",
       "      <td>April</td>\n",
       "      <td>The Barbecue Chicken Pizza</td>\n",
       "      <td>3788.50</td>\n",
       "      <td>1</td>\n",
       "    </tr>\n",
       "    <tr>\n",
       "      <th>4</th>\n",
       "      <td>May</td>\n",
       "      <td>The Barbecue Chicken Pizza</td>\n",
       "      <td>3953.50</td>\n",
       "      <td>1</td>\n",
       "    </tr>\n",
       "    <tr>\n",
       "      <th>5</th>\n",
       "      <td>June</td>\n",
       "      <td>The California Chicken Pizza</td>\n",
       "      <td>3870.50</td>\n",
       "      <td>1</td>\n",
       "    </tr>\n",
       "    <tr>\n",
       "      <th>6</th>\n",
       "      <td>July</td>\n",
       "      <td>The Thai Chicken Pizza</td>\n",
       "      <td>4073.75</td>\n",
       "      <td>1</td>\n",
       "    </tr>\n",
       "    <tr>\n",
       "      <th>7</th>\n",
       "      <td>August</td>\n",
       "      <td>The California Chicken Pizza</td>\n",
       "      <td>3977.25</td>\n",
       "      <td>1</td>\n",
       "    </tr>\n",
       "    <tr>\n",
       "      <th>8</th>\n",
       "      <td>September</td>\n",
       "      <td>The Thai Chicken Pizza</td>\n",
       "      <td>3736.25</td>\n",
       "      <td>1</td>\n",
       "    </tr>\n",
       "    <tr>\n",
       "      <th>9</th>\n",
       "      <td>October</td>\n",
       "      <td>The Thai Chicken Pizza</td>\n",
       "      <td>3503.25</td>\n",
       "      <td>1</td>\n",
       "    </tr>\n",
       "    <tr>\n",
       "      <th>10</th>\n",
       "      <td>November</td>\n",
       "      <td>The Barbecue Chicken Pizza</td>\n",
       "      <td>3881.75</td>\n",
       "      <td>1</td>\n",
       "    </tr>\n",
       "    <tr>\n",
       "      <th>11</th>\n",
       "      <td>December</td>\n",
       "      <td>The Thai Chicken Pizza</td>\n",
       "      <td>3813.00</td>\n",
       "      <td>1</td>\n",
       "    </tr>\n",
       "  </tbody>\n",
       "</table>\n",
       "</div>"
      ],
      "text/plain": [
       "   Month Name                          Name Total Amount  Ranking\n",
       "0     January    The Barbecue Chicken Pizza      3770.25        1\n",
       "1    February  The California Chicken Pizza      3537.00        1\n",
       "2       March    The Barbecue Chicken Pizza      4049.25        1\n",
       "3       April    The Barbecue Chicken Pizza      3788.50        1\n",
       "4         May    The Barbecue Chicken Pizza      3953.50        1\n",
       "5        June  The California Chicken Pizza      3870.50        1\n",
       "6        July        The Thai Chicken Pizza      4073.75        1\n",
       "7      August  The California Chicken Pizza      3977.25        1\n",
       "8   September        The Thai Chicken Pizza      3736.25        1\n",
       "9     October        The Thai Chicken Pizza      3503.25        1\n",
       "10   November    The Barbecue Chicken Pizza      3881.75        1\n",
       "11   December        The Thai Chicken Pizza      3813.00        1"
      ]
     },
     "execution_count": 65,
     "metadata": {},
     "output_type": "execute_result"
    }
   ],
   "source": [
    "dfPandasAPI = dfPizzaMonthTotalAmountFirstRanking.filter(dfPizzaMonthTotalAmountFirstRanking.Ranking == 1)\n",
    "psdf = dfPandasAPI.pandas_api()\n",
    "print(type(psdf))\n",
    "psdf"
   ]
  },
  {
   "cell_type": "code",
   "execution_count": 66,
   "id": "8763d011",
   "metadata": {},
   "outputs": [
    {
     "data": {
      "text/html": [
       "<div>\n",
       "<style scoped>\n",
       "    .dataframe tbody tr th:only-of-type {\n",
       "        vertical-align: middle;\n",
       "    }\n",
       "\n",
       "    .dataframe tbody tr th {\n",
       "        vertical-align: top;\n",
       "    }\n",
       "\n",
       "    .dataframe thead th {\n",
       "        text-align: right;\n",
       "    }\n",
       "</style>\n",
       "<table border=\"1\" class=\"dataframe\">\n",
       "  <thead>\n",
       "    <tr style=\"text-align: right;\">\n",
       "      <th></th>\n",
       "      <th>Month Name</th>\n",
       "      <th>Name</th>\n",
       "      <th>Total Amount</th>\n",
       "      <th>Ranking</th>\n",
       "    </tr>\n",
       "  </thead>\n",
       "  <tbody>\n",
       "    <tr>\n",
       "      <th>8</th>\n",
       "      <td>September</td>\n",
       "      <td>The Thai Chicken Pizza</td>\n",
       "      <td>3736.25</td>\n",
       "      <td>1</td>\n",
       "    </tr>\n",
       "    <tr>\n",
       "      <th>9</th>\n",
       "      <td>October</td>\n",
       "      <td>The Thai Chicken Pizza</td>\n",
       "      <td>3503.25</td>\n",
       "      <td>1</td>\n",
       "    </tr>\n",
       "    <tr>\n",
       "      <th>10</th>\n",
       "      <td>November</td>\n",
       "      <td>The Barbecue Chicken Pizza</td>\n",
       "      <td>3881.75</td>\n",
       "      <td>1</td>\n",
       "    </tr>\n",
       "    <tr>\n",
       "      <th>11</th>\n",
       "      <td>December</td>\n",
       "      <td>The Thai Chicken Pizza</td>\n",
       "      <td>3813.00</td>\n",
       "      <td>1</td>\n",
       "    </tr>\n",
       "  </tbody>\n",
       "</table>\n",
       "</div>"
      ],
      "text/plain": [
       "   Month Name                        Name Total Amount  Ranking\n",
       "8   September      The Thai Chicken Pizza      3736.25        1\n",
       "9     October      The Thai Chicken Pizza      3503.25        1\n",
       "10   November  The Barbecue Chicken Pizza      3881.75        1\n",
       "11   December      The Thai Chicken Pizza      3813.00        1"
      ]
     },
     "execution_count": 66,
     "metadata": {},
     "output_type": "execute_result"
    }
   ],
   "source": [
    "Months = [\"September\", \"October\", \"November\", \"December\"]\n",
    "psdf[(psdf[\"Month Name\"].isin(Months))]"
   ]
  },
  {
   "cell_type": "markdown",
   "id": "4e652aea",
   "metadata": {},
   "source": [
    "### Maximum Total Amount in month:"
   ]
  },
  {
   "cell_type": "code",
   "execution_count": 67,
   "id": "bef29a08",
   "metadata": {},
   "outputs": [
    {
     "name": "stdout",
     "output_type": "stream",
     "text": [
      "+----------+----------------------+------------+\n",
      "|Month Name|Name                  |Total Amount|\n",
      "+----------+----------------------+------------+\n",
      "|July      |The Thai Chicken Pizza|4073.75     |\n",
      "+----------+----------------------+------------+\n",
      "\n"
     ]
    }
   ],
   "source": [
    "MaxTotalAmount = dfPizzaMonthNameTotalAmount.agg({\"Total Amount\": \"max\"}).collect()[0][0]\n",
    "\n",
    "dfPizzaMonthNameTotalAmount.filter(dfPizzaMonthNameTotalAmount[\"Total Amount\"] == MaxTotalAmount).show(truncate=False)"
   ]
  },
  {
   "cell_type": "markdown",
   "id": "977c3b44",
   "metadata": {},
   "source": [
    "### Looking for spicy ingredients in pizza"
   ]
  },
  {
   "cell_type": "code",
   "execution_count": 68,
   "id": "e8bafc88",
   "metadata": {},
   "outputs": [
    {
     "name": "stdout",
     "output_type": "stream",
     "text": [
      "+-----------------------+--------+-------------------------------------------------------------------+----+-----+--------+------------+----------+\n",
      "|Name                   |Category|Ingredients                                                        |Size|Price|Quantity|Total Amount|Date      |\n",
      "+-----------------------+--------+-------------------------------------------------------------------+----+-----+--------+------------+----------+\n",
      "|The Pepper Salami Pizza|SUPREME |Genoa Salami, Capocollo, Pepperoni, Tomatoes, Asiago Cheese, Garlic|S   |12.50|1       |12.50       |2015-12-31|\n",
      "|The Pepper Salami Pizza|SUPREME |Genoa Salami, Capocollo, Pepperoni, Tomatoes, Asiago Cheese, Garlic|S   |12.50|1       |12.50       |2015-12-31|\n",
      "|The Pepper Salami Pizza|SUPREME |Genoa Salami, Capocollo, Pepperoni, Tomatoes, Asiago Cheese, Garlic|S   |12.50|1       |12.50       |2015-12-31|\n",
      "|The Pepper Salami Pizza|SUPREME |Genoa Salami, Capocollo, Pepperoni, Tomatoes, Asiago Cheese, Garlic|S   |12.50|1       |12.50       |2015-12-31|\n",
      "|The Pepper Salami Pizza|SUPREME |Genoa Salami, Capocollo, Pepperoni, Tomatoes, Asiago Cheese, Garlic|S   |12.50|1       |12.50       |2015-12-28|\n",
      "|The Pepper Salami Pizza|SUPREME |Genoa Salami, Capocollo, Pepperoni, Tomatoes, Asiago Cheese, Garlic|S   |12.50|1       |12.50       |2015-12-23|\n",
      "|The Pepper Salami Pizza|SUPREME |Genoa Salami, Capocollo, Pepperoni, Tomatoes, Asiago Cheese, Garlic|S   |12.50|1       |12.50       |2015-12-22|\n",
      "|The Pepper Salami Pizza|SUPREME |Genoa Salami, Capocollo, Pepperoni, Tomatoes, Asiago Cheese, Garlic|S   |12.50|1       |12.50       |2015-12-21|\n",
      "|The Pepper Salami Pizza|SUPREME |Genoa Salami, Capocollo, Pepperoni, Tomatoes, Asiago Cheese, Garlic|S   |12.50|1       |12.50       |2015-12-20|\n",
      "|The Pepper Salami Pizza|SUPREME |Genoa Salami, Capocollo, Pepperoni, Tomatoes, Asiago Cheese, Garlic|S   |12.50|1       |12.50       |2015-12-20|\n",
      "|The Pepper Salami Pizza|SUPREME |Genoa Salami, Capocollo, Pepperoni, Tomatoes, Asiago Cheese, Garlic|S   |12.50|1       |12.50       |2015-12-20|\n",
      "|The Pepper Salami Pizza|SUPREME |Genoa Salami, Capocollo, Pepperoni, Tomatoes, Asiago Cheese, Garlic|S   |12.50|1       |12.50       |2015-12-18|\n",
      "|The Pepper Salami Pizza|SUPREME |Genoa Salami, Capocollo, Pepperoni, Tomatoes, Asiago Cheese, Garlic|S   |12.50|1       |12.50       |2015-12-18|\n",
      "|The Pepper Salami Pizza|SUPREME |Genoa Salami, Capocollo, Pepperoni, Tomatoes, Asiago Cheese, Garlic|S   |12.50|1       |12.50       |2015-12-17|\n",
      "|The Pepper Salami Pizza|SUPREME |Genoa Salami, Capocollo, Pepperoni, Tomatoes, Asiago Cheese, Garlic|S   |12.50|1       |12.50       |2015-12-17|\n",
      "|The Pepper Salami Pizza|SUPREME |Genoa Salami, Capocollo, Pepperoni, Tomatoes, Asiago Cheese, Garlic|S   |12.50|1       |12.50       |2015-12-16|\n",
      "|The Pepper Salami Pizza|SUPREME |Genoa Salami, Capocollo, Pepperoni, Tomatoes, Asiago Cheese, Garlic|S   |12.50|1       |12.50       |2015-12-15|\n",
      "|The Pepper Salami Pizza|SUPREME |Genoa Salami, Capocollo, Pepperoni, Tomatoes, Asiago Cheese, Garlic|S   |12.50|1       |12.50       |2015-12-15|\n",
      "|The Pepper Salami Pizza|SUPREME |Genoa Salami, Capocollo, Pepperoni, Tomatoes, Asiago Cheese, Garlic|S   |12.50|1       |12.50       |2015-12-15|\n",
      "|The Pepper Salami Pizza|SUPREME |Genoa Salami, Capocollo, Pepperoni, Tomatoes, Asiago Cheese, Garlic|S   |12.50|1       |12.50       |2015-12-13|\n",
      "+-----------------------+--------+-------------------------------------------------------------------+----+-----+--------+------------+----------+\n",
      "only showing top 20 rows\n",
      "\n"
     ]
    }
   ],
   "source": [
    "dfPizza.filter(col(\"Ingredients\").like(\"%Pepper%\")).show(truncate=False)"
   ]
  },
  {
   "cell_type": "code",
   "execution_count": 69,
   "id": "c490e9aa",
   "metadata": {},
   "outputs": [
    {
     "name": "stdout",
     "output_type": "stream",
     "text": [
      "+--------------------------+--------+-----------------------------------------------------------------------------------+----+-----+--------+------------+----------+\n",
      "|Name                      |Category|Ingredients                                                                        |Size|Price|Quantity|Total Amount|Date      |\n",
      "+--------------------------+--------+-----------------------------------------------------------------------------------+----+-----+--------+------------+----------+\n",
      "|The Barbecue Chicken Pizza|CHICKEN |Barbecued Chicken, Red Peppers, Green Peppers, Tomatoes, Red Onions, Barbecue Sauce|L   |20.75|1       |20.75       |2015-01-01|\n",
      "|The Barbecue Chicken Pizza|CHICKEN |Barbecued Chicken, Red Peppers, Green Peppers, Tomatoes, Red Onions, Barbecue Sauce|L   |20.75|1       |20.75       |2015-01-01|\n",
      "|The Barbecue Chicken Pizza|CHICKEN |Barbecued Chicken, Red Peppers, Green Peppers, Tomatoes, Red Onions, Barbecue Sauce|L   |20.75|1       |20.75       |2015-01-01|\n",
      "|The Barbecue Chicken Pizza|CHICKEN |Barbecued Chicken, Red Peppers, Green Peppers, Tomatoes, Red Onions, Barbecue Sauce|L   |20.75|1       |20.75       |2015-01-01|\n",
      "|The Barbecue Chicken Pizza|CHICKEN |Barbecued Chicken, Red Peppers, Green Peppers, Tomatoes, Red Onions, Barbecue Sauce|L   |20.75|1       |20.75       |2015-01-01|\n",
      "|The Barbecue Chicken Pizza|CHICKEN |Barbecued Chicken, Red Peppers, Green Peppers, Tomatoes, Red Onions, Barbecue Sauce|L   |20.75|1       |20.75       |2015-01-01|\n",
      "|The Barbecue Chicken Pizza|CHICKEN |Barbecued Chicken, Red Peppers, Green Peppers, Tomatoes, Red Onions, Barbecue Sauce|L   |20.75|2       |41.50       |2015-01-02|\n",
      "|The Barbecue Chicken Pizza|CHICKEN |Barbecued Chicken, Red Peppers, Green Peppers, Tomatoes, Red Onions, Barbecue Sauce|L   |20.75|1       |20.75       |2015-01-02|\n",
      "|The Barbecue Chicken Pizza|CHICKEN |Barbecued Chicken, Red Peppers, Green Peppers, Tomatoes, Red Onions, Barbecue Sauce|L   |20.75|1       |20.75       |2015-01-03|\n",
      "|The Barbecue Chicken Pizza|CHICKEN |Barbecued Chicken, Red Peppers, Green Peppers, Tomatoes, Red Onions, Barbecue Sauce|L   |20.75|1       |20.75       |2015-01-03|\n",
      "|The Barbecue Chicken Pizza|CHICKEN |Barbecued Chicken, Red Peppers, Green Peppers, Tomatoes, Red Onions, Barbecue Sauce|L   |20.75|1       |20.75       |2015-01-03|\n",
      "|The Barbecue Chicken Pizza|CHICKEN |Barbecued Chicken, Red Peppers, Green Peppers, Tomatoes, Red Onions, Barbecue Sauce|L   |20.75|1       |20.75       |2015-01-04|\n",
      "|The Barbecue Chicken Pizza|CHICKEN |Barbecued Chicken, Red Peppers, Green Peppers, Tomatoes, Red Onions, Barbecue Sauce|L   |20.75|1       |20.75       |2015-01-04|\n",
      "|The Barbecue Chicken Pizza|CHICKEN |Barbecued Chicken, Red Peppers, Green Peppers, Tomatoes, Red Onions, Barbecue Sauce|L   |20.75|1       |20.75       |2015-01-04|\n",
      "|The Barbecue Chicken Pizza|CHICKEN |Barbecued Chicken, Red Peppers, Green Peppers, Tomatoes, Red Onions, Barbecue Sauce|L   |20.75|1       |20.75       |2015-01-04|\n",
      "|The Barbecue Chicken Pizza|CHICKEN |Barbecued Chicken, Red Peppers, Green Peppers, Tomatoes, Red Onions, Barbecue Sauce|L   |20.75|1       |20.75       |2015-01-04|\n",
      "|The Barbecue Chicken Pizza|CHICKEN |Barbecued Chicken, Red Peppers, Green Peppers, Tomatoes, Red Onions, Barbecue Sauce|L   |20.75|1       |20.75       |2015-01-04|\n",
      "|The Barbecue Chicken Pizza|CHICKEN |Barbecued Chicken, Red Peppers, Green Peppers, Tomatoes, Red Onions, Barbecue Sauce|L   |20.75|1       |20.75       |2015-01-05|\n",
      "|The Barbecue Chicken Pizza|CHICKEN |Barbecued Chicken, Red Peppers, Green Peppers, Tomatoes, Red Onions, Barbecue Sauce|L   |20.75|1       |20.75       |2015-01-06|\n",
      "|The Barbecue Chicken Pizza|CHICKEN |Barbecued Chicken, Red Peppers, Green Peppers, Tomatoes, Red Onions, Barbecue Sauce|L   |20.75|1       |20.75       |2015-01-06|\n",
      "+--------------------------+--------+-----------------------------------------------------------------------------------+----+-----+--------+------------+----------+\n",
      "only showing top 20 rows\n",
      "\n"
     ]
    }
   ],
   "source": [
    "dfPizza.filter(col(\"Ingredients\").like(\"%Onion%\")).show(truncate=False)"
   ]
  },
  {
   "cell_type": "code",
   "execution_count": 70,
   "id": "00d87b26",
   "metadata": {},
   "outputs": [
    {
     "name": "stdout",
     "output_type": "stream",
     "text": [
      "+----------------------+--------+-------------------------------------------------------+----+-----+--------+------------+----------+\n",
      "|Name                  |Category|Ingredients                                            |Size|Price|Quantity|Total Amount|Date      |\n",
      "+----------------------+--------+-------------------------------------------------------+----+-----+--------+------------+----------+\n",
      "|The Green Garden Pizza|VEGGIE  |Spinach, Mushrooms, Tomatoes, Green Olives, Feta Cheese|L   |20.25|1       |20.25       |2015-01-01|\n",
      "|The Green Garden Pizza|VEGGIE  |Spinach, Mushrooms, Tomatoes, Green Olives, Feta Cheese|L   |20.25|1       |20.25       |2015-01-08|\n",
      "|The Green Garden Pizza|VEGGIE  |Spinach, Mushrooms, Tomatoes, Green Olives, Feta Cheese|L   |20.25|1       |20.25       |2015-01-08|\n",
      "|The Green Garden Pizza|VEGGIE  |Spinach, Mushrooms, Tomatoes, Green Olives, Feta Cheese|L   |20.25|1       |20.25       |2015-01-16|\n",
      "|The Green Garden Pizza|VEGGIE  |Spinach, Mushrooms, Tomatoes, Green Olives, Feta Cheese|L   |20.25|1       |20.25       |2015-01-18|\n",
      "|The Green Garden Pizza|VEGGIE  |Spinach, Mushrooms, Tomatoes, Green Olives, Feta Cheese|L   |20.25|1       |20.25       |2015-01-19|\n",
      "|The Green Garden Pizza|VEGGIE  |Spinach, Mushrooms, Tomatoes, Green Olives, Feta Cheese|L   |20.25|1       |20.25       |2015-02-14|\n",
      "|The Green Garden Pizza|VEGGIE  |Spinach, Mushrooms, Tomatoes, Green Olives, Feta Cheese|L   |20.25|1       |20.25       |2015-02-18|\n",
      "|The Green Garden Pizza|VEGGIE  |Spinach, Mushrooms, Tomatoes, Green Olives, Feta Cheese|L   |20.25|1       |20.25       |2015-02-21|\n",
      "|The Green Garden Pizza|VEGGIE  |Spinach, Mushrooms, Tomatoes, Green Olives, Feta Cheese|L   |20.25|1       |20.25       |2015-02-23|\n",
      "|The Green Garden Pizza|VEGGIE  |Spinach, Mushrooms, Tomatoes, Green Olives, Feta Cheese|L   |20.25|1       |20.25       |2015-02-23|\n",
      "|The Green Garden Pizza|VEGGIE  |Spinach, Mushrooms, Tomatoes, Green Olives, Feta Cheese|L   |20.25|1       |20.25       |2015-02-23|\n",
      "|The Green Garden Pizza|VEGGIE  |Spinach, Mushrooms, Tomatoes, Green Olives, Feta Cheese|L   |20.25|1       |20.25       |2015-02-27|\n",
      "|The Green Garden Pizza|VEGGIE  |Spinach, Mushrooms, Tomatoes, Green Olives, Feta Cheese|L   |20.25|1       |20.25       |2015-02-27|\n",
      "|The Green Garden Pizza|VEGGIE  |Spinach, Mushrooms, Tomatoes, Green Olives, Feta Cheese|L   |20.25|1       |20.25       |2015-02-27|\n",
      "|The Green Garden Pizza|VEGGIE  |Spinach, Mushrooms, Tomatoes, Green Olives, Feta Cheese|L   |20.25|1       |20.25       |2015-02-28|\n",
      "|The Green Garden Pizza|VEGGIE  |Spinach, Mushrooms, Tomatoes, Green Olives, Feta Cheese|L   |20.25|1       |20.25       |2015-03-02|\n",
      "|The Green Garden Pizza|VEGGIE  |Spinach, Mushrooms, Tomatoes, Green Olives, Feta Cheese|L   |20.25|1       |20.25       |2015-03-07|\n",
      "|The Green Garden Pizza|VEGGIE  |Spinach, Mushrooms, Tomatoes, Green Olives, Feta Cheese|L   |20.25|1       |20.25       |2015-03-08|\n",
      "|The Green Garden Pizza|VEGGIE  |Spinach, Mushrooms, Tomatoes, Green Olives, Feta Cheese|L   |20.25|1       |20.25       |2015-03-09|\n",
      "+----------------------+--------+-------------------------------------------------------+----+-----+--------+------------+----------+\n",
      "only showing top 20 rows\n",
      "\n"
     ]
    }
   ],
   "source": [
    "dfPizza.filter(col(\"Ingredients\").like(\"%Olives%\")).show(truncate=False)"
   ]
  },
  {
   "cell_type": "code",
   "execution_count": 71,
   "id": "273d8c5f",
   "metadata": {},
   "outputs": [
    {
     "name": "stdout",
     "output_type": "stream",
     "text": [
      "+-------------------------+--------+-----------------------------------------------------------------------+----+-----+--------+------------+----------+\n",
      "|Name                     |Category|Ingredients                                                            |Size|Price|Quantity|Total Amount|Date      |\n",
      "+-------------------------+--------+-----------------------------------------------------------------------+----+-----+--------+------------+----------+\n",
      "|The Italian Supreme Pizza|SUPREME |Calabrese Salami, Capocollo, Tomatoes, Red Onions, Green Olives, Garlic|S   |12.50|1       |12.50       |2015-12-30|\n",
      "|The Italian Supreme Pizza|SUPREME |Calabrese Salami, Capocollo, Tomatoes, Red Onions, Green Olives, Garlic|S   |12.50|1       |12.50       |2015-12-27|\n",
      "|The Italian Supreme Pizza|SUPREME |Calabrese Salami, Capocollo, Tomatoes, Red Onions, Green Olives, Garlic|S   |12.50|1       |12.50       |2015-12-24|\n",
      "|The Italian Supreme Pizza|SUPREME |Calabrese Salami, Capocollo, Tomatoes, Red Onions, Green Olives, Garlic|S   |12.50|1       |12.50       |2015-12-23|\n",
      "|The Italian Supreme Pizza|SUPREME |Calabrese Salami, Capocollo, Tomatoes, Red Onions, Green Olives, Garlic|S   |12.50|1       |12.50       |2015-12-20|\n",
      "|The Italian Supreme Pizza|SUPREME |Calabrese Salami, Capocollo, Tomatoes, Red Onions, Green Olives, Garlic|S   |12.50|1       |12.50       |2015-12-16|\n",
      "|The Italian Supreme Pizza|SUPREME |Calabrese Salami, Capocollo, Tomatoes, Red Onions, Green Olives, Garlic|S   |12.50|1       |12.50       |2015-12-13|\n",
      "|The Italian Supreme Pizza|SUPREME |Calabrese Salami, Capocollo, Tomatoes, Red Onions, Green Olives, Garlic|S   |12.50|1       |12.50       |2015-12-13|\n",
      "|The Italian Supreme Pizza|SUPREME |Calabrese Salami, Capocollo, Tomatoes, Red Onions, Green Olives, Garlic|S   |12.50|1       |12.50       |2015-12-12|\n",
      "|The Italian Supreme Pizza|SUPREME |Calabrese Salami, Capocollo, Tomatoes, Red Onions, Green Olives, Garlic|S   |12.50|1       |12.50       |2015-12-09|\n",
      "|The Italian Supreme Pizza|SUPREME |Calabrese Salami, Capocollo, Tomatoes, Red Onions, Green Olives, Garlic|S   |12.50|1       |12.50       |2015-12-08|\n",
      "|The Italian Supreme Pizza|SUPREME |Calabrese Salami, Capocollo, Tomatoes, Red Onions, Green Olives, Garlic|S   |12.50|1       |12.50       |2015-12-06|\n",
      "|The Italian Supreme Pizza|SUPREME |Calabrese Salami, Capocollo, Tomatoes, Red Onions, Green Olives, Garlic|S   |12.50|1       |12.50       |2015-11-29|\n",
      "|The Italian Supreme Pizza|SUPREME |Calabrese Salami, Capocollo, Tomatoes, Red Onions, Green Olives, Garlic|S   |12.50|1       |12.50       |2015-11-29|\n",
      "|The Italian Supreme Pizza|SUPREME |Calabrese Salami, Capocollo, Tomatoes, Red Onions, Green Olives, Garlic|S   |12.50|1       |12.50       |2015-11-28|\n",
      "|The Italian Supreme Pizza|SUPREME |Calabrese Salami, Capocollo, Tomatoes, Red Onions, Green Olives, Garlic|S   |12.50|1       |12.50       |2015-11-24|\n",
      "|The Italian Supreme Pizza|SUPREME |Calabrese Salami, Capocollo, Tomatoes, Red Onions, Green Olives, Garlic|S   |12.50|1       |12.50       |2015-11-21|\n",
      "|The Italian Supreme Pizza|SUPREME |Calabrese Salami, Capocollo, Tomatoes, Red Onions, Green Olives, Garlic|S   |12.50|1       |12.50       |2015-11-15|\n",
      "|The Italian Supreme Pizza|SUPREME |Calabrese Salami, Capocollo, Tomatoes, Red Onions, Green Olives, Garlic|S   |12.50|1       |12.50       |2015-11-13|\n",
      "|The Italian Supreme Pizza|SUPREME |Calabrese Salami, Capocollo, Tomatoes, Red Onions, Green Olives, Garlic|S   |12.50|1       |12.50       |2015-11-13|\n",
      "+-------------------------+--------+-----------------------------------------------------------------------+----+-----+--------+------------+----------+\n",
      "only showing top 20 rows\n",
      "\n"
     ]
    }
   ],
   "source": [
    "dfPizza.filter(col(\"Ingredients\").like(\"%Garlic%\")).show(truncate=False)"
   ]
  },
  {
   "cell_type": "code",
   "execution_count": 72,
   "id": "969c941a",
   "metadata": {},
   "outputs": [
    {
     "name": "stdout",
     "output_type": "stream",
     "text": [
      "+-------------------+--------+-------------------------------------------------------------------+----+-----+--------+------------+----------+\n",
      "|Name               |Category|Ingredients                                                        |Size|Price|Quantity|Total Amount|Date      |\n",
      "+-------------------+--------+-------------------------------------------------------------------+----+-----+--------+------------+----------+\n",
      "|The Calabrese Pizza|SUPREME |Salami, Pancetta, Tomatoes, Red Onions, Friggitello Peppers, Garlic|L   |20.25|1       |20.25       |2015-01-06|\n",
      "|The Calabrese Pizza|SUPREME |Salami, Pancetta, Tomatoes, Red Onions, Friggitello Peppers, Garlic|L   |20.25|1       |20.25       |2015-01-07|\n",
      "|The Calabrese Pizza|SUPREME |Salami, Pancetta, Tomatoes, Red Onions, Friggitello Peppers, Garlic|L   |20.25|1       |20.25       |2015-01-07|\n",
      "|The Calabrese Pizza|SUPREME |Salami, Pancetta, Tomatoes, Red Onions, Friggitello Peppers, Garlic|L   |20.25|1       |20.25       |2015-01-10|\n",
      "|The Calabrese Pizza|SUPREME |Salami, Pancetta, Tomatoes, Red Onions, Friggitello Peppers, Garlic|L   |20.25|1       |20.25       |2015-01-11|\n",
      "|The Calabrese Pizza|SUPREME |Salami, Pancetta, Tomatoes, Red Onions, Friggitello Peppers, Garlic|L   |20.25|1       |20.25       |2015-01-13|\n",
      "|The Calabrese Pizza|SUPREME |Salami, Pancetta, Tomatoes, Red Onions, Friggitello Peppers, Garlic|L   |20.25|1       |20.25       |2015-01-13|\n",
      "|The Calabrese Pizza|SUPREME |Salami, Pancetta, Tomatoes, Red Onions, Friggitello Peppers, Garlic|L   |20.25|1       |20.25       |2015-01-13|\n",
      "|The Calabrese Pizza|SUPREME |Salami, Pancetta, Tomatoes, Red Onions, Friggitello Peppers, Garlic|L   |20.25|2       |40.50       |2015-01-14|\n",
      "|The Calabrese Pizza|SUPREME |Salami, Pancetta, Tomatoes, Red Onions, Friggitello Peppers, Garlic|L   |20.25|1       |20.25       |2015-01-14|\n",
      "|The Calabrese Pizza|SUPREME |Salami, Pancetta, Tomatoes, Red Onions, Friggitello Peppers, Garlic|L   |20.25|1       |20.25       |2015-01-16|\n",
      "|The Calabrese Pizza|SUPREME |Salami, Pancetta, Tomatoes, Red Onions, Friggitello Peppers, Garlic|L   |20.25|1       |20.25       |2015-01-17|\n",
      "|The Calabrese Pizza|SUPREME |Salami, Pancetta, Tomatoes, Red Onions, Friggitello Peppers, Garlic|L   |20.25|1       |20.25       |2015-01-22|\n",
      "|The Calabrese Pizza|SUPREME |Salami, Pancetta, Tomatoes, Red Onions, Friggitello Peppers, Garlic|L   |20.25|1       |20.25       |2015-01-24|\n",
      "|The Calabrese Pizza|SUPREME |Salami, Pancetta, Tomatoes, Red Onions, Friggitello Peppers, Garlic|L   |20.25|1       |20.25       |2015-01-25|\n",
      "|The Calabrese Pizza|SUPREME |Salami, Pancetta, Tomatoes, Red Onions, Friggitello Peppers, Garlic|L   |20.25|1       |20.25       |2015-01-26|\n",
      "|The Calabrese Pizza|SUPREME |Salami, Pancetta, Tomatoes, Red Onions, Friggitello Peppers, Garlic|L   |20.25|1       |20.25       |2015-01-26|\n",
      "|The Calabrese Pizza|SUPREME |Salami, Pancetta, Tomatoes, Red Onions, Friggitello Peppers, Garlic|L   |20.25|1       |20.25       |2015-01-27|\n",
      "|The Calabrese Pizza|SUPREME |Salami, Pancetta, Tomatoes, Red Onions, Friggitello Peppers, Garlic|L   |20.25|1       |20.25       |2015-01-28|\n",
      "|The Calabrese Pizza|SUPREME |Salami, Pancetta, Tomatoes, Red Onions, Friggitello Peppers, Garlic|L   |20.25|1       |20.25       |2015-01-29|\n",
      "+-------------------+--------+-------------------------------------------------------------------+----+-----+--------+------------+----------+\n",
      "only showing top 20 rows\n",
      "\n"
     ]
    }
   ],
   "source": [
    "dfPizza.filter(col(\"Ingredients\").like(\"%Salami%\")).show(truncate=False)"
   ]
  },
  {
   "cell_type": "markdown",
   "id": "e83792fd",
   "metadata": {},
   "source": [
    "# Loading Data. Saving PySpark DataFrame to parquet file"
   ]
  },
  {
   "cell_type": "code",
   "execution_count": 73,
   "id": "6d81f023",
   "metadata": {},
   "outputs": [],
   "source": [
    "dfPizza.coalesce(1).write.mode(\"overwrite\").parquet(\"PizzaRestaurant.parquet\")"
   ]
  }
 ],
 "metadata": {
  "kernelspec": {
   "display_name": "Python 3 (ipykernel)",
   "language": "python",
   "name": "python3"
  },
  "language_info": {
   "codemirror_mode": {
    "name": "ipython",
    "version": 3
   },
   "file_extension": ".py",
   "mimetype": "text/x-python",
   "name": "python",
   "nbconvert_exporter": "python",
   "pygments_lexer": "ipython3",
   "version": "3.10.9"
  }
 },
 "nbformat": 4,
 "nbformat_minor": 5
}
