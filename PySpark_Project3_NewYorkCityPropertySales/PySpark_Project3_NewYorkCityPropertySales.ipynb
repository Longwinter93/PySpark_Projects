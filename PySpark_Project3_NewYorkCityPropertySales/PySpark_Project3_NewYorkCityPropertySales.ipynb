{
 "cells": [
  {
   "cell_type": "markdown",
   "id": "c751952c",
   "metadata": {},
   "source": [
    "# Starting Spark Session"
   ]
  },
  {
   "cell_type": "code",
   "execution_count": 1,
   "id": "ed3b5b1f",
   "metadata": {},
   "outputs": [],
   "source": [
    "import os\n",
    "import sys\n",
    "import glob\n",
    "os.environ[\"PYARROW_IGNORE_TIMEZONE\"] = \"1\"\n",
    "os.environ['PYSPARK_PYTHON'] = sys.executable\n",
    "os.environ['PYSPARK_DRIVER_PYTHON'] = sys.executable"
   ]
  },
  {
   "cell_type": "code",
   "execution_count": 2,
   "id": "a575de01",
   "metadata": {},
   "outputs": [],
   "source": [
    "from pyspark.sql import SparkSession,functions, Window\n",
    "from pyspark.sql.functions import *\n",
    "from pyspark.sql.types import IntegerType,BooleanType,DateType, LongType,  DoubleType, StringType, DecimalType\n",
    "import pyspark.pandas as ps\n",
    "import pandas as pd"
   ]
  },
  {
   "cell_type": "markdown",
   "id": "7c88c2cf",
   "metadata": {},
   "source": [
    "# Creating a Spark Session called NewYorkCitySalesProperty"
   ]
  },
  {
   "cell_type": "code",
   "execution_count": 3,
   "id": "9e1fea67",
   "metadata": {},
   "outputs": [],
   "source": [
    "spark = SparkSession.builder \\\n",
    "      .master(\"local[1]\") \\\n",
    "      .appName(\"NewYorkCitySalesProperty\") \\\n",
    "      .config(\"spark.some.config.option\", \"config-value\") \\\n",
    "      .enableHiveSupport() \\\n",
    "      .getOrCreate()\n",
    "  "
   ]
  },
  {
   "cell_type": "code",
   "execution_count": 4,
   "id": "32e9460c",
   "metadata": {},
   "outputs": [
    {
     "data": {
      "text/html": [
       "\n",
       "            <div>\n",
       "                <p><b>SparkSession - hive</b></p>\n",
       "                \n",
       "        <div>\n",
       "            <p><b>SparkContext</b></p>\n",
       "\n",
       "            <p><a href=\"http://192.168.0.13:4040\">Spark UI</a></p>\n",
       "\n",
       "            <dl>\n",
       "              <dt>Version</dt>\n",
       "                <dd><code>v3.4.0</code></dd>\n",
       "              <dt>Master</dt>\n",
       "                <dd><code>local[1]</code></dd>\n",
       "              <dt>AppName</dt>\n",
       "                <dd><code>NewYorkCitySalesProperty</code></dd>\n",
       "            </dl>\n",
       "        </div>\n",
       "        \n",
       "            </div>\n",
       "        "
      ],
      "text/plain": [
       "<pyspark.sql.session.SparkSession at 0x2056de7d780>"
      ]
     },
     "execution_count": 4,
     "metadata": {},
     "output_type": "execute_result"
    }
   ],
   "source": [
    "spark"
   ]
  },
  {
   "cell_type": "markdown",
   "id": "af006a78",
   "metadata": {},
   "source": [
    "# Browsing .csv Bronx files "
   ]
  },
  {
   "cell_type": "code",
   "execution_count": 5,
   "id": "58f6ab80",
   "metadata": {
    "scrolled": true
   },
   "outputs": [
    {
     "name": "stdout",
     "output_type": "stream",
     "text": [
      "\n",
      "File names: C:\\My commercial projects\\PySpark\\Project 3 PySpark\\New York City Property Sales\\Bronx\\Bronx\\03_Bronx.csv\n",
      "\n",
      "File names: C:\\My commercial projects\\PySpark\\Project 3 PySpark\\New York City Property Sales\\Bronx\\Bronx\\04_Bronx.csv\n",
      "\n",
      "File names: C:\\My commercial projects\\PySpark\\Project 3 PySpark\\New York City Property Sales\\Bronx\\Bronx\\05_Bronx.csv\n",
      "\n",
      "File names: C:\\My commercial projects\\PySpark\\Project 3 PySpark\\New York City Property Sales\\Bronx\\Bronx\\06_Bronx.csv\n",
      "\n",
      "File names: C:\\My commercial projects\\PySpark\\Project 3 PySpark\\New York City Property Sales\\Bronx\\Bronx\\2007_Bronx.csv\n",
      "\n",
      "File names: C:\\My commercial projects\\PySpark\\Project 3 PySpark\\New York City Property Sales\\Bronx\\Bronx\\2008_Bronx.csv\n",
      "\n",
      "File names: C:\\My commercial projects\\PySpark\\Project 3 PySpark\\New York City Property Sales\\Bronx\\Bronx\\2009_Bronx.csv\n",
      "\n",
      "File names: C:\\My commercial projects\\PySpark\\Project 3 PySpark\\New York City Property Sales\\Bronx\\Bronx\\2010_Bronx.csv\n",
      "\n",
      "File names: C:\\My commercial projects\\PySpark\\Project 3 PySpark\\New York City Property Sales\\Bronx\\Bronx\\2011_Bronx.csv\n",
      "\n",
      "File names: C:\\My commercial projects\\PySpark\\Project 3 PySpark\\New York City Property Sales\\Bronx\\Bronx\\2012_Bronx.csv\n",
      "\n",
      "File names: C:\\My commercial projects\\PySpark\\Project 3 PySpark\\New York City Property Sales\\Bronx\\Bronx\\2013_Bronx.csv\n",
      "\n",
      "File names: C:\\My commercial projects\\PySpark\\Project 3 PySpark\\New York City Property Sales\\Bronx\\Bronx\\2014_Bronx.csv\n",
      "\n",
      "File names: C:\\My commercial projects\\PySpark\\Project 3 PySpark\\New York City Property Sales\\Bronx\\Bronx\\2015_Bronx.csv\n",
      "\n",
      "File names: C:\\My commercial projects\\PySpark\\Project 3 PySpark\\New York City Property Sales\\Bronx\\Bronx\\2016_Bronx.csv\n",
      "\n",
      "File names: C:\\My commercial projects\\PySpark\\Project 3 PySpark\\New York City Property Sales\\Bronx\\Bronx\\2017_Bronx.csv\n",
      "\n",
      "File names: C:\\My commercial projects\\PySpark\\Project 3 PySpark\\New York City Property Sales\\Bronx\\Bronx\\2018_Bronx.csv\n",
      "\n",
      "File names: C:\\My commercial projects\\PySpark\\Project 3 PySpark\\New York City Property Sales\\Bronx\\Bronx\\2019_Bronx.csv\n",
      "\n",
      "File names: C:\\My commercial projects\\PySpark\\Project 3 PySpark\\New York City Property Sales\\Bronx\\Bronx\\Bronx20032019.csv\n"
     ]
    }
   ],
   "source": [
    "path = r'C:\\My commercial projects\\PySpark\\Project 3 PySpark\\New York City Property Sales\\Bronx\\Bronx'\n",
    "\n",
    "filenames = glob.glob(path + '\\*.csv')\n",
    "\n",
    "for file in filenames:\n",
    "    print('\\nFile names:', file)"
   ]
  },
  {
   "cell_type": "markdown",
   "id": "0da513f4",
   "metadata": {},
   "source": [
    "## Save all .csv file into one using pandas"
   ]
  },
  {
   "cell_type": "code",
   "execution_count": 6,
   "id": "c4b24dc0",
   "metadata": {},
   "outputs": [],
   "source": [
    "# Navigate to the folder where your CSV files are \n",
    "os.chdir(r'C:\\My commercial projects\\PySpark\\Project 3 PySpark\\New York City Property Sales\\Bronx\\Bronx')\n",
    "\n",
    "# Create an empty dataframe\n",
    "df = pd.DataFrame([])\n",
    "\n",
    "# Read all CSV files and append them to df\n",
    "for root, dirs, files in os.walk(\".\"):\n",
    "   for name in files:\n",
    "       df_temp = pd.read_csv(name)\n",
    "       df = pd.concat([df,df_temp])\n",
    "\n",
    "# Save df to a CSV file\n",
    "df.to_csv('Bronx20032019.csv')"
   ]
  },
  {
   "cell_type": "markdown",
   "id": "3828bb5d",
   "metadata": {},
   "source": [
    "# Browsing .csv Brooklyn files "
   ]
  },
  {
   "cell_type": "code",
   "execution_count": 7,
   "id": "2f49a5a1",
   "metadata": {
    "scrolled": true
   },
   "outputs": [
    {
     "name": "stdout",
     "output_type": "stream",
     "text": [
      "\n",
      "File names: C:\\My commercial projects\\PySpark\\Project 3 PySpark\\New York City Property Sales\\Brooklyn\\Brooklyn\\03_Brooklyn.csv\n",
      "\n",
      "File names: C:\\My commercial projects\\PySpark\\Project 3 PySpark\\New York City Property Sales\\Brooklyn\\Brooklyn\\04_Brooklyn.csv\n",
      "\n",
      "File names: C:\\My commercial projects\\PySpark\\Project 3 PySpark\\New York City Property Sales\\Brooklyn\\Brooklyn\\05_Brooklyn.csv\n",
      "\n",
      "File names: C:\\My commercial projects\\PySpark\\Project 3 PySpark\\New York City Property Sales\\Brooklyn\\Brooklyn\\06_Brooklyn.csv\n",
      "\n",
      "File names: C:\\My commercial projects\\PySpark\\Project 3 PySpark\\New York City Property Sales\\Brooklyn\\Brooklyn\\2007_Brooklyn.csv\n",
      "\n",
      "File names: C:\\My commercial projects\\PySpark\\Project 3 PySpark\\New York City Property Sales\\Brooklyn\\Brooklyn\\2008_Brooklyn.csv\n",
      "\n",
      "File names: C:\\My commercial projects\\PySpark\\Project 3 PySpark\\New York City Property Sales\\Brooklyn\\Brooklyn\\2009_Brooklyn.csv\n",
      "\n",
      "File names: C:\\My commercial projects\\PySpark\\Project 3 PySpark\\New York City Property Sales\\Brooklyn\\Brooklyn\\2010_Brooklyn.csv\n",
      "\n",
      "File names: C:\\My commercial projects\\PySpark\\Project 3 PySpark\\New York City Property Sales\\Brooklyn\\Brooklyn\\2011_Brooklyn.csv\n",
      "\n",
      "File names: C:\\My commercial projects\\PySpark\\Project 3 PySpark\\New York City Property Sales\\Brooklyn\\Brooklyn\\2012_Brooklyn.csv\n",
      "\n",
      "File names: C:\\My commercial projects\\PySpark\\Project 3 PySpark\\New York City Property Sales\\Brooklyn\\Brooklyn\\2013_Brooklyn.csv\n",
      "\n",
      "File names: C:\\My commercial projects\\PySpark\\Project 3 PySpark\\New York City Property Sales\\Brooklyn\\Brooklyn\\2014_Brooklyn.csv\n",
      "\n",
      "File names: C:\\My commercial projects\\PySpark\\Project 3 PySpark\\New York City Property Sales\\Brooklyn\\Brooklyn\\2015_Brooklyn.csv\n",
      "\n",
      "File names: C:\\My commercial projects\\PySpark\\Project 3 PySpark\\New York City Property Sales\\Brooklyn\\Brooklyn\\2016_Brooklyn.csv\n",
      "\n",
      "File names: C:\\My commercial projects\\PySpark\\Project 3 PySpark\\New York City Property Sales\\Brooklyn\\Brooklyn\\2017_Brooklyn.csv\n",
      "\n",
      "File names: C:\\My commercial projects\\PySpark\\Project 3 PySpark\\New York City Property Sales\\Brooklyn\\Brooklyn\\2018_Brooklyn.csv\n",
      "\n",
      "File names: C:\\My commercial projects\\PySpark\\Project 3 PySpark\\New York City Property Sales\\Brooklyn\\Brooklyn\\2019_Brooklyn.csv\n",
      "\n",
      "File names: C:\\My commercial projects\\PySpark\\Project 3 PySpark\\New York City Property Sales\\Brooklyn\\Brooklyn\\Brooklyn20032019.csv\n"
     ]
    }
   ],
   "source": [
    "path = r'C:\\My commercial projects\\PySpark\\Project 3 PySpark\\New York City Property Sales\\Brooklyn\\Brooklyn'\n",
    "\n",
    "filenames = glob.glob(path + '\\*.csv')\n",
    "\n",
    "for file in filenames:\n",
    "    print('\\nFile names:', file)"
   ]
  },
  {
   "cell_type": "markdown",
   "id": "761888d3",
   "metadata": {},
   "source": [
    "## Save all .csv file into one using pandas"
   ]
  },
  {
   "cell_type": "code",
   "execution_count": 8,
   "id": "464014e8",
   "metadata": {},
   "outputs": [
    {
     "name": "stderr",
     "output_type": "stream",
     "text": [
      "C:\\Users\\dlugo\\AppData\\Local\\Temp\\ipykernel_21132\\3008750746.py:10: DtypeWarning: Columns (7) have mixed types. Specify dtype option on import or set low_memory=False.\n",
      "  df_temp = pd.read_csv(name)\n"
     ]
    }
   ],
   "source": [
    "# Navigate to the folder where your CSV files are \n",
    "os.chdir(r'C:\\My commercial projects\\PySpark\\Project 3 PySpark\\New York City Property Sales\\Brooklyn\\Brooklyn')\n",
    "\n",
    "# Create an empty dataframe\n",
    "df = pd.DataFrame([])\n",
    "\n",
    "# Read all CSV files and append them to df\n",
    "for root, dirs, files in os.walk(\".\"):\n",
    "   for name in files:\n",
    "       df_temp = pd.read_csv(name)\n",
    "       df = pd.concat([df,df_temp])\n",
    "\n",
    "# Save df to a CSV file\n",
    "df.to_csv('Brooklyn20032019.csv')"
   ]
  },
  {
   "cell_type": "markdown",
   "id": "aa987a88",
   "metadata": {},
   "source": [
    "# Browsing .csv Manhattan files \n"
   ]
  },
  {
   "cell_type": "code",
   "execution_count": 9,
   "id": "0a54296c",
   "metadata": {},
   "outputs": [
    {
     "name": "stdout",
     "output_type": "stream",
     "text": [
      "\n",
      "File names: C:\\My commercial projects\\PySpark\\Project 3 PySpark\\New York City Property Sales\\Manhattan\\Manhattan\\03_Manhattan.csv\n",
      "\n",
      "File names: C:\\My commercial projects\\PySpark\\Project 3 PySpark\\New York City Property Sales\\Manhattan\\Manhattan\\04_Manhattan.csv\n",
      "\n",
      "File names: C:\\My commercial projects\\PySpark\\Project 3 PySpark\\New York City Property Sales\\Manhattan\\Manhattan\\05_Manhattan.csv\n",
      "\n",
      "File names: C:\\My commercial projects\\PySpark\\Project 3 PySpark\\New York City Property Sales\\Manhattan\\Manhattan\\06_Manhattan.csv\n",
      "\n",
      "File names: C:\\My commercial projects\\PySpark\\Project 3 PySpark\\New York City Property Sales\\Manhattan\\Manhattan\\2007_Manhattan.csv\n",
      "\n",
      "File names: C:\\My commercial projects\\PySpark\\Project 3 PySpark\\New York City Property Sales\\Manhattan\\Manhattan\\2008_Manhattan.csv\n",
      "\n",
      "File names: C:\\My commercial projects\\PySpark\\Project 3 PySpark\\New York City Property Sales\\Manhattan\\Manhattan\\2009_Manhattan.csv\n",
      "\n",
      "File names: C:\\My commercial projects\\PySpark\\Project 3 PySpark\\New York City Property Sales\\Manhattan\\Manhattan\\2010_Manhattan.csv\n",
      "\n",
      "File names: C:\\My commercial projects\\PySpark\\Project 3 PySpark\\New York City Property Sales\\Manhattan\\Manhattan\\2011_Manhattan.csv\n",
      "\n",
      "File names: C:\\My commercial projects\\PySpark\\Project 3 PySpark\\New York City Property Sales\\Manhattan\\Manhattan\\2012_Manhattan.csv\n",
      "\n",
      "File names: C:\\My commercial projects\\PySpark\\Project 3 PySpark\\New York City Property Sales\\Manhattan\\Manhattan\\2013_Manhattan.csv\n",
      "\n",
      "File names: C:\\My commercial projects\\PySpark\\Project 3 PySpark\\New York City Property Sales\\Manhattan\\Manhattan\\2014_Manhattan.csv\n",
      "\n",
      "File names: C:\\My commercial projects\\PySpark\\Project 3 PySpark\\New York City Property Sales\\Manhattan\\Manhattan\\2015_Manhattan.csv\n",
      "\n",
      "File names: C:\\My commercial projects\\PySpark\\Project 3 PySpark\\New York City Property Sales\\Manhattan\\Manhattan\\2016_Manhattan.csv\n",
      "\n",
      "File names: C:\\My commercial projects\\PySpark\\Project 3 PySpark\\New York City Property Sales\\Manhattan\\Manhattan\\2017_Manhattan.csv\n",
      "\n",
      "File names: C:\\My commercial projects\\PySpark\\Project 3 PySpark\\New York City Property Sales\\Manhattan\\Manhattan\\2018_Manhattan.csv\n",
      "\n",
      "File names: C:\\My commercial projects\\PySpark\\Project 3 PySpark\\New York City Property Sales\\Manhattan\\Manhattan\\2019_Manhattan.csv\n",
      "\n",
      "File names: C:\\My commercial projects\\PySpark\\Project 3 PySpark\\New York City Property Sales\\Manhattan\\Manhattan\\Manhattan20032019.csv\n"
     ]
    }
   ],
   "source": [
    "path = r'C:\\My commercial projects\\PySpark\\Project 3 PySpark\\New York City Property Sales\\Manhattan\\Manhattan'\n",
    "\n",
    "filenames = glob.glob(path + '\\*.csv')\n",
    "\n",
    "for file in filenames:\n",
    "    print('\\nFile names:', file)\n"
   ]
  },
  {
   "cell_type": "markdown",
   "id": "689ee08b",
   "metadata": {},
   "source": [
    "## Save all .csv file into one using pandas"
   ]
  },
  {
   "cell_type": "code",
   "execution_count": 10,
   "id": "07b2ff6e",
   "metadata": {},
   "outputs": [
    {
     "name": "stderr",
     "output_type": "stream",
     "text": [
      "C:\\Users\\dlugo\\AppData\\Local\\Temp\\ipykernel_21132\\486225757.py:10: DtypeWarning: Columns (7) have mixed types. Specify dtype option on import or set low_memory=False.\n",
      "  df_temp = pd.read_csv(name)\n"
     ]
    }
   ],
   "source": [
    "# Navigate to the folder where your CSV files are \n",
    "os.chdir(r'C:\\My commercial projects\\PySpark\\Project 3 PySpark\\New York City Property Sales\\Manhattan\\Manhattan')\n",
    "\n",
    "# Create an empty dataframe\n",
    "df = pd.DataFrame([])\n",
    "\n",
    "# Read all CSV files and append them to df\n",
    "for root, dirs, files in os.walk(\".\"):\n",
    "   for name in files:\n",
    "       df_temp = pd.read_csv(name)\n",
    "       df = pd.concat([df,df_temp])\n",
    "\n",
    "# Save df to a CSV file\n",
    "df.to_csv('Manhattan20032019.csv')"
   ]
  },
  {
   "cell_type": "markdown",
   "id": "884a8c63",
   "metadata": {},
   "source": [
    "# Browsing .csv Queens files \n"
   ]
  },
  {
   "cell_type": "code",
   "execution_count": 11,
   "id": "d68fb4a9",
   "metadata": {},
   "outputs": [
    {
     "name": "stdout",
     "output_type": "stream",
     "text": [
      "\n",
      "File names: C:\\My commercial projects\\PySpark\\Project 3 PySpark\\New York City Property Sales\\Queens\\Queens\\03_Queens.csv\n",
      "\n",
      "File names: C:\\My commercial projects\\PySpark\\Project 3 PySpark\\New York City Property Sales\\Queens\\Queens\\04_Queens.csv\n",
      "\n",
      "File names: C:\\My commercial projects\\PySpark\\Project 3 PySpark\\New York City Property Sales\\Queens\\Queens\\05_Queens.csv\n",
      "\n",
      "File names: C:\\My commercial projects\\PySpark\\Project 3 PySpark\\New York City Property Sales\\Queens\\Queens\\06_Queens.csv\n",
      "\n",
      "File names: C:\\My commercial projects\\PySpark\\Project 3 PySpark\\New York City Property Sales\\Queens\\Queens\\2007_Queens.csv\n",
      "\n",
      "File names: C:\\My commercial projects\\PySpark\\Project 3 PySpark\\New York City Property Sales\\Queens\\Queens\\2008_Queens.csv\n",
      "\n",
      "File names: C:\\My commercial projects\\PySpark\\Project 3 PySpark\\New York City Property Sales\\Queens\\Queens\\2009_Queens.csv\n",
      "\n",
      "File names: C:\\My commercial projects\\PySpark\\Project 3 PySpark\\New York City Property Sales\\Queens\\Queens\\2010_Queens.csv\n",
      "\n",
      "File names: C:\\My commercial projects\\PySpark\\Project 3 PySpark\\New York City Property Sales\\Queens\\Queens\\2011_Queens.csv\n",
      "\n",
      "File names: C:\\My commercial projects\\PySpark\\Project 3 PySpark\\New York City Property Sales\\Queens\\Queens\\2012_Queens.csv\n",
      "\n",
      "File names: C:\\My commercial projects\\PySpark\\Project 3 PySpark\\New York City Property Sales\\Queens\\Queens\\2013_Queens.csv\n",
      "\n",
      "File names: C:\\My commercial projects\\PySpark\\Project 3 PySpark\\New York City Property Sales\\Queens\\Queens\\2014_Queens.csv\n",
      "\n",
      "File names: C:\\My commercial projects\\PySpark\\Project 3 PySpark\\New York City Property Sales\\Queens\\Queens\\2015_Queens.csv\n",
      "\n",
      "File names: C:\\My commercial projects\\PySpark\\Project 3 PySpark\\New York City Property Sales\\Queens\\Queens\\2016_Queens.csv\n",
      "\n",
      "File names: C:\\My commercial projects\\PySpark\\Project 3 PySpark\\New York City Property Sales\\Queens\\Queens\\2017_Queens.csv\n",
      "\n",
      "File names: C:\\My commercial projects\\PySpark\\Project 3 PySpark\\New York City Property Sales\\Queens\\Queens\\2018_Queens.csv\n",
      "\n",
      "File names: C:\\My commercial projects\\PySpark\\Project 3 PySpark\\New York City Property Sales\\Queens\\Queens\\2019_Queens.csv\n",
      "\n",
      "File names: C:\\My commercial projects\\PySpark\\Project 3 PySpark\\New York City Property Sales\\Queens\\Queens\\Queens20032019.csv\n"
     ]
    }
   ],
   "source": [
    "path = r'C:\\My commercial projects\\PySpark\\Project 3 PySpark\\New York City Property Sales\\Queens\\Queens'\n",
    "\n",
    "filenames = glob.glob(path + '\\*.csv')\n",
    "\n",
    "for file in filenames:\n",
    "    print('\\nFile names:', file)"
   ]
  },
  {
   "cell_type": "markdown",
   "id": "2b9fe5ea",
   "metadata": {},
   "source": [
    "## Save all .csv file into one using pandas"
   ]
  },
  {
   "cell_type": "code",
   "execution_count": 12,
   "id": "d4ecc8a7",
   "metadata": {},
   "outputs": [
    {
     "name": "stderr",
     "output_type": "stream",
     "text": [
      "C:\\Users\\dlugo\\AppData\\Local\\Temp\\ipykernel_21132\\2432328090.py:10: DtypeWarning: Columns (7) have mixed types. Specify dtype option on import or set low_memory=False.\n",
      "  df_temp = pd.read_csv(name)\n"
     ]
    }
   ],
   "source": [
    "# Navigate to the folder where your CSV files are \n",
    "os.chdir(r'C:\\My commercial projects\\PySpark\\Project 3 PySpark\\New York City Property Sales\\Queens\\Queens')\n",
    "\n",
    "# Create an empty dataframe\n",
    "df = pd.DataFrame([])\n",
    "\n",
    "# Read all CSV files and append them to df\n",
    "for root, dirs, files in os.walk(\".\"):\n",
    "   for name in files:\n",
    "       df_temp = pd.read_csv(name)\n",
    "       df = pd.concat([df,df_temp])\n",
    "\n",
    "# Save df to a CSV file\n",
    "df.to_csv('Queens20032019.csv')"
   ]
  },
  {
   "cell_type": "markdown",
   "id": "f2424a0b",
   "metadata": {},
   "source": [
    "# Browsing .csv StatensIsland files \n"
   ]
  },
  {
   "cell_type": "code",
   "execution_count": 13,
   "id": "4c27a7cf",
   "metadata": {},
   "outputs": [
    {
     "name": "stdout",
     "output_type": "stream",
     "text": [
      "\n",
      "File names: C:\\My commercial projects\\PySpark\\Project 3 PySpark\\New York City Property Sales\\StatenIsland\\StatenIsland\\03_StatenIsland.csv\n",
      "\n",
      "File names: C:\\My commercial projects\\PySpark\\Project 3 PySpark\\New York City Property Sales\\StatenIsland\\StatenIsland\\04_StatenIsland.csv\n",
      "\n",
      "File names: C:\\My commercial projects\\PySpark\\Project 3 PySpark\\New York City Property Sales\\StatenIsland\\StatenIsland\\05_StatenIsland.csv\n",
      "\n",
      "File names: C:\\My commercial projects\\PySpark\\Project 3 PySpark\\New York City Property Sales\\StatenIsland\\StatenIsland\\06_StatenIsland.csv\n",
      "\n",
      "File names: C:\\My commercial projects\\PySpark\\Project 3 PySpark\\New York City Property Sales\\StatenIsland\\StatenIsland\\2007_StatenIsland.csv\n",
      "\n",
      "File names: C:\\My commercial projects\\PySpark\\Project 3 PySpark\\New York City Property Sales\\StatenIsland\\StatenIsland\\2008_StatenIsland.csv\n",
      "\n",
      "File names: C:\\My commercial projects\\PySpark\\Project 3 PySpark\\New York City Property Sales\\StatenIsland\\StatenIsland\\2009_StatenIsland.csv\n",
      "\n",
      "File names: C:\\My commercial projects\\PySpark\\Project 3 PySpark\\New York City Property Sales\\StatenIsland\\StatenIsland\\2010_StatenIsland.csv\n",
      "\n",
      "File names: C:\\My commercial projects\\PySpark\\Project 3 PySpark\\New York City Property Sales\\StatenIsland\\StatenIsland\\2011_StatenIsland.csv\n",
      "\n",
      "File names: C:\\My commercial projects\\PySpark\\Project 3 PySpark\\New York City Property Sales\\StatenIsland\\StatenIsland\\2012_StatenIsland.csv\n",
      "\n",
      "File names: C:\\My commercial projects\\PySpark\\Project 3 PySpark\\New York City Property Sales\\StatenIsland\\StatenIsland\\2013_StatenIsland.csv\n",
      "\n",
      "File names: C:\\My commercial projects\\PySpark\\Project 3 PySpark\\New York City Property Sales\\StatenIsland\\StatenIsland\\2014_StatenIsland.csv\n",
      "\n",
      "File names: C:\\My commercial projects\\PySpark\\Project 3 PySpark\\New York City Property Sales\\StatenIsland\\StatenIsland\\2015_StatenIsland.csv\n",
      "\n",
      "File names: C:\\My commercial projects\\PySpark\\Project 3 PySpark\\New York City Property Sales\\StatenIsland\\StatenIsland\\2016_StatenIsland.csv\n",
      "\n",
      "File names: C:\\My commercial projects\\PySpark\\Project 3 PySpark\\New York City Property Sales\\StatenIsland\\StatenIsland\\2017_StatenIsland.csv\n",
      "\n",
      "File names: C:\\My commercial projects\\PySpark\\Project 3 PySpark\\New York City Property Sales\\StatenIsland\\StatenIsland\\2018_StatenIsland.csv\n",
      "\n",
      "File names: C:\\My commercial projects\\PySpark\\Project 3 PySpark\\New York City Property Sales\\StatenIsland\\StatenIsland\\2019_StatenIsland.csv\n",
      "\n",
      "File names: C:\\My commercial projects\\PySpark\\Project 3 PySpark\\New York City Property Sales\\StatenIsland\\StatenIsland\\StatenIsland20032019.csv\n"
     ]
    }
   ],
   "source": [
    "path = r'C:\\My commercial projects\\PySpark\\Project 3 PySpark\\New York City Property Sales\\StatenIsland\\StatenIsland'\n",
    "\n",
    "filenames = glob.glob(path + '\\*.csv')\n",
    "\n",
    "for file in filenames:\n",
    "    print('\\nFile names:', file)"
   ]
  },
  {
   "cell_type": "markdown",
   "id": "db7ae174",
   "metadata": {},
   "source": [
    "## Save all .csv file into one using pandas"
   ]
  },
  {
   "cell_type": "code",
   "execution_count": 14,
   "id": "6b61c076",
   "metadata": {},
   "outputs": [
    {
     "name": "stderr",
     "output_type": "stream",
     "text": [
      "C:\\Users\\dlugo\\AppData\\Local\\Temp\\ipykernel_21132\\2995414345.py:10: DtypeWarning: Columns (7) have mixed types. Specify dtype option on import or set low_memory=False.\n",
      "  df_temp = pd.read_csv(name)\n"
     ]
    }
   ],
   "source": [
    "# Navigate to the folder where your CSV files are \n",
    "os.chdir(r'C:\\My commercial projects\\PySpark\\Project 3 PySpark\\New York City Property Sales\\StatenIsland\\StatenIsland')\n",
    "\n",
    "# Create an empty dataframe\n",
    "df = pd.DataFrame([])\n",
    "\n",
    "# Read all CSV files and append them to df\n",
    "for root, dirs, files in os.walk(\".\"):\n",
    "   for name in files:\n",
    "       df_temp = pd.read_csv(name)\n",
    "       df = pd.concat([df,df_temp])\n",
    "\n",
    "# Save df to a CSV file\n",
    "df.to_csv('StatenIsland20032019.csv')"
   ]
  },
  {
   "cell_type": "markdown",
   "id": "ed8f25df",
   "metadata": {},
   "source": [
    "# Opening a  BuildingClassification .csv file\n"
   ]
  },
  {
   "cell_type": "code",
   "execution_count": 15,
   "id": "00a30f54",
   "metadata": {},
   "outputs": [],
   "source": [
    "path = r'C:\\My commercial projects\\PySpark\\Project 3 PySpark\\New York City Property Sales\\BuildingClassification.csv'\n",
    "\n",
    "BuildingClassification = spark.read.options(header='True', inferSchema='True', delimiter=',') \\\n",
    "  .csv(path)"
   ]
  },
  {
   "cell_type": "code",
   "execution_count": 16,
   "id": "39a42009",
   "metadata": {},
   "outputs": [
    {
     "name": "stdout",
     "output_type": "stream",
     "text": [
      "+-------------+------------------------------------------+\n",
      "|Building Code|Description                               |\n",
      "+-------------+------------------------------------------+\n",
      "|A0           |CAPE COD                                  |\n",
      "|A1           |TWO STORIES - DETACHED SM OR MID          |\n",
      "|A2           |ONE STORY - PERMANENT LIVING QUARTER      |\n",
      "|A3           |LARGE SUBURBAN RESIDENCE                  |\n",
      "|A4           |CITY RESIDENCE ONE FAMILY                 |\n",
      "|A5           |ONE FAMILY ATTACHED OR SEMI-DETACHED      |\n",
      "|A6           |SUMMER COTTAGE                            |\n",
      "|A7           |MANSION TYPE OR TOWN HOUSE                |\n",
      "|A8           |BUNGALOW COLONY - COOPERATIVELY OWNED LAND|\n",
      "|A9           |MISCELLANEOUS ONE FAMILY                  |\n",
      "|B1           |TWO FAMILY BRICK                          |\n",
      "|B2           |TWO FAMILY FRAME                          |\n",
      "|B3           |TWO FAMILY CONVERTED FROM ONE FAMILY      |\n",
      "|B9           |MISCELLANEOUS TWO FAMILY                  |\n",
      "|C0           |THREE FAMILIES                            |\n",
      "|C1           |OVER SIX FAMILIES WITHOUT STORES          |\n",
      "|C2           |FIVE TO SIX FAMILIES                      |\n",
      "|C3           |FOUR FAMILIES                             |\n",
      "|C4           |OLD LAW TENEMENT                          |\n",
      "|C5           |CONVERTED DWELLINGS OR ROOMING HOUSE      |\n",
      "+-------------+------------------------------------------+\n",
      "only showing top 20 rows\n",
      "\n"
     ]
    }
   ],
   "source": [
    "BuildingClassification.show(truncate=False)"
   ]
  },
  {
   "cell_type": "markdown",
   "id": "ce2c8faa",
   "metadata": {},
   "source": [
    "# Reading csv files into Spark DataFrame"
   ]
  },
  {
   "cell_type": "code",
   "execution_count": 17,
   "id": "fc3d8deb",
   "metadata": {},
   "outputs": [],
   "source": [
    "PathBronx = r'C:\\My commercial projects\\PySpark\\Project 3 PySpark\\New York City Property Sales\\Bronx\\Bronx\\Bronx20032019.csv'\n",
    "PathBrook = r'C:\\My commercial projects\\PySpark\\Project 3 PySpark\\New York City Property Sales\\Brooklyn\\Brooklyn\\Brooklyn20032019.csv'\n",
    "PathMan = r'C:\\My commercial projects\\PySpark\\Project 3 PySpark\\New York City Property Sales\\Manhattan\\Manhattan\\Manhattan20032019.csv'\n",
    "PathQ = r'C:\\My commercial projects\\PySpark\\Project 3 PySpark\\New York City Property Sales\\Queens\\Queens\\Queens20032019.csv'\n",
    "PathS = r'C:\\My commercial projects\\PySpark\\Project 3 PySpark\\New York City Property Sales\\StatenIsland\\StatenIsland\\StatenIsland20032019.csv'\n",
    "\n",
    "\n"
   ]
  },
  {
   "cell_type": "code",
   "execution_count": 18,
   "id": "ccd331b2",
   "metadata": {},
   "outputs": [],
   "source": [
    "dfBronx20032019 = spark.read.csv(PathBronx, header=True, inferSchema=True)\n",
    "dfBrooklyn20032019 = spark.read.csv(PathBrook, header=True, inferSchema=True)\n",
    "dfManhattan20032019 = spark.read.csv(PathMan, header=True, inferSchema=True)\n",
    "dfQueens20032019 = spark.read.csv(PathQ, header=True, inferSchema=True)\n",
    "dfStatenIsland20032019 = spark.read.csv(PathS, header=True, inferSchema=True)"
   ]
  },
  {
   "cell_type": "markdown",
   "id": "d8f04d77",
   "metadata": {},
   "source": [
    "# Browsing DataFrames and selecting columns"
   ]
  },
  {
   "cell_type": "markdown",
   "id": "7fc9e98d",
   "metadata": {},
   "source": [
    "## dfBronx20032019"
   ]
  },
  {
   "cell_type": "code",
   "execution_count": 19,
   "id": "ec304c36",
   "metadata": {},
   "outputs": [
    {
     "name": "stdout",
     "output_type": "stream",
     "text": [
      "+---+-------+------------+-----------------------+--------------------+------+-----+---------+-------------------------+----------+----------------+--------+-----------------+----------------+-----------+----------------+-----------------+----------+-------------------------+------------------------------+----------+----------+------------+------------+------------+------------+------------+------------+----------+\n",
      "|_c0|Borough|Neighborhood|Building Class Category|Tax Class At Present| Block|  Lot|Ease-Ment|Building Class At Present|   Address|Apartment Number|Zip Code|Residential Units|Commercial Units|Total Units|Land Square Feet|Gross Square Feet|Year Built|Tax Class At Time Of Sale|Building Class At Time Of Sale|Sale Price| Sale Date|Unnamed: 0.6|Unnamed: 0.5|Unnamed: 0.4|Unnamed: 0.3|Unnamed: 0.2|Unnamed: 0.1|Unnamed: 0|\n",
      "+---+-------+------------+-----------------------+--------------------+------+-----+---------+-------------------------+----------+----------------+--------+-----------------+----------------+-----------+----------------+-----------------+----------+-------------------------+------------------------------+----------+----------+------------+------------+------------+------------+------------+------------+----------+\n",
      "|  0|    2.0|  BATHGAT...|             01  ONE...|                   1|2917.0| 15.0|         |                       A1|1848 WA...|             ...| 10457.0|              1.0|             0.0|        1.0|          2943.0|           2128.0|    1920.0|                      1.0|                            A1|  130000.0|2003-05...|        null|        null|        null|        null|        null|        null|      null|\n",
      "|  1|    2.0|  BATHGAT...|             01  ONE...|                   1|3028.0| 25.0|         |                       A5|412 EAS...|             ...| 10457.0|              1.0|             0.0|        1.0|          1842.0|           2048.0|    1901.0|                      1.0|                            A1|  204000.0|2003-04...|        null|        null|        null|        null|        null|        null|      null|\n",
      "|  2|    2.0|  BATHGAT...|             01  ONE...|                   1|3030.0| 55.0|         |                       A5|410 EAS...|             ...| 10457.0|              1.0|             0.0|        1.0|          1330.0|           1460.0|    1899.0|                      1.0|                            A1|  235000.0|2003-07...|        null|        null|        null|        null|        null|        null|      null|\n",
      "|  3|    2.0|  BATHGAT...|             01  ONE...|                   1|3035.0|  2.0|         |                       S1|441 EAS...|             ...| 10457.0|              1.0|             1.0|        2.0|          1287.0|           2378.0|    1899.0|                      1.0|                            S1|  125500.0|2003-05...|        null|        null|        null|        null|        null|        null|      null|\n",
      "|  4|    2.0|  BATHGAT...|             01  ONE...|                   1|3035.0| 52.0|         |                       A1|461 EAS...|             ...| 10457.0|              1.0|             0.0|        1.0|          1782.0|           1548.0|    1899.0|                      1.0|                            A1|  215000.0|2003-05...|        null|        null|        null|        null|        null|        null|      null|\n",
      "|  5|    2.0|  BATHGAT...|             01  ONE...|                   1|3045.0| 15.0|         |                       A1|2058 BA...|             ...| 10457.0|              1.0|             0.0|        1.0|          1173.0|           1516.0|    1910.0|                      1.0|                            A1|       0.0|2003-07...|        null|        null|        null|        null|        null|        null|      null|\n",
      "|  6|    2.0|  BATHGAT...|             01  ONE...|                   1|3048.0| 19.0|         |                       A5|2186 BA...|             ...| 10457.0|              1.0|             0.0|        1.0|          1768.0|           1188.0|    1901.0|                      1.0|                            A1|  245000.0|2003-04...|        null|        null|        null|        null|        null|        null|      null|\n",
      "|  7|    2.0|  BATHGAT...|             01  ONE...|                   1|3050.0| 91.0|         |                       A9|503 EAS...|             ...| 10457.0|              1.0|             0.0|        1.0|          1960.0|           1705.0|    1901.0|                      1.0|                            A9|     500.0|2003-06...|        null|        null|        null|        null|        null|        null|      null|\n",
      "|  8|    2.0|  BATHGAT...|             01  ONE...|                   1|3053.0| 87.0|         |                       S0|2368 WA...|             ...| 10458.0|              1.0|             2.0|        3.0|          1911.0|           4080.0|    1931.0|                      1.0|                            S0|  375000.0|2003-04...|        null|        null|        null|        null|        null|        null|      null|\n",
      "|  9|    2.0|  BATHGAT...|             01  ONE...|                   1|3053.0|108.0|         |                       A9|2317 BA...|             ...| 10458.0|              1.0|             0.0|        1.0|           925.0|           1188.0|    1901.0|                      1.0|                            A9|       0.0|2003-09...|        null|        null|        null|        null|        null|        null|      null|\n",
      "+---+-------+------------+-----------------------+--------------------+------+-----+---------+-------------------------+----------+----------------+--------+-----------------+----------------+-----------+----------------+-----------------+----------+-------------------------+------------------------------+----------+----------+------------+------------+------------+------------+------------+------------+----------+\n",
      "only showing top 10 rows\n",
      "\n"
     ]
    }
   ],
   "source": [
    "dfBronx20032019.show(10,10)"
   ]
  },
  {
   "cell_type": "code",
   "execution_count": 20,
   "id": "20004278",
   "metadata": {
    "scrolled": true
   },
   "outputs": [],
   "source": [
    "dfBronx20032019 = dfBronx20032019.select('Borough',\n",
    " 'Neighborhood',\n",
    " 'Building Class Category',\n",
    " 'Tax Class At Present',\n",
    " 'Block',\n",
    " 'Lot',\n",
    "'Building Class At Present',\n",
    "'Address',\n",
    " 'Residential Units',\n",
    " 'Commercial Units',\n",
    " 'Total Units',                      \n",
    " 'Land Square Feet',\n",
    " 'Gross Square Feet',\n",
    " 'Year Built',                      \n",
    " 'Sale Price',\n",
    " 'Sale Date' )"
   ]
  },
  {
   "cell_type": "code",
   "execution_count": 21,
   "id": "3e605969",
   "metadata": {},
   "outputs": [
    {
     "name": "stdout",
     "output_type": "stream",
     "text": [
      "+-------+------------+-----------------------+--------------------+------+-----+-------------------------+----------+-----------------+----------------+-----------+----------------+-----------------+----------+----------+----------+\n",
      "|Borough|Neighborhood|Building Class Category|Tax Class At Present| Block|  Lot|Building Class At Present|   Address|Residential Units|Commercial Units|Total Units|Land Square Feet|Gross Square Feet|Year Built|Sale Price| Sale Date|\n",
      "+-------+------------+-----------------------+--------------------+------+-----+-------------------------+----------+-----------------+----------------+-----------+----------------+-----------------+----------+----------+----------+\n",
      "|    2.0|  BATHGAT...|             01  ONE...|                   1|2917.0| 15.0|                       A1|1848 WA...|              1.0|             0.0|        1.0|          2943.0|           2128.0|    1920.0|  130000.0|2003-05...|\n",
      "|    2.0|  BATHGAT...|             01  ONE...|                   1|3028.0| 25.0|                       A5|412 EAS...|              1.0|             0.0|        1.0|          1842.0|           2048.0|    1901.0|  204000.0|2003-04...|\n",
      "|    2.0|  BATHGAT...|             01  ONE...|                   1|3030.0| 55.0|                       A5|410 EAS...|              1.0|             0.0|        1.0|          1330.0|           1460.0|    1899.0|  235000.0|2003-07...|\n",
      "|    2.0|  BATHGAT...|             01  ONE...|                   1|3035.0|  2.0|                       S1|441 EAS...|              1.0|             1.0|        2.0|          1287.0|           2378.0|    1899.0|  125500.0|2003-05...|\n",
      "|    2.0|  BATHGAT...|             01  ONE...|                   1|3035.0| 52.0|                       A1|461 EAS...|              1.0|             0.0|        1.0|          1782.0|           1548.0|    1899.0|  215000.0|2003-05...|\n",
      "|    2.0|  BATHGAT...|             01  ONE...|                   1|3045.0| 15.0|                       A1|2058 BA...|              1.0|             0.0|        1.0|          1173.0|           1516.0|    1910.0|       0.0|2003-07...|\n",
      "|    2.0|  BATHGAT...|             01  ONE...|                   1|3048.0| 19.0|                       A5|2186 BA...|              1.0|             0.0|        1.0|          1768.0|           1188.0|    1901.0|  245000.0|2003-04...|\n",
      "|    2.0|  BATHGAT...|             01  ONE...|                   1|3050.0| 91.0|                       A9|503 EAS...|              1.0|             0.0|        1.0|          1960.0|           1705.0|    1901.0|     500.0|2003-06...|\n",
      "|    2.0|  BATHGAT...|             01  ONE...|                   1|3053.0| 87.0|                       S0|2368 WA...|              1.0|             2.0|        3.0|          1911.0|           4080.0|    1931.0|  375000.0|2003-04...|\n",
      "|    2.0|  BATHGAT...|             01  ONE...|                   1|3053.0|108.0|                       A9|2317 BA...|              1.0|             0.0|        1.0|           925.0|           1188.0|    1901.0|       0.0|2003-09...|\n",
      "+-------+------------+-----------------------+--------------------+------+-----+-------------------------+----------+-----------------+----------------+-----------+----------------+-----------------+----------+----------+----------+\n",
      "only showing top 10 rows\n",
      "\n"
     ]
    }
   ],
   "source": [
    "dfBronx20032019.show(10,10)"
   ]
  },
  {
   "cell_type": "markdown",
   "id": "e96234f1",
   "metadata": {},
   "source": [
    "## dfBrooklyn20032019"
   ]
  },
  {
   "cell_type": "code",
   "execution_count": 22,
   "id": "89e8b67f",
   "metadata": {
    "scrolled": true
   },
   "outputs": [
    {
     "name": "stdout",
     "output_type": "stream",
     "text": [
      "+---+-------+------------+-----------------------+--------------------+------+-----+---------+-------------------------+----------+----------------+--------+-----------------+----------------+-----------+----------------+-----------------+----------+-------------------------+------------------------------+----------+----------+------------+------------+------------+------------+------------+------------+----------+\n",
      "|_c0|Borough|Neighborhood|Building Class Category|Tax Class At Present| Block|  Lot|Ease-Ment|Building Class At Present|   Address|Apartment Number|Zip Code|Residential Units|Commercial Units|Total Units|Land Square Feet|Gross Square Feet|Year Built|Tax Class At Time Of Sale|Building Class At Time Of Sale|Sale Price| Sale Date|Unnamed: 0.6|Unnamed: 0.5|Unnamed: 0.4|Unnamed: 0.3|Unnamed: 0.2|Unnamed: 0.1|Unnamed: 0|\n",
      "+---+-------+------------+-----------------------+--------------------+------+-----+---------+-------------------------+----------+----------------+--------+-----------------+----------------+-----------+----------------+-----------------+----------+-------------------------+------------------------------+----------+----------+------------+------------+------------+------------+------------+------------+----------+\n",
      "|  0|    3.0|  BATH BE...|             01  ONE...|                   1|6364.0| 45.0|         |                       S1|1652 86...|             ...| 11214.0|              1.0|             1.0|        2.0|          1200.0|           1620.0|    1926.0|                      1.0|                            S1|  450000.0|2003-01...|        null|        null|        null|        null|        null|        null|      null|\n",
      "|  1|    3.0|  BATH BE...|             01  ONE...|                   1|6365.0| 44.0|         |                       S1|1690 86...|             ...| 11214.0|              1.0|             1.0|        2.0|          1473.0|           1656.0|    1931.0|                      1.0|                            S1|       0.0|2003-10...|        null|        null|        null|        null|        null|        null|      null|\n",
      "|  2|    3.0|  BATH BE...|             01  ONE...|                   1|6365.0| 44.0|         |                       S1|1690 86...|             ...| 11214.0|              1.0|             1.0|        2.0|          1473.0|           1656.0|    1931.0|                      1.0|                            S1|       0.0|2003-04...|        null|        null|        null|        null|        null|        null|      null|\n",
      "|  3|    3.0|  BATH BE...|             01  ONE...|                   1|6365.0|143.0|         |                       S1|1686 86...|             ...| 11214.0|              1.0|             1.0|        2.0|          1473.0|           1656.0|    1929.0|                      1.0|                            S1|       0.0|2003-04...|        null|        null|        null|        null|        null|        null|      null|\n",
      "|  4|    3.0|  BATH BE...|             01  ONE...|                   1|6366.0| 72.0|         |                       A1|8664 BA...|             ...| 11214.0|              1.0|             0.0|        1.0|          4833.0|           2300.0|    1925.0|                      1.0|                            A1|       0.0|2003-09...|        null|        null|        null|        null|        null|        null|      null|\n",
      "|  5|    3.0|  BATH BE...|             01  ONE...|                   1|6367.0| 24.0|         |                       A9|8645 BA...|             ...| 11214.0|              1.0|             0.0|        1.0|          1571.0|           1456.0|    1935.0|                      1.0|                            A9|       0.0|2003-05...|        null|        null|        null|        null|        null|        null|      null|\n",
      "|  6|    3.0|  BATH BE...|             01  ONE...|                   1|6371.0| 60.0|         |                       A9|8620 19...|             ...| 11214.0|              1.0|             0.0|        1.0|          2417.0|           2106.0|    1930.0|                      1.0|                            A9|       0.0|2003-04...|        null|        null|        null|        null|        null|        null|      null|\n",
      "|  7|    3.0|  BATH BE...|             01  ONE...|                    |6376.0| 53.0|         |                         |20 BAY ...|             ...| 11214.0|              0.0|             0.0|        0.0|             0.0|              0.0|       0.0|                      1.0|                            A1|  570000.0|2003-01...|        null|        null|        null|        null|        null|        null|      null|\n",
      "|  8|    3.0|  BATH BE...|             01  ONE...|                   1|6393.0| 16.0|         |                       A5|145 BAY...|             ...| 11228.0|              1.0|             0.0|        1.0|          1716.0|           1554.0|    1920.0|                      1.0|                            A5|  320000.0|2003-02...|        null|        null|        null|        null|        null|        null|      null|\n",
      "|  9|    3.0|  BATH BE...|             01  ONE...|                   1|6395.0| 20.0|         |                       A5|135 BAY...|             ...| 11228.0|              1.0|             0.0|        1.0|          2417.0|           2000.0|    1935.0|                      1.0|                            A5|  427500.0|2003-06...|        null|        null|        null|        null|        null|        null|      null|\n",
      "+---+-------+------------+-----------------------+--------------------+------+-----+---------+-------------------------+----------+----------------+--------+-----------------+----------------+-----------+----------------+-----------------+----------+-------------------------+------------------------------+----------+----------+------------+------------+------------+------------+------------+------------+----------+\n",
      "only showing top 10 rows\n",
      "\n"
     ]
    }
   ],
   "source": [
    "dfBrooklyn20032019.show(10,10)"
   ]
  },
  {
   "cell_type": "code",
   "execution_count": 23,
   "id": "b61e38a0",
   "metadata": {},
   "outputs": [],
   "source": [
    "dfBrooklyn20032019 = dfBrooklyn20032019.select('Borough',\n",
    " 'Neighborhood',\n",
    " 'Building Class Category',\n",
    " 'Tax Class At Present',\n",
    " 'Block',\n",
    " 'Lot',\n",
    "'Building Class At Present',\n",
    "'Address',\n",
    " 'Residential Units',\n",
    " 'Commercial Units',\n",
    " 'Total Units',                      \n",
    " 'Land Square Feet',\n",
    " 'Gross Square Feet',\n",
    " 'Year Built',                      \n",
    " 'Sale Price',\n",
    " 'Sale Date' )"
   ]
  },
  {
   "cell_type": "code",
   "execution_count": 24,
   "id": "2f6576fc",
   "metadata": {},
   "outputs": [
    {
     "name": "stdout",
     "output_type": "stream",
     "text": [
      "+-------+------------+-----------------------+--------------------+------+-----+-------------------------+----------+-----------------+----------------+-----------+----------------+-----------------+----------+----------+----------+\n",
      "|Borough|Neighborhood|Building Class Category|Tax Class At Present| Block|  Lot|Building Class At Present|   Address|Residential Units|Commercial Units|Total Units|Land Square Feet|Gross Square Feet|Year Built|Sale Price| Sale Date|\n",
      "+-------+------------+-----------------------+--------------------+------+-----+-------------------------+----------+-----------------+----------------+-----------+----------------+-----------------+----------+----------+----------+\n",
      "|    3.0|  BATH BE...|             01  ONE...|                   1|6364.0| 45.0|                       S1|1652 86...|              1.0|             1.0|        2.0|          1200.0|           1620.0|    1926.0|  450000.0|2003-01...|\n",
      "|    3.0|  BATH BE...|             01  ONE...|                   1|6365.0| 44.0|                       S1|1690 86...|              1.0|             1.0|        2.0|          1473.0|           1656.0|    1931.0|       0.0|2003-10...|\n",
      "|    3.0|  BATH BE...|             01  ONE...|                   1|6365.0| 44.0|                       S1|1690 86...|              1.0|             1.0|        2.0|          1473.0|           1656.0|    1931.0|       0.0|2003-04...|\n",
      "|    3.0|  BATH BE...|             01  ONE...|                   1|6365.0|143.0|                       S1|1686 86...|              1.0|             1.0|        2.0|          1473.0|           1656.0|    1929.0|       0.0|2003-04...|\n",
      "|    3.0|  BATH BE...|             01  ONE...|                   1|6366.0| 72.0|                       A1|8664 BA...|              1.0|             0.0|        1.0|          4833.0|           2300.0|    1925.0|       0.0|2003-09...|\n",
      "|    3.0|  BATH BE...|             01  ONE...|                   1|6367.0| 24.0|                       A9|8645 BA...|              1.0|             0.0|        1.0|          1571.0|           1456.0|    1935.0|       0.0|2003-05...|\n",
      "|    3.0|  BATH BE...|             01  ONE...|                   1|6371.0| 60.0|                       A9|8620 19...|              1.0|             0.0|        1.0|          2417.0|           2106.0|    1930.0|       0.0|2003-04...|\n",
      "|    3.0|  BATH BE...|             01  ONE...|                    |6376.0| 53.0|                         |20 BAY ...|              0.0|             0.0|        0.0|             0.0|              0.0|       0.0|  570000.0|2003-01...|\n",
      "|    3.0|  BATH BE...|             01  ONE...|                   1|6393.0| 16.0|                       A5|145 BAY...|              1.0|             0.0|        1.0|          1716.0|           1554.0|    1920.0|  320000.0|2003-02...|\n",
      "|    3.0|  BATH BE...|             01  ONE...|                   1|6395.0| 20.0|                       A5|135 BAY...|              1.0|             0.0|        1.0|          2417.0|           2000.0|    1935.0|  427500.0|2003-06...|\n",
      "+-------+------------+-----------------------+--------------------+------+-----+-------------------------+----------+-----------------+----------------+-----------+----------------+-----------------+----------+----------+----------+\n",
      "only showing top 10 rows\n",
      "\n"
     ]
    }
   ],
   "source": [
    "dfBrooklyn20032019.show(10,10)"
   ]
  },
  {
   "cell_type": "markdown",
   "id": "e87acc83",
   "metadata": {},
   "source": [
    "## dfManhattan20032019"
   ]
  },
  {
   "cell_type": "code",
   "execution_count": 25,
   "id": "2a4fe157",
   "metadata": {},
   "outputs": [
    {
     "name": "stdout",
     "output_type": "stream",
     "text": [
      "+---+-------+------------+-----------------------+-------------------------------+-----+---+---------+------------------------------------+----------+----------------+--------+-----------------+----------------+-----------+----------------+-----------------+----------+-------------------------+------------------------------+----------+----------+------------+------------+------------+------------+------------+------------+----------+\n",
      "|_c0|Borough|Neighborhood|Building Class Category|Tax Class As Of Final Roll 18/1|Block|Lot|Ease-Ment|Building Class As Of Final Roll 18/1|   Address|Apartment Number|Zip Code|Residential Units|Commercial Units|Total Units|Land Square Feet|Gross Square Feet|Year Built|Tax Class At Time Of Sale|Building Class At Time Of Sale|Sale Price| Sale Date|Unnamed: 0.6|Unnamed: 0.5|Unnamed: 0.4|Unnamed: 0.3|Unnamed: 0.2|Unnamed: 0.1|Unnamed: 0|\n",
      "+---+-------+------------+-----------------------+-------------------------------+-----+---+---------+------------------------------------+----------+----------------+--------+-----------------+----------------+-----------+----------------+-----------------+----------+-------------------------+------------------------------+----------+----------+------------+------------+------------+------------+------------+------------+----------+\n",
      "|  0|      1|  ALPHABE...|             07  REN...|                             2A|  372| 31|         |                                  C3|316 EAS...|             ...|   10009|              4.0|             0.0|        4.0|          5746.0|           2700.0|    1900.0|                        2|                            C3|         0|2003-12...|        null|        null|        null|        null|        null|        null|      null|\n",
      "|  1|      1|  ALPHABE...|             07  REN...|                             2A|  372| 31|         |                                  C3|316 EAS...|             ...|   10009|              4.0|             0.0|        4.0|          5746.0|           2700.0|    1900.0|                        2|                            C3|         0|2003-12...|        null|        null|        null|        null|        null|        null|      null|\n",
      "|  2|      1|  ALPHABE...|             07  REN...|                             2B|  378| 33|         |                                  C4|125 AVE...|             ...|   10009|              6.0|             1.0|        7.0|          2185.0|           5725.0|    1910.0|                        2|                            C4|    426000|2003-10...|        null|        null|        null|        null|        null|        null|      null|\n",
      "|  3|      1|  ALPHABE...|             07  REN...|                              2|  391| 12|         |                                  C1|610 EAS...|             ...|   10009|             24.0|             0.0|       24.0|          2543.0|          11568.0|    1910.0|                        2|                            C1|         0|2003-02...|        null|        null|        null|        null|        null|        null|      null|\n",
      "|  4|      1|  ALPHABE...|             07  REN...|                             2A|  392|  5|         |                                  C2|151 AVE...|             ...|   10009|              5.0|             0.0|        5.0|          2139.0|           4416.0|    1900.0|                        2|                            C2|         0|2003-08...|        null|        null|        null|        null|        null|        null|      null|\n",
      "|  5|      1|  ALPHABE...|             07  REN...|                              2|  393| 26|         |                                  D5|636 EAS...|             ...|   10009|             63.0|             0.0|       63.0|          2369.0|          10355.0|    1880.0|                        2|                            C7|         0|2003-10...|        null|        null|        null|        null|        null|        null|      null|\n",
      "|  6|      1|  ALPHABE...|             07  REN...|                             2B|  393| 27|         |                                  C4|636 EAS...|             ...|   10009|              9.0|             1.0|       10.0|          2370.0|           6652.0|    1900.0|                        2|                            C4|         0|2003-10...|        null|        null|        null|        null|        null|        null|      null|\n",
      "|  7|      1|  ALPHABE...|             07  REN...|                             2B|  393| 36|         |                                  C7|165 AVE...|             ...|   10009|              8.0|             2.0|       10.0|          1909.0|           7437.0|    1920.0|                        2|                            C7|         3|2003-06...|        null|        null|        null|        null|        null|        null|      null|\n",
      "|  8|      1|  ALPHABE...|             07  REN...|                             2B|  393| 37|         |                                  C7|165 AVE...|             ...|   10009|              8.0|             2.0|       10.0|          1920.0|           7485.0|    1920.0|                        2|                            C7|         3|2003-06...|        null|        null|        null|        null|        null|        null|      null|\n",
      "|  9|      1|  ALPHABE...|             07  REN...|                             2B|  393| 38|         |                                  C7|165 AVE...|             ...|   10009|              8.0|             2.0|       10.0|          1916.0|           7485.0|    1920.0|                        2|                            C7|         3|2003-06...|        null|        null|        null|        null|        null|        null|      null|\n",
      "+---+-------+------------+-----------------------+-------------------------------+-----+---+---------+------------------------------------+----------+----------------+--------+-----------------+----------------+-----------+----------------+-----------------+----------+-------------------------+------------------------------+----------+----------+------------+------------+------------+------------+------------+------------+----------+\n",
      "only showing top 10 rows\n",
      "\n"
     ]
    }
   ],
   "source": [
    "dfManhattan20032019.show(10,10)"
   ]
  },
  {
   "cell_type": "code",
   "execution_count": 26,
   "id": "b6d17bba",
   "metadata": {},
   "outputs": [],
   "source": [
    "dfManhattan20032019 = dfManhattan20032019.select('Borough',\n",
    " 'Neighborhood',\n",
    " 'Building Class Category',\n",
    " 'Block',\n",
    " 'Lot',\n",
    "col('Building Class As Of Final Roll 18/1').alias(\"Building Class At Present\"),\n",
    "col('Tax Class As Of Final Roll 18/1').alias(\"Tax Class At Present\"),\n",
    "'Address',\n",
    " 'Residential Units',\n",
    " 'Commercial Units',\n",
    " 'Total Units',                      \n",
    " 'Land Square Feet',\n",
    " 'Gross Square Feet',\n",
    " 'Year Built',                      \n",
    " 'Sale Price',\n",
    " 'Sale Date' )"
   ]
  },
  {
   "cell_type": "code",
   "execution_count": 27,
   "id": "9a9da676",
   "metadata": {},
   "outputs": [
    {
     "name": "stdout",
     "output_type": "stream",
     "text": [
      "+-------+------------+-----------------------+-----+---+-------------------------+--------------------+----------+-----------------+----------------+-----------+----------------+-----------------+----------+----------+----------+\n",
      "|Borough|Neighborhood|Building Class Category|Block|Lot|Building Class At Present|Tax Class At Present|   Address|Residential Units|Commercial Units|Total Units|Land Square Feet|Gross Square Feet|Year Built|Sale Price| Sale Date|\n",
      "+-------+------------+-----------------------+-----+---+-------------------------+--------------------+----------+-----------------+----------------+-----------+----------------+-----------------+----------+----------+----------+\n",
      "|      1|  ALPHABE...|             07  REN...|  372| 31|                       C3|                  2A|316 EAS...|              4.0|             0.0|        4.0|          5746.0|           2700.0|    1900.0|         0|2003-12...|\n",
      "|      1|  ALPHABE...|             07  REN...|  372| 31|                       C3|                  2A|316 EAS...|              4.0|             0.0|        4.0|          5746.0|           2700.0|    1900.0|         0|2003-12...|\n",
      "|      1|  ALPHABE...|             07  REN...|  378| 33|                       C4|                  2B|125 AVE...|              6.0|             1.0|        7.0|          2185.0|           5725.0|    1910.0|    426000|2003-10...|\n",
      "|      1|  ALPHABE...|             07  REN...|  391| 12|                       C1|                   2|610 EAS...|             24.0|             0.0|       24.0|          2543.0|          11568.0|    1910.0|         0|2003-02...|\n",
      "|      1|  ALPHABE...|             07  REN...|  392|  5|                       C2|                  2A|151 AVE...|              5.0|             0.0|        5.0|          2139.0|           4416.0|    1900.0|         0|2003-08...|\n",
      "|      1|  ALPHABE...|             07  REN...|  393| 26|                       D5|                   2|636 EAS...|             63.0|             0.0|       63.0|          2369.0|          10355.0|    1880.0|         0|2003-10...|\n",
      "|      1|  ALPHABE...|             07  REN...|  393| 27|                       C4|                  2B|636 EAS...|              9.0|             1.0|       10.0|          2370.0|           6652.0|    1900.0|         0|2003-10...|\n",
      "|      1|  ALPHABE...|             07  REN...|  393| 36|                       C7|                  2B|165 AVE...|              8.0|             2.0|       10.0|          1909.0|           7437.0|    1920.0|         3|2003-06...|\n",
      "|      1|  ALPHABE...|             07  REN...|  393| 37|                       C7|                  2B|165 AVE...|              8.0|             2.0|       10.0|          1920.0|           7485.0|    1920.0|         3|2003-06...|\n",
      "|      1|  ALPHABE...|             07  REN...|  393| 38|                       C7|                  2B|165 AVE...|              8.0|             2.0|       10.0|          1916.0|           7485.0|    1920.0|         3|2003-06...|\n",
      "+-------+------------+-----------------------+-----+---+-------------------------+--------------------+----------+-----------------+----------------+-----------+----------------+-----------------+----------+----------+----------+\n",
      "only showing top 10 rows\n",
      "\n"
     ]
    }
   ],
   "source": [
    "dfManhattan20032019.show(10,10)"
   ]
  },
  {
   "cell_type": "markdown",
   "id": "cd6811d1",
   "metadata": {},
   "source": [
    "## dfQueens20032019"
   ]
  },
  {
   "cell_type": "code",
   "execution_count": 28,
   "id": "5eff8cb4",
   "metadata": {},
   "outputs": [
    {
     "name": "stdout",
     "output_type": "stream",
     "text": [
      "+---+-------+------------+-----------------------+--------------------+-----+------+---------+-------------------------+----------+----------------+--------+-----------------+----------------+-----------+----------------+-----------------+----------+-------------------------+------------------------------+----------+----------+------------+------------+------------+------------+------------+------------+----------+\n",
      "|_c0|Borough|Neighborhood|Building Class Category|Tax Class At Present|Block|   Lot|Ease-Ment|Building Class At Present|   Address|Apartment Number|Zip Code|Residential Units|Commercial Units|Total Units|Land Square Feet|Gross Square Feet|Year Built|Tax Class At Time Of Sale|Building Class At Time Of Sale|Sale Price| Sale Date|Unnamed: 0.6|Unnamed: 0.5|Unnamed: 0.4|Unnamed: 0.3|Unnamed: 0.2|Unnamed: 0.1|Unnamed: 0|\n",
      "+---+-------+------------+-----------------------+--------------------+-----+------+---------+-------------------------+----------+----------------+--------+-----------------+----------------+-----------+----------------+-----------------+----------+-------------------------+------------------------------+----------+----------+------------+------------+------------+------------+------------+------------+----------+\n",
      "|  0|    4.0|  AIRPORT...|             01  ONE...|                   1|949.0|  47.0|         |                       A5|1974 81...|             ...| 11370.0|              1.0|             0.0|        1.0|          1800.0|           1224.0|    1945.0|                      1.0|                            A5|  318000.0|2003-06...|        null|        null|        null|        null|        null|        null|      null|\n",
      "|  1|    4.0|  AIRPORT...|             01  ONE...|                   1|949.0|  47.0|         |                       A5|1974 81...|             ...| 11370.0|              1.0|             0.0|        1.0|          1800.0|           1224.0|    1945.0|                      1.0|                            A5|     100.0|2003-05...|        null|        null|        null|        null|        null|        null|      null|\n",
      "|  2|    4.0|  AIRPORT...|             01  ONE...|                   1|976.0|  23.0|         |                       A5|2136 81...|             ...| 11370.0|              1.0|             0.0|        1.0|          1800.0|           1224.0|    1950.0|                      1.0|                            A5|       0.0|2003-07...|        null|        null|        null|        null|        null|        null|      null|\n",
      "|  3|    4.0|  AIRPORT...|             01  ONE...|                   1|976.0|  33.0|         |                       A5|2156 81...|             ...| 11370.0|              1.0|             0.0|        1.0|          1800.0|           1224.0|    1950.0|                      1.0|                            A5|  370000.0|2003-10...|        null|        null|        null|        null|        null|        null|      null|\n",
      "|  4|    4.0|  AIRPORT...|             01  ONE...|                   1|976.0|  60.0|         |                       A5|2123 80...|             ...| 11370.0|              1.0|             0.0|        1.0|          1800.0|           1224.0|    1950.0|                      1.0|                            A5|       0.0|2003-12...|        null|        null|        null|        null|        null|        null|      null|\n",
      "|  5|    4.0|  AIRPORT...|             01  ONE...|                   1|976.0|  67.0|         |                       A5|2109 80...|             ...| 11370.0|              1.0|             0.0|        1.0|          1800.0|           1836.0|    1950.0|                      1.0|                            A5|  450000.0|2003-06...|        null|        null|        null|        null|        null|        null|      null|\n",
      "|  6|    4.0|  AIRPORT...|             02  TWO...|                   1|976.0|   1.0|         |                       B1|2101 80...|             ...| 11370.0|              2.0|             0.0|        2.0|          2100.0|           2765.0|    1950.0|                      1.0|                            B1|       0.0|2003-12...|        null|        null|        null|        null|        null|        null|      null|\n",
      "|  7|    4.0|  AIRPORT...|             03  THR...|                   1|949.0|  56.0|         |                       C0|1969 80...|             ...| 11370.0|              3.0|             0.0|        3.0|          2000.0|           2835.0|    1945.0|                      1.0|                            C0|  605000.0|2003-12...|        null|        null|        null|        null|        null|        null|      null|\n",
      "|  8|    4.0|  AIRPORT...|             03  THR...|                   1|949.0|  58.0|         |                       C0|1965 80...|             ...| 11370.0|              3.0|             0.0|        3.0|          2000.0|           2635.0|    1945.0|                      1.0|                            C0|  510000.0|2003-01...|        null|        null|        null|        null|        null|        null|      null|\n",
      "|  9|    4.0|  AIRPORT...|             12  CON...|                   2|949.0|1006.0|         |                       R2|1939 80...|               2| 11370.0|              1.0|             0.0|        1.0|             0.0|              0.0|       0.0|                      2.0|                            R2|       0.0|2003-02...|        null|        null|        null|        null|        null|        null|      null|\n",
      "+---+-------+------------+-----------------------+--------------------+-----+------+---------+-------------------------+----------+----------------+--------+-----------------+----------------+-----------+----------------+-----------------+----------+-------------------------+------------------------------+----------+----------+------------+------------+------------+------------+------------+------------+----------+\n",
      "only showing top 10 rows\n",
      "\n"
     ]
    }
   ],
   "source": [
    "dfQueens20032019.show(10,10)"
   ]
  },
  {
   "cell_type": "code",
   "execution_count": 29,
   "id": "53ef27ed",
   "metadata": {},
   "outputs": [],
   "source": [
    "dfQueens20032019 = dfQueens20032019.select('Borough',\n",
    " 'Neighborhood',\n",
    " 'Building Class Category',\n",
    " 'Tax Class At Present',\n",
    " 'Block',\n",
    " 'Lot',\n",
    "'Building Class At Present',\n",
    "'Address',\n",
    " 'Residential Units',\n",
    " 'Commercial Units',\n",
    " 'Total Units',                      \n",
    " 'Land Square Feet',\n",
    " 'Gross Square Feet',\n",
    " 'Year Built',                      \n",
    " 'Sale Price',\n",
    " 'Sale Date' )"
   ]
  },
  {
   "cell_type": "code",
   "execution_count": 30,
   "id": "6b8ff853",
   "metadata": {},
   "outputs": [
    {
     "name": "stdout",
     "output_type": "stream",
     "text": [
      "+-------+------------+-----------------------+--------------------+-----+------+-------------------------+----------+-----------------+----------------+-----------+----------------+-----------------+----------+----------+----------+\n",
      "|Borough|Neighborhood|Building Class Category|Tax Class At Present|Block|   Lot|Building Class At Present|   Address|Residential Units|Commercial Units|Total Units|Land Square Feet|Gross Square Feet|Year Built|Sale Price| Sale Date|\n",
      "+-------+------------+-----------------------+--------------------+-----+------+-------------------------+----------+-----------------+----------------+-----------+----------------+-----------------+----------+----------+----------+\n",
      "|    4.0|  AIRPORT...|             01  ONE...|                   1|949.0|  47.0|                       A5|1974 81...|              1.0|             0.0|        1.0|          1800.0|           1224.0|    1945.0|  318000.0|2003-06...|\n",
      "|    4.0|  AIRPORT...|             01  ONE...|                   1|949.0|  47.0|                       A5|1974 81...|              1.0|             0.0|        1.0|          1800.0|           1224.0|    1945.0|     100.0|2003-05...|\n",
      "|    4.0|  AIRPORT...|             01  ONE...|                   1|976.0|  23.0|                       A5|2136 81...|              1.0|             0.0|        1.0|          1800.0|           1224.0|    1950.0|       0.0|2003-07...|\n",
      "|    4.0|  AIRPORT...|             01  ONE...|                   1|976.0|  33.0|                       A5|2156 81...|              1.0|             0.0|        1.0|          1800.0|           1224.0|    1950.0|  370000.0|2003-10...|\n",
      "|    4.0|  AIRPORT...|             01  ONE...|                   1|976.0|  60.0|                       A5|2123 80...|              1.0|             0.0|        1.0|          1800.0|           1224.0|    1950.0|       0.0|2003-12...|\n",
      "|    4.0|  AIRPORT...|             01  ONE...|                   1|976.0|  67.0|                       A5|2109 80...|              1.0|             0.0|        1.0|          1800.0|           1836.0|    1950.0|  450000.0|2003-06...|\n",
      "|    4.0|  AIRPORT...|             02  TWO...|                   1|976.0|   1.0|                       B1|2101 80...|              2.0|             0.0|        2.0|          2100.0|           2765.0|    1950.0|       0.0|2003-12...|\n",
      "|    4.0|  AIRPORT...|             03  THR...|                   1|949.0|  56.0|                       C0|1969 80...|              3.0|             0.0|        3.0|          2000.0|           2835.0|    1945.0|  605000.0|2003-12...|\n",
      "|    4.0|  AIRPORT...|             03  THR...|                   1|949.0|  58.0|                       C0|1965 80...|              3.0|             0.0|        3.0|          2000.0|           2635.0|    1945.0|  510000.0|2003-01...|\n",
      "|    4.0|  AIRPORT...|             12  CON...|                   2|949.0|1006.0|                       R2|1939 80...|              1.0|             0.0|        1.0|             0.0|              0.0|       0.0|       0.0|2003-02...|\n",
      "+-------+------------+-----------------------+--------------------+-----+------+-------------------------+----------+-----------------+----------------+-----------+----------------+-----------------+----------+----------+----------+\n",
      "only showing top 10 rows\n",
      "\n"
     ]
    }
   ],
   "source": [
    "dfQueens20032019.show(10,10)"
   ]
  },
  {
   "cell_type": "markdown",
   "id": "6512da4a",
   "metadata": {},
   "source": [
    "## dfStatenIsland20032019"
   ]
  },
  {
   "cell_type": "code",
   "execution_count": 31,
   "id": "784c602c",
   "metadata": {},
   "outputs": [
    {
     "name": "stdout",
     "output_type": "stream",
     "text": [
      "+---+-------+------------+-----------------------+-------------------------------+------+----+---------+------------------------------------+----------+----------------+--------+-----------------+----------------+-----------+----------------+-----------------+----------+-------------------------+------------------------------+----------+----------+------------+------------+------------+------------+------------+------------+----------+\n",
      "|_c0|Borough|Neighborhood|Building Class Category|Tax Class As Of Final Roll 18/1| Block| Lot|Ease-Ment|Building Class As Of Final Roll 18/1|   Address|Apartment Number|Zip Code|Residential Units|Commercial Units|Total Units|Land Square Feet|Gross Square Feet|Year Built|Tax Class At Time Of Sale|Building Class At Time Of Sale|Sale Price| Sale Date|Unnamed: 0.6|Unnamed: 0.5|Unnamed: 0.4|Unnamed: 0.3|Unnamed: 0.2|Unnamed: 0.1|Unnamed: 0|\n",
      "+---+-------+------------+-----------------------+-------------------------------+------+----+---------+------------------------------------+----------+----------------+--------+-----------------+----------------+-----------+----------------+-----------------+----------+-------------------------+------------------------------+----------+----------+------------+------------+------------+------------+------------+------------+----------+\n",
      "|  0|    5.0|  ANNADAL...|             01  ONE...|                              1|5391.0| 8.0|         |                                  A5|4730 AM...|             ...| 10312.0|              1.0|             0.0|        1.0|          3149.0|           1110.0|    2002.0|                      1.0|                            A5|  353886.0|2003-01...|        null|        null|        null|        null|        null|        null|      null|\n",
      "|  1|    5.0|  ANNADAL...|             01  ONE...|                              1|5391.0|12.0|         |                                  A5|4718 AM...|             ...| 10312.0|              1.0|             0.0|        1.0|          1746.0|           1110.0|    2002.0|                      1.0|                            A5|  310000.0|2003-07...|        null|        null|        null|        null|        null|        null|      null|\n",
      "|  2|    5.0|  ANNADAL...|             01  ONE...|                              1|5391.0|13.0|         |                                  A5|4716 AM...|             ...| 10312.0|              1.0|             0.0|        1.0|          1871.0|           1110.0|    2002.0|                      1.0|                            A5|  299130.0|2003-09...|        null|        null|        null|        null|        null|        null|      null|\n",
      "|  3|    5.0|  ANNADAL...|             01  ONE...|                              1|5391.0|15.0|         |                                  A5|4714 AM...|             ...| 10312.0|              1.0|             0.0|        1.0|          4678.0|           1110.0|    2002.0|                      1.0|                            A5|  304099.0|2003-09...|        null|        null|        null|        null|        null|        null|      null|\n",
      "|  4|    5.0|  ANNADAL...|             01  ONE...|                              1|5395.0|15.0|         |                                  A1|10 EDWI...|             ...| 10312.0|              1.0|             0.0|        1.0|          7000.0|           2200.0|    1980.0|                      1.0|                            A1|       0.0|2003-09...|        null|        null|        null|        null|        null|        null|      null|\n",
      "|  5|    5.0|  ANNADAL...|             01  ONE...|                              1|5400.0|20.0|         |                                  A1|5 JANSE...|             ...| 10312.0|              1.0|             0.0|        1.0|         10000.0|           3344.0|    1980.0|                      1.0|                            A1|  795000.0|2003-05...|        null|        null|        null|        null|        null|        null|      null|\n",
      "|  6|    5.0|  ANNADAL...|             01  ONE...|                              1|5403.0|33.0|         |                                  A1|91 NOEL...|             ...| 10312.0|              1.0|             0.0|        1.0|          7500.0|           6500.0|    2002.0|                      1.0|                            A1|       0.0|2003-01...|        null|        null|        null|        null|        null|        null|      null|\n",
      "|  7|    5.0|  ANNADAL...|             01  ONE...|                              1|5404.0|18.0|         |                                  A2|1610 LE...|             ...| 10312.0|              1.0|             0.0|        1.0|          7500.0|           2128.0|    1970.0|                      1.0|                            A2|  625000.0|2003-02...|        null|        null|        null|        null|        null|        null|      null|\n",
      "|  8|    5.0|  ANNADAL...|             01  ONE...|                              1|5406.0|35.0|         |                                  A1|103 ELM...|             ...| 10312.0|              1.0|             0.0|        1.0|          2500.0|           1700.0|    1999.0|                      1.0|                            A1|       0.0|2003-09...|        null|        null|        null|        null|        null|        null|      null|\n",
      "|  9|    5.0|  ANNADAL...|             01  ONE...|                              1|5407.0|36.0|         |                                  A1|183 BAT...|             ...| 10312.0|              1.0|             0.0|        1.0|          3700.0|           4400.0|    2004.0|                      1.0|                            A1|  352000.0|2003-01...|        null|        null|        null|        null|        null|        null|      null|\n",
      "+---+-------+------------+-----------------------+-------------------------------+------+----+---------+------------------------------------+----------+----------------+--------+-----------------+----------------+-----------+----------------+-----------------+----------+-------------------------+------------------------------+----------+----------+------------+------------+------------+------------+------------+------------+----------+\n",
      "only showing top 10 rows\n",
      "\n"
     ]
    }
   ],
   "source": [
    "dfStatenIsland20032019.show(10,10)"
   ]
  },
  {
   "cell_type": "code",
   "execution_count": 32,
   "id": "9bb70f68",
   "metadata": {},
   "outputs": [],
   "source": [
    "dfStatenIsland20032019 = dfStatenIsland20032019.select('Borough',\n",
    " 'Neighborhood',\n",
    " 'Building Class Category',\n",
    "col('Tax Class As Of Final Roll 18/1').alias(\"Tax Class At Present\"),\n",
    " 'Block',\n",
    " 'Lot',\n",
    "col('Building Class As Of Final Roll 18/1').alias(\"Building Class At Present\"),\n",
    "'Address',\n",
    " 'Residential Units',\n",
    " 'Commercial Units',\n",
    " 'Total Units',                      \n",
    " 'Land Square Feet',\n",
    " 'Gross Square Feet',\n",
    " 'Year Built',                      \n",
    " 'Sale Price',\n",
    " 'Sale Date' )\n",
    "\n",
    "\n"
   ]
  },
  {
   "cell_type": "code",
   "execution_count": 33,
   "id": "a6d99223",
   "metadata": {},
   "outputs": [
    {
     "name": "stdout",
     "output_type": "stream",
     "text": [
      "+-------+------------+-----------------------+--------------------+------+----+-------------------------+----------+-----------------+----------------+-----------+----------------+-----------------+----------+----------+----------+\n",
      "|Borough|Neighborhood|Building Class Category|Tax Class At Present| Block| Lot|Building Class At Present|   Address|Residential Units|Commercial Units|Total Units|Land Square Feet|Gross Square Feet|Year Built|Sale Price| Sale Date|\n",
      "+-------+------------+-----------------------+--------------------+------+----+-------------------------+----------+-----------------+----------------+-----------+----------------+-----------------+----------+----------+----------+\n",
      "|    5.0|  ANNADAL...|             01  ONE...|                   1|5391.0| 8.0|                       A5|4730 AM...|              1.0|             0.0|        1.0|          3149.0|           1110.0|    2002.0|  353886.0|2003-01...|\n",
      "|    5.0|  ANNADAL...|             01  ONE...|                   1|5391.0|12.0|                       A5|4718 AM...|              1.0|             0.0|        1.0|          1746.0|           1110.0|    2002.0|  310000.0|2003-07...|\n",
      "|    5.0|  ANNADAL...|             01  ONE...|                   1|5391.0|13.0|                       A5|4716 AM...|              1.0|             0.0|        1.0|          1871.0|           1110.0|    2002.0|  299130.0|2003-09...|\n",
      "|    5.0|  ANNADAL...|             01  ONE...|                   1|5391.0|15.0|                       A5|4714 AM...|              1.0|             0.0|        1.0|          4678.0|           1110.0|    2002.0|  304099.0|2003-09...|\n",
      "|    5.0|  ANNADAL...|             01  ONE...|                   1|5395.0|15.0|                       A1|10 EDWI...|              1.0|             0.0|        1.0|          7000.0|           2200.0|    1980.0|       0.0|2003-09...|\n",
      "|    5.0|  ANNADAL...|             01  ONE...|                   1|5400.0|20.0|                       A1|5 JANSE...|              1.0|             0.0|        1.0|         10000.0|           3344.0|    1980.0|  795000.0|2003-05...|\n",
      "|    5.0|  ANNADAL...|             01  ONE...|                   1|5403.0|33.0|                       A1|91 NOEL...|              1.0|             0.0|        1.0|          7500.0|           6500.0|    2002.0|       0.0|2003-01...|\n",
      "|    5.0|  ANNADAL...|             01  ONE...|                   1|5404.0|18.0|                       A2|1610 LE...|              1.0|             0.0|        1.0|          7500.0|           2128.0|    1970.0|  625000.0|2003-02...|\n",
      "|    5.0|  ANNADAL...|             01  ONE...|                   1|5406.0|35.0|                       A1|103 ELM...|              1.0|             0.0|        1.0|          2500.0|           1700.0|    1999.0|       0.0|2003-09...|\n",
      "|    5.0|  ANNADAL...|             01  ONE...|                   1|5407.0|36.0|                       A1|183 BAT...|              1.0|             0.0|        1.0|          3700.0|           4400.0|    2004.0|  352000.0|2003-01...|\n",
      "+-------+------------+-----------------------+--------------------+------+----+-------------------------+----------+-----------------+----------------+-----------+----------------+-----------------+----------+----------+----------+\n",
      "only showing top 10 rows\n",
      "\n"
     ]
    }
   ],
   "source": [
    "dfStatenIsland20032019.show(10,10)"
   ]
  },
  {
   "cell_type": "markdown",
   "id": "21a95e7d",
   "metadata": {},
   "source": [
    "# Exploratory Data Analysis PySpark DataFrame"
   ]
  },
  {
   "cell_type": "markdown",
   "id": "8bcbc940",
   "metadata": {},
   "source": [
    "## Data Cleaning"
   ]
  },
  {
   "cell_type": "markdown",
   "id": "20af753f",
   "metadata": {},
   "source": [
    "### dfBronx20032019"
   ]
  },
  {
   "cell_type": "markdown",
   "id": "3fb28f9e",
   "metadata": {},
   "source": [
    "#### Looking for null values"
   ]
  },
  {
   "cell_type": "code",
   "execution_count": 34,
   "id": "6c409790",
   "metadata": {
    "scrolled": true
   },
   "outputs": [],
   "source": [
    "dfBronx20032019null = dfBronx20032019.select('Borough',\n",
    " 'Neighborhood',\n",
    " 'Building Class Category',\n",
    " 'Tax Class At Present',\n",
    " 'Block',\n",
    " 'Lot',\n",
    " 'Building Class At Present',\n",
    " 'Address',\n",
    " 'Residential Units',\n",
    " 'Commercial Units',\n",
    " 'Total Units',\n",
    " 'Land Square Feet',\n",
    " 'Gross Square Feet',\n",
    " 'Year Built',\n",
    " 'Sale Price')"
   ]
  },
  {
   "cell_type": "code",
   "execution_count": 35,
   "id": "3b8f9a3e",
   "metadata": {},
   "outputs": [
    {
     "name": "stdout",
     "output_type": "stream",
     "text": [
      "+-------+------------+-----------------------+--------------------+------+------+-------------------------+-------+-----------------+----------------+-----------+----------------+-----------------+----------+----------+\n",
      "|Borough|Neighborhood|Building Class Category|Tax Class At Present| Block|   Lot|Building Class At Present|Address|Residential Units|Commercial Units|Total Units|Land Square Feet|Gross Square Feet|Year Built|Sale Price|\n",
      "+-------+------------+-----------------------+--------------------+------+------+-------------------------+-------+-----------------+----------------+-----------+----------------+-----------------+----------+----------+\n",
      "| 108872|      108872|                 108872|              108872|108872|108872|                   108872| 108872|           122648|          122648|     122648|          122656|           122648|    114976|    108872|\n",
      "+-------+------------+-----------------------+--------------------+------+------+-------------------------+-------+-----------------+----------------+-----------+----------------+-----------------+----------+----------+\n",
      "\n"
     ]
    }
   ],
   "source": [
    "dfBronx20032019null.select([count(when(isnan(c) | col(c).isNull(), c)).alias(c) for c in dfBronx20032019null.columns]).show()"
   ]
  },
  {
   "cell_type": "markdown",
   "id": "207b6273",
   "metadata": {},
   "source": [
    "#### Dropping null values "
   ]
  },
  {
   "cell_type": "code",
   "execution_count": 36,
   "id": "0c7d8ba6",
   "metadata": {},
   "outputs": [],
   "source": [
    "dfBronx20032019 = dfBronx20032019.na.drop()"
   ]
  },
  {
   "cell_type": "markdown",
   "id": "d7b5b8ef",
   "metadata": {},
   "source": [
    "#### Checking once again:"
   ]
  },
  {
   "cell_type": "code",
   "execution_count": 37,
   "id": "79f25516",
   "metadata": {},
   "outputs": [],
   "source": [
    "dfBronx20032019null = dfBronx20032019.select('Borough',\n",
    " 'Neighborhood',\n",
    " 'Building Class Category',\n",
    " 'Tax Class At Present',\n",
    " 'Block',\n",
    " 'Lot',\n",
    " 'Building Class At Present',\n",
    " 'Address',\n",
    " 'Residential Units',\n",
    " 'Commercial Units',\n",
    " 'Total Units',\n",
    " 'Land Square Feet',\n",
    " 'Gross Square Feet',\n",
    " 'Year Built',\n",
    " 'Sale Price')"
   ]
  },
  {
   "cell_type": "code",
   "execution_count": 38,
   "id": "0b60107d",
   "metadata": {},
   "outputs": [
    {
     "name": "stdout",
     "output_type": "stream",
     "text": [
      "+-------+------------+-----------------------+--------------------+-----+---+-------------------------+-------+-----------------+----------------+-----------+----------------+-----------------+----------+----------+\n",
      "|Borough|Neighborhood|Building Class Category|Tax Class At Present|Block|Lot|Building Class At Present|Address|Residential Units|Commercial Units|Total Units|Land Square Feet|Gross Square Feet|Year Built|Sale Price|\n",
      "+-------+------------+-----------------------+--------------------+-----+---+-------------------------+-------+-----------------+----------------+-----------+----------------+-----------------+----------+----------+\n",
      "|      0|           0|                      0|                   0|    0|  0|                        0|      0|                0|               0|          0|               0|                0|         0|         0|\n",
      "+-------+------------+-----------------------+--------------------+-----+---+-------------------------+-------+-----------------+----------------+-----------+----------------+-----------------+----------+----------+\n",
      "\n"
     ]
    }
   ],
   "source": [
    "dfBronx20032019null.select([count(when(isnan(c) | col(c).isNull(), c)).alias(c) for c in dfBronx20032019null.columns]).show()"
   ]
  },
  {
   "cell_type": "markdown",
   "id": "5998c899",
   "metadata": {},
   "source": [
    "#### Dealing with duplicates"
   ]
  },
  {
   "cell_type": "code",
   "execution_count": 39,
   "id": "e7371147",
   "metadata": {},
   "outputs": [
    {
     "name": "stdout",
     "output_type": "stream",
     "text": [
      "Counting rows 1030728\n"
     ]
    }
   ],
   "source": [
    "print(\"Counting rows {}\".format(dfBronx20032019.count()))"
   ]
  },
  {
   "cell_type": "code",
   "execution_count": 40,
   "id": "6f58249c",
   "metadata": {},
   "outputs": [
    {
     "name": "stdout",
     "output_type": "stream",
     "text": [
      "Counting distinct rows 127401\n"
     ]
    }
   ],
   "source": [
    "print(\"Counting distinct rows {}\".format(dfBronx20032019.distinct().count()))"
   ]
  },
  {
   "cell_type": "code",
   "execution_count": 41,
   "id": "254b58a3",
   "metadata": {},
   "outputs": [],
   "source": [
    "dfBronx20032019 = dfBronx20032019.dropDuplicates()"
   ]
  },
  {
   "cell_type": "code",
   "execution_count": 42,
   "id": "19c7cbaf",
   "metadata": {},
   "outputs": [
    {
     "name": "stdout",
     "output_type": "stream",
     "text": [
      "There are 127401 rows after removing duplicates\n"
     ]
    }
   ],
   "source": [
    "print(\"There are {} rows after removing duplicates\".format(dfBronx20032019.count()))"
   ]
  },
  {
   "cell_type": "markdown",
   "id": "3d3d842b",
   "metadata": {},
   "source": [
    "#### Columns"
   ]
  },
  {
   "cell_type": "code",
   "execution_count": 43,
   "id": "3cf24c8f",
   "metadata": {},
   "outputs": [
    {
     "name": "stdout",
     "output_type": "stream",
     "text": [
      "There are 16 columns in the DataFrame and their names are\n",
      " ['Borough', 'Neighborhood', 'Building Class Category', 'Tax Class At Present', 'Block', 'Lot', 'Building Class At Present', 'Address', 'Residential Units', 'Commercial Units', 'Total Units', 'Land Square Feet', 'Gross Square Feet', 'Year Built', 'Sale Price', 'Sale Date']\n"
     ]
    }
   ],
   "source": [
    "print(\"There are {} columns in the DataFrame and their names are\\n {}\".format(len(dfBronx20032019.columns),\n",
    "                                                                              dfBronx20032019.columns))"
   ]
  },
  {
   "cell_type": "markdown",
   "id": "86f51a11",
   "metadata": {},
   "source": [
    "#### Changing datatypes"
   ]
  },
  {
   "cell_type": "code",
   "execution_count": 44,
   "id": "d4ca8266",
   "metadata": {},
   "outputs": [
    {
     "name": "stdout",
     "output_type": "stream",
     "text": [
      "root\n",
      " |-- Borough: double (nullable = true)\n",
      " |-- Neighborhood: string (nullable = true)\n",
      " |-- Building Class Category: string (nullable = true)\n",
      " |-- Tax Class At Present: string (nullable = true)\n",
      " |-- Block: double (nullable = true)\n",
      " |-- Lot: double (nullable = true)\n",
      " |-- Building Class At Present: string (nullable = true)\n",
      " |-- Address: string (nullable = true)\n",
      " |-- Residential Units: double (nullable = true)\n",
      " |-- Commercial Units: double (nullable = true)\n",
      " |-- Total Units: double (nullable = true)\n",
      " |-- Land Square Feet: double (nullable = true)\n",
      " |-- Gross Square Feet: double (nullable = true)\n",
      " |-- Year Built: double (nullable = true)\n",
      " |-- Sale Price: double (nullable = true)\n",
      " |-- Sale Date: timestamp (nullable = true)\n",
      "\n"
     ]
    }
   ],
   "source": [
    "dfBronx20032019.printSchema()"
   ]
  },
  {
   "cell_type": "code",
   "execution_count": 45,
   "id": "3f8d6337",
   "metadata": {},
   "outputs": [],
   "source": [
    "dfBronx20032019 = dfBronx20032019.withColumn(\"Borough\", col(\"Borough\").cast(\"int\")) \\\n",
    "                 .withColumn(\"Block\" , col(\"Block\").cast(\"int\")) \\\n",
    "                 .withColumn(\"Lot\" , col(\"Lot\").cast(\"int\")) \\\n",
    "                 .withColumn(\"Lot\" , col(\"Borough\").cast(\"int\")) \\\n",
    "                 .withColumn(\"Residential Units\" , col(\"Residential Units\").cast(\"int\")) \\\n",
    "                 .withColumn(\"Commercial Units\" , col(\"Commercial Units\").cast(\"int\")) \\\n",
    "                 .withColumn(\"Total Units\" , col(\"Total Units\").cast(\"int\")) \\\n",
    "                 .withColumn(\"Land Square Feet\" , col(\"Land Square Feet\").cast(\"int\")) \\\n",
    "                 .withColumn(\"Gross Square Feet\" , col(\"Gross Square Feet\").cast(\"int\")) \\\n",
    "                 .withColumn(\"Year Built\" , col(\"Year Built\").cast(\"int\")) \\\n",
    "                 .withColumn(\"Sale Price\" , col(\"Sale Price\").cast(DecimalType(18,2))) \\\n",
    "                 .withColumn(\"Sale Date\" , col(\"Sale Date\").cast(DateType()))"
   ]
  },
  {
   "cell_type": "code",
   "execution_count": 46,
   "id": "c27509a1",
   "metadata": {},
   "outputs": [
    {
     "name": "stdout",
     "output_type": "stream",
     "text": [
      "root\n",
      " |-- Borough: integer (nullable = true)\n",
      " |-- Neighborhood: string (nullable = true)\n",
      " |-- Building Class Category: string (nullable = true)\n",
      " |-- Tax Class At Present: string (nullable = true)\n",
      " |-- Block: integer (nullable = true)\n",
      " |-- Lot: integer (nullable = true)\n",
      " |-- Building Class At Present: string (nullable = true)\n",
      " |-- Address: string (nullable = true)\n",
      " |-- Residential Units: integer (nullable = true)\n",
      " |-- Commercial Units: integer (nullable = true)\n",
      " |-- Total Units: integer (nullable = true)\n",
      " |-- Land Square Feet: integer (nullable = true)\n",
      " |-- Gross Square Feet: integer (nullable = true)\n",
      " |-- Year Built: integer (nullable = true)\n",
      " |-- Sale Price: decimal(18,2) (nullable = true)\n",
      " |-- Sale Date: date (nullable = true)\n",
      "\n"
     ]
    }
   ],
   "source": [
    "dfBronx20032019.printSchema()"
   ]
  },
  {
   "cell_type": "markdown",
   "id": "107a47ad",
   "metadata": {},
   "source": [
    "#### Changing numeric values Borough to a name"
   ]
  },
  {
   "cell_type": "code",
   "execution_count": 47,
   "id": "9d89134f",
   "metadata": {},
   "outputs": [],
   "source": [
    "dfBronx20032019 = dfBronx20032019.withColumn(\"Borough\", when(col(\"Borough\") == 2,lit(\"Bronx\")).otherwise(lit(\"Bronx\")))"
   ]
  },
  {
   "cell_type": "code",
   "execution_count": 48,
   "id": "41229e02",
   "metadata": {},
   "outputs": [
    {
     "name": "stdout",
     "output_type": "stream",
     "text": [
      "+-------+\n",
      "|Borough|\n",
      "+-------+\n",
      "|  Bronx|\n",
      "+-------+\n",
      "\n"
     ]
    }
   ],
   "source": [
    "dfBronx20032019.select(\"Borough\").distinct().show()"
   ]
  },
  {
   "cell_type": "markdown",
   "id": "2e62be5a",
   "metadata": {},
   "source": [
    "#### Summary"
   ]
  },
  {
   "cell_type": "code",
   "execution_count": 49,
   "id": "876d0f73",
   "metadata": {},
   "outputs": [
    {
     "name": "stdout",
     "output_type": "stream",
     "text": [
      "+-------+------------------+\n",
      "|summary|             Block|\n",
      "+-------+------------------+\n",
      "|  count|            127401|\n",
      "|   mean|   4148.3136239119|\n",
      "| stddev|1048.0006613883152|\n",
      "|    min|              2260|\n",
      "|    max|              5958|\n",
      "+-------+------------------+\n",
      "\n"
     ]
    }
   ],
   "source": [
    "dfBronx20032019.describe(\"Block\").show()"
   ]
  },
  {
   "cell_type": "code",
   "execution_count": 50,
   "id": "e1a0cd91",
   "metadata": {},
   "outputs": [
    {
     "name": "stdout",
     "output_type": "stream",
     "text": [
      "+-------+------+\n",
      "|summary|   Lot|\n",
      "+-------+------+\n",
      "|  count|127401|\n",
      "|   mean|   2.0|\n",
      "| stddev|   0.0|\n",
      "|    min|     2|\n",
      "|    max|     2|\n",
      "+-------+------+\n",
      "\n"
     ]
    }
   ],
   "source": [
    "dfBronx20032019.describe(\"Lot\").show()"
   ]
  },
  {
   "cell_type": "code",
   "execution_count": 51,
   "id": "77954239",
   "metadata": {},
   "outputs": [
    {
     "name": "stdout",
     "output_type": "stream",
     "text": [
      "+-------+-----------------+\n",
      "|summary|Residential Units|\n",
      "+-------+-----------------+\n",
      "|  count|           127401|\n",
      "|   mean| 4.03886939662954|\n",
      "| stddev|47.51316957967174|\n",
      "|    min|                0|\n",
      "|    max|            13480|\n",
      "+-------+-----------------+\n",
      "\n"
     ]
    }
   ],
   "source": [
    "dfBronx20032019.describe(\"Residential Units\").show()"
   ]
  },
  {
   "cell_type": "code",
   "execution_count": 52,
   "id": "8b78fa8b",
   "metadata": {},
   "outputs": [
    {
     "name": "stdout",
     "output_type": "stream",
     "text": [
      "+-------+-------------------+\n",
      "|summary|   Commercial Units|\n",
      "+-------+-------------------+\n",
      "|  count|             127401|\n",
      "|   mean|0.22007676548849694|\n",
      "| stddev| 3.3270636207226616|\n",
      "|    min|                  0|\n",
      "|    max|                252|\n",
      "+-------+-------------------+\n",
      "\n"
     ]
    }
   ],
   "source": [
    "dfBronx20032019.describe(\"Commercial Units\").show()\n"
   ]
  },
  {
   "cell_type": "code",
   "execution_count": 53,
   "id": "0a1ee0e5",
   "metadata": {},
   "outputs": [
    {
     "name": "stdout",
     "output_type": "stream",
     "text": [
      "+-------+-----------------+\n",
      "|summary|      Total Units|\n",
      "+-------+-----------------+\n",
      "|  count|           127401|\n",
      "|   mean|4.261104700905016|\n",
      "| stddev|47.70597787054591|\n",
      "|    min|                0|\n",
      "|    max|            13495|\n",
      "+-------+-----------------+\n",
      "\n"
     ]
    }
   ],
   "source": [
    "dfBronx20032019.describe(\"Total Units\").show()\n"
   ]
  },
  {
   "cell_type": "code",
   "execution_count": 54,
   "id": "5f7fd791",
   "metadata": {},
   "outputs": [
    {
     "name": "stdout",
     "output_type": "stream",
     "text": [
      "+-------+-----------------+\n",
      "|summary| Land Square Feet|\n",
      "+-------+-----------------+\n",
      "|  count|           127401|\n",
      "|   mean|5075.459093727679|\n",
      "| stddev|99866.84182361943|\n",
      "|    min|                0|\n",
      "|    max|         19850400|\n",
      "+-------+-----------------+\n",
      "\n"
     ]
    }
   ],
   "source": [
    "dfBronx20032019.describe(\"Land Square Feet\").show()\n"
   ]
  },
  {
   "cell_type": "code",
   "execution_count": 55,
   "id": "7c3474df",
   "metadata": {},
   "outputs": [
    {
     "name": "stdout",
     "output_type": "stream",
     "text": [
      "+-------+-----------------+\n",
      "|summary|Gross Square Feet|\n",
      "+-------+-----------------+\n",
      "|  count|           127401|\n",
      "|   mean|5012.748369322062|\n",
      "| stddev|28193.71056863976|\n",
      "|    min|                0|\n",
      "|    max|          1743584|\n",
      "+-------+-----------------+\n",
      "\n"
     ]
    }
   ],
   "source": [
    "dfBronx20032019.describe(\"Gross Square Feet\").show()\n"
   ]
  },
  {
   "cell_type": "code",
   "execution_count": 56,
   "id": "bd59d05b",
   "metadata": {},
   "outputs": [
    {
     "name": "stdout",
     "output_type": "stream",
     "text": [
      "+-------+-----------------+\n",
      "|summary|      Total Units|\n",
      "+-------+-----------------+\n",
      "|  count|           127401|\n",
      "|   mean|4.261104700905016|\n",
      "| stddev|47.70597787054591|\n",
      "|    min|                0|\n",
      "|    max|            13495|\n",
      "+-------+-----------------+\n",
      "\n"
     ]
    }
   ],
   "source": [
    "dfBronx20032019.describe(\"Total Units\").show()\n"
   ]
  },
  {
   "cell_type": "code",
   "execution_count": 57,
   "id": "ad976dda",
   "metadata": {},
   "outputs": [
    {
     "name": "stdout",
     "output_type": "stream",
     "text": [
      "+-------+-----------------+\n",
      "|summary|       Sale Price|\n",
      "+-------+-----------------+\n",
      "|  count|           127401|\n",
      "|   mean|    466189.417022|\n",
      "| stddev|2140451.887582929|\n",
      "|    min|             0.00|\n",
      "|    max|     137298279.00|\n",
      "+-------+-----------------+\n",
      "\n"
     ]
    }
   ],
   "source": [
    "dfBronx20032019.describe(\"Sale Price\").show()\n"
   ]
  },
  {
   "cell_type": "code",
   "execution_count": 58,
   "id": "769abe03",
   "metadata": {},
   "outputs": [
    {
     "data": {
      "text/plain": [
       "[('Borough', 'string'),\n",
       " ('Neighborhood', 'string'),\n",
       " ('Building Class Category', 'string'),\n",
       " ('Tax Class At Present', 'string'),\n",
       " ('Block', 'int'),\n",
       " ('Lot', 'int'),\n",
       " ('Building Class At Present', 'string'),\n",
       " ('Address', 'string'),\n",
       " ('Residential Units', 'int'),\n",
       " ('Commercial Units', 'int'),\n",
       " ('Total Units', 'int'),\n",
       " ('Land Square Feet', 'int'),\n",
       " ('Gross Square Feet', 'int'),\n",
       " ('Year Built', 'int'),\n",
       " ('Sale Price', 'decimal(18,2)'),\n",
       " ('Sale Date', 'date')]"
      ]
     },
     "execution_count": 58,
     "metadata": {},
     "output_type": "execute_result"
    }
   ],
   "source": [
    "dfBronx20032019.dtypes"
   ]
  },
  {
   "cell_type": "code",
   "execution_count": 59,
   "id": "91bc1440",
   "metadata": {},
   "outputs": [
    {
     "name": "stdout",
     "output_type": "stream",
     "text": [
      "Shape of DataFrame: (127401, 16)\n"
     ]
    }
   ],
   "source": [
    "print('Shape of DataFrame:', (dfBronx20032019.count(), len(dfBronx20032019.columns)))"
   ]
  },
  {
   "cell_type": "markdown",
   "id": "923025f9",
   "metadata": {},
   "source": [
    "### dfBrooklyn20032019"
   ]
  },
  {
   "cell_type": "markdown",
   "id": "0bf496c0",
   "metadata": {},
   "source": [
    "#### Looking for null values"
   ]
  },
  {
   "cell_type": "code",
   "execution_count": 60,
   "id": "286fd29f",
   "metadata": {},
   "outputs": [],
   "source": [
    "dfBrooklyn20032019null = dfBrooklyn20032019.select('Borough',\n",
    " 'Neighborhood',\n",
    " 'Building Class Category',\n",
    " 'Tax Class At Present',\n",
    " 'Block',\n",
    " 'Lot',\n",
    " 'Building Class At Present',\n",
    " 'Address',\n",
    " 'Residential Units',\n",
    " 'Commercial Units',\n",
    " 'Total Units',\n",
    " 'Land Square Feet',\n",
    " 'Gross Square Feet',\n",
    " 'Year Built',\n",
    " 'Sale Price')"
   ]
  },
  {
   "cell_type": "code",
   "execution_count": 61,
   "id": "01a312ef",
   "metadata": {},
   "outputs": [
    {
     "name": "stdout",
     "output_type": "stream",
     "text": [
      "+-------+------------+-----------------------+--------------------+-----+----+-------------------------+-------+-----------------+----------------+-----------+----------------+-----------------+----------+----------+\n",
      "|Borough|Neighborhood|Building Class Category|Tax Class At Present|Block| Lot|Building Class At Present|Address|Residential Units|Commercial Units|Total Units|Land Square Feet|Gross Square Feet|Year Built|Sale Price|\n",
      "+-------+------------+-----------------------+--------------------+-----+----+-------------------------+-------+-----------------+----------------+-----------+----------------+-----------------+----------+----------+\n",
      "|   3112|        3112|                   3112|                3360| 3112|3112|                     3360|   3112|            24312|           24312|      24312|           24312|            24312|     15928|      3112|\n",
      "+-------+------------+-----------------------+--------------------+-----+----+-------------------------+-------+-----------------+----------------+-----------+----------------+-----------------+----------+----------+\n",
      "\n"
     ]
    }
   ],
   "source": [
    "dfBrooklyn20032019null.select([count(when(isnan(c) | col(c).isNull(), c)).alias(c) for c in dfBrooklyn20032019null.columns]).show()"
   ]
  },
  {
   "cell_type": "markdown",
   "id": "5056ef73",
   "metadata": {},
   "source": [
    "#### Dropping null values"
   ]
  },
  {
   "cell_type": "code",
   "execution_count": 62,
   "id": "328dfd71",
   "metadata": {},
   "outputs": [],
   "source": [
    "dfBrooklyn20032019 = dfBrooklyn20032019.na.drop()"
   ]
  },
  {
   "cell_type": "markdown",
   "id": "cc1c9a58",
   "metadata": {},
   "source": [
    "#### Checking once again"
   ]
  },
  {
   "cell_type": "code",
   "execution_count": 63,
   "id": "d3a8c69b",
   "metadata": {},
   "outputs": [],
   "source": [
    "dfBrooklyn20032019null = dfBrooklyn20032019.select('Borough',\n",
    " 'Neighborhood',\n",
    " 'Building Class Category',\n",
    " 'Tax Class At Present',\n",
    " 'Block',\n",
    " 'Lot',\n",
    " 'Building Class At Present',\n",
    " 'Address',\n",
    " 'Residential Units',\n",
    " 'Commercial Units',\n",
    " 'Total Units',\n",
    " 'Land Square Feet',\n",
    " 'Gross Square Feet',\n",
    " 'Year Built',\n",
    " 'Sale Price')"
   ]
  },
  {
   "cell_type": "code",
   "execution_count": 64,
   "id": "369e252d",
   "metadata": {},
   "outputs": [
    {
     "name": "stdout",
     "output_type": "stream",
     "text": [
      "+-------+------------+-----------------------+--------------------+-----+---+-------------------------+-------+-----------------+----------------+-----------+----------------+-----------------+----------+----------+\n",
      "|Borough|Neighborhood|Building Class Category|Tax Class At Present|Block|Lot|Building Class At Present|Address|Residential Units|Commercial Units|Total Units|Land Square Feet|Gross Square Feet|Year Built|Sale Price|\n",
      "+-------+------------+-----------------------+--------------------+-----+---+-------------------------+-------+-----------------+----------------+-----------+----------------+-----------------+----------+----------+\n",
      "|      0|           0|                      0|                   0|    0|  0|                        0|      0|                0|               0|          0|               0|                0|         0|         0|\n",
      "+-------+------------+-----------------------+--------------------+-----+---+-------------------------+-------+-----------------+----------------+-----------+----------------+-----------------+----------+----------+\n",
      "\n"
     ]
    }
   ],
   "source": [
    "dfBrooklyn20032019null.select([count(when(isnan(c) | col(c).isNull(), c)).alias(c) for c in dfBrooklyn20032019null.columns]).show()"
   ]
  },
  {
   "cell_type": "markdown",
   "id": "d1b3e785",
   "metadata": {},
   "source": [
    "#### Dealing with duplicates"
   ]
  },
  {
   "cell_type": "code",
   "execution_count": 65,
   "id": "4e282d1a",
   "metadata": {},
   "outputs": [
    {
     "name": "stdout",
     "output_type": "stream",
     "text": [
      "Counting rows 3520032\n"
     ]
    }
   ],
   "source": [
    "print(\"Counting rows {}\".format(dfBrooklyn20032019.count()))"
   ]
  },
  {
   "cell_type": "code",
   "execution_count": 66,
   "id": "f2ef9365",
   "metadata": {},
   "outputs": [
    {
     "name": "stdout",
     "output_type": "stream",
     "text": [
      "Counting distinct row 433925\n"
     ]
    }
   ],
   "source": [
    "print(\"Counting distinct row {}\".format(dfBrooklyn20032019.distinct().count()))"
   ]
  },
  {
   "cell_type": "code",
   "execution_count": 67,
   "id": "f4a0703b",
   "metadata": {},
   "outputs": [],
   "source": [
    "dfBrooklyn20032019 = dfBrooklyn20032019.dropDuplicates()"
   ]
  },
  {
   "cell_type": "code",
   "execution_count": 68,
   "id": "5c048a52",
   "metadata": {},
   "outputs": [
    {
     "name": "stdout",
     "output_type": "stream",
     "text": [
      "There are 433925 rows after removing duplicates\n"
     ]
    }
   ],
   "source": [
    "print(\"There are {} rows after removing duplicates\".format(dfBrooklyn20032019.count()))"
   ]
  },
  {
   "cell_type": "markdown",
   "id": "024820f3",
   "metadata": {},
   "source": [
    "#### Columns"
   ]
  },
  {
   "cell_type": "code",
   "execution_count": 69,
   "id": "fc57433b",
   "metadata": {},
   "outputs": [
    {
     "name": "stdout",
     "output_type": "stream",
     "text": [
      "There are 16 columns in the DataFrame and their names are\n",
      " ['Borough', 'Neighborhood', 'Building Class Category', 'Tax Class At Present', 'Block', 'Lot', 'Building Class At Present', 'Address', 'Residential Units', 'Commercial Units', 'Total Units', 'Land Square Feet', 'Gross Square Feet', 'Year Built', 'Sale Price', 'Sale Date']\n"
     ]
    }
   ],
   "source": [
    "print(\"There are {} columns in the DataFrame and their names are\\n {}\".format(len(dfBrooklyn20032019.columns),\n",
    "                                                                             dfBrooklyn20032019.columns))"
   ]
  },
  {
   "cell_type": "markdown",
   "id": "86615410",
   "metadata": {},
   "source": [
    "#### Changing datatypes"
   ]
  },
  {
   "cell_type": "code",
   "execution_count": 70,
   "id": "a1b5758b",
   "metadata": {},
   "outputs": [
    {
     "name": "stdout",
     "output_type": "stream",
     "text": [
      "root\n",
      " |-- Borough: double (nullable = true)\n",
      " |-- Neighborhood: string (nullable = true)\n",
      " |-- Building Class Category: string (nullable = true)\n",
      " |-- Tax Class At Present: string (nullable = true)\n",
      " |-- Block: double (nullable = true)\n",
      " |-- Lot: double (nullable = true)\n",
      " |-- Building Class At Present: string (nullable = true)\n",
      " |-- Address: string (nullable = true)\n",
      " |-- Residential Units: double (nullable = true)\n",
      " |-- Commercial Units: double (nullable = true)\n",
      " |-- Total Units: double (nullable = true)\n",
      " |-- Land Square Feet: double (nullable = true)\n",
      " |-- Gross Square Feet: double (nullable = true)\n",
      " |-- Year Built: double (nullable = true)\n",
      " |-- Sale Price: double (nullable = true)\n",
      " |-- Sale Date: timestamp (nullable = true)\n",
      "\n"
     ]
    }
   ],
   "source": [
    "dfBrooklyn20032019.printSchema()"
   ]
  },
  {
   "cell_type": "code",
   "execution_count": 71,
   "id": "6f47fe5e",
   "metadata": {},
   "outputs": [],
   "source": [
    "dfBrooklyn20032019 = dfBrooklyn20032019.withColumn(\"Borough\", col(\"Borough\").cast(\"int\")) \\\n",
    "                 .withColumn(\"Block\" , col(\"Block\").cast(\"int\")) \\\n",
    "                 .withColumn(\"Lot\" , col(\"Lot\").cast(\"int\")) \\\n",
    "                 .withColumn(\"Lot\" , col(\"Borough\").cast(\"int\")) \\\n",
    "                 .withColumn(\"Residential Units\" , col(\"Residential Units\").cast(\"int\")) \\\n",
    "                 .withColumn(\"Commercial Units\" , col(\"Commercial Units\").cast(\"int\")) \\\n",
    "                 .withColumn(\"Total Units\" , col(\"Total Units\").cast(\"int\")) \\\n",
    "                 .withColumn(\"Land Square Feet\" , col(\"Land Square Feet\").cast(\"int\")) \\\n",
    "                 .withColumn(\"Gross Square Feet\" , col(\"Gross Square Feet\").cast(\"int\")) \\\n",
    "                 .withColumn(\"Year Built\" , col(\"Year Built\").cast(\"int\")) \\\n",
    "                 .withColumn(\"Sale Price\" , col(\"Sale Price\").cast(DecimalType(18,2))) \\\n",
    "                 .withColumn(\"Sale Date\" , col(\"Sale Date\").cast(DateType()))"
   ]
  },
  {
   "cell_type": "code",
   "execution_count": 72,
   "id": "719ccdc3",
   "metadata": {},
   "outputs": [
    {
     "name": "stdout",
     "output_type": "stream",
     "text": [
      "root\n",
      " |-- Borough: integer (nullable = true)\n",
      " |-- Neighborhood: string (nullable = true)\n",
      " |-- Building Class Category: string (nullable = true)\n",
      " |-- Tax Class At Present: string (nullable = true)\n",
      " |-- Block: integer (nullable = true)\n",
      " |-- Lot: integer (nullable = true)\n",
      " |-- Building Class At Present: string (nullable = true)\n",
      " |-- Address: string (nullable = true)\n",
      " |-- Residential Units: integer (nullable = true)\n",
      " |-- Commercial Units: integer (nullable = true)\n",
      " |-- Total Units: integer (nullable = true)\n",
      " |-- Land Square Feet: integer (nullable = true)\n",
      " |-- Gross Square Feet: integer (nullable = true)\n",
      " |-- Year Built: integer (nullable = true)\n",
      " |-- Sale Price: decimal(18,2) (nullable = true)\n",
      " |-- Sale Date: date (nullable = true)\n",
      "\n"
     ]
    }
   ],
   "source": [
    "dfBrooklyn20032019.printSchema()"
   ]
  },
  {
   "cell_type": "markdown",
   "id": "c07527e2",
   "metadata": {},
   "source": [
    "#### Changing numeric values Borough to a name"
   ]
  },
  {
   "cell_type": "code",
   "execution_count": 73,
   "id": "316c7c06",
   "metadata": {},
   "outputs": [],
   "source": [
    "dfBrooklyn20032019 = dfBrooklyn20032019.withColumn(\"Borough\", when(col(\"Borough\") == 3, \n",
    "                                                                   lit(\"Brooklyn\")).otherwise(lit(\"Brooklyn\")))"
   ]
  },
  {
   "cell_type": "code",
   "execution_count": 74,
   "id": "89037a85",
   "metadata": {},
   "outputs": [
    {
     "name": "stdout",
     "output_type": "stream",
     "text": [
      "+--------+\n",
      "| Borough|\n",
      "+--------+\n",
      "|Brooklyn|\n",
      "+--------+\n",
      "\n"
     ]
    }
   ],
   "source": [
    "dfBrooklyn20032019.select(\"Borough\").distinct().show()"
   ]
  },
  {
   "cell_type": "markdown",
   "id": "ee2c582c",
   "metadata": {},
   "source": [
    "#### Summary"
   ]
  },
  {
   "cell_type": "code",
   "execution_count": 75,
   "id": "7897f319",
   "metadata": {},
   "outputs": [
    {
     "name": "stdout",
     "output_type": "stream",
     "text": [
      "+-------+------------------+\n",
      "|summary|             Block|\n",
      "+-------+------------------+\n",
      "|  count|            433925|\n",
      "|   mean| 4293.120359509132|\n",
      "| stddev|2642.1193121351284|\n",
      "|    min|                 1|\n",
      "|    max|              8955|\n",
      "+-------+------------------+\n",
      "\n"
     ]
    }
   ],
   "source": [
    "dfBrooklyn20032019.describe(\"Block\").show()"
   ]
  },
  {
   "cell_type": "code",
   "execution_count": 76,
   "id": "fe5123b6",
   "metadata": {},
   "outputs": [
    {
     "name": "stdout",
     "output_type": "stream",
     "text": [
      "+-------+------+\n",
      "|summary|   Lot|\n",
      "+-------+------+\n",
      "|  count|433925|\n",
      "|   mean|   3.0|\n",
      "| stddev|   0.0|\n",
      "|    min|     3|\n",
      "|    max|     3|\n",
      "+-------+------+\n",
      "\n"
     ]
    }
   ],
   "source": [
    "dfBrooklyn20032019.describe(\"Lot\").show()"
   ]
  },
  {
   "cell_type": "code",
   "execution_count": 77,
   "id": "cae72f70",
   "metadata": {},
   "outputs": [
    {
     "name": "stdout",
     "output_type": "stream",
     "text": [
      "+-------+-----------------+\n",
      "|summary|Residential Units|\n",
      "+-------+-----------------+\n",
      "|  count|           433925|\n",
      "|   mean| 2.47843982254998|\n",
      "| stddev|46.13016124305769|\n",
      "|    min|                0|\n",
      "|    max|            20811|\n",
      "+-------+-----------------+\n",
      "\n"
     ]
    }
   ],
   "source": [
    "dfBrooklyn20032019.describe(\"Residential Units\").show()"
   ]
  },
  {
   "cell_type": "code",
   "execution_count": 78,
   "id": "38a097f0",
   "metadata": {},
   "outputs": [
    {
     "name": "stdout",
     "output_type": "stream",
     "text": [
      "+-------+------------------+\n",
      "|summary|  Commercial Units|\n",
      "+-------+------------------+\n",
      "|  count|            433925|\n",
      "|   mean|0.1794688022123639|\n",
      "| stddev|1.8504464046685547|\n",
      "|    min|                 0|\n",
      "|    max|               530|\n",
      "+-------+------------------+\n",
      "\n"
     ]
    }
   ],
   "source": [
    "dfBrooklyn20032019.describe(\"Commercial Units\").show()"
   ]
  },
  {
   "cell_type": "code",
   "execution_count": 79,
   "id": "4a792c86",
   "metadata": {},
   "outputs": [
    {
     "name": "stdout",
     "output_type": "stream",
     "text": [
      "+-------+------------------+\n",
      "|summary|       Total Units|\n",
      "+-------+------------------+\n",
      "|  count|            433925|\n",
      "|   mean|2.6718326899809877|\n",
      "| stddev| 46.17509721408372|\n",
      "|    min|                 0|\n",
      "|    max|             20811|\n",
      "+-------+------------------+\n",
      "\n"
     ]
    }
   ],
   "source": [
    "dfBrooklyn20032019.describe(\"Total Units\").show()"
   ]
  },
  {
   "cell_type": "code",
   "execution_count": 80,
   "id": "f8f526fd",
   "metadata": {},
   "outputs": [
    {
     "name": "stdout",
     "output_type": "stream",
     "text": [
      "+-------+------------------+\n",
      "|summary|  Land Square Feet|\n",
      "+-------+------------------+\n",
      "|  count|            433925|\n",
      "|   mean| 2448.894719133491|\n",
      "| stddev|24367.857436948645|\n",
      "|    min|                 0|\n",
      "|    max|           7446955|\n",
      "+-------+------------------+\n",
      "\n"
     ]
    }
   ],
   "source": [
    "dfBrooklyn20032019.describe(\"Land Square Feet\").show()"
   ]
  },
  {
   "cell_type": "code",
   "execution_count": 81,
   "id": "14797da1",
   "metadata": {},
   "outputs": [
    {
     "name": "stdout",
     "output_type": "stream",
     "text": [
      "+-------+-----------------+\n",
      "|summary|Gross Square Feet|\n",
      "+-------+-----------------+\n",
      "|  count|           433925|\n",
      "|   mean|2982.730299014807|\n",
      "| stddev| 15399.3283973391|\n",
      "|    min|                0|\n",
      "|    max|          2548000|\n",
      "+-------+-----------------+\n",
      "\n"
     ]
    }
   ],
   "source": [
    "dfBrooklyn20032019.describe(\"Gross Square Feet\").show()"
   ]
  },
  {
   "cell_type": "code",
   "execution_count": 82,
   "id": "ee8a373d",
   "metadata": {},
   "outputs": [
    {
     "name": "stdout",
     "output_type": "stream",
     "text": [
      "+-------+------------------+\n",
      "|summary|       Total Units|\n",
      "+-------+------------------+\n",
      "|  count|            433925|\n",
      "|   mean|2.6718326899809877|\n",
      "| stddev| 46.17509721408372|\n",
      "|    min|                 0|\n",
      "|    max|             20811|\n",
      "+-------+------------------+\n",
      "\n"
     ]
    }
   ],
   "source": [
    "dfBrooklyn20032019.describe(\"Total Units\").show()"
   ]
  },
  {
   "cell_type": "code",
   "execution_count": 83,
   "id": "4d335115",
   "metadata": {},
   "outputs": [
    {
     "name": "stdout",
     "output_type": "stream",
     "text": [
      "+-------+-----------------+\n",
      "|summary|       Sale Price|\n",
      "+-------+-----------------+\n",
      "|  count|           433925|\n",
      "|   mean|    550014.154960|\n",
      "| stddev|2895213.247922265|\n",
      "|    min|             0.00|\n",
      "|    max|     869612895.00|\n",
      "+-------+-----------------+\n",
      "\n"
     ]
    }
   ],
   "source": [
    "dfBrooklyn20032019.describe(\"Sale Price\").show()"
   ]
  },
  {
   "cell_type": "code",
   "execution_count": 84,
   "id": "a397cb00",
   "metadata": {},
   "outputs": [
    {
     "data": {
      "text/plain": [
       "[('Borough', 'string'),\n",
       " ('Neighborhood', 'string'),\n",
       " ('Building Class Category', 'string'),\n",
       " ('Tax Class At Present', 'string'),\n",
       " ('Block', 'int'),\n",
       " ('Lot', 'int'),\n",
       " ('Building Class At Present', 'string'),\n",
       " ('Address', 'string'),\n",
       " ('Residential Units', 'int'),\n",
       " ('Commercial Units', 'int'),\n",
       " ('Total Units', 'int'),\n",
       " ('Land Square Feet', 'int'),\n",
       " ('Gross Square Feet', 'int'),\n",
       " ('Year Built', 'int'),\n",
       " ('Sale Price', 'decimal(18,2)'),\n",
       " ('Sale Date', 'date')]"
      ]
     },
     "execution_count": 84,
     "metadata": {},
     "output_type": "execute_result"
    }
   ],
   "source": [
    "dfBrooklyn20032019.dtypes"
   ]
  },
  {
   "cell_type": "code",
   "execution_count": 85,
   "id": "1fb7e75f",
   "metadata": {},
   "outputs": [
    {
     "name": "stdout",
     "output_type": "stream",
     "text": [
      "Shape of DataFrame:  (433925, 16)\n"
     ]
    }
   ],
   "source": [
    "print('Shape of DataFrame: ', (dfBrooklyn20032019.count(), len(dfBrooklyn20032019.columns)))"
   ]
  },
  {
   "cell_type": "markdown",
   "id": "33d81871",
   "metadata": {},
   "source": [
    "### dfManhattan20032019"
   ]
  },
  {
   "cell_type": "markdown",
   "id": "55b21538",
   "metadata": {},
   "source": [
    "#### Looking for null values"
   ]
  },
  {
   "cell_type": "code",
   "execution_count": 86,
   "id": "758ab8aa",
   "metadata": {},
   "outputs": [],
   "source": [
    "dfManhattan20032019null = dfManhattan20032019.select('Borough',\n",
    " 'Neighborhood',\n",
    " 'Building Class Category',\n",
    " 'Tax Class At Present',\n",
    " 'Block',\n",
    " 'Lot',\n",
    " 'Building Class At Present',\n",
    " 'Address',\n",
    " 'Residential Units',\n",
    " 'Commercial Units',\n",
    " 'Total Units',\n",
    " 'Land Square Feet',\n",
    " 'Gross Square Feet',\n",
    " 'Year Built',\n",
    " 'Sale Price')"
   ]
  },
  {
   "cell_type": "code",
   "execution_count": 87,
   "id": "4a3b5488",
   "metadata": {},
   "outputs": [
    {
     "name": "stdout",
     "output_type": "stream",
     "text": [
      "+-------+------------+-----------------------+--------------------+-----+---+-------------------------+-------+-----------------+----------------+-----------+----------------+-----------------+----------+----------+\n",
      "|Borough|Neighborhood|Building Class Category|Tax Class At Present|Block|Lot|Building Class At Present|Address|Residential Units|Commercial Units|Total Units|Land Square Feet|Gross Square Feet|Year Built|Sale Price|\n",
      "+-------+------------+-----------------------+--------------------+-----+---+-------------------------+-------+-----------------+----------------+-----------+----------------+-----------------+----------+----------+\n",
      "|      0|           0|                      0|                1408|    0|  0|                     1408|      0|            62176|           62176|      62176|           62176|            62176|     16408|         0|\n",
      "+-------+------------+-----------------------+--------------------+-----+---+-------------------------+-------+-----------------+----------------+-----------+----------------+-----------------+----------+----------+\n",
      "\n"
     ]
    }
   ],
   "source": [
    "dfManhattan20032019null.select([count(when(isnan(c) | col(c).isNull(), c)).alias(c) for c in dfManhattan20032019null.columns]).show()"
   ]
  },
  {
   "cell_type": "markdown",
   "id": "ec9ff68c",
   "metadata": {},
   "source": [
    "#### Dropping null values"
   ]
  },
  {
   "cell_type": "code",
   "execution_count": 88,
   "id": "c680650a",
   "metadata": {},
   "outputs": [],
   "source": [
    "dfManhattan20032019 = dfManhattan20032019.na.drop()"
   ]
  },
  {
   "cell_type": "markdown",
   "id": "548e4913",
   "metadata": {},
   "source": [
    "#### Checking once again:"
   ]
  },
  {
   "cell_type": "code",
   "execution_count": 89,
   "id": "827b1d87",
   "metadata": {},
   "outputs": [],
   "source": [
    "dfManhattan20032019null = dfManhattan20032019.select('Borough',\n",
    " 'Neighborhood',\n",
    " 'Building Class Category',\n",
    " 'Tax Class At Present',\n",
    " 'Block',\n",
    " 'Lot',\n",
    " 'Building Class At Present',\n",
    " 'Address',\n",
    " 'Residential Units',\n",
    " 'Commercial Units',\n",
    " 'Total Units',\n",
    " 'Land Square Feet',\n",
    " 'Gross Square Feet',\n",
    " 'Year Built',\n",
    " 'Sale Price')"
   ]
  },
  {
   "cell_type": "code",
   "execution_count": 90,
   "id": "f2bb1900",
   "metadata": {},
   "outputs": [
    {
     "name": "stdout",
     "output_type": "stream",
     "text": [
      "+-------+------------+-----------------------+--------------------+-----+---+-------------------------+-------+-----------------+----------------+-----------+----------------+-----------------+----------+----------+\n",
      "|Borough|Neighborhood|Building Class Category|Tax Class At Present|Block|Lot|Building Class At Present|Address|Residential Units|Commercial Units|Total Units|Land Square Feet|Gross Square Feet|Year Built|Sale Price|\n",
      "+-------+------------+-----------------------+--------------------+-----+---+-------------------------+-------+-----------------+----------------+-----------+----------------+-----------------+----------+----------+\n",
      "|      0|           0|                      0|                   0|    0|  0|                        0|      0|                0|               0|          0|               0|                0|         0|         0|\n",
      "+-------+------------+-----------------------+--------------------+-----+---+-------------------------+-------+-----------------+----------------+-----------+----------------+-----------------+----------+----------+\n",
      "\n"
     ]
    }
   ],
   "source": [
    "dfManhattan20032019null.select([count(when(isnan(c) | col(c).isNull(), c)).alias(c) for c in dfManhattan20032019null.columns]).show()"
   ]
  },
  {
   "cell_type": "markdown",
   "id": "f0b7bd63",
   "metadata": {},
   "source": [
    "#### Dealing with duplicates"
   ]
  },
  {
   "cell_type": "code",
   "execution_count": 91,
   "id": "24d955e2",
   "metadata": {},
   "outputs": [
    {
     "name": "stdout",
     "output_type": "stream",
     "text": [
      "Counting rows 3045944\n"
     ]
    }
   ],
   "source": [
    "print(\"Counting rows {}\".format(dfManhattan20032019.count()))"
   ]
  },
  {
   "cell_type": "code",
   "execution_count": 92,
   "id": "77900cec",
   "metadata": {},
   "outputs": [
    {
     "name": "stdout",
     "output_type": "stream",
     "text": [
      "Counting distinct row 364538\n"
     ]
    }
   ],
   "source": [
    "print(\"Counting distinct row {}\".format(dfManhattan20032019.distinct().count()))"
   ]
  },
  {
   "cell_type": "code",
   "execution_count": 93,
   "id": "865ee11c",
   "metadata": {},
   "outputs": [],
   "source": [
    "dfManhattan20032019 = dfManhattan20032019.dropDuplicates()"
   ]
  },
  {
   "cell_type": "code",
   "execution_count": 94,
   "id": "dfe8b594",
   "metadata": {},
   "outputs": [
    {
     "name": "stdout",
     "output_type": "stream",
     "text": [
      "There are 364538 rows after removing duplicates\n"
     ]
    }
   ],
   "source": [
    "print(\"There are {} rows after removing duplicates\".format(dfManhattan20032019.count()))"
   ]
  },
  {
   "cell_type": "markdown",
   "id": "825574d4",
   "metadata": {},
   "source": [
    "#### Columns"
   ]
  },
  {
   "cell_type": "code",
   "execution_count": 95,
   "id": "fac9ab54",
   "metadata": {},
   "outputs": [
    {
     "name": "stdout",
     "output_type": "stream",
     "text": [
      "There are 16 columns in the DataFrame and their names\n",
      " ['Borough', 'Neighborhood', 'Building Class Category', 'Block', 'Lot', 'Building Class At Present', 'Tax Class At Present', 'Address', 'Residential Units', 'Commercial Units', 'Total Units', 'Land Square Feet', 'Gross Square Feet', 'Year Built', 'Sale Price', 'Sale Date']\n"
     ]
    }
   ],
   "source": [
    "print(\"There are {} columns in the DataFrame and their names\\n {}\".format(len(dfManhattan20032019.columns),\n",
    "                                                                         dfManhattan20032019.columns))"
   ]
  },
  {
   "cell_type": "markdown",
   "id": "626dfdd9",
   "metadata": {},
   "source": [
    "#### Changing datatypes"
   ]
  },
  {
   "cell_type": "code",
   "execution_count": 96,
   "id": "9a4efa1b",
   "metadata": {},
   "outputs": [
    {
     "name": "stdout",
     "output_type": "stream",
     "text": [
      "root\n",
      " |-- Borough: integer (nullable = true)\n",
      " |-- Neighborhood: string (nullable = true)\n",
      " |-- Building Class Category: string (nullable = true)\n",
      " |-- Block: integer (nullable = true)\n",
      " |-- Lot: integer (nullable = true)\n",
      " |-- Building Class At Present: string (nullable = true)\n",
      " |-- Tax Class At Present: string (nullable = true)\n",
      " |-- Address: string (nullable = true)\n",
      " |-- Residential Units: double (nullable = true)\n",
      " |-- Commercial Units: double (nullable = true)\n",
      " |-- Total Units: double (nullable = true)\n",
      " |-- Land Square Feet: double (nullable = true)\n",
      " |-- Gross Square Feet: double (nullable = true)\n",
      " |-- Year Built: double (nullable = true)\n",
      " |-- Sale Price: long (nullable = true)\n",
      " |-- Sale Date: timestamp (nullable = true)\n",
      "\n"
     ]
    }
   ],
   "source": [
    "dfManhattan20032019.printSchema()"
   ]
  },
  {
   "cell_type": "code",
   "execution_count": 97,
   "id": "9bc3cd84",
   "metadata": {},
   "outputs": [],
   "source": [
    "dfManhattan20032019 = dfManhattan20032019.withColumn(\"Borough\", col(\"Borough\").cast(\"int\")) \\\n",
    "                 .withColumn(\"Block\" , col(\"Block\").cast(\"int\")) \\\n",
    "                 .withColumn(\"Lot\" , col(\"Lot\").cast(\"int\")) \\\n",
    "                 .withColumn(\"Lot\" , col(\"Borough\").cast(\"int\")) \\\n",
    "                 .withColumn(\"Residential Units\" , col(\"Residential Units\").cast(\"int\")) \\\n",
    "                 .withColumn(\"Commercial Units\" , col(\"Commercial Units\").cast(\"int\")) \\\n",
    "                 .withColumn(\"Total Units\" , col(\"Total Units\").cast(\"int\")) \\\n",
    "                 .withColumn(\"Land Square Feet\" , col(\"Land Square Feet\").cast(\"int\")) \\\n",
    "                 .withColumn(\"Gross Square Feet\" , col(\"Gross Square Feet\").cast(\"int\")) \\\n",
    "                 .withColumn(\"Year Built\" , col(\"Year Built\").cast(\"int\")) \\\n",
    "                 .withColumn(\"Sale Price\" , col(\"Sale Price\").cast(DecimalType(18,2))) \\\n",
    "                 .withColumn(\"Sale Date\" , col(\"Sale Date\").cast(DateType()))"
   ]
  },
  {
   "cell_type": "code",
   "execution_count": 98,
   "id": "7da471b0",
   "metadata": {},
   "outputs": [
    {
     "name": "stdout",
     "output_type": "stream",
     "text": [
      "root\n",
      " |-- Borough: integer (nullable = true)\n",
      " |-- Neighborhood: string (nullable = true)\n",
      " |-- Building Class Category: string (nullable = true)\n",
      " |-- Block: integer (nullable = true)\n",
      " |-- Lot: integer (nullable = true)\n",
      " |-- Building Class At Present: string (nullable = true)\n",
      " |-- Tax Class At Present: string (nullable = true)\n",
      " |-- Address: string (nullable = true)\n",
      " |-- Residential Units: integer (nullable = true)\n",
      " |-- Commercial Units: integer (nullable = true)\n",
      " |-- Total Units: integer (nullable = true)\n",
      " |-- Land Square Feet: integer (nullable = true)\n",
      " |-- Gross Square Feet: integer (nullable = true)\n",
      " |-- Year Built: integer (nullable = true)\n",
      " |-- Sale Price: decimal(18,2) (nullable = true)\n",
      " |-- Sale Date: date (nullable = true)\n",
      "\n"
     ]
    }
   ],
   "source": [
    "dfManhattan20032019.printSchema()"
   ]
  },
  {
   "cell_type": "markdown",
   "id": "9dde7a68",
   "metadata": {},
   "source": [
    "#### Changing numeric values Borough to a name"
   ]
  },
  {
   "cell_type": "code",
   "execution_count": 99,
   "id": "498c9377",
   "metadata": {},
   "outputs": [],
   "source": [
    "dfManhattan20032019 = dfManhattan20032019.withColumn(\"Borough\", when(col(\"Borough\") == 1, \n",
    "                                                                     lit(\"Manhattan\")).otherwise(lit(\"Manhattan\")))"
   ]
  },
  {
   "cell_type": "code",
   "execution_count": 100,
   "id": "060e3b49",
   "metadata": {},
   "outputs": [
    {
     "name": "stdout",
     "output_type": "stream",
     "text": [
      "+---------+\n",
      "|  Borough|\n",
      "+---------+\n",
      "|Manhattan|\n",
      "+---------+\n",
      "\n"
     ]
    }
   ],
   "source": [
    "dfManhattan20032019.select(\"Borough\").distinct().show()"
   ]
  },
  {
   "cell_type": "markdown",
   "id": "22bcd048",
   "metadata": {},
   "source": [
    "#### Summary"
   ]
  },
  {
   "cell_type": "code",
   "execution_count": 101,
   "id": "c0c0e942",
   "metadata": {},
   "outputs": [
    {
     "name": "stdout",
     "output_type": "stream",
     "text": [
      "+-------+------------------+\n",
      "|summary|             Block|\n",
      "+-------+------------------+\n",
      "|  count|            364538|\n",
      "|   mean| 1118.187308319023|\n",
      "| stddev|496.57265717978987|\n",
      "|    min|                 1|\n",
      "|    max|              2255|\n",
      "+-------+------------------+\n",
      "\n"
     ]
    }
   ],
   "source": [
    "dfManhattan20032019.describe(\"Block\").show()"
   ]
  },
  {
   "cell_type": "code",
   "execution_count": 102,
   "id": "f5135b1b",
   "metadata": {},
   "outputs": [
    {
     "name": "stdout",
     "output_type": "stream",
     "text": [
      "+-------+------+\n",
      "|summary|   Lot|\n",
      "+-------+------+\n",
      "|  count|364538|\n",
      "|   mean|   1.0|\n",
      "| stddev|   0.0|\n",
      "|    min|     1|\n",
      "|    max|     1|\n",
      "+-------+------+\n",
      "\n"
     ]
    }
   ],
   "source": [
    "dfManhattan20032019.describe(\"Lot\").show()"
   ]
  },
  {
   "cell_type": "code",
   "execution_count": 103,
   "id": "7447b054",
   "metadata": {},
   "outputs": [
    {
     "name": "stdout",
     "output_type": "stream",
     "text": [
      "+-------+------------------+\n",
      "|summary| Residential Units|\n",
      "+-------+------------------+\n",
      "|  count|            364538|\n",
      "|   mean|2.2704628872710115|\n",
      "| stddev|  35.8373996035781|\n",
      "|    min|                 0|\n",
      "|    max|              8759|\n",
      "+-------+------------------+\n",
      "\n"
     ]
    }
   ],
   "source": [
    "dfManhattan20032019.describe(\"Residential Units\").show()"
   ]
  },
  {
   "cell_type": "code",
   "execution_count": 104,
   "id": "00593b83",
   "metadata": {},
   "outputs": [
    {
     "name": "stdout",
     "output_type": "stream",
     "text": [
      "+-------+------------------+\n",
      "|summary|  Commercial Units|\n",
      "+-------+------------------+\n",
      "|  count|            364538|\n",
      "|   mean|0.4465899302679007|\n",
      "| stddev| 8.310559364113782|\n",
      "|    min|                 0|\n",
      "|    max|              2000|\n",
      "+-------+------------------+\n",
      "\n"
     ]
    }
   ],
   "source": [
    "dfManhattan20032019.describe(\"Commercial Units\").show()"
   ]
  },
  {
   "cell_type": "code",
   "execution_count": 105,
   "id": "49608601",
   "metadata": {},
   "outputs": [
    {
     "name": "stdout",
     "output_type": "stream",
     "text": [
      "+-------+-----------------+\n",
      "|summary|      Total Units|\n",
      "+-------+-----------------+\n",
      "|  count|           364538|\n",
      "|   mean|2.763382692613664|\n",
      "| stddev|37.08288740241887|\n",
      "|    min|                0|\n",
      "|    max|             8805|\n",
      "+-------+-----------------+\n",
      "\n"
     ]
    }
   ],
   "source": [
    "dfManhattan20032019.describe(\"Total Units\").show()"
   ]
  },
  {
   "cell_type": "code",
   "execution_count": 106,
   "id": "f8d3df8e",
   "metadata": {},
   "outputs": [
    {
     "name": "stdout",
     "output_type": "stream",
     "text": [
      "+-------+-----------------+\n",
      "|summary| Land Square Feet|\n",
      "+-------+-----------------+\n",
      "|  count|           364538|\n",
      "|   mean|1120.182598247645|\n",
      "| stddev|34416.66129646313|\n",
      "|    min|                0|\n",
      "|    max|         11320000|\n",
      "+-------+-----------------+\n",
      "\n"
     ]
    }
   ],
   "source": [
    "dfManhattan20032019.describe(\"Land Square Feet\").show()"
   ]
  },
  {
   "cell_type": "code",
   "execution_count": 107,
   "id": "f357c7f4",
   "metadata": {},
   "outputs": [
    {
     "name": "stdout",
     "output_type": "stream",
     "text": [
      "+-------+-----------------+\n",
      "|summary|Gross Square Feet|\n",
      "+-------+-----------------+\n",
      "|  count|           364538|\n",
      "|   mean|7074.273540755697|\n",
      "| stddev|64440.18417244087|\n",
      "|    min|                0|\n",
      "|    max|          8942176|\n",
      "+-------+-----------------+\n",
      "\n"
     ]
    }
   ],
   "source": [
    "dfManhattan20032019.describe(\"Gross Square Feet\").show()"
   ]
  },
  {
   "cell_type": "code",
   "execution_count": 108,
   "id": "9a060e22",
   "metadata": {},
   "outputs": [
    {
     "name": "stdout",
     "output_type": "stream",
     "text": [
      "+-------+-----------------+\n",
      "|summary|      Total Units|\n",
      "+-------+-----------------+\n",
      "|  count|           364538|\n",
      "|   mean|2.763382692613664|\n",
      "| stddev|37.08288740241887|\n",
      "|    min|                0|\n",
      "|    max|             8805|\n",
      "+-------+-----------------+\n",
      "\n"
     ]
    }
   ],
   "source": [
    "dfManhattan20032019.describe(\"Total Units\").show()"
   ]
  },
  {
   "cell_type": "code",
   "execution_count": 109,
   "id": "90f1e325",
   "metadata": {},
   "outputs": [
    {
     "name": "stdout",
     "output_type": "stream",
     "text": [
      "+-------+--------------------+\n",
      "|summary|          Sale Price|\n",
      "+-------+--------------------+\n",
      "|  count|              364538|\n",
      "|   mean|      2172370.199675|\n",
      "| stddev|2.3693812452688098E7|\n",
      "|    min|                0.00|\n",
      "|    max|       4111111766.00|\n",
      "+-------+--------------------+\n",
      "\n"
     ]
    }
   ],
   "source": [
    "dfManhattan20032019.describe(\"Sale Price\").show()"
   ]
  },
  {
   "cell_type": "code",
   "execution_count": 110,
   "id": "c285c109",
   "metadata": {},
   "outputs": [
    {
     "data": {
      "text/plain": [
       "[('Borough', 'string'),\n",
       " ('Neighborhood', 'string'),\n",
       " ('Building Class Category', 'string'),\n",
       " ('Block', 'int'),\n",
       " ('Lot', 'int'),\n",
       " ('Building Class At Present', 'string'),\n",
       " ('Tax Class At Present', 'string'),\n",
       " ('Address', 'string'),\n",
       " ('Residential Units', 'int'),\n",
       " ('Commercial Units', 'int'),\n",
       " ('Total Units', 'int'),\n",
       " ('Land Square Feet', 'int'),\n",
       " ('Gross Square Feet', 'int'),\n",
       " ('Year Built', 'int'),\n",
       " ('Sale Price', 'decimal(18,2)'),\n",
       " ('Sale Date', 'date')]"
      ]
     },
     "execution_count": 110,
     "metadata": {},
     "output_type": "execute_result"
    }
   ],
   "source": [
    "dfManhattan20032019.dtypes"
   ]
  },
  {
   "cell_type": "code",
   "execution_count": 111,
   "id": "ac8b66b7",
   "metadata": {},
   "outputs": [
    {
     "name": "stdout",
     "output_type": "stream",
     "text": [
      "Shape of DataFrame:  (364538, 16)\n"
     ]
    }
   ],
   "source": [
    "print(\"Shape of DataFrame: \", (dfManhattan20032019.count(), len(dfManhattan20032019.columns)))"
   ]
  },
  {
   "cell_type": "markdown",
   "id": "3b434bd9",
   "metadata": {},
   "source": [
    "### dfQueens20032019"
   ]
  },
  {
   "cell_type": "markdown",
   "id": "32c483fa",
   "metadata": {},
   "source": [
    "#### Looking for null values"
   ]
  },
  {
   "cell_type": "code",
   "execution_count": 112,
   "id": "349e40d3",
   "metadata": {},
   "outputs": [],
   "source": [
    "dfQueens20032019null = dfQueens20032019.select('Borough',\n",
    " 'Neighborhood',\n",
    " 'Building Class Category',\n",
    " 'Tax Class At Present',\n",
    " 'Block',\n",
    " 'Lot',\n",
    " 'Building Class At Present',\n",
    " 'Address',\n",
    " 'Residential Units',\n",
    " 'Commercial Units',\n",
    " 'Total Units',\n",
    " 'Land Square Feet',\n",
    " 'Gross Square Feet',\n",
    " 'Year Built',\n",
    " 'Sale Price')"
   ]
  },
  {
   "cell_type": "code",
   "execution_count": 113,
   "id": "0ec0c170",
   "metadata": {},
   "outputs": [
    {
     "name": "stdout",
     "output_type": "stream",
     "text": [
      "+-------+------------+-----------------------+--------------------+-----+---+-------------------------+-------+-----------------+----------------+-----------+----------------+-----------------+----------+----------+\n",
      "|Borough|Neighborhood|Building Class Category|Tax Class At Present|Block|Lot|Building Class At Present|Address|Residential Units|Commercial Units|Total Units|Land Square Feet|Gross Square Feet|Year Built|Sale Price|\n",
      "+-------+------------+-----------------------+--------------------+-----+---+-------------------------+-------+-----------------+----------------+-----------+----------------+-----------------+----------+----------+\n",
      "|    136|         136|                    136|                 424|  136|136|                      424|    136|            40056|           40056|      40056|           40056|            40056|      8896|       136|\n",
      "+-------+------------+-----------------------+--------------------+-----+---+-------------------------+-------+-----------------+----------------+-----------+----------------+-----------------+----------+----------+\n",
      "\n"
     ]
    }
   ],
   "source": [
    "dfQueens20032019null.select([count(when(isnan(c) | col(c).isNull(), c)).alias(c) for c in dfQueens20032019null.columns]).show()"
   ]
  },
  {
   "cell_type": "markdown",
   "id": "c3efe6e7",
   "metadata": {},
   "source": [
    "#### Dropping null values"
   ]
  },
  {
   "cell_type": "code",
   "execution_count": 114,
   "id": "0d75321a",
   "metadata": {},
   "outputs": [],
   "source": [
    "dfQueens20032019 = dfQueens20032019.na.drop()"
   ]
  },
  {
   "cell_type": "markdown",
   "id": "3a9de9a1",
   "metadata": {},
   "source": [
    "#### Checking once again"
   ]
  },
  {
   "cell_type": "code",
   "execution_count": 115,
   "id": "2f590020",
   "metadata": {},
   "outputs": [],
   "source": [
    "dfQueens20032019null = dfQueens20032019.select('Borough',\n",
    " 'Neighborhood',\n",
    " 'Building Class Category',\n",
    " 'Tax Class At Present',\n",
    " 'Block',\n",
    " 'Lot',\n",
    " 'Building Class At Present',\n",
    " 'Address',\n",
    " 'Residential Units',\n",
    " 'Commercial Units',\n",
    " 'Total Units',\n",
    " 'Land Square Feet',\n",
    " 'Gross Square Feet',\n",
    " 'Year Built',\n",
    " 'Sale Price')"
   ]
  },
  {
   "cell_type": "code",
   "execution_count": 116,
   "id": "90b57318",
   "metadata": {},
   "outputs": [
    {
     "name": "stdout",
     "output_type": "stream",
     "text": [
      "+-------+------------+-----------------------+--------------------+-----+---+-------------------------+-------+-----------------+----------------+-----------+----------------+-----------------+----------+----------+\n",
      "|Borough|Neighborhood|Building Class Category|Tax Class At Present|Block|Lot|Building Class At Present|Address|Residential Units|Commercial Units|Total Units|Land Square Feet|Gross Square Feet|Year Built|Sale Price|\n",
      "+-------+------------+-----------------------+--------------------+-----+---+-------------------------+-------+-----------------+----------------+-----------+----------------+-----------------+----------+----------+\n",
      "|      0|           0|                      0|                   0|    0|  0|                        0|      0|                0|               0|          0|               0|                0|         0|         0|\n",
      "+-------+------------+-----------------------+--------------------+-----+---+-------------------------+-------+-----------------+----------------+-----------+----------------+-----------------+----------+----------+\n",
      "\n"
     ]
    }
   ],
   "source": [
    "dfQueens20032019null.select([count(when(isnan(c) | col(c).isNull(), c)).alias(c) for c in dfQueens20032019null.columns]).show()"
   ]
  },
  {
   "cell_type": "markdown",
   "id": "88a7bfaf",
   "metadata": {},
   "source": [
    "#### Dealing with duplicates"
   ]
  },
  {
   "cell_type": "code",
   "execution_count": 117,
   "id": "ba0b083b",
   "metadata": {},
   "outputs": [
    {
     "name": "stdout",
     "output_type": "stream",
     "text": [
      "Counting rows 3876352\n"
     ]
    }
   ],
   "source": [
    "print(\"Counting rows {}\".format(dfQueens20032019.count()))"
   ]
  },
  {
   "cell_type": "code",
   "execution_count": 118,
   "id": "acf2784d",
   "metadata": {},
   "outputs": [
    {
     "name": "stdout",
     "output_type": "stream",
     "text": [
      "Counting distinct rows 481002\n"
     ]
    }
   ],
   "source": [
    "print(\"Counting distinct rows {}\".format(dfQueens20032019.distinct().count()))"
   ]
  },
  {
   "cell_type": "code",
   "execution_count": 119,
   "id": "5190f670",
   "metadata": {},
   "outputs": [],
   "source": [
    "dfQueens20032019 = dfQueens20032019.dropDuplicates()"
   ]
  },
  {
   "cell_type": "code",
   "execution_count": 120,
   "id": "f3ab1f6f",
   "metadata": {},
   "outputs": [
    {
     "name": "stdout",
     "output_type": "stream",
     "text": [
      "There are 481002 rows after removing duplicates\n"
     ]
    }
   ],
   "source": [
    "print(\"There are {} rows after removing duplicates\".format(dfQueens20032019.count()))"
   ]
  },
  {
   "cell_type": "markdown",
   "id": "b52a7313",
   "metadata": {},
   "source": [
    "#### Columns"
   ]
  },
  {
   "cell_type": "code",
   "execution_count": 121,
   "id": "4497c1a5",
   "metadata": {},
   "outputs": [
    {
     "name": "stdout",
     "output_type": "stream",
     "text": [
      "There are 16 columns in the DataFrame and their names\n",
      " ['Borough', 'Neighborhood', 'Building Class Category', 'Tax Class At Present', 'Block', 'Lot', 'Building Class At Present', 'Address', 'Residential Units', 'Commercial Units', 'Total Units', 'Land Square Feet', 'Gross Square Feet', 'Year Built', 'Sale Price', 'Sale Date']\n"
     ]
    }
   ],
   "source": [
    "print(\"There are {} columns in the DataFrame and their names\\n {}\".format(len(dfQueens20032019.columns),\n",
    "                                                                         dfQueens20032019.columns))"
   ]
  },
  {
   "cell_type": "markdown",
   "id": "7b4ca5cf",
   "metadata": {},
   "source": [
    "#### Changing datatypes"
   ]
  },
  {
   "cell_type": "code",
   "execution_count": 122,
   "id": "749f2d0e",
   "metadata": {},
   "outputs": [
    {
     "name": "stdout",
     "output_type": "stream",
     "text": [
      "root\n",
      " |-- Borough: double (nullable = true)\n",
      " |-- Neighborhood: string (nullable = true)\n",
      " |-- Building Class Category: string (nullable = true)\n",
      " |-- Tax Class At Present: string (nullable = true)\n",
      " |-- Block: double (nullable = true)\n",
      " |-- Lot: double (nullable = true)\n",
      " |-- Building Class At Present: string (nullable = true)\n",
      " |-- Address: string (nullable = true)\n",
      " |-- Residential Units: double (nullable = true)\n",
      " |-- Commercial Units: double (nullable = true)\n",
      " |-- Total Units: double (nullable = true)\n",
      " |-- Land Square Feet: double (nullable = true)\n",
      " |-- Gross Square Feet: double (nullable = true)\n",
      " |-- Year Built: double (nullable = true)\n",
      " |-- Sale Price: double (nullable = true)\n",
      " |-- Sale Date: timestamp (nullable = true)\n",
      "\n"
     ]
    }
   ],
   "source": [
    "dfQueens20032019.printSchema()"
   ]
  },
  {
   "cell_type": "code",
   "execution_count": 123,
   "id": "35be9fe5",
   "metadata": {},
   "outputs": [],
   "source": [
    "dfQueens20032019 = dfQueens20032019.withColumn(\"Borough\", col(\"Borough\").cast(\"int\")) \\\n",
    "                 .withColumn(\"Block\" , col(\"Block\").cast(\"int\")) \\\n",
    "                 .withColumn(\"Lot\" , col(\"Lot\").cast(\"int\")) \\\n",
    "                 .withColumn(\"Lot\" , col(\"Borough\").cast(\"int\")) \\\n",
    "                 .withColumn(\"Residential Units\" , col(\"Residential Units\").cast(\"int\")) \\\n",
    "                 .withColumn(\"Commercial Units\" , col(\"Commercial Units\").cast(\"int\")) \\\n",
    "                 .withColumn(\"Total Units\" , col(\"Total Units\").cast(\"int\")) \\\n",
    "                 .withColumn(\"Land Square Feet\" , col(\"Land Square Feet\").cast(\"int\")) \\\n",
    "                 .withColumn(\"Gross Square Feet\" , col(\"Gross Square Feet\").cast(\"int\")) \\\n",
    "                 .withColumn(\"Year Built\" , col(\"Year Built\").cast(\"int\")) \\\n",
    "                 .withColumn(\"Sale Price\" , col(\"Sale Price\").cast(DecimalType(18, 2))) \\\n",
    "                 .withColumn(\"Sale Date\" , col(\"Sale Date\").cast(DateType()))"
   ]
  },
  {
   "cell_type": "markdown",
   "id": "d5e5585e",
   "metadata": {},
   "source": [
    "#### Changing numeric values Borough to a name"
   ]
  },
  {
   "cell_type": "code",
   "execution_count": 124,
   "id": "d85e0fb4",
   "metadata": {},
   "outputs": [],
   "source": [
    "dfQueens20032019 = dfQueens20032019.withColumn(\"Borough\", when(col(\"Borough\") == 4,\n",
    "                                                              lit(\"Queens\")).otherwise(lit(\"Queens\")))"
   ]
  },
  {
   "cell_type": "code",
   "execution_count": 125,
   "id": "faecd196",
   "metadata": {},
   "outputs": [
    {
     "name": "stdout",
     "output_type": "stream",
     "text": [
      "+-------+\n",
      "|Borough|\n",
      "+-------+\n",
      "| Queens|\n",
      "+-------+\n",
      "\n"
     ]
    }
   ],
   "source": [
    "dfQueens20032019.select(\"Borough\").distinct().show()"
   ]
  },
  {
   "cell_type": "markdown",
   "id": "d6ee892f",
   "metadata": {},
   "source": [
    "#### Summary"
   ]
  },
  {
   "cell_type": "code",
   "execution_count": 126,
   "id": "c9bf9aa8",
   "metadata": {},
   "outputs": [
    {
     "name": "stdout",
     "output_type": "stream",
     "text": [
      "+-------+-----------------+\n",
      "|summary|            Block|\n",
      "+-------+-----------------+\n",
      "|  count|           481002|\n",
      "|   mean| 6836.67719468942|\n",
      "| stddev|4451.430980746507|\n",
      "|    min|                1|\n",
      "|    max|            16350|\n",
      "+-------+-----------------+\n",
      "\n"
     ]
    }
   ],
   "source": [
    "dfQueens20032019.describe(\"Block\").show()"
   ]
  },
  {
   "cell_type": "code",
   "execution_count": 127,
   "id": "dba1816b",
   "metadata": {},
   "outputs": [
    {
     "name": "stdout",
     "output_type": "stream",
     "text": [
      "+-------+------+\n",
      "|summary|   Lot|\n",
      "+-------+------+\n",
      "|  count|481002|\n",
      "|   mean|   4.0|\n",
      "| stddev|   0.0|\n",
      "|    min|     4|\n",
      "|    max|     4|\n",
      "+-------+------+\n",
      "\n"
     ]
    }
   ],
   "source": [
    "dfQueens20032019.describe(\"Lot\").show()"
   ]
  },
  {
   "cell_type": "code",
   "execution_count": 128,
   "id": "93fbf14e",
   "metadata": {},
   "outputs": [
    {
     "name": "stdout",
     "output_type": "stream",
     "text": [
      "+-------+------------------+\n",
      "|summary| Residential Units|\n",
      "+-------+------------------+\n",
      "|  count|            481002|\n",
      "|   mean| 1.776928162460863|\n",
      "| stddev|13.658818956641685|\n",
      "|    min|                 0|\n",
      "|    max|              1885|\n",
      "+-------+------------------+\n",
      "\n"
     ]
    }
   ],
   "source": [
    "dfQueens20032019.describe(\"Residential Units\").show()"
   ]
  },
  {
   "cell_type": "code",
   "execution_count": 129,
   "id": "13004772",
   "metadata": {},
   "outputs": [
    {
     "name": "stdout",
     "output_type": "stream",
     "text": [
      "+-------+-------------------+\n",
      "|summary|   Commercial Units|\n",
      "+-------+-------------------+\n",
      "|  count|             481002|\n",
      "|   mean|0.15417191612508888|\n",
      "| stddev|  7.100237713779999|\n",
      "|    min|                  0|\n",
      "|    max|               2261|\n",
      "+-------+-------------------+\n",
      "\n"
     ]
    }
   ],
   "source": [
    "dfQueens20032019.describe(\"Commercial Units\").show()"
   ]
  },
  {
   "cell_type": "code",
   "execution_count": 130,
   "id": "a9b4ad40",
   "metadata": {},
   "outputs": [
    {
     "name": "stdout",
     "output_type": "stream",
     "text": [
      "+-------+------------------+\n",
      "|summary|       Total Units|\n",
      "+-------+------------------+\n",
      "|  count|            481002|\n",
      "|   mean| 1.945869247944915|\n",
      "| stddev|15.479591955534836|\n",
      "|    min|                 0|\n",
      "|    max|              2261|\n",
      "+-------+------------------+\n",
      "\n"
     ]
    }
   ],
   "source": [
    "dfQueens20032019.describe(\"Total Units\").show()"
   ]
  },
  {
   "cell_type": "code",
   "execution_count": 131,
   "id": "868c0522",
   "metadata": {},
   "outputs": [
    {
     "name": "stdout",
     "output_type": "stream",
     "text": [
      "+-------+-----------------+\n",
      "|summary| Land Square Feet|\n",
      "+-------+-----------------+\n",
      "|  count|           481002|\n",
      "|   mean|4811.879536883423|\n",
      "| stddev|541989.6758491091|\n",
      "|    min|                0|\n",
      "|    max|        214755710|\n",
      "+-------+-----------------+\n",
      "\n"
     ]
    }
   ],
   "source": [
    "dfQueens20032019.describe(\"Land Square Feet\").show()"
   ]
  },
  {
   "cell_type": "code",
   "execution_count": 132,
   "id": "559df857",
   "metadata": {},
   "outputs": [
    {
     "name": "stdout",
     "output_type": "stream",
     "text": [
      "+-------+-----------------+\n",
      "|summary|Gross Square Feet|\n",
      "+-------+-----------------+\n",
      "|  count|           481002|\n",
      "|   mean|2376.891455752783|\n",
      "| stddev|41921.97236592281|\n",
      "|    min|                0|\n",
      "|    max|         14962152|\n",
      "+-------+-----------------+\n",
      "\n"
     ]
    }
   ],
   "source": [
    "dfQueens20032019.describe(\"Gross Square Feet\").show()"
   ]
  },
  {
   "cell_type": "code",
   "execution_count": 133,
   "id": "40f049e8",
   "metadata": {},
   "outputs": [
    {
     "name": "stdout",
     "output_type": "stream",
     "text": [
      "+-------+------------------+\n",
      "|summary|       Total Units|\n",
      "+-------+------------------+\n",
      "|  count|            481002|\n",
      "|   mean| 1.945869247944915|\n",
      "| stddev|15.479591955534836|\n",
      "|    min|                 0|\n",
      "|    max|              2261|\n",
      "+-------+------------------+\n",
      "\n"
     ]
    }
   ],
   "source": [
    "dfQueens20032019.describe(\"Total Units\").show()"
   ]
  },
  {
   "cell_type": "code",
   "execution_count": 134,
   "id": "58c8b6cc",
   "metadata": {},
   "outputs": [
    {
     "name": "stdout",
     "output_type": "stream",
     "text": [
      "+-------+-----------------+\n",
      "|summary|       Sale Price|\n",
      "+-------+-----------------+\n",
      "|  count|           481002|\n",
      "|   mean|    411387.604752|\n",
      "| stddev|2796254.854569323|\n",
      "|    min|             0.00|\n",
      "|    max|     524915655.00|\n",
      "+-------+-----------------+\n",
      "\n"
     ]
    }
   ],
   "source": [
    "dfQueens20032019.describe(\"Sale Price\").show()"
   ]
  },
  {
   "cell_type": "code",
   "execution_count": 135,
   "id": "0c4fe11b",
   "metadata": {},
   "outputs": [
    {
     "data": {
      "text/plain": [
       "[('Borough', 'string'),\n",
       " ('Neighborhood', 'string'),\n",
       " ('Building Class Category', 'string'),\n",
       " ('Tax Class At Present', 'string'),\n",
       " ('Block', 'int'),\n",
       " ('Lot', 'int'),\n",
       " ('Building Class At Present', 'string'),\n",
       " ('Address', 'string'),\n",
       " ('Residential Units', 'int'),\n",
       " ('Commercial Units', 'int'),\n",
       " ('Total Units', 'int'),\n",
       " ('Land Square Feet', 'int'),\n",
       " ('Gross Square Feet', 'int'),\n",
       " ('Year Built', 'int'),\n",
       " ('Sale Price', 'decimal(18,2)'),\n",
       " ('Sale Date', 'date')]"
      ]
     },
     "execution_count": 135,
     "metadata": {},
     "output_type": "execute_result"
    }
   ],
   "source": [
    "dfQueens20032019.dtypes"
   ]
  },
  {
   "cell_type": "code",
   "execution_count": 136,
   "id": "97c4291b",
   "metadata": {},
   "outputs": [
    {
     "name": "stdout",
     "output_type": "stream",
     "text": [
      "Shape of DataFrame:  (481002, 16)\n"
     ]
    }
   ],
   "source": [
    "print(\"Shape of DataFrame: \", (dfQueens20032019.count(), len(dfQueens20032019.columns)))"
   ]
  },
  {
   "cell_type": "markdown",
   "id": "ecbbe2cf",
   "metadata": {},
   "source": [
    "### dfStatenIsland20032019"
   ]
  },
  {
   "cell_type": "markdown",
   "id": "e01bf9ff",
   "metadata": {},
   "source": [
    "#### Looking for null values"
   ]
  },
  {
   "cell_type": "code",
   "execution_count": 137,
   "id": "41af88b8",
   "metadata": {},
   "outputs": [],
   "source": [
    "dfStatenIsland20032019null = dfStatenIsland20032019.select('Borough',\n",
    " 'Neighborhood',\n",
    " 'Building Class Category',\n",
    " 'Tax Class At Present',\n",
    " 'Block',\n",
    " 'Lot',\n",
    " 'Building Class At Present',\n",
    " 'Address',\n",
    " 'Residential Units',\n",
    " 'Commercial Units',\n",
    " 'Total Units',\n",
    " 'Land Square Feet',\n",
    " 'Gross Square Feet',\n",
    " 'Year Built',\n",
    " 'Sale Price')"
   ]
  },
  {
   "cell_type": "code",
   "execution_count": 138,
   "id": "0143523f",
   "metadata": {},
   "outputs": [
    {
     "name": "stdout",
     "output_type": "stream",
     "text": [
      "+-------+------------+-----------------------+--------------------+------+------+-------------------------+-------+-----------------+----------------+-----------+----------------+-----------------+----------+----------+\n",
      "|Borough|Neighborhood|Building Class Category|Tax Class At Present| Block|   Lot|Building Class At Present|Address|Residential Units|Commercial Units|Total Units|Land Square Feet|Gross Square Feet|Year Built|Sale Price|\n",
      "+-------+------------+-----------------------+--------------------+------+------+-------------------------+-------+-----------------+----------------+-----------+----------------+-----------------+----------+----------+\n",
      "| 100520|      100520|                 100520|              100528|100520|100520|                   100528| 100520|           101256|          101256|     101256|          101256|           101256|    104648|    100520|\n",
      "+-------+------------+-----------------------+--------------------+------+------+-------------------------+-------+-----------------+----------------+-----------+----------------+-----------------+----------+----------+\n",
      "\n"
     ]
    }
   ],
   "source": [
    "dfStatenIsland20032019null.select([count(when(isnan(c) | col(c).isNull(), c)).alias(c) for c in dfStatenIsland20032019null.columns]).show()"
   ]
  },
  {
   "cell_type": "markdown",
   "id": "36e20072",
   "metadata": {},
   "source": [
    "#### Dropping null values"
   ]
  },
  {
   "cell_type": "code",
   "execution_count": 139,
   "id": "e99e0454",
   "metadata": {},
   "outputs": [],
   "source": [
    "dfStatenIsland20032019 = dfStatenIsland20032019.na.drop()"
   ]
  },
  {
   "cell_type": "markdown",
   "id": "e11608ab",
   "metadata": {},
   "source": [
    "#### Checking once again"
   ]
  },
  {
   "cell_type": "code",
   "execution_count": 140,
   "id": "78c21bd9",
   "metadata": {},
   "outputs": [],
   "source": [
    "dfStatenIsland20032019null = dfStatenIsland20032019.select('Borough',\n",
    " 'Neighborhood',\n",
    " 'Building Class Category',\n",
    " 'Tax Class At Present',\n",
    " 'Block',\n",
    " 'Lot',\n",
    " 'Building Class At Present',\n",
    " 'Address',\n",
    " 'Residential Units',\n",
    " 'Commercial Units',\n",
    " 'Total Units',\n",
    " 'Land Square Feet',\n",
    " 'Gross Square Feet',\n",
    " 'Year Built',\n",
    " 'Sale Price')"
   ]
  },
  {
   "cell_type": "code",
   "execution_count": 141,
   "id": "3027be37",
   "metadata": {},
   "outputs": [
    {
     "name": "stdout",
     "output_type": "stream",
     "text": [
      "+-------+------------+-----------------------+--------------------+-----+---+-------------------------+-------+-----------------+----------------+-----------+----------------+-----------------+----------+----------+\n",
      "|Borough|Neighborhood|Building Class Category|Tax Class At Present|Block|Lot|Building Class At Present|Address|Residential Units|Commercial Units|Total Units|Land Square Feet|Gross Square Feet|Year Built|Sale Price|\n",
      "+-------+------------+-----------------------+--------------------+-----+---+-------------------------+-------+-----------------+----------------+-----------+----------------+-----------------+----------+----------+\n",
      "|      0|           0|                      0|                   0|    0|  0|                        0|      0|                0|               0|          0|               0|                0|         0|         0|\n",
      "+-------+------------+-----------------------+--------------------+-----+---+-------------------------+-------+-----------------+----------------+-----------+----------------+-----------------+----------+----------+\n",
      "\n"
     ]
    }
   ],
   "source": [
    "dfStatenIsland20032019null.select([count(when(isnan(c) | col(c).isNull(), c)).alias(c) for c in dfStatenIsland20032019null.columns]).show()"
   ]
  },
  {
   "cell_type": "markdown",
   "id": "53aac489",
   "metadata": {},
   "source": [
    "#### Dealing with duplicates"
   ]
  },
  {
   "cell_type": "code",
   "execution_count": 142,
   "id": "cfccfd4e",
   "metadata": {},
   "outputs": [
    {
     "name": "stdout",
     "output_type": "stream",
     "text": [
      "Counting rows 1145232\n"
     ]
    }
   ],
   "source": [
    "print(\"Counting rows {}\".format(dfStatenIsland20032019.count()))"
   ]
  },
  {
   "cell_type": "code",
   "execution_count": 143,
   "id": "15a70716",
   "metadata": {},
   "outputs": [
    {
     "name": "stdout",
     "output_type": "stream",
     "text": [
      "Counting distinct rows 141817\n"
     ]
    }
   ],
   "source": [
    "print(\"Counting distinct rows {}\".format(dfStatenIsland20032019.distinct().count()))"
   ]
  },
  {
   "cell_type": "code",
   "execution_count": 144,
   "id": "d0dfdc09",
   "metadata": {},
   "outputs": [],
   "source": [
    "dfStatenIsland20032019 = dfStatenIsland20032019.dropDuplicates()"
   ]
  },
  {
   "cell_type": "code",
   "execution_count": 145,
   "id": "428aeea5",
   "metadata": {},
   "outputs": [
    {
     "name": "stdout",
     "output_type": "stream",
     "text": [
      "There are 141817 rows after removing duplicates\n"
     ]
    }
   ],
   "source": [
    "print(\"There are {} rows after removing duplicates\".format(dfStatenIsland20032019.count()))"
   ]
  },
  {
   "cell_type": "markdown",
   "id": "a25783e6",
   "metadata": {},
   "source": [
    "#### Columns"
   ]
  },
  {
   "cell_type": "code",
   "execution_count": 146,
   "id": "42816714",
   "metadata": {},
   "outputs": [
    {
     "name": "stdout",
     "output_type": "stream",
     "text": [
      "There are 16 columns in the DataFrame and their names\n",
      " ['Borough', 'Neighborhood', 'Building Class Category', 'Tax Class At Present', 'Block', 'Lot', 'Building Class At Present', 'Address', 'Residential Units', 'Commercial Units', 'Total Units', 'Land Square Feet', 'Gross Square Feet', 'Year Built', 'Sale Price', 'Sale Date']\n"
     ]
    }
   ],
   "source": [
    "print(\"There are {} columns in the DataFrame and their names\\n {}\".format(len(dfStatenIsland20032019.columns),\n",
    "                                                                         dfStatenIsland20032019.columns))"
   ]
  },
  {
   "cell_type": "markdown",
   "id": "374f7a0a",
   "metadata": {},
   "source": [
    "#### Changing datatypes"
   ]
  },
  {
   "cell_type": "code",
   "execution_count": 147,
   "id": "bd17bf52",
   "metadata": {},
   "outputs": [
    {
     "name": "stdout",
     "output_type": "stream",
     "text": [
      "root\n",
      " |-- Borough: double (nullable = true)\n",
      " |-- Neighborhood: string (nullable = true)\n",
      " |-- Building Class Category: string (nullable = true)\n",
      " |-- Tax Class At Present: string (nullable = true)\n",
      " |-- Block: double (nullable = true)\n",
      " |-- Lot: double (nullable = true)\n",
      " |-- Building Class At Present: string (nullable = true)\n",
      " |-- Address: string (nullable = true)\n",
      " |-- Residential Units: double (nullable = true)\n",
      " |-- Commercial Units: double (nullable = true)\n",
      " |-- Total Units: double (nullable = true)\n",
      " |-- Land Square Feet: double (nullable = true)\n",
      " |-- Gross Square Feet: double (nullable = true)\n",
      " |-- Year Built: double (nullable = true)\n",
      " |-- Sale Price: double (nullable = true)\n",
      " |-- Sale Date: timestamp (nullable = true)\n",
      "\n"
     ]
    }
   ],
   "source": [
    "dfStatenIsland20032019.printSchema()"
   ]
  },
  {
   "cell_type": "code",
   "execution_count": 148,
   "id": "a777253b",
   "metadata": {},
   "outputs": [],
   "source": [
    "dfStatenIsland20032019 = dfStatenIsland20032019.withColumn(\"Borough\", col(\"Borough\").cast(\"int\")) \\\n",
    "                 .withColumn(\"Block\" , col(\"Block\").cast(\"int\")) \\\n",
    "                 .withColumn(\"Lot\" , col(\"Lot\").cast(\"int\")) \\\n",
    "                 .withColumn(\"Lot\" , col(\"Borough\").cast(\"int\")) \\\n",
    "                 .withColumn(\"Residential Units\" , col(\"Residential Units\").cast(\"int\")) \\\n",
    "                 .withColumn(\"Commercial Units\" , col(\"Commercial Units\").cast(\"int\")) \\\n",
    "                 .withColumn(\"Total Units\" , col(\"Total Units\").cast(\"int\")) \\\n",
    "                 .withColumn(\"Land Square Feet\" , col(\"Land Square Feet\").cast(\"int\")) \\\n",
    "                 .withColumn(\"Gross Square Feet\" , col(\"Gross Square Feet\").cast(\"int\")) \\\n",
    "                 .withColumn(\"Year Built\" , col(\"Year Built\").cast(\"int\")) \\\n",
    "                 .withColumn(\"Sale Price\" , col(\"Sale Price\").cast(DecimalType(18,2))) \\\n",
    "                 .withColumn(\"Sale Date\" , col(\"Sale Date\").cast(DateType()))"
   ]
  },
  {
   "cell_type": "code",
   "execution_count": 149,
   "id": "26e640eb",
   "metadata": {},
   "outputs": [
    {
     "name": "stdout",
     "output_type": "stream",
     "text": [
      "root\n",
      " |-- Borough: integer (nullable = true)\n",
      " |-- Neighborhood: string (nullable = true)\n",
      " |-- Building Class Category: string (nullable = true)\n",
      " |-- Tax Class At Present: string (nullable = true)\n",
      " |-- Block: integer (nullable = true)\n",
      " |-- Lot: integer (nullable = true)\n",
      " |-- Building Class At Present: string (nullable = true)\n",
      " |-- Address: string (nullable = true)\n",
      " |-- Residential Units: integer (nullable = true)\n",
      " |-- Commercial Units: integer (nullable = true)\n",
      " |-- Total Units: integer (nullable = true)\n",
      " |-- Land Square Feet: integer (nullable = true)\n",
      " |-- Gross Square Feet: integer (nullable = true)\n",
      " |-- Year Built: integer (nullable = true)\n",
      " |-- Sale Price: decimal(18,2) (nullable = true)\n",
      " |-- Sale Date: date (nullable = true)\n",
      "\n"
     ]
    }
   ],
   "source": [
    "dfStatenIsland20032019.printSchema()"
   ]
  },
  {
   "cell_type": "markdown",
   "id": "43028964",
   "metadata": {},
   "source": [
    "#### Changing numeric values Borough to a name"
   ]
  },
  {
   "cell_type": "code",
   "execution_count": 150,
   "id": "25c629e5",
   "metadata": {},
   "outputs": [],
   "source": [
    "dfStatenIsland20032019 = dfStatenIsland20032019.withColumn(\"Borough\", when(col(\"Borough\") == 5,\n",
    "                                                 lit(\"StatenIsland\")).otherwise(lit(\"StatenIsland\")))"
   ]
  },
  {
   "cell_type": "code",
   "execution_count": 151,
   "id": "f8ba6625",
   "metadata": {},
   "outputs": [
    {
     "name": "stdout",
     "output_type": "stream",
     "text": [
      "+------------+\n",
      "|     Borough|\n",
      "+------------+\n",
      "|StatenIsland|\n",
      "+------------+\n",
      "\n"
     ]
    }
   ],
   "source": [
    "dfStatenIsland20032019.select(\"Borough\").distinct().show()"
   ]
  },
  {
   "cell_type": "markdown",
   "id": "f390b037",
   "metadata": {},
   "source": [
    "#### Summary"
   ]
  },
  {
   "cell_type": "code",
   "execution_count": 152,
   "id": "28fa8e6a",
   "metadata": {},
   "outputs": [
    {
     "name": "stdout",
     "output_type": "stream",
     "text": [
      "+-------+-----------------+\n",
      "|summary|            Block|\n",
      "+-------+-----------------+\n",
      "|  count|           141817|\n",
      "|   mean|3282.924875014984|\n",
      "| stddev|2358.560344803393|\n",
      "|    min|                1|\n",
      "|    max|             8050|\n",
      "+-------+-----------------+\n",
      "\n"
     ]
    }
   ],
   "source": [
    "dfStatenIsland20032019.describe(\"Block\").show()"
   ]
  },
  {
   "cell_type": "code",
   "execution_count": 153,
   "id": "702010ea",
   "metadata": {},
   "outputs": [
    {
     "name": "stdout",
     "output_type": "stream",
     "text": [
      "+------------+--------------------+-----------------------+--------------------+-----+---+-------------------------+--------------------+-----------------+----------------+-----------+----------------+-----------------+----------+----------+----------+\n",
      "|     Borough|        Neighborhood|Building Class Category|Tax Class At Present|Block|Lot|Building Class At Present|             Address|Residential Units|Commercial Units|Total Units|Land Square Feet|Gross Square Feet|Year Built|Sale Price| Sale Date|\n",
      "+------------+--------------------+-----------------------+--------------------+-----+---+-------------------------+--------------------+-----------------+----------------+-----------+----------------+-----------------+----------+----------+----------+\n",
      "|StatenIsland|ARDEN HEIGHTS    ...|   01  ONE FAMILY HO...|                   1| 5741|  5|                       A5|670 ILYSSA WAY   ...|                1|               0|          1|             508|             1354|      1994|      0.00|2003-07-28|\n",
      "|StatenIsland|ARDEN HEIGHTS    ...|   01  ONE FAMILY HO...|                   1| 6027|  5|                       A5|2014 ARTHUR KILL ...|                1|               0|          1|             720|             1008|      1990| 160000.00|2003-01-17|\n",
      "|StatenIsland|ARROCHAR-SHORE AC...|   02  TWO FAMILY HO...|                   1| 2830|  5|                       B2|75 MARYLAND AVENU...|                2|               0|          2|            5880|             2808|      1901|      0.00|2003-03-11|\n",
      "|StatenIsland|ARROCHAR-SHORE AC...|   13  CONDOS - ELEV...|                   2| 2832|  5|                       R4|6 NEW LANE       ...|                1|               0|          1|               0|                0|      1987| 180000.00|2003-05-02|\n",
      "|StatenIsland|BULLS HEAD       ...|   01  ONE FAMILY HO...|                   1| 1680|  5|                       A5|33 FRANCESCA LANE...|                1|               0|          1|            1456|             1324|      1988|      0.00|2003-04-18|\n",
      "|StatenIsland|BULLS HEAD       ...|   02  TWO FAMILY HO...|                   1| 1658|  5|                       B2|249 ADA DRIVE    ...|                2|               0|          2|            3840|             2121|      1983|      0.00|2003-08-07|\n",
      "|StatenIsland|BULLS HEAD       ...|   04  TAX CLASS 1 C...|                  1A| 1548|  5|                       R3|10 DEBBIE STREET ...|                1|               0|          1|               0|                0|      1989|   2000.00|2003-10-04|\n",
      "|StatenIsland|CLOVE LAKES      ...|   21  OFFICE BUILDI...|                   4|  285|  5|                       K2|604 FOREST AVENUE...|                0|               3|          3|            5200|             4096|      1930| 425000.00|2003-10-03|\n",
      "|StatenIsland|CONCORD          ...|   01  ONE FAMILY HO...|                   1| 2912|  5|                       A2|422 NECKAR AVENUE...|                1|               0|          1|            5000|              800|      1910|      0.00|2003-04-25|\n",
      "|StatenIsland|CONCORD-FOX HILLS...|   01  ONE FAMILY HO...|                   1| 2925|  5|                       A5|                 199|                1|               0|          1|            1090|              900|      2002| 233220.00|2003-10-10|\n",
      "|StatenIsland|DONGAN HILLS-COLO...|   01  ONE FAMILY HO...|                  1B|  869|  5|                       V0|96 OVERLOOK AVENU...|                0|               0|          0|            6461|                0|         0|      0.00|2003-07-25|\n",
      "|StatenIsland|ELTINGVILLE      ...|   01  ONE FAMILY HO...|                   1| 5329|  5|                       A2|27 EASTMAN STREET...|                1|               0|          1|            4000|              960|      1965|      0.00|2003-10-17|\n",
      "|StatenIsland|ELTINGVILLE      ...|   01  ONE FAMILY HO...|                   1| 5611|  5|                       A1|662 BARLOW AVENUE...|                1|               0|          1|            4000|             1976|      1965| 450000.00|2003-12-16|\n",
      "|StatenIsland|ELTINGVILLE      ...|   01  ONE FAMILY HO...|                   1| 5636|  5|                       A5|517 ANNADALE ROAD...|                1|               0|          1|            1944|             1585|      1987| 575000.00|2003-07-23|\n",
      "|StatenIsland|ELTINGVILLE      ...|   02  TWO FAMILY HO...|                   1| 5603|  5|                       B2|641 KATAN AVENUE ...|                2|               0|          2|            4000|             2080|      1977| 106134.00|2003-08-08|\n",
      "|StatenIsland|ELTINGVILLE      ...|   02  TWO FAMILY HO...|                   1| 5682|  5|                       B9|3 CHERYL AVENUE  ...|                2|               0|          2|            3780|             2088|      1974|      0.00|2003-04-17|\n",
      "|StatenIsland|GRANT CITY       ...|   01  ONE FAMILY HO...|                   1| 3538|  5|                       A1|199 DONGAN HILLS ...|                1|               0|          1|            3600|             1680|      1960| 120000.00|2003-11-03|\n",
      "|StatenIsland|GRASMERE         ...|   01  ONE FAMILY HO...|                   1| 3153|  5|                       A2|875 TARGEE STREET...|                1|               0|          1|            3360|              876|      1950| 217000.00|2003-04-24|\n",
      "|StatenIsland|GREAT KILLS      ...|   01  ONE FAMILY HO...|                   1| 5274|  5|                       A5|100 DAVID STREET ...|                1|               0|          1|            2500|             1184|      1960|      0.00|2003-05-16|\n",
      "|StatenIsland|GREAT KILLS      ...|   01  ONE FAMILY HO...|                   1| 5289|  5|                       A2|255 KING STREET  ...|                1|               0|          1|            3956|             1875|      1960| 435000.00|2003-05-24|\n",
      "+------------+--------------------+-----------------------+--------------------+-----+---+-------------------------+--------------------+-----------------+----------------+-----------+----------------+-----------------+----------+----------+----------+\n",
      "only showing top 20 rows\n",
      "\n"
     ]
    }
   ],
   "source": [
    "dfStatenIsland20032019.show()"
   ]
  },
  {
   "cell_type": "code",
   "execution_count": 154,
   "id": "9400a097",
   "metadata": {},
   "outputs": [
    {
     "name": "stdout",
     "output_type": "stream",
     "text": [
      "+-------+------+\n",
      "|summary|   Lot|\n",
      "+-------+------+\n",
      "|  count|141817|\n",
      "|   mean|   5.0|\n",
      "| stddev|   0.0|\n",
      "|    min|     5|\n",
      "|    max|     5|\n",
      "+-------+------+\n",
      "\n"
     ]
    }
   ],
   "source": [
    "dfStatenIsland20032019.describe(\"Lot\").show()"
   ]
  },
  {
   "cell_type": "code",
   "execution_count": 155,
   "id": "135f19a1",
   "metadata": {},
   "outputs": [
    {
     "name": "stdout",
     "output_type": "stream",
     "text": [
      "+-------+-----------------+\n",
      "|summary|Residential Units|\n",
      "+-------+-----------------+\n",
      "|  count|           141817|\n",
      "|   mean|1.348843932673798|\n",
      "| stddev|6.192245987484058|\n",
      "|    min|                0|\n",
      "|    max|              693|\n",
      "+-------+-----------------+\n",
      "\n"
     ]
    }
   ],
   "source": [
    "dfStatenIsland20032019.describe(\"Residential Units\").show()"
   ]
  },
  {
   "cell_type": "code",
   "execution_count": 156,
   "id": "7bcd5fe0",
   "metadata": {},
   "outputs": [
    {
     "name": "stdout",
     "output_type": "stream",
     "text": [
      "+-------+------------------+\n",
      "|summary|  Commercial Units|\n",
      "+-------+------------------+\n",
      "|  count|            141817|\n",
      "|   mean|0.1604885168914869|\n",
      "| stddev| 15.69709056952263|\n",
      "|    min|                 0|\n",
      "|    max|              4964|\n",
      "+-------+------------------+\n",
      "\n"
     ]
    }
   ],
   "source": [
    "dfStatenIsland20032019.describe(\"Commercial Units\").show()"
   ]
  },
  {
   "cell_type": "code",
   "execution_count": 157,
   "id": "6df0d233",
   "metadata": {},
   "outputs": [
    {
     "name": "stdout",
     "output_type": "stream",
     "text": [
      "+-------+------------------+\n",
      "|summary|       Total Units|\n",
      "+-------+------------------+\n",
      "|  count|            141817|\n",
      "|   mean|1.5096638625834702|\n",
      "| stddev|16.864337254330138|\n",
      "|    min|                 0|\n",
      "|    max|              4964|\n",
      "+-------+------------------+\n",
      "\n"
     ]
    }
   ],
   "source": [
    "dfStatenIsland20032019.describe(\"Total Units\").show()"
   ]
  },
  {
   "cell_type": "code",
   "execution_count": 158,
   "id": "b93c56a9",
   "metadata": {},
   "outputs": [
    {
     "name": "stdout",
     "output_type": "stream",
     "text": [
      "+-------+-----------------+\n",
      "|summary| Land Square Feet|\n",
      "+-------+-----------------+\n",
      "|  count|           141817|\n",
      "|   mean|6471.141238356474|\n",
      "| stddev|76092.62175183729|\n",
      "|    min|                0|\n",
      "|    max|         11076557|\n",
      "+-------+-----------------+\n",
      "\n"
     ]
    }
   ],
   "source": [
    "dfStatenIsland20032019.describe(\"Land Square Feet\").show()"
   ]
  },
  {
   "cell_type": "code",
   "execution_count": 159,
   "id": "b130ac9a",
   "metadata": {},
   "outputs": [
    {
     "name": "stdout",
     "output_type": "stream",
     "text": [
      "+-------+------------------+\n",
      "|summary| Gross Square Feet|\n",
      "+-------+------------------+\n",
      "|  count|            141817|\n",
      "|   mean|2022.5784214868456|\n",
      "| stddev| 9061.274894152346|\n",
      "|    min|                 0|\n",
      "|    max|            881000|\n",
      "+-------+------------------+\n",
      "\n"
     ]
    }
   ],
   "source": [
    "dfStatenIsland20032019.describe(\"Gross Square Feet\").show()"
   ]
  },
  {
   "cell_type": "code",
   "execution_count": 160,
   "id": "cd3fac56",
   "metadata": {},
   "outputs": [
    {
     "name": "stdout",
     "output_type": "stream",
     "text": [
      "+-------+------------------+\n",
      "|summary|       Total Units|\n",
      "+-------+------------------+\n",
      "|  count|            141817|\n",
      "|   mean|1.5096638625834702|\n",
      "| stddev|16.864337254330138|\n",
      "|    min|                 0|\n",
      "|    max|              4964|\n",
      "+-------+------------------+\n",
      "\n"
     ]
    }
   ],
   "source": [
    "dfStatenIsland20032019.describe(\"Total Units\").show()"
   ]
  },
  {
   "cell_type": "code",
   "execution_count": 161,
   "id": "fdafda03",
   "metadata": {},
   "outputs": [
    {
     "name": "stdout",
     "output_type": "stream",
     "text": [
      "+-------+-----------------+\n",
      "|summary|       Sale Price|\n",
      "+-------+-----------------+\n",
      "|  count|           141817|\n",
      "|   mean|    311856.201499|\n",
      "| stddev|933098.6010291488|\n",
      "|    min|             0.00|\n",
      "|    max|     189442300.00|\n",
      "+-------+-----------------+\n",
      "\n"
     ]
    }
   ],
   "source": [
    "dfStatenIsland20032019.describe(\"Sale Price\").show()"
   ]
  },
  {
   "cell_type": "code",
   "execution_count": 162,
   "id": "0843a9a2",
   "metadata": {},
   "outputs": [
    {
     "data": {
      "text/plain": [
       "[('Borough', 'string'),\n",
       " ('Neighborhood', 'string'),\n",
       " ('Building Class Category', 'string'),\n",
       " ('Tax Class At Present', 'string'),\n",
       " ('Block', 'int'),\n",
       " ('Lot', 'int'),\n",
       " ('Building Class At Present', 'string'),\n",
       " ('Address', 'string'),\n",
       " ('Residential Units', 'int'),\n",
       " ('Commercial Units', 'int'),\n",
       " ('Total Units', 'int'),\n",
       " ('Land Square Feet', 'int'),\n",
       " ('Gross Square Feet', 'int'),\n",
       " ('Year Built', 'int'),\n",
       " ('Sale Price', 'decimal(18,2)'),\n",
       " ('Sale Date', 'date')]"
      ]
     },
     "execution_count": 162,
     "metadata": {},
     "output_type": "execute_result"
    }
   ],
   "source": [
    "dfStatenIsland20032019.dtypes"
   ]
  },
  {
   "cell_type": "code",
   "execution_count": 163,
   "id": "3773f9e1",
   "metadata": {},
   "outputs": [
    {
     "name": "stdout",
     "output_type": "stream",
     "text": [
      "Shape of DataFrame:  (141817, 16)\n"
     ]
    }
   ],
   "source": [
    "print(\"Shape of DataFrame: \", (dfStatenIsland20032019.count(), len(dfStatenIsland20032019.columns)))"
   ]
  },
  {
   "cell_type": "markdown",
   "id": "1f02cf41",
   "metadata": {},
   "source": [
    "# Analysis"
   ]
  },
  {
   "cell_type": "markdown",
   "id": "9d878725",
   "metadata": {},
   "source": [
    "## dfBronx20032019"
   ]
  },
  {
   "cell_type": "code",
   "execution_count": 164,
   "id": "b615b505",
   "metadata": {},
   "outputs": [],
   "source": [
    "SelColdfBronx20032019 = dfBronx20032019.select(\"Borough\", \"Neighborhood\", \n",
    "                       \"Building Class Category\",\"Building Class At Present\",\n",
    "                      \"Sale Price\", \"Sale Date\")"
   ]
  },
  {
   "cell_type": "code",
   "execution_count": 165,
   "id": "ffb8957d",
   "metadata": {},
   "outputs": [
    {
     "data": {
      "text/plain": [
       "['Borough',\n",
       " 'Neighborhood',\n",
       " 'Building Class Category',\n",
       " 'Building Class At Present',\n",
       " 'Sale Price',\n",
       " 'Sale Date',\n",
       " 'Building Code',\n",
       " 'Description']"
      ]
     },
     "execution_count": 165,
     "metadata": {},
     "output_type": "execute_result"
    }
   ],
   "source": [
    "dfBronx20032019BCD =  SelColdfBronx20032019.join(BuildingClassification,\n",
    "                     SelColdfBronx20032019[\"Building Class At Present\"] == BuildingClassification[\"Building Code\"], \"inner\") \n",
    "dfBronx20032019BCD.columns                   "
   ]
  },
  {
   "cell_type": "markdown",
   "id": "6da13237",
   "metadata": {},
   "source": [
    "### Removing two first characters from Building Class Category and using capitalize()"
   ]
  },
  {
   "cell_type": "code",
   "execution_count": 166,
   "id": "98c35367",
   "metadata": {},
   "outputs": [],
   "source": [
    "def RemoveTwoCharacters(str):\n",
    "    return str[2:]\n",
    "    \n",
    "def CapitalizeString(str):\n",
    "    return str.capitalize()\n",
    "    \n",
    "RemoveTwoCharactersUDF = udf(lambda x: RemoveTwoCharacters(x), StringType())  \n",
    "CapitalizeStringUDF = udf(lambda y: CapitalizeString(y), StringType())"
   ]
  },
  {
   "cell_type": "code",
   "execution_count": 167,
   "id": "2b9e00a2",
   "metadata": {},
   "outputs": [],
   "source": [
    "dfBronx20032019BCD = dfBronx20032019BCD.select('Borough',\n",
    " CapitalizeStringUDF(col(\"Neighborhood\")).alias(\"Neighborhood\"),\n",
    "trim(RemoveTwoCharactersUDF(col(\"Building Class Category\"))).alias(\"Building Class Category\"),\n",
    " 'Building Class At Present',\n",
    " 'Sale Price',\n",
    " 'Sale Date',\n",
    " 'Building Code',\n",
    " 'Description')"
   ]
  },
  {
   "cell_type": "code",
   "execution_count": 168,
   "id": "83d06020",
   "metadata": {},
   "outputs": [
    {
     "name": "stdout",
     "output_type": "stream",
     "text": [
      "+-------+-------------------------+-------------------------------+-------------------------------------------+----------+\n",
      "|Borough|Neighborhood             |Building Class Category        |Description                                |Sale Price|\n",
      "+-------+-------------------------+-------------------------------+-------------------------------------------+----------+\n",
      "|Bronx  |Bathgate                 |COMMERCIAL GARAGES             |UNLICENSED PARKING LOT                     |25000.00  |\n",
      "|Bronx  |Baychester               |ONE FAMILY HOMES               |ONE FAMILY ATTACHED OR SEMI-DETACHED       |236000.00 |\n",
      "|Bronx  |Baychester               |ONE FAMILY HOMES               |ONE FAMILY ATTACHED OR SEMI-DETACHED       |170533.00 |\n",
      "|Bronx  |Baychester               |ONE FAMILY HOMES               |ONE STORY - PERMANENT LIVING QUARTER       |0.00      |\n",
      "|Bronx  |Baychester               |TWO FAMILY HOMES               |TWO FAMILY BRICK                           |350000.00 |\n",
      "|Bronx  |Baychester               |COMMERCIAL GARAGES             |MISCELLANEOUS GARAGE                       |600000.00 |\n",
      "|Bronx  |Belmont                  |TWO FAMILY HOMES               |THREE FAMILIES                             |283250.00 |\n",
      "|Bronx  |Bronxdale                |THREE FAMILY HOMES             |THREE FAMILIES                             |485000.00 |\n",
      "|Bronx  |Castle hill/unionport    |TWO FAMILY HOMES               |TWO FAMILY FRAME                           |345000.00 |\n",
      "|Bronx  |Castle hill/unionport    |TWO FAMILY HOMES               |TWO FAMILY FRAME                           |0.00      |\n",
      "|Bronx  |City island              |ONE FAMILY HOMES               |ONE STORY - PERMANENT LIVING QUARTER       |0.00      |\n",
      "|Bronx  |Country club             |ONE FAMILY HOMES               |ONE STORY - PERMANENT LIVING QUARTER       |125000.00 |\n",
      "|Bronx  |Crotona park             |COMMERCIAL GARAGES             |UNLICENSED PARKING LOT                     |177500.00 |\n",
      "|Bronx  |East tremont             |THREE FAMILY HOMES             |THREE FAMILIES                             |377088.00 |\n",
      "|Bronx  |East tremont             |THREE FAMILY HOMES             |THREE FAMILIES                             |175000.00 |\n",
      "|Bronx  |East tremont             |THREE FAMILY HOMES             |THREE FAMILIES                             |0.00      |\n",
      "|Bronx  |Highbridge/morris heights|TWO FAMILY HOMES               |TWO FAMILY FRAME                           |273000.00 |\n",
      "|Bronx  |Highbridge/morris heights|TWO FAMILY HOMES               |TWO FAMILY FRAME                           |205000.00 |\n",
      "|Bronx  |Highbridge/morris heights|COMMERCIAL GARAGES             |ONE STORY RETAIL BUILDING                  |200000.00 |\n",
      "|Bronx  |Highbridge/morris heights|OUTDOOR RECREATIONAL FACILITIES|ELEVATOR APT; SEMI-FIREPROOF WITHOUT STORES|1000000.00|\n",
      "+-------+-------------------------+-------------------------------+-------------------------------------------+----------+\n",
      "only showing top 20 rows\n",
      "\n"
     ]
    }
   ],
   "source": [
    "dfBronx20032019BCD.select('Borough',\n",
    " 'Neighborhood',\n",
    " 'Building Class Category',\n",
    "'Description',\n",
    " 'Sale Price'\n",
    " ).show(truncate=False)"
   ]
  },
  {
   "cell_type": "markdown",
   "id": "1f8fadf1",
   "metadata": {},
   "source": [
    "### Calculating a few statistical method"
   ]
  },
  {
   "cell_type": "code",
   "execution_count": 169,
   "id": "ff26af0a",
   "metadata": {},
   "outputs": [
    {
     "name": "stdout",
     "output_type": "stream",
     "text": [
      "+-------------------------+-----------------+-----------------+--------------+--------------+\n",
      "|Neighborhood             |Sum Of Sale Price|Avg of Sale Price|Max Sale Price|Min Sale Price|\n",
      "+-------------------------+-----------------+-----------------+--------------+--------------+\n",
      "|Bedford park/norwood     |2466484699.00    |1018366.927746   |18825000.00   |1.00          |\n",
      "|Crotona park             |481934329.00     |823819.365812    |33407172.00   |1.00          |\n",
      "|Pelham parkway north     |575193171.00     |460891.963942    |12500000.00   |1.00          |\n",
      "|Van cortlandt park       |24630225.00      |384847.265625    |4825000.00    |35000.00      |\n",
      "|Schuylerville/pelham bay |1266838399.00    |535661.056660    |41000000.00   |1.00          |\n",
      "|Belmont                  |839992082.00     |892658.960680    |30000000.00   |1.00          |\n",
      "|City island              |126751496.00     |558376.634361    |5000000.00    |5000.00       |\n",
      "|City island-pelham strip |26082365.00      |1003167.884615   |5200000.00    |500.00        |\n",
      "|Riverdale                |809549516.00     |616564.749429    |86375000.00   |1.00          |\n",
      "|Mount hope/mount eden    |1605080313.00    |1888329.780000   |84500000.00   |1.00          |\n",
      "|Crotona park             |112326729.00     |905860.717742    |13971105.00   |1.00          |\n",
      "|Wakefield                |356845683.00     |655966.329044    |29035665.00   |1.00          |\n",
      "|Wakefield                |1170459706.00    |459724.943441    |20886858.00   |1.00          |\n",
      "|City island              |340015951.00     |492776.740580    |6000000.00    |1.00          |\n",
      "|Bronx park               |5795011.00       |965835.166667    |3750000.00    |1.00          |\n",
      "|Kingsbridge hts/univ hts |291513970.00     |1005220.586207   |14900000.00   |10.00         |\n",
      "|Kingsbridge/jerome park  |330356577.00     |825891.442500    |20000000.00   |1.00          |\n",
      "|Fordham                  |365115727.00     |1921661.721053   |19550000.00   |10.00         |\n",
      "|Fordham                  |1599689426.00    |1659428.865145   |43000000.00   |1.00          |\n",
      "|Hunts point              |996317567.00     |1262759.907478   |114000000.00  |1.00          |\n",
      "+-------------------------+-----------------+-----------------+--------------+--------------+\n",
      "only showing top 20 rows\n",
      "\n"
     ]
    }
   ],
   "source": [
    "STATdfBronx20032019BCD = dfBronx20032019BCD.filter(dfBronx20032019BCD[\"Sale Price\"] > 0)\n",
    "\n",
    "\n",
    "STATdfBronx20032019BCD.groupBy(\"Neighborhood\") \\\n",
    "    .agg(sum(\"Sale Price\").alias(\"Sum Of Sale Price\"), \\\n",
    "         avg(\"Sale Price\").alias(\"Avg of Sale Price\"), \\\n",
    "         max(\"Sale Price\").alias(\"Max Sale Price\"), \\\n",
    "         min(\"Sale Price\").alias(\"Min Sale Price\") \\\n",
    "     ) \\\n",
    "    .show(truncate=False)"
   ]
  },
  {
   "cell_type": "markdown",
   "id": "b5240b3e",
   "metadata": {},
   "source": [
    "### Grouping by Neighborhood, Building Class Category and Description"
   ]
  },
  {
   "cell_type": "code",
   "execution_count": 170,
   "id": "1d3e26f0",
   "metadata": {
    "scrolled": true
   },
   "outputs": [],
   "source": [
    "GroupingSalesBronx20032019 = dfBronx20032019BCD.groupBy('Borough',\n",
    "                                                     'Neighborhood',\n",
    "                                                     'Building Class Category',\n",
    "                                                     'Description').sum('Sale Price')"
   ]
  },
  {
   "cell_type": "code",
   "execution_count": 171,
   "id": "ab8e0ec7",
   "metadata": {
    "scrolled": true
   },
   "outputs": [
    {
     "name": "stdout",
     "output_type": "stream",
     "text": [
      "+-------+-------------------------+-----------------------+-----------------------------------+-----------+\n",
      "|Borough|             Neighborhood|Building Class Category|                        Description| Sale Price|\n",
      "+-------+-------------------------+-----------------------+-----------------------------------+-----------+\n",
      "|  Bronx|Soundview                |       TWO FAMILY HOMES|TWO FAMILY CONVERTED FROM ONE FA...|51171987.00|\n",
      "|  Bronx|Bathgate                 |    RENTALS - 4-10 UNIT|SINGLE OR MULTIPLE DWELLING WITH...| 4808000.00|\n",
      "|  Bronx|Crotona park             |     THREE FAMILY HOMES|                     THREE FAMILIES|41056703.00|\n",
      "|  Bronx|Baychester               |TAX CLASS 1 VACANT LAND|PUBLIC ELEMENTARY, JUNIOR OR SEN...|       0.00|\n",
      "|  Bronx|                 Bathgate|        STORE BUILDINGS|          ONE STORY RETAIL BUILDING|34365250.00|\n",
      "|  Bronx|Mott haven/port morris   |TAX CLASS 1 VACANT LAND|                   TWO FAMILY BRICK|  792000.00|\n",
      "|  Bronx|              Parkchester|             WAREHOUSES|                FIREPROOF WAREHOUSE| 5270000.00|\n",
      "|  Bronx|Bronx park               |             WAREHOUSES|            MISCELLANEOUS WAREHOUSE|  650000.00|\n",
      "|  Bronx|East tremont             |    RENTALS - 4-10 UNIT|PRIMARILY 3 FAMILY WITH 1 STORE ...| 1567000.00|\n",
      "|  Bronx|                Riverdale|   TWO FAMILY DWELLINGS|                   TWO FAMILY FRAME| 5407611.00|\n",
      "+-------+-------------------------+-----------------------+-----------------------------------+-----------+\n",
      "only showing top 10 rows\n",
      "\n"
     ]
    }
   ],
   "source": [
    "GroupingSalesBronx20032019.select(\"Borough\", \n",
    "                                  \"Neighborhood\",\n",
    "                                  \"Building Class Category\",\n",
    "                                  \"Description\",\n",
    "                                  col(\"sum(Sale Price)\").alias(\"Sale Price\")).show(10,35)"
   ]
  },
  {
   "cell_type": "markdown",
   "id": "52ad6d94",
   "metadata": {},
   "source": [
    "### Grouping and perform analysis using window functions"
   ]
  },
  {
   "cell_type": "code",
   "execution_count": 172,
   "id": "e71fd686",
   "metadata": {},
   "outputs": [],
   "source": [
    "GroupSalesBronx20032019 = dfBronx20032019BCD.groupBy('Borough','Neighborhood','Building Class Category').sum('Sale Price')"
   ]
  },
  {
   "cell_type": "code",
   "execution_count": 173,
   "id": "6ee9ee0f",
   "metadata": {},
   "outputs": [
    {
     "name": "stdout",
     "output_type": "stream",
     "text": [
      "+-------+-------------------------+---------------------------------+------------+\n",
      "|Borough|Neighborhood             |Building Class Category          |Sale Price  |\n",
      "+-------+-------------------------+---------------------------------+------------+\n",
      "|Bronx  |Hunts point              |FACTORIES                        |160928132.00|\n",
      "|Bronx  |Bronxdale                |ONE FAMILY DWELLINGS             |60936477.00 |\n",
      "|Bronx  |Pelham parkway south     |RENTALS - WALKUP APARTMENTS      |11315000.00 |\n",
      "|Bronx  |Throgs neck              |TWO FAMILY DWELLINGS             |165459847.00|\n",
      "|Bronx  |Mott haven/port morris   |CONDOS - WALKUP APARTMENTS       |5856158.00  |\n",
      "|Bronx  |Morrisania/longwood      |TAX CLASS 4 - OTHER              |13206743.00 |\n",
      "|Bronx  |Pelham parkway south     |COOPS - ELEVATOR APARTMENTS      |27169114.00 |\n",
      "|Bronx  |Pelham parkway south     |COMMERCIAL GARAGES               |2500000.00  |\n",
      "|Bronx  |Country club             |TAX CLASS 1 VACANT LAND          |1290000.00  |\n",
      "|Bronx  |Bronx park               |WAREHOUSES                       |4147667.00  |\n",
      "|Bronx  |Fieldston                |TWO FAMILY HOMES                 |9013860.00  |\n",
      "|Bronx  |Mott haven/port morris   |TAX CLASS 3 - UNTILITY PROPERTIES|1469893.00  |\n",
      "|Bronx  |Pelham parkway north     |TAX CLASS 1 VACANT LAND          |538000.00   |\n",
      "|Bronx  |Morrisania/longwood      |EDUCATIONAL FACILITIES           |0.00        |\n",
      "|Bronx  |Westchester              |THREE FAMILY HOMES               |92529144.00 |\n",
      "|Bronx  |Fordham                  |ONE FAMILY DWELLINGS             |5301230.00  |\n",
      "|Bronx  |City island              |COMMERCIAL CONDOS                |630000.00   |\n",
      "|Bronx  |Highbridge/morris heights|TAX CLASS 1 VACANT LAND          |57056810.00 |\n",
      "|Bronx  |Melrose/concourse        |STORE BUILDINGS                  |100761613.00|\n",
      "|Bronx  |Pelham gardens           |TWO FAMILY DWELLINGS             |23416730.00 |\n",
      "+-------+-------------------------+---------------------------------+------------+\n",
      "only showing top 20 rows\n",
      "\n"
     ]
    }
   ],
   "source": [
    "GroupSalesBronx20032019 = GroupSalesBronx20032019.select(\n",
    "                                'Borough',\n",
    "                               trim(col(\"Neighborhood\")).alias(\"Neighborhood\"),\n",
    "                                trim(col(\"Building Class Category\")).alias(\"Building Class Category\"),\n",
    "                               col('sum(Sale Price)').alias(\"Sale Price\"))\n",
    "                                \n",
    "GroupSalesBronx20032019.show(truncate=False)"
   ]
  },
  {
   "cell_type": "code",
   "execution_count": 174,
   "id": "4fb69f07",
   "metadata": {},
   "outputs": [],
   "source": [
    "windowSpec = Window.partitionBy(\"Neighborhood\").orderBy(desc(col(\"Sale Price\")))"
   ]
  },
  {
   "cell_type": "code",
   "execution_count": 175,
   "id": "626d1bad",
   "metadata": {},
   "outputs": [
    {
     "name": "stdout",
     "output_type": "stream",
     "text": [
      "+-------+------------+-----------------------+------------+------------+\n",
      "|Borough|Neighborhood|Building Class Category|  Sale Price|RankingSales|\n",
      "+-------+------------+-----------------------+------------+------------+\n",
      "|  Bronx|    Bathgate|   RENTALS - WALKUP ...|161843900.00|           1|\n",
      "|  Bronx|    Bathgate|   CONDO STORE BUILD...| 86260000.00|           2|\n",
      "|  Bronx|    Bathgate|       TWO FAMILY HOMES| 57125308.00|           3|\n",
      "|  Bronx|    Bathgate|   RENTALS - WALKUP ...| 55331037.00|           4|\n",
      "|  Bronx|    Bathgate|     THREE FAMILY HOMES| 48593122.00|           5|\n",
      "|  Bronx|    Bathgate|   CONDO OFFICE BUIL...| 47640040.00|           6|\n",
      "|  Bronx|    Bathgate|     COMMERCIAL GARAGES| 44418109.00|           7|\n",
      "|  Bronx|    Bathgate|        STORE BUILDINGS| 43529815.00|           8|\n",
      "|  Bronx|    Bathgate|             WAREHOUSES| 43326050.00|           9|\n",
      "|  Bronx|    Bathgate|        STORE BUILDINGS| 34365250.00|          10|\n",
      "|  Bronx|    Bathgate|   TWO FAMILY DWELLINGS| 25409253.00|          11|\n",
      "|  Bronx|    Bathgate|   COMMERCIAL VACANT...| 22514402.00|          12|\n",
      "|  Bronx|    Bathgate|              FACTORIES| 20315000.00|          13|\n",
      "|  Bronx|    Bathgate|   TWO FAMILY DWELLINGS| 17811303.00|          14|\n",
      "|  Bronx|    Bathgate|       ONE FAMILY HOMES| 16227957.00|          15|\n",
      "|  Bronx|    Bathgate|     COMMERCIAL GARAGES| 11805500.00|          16|\n",
      "|  Bronx|    Bathgate|   THREE FAMILY DWEL...| 11116912.00|          17|\n",
      "|  Bronx|    Bathgate|   THREE FAMILY DWEL...| 10068466.00|          18|\n",
      "|  Bronx|    Bathgate|   ONE FAMILY DWELLINGS|  8639250.00|          19|\n",
      "|  Bronx|    Bathgate|              FACTORIES|  8260000.00|          20|\n",
      "+-------+------------+-----------------------+------------+------------+\n",
      "only showing top 20 rows\n",
      "\n"
     ]
    }
   ],
   "source": [
    "RNGroupSalesBronx20032019 = GroupSalesBronx20032019.withColumn(\"RankingSales\", row_number().over(windowSpec))\n",
    "RNGroupSalesBronx20032019.show()"
   ]
  },
  {
   "cell_type": "code",
   "execution_count": 176,
   "id": "25ec023f",
   "metadata": {},
   "outputs": [
    {
     "name": "stdout",
     "output_type": "stream",
     "text": [
      "+-------+-------------------------+-----------------------------+-------------+------------+\n",
      "|Borough|             Neighborhood|      Building Class Category|   Sale Price|RankingSales|\n",
      "+-------+-------------------------+-----------------------------+-------------+------------+\n",
      "|  Bronx|                 Bathgate|  RENTALS - WALKUP APARTMENTS| 161843900.00|           1|\n",
      "|  Bronx|               Baychester|             TWO FAMILY HOMES| 512966637.00|           1|\n",
      "|  Bronx|     Bedford park/norwood|  RENTALS - WALKUP APARTMENTS| 896369571.00|           1|\n",
      "|  Bronx|                  Belmont|  RENTALS - WALKUP APARTMENTS| 400372909.00|           1|\n",
      "|  Bronx|               Bronx park|RENTALS - ELEVATOR APARTMENTS|  48966138.00|           1|\n",
      "|  Bronx|            Bronx-unknown|                   WAREHOUSES|  17000000.00|           1|\n",
      "|  Bronx|                Bronxdale|             TWO FAMILY HOMES| 316719638.00|           1|\n",
      "|  Bronx|    Castle hill/unionport|             TWO FAMILY HOMES| 259895716.00|           1|\n",
      "|  Bronx|              City island|             ONE FAMILY HOMES| 103215260.00|           1|\n",
      "|  Bronx| City island-pelham strip|             ONE FAMILY HOMES|  13135000.00|           1|\n",
      "|  Bronx|               Co-op city|           COMMERCIAL GARAGES|  16486000.00|           1|\n",
      "|  Bronx|             Country club|             ONE FAMILY HOMES| 230672378.00|           1|\n",
      "|  Bronx|             Crotona park|  RENTALS - WALKUP APARTMENTS| 105421295.00|           1|\n",
      "|  Bronx|               East river|                    FACTORIES|  11200000.00|           1|\n",
      "|  Bronx|             East tremont|RENTALS - ELEVATOR APARTMENTS| 382956191.00|           1|\n",
      "|  Bronx|                Fieldston|             ONE FAMILY HOMES| 191132752.00|           1|\n",
      "|  Bronx|                  Fordham|  RENTALS - WALKUP APARTMENTS| 647604979.00|           1|\n",
      "|  Bronx|Highbridge/morris heights|RENTALS - ELEVATOR APARTMENTS| 884846902.00|           1|\n",
      "|  Bronx|              Hunts point|                   WAREHOUSES| 316287310.00|           1|\n",
      "|  Bronx| Kingsbridge hts/univ hts|  RENTALS - WALKUP APARTMENTS| 606326845.00|           1|\n",
      "|  Bronx|  Kingsbridge/jerome park|  RENTALS - WALKUP APARTMENTS| 395752107.00|           1|\n",
      "|  Bronx|        Melrose/concourse|  RENTALS - WALKUP APARTMENTS| 697552100.00|           1|\n",
      "|  Bronx|     Morris park/van nest|             TWO FAMILY HOMES| 308504815.00|           1|\n",
      "|  Bronx|      Morrisania/longwood|  RENTALS - WALKUP APARTMENTS| 578772311.00|           1|\n",
      "|  Bronx|   Mott haven/port morris|                   WAREHOUSES| 389899290.00|           1|\n",
      "|  Bronx|    Mount hope/mount eden|RENTALS - ELEVATOR APARTMENTS| 916946340.00|           1|\n",
      "|  Bronx|              Parkchester| CONDOS - ELEVATOR APARTMENTS| 427098474.00|           1|\n",
      "|  Bronx|               Pelham bay|      TAX CLASS 1 VACANT LAND|    160000.00|           1|\n",
      "|  Bronx|           Pelham gardens|             ONE FAMILY HOMES| 107369403.00|           1|\n",
      "|  Bronx|     Pelham parkway north|             TWO FAMILY HOMES| 198205315.00|           1|\n",
      "|  Bronx|     Pelham parkway south|RENTALS - ELEVATOR APARTMENTS| 504392798.00|           1|\n",
      "|  Bronx|                Riverdale|  COOPS - ELEVATOR APARTMENTS|1491996676.00|           1|\n",
      "|  Bronx| Schuylerville/pelham bay|             TWO FAMILY HOMES| 284769766.00|           1|\n",
      "|  Bronx|                Soundview|  RENTALS - WALKUP APARTMENTS| 484867145.00|           1|\n",
      "|  Bronx|              Throgs neck|             TWO FAMILY HOMES| 363064346.00|           1|\n",
      "|  Bronx|       Van cortlandt park|  RENTALS - WALKUP APARTMENTS|  11425000.00|           1|\n",
      "|  Bronx|                Wakefield|             TWO FAMILY HOMES| 318716858.00|           1|\n",
      "|  Bronx|              Westchester|             TWO FAMILY HOMES| 191236461.00|           1|\n",
      "|  Bronx|           Williamsbridge|             TWO FAMILY HOMES| 519894445.00|           1|\n",
      "|  Bronx|                 Woodlawn|             TWO FAMILY HOMES|  73747391.00|           1|\n",
      "+-------+-------------------------+-----------------------------+-------------+------------+\n",
      "\n"
     ]
    }
   ],
   "source": [
    "RNGroupSalesBronx20032019.filter(RNGroupSalesBronx20032019[\"RankingSales\"] == 1).show(100,30)"
   ]
  },
  {
   "cell_type": "code",
   "execution_count": 177,
   "id": "4df28bef",
   "metadata": {},
   "outputs": [
    {
     "name": "stdout",
     "output_type": "stream",
     "text": [
      "+-------+------------+-----------------------+------------+-------+\n",
      "|Borough|Neighborhood|Building Class Category|  Sale Price|Ranking|\n",
      "+-------+------------+-----------------------+------------+-------+\n",
      "|  Bronx|    Bathgate|   RENTALS - WALKUP ...|161843900.00|      1|\n",
      "|  Bronx|    Bathgate|   CONDO STORE BUILD...| 86260000.00|      2|\n",
      "|  Bronx|    Bathgate|       TWO FAMILY HOMES| 57125308.00|      3|\n",
      "|  Bronx|    Bathgate|   RENTALS - WALKUP ...| 55331037.00|      4|\n",
      "|  Bronx|    Bathgate|     THREE FAMILY HOMES| 48593122.00|      5|\n",
      "|  Bronx|    Bathgate|   CONDO OFFICE BUIL...| 47640040.00|      6|\n",
      "|  Bronx|    Bathgate|     COMMERCIAL GARAGES| 44418109.00|      7|\n",
      "|  Bronx|    Bathgate|        STORE BUILDINGS| 43529815.00|      8|\n",
      "|  Bronx|    Bathgate|             WAREHOUSES| 43326050.00|      9|\n",
      "|  Bronx|    Bathgate|        STORE BUILDINGS| 34365250.00|     10|\n",
      "|  Bronx|    Bathgate|   TWO FAMILY DWELLINGS| 25409253.00|     11|\n",
      "|  Bronx|    Bathgate|   COMMERCIAL VACANT...| 22514402.00|     12|\n",
      "|  Bronx|    Bathgate|              FACTORIES| 20315000.00|     13|\n",
      "|  Bronx|    Bathgate|   TWO FAMILY DWELLINGS| 17811303.00|     14|\n",
      "|  Bronx|    Bathgate|       ONE FAMILY HOMES| 16227957.00|     15|\n",
      "|  Bronx|    Bathgate|     COMMERCIAL GARAGES| 11805500.00|     16|\n",
      "|  Bronx|    Bathgate|   THREE FAMILY DWEL...| 11116912.00|     17|\n",
      "|  Bronx|    Bathgate|   THREE FAMILY DWEL...| 10068466.00|     18|\n",
      "|  Bronx|    Bathgate|   ONE FAMILY DWELLINGS|  8639250.00|     19|\n",
      "|  Bronx|    Bathgate|              FACTORIES|  8260000.00|     20|\n",
      "+-------+------------+-----------------------+------------+-------+\n",
      "only showing top 20 rows\n",
      "\n"
     ]
    }
   ],
   "source": [
    "RANKGroupSalesBronx20032019 = GroupSalesBronx20032019.withColumn(\"Ranking\", rank().over(windowSpec))\n",
    "RANKGroupSalesBronx20032019.show()"
   ]
  },
  {
   "cell_type": "code",
   "execution_count": 178,
   "id": "b3cada2b",
   "metadata": {},
   "outputs": [
    {
     "name": "stdout",
     "output_type": "stream",
     "text": [
      "+-------+-------------------------+-----------------------------+-------------+-------+\n",
      "|Borough|             Neighborhood|      Building Class Category|   Sale Price|Ranking|\n",
      "+-------+-------------------------+-----------------------------+-------------+-------+\n",
      "|  Bronx|                 Bathgate|  RENTALS - WALKUP APARTMENTS| 161843900.00|      1|\n",
      "|  Bronx|               Baychester|             TWO FAMILY HOMES| 512966637.00|      1|\n",
      "|  Bronx|     Bedford park/norwood|  RENTALS - WALKUP APARTMENTS| 896369571.00|      1|\n",
      "|  Bronx|                  Belmont|  RENTALS - WALKUP APARTMENTS| 400372909.00|      1|\n",
      "|  Bronx|               Bronx park|RENTALS - ELEVATOR APARTMENTS|  48966138.00|      1|\n",
      "|  Bronx|            Bronx-unknown|                   WAREHOUSES|  17000000.00|      1|\n",
      "|  Bronx|                Bronxdale|             TWO FAMILY HOMES| 316719638.00|      1|\n",
      "|  Bronx|    Castle hill/unionport|             TWO FAMILY HOMES| 259895716.00|      1|\n",
      "|  Bronx|              City island|             ONE FAMILY HOMES| 103215260.00|      1|\n",
      "|  Bronx| City island-pelham strip|             ONE FAMILY HOMES|  13135000.00|      1|\n",
      "|  Bronx|               Co-op city|           COMMERCIAL GARAGES|  16486000.00|      1|\n",
      "|  Bronx|             Country club|             ONE FAMILY HOMES| 230672378.00|      1|\n",
      "|  Bronx|             Crotona park|  RENTALS - WALKUP APARTMENTS| 105421295.00|      1|\n",
      "|  Bronx|               East river|                    FACTORIES|  11200000.00|      1|\n",
      "|  Bronx|             East tremont|RENTALS - ELEVATOR APARTMENTS| 382956191.00|      1|\n",
      "|  Bronx|                Fieldston|             ONE FAMILY HOMES| 191132752.00|      1|\n",
      "|  Bronx|                  Fordham|  RENTALS - WALKUP APARTMENTS| 647604979.00|      1|\n",
      "|  Bronx|Highbridge/morris heights|RENTALS - ELEVATOR APARTMENTS| 884846902.00|      1|\n",
      "|  Bronx|              Hunts point|                   WAREHOUSES| 316287310.00|      1|\n",
      "|  Bronx| Kingsbridge hts/univ hts|  RENTALS - WALKUP APARTMENTS| 606326845.00|      1|\n",
      "|  Bronx|  Kingsbridge/jerome park|  RENTALS - WALKUP APARTMENTS| 395752107.00|      1|\n",
      "|  Bronx|        Melrose/concourse|  RENTALS - WALKUP APARTMENTS| 697552100.00|      1|\n",
      "|  Bronx|     Morris park/van nest|             TWO FAMILY HOMES| 308504815.00|      1|\n",
      "|  Bronx|      Morrisania/longwood|  RENTALS - WALKUP APARTMENTS| 578772311.00|      1|\n",
      "|  Bronx|   Mott haven/port morris|                   WAREHOUSES| 389899290.00|      1|\n",
      "|  Bronx|    Mount hope/mount eden|RENTALS - ELEVATOR APARTMENTS| 916946340.00|      1|\n",
      "|  Bronx|              Parkchester| CONDOS - ELEVATOR APARTMENTS| 427098474.00|      1|\n",
      "|  Bronx|               Pelham bay|      TAX CLASS 1 VACANT LAND|    160000.00|      1|\n",
      "|  Bronx|           Pelham gardens|             ONE FAMILY HOMES| 107369403.00|      1|\n",
      "|  Bronx|     Pelham parkway north|             TWO FAMILY HOMES| 198205315.00|      1|\n",
      "|  Bronx|     Pelham parkway south|RENTALS - ELEVATOR APARTMENTS| 504392798.00|      1|\n",
      "|  Bronx|                Riverdale|  COOPS - ELEVATOR APARTMENTS|1491996676.00|      1|\n",
      "|  Bronx| Schuylerville/pelham bay|             TWO FAMILY HOMES| 284769766.00|      1|\n",
      "|  Bronx|                Soundview|  RENTALS - WALKUP APARTMENTS| 484867145.00|      1|\n",
      "|  Bronx|              Throgs neck|             TWO FAMILY HOMES| 363064346.00|      1|\n",
      "|  Bronx|       Van cortlandt park|  RENTALS - WALKUP APARTMENTS|  11425000.00|      1|\n",
      "|  Bronx|                Wakefield|             TWO FAMILY HOMES| 318716858.00|      1|\n",
      "|  Bronx|              Westchester|             TWO FAMILY HOMES| 191236461.00|      1|\n",
      "|  Bronx|           Williamsbridge|             TWO FAMILY HOMES| 519894445.00|      1|\n",
      "|  Bronx|                 Woodlawn|             TWO FAMILY HOMES|  73747391.00|      1|\n",
      "+-------+-------------------------+-----------------------------+-------------+-------+\n",
      "\n"
     ]
    }
   ],
   "source": [
    "RANKGroupSalesBronx20032019.filter(RANKGroupSalesBronx20032019[\"Ranking\"] == 1).show(100,30)"
   ]
  },
  {
   "cell_type": "code",
   "execution_count": 179,
   "id": "110f2fb6",
   "metadata": {},
   "outputs": [
    {
     "name": "stdout",
     "output_type": "stream",
     "text": [
      "+-------+------------+-----------------------+------------+---------+\n",
      "|Borough|Neighborhood|Building Class Category|  Sale Price|DenseRank|\n",
      "+-------+------------+-----------------------+------------+---------+\n",
      "|  Bronx|    Bathgate|   RENTALS - WALKUP ...|161843900.00|        1|\n",
      "|  Bronx|    Bathgate|   CONDO STORE BUILD...| 86260000.00|        2|\n",
      "|  Bronx|    Bathgate|       TWO FAMILY HOMES| 57125308.00|        3|\n",
      "|  Bronx|    Bathgate|   RENTALS - WALKUP ...| 55331037.00|        4|\n",
      "|  Bronx|    Bathgate|     THREE FAMILY HOMES| 48593122.00|        5|\n",
      "|  Bronx|    Bathgate|   CONDO OFFICE BUIL...| 47640040.00|        6|\n",
      "|  Bronx|    Bathgate|     COMMERCIAL GARAGES| 44418109.00|        7|\n",
      "|  Bronx|    Bathgate|        STORE BUILDINGS| 43529815.00|        8|\n",
      "|  Bronx|    Bathgate|             WAREHOUSES| 43326050.00|        9|\n",
      "|  Bronx|    Bathgate|        STORE BUILDINGS| 34365250.00|       10|\n",
      "|  Bronx|    Bathgate|   TWO FAMILY DWELLINGS| 25409253.00|       11|\n",
      "|  Bronx|    Bathgate|   COMMERCIAL VACANT...| 22514402.00|       12|\n",
      "|  Bronx|    Bathgate|              FACTORIES| 20315000.00|       13|\n",
      "|  Bronx|    Bathgate|   TWO FAMILY DWELLINGS| 17811303.00|       14|\n",
      "|  Bronx|    Bathgate|       ONE FAMILY HOMES| 16227957.00|       15|\n",
      "|  Bronx|    Bathgate|     COMMERCIAL GARAGES| 11805500.00|       16|\n",
      "|  Bronx|    Bathgate|   THREE FAMILY DWEL...| 11116912.00|       17|\n",
      "|  Bronx|    Bathgate|   THREE FAMILY DWEL...| 10068466.00|       18|\n",
      "|  Bronx|    Bathgate|   ONE FAMILY DWELLINGS|  8639250.00|       19|\n",
      "|  Bronx|    Bathgate|              FACTORIES|  8260000.00|       20|\n",
      "+-------+------------+-----------------------+------------+---------+\n",
      "only showing top 20 rows\n",
      "\n"
     ]
    }
   ],
   "source": [
    "DENSERANKGroupSalesBronx20032019 = GroupSalesBronx20032019.withColumn(\"DenseRank\", dense_rank().over(windowSpec))\n",
    "DENSERANKGroupSalesBronx20032019.show()"
   ]
  },
  {
   "cell_type": "code",
   "execution_count": 180,
   "id": "b05afad3",
   "metadata": {},
   "outputs": [
    {
     "name": "stdout",
     "output_type": "stream",
     "text": [
      "+-------+-------------------------+-----------------------------+-------------+---------+\n",
      "|Borough|             Neighborhood|      Building Class Category|   Sale Price|DenseRank|\n",
      "+-------+-------------------------+-----------------------------+-------------+---------+\n",
      "|  Bronx|                 Bathgate|  RENTALS - WALKUP APARTMENTS| 161843900.00|        1|\n",
      "|  Bronx|               Baychester|             TWO FAMILY HOMES| 512966637.00|        1|\n",
      "|  Bronx|     Bedford park/norwood|  RENTALS - WALKUP APARTMENTS| 896369571.00|        1|\n",
      "|  Bronx|                  Belmont|  RENTALS - WALKUP APARTMENTS| 400372909.00|        1|\n",
      "|  Bronx|               Bronx park|RENTALS - ELEVATOR APARTMENTS|  48966138.00|        1|\n",
      "|  Bronx|            Bronx-unknown|                   WAREHOUSES|  17000000.00|        1|\n",
      "|  Bronx|                Bronxdale|             TWO FAMILY HOMES| 316719638.00|        1|\n",
      "|  Bronx|    Castle hill/unionport|             TWO FAMILY HOMES| 259895716.00|        1|\n",
      "|  Bronx|              City island|             ONE FAMILY HOMES| 103215260.00|        1|\n",
      "|  Bronx| City island-pelham strip|             ONE FAMILY HOMES|  13135000.00|        1|\n",
      "|  Bronx|               Co-op city|           COMMERCIAL GARAGES|  16486000.00|        1|\n",
      "|  Bronx|             Country club|             ONE FAMILY HOMES| 230672378.00|        1|\n",
      "|  Bronx|             Crotona park|  RENTALS - WALKUP APARTMENTS| 105421295.00|        1|\n",
      "|  Bronx|               East river|                    FACTORIES|  11200000.00|        1|\n",
      "|  Bronx|             East tremont|RENTALS - ELEVATOR APARTMENTS| 382956191.00|        1|\n",
      "|  Bronx|                Fieldston|             ONE FAMILY HOMES| 191132752.00|        1|\n",
      "|  Bronx|                  Fordham|  RENTALS - WALKUP APARTMENTS| 647604979.00|        1|\n",
      "|  Bronx|Highbridge/morris heights|RENTALS - ELEVATOR APARTMENTS| 884846902.00|        1|\n",
      "|  Bronx|              Hunts point|                   WAREHOUSES| 316287310.00|        1|\n",
      "|  Bronx| Kingsbridge hts/univ hts|  RENTALS - WALKUP APARTMENTS| 606326845.00|        1|\n",
      "|  Bronx|  Kingsbridge/jerome park|  RENTALS - WALKUP APARTMENTS| 395752107.00|        1|\n",
      "|  Bronx|        Melrose/concourse|  RENTALS - WALKUP APARTMENTS| 697552100.00|        1|\n",
      "|  Bronx|     Morris park/van nest|             TWO FAMILY HOMES| 308504815.00|        1|\n",
      "|  Bronx|      Morrisania/longwood|  RENTALS - WALKUP APARTMENTS| 578772311.00|        1|\n",
      "|  Bronx|   Mott haven/port morris|                   WAREHOUSES| 389899290.00|        1|\n",
      "|  Bronx|    Mount hope/mount eden|RENTALS - ELEVATOR APARTMENTS| 916946340.00|        1|\n",
      "|  Bronx|              Parkchester| CONDOS - ELEVATOR APARTMENTS| 427098474.00|        1|\n",
      "|  Bronx|               Pelham bay|      TAX CLASS 1 VACANT LAND|    160000.00|        1|\n",
      "|  Bronx|           Pelham gardens|             ONE FAMILY HOMES| 107369403.00|        1|\n",
      "|  Bronx|     Pelham parkway north|             TWO FAMILY HOMES| 198205315.00|        1|\n",
      "|  Bronx|     Pelham parkway south|RENTALS - ELEVATOR APARTMENTS| 504392798.00|        1|\n",
      "|  Bronx|                Riverdale|  COOPS - ELEVATOR APARTMENTS|1491996676.00|        1|\n",
      "|  Bronx| Schuylerville/pelham bay|             TWO FAMILY HOMES| 284769766.00|        1|\n",
      "|  Bronx|                Soundview|  RENTALS - WALKUP APARTMENTS| 484867145.00|        1|\n",
      "|  Bronx|              Throgs neck|             TWO FAMILY HOMES| 363064346.00|        1|\n",
      "|  Bronx|       Van cortlandt park|  RENTALS - WALKUP APARTMENTS|  11425000.00|        1|\n",
      "|  Bronx|                Wakefield|             TWO FAMILY HOMES| 318716858.00|        1|\n",
      "|  Bronx|              Westchester|             TWO FAMILY HOMES| 191236461.00|        1|\n",
      "|  Bronx|           Williamsbridge|             TWO FAMILY HOMES| 519894445.00|        1|\n",
      "|  Bronx|                 Woodlawn|             TWO FAMILY HOMES|  73747391.00|        1|\n",
      "+-------+-------------------------+-----------------------------+-------------+---------+\n",
      "\n"
     ]
    }
   ],
   "source": [
    "DENSERANKGroupSalesBronx20032019.filter(DENSERANKGroupSalesBronx20032019[\"DenseRank\"] == 1).show(100,30)"
   ]
  },
  {
   "cell_type": "code",
   "execution_count": 181,
   "id": "eaca0022",
   "metadata": {},
   "outputs": [
    {
     "name": "stdout",
     "output_type": "stream",
     "text": [
      "+-------+------------+-----------------------+------------+------------------+\n",
      "|Borough|Neighborhood|Building Class Category|  Sale Price|       PercentRank|\n",
      "+-------+------------+-----------------------+------------+------------------+\n",
      "|  Bronx|    Bathgate|   RENTALS - WALKUP ...|161843900.00|               0.0|\n",
      "|  Bronx|    Bathgate|   CONDO STORE BUILD...| 86260000.00|               2.0|\n",
      "|  Bronx|    Bathgate|       TWO FAMILY HOMES| 57125308.00|               4.0|\n",
      "|  Bronx|    Bathgate|   RENTALS - WALKUP ...| 55331037.00|               6.0|\n",
      "|  Bronx|    Bathgate|     THREE FAMILY HOMES| 48593122.00|               9.0|\n",
      "|  Bronx|    Bathgate|   CONDO OFFICE BUIL...| 47640040.00|              11.0|\n",
      "|  Bronx|    Bathgate|     COMMERCIAL GARAGES| 44418109.00|              13.0|\n",
      "|  Bronx|    Bathgate|        STORE BUILDINGS| 43529815.00|              15.0|\n",
      "|  Bronx|    Bathgate|             WAREHOUSES| 43326050.00|              17.0|\n",
      "|  Bronx|    Bathgate|        STORE BUILDINGS| 34365250.00|              19.0|\n",
      "|  Bronx|    Bathgate|   TWO FAMILY DWELLINGS| 25409253.00|              21.0|\n",
      "|  Bronx|    Bathgate|   COMMERCIAL VACANT...| 22514402.00|              23.0|\n",
      "|  Bronx|    Bathgate|              FACTORIES| 20315000.00|              26.0|\n",
      "|  Bronx|    Bathgate|   TWO FAMILY DWELLINGS| 17811303.00|28.000000000000004|\n",
      "|  Bronx|    Bathgate|       ONE FAMILY HOMES| 16227957.00|              30.0|\n",
      "|  Bronx|    Bathgate|     COMMERCIAL GARAGES| 11805500.00|              32.0|\n",
      "|  Bronx|    Bathgate|   THREE FAMILY DWEL...| 11116912.00|              34.0|\n",
      "|  Bronx|    Bathgate|   THREE FAMILY DWEL...| 10068466.00|              36.0|\n",
      "|  Bronx|    Bathgate|   ONE FAMILY DWELLINGS|  8639250.00|              38.0|\n",
      "|  Bronx|    Bathgate|              FACTORIES|  8260000.00|              40.0|\n",
      "+-------+------------+-----------------------+------------+------------------+\n",
      "only showing top 20 rows\n",
      "\n"
     ]
    }
   ],
   "source": [
    "PercentRankGroupSalesBronx20032019 = GroupSalesBronx20032019.withColumn(\"PercentRank\", percent_rank().over(windowSpec))\n",
    "PercentRankGroupSalesBronx20032019 = PercentRankGroupSalesBronx20032019.withColumn(\"PercentRank\", \n",
    "                                                                                   round(col(\"PercentRank\"),2) * 100)\n",
    "PercentRankGroupSalesBronx20032019.show()"
   ]
  },
  {
   "cell_type": "code",
   "execution_count": 182,
   "id": "af5d3081",
   "metadata": {},
   "outputs": [
    {
     "name": "stdout",
     "output_type": "stream",
     "text": [
      "+-------+------------+-----------------------+------------+--------------+\n",
      "|Borough|Neighborhood|Building Class Category|  Sale Price|Grouping Sales|\n",
      "+-------+------------+-----------------------+------------+--------------+\n",
      "|  Bronx|    Bathgate|   RENTALS - WALKUP ...|161843900.00|             1|\n",
      "|  Bronx|    Bathgate|   CONDO STORE BUILD...| 86260000.00|             1|\n",
      "|  Bronx|    Bathgate|       TWO FAMILY HOMES| 57125308.00|             1|\n",
      "|  Bronx|    Bathgate|   RENTALS - WALKUP ...| 55331037.00|             1|\n",
      "|  Bronx|    Bathgate|     THREE FAMILY HOMES| 48593122.00|             1|\n",
      "|  Bronx|    Bathgate|   CONDO OFFICE BUIL...| 47640040.00|             1|\n",
      "|  Bronx|    Bathgate|     COMMERCIAL GARAGES| 44418109.00|             1|\n",
      "|  Bronx|    Bathgate|        STORE BUILDINGS| 43529815.00|             1|\n",
      "|  Bronx|    Bathgate|             WAREHOUSES| 43326050.00|             1|\n",
      "|  Bronx|    Bathgate|        STORE BUILDINGS| 34365250.00|             1|\n",
      "|  Bronx|    Bathgate|   TWO FAMILY DWELLINGS| 25409253.00|             1|\n",
      "|  Bronx|    Bathgate|   COMMERCIAL VACANT...| 22514402.00|             1|\n",
      "|  Bronx|    Bathgate|              FACTORIES| 20315000.00|             2|\n",
      "|  Bronx|    Bathgate|   TWO FAMILY DWELLINGS| 17811303.00|             2|\n",
      "|  Bronx|    Bathgate|       ONE FAMILY HOMES| 16227957.00|             2|\n",
      "|  Bronx|    Bathgate|     COMMERCIAL GARAGES| 11805500.00|             2|\n",
      "|  Bronx|    Bathgate|   THREE FAMILY DWEL...| 11116912.00|             2|\n",
      "|  Bronx|    Bathgate|   THREE FAMILY DWEL...| 10068466.00|             2|\n",
      "|  Bronx|    Bathgate|   ONE FAMILY DWELLINGS|  8639250.00|             2|\n",
      "|  Bronx|    Bathgate|              FACTORIES|  8260000.00|             2|\n",
      "+-------+------------+-----------------------+------------+--------------+\n",
      "only showing top 20 rows\n",
      "\n"
     ]
    }
   ],
   "source": [
    "GroupingGroupSalesBronx20032019 = GroupSalesBronx20032019.withColumn(\"Grouping Sales\", ntile(4).over(windowSpec))\n",
    "GroupingGroupSalesBronx20032019.show()\n"
   ]
  },
  {
   "cell_type": "code",
   "execution_count": 183,
   "id": "36a375f4",
   "metadata": {},
   "outputs": [
    {
     "name": "stdout",
     "output_type": "stream",
     "text": [
      "+-------+------------+-----------------------+------------+--------------+\n",
      "|Borough|Neighborhood|Building Class Category|  Sale Price|Grouping Sales|\n",
      "+-------+------------+-----------------------+------------+--------------+\n",
      "|  Bronx|    Bathgate|   RENTALS - WALKUP ...|161843900.00|             1|\n",
      "|  Bronx|    Bathgate|   CONDO STORE BUILD...| 86260000.00|             1|\n",
      "|  Bronx|    Bathgate|       TWO FAMILY HOMES| 57125308.00|             1|\n",
      "|  Bronx|    Bathgate|   RENTALS - WALKUP ...| 55331037.00|             1|\n",
      "|  Bronx|    Bathgate|     THREE FAMILY HOMES| 48593122.00|             1|\n",
      "|  Bronx|    Bathgate|   CONDO OFFICE BUIL...| 47640040.00|             1|\n",
      "|  Bronx|    Bathgate|     COMMERCIAL GARAGES| 44418109.00|             1|\n",
      "|  Bronx|    Bathgate|        STORE BUILDINGS| 43529815.00|             1|\n",
      "|  Bronx|    Bathgate|             WAREHOUSES| 43326050.00|             1|\n",
      "|  Bronx|    Bathgate|        STORE BUILDINGS| 34365250.00|             1|\n",
      "|  Bronx|    Bathgate|   TWO FAMILY DWELLINGS| 25409253.00|             1|\n",
      "|  Bronx|    Bathgate|   COMMERCIAL VACANT...| 22514402.00|             1|\n",
      "|  Bronx|  Baychester|       TWO FAMILY HOMES|512966637.00|             1|\n",
      "|  Bronx|  Baychester|       ONE FAMILY HOMES|335080095.00|             1|\n",
      "|  Bronx|  Baychester|   RENTALS - ELEVATO...|254600001.00|             1|\n",
      "|  Bronx|  Baychester|   TWO FAMILY DWELLINGS|214527597.00|             1|\n",
      "|  Bronx|  Baychester|   TWO FAMILY DWELLINGS|151157342.00|             1|\n",
      "|  Bronx|  Baychester|     THREE FAMILY HOMES|145901154.00|             1|\n",
      "|  Bronx|  Baychester|             WAREHOUSES|143925811.00|             1|\n",
      "|  Bronx|  Baychester|   ONE FAMILY DWELLINGS|137839702.00|             1|\n",
      "+-------+------------+-----------------------+------------+--------------+\n",
      "only showing top 20 rows\n",
      "\n"
     ]
    }
   ],
   "source": [
    "GroupingGroupSalesBronx20032019.filter(GroupingGroupSalesBronx20032019['Grouping Sales'] == 1).show()"
   ]
  },
  {
   "cell_type": "code",
   "execution_count": 184,
   "id": "3dd673a1",
   "metadata": {},
   "outputs": [
    {
     "name": "stdout",
     "output_type": "stream",
     "text": [
      "+-------+------------+-----------------------+----------+--------------+\n",
      "|Borough|Neighborhood|Building Class Category|Sale Price|Grouping Sales|\n",
      "+-------+------------+-----------------------+----------+--------------+\n",
      "|  Bronx|    Bathgate|   EDUCATIONAL FACIL...| 506983.00|             4|\n",
      "|  Bronx|    Bathgate|         LOFT BUILDINGS| 500000.00|             4|\n",
      "|  Bronx|    Bathgate|    TAX CLASS 1 - OTHER| 480900.00|             4|\n",
      "|  Bronx|    Bathgate|   COOPS - ELEVATOR ...| 468606.00|             4|\n",
      "|  Bronx|    Bathgate|   COMMERCIAL VACANT...| 414427.00|             4|\n",
      "|  Bronx|    Bathgate|    TAX CLASS 1 - OTHER| 165000.00|             4|\n",
      "|  Bronx|    Bathgate|           OTHER HOTELS| 125000.00|             4|\n",
      "|  Bronx|    Bathgate|   COOPS - WALKUP AP...|  35000.00|             4|\n",
      "|  Bronx|    Bathgate|   COOPS - WALKUP AP...|  30000.00|             4|\n",
      "|  Bronx|    Bathgate|   RENTALS - ELEVATO...|      0.00|             4|\n",
      "|  Bronx|    Bathgate|      ASYLUMS AND HOMES|      0.00|             4|\n",
      "|  Bronx|    Bathgate|   CONDO OFFICE BUIL...|      0.00|             4|\n",
      "|  Bronx|  Baychester|   COOPS - ELEVATOR ...|2565000.00|             4|\n",
      "|  Bronx|  Baychester|   RELIGIOUS FACILITIES|2200000.00|             4|\n",
      "|  Bronx|  Baychester|    TAX CLASS 1 - OTHER|1767500.00|             4|\n",
      "|  Bronx|  Baychester|   TAX CLASS 1 VACAN...|1730266.00|             4|\n",
      "|  Bronx|  Baychester|   INDOOR PUBLIC AND...|1133275.00|             4|\n",
      "|  Bronx|  Baychester|   RELIGIOUS FACILITIES| 803595.00|             4|\n",
      "|  Bronx|  Baychester|      COMMERCIAL CONDOS| 618237.00|             4|\n",
      "|  Bronx|  Baychester|      ASYLUMS AND HOMES| 460000.00|             4|\n",
      "+-------+------------+-----------------------+----------+--------------+\n",
      "only showing top 20 rows\n",
      "\n"
     ]
    }
   ],
   "source": [
    "GroupingGroupSalesBronx20032019.filter(GroupingGroupSalesBronx20032019['Grouping Sales'] == 4).show()"
   ]
  },
  {
   "cell_type": "code",
   "execution_count": 185,
   "id": "b7a56f5c",
   "metadata": {},
   "outputs": [
    {
     "name": "stdout",
     "output_type": "stream",
     "text": [
      "+-------+------------+-----------------------+------------+--------------------+\n",
      "|Borough|Neighborhood|Building Class Category|  Sale Price|            CumeDist|\n",
      "+-------+------------+-----------------------+------------+--------------------+\n",
      "|  Bronx|    Bathgate|   RENTALS - WALKUP ...|161843900.00|0.020833333333333332|\n",
      "|  Bronx|    Bathgate|   CONDO STORE BUILD...| 86260000.00|0.041666666666666664|\n",
      "|  Bronx|    Bathgate|       TWO FAMILY HOMES| 57125308.00|              0.0625|\n",
      "|  Bronx|    Bathgate|   RENTALS - WALKUP ...| 55331037.00| 0.08333333333333333|\n",
      "|  Bronx|    Bathgate|     THREE FAMILY HOMES| 48593122.00| 0.10416666666666667|\n",
      "|  Bronx|    Bathgate|   CONDO OFFICE BUIL...| 47640040.00|               0.125|\n",
      "|  Bronx|    Bathgate|     COMMERCIAL GARAGES| 44418109.00| 0.14583333333333334|\n",
      "|  Bronx|    Bathgate|        STORE BUILDINGS| 43529815.00| 0.16666666666666666|\n",
      "|  Bronx|    Bathgate|             WAREHOUSES| 43326050.00|              0.1875|\n",
      "|  Bronx|    Bathgate|        STORE BUILDINGS| 34365250.00| 0.20833333333333334|\n",
      "|  Bronx|    Bathgate|   TWO FAMILY DWELLINGS| 25409253.00| 0.22916666666666666|\n",
      "|  Bronx|    Bathgate|   COMMERCIAL VACANT...| 22514402.00|                0.25|\n",
      "|  Bronx|    Bathgate|              FACTORIES| 20315000.00|  0.2708333333333333|\n",
      "|  Bronx|    Bathgate|   TWO FAMILY DWELLINGS| 17811303.00|  0.2916666666666667|\n",
      "|  Bronx|    Bathgate|       ONE FAMILY HOMES| 16227957.00|              0.3125|\n",
      "|  Bronx|    Bathgate|     COMMERCIAL GARAGES| 11805500.00|  0.3333333333333333|\n",
      "|  Bronx|    Bathgate|   THREE FAMILY DWEL...| 11116912.00|  0.3541666666666667|\n",
      "|  Bronx|    Bathgate|   THREE FAMILY DWEL...| 10068466.00|               0.375|\n",
      "|  Bronx|    Bathgate|   ONE FAMILY DWELLINGS|  8639250.00|  0.3958333333333333|\n",
      "|  Bronx|    Bathgate|              FACTORIES|  8260000.00|  0.4166666666666667|\n",
      "+-------+------------+-----------------------+------------+--------------------+\n",
      "only showing top 20 rows\n",
      "\n"
     ]
    }
   ],
   "source": [
    "CUMEDISTGroupSalesBronx20032019 = GroupSalesBronx20032019.withColumn(\"CumeDist\", cume_dist().over(windowSpec))\n",
    "CUMEDISTGroupSalesBronx20032019.withColumn(\"CumeDist\", round(col(\"CumeDist\"),2) * 100)\n",
    "CUMEDISTGroupSalesBronx20032019.show()"
   ]
  },
  {
   "cell_type": "markdown",
   "id": "d4c66445",
   "metadata": {},
   "source": [
    "#### Analytic functions lag & lead"
   ]
  },
  {
   "cell_type": "code",
   "execution_count": 186,
   "id": "363bc553",
   "metadata": {},
   "outputs": [
    {
     "name": "stdout",
     "output_type": "stream",
     "text": [
      "+-------+--------------------+-----------------------+-------------------------+----------+----------+\n",
      "|Borough|        Neighborhood|Building Class Category|Building Class At Present|Sale Price| Sale Date|\n",
      "+-------+--------------------+-----------------------+-------------------------+----------+----------+\n",
      "|  Bronx|BATHGATE         ...|   29  COMMERCIAL GA...|                       G7|  25000.00|2003-05-03|\n",
      "|  Bronx|BAYCHESTER       ...|   01  ONE FAMILY HO...|                       A5| 236000.00|2003-02-26|\n",
      "|  Bronx|BAYCHESTER       ...|   01  ONE FAMILY HO...|                       A5| 170533.00|2003-05-08|\n",
      "|  Bronx|BAYCHESTER       ...|   01  ONE FAMILY HO...|                       A2|      0.00|2003-10-30|\n",
      "|  Bronx|BAYCHESTER       ...|   02  TWO FAMILY HO...|                       B1| 350000.00|2003-07-29|\n",
      "|  Bronx|BAYCHESTER       ...|   29  COMMERCIAL GA...|                       G9| 600000.00|2003-08-27|\n",
      "|  Bronx|BELMONT          ...|   02  TWO FAMILY HO...|                       C0| 283250.00|2003-03-28|\n",
      "|  Bronx|BRONXDALE        ...|   03  THREE FAMILY ...|                       C0| 485000.00|2003-11-05|\n",
      "|  Bronx|CASTLE HILL/UNION...|   02  TWO FAMILY HO...|                       B2| 345000.00|2003-11-14|\n",
      "|  Bronx|CASTLE HILL/UNION...|   02  TWO FAMILY HO...|                       B2|      0.00|2003-04-01|\n",
      "|  Bronx|CITY ISLAND      ...|   01  ONE FAMILY HO...|                       A2|      0.00|2003-05-28|\n",
      "|  Bronx|COUNTRY CLUB     ...|   01  ONE FAMILY HO...|                       A2| 125000.00|2003-05-23|\n",
      "|  Bronx|CROTONA PARK     ...|   29  COMMERCIAL GA...|                       G7| 177500.00|2003-01-30|\n",
      "|  Bronx|EAST TREMONT     ...|   03  THREE FAMILY ...|                       C0| 377088.00|2003-03-13|\n",
      "|  Bronx|EAST TREMONT     ...|   03  THREE FAMILY ...|                       C0| 175000.00|2003-06-26|\n",
      "|  Bronx|EAST TREMONT     ...|   03  THREE FAMILY ...|                       C0|      0.00|2003-12-19|\n",
      "|  Bronx|HIGHBRIDGE/MORRIS...|   02  TWO FAMILY HO...|                       B2| 273000.00|2003-02-05|\n",
      "|  Bronx|HIGHBRIDGE/MORRIS...|   02  TWO FAMILY HO...|                       B2| 205000.00|2003-08-20|\n",
      "|  Bronx|HIGHBRIDGE/MORRIS...|   29  COMMERCIAL GA...|                       K1| 200000.00|2003-01-21|\n",
      "|  Bronx|HIGHBRIDGE/MORRIS...|   36  OUTDOOR RECRE...|                       D1|1000000.00|2003-10-29|\n",
      "+-------+--------------------+-----------------------+-------------------------+----------+----------+\n",
      "only showing top 20 rows\n",
      "\n"
     ]
    }
   ],
   "source": [
    "SelColdfBronx20032019.show()"
   ]
  },
  {
   "cell_type": "code",
   "execution_count": 187,
   "id": "58b8c250",
   "metadata": {},
   "outputs": [
    {
     "name": "stdout",
     "output_type": "stream",
     "text": [
      "+-------+--------------+-------------+----------+\n",
      "|Borough|Month Of Sales|Year Of Sales|Sale Price|\n",
      "+-------+--------------+-------------+----------+\n",
      "|  Bronx|             1|         2003|      0.00|\n",
      "|  Bronx|             1|         2003| 150000.00|\n",
      "|  Bronx|             1|         2003|      0.00|\n",
      "|  Bronx|             1|         2003| 175000.00|\n",
      "|  Bronx|             1|         2003| 225000.00|\n",
      "|  Bronx|             1|         2003| 150000.00|\n",
      "|  Bronx|             1|         2003|      0.00|\n",
      "|  Bronx|             1|         2003| 235000.00|\n",
      "|  Bronx|             1|         2003| 270000.00|\n",
      "|  Bronx|             1|         2003|      0.00|\n",
      "|  Bronx|             1|         2003|      0.00|\n",
      "|  Bronx|             1|         2003|  43500.00|\n",
      "|  Bronx|             1|         2003| 450000.00|\n",
      "|  Bronx|             1|         2003| 130000.00|\n",
      "|  Bronx|             1|         2003|3119583.00|\n",
      "|  Bronx|             1|         2003| 200000.00|\n",
      "|  Bronx|             1|         2003|  45200.00|\n",
      "|  Bronx|             1|         2003| 177500.00|\n",
      "|  Bronx|             1|         2003| 125000.00|\n",
      "|  Bronx|             1|         2003|      0.00|\n",
      "+-------+--------------+-------------+----------+\n",
      "only showing top 20 rows\n",
      "\n"
     ]
    }
   ],
   "source": [
    "LAGLEADColdfBronx20032019 = SelColdfBronx20032019.withColumn(\"Year Of Sales\", year(col(\"Sale Date\"))) \\\n",
    "                                                 .withColumn(\"Month Of Sales\", month(col(\"Sale Date\")))\n",
    "LAGLEADColdfBronx20032019 =LAGLEADColdfBronx20032019.select(\"Borough\",\"Month Of Sales\",\"Year Of Sales\", \"Sale Price\")\n",
    "\n",
    "LAGLEADColdfBronx20032019.orderBy(\"Month Of Sales\",'Year of Sales').show()"
   ]
  },
  {
   "cell_type": "code",
   "execution_count": 188,
   "id": "4e9d62db",
   "metadata": {},
   "outputs": [],
   "source": [
    "SumGroupByYear = LAGLEADColdfBronx20032019.groupBy(\"Year Of Sales\").sum(\"Sale Price\")\n",
    "SumGroupByYearMonth = LAGLEADColdfBronx20032019.groupBy(\"Year Of Sales\",'Month Of Sales').sum(\"Sale Price\")"
   ]
  },
  {
   "cell_type": "code",
   "execution_count": 189,
   "id": "e00a7ff6",
   "metadata": {},
   "outputs": [],
   "source": [
    "SumGroupByYear  = SumGroupByYear.select(\"Year Of Sales\",col(\"sum(Sale Price)\").alias(\"Sale Price\"))"
   ]
  },
  {
   "cell_type": "code",
   "execution_count": 190,
   "id": "192fecf2",
   "metadata": {},
   "outputs": [
    {
     "name": "stdout",
     "output_type": "stream",
     "text": [
      "+-------------+-------------+\n",
      "|Year Of Sales|   Sale Price|\n",
      "+-------------+-------------+\n",
      "|         2003|2480050530.00|\n",
      "|         2004|3510545688.00|\n",
      "|         2005|4184373650.00|\n",
      "|         2006|4201918107.00|\n",
      "|         2007|4567472383.00|\n",
      "|         2008|2751209802.00|\n",
      "|         2009|1635235531.00|\n",
      "|         2010|1907454910.00|\n",
      "|         2011|1921117958.00|\n",
      "|         2012|2680704485.00|\n",
      "|         2013|3010824367.00|\n",
      "|         2014|3779765997.00|\n",
      "|         2015|4470812104.00|\n",
      "|         2016|4391287507.00|\n",
      "|         2017|4523413722.00|\n",
      "|         2018|4862103201.00|\n",
      "|         2019|4514707976.00|\n",
      "+-------------+-------------+\n",
      "\n"
     ]
    }
   ],
   "source": [
    "SumGroupByYear = SumGroupByYear.orderBy(\"Year Of Sales\")\n",
    "SumGroupByYear.show()"
   ]
  },
  {
   "cell_type": "code",
   "execution_count": 191,
   "id": "45907fc8",
   "metadata": {
    "scrolled": true
   },
   "outputs": [
    {
     "name": "stdout",
     "output_type": "stream",
     "text": [
      "+-------------+-------------+-------------+--------------+-------------+--------------+\n",
      "|Year Of Sales|   Sale Price|          Lag|          Diff|         Lead|CummulativeSum|\n",
      "+-------------+-------------+-------------+--------------+-------------+--------------+\n",
      "|         2003|2480050530.00|         0.00| 2480050530.00|3510545688.00| 2480050530.00|\n",
      "|         2004|3510545688.00|2480050530.00| 1030495158.00|4184373650.00| 5990596218.00|\n",
      "|         2005|4184373650.00|3510545688.00|  673827962.00|4201918107.00|10174969868.00|\n",
      "|         2006|4201918107.00|4184373650.00|   17544457.00|4567472383.00|14376887975.00|\n",
      "|         2007|4567472383.00|4201918107.00|  365554276.00|2751209802.00|18944360358.00|\n",
      "|         2008|2751209802.00|4567472383.00|-1816262581.00|1635235531.00|21695570160.00|\n",
      "|         2009|1635235531.00|2751209802.00|-1115974271.00|1907454910.00|23330805691.00|\n",
      "|         2010|1907454910.00|1635235531.00|  272219379.00|1921117958.00|25238260601.00|\n",
      "|         2011|1921117958.00|1907454910.00|   13663048.00|2680704485.00|27159378559.00|\n",
      "|         2012|2680704485.00|1921117958.00|  759586527.00|3010824367.00|29840083044.00|\n",
      "|         2013|3010824367.00|2680704485.00|  330119882.00|3779765997.00|32850907411.00|\n",
      "|         2014|3779765997.00|3010824367.00|  768941630.00|4470812104.00|36630673408.00|\n",
      "|         2015|4470812104.00|3779765997.00|  691046107.00|4391287507.00|41101485512.00|\n",
      "|         2016|4391287507.00|4470812104.00|  -79524597.00|4523413722.00|45492773019.00|\n",
      "|         2017|4523413722.00|4391287507.00|  132126215.00|4862103201.00|50016186741.00|\n",
      "|         2018|4862103201.00|4523413722.00|  338689479.00|4514707976.00|54878289942.00|\n",
      "|         2019|4514707976.00|4862103201.00| -347395225.00|         0.00|59392997918.00|\n",
      "+-------------+-------------+-------------+--------------+-------------+--------------+\n",
      "\n"
     ]
    }
   ],
   "source": [
    "windowSpec  = Window.partitionBy().orderBy(\"Year Of Sales\")\n",
    "windowval = (Window.partitionBy().orderBy(\"Year Of Sales\").rangeBetween(Window.unboundedPreceding,0))\n",
    "\n",
    "SumGroupByYear = SumGroupByYear.withColumn(\"Lag\", lag(\"Sale Price\",offset=1,default=0).over(windowSpec)) \n",
    "SumGroupByYear = SumGroupByYear.withColumn(\"Diff\",\n",
    "                                           when(isnull(SumGroupByYear[\"Sale Price\"] - SumGroupByYear[\"Lag\"]),0)\n",
    "                                               .otherwise(SumGroupByYear[\"Sale Price\"] - SumGroupByYear[\"Lag\"]))\n",
    "SumGroupByYear = SumGroupByYear.withColumn(\"Lead\", lead(\"Sale Price\",offset=1,default=0).over(windowSpec))\n",
    "SumGroupByYear = SumGroupByYear.withColumn(\"CummulativeSum\",sum(\"Sale Price\").over(windowval))\n",
    "\n",
    "SumGroupByYear.show()          "
   ]
  },
  {
   "cell_type": "code",
   "execution_count": 192,
   "id": "a4724ff4",
   "metadata": {},
   "outputs": [
    {
     "name": "stdout",
     "output_type": "stream",
     "text": [
      "+-------------+--------------+------------+--------------+\n",
      "|Year Of Sales|Month Of Sales|  Sale Price|CummulativeSum|\n",
      "+-------------+--------------+------------+--------------+\n",
      "|         2003|             1|208749007.00|  208749007.00|\n",
      "|         2003|             2|207419489.00|  416168496.00|\n",
      "|         2003|             3|188627512.00|  604796008.00|\n",
      "|         2003|             4|167891524.00|  772687532.00|\n",
      "|         2003|             5|180870502.00|  953558034.00|\n",
      "|         2003|             6|218991357.00| 1172549391.00|\n",
      "|         2003|             7|159127915.00| 1331677306.00|\n",
      "|         2003|             8|207727929.00| 1539405235.00|\n",
      "|         2003|             9|186410048.00| 1725815283.00|\n",
      "|         2003|            10|255178908.00| 1980994191.00|\n",
      "|         2003|            11|199821850.00| 2180816041.00|\n",
      "|         2003|            12|299234489.00| 2480050530.00|\n",
      "|         2004|             1|172060587.00|  172060587.00|\n",
      "|         2004|             2|265902002.00|  437962589.00|\n",
      "|         2004|             3|284726520.00|  722689109.00|\n",
      "|         2004|             4|298235634.00| 1020924743.00|\n",
      "|         2004|             5|215312295.00| 1236237038.00|\n",
      "|         2004|             6|514313357.00| 1750550395.00|\n",
      "|         2004|             7|247194706.00| 1997745101.00|\n",
      "|         2004|             8|313545619.00| 2311290720.00|\n",
      "+-------------+--------------+------------+--------------+\n",
      "only showing top 20 rows\n",
      "\n"
     ]
    }
   ],
   "source": [
    "windowval = (Window.partitionBy(\"Year Of Sales\").orderBy(\"Month Of Sales\").rangeBetween(Window.unboundedPreceding, 0))\n",
    "SumGroupByYearMonth = SumGroupByYearMonth.select(\"Year Of Sales\",\n",
    "                          \"Month Of Sales\",\n",
    "                          col(\"sum(Sale Price)\").alias(\"Sale Price\")).orderBy('Year of Sales','Month Of Sales')\n",
    "\n",
    "SumGroupByYearMonth = SumGroupByYearMonth.withColumn(\"CummulativeSum\", sum(\"Sale Price\").over(windowval))\n",
    "\n",
    "SumGroupByYearMonth.show()"
   ]
  },
  {
   "cell_type": "markdown",
   "id": "7f86bdde",
   "metadata": {},
   "source": [
    "#### Combining Rows"
   ]
  },
  {
   "cell_type": "code",
   "execution_count": 193,
   "id": "0d57e451",
   "metadata": {},
   "outputs": [
    {
     "name": "stdout",
     "output_type": "stream",
     "text": [
      "+--------------------------------------------------------------+\n",
      "|Full Name                                                     |\n",
      "+--------------------------------------------------------------+\n",
      "|Bronx Hunts point FACTORIES                                   |\n",
      "|Bronx Bronxdale ONE FAMILY DWELLINGS                          |\n",
      "|Bronx Pelham parkway south RENTALS - WALKUP APARTMENTS        |\n",
      "|Bronx Throgs neck TWO FAMILY DWELLINGS                        |\n",
      "|Bronx Mott haven/port morris CONDOS - WALKUP APARTMENTS       |\n",
      "|Bronx Morrisania/longwood TAX CLASS 4 - OTHER                 |\n",
      "|Bronx Pelham parkway south COOPS - ELEVATOR APARTMENTS        |\n",
      "|Bronx Pelham parkway south COMMERCIAL GARAGES                 |\n",
      "|Bronx Country club TAX CLASS 1 VACANT LAND                    |\n",
      "|Bronx Bronx park WAREHOUSES                                   |\n",
      "|Bronx Fieldston TWO FAMILY HOMES                              |\n",
      "|Bronx Mott haven/port morris TAX CLASS 3 - UNTILITY PROPERTIES|\n",
      "|Bronx Pelham parkway north TAX CLASS 1 VACANT LAND            |\n",
      "|Bronx Morrisania/longwood EDUCATIONAL FACILITIES              |\n",
      "|Bronx Westchester THREE FAMILY HOMES                          |\n",
      "|Bronx Fordham ONE FAMILY DWELLINGS                            |\n",
      "|Bronx City island COMMERCIAL CONDOS                           |\n",
      "|Bronx Highbridge/morris heights TAX CLASS 1 VACANT LAND       |\n",
      "|Bronx Melrose/concourse STORE BUILDINGS                       |\n",
      "|Bronx Pelham gardens TWO FAMILY DWELLINGS                     |\n",
      "+--------------------------------------------------------------+\n",
      "only showing top 20 rows\n",
      "\n"
     ]
    }
   ],
   "source": [
    "def concat(x, y, z):\n",
    "    return x + ' ' + y + ' ' + z\n",
    "\n",
    "concat_col = udf(concat, StringType())\n",
    "\n",
    "FULLNameGroupSalesBronx20032019  = GroupSalesBronx20032019.withColumn(\"Full Name\",\n",
    "                                    concat_col(GroupSalesBronx20032019[\"Borough\"],\n",
    "                                               GroupSalesBronx20032019[\"Neighborhood\"],\n",
    "                                               GroupSalesBronx20032019[\"Building Class Category\"]))\n",
    "\n",
    "\n",
    "FULLNameGroupSalesBronx20032019 =FULLNameGroupSalesBronx20032019.select(\"Full Name\")\n",
    "FULLNameGroupSalesBronx20032019.show(truncate=False)"
   ]
  },
  {
   "cell_type": "markdown",
   "id": "bcf98f0d",
   "metadata": {},
   "source": [
    "####  Save DataFrame to Hive Table"
   ]
  },
  {
   "cell_type": "markdown",
   "id": "fd04c48a",
   "metadata": {},
   "source": [
    "##### Create Hive Interal Table"
   ]
  },
  {
   "cell_type": "code",
   "execution_count": 194,
   "id": "dcae5f20",
   "metadata": {},
   "outputs": [],
   "source": [
    "FULLNameGroupSalesBronx20032019.write.mode('overwrite').saveAsTable(\"BronxFullName\")"
   ]
  },
  {
   "cell_type": "markdown",
   "id": "1bc32410",
   "metadata": {},
   "source": [
    "##### Read Hive Table"
   ]
  },
  {
   "cell_type": "code",
   "execution_count": 195,
   "id": "c9551e72",
   "metadata": {},
   "outputs": [
    {
     "name": "stdout",
     "output_type": "stream",
     "text": [
      "+--------------------------------------------------------------+\n",
      "|Full Name                                                     |\n",
      "+--------------------------------------------------------------+\n",
      "|Bronx Hunts point FACTORIES                                   |\n",
      "|Bronx Bronxdale ONE FAMILY DWELLINGS                          |\n",
      "|Bronx Pelham parkway south RENTALS - WALKUP APARTMENTS        |\n",
      "|Bronx Throgs neck TWO FAMILY DWELLINGS                        |\n",
      "|Bronx Mott haven/port morris CONDOS - WALKUP APARTMENTS       |\n",
      "|Bronx Morrisania/longwood TAX CLASS 4 - OTHER                 |\n",
      "|Bronx Pelham parkway south COOPS - ELEVATOR APARTMENTS        |\n",
      "|Bronx Pelham parkway south COMMERCIAL GARAGES                 |\n",
      "|Bronx Country club TAX CLASS 1 VACANT LAND                    |\n",
      "|Bronx Bronx park WAREHOUSES                                   |\n",
      "|Bronx Fieldston TWO FAMILY HOMES                              |\n",
      "|Bronx Mott haven/port morris TAX CLASS 3 - UNTILITY PROPERTIES|\n",
      "|Bronx Pelham parkway north TAX CLASS 1 VACANT LAND            |\n",
      "|Bronx Morrisania/longwood EDUCATIONAL FACILITIES              |\n",
      "|Bronx Westchester THREE FAMILY HOMES                          |\n",
      "|Bronx Fordham ONE FAMILY DWELLINGS                            |\n",
      "|Bronx City island COMMERCIAL CONDOS                           |\n",
      "|Bronx Highbridge/morris heights TAX CLASS 1 VACANT LAND       |\n",
      "|Bronx Melrose/concourse STORE BUILDINGS                       |\n",
      "|Bronx Pelham gardens TWO FAMILY DWELLINGS                     |\n",
      "+--------------------------------------------------------------+\n",
      "only showing top 20 rows\n",
      "\n"
     ]
    }
   ],
   "source": [
    "HiveTable = spark.read.table(\"BronxFullName\")\n",
    "HiveTable.show(truncate=False)"
   ]
  },
  {
   "cell_type": "code",
   "execution_count": 196,
   "id": "c2518451",
   "metadata": {
    "scrolled": true
   },
   "outputs": [
    {
     "name": "stdout",
     "output_type": "stream",
     "text": [
      "+-------+-------------------------+---------------------------------+------------+\n",
      "|Borough|Neighborhood             |Building Class Category          |Sale Price  |\n",
      "+-------+-------------------------+---------------------------------+------------+\n",
      "|Bronx  |Hunts point              |FACTORIES                        |160928132.00|\n",
      "|Bronx  |Bronxdale                |ONE FAMILY DWELLINGS             |60936477.00 |\n",
      "|Bronx  |Pelham parkway south     |RENTALS - WALKUP APARTMENTS      |11315000.00 |\n",
      "|Bronx  |Throgs neck              |TWO FAMILY DWELLINGS             |165459847.00|\n",
      "|Bronx  |Mott haven/port morris   |CONDOS - WALKUP APARTMENTS       |5856158.00  |\n",
      "|Bronx  |Morrisania/longwood      |TAX CLASS 4 - OTHER              |13206743.00 |\n",
      "|Bronx  |Pelham parkway south     |COOPS - ELEVATOR APARTMENTS      |27169114.00 |\n",
      "|Bronx  |Pelham parkway south     |COMMERCIAL GARAGES               |2500000.00  |\n",
      "|Bronx  |Country club             |TAX CLASS 1 VACANT LAND          |1290000.00  |\n",
      "|Bronx  |Bronx park               |WAREHOUSES                       |4147667.00  |\n",
      "|Bronx  |Fieldston                |TWO FAMILY HOMES                 |9013860.00  |\n",
      "|Bronx  |Mott haven/port morris   |TAX CLASS 3 - UNTILITY PROPERTIES|1469893.00  |\n",
      "|Bronx  |Pelham parkway north     |TAX CLASS 1 VACANT LAND          |538000.00   |\n",
      "|Bronx  |Morrisania/longwood      |EDUCATIONAL FACILITIES           |0.00        |\n",
      "|Bronx  |Westchester              |THREE FAMILY HOMES               |92529144.00 |\n",
      "|Bronx  |Fordham                  |ONE FAMILY DWELLINGS             |5301230.00  |\n",
      "|Bronx  |City island              |COMMERCIAL CONDOS                |630000.00   |\n",
      "|Bronx  |Highbridge/morris heights|TAX CLASS 1 VACANT LAND          |57056810.00 |\n",
      "|Bronx  |Melrose/concourse        |STORE BUILDINGS                  |100761613.00|\n",
      "|Bronx  |Pelham gardens           |TWO FAMILY DWELLINGS             |23416730.00 |\n",
      "+-------+-------------------------+---------------------------------+------------+\n",
      "only showing top 20 rows\n",
      "\n"
     ]
    }
   ],
   "source": [
    "GroupSalesBronx20032019.show(truncate=False)"
   ]
  },
  {
   "cell_type": "markdown",
   "id": "cc1cdc42",
   "metadata": {},
   "source": [
    "#### Finding minimum and maximum Sale Price"
   ]
  },
  {
   "cell_type": "code",
   "execution_count": 197,
   "id": "40dffd7f",
   "metadata": {},
   "outputs": [],
   "source": [
    "MaxGroupSalesBronx20032019 = GroupSalesBronx20032019.agg({\"Sale Price\": \"max\"}).collect()[0][0]"
   ]
  },
  {
   "cell_type": "code",
   "execution_count": 198,
   "id": "d0491e48",
   "metadata": {},
   "outputs": [],
   "source": [
    "FGroupSalesBronx20032019 = GroupSalesBronx20032019.filter(GroupSalesBronx20032019['Sale Price'] > 0)\n",
    "MinGroupSalesBronx20032019 = FGroupSalesBronx20032019.agg({\"Sale Price\": \"min\"}).collect()[0][0]"
   ]
  },
  {
   "cell_type": "code",
   "execution_count": 199,
   "id": "fb9b48c0",
   "metadata": {},
   "outputs": [
    {
     "name": "stdout",
     "output_type": "stream",
     "text": [
      "+-------+------------+---------------------------+-------------+\n",
      "|Borough|Neighborhood|Building Class Category    |Sale Price   |\n",
      "+-------+------------+---------------------------+-------------+\n",
      "|Bronx  |Riverdale   |COOPS - ELEVATOR APARTMENTS|1491996676.00|\n",
      "|Bronx  |Co-op city  |ASYLUMS AND HOMES          |1.00         |\n",
      "+-------+------------+---------------------------+-------------+\n",
      "\n"
     ]
    }
   ],
   "source": [
    "MaxBronx = GroupSalesBronx20032019.filter(GroupSalesBronx20032019[\"Sale Price\"] == MaxGroupSalesBronx20032019)\n",
    "MinBronx = GroupSalesBronx20032019.filter(GroupSalesBronx20032019[\"Sale Price\"] == \n",
    "                               MinGroupSalesBronx20032019).limit(1)\n",
    "unionMaxMinBronx = MaxBronx.union(MinBronx)\n",
    "unionMaxMinBronx.show(truncate=False)"
   ]
  },
  {
   "cell_type": "markdown",
   "id": "777a3466",
   "metadata": {},
   "source": [
    "#### Pivoting Gross Square Feet"
   ]
  },
  {
   "cell_type": "code",
   "execution_count": 200,
   "id": "330d9bc2",
   "metadata": {},
   "outputs": [],
   "source": [
    "SelColGrossSquareFeetdfBronx20032019 = dfBronx20032019.select(\n",
    "                    CapitalizeStringUDF(col(\"Neighborhood\")).alias(\"Neighborhood\"),\n",
    "                    trim(RemoveTwoCharactersUDF(col(\"Building Class Category\"))).alias(\"Building Class Category\"),                                     \n",
    "                      \"Gross Square Feet\")\n",
    "\n"
   ]
  },
  {
   "cell_type": "code",
   "execution_count": 201,
   "id": "8000393b",
   "metadata": {},
   "outputs": [],
   "source": [
    "GroupingGSF = SelColGrossSquareFeetdfBronx20032019.groupBy(\"Neighborhood\",\"Building Class Category\").sum(\"Gross Square Feet\")"
   ]
  },
  {
   "cell_type": "code",
   "execution_count": 202,
   "id": "fd471dcd",
   "metadata": {},
   "outputs": [],
   "source": [
    "Neighborhood = [\"Fordham\",\"Riverdale\",\"Baychester\",\"Bronxdale\",\"Pelham gardens\",\"Co-op city\"]"
   ]
  },
  {
   "cell_type": "code",
   "execution_count": 203,
   "id": "e7b982e6",
   "metadata": {},
   "outputs": [],
   "source": [
    "PivotGSF = GroupingGSF.filter(GroupingGSF.Neighborhood.isin(Neighborhood))"
   ]
  },
  {
   "cell_type": "code",
   "execution_count": 204,
   "id": "7f306e3e",
   "metadata": {},
   "outputs": [
    {
     "name": "stdout",
     "output_type": "stream",
     "text": [
      "+------------------------------+----------+---------+----------+-------+--------------+---------+\n",
      "|       Building Class Category|Baychester|Bronxdale|Co-op city|Fordham|Pelham gardens|Riverdale|\n",
      "+------------------------------+----------+---------+----------+-------+--------------+---------+\n",
      "|     COOPS - WALKUP APARTMENTS|      null|        0|      null|      0|          null|        0|\n",
      "|           TAX CLASS 4 - OTHER|      1282|     null|      null|      0|          null|     null|\n",
      "|   RENTALS - WALKUP APARTMENTS|     89517|   256287|      null|1059435|          null|    31818|\n",
      "|        COMMERCIAL VACANT LAND|         0|        0|         0|      0|          null|        0|\n",
      "|         CONDO STORE BUILDINGS|      null|     null|      null|      0|          null|     null|\n",
      "|          TWO FAMILY DWELLINGS|   1365296|   845931|      1546| 191722|        164145|   176852|\n",
      "|        THREE FAMILY DWELLINGS|    597922|   359613|     14931|  66727|         18628|    67358|\n",
      "|       TAX CLASS 1 VACANT LAND|         0|    22826|      null|   1991|             0|        0|\n",
      "|              OFFICE BUILDINGS|     19462|    11164|      null|   3255|          null|    53909|\n",
      "| RENTALS - ELEVATOR APARTMENTS|     55331|   180609|      null| 469473|          null|   425075|\n",
      "|    CONDOS - WALKUP APARTMENTS|      null|     null|      null|   null|          null|        0|\n",
      "|                   CONDO COOPS|      null|     null|      null|   null|          null|        0|\n",
      "|                     FACTORIES|     23317|     null|      null|   null|          null|     null|\n",
      "|        CONDO OFFICE BUILDINGS|      null|     null|      null|      0|          null|        0|\n",
      "|            COMMERCIAL GARAGES|    108581|    10882|      6302|      0|          null|     null|\n",
      "|             ASYLUMS AND HOMES|      null|     null|      null|  18300|          null|   119235|\n",
      "|   COOPS - ELEVATOR APARTMENTS|         0|        0|      null|      0|          null|   682360|\n",
      "|                 CONDO PARKING|         0|     null|      null|   null|          null|     1235|\n",
      "|HOSPITAL AND HEALTH FACILITIES|      null|   488850|     78120|   null|          null|   135314|\n",
      "|            TAX CLASS 1 CONDOS|      1004|     null|      null|   null|          null|     null|\n",
      "|               STORE BUILDINGS|     95996|    43142|     10288| 384885|        451107|    10734|\n",
      "|           TAX CLASS 1 - OTHER|         0|        0|      null|   null|          null|        0|\n",
      "|           RENTALS - 4-10 UNIT|     14396|    53854|      null|   7370|          null|     4704|\n",
      "|  CONDOS - ELEVATOR APARTMENTS|      null|    13122|      null|   null|          null|    52469|\n",
      "|          ONE FAMILY DWELLINGS|    715824|   422216|      3867|  55254|        248535|   459918|\n",
      "|    SPECIAL CONDO BILLING LOTS|      null|     null|      null| 101673|          null|     null|\n",
      "|                    WAREHOUSES|    300215|     null|     52680|   null|          null|     null|\n",
      "|          RELIGIOUS FACILITIES|      3750|     4740|      null|  20570|          null|   281965|\n",
      "|        EDUCATIONAL FACILITIES|      null|     null|      null| 133600|          null|   237021|\n",
      "+------------------------------+----------+---------+----------+-------+--------------+---------+\n",
      "\n"
     ]
    }
   ],
   "source": [
    "PivotGSF.groupBy(\"Building Class Category\").pivot(\"Neighborhood\").sum(\"sum(Gross Square Feet)\").show(100,100)"
   ]
  },
  {
   "cell_type": "code",
   "execution_count": 205,
   "id": "49140d14",
   "metadata": {},
   "outputs": [],
   "source": [
    "ToPandas = PivotGSF.groupBy(\"Building Class Category\").pivot(\"Neighborhood\").sum(\"sum(Gross Square Feet)\")"
   ]
  },
  {
   "cell_type": "code",
   "execution_count": 206,
   "id": "0a0081c6",
   "metadata": {},
   "outputs": [
    {
     "name": "stdout",
     "output_type": "stream",
     "text": [
      "<class 'pyspark.pandas.frame.DataFrame'>\n"
     ]
    }
   ],
   "source": [
    "ToPandasAPI = ToPandas.pandas_api()\n",
    "print(type(ToPandasAPI))"
   ]
  },
  {
   "cell_type": "code",
   "execution_count": 207,
   "id": "749116f5",
   "metadata": {},
   "outputs": [
    {
     "data": {
      "text/html": [
       "<div>\n",
       "<style scoped>\n",
       "    .dataframe tbody tr th:only-of-type {\n",
       "        vertical-align: middle;\n",
       "    }\n",
       "\n",
       "    .dataframe tbody tr th {\n",
       "        vertical-align: top;\n",
       "    }\n",
       "\n",
       "    .dataframe thead th {\n",
       "        text-align: right;\n",
       "    }\n",
       "</style>\n",
       "<table border=\"1\" class=\"dataframe\">\n",
       "  <thead>\n",
       "    <tr style=\"text-align: right;\">\n",
       "      <th></th>\n",
       "      <th>Building Class Category</th>\n",
       "      <th>Baychester</th>\n",
       "      <th>Bronxdale</th>\n",
       "      <th>Co-op city</th>\n",
       "      <th>Fordham</th>\n",
       "      <th>Pelham gardens</th>\n",
       "      <th>Riverdale</th>\n",
       "    </tr>\n",
       "  </thead>\n",
       "  <tbody>\n",
       "    <tr>\n",
       "      <th>0</th>\n",
       "      <td>COOPS - WALKUP APARTMENTS</td>\n",
       "      <td>NaN</td>\n",
       "      <td>0.0</td>\n",
       "      <td>NaN</td>\n",
       "      <td>0.0</td>\n",
       "      <td>NaN</td>\n",
       "      <td>0.0</td>\n",
       "    </tr>\n",
       "    <tr>\n",
       "      <th>1</th>\n",
       "      <td>TAX CLASS 4 - OTHER</td>\n",
       "      <td>1282.0</td>\n",
       "      <td>NaN</td>\n",
       "      <td>NaN</td>\n",
       "      <td>0.0</td>\n",
       "      <td>NaN</td>\n",
       "      <td>NaN</td>\n",
       "    </tr>\n",
       "    <tr>\n",
       "      <th>2</th>\n",
       "      <td>RENTALS - WALKUP APARTMENTS</td>\n",
       "      <td>89517.0</td>\n",
       "      <td>256287.0</td>\n",
       "      <td>NaN</td>\n",
       "      <td>1059435.0</td>\n",
       "      <td>NaN</td>\n",
       "      <td>31818.0</td>\n",
       "    </tr>\n",
       "    <tr>\n",
       "      <th>3</th>\n",
       "      <td>COMMERCIAL VACANT LAND</td>\n",
       "      <td>0.0</td>\n",
       "      <td>0.0</td>\n",
       "      <td>0.0</td>\n",
       "      <td>0.0</td>\n",
       "      <td>NaN</td>\n",
       "      <td>0.0</td>\n",
       "    </tr>\n",
       "    <tr>\n",
       "      <th>4</th>\n",
       "      <td>CONDO STORE BUILDINGS</td>\n",
       "      <td>NaN</td>\n",
       "      <td>NaN</td>\n",
       "      <td>NaN</td>\n",
       "      <td>0.0</td>\n",
       "      <td>NaN</td>\n",
       "      <td>NaN</td>\n",
       "    </tr>\n",
       "    <tr>\n",
       "      <th>5</th>\n",
       "      <td>TWO FAMILY DWELLINGS</td>\n",
       "      <td>1365296.0</td>\n",
       "      <td>845931.0</td>\n",
       "      <td>1546.0</td>\n",
       "      <td>191722.0</td>\n",
       "      <td>164145.0</td>\n",
       "      <td>176852.0</td>\n",
       "    </tr>\n",
       "    <tr>\n",
       "      <th>6</th>\n",
       "      <td>THREE FAMILY DWELLINGS</td>\n",
       "      <td>597922.0</td>\n",
       "      <td>359613.0</td>\n",
       "      <td>14931.0</td>\n",
       "      <td>66727.0</td>\n",
       "      <td>18628.0</td>\n",
       "      <td>67358.0</td>\n",
       "    </tr>\n",
       "    <tr>\n",
       "      <th>7</th>\n",
       "      <td>TAX CLASS 1 VACANT LAND</td>\n",
       "      <td>0.0</td>\n",
       "      <td>22826.0</td>\n",
       "      <td>NaN</td>\n",
       "      <td>1991.0</td>\n",
       "      <td>0.0</td>\n",
       "      <td>0.0</td>\n",
       "    </tr>\n",
       "    <tr>\n",
       "      <th>8</th>\n",
       "      <td>OFFICE BUILDINGS</td>\n",
       "      <td>19462.0</td>\n",
       "      <td>11164.0</td>\n",
       "      <td>NaN</td>\n",
       "      <td>3255.0</td>\n",
       "      <td>NaN</td>\n",
       "      <td>53909.0</td>\n",
       "    </tr>\n",
       "    <tr>\n",
       "      <th>9</th>\n",
       "      <td>RENTALS - ELEVATOR APARTMENTS</td>\n",
       "      <td>55331.0</td>\n",
       "      <td>180609.0</td>\n",
       "      <td>NaN</td>\n",
       "      <td>469473.0</td>\n",
       "      <td>NaN</td>\n",
       "      <td>425075.0</td>\n",
       "    </tr>\n",
       "    <tr>\n",
       "      <th>10</th>\n",
       "      <td>CONDOS - WALKUP APARTMENTS</td>\n",
       "      <td>NaN</td>\n",
       "      <td>NaN</td>\n",
       "      <td>NaN</td>\n",
       "      <td>NaN</td>\n",
       "      <td>NaN</td>\n",
       "      <td>0.0</td>\n",
       "    </tr>\n",
       "    <tr>\n",
       "      <th>11</th>\n",
       "      <td>CONDO COOPS</td>\n",
       "      <td>NaN</td>\n",
       "      <td>NaN</td>\n",
       "      <td>NaN</td>\n",
       "      <td>NaN</td>\n",
       "      <td>NaN</td>\n",
       "      <td>0.0</td>\n",
       "    </tr>\n",
       "    <tr>\n",
       "      <th>12</th>\n",
       "      <td>FACTORIES</td>\n",
       "      <td>23317.0</td>\n",
       "      <td>NaN</td>\n",
       "      <td>NaN</td>\n",
       "      <td>NaN</td>\n",
       "      <td>NaN</td>\n",
       "      <td>NaN</td>\n",
       "    </tr>\n",
       "    <tr>\n",
       "      <th>13</th>\n",
       "      <td>CONDO OFFICE BUILDINGS</td>\n",
       "      <td>NaN</td>\n",
       "      <td>NaN</td>\n",
       "      <td>NaN</td>\n",
       "      <td>0.0</td>\n",
       "      <td>NaN</td>\n",
       "      <td>0.0</td>\n",
       "    </tr>\n",
       "    <tr>\n",
       "      <th>14</th>\n",
       "      <td>COMMERCIAL GARAGES</td>\n",
       "      <td>108581.0</td>\n",
       "      <td>10882.0</td>\n",
       "      <td>6302.0</td>\n",
       "      <td>0.0</td>\n",
       "      <td>NaN</td>\n",
       "      <td>NaN</td>\n",
       "    </tr>\n",
       "    <tr>\n",
       "      <th>15</th>\n",
       "      <td>ASYLUMS AND HOMES</td>\n",
       "      <td>NaN</td>\n",
       "      <td>NaN</td>\n",
       "      <td>NaN</td>\n",
       "      <td>18300.0</td>\n",
       "      <td>NaN</td>\n",
       "      <td>119235.0</td>\n",
       "    </tr>\n",
       "    <tr>\n",
       "      <th>16</th>\n",
       "      <td>COOPS - ELEVATOR APARTMENTS</td>\n",
       "      <td>0.0</td>\n",
       "      <td>0.0</td>\n",
       "      <td>NaN</td>\n",
       "      <td>0.0</td>\n",
       "      <td>NaN</td>\n",
       "      <td>682360.0</td>\n",
       "    </tr>\n",
       "    <tr>\n",
       "      <th>17</th>\n",
       "      <td>CONDO PARKING</td>\n",
       "      <td>0.0</td>\n",
       "      <td>NaN</td>\n",
       "      <td>NaN</td>\n",
       "      <td>NaN</td>\n",
       "      <td>NaN</td>\n",
       "      <td>1235.0</td>\n",
       "    </tr>\n",
       "    <tr>\n",
       "      <th>18</th>\n",
       "      <td>HOSPITAL AND HEALTH FACILITIES</td>\n",
       "      <td>NaN</td>\n",
       "      <td>488850.0</td>\n",
       "      <td>78120.0</td>\n",
       "      <td>NaN</td>\n",
       "      <td>NaN</td>\n",
       "      <td>135314.0</td>\n",
       "    </tr>\n",
       "    <tr>\n",
       "      <th>19</th>\n",
       "      <td>TAX CLASS 1 CONDOS</td>\n",
       "      <td>1004.0</td>\n",
       "      <td>NaN</td>\n",
       "      <td>NaN</td>\n",
       "      <td>NaN</td>\n",
       "      <td>NaN</td>\n",
       "      <td>NaN</td>\n",
       "    </tr>\n",
       "    <tr>\n",
       "      <th>20</th>\n",
       "      <td>STORE BUILDINGS</td>\n",
       "      <td>95996.0</td>\n",
       "      <td>43142.0</td>\n",
       "      <td>10288.0</td>\n",
       "      <td>384885.0</td>\n",
       "      <td>451107.0</td>\n",
       "      <td>10734.0</td>\n",
       "    </tr>\n",
       "    <tr>\n",
       "      <th>21</th>\n",
       "      <td>TAX CLASS 1 - OTHER</td>\n",
       "      <td>0.0</td>\n",
       "      <td>0.0</td>\n",
       "      <td>NaN</td>\n",
       "      <td>NaN</td>\n",
       "      <td>NaN</td>\n",
       "      <td>0.0</td>\n",
       "    </tr>\n",
       "    <tr>\n",
       "      <th>22</th>\n",
       "      <td>RENTALS - 4-10 UNIT</td>\n",
       "      <td>14396.0</td>\n",
       "      <td>53854.0</td>\n",
       "      <td>NaN</td>\n",
       "      <td>7370.0</td>\n",
       "      <td>NaN</td>\n",
       "      <td>4704.0</td>\n",
       "    </tr>\n",
       "    <tr>\n",
       "      <th>23</th>\n",
       "      <td>CONDOS - ELEVATOR APARTMENTS</td>\n",
       "      <td>NaN</td>\n",
       "      <td>13122.0</td>\n",
       "      <td>NaN</td>\n",
       "      <td>NaN</td>\n",
       "      <td>NaN</td>\n",
       "      <td>52469.0</td>\n",
       "    </tr>\n",
       "    <tr>\n",
       "      <th>24</th>\n",
       "      <td>ONE FAMILY DWELLINGS</td>\n",
       "      <td>715824.0</td>\n",
       "      <td>422216.0</td>\n",
       "      <td>3867.0</td>\n",
       "      <td>55254.0</td>\n",
       "      <td>248535.0</td>\n",
       "      <td>459918.0</td>\n",
       "    </tr>\n",
       "    <tr>\n",
       "      <th>25</th>\n",
       "      <td>SPECIAL CONDO BILLING LOTS</td>\n",
       "      <td>NaN</td>\n",
       "      <td>NaN</td>\n",
       "      <td>NaN</td>\n",
       "      <td>101673.0</td>\n",
       "      <td>NaN</td>\n",
       "      <td>NaN</td>\n",
       "    </tr>\n",
       "    <tr>\n",
       "      <th>26</th>\n",
       "      <td>WAREHOUSES</td>\n",
       "      <td>300215.0</td>\n",
       "      <td>NaN</td>\n",
       "      <td>52680.0</td>\n",
       "      <td>NaN</td>\n",
       "      <td>NaN</td>\n",
       "      <td>NaN</td>\n",
       "    </tr>\n",
       "    <tr>\n",
       "      <th>27</th>\n",
       "      <td>RELIGIOUS FACILITIES</td>\n",
       "      <td>3750.0</td>\n",
       "      <td>4740.0</td>\n",
       "      <td>NaN</td>\n",
       "      <td>20570.0</td>\n",
       "      <td>NaN</td>\n",
       "      <td>281965.0</td>\n",
       "    </tr>\n",
       "    <tr>\n",
       "      <th>28</th>\n",
       "      <td>EDUCATIONAL FACILITIES</td>\n",
       "      <td>NaN</td>\n",
       "      <td>NaN</td>\n",
       "      <td>NaN</td>\n",
       "      <td>133600.0</td>\n",
       "      <td>NaN</td>\n",
       "      <td>237021.0</td>\n",
       "    </tr>\n",
       "  </tbody>\n",
       "</table>\n",
       "</div>"
      ],
      "text/plain": [
       "           Building Class Category  Baychester  Bronxdale  Co-op city    Fordham  Pelham gardens  Riverdale\n",
       "0        COOPS - WALKUP APARTMENTS         NaN        0.0         NaN        0.0             NaN        0.0\n",
       "1              TAX CLASS 4 - OTHER      1282.0        NaN         NaN        0.0             NaN        NaN\n",
       "2      RENTALS - WALKUP APARTMENTS     89517.0   256287.0         NaN  1059435.0             NaN    31818.0\n",
       "3           COMMERCIAL VACANT LAND         0.0        0.0         0.0        0.0             NaN        0.0\n",
       "4            CONDO STORE BUILDINGS         NaN        NaN         NaN        0.0             NaN        NaN\n",
       "5             TWO FAMILY DWELLINGS   1365296.0   845931.0      1546.0   191722.0        164145.0   176852.0\n",
       "6           THREE FAMILY DWELLINGS    597922.0   359613.0     14931.0    66727.0         18628.0    67358.0\n",
       "7          TAX CLASS 1 VACANT LAND         0.0    22826.0         NaN     1991.0             0.0        0.0\n",
       "8                 OFFICE BUILDINGS     19462.0    11164.0         NaN     3255.0             NaN    53909.0\n",
       "9    RENTALS - ELEVATOR APARTMENTS     55331.0   180609.0         NaN   469473.0             NaN   425075.0\n",
       "10      CONDOS - WALKUP APARTMENTS         NaN        NaN         NaN        NaN             NaN        0.0\n",
       "11                     CONDO COOPS         NaN        NaN         NaN        NaN             NaN        0.0\n",
       "12                       FACTORIES     23317.0        NaN         NaN        NaN             NaN        NaN\n",
       "13          CONDO OFFICE BUILDINGS         NaN        NaN         NaN        0.0             NaN        0.0\n",
       "14              COMMERCIAL GARAGES    108581.0    10882.0      6302.0        0.0             NaN        NaN\n",
       "15               ASYLUMS AND HOMES         NaN        NaN         NaN    18300.0             NaN   119235.0\n",
       "16     COOPS - ELEVATOR APARTMENTS         0.0        0.0         NaN        0.0             NaN   682360.0\n",
       "17                   CONDO PARKING         0.0        NaN         NaN        NaN             NaN     1235.0\n",
       "18  HOSPITAL AND HEALTH FACILITIES         NaN   488850.0     78120.0        NaN             NaN   135314.0\n",
       "19              TAX CLASS 1 CONDOS      1004.0        NaN         NaN        NaN             NaN        NaN\n",
       "20                 STORE BUILDINGS     95996.0    43142.0     10288.0   384885.0        451107.0    10734.0\n",
       "21             TAX CLASS 1 - OTHER         0.0        0.0         NaN        NaN             NaN        0.0\n",
       "22             RENTALS - 4-10 UNIT     14396.0    53854.0         NaN     7370.0             NaN     4704.0\n",
       "23    CONDOS - ELEVATOR APARTMENTS         NaN    13122.0         NaN        NaN             NaN    52469.0\n",
       "24            ONE FAMILY DWELLINGS    715824.0   422216.0      3867.0    55254.0        248535.0   459918.0\n",
       "25      SPECIAL CONDO BILLING LOTS         NaN        NaN         NaN   101673.0             NaN        NaN\n",
       "26                      WAREHOUSES    300215.0        NaN     52680.0        NaN             NaN        NaN\n",
       "27            RELIGIOUS FACILITIES      3750.0     4740.0         NaN    20570.0             NaN   281965.0\n",
       "28          EDUCATIONAL FACILITIES         NaN        NaN         NaN   133600.0             NaN   237021.0"
      ]
     },
     "execution_count": 207,
     "metadata": {},
     "output_type": "execute_result"
    }
   ],
   "source": [
    "ToPandasAPI"
   ]
  },
  {
   "cell_type": "markdown",
   "id": "91ce27c4",
   "metadata": {},
   "source": [
    "##  dfBrooklyn20032019"
   ]
  },
  {
   "cell_type": "code",
   "execution_count": 208,
   "id": "c1b04ca7",
   "metadata": {},
   "outputs": [],
   "source": [
    "SelColdfBrooklyn20032019 = dfBrooklyn20032019.select(\"Borough\", \"Neighborhood\", \n",
    "                       \"Building Class Category\",\"Building Class At Present\",\n",
    "                      \"Sale Price\", \"Sale Date\")"
   ]
  },
  {
   "cell_type": "code",
   "execution_count": 209,
   "id": "86b99513",
   "metadata": {},
   "outputs": [
    {
     "data": {
      "text/plain": [
       "['Borough',\n",
       " 'Neighborhood',\n",
       " 'Building Class Category',\n",
       " 'Building Class At Present',\n",
       " 'Sale Price',\n",
       " 'Sale Date',\n",
       " 'Building Code',\n",
       " 'Description']"
      ]
     },
     "execution_count": 209,
     "metadata": {},
     "output_type": "execute_result"
    }
   ],
   "source": [
    "dfBrooklyn20032019BCD =  SelColdfBrooklyn20032019.join(BuildingClassification,\n",
    "                     SelColdfBrooklyn20032019[\"Building Class At Present\"] == BuildingClassification[\"Building Code\"], \"inner\") \n",
    "dfBrooklyn20032019BCD.columns "
   ]
  },
  {
   "cell_type": "code",
   "execution_count": 210,
   "id": "8a2c1949",
   "metadata": {},
   "outputs": [],
   "source": [
    "dfBrooklyn20032019BCD = dfBrooklyn20032019BCD.select('Borough',\n",
    " CapitalizeStringUDF(col(\"Neighborhood\")).alias(\"Neighborhood\"),\n",
    "trim(RemoveTwoCharactersUDF(col(\"Building Class Category\"))).alias(\"Building Class Category\"),\n",
    " 'Building Class At Present',\n",
    " 'Sale Price',\n",
    " 'Sale Date',\n",
    " 'Building Code',\n",
    " 'Description')"
   ]
  },
  {
   "cell_type": "code",
   "execution_count": 211,
   "id": "770aaec6",
   "metadata": {},
   "outputs": [
    {
     "name": "stdout",
     "output_type": "stream",
     "text": [
      "+--------+-------------------------+----------------------------+------------------------------------------+----------+\n",
      "|Borough |Neighborhood             |Building Class Category     |Description                               |Sale Price|\n",
      "+--------+-------------------------+----------------------------+------------------------------------------+----------+\n",
      "|Brooklyn|Bath beach               |TWO FAMILY HOMES            |PRIMARILY 2 FAMILY WITH 1 STORE OR OFFICE |0.00      |\n",
      "|Brooklyn|Bay ridge                |TWO FAMILY HOMES            |PRIMARILY 2 FAMILY WITH 1 STORE OR OFFICE |0.00      |\n",
      "|Brooklyn|Bay ridge                |TWO FAMILY HOMES            |THREE FAMILIES                            |0.00      |\n",
      "|Brooklyn|Bay ridge                |TAX CLASS 1 CONDOS          |CONDO; RESIDENTIAL UNIT IN 1-3 STORY BLDG.|410000.00 |\n",
      "|Brooklyn|Bay ridge                |COOPS - ELEVATOR APARTMENTS |ELEVATOR COOPERATIVE                      |85000.00  |\n",
      "|Brooklyn|Bay ridge                |COOPS - ELEVATOR APARTMENTS |ELEVATOR COOPERATIVE                      |165000.00 |\n",
      "|Brooklyn|Bay ridge                |CONDOS - ELEVATOR APARTMENTS|CONDO; RESIDENTIAL UNIT IN ELEVATOR BLDG. |405000.00 |\n",
      "|Brooklyn|Bay ridge                |STORE BUILDINGS             |ONE STORY RETAIL BUILDING                 |0.00      |\n",
      "|Brooklyn|Bedford stuyvesant       |TWO FAMILY HOMES            |TWO FAMILY CONVERTED FROM ONE FAMILY      |340000.00 |\n",
      "|Brooklyn|Bedford stuyvesant       |TWO FAMILY HOMES            |MISCELLANEOUS TWO FAMILY                  |0.00      |\n",
      "|Brooklyn|Bedford stuyvesant       |TWO FAMILY HOMES            |TWO FAMILY CONVERTED FROM ONE FAMILY      |0.00      |\n",
      "|Brooklyn|Bedford stuyvesant       |TWO FAMILY HOMES            |TWO FAMILY CONVERTED FROM ONE FAMILY      |0.00      |\n",
      "|Brooklyn|Bedford stuyvesant       |TWO FAMILY HOMES            |TWO FAMILY FRAME                          |293815.00 |\n",
      "|Brooklyn|Bedford stuyvesant       |TWO FAMILY HOMES            |TWO FAMILY CONVERTED FROM ONE FAMILY      |426000.00 |\n",
      "|Brooklyn|Bedford stuyvesant       |TWO FAMILY HOMES            |TWO FAMILY CONVERTED FROM ONE FAMILY      |220000.00 |\n",
      "|Brooklyn|Bedford stuyvesant       |TWO FAMILY HOMES            |THREE FAMILIES                            |420000.00 |\n",
      "|Brooklyn|Bedford stuyvesant       |TWO FAMILY HOMES            |FIVE TO SIX FAMILIES                      |375000.00 |\n",
      "|Brooklyn|Bedford stuyvesant       |THREE FAMILY HOMES          |THREE FAMILIES                            |15000.00  |\n",
      "|Brooklyn|Bedford stuyvesant       |RENTALS - WALKUP APARTMENTS |FOUR FAMILIES                             |315000.00 |\n",
      "|Brooklyn|Bedford stuyvesant       |CONDOS - ELEVATOR APARTMENTS|CONDO; RESIDENTIAL UNIT IN ELEVATOR BLDG. |263640.00 |\n",
      "+--------+-------------------------+----------------------------+------------------------------------------+----------+\n",
      "only showing top 20 rows\n",
      "\n"
     ]
    }
   ],
   "source": [
    "dfBrooklyn20032019BCD.select('Borough',\n",
    " 'Neighborhood',\n",
    " 'Building Class Category',\n",
    "'Description',\n",
    " 'Sale Price'\n",
    " ).show(truncate=False)"
   ]
  },
  {
   "cell_type": "markdown",
   "id": "70ac886d",
   "metadata": {},
   "source": [
    "### Calculating a few statistical methods"
   ]
  },
  {
   "cell_type": "code",
   "execution_count": 212,
   "id": "a14d8d3f",
   "metadata": {},
   "outputs": [
    {
     "name": "stdout",
     "output_type": "stream",
     "text": [
      "+-------------------------+-----------------+-----------------+--------------+--------------+\n",
      "|Neighborhood             |Sum Of Sale Price|Avg of Sale Price|Max Sale Price|Min Sale Price|\n",
      "+-------------------------+-----------------+-----------------+--------------+--------------+\n",
      "|Downtown-fulton ferry    |846858177.00     |2412701.358974   |91113000.00   |1.00          |\n",
      "|Ocean parkway-north      |1243970872.00    |1239014.812749   |20000000.00   |1.00          |\n",
      "|Mill basin               |1178333235.00    |1079059.739011   |276947000.00  |10.00         |\n",
      "|Coney island             |1679995482.00    |840417.949975    |95600000.00   |1.00          |\n",
      "|Flatbush-north           |562837875.00     |756502.520161    |25000000.00   |1.00          |\n",
      "|Clinton hill             |3236262406.00    |867630.671850    |60209050.00   |1.00          |\n",
      "|Williamsburg-north       |6672033651.00    |1678076.873994   |169000000.00  |1.00          |\n",
      "|Mill basin               |243031395.00     |1021140.315126   |10000000.00   |10.00         |\n",
      "|Bush terminal            |928818542.00     |1846557.737575   |91500000.00   |1.00          |\n",
      "|Flatlands                |934018817.00     |381232.170204    |20969565.00   |1.00          |\n",
      "|Navy yard                |545277267.00     |1764651.349515   |161000000.00  |1.00          |\n",
      "|Ocean parkway-south      |663404808.00     |1275778.476923   |18500000.00   |10.00         |\n",
      "|Brighton beach           |414492308.00     |651717.465409    |7572337.00    |1.00          |\n",
      "|Spring creek             |959282794.00     |7322769.419847   |869612895.00  |21.00         |\n",
      "|Bath beach               |1888889283.00    |646658.433071    |26196625.00   |1.00          |\n",
      "|Kensington               |487461680.00     |1740934.571429   |74700000.00   |1.00          |\n",
      "|Brownsville              |1347407993.00    |557471.242449    |98676252.00   |1.00          |\n",
      "|Seagate                  |261191201.00     |522382.402000    |3350000.00    |1.00          |\n",
      "|Gerritsen beach          |384221360.00     |366973.600764    |6600000.00    |1.00          |\n",
      "|Borough park             |2192662841.00    |1343543.407475   |37500000.00   |1.00          |\n",
      "+-------------------------+-----------------+-----------------+--------------+--------------+\n",
      "only showing top 20 rows\n",
      "\n"
     ]
    }
   ],
   "source": [
    "STATdfBrooklyn20032019BCD = dfBrooklyn20032019BCD.filter(dfBrooklyn20032019BCD[\"Sale Price\"] > 0)\n",
    "\n",
    "\n",
    "STATdfBrooklyn20032019BCD.groupBy(\"Neighborhood\") \\\n",
    "    .agg(sum(\"Sale Price\").alias(\"Sum Of Sale Price\"), \\\n",
    "         avg(\"Sale Price\").alias(\"Avg of Sale Price\"), \\\n",
    "         max(\"Sale Price\").alias(\"Max Sale Price\"), \\\n",
    "         min(\"Sale Price\").alias(\"Min Sale Price\") \\\n",
    "     ) \\\n",
    "    .show(truncate=False)"
   ]
  },
  {
   "cell_type": "markdown",
   "id": "f8ead914",
   "metadata": {},
   "source": [
    "### Grouping by Neighborhood, Building Class Category and Description"
   ]
  },
  {
   "cell_type": "code",
   "execution_count": 213,
   "id": "cdbbbd2b",
   "metadata": {},
   "outputs": [],
   "source": [
    "GroupingSalesBrooklyn20032019 = dfBrooklyn20032019BCD.groupBy('Borough',\n",
    "                                                     'Neighborhood',\n",
    "                                                     'Building Class Category',\n",
    "                                                     'Description').sum('Sale Price')"
   ]
  },
  {
   "cell_type": "code",
   "execution_count": 214,
   "id": "5bca7ee2",
   "metadata": {},
   "outputs": [
    {
     "name": "stdout",
     "output_type": "stream",
     "text": [
      "+--------+-------------------------+----------------------------+-----------------------------------+------------+\n",
      "| Borough|             Neighborhood|     Building Class Category|                        Description|  Sale Price|\n",
      "+--------+-------------------------+----------------------------+-----------------------------------+------------+\n",
      "|Brooklyn|Bushwick                 |            TWO FAMILY HOMES|                   TWO FAMILY BRICK|218060441.00|\n",
      "|Brooklyn|Gowanus                  |          COMMERCIAL GARAGES| AUTO BODY/COLLISION OR AUTO REPAIR| 14012825.00|\n",
      "|Brooklyn|Bay ridge                |        ONE FAMILY DWELLINGS|           MISCELLANEOUS ONE FAMILY| 40146240.00|\n",
      "|Brooklyn|Marine park              |        ONE FAMILY DWELLINGS|   TWO STORIES - DETACHED SM OR MID| 99030851.00|\n",
      "|Brooklyn|Williamsburg-north       |  CONDO NON-BUSINESS STORAGE|         NON-BUSINESS STORAGE SPACE|   316142.00|\n",
      "|Brooklyn|                 Bushwick|         RENTALS - 4-10 UNIT|PRIMARILY 4 FAMILY WITH 1 STORE ...| 31375030.00|\n",
      "|Brooklyn|      Ocean parkway-south|        ONE FAMILY DWELLINGS|   TWO STORIES - DETACHED SM OR MID|108390010.00|\n",
      "|Brooklyn|Williamsburg-north       |          TAX CLASS 1 CONDOS|CONDO; RESIDENTIAL UNIT IN ELEVA...|        0.00|\n",
      "|Brooklyn|Bushwick                 |        RELIGIOUS FACILITIES|   MISCELLANEOUS RELIGIOUS FACILITY|  9830010.00|\n",
      "|Brooklyn|Bath beach               |CONDOS - ELEVATOR APARTMENTS|CONDO; RESIDENTIAL UNIT IN ELEVA...| 22863309.00|\n",
      "+--------+-------------------------+----------------------------+-----------------------------------+------------+\n",
      "only showing top 10 rows\n",
      "\n"
     ]
    }
   ],
   "source": [
    "GroupingSalesBrooklyn20032019.select(\"Borough\", \n",
    "                                  \"Neighborhood\",\n",
    "                                  \"Building Class Category\",\n",
    "                                  \"Description\",\n",
    "                                  col(\"sum(Sale Price)\").alias(\"Sale Price\")).show(10,35)"
   ]
  },
  {
   "cell_type": "markdown",
   "id": "9f351fb5",
   "metadata": {},
   "source": [
    "### Grouping and perform analysis using window functions"
   ]
  },
  {
   "cell_type": "code",
   "execution_count": 215,
   "id": "7fdce948",
   "metadata": {},
   "outputs": [],
   "source": [
    "GroupSalesBrooklyn20032019 = dfBrooklyn20032019BCD.groupBy('Borough','Neighborhood','Building Class Category').sum('Sale Price')"
   ]
  },
  {
   "cell_type": "code",
   "execution_count": 216,
   "id": "864b7a04",
   "metadata": {},
   "outputs": [
    {
     "name": "stdout",
     "output_type": "stream",
     "text": [
      "+--------+------------------------+-----------------------------+------------+\n",
      "|Borough |Neighborhood            |Building Class Category      |Sale Price  |\n",
      "+--------+------------------------+-----------------------------+------------+\n",
      "|Brooklyn|Boerum hill             |RENTALS - WALKUP APARTMENTS  |238474535.00|\n",
      "|Brooklyn|Bushwick                |THREE FAMILY DWELLINGS       |315710003.00|\n",
      "|Brooklyn|Flatbush-central        |WAREHOUSES                   |44414476.00 |\n",
      "|Brooklyn|Bedford stuyvesant      |FACTORIES                    |206094436.00|\n",
      "|Brooklyn|Bensonhurst             |STORE BUILDINGS              |87163021.00 |\n",
      "|Brooklyn|Brownsville             |RELIGIOUS FACILITIES         |3347001.00  |\n",
      "|Brooklyn|Old mill basin          |EDUCATIONAL FACILITIES       |737900.00   |\n",
      "|Brooklyn|Canarsie                |RENTALS - ELEVATOR APARTMENTS|25300000.00 |\n",
      "|Brooklyn|Madison                 |COMMERCIAL CONDOS            |13842655.00 |\n",
      "|Brooklyn|Midwood                 |ONE FAMILY DWELLINGS         |357417491.00|\n",
      "|Brooklyn|Brighton beach          |CONDOS - ELEVATOR APARTMENTS |153389334.00|\n",
      "|Brooklyn|Dyker heights           |THREE FAMILY DWELLINGS       |68310656.00 |\n",
      "|Brooklyn|Sheepshead bay          |TWO FAMILY DWELLINGS         |299544240.00|\n",
      "|Brooklyn|Red hook                |TWO FAMILY HOMES             |65438637.00 |\n",
      "|Brooklyn|Windsor terrace         |TAX CLASS 1 VACANT LAND      |9928000.00  |\n",
      "|Brooklyn|Sheepshead bay          |THREE FAMILY DWELLINGS       |52509590.00 |\n",
      "|Brooklyn|Bergen beach            |THREE FAMILY DWELLINGS       |38368480.00 |\n",
      "|Brooklyn|Park slope south        |TAX CLASS 1 CONDOS           |57299217.00 |\n",
      "|Brooklyn|Flatbush-lefferts garden|CONDOS - ELEVATOR APARTMENTS |17304016.00 |\n",
      "|Brooklyn|Madison                 |COOPS - WALKUP APARTMENTS    |2181500.00  |\n",
      "+--------+------------------------+-----------------------------+------------+\n",
      "only showing top 20 rows\n",
      "\n"
     ]
    }
   ],
   "source": [
    "GroupSalesBrooklyn20032019 = GroupSalesBrooklyn20032019.select(\n",
    "                                'Borough',\n",
    "                               trim(col(\"Neighborhood\")).alias(\"Neighborhood\"),\n",
    "                                trim(col(\"Building Class Category\")).alias(\"Building Class Category\"),\n",
    "                               col('sum(Sale Price)').alias(\"Sale Price\"))\n",
    "                                \n",
    "GroupSalesBrooklyn20032019.show(truncate=False)"
   ]
  },
  {
   "cell_type": "code",
   "execution_count": 217,
   "id": "9b669f36",
   "metadata": {},
   "outputs": [],
   "source": [
    "windowSpec = Window.partitionBy(\"Neighborhood\").orderBy(desc(col(\"Sale Price\")))"
   ]
  },
  {
   "cell_type": "code",
   "execution_count": 218,
   "id": "11543f10",
   "metadata": {},
   "outputs": [
    {
     "name": "stdout",
     "output_type": "stream",
     "text": [
      "+--------+------------+-----------------------+------------+------------+\n",
      "| Borough|Neighborhood|Building Class Category|  Sale Price|RankingSales|\n",
      "+--------+------------+-----------------------+------------+------------+\n",
      "|Brooklyn|  Bath beach|       TWO FAMILY HOMES|414465225.00|           1|\n",
      "|Brooklyn|  Bath beach|   TWO FAMILY DWELLINGS|192314320.00|           2|\n",
      "|Brooklyn|  Bath beach|   TWO FAMILY DWELLINGS|177569356.00|           3|\n",
      "|Brooklyn|  Bath beach|     TAX CLASS 1 CONDOS|174878339.00|           4|\n",
      "|Brooklyn|  Bath beach|     THREE FAMILY HOMES|168595984.00|           5|\n",
      "|Brooklyn|  Bath beach|   RENTALS - WALKUP ...|165554101.00|           6|\n",
      "|Brooklyn|  Bath beach|        STORE BUILDINGS|111285825.00|           7|\n",
      "|Brooklyn|  Bath beach|       ONE FAMILY HOMES|108948388.00|           8|\n",
      "|Brooklyn|  Bath beach|   THREE FAMILY DWEL...|103288030.00|           9|\n",
      "|Brooklyn|  Bath beach|   RENTALS - ELEVATO...| 94181424.00|          10|\n",
      "|Brooklyn|  Bath beach|   THREE FAMILY DWEL...| 82690845.00|          11|\n",
      "|Brooklyn|  Bath beach|   COOPS - WALKUP AP...| 80944898.00|          12|\n",
      "|Brooklyn|  Bath beach|   ONE FAMILY DWELLINGS| 72160418.00|          13|\n",
      "|Brooklyn|  Bath beach|   ONE FAMILY DWELLINGS| 48841896.00|          14|\n",
      "|Brooklyn|  Bath beach|   RENTALS - WALKUP ...| 37173010.00|          15|\n",
      "|Brooklyn|  Bath beach|    RENTALS - 4-10 UNIT| 35733000.00|          16|\n",
      "|Brooklyn|  Bath beach|     TAX CLASS 1 CONDOS| 35727936.00|          17|\n",
      "|Brooklyn|  Bath beach|        STORE BUILDINGS| 25702500.00|          18|\n",
      "|Brooklyn|  Bath beach|   CONDOS - ELEVATOR...| 25622841.00|          19|\n",
      "|Brooklyn|  Bath beach|       OFFICE BUILDINGS| 23208212.00|          20|\n",
      "+--------+------------+-----------------------+------------+------------+\n",
      "only showing top 20 rows\n",
      "\n"
     ]
    }
   ],
   "source": [
    "RNGroupSalesBrooklyn20032019 = GroupSalesBrooklyn20032019.withColumn(\"RankingSales\", row_number().over(windowSpec))\n",
    "RNGroupSalesBrooklyn20032019.show()"
   ]
  },
  {
   "cell_type": "code",
   "execution_count": 219,
   "id": "b2383cd4",
   "metadata": {},
   "outputs": [
    {
     "name": "stdout",
     "output_type": "stream",
     "text": [
      "+--------+------------------------+------------------------------+-------------+------------+\n",
      "| Borough|            Neighborhood|       Building Class Category|   Sale Price|RankingSales|\n",
      "+--------+------------------------+------------------------------+-------------+------------+\n",
      "|Brooklyn|              Bath beach|              TWO FAMILY HOMES| 414465225.00|           1|\n",
      "|Brooklyn|               Bay ridge|              TWO FAMILY HOMES| 907319519.00|           1|\n",
      "|Brooklyn|      Bedford stuyvesant|              TWO FAMILY HOMES|1829568058.00|           1|\n",
      "|Brooklyn|             Bensonhurst|              TWO FAMILY HOMES| 907332227.00|           1|\n",
      "|Brooklyn|            Bergen beach|              ONE FAMILY HOMES| 269636553.00|           1|\n",
      "|Brooklyn|             Boerum hill|  CONDOS - ELEVATOR APARTMENTS| 255093318.00|           1|\n",
      "|Brooklyn|            Borough park|              TWO FAMILY HOMES|1320730714.00|           1|\n",
      "|Brooklyn|          Brighton beach|  CONDOS - ELEVATOR APARTMENTS|1022872985.00|           1|\n",
      "|Brooklyn|        Brooklyn heights|   COOPS - ELEVATOR APARTMENTS|1562772134.00|           1|\n",
      "|Brooklyn|        Brooklyn-unknown|              OFFICE BUILDINGS|  90000000.00|           1|\n",
      "|Brooklyn|             Brownsville|   RENTALS - WALKUP APARTMENTS| 393727965.00|           1|\n",
      "|Brooklyn|           Bush terminal|                    WAREHOUSES| 372015010.00|           1|\n",
      "|Brooklyn|                Bushwick|   RENTALS - WALKUP APARTMENTS|1170011306.00|           1|\n",
      "|Brooklyn|                Canarsie|              TWO FAMILY HOMES|1472129255.00|           1|\n",
      "|Brooklyn|         Carroll gardens|   RENTALS - WALKUP APARTMENTS| 478699600.00|           1|\n",
      "|Brooklyn|            Clinton hill|   COOPS - ELEVATOR APARTMENTS| 555933503.00|           1|\n",
      "|Brooklyn|             Cobble hill|HOSPITAL AND HEALTH FACILITIES| 254810000.00|           1|\n",
      "|Brooklyn|        Cobble hill-west|  CONDOS - ELEVATOR APARTMENTS| 277008830.00|           1|\n",
      "|Brooklyn|            Coney island| RENTALS - ELEVATOR APARTMENTS| 334710577.00|           1|\n",
      "|Brooklyn|           Crown heights|   RENTALS - WALKUP APARTMENTS|1705353647.00|           1|\n",
      "|Brooklyn|           Cypress hills|              TWO FAMILY HOMES| 710459456.00|           1|\n",
      "|Brooklyn|   Downtown-fulton ferry|  CONDOS - ELEVATOR APARTMENTS|2182070544.00|           1|\n",
      "|Brooklyn|    Downtown-fulton mall|  CONDOS - ELEVATOR APARTMENTS| 794496650.00|           1|\n",
      "|Brooklyn|      Downtown-metrotech|  CONDOS - ELEVATOR APARTMENTS| 775057120.00|           1|\n",
      "|Brooklyn|           Dyker heights|              TWO FAMILY HOMES| 469251428.00|           1|\n",
      "|Brooklyn|           East new york|              TWO FAMILY HOMES|1542757576.00|           1|\n",
      "|Brooklyn|        Flatbush-central| RENTALS - ELEVATOR APARTMENTS|1600885390.00|           1|\n",
      "|Brooklyn|           Flatbush-east|              ONE FAMILY HOMES| 804309186.00|           1|\n",
      "|Brooklyn|Flatbush-lefferts garden| RENTALS - ELEVATOR APARTMENTS| 460542396.00|           1|\n",
      "|Brooklyn|          Flatbush-north| RENTALS - ELEVATOR APARTMENTS| 598037291.00|           1|\n",
      "|Brooklyn|               Flatlands|              TWO FAMILY HOMES| 287016005.00|           1|\n",
      "|Brooklyn|             Fort greene|  CONDOS - ELEVATOR APARTMENTS| 596060074.00|           1|\n",
      "|Brooklyn|         Gerritsen beach|              ONE FAMILY HOMES| 205552995.00|           1|\n",
      "|Brooklyn|                 Gowanus|  CONDOS - ELEVATOR APARTMENTS|1264409145.00|           1|\n",
      "|Brooklyn|               Gravesend|              TWO FAMILY HOMES| 832198564.00|           1|\n",
      "|Brooklyn|              Greenpoint|  CONDOS - ELEVATOR APARTMENTS| 617120056.00|           1|\n",
      "|Brooklyn|             Jamaica bay|               STORE BUILDINGS|  14150000.00|           1|\n",
      "|Brooklyn|              Kensington|   COOPS - ELEVATOR APARTMENTS| 293348339.00|           1|\n",
      "|Brooklyn|                 Madison|              ONE FAMILY HOMES| 538875616.00|           1|\n",
      "|Brooklyn|         Manhattan beach|              ONE FAMILY HOMES| 292709194.00|           1|\n",
      "|Brooklyn|             Marine park|              ONE FAMILY HOMES| 657615669.00|           1|\n",
      "|Brooklyn|                 Midwood|              ONE FAMILY HOMES| 704070720.00|           1|\n",
      "|Brooklyn|              Mill basin|              ONE FAMILY HOMES| 415644942.00|           1|\n",
      "|Brooklyn|               Navy yard|                    WAREHOUSES| 275193089.00|           1|\n",
      "|Brooklyn|              Ocean hill|              TWO FAMILY HOMES| 639591179.00|           1|\n",
      "|Brooklyn|     Ocean parkway-north|              ONE FAMILY HOMES| 596299893.00|           1|\n",
      "|Brooklyn|     Ocean parkway-south|              TWO FAMILY HOMES| 552507355.00|           1|\n",
      "|Brooklyn|          Old mill basin|              ONE FAMILY HOMES| 377135104.00|           1|\n",
      "|Brooklyn|              Park slope|     COOPS - WALKUP APARTMENTS|1460156735.00|           1|\n",
      "|Brooklyn|        Park slope south|              TWO FAMILY HOMES| 342722071.00|           1|\n",
      "|Brooklyn|        Prospect heights|   COOPS - ELEVATOR APARTMENTS| 565950836.00|           1|\n",
      "|Brooklyn|                Red hook|            COMMERCIAL GARAGES| 398586049.00|           1|\n",
      "|Brooklyn|                 Seagate|              TWO FAMILY HOMES|  72152040.00|           1|\n",
      "|Brooklyn|          Sheepshead bay|              TWO FAMILY HOMES| 612242908.00|           1|\n",
      "|Brooklyn|            Spring creek| RENTALS - ELEVATOR APARTMENTS| 869612895.00|           1|\n",
      "|Brooklyn|             Sunset park|              TWO FAMILY HOMES|1058517467.00|           1|\n",
      "|Brooklyn|    Williamsburg-central|  CONDOS - ELEVATOR APARTMENTS| 377846227.00|           1|\n",
      "|Brooklyn|       Williamsburg-east|   RENTALS - WALKUP APARTMENTS| 686504750.00|           1|\n",
      "|Brooklyn|      Williamsburg-north|  CONDOS - ELEVATOR APARTMENTS|2413396614.00|           1|\n",
      "|Brooklyn|      Williamsburg-south|  CONDOS - ELEVATOR APARTMENTS|1120612487.00|           1|\n",
      "|Brooklyn|         Windsor terrace|              TWO FAMILY HOMES| 254821496.00|           1|\n",
      "|Brooklyn|         Wyckoff heights|   RENTALS - WALKUP APARTMENTS| 255391449.00|           1|\n",
      "+--------+------------------------+------------------------------+-------------+------------+\n",
      "\n"
     ]
    }
   ],
   "source": [
    "RNGroupSalesBrooklyn20032019.filter(RNGroupSalesBrooklyn20032019[\"RankingSales\"] ==1).show(100,30)"
   ]
  },
  {
   "cell_type": "code",
   "execution_count": 220,
   "id": "8df3c4c0",
   "metadata": {},
   "outputs": [
    {
     "name": "stdout",
     "output_type": "stream",
     "text": [
      "+--------+------------+-----------------------+------------+-------+\n",
      "| Borough|Neighborhood|Building Class Category|  Sale Price|Ranking|\n",
      "+--------+------------+-----------------------+------------+-------+\n",
      "|Brooklyn|  Bath beach|       TWO FAMILY HOMES|414465225.00|      1|\n",
      "|Brooklyn|  Bath beach|   TWO FAMILY DWELLINGS|192314320.00|      2|\n",
      "|Brooklyn|  Bath beach|   TWO FAMILY DWELLINGS|177569356.00|      3|\n",
      "|Brooklyn|  Bath beach|     TAX CLASS 1 CONDOS|174878339.00|      4|\n",
      "|Brooklyn|  Bath beach|     THREE FAMILY HOMES|168595984.00|      5|\n",
      "|Brooklyn|  Bath beach|   RENTALS - WALKUP ...|165554101.00|      6|\n",
      "|Brooklyn|  Bath beach|        STORE BUILDINGS|111285825.00|      7|\n",
      "|Brooklyn|  Bath beach|       ONE FAMILY HOMES|108948388.00|      8|\n",
      "|Brooklyn|  Bath beach|   THREE FAMILY DWEL...|103288030.00|      9|\n",
      "|Brooklyn|  Bath beach|   RENTALS - ELEVATO...| 94181424.00|     10|\n",
      "|Brooklyn|  Bath beach|   THREE FAMILY DWEL...| 82690845.00|     11|\n",
      "|Brooklyn|  Bath beach|   COOPS - WALKUP AP...| 80944898.00|     12|\n",
      "|Brooklyn|  Bath beach|   ONE FAMILY DWELLINGS| 72160418.00|     13|\n",
      "|Brooklyn|  Bath beach|   ONE FAMILY DWELLINGS| 48841896.00|     14|\n",
      "|Brooklyn|  Bath beach|   RENTALS - WALKUP ...| 37173010.00|     15|\n",
      "|Brooklyn|  Bath beach|    RENTALS - 4-10 UNIT| 35733000.00|     16|\n",
      "|Brooklyn|  Bath beach|     TAX CLASS 1 CONDOS| 35727936.00|     17|\n",
      "|Brooklyn|  Bath beach|        STORE BUILDINGS| 25702500.00|     18|\n",
      "|Brooklyn|  Bath beach|   CONDOS - ELEVATOR...| 25622841.00|     19|\n",
      "|Brooklyn|  Bath beach|       OFFICE BUILDINGS| 23208212.00|     20|\n",
      "+--------+------------+-----------------------+------------+-------+\n",
      "only showing top 20 rows\n",
      "\n"
     ]
    }
   ],
   "source": [
    "RANKGroupSalesBrooklyn20032019 = GroupSalesBrooklyn20032019.withColumn(\"Ranking\", rank().over(windowSpec))\n",
    "RANKGroupSalesBrooklyn20032019.show()"
   ]
  },
  {
   "cell_type": "code",
   "execution_count": 221,
   "id": "60ff2109",
   "metadata": {},
   "outputs": [
    {
     "name": "stdout",
     "output_type": "stream",
     "text": [
      "+--------+------------------------+------------------------------+-------------+-------+\n",
      "| Borough|            Neighborhood|       Building Class Category|   Sale Price|Ranking|\n",
      "+--------+------------------------+------------------------------+-------------+-------+\n",
      "|Brooklyn|              Bath beach|              TWO FAMILY HOMES| 414465225.00|      1|\n",
      "|Brooklyn|               Bay ridge|              TWO FAMILY HOMES| 907319519.00|      1|\n",
      "|Brooklyn|      Bedford stuyvesant|              TWO FAMILY HOMES|1829568058.00|      1|\n",
      "|Brooklyn|             Bensonhurst|              TWO FAMILY HOMES| 907332227.00|      1|\n",
      "|Brooklyn|            Bergen beach|              ONE FAMILY HOMES| 269636553.00|      1|\n",
      "|Brooklyn|             Boerum hill|  CONDOS - ELEVATOR APARTMENTS| 255093318.00|      1|\n",
      "|Brooklyn|            Borough park|              TWO FAMILY HOMES|1320730714.00|      1|\n",
      "|Brooklyn|          Brighton beach|  CONDOS - ELEVATOR APARTMENTS|1022872985.00|      1|\n",
      "|Brooklyn|        Brooklyn heights|   COOPS - ELEVATOR APARTMENTS|1562772134.00|      1|\n",
      "|Brooklyn|        Brooklyn-unknown|              OFFICE BUILDINGS|  90000000.00|      1|\n",
      "|Brooklyn|             Brownsville|   RENTALS - WALKUP APARTMENTS| 393727965.00|      1|\n",
      "|Brooklyn|           Bush terminal|                    WAREHOUSES| 372015010.00|      1|\n",
      "|Brooklyn|                Bushwick|   RENTALS - WALKUP APARTMENTS|1170011306.00|      1|\n",
      "|Brooklyn|                Canarsie|              TWO FAMILY HOMES|1472129255.00|      1|\n",
      "|Brooklyn|         Carroll gardens|   RENTALS - WALKUP APARTMENTS| 478699600.00|      1|\n",
      "|Brooklyn|            Clinton hill|   COOPS - ELEVATOR APARTMENTS| 555933503.00|      1|\n",
      "|Brooklyn|             Cobble hill|HOSPITAL AND HEALTH FACILITIES| 254810000.00|      1|\n",
      "|Brooklyn|        Cobble hill-west|  CONDOS - ELEVATOR APARTMENTS| 277008830.00|      1|\n",
      "|Brooklyn|            Coney island| RENTALS - ELEVATOR APARTMENTS| 334710577.00|      1|\n",
      "|Brooklyn|           Crown heights|   RENTALS - WALKUP APARTMENTS|1705353647.00|      1|\n",
      "|Brooklyn|           Cypress hills|              TWO FAMILY HOMES| 710459456.00|      1|\n",
      "|Brooklyn|   Downtown-fulton ferry|  CONDOS - ELEVATOR APARTMENTS|2182070544.00|      1|\n",
      "|Brooklyn|    Downtown-fulton mall|  CONDOS - ELEVATOR APARTMENTS| 794496650.00|      1|\n",
      "|Brooklyn|      Downtown-metrotech|  CONDOS - ELEVATOR APARTMENTS| 775057120.00|      1|\n",
      "|Brooklyn|           Dyker heights|              TWO FAMILY HOMES| 469251428.00|      1|\n",
      "|Brooklyn|           East new york|              TWO FAMILY HOMES|1542757576.00|      1|\n",
      "|Brooklyn|        Flatbush-central| RENTALS - ELEVATOR APARTMENTS|1600885390.00|      1|\n",
      "|Brooklyn|           Flatbush-east|              ONE FAMILY HOMES| 804309186.00|      1|\n",
      "|Brooklyn|Flatbush-lefferts garden| RENTALS - ELEVATOR APARTMENTS| 460542396.00|      1|\n",
      "|Brooklyn|          Flatbush-north| RENTALS - ELEVATOR APARTMENTS| 598037291.00|      1|\n",
      "|Brooklyn|               Flatlands|              TWO FAMILY HOMES| 287016005.00|      1|\n",
      "|Brooklyn|             Fort greene|  CONDOS - ELEVATOR APARTMENTS| 596060074.00|      1|\n",
      "|Brooklyn|         Gerritsen beach|              ONE FAMILY HOMES| 205552995.00|      1|\n",
      "|Brooklyn|                 Gowanus|  CONDOS - ELEVATOR APARTMENTS|1264409145.00|      1|\n",
      "|Brooklyn|               Gravesend|              TWO FAMILY HOMES| 832198564.00|      1|\n",
      "|Brooklyn|              Greenpoint|  CONDOS - ELEVATOR APARTMENTS| 617120056.00|      1|\n",
      "|Brooklyn|             Jamaica bay|               STORE BUILDINGS|  14150000.00|      1|\n",
      "|Brooklyn|              Kensington|   COOPS - ELEVATOR APARTMENTS| 293348339.00|      1|\n",
      "|Brooklyn|                 Madison|              ONE FAMILY HOMES| 538875616.00|      1|\n",
      "|Brooklyn|         Manhattan beach|              ONE FAMILY HOMES| 292709194.00|      1|\n",
      "|Brooklyn|             Marine park|              ONE FAMILY HOMES| 657615669.00|      1|\n",
      "|Brooklyn|                 Midwood|              ONE FAMILY HOMES| 704070720.00|      1|\n",
      "|Brooklyn|              Mill basin|              ONE FAMILY HOMES| 415644942.00|      1|\n",
      "|Brooklyn|               Navy yard|                    WAREHOUSES| 275193089.00|      1|\n",
      "|Brooklyn|              Ocean hill|              TWO FAMILY HOMES| 639591179.00|      1|\n",
      "|Brooklyn|     Ocean parkway-north|              ONE FAMILY HOMES| 596299893.00|      1|\n",
      "|Brooklyn|     Ocean parkway-south|              TWO FAMILY HOMES| 552507355.00|      1|\n",
      "|Brooklyn|          Old mill basin|              ONE FAMILY HOMES| 377135104.00|      1|\n",
      "|Brooklyn|              Park slope|     COOPS - WALKUP APARTMENTS|1460156735.00|      1|\n",
      "|Brooklyn|        Park slope south|              TWO FAMILY HOMES| 342722071.00|      1|\n",
      "|Brooklyn|        Prospect heights|   COOPS - ELEVATOR APARTMENTS| 565950836.00|      1|\n",
      "|Brooklyn|                Red hook|            COMMERCIAL GARAGES| 398586049.00|      1|\n",
      "|Brooklyn|                 Seagate|              TWO FAMILY HOMES|  72152040.00|      1|\n",
      "|Brooklyn|          Sheepshead bay|              TWO FAMILY HOMES| 612242908.00|      1|\n",
      "|Brooklyn|            Spring creek| RENTALS - ELEVATOR APARTMENTS| 869612895.00|      1|\n",
      "|Brooklyn|             Sunset park|              TWO FAMILY HOMES|1058517467.00|      1|\n",
      "|Brooklyn|    Williamsburg-central|  CONDOS - ELEVATOR APARTMENTS| 377846227.00|      1|\n",
      "|Brooklyn|       Williamsburg-east|   RENTALS - WALKUP APARTMENTS| 686504750.00|      1|\n",
      "|Brooklyn|      Williamsburg-north|  CONDOS - ELEVATOR APARTMENTS|2413396614.00|      1|\n",
      "|Brooklyn|      Williamsburg-south|  CONDOS - ELEVATOR APARTMENTS|1120612487.00|      1|\n",
      "|Brooklyn|         Windsor terrace|              TWO FAMILY HOMES| 254821496.00|      1|\n",
      "|Brooklyn|         Wyckoff heights|   RENTALS - WALKUP APARTMENTS| 255391449.00|      1|\n",
      "+--------+------------------------+------------------------------+-------------+-------+\n",
      "\n"
     ]
    }
   ],
   "source": [
    "RANKGroupSalesBrooklyn20032019.filter(RANKGroupSalesBrooklyn20032019[\"Ranking\"] ==1).show(100,30)"
   ]
  },
  {
   "cell_type": "code",
   "execution_count": 222,
   "id": "03886951",
   "metadata": {},
   "outputs": [
    {
     "name": "stdout",
     "output_type": "stream",
     "text": [
      "+--------+------------+-----------------------+------------+---------+\n",
      "| Borough|Neighborhood|Building Class Category|  Sale Price|DenseRank|\n",
      "+--------+------------+-----------------------+------------+---------+\n",
      "|Brooklyn|  Bath beach|       TWO FAMILY HOMES|414465225.00|        1|\n",
      "|Brooklyn|  Bath beach|   TWO FAMILY DWELLINGS|192314320.00|        2|\n",
      "|Brooklyn|  Bath beach|   TWO FAMILY DWELLINGS|177569356.00|        3|\n",
      "|Brooklyn|  Bath beach|     TAX CLASS 1 CONDOS|174878339.00|        4|\n",
      "|Brooklyn|  Bath beach|     THREE FAMILY HOMES|168595984.00|        5|\n",
      "|Brooklyn|  Bath beach|   RENTALS - WALKUP ...|165554101.00|        6|\n",
      "|Brooklyn|  Bath beach|        STORE BUILDINGS|111285825.00|        7|\n",
      "|Brooklyn|  Bath beach|       ONE FAMILY HOMES|108948388.00|        8|\n",
      "|Brooklyn|  Bath beach|   THREE FAMILY DWEL...|103288030.00|        9|\n",
      "|Brooklyn|  Bath beach|   RENTALS - ELEVATO...| 94181424.00|       10|\n",
      "|Brooklyn|  Bath beach|   THREE FAMILY DWEL...| 82690845.00|       11|\n",
      "|Brooklyn|  Bath beach|   COOPS - WALKUP AP...| 80944898.00|       12|\n",
      "|Brooklyn|  Bath beach|   ONE FAMILY DWELLINGS| 72160418.00|       13|\n",
      "|Brooklyn|  Bath beach|   ONE FAMILY DWELLINGS| 48841896.00|       14|\n",
      "|Brooklyn|  Bath beach|   RENTALS - WALKUP ...| 37173010.00|       15|\n",
      "|Brooklyn|  Bath beach|    RENTALS - 4-10 UNIT| 35733000.00|       16|\n",
      "|Brooklyn|  Bath beach|     TAX CLASS 1 CONDOS| 35727936.00|       17|\n",
      "|Brooklyn|  Bath beach|        STORE BUILDINGS| 25702500.00|       18|\n",
      "|Brooklyn|  Bath beach|   CONDOS - ELEVATOR...| 25622841.00|       19|\n",
      "|Brooklyn|  Bath beach|       OFFICE BUILDINGS| 23208212.00|       20|\n",
      "+--------+------------+-----------------------+------------+---------+\n",
      "only showing top 20 rows\n",
      "\n"
     ]
    }
   ],
   "source": [
    "DENSERANKGroupSalesBrooklyn20032019 = GroupSalesBrooklyn20032019.withColumn(\"DenseRank\", dense_rank().over(windowSpec))\n",
    "DENSERANKGroupSalesBrooklyn20032019.show()"
   ]
  },
  {
   "cell_type": "code",
   "execution_count": 223,
   "id": "14dbcc22",
   "metadata": {},
   "outputs": [
    {
     "name": "stdout",
     "output_type": "stream",
     "text": [
      "+--------+------------------------+------------------------------+-------------+---------+\n",
      "| Borough|            Neighborhood|       Building Class Category|   Sale Price|DenseRank|\n",
      "+--------+------------------------+------------------------------+-------------+---------+\n",
      "|Brooklyn|              Bath beach|              TWO FAMILY HOMES| 414465225.00|        1|\n",
      "|Brooklyn|               Bay ridge|              TWO FAMILY HOMES| 907319519.00|        1|\n",
      "|Brooklyn|      Bedford stuyvesant|              TWO FAMILY HOMES|1829568058.00|        1|\n",
      "|Brooklyn|             Bensonhurst|              TWO FAMILY HOMES| 907332227.00|        1|\n",
      "|Brooklyn|            Bergen beach|              ONE FAMILY HOMES| 269636553.00|        1|\n",
      "|Brooklyn|             Boerum hill|  CONDOS - ELEVATOR APARTMENTS| 255093318.00|        1|\n",
      "|Brooklyn|            Borough park|              TWO FAMILY HOMES|1320730714.00|        1|\n",
      "|Brooklyn|          Brighton beach|  CONDOS - ELEVATOR APARTMENTS|1022872985.00|        1|\n",
      "|Brooklyn|        Brooklyn heights|   COOPS - ELEVATOR APARTMENTS|1562772134.00|        1|\n",
      "|Brooklyn|        Brooklyn-unknown|              OFFICE BUILDINGS|  90000000.00|        1|\n",
      "|Brooklyn|             Brownsville|   RENTALS - WALKUP APARTMENTS| 393727965.00|        1|\n",
      "|Brooklyn|           Bush terminal|                    WAREHOUSES| 372015010.00|        1|\n",
      "|Brooklyn|                Bushwick|   RENTALS - WALKUP APARTMENTS|1170011306.00|        1|\n",
      "|Brooklyn|                Canarsie|              TWO FAMILY HOMES|1472129255.00|        1|\n",
      "|Brooklyn|         Carroll gardens|   RENTALS - WALKUP APARTMENTS| 478699600.00|        1|\n",
      "|Brooklyn|            Clinton hill|   COOPS - ELEVATOR APARTMENTS| 555933503.00|        1|\n",
      "|Brooklyn|             Cobble hill|HOSPITAL AND HEALTH FACILITIES| 254810000.00|        1|\n",
      "|Brooklyn|        Cobble hill-west|  CONDOS - ELEVATOR APARTMENTS| 277008830.00|        1|\n",
      "|Brooklyn|            Coney island| RENTALS - ELEVATOR APARTMENTS| 334710577.00|        1|\n",
      "|Brooklyn|           Crown heights|   RENTALS - WALKUP APARTMENTS|1705353647.00|        1|\n",
      "|Brooklyn|           Cypress hills|              TWO FAMILY HOMES| 710459456.00|        1|\n",
      "|Brooklyn|   Downtown-fulton ferry|  CONDOS - ELEVATOR APARTMENTS|2182070544.00|        1|\n",
      "|Brooklyn|    Downtown-fulton mall|  CONDOS - ELEVATOR APARTMENTS| 794496650.00|        1|\n",
      "|Brooklyn|      Downtown-metrotech|  CONDOS - ELEVATOR APARTMENTS| 775057120.00|        1|\n",
      "|Brooklyn|           Dyker heights|              TWO FAMILY HOMES| 469251428.00|        1|\n",
      "|Brooklyn|           East new york|              TWO FAMILY HOMES|1542757576.00|        1|\n",
      "|Brooklyn|        Flatbush-central| RENTALS - ELEVATOR APARTMENTS|1600885390.00|        1|\n",
      "|Brooklyn|           Flatbush-east|              ONE FAMILY HOMES| 804309186.00|        1|\n",
      "|Brooklyn|Flatbush-lefferts garden| RENTALS - ELEVATOR APARTMENTS| 460542396.00|        1|\n",
      "|Brooklyn|          Flatbush-north| RENTALS - ELEVATOR APARTMENTS| 598037291.00|        1|\n",
      "|Brooklyn|               Flatlands|              TWO FAMILY HOMES| 287016005.00|        1|\n",
      "|Brooklyn|             Fort greene|  CONDOS - ELEVATOR APARTMENTS| 596060074.00|        1|\n",
      "|Brooklyn|         Gerritsen beach|              ONE FAMILY HOMES| 205552995.00|        1|\n",
      "|Brooklyn|                 Gowanus|  CONDOS - ELEVATOR APARTMENTS|1264409145.00|        1|\n",
      "|Brooklyn|               Gravesend|              TWO FAMILY HOMES| 832198564.00|        1|\n",
      "|Brooklyn|              Greenpoint|  CONDOS - ELEVATOR APARTMENTS| 617120056.00|        1|\n",
      "|Brooklyn|             Jamaica bay|               STORE BUILDINGS|  14150000.00|        1|\n",
      "|Brooklyn|              Kensington|   COOPS - ELEVATOR APARTMENTS| 293348339.00|        1|\n",
      "|Brooklyn|                 Madison|              ONE FAMILY HOMES| 538875616.00|        1|\n",
      "|Brooklyn|         Manhattan beach|              ONE FAMILY HOMES| 292709194.00|        1|\n",
      "|Brooklyn|             Marine park|              ONE FAMILY HOMES| 657615669.00|        1|\n",
      "|Brooklyn|                 Midwood|              ONE FAMILY HOMES| 704070720.00|        1|\n",
      "|Brooklyn|              Mill basin|              ONE FAMILY HOMES| 415644942.00|        1|\n",
      "|Brooklyn|               Navy yard|                    WAREHOUSES| 275193089.00|        1|\n",
      "|Brooklyn|              Ocean hill|              TWO FAMILY HOMES| 639591179.00|        1|\n",
      "|Brooklyn|     Ocean parkway-north|              ONE FAMILY HOMES| 596299893.00|        1|\n",
      "|Brooklyn|     Ocean parkway-south|              TWO FAMILY HOMES| 552507355.00|        1|\n",
      "|Brooklyn|          Old mill basin|              ONE FAMILY HOMES| 377135104.00|        1|\n",
      "|Brooklyn|              Park slope|     COOPS - WALKUP APARTMENTS|1460156735.00|        1|\n",
      "|Brooklyn|        Park slope south|              TWO FAMILY HOMES| 342722071.00|        1|\n",
      "|Brooklyn|        Prospect heights|   COOPS - ELEVATOR APARTMENTS| 565950836.00|        1|\n",
      "|Brooklyn|                Red hook|            COMMERCIAL GARAGES| 398586049.00|        1|\n",
      "|Brooklyn|                 Seagate|              TWO FAMILY HOMES|  72152040.00|        1|\n",
      "|Brooklyn|          Sheepshead bay|              TWO FAMILY HOMES| 612242908.00|        1|\n",
      "|Brooklyn|            Spring creek| RENTALS - ELEVATOR APARTMENTS| 869612895.00|        1|\n",
      "|Brooklyn|             Sunset park|              TWO FAMILY HOMES|1058517467.00|        1|\n",
      "|Brooklyn|    Williamsburg-central|  CONDOS - ELEVATOR APARTMENTS| 377846227.00|        1|\n",
      "|Brooklyn|       Williamsburg-east|   RENTALS - WALKUP APARTMENTS| 686504750.00|        1|\n",
      "|Brooklyn|      Williamsburg-north|  CONDOS - ELEVATOR APARTMENTS|2413396614.00|        1|\n",
      "|Brooklyn|      Williamsburg-south|  CONDOS - ELEVATOR APARTMENTS|1120612487.00|        1|\n",
      "|Brooklyn|         Windsor terrace|              TWO FAMILY HOMES| 254821496.00|        1|\n",
      "|Brooklyn|         Wyckoff heights|   RENTALS - WALKUP APARTMENTS| 255391449.00|        1|\n",
      "+--------+------------------------+------------------------------+-------------+---------+\n",
      "\n"
     ]
    }
   ],
   "source": [
    "DENSERANKGroupSalesBrooklyn20032019.filter(DENSERANKGroupSalesBrooklyn20032019[\"DenseRank\"]==1).show(100,30)"
   ]
  },
  {
   "cell_type": "code",
   "execution_count": 224,
   "id": "4c17a5f9",
   "metadata": {},
   "outputs": [
    {
     "name": "stdout",
     "output_type": "stream",
     "text": [
      "+--------+------------+-----------------------+------------+------------------+\n",
      "| Borough|Neighborhood|Building Class Category|  Sale Price|       PercentRank|\n",
      "+--------+------------+-----------------------+------------+------------------+\n",
      "|Brooklyn|  Bath beach|       TWO FAMILY HOMES|414465225.00|               0.0|\n",
      "|Brooklyn|  Bath beach|   TWO FAMILY DWELLINGS|192314320.00|               2.0|\n",
      "|Brooklyn|  Bath beach|   TWO FAMILY DWELLINGS|177569356.00|               3.0|\n",
      "|Brooklyn|  Bath beach|     TAX CLASS 1 CONDOS|174878339.00|               5.0|\n",
      "|Brooklyn|  Bath beach|     THREE FAMILY HOMES|168595984.00| 7.000000000000001|\n",
      "|Brooklyn|  Bath beach|   RENTALS - WALKUP ...|165554101.00|               8.0|\n",
      "|Brooklyn|  Bath beach|        STORE BUILDINGS|111285825.00|              10.0|\n",
      "|Brooklyn|  Bath beach|       ONE FAMILY HOMES|108948388.00|              12.0|\n",
      "|Brooklyn|  Bath beach|   THREE FAMILY DWEL...|103288030.00|14.000000000000002|\n",
      "|Brooklyn|  Bath beach|   RENTALS - ELEVATO...| 94181424.00|              15.0|\n",
      "|Brooklyn|  Bath beach|   THREE FAMILY DWEL...| 82690845.00|              17.0|\n",
      "|Brooklyn|  Bath beach|   COOPS - WALKUP AP...| 80944898.00|              19.0|\n",
      "|Brooklyn|  Bath beach|   ONE FAMILY DWELLINGS| 72160418.00|              20.0|\n",
      "|Brooklyn|  Bath beach|   ONE FAMILY DWELLINGS| 48841896.00|              22.0|\n",
      "|Brooklyn|  Bath beach|   RENTALS - WALKUP ...| 37173010.00|              24.0|\n",
      "|Brooklyn|  Bath beach|    RENTALS - 4-10 UNIT| 35733000.00|              25.0|\n",
      "|Brooklyn|  Bath beach|     TAX CLASS 1 CONDOS| 35727936.00|              27.0|\n",
      "|Brooklyn|  Bath beach|        STORE BUILDINGS| 25702500.00|28.999999999999996|\n",
      "|Brooklyn|  Bath beach|   CONDOS - ELEVATOR...| 25622841.00|              31.0|\n",
      "|Brooklyn|  Bath beach|       OFFICE BUILDINGS| 23208212.00|              32.0|\n",
      "+--------+------------+-----------------------+------------+------------------+\n",
      "only showing top 20 rows\n",
      "\n"
     ]
    }
   ],
   "source": [
    "PercentRankGroupSalesBrooklyn20032019 = GroupSalesBrooklyn20032019.withColumn(\"PercentRank\", percent_rank().over(windowSpec))\n",
    "PercentRankGroupSalesBrooklyn20032019 = PercentRankGroupSalesBrooklyn20032019.withColumn(\"PercentRank\",\n",
    "                                                                                        round(col(\"PercentRank\"),2) * 100)\n",
    "PercentRankGroupSalesBrooklyn20032019.show()"
   ]
  },
  {
   "cell_type": "code",
   "execution_count": 225,
   "id": "271c7030",
   "metadata": {},
   "outputs": [
    {
     "name": "stdout",
     "output_type": "stream",
     "text": [
      "+--------+------------+-----------------------+------------+--------------+\n",
      "| Borough|Neighborhood|Building Class Category|  Sale Price|Grouping Sales|\n",
      "+--------+------------+-----------------------+------------+--------------+\n",
      "|Brooklyn|  Bath beach|       TWO FAMILY HOMES|414465225.00|             1|\n",
      "|Brooklyn|  Bath beach|   TWO FAMILY DWELLINGS|192314320.00|             1|\n",
      "|Brooklyn|  Bath beach|   TWO FAMILY DWELLINGS|177569356.00|             1|\n",
      "|Brooklyn|  Bath beach|     TAX CLASS 1 CONDOS|174878339.00|             1|\n",
      "|Brooklyn|  Bath beach|     THREE FAMILY HOMES|168595984.00|             1|\n",
      "|Brooklyn|  Bath beach|   RENTALS - WALKUP ...|165554101.00|             1|\n",
      "|Brooklyn|  Bath beach|        STORE BUILDINGS|111285825.00|             1|\n",
      "|Brooklyn|  Bath beach|       ONE FAMILY HOMES|108948388.00|             1|\n",
      "|Brooklyn|  Bath beach|   THREE FAMILY DWEL...|103288030.00|             1|\n",
      "|Brooklyn|  Bath beach|   RENTALS - ELEVATO...| 94181424.00|             1|\n",
      "|Brooklyn|  Bath beach|   THREE FAMILY DWEL...| 82690845.00|             1|\n",
      "|Brooklyn|  Bath beach|   COOPS - WALKUP AP...| 80944898.00|             1|\n",
      "|Brooklyn|  Bath beach|   ONE FAMILY DWELLINGS| 72160418.00|             1|\n",
      "|Brooklyn|  Bath beach|   ONE FAMILY DWELLINGS| 48841896.00|             1|\n",
      "|Brooklyn|  Bath beach|   RENTALS - WALKUP ...| 37173010.00|             1|\n",
      "|Brooklyn|  Bath beach|    RENTALS - 4-10 UNIT| 35733000.00|             2|\n",
      "|Brooklyn|  Bath beach|     TAX CLASS 1 CONDOS| 35727936.00|             2|\n",
      "|Brooklyn|  Bath beach|        STORE BUILDINGS| 25702500.00|             2|\n",
      "|Brooklyn|  Bath beach|   CONDOS - ELEVATOR...| 25622841.00|             2|\n",
      "|Brooklyn|  Bath beach|       OFFICE BUILDINGS| 23208212.00|             2|\n",
      "+--------+------------+-----------------------+------------+--------------+\n",
      "only showing top 20 rows\n",
      "\n"
     ]
    }
   ],
   "source": [
    "GroupingGroupSalesBrooklyn20032019 = GroupSalesBrooklyn20032019.withColumn(\"Grouping Sales\", ntile(4).over(windowSpec))\n",
    "GroupingGroupSalesBrooklyn20032019.show()"
   ]
  },
  {
   "cell_type": "code",
   "execution_count": 226,
   "id": "ccdce01c",
   "metadata": {},
   "outputs": [
    {
     "name": "stdout",
     "output_type": "stream",
     "text": [
      "+--------+------------+-----------------------+------------+--------------+\n",
      "| Borough|Neighborhood|Building Class Category|  Sale Price|Grouping Sales|\n",
      "+--------+------------+-----------------------+------------+--------------+\n",
      "|Brooklyn|  Bath beach|       TWO FAMILY HOMES|414465225.00|             1|\n",
      "|Brooklyn|  Bath beach|   TWO FAMILY DWELLINGS|192314320.00|             1|\n",
      "|Brooklyn|  Bath beach|   TWO FAMILY DWELLINGS|177569356.00|             1|\n",
      "|Brooklyn|  Bath beach|     TAX CLASS 1 CONDOS|174878339.00|             1|\n",
      "|Brooklyn|  Bath beach|     THREE FAMILY HOMES|168595984.00|             1|\n",
      "|Brooklyn|  Bath beach|   RENTALS - WALKUP ...|165554101.00|             1|\n",
      "|Brooklyn|  Bath beach|        STORE BUILDINGS|111285825.00|             1|\n",
      "|Brooklyn|  Bath beach|       ONE FAMILY HOMES|108948388.00|             1|\n",
      "|Brooklyn|  Bath beach|   THREE FAMILY DWEL...|103288030.00|             1|\n",
      "|Brooklyn|  Bath beach|   RENTALS - ELEVATO...| 94181424.00|             1|\n",
      "|Brooklyn|  Bath beach|   THREE FAMILY DWEL...| 82690845.00|             1|\n",
      "|Brooklyn|  Bath beach|   COOPS - WALKUP AP...| 80944898.00|             1|\n",
      "|Brooklyn|  Bath beach|   ONE FAMILY DWELLINGS| 72160418.00|             1|\n",
      "|Brooklyn|  Bath beach|   ONE FAMILY DWELLINGS| 48841896.00|             1|\n",
      "|Brooklyn|  Bath beach|   RENTALS - WALKUP ...| 37173010.00|             1|\n",
      "|Brooklyn|   Bay ridge|       TWO FAMILY HOMES|907319519.00|             1|\n",
      "|Brooklyn|   Bay ridge|   COOPS - ELEVATOR ...|882161779.00|             1|\n",
      "|Brooklyn|   Bay ridge|       ONE FAMILY HOMES|845321915.00|             1|\n",
      "|Brooklyn|   Bay ridge|   TWO FAMILY DWELLINGS|506737174.00|             1|\n",
      "|Brooklyn|   Bay ridge|   ONE FAMILY DWELLINGS|434047310.00|             1|\n",
      "+--------+------------+-----------------------+------------+--------------+\n",
      "only showing top 20 rows\n",
      "\n"
     ]
    }
   ],
   "source": [
    "GroupingGroupSalesBrooklyn20032019.filter(GroupingGroupSalesBrooklyn20032019[\"Grouping Sales\"] == 1).show()"
   ]
  },
  {
   "cell_type": "code",
   "execution_count": 227,
   "id": "6f47970e",
   "metadata": {},
   "outputs": [
    {
     "name": "stdout",
     "output_type": "stream",
     "text": [
      "+--------+------------+-----------------------+----------+--------------+\n",
      "| Borough|Neighborhood|Building Class Category|Sale Price|Grouping Sales|\n",
      "+--------+------------+-----------------------+----------+--------------+\n",
      "|Brooklyn|  Bath beach|                CONDOPS|1586200.00|             4|\n",
      "|Brooklyn|  Bath beach|   CONDO OFFICE BUIL...|1585000.00|             4|\n",
      "|Brooklyn|  Bath beach|       OFFICE BUILDINGS|1475000.00|             4|\n",
      "|Brooklyn|  Bath beach|   CONDOS - 2-10 UNI...|1320000.00|             4|\n",
      "|Brooklyn|  Bath beach|            CONDO COOPS| 793000.00|             4|\n",
      "|Brooklyn|  Bath beach|            CONDO COOPS| 185000.00|             4|\n",
      "|Brooklyn|  Bath beach|   TAX CLASS 1 VACAN...|     10.00|             4|\n",
      "|Brooklyn|  Bath beach|     COMMERCIAL GARAGES|      0.00|             4|\n",
      "|Brooklyn|  Bath beach|    TAX CLASS 1 - OTHER|      0.00|             4|\n",
      "|Brooklyn|  Bath beach|             WAREHOUSES|      0.00|             4|\n",
      "|Brooklyn|  Bath beach|                       |      0.00|             4|\n",
      "|Brooklyn|  Bath beach|          CONDO PARKING|      0.00|             4|\n",
      "|Brooklyn|  Bath beach|   RENTALS - ELEVATO...|      0.00|             4|\n",
      "|Brooklyn|  Bath beach|   EDUCATIONAL FACIL...|      0.00|             4|\n",
      "|Brooklyn|  Bath beach|    TAX CLASS 4 - OTHER|      0.00|             4|\n",
      "|Brooklyn|   Bay ridge|    TAX CLASS 1 - OTHER|2500000.00|             4|\n",
      "|Brooklyn|   Bay ridge|            CONDO COOPS|1810000.00|             4|\n",
      "|Brooklyn|   Bay ridge|   CONDOS - 2-10 UNI...|1769150.00|             4|\n",
      "|Brooklyn|   Bay ridge|   CONDO OFFICE BUIL...|1380000.00|             4|\n",
      "|Brooklyn|   Bay ridge|             WAREHOUSES|1000000.00|             4|\n",
      "+--------+------------+-----------------------+----------+--------------+\n",
      "only showing top 20 rows\n",
      "\n"
     ]
    }
   ],
   "source": [
    "GroupingGroupSalesBrooklyn20032019.filter(GroupingGroupSalesBrooklyn20032019[\"Grouping Sales\"] == 4).show()"
   ]
  },
  {
   "cell_type": "code",
   "execution_count": 228,
   "id": "65670f34",
   "metadata": {},
   "outputs": [
    {
     "name": "stdout",
     "output_type": "stream",
     "text": [
      "+--------+------------+-----------------------+------------+--------------------+\n",
      "| Borough|Neighborhood|Building Class Category|  Sale Price|            CumeDist|\n",
      "+--------+------------+-----------------------+------------+--------------------+\n",
      "|Brooklyn|  Bath beach|       TWO FAMILY HOMES|414465225.00|0.016666666666666666|\n",
      "|Brooklyn|  Bath beach|   TWO FAMILY DWELLINGS|192314320.00| 0.03333333333333333|\n",
      "|Brooklyn|  Bath beach|   TWO FAMILY DWELLINGS|177569356.00|                0.05|\n",
      "|Brooklyn|  Bath beach|     TAX CLASS 1 CONDOS|174878339.00| 0.06666666666666667|\n",
      "|Brooklyn|  Bath beach|     THREE FAMILY HOMES|168595984.00| 0.08333333333333333|\n",
      "|Brooklyn|  Bath beach|   RENTALS - WALKUP ...|165554101.00|                 0.1|\n",
      "|Brooklyn|  Bath beach|        STORE BUILDINGS|111285825.00| 0.11666666666666667|\n",
      "|Brooklyn|  Bath beach|       ONE FAMILY HOMES|108948388.00| 0.13333333333333333|\n",
      "|Brooklyn|  Bath beach|   THREE FAMILY DWEL...|103288030.00|                0.15|\n",
      "|Brooklyn|  Bath beach|   RENTALS - ELEVATO...| 94181424.00| 0.16666666666666666|\n",
      "|Brooklyn|  Bath beach|   THREE FAMILY DWEL...| 82690845.00| 0.18333333333333332|\n",
      "|Brooklyn|  Bath beach|   COOPS - WALKUP AP...| 80944898.00|                 0.2|\n",
      "|Brooklyn|  Bath beach|   ONE FAMILY DWELLINGS| 72160418.00| 0.21666666666666667|\n",
      "|Brooklyn|  Bath beach|   ONE FAMILY DWELLINGS| 48841896.00| 0.23333333333333334|\n",
      "|Brooklyn|  Bath beach|   RENTALS - WALKUP ...| 37173010.00|                0.25|\n",
      "|Brooklyn|  Bath beach|    RENTALS - 4-10 UNIT| 35733000.00| 0.26666666666666666|\n",
      "|Brooklyn|  Bath beach|     TAX CLASS 1 CONDOS| 35727936.00|  0.2833333333333333|\n",
      "|Brooklyn|  Bath beach|        STORE BUILDINGS| 25702500.00|                 0.3|\n",
      "|Brooklyn|  Bath beach|   CONDOS - ELEVATOR...| 25622841.00| 0.31666666666666665|\n",
      "|Brooklyn|  Bath beach|       OFFICE BUILDINGS| 23208212.00|  0.3333333333333333|\n",
      "+--------+------------+-----------------------+------------+--------------------+\n",
      "only showing top 20 rows\n",
      "\n"
     ]
    }
   ],
   "source": [
    "CUMEDISTGroupSalesBrooklyn20032019 = GroupSalesBrooklyn20032019.withColumn(\"CumeDist\", cume_dist().over(windowSpec))\n",
    "CUMEDISTGroupSalesBrooklyn20032019.withColumn(\"CumeDist\", round(col(\"CumeDist\"),2) * 100)\n",
    "CUMEDISTGroupSalesBrooklyn20032019.show()\n"
   ]
  },
  {
   "cell_type": "markdown",
   "id": "902606fb",
   "metadata": {},
   "source": [
    "#### Analytic functions lag & lead"
   ]
  },
  {
   "cell_type": "code",
   "execution_count": 229,
   "id": "036bf436",
   "metadata": {},
   "outputs": [
    {
     "name": "stdout",
     "output_type": "stream",
     "text": [
      "+--------+--------------------+-----------------------+-------------------------+----------+----------+\n",
      "| Borough|        Neighborhood|Building Class Category|Building Class At Present|Sale Price| Sale Date|\n",
      "+--------+--------------------+-----------------------+-------------------------+----------+----------+\n",
      "|Brooklyn|BATH BEACH       ...|   02  TWO FAMILY HO...|                       S2|      0.00|2003-12-12|\n",
      "|Brooklyn|BAY RIDGE        ...|   02  TWO FAMILY HO...|                       S2|      0.00|2003-04-23|\n",
      "|Brooklyn|BAY RIDGE        ...|   02  TWO FAMILY HO...|                       C0|      0.00|2003-04-18|\n",
      "|Brooklyn|BAY RIDGE        ...|   04  TAX CLASS 1 C...|                       R3| 410000.00|2003-06-16|\n",
      "|Brooklyn|BAY RIDGE        ...|   10  COOPS - ELEVA...|                       D4|  85000.00|2003-09-10|\n",
      "|Brooklyn|BAY RIDGE        ...|   10  COOPS - ELEVA...|                       D4| 165000.00|2003-06-05|\n",
      "|Brooklyn|BAY RIDGE        ...|   13  CONDOS - ELEV...|                       R4| 405000.00|2003-11-20|\n",
      "|Brooklyn|BAY RIDGE        ...|   22  STORE BUILDIN...|                       K1|      0.00|2003-08-04|\n",
      "|Brooklyn|BEDFORD STUYVESAN...|   02  TWO FAMILY HO...|                       B3| 340000.00|2003-03-07|\n",
      "|Brooklyn|BEDFORD STUYVESAN...|   02  TWO FAMILY HO...|                       B9|      0.00|2003-03-19|\n",
      "|Brooklyn|BEDFORD STUYVESAN...|   02  TWO FAMILY HO...|                       B3|      0.00|2003-02-07|\n",
      "|Brooklyn|BEDFORD STUYVESAN...|   02  TWO FAMILY HO...|                       B3|      0.00|2003-06-19|\n",
      "|Brooklyn|BEDFORD STUYVESAN...|   02  TWO FAMILY HO...|                       B2| 293815.00|2003-11-10|\n",
      "|Brooklyn|BEDFORD STUYVESAN...|   02  TWO FAMILY HO...|                       B3| 426000.00|2003-11-13|\n",
      "|Brooklyn|BEDFORD STUYVESAN...|   02  TWO FAMILY HO...|                       B3| 220000.00|2003-02-11|\n",
      "|Brooklyn|BEDFORD STUYVESAN...|   02  TWO FAMILY HO...|                       C0| 420000.00|2003-10-16|\n",
      "|Brooklyn|BEDFORD STUYVESAN...|   02  TWO FAMILY HO...|                       C2| 375000.00|2003-09-03|\n",
      "|Brooklyn|BEDFORD STUYVESAN...|   03  THREE FAMILY ...|                       C0|  15000.00|2003-09-24|\n",
      "|Brooklyn|BEDFORD STUYVESAN...|   07  RENTALS - WAL...|                       C3| 315000.00|2003-04-18|\n",
      "|Brooklyn|BEDFORD STUYVESAN...|   13  CONDOS - ELEV...|                       R4| 263640.00|2003-07-29|\n",
      "+--------+--------------------+-----------------------+-------------------------+----------+----------+\n",
      "only showing top 20 rows\n",
      "\n"
     ]
    }
   ],
   "source": [
    "SelColdfBrooklyn20032019.show()"
   ]
  },
  {
   "cell_type": "code",
   "execution_count": 230,
   "id": "0740b2f1",
   "metadata": {},
   "outputs": [
    {
     "name": "stdout",
     "output_type": "stream",
     "text": [
      "+--------+--------------+-------------+----------+\n",
      "| Borough|Month Of Sales|Year Of Sales|Sale Price|\n",
      "+--------+--------------+-------------+----------+\n",
      "|Brooklyn|             1|         2003| 499550.00|\n",
      "|Brooklyn|             1|         2003| 135500.00|\n",
      "|Brooklyn|             1|         2003|      0.00|\n",
      "|Brooklyn|             1|         2003| 350000.00|\n",
      "|Brooklyn|             1|         2003| 420000.00|\n",
      "|Brooklyn|             1|         2003| 202500.00|\n",
      "|Brooklyn|             1|         2003|      0.00|\n",
      "|Brooklyn|             1|         2003| 400000.00|\n",
      "|Brooklyn|             1|         2003| 499000.00|\n",
      "|Brooklyn|             1|         2003| 550000.00|\n",
      "|Brooklyn|             1|         2003|      0.00|\n",
      "|Brooklyn|             1|         2003| 260000.00|\n",
      "|Brooklyn|             1|         2003|      0.00|\n",
      "|Brooklyn|             1|         2003| 500000.00|\n",
      "|Brooklyn|             1|         2003| 370000.00|\n",
      "|Brooklyn|             1|         2003|      0.00|\n",
      "|Brooklyn|             1|         2003|      0.00|\n",
      "|Brooklyn|             1|         2003|      0.00|\n",
      "|Brooklyn|             1|         2003|      0.00|\n",
      "|Brooklyn|             1|         2003|      0.00|\n",
      "+--------+--------------+-------------+----------+\n",
      "only showing top 20 rows\n",
      "\n"
     ]
    }
   ],
   "source": [
    "LAGLEADSelColdfBrooklyn20032019 = SelColdfBrooklyn20032019.withColumn(\"Year Of Sales\", year(col(\"Sale Date\"))) \\\n",
    "                                                          .withColumn(\"Month Of Sales\", month(col(\"Sale Date\")))\n",
    "LAGLEADSelColdfBrooklyn20032019 = LAGLEADSelColdfBrooklyn20032019.select(\"Borough\",\"Month Of Sales\",\n",
    "                                                                         \"Year Of Sales\",\n",
    "                                                                         \"Sale Price\")\n",
    "LAGLEADSelColdfBrooklyn20032019.orderBy(\"Month Of Sales\",\"Year Of Sales\").show()"
   ]
  },
  {
   "cell_type": "code",
   "execution_count": 231,
   "id": "b58bd9fb",
   "metadata": {},
   "outputs": [],
   "source": [
    "SumGroupByYear = LAGLEADSelColdfBrooklyn20032019.groupBy(\"Year of Sales\").sum(\"Sale Price\")\n",
    "SumGroupByYearMonth = LAGLEADSelColdfBrooklyn20032019.groupBy(\"Year of Sales\",\"Month Of Sales\").sum(\"Sale Price\")"
   ]
  },
  {
   "cell_type": "code",
   "execution_count": 232,
   "id": "5931fa1a",
   "metadata": {},
   "outputs": [],
   "source": [
    "SumGroupByYear = SumGroupByYear.select(\"Year Of Sales\", col(\"sum(Sale Price)\").alias(\"Sale Price\"))"
   ]
  },
  {
   "cell_type": "code",
   "execution_count": 233,
   "id": "885b4b42",
   "metadata": {},
   "outputs": [
    {
     "name": "stdout",
     "output_type": "stream",
     "text": [
      "+-------------+--------------+\n",
      "|Year Of Sales|    Sale Price|\n",
      "+-------------+--------------+\n",
      "|         2003| 8596616532.00|\n",
      "|         2004|11600085398.00|\n",
      "|         2005|14640818421.00|\n",
      "|         2006|14659101910.00|\n",
      "|         2007|13422723736.00|\n",
      "|         2008|10468670772.00|\n",
      "|         2009| 6500312255.00|\n",
      "|         2010| 7602976754.00|\n",
      "|         2011| 9292147260.00|\n",
      "|         2012|11527690704.00|\n",
      "|         2013|13417991504.00|\n",
      "|         2014|16702669580.00|\n",
      "|         2015|19969238092.00|\n",
      "|         2016|20017828573.00|\n",
      "|         2017|19824018819.00|\n",
      "|         2018|20293084828.00|\n",
      "|         2019|20128917053.00|\n",
      "+-------------+--------------+\n",
      "\n"
     ]
    }
   ],
   "source": [
    "SumGroupByYear = SumGroupByYear.orderBy(\"Year Of Sales\")\n",
    "SumGroupByYear.show()"
   ]
  },
  {
   "cell_type": "code",
   "execution_count": 234,
   "id": "bcc90703",
   "metadata": {},
   "outputs": [
    {
     "name": "stdout",
     "output_type": "stream",
     "text": [
      "+-------------+--------------+--------------+--------------+--------------+---------------+\n",
      "|Year Of Sales|    Sale Price|           Lag|          Diff|          Lead| CummulativeSum|\n",
      "+-------------+--------------+--------------+--------------+--------------+---------------+\n",
      "|         2003| 8596616532.00|          0.00| 8596616532.00|11600085398.00|  8596616532.00|\n",
      "|         2004|11600085398.00| 8596616532.00| 3003468866.00|14640818421.00| 20196701930.00|\n",
      "|         2005|14640818421.00|11600085398.00| 3040733023.00|14659101910.00| 34837520351.00|\n",
      "|         2006|14659101910.00|14640818421.00|   18283489.00|13422723736.00| 49496622261.00|\n",
      "|         2007|13422723736.00|14659101910.00|-1236378174.00|10468670772.00| 62919345997.00|\n",
      "|         2008|10468670772.00|13422723736.00|-2954052964.00| 6500312255.00| 73388016769.00|\n",
      "|         2009| 6500312255.00|10468670772.00|-3968358517.00| 7602976754.00| 79888329024.00|\n",
      "|         2010| 7602976754.00| 6500312255.00| 1102664499.00| 9292147260.00| 87491305778.00|\n",
      "|         2011| 9292147260.00| 7602976754.00| 1689170506.00|11527690704.00| 96783453038.00|\n",
      "|         2012|11527690704.00| 9292147260.00| 2235543444.00|13417991504.00|108311143742.00|\n",
      "|         2013|13417991504.00|11527690704.00| 1890300800.00|16702669580.00|121729135246.00|\n",
      "|         2014|16702669580.00|13417991504.00| 3284678076.00|19969238092.00|138431804826.00|\n",
      "|         2015|19969238092.00|16702669580.00| 3266568512.00|20017828573.00|158401042918.00|\n",
      "|         2016|20017828573.00|19969238092.00|   48590481.00|19824018819.00|178418871491.00|\n",
      "|         2017|19824018819.00|20017828573.00| -193809754.00|20293084828.00|198242890310.00|\n",
      "|         2018|20293084828.00|19824018819.00|  469066009.00|20128917053.00|218535975138.00|\n",
      "|         2019|20128917053.00|20293084828.00| -164167775.00|          0.00|238664892191.00|\n",
      "+-------------+--------------+--------------+--------------+--------------+---------------+\n",
      "\n"
     ]
    }
   ],
   "source": [
    "windowSpec = Window.partitionBy().orderBy(\"Year Of Sales\")\n",
    "windowval = (Window.partitionBy().orderBy(\"Year Of Sales\").rangeBetween(Window.unboundedPreceding,0))\n",
    "\n",
    "SumGroupByYear = SumGroupByYear.withColumn(\"Lag\", lag(\"Sale Price\", offset=1, default=0).over(windowSpec))\n",
    "SumGroupByYear = SumGroupByYear.withColumn(\"Diff\", \n",
    "                                           when(isnull(SumGroupByYear[\"Sale Price\"] - SumGroupByYear[\"Lag\"]),0)\n",
    "                                           .otherwise(SumGroupByYear[\"Sale Price\"] - SumGroupByYear[\"Lag\"]))\n",
    "SumGroupByYear = SumGroupByYear.withColumn(\"Lead\", lead(\"Sale Price\", offset=1, default=0).over(windowSpec))\n",
    "SumGroupByYear = SumGroupByYear.withColumn(\"CummulativeSum\", sum(\"Sale Price\").over(windowval))\n",
    "\n",
    "SumGroupByYear.show()\n"
   ]
  },
  {
   "cell_type": "code",
   "execution_count": 235,
   "id": "162bf9fd",
   "metadata": {},
   "outputs": [
    {
     "name": "stdout",
     "output_type": "stream",
     "text": [
      "+-------------+--------------+-------------+--------------+\n",
      "|Year Of Sales|Month Of Sales|   Sale Price|CummulativeSum|\n",
      "+-------------+--------------+-------------+--------------+\n",
      "|         2003|             1| 623942523.00|  623942523.00|\n",
      "|         2003|             2| 617568865.00| 1241511388.00|\n",
      "|         2003|             3| 640905657.00| 1882417045.00|\n",
      "|         2003|             4| 568771421.00| 2451188466.00|\n",
      "|         2003|             5| 734978696.00| 3186167162.00|\n",
      "|         2003|             6| 790148431.00| 3976315593.00|\n",
      "|         2003|             7| 785715912.00| 4762031505.00|\n",
      "|         2003|             8| 708900048.00| 5470931553.00|\n",
      "|         2003|             9| 867114851.00| 6338046404.00|\n",
      "|         2003|            10| 753796682.00| 7091843086.00|\n",
      "|         2003|            11| 679947477.00| 7771790563.00|\n",
      "|         2003|            12| 824825969.00| 8596616532.00|\n",
      "|         2004|             1| 742781021.00|  742781021.00|\n",
      "|         2004|             2| 711687634.00| 1454468655.00|\n",
      "|         2004|             3| 909652827.00| 2364121482.00|\n",
      "|         2004|             4| 782465954.00| 3146587436.00|\n",
      "|         2004|             5|1196521206.00| 4343108642.00|\n",
      "|         2004|             6|1375738488.00| 5718847130.00|\n",
      "|         2004|             7| 986078741.00| 6704925871.00|\n",
      "|         2004|             8|1079849037.00| 7784774908.00|\n",
      "+-------------+--------------+-------------+--------------+\n",
      "only showing top 20 rows\n",
      "\n"
     ]
    }
   ],
   "source": [
    "windowval = (Window.partitionBy(\"Year Of Sales\").orderBy(\"Month Of Sales\").rangeBetween(Window.unboundedPreceding, 0))\n",
    "SumGroupByYearMonth = SumGroupByYearMonth.select(\"Year Of Sales\",\n",
    "                                        \"Month Of Sales\",\n",
    "                                         col(\"sum(Sale Price)\").alias(\"Sale Price\")).orderBy('Year of Sales','Month Of Sales')\n",
    "\n",
    "SumGroupByYearMonth = SumGroupByYearMonth.withColumn(\"CummulativeSum\", sum(\"Sale Price\").over(windowval))\n",
    "SumGroupByYearMonth.show()"
   ]
  },
  {
   "cell_type": "markdown",
   "id": "e78d4fea",
   "metadata": {},
   "source": [
    "#### Combinig rows"
   ]
  },
  {
   "cell_type": "code",
   "execution_count": 236,
   "id": "113f3a3b",
   "metadata": {},
   "outputs": [
    {
     "name": "stdout",
     "output_type": "stream",
     "text": [
      "+--------------------------------------------------------------+\n",
      "|Full Name                                                     |\n",
      "+--------------------------------------------------------------+\n",
      "|Brooklyn Boerum hill RENTALS - WALKUP APARTMENTS              |\n",
      "|Brooklyn Bushwick THREE FAMILY DWELLINGS                      |\n",
      "|Brooklyn Flatbush-central WAREHOUSES                          |\n",
      "|Brooklyn Bedford stuyvesant FACTORIES                         |\n",
      "|Brooklyn Bensonhurst STORE BUILDINGS                          |\n",
      "|Brooklyn Brownsville RELIGIOUS FACILITIES                     |\n",
      "|Brooklyn Old mill basin EDUCATIONAL FACILITIES                |\n",
      "|Brooklyn Canarsie RENTALS - ELEVATOR APARTMENTS               |\n",
      "|Brooklyn Madison COMMERCIAL CONDOS                            |\n",
      "|Brooklyn Midwood ONE FAMILY DWELLINGS                         |\n",
      "|Brooklyn Brighton beach CONDOS - ELEVATOR APARTMENTS          |\n",
      "|Brooklyn Dyker heights THREE FAMILY DWELLINGS                 |\n",
      "|Brooklyn Sheepshead bay TWO FAMILY DWELLINGS                  |\n",
      "|Brooklyn Red hook TWO FAMILY HOMES                            |\n",
      "|Brooklyn Windsor terrace TAX CLASS 1 VACANT LAND              |\n",
      "|Brooklyn Sheepshead bay THREE FAMILY DWELLINGS                |\n",
      "|Brooklyn Bergen beach THREE FAMILY DWELLINGS                  |\n",
      "|Brooklyn Park slope south TAX CLASS 1 CONDOS                  |\n",
      "|Brooklyn Flatbush-lefferts garden CONDOS - ELEVATOR APARTMENTS|\n",
      "|Brooklyn Madison COOPS - WALKUP APARTMENTS                    |\n",
      "+--------------------------------------------------------------+\n",
      "only showing top 20 rows\n",
      "\n"
     ]
    }
   ],
   "source": [
    "FULLNameGroupSalesBrooklyn20032019 = GroupSalesBrooklyn20032019.withColumn(\"Full Name\",\n",
    "                                            concat_col(GroupSalesBrooklyn20032019[\"Borough\"],\n",
    "                                               GroupSalesBrooklyn20032019[\"Neighborhood\"],\n",
    "                                               GroupSalesBrooklyn20032019[\"Building Class Category\"]))\n",
    "\n",
    "\n",
    "FULLNameGroupSalesBrooklyn20032019 =FULLNameGroupSalesBrooklyn20032019.select(\"Full Name\")\n",
    "FULLNameGroupSalesBrooklyn20032019.show(truncate=False)"
   ]
  },
  {
   "cell_type": "markdown",
   "id": "4d563652",
   "metadata": {},
   "source": [
    "#### Save DataFrame to Hive Table"
   ]
  },
  {
   "cell_type": "markdown",
   "id": "3a07c448",
   "metadata": {},
   "source": [
    "##### Create Hive Internal Table"
   ]
  },
  {
   "cell_type": "code",
   "execution_count": 237,
   "id": "a8721aed",
   "metadata": {},
   "outputs": [],
   "source": [
    "FULLNameGroupSalesBrooklyn20032019.write.mode(\"overwrite\").saveAsTable(\"BrooklynFullName\")"
   ]
  },
  {
   "cell_type": "markdown",
   "id": "298b0b04",
   "metadata": {},
   "source": [
    "#### Read Hive Table"
   ]
  },
  {
   "cell_type": "code",
   "execution_count": 238,
   "id": "f53a02f3",
   "metadata": {},
   "outputs": [],
   "source": [
    "HiveTableBrooklyn = spark.read.table(\"BrooklynFullName\")"
   ]
  },
  {
   "cell_type": "code",
   "execution_count": 239,
   "id": "7cb9bcff",
   "metadata": {},
   "outputs": [
    {
     "name": "stdout",
     "output_type": "stream",
     "text": [
      "+--------------------+\n",
      "|           Full Name|\n",
      "+--------------------+\n",
      "|Brooklyn Boerum h...|\n",
      "|Brooklyn Bushwick...|\n",
      "|Brooklyn Flatbush...|\n",
      "|Brooklyn Bedford ...|\n",
      "|Brooklyn Bensonhu...|\n",
      "|Brooklyn Brownsvi...|\n",
      "|Brooklyn Old mill...|\n",
      "|Brooklyn Canarsie...|\n",
      "|Brooklyn Madison ...|\n",
      "|Brooklyn Midwood ...|\n",
      "|Brooklyn Brighton...|\n",
      "|Brooklyn Dyker he...|\n",
      "|Brooklyn Sheepshe...|\n",
      "|Brooklyn Red hook...|\n",
      "|Brooklyn Windsor ...|\n",
      "|Brooklyn Sheepshe...|\n",
      "|Brooklyn Bergen b...|\n",
      "|Brooklyn Park slo...|\n",
      "|Brooklyn Flatbush...|\n",
      "|Brooklyn Madison ...|\n",
      "+--------------------+\n",
      "only showing top 20 rows\n",
      "\n"
     ]
    }
   ],
   "source": [
    "HiveTableBrooklyn.show()"
   ]
  },
  {
   "cell_type": "markdown",
   "id": "cae1af5e",
   "metadata": {},
   "source": [
    "#### Finding minimum and maximum Sale Price"
   ]
  },
  {
   "cell_type": "code",
   "execution_count": 240,
   "id": "2ab4a8b9",
   "metadata": {},
   "outputs": [],
   "source": [
    "MaxGroupSalesBrooklyn20032019 = GroupSalesBrooklyn20032019.agg({\"Sale Price\": \"max\"}).collect()[0][0]"
   ]
  },
  {
   "cell_type": "code",
   "execution_count": 241,
   "id": "f8fa0d20",
   "metadata": {},
   "outputs": [],
   "source": [
    "FGroupSalesBrooklyn20032019 = GroupSalesBrooklyn20032019.filter(GroupSalesBrooklyn20032019['Sale Price'] > 0)\n",
    "MinGroupSalesBrooklyn20032019 = FGroupSalesBrooklyn20032019.agg({\"Sale Price\": \"min\"}).collect()[0][0]"
   ]
  },
  {
   "cell_type": "code",
   "execution_count": 242,
   "id": "7908f3b8",
   "metadata": {},
   "outputs": [
    {
     "name": "stdout",
     "output_type": "stream",
     "text": [
      "+--------+------------------+-----------------------------+-------------+\n",
      "|Borough |Neighborhood      |Building Class Category      |Sale Price   |\n",
      "+--------+------------------+-----------------------------+-------------+\n",
      "|Brooklyn|Williamsburg-north|CONDOS - ELEVATOR APARTMENTS |2413396614.00|\n",
      "|Brooklyn|Downtown-metrotech|RENTALS - ELEVATOR APARTMENTS|1.00         |\n",
      "+--------+------------------+-----------------------------+-------------+\n",
      "\n"
     ]
    }
   ],
   "source": [
    "MaxBrooklyn = GroupSalesBrooklyn20032019.filter(GroupSalesBrooklyn20032019[\"Sale Price\"] == MaxGroupSalesBrooklyn20032019)\n",
    "MinBrooklyn = GroupSalesBrooklyn20032019.filter(GroupSalesBrooklyn20032019[\"Sale Price\"] == \n",
    "                               MinGroupSalesBrooklyn20032019).limit(1)\n",
    "unionMaxMinBrooklyn = MaxBrooklyn.union(MinBrooklyn)\n",
    "unionMaxMinBrooklyn.show(truncate=False)"
   ]
  },
  {
   "cell_type": "markdown",
   "id": "f11935dd",
   "metadata": {},
   "source": [
    "#### Pivoting Gross Square Feet"
   ]
  },
  {
   "cell_type": "code",
   "execution_count": 243,
   "id": "af7cd422",
   "metadata": {},
   "outputs": [],
   "source": [
    "SelColGrossSquareFeetdfBrooklyn20032019 = dfBrooklyn20032019.select(\n",
    "                    CapitalizeStringUDF(col(\"Neighborhood\")).alias(\"Neighborhood\"),\n",
    "                    trim(RemoveTwoCharactersUDF(col(\"Building Class Category\"))).alias(\"Building Class Category\"),                                     \n",
    "                      \"Gross Square Feet\")"
   ]
  },
  {
   "cell_type": "code",
   "execution_count": 244,
   "id": "b8f1cbd0",
   "metadata": {},
   "outputs": [],
   "source": [
    "GroupingGSF = SelColGrossSquareFeetdfBrooklyn20032019.groupBy(\"Neighborhood\", \n",
    "                                                              \"Building Class Category\").sum(\"Gross Square Feet\")"
   ]
  },
  {
   "cell_type": "code",
   "execution_count": 245,
   "id": "46c689a3",
   "metadata": {},
   "outputs": [],
   "source": [
    "Neighborhood = [\"Bushwick\",\"Canarsie\",\"Madison\",\"Greenpoint\",\"Midwood\",\"Flatlands\",\"Williamsburg-north\",\"Downtown-metrotech\"]"
   ]
  },
  {
   "cell_type": "code",
   "execution_count": 246,
   "id": "2c13c473",
   "metadata": {},
   "outputs": [],
   "source": [
    "PivotGSF = GroupingGSF.filter(GroupingGSF.Neighborhood.isin(Neighborhood))"
   ]
  },
  {
   "cell_type": "code",
   "execution_count": 247,
   "id": "4b93c062",
   "metadata": {},
   "outputs": [
    {
     "name": "stdout",
     "output_type": "stream",
     "text": [
      "+---------------------------------------+--------+--------+---------+----------+-------+-------+\n",
      "|                Building Class Category|Bushwick|Canarsie|Flatlands|Greenpoint|Madison|Midwood|\n",
      "+---------------------------------------+--------+--------+---------+----------+-------+-------+\n",
      "|         CONDOS - 2-10 UNIT RESIDENTIAL|   49053|    null|     null|     63740|      0|   2000|\n",
      "|              COOPS - WALKUP APARTMENTS|       0|       0|     null|         0|      0|   null|\n",
      "|                    TAX CLASS 4 - OTHER|       0|    1050|     null|       100|      0|   null|\n",
      "|            RENTALS - WALKUP APARTMENTS| 1390073|  118146|    40782|   1162795|  84414| 222391|\n",
      "|                 COMMERCIAL VACANT LAND|       0|    null|     null|         0|   null|   null|\n",
      "|                  CONDO STORE BUILDINGS|       0|    null|     null|     15603|   2879|      0|\n",
      "|                   TWO FAMILY DWELLINGS| 1948597| 3075319|   591766|    471791| 604465| 690837|\n",
      "|                 THREE FAMILY DWELLINGS| 1279245|  749407|    70238|    347175| 137903| 171906|\n",
      "|                               THEATRES|    null|    null|     null|      4234|   null|  95444|\n",
      "|                TAX CLASS 1 VACANT LAND|    9520|       0|        0|         0|      0|      0|\n",
      "|                       OFFICE BUILDINGS|  200528|   39240|    14754|    125494|  83117|  78025|\n",
      "|          RENTALS - ELEVATOR APARTMENTS|  726138|  133326|   135900|    230841| 613967| 517325|\n",
      "|                      COMMERCIAL CONDOS|       0|    null|     null|         0|   null|   null|\n",
      "|             CONDOS - WALKUP APARTMENTS|    null|    6913|     null|     10357|      0|   4172|\n",
      "|                            CONDO COOPS|       0|    null|     null|      null|   null|   null|\n",
      "|                         LOFT BUILDINGS|   39560|    null|     null|      null|   null|   null|\n",
      "|  INDOOR PUBLIC AND CULTURAL FACILITIES|    null|   57960|     null|      null|   null|   null|\n",
      "|                              FACTORIES|    4875|   15730|     2790|    512200|   null|   8190|\n",
      "|                        A CONDO-RENTALS|    3752|    null|     null|    272854|   null|   null|\n",
      "|                     COMMERCIAL GARAGES|   20071|   57566|    15226|     17877|   null|  28916|\n",
      "|                 CONDO OFFICE BUILDINGS|    null|       0|     null|         0|      0|      0|\n",
      "|                      ASYLUMS AND HOMES|    6400|    null|     null|      null|   null|   null|\n",
      "|             CONDO NON-BUSINESS STORAGE|    null|    null|     null|         0|      0|   null|\n",
      "|            COOPS - ELEVATOR APARTMENTS|    null|    null|        0|         0|      0|      0|\n",
      "|                          CONDO PARKING|     918|    2472|     null|     75661|   5075|   2601|\n",
      "|                     TAX CLASS 1 CONDOS|    5634|   43174|     null|     17834|   4923|   3445|\n",
      "|         HOSPITAL AND HEALTH FACILITIES|    null|   16900|     null|      null|   4100|   null|\n",
      "|                        STORE BUILDINGS|  132405| 1733964|    57768|    128919| 216110| 139837|\n",
      "|                    TAX CLASS 1 - OTHER|       0|       0|     null|      2250|   null|      0|\n",
      "|                    RENTALS - 4-10 UNIT|  363911|    null|     3120|    281996|  31100|  23659|\n",
      "|           CONDOS - ELEVATOR APARTMENTS|   26584|       0|     null|     86323| 133643|  61978|\n",
      "|         CONDO TERRACES/GARDENS/CABANAS|    null|    null|     null|         0|   null|   null|\n",
      "|CONDOS - 2-10 UNIT WITH COMMERCIAL UNIT|       0|    null|     null|         0|      0|      0|\n",
      "|                   ONE FAMILY DWELLINGS|   93689|  645346|   355524|     67032| 761573|1069939|\n",
      "|             SPECIAL CONDO BILLING LOTS|    4166|    null|     null|      null|   null|   null|\n",
      "|                   RELIGIOUS FACILITIES|   81024|   31911|     null|     46249|  20488|  13948|\n",
      "|                             WAREHOUSES|  195500|   28938|     null|    266075|   null|  16275|\n",
      "| CONDO CULTURAL/MEDICAL/EDUCATIONAL/ETC|    5185|    null|     null|      null|   null|   null|\n",
      "|                 EDUCATIONAL FACILITIES|    null|   40404|     null|      null|  16140|   null|\n",
      "+---------------------------------------+--------+--------+---------+----------+-------+-------+\n",
      "\n"
     ]
    }
   ],
   "source": [
    "PivotGSF.groupBy(\"Building Class Category\").pivot(\"Neighborhood\").sum(\"sum(Gross Square Feet)\").show(100,100)"
   ]
  },
  {
   "cell_type": "code",
   "execution_count": 248,
   "id": "82a580b5",
   "metadata": {},
   "outputs": [],
   "source": [
    "ToPandas = PivotGSF.groupBy(\"Building Class Category\").pivot(\"Neighborhood\").sum(\"sum(Gross Square Feet)\")"
   ]
  },
  {
   "cell_type": "code",
   "execution_count": 249,
   "id": "65129968",
   "metadata": {},
   "outputs": [
    {
     "name": "stdout",
     "output_type": "stream",
     "text": [
      "<class 'pyspark.pandas.frame.DataFrame'>\n"
     ]
    }
   ],
   "source": [
    "ToPandasAPI = ToPandas.pandas_api()\n",
    "print(type(ToPandasAPI))\n"
   ]
  },
  {
   "cell_type": "code",
   "execution_count": 250,
   "id": "af7f0a36",
   "metadata": {},
   "outputs": [
    {
     "data": {
      "text/html": [
       "<div>\n",
       "<style scoped>\n",
       "    .dataframe tbody tr th:only-of-type {\n",
       "        vertical-align: middle;\n",
       "    }\n",
       "\n",
       "    .dataframe tbody tr th {\n",
       "        vertical-align: top;\n",
       "    }\n",
       "\n",
       "    .dataframe thead th {\n",
       "        text-align: right;\n",
       "    }\n",
       "</style>\n",
       "<table border=\"1\" class=\"dataframe\">\n",
       "  <thead>\n",
       "    <tr style=\"text-align: right;\">\n",
       "      <th></th>\n",
       "      <th>Building Class Category</th>\n",
       "      <th>Bushwick</th>\n",
       "      <th>Canarsie</th>\n",
       "      <th>Flatlands</th>\n",
       "      <th>Greenpoint</th>\n",
       "      <th>Madison</th>\n",
       "      <th>Midwood</th>\n",
       "    </tr>\n",
       "  </thead>\n",
       "  <tbody>\n",
       "    <tr>\n",
       "      <th>0</th>\n",
       "      <td>CONDOS - 2-10 UNIT RESIDENTIAL</td>\n",
       "      <td>49053.0</td>\n",
       "      <td>NaN</td>\n",
       "      <td>NaN</td>\n",
       "      <td>63740.0</td>\n",
       "      <td>0.0</td>\n",
       "      <td>2000.0</td>\n",
       "    </tr>\n",
       "    <tr>\n",
       "      <th>1</th>\n",
       "      <td>COOPS - WALKUP APARTMENTS</td>\n",
       "      <td>0.0</td>\n",
       "      <td>0.0</td>\n",
       "      <td>NaN</td>\n",
       "      <td>0.0</td>\n",
       "      <td>0.0</td>\n",
       "      <td>NaN</td>\n",
       "    </tr>\n",
       "    <tr>\n",
       "      <th>2</th>\n",
       "      <td>TAX CLASS 4 - OTHER</td>\n",
       "      <td>0.0</td>\n",
       "      <td>1050.0</td>\n",
       "      <td>NaN</td>\n",
       "      <td>100.0</td>\n",
       "      <td>0.0</td>\n",
       "      <td>NaN</td>\n",
       "    </tr>\n",
       "    <tr>\n",
       "      <th>3</th>\n",
       "      <td>RENTALS - WALKUP APARTMENTS</td>\n",
       "      <td>1390073.0</td>\n",
       "      <td>118146.0</td>\n",
       "      <td>40782.0</td>\n",
       "      <td>1162795.0</td>\n",
       "      <td>84414.0</td>\n",
       "      <td>222391.0</td>\n",
       "    </tr>\n",
       "    <tr>\n",
       "      <th>4</th>\n",
       "      <td>COMMERCIAL VACANT LAND</td>\n",
       "      <td>0.0</td>\n",
       "      <td>NaN</td>\n",
       "      <td>NaN</td>\n",
       "      <td>0.0</td>\n",
       "      <td>NaN</td>\n",
       "      <td>NaN</td>\n",
       "    </tr>\n",
       "    <tr>\n",
       "      <th>5</th>\n",
       "      <td>CONDO STORE BUILDINGS</td>\n",
       "      <td>0.0</td>\n",
       "      <td>NaN</td>\n",
       "      <td>NaN</td>\n",
       "      <td>15603.0</td>\n",
       "      <td>2879.0</td>\n",
       "      <td>0.0</td>\n",
       "    </tr>\n",
       "    <tr>\n",
       "      <th>6</th>\n",
       "      <td>TWO FAMILY DWELLINGS</td>\n",
       "      <td>1948597.0</td>\n",
       "      <td>3075319.0</td>\n",
       "      <td>591766.0</td>\n",
       "      <td>471791.0</td>\n",
       "      <td>604465.0</td>\n",
       "      <td>690837.0</td>\n",
       "    </tr>\n",
       "    <tr>\n",
       "      <th>7</th>\n",
       "      <td>THREE FAMILY DWELLINGS</td>\n",
       "      <td>1279245.0</td>\n",
       "      <td>749407.0</td>\n",
       "      <td>70238.0</td>\n",
       "      <td>347175.0</td>\n",
       "      <td>137903.0</td>\n",
       "      <td>171906.0</td>\n",
       "    </tr>\n",
       "    <tr>\n",
       "      <th>8</th>\n",
       "      <td>THEATRES</td>\n",
       "      <td>NaN</td>\n",
       "      <td>NaN</td>\n",
       "      <td>NaN</td>\n",
       "      <td>4234.0</td>\n",
       "      <td>NaN</td>\n",
       "      <td>95444.0</td>\n",
       "    </tr>\n",
       "    <tr>\n",
       "      <th>9</th>\n",
       "      <td>TAX CLASS 1 VACANT LAND</td>\n",
       "      <td>9520.0</td>\n",
       "      <td>0.0</td>\n",
       "      <td>0.0</td>\n",
       "      <td>0.0</td>\n",
       "      <td>0.0</td>\n",
       "      <td>0.0</td>\n",
       "    </tr>\n",
       "    <tr>\n",
       "      <th>10</th>\n",
       "      <td>OFFICE BUILDINGS</td>\n",
       "      <td>200528.0</td>\n",
       "      <td>39240.0</td>\n",
       "      <td>14754.0</td>\n",
       "      <td>125494.0</td>\n",
       "      <td>83117.0</td>\n",
       "      <td>78025.0</td>\n",
       "    </tr>\n",
       "    <tr>\n",
       "      <th>11</th>\n",
       "      <td>RENTALS - ELEVATOR APARTMENTS</td>\n",
       "      <td>726138.0</td>\n",
       "      <td>133326.0</td>\n",
       "      <td>135900.0</td>\n",
       "      <td>230841.0</td>\n",
       "      <td>613967.0</td>\n",
       "      <td>517325.0</td>\n",
       "    </tr>\n",
       "    <tr>\n",
       "      <th>12</th>\n",
       "      <td>COMMERCIAL CONDOS</td>\n",
       "      <td>0.0</td>\n",
       "      <td>NaN</td>\n",
       "      <td>NaN</td>\n",
       "      <td>0.0</td>\n",
       "      <td>NaN</td>\n",
       "      <td>NaN</td>\n",
       "    </tr>\n",
       "    <tr>\n",
       "      <th>13</th>\n",
       "      <td>CONDOS - WALKUP APARTMENTS</td>\n",
       "      <td>NaN</td>\n",
       "      <td>6913.0</td>\n",
       "      <td>NaN</td>\n",
       "      <td>10357.0</td>\n",
       "      <td>0.0</td>\n",
       "      <td>4172.0</td>\n",
       "    </tr>\n",
       "    <tr>\n",
       "      <th>14</th>\n",
       "      <td>CONDO COOPS</td>\n",
       "      <td>0.0</td>\n",
       "      <td>NaN</td>\n",
       "      <td>NaN</td>\n",
       "      <td>NaN</td>\n",
       "      <td>NaN</td>\n",
       "      <td>NaN</td>\n",
       "    </tr>\n",
       "    <tr>\n",
       "      <th>15</th>\n",
       "      <td>LOFT BUILDINGS</td>\n",
       "      <td>39560.0</td>\n",
       "      <td>NaN</td>\n",
       "      <td>NaN</td>\n",
       "      <td>NaN</td>\n",
       "      <td>NaN</td>\n",
       "      <td>NaN</td>\n",
       "    </tr>\n",
       "    <tr>\n",
       "      <th>16</th>\n",
       "      <td>INDOOR PUBLIC AND CULTURAL FACILITIES</td>\n",
       "      <td>NaN</td>\n",
       "      <td>57960.0</td>\n",
       "      <td>NaN</td>\n",
       "      <td>NaN</td>\n",
       "      <td>NaN</td>\n",
       "      <td>NaN</td>\n",
       "    </tr>\n",
       "    <tr>\n",
       "      <th>17</th>\n",
       "      <td>FACTORIES</td>\n",
       "      <td>4875.0</td>\n",
       "      <td>15730.0</td>\n",
       "      <td>2790.0</td>\n",
       "      <td>512200.0</td>\n",
       "      <td>NaN</td>\n",
       "      <td>8190.0</td>\n",
       "    </tr>\n",
       "    <tr>\n",
       "      <th>18</th>\n",
       "      <td>A CONDO-RENTALS</td>\n",
       "      <td>3752.0</td>\n",
       "      <td>NaN</td>\n",
       "      <td>NaN</td>\n",
       "      <td>272854.0</td>\n",
       "      <td>NaN</td>\n",
       "      <td>NaN</td>\n",
       "    </tr>\n",
       "    <tr>\n",
       "      <th>19</th>\n",
       "      <td>COMMERCIAL GARAGES</td>\n",
       "      <td>20071.0</td>\n",
       "      <td>57566.0</td>\n",
       "      <td>15226.0</td>\n",
       "      <td>17877.0</td>\n",
       "      <td>NaN</td>\n",
       "      <td>28916.0</td>\n",
       "    </tr>\n",
       "    <tr>\n",
       "      <th>20</th>\n",
       "      <td>CONDO OFFICE BUILDINGS</td>\n",
       "      <td>NaN</td>\n",
       "      <td>0.0</td>\n",
       "      <td>NaN</td>\n",
       "      <td>0.0</td>\n",
       "      <td>0.0</td>\n",
       "      <td>0.0</td>\n",
       "    </tr>\n",
       "    <tr>\n",
       "      <th>21</th>\n",
       "      <td>ASYLUMS AND HOMES</td>\n",
       "      <td>6400.0</td>\n",
       "      <td>NaN</td>\n",
       "      <td>NaN</td>\n",
       "      <td>NaN</td>\n",
       "      <td>NaN</td>\n",
       "      <td>NaN</td>\n",
       "    </tr>\n",
       "    <tr>\n",
       "      <th>22</th>\n",
       "      <td>CONDO NON-BUSINESS STORAGE</td>\n",
       "      <td>NaN</td>\n",
       "      <td>NaN</td>\n",
       "      <td>NaN</td>\n",
       "      <td>0.0</td>\n",
       "      <td>0.0</td>\n",
       "      <td>NaN</td>\n",
       "    </tr>\n",
       "    <tr>\n",
       "      <th>23</th>\n",
       "      <td>COOPS - ELEVATOR APARTMENTS</td>\n",
       "      <td>NaN</td>\n",
       "      <td>NaN</td>\n",
       "      <td>0.0</td>\n",
       "      <td>0.0</td>\n",
       "      <td>0.0</td>\n",
       "      <td>0.0</td>\n",
       "    </tr>\n",
       "    <tr>\n",
       "      <th>24</th>\n",
       "      <td>CONDO PARKING</td>\n",
       "      <td>918.0</td>\n",
       "      <td>2472.0</td>\n",
       "      <td>NaN</td>\n",
       "      <td>75661.0</td>\n",
       "      <td>5075.0</td>\n",
       "      <td>2601.0</td>\n",
       "    </tr>\n",
       "    <tr>\n",
       "      <th>25</th>\n",
       "      <td>TAX CLASS 1 CONDOS</td>\n",
       "      <td>5634.0</td>\n",
       "      <td>43174.0</td>\n",
       "      <td>NaN</td>\n",
       "      <td>17834.0</td>\n",
       "      <td>4923.0</td>\n",
       "      <td>3445.0</td>\n",
       "    </tr>\n",
       "    <tr>\n",
       "      <th>26</th>\n",
       "      <td>HOSPITAL AND HEALTH FACILITIES</td>\n",
       "      <td>NaN</td>\n",
       "      <td>16900.0</td>\n",
       "      <td>NaN</td>\n",
       "      <td>NaN</td>\n",
       "      <td>4100.0</td>\n",
       "      <td>NaN</td>\n",
       "    </tr>\n",
       "    <tr>\n",
       "      <th>27</th>\n",
       "      <td>STORE BUILDINGS</td>\n",
       "      <td>132405.0</td>\n",
       "      <td>1733964.0</td>\n",
       "      <td>57768.0</td>\n",
       "      <td>128919.0</td>\n",
       "      <td>216110.0</td>\n",
       "      <td>139837.0</td>\n",
       "    </tr>\n",
       "    <tr>\n",
       "      <th>28</th>\n",
       "      <td>TAX CLASS 1 - OTHER</td>\n",
       "      <td>0.0</td>\n",
       "      <td>0.0</td>\n",
       "      <td>NaN</td>\n",
       "      <td>2250.0</td>\n",
       "      <td>NaN</td>\n",
       "      <td>0.0</td>\n",
       "    </tr>\n",
       "    <tr>\n",
       "      <th>29</th>\n",
       "      <td>RENTALS - 4-10 UNIT</td>\n",
       "      <td>363911.0</td>\n",
       "      <td>NaN</td>\n",
       "      <td>3120.0</td>\n",
       "      <td>281996.0</td>\n",
       "      <td>31100.0</td>\n",
       "      <td>23659.0</td>\n",
       "    </tr>\n",
       "    <tr>\n",
       "      <th>30</th>\n",
       "      <td>CONDOS - ELEVATOR APARTMENTS</td>\n",
       "      <td>26584.0</td>\n",
       "      <td>0.0</td>\n",
       "      <td>NaN</td>\n",
       "      <td>86323.0</td>\n",
       "      <td>133643.0</td>\n",
       "      <td>61978.0</td>\n",
       "    </tr>\n",
       "    <tr>\n",
       "      <th>31</th>\n",
       "      <td>CONDO TERRACES/GARDENS/CABANAS</td>\n",
       "      <td>NaN</td>\n",
       "      <td>NaN</td>\n",
       "      <td>NaN</td>\n",
       "      <td>0.0</td>\n",
       "      <td>NaN</td>\n",
       "      <td>NaN</td>\n",
       "    </tr>\n",
       "    <tr>\n",
       "      <th>32</th>\n",
       "      <td>CONDOS - 2-10 UNIT WITH COMMERCIAL UNIT</td>\n",
       "      <td>0.0</td>\n",
       "      <td>NaN</td>\n",
       "      <td>NaN</td>\n",
       "      <td>0.0</td>\n",
       "      <td>0.0</td>\n",
       "      <td>0.0</td>\n",
       "    </tr>\n",
       "    <tr>\n",
       "      <th>33</th>\n",
       "      <td>ONE FAMILY DWELLINGS</td>\n",
       "      <td>93689.0</td>\n",
       "      <td>645346.0</td>\n",
       "      <td>355524.0</td>\n",
       "      <td>67032.0</td>\n",
       "      <td>761573.0</td>\n",
       "      <td>1069939.0</td>\n",
       "    </tr>\n",
       "    <tr>\n",
       "      <th>34</th>\n",
       "      <td>SPECIAL CONDO BILLING LOTS</td>\n",
       "      <td>4166.0</td>\n",
       "      <td>NaN</td>\n",
       "      <td>NaN</td>\n",
       "      <td>NaN</td>\n",
       "      <td>NaN</td>\n",
       "      <td>NaN</td>\n",
       "    </tr>\n",
       "    <tr>\n",
       "      <th>35</th>\n",
       "      <td>RELIGIOUS FACILITIES</td>\n",
       "      <td>81024.0</td>\n",
       "      <td>31911.0</td>\n",
       "      <td>NaN</td>\n",
       "      <td>46249.0</td>\n",
       "      <td>20488.0</td>\n",
       "      <td>13948.0</td>\n",
       "    </tr>\n",
       "    <tr>\n",
       "      <th>36</th>\n",
       "      <td>WAREHOUSES</td>\n",
       "      <td>195500.0</td>\n",
       "      <td>28938.0</td>\n",
       "      <td>NaN</td>\n",
       "      <td>266075.0</td>\n",
       "      <td>NaN</td>\n",
       "      <td>16275.0</td>\n",
       "    </tr>\n",
       "    <tr>\n",
       "      <th>37</th>\n",
       "      <td>CONDO CULTURAL/MEDICAL/EDUCATIONAL/ETC</td>\n",
       "      <td>5185.0</td>\n",
       "      <td>NaN</td>\n",
       "      <td>NaN</td>\n",
       "      <td>NaN</td>\n",
       "      <td>NaN</td>\n",
       "      <td>NaN</td>\n",
       "    </tr>\n",
       "    <tr>\n",
       "      <th>38</th>\n",
       "      <td>EDUCATIONAL FACILITIES</td>\n",
       "      <td>NaN</td>\n",
       "      <td>40404.0</td>\n",
       "      <td>NaN</td>\n",
       "      <td>NaN</td>\n",
       "      <td>16140.0</td>\n",
       "      <td>NaN</td>\n",
       "    </tr>\n",
       "  </tbody>\n",
       "</table>\n",
       "</div>"
      ],
      "text/plain": [
       "                    Building Class Category   Bushwick   Canarsie  Flatlands  Greenpoint   Madison    Midwood\n",
       "0            CONDOS - 2-10 UNIT RESIDENTIAL    49053.0        NaN        NaN     63740.0       0.0     2000.0\n",
       "1                 COOPS - WALKUP APARTMENTS        0.0        0.0        NaN         0.0       0.0        NaN\n",
       "2                       TAX CLASS 4 - OTHER        0.0     1050.0        NaN       100.0       0.0        NaN\n",
       "3               RENTALS - WALKUP APARTMENTS  1390073.0   118146.0    40782.0   1162795.0   84414.0   222391.0\n",
       "4                    COMMERCIAL VACANT LAND        0.0        NaN        NaN         0.0       NaN        NaN\n",
       "5                     CONDO STORE BUILDINGS        0.0        NaN        NaN     15603.0    2879.0        0.0\n",
       "6                      TWO FAMILY DWELLINGS  1948597.0  3075319.0   591766.0    471791.0  604465.0   690837.0\n",
       "7                    THREE FAMILY DWELLINGS  1279245.0   749407.0    70238.0    347175.0  137903.0   171906.0\n",
       "8                                  THEATRES        NaN        NaN        NaN      4234.0       NaN    95444.0\n",
       "9                   TAX CLASS 1 VACANT LAND     9520.0        0.0        0.0         0.0       0.0        0.0\n",
       "10                         OFFICE BUILDINGS   200528.0    39240.0    14754.0    125494.0   83117.0    78025.0\n",
       "11            RENTALS - ELEVATOR APARTMENTS   726138.0   133326.0   135900.0    230841.0  613967.0   517325.0\n",
       "12                        COMMERCIAL CONDOS        0.0        NaN        NaN         0.0       NaN        NaN\n",
       "13               CONDOS - WALKUP APARTMENTS        NaN     6913.0        NaN     10357.0       0.0     4172.0\n",
       "14                              CONDO COOPS        0.0        NaN        NaN         NaN       NaN        NaN\n",
       "15                           LOFT BUILDINGS    39560.0        NaN        NaN         NaN       NaN        NaN\n",
       "16    INDOOR PUBLIC AND CULTURAL FACILITIES        NaN    57960.0        NaN         NaN       NaN        NaN\n",
       "17                                FACTORIES     4875.0    15730.0     2790.0    512200.0       NaN     8190.0\n",
       "18                          A CONDO-RENTALS     3752.0        NaN        NaN    272854.0       NaN        NaN\n",
       "19                       COMMERCIAL GARAGES    20071.0    57566.0    15226.0     17877.0       NaN    28916.0\n",
       "20                   CONDO OFFICE BUILDINGS        NaN        0.0        NaN         0.0       0.0        0.0\n",
       "21                        ASYLUMS AND HOMES     6400.0        NaN        NaN         NaN       NaN        NaN\n",
       "22               CONDO NON-BUSINESS STORAGE        NaN        NaN        NaN         0.0       0.0        NaN\n",
       "23              COOPS - ELEVATOR APARTMENTS        NaN        NaN        0.0         0.0       0.0        0.0\n",
       "24                            CONDO PARKING      918.0     2472.0        NaN     75661.0    5075.0     2601.0\n",
       "25                       TAX CLASS 1 CONDOS     5634.0    43174.0        NaN     17834.0    4923.0     3445.0\n",
       "26           HOSPITAL AND HEALTH FACILITIES        NaN    16900.0        NaN         NaN    4100.0        NaN\n",
       "27                          STORE BUILDINGS   132405.0  1733964.0    57768.0    128919.0  216110.0   139837.0\n",
       "28                      TAX CLASS 1 - OTHER        0.0        0.0        NaN      2250.0       NaN        0.0\n",
       "29                      RENTALS - 4-10 UNIT   363911.0        NaN     3120.0    281996.0   31100.0    23659.0\n",
       "30             CONDOS - ELEVATOR APARTMENTS    26584.0        0.0        NaN     86323.0  133643.0    61978.0\n",
       "31           CONDO TERRACES/GARDENS/CABANAS        NaN        NaN        NaN         0.0       NaN        NaN\n",
       "32  CONDOS - 2-10 UNIT WITH COMMERCIAL UNIT        0.0        NaN        NaN         0.0       0.0        0.0\n",
       "33                     ONE FAMILY DWELLINGS    93689.0   645346.0   355524.0     67032.0  761573.0  1069939.0\n",
       "34               SPECIAL CONDO BILLING LOTS     4166.0        NaN        NaN         NaN       NaN        NaN\n",
       "35                     RELIGIOUS FACILITIES    81024.0    31911.0        NaN     46249.0   20488.0    13948.0\n",
       "36                               WAREHOUSES   195500.0    28938.0        NaN    266075.0       NaN    16275.0\n",
       "37   CONDO CULTURAL/MEDICAL/EDUCATIONAL/ETC     5185.0        NaN        NaN         NaN       NaN        NaN\n",
       "38                   EDUCATIONAL FACILITIES        NaN    40404.0        NaN         NaN   16140.0        NaN"
      ]
     },
     "execution_count": 250,
     "metadata": {},
     "output_type": "execute_result"
    }
   ],
   "source": [
    "ToPandasAPI"
   ]
  },
  {
   "cell_type": "markdown",
   "id": "433a1ba6",
   "metadata": {},
   "source": [
    "## dfManhattan20032019"
   ]
  },
  {
   "cell_type": "code",
   "execution_count": 251,
   "id": "1b6c1909",
   "metadata": {},
   "outputs": [],
   "source": [
    "SelColdfManhattan20032019 =  dfManhattan20032019.select(\"Borough\", \"Neighborhood\", \n",
    "                       \"Building Class Category\",\"Building Class At Present\",\n",
    "                      \"Sale Price\", \"Sale Date\")"
   ]
  },
  {
   "cell_type": "code",
   "execution_count": 252,
   "id": "44b942cc",
   "metadata": {},
   "outputs": [
    {
     "data": {
      "text/plain": [
       "['Borough',\n",
       " 'Neighborhood',\n",
       " 'Building Class Category',\n",
       " 'Building Class At Present',\n",
       " 'Sale Price',\n",
       " 'Sale Date',\n",
       " 'Building Code',\n",
       " 'Description']"
      ]
     },
     "execution_count": 252,
     "metadata": {},
     "output_type": "execute_result"
    }
   ],
   "source": [
    "dfManhattan20032019BCD = SelColdfManhattan20032019.join(BuildingClassification,\n",
    "                     SelColdfManhattan20032019[\"Building Class At Present\"] == BuildingClassification[\"Building Code\"], \"inner\") \n",
    "dfManhattan20032019BCD.columns "
   ]
  },
  {
   "cell_type": "code",
   "execution_count": 253,
   "id": "00dea1a7",
   "metadata": {},
   "outputs": [],
   "source": [
    "dfManhattan20032019BCD = dfManhattan20032019BCD.select('Borough',\n",
    " CapitalizeStringUDF(col(\"Neighborhood\")).alias(\"Neighborhood\"),\n",
    "trim(RemoveTwoCharactersUDF(col(\"Building Class Category\"))).alias(\"Building Class Category\"),\n",
    " 'Building Class At Present',\n",
    " 'Sale Price',\n",
    " 'Sale Date',\n",
    " 'Building Code',\n",
    " 'Description')"
   ]
  },
  {
   "cell_type": "code",
   "execution_count": 254,
   "id": "1604c546",
   "metadata": {},
   "outputs": [
    {
     "name": "stdout",
     "output_type": "stream",
     "text": [
      "+---------+-------------------------+------------------------------+----------------------------------------------+----------+\n",
      "|Borough  |Neighborhood             |Building Class Category       |Description                                   |Sale Price|\n",
      "+---------+-------------------------+------------------------------+----------------------------------------------+----------+\n",
      "|Manhattan|Alphabet city            |CONDOS - 2-10 UNIT RESIDENTIAL|CONDO; RESIDENTIAL UNIT IN 2-10 UNIT BLDG.    |390000.00 |\n",
      "|Manhattan|Alphabet city            |COMMERCIAL VACANT LAND        |ELEVATOR APT; SEMI-FIREPROOF WITHOUT STORES   |0.00      |\n",
      "|Manhattan|Chelsea                  |COOPS - ELEVATOR APARTMENTS   |ELEVATOR CO-OP; CONVERSION FROM LOFT/WAREHOUSE|1355000.00|\n",
      "|Manhattan|Chelsea                  |CONDOS - ELEVATOR APARTMENTS  |CONDO; RESIDENTIAL UNIT IN ELEVATOR BLDG.     |499000.00 |\n",
      "|Manhattan|Chelsea                  |CONDOS - ELEVATOR APARTMENTS  |CONDO; RESIDENTIAL UNIT IN ELEVATOR BLDG.     |515000.00 |\n",
      "|Manhattan|Clinton                  |CONDOS - ELEVATOR APARTMENTS  |CONDO; RESIDENTIAL UNIT IN ELEVATOR BLDG.     |530000.00 |\n",
      "|Manhattan|East village             |RENTALS - WALKUP APARTMENTS   |OVER SIX FAMILIES WITHOUT STORES              |1.00      |\n",
      "|Manhattan|Fashion                  |COOPS - ELEVATOR APARTMENTS   |ELEVATOR COOPERATIVE                          |150000.00 |\n",
      "|Manhattan|Fashion                  |COOPS - ELEVATOR APARTMENTS   |ELEVATOR COOPERATIVE                          |295000.00 |\n",
      "|Manhattan|Gramercy                 |TWO FAMILY HOMES              |MISCELLANEOUS TWO FAMILY                      |0.00      |\n",
      "|Manhattan|Gramercy                 |COOPS - ELEVATOR APARTMENTS   |ELEVATOR COOPERATIVE                          |241500.00 |\n",
      "|Manhattan|Greenwich village-central|COOPS - ELEVATOR APARTMENTS   |ELEVATOR CO-OP; CONVERSION FROM LOFT/WAREHOUSE|323000.00 |\n",
      "|Manhattan|Greenwich village-central|COOPS - ELEVATOR APARTMENTS   |ELEVATOR COOPERATIVE                          |275000.00 |\n",
      "|Manhattan|Greenwich village-central|COMMERCIAL CONDOS             |MISCELLANEOUS COMMERCIAL                      |0.00      |\n",
      "|Manhattan|Greenwich village-west   |RENTALS - WALKUP APARTMENTS   |WALK-UP APT. OVER SIX FAMILIES WITH STORES    |4850000.00|\n",
      "|Manhattan|Greenwich village-west   |COOPS - ELEVATOR APARTMENTS   |ELEVATOR COOPERATIVE                          |0.00      |\n",
      "|Manhattan|Greenwich village-west   |COMMERCIAL GARAGES            |ALL PARKING GARAGES                           |6900000.00|\n",
      "|Manhattan|Harlem-central           |RENTALS - WALKUP APARTMENTS   |OLD LAW TENEMENT                              |0.00      |\n",
      "|Manhattan|Harlem-central           |RENTALS - WALKUP APARTMENTS   |FOUR FAMILIES                                 |30000.00  |\n",
      "|Manhattan|Harlem-central           |RENTALS - WALKUP APARTMENTS   |FOUR FAMILIES                                 |0.00      |\n",
      "+---------+-------------------------+------------------------------+----------------------------------------------+----------+\n",
      "only showing top 20 rows\n",
      "\n"
     ]
    }
   ],
   "source": [
    "dfManhattan20032019BCD.select('Borough',\n",
    " 'Neighborhood',\n",
    " 'Building Class Category',\n",
    "'Description',\n",
    " 'Sale Price'\n",
    " ).show(truncate=False)"
   ]
  },
  {
   "cell_type": "markdown",
   "id": "81071cca",
   "metadata": {},
   "source": [
    "###  Calculating a few statistical methods"
   ]
  },
  {
   "cell_type": "code",
   "execution_count": 255,
   "id": "1147ee74",
   "metadata": {},
   "outputs": [
    {
     "name": "stdout",
     "output_type": "stream",
     "text": [
      "+-------------------------+-----------------+-----------------+--------------+--------------+\n",
      "|Neighborhood             |Sum Of Sale Price|Avg of Sale Price|Max Sale Price|Min Sale Price|\n",
      "+-------------------------+-----------------+-----------------+--------------+--------------+\n",
      "|Washington heights upper |4273285599.00    |1066987.665169   |36700000.00   |1.00          |\n",
      "|Harlem-east              |2114100799.00    |5033573.330952   |340000000.00  |1.00          |\n",
      "|Washington heights upper |826987128.00     |1615209.234375   |54000000.00   |1.00          |\n",
      "|Upper bay                |2.00             |1.000000         |1.00          |1.00          |\n",
      "|Tribeca                  |6392177903.00    |5291537.999172   |352000000.00  |1.00          |\n",
      "|Fashion                  |4668745732.00    |16497334.742049  |850000000.00  |10.00         |\n",
      "|Clinton                  |9015817118.00    |2455287.886166   |263000000.00  |1.00          |\n",
      "|Upper east side (59-79)  |10452723883.00   |3254272.690847   |200000000.00  |1.00          |\n",
      "|Southbridge              |4073608420.00    |4815139.976359   |539000000.00  |10.00         |\n",
      "|Alphabet city            |708105263.00     |2352509.179402   |82000000.00   |2.00          |\n",
      "|Chelsea                  |30078691079.00   |2682483.820476   |1770000000.00 |1.00          |\n",
      "|Harlem-upper             |3867814543.00    |2246117.620790   |1350000000.00 |1.00          |\n",
      "|Greenwich village-central|19494569892.00   |2093713.875201   |210000000.00  |1.00          |\n",
      "|Little italy             |621814700.00     |5978987.500000   |39750000.00   |312000.00     |\n",
      "|Flatiron                 |21638334500.00   |4313862.539872   |719469763.00  |1.00          |\n",
      "|East village             |4244233956.00    |1918731.444846   |67500000.00   |1.00          |\n",
      "|Washington heights lower |770908359.00     |2511102.146580   |43000000.00   |1.00          |\n",
      "|Southbridge              |621377165.00     |2515697.024291   |182722500.00  |10.00         |\n",
      "|Midtown cbd              |51527742151.00   |18067230.768233  |2800000000.00 |1.00          |\n",
      "|Manhattan valley         |936775624.00     |2005943.520343   |75000000.00   |1.00          |\n",
      "+-------------------------+-----------------+-----------------+--------------+--------------+\n",
      "only showing top 20 rows\n",
      "\n"
     ]
    }
   ],
   "source": [
    "STATdfManhattan20032019BCD = dfManhattan20032019BCD.filter(dfManhattan20032019BCD[\"Sale Price\"] > 0)\n",
    "\n",
    "\n",
    "STATdfManhattan20032019BCD.groupBy(\"Neighborhood\") \\\n",
    "    .agg(sum(\"Sale Price\").alias(\"Sum Of Sale Price\"), \\\n",
    "         avg(\"Sale Price\").alias(\"Avg of Sale Price\"), \\\n",
    "         max(\"Sale Price\").alias(\"Max Sale Price\"), \\\n",
    "         min(\"Sale Price\").alias(\"Min Sale Price\") \\\n",
    "     ) \\\n",
    "    .show(truncate=False)"
   ]
  },
  {
   "cell_type": "markdown",
   "id": "5e8204f3",
   "metadata": {},
   "source": [
    "### Grouping by Neighborhood, Building Class Category and Description"
   ]
  },
  {
   "cell_type": "code",
   "execution_count": 256,
   "id": "30cf3d66",
   "metadata": {},
   "outputs": [],
   "source": [
    "GroupingSalesManhattan20032019  = dfManhattan20032019BCD.groupBy('Borough',\n",
    "                                                     'Neighborhood',\n",
    "                                                     'Building Class Category',\n",
    "                                                     'Description').sum('Sale Price')"
   ]
  },
  {
   "cell_type": "code",
   "execution_count": 257,
   "id": "fc494e89",
   "metadata": {},
   "outputs": [
    {
     "name": "stdout",
     "output_type": "stream",
     "text": [
      "+---------+-------------------------+----------------------------+-----------------------------------+--------------+\n",
      "|  Borough|             Neighborhood|     Building Class Category|                        Description|    Sale Price|\n",
      "+---------+-------------------------+----------------------------+-----------------------------------+--------------+\n",
      "|Manhattan|Upper east side (79-96)  | COOPS - ELEVATOR APARTMENTS|               ELEVATOR COOPERATIVE|17570232275.00|\n",
      "|Manhattan|Upper west side (79-96)  |CONDOS - ELEVATOR APARTMENTS|CONDO; RESIDENTIAL UNIT IN ELEVA...| 4737426261.00|\n",
      "|Manhattan|Clinton                  |   COOPS - WALKUP APARTMENTS|                WALK-UP COOPERATIVE|  196722870.00|\n",
      "|Manhattan|  Upper west side (79-96)|       CONDO STORE BUILDINGS|                       RETAIL SPACE|   19000000.00|\n",
      "|Manhattan|Financial                |                 CONDO COOPS|         CO-OP WITHIN A CONDOMINIUM|    6741000.00|\n",
      "|Manhattan|  Upper west side (59-79)|   COOPS - WALKUP APARTMENTS|                WALK-UP COOPERATIVE|   71508021.00|\n",
      "|Manhattan| Washington heights upper|CONDOS - ELEVATOR APARTMENTS|CONDO; RESIDENTIAL UNIT IN ELEVA...|   49150025.00|\n",
      "|Manhattan| Washington heights upper|       CONDO STORE BUILDINGS|                       RETAIL SPACE|          0.00|\n",
      "|Manhattan|           Harlem-central|               CONDO PARKING|                     INDOOR PARKING|    2338564.00|\n",
      "|Manhattan|   Greenwich village-west|        TWO FAMILY DWELLINGS|TWO FAMILY CONVERTED FROM ONE FA...|   58425010.00|\n",
      "+---------+-------------------------+----------------------------+-----------------------------------+--------------+\n",
      "only showing top 10 rows\n",
      "\n"
     ]
    }
   ],
   "source": [
    "GroupingSalesManhattan20032019.select(\"Borough\", \n",
    "                                  \"Neighborhood\",\n",
    "                                  \"Building Class Category\",\n",
    "                                  \"Description\",\n",
    "                                  col(\"sum(Sale Price)\").alias(\"Sale Price\")).show(10,35)"
   ]
  },
  {
   "cell_type": "markdown",
   "id": "b072ebe8",
   "metadata": {},
   "source": [
    "### Grouping and perform analysis using window functions"
   ]
  },
  {
   "cell_type": "code",
   "execution_count": 258,
   "id": "ee1df019",
   "metadata": {},
   "outputs": [],
   "source": [
    "GroupSalesManhattan20032019 = dfManhattan20032019BCD.groupBy('Borough',\n",
    "                                                             'Neighborhood',\n",
    "                                                             'Building Class Category').sum('Sale Price')"
   ]
  },
  {
   "cell_type": "code",
   "execution_count": 259,
   "id": "7a2a48a4",
   "metadata": {},
   "outputs": [
    {
     "name": "stdout",
     "output_type": "stream",
     "text": [
      "+---------+------------------------+---------------------------------------+------------+\n",
      "|Borough  |Neighborhood            |Building Class Category                |Sale Price  |\n",
      "+---------+------------------------+---------------------------------------+------------+\n",
      "|Manhattan|East village            |COOPS - WALKUP APARTMENTS              |212577874.00|\n",
      "|Manhattan|Upper west side (96-116)|RELIGIOUS FACILITIES                   |0.00        |\n",
      "|Manhattan|Greenwich village-west  |RENTALS - WALKUP APARTMENTS            |491694700.00|\n",
      "|Manhattan|Clinton                 |CONDO STORE BUILDINGS                  |18040000.00 |\n",
      "|Manhattan|Financial               |CONDO OFFICE BUILDINGS                 |317052078.00|\n",
      "|Manhattan|Upper east side (79-96) |CONDO COOPS                            |67605249.00 |\n",
      "|Manhattan|Harlem-upper            |EDUCATIONAL FACILITIES                 |4250001.00  |\n",
      "|Manhattan|Javits center           |TAX CLASS 3 - UTILITY PROPERTIES       |71953000.00 |\n",
      "|Manhattan|Fashion                 |CONDOS - 2-10 UNIT RESIDENTIAL         |929000.00   |\n",
      "|Manhattan|Tribeca                 |OFFICE BUILDINGS                       |406495030.00|\n",
      "|Manhattan|Lower east side         |TWO FAMILY DWELLINGS                   |5300000.00  |\n",
      "|Manhattan|Soho                    |CONDOPS                                |66599796.00 |\n",
      "|Manhattan|Inwood                  |ONE FAMILY HOMES                       |13966200.00 |\n",
      "|Manhattan|Upper east side (79-96) |RENTALS - 4-10 UNIT                    |216657543.00|\n",
      "|Manhattan|Tribeca                 |CONDOS - 2-10 UNIT WITH COMMERCIAL UNIT|32502275.00 |\n",
      "|Manhattan|Greenwich village-west  |CONDO OFFICE BUILDINGS                 |5370000.00  |\n",
      "|Manhattan|Chelsea                 |EDUCATIONAL FACILITIES                 |136810881.00|\n",
      "|Manhattan|Civic center            |CONDOPS                                |37154126.00 |\n",
      "|Manhattan|Manhattan valley        |CONDOS - 2-10 UNIT WITH COMMERCIAL UNIT|1818583.00  |\n",
      "|Manhattan|Little italy            |CONDOS - 2-10 UNIT WITH COMMERCIAL UNIT|12150000.00 |\n",
      "+---------+------------------------+---------------------------------------+------------+\n",
      "only showing top 20 rows\n",
      "\n"
     ]
    }
   ],
   "source": [
    "GroupSalesManhattan20032019 = GroupSalesManhattan20032019.select(\n",
    "                                'Borough',\n",
    "                               trim(col(\"Neighborhood\")).alias(\"Neighborhood\"),\n",
    "                                trim(col(\"Building Class Category\")).alias(\"Building Class Category\"),\n",
    "                               col('sum(Sale Price)').alias(\"Sale Price\"))\n",
    "\n",
    "GroupSalesManhattan20032019.show(truncate=False)"
   ]
  },
  {
   "cell_type": "code",
   "execution_count": 260,
   "id": "fcf0c7f6",
   "metadata": {},
   "outputs": [],
   "source": [
    "windowSpec = Window.partitionBy(\"Neighborhood\").orderBy(desc(col(\"Sale Price\")))"
   ]
  },
  {
   "cell_type": "code",
   "execution_count": 261,
   "id": "65696d49",
   "metadata": {},
   "outputs": [
    {
     "name": "stdout",
     "output_type": "stream",
     "text": [
      "+---------+-------------+-----------------------+------------+------------+\n",
      "|  Borough| Neighborhood|Building Class Category|  Sale Price|RankingSales|\n",
      "+---------+-------------+-----------------------+------------+------------+\n",
      "|Manhattan|Alphabet city|   RENTALS - WALKUP ...|772481936.00|           1|\n",
      "|Manhattan|Alphabet city|   COOPS - WALKUP AP...|298904387.00|           2|\n",
      "|Manhattan|Alphabet city|   RENTALS - ELEVATO...|298119017.00|           3|\n",
      "|Manhattan|Alphabet city|   CONDOS - ELEVATOR...|290065587.00|           4|\n",
      "|Manhattan|Alphabet city|   CONDOS - 2-10 UNI...|187149361.00|           5|\n",
      "|Manhattan|Alphabet city|   RENTALS - WALKUP ...|169617453.00|           6|\n",
      "|Manhattan|Alphabet city|        STORE BUILDINGS|110826347.00|           7|\n",
      "|Manhattan|Alphabet city|   RENTALS - ELEVATO...|110558642.00|           8|\n",
      "|Manhattan|Alphabet city|            CONDO COOPS|110015974.00|           9|\n",
      "|Manhattan|Alphabet city|            CONDO COOPS|103848000.00|          10|\n",
      "|Manhattan|Alphabet city|   COOPS - WALKUP AP...| 86317292.00|          11|\n",
      "|Manhattan|Alphabet city|   COMMERCIAL VACANT...| 85666095.00|          12|\n",
      "|Manhattan|Alphabet city|   CONDOS - ELEVATOR...| 76405441.00|          13|\n",
      "|Manhattan|Alphabet city|   CONDOS - WALKUP A...| 70762010.00|          14|\n",
      "|Manhattan|Alphabet city|        A CONDO-RENTALS| 56000000.00|          15|\n",
      "|Manhattan|Alphabet city|   COOPS - ELEVATOR ...| 53444416.00|          16|\n",
      "|Manhattan|Alphabet city|   HOSPITAL AND HEAL...| 39900001.00|          17|\n",
      "|Manhattan|Alphabet city|    RENTALS - 4-10 UNIT| 35945459.00|          18|\n",
      "|Manhattan|Alphabet city|   CONDO STORE BUILD...| 32800000.00|          19|\n",
      "|Manhattan|Alphabet city|                CONDOPS| 27106786.00|          20|\n",
      "+---------+-------------+-----------------------+------------+------------+\n",
      "only showing top 20 rows\n",
      "\n"
     ]
    }
   ],
   "source": [
    "RNGroupSalesManhattan20032019 = GroupSalesManhattan20032019.withColumn(\"RankingSales\", row_number().over(windowSpec))\n",
    "RNGroupSalesManhattan20032019.show()"
   ]
  },
  {
   "cell_type": "code",
   "execution_count": 262,
   "id": "2499d62e",
   "metadata": {},
   "outputs": [
    {
     "name": "stdout",
     "output_type": "stream",
     "text": [
      "+---------+-------------------------+------------------------------+--------------+------------+\n",
      "|  Borough|             Neighborhood|       Building Class Category|    Sale Price|RankingSales|\n",
      "+---------+-------------------------+------------------------------+--------------+------------+\n",
      "|Manhattan|            Alphabet city|   RENTALS - WALKUP APARTMENTS|  772481936.00|           1|\n",
      "|Manhattan|                  Chelsea|  CONDOS - ELEVATOR APARTMENTS| 9641026469.00|           1|\n",
      "|Manhattan|                Chinatown|  CONDOS - ELEVATOR APARTMENTS|  813097254.00|           1|\n",
      "|Manhattan|             Civic center|  CONDOS - ELEVATOR APARTMENTS| 3160142750.00|           1|\n",
      "|Manhattan|                  Clinton|  CONDOS - ELEVATOR APARTMENTS| 3139354016.00|           1|\n",
      "|Manhattan|             East village|   RENTALS - WALKUP APARTMENTS| 1420314052.00|           1|\n",
      "|Manhattan|                  Fashion|              OFFICE BUILDINGS|11069492738.00|           1|\n",
      "|Manhattan|                Financial|              OFFICE BUILDINGS|13521179102.00|           1|\n",
      "|Manhattan|                 Flatiron|  CONDOS - ELEVATOR APARTMENTS| 6100483222.00|           1|\n",
      "|Manhattan|                 Gramercy|   COOPS - ELEVATOR APARTMENTS| 2879499320.00|           1|\n",
      "|Manhattan|Greenwich village-central|   COOPS - ELEVATOR APARTMENTS| 6064784477.00|           1|\n",
      "|Manhattan|   Greenwich village-west|  CONDOS - ELEVATOR APARTMENTS| 6499394829.00|           1|\n",
      "|Manhattan|           Harlem-central|   RENTALS - WALKUP APARTMENTS| 3314385815.00|           1|\n",
      "|Manhattan|              Harlem-east| RENTALS - ELEVATOR APARTMENTS| 1285656835.00|           1|\n",
      "|Manhattan|             Harlem-upper|          RELIGIOUS FACILITIES| 1355707227.00|           1|\n",
      "|Manhattan|              Harlem-west|   RENTALS - WALKUP APARTMENTS|  498678588.00|           1|\n",
      "|Manhattan|                   Inwood|   RENTALS - WALKUP APARTMENTS|  727583142.00|           1|\n",
      "|Manhattan|            Javits center|        CONDO OFFICE BUILDINGS| 2331992837.00|           1|\n",
      "|Manhattan|                 Kips bay| RENTALS - ELEVATOR APARTMENTS|17266617349.00|           1|\n",
      "|Manhattan|             Little italy|  CONDOS - ELEVATOR APARTMENTS|  638435435.00|           1|\n",
      "|Manhattan|          Lower east side|   COOPS - ELEVATOR APARTMENTS| 1261284633.00|           1|\n",
      "|Manhattan|         Manhattan valley|  CONDOS - ELEVATOR APARTMENTS| 1532301408.00|           1|\n",
      "|Manhattan|        Manhattan-unknown|               STORE BUILDINGS|   36300000.00|           1|\n",
      "|Manhattan|              Midtown cbd|              OFFICE BUILDINGS|33801303759.00|           1|\n",
      "|Manhattan|             Midtown east|   COOPS - ELEVATOR APARTMENTS| 7406039255.00|           1|\n",
      "|Manhattan|             Midtown west|              OFFICE BUILDINGS|30615203266.00|           1|\n",
      "|Manhattan|      Morningside heights|   COOPS - ELEVATOR APARTMENTS|  382037744.00|           1|\n",
      "|Manhattan|              Murray hill|              OFFICE BUILDINGS| 5355694100.00|           1|\n",
      "|Manhattan|         Roosevelt island|  CONDOS - ELEVATOR APARTMENTS|   34400574.00|           1|\n",
      "|Manhattan|                     Soho|  CONDOS - ELEVATOR APARTMENTS| 4236135703.00|           1|\n",
      "|Manhattan|              Southbridge|               A CONDO-RENTALS| 1093350000.00|           1|\n",
      "|Manhattan|                  Tribeca|  CONDOS - ELEVATOR APARTMENTS|10758018380.00|           1|\n",
      "|Manhattan|                Upper bay|SELECTED GOVERNMENTAL FACIL...|          2.00|           1|\n",
      "|Manhattan|  Upper east side (59-79)|   COOPS - ELEVATOR APARTMENTS|19960855435.00|           1|\n",
      "|Manhattan|  Upper east side (79-96)|   COOPS - ELEVATOR APARTMENTS|17570232275.00|           1|\n",
      "|Manhattan| Upper east side (96-110)|   COOPS - ELEVATOR APARTMENTS|  766723957.00|           1|\n",
      "|Manhattan|  Upper west side (59-79)|  CONDOS - ELEVATOR APARTMENTS|20956386858.00|           1|\n",
      "|Manhattan|  Upper west side (79-96)|   COOPS - ELEVATOR APARTMENTS| 8108973837.00|           1|\n",
      "|Manhattan| Upper west side (96-116)|   COOPS - ELEVATOR APARTMENTS| 2740040969.00|           1|\n",
      "|Manhattan| Washington heights lower| RENTALS - ELEVATOR APARTMENTS| 1647802228.00|           1|\n",
      "|Manhattan| Washington heights upper|   RENTALS - WALKUP APARTMENTS| 1437160085.00|           1|\n",
      "+---------+-------------------------+------------------------------+--------------+------------+\n",
      "\n"
     ]
    }
   ],
   "source": [
    "RNGroupSalesManhattan20032019.filter(RNGroupSalesManhattan20032019[\"RankingSales\"] ==1).show(100,30)"
   ]
  },
  {
   "cell_type": "code",
   "execution_count": 263,
   "id": "addf7387",
   "metadata": {},
   "outputs": [
    {
     "name": "stdout",
     "output_type": "stream",
     "text": [
      "+---------+-------------+-----------------------+------------+-------+\n",
      "|  Borough| Neighborhood|Building Class Category|  Sale Price|Ranking|\n",
      "+---------+-------------+-----------------------+------------+-------+\n",
      "|Manhattan|Alphabet city|   RENTALS - WALKUP ...|772481936.00|      1|\n",
      "|Manhattan|Alphabet city|   COOPS - WALKUP AP...|298904387.00|      2|\n",
      "|Manhattan|Alphabet city|   RENTALS - ELEVATO...|298119017.00|      3|\n",
      "|Manhattan|Alphabet city|   CONDOS - ELEVATOR...|290065587.00|      4|\n",
      "|Manhattan|Alphabet city|   CONDOS - 2-10 UNI...|187149361.00|      5|\n",
      "|Manhattan|Alphabet city|   RENTALS - WALKUP ...|169617453.00|      6|\n",
      "|Manhattan|Alphabet city|        STORE BUILDINGS|110826347.00|      7|\n",
      "|Manhattan|Alphabet city|   RENTALS - ELEVATO...|110558642.00|      8|\n",
      "|Manhattan|Alphabet city|            CONDO COOPS|110015974.00|      9|\n",
      "|Manhattan|Alphabet city|            CONDO COOPS|103848000.00|     10|\n",
      "|Manhattan|Alphabet city|   COOPS - WALKUP AP...| 86317292.00|     11|\n",
      "|Manhattan|Alphabet city|   COMMERCIAL VACANT...| 85666095.00|     12|\n",
      "|Manhattan|Alphabet city|   CONDOS - ELEVATOR...| 76405441.00|     13|\n",
      "|Manhattan|Alphabet city|   CONDOS - WALKUP A...| 70762010.00|     14|\n",
      "|Manhattan|Alphabet city|        A CONDO-RENTALS| 56000000.00|     15|\n",
      "|Manhattan|Alphabet city|   COOPS - ELEVATOR ...| 53444416.00|     16|\n",
      "|Manhattan|Alphabet city|   HOSPITAL AND HEAL...| 39900001.00|     17|\n",
      "|Manhattan|Alphabet city|    RENTALS - 4-10 UNIT| 35945459.00|     18|\n",
      "|Manhattan|Alphabet city|   CONDO STORE BUILD...| 32800000.00|     19|\n",
      "|Manhattan|Alphabet city|                CONDOPS| 27106786.00|     20|\n",
      "+---------+-------------+-----------------------+------------+-------+\n",
      "only showing top 20 rows\n",
      "\n"
     ]
    }
   ],
   "source": [
    "RANKGroupSalesManhattan20032019 = GroupSalesManhattan20032019.withColumn(\"Ranking\", rank().over(windowSpec))\n",
    "RANKGroupSalesManhattan20032019.show()"
   ]
  },
  {
   "cell_type": "code",
   "execution_count": 264,
   "id": "916b0c5b",
   "metadata": {},
   "outputs": [
    {
     "name": "stdout",
     "output_type": "stream",
     "text": [
      "+---------+-------------------------+------------------------------+--------------+-------+\n",
      "|  Borough|             Neighborhood|       Building Class Category|    Sale Price|Ranking|\n",
      "+---------+-------------------------+------------------------------+--------------+-------+\n",
      "|Manhattan|            Alphabet city|   RENTALS - WALKUP APARTMENTS|  772481936.00|      1|\n",
      "|Manhattan|                  Chelsea|  CONDOS - ELEVATOR APARTMENTS| 9641026469.00|      1|\n",
      "|Manhattan|                Chinatown|  CONDOS - ELEVATOR APARTMENTS|  813097254.00|      1|\n",
      "|Manhattan|             Civic center|  CONDOS - ELEVATOR APARTMENTS| 3160142750.00|      1|\n",
      "|Manhattan|                  Clinton|  CONDOS - ELEVATOR APARTMENTS| 3139354016.00|      1|\n",
      "|Manhattan|             East village|   RENTALS - WALKUP APARTMENTS| 1420314052.00|      1|\n",
      "|Manhattan|                  Fashion|              OFFICE BUILDINGS|11069492738.00|      1|\n",
      "|Manhattan|                Financial|              OFFICE BUILDINGS|13521179102.00|      1|\n",
      "|Manhattan|                 Flatiron|  CONDOS - ELEVATOR APARTMENTS| 6100483222.00|      1|\n",
      "|Manhattan|                 Gramercy|   COOPS - ELEVATOR APARTMENTS| 2879499320.00|      1|\n",
      "|Manhattan|Greenwich village-central|   COOPS - ELEVATOR APARTMENTS| 6064784477.00|      1|\n",
      "|Manhattan|   Greenwich village-west|  CONDOS - ELEVATOR APARTMENTS| 6499394829.00|      1|\n",
      "|Manhattan|           Harlem-central|   RENTALS - WALKUP APARTMENTS| 3314385815.00|      1|\n",
      "|Manhattan|              Harlem-east| RENTALS - ELEVATOR APARTMENTS| 1285656835.00|      1|\n",
      "|Manhattan|             Harlem-upper|          RELIGIOUS FACILITIES| 1355707227.00|      1|\n",
      "|Manhattan|              Harlem-west|   RENTALS - WALKUP APARTMENTS|  498678588.00|      1|\n",
      "|Manhattan|                   Inwood|   RENTALS - WALKUP APARTMENTS|  727583142.00|      1|\n",
      "|Manhattan|            Javits center|        CONDO OFFICE BUILDINGS| 2331992837.00|      1|\n",
      "|Manhattan|                 Kips bay| RENTALS - ELEVATOR APARTMENTS|17266617349.00|      1|\n",
      "|Manhattan|             Little italy|  CONDOS - ELEVATOR APARTMENTS|  638435435.00|      1|\n",
      "|Manhattan|          Lower east side|   COOPS - ELEVATOR APARTMENTS| 1261284633.00|      1|\n",
      "|Manhattan|         Manhattan valley|  CONDOS - ELEVATOR APARTMENTS| 1532301408.00|      1|\n",
      "|Manhattan|        Manhattan-unknown|               STORE BUILDINGS|   36300000.00|      1|\n",
      "|Manhattan|              Midtown cbd|              OFFICE BUILDINGS|33801303759.00|      1|\n",
      "|Manhattan|             Midtown east|   COOPS - ELEVATOR APARTMENTS| 7406039255.00|      1|\n",
      "|Manhattan|             Midtown west|              OFFICE BUILDINGS|30615203266.00|      1|\n",
      "|Manhattan|      Morningside heights|   COOPS - ELEVATOR APARTMENTS|  382037744.00|      1|\n",
      "|Manhattan|              Murray hill|              OFFICE BUILDINGS| 5355694100.00|      1|\n",
      "|Manhattan|         Roosevelt island|  CONDOS - ELEVATOR APARTMENTS|   34400574.00|      1|\n",
      "|Manhattan|                     Soho|  CONDOS - ELEVATOR APARTMENTS| 4236135703.00|      1|\n",
      "|Manhattan|              Southbridge|               A CONDO-RENTALS| 1093350000.00|      1|\n",
      "|Manhattan|                  Tribeca|  CONDOS - ELEVATOR APARTMENTS|10758018380.00|      1|\n",
      "|Manhattan|                Upper bay|SELECTED GOVERNMENTAL FACIL...|          2.00|      1|\n",
      "|Manhattan|  Upper east side (59-79)|   COOPS - ELEVATOR APARTMENTS|19960855435.00|      1|\n",
      "|Manhattan|  Upper east side (79-96)|   COOPS - ELEVATOR APARTMENTS|17570232275.00|      1|\n",
      "|Manhattan| Upper east side (96-110)|   COOPS - ELEVATOR APARTMENTS|  766723957.00|      1|\n",
      "|Manhattan|  Upper west side (59-79)|  CONDOS - ELEVATOR APARTMENTS|20956386858.00|      1|\n",
      "|Manhattan|  Upper west side (79-96)|   COOPS - ELEVATOR APARTMENTS| 8108973837.00|      1|\n",
      "|Manhattan| Upper west side (96-116)|   COOPS - ELEVATOR APARTMENTS| 2740040969.00|      1|\n",
      "|Manhattan| Washington heights lower| RENTALS - ELEVATOR APARTMENTS| 1647802228.00|      1|\n",
      "|Manhattan| Washington heights upper|   RENTALS - WALKUP APARTMENTS| 1437160085.00|      1|\n",
      "+---------+-------------------------+------------------------------+--------------+-------+\n",
      "\n"
     ]
    }
   ],
   "source": [
    "RANKGroupSalesManhattan20032019.filter(RANKGroupSalesManhattan20032019[\"Ranking\"] == 1).show(100,30)"
   ]
  },
  {
   "cell_type": "code",
   "execution_count": 265,
   "id": "89e35083",
   "metadata": {},
   "outputs": [
    {
     "name": "stdout",
     "output_type": "stream",
     "text": [
      "+---------+-------------+-----------------------+------------+---------+\n",
      "|  Borough| Neighborhood|Building Class Category|  Sale Price|DenseRank|\n",
      "+---------+-------------+-----------------------+------------+---------+\n",
      "|Manhattan|Alphabet city|   RENTALS - WALKUP ...|772481936.00|        1|\n",
      "|Manhattan|Alphabet city|   COOPS - WALKUP AP...|298904387.00|        2|\n",
      "|Manhattan|Alphabet city|   RENTALS - ELEVATO...|298119017.00|        3|\n",
      "|Manhattan|Alphabet city|   CONDOS - ELEVATOR...|290065587.00|        4|\n",
      "|Manhattan|Alphabet city|   CONDOS - 2-10 UNI...|187149361.00|        5|\n",
      "|Manhattan|Alphabet city|   RENTALS - WALKUP ...|169617453.00|        6|\n",
      "|Manhattan|Alphabet city|        STORE BUILDINGS|110826347.00|        7|\n",
      "|Manhattan|Alphabet city|   RENTALS - ELEVATO...|110558642.00|        8|\n",
      "|Manhattan|Alphabet city|            CONDO COOPS|110015974.00|        9|\n",
      "|Manhattan|Alphabet city|            CONDO COOPS|103848000.00|       10|\n",
      "|Manhattan|Alphabet city|   COOPS - WALKUP AP...| 86317292.00|       11|\n",
      "|Manhattan|Alphabet city|   COMMERCIAL VACANT...| 85666095.00|       12|\n",
      "|Manhattan|Alphabet city|   CONDOS - ELEVATOR...| 76405441.00|       13|\n",
      "|Manhattan|Alphabet city|   CONDOS - WALKUP A...| 70762010.00|       14|\n",
      "|Manhattan|Alphabet city|        A CONDO-RENTALS| 56000000.00|       15|\n",
      "|Manhattan|Alphabet city|   COOPS - ELEVATOR ...| 53444416.00|       16|\n",
      "|Manhattan|Alphabet city|   HOSPITAL AND HEAL...| 39900001.00|       17|\n",
      "|Manhattan|Alphabet city|    RENTALS - 4-10 UNIT| 35945459.00|       18|\n",
      "|Manhattan|Alphabet city|   CONDO STORE BUILD...| 32800000.00|       19|\n",
      "|Manhattan|Alphabet city|                CONDOPS| 27106786.00|       20|\n",
      "+---------+-------------+-----------------------+------------+---------+\n",
      "only showing top 20 rows\n",
      "\n"
     ]
    }
   ],
   "source": [
    "DENSERANKGroupSalesManhattan20032019 = GroupSalesManhattan20032019.withColumn(\"DenseRank\", dense_rank().over(windowSpec))\n",
    "DENSERANKGroupSalesManhattan20032019.show()"
   ]
  },
  {
   "cell_type": "code",
   "execution_count": 266,
   "id": "f0d0caaf",
   "metadata": {},
   "outputs": [
    {
     "name": "stdout",
     "output_type": "stream",
     "text": [
      "+---------+-------------------------+------------------------------+--------------+---------+\n",
      "|  Borough|             Neighborhood|       Building Class Category|    Sale Price|DenseRank|\n",
      "+---------+-------------------------+------------------------------+--------------+---------+\n",
      "|Manhattan|            Alphabet city|   RENTALS - WALKUP APARTMENTS|  772481936.00|        1|\n",
      "|Manhattan|                  Chelsea|  CONDOS - ELEVATOR APARTMENTS| 9641026469.00|        1|\n",
      "|Manhattan|                Chinatown|  CONDOS - ELEVATOR APARTMENTS|  813097254.00|        1|\n",
      "|Manhattan|             Civic center|  CONDOS - ELEVATOR APARTMENTS| 3160142750.00|        1|\n",
      "|Manhattan|                  Clinton|  CONDOS - ELEVATOR APARTMENTS| 3139354016.00|        1|\n",
      "|Manhattan|             East village|   RENTALS - WALKUP APARTMENTS| 1420314052.00|        1|\n",
      "|Manhattan|                  Fashion|              OFFICE BUILDINGS|11069492738.00|        1|\n",
      "|Manhattan|                Financial|              OFFICE BUILDINGS|13521179102.00|        1|\n",
      "|Manhattan|                 Flatiron|  CONDOS - ELEVATOR APARTMENTS| 6100483222.00|        1|\n",
      "|Manhattan|                 Gramercy|   COOPS - ELEVATOR APARTMENTS| 2879499320.00|        1|\n",
      "|Manhattan|Greenwich village-central|   COOPS - ELEVATOR APARTMENTS| 6064784477.00|        1|\n",
      "|Manhattan|   Greenwich village-west|  CONDOS - ELEVATOR APARTMENTS| 6499394829.00|        1|\n",
      "|Manhattan|           Harlem-central|   RENTALS - WALKUP APARTMENTS| 3314385815.00|        1|\n",
      "|Manhattan|              Harlem-east| RENTALS - ELEVATOR APARTMENTS| 1285656835.00|        1|\n",
      "|Manhattan|             Harlem-upper|          RELIGIOUS FACILITIES| 1355707227.00|        1|\n",
      "|Manhattan|              Harlem-west|   RENTALS - WALKUP APARTMENTS|  498678588.00|        1|\n",
      "|Manhattan|                   Inwood|   RENTALS - WALKUP APARTMENTS|  727583142.00|        1|\n",
      "|Manhattan|            Javits center|        CONDO OFFICE BUILDINGS| 2331992837.00|        1|\n",
      "|Manhattan|                 Kips bay| RENTALS - ELEVATOR APARTMENTS|17266617349.00|        1|\n",
      "|Manhattan|             Little italy|  CONDOS - ELEVATOR APARTMENTS|  638435435.00|        1|\n",
      "|Manhattan|          Lower east side|   COOPS - ELEVATOR APARTMENTS| 1261284633.00|        1|\n",
      "|Manhattan|         Manhattan valley|  CONDOS - ELEVATOR APARTMENTS| 1532301408.00|        1|\n",
      "|Manhattan|        Manhattan-unknown|               STORE BUILDINGS|   36300000.00|        1|\n",
      "|Manhattan|              Midtown cbd|              OFFICE BUILDINGS|33801303759.00|        1|\n",
      "|Manhattan|             Midtown east|   COOPS - ELEVATOR APARTMENTS| 7406039255.00|        1|\n",
      "|Manhattan|             Midtown west|              OFFICE BUILDINGS|30615203266.00|        1|\n",
      "|Manhattan|      Morningside heights|   COOPS - ELEVATOR APARTMENTS|  382037744.00|        1|\n",
      "|Manhattan|              Murray hill|              OFFICE BUILDINGS| 5355694100.00|        1|\n",
      "|Manhattan|         Roosevelt island|  CONDOS - ELEVATOR APARTMENTS|   34400574.00|        1|\n",
      "|Manhattan|                     Soho|  CONDOS - ELEVATOR APARTMENTS| 4236135703.00|        1|\n",
      "|Manhattan|              Southbridge|               A CONDO-RENTALS| 1093350000.00|        1|\n",
      "|Manhattan|                  Tribeca|  CONDOS - ELEVATOR APARTMENTS|10758018380.00|        1|\n",
      "|Manhattan|                Upper bay|SELECTED GOVERNMENTAL FACIL...|          2.00|        1|\n",
      "|Manhattan|  Upper east side (59-79)|   COOPS - ELEVATOR APARTMENTS|19960855435.00|        1|\n",
      "|Manhattan|  Upper east side (79-96)|   COOPS - ELEVATOR APARTMENTS|17570232275.00|        1|\n",
      "|Manhattan| Upper east side (96-110)|   COOPS - ELEVATOR APARTMENTS|  766723957.00|        1|\n",
      "|Manhattan|  Upper west side (59-79)|  CONDOS - ELEVATOR APARTMENTS|20956386858.00|        1|\n",
      "|Manhattan|  Upper west side (79-96)|   COOPS - ELEVATOR APARTMENTS| 8108973837.00|        1|\n",
      "|Manhattan| Upper west side (96-116)|   COOPS - ELEVATOR APARTMENTS| 2740040969.00|        1|\n",
      "|Manhattan| Washington heights lower| RENTALS - ELEVATOR APARTMENTS| 1647802228.00|        1|\n",
      "|Manhattan| Washington heights upper|   RENTALS - WALKUP APARTMENTS| 1437160085.00|        1|\n",
      "+---------+-------------------------+------------------------------+--------------+---------+\n",
      "\n"
     ]
    }
   ],
   "source": [
    "DENSERANKGroupSalesManhattan20032019.filter(DENSERANKGroupSalesManhattan20032019[\"DenseRank\"] == 1).show(100,30)"
   ]
  },
  {
   "cell_type": "code",
   "execution_count": 267,
   "id": "cd4abc5d",
   "metadata": {},
   "outputs": [
    {
     "name": "stdout",
     "output_type": "stream",
     "text": [
      "+---------+-------------+-----------------------+------------+------------------+\n",
      "|  Borough| Neighborhood|Building Class Category|  Sale Price|       PercentRank|\n",
      "+---------+-------------+-----------------------+------------+------------------+\n",
      "|Manhattan|Alphabet city|   RENTALS - WALKUP ...|772481936.00|               0.0|\n",
      "|Manhattan|Alphabet city|   COOPS - WALKUP AP...|298904387.00|               2.0|\n",
      "|Manhattan|Alphabet city|   RENTALS - ELEVATO...|298119017.00|               4.0|\n",
      "|Manhattan|Alphabet city|   CONDOS - ELEVATOR...|290065587.00|               6.0|\n",
      "|Manhattan|Alphabet city|   CONDOS - 2-10 UNI...|187149361.00|               8.0|\n",
      "|Manhattan|Alphabet city|   RENTALS - WALKUP ...|169617453.00|              10.0|\n",
      "|Manhattan|Alphabet city|        STORE BUILDINGS|110826347.00|              12.0|\n",
      "|Manhattan|Alphabet city|   RENTALS - ELEVATO...|110558642.00|14.000000000000002|\n",
      "|Manhattan|Alphabet city|            CONDO COOPS|110015974.00|              16.0|\n",
      "|Manhattan|Alphabet city|            CONDO COOPS|103848000.00|              18.0|\n",
      "|Manhattan|Alphabet city|   COOPS - WALKUP AP...| 86317292.00|              20.0|\n",
      "|Manhattan|Alphabet city|   COMMERCIAL VACANT...| 85666095.00|              22.0|\n",
      "|Manhattan|Alphabet city|   CONDOS - ELEVATOR...| 76405441.00|              24.0|\n",
      "|Manhattan|Alphabet city|   CONDOS - WALKUP A...| 70762010.00|              25.0|\n",
      "|Manhattan|Alphabet city|        A CONDO-RENTALS| 56000000.00|              27.0|\n",
      "|Manhattan|Alphabet city|   COOPS - ELEVATOR ...| 53444416.00|28.999999999999996|\n",
      "|Manhattan|Alphabet city|   HOSPITAL AND HEAL...| 39900001.00|              31.0|\n",
      "|Manhattan|Alphabet city|    RENTALS - 4-10 UNIT| 35945459.00|              33.0|\n",
      "|Manhattan|Alphabet city|   CONDO STORE BUILD...| 32800000.00|              35.0|\n",
      "|Manhattan|Alphabet city|                CONDOPS| 27106786.00|              37.0|\n",
      "+---------+-------------+-----------------------+------------+------------------+\n",
      "only showing top 20 rows\n",
      "\n"
     ]
    }
   ],
   "source": [
    "PercentRankGroupSalesManhattan20032019 = GroupSalesManhattan20032019.withColumn(\"PercentRank\", percent_rank().over(windowSpec))\n",
    "PercentRankGroupSalesManhattan20032019 = PercentRankGroupSalesManhattan20032019.withColumn(\"PercentRank\",\n",
    "                                                                                          round(col(\"PercentRank\"),2)*100)\n",
    "PercentRankGroupSalesManhattan20032019.show()"
   ]
  },
  {
   "cell_type": "code",
   "execution_count": 268,
   "id": "1d2ec221",
   "metadata": {},
   "outputs": [
    {
     "name": "stdout",
     "output_type": "stream",
     "text": [
      "+---------+-------------+-----------------------+------------+--------------+\n",
      "|  Borough| Neighborhood|Building Class Category|  Sale Price|Grouping Sales|\n",
      "+---------+-------------+-----------------------+------------+--------------+\n",
      "|Manhattan|Alphabet city|   RENTALS - WALKUP ...|772481936.00|             1|\n",
      "|Manhattan|Alphabet city|   COOPS - WALKUP AP...|298904387.00|             1|\n",
      "|Manhattan|Alphabet city|   RENTALS - ELEVATO...|298119017.00|             1|\n",
      "|Manhattan|Alphabet city|   CONDOS - ELEVATOR...|290065587.00|             1|\n",
      "|Manhattan|Alphabet city|   CONDOS - 2-10 UNI...|187149361.00|             1|\n",
      "|Manhattan|Alphabet city|   RENTALS - WALKUP ...|169617453.00|             1|\n",
      "|Manhattan|Alphabet city|        STORE BUILDINGS|110826347.00|             1|\n",
      "|Manhattan|Alphabet city|   RENTALS - ELEVATO...|110558642.00|             1|\n",
      "|Manhattan|Alphabet city|            CONDO COOPS|110015974.00|             1|\n",
      "|Manhattan|Alphabet city|            CONDO COOPS|103848000.00|             1|\n",
      "|Manhattan|Alphabet city|   COOPS - WALKUP AP...| 86317292.00|             1|\n",
      "|Manhattan|Alphabet city|   COMMERCIAL VACANT...| 85666095.00|             1|\n",
      "|Manhattan|Alphabet city|   CONDOS - ELEVATOR...| 76405441.00|             1|\n",
      "|Manhattan|Alphabet city|   CONDOS - WALKUP A...| 70762010.00|             2|\n",
      "|Manhattan|Alphabet city|        A CONDO-RENTALS| 56000000.00|             2|\n",
      "|Manhattan|Alphabet city|   COOPS - ELEVATOR ...| 53444416.00|             2|\n",
      "|Manhattan|Alphabet city|   HOSPITAL AND HEAL...| 39900001.00|             2|\n",
      "|Manhattan|Alphabet city|    RENTALS - 4-10 UNIT| 35945459.00|             2|\n",
      "|Manhattan|Alphabet city|   CONDO STORE BUILD...| 32800000.00|             2|\n",
      "|Manhattan|Alphabet city|                CONDOPS| 27106786.00|             2|\n",
      "+---------+-------------+-----------------------+------------+--------------+\n",
      "only showing top 20 rows\n",
      "\n"
     ]
    }
   ],
   "source": [
    "GroupingSalesManhattan20032019 = GroupSalesManhattan20032019.withColumn(\"Grouping Sales\", ntile(4).over(windowSpec))\n",
    "GroupingSalesManhattan20032019.show()"
   ]
  },
  {
   "cell_type": "code",
   "execution_count": 269,
   "id": "2a75419d",
   "metadata": {},
   "outputs": [
    {
     "name": "stdout",
     "output_type": "stream",
     "text": [
      "+---------+-------------+-----------------------+-------------+--------------+\n",
      "|  Borough| Neighborhood|Building Class Category|   Sale Price|Grouping Sales|\n",
      "+---------+-------------+-----------------------+-------------+--------------+\n",
      "|Manhattan|Alphabet city|   RENTALS - WALKUP ...| 772481936.00|             1|\n",
      "|Manhattan|Alphabet city|   COOPS - WALKUP AP...| 298904387.00|             1|\n",
      "|Manhattan|Alphabet city|   RENTALS - ELEVATO...| 298119017.00|             1|\n",
      "|Manhattan|Alphabet city|   CONDOS - ELEVATOR...| 290065587.00|             1|\n",
      "|Manhattan|Alphabet city|   CONDOS - 2-10 UNI...| 187149361.00|             1|\n",
      "|Manhattan|Alphabet city|   RENTALS - WALKUP ...| 169617453.00|             1|\n",
      "|Manhattan|Alphabet city|        STORE BUILDINGS| 110826347.00|             1|\n",
      "|Manhattan|Alphabet city|   RENTALS - ELEVATO...| 110558642.00|             1|\n",
      "|Manhattan|Alphabet city|            CONDO COOPS| 110015974.00|             1|\n",
      "|Manhattan|Alphabet city|            CONDO COOPS| 103848000.00|             1|\n",
      "|Manhattan|Alphabet city|   COOPS - WALKUP AP...|  86317292.00|             1|\n",
      "|Manhattan|Alphabet city|   COMMERCIAL VACANT...|  85666095.00|             1|\n",
      "|Manhattan|Alphabet city|   CONDOS - ELEVATOR...|  76405441.00|             1|\n",
      "|Manhattan|      Chelsea|   CONDOS - ELEVATOR...|9641026469.00|             1|\n",
      "|Manhattan|      Chelsea|       OFFICE BUILDINGS|5214281046.00|             1|\n",
      "|Manhattan|      Chelsea|       OFFICE BUILDINGS|4782013236.00|             1|\n",
      "|Manhattan|      Chelsea|         LOFT BUILDINGS|2374528841.00|             1|\n",
      "|Manhattan|      Chelsea|   COOPS - ELEVATOR ...|2093096910.00|             1|\n",
      "|Manhattan|      Chelsea|   CONDOS - ELEVATOR...|1683469631.00|             1|\n",
      "|Manhattan|      Chelsea|   RENTALS - ELEVATO...|1593723904.00|             1|\n",
      "+---------+-------------+-----------------------+-------------+--------------+\n",
      "only showing top 20 rows\n",
      "\n"
     ]
    }
   ],
   "source": [
    "GroupingSalesManhattan20032019.filter(GroupingSalesManhattan20032019[\"Grouping Sales\"] == 1).show()"
   ]
  },
  {
   "cell_type": "code",
   "execution_count": 270,
   "id": "960512e2",
   "metadata": {},
   "outputs": [
    {
     "name": "stdout",
     "output_type": "stream",
     "text": [
      "+---------+-------------+-----------------------+-----------+--------------+\n",
      "|  Borough| Neighborhood|Building Class Category| Sale Price|Grouping Sales|\n",
      "+---------+-------------+-----------------------+-----------+--------------+\n",
      "|Manhattan|Alphabet city|   CONDOS - 2-10 UNI...| 4500000.00|             4|\n",
      "|Manhattan|Alphabet city|   INDOOR PUBLIC AND...| 3700000.00|             4|\n",
      "|Manhattan|Alphabet city|   CONDOS - 2-10 UNI...| 2541811.00|             4|\n",
      "|Manhattan|Alphabet city|   TWO FAMILY DWELLINGS| 1560000.00|             4|\n",
      "|Manhattan|Alphabet city|   CONDO NON-BUSINES...| 1355000.00|             4|\n",
      "|Manhattan|Alphabet city|       ONE FAMILY HOMES|  633372.00|             4|\n",
      "|Manhattan|Alphabet city|   CONDO NON-BUSINES...|       0.00|             4|\n",
      "|Manhattan|Alphabet city|   RELIGIOUS FACILITIES|       0.00|             4|\n",
      "|Manhattan|Alphabet city|   TWO FAMILY DWELLINGS|       0.00|             4|\n",
      "|Manhattan|Alphabet city|   COMMERCIAL VACANT...|       0.00|             4|\n",
      "|Manhattan|Alphabet city|        A CONDO-RENTALS|       0.00|             4|\n",
      "|Manhattan|Alphabet city|       OFFICE BUILDINGS|       0.00|             4|\n",
      "|Manhattan|Alphabet city|     COMMERCIAL GARAGES|       0.00|             4|\n",
      "|Manhattan|      Chelsea|     COMMERCIAL GARAGES|18330625.00|             4|\n",
      "|Manhattan|      Chelsea|     TAX CLASS 1 CONDOS|17176481.00|             4|\n",
      "|Manhattan|      Chelsea|   THREE FAMILY DWEL...|13100000.00|             4|\n",
      "|Manhattan|      Chelsea|   CONDO WAREHOUSES/...|10806615.00|             4|\n",
      "|Manhattan|      Chelsea|   CONDO OFFICE BUIL...| 9810000.00|             4|\n",
      "|Manhattan|      Chelsea|          CONDO PARKING| 8845000.00|             4|\n",
      "|Manhattan|      Chelsea|     TAX CLASS 1 CONDOS| 4300000.00|             4|\n",
      "+---------+-------------+-----------------------+-----------+--------------+\n",
      "only showing top 20 rows\n",
      "\n"
     ]
    }
   ],
   "source": [
    "GroupingSalesManhattan20032019.filter(GroupingSalesManhattan20032019[\"Grouping Sales\"] == 4).show()"
   ]
  },
  {
   "cell_type": "code",
   "execution_count": 271,
   "id": "312a3a38",
   "metadata": {},
   "outputs": [
    {
     "name": "stdout",
     "output_type": "stream",
     "text": [
      "+---------+-------------+-----------------------+------------+--------------------+\n",
      "|  Borough| Neighborhood|Building Class Category|  Sale Price|            CumeDist|\n",
      "+---------+-------------+-----------------------+------------+--------------------+\n",
      "|Manhattan|Alphabet city|   RENTALS - WALKUP ...|772481936.00|0.019230769230769232|\n",
      "|Manhattan|Alphabet city|   COOPS - WALKUP AP...|298904387.00|0.038461538461538464|\n",
      "|Manhattan|Alphabet city|   RENTALS - ELEVATO...|298119017.00|0.057692307692307696|\n",
      "|Manhattan|Alphabet city|   CONDOS - ELEVATOR...|290065587.00| 0.07692307692307693|\n",
      "|Manhattan|Alphabet city|   CONDOS - 2-10 UNI...|187149361.00| 0.09615384615384616|\n",
      "|Manhattan|Alphabet city|   RENTALS - WALKUP ...|169617453.00| 0.11538461538461539|\n",
      "|Manhattan|Alphabet city|        STORE BUILDINGS|110826347.00|  0.1346153846153846|\n",
      "|Manhattan|Alphabet city|   RENTALS - ELEVATO...|110558642.00| 0.15384615384615385|\n",
      "|Manhattan|Alphabet city|            CONDO COOPS|110015974.00| 0.17307692307692307|\n",
      "|Manhattan|Alphabet city|            CONDO COOPS|103848000.00| 0.19230769230769232|\n",
      "|Manhattan|Alphabet city|   COOPS - WALKUP AP...| 86317292.00| 0.21153846153846154|\n",
      "|Manhattan|Alphabet city|   COMMERCIAL VACANT...| 85666095.00| 0.23076923076923078|\n",
      "|Manhattan|Alphabet city|   CONDOS - ELEVATOR...| 76405441.00|                0.25|\n",
      "|Manhattan|Alphabet city|   CONDOS - WALKUP A...| 70762010.00|  0.2692307692307692|\n",
      "|Manhattan|Alphabet city|        A CONDO-RENTALS| 56000000.00| 0.28846153846153844|\n",
      "|Manhattan|Alphabet city|   COOPS - ELEVATOR ...| 53444416.00|  0.3076923076923077|\n",
      "|Manhattan|Alphabet city|   HOSPITAL AND HEAL...| 39900001.00|  0.3269230769230769|\n",
      "|Manhattan|Alphabet city|    RENTALS - 4-10 UNIT| 35945459.00| 0.34615384615384615|\n",
      "|Manhattan|Alphabet city|   CONDO STORE BUILD...| 32800000.00| 0.36538461538461536|\n",
      "|Manhattan|Alphabet city|                CONDOPS| 27106786.00| 0.38461538461538464|\n",
      "+---------+-------------+-----------------------+------------+--------------------+\n",
      "only showing top 20 rows\n",
      "\n"
     ]
    }
   ],
   "source": [
    "CUMEDISTGroupSalesManhattan20032019 = GroupSalesManhattan20032019.withColumn(\"CumeDist\", cume_dist().over(windowSpec))\n",
    "CUMEDISTGroupSalesManhattan20032019.withColumn(\"CumeDist\", round(col(\"CumeDist\"),2) * 100)\n",
    "CUMEDISTGroupSalesManhattan20032019.show()"
   ]
  },
  {
   "cell_type": "markdown",
   "id": "6b9442d5",
   "metadata": {},
   "source": [
    "#### Analytic functions lag & lead"
   ]
  },
  {
   "cell_type": "code",
   "execution_count": 272,
   "id": "7cc4587e",
   "metadata": {},
   "outputs": [
    {
     "name": "stdout",
     "output_type": "stream",
     "text": [
      "+---------+--------------------+-----------------------+-------------------------+----------+----------+\n",
      "|  Borough|        Neighborhood|Building Class Category|Building Class At Present|Sale Price| Sale Date|\n",
      "+---------+--------------------+-----------------------+-------------------------+----------+----------+\n",
      "|Manhattan|ALPHABET CITY    ...|   15  CONDOS - 2-10...|                       R1| 390000.00|2003-09-09|\n",
      "|Manhattan|ALPHABET CITY    ...|   31  COMMERCIAL VA...|                       D1|      0.00|2003-12-17|\n",
      "|Manhattan|CHELSEA          ...|   10  COOPS - ELEVA...|                       D0|1355000.00|2003-04-16|\n",
      "|Manhattan|CHELSEA          ...|   13  CONDOS - ELEV...|                       R4| 499000.00|2003-09-17|\n",
      "|Manhattan|CHELSEA          ...|   13  CONDOS - ELEV...|                       R4| 515000.00|2003-11-20|\n",
      "|Manhattan|CLINTON          ...|   13  CONDOS - ELEV...|                       R4| 530000.00|2003-09-22|\n",
      "|Manhattan|EAST VILLAGE     ...|   07  RENTALS - WAL...|                       C1|      1.00|2003-06-26|\n",
      "|Manhattan|FASHION          ...|   10  COOPS - ELEVA...|                       D4| 150000.00|2003-08-19|\n",
      "|Manhattan|FASHION          ...|   10  COOPS - ELEVA...|                       D4| 295000.00|2003-11-24|\n",
      "|Manhattan|GRAMERCY         ...|   02  TWO FAMILY HO...|                       B9|      0.00|2003-04-22|\n",
      "|Manhattan|GRAMERCY         ...|   10  COOPS - ELEVA...|                       D4| 241500.00|2003-03-04|\n",
      "|Manhattan|GREENWICH VILLAGE...|   10  COOPS - ELEVA...|                       D0| 323000.00|2003-07-15|\n",
      "|Manhattan|GREENWICH VILLAGE...|   10  COOPS - ELEVA...|                       D4| 275000.00|2003-10-10|\n",
      "|Manhattan|GREENWICH VILLAGE...|   28  COMMERCIAL CO...|                       R5|      0.00|2003-06-06|\n",
      "|Manhattan|GREENWICH VILLAGE...|   07  RENTALS - WAL...|                       C7|4850000.00|2003-12-04|\n",
      "|Manhattan|GREENWICH VILLAGE...|   10  COOPS - ELEVA...|                       D4|      0.00|2003-09-01|\n",
      "|Manhattan|GREENWICH VILLAGE...|   29  COMMERCIAL GA...|                       G1|6900000.00|2003-08-14|\n",
      "|Manhattan|HARLEM-CENTRAL   ...|   07  RENTALS - WAL...|                         | 750000.00|2003-08-05|\n",
      "|Manhattan|HARLEM-CENTRAL   ...|   07  RENTALS - WAL...|                       C4|      0.00|2003-12-27|\n",
      "|Manhattan|HARLEM-CENTRAL   ...|   07  RENTALS - WAL...|                       C3|  30000.00|2003-04-11|\n",
      "+---------+--------------------+-----------------------+-------------------------+----------+----------+\n",
      "only showing top 20 rows\n",
      "\n"
     ]
    }
   ],
   "source": [
    "SelColdfManhattan20032019.show()"
   ]
  },
  {
   "cell_type": "code",
   "execution_count": 273,
   "id": "289ab27d",
   "metadata": {},
   "outputs": [
    {
     "name": "stdout",
     "output_type": "stream",
     "text": [
      "+---------+--------------+-------------+----------+\n",
      "|  Borough|Month Of Sales|Year Of Sales|Sale Price|\n",
      "+---------+--------------+-------------+----------+\n",
      "|Manhattan|             1|         2003| 639000.00|\n",
      "|Manhattan|             1|         2003| 380000.00|\n",
      "|Manhattan|             1|         2003|      0.00|\n",
      "|Manhattan|             1|         2003|1829520.00|\n",
      "|Manhattan|             1|         2003|2345000.00|\n",
      "|Manhattan|             1|         2003| 464000.00|\n",
      "|Manhattan|             1|         2003| 470000.00|\n",
      "|Manhattan|             1|         2003|2600000.00|\n",
      "|Manhattan|             1|         2003|      0.00|\n",
      "|Manhattan|             1|         2003|      0.00|\n",
      "|Manhattan|             1|         2003| 350129.00|\n",
      "|Manhattan|             1|         2003| 395000.00|\n",
      "|Manhattan|             1|         2003|      0.00|\n",
      "|Manhattan|             1|         2003| 237000.00|\n",
      "|Manhattan|             1|         2003|      0.00|\n",
      "|Manhattan|             1|         2003|1612500.00|\n",
      "|Manhattan|             1|         2003| 490000.00|\n",
      "|Manhattan|             1|         2003|      0.00|\n",
      "|Manhattan|             1|         2003|      0.00|\n",
      "|Manhattan|             1|         2003|   5000.00|\n",
      "+---------+--------------+-------------+----------+\n",
      "only showing top 20 rows\n",
      "\n"
     ]
    }
   ],
   "source": [
    "LAGLEADSelColdfManhattan20032019 = SelColdfManhattan20032019.withColumn(\"Year Of Sales\", year(col(\"Sale Date\"))) \\\n",
    "                                                            .withColumn(\"Month Of Sales\", month(col(\"Sale Date\")))\n",
    "LAGLEADSelColdfManhattan20032019 = LAGLEADSelColdfManhattan20032019.select(\"Borough\",\"Month Of Sales\",\n",
    "                                                                         \"Year Of Sales\",\n",
    "                                                                         \"Sale Price\")\n",
    "LAGLEADSelColdfManhattan20032019.orderBy(\"Month Of Sales\", \"Year Of Sales\").show()"
   ]
  },
  {
   "cell_type": "code",
   "execution_count": 274,
   "id": "a18b5aa3",
   "metadata": {},
   "outputs": [],
   "source": [
    "SumGroupByYear = LAGLEADSelColdfManhattan20032019.groupBy(\"Year Of Sales\").sum(\"Sale Price\")\n",
    "SumGroupByYearMonth = LAGLEADSelColdfManhattan20032019.groupBy(\"Year of Sales\",\"Month Of Sales\").sum(\"Sale Price\")"
   ]
  },
  {
   "cell_type": "code",
   "execution_count": 275,
   "id": "1af082f4",
   "metadata": {},
   "outputs": [],
   "source": [
    "SumGroupByYear = SumGroupByYear.select(\"Year Of Sales\", col(\"sum(Sale Price)\").alias(\"Sale Price\"))"
   ]
  },
  {
   "cell_type": "code",
   "execution_count": 276,
   "id": "ca1c8410",
   "metadata": {},
   "outputs": [
    {
     "name": "stdout",
     "output_type": "stream",
     "text": [
      "+-------------+--------------+\n",
      "|Year Of Sales|    Sale Price|\n",
      "+-------------+--------------+\n",
      "|         2003|22310603498.00|\n",
      "|         2004|35186433408.00|\n",
      "|         2005|45754400606.00|\n",
      "|         2006|53851094548.00|\n",
      "|         2007|69652350379.00|\n",
      "|         2008|40873906337.00|\n",
      "|         2009|21309934594.00|\n",
      "|         2010|27606271917.00|\n",
      "|         2011|37062223407.00|\n",
      "|         2012|46598937791.00|\n",
      "|         2013|52614808995.00|\n",
      "|         2014|64905610939.00|\n",
      "|         2015|72832641389.00|\n",
      "|         2016|60570529205.00|\n",
      "|         2017|47067339203.00|\n",
      "|         2018|52305856770.00|\n",
      "|         2019|41408544863.00|\n",
      "+-------------+--------------+\n",
      "\n"
     ]
    }
   ],
   "source": [
    "SumGroupByYear = SumGroupByYear.orderBy(\"Year Of Sales\")\n",
    "SumGroupByYear.show()"
   ]
  },
  {
   "cell_type": "code",
   "execution_count": 277,
   "id": "c2cdb5af",
   "metadata": {},
   "outputs": [
    {
     "name": "stdout",
     "output_type": "stream",
     "text": [
      "+-------------+--------------+--------------+---------------+--------------+---------------+\n",
      "|Year Of Sales|    Sale Price|           Lag|           Diff|          Lead| CummulativeSum|\n",
      "+-------------+--------------+--------------+---------------+--------------+---------------+\n",
      "|         2003|22310603498.00|          0.00| 22310603498.00|35186433408.00| 22310603498.00|\n",
      "|         2004|35186433408.00|22310603498.00| 12875829910.00|45754400606.00| 57497036906.00|\n",
      "|         2005|45754400606.00|35186433408.00| 10567967198.00|53851094548.00|103251437512.00|\n",
      "|         2006|53851094548.00|45754400606.00|  8096693942.00|69652350379.00|157102532060.00|\n",
      "|         2007|69652350379.00|53851094548.00| 15801255831.00|40873906337.00|226754882439.00|\n",
      "|         2008|40873906337.00|69652350379.00|-28778444042.00|21309934594.00|267628788776.00|\n",
      "|         2009|21309934594.00|40873906337.00|-19563971743.00|27606271917.00|288938723370.00|\n",
      "|         2010|27606271917.00|21309934594.00|  6296337323.00|37062223407.00|316544995287.00|\n",
      "|         2011|37062223407.00|27606271917.00|  9455951490.00|46598937791.00|353607218694.00|\n",
      "|         2012|46598937791.00|37062223407.00|  9536714384.00|52614808995.00|400206156485.00|\n",
      "|         2013|52614808995.00|46598937791.00|  6015871204.00|64905610939.00|452820965480.00|\n",
      "|         2014|64905610939.00|52614808995.00| 12290801944.00|72832641389.00|517726576419.00|\n",
      "|         2015|72832641389.00|64905610939.00|  7927030450.00|60570529205.00|590559217808.00|\n",
      "|         2016|60570529205.00|72832641389.00|-12262112184.00|47067339203.00|651129747013.00|\n",
      "|         2017|47067339203.00|60570529205.00|-13503190002.00|52305856770.00|698197086216.00|\n",
      "|         2018|52305856770.00|47067339203.00|  5238517567.00|41408544863.00|750502942986.00|\n",
      "|         2019|41408544863.00|52305856770.00|-10897311907.00|          0.00|791911487849.00|\n",
      "+-------------+--------------+--------------+---------------+--------------+---------------+\n",
      "\n"
     ]
    }
   ],
   "source": [
    "windowSpec = Window.partitionBy().orderBy(\"Year Of Sales\")\n",
    "windowval = (Window.partitionBy().orderBy(\"Year Of Sales\").rangeBetween(Window.unboundedPreceding,0))\n",
    "\n",
    "SumGroupByYear = SumGroupByYear.withColumn(\"Lag\", lag(\"Sale Price\", offset=1, default=0).over(windowSpec))\n",
    "SumGroupByYear = SumGroupByYear.withColumn(\"Diff\", \n",
    "                                           when(isnull(SumGroupByYear[\"Sale Price\"] - SumGroupByYear[\"Lag\"]),0)\n",
    "                                           .otherwise(SumGroupByYear[\"Sale Price\"] - SumGroupByYear[\"Lag\"]))\n",
    "SumGroupByYear = SumGroupByYear.withColumn(\"Lead\", lead(\"Sale Price\", offset=1, default=0).over(windowSpec))\n",
    "SumGroupByYear = SumGroupByYear.withColumn(\"CummulativeSum\", sum(\"Sale Price\").over(windowval))\n",
    "\n",
    "SumGroupByYear.show()"
   ]
  },
  {
   "cell_type": "code",
   "execution_count": 278,
   "id": "76015a0f",
   "metadata": {},
   "outputs": [
    {
     "name": "stdout",
     "output_type": "stream",
     "text": [
      "+-------------+--------------+-------------+--------------+\n",
      "|Year Of Sales|Month Of Sales|   Sale Price|CummulativeSum|\n",
      "+-------------+--------------+-------------+--------------+\n",
      "|         2003|             1|1339628642.00| 1339628642.00|\n",
      "|         2003|             2|2009552472.00| 3349181114.00|\n",
      "|         2003|             3|1175814709.00| 4524995823.00|\n",
      "|         2003|             4|1204609000.00| 5729604823.00|\n",
      "|         2003|             5|1297966202.00| 7027571025.00|\n",
      "|         2003|             6|2034857841.00| 9062428866.00|\n",
      "|         2003|             7|1689367596.00|10751796462.00|\n",
      "|         2003|             8|2287754365.00|13039550827.00|\n",
      "|         2003|             9|2899743440.00|15939294267.00|\n",
      "|         2003|            10|2684261205.00|18623555472.00|\n",
      "|         2003|            11|1734860765.00|20358416237.00|\n",
      "|         2003|            12|1952187261.00|22310603498.00|\n",
      "|         2004|             1|2582755674.00| 2582755674.00|\n",
      "|         2004|             2|1836329392.00| 4419085066.00|\n",
      "|         2004|             3|4211157956.00| 8630243022.00|\n",
      "|         2004|             4|2856824925.00|11487067947.00|\n",
      "|         2004|             5|3057282042.00|14544349989.00|\n",
      "|         2004|             6|3544306657.00|18088656646.00|\n",
      "|         2004|             7|3063755116.00|21152411762.00|\n",
      "|         2004|             8|2991258069.00|24143669831.00|\n",
      "+-------------+--------------+-------------+--------------+\n",
      "only showing top 20 rows\n",
      "\n"
     ]
    }
   ],
   "source": [
    "windowval = (Window.partitionBy(\"Year Of Sales\").orderBy(\"Month Of Sales\").rangeBetween(Window.unboundedPreceding, 0))\n",
    "SumGroupByYearMonth = SumGroupByYearMonth.select(\"Year Of Sales\",\n",
    "                                        \"Month Of Sales\",\n",
    "                                         col(\"sum(Sale Price)\").alias(\"Sale Price\")).orderBy('Year of Sales','Month Of Sales')\n",
    "\n",
    "SumGroupByYearMonth = SumGroupByYearMonth.withColumn(\"CummulativeSum\", sum(\"Sale Price\").over(windowval))\n",
    "SumGroupByYearMonth.show()"
   ]
  },
  {
   "cell_type": "markdown",
   "id": "ec1ebd30",
   "metadata": {},
   "source": [
    "#### Combinig rows"
   ]
  },
  {
   "cell_type": "code",
   "execution_count": 279,
   "id": "076accd6",
   "metadata": {},
   "outputs": [
    {
     "name": "stdout",
     "output_type": "stream",
     "text": [
      "+------------------------------------------------------------------+\n",
      "|Full Name                                                         |\n",
      "+------------------------------------------------------------------+\n",
      "|Manhattan East village COOPS - WALKUP APARTMENTS                  |\n",
      "|Manhattan Upper west side (96-116) RELIGIOUS FACILITIES           |\n",
      "|Manhattan Greenwich village-west RENTALS - WALKUP APARTMENTS      |\n",
      "|Manhattan Clinton CONDO STORE BUILDINGS                           |\n",
      "|Manhattan Financial CONDO OFFICE BUILDINGS                        |\n",
      "|Manhattan Upper east side (79-96) CONDO COOPS                     |\n",
      "|Manhattan Harlem-upper EDUCATIONAL FACILITIES                     |\n",
      "|Manhattan Javits center TAX CLASS 3 - UTILITY PROPERTIES          |\n",
      "|Manhattan Fashion CONDOS - 2-10 UNIT RESIDENTIAL                  |\n",
      "|Manhattan Tribeca OFFICE BUILDINGS                                |\n",
      "|Manhattan Lower east side TWO FAMILY DWELLINGS                    |\n",
      "|Manhattan Soho CONDOPS                                            |\n",
      "|Manhattan Inwood ONE FAMILY HOMES                                 |\n",
      "|Manhattan Upper east side (79-96) RENTALS - 4-10 UNIT             |\n",
      "|Manhattan Tribeca CONDOS - 2-10 UNIT WITH COMMERCIAL UNIT         |\n",
      "|Manhattan Greenwich village-west CONDO OFFICE BUILDINGS           |\n",
      "|Manhattan Chelsea EDUCATIONAL FACILITIES                          |\n",
      "|Manhattan Civic center CONDOPS                                    |\n",
      "|Manhattan Manhattan valley CONDOS - 2-10 UNIT WITH COMMERCIAL UNIT|\n",
      "|Manhattan Little italy CONDOS - 2-10 UNIT WITH COMMERCIAL UNIT    |\n",
      "+------------------------------------------------------------------+\n",
      "only showing top 20 rows\n",
      "\n"
     ]
    }
   ],
   "source": [
    "FULLNameGroupSalesManhattan20032019 = GroupSalesManhattan20032019.withColumn(\"Full Name\",\n",
    "                                            concat_col(GroupSalesManhattan20032019[\"Borough\"],\n",
    "                                               GroupSalesManhattan20032019[\"Neighborhood\"],\n",
    "                                               GroupSalesManhattan20032019[\"Building Class Category\"]))\n",
    "\n",
    "\n",
    "FULLNameGroupSalesManhattan20032019 =FULLNameGroupSalesManhattan20032019.select(\"Full Name\")\n",
    "FULLNameGroupSalesManhattan20032019.show(truncate=False)"
   ]
  },
  {
   "cell_type": "markdown",
   "id": "dc8abbec",
   "metadata": {},
   "source": [
    "#### Save DataFrame to Hive Table"
   ]
  },
  {
   "cell_type": "markdown",
   "id": "d545b292",
   "metadata": {},
   "source": [
    "##### Create Hive Internal Table"
   ]
  },
  {
   "cell_type": "code",
   "execution_count": 280,
   "id": "7139a57b",
   "metadata": {},
   "outputs": [],
   "source": [
    "FULLNameGroupSalesManhattan20032019.write.mode(\"overwrite\").saveAsTable(\"ManhattanFullName\")"
   ]
  },
  {
   "cell_type": "markdown",
   "id": "4b061b81",
   "metadata": {},
   "source": [
    "##### Read Hive Table"
   ]
  },
  {
   "cell_type": "code",
   "execution_count": 281,
   "id": "08a3ee5a",
   "metadata": {},
   "outputs": [],
   "source": [
    "HiveTableManhattan = spark.read.table(\"ManhattanFullName\")"
   ]
  },
  {
   "cell_type": "code",
   "execution_count": 282,
   "id": "38f42d89",
   "metadata": {},
   "outputs": [
    {
     "name": "stdout",
     "output_type": "stream",
     "text": [
      "+------------------------------------------------------------------+\n",
      "|Full Name                                                         |\n",
      "+------------------------------------------------------------------+\n",
      "|Manhattan East village COOPS - WALKUP APARTMENTS                  |\n",
      "|Manhattan Upper west side (96-116) RELIGIOUS FACILITIES           |\n",
      "|Manhattan Greenwich village-west RENTALS - WALKUP APARTMENTS      |\n",
      "|Manhattan Clinton CONDO STORE BUILDINGS                           |\n",
      "|Manhattan Financial CONDO OFFICE BUILDINGS                        |\n",
      "|Manhattan Upper east side (79-96) CONDO COOPS                     |\n",
      "|Manhattan Harlem-upper EDUCATIONAL FACILITIES                     |\n",
      "|Manhattan Javits center TAX CLASS 3 - UTILITY PROPERTIES          |\n",
      "|Manhattan Fashion CONDOS - 2-10 UNIT RESIDENTIAL                  |\n",
      "|Manhattan Tribeca OFFICE BUILDINGS                                |\n",
      "|Manhattan Lower east side TWO FAMILY DWELLINGS                    |\n",
      "|Manhattan Soho CONDOPS                                            |\n",
      "|Manhattan Inwood ONE FAMILY HOMES                                 |\n",
      "|Manhattan Upper east side (79-96) RENTALS - 4-10 UNIT             |\n",
      "|Manhattan Tribeca CONDOS - 2-10 UNIT WITH COMMERCIAL UNIT         |\n",
      "|Manhattan Greenwich village-west CONDO OFFICE BUILDINGS           |\n",
      "|Manhattan Chelsea EDUCATIONAL FACILITIES                          |\n",
      "|Manhattan Civic center CONDOPS                                    |\n",
      "|Manhattan Manhattan valley CONDOS - 2-10 UNIT WITH COMMERCIAL UNIT|\n",
      "|Manhattan Little italy CONDOS - 2-10 UNIT WITH COMMERCIAL UNIT    |\n",
      "+------------------------------------------------------------------+\n",
      "only showing top 20 rows\n",
      "\n"
     ]
    }
   ],
   "source": [
    "HiveTableManhattan.show(truncate=False)"
   ]
  },
  {
   "cell_type": "markdown",
   "id": "76b93b5f",
   "metadata": {},
   "source": [
    "#### Finding minimum and maximum Sale Price"
   ]
  },
  {
   "cell_type": "code",
   "execution_count": 283,
   "id": "58c97709",
   "metadata": {},
   "outputs": [],
   "source": [
    "MaxGroupSalesManhattan20032019 = GroupSalesManhattan20032019.agg({\"Sale Price\": \"max\"}).collect()[0][0]"
   ]
  },
  {
   "cell_type": "code",
   "execution_count": 284,
   "id": "5ad97018",
   "metadata": {},
   "outputs": [],
   "source": [
    "FGroupSalesManhattan20032019 = GroupSalesManhattan20032019.filter(GroupSalesManhattan20032019['Sale Price'] > 0)\n",
    "MinGroupSalesManhattan20032019 = FGroupSalesManhattan20032019.agg({\"Sale Price\": \"min\"}).collect()[0][0]"
   ]
  },
  {
   "cell_type": "code",
   "execution_count": 285,
   "id": "1b5c9a38",
   "metadata": {},
   "outputs": [
    {
     "name": "stdout",
     "output_type": "stream",
     "text": [
      "+---------+------------+-----------------------+--------------+\n",
      "|Borough  |Neighborhood|Building Class Category|Sale Price    |\n",
      "+---------+------------+-----------------------+--------------+\n",
      "|Manhattan|Midtown cbd |OFFICE BUILDINGS       |33801303759.00|\n",
      "|Manhattan|Soho        |TAX CLASS 1 CONDOS     |1.00          |\n",
      "+---------+------------+-----------------------+--------------+\n",
      "\n"
     ]
    }
   ],
   "source": [
    "MaxManhattan = GroupSalesManhattan20032019.filter(GroupSalesManhattan20032019[\"Sale Price\"] == MaxGroupSalesManhattan20032019)\n",
    "MinManhattan = GroupSalesManhattan20032019.filter(GroupSalesManhattan20032019[\"Sale Price\"] == \n",
    "                               MinGroupSalesManhattan20032019).limit(1)\n",
    "unionMaxMinManhattan = MaxManhattan.union(MinManhattan)\n",
    "unionMaxMinManhattan.show(truncate=False)"
   ]
  },
  {
   "cell_type": "markdown",
   "id": "c85b771a",
   "metadata": {},
   "source": [
    "#### Pivoting Gross Square Feet"
   ]
  },
  {
   "cell_type": "code",
   "execution_count": 286,
   "id": "eb982098",
   "metadata": {},
   "outputs": [],
   "source": [
    "SelColGrossSquareFeetdfManhattan20032019 = dfManhattan20032019.select(\n",
    "                    CapitalizeStringUDF(col(\"Neighborhood\")).alias(\"Neighborhood\"),\n",
    "                    trim(RemoveTwoCharactersUDF(col(\"Building Class Category\"))).alias(\"Building Class Category\"),                                     \n",
    "                      \"Gross Square Feet\")"
   ]
  },
  {
   "cell_type": "code",
   "execution_count": 287,
   "id": "d1b74e93",
   "metadata": {},
   "outputs": [],
   "source": [
    "GroupingGSF = SelColGrossSquareFeetdfManhattan20032019.groupBy(\"Neighborhood\",\n",
    "                                                               \"Building Class Category\").sum(\"Gross Square Feet\")"
   ]
  },
  {
   "cell_type": "code",
   "execution_count": 288,
   "id": "a54c01bc",
   "metadata": {},
   "outputs": [],
   "source": [
    "Neighborhood = [\"Chelsea\",\"Inwood\",\"Gramercy\",\"Fashion\",\"Soho\",\"Clinton\",\"Midtown cbd\",\"East village\"]"
   ]
  },
  {
   "cell_type": "code",
   "execution_count": 289,
   "id": "30f3eda5",
   "metadata": {},
   "outputs": [],
   "source": [
    "PivotGSF = GroupingGSF.filter(GroupingGSF.Neighborhood.isin(Neighborhood))"
   ]
  },
  {
   "cell_type": "code",
   "execution_count": 290,
   "id": "832ef6a3",
   "metadata": {},
   "outputs": [
    {
     "name": "stdout",
     "output_type": "stream",
     "text": [
      "+---------------------------------------+-------+-------+------------+-------+--------+------+-----------+-------+\n",
      "|                Building Class Category|Chelsea|Clinton|East village|Fashion|Gramercy|Inwood|Midtown cbd|   Soho|\n",
      "+---------------------------------------+-------+-------+------------+-------+--------+------+-----------+-------+\n",
      "|         CONDOS - 2-10 UNIT RESIDENTIAL|  63788|   2578|       18446|      0|       0|  null|       null|  66322|\n",
      "|              COOPS - WALKUP APARTMENTS|      0|      0|           0|      0|       0|     0|       null|      0|\n",
      "|                    TAX CLASS 4 - OTHER|   null|    336|        null|1378125|    6507|  null|       null|      0|\n",
      "|            RENTALS - WALKUP APARTMENTS| 540984| 326228|      768324|  69894|  169817|939034|       null| 201655|\n",
      "|                 COMMERCIAL VACANT LAND|      0|      0|           0|  48183|    null|     0|          0|      0|\n",
      "|                  CONDO STORE BUILDINGS|  11461|  11946|           0|  17150|     366|  null|      57711|  26688|\n",
      "|                   TWO FAMILY DWELLINGS|  45300|   3600|       27037|   null|   37469| 31966|       null|  55524|\n",
      "|                 THREE FAMILY DWELLINGS|  12187|  11992|        3840|   null|   10591| 12327|       null|   null|\n",
      "|                               THEATRES|  19031| 521650|        null|   null|    null|  null|       null|   null|\n",
      "|                       OFFICE BUILDINGS|3648734| 487498|       17066|5682958|  514604|104625|    8933311|6034443|\n",
      "|                           OTHER HOTELS|  28520| 181903|        null| 223762|    null|  null|     337120|  55479|\n",
      "|          RENTALS - ELEVATOR APARTMENTS|1523339|2445820|      436628| 396127|  428416|206954|     230879|3424381|\n",
      "|                          LUXURY HOTELS|   null|   null|        null|2025743|  400000|  null|    1345690| 103575|\n",
      "|                      COMMERCIAL CONDOS|      0|      0|        null|      0|    null|  null|       null|      0|\n",
      "|             CONDOS - WALKUP APARTMENTS|    963|   null|        2109|   null|     419|  null|       null|   1119|\n",
      "|                            CONDO COOPS| 320433|      0|           0|   null|       0|  null|          0|      0|\n",
      "|                         LOFT BUILDINGS| 325602|   null|        null| 703179|   45919|  null|       null| 112185|\n",
      "|  INDOOR PUBLIC AND CULTURAL FACILITIES|  39936|   4920|       98820|   null|    null|  null|      17131|  14063|\n",
      "|                              FACTORIES|   null|   null|        null|  12518|    null|  null|       null|   null|\n",
      "|                           CONDO HOTELS|      0|   null|        null|  85977|    null|  null|       2890|   2015|\n",
      "|                        A CONDO-RENTALS|   null|      0|       51644|   null|    null|  null|       null|  15655|\n",
      "|                     COMMERCIAL GARAGES|  13305|  73212|        2384|      0|    null| 22990|       null|  25046|\n",
      "|                      ASYLUMS AND HOMES|  14714|   null|        null|   null|   23849|  null|       null|   null|\n",
      "|                 CONDO OFFICE BUILDINGS|      0|      0|        null|      0|       0|  null|      75232|      0|\n",
      "|             CONDO NON-BUSINESS STORAGE|      0|      0|        null|      0|       0|  null|       null|      0|\n",
      "|            COOPS - ELEVATOR APARTMENTS|      0|      0|           0|      0|       0|461475|          0|  43500|\n",
      "|                          CONDO PARKING|   8542|   1002|         162|      0|    null|  null|       null|    531|\n",
      "|         HOSPITAL AND HEALTH FACILITIES|   null| 526842|       10960|   null|    null|  null|       null|   null|\n",
      "|                     TAX CLASS 1 CONDOS|   4695|   null|        null|   null|    null|  1497|       null|      0|\n",
      "|                        STORE BUILDINGS| 247149| 127025|       53187|1023123|   32815| 26243|     267066| 201610|\n",
      "|                    RENTALS - 4-10 UNIT|  71441|  13480|      128313|  31996|    null|  null|       5960|  56222|\n",
      "|           CONDOS - ELEVATOR APARTMENTS| 413001| 177520|      129061| 112629|  124082|  6493|     164199| 185537|\n",
      "|         CONDO TERRACES/GARDENS/CABANAS|      0|      0|           0|   null|    null|  null|       null|   null|\n",
      "|         CONDO WAREHOUSES/FACTORY/INDUS|   null|      0|        null|   null|    null|  null|       null|   null|\n",
      "|CONDOS - 2-10 UNIT WITH COMMERCIAL UNIT|      0|   null|           0|   null|    null|  null|       null|      0|\n",
      "|                   ONE FAMILY DWELLINGS|  42586|   null|       37027|   2028|   12044| 17751|       null|  27601|\n",
      "|                   RELIGIOUS FACILITIES|   null|   8848|        5775|   null|   13535| 11072|      21400|  10246|\n",
      "|                             WAREHOUSES|  98069|  28468|        null|   null|    null|  null|       null|  88146|\n",
      "| CONDO CULTURAL/MEDICAL/EDUCATIONAL/ETC|   null|   null|        null|   null|    null|  null|       null|      0|\n",
      "|                 EDUCATIONAL FACILITIES| 234557|   null|        null|   null|  204584| 43232|       null|   null|\n",
      "+---------------------------------------+-------+-------+------------+-------+--------+------+-----------+-------+\n",
      "\n"
     ]
    }
   ],
   "source": [
    "PivotGSF.groupBy(\"Building Class Category\").pivot(\"Neighborhood\").sum(\"sum(Gross Square Feet)\").show(100,100)"
   ]
  },
  {
   "cell_type": "code",
   "execution_count": 291,
   "id": "e69cd98d",
   "metadata": {},
   "outputs": [],
   "source": [
    "ToPandas = PivotGSF.groupBy(\"Building Class Category\").pivot(\"Neighborhood\").sum(\"sum(Gross Square Feet)\")"
   ]
  },
  {
   "cell_type": "code",
   "execution_count": 292,
   "id": "eda4b77a",
   "metadata": {},
   "outputs": [
    {
     "name": "stdout",
     "output_type": "stream",
     "text": [
      "<class 'pyspark.pandas.frame.DataFrame'>\n"
     ]
    }
   ],
   "source": [
    "ToPandasAPI = ToPandas.pandas_api()\n",
    "print(type(ToPandasAPI))"
   ]
  },
  {
   "cell_type": "code",
   "execution_count": 293,
   "id": "e3c563f4",
   "metadata": {},
   "outputs": [
    {
     "data": {
      "text/html": [
       "<div>\n",
       "<style scoped>\n",
       "    .dataframe tbody tr th:only-of-type {\n",
       "        vertical-align: middle;\n",
       "    }\n",
       "\n",
       "    .dataframe tbody tr th {\n",
       "        vertical-align: top;\n",
       "    }\n",
       "\n",
       "    .dataframe thead th {\n",
       "        text-align: right;\n",
       "    }\n",
       "</style>\n",
       "<table border=\"1\" class=\"dataframe\">\n",
       "  <thead>\n",
       "    <tr style=\"text-align: right;\">\n",
       "      <th></th>\n",
       "      <th>Building Class Category</th>\n",
       "      <th>Chelsea</th>\n",
       "      <th>Clinton</th>\n",
       "      <th>East village</th>\n",
       "      <th>Fashion</th>\n",
       "      <th>Gramercy</th>\n",
       "      <th>Inwood</th>\n",
       "      <th>Midtown cbd</th>\n",
       "      <th>Soho</th>\n",
       "    </tr>\n",
       "  </thead>\n",
       "  <tbody>\n",
       "    <tr>\n",
       "      <th>0</th>\n",
       "      <td>CONDOS - 2-10 UNIT RESIDENTIAL</td>\n",
       "      <td>63788.0</td>\n",
       "      <td>2578.0</td>\n",
       "      <td>18446.0</td>\n",
       "      <td>0.0</td>\n",
       "      <td>0.0</td>\n",
       "      <td>NaN</td>\n",
       "      <td>NaN</td>\n",
       "      <td>66322.0</td>\n",
       "    </tr>\n",
       "    <tr>\n",
       "      <th>1</th>\n",
       "      <td>COOPS - WALKUP APARTMENTS</td>\n",
       "      <td>0.0</td>\n",
       "      <td>0.0</td>\n",
       "      <td>0.0</td>\n",
       "      <td>0.0</td>\n",
       "      <td>0.0</td>\n",
       "      <td>0.0</td>\n",
       "      <td>NaN</td>\n",
       "      <td>0.0</td>\n",
       "    </tr>\n",
       "    <tr>\n",
       "      <th>2</th>\n",
       "      <td>TAX CLASS 4 - OTHER</td>\n",
       "      <td>NaN</td>\n",
       "      <td>336.0</td>\n",
       "      <td>NaN</td>\n",
       "      <td>1378125.0</td>\n",
       "      <td>6507.0</td>\n",
       "      <td>NaN</td>\n",
       "      <td>NaN</td>\n",
       "      <td>0.0</td>\n",
       "    </tr>\n",
       "    <tr>\n",
       "      <th>3</th>\n",
       "      <td>RENTALS - WALKUP APARTMENTS</td>\n",
       "      <td>540984.0</td>\n",
       "      <td>326228.0</td>\n",
       "      <td>768324.0</td>\n",
       "      <td>69894.0</td>\n",
       "      <td>169817.0</td>\n",
       "      <td>939034.0</td>\n",
       "      <td>NaN</td>\n",
       "      <td>201655.0</td>\n",
       "    </tr>\n",
       "    <tr>\n",
       "      <th>4</th>\n",
       "      <td>COMMERCIAL VACANT LAND</td>\n",
       "      <td>0.0</td>\n",
       "      <td>0.0</td>\n",
       "      <td>0.0</td>\n",
       "      <td>48183.0</td>\n",
       "      <td>NaN</td>\n",
       "      <td>0.0</td>\n",
       "      <td>0.0</td>\n",
       "      <td>0.0</td>\n",
       "    </tr>\n",
       "    <tr>\n",
       "      <th>5</th>\n",
       "      <td>CONDO STORE BUILDINGS</td>\n",
       "      <td>11461.0</td>\n",
       "      <td>11946.0</td>\n",
       "      <td>0.0</td>\n",
       "      <td>17150.0</td>\n",
       "      <td>366.0</td>\n",
       "      <td>NaN</td>\n",
       "      <td>57711.0</td>\n",
       "      <td>26688.0</td>\n",
       "    </tr>\n",
       "    <tr>\n",
       "      <th>6</th>\n",
       "      <td>TWO FAMILY DWELLINGS</td>\n",
       "      <td>45300.0</td>\n",
       "      <td>3600.0</td>\n",
       "      <td>27037.0</td>\n",
       "      <td>NaN</td>\n",
       "      <td>37469.0</td>\n",
       "      <td>31966.0</td>\n",
       "      <td>NaN</td>\n",
       "      <td>55524.0</td>\n",
       "    </tr>\n",
       "    <tr>\n",
       "      <th>7</th>\n",
       "      <td>THREE FAMILY DWELLINGS</td>\n",
       "      <td>12187.0</td>\n",
       "      <td>11992.0</td>\n",
       "      <td>3840.0</td>\n",
       "      <td>NaN</td>\n",
       "      <td>10591.0</td>\n",
       "      <td>12327.0</td>\n",
       "      <td>NaN</td>\n",
       "      <td>NaN</td>\n",
       "    </tr>\n",
       "    <tr>\n",
       "      <th>8</th>\n",
       "      <td>THEATRES</td>\n",
       "      <td>19031.0</td>\n",
       "      <td>521650.0</td>\n",
       "      <td>NaN</td>\n",
       "      <td>NaN</td>\n",
       "      <td>NaN</td>\n",
       "      <td>NaN</td>\n",
       "      <td>NaN</td>\n",
       "      <td>NaN</td>\n",
       "    </tr>\n",
       "    <tr>\n",
       "      <th>9</th>\n",
       "      <td>OFFICE BUILDINGS</td>\n",
       "      <td>3648734.0</td>\n",
       "      <td>487498.0</td>\n",
       "      <td>17066.0</td>\n",
       "      <td>5682958.0</td>\n",
       "      <td>514604.0</td>\n",
       "      <td>104625.0</td>\n",
       "      <td>8933311.0</td>\n",
       "      <td>6034443.0</td>\n",
       "    </tr>\n",
       "    <tr>\n",
       "      <th>10</th>\n",
       "      <td>OTHER HOTELS</td>\n",
       "      <td>28520.0</td>\n",
       "      <td>181903.0</td>\n",
       "      <td>NaN</td>\n",
       "      <td>223762.0</td>\n",
       "      <td>NaN</td>\n",
       "      <td>NaN</td>\n",
       "      <td>337120.0</td>\n",
       "      <td>55479.0</td>\n",
       "    </tr>\n",
       "    <tr>\n",
       "      <th>11</th>\n",
       "      <td>RENTALS - ELEVATOR APARTMENTS</td>\n",
       "      <td>1523339.0</td>\n",
       "      <td>2445820.0</td>\n",
       "      <td>436628.0</td>\n",
       "      <td>396127.0</td>\n",
       "      <td>428416.0</td>\n",
       "      <td>206954.0</td>\n",
       "      <td>230879.0</td>\n",
       "      <td>3424381.0</td>\n",
       "    </tr>\n",
       "    <tr>\n",
       "      <th>12</th>\n",
       "      <td>LUXURY HOTELS</td>\n",
       "      <td>NaN</td>\n",
       "      <td>NaN</td>\n",
       "      <td>NaN</td>\n",
       "      <td>2025743.0</td>\n",
       "      <td>400000.0</td>\n",
       "      <td>NaN</td>\n",
       "      <td>1345690.0</td>\n",
       "      <td>103575.0</td>\n",
       "    </tr>\n",
       "    <tr>\n",
       "      <th>13</th>\n",
       "      <td>COMMERCIAL CONDOS</td>\n",
       "      <td>0.0</td>\n",
       "      <td>0.0</td>\n",
       "      <td>NaN</td>\n",
       "      <td>0.0</td>\n",
       "      <td>NaN</td>\n",
       "      <td>NaN</td>\n",
       "      <td>NaN</td>\n",
       "      <td>0.0</td>\n",
       "    </tr>\n",
       "    <tr>\n",
       "      <th>14</th>\n",
       "      <td>CONDOS - WALKUP APARTMENTS</td>\n",
       "      <td>963.0</td>\n",
       "      <td>NaN</td>\n",
       "      <td>2109.0</td>\n",
       "      <td>NaN</td>\n",
       "      <td>419.0</td>\n",
       "      <td>NaN</td>\n",
       "      <td>NaN</td>\n",
       "      <td>1119.0</td>\n",
       "    </tr>\n",
       "    <tr>\n",
       "      <th>15</th>\n",
       "      <td>CONDO COOPS</td>\n",
       "      <td>320433.0</td>\n",
       "      <td>0.0</td>\n",
       "      <td>0.0</td>\n",
       "      <td>NaN</td>\n",
       "      <td>0.0</td>\n",
       "      <td>NaN</td>\n",
       "      <td>0.0</td>\n",
       "      <td>0.0</td>\n",
       "    </tr>\n",
       "    <tr>\n",
       "      <th>16</th>\n",
       "      <td>LOFT BUILDINGS</td>\n",
       "      <td>325602.0</td>\n",
       "      <td>NaN</td>\n",
       "      <td>NaN</td>\n",
       "      <td>703179.0</td>\n",
       "      <td>45919.0</td>\n",
       "      <td>NaN</td>\n",
       "      <td>NaN</td>\n",
       "      <td>112185.0</td>\n",
       "    </tr>\n",
       "    <tr>\n",
       "      <th>17</th>\n",
       "      <td>INDOOR PUBLIC AND CULTURAL FACILITIES</td>\n",
       "      <td>39936.0</td>\n",
       "      <td>4920.0</td>\n",
       "      <td>98820.0</td>\n",
       "      <td>NaN</td>\n",
       "      <td>NaN</td>\n",
       "      <td>NaN</td>\n",
       "      <td>17131.0</td>\n",
       "      <td>14063.0</td>\n",
       "    </tr>\n",
       "    <tr>\n",
       "      <th>18</th>\n",
       "      <td>FACTORIES</td>\n",
       "      <td>NaN</td>\n",
       "      <td>NaN</td>\n",
       "      <td>NaN</td>\n",
       "      <td>12518.0</td>\n",
       "      <td>NaN</td>\n",
       "      <td>NaN</td>\n",
       "      <td>NaN</td>\n",
       "      <td>NaN</td>\n",
       "    </tr>\n",
       "    <tr>\n",
       "      <th>19</th>\n",
       "      <td>CONDO HOTELS</td>\n",
       "      <td>0.0</td>\n",
       "      <td>NaN</td>\n",
       "      <td>NaN</td>\n",
       "      <td>85977.0</td>\n",
       "      <td>NaN</td>\n",
       "      <td>NaN</td>\n",
       "      <td>2890.0</td>\n",
       "      <td>2015.0</td>\n",
       "    </tr>\n",
       "    <tr>\n",
       "      <th>20</th>\n",
       "      <td>A CONDO-RENTALS</td>\n",
       "      <td>NaN</td>\n",
       "      <td>0.0</td>\n",
       "      <td>51644.0</td>\n",
       "      <td>NaN</td>\n",
       "      <td>NaN</td>\n",
       "      <td>NaN</td>\n",
       "      <td>NaN</td>\n",
       "      <td>15655.0</td>\n",
       "    </tr>\n",
       "    <tr>\n",
       "      <th>21</th>\n",
       "      <td>COMMERCIAL GARAGES</td>\n",
       "      <td>13305.0</td>\n",
       "      <td>73212.0</td>\n",
       "      <td>2384.0</td>\n",
       "      <td>0.0</td>\n",
       "      <td>NaN</td>\n",
       "      <td>22990.0</td>\n",
       "      <td>NaN</td>\n",
       "      <td>25046.0</td>\n",
       "    </tr>\n",
       "    <tr>\n",
       "      <th>22</th>\n",
       "      <td>ASYLUMS AND HOMES</td>\n",
       "      <td>14714.0</td>\n",
       "      <td>NaN</td>\n",
       "      <td>NaN</td>\n",
       "      <td>NaN</td>\n",
       "      <td>23849.0</td>\n",
       "      <td>NaN</td>\n",
       "      <td>NaN</td>\n",
       "      <td>NaN</td>\n",
       "    </tr>\n",
       "    <tr>\n",
       "      <th>23</th>\n",
       "      <td>CONDO OFFICE BUILDINGS</td>\n",
       "      <td>0.0</td>\n",
       "      <td>0.0</td>\n",
       "      <td>NaN</td>\n",
       "      <td>0.0</td>\n",
       "      <td>0.0</td>\n",
       "      <td>NaN</td>\n",
       "      <td>75232.0</td>\n",
       "      <td>0.0</td>\n",
       "    </tr>\n",
       "    <tr>\n",
       "      <th>24</th>\n",
       "      <td>CONDO NON-BUSINESS STORAGE</td>\n",
       "      <td>0.0</td>\n",
       "      <td>0.0</td>\n",
       "      <td>NaN</td>\n",
       "      <td>0.0</td>\n",
       "      <td>0.0</td>\n",
       "      <td>NaN</td>\n",
       "      <td>NaN</td>\n",
       "      <td>0.0</td>\n",
       "    </tr>\n",
       "    <tr>\n",
       "      <th>25</th>\n",
       "      <td>COOPS - ELEVATOR APARTMENTS</td>\n",
       "      <td>0.0</td>\n",
       "      <td>0.0</td>\n",
       "      <td>0.0</td>\n",
       "      <td>0.0</td>\n",
       "      <td>0.0</td>\n",
       "      <td>461475.0</td>\n",
       "      <td>0.0</td>\n",
       "      <td>43500.0</td>\n",
       "    </tr>\n",
       "    <tr>\n",
       "      <th>26</th>\n",
       "      <td>CONDO PARKING</td>\n",
       "      <td>8542.0</td>\n",
       "      <td>1002.0</td>\n",
       "      <td>162.0</td>\n",
       "      <td>0.0</td>\n",
       "      <td>NaN</td>\n",
       "      <td>NaN</td>\n",
       "      <td>NaN</td>\n",
       "      <td>531.0</td>\n",
       "    </tr>\n",
       "    <tr>\n",
       "      <th>27</th>\n",
       "      <td>HOSPITAL AND HEALTH FACILITIES</td>\n",
       "      <td>NaN</td>\n",
       "      <td>526842.0</td>\n",
       "      <td>10960.0</td>\n",
       "      <td>NaN</td>\n",
       "      <td>NaN</td>\n",
       "      <td>NaN</td>\n",
       "      <td>NaN</td>\n",
       "      <td>NaN</td>\n",
       "    </tr>\n",
       "    <tr>\n",
       "      <th>28</th>\n",
       "      <td>TAX CLASS 1 CONDOS</td>\n",
       "      <td>4695.0</td>\n",
       "      <td>NaN</td>\n",
       "      <td>NaN</td>\n",
       "      <td>NaN</td>\n",
       "      <td>NaN</td>\n",
       "      <td>1497.0</td>\n",
       "      <td>NaN</td>\n",
       "      <td>0.0</td>\n",
       "    </tr>\n",
       "    <tr>\n",
       "      <th>29</th>\n",
       "      <td>STORE BUILDINGS</td>\n",
       "      <td>247149.0</td>\n",
       "      <td>127025.0</td>\n",
       "      <td>53187.0</td>\n",
       "      <td>1023123.0</td>\n",
       "      <td>32815.0</td>\n",
       "      <td>26243.0</td>\n",
       "      <td>267066.0</td>\n",
       "      <td>201610.0</td>\n",
       "    </tr>\n",
       "    <tr>\n",
       "      <th>30</th>\n",
       "      <td>RENTALS - 4-10 UNIT</td>\n",
       "      <td>71441.0</td>\n",
       "      <td>13480.0</td>\n",
       "      <td>128313.0</td>\n",
       "      <td>31996.0</td>\n",
       "      <td>NaN</td>\n",
       "      <td>NaN</td>\n",
       "      <td>5960.0</td>\n",
       "      <td>56222.0</td>\n",
       "    </tr>\n",
       "    <tr>\n",
       "      <th>31</th>\n",
       "      <td>CONDOS - ELEVATOR APARTMENTS</td>\n",
       "      <td>413001.0</td>\n",
       "      <td>177520.0</td>\n",
       "      <td>129061.0</td>\n",
       "      <td>112629.0</td>\n",
       "      <td>124082.0</td>\n",
       "      <td>6493.0</td>\n",
       "      <td>164199.0</td>\n",
       "      <td>185537.0</td>\n",
       "    </tr>\n",
       "    <tr>\n",
       "      <th>32</th>\n",
       "      <td>CONDO TERRACES/GARDENS/CABANAS</td>\n",
       "      <td>0.0</td>\n",
       "      <td>0.0</td>\n",
       "      <td>0.0</td>\n",
       "      <td>NaN</td>\n",
       "      <td>NaN</td>\n",
       "      <td>NaN</td>\n",
       "      <td>NaN</td>\n",
       "      <td>NaN</td>\n",
       "    </tr>\n",
       "    <tr>\n",
       "      <th>33</th>\n",
       "      <td>CONDO WAREHOUSES/FACTORY/INDUS</td>\n",
       "      <td>NaN</td>\n",
       "      <td>0.0</td>\n",
       "      <td>NaN</td>\n",
       "      <td>NaN</td>\n",
       "      <td>NaN</td>\n",
       "      <td>NaN</td>\n",
       "      <td>NaN</td>\n",
       "      <td>NaN</td>\n",
       "    </tr>\n",
       "    <tr>\n",
       "      <th>34</th>\n",
       "      <td>CONDOS - 2-10 UNIT WITH COMMERCIAL UNIT</td>\n",
       "      <td>0.0</td>\n",
       "      <td>NaN</td>\n",
       "      <td>0.0</td>\n",
       "      <td>NaN</td>\n",
       "      <td>NaN</td>\n",
       "      <td>NaN</td>\n",
       "      <td>NaN</td>\n",
       "      <td>0.0</td>\n",
       "    </tr>\n",
       "    <tr>\n",
       "      <th>35</th>\n",
       "      <td>ONE FAMILY DWELLINGS</td>\n",
       "      <td>42586.0</td>\n",
       "      <td>NaN</td>\n",
       "      <td>37027.0</td>\n",
       "      <td>2028.0</td>\n",
       "      <td>12044.0</td>\n",
       "      <td>17751.0</td>\n",
       "      <td>NaN</td>\n",
       "      <td>27601.0</td>\n",
       "    </tr>\n",
       "    <tr>\n",
       "      <th>36</th>\n",
       "      <td>RELIGIOUS FACILITIES</td>\n",
       "      <td>NaN</td>\n",
       "      <td>8848.0</td>\n",
       "      <td>5775.0</td>\n",
       "      <td>NaN</td>\n",
       "      <td>13535.0</td>\n",
       "      <td>11072.0</td>\n",
       "      <td>21400.0</td>\n",
       "      <td>10246.0</td>\n",
       "    </tr>\n",
       "    <tr>\n",
       "      <th>37</th>\n",
       "      <td>WAREHOUSES</td>\n",
       "      <td>98069.0</td>\n",
       "      <td>28468.0</td>\n",
       "      <td>NaN</td>\n",
       "      <td>NaN</td>\n",
       "      <td>NaN</td>\n",
       "      <td>NaN</td>\n",
       "      <td>NaN</td>\n",
       "      <td>88146.0</td>\n",
       "    </tr>\n",
       "    <tr>\n",
       "      <th>38</th>\n",
       "      <td>CONDO CULTURAL/MEDICAL/EDUCATIONAL/ETC</td>\n",
       "      <td>NaN</td>\n",
       "      <td>NaN</td>\n",
       "      <td>NaN</td>\n",
       "      <td>NaN</td>\n",
       "      <td>NaN</td>\n",
       "      <td>NaN</td>\n",
       "      <td>NaN</td>\n",
       "      <td>0.0</td>\n",
       "    </tr>\n",
       "    <tr>\n",
       "      <th>39</th>\n",
       "      <td>EDUCATIONAL FACILITIES</td>\n",
       "      <td>234557.0</td>\n",
       "      <td>NaN</td>\n",
       "      <td>NaN</td>\n",
       "      <td>NaN</td>\n",
       "      <td>204584.0</td>\n",
       "      <td>43232.0</td>\n",
       "      <td>NaN</td>\n",
       "      <td>NaN</td>\n",
       "    </tr>\n",
       "  </tbody>\n",
       "</table>\n",
       "</div>"
      ],
      "text/plain": [
       "                    Building Class Category    Chelsea    Clinton  East village    Fashion  Gramercy    Inwood  Midtown cbd       Soho\n",
       "0            CONDOS - 2-10 UNIT RESIDENTIAL    63788.0     2578.0       18446.0        0.0       0.0       NaN          NaN    66322.0\n",
       "1                 COOPS - WALKUP APARTMENTS        0.0        0.0           0.0        0.0       0.0       0.0          NaN        0.0\n",
       "2                       TAX CLASS 4 - OTHER        NaN      336.0           NaN  1378125.0    6507.0       NaN          NaN        0.0\n",
       "3               RENTALS - WALKUP APARTMENTS   540984.0   326228.0      768324.0    69894.0  169817.0  939034.0          NaN   201655.0\n",
       "4                    COMMERCIAL VACANT LAND        0.0        0.0           0.0    48183.0       NaN       0.0          0.0        0.0\n",
       "5                     CONDO STORE BUILDINGS    11461.0    11946.0           0.0    17150.0     366.0       NaN      57711.0    26688.0\n",
       "6                      TWO FAMILY DWELLINGS    45300.0     3600.0       27037.0        NaN   37469.0   31966.0          NaN    55524.0\n",
       "7                    THREE FAMILY DWELLINGS    12187.0    11992.0        3840.0        NaN   10591.0   12327.0          NaN        NaN\n",
       "8                                  THEATRES    19031.0   521650.0           NaN        NaN       NaN       NaN          NaN        NaN\n",
       "9                          OFFICE BUILDINGS  3648734.0   487498.0       17066.0  5682958.0  514604.0  104625.0    8933311.0  6034443.0\n",
       "10                             OTHER HOTELS    28520.0   181903.0           NaN   223762.0       NaN       NaN     337120.0    55479.0\n",
       "11            RENTALS - ELEVATOR APARTMENTS  1523339.0  2445820.0      436628.0   396127.0  428416.0  206954.0     230879.0  3424381.0\n",
       "12                            LUXURY HOTELS        NaN        NaN           NaN  2025743.0  400000.0       NaN    1345690.0   103575.0\n",
       "13                        COMMERCIAL CONDOS        0.0        0.0           NaN        0.0       NaN       NaN          NaN        0.0\n",
       "14               CONDOS - WALKUP APARTMENTS      963.0        NaN        2109.0        NaN     419.0       NaN          NaN     1119.0\n",
       "15                              CONDO COOPS   320433.0        0.0           0.0        NaN       0.0       NaN          0.0        0.0\n",
       "16                           LOFT BUILDINGS   325602.0        NaN           NaN   703179.0   45919.0       NaN          NaN   112185.0\n",
       "17    INDOOR PUBLIC AND CULTURAL FACILITIES    39936.0     4920.0       98820.0        NaN       NaN       NaN      17131.0    14063.0\n",
       "18                                FACTORIES        NaN        NaN           NaN    12518.0       NaN       NaN          NaN        NaN\n",
       "19                             CONDO HOTELS        0.0        NaN           NaN    85977.0       NaN       NaN       2890.0     2015.0\n",
       "20                          A CONDO-RENTALS        NaN        0.0       51644.0        NaN       NaN       NaN          NaN    15655.0\n",
       "21                       COMMERCIAL GARAGES    13305.0    73212.0        2384.0        0.0       NaN   22990.0          NaN    25046.0\n",
       "22                        ASYLUMS AND HOMES    14714.0        NaN           NaN        NaN   23849.0       NaN          NaN        NaN\n",
       "23                   CONDO OFFICE BUILDINGS        0.0        0.0           NaN        0.0       0.0       NaN      75232.0        0.0\n",
       "24               CONDO NON-BUSINESS STORAGE        0.0        0.0           NaN        0.0       0.0       NaN          NaN        0.0\n",
       "25              COOPS - ELEVATOR APARTMENTS        0.0        0.0           0.0        0.0       0.0  461475.0          0.0    43500.0\n",
       "26                            CONDO PARKING     8542.0     1002.0         162.0        0.0       NaN       NaN          NaN      531.0\n",
       "27           HOSPITAL AND HEALTH FACILITIES        NaN   526842.0       10960.0        NaN       NaN       NaN          NaN        NaN\n",
       "28                       TAX CLASS 1 CONDOS     4695.0        NaN           NaN        NaN       NaN    1497.0          NaN        0.0\n",
       "29                          STORE BUILDINGS   247149.0   127025.0       53187.0  1023123.0   32815.0   26243.0     267066.0   201610.0\n",
       "30                      RENTALS - 4-10 UNIT    71441.0    13480.0      128313.0    31996.0       NaN       NaN       5960.0    56222.0\n",
       "31             CONDOS - ELEVATOR APARTMENTS   413001.0   177520.0      129061.0   112629.0  124082.0    6493.0     164199.0   185537.0\n",
       "32           CONDO TERRACES/GARDENS/CABANAS        0.0        0.0           0.0        NaN       NaN       NaN          NaN        NaN\n",
       "33           CONDO WAREHOUSES/FACTORY/INDUS        NaN        0.0           NaN        NaN       NaN       NaN          NaN        NaN\n",
       "34  CONDOS - 2-10 UNIT WITH COMMERCIAL UNIT        0.0        NaN           0.0        NaN       NaN       NaN          NaN        0.0\n",
       "35                     ONE FAMILY DWELLINGS    42586.0        NaN       37027.0     2028.0   12044.0   17751.0          NaN    27601.0\n",
       "36                     RELIGIOUS FACILITIES        NaN     8848.0        5775.0        NaN   13535.0   11072.0      21400.0    10246.0\n",
       "37                               WAREHOUSES    98069.0    28468.0           NaN        NaN       NaN       NaN          NaN    88146.0\n",
       "38   CONDO CULTURAL/MEDICAL/EDUCATIONAL/ETC        NaN        NaN           NaN        NaN       NaN       NaN          NaN        0.0\n",
       "39                   EDUCATIONAL FACILITIES   234557.0        NaN           NaN        NaN  204584.0   43232.0          NaN        NaN"
      ]
     },
     "execution_count": 293,
     "metadata": {},
     "output_type": "execute_result"
    }
   ],
   "source": [
    "ToPandasAPI"
   ]
  },
  {
   "cell_type": "markdown",
   "id": "4ec6e843",
   "metadata": {},
   "source": [
    "## dfQueens20032019"
   ]
  },
  {
   "cell_type": "code",
   "execution_count": 294,
   "id": "7130a9d0",
   "metadata": {},
   "outputs": [],
   "source": [
    "SelColdfQueens20032019 = dfQueens20032019.select(\"Borough\", \"Neighborhood\", \n",
    "                       \"Building Class Category\",\"Building Class At Present\",\n",
    "                      \"Sale Price\", \"Sale Date\")"
   ]
  },
  {
   "cell_type": "code",
   "execution_count": 295,
   "id": "8d489916",
   "metadata": {},
   "outputs": [
    {
     "data": {
      "text/plain": [
       "['Borough',\n",
       " 'Neighborhood',\n",
       " 'Building Class Category',\n",
       " 'Building Class At Present',\n",
       " 'Sale Price',\n",
       " 'Sale Date',\n",
       " 'Building Code',\n",
       " 'Description']"
      ]
     },
     "execution_count": 295,
     "metadata": {},
     "output_type": "execute_result"
    }
   ],
   "source": [
    "dfQueens20032019BCD = SelColdfQueens20032019.join(BuildingClassification,\n",
    "                                                 SelColdfQueens20032019[\"Building Class At Present\"] == BuildingClassification[\"Building Code\"], \"inner\") \n",
    "dfQueens20032019BCD.columns"
   ]
  },
  {
   "cell_type": "code",
   "execution_count": 296,
   "id": "ea0cd05d",
   "metadata": {},
   "outputs": [],
   "source": [
    "dfQueens20032019BCD = dfQueens20032019BCD.select('Borough',\n",
    " CapitalizeStringUDF(col(\"Neighborhood\")).alias(\"Neighborhood\"),\n",
    "trim(RemoveTwoCharactersUDF(col(\"Building Class Category\"))).alias(\"Building Class Category\"),\n",
    " 'Building Class At Present',\n",
    " 'Sale Price',\n",
    " 'Sale Date',\n",
    " 'Building Code',\n",
    " 'Description')"
   ]
  },
  {
   "cell_type": "code",
   "execution_count": 297,
   "id": "dc245dde",
   "metadata": {},
   "outputs": [
    {
     "name": "stdout",
     "output_type": "stream",
     "text": [
      "+-------+-------------------------+---------------------------+------------------------------------------+----------+\n",
      "|Borough|Neighborhood             |Building Class Category    |Description                               |Sale Price|\n",
      "+-------+-------------------------+---------------------------+------------------------------------------+----------+\n",
      "|Queens |Arverne                  |TWO FAMILY HOMES           |MISCELLANEOUS TWO FAMILY                  |286500.00 |\n",
      "|Queens |Arverne                  |THREE FAMILY HOMES         |THREE FAMILIES                            |0.00      |\n",
      "|Queens |Astoria                  |TWO FAMILY HOMES           |TWO FAMILY BRICK                          |0.00      |\n",
      "|Queens |Astoria                  |TWO FAMILY HOMES           |TWO FAMILY BRICK                          |0.00      |\n",
      "|Queens |Astoria                  |TWO FAMILY HOMES           |TWO FAMILY FRAME                          |0.00      |\n",
      "|Queens |Astoria                  |TWO FAMILY HOMES           |THREE FAMILIES                            |495500.00 |\n",
      "|Queens |Astoria                  |TWO FAMILY HOMES           |TWO FAMILY BRICK                          |0.00      |\n",
      "|Queens |Astoria                  |THREE FAMILY HOMES         |THREE FAMILIES                            |0.00      |\n",
      "|Queens |Bayside                  |ONE FAMILY HOMES           |TWO STORIES - DETACHED SM OR MID          |622000.00 |\n",
      "|Queens |Bayside                  |ONE FAMILY HOMES           |ONE FAMILY ATTACHED OR SEMI-DETACHED      |350000.00 |\n",
      "|Queens |Bayside                  |TWO FAMILY HOMES           |TWO FAMILY CONVERTED FROM ONE FAMILY      |0.00      |\n",
      "|Queens |Bayside                  |TAX CLASS 1 CONDOS         |CONDO; RESIDENTIAL UNIT IN 1-3 STORY BLDG.|0.00      |\n",
      "|Queens |Bayside                  |TAX CLASS 1 CONDOS         |CONDO; RESIDENTIAL UNIT IN 1-3 STORY BLDG.|345000.00 |\n",
      "|Queens |Bayside                  |COOPS - WALKUP APARTMENTS  |WALK-UP COOPERATIVE                       |170000.00 |\n",
      "|Queens |Bayside                  |COOPS - ELEVATOR APARTMENTS|ELEVATOR COOPERATIVE                      |173000.00 |\n",
      "|Queens |Beechhurst               |TAX CLASS 1 CONDOS         |CONDO; RESIDENTIAL UNIT IN 1-3 STORY BLDG.|672045.00 |\n",
      "|Queens |Belle harbor             |ONE FAMILY HOMES           |TWO STORIES - DETACHED SM OR MID          |30000.00  |\n",
      "|Queens |Briarwood                |RENTALS - WALKUP APARTMENTS|FIVE TO SIX FAMILIES                      |300000.00 |\n",
      "|Queens |Briarwood                |COOPS - ELEVATOR APARTMENTS|ELEVATOR COOPERATIVE                      |45000.00  |\n",
      "|Queens |Briarwood                |COOPS - ELEVATOR APARTMENTS|ELEVATOR COOPERATIVE                      |115000.00 |\n",
      "+-------+-------------------------+---------------------------+------------------------------------------+----------+\n",
      "only showing top 20 rows\n",
      "\n"
     ]
    }
   ],
   "source": [
    "dfQueens20032019BCD.select('Borough',\n",
    " 'Neighborhood',\n",
    " 'Building Class Category',\n",
    "'Description',\n",
    " 'Sale Price'\n",
    " ).show(truncate=False)"
   ]
  },
  {
   "cell_type": "markdown",
   "id": "7e9a947b",
   "metadata": {},
   "source": [
    "###  Calculating a few statistical methods"
   ]
  },
  {
   "cell_type": "code",
   "execution_count": 298,
   "id": "353fa834",
   "metadata": {},
   "outputs": [
    {
     "name": "stdout",
     "output_type": "stream",
     "text": [
      "+-------------------------+-----------------+-----------------+--------------+--------------+\n",
      "|Neighborhood             |Sum Of Sale Price|Avg of Sale Price|Max Sale Price|Min Sale Price|\n",
      "+-------------------------+-----------------+-----------------+--------------+--------------+\n",
      "|Far rockaway             |2269010127.00    |524262.968346    |98000000.00   |1.00          |\n",
      "|Woodside                 |2357807090.00    |497427.656118    |14000000.00   |1.00          |\n",
      "|Corona                   |921205131.00     |818121.785968    |19900000.00   |1.00          |\n",
      "|Howard beach             |1760206265.00    |360919.882100    |27000000.00   |1.00          |\n",
      "|Douglaston               |340430445.00     |740066.184783    |4000000.00    |10.00         |\n",
      "|Oakland gardens          |1732240259.00    |346517.355271    |24861531.00   |1.00          |\n",
      "|Woodhaven                |2224435700.00    |454523.028198    |14105000.00   |1.00          |\n",
      "|Jackson heights          |5305786607.00    |447670.149089    |85091472.00   |1.00          |\n",
      "|Bayside                  |1756699887.00    |822040.190454    |24400000.00   |1.00          |\n",
      "|Forest hills             |1227031367.00    |649566.631551    |9765000.00    |1.00          |\n",
      "|So. jamaica-baisley park |2781160923.00    |341121.172942    |44500000.00   |1.00          |\n",
      "|Elmhurst                 |5764037380.00    |621593.592149    |125000000.00  |1.00          |\n",
      "|Flushing-south           |983244835.00     |618392.977987    |14500000.00   |1.00          |\n",
      "|Queens-unknown           |2615000.00       |653750.000000    |950000.00     |325000.00     |\n",
      "|Hillcrest                |475000387.00     |374605.983438    |10900000.00   |1.00          |\n",
      "|Belle harbor             |631479518.00     |627713.238569    |4700000.00    |1.00          |\n",
      "|Rockaway park            |618504484.00     |458491.092661    |12000000.00   |1.00          |\n",
      "|Springfield gardens      |1300822289.00    |965718.106162    |56982246.00   |1.00          |\n",
      "|Briarwood                |192112401.00     |466292.235437    |6300000.00    |10.00         |\n",
      "|Hillcrest                |120309916.00     |525370.812227    |10200000.00   |1.00          |\n",
      "+-------------------------+-----------------+-----------------+--------------+--------------+\n",
      "only showing top 20 rows\n",
      "\n"
     ]
    }
   ],
   "source": [
    "STATdfQueens20032019BCD = dfQueens20032019BCD.filter(dfQueens20032019BCD[\"Sale Price\"] > 0)\n",
    "\n",
    "\n",
    "STATdfQueens20032019BCD.groupBy(\"Neighborhood\") \\\n",
    "    .agg(sum(\"Sale Price\").alias(\"Sum Of Sale Price\"), \\\n",
    "         avg(\"Sale Price\").alias(\"Avg of Sale Price\"), \\\n",
    "         max(\"Sale Price\").alias(\"Max Sale Price\"), \\\n",
    "         min(\"Sale Price\").alias(\"Min Sale Price\") \\\n",
    "     ) \\\n",
    "    .show(truncate=False)"
   ]
  },
  {
   "cell_type": "markdown",
   "id": "2654c845",
   "metadata": {},
   "source": [
    "### Grouping by Neighborhood, Building Class Category and Description"
   ]
  },
  {
   "cell_type": "code",
   "execution_count": 299,
   "id": "ea21912f",
   "metadata": {},
   "outputs": [],
   "source": [
    "GroupingSalesQueens20032019  = dfQueens20032019BCD.groupBy('Borough',\n",
    "                                                     'Neighborhood',\n",
    "                                                     'Building Class Category',\n",
    "                                                     'Description').sum('Sale Price')"
   ]
  },
  {
   "cell_type": "code",
   "execution_count": 300,
   "id": "e1147f6d",
   "metadata": {},
   "outputs": [
    {
     "name": "stdout",
     "output_type": "stream",
     "text": [
      "+-------+-------------------------+---------------------------+-----------------------------------+------------+\n",
      "|Borough|             Neighborhood|    Building Class Category|                        Description|  Sale Price|\n",
      "+-------+-------------------------+---------------------------+-----------------------------------+------------+\n",
      "| Queens|Corona                   |           TWO FAMILY HOMES|                   TWO FAMILY FRAME|402879086.00|\n",
      "| Queens|Whitestone               |           TWO FAMILY HOMES|PRIMARILY 2 FAMILY WITH 1 STORE ...|  4633210.00|\n",
      "| Queens|           Flushing-south|       ONE FAMILY DWELLINGS|ONE STORY - PERMANENT LIVING QUA...|107325829.00|\n",
      "| Queens|               Whitestone|       ONE FAMILY DWELLINGS|ONE STORY - PERMANENT LIVING QUA...|108418668.00|\n",
      "| Queens|Glendale                 |        RENTALS - 4-10 UNIT|PRIMARILY 4 FAMILY WITH 1 STORE ...|  7110010.00|\n",
      "| Queens|Astoria                  |           TWO FAMILY HOMES|PRIMARILY 2 FAMILY WITH 1 STORE ...| 67574464.00|\n",
      "| Queens|                Ridgewood|     THREE FAMILY DWELLINGS|                     THREE FAMILIES| 81794856.00|\n",
      "| Queens|                   Corona|     THREE FAMILY DWELLINGS|                     THREE FAMILIES|205452637.00|\n",
      "| Queens|Hillcrest                |            STORE BUILDINGS|          ONE STORY RETAIL BUILDING| 20752920.00|\n",
      "| Queens|Douglaston               |COOPS - ELEVATOR APARTMENTS|               ELEVATOR COOPERATIVE| 42968426.00|\n",
      "+-------+-------------------------+---------------------------+-----------------------------------+------------+\n",
      "only showing top 10 rows\n",
      "\n"
     ]
    }
   ],
   "source": [
    "GroupingSalesQueens20032019.select(\"Borough\", \n",
    "                                  \"Neighborhood\",\n",
    "                                  \"Building Class Category\",\n",
    "                                  \"Description\",\n",
    "                                  col(\"sum(Sale Price)\").alias(\"Sale Price\")).show(10,35)"
   ]
  },
  {
   "cell_type": "markdown",
   "id": "35481f7c",
   "metadata": {},
   "source": [
    "### Grouping and perform analysis using window functions"
   ]
  },
  {
   "cell_type": "code",
   "execution_count": 301,
   "id": "b743e18b",
   "metadata": {},
   "outputs": [],
   "source": [
    "GroupSalesQueens20032019 = dfQueens20032019BCD.groupBy('Borough',\n",
    "                                                             'Neighborhood',\n",
    "                                                             'Building Class Category').sum('Sale Price')"
   ]
  },
  {
   "cell_type": "code",
   "execution_count": 302,
   "id": "3b5e943d",
   "metadata": {},
   "outputs": [
    {
     "name": "stdout",
     "output_type": "stream",
     "text": [
      "+-------+-------------------+------------------------------+------------+\n",
      "|Borough|Neighborhood       |Building Class Category       |Sale Price  |\n",
      "+-------+-------------------+------------------------------+------------+\n",
      "|Queens |Middle village     |COMMERCIAL CONDOS             |6790706.00  |\n",
      "|Queens |Hollis             |TWO FAMILY DWELLINGS          |122611241.00|\n",
      "|Queens |Kew gardens        |TAX CLASS 1 VACANT LAND       |7364500.00  |\n",
      "|Queens |Bayside            |COOPS - WALKUP APARTMENTS     |71030986.00 |\n",
      "|Queens |Belle harbor       |ONE FAMILY DWELLINGS          |79279193.00 |\n",
      "|Queens |Bellerose          |TWO FAMILY DWELLINGS          |45519144.00 |\n",
      "|Queens |Little neck        |TAX CLASS 1 - OTHER           |1480000.00  |\n",
      "|Queens |Whitestone         |COMMERCIAL VACANT LAND        |1516500.00  |\n",
      "|Queens |Maspeth            |COMMERCIAL GARAGES            |82005000.00 |\n",
      "|Queens |Holliswood         |TWO FAMILY DWELLINGS          |9697963.00  |\n",
      "|Queens |Floral park        |OFFICE BUILDINGS              |4986400.00  |\n",
      "|Queens |Maspeth            |COMMERCIAL GARAGES            |88789682.00 |\n",
      "|Queens |Glendale           |TWO FAMILY DWELLINGS          |244362651.00|\n",
      "|Queens |Glendale           |TWO FAMILY DWELLINGS          |239770687.00|\n",
      "|Queens |Rockaway park      |CONDOS - 2-10 UNIT RESIDENTIAL|2192500.00  |\n",
      "|Queens |Jackson heights    |RENTALS - 4-10 UNIT           |28261830.00 |\n",
      "|Queens |Rego park          |RENTALS - 4-10 UNIT           |8550000.00  |\n",
      "|Queens |Laurelton          |TAX CLASS 1 VACANT LAND       |1162340.00  |\n",
      "|Queens |Springfield gardens|OFFICE BUILDINGS              |53748125.00 |\n",
      "|Queens |Floral park        |STORE BUILDINGS               |7875000.00  |\n",
      "+-------+-------------------+------------------------------+------------+\n",
      "only showing top 20 rows\n",
      "\n"
     ]
    }
   ],
   "source": [
    "GroupSalesQueens20032019 = GroupSalesQueens20032019.select(\n",
    "                                'Borough',\n",
    "                               trim(col(\"Neighborhood\")).alias(\"Neighborhood\"),\n",
    "                                trim(col(\"Building Class Category\")).alias(\"Building Class Category\"),\n",
    "                               col('sum(Sale Price)').alias(\"Sale Price\"))\n",
    "\n",
    "GroupSalesQueens20032019.show(truncate=False)"
   ]
  },
  {
   "cell_type": "code",
   "execution_count": 303,
   "id": "5a167f18",
   "metadata": {},
   "outputs": [],
   "source": [
    "windowSpec = Window.partitionBy(\"Neighborhood\").orderBy(desc(col(\"Sale Price\")))"
   ]
  },
  {
   "cell_type": "code",
   "execution_count": 304,
   "id": "5c715cc0",
   "metadata": {},
   "outputs": [
    {
     "name": "stdout",
     "output_type": "stream",
     "text": [
      "+-------+------------------+-----------------------+------------+------------+\n",
      "|Borough|      Neighborhood|Building Class Category|  Sale Price|RankingSales|\n",
      "+-------+------------------+-----------------------+------------+------------+\n",
      "| Queens|       Airport jfk|   COMMERCIAL VACANT...|  7800000.00|           1|\n",
      "| Queens|       Airport jfk|   TRANSPORTATION FA...|  6088704.00|           2|\n",
      "| Queens|Airport la guardia|       ONE FAMILY HOMES|  9531100.00|           1|\n",
      "| Queens|Airport la guardia|   ONE FAMILY DWELLINGS|  7454510.00|           2|\n",
      "| Queens|Airport la guardia|   ONE FAMILY DWELLINGS|  4504500.00|           3|\n",
      "| Queens|Airport la guardia|   CONDOS - WALKUP A...|  4395070.00|           4|\n",
      "| Queens|Airport la guardia|     THREE FAMILY HOMES|  3435000.00|           5|\n",
      "| Queens|Airport la guardia|       TWO FAMILY HOMES|  2494000.00|           6|\n",
      "| Queens|Airport la guardia|   TWO FAMILY DWELLINGS|  1725000.00|           7|\n",
      "| Queens|Airport la guardia|   THREE FAMILY DWEL...|  1410000.00|           8|\n",
      "| Queens|Airport la guardia|   RENTALS - WALKUP ...|  1400000.00|           9|\n",
      "| Queens|Airport la guardia|   THREE FAMILY DWEL...|   970000.00|          10|\n",
      "| Queens|Airport la guardia|   RENTALS - WALKUP ...|   660000.00|          11|\n",
      "| Queens|Airport la guardia|   TWO FAMILY DWELLINGS|   540000.00|          12|\n",
      "| Queens|Airport la guardia|   CONDOS - WALKUP A...|   425000.00|          13|\n",
      "| Queens|Airport la guardia|   TRANSPORTATION FA...|        0.00|          14|\n",
      "| Queens|           Arverne|       TWO FAMILY HOMES|578818906.00|           1|\n",
      "| Queens|           Arverne|   TWO FAMILY DWELLINGS|197125219.00|           2|\n",
      "| Queens|           Arverne|       ONE FAMILY HOMES|162150098.00|           3|\n",
      "| Queens|           Arverne|   TWO FAMILY DWELLINGS|125043245.00|           4|\n",
      "+-------+------------------+-----------------------+------------+------------+\n",
      "only showing top 20 rows\n",
      "\n"
     ]
    }
   ],
   "source": [
    "RNGroupSalesQueens20032019 = GroupSalesQueens20032019.withColumn(\"RankingSales\", row_number().over(windowSpec))\n",
    "RNGroupSalesQueens20032019.show()"
   ]
  },
  {
   "cell_type": "code",
   "execution_count": 305,
   "id": "dbff8ea4",
   "metadata": {},
   "outputs": [
    {
     "name": "stdout",
     "output_type": "stream",
     "text": [
      "+-------+------------------------+-----------------------------+-------------+------------+\n",
      "|Borough|            Neighborhood|      Building Class Category|   Sale Price|RankingSales|\n",
      "+-------+------------------------+-----------------------------+-------------+------------+\n",
      "| Queens|             Airport jfk|       COMMERCIAL VACANT LAND|   7800000.00|           1|\n",
      "| Queens|      Airport la guardia|             ONE FAMILY HOMES|   9531100.00|           1|\n",
      "| Queens|                 Arverne|             TWO FAMILY HOMES| 578818906.00|           1|\n",
      "| Queens|                 Astoria|  RENTALS - WALKUP APARTMENTS|1225192644.00|           1|\n",
      "| Queens|                 Bayside|             ONE FAMILY HOMES|1990936604.00|           1|\n",
      "| Queens|              Beechhurst|  COOPS - ELEVATOR APARTMENTS| 357609840.00|           1|\n",
      "| Queens|            Belle harbor|             ONE FAMILY HOMES| 216667356.00|           1|\n",
      "| Queens|               Bellerose|             ONE FAMILY HOMES| 565215589.00|           1|\n",
      "| Queens|            Breezy point|         ONE FAMILY DWELLINGS|  79467500.00|           1|\n",
      "| Queens|               Briarwood|  COOPS - ELEVATOR APARTMENTS| 221688464.00|           1|\n",
      "| Queens|           Broad channel|             ONE FAMILY HOMES|  74138013.00|           1|\n",
      "| Queens|         Cambria heights|             ONE FAMILY HOMES| 405771465.00|           1|\n",
      "| Queens|           College point|             TWO FAMILY HOMES| 794928286.00|           1|\n",
      "| Queens|                  Corona|             TWO FAMILY HOMES| 966763415.00|           1|\n",
      "| Queens|              Douglaston|             ONE FAMILY HOMES| 518003828.00|           1|\n",
      "| Queens|           East elmhurst|             TWO FAMILY HOMES| 560118646.00|           1|\n",
      "| Queens|                Elmhurst|RENTALS - ELEVATOR APARTMENTS| 767035346.00|           1|\n",
      "| Queens|            Far rockaway|         TWO FAMILY DWELLINGS|1139451702.00|           1|\n",
      "| Queens|             Floral park|             ONE FAMILY HOMES| 583185606.00|           1|\n",
      "| Queens|    Flushing meadow park|  COOPS - ELEVATOR APARTMENTS|  53611402.00|           1|\n",
      "| Queens|          Flushing-north|             ONE FAMILY HOMES|2984584627.00|           1|\n",
      "| Queens|          Flushing-south|             ONE FAMILY HOMES|1288181303.00|           1|\n",
      "| Queens|            Forest hills|  COOPS - ELEVATOR APARTMENTS|2199188017.00|           1|\n",
      "| Queens|           Fresh meadows|             ONE FAMILY HOMES| 511027160.00|           1|\n",
      "| Queens|               Glen oaks|  COOPS - ELEVATOR APARTMENTS| 689269213.00|           1|\n",
      "| Queens|                Glendale|             TWO FAMILY HOMES| 590127250.00|           1|\n",
      "| Queens|                 Hammels| CONDOS - ELEVATOR APARTMENTS| 116323734.00|           1|\n",
      "| Queens|               Hillcrest|             ONE FAMILY HOMES| 132753330.00|           1|\n",
      "| Queens|                  Hollis|             ONE FAMILY HOMES| 854284629.00|           1|\n",
      "| Queens|            Hollis hills|             ONE FAMILY HOMES| 230444199.00|           1|\n",
      "| Queens|              Holliswood|             ONE FAMILY HOMES| 253983408.00|           1|\n",
      "| Queens|            Howard beach|             ONE FAMILY HOMES| 550225108.00|           1|\n",
      "| Queens|         Jackson heights|  COOPS - ELEVATOR APARTMENTS|1155436124.00|           1|\n",
      "| Queens|                 Jamaica|             TWO FAMILY HOMES| 366982856.00|           1|\n",
      "| Queens|             Jamaica bay|             TWO FAMILY HOMES|  23482318.00|           1|\n",
      "| Queens|         Jamaica estates|             ONE FAMILY HOMES| 452090277.00|           1|\n",
      "| Queens|           Jamaica hills|             ONE FAMILY HOMES| 171947677.00|           1|\n",
      "| Queens|             Kew gardens|  COOPS - ELEVATOR APARTMENTS| 526487985.00|           1|\n",
      "| Queens|               Laurelton|             ONE FAMILY HOMES| 665204399.00|           1|\n",
      "| Queens|             Little neck|             ONE FAMILY HOMES| 632829230.00|           1|\n",
      "| Queens|        Long island city| CONDOS - ELEVATOR APARTMENTS|2024941310.00|           1|\n",
      "| Queens|                 Maspeth|             TWO FAMILY HOMES| 635496443.00|           1|\n",
      "| Queens|          Middle village|             ONE FAMILY HOMES| 698874116.00|           1|\n",
      "| Queens|                Neponsit|             ONE FAMILY HOMES| 180138218.00|           1|\n",
      "| Queens|         Oakland gardens|    COOPS - WALKUP APARTMENTS| 440675437.00|           1|\n",
      "| Queens|              Ozone park|             TWO FAMILY HOMES| 933621968.00|           1|\n",
      "| Queens|          Queens village|             ONE FAMILY HOMES|1275788774.00|           1|\n",
      "| Queens|          Queens-unknown|       THREE FAMILY DWELLINGS|    950000.00|           1|\n",
      "| Queens|               Rego park|  COOPS - ELEVATOR APARTMENTS| 975908887.00|           1|\n",
      "| Queens|           Richmond hill|             TWO FAMILY HOMES|1423202607.00|           1|\n",
      "| Queens|               Ridgewood|  RENTALS - WALKUP APARTMENTS| 834370384.00|           1|\n",
      "| Queens|           Rockaway park|   CONDOS - WALKUP APARTMENTS|  72953557.00|           1|\n",
      "| Queens|                Rosedale|             ONE FAMILY HOMES| 747470068.00|           1|\n",
      "| Queens|So. jamaica-baisley park|             ONE FAMILY HOMES|1229595225.00|           1|\n",
      "| Queens|           South jamaica|             TWO FAMILY HOMES|1055334908.00|           1|\n",
      "| Queens|        South ozone park|             ONE FAMILY HOMES|1041476579.00|           1|\n",
      "| Queens|     Springfield gardens|             ONE FAMILY HOMES| 892703337.00|           1|\n",
      "| Queens|              St. albans|             ONE FAMILY HOMES|1177160091.00|           1|\n",
      "| Queens|               Sunnyside|RENTALS - ELEVATOR APARTMENTS| 421581590.00|           1|\n",
      "| Queens|              Whitestone|             ONE FAMILY HOMES| 928391797.00|           1|\n",
      "| Queens|               Woodhaven|             TWO FAMILY HOMES| 817859802.00|           1|\n",
      "| Queens|                Woodside|  COOPS - ELEVATOR APARTMENTS| 399640661.00|           1|\n",
      "+-------+------------------------+-----------------------------+-------------+------------+\n",
      "\n"
     ]
    }
   ],
   "source": [
    "RNGroupSalesQueens20032019.filter(RNGroupSalesQueens20032019[\"RankingSales\"] == 1).show(100,30)"
   ]
  },
  {
   "cell_type": "code",
   "execution_count": 306,
   "id": "0f21b41e",
   "metadata": {},
   "outputs": [
    {
     "name": "stdout",
     "output_type": "stream",
     "text": [
      "+-------+------------------+-----------------------+------------+-------+\n",
      "|Borough|      Neighborhood|Building Class Category|  Sale Price|Ranking|\n",
      "+-------+------------------+-----------------------+------------+-------+\n",
      "| Queens|       Airport jfk|   COMMERCIAL VACANT...|  7800000.00|      1|\n",
      "| Queens|       Airport jfk|   TRANSPORTATION FA...|  6088704.00|      2|\n",
      "| Queens|Airport la guardia|       ONE FAMILY HOMES|  9531100.00|      1|\n",
      "| Queens|Airport la guardia|   ONE FAMILY DWELLINGS|  7454510.00|      2|\n",
      "| Queens|Airport la guardia|   ONE FAMILY DWELLINGS|  4504500.00|      3|\n",
      "| Queens|Airport la guardia|   CONDOS - WALKUP A...|  4395070.00|      4|\n",
      "| Queens|Airport la guardia|     THREE FAMILY HOMES|  3435000.00|      5|\n",
      "| Queens|Airport la guardia|       TWO FAMILY HOMES|  2494000.00|      6|\n",
      "| Queens|Airport la guardia|   TWO FAMILY DWELLINGS|  1725000.00|      7|\n",
      "| Queens|Airport la guardia|   THREE FAMILY DWEL...|  1410000.00|      8|\n",
      "| Queens|Airport la guardia|   RENTALS - WALKUP ...|  1400000.00|      9|\n",
      "| Queens|Airport la guardia|   THREE FAMILY DWEL...|   970000.00|     10|\n",
      "| Queens|Airport la guardia|   RENTALS - WALKUP ...|   660000.00|     11|\n",
      "| Queens|Airport la guardia|   TWO FAMILY DWELLINGS|   540000.00|     12|\n",
      "| Queens|Airport la guardia|   CONDOS - WALKUP A...|   425000.00|     13|\n",
      "| Queens|Airport la guardia|   TRANSPORTATION FA...|        0.00|     14|\n",
      "| Queens|           Arverne|       TWO FAMILY HOMES|578818906.00|      1|\n",
      "| Queens|           Arverne|   TWO FAMILY DWELLINGS|197125219.00|      2|\n",
      "| Queens|           Arverne|       ONE FAMILY HOMES|162150098.00|      3|\n",
      "| Queens|           Arverne|   TWO FAMILY DWELLINGS|125043245.00|      4|\n",
      "+-------+------------------+-----------------------+------------+-------+\n",
      "only showing top 20 rows\n",
      "\n"
     ]
    }
   ],
   "source": [
    "RANKGroupSalesQueens20032019 = GroupSalesQueens20032019.withColumn(\"Ranking\", rank().over(windowSpec))\n",
    "RANKGroupSalesQueens20032019.show()"
   ]
  },
  {
   "cell_type": "code",
   "execution_count": 307,
   "id": "a076a5dc",
   "metadata": {},
   "outputs": [
    {
     "name": "stdout",
     "output_type": "stream",
     "text": [
      "+-------+------------------------+-----------------------------+-------------+-------+\n",
      "|Borough|            Neighborhood|      Building Class Category|   Sale Price|Ranking|\n",
      "+-------+------------------------+-----------------------------+-------------+-------+\n",
      "| Queens|             Airport jfk|       COMMERCIAL VACANT LAND|   7800000.00|      1|\n",
      "| Queens|      Airport la guardia|             ONE FAMILY HOMES|   9531100.00|      1|\n",
      "| Queens|                 Arverne|             TWO FAMILY HOMES| 578818906.00|      1|\n",
      "| Queens|                 Astoria|  RENTALS - WALKUP APARTMENTS|1225192644.00|      1|\n",
      "| Queens|                 Bayside|             ONE FAMILY HOMES|1990936604.00|      1|\n",
      "| Queens|              Beechhurst|  COOPS - ELEVATOR APARTMENTS| 357609840.00|      1|\n",
      "| Queens|            Belle harbor|             ONE FAMILY HOMES| 216667356.00|      1|\n",
      "| Queens|               Bellerose|             ONE FAMILY HOMES| 565215589.00|      1|\n",
      "| Queens|            Breezy point|         ONE FAMILY DWELLINGS|  79467500.00|      1|\n",
      "| Queens|               Briarwood|  COOPS - ELEVATOR APARTMENTS| 221688464.00|      1|\n",
      "| Queens|           Broad channel|             ONE FAMILY HOMES|  74138013.00|      1|\n",
      "| Queens|         Cambria heights|             ONE FAMILY HOMES| 405771465.00|      1|\n",
      "| Queens|           College point|             TWO FAMILY HOMES| 794928286.00|      1|\n",
      "| Queens|                  Corona|             TWO FAMILY HOMES| 966763415.00|      1|\n",
      "| Queens|              Douglaston|             ONE FAMILY HOMES| 518003828.00|      1|\n",
      "| Queens|           East elmhurst|             TWO FAMILY HOMES| 560118646.00|      1|\n",
      "| Queens|                Elmhurst|RENTALS - ELEVATOR APARTMENTS| 767035346.00|      1|\n",
      "| Queens|            Far rockaway|         TWO FAMILY DWELLINGS|1139451702.00|      1|\n",
      "| Queens|             Floral park|             ONE FAMILY HOMES| 583185606.00|      1|\n",
      "| Queens|    Flushing meadow park|  COOPS - ELEVATOR APARTMENTS|  53611402.00|      1|\n",
      "| Queens|          Flushing-north|             ONE FAMILY HOMES|2984584627.00|      1|\n",
      "| Queens|          Flushing-south|             ONE FAMILY HOMES|1288181303.00|      1|\n",
      "| Queens|            Forest hills|  COOPS - ELEVATOR APARTMENTS|2199188017.00|      1|\n",
      "| Queens|           Fresh meadows|             ONE FAMILY HOMES| 511027160.00|      1|\n",
      "| Queens|               Glen oaks|  COOPS - ELEVATOR APARTMENTS| 689269213.00|      1|\n",
      "| Queens|                Glendale|             TWO FAMILY HOMES| 590127250.00|      1|\n",
      "| Queens|                 Hammels| CONDOS - ELEVATOR APARTMENTS| 116323734.00|      1|\n",
      "| Queens|               Hillcrest|             ONE FAMILY HOMES| 132753330.00|      1|\n",
      "| Queens|                  Hollis|             ONE FAMILY HOMES| 854284629.00|      1|\n",
      "| Queens|            Hollis hills|             ONE FAMILY HOMES| 230444199.00|      1|\n",
      "| Queens|              Holliswood|             ONE FAMILY HOMES| 253983408.00|      1|\n",
      "| Queens|            Howard beach|             ONE FAMILY HOMES| 550225108.00|      1|\n",
      "| Queens|         Jackson heights|  COOPS - ELEVATOR APARTMENTS|1155436124.00|      1|\n",
      "| Queens|                 Jamaica|             TWO FAMILY HOMES| 366982856.00|      1|\n",
      "| Queens|             Jamaica bay|             TWO FAMILY HOMES|  23482318.00|      1|\n",
      "| Queens|         Jamaica estates|             ONE FAMILY HOMES| 452090277.00|      1|\n",
      "| Queens|           Jamaica hills|             ONE FAMILY HOMES| 171947677.00|      1|\n",
      "| Queens|             Kew gardens|  COOPS - ELEVATOR APARTMENTS| 526487985.00|      1|\n",
      "| Queens|               Laurelton|             ONE FAMILY HOMES| 665204399.00|      1|\n",
      "| Queens|             Little neck|             ONE FAMILY HOMES| 632829230.00|      1|\n",
      "| Queens|        Long island city| CONDOS - ELEVATOR APARTMENTS|2024941310.00|      1|\n",
      "| Queens|                 Maspeth|             TWO FAMILY HOMES| 635496443.00|      1|\n",
      "| Queens|          Middle village|             ONE FAMILY HOMES| 698874116.00|      1|\n",
      "| Queens|                Neponsit|             ONE FAMILY HOMES| 180138218.00|      1|\n",
      "| Queens|         Oakland gardens|    COOPS - WALKUP APARTMENTS| 440675437.00|      1|\n",
      "| Queens|              Ozone park|             TWO FAMILY HOMES| 933621968.00|      1|\n",
      "| Queens|          Queens village|             ONE FAMILY HOMES|1275788774.00|      1|\n",
      "| Queens|          Queens-unknown|       THREE FAMILY DWELLINGS|    950000.00|      1|\n",
      "| Queens|               Rego park|  COOPS - ELEVATOR APARTMENTS| 975908887.00|      1|\n",
      "| Queens|           Richmond hill|             TWO FAMILY HOMES|1423202607.00|      1|\n",
      "| Queens|               Ridgewood|  RENTALS - WALKUP APARTMENTS| 834370384.00|      1|\n",
      "| Queens|           Rockaway park|   CONDOS - WALKUP APARTMENTS|  72953557.00|      1|\n",
      "| Queens|                Rosedale|             ONE FAMILY HOMES| 747470068.00|      1|\n",
      "| Queens|So. jamaica-baisley park|             ONE FAMILY HOMES|1229595225.00|      1|\n",
      "| Queens|           South jamaica|             TWO FAMILY HOMES|1055334908.00|      1|\n",
      "| Queens|        South ozone park|             ONE FAMILY HOMES|1041476579.00|      1|\n",
      "| Queens|     Springfield gardens|             ONE FAMILY HOMES| 892703337.00|      1|\n",
      "| Queens|              St. albans|             ONE FAMILY HOMES|1177160091.00|      1|\n",
      "| Queens|               Sunnyside|RENTALS - ELEVATOR APARTMENTS| 421581590.00|      1|\n",
      "| Queens|              Whitestone|             ONE FAMILY HOMES| 928391797.00|      1|\n",
      "| Queens|               Woodhaven|             TWO FAMILY HOMES| 817859802.00|      1|\n",
      "| Queens|                Woodside|  COOPS - ELEVATOR APARTMENTS| 399640661.00|      1|\n",
      "+-------+------------------------+-----------------------------+-------------+-------+\n",
      "\n"
     ]
    }
   ],
   "source": [
    "RANKGroupSalesQueens20032019.filter(RANKGroupSalesQueens20032019[\"Ranking\"] == 1).show(100,30)"
   ]
  },
  {
   "cell_type": "code",
   "execution_count": 308,
   "id": "ff4d1e64",
   "metadata": {},
   "outputs": [
    {
     "name": "stdout",
     "output_type": "stream",
     "text": [
      "+-------+------------------+-----------------------+------------+---------+\n",
      "|Borough|      Neighborhood|Building Class Category|  Sale Price|DenseRank|\n",
      "+-------+------------------+-----------------------+------------+---------+\n",
      "| Queens|       Airport jfk|   COMMERCIAL VACANT...|  7800000.00|        1|\n",
      "| Queens|       Airport jfk|   TRANSPORTATION FA...|  6088704.00|        2|\n",
      "| Queens|Airport la guardia|       ONE FAMILY HOMES|  9531100.00|        1|\n",
      "| Queens|Airport la guardia|   ONE FAMILY DWELLINGS|  7454510.00|        2|\n",
      "| Queens|Airport la guardia|   ONE FAMILY DWELLINGS|  4504500.00|        3|\n",
      "| Queens|Airport la guardia|   CONDOS - WALKUP A...|  4395070.00|        4|\n",
      "| Queens|Airport la guardia|     THREE FAMILY HOMES|  3435000.00|        5|\n",
      "| Queens|Airport la guardia|       TWO FAMILY HOMES|  2494000.00|        6|\n",
      "| Queens|Airport la guardia|   TWO FAMILY DWELLINGS|  1725000.00|        7|\n",
      "| Queens|Airport la guardia|   THREE FAMILY DWEL...|  1410000.00|        8|\n",
      "| Queens|Airport la guardia|   RENTALS - WALKUP ...|  1400000.00|        9|\n",
      "| Queens|Airport la guardia|   THREE FAMILY DWEL...|   970000.00|       10|\n",
      "| Queens|Airport la guardia|   RENTALS - WALKUP ...|   660000.00|       11|\n",
      "| Queens|Airport la guardia|   TWO FAMILY DWELLINGS|   540000.00|       12|\n",
      "| Queens|Airport la guardia|   CONDOS - WALKUP A...|   425000.00|       13|\n",
      "| Queens|Airport la guardia|   TRANSPORTATION FA...|        0.00|       14|\n",
      "| Queens|           Arverne|       TWO FAMILY HOMES|578818906.00|        1|\n",
      "| Queens|           Arverne|   TWO FAMILY DWELLINGS|197125219.00|        2|\n",
      "| Queens|           Arverne|       ONE FAMILY HOMES|162150098.00|        3|\n",
      "| Queens|           Arverne|   TWO FAMILY DWELLINGS|125043245.00|        4|\n",
      "+-------+------------------+-----------------------+------------+---------+\n",
      "only showing top 20 rows\n",
      "\n"
     ]
    }
   ],
   "source": [
    "DENSERANKGroupSalesQueens20032019 = GroupSalesQueens20032019.withColumn(\"DenseRank\", dense_rank().over(windowSpec))\n",
    "DENSERANKGroupSalesQueens20032019.show()"
   ]
  },
  {
   "cell_type": "code",
   "execution_count": 309,
   "id": "e4d0a221",
   "metadata": {},
   "outputs": [
    {
     "name": "stdout",
     "output_type": "stream",
     "text": [
      "+-------+------------------------+-----------------------------+-------------+---------+\n",
      "|Borough|            Neighborhood|      Building Class Category|   Sale Price|DenseRank|\n",
      "+-------+------------------------+-----------------------------+-------------+---------+\n",
      "| Queens|             Airport jfk|       COMMERCIAL VACANT LAND|   7800000.00|        1|\n",
      "| Queens|      Airport la guardia|             ONE FAMILY HOMES|   9531100.00|        1|\n",
      "| Queens|                 Arverne|             TWO FAMILY HOMES| 578818906.00|        1|\n",
      "| Queens|                 Astoria|  RENTALS - WALKUP APARTMENTS|1225192644.00|        1|\n",
      "| Queens|                 Bayside|             ONE FAMILY HOMES|1990936604.00|        1|\n",
      "| Queens|              Beechhurst|  COOPS - ELEVATOR APARTMENTS| 357609840.00|        1|\n",
      "| Queens|            Belle harbor|             ONE FAMILY HOMES| 216667356.00|        1|\n",
      "| Queens|               Bellerose|             ONE FAMILY HOMES| 565215589.00|        1|\n",
      "| Queens|            Breezy point|         ONE FAMILY DWELLINGS|  79467500.00|        1|\n",
      "| Queens|               Briarwood|  COOPS - ELEVATOR APARTMENTS| 221688464.00|        1|\n",
      "| Queens|           Broad channel|             ONE FAMILY HOMES|  74138013.00|        1|\n",
      "| Queens|         Cambria heights|             ONE FAMILY HOMES| 405771465.00|        1|\n",
      "| Queens|           College point|             TWO FAMILY HOMES| 794928286.00|        1|\n",
      "| Queens|                  Corona|             TWO FAMILY HOMES| 966763415.00|        1|\n",
      "| Queens|              Douglaston|             ONE FAMILY HOMES| 518003828.00|        1|\n",
      "| Queens|           East elmhurst|             TWO FAMILY HOMES| 560118646.00|        1|\n",
      "| Queens|                Elmhurst|RENTALS - ELEVATOR APARTMENTS| 767035346.00|        1|\n",
      "| Queens|            Far rockaway|         TWO FAMILY DWELLINGS|1139451702.00|        1|\n",
      "| Queens|             Floral park|             ONE FAMILY HOMES| 583185606.00|        1|\n",
      "| Queens|    Flushing meadow park|  COOPS - ELEVATOR APARTMENTS|  53611402.00|        1|\n",
      "| Queens|          Flushing-north|             ONE FAMILY HOMES|2984584627.00|        1|\n",
      "| Queens|          Flushing-south|             ONE FAMILY HOMES|1288181303.00|        1|\n",
      "| Queens|            Forest hills|  COOPS - ELEVATOR APARTMENTS|2199188017.00|        1|\n",
      "| Queens|           Fresh meadows|             ONE FAMILY HOMES| 511027160.00|        1|\n",
      "| Queens|               Glen oaks|  COOPS - ELEVATOR APARTMENTS| 689269213.00|        1|\n",
      "| Queens|                Glendale|             TWO FAMILY HOMES| 590127250.00|        1|\n",
      "| Queens|                 Hammels| CONDOS - ELEVATOR APARTMENTS| 116323734.00|        1|\n",
      "| Queens|               Hillcrest|             ONE FAMILY HOMES| 132753330.00|        1|\n",
      "| Queens|                  Hollis|             ONE FAMILY HOMES| 854284629.00|        1|\n",
      "| Queens|            Hollis hills|             ONE FAMILY HOMES| 230444199.00|        1|\n",
      "| Queens|              Holliswood|             ONE FAMILY HOMES| 253983408.00|        1|\n",
      "| Queens|            Howard beach|             ONE FAMILY HOMES| 550225108.00|        1|\n",
      "| Queens|         Jackson heights|  COOPS - ELEVATOR APARTMENTS|1155436124.00|        1|\n",
      "| Queens|                 Jamaica|             TWO FAMILY HOMES| 366982856.00|        1|\n",
      "| Queens|             Jamaica bay|             TWO FAMILY HOMES|  23482318.00|        1|\n",
      "| Queens|         Jamaica estates|             ONE FAMILY HOMES| 452090277.00|        1|\n",
      "| Queens|           Jamaica hills|             ONE FAMILY HOMES| 171947677.00|        1|\n",
      "| Queens|             Kew gardens|  COOPS - ELEVATOR APARTMENTS| 526487985.00|        1|\n",
      "| Queens|               Laurelton|             ONE FAMILY HOMES| 665204399.00|        1|\n",
      "| Queens|             Little neck|             ONE FAMILY HOMES| 632829230.00|        1|\n",
      "| Queens|        Long island city| CONDOS - ELEVATOR APARTMENTS|2024941310.00|        1|\n",
      "| Queens|                 Maspeth|             TWO FAMILY HOMES| 635496443.00|        1|\n",
      "| Queens|          Middle village|             ONE FAMILY HOMES| 698874116.00|        1|\n",
      "| Queens|                Neponsit|             ONE FAMILY HOMES| 180138218.00|        1|\n",
      "| Queens|         Oakland gardens|    COOPS - WALKUP APARTMENTS| 440675437.00|        1|\n",
      "| Queens|              Ozone park|             TWO FAMILY HOMES| 933621968.00|        1|\n",
      "| Queens|          Queens village|             ONE FAMILY HOMES|1275788774.00|        1|\n",
      "| Queens|          Queens-unknown|       THREE FAMILY DWELLINGS|    950000.00|        1|\n",
      "| Queens|               Rego park|  COOPS - ELEVATOR APARTMENTS| 975908887.00|        1|\n",
      "| Queens|           Richmond hill|             TWO FAMILY HOMES|1423202607.00|        1|\n",
      "| Queens|               Ridgewood|  RENTALS - WALKUP APARTMENTS| 834370384.00|        1|\n",
      "| Queens|           Rockaway park|   CONDOS - WALKUP APARTMENTS|  72953557.00|        1|\n",
      "| Queens|                Rosedale|             ONE FAMILY HOMES| 747470068.00|        1|\n",
      "| Queens|So. jamaica-baisley park|             ONE FAMILY HOMES|1229595225.00|        1|\n",
      "| Queens|           South jamaica|             TWO FAMILY HOMES|1055334908.00|        1|\n",
      "| Queens|        South ozone park|             ONE FAMILY HOMES|1041476579.00|        1|\n",
      "| Queens|     Springfield gardens|             ONE FAMILY HOMES| 892703337.00|        1|\n",
      "| Queens|              St. albans|             ONE FAMILY HOMES|1177160091.00|        1|\n",
      "| Queens|               Sunnyside|RENTALS - ELEVATOR APARTMENTS| 421581590.00|        1|\n",
      "| Queens|              Whitestone|             ONE FAMILY HOMES| 928391797.00|        1|\n",
      "| Queens|               Woodhaven|             TWO FAMILY HOMES| 817859802.00|        1|\n",
      "| Queens|                Woodside|  COOPS - ELEVATOR APARTMENTS| 399640661.00|        1|\n",
      "+-------+------------------------+-----------------------------+-------------+---------+\n",
      "\n"
     ]
    }
   ],
   "source": [
    "DENSERANKGroupSalesQueens20032019.filter(DENSERANKGroupSalesQueens20032019[\"DenseRank\"] == 1).show(100,30)"
   ]
  },
  {
   "cell_type": "code",
   "execution_count": 310,
   "id": "2be29d60",
   "metadata": {},
   "outputs": [
    {
     "name": "stdout",
     "output_type": "stream",
     "text": [
      "+-------+------------------+-----------------------+------------+-----------------+\n",
      "|Borough|      Neighborhood|Building Class Category|  Sale Price|      PercentRank|\n",
      "+-------+------------------+-----------------------+------------+-----------------+\n",
      "| Queens|       Airport jfk|   COMMERCIAL VACANT...|  7800000.00|              0.0|\n",
      "| Queens|       Airport jfk|   TRANSPORTATION FA...|  6088704.00|            100.0|\n",
      "| Queens|Airport la guardia|       ONE FAMILY HOMES|  9531100.00|              0.0|\n",
      "| Queens|Airport la guardia|   ONE FAMILY DWELLINGS|  7454510.00|              8.0|\n",
      "| Queens|Airport la guardia|   ONE FAMILY DWELLINGS|  4504500.00|             15.0|\n",
      "| Queens|Airport la guardia|   CONDOS - WALKUP A...|  4395070.00|             23.0|\n",
      "| Queens|Airport la guardia|     THREE FAMILY HOMES|  3435000.00|             31.0|\n",
      "| Queens|Airport la guardia|       TWO FAMILY HOMES|  2494000.00|             38.0|\n",
      "| Queens|Airport la guardia|   TWO FAMILY DWELLINGS|  1725000.00|             46.0|\n",
      "| Queens|Airport la guardia|   THREE FAMILY DWEL...|  1410000.00|             54.0|\n",
      "| Queens|Airport la guardia|   RENTALS - WALKUP ...|  1400000.00|             62.0|\n",
      "| Queens|Airport la guardia|   THREE FAMILY DWEL...|   970000.00|             69.0|\n",
      "| Queens|Airport la guardia|   RENTALS - WALKUP ...|   660000.00|             77.0|\n",
      "| Queens|Airport la guardia|   TWO FAMILY DWELLINGS|   540000.00|             85.0|\n",
      "| Queens|Airport la guardia|   CONDOS - WALKUP A...|   425000.00|             92.0|\n",
      "| Queens|Airport la guardia|   TRANSPORTATION FA...|        0.00|            100.0|\n",
      "| Queens|           Arverne|       TWO FAMILY HOMES|578818906.00|              0.0|\n",
      "| Queens|           Arverne|   TWO FAMILY DWELLINGS|197125219.00|              2.0|\n",
      "| Queens|           Arverne|       ONE FAMILY HOMES|162150098.00|              5.0|\n",
      "| Queens|           Arverne|   TWO FAMILY DWELLINGS|125043245.00|7.000000000000001|\n",
      "+-------+------------------+-----------------------+------------+-----------------+\n",
      "only showing top 20 rows\n",
      "\n"
     ]
    }
   ],
   "source": [
    "PercentRankGroupSalesQueens20032019 = GroupSalesQueens20032019.withColumn(\"PercentRank\", percent_rank().over(windowSpec))\n",
    "PercentRankGroupSalesQueens20032019 = PercentRankGroupSalesQueens20032019.withColumn(\"PercentRank\",\n",
    "                                                                                    round(col(\"PercentRank\"),2)*100)\n",
    "\n",
    "PercentRankGroupSalesQueens20032019.show()"
   ]
  },
  {
   "cell_type": "code",
   "execution_count": 311,
   "id": "02c4e9d9",
   "metadata": {},
   "outputs": [
    {
     "name": "stdout",
     "output_type": "stream",
     "text": [
      "+-------+------------------+-----------------------+------------+--------------+\n",
      "|Borough|      Neighborhood|Building Class Category|  Sale Price|Grouping Sales|\n",
      "+-------+------------------+-----------------------+------------+--------------+\n",
      "| Queens|       Airport jfk|   COMMERCIAL VACANT...|  7800000.00|             1|\n",
      "| Queens|       Airport jfk|   TRANSPORTATION FA...|  6088704.00|             2|\n",
      "| Queens|Airport la guardia|       ONE FAMILY HOMES|  9531100.00|             1|\n",
      "| Queens|Airport la guardia|   ONE FAMILY DWELLINGS|  7454510.00|             1|\n",
      "| Queens|Airport la guardia|   ONE FAMILY DWELLINGS|  4504500.00|             1|\n",
      "| Queens|Airport la guardia|   CONDOS - WALKUP A...|  4395070.00|             1|\n",
      "| Queens|Airport la guardia|     THREE FAMILY HOMES|  3435000.00|             2|\n",
      "| Queens|Airport la guardia|       TWO FAMILY HOMES|  2494000.00|             2|\n",
      "| Queens|Airport la guardia|   TWO FAMILY DWELLINGS|  1725000.00|             2|\n",
      "| Queens|Airport la guardia|   THREE FAMILY DWEL...|  1410000.00|             2|\n",
      "| Queens|Airport la guardia|   RENTALS - WALKUP ...|  1400000.00|             3|\n",
      "| Queens|Airport la guardia|   THREE FAMILY DWEL...|   970000.00|             3|\n",
      "| Queens|Airport la guardia|   RENTALS - WALKUP ...|   660000.00|             3|\n",
      "| Queens|Airport la guardia|   TWO FAMILY DWELLINGS|   540000.00|             4|\n",
      "| Queens|Airport la guardia|   CONDOS - WALKUP A...|   425000.00|             4|\n",
      "| Queens|Airport la guardia|   TRANSPORTATION FA...|        0.00|             4|\n",
      "| Queens|           Arverne|       TWO FAMILY HOMES|578818906.00|             1|\n",
      "| Queens|           Arverne|   TWO FAMILY DWELLINGS|197125219.00|             1|\n",
      "| Queens|           Arverne|       ONE FAMILY HOMES|162150098.00|             1|\n",
      "| Queens|           Arverne|   TWO FAMILY DWELLINGS|125043245.00|             1|\n",
      "+-------+------------------+-----------------------+------------+--------------+\n",
      "only showing top 20 rows\n",
      "\n"
     ]
    }
   ],
   "source": [
    "GroupingSalesQueens20032019 = GroupSalesQueens20032019.withColumn(\"Grouping Sales\", ntile(4).over(windowSpec))\n",
    "GroupingSalesQueens20032019.show()"
   ]
  },
  {
   "cell_type": "code",
   "execution_count": 312,
   "id": "83fc0d22",
   "metadata": {},
   "outputs": [
    {
     "name": "stdout",
     "output_type": "stream",
     "text": [
      "+-------+------------------+-----------------------+-------------+--------------+\n",
      "|Borough|      Neighborhood|Building Class Category|   Sale Price|Grouping Sales|\n",
      "+-------+------------------+-----------------------+-------------+--------------+\n",
      "| Queens|       Airport jfk|   COMMERCIAL VACANT...|   7800000.00|             1|\n",
      "| Queens|Airport la guardia|       ONE FAMILY HOMES|   9531100.00|             1|\n",
      "| Queens|Airport la guardia|   ONE FAMILY DWELLINGS|   7454510.00|             1|\n",
      "| Queens|Airport la guardia|   ONE FAMILY DWELLINGS|   4504500.00|             1|\n",
      "| Queens|Airport la guardia|   CONDOS - WALKUP A...|   4395070.00|             1|\n",
      "| Queens|           Arverne|       TWO FAMILY HOMES| 578818906.00|             1|\n",
      "| Queens|           Arverne|   TWO FAMILY DWELLINGS| 197125219.00|             1|\n",
      "| Queens|           Arverne|       ONE FAMILY HOMES| 162150098.00|             1|\n",
      "| Queens|           Arverne|   TWO FAMILY DWELLINGS| 125043245.00|             1|\n",
      "| Queens|           Arverne|   RENTALS - ELEVATO...| 113074507.00|             1|\n",
      "| Queens|           Arverne|   TAX CLASS 1 VACAN...|  69543199.00|             1|\n",
      "| Queens|           Arverne|     THREE FAMILY HOMES|  49298946.00|             1|\n",
      "| Queens|           Arverne|     TAX CLASS 1 CONDOS|  48053481.00|             1|\n",
      "| Queens|           Arverne|   ONE FAMILY DWELLINGS|  37748102.00|             1|\n",
      "| Queens|           Arverne|   ONE FAMILY DWELLINGS|  31676128.00|             1|\n",
      "| Queens|           Arverne|   THREE FAMILY DWEL...|  26847219.00|             1|\n",
      "| Queens|           Arverne|     COMMERCIAL GARAGES|  21812325.00|             1|\n",
      "| Queens|           Astoria|   RENTALS - WALKUP ...|1225192644.00|             1|\n",
      "| Queens|           Astoria|       TWO FAMILY HOMES| 942490616.00|             1|\n",
      "| Queens|           Astoria|   RENTALS - ELEVATO...| 564724130.00|             1|\n",
      "+-------+------------------+-----------------------+-------------+--------------+\n",
      "only showing top 20 rows\n",
      "\n"
     ]
    }
   ],
   "source": [
    "GroupingSalesQueens20032019.filter(GroupingSalesQueens20032019[\"Grouping Sales\"] == 1).show()"
   ]
  },
  {
   "cell_type": "code",
   "execution_count": 313,
   "id": "84fc1b64",
   "metadata": {},
   "outputs": [
    {
     "name": "stdout",
     "output_type": "stream",
     "text": [
      "+-------+------------------+-----------------------+----------+--------------+\n",
      "|Borough|      Neighborhood|Building Class Category|Sale Price|Grouping Sales|\n",
      "+-------+------------------+-----------------------+----------+--------------+\n",
      "| Queens|Airport la guardia|   TWO FAMILY DWELLINGS| 540000.00|             4|\n",
      "| Queens|Airport la guardia|   CONDOS - WALKUP A...| 425000.00|             4|\n",
      "| Queens|Airport la guardia|   TRANSPORTATION FA...|      0.00|             4|\n",
      "| Queens|           Arverne|    RENTALS - 4-10 UNIT| 350000.00|             4|\n",
      "| Queens|           Arverne|             WAREHOUSES| 200000.00|             4|\n",
      "| Queens|           Arverne|   OUTDOOR RECREATIO...| 120000.00|             4|\n",
      "| Queens|           Arverne|    TAX CLASS 1 - OTHER|  85000.00|             4|\n",
      "| Queens|           Arverne|     COMMERCIAL GARAGES|  80000.00|             4|\n",
      "| Queens|           Arverne|   TAX CLASS 3 - UTI...|     15.00|             4|\n",
      "| Queens|           Arverne|    RENTALS - 4-10 UNIT|     10.00|             4|\n",
      "| Queens|           Arverne|        A CONDO-RENTALS|      0.00|             4|\n",
      "| Queens|           Arverne|    TAX CLASS 1 - OTHER|      0.00|             4|\n",
      "| Queens|           Arverne|   EDUCATIONAL FACIL...|      0.00|             4|\n",
      "| Queens|           Arverne|   RENTALS - ELEVATO...|      0.00|             4|\n",
      "| Queens|           Astoria|   CONDO OFFICE BUIL...|3358375.00|             4|\n",
      "| Queens|           Astoria|    TAX CLASS 1 - OTHER|2835000.00|             4|\n",
      "| Queens|           Astoria|                       |2804010.00|             4|\n",
      "| Queens|           Astoria|   CONDOS - WALKUP A...|2586000.00|             4|\n",
      "| Queens|           Astoria|       OFFICE BUILDINGS|2375000.00|             4|\n",
      "| Queens|           Astoria|      ASYLUMS AND HOMES|2008987.00|             4|\n",
      "+-------+------------------+-----------------------+----------+--------------+\n",
      "only showing top 20 rows\n",
      "\n"
     ]
    }
   ],
   "source": [
    "GroupingSalesQueens20032019.filter(GroupingSalesQueens20032019[\"Grouping Sales\"] == 4).show()"
   ]
  },
  {
   "cell_type": "code",
   "execution_count": 314,
   "id": "536be86f",
   "metadata": {},
   "outputs": [
    {
     "name": "stdout",
     "output_type": "stream",
     "text": [
      "+-------+------------------+-----------------------+------------+--------------------+\n",
      "|Borough|      Neighborhood|Building Class Category|  Sale Price|            CumeDist|\n",
      "+-------+------------------+-----------------------+------------+--------------------+\n",
      "| Queens|       Airport jfk|   COMMERCIAL VACANT...|  7800000.00|                 0.5|\n",
      "| Queens|       Airport jfk|   TRANSPORTATION FA...|  6088704.00|                 1.0|\n",
      "| Queens|Airport la guardia|       ONE FAMILY HOMES|  9531100.00| 0.07142857142857142|\n",
      "| Queens|Airport la guardia|   ONE FAMILY DWELLINGS|  7454510.00| 0.14285714285714285|\n",
      "| Queens|Airport la guardia|   ONE FAMILY DWELLINGS|  4504500.00| 0.21428571428571427|\n",
      "| Queens|Airport la guardia|   CONDOS - WALKUP A...|  4395070.00|  0.2857142857142857|\n",
      "| Queens|Airport la guardia|     THREE FAMILY HOMES|  3435000.00| 0.35714285714285715|\n",
      "| Queens|Airport la guardia|       TWO FAMILY HOMES|  2494000.00| 0.42857142857142855|\n",
      "| Queens|Airport la guardia|   TWO FAMILY DWELLINGS|  1725000.00|                 0.5|\n",
      "| Queens|Airport la guardia|   THREE FAMILY DWEL...|  1410000.00|  0.5714285714285714|\n",
      "| Queens|Airport la guardia|   RENTALS - WALKUP ...|  1400000.00|  0.6428571428571429|\n",
      "| Queens|Airport la guardia|   THREE FAMILY DWEL...|   970000.00|  0.7142857142857143|\n",
      "| Queens|Airport la guardia|   RENTALS - WALKUP ...|   660000.00|  0.7857142857142857|\n",
      "| Queens|Airport la guardia|   TWO FAMILY DWELLINGS|   540000.00|  0.8571428571428571|\n",
      "| Queens|Airport la guardia|   CONDOS - WALKUP A...|   425000.00|  0.9285714285714286|\n",
      "| Queens|Airport la guardia|   TRANSPORTATION FA...|        0.00|                 1.0|\n",
      "| Queens|           Arverne|       TWO FAMILY HOMES|578818906.00|0.022222222222222223|\n",
      "| Queens|           Arverne|   TWO FAMILY DWELLINGS|197125219.00|0.044444444444444446|\n",
      "| Queens|           Arverne|       ONE FAMILY HOMES|162150098.00| 0.06666666666666667|\n",
      "| Queens|           Arverne|   TWO FAMILY DWELLINGS|125043245.00| 0.08888888888888889|\n",
      "+-------+------------------+-----------------------+------------+--------------------+\n",
      "only showing top 20 rows\n",
      "\n"
     ]
    }
   ],
   "source": [
    "CUMEDISTGroupSalesQueens20032019 = GroupSalesQueens20032019.withColumn(\"CumeDist\", cume_dist().over(windowSpec))\n",
    "CUMEDISTGroupSalesQueens20032019.withColumn(\"CumeDist\", round(col(\"CumeDist\"),2)*100)\n",
    "CUMEDISTGroupSalesQueens20032019.show()"
   ]
  },
  {
   "cell_type": "markdown",
   "id": "e0c43365",
   "metadata": {},
   "source": [
    "#### Analytic functions lag & lead"
   ]
  },
  {
   "cell_type": "code",
   "execution_count": 315,
   "id": "c0b6b59f",
   "metadata": {},
   "outputs": [
    {
     "name": "stdout",
     "output_type": "stream",
     "text": [
      "+-------+--------------------+-----------------------+-------------------------+----------+----------+\n",
      "|Borough|        Neighborhood|Building Class Category|Building Class At Present|Sale Price| Sale Date|\n",
      "+-------+--------------------+-----------------------+-------------------------+----------+----------+\n",
      "| Queens|ARVERNE          ...|   02  TWO FAMILY HO...|                       B9| 286500.00|2003-01-24|\n",
      "| Queens|ARVERNE          ...|   03  THREE FAMILY ...|                       C0|      0.00|2003-02-19|\n",
      "| Queens|ASTORIA          ...|   02  TWO FAMILY HO...|                       B1|      0.00|2003-03-25|\n",
      "| Queens|ASTORIA          ...|   02  TWO FAMILY HO...|                       B1|      0.00|2003-03-03|\n",
      "| Queens|ASTORIA          ...|   02  TWO FAMILY HO...|                       B2|      0.00|2003-10-06|\n",
      "| Queens|ASTORIA          ...|   02  TWO FAMILY HO...|                       C0| 495500.00|2003-02-26|\n",
      "| Queens|ASTORIA          ...|   02  TWO FAMILY HO...|                       B1|      0.00|2003-04-28|\n",
      "| Queens|ASTORIA          ...|   03  THREE FAMILY ...|                         |      0.00|2003-07-31|\n",
      "| Queens|ASTORIA          ...|   03  THREE FAMILY ...|                       C0|      0.00|2003-01-03|\n",
      "| Queens|BAYSIDE          ...|   01  ONE FAMILY HO...|                       A1| 622000.00|2003-03-05|\n",
      "| Queens|BAYSIDE          ...|   01  ONE FAMILY HO...|                       A5| 350000.00|2003-06-16|\n",
      "| Queens|BAYSIDE          ...|   02  TWO FAMILY HO...|                       B3|      0.00|2003-12-22|\n",
      "| Queens|BAYSIDE          ...|   04  TAX CLASS 1 C...|                       R3|      0.00|2003-10-20|\n",
      "| Queens|BAYSIDE          ...|   04  TAX CLASS 1 C...|                       R3| 345000.00|2003-03-05|\n",
      "| Queens|BAYSIDE          ...|   09  COOPS - WALKU...|                       C6| 170000.00|2003-03-11|\n",
      "| Queens|BAYSIDE          ...|   10  COOPS - ELEVA...|                       D4| 173000.00|2003-02-06|\n",
      "| Queens|BEECHHURST       ...|   04  TAX CLASS 1 C...|                       R3| 672045.00|2003-02-05|\n",
      "| Queens|BELLE HARBOR     ...|   01  ONE FAMILY HO...|                       A1|  30000.00|2003-05-01|\n",
      "| Queens|BRIARWOOD        ...|   07  RENTALS - WAL...|                       C2| 300000.00|2003-10-28|\n",
      "| Queens|BRIARWOOD        ...|   10  COOPS - ELEVA...|                       D4|  45000.00|2003-04-14|\n",
      "+-------+--------------------+-----------------------+-------------------------+----------+----------+\n",
      "only showing top 20 rows\n",
      "\n"
     ]
    }
   ],
   "source": [
    "SelColdfQueens20032019.show()"
   ]
  },
  {
   "cell_type": "code",
   "execution_count": 316,
   "id": "f4e65863",
   "metadata": {},
   "outputs": [
    {
     "name": "stdout",
     "output_type": "stream",
     "text": [
      "+-------+--------------+-------------+----------+\n",
      "|Borough|Month Of Sales|Year Of Sales|Sale Price|\n",
      "+-------+--------------+-------------+----------+\n",
      "| Queens|             1|         2003| 195000.00|\n",
      "| Queens|             1|         2003| 365000.00|\n",
      "| Queens|             1|         2003| 332000.00|\n",
      "| Queens|             1|         2003|  64000.00|\n",
      "| Queens|             1|         2003| 475000.00|\n",
      "| Queens|             1|         2003| 120000.00|\n",
      "| Queens|             1|         2003| 312500.00|\n",
      "| Queens|             1|         2003| 487000.00|\n",
      "| Queens|             1|         2003|      0.00|\n",
      "| Queens|             1|         2003| 690000.00|\n",
      "| Queens|             1|         2003| 295000.00|\n",
      "| Queens|             1|         2003| 122000.00|\n",
      "| Queens|             1|         2003| 432000.00|\n",
      "| Queens|             1|         2003| 273000.00|\n",
      "| Queens|             1|         2003|1212200.00|\n",
      "| Queens|             1|         2003| 575000.00|\n",
      "| Queens|             1|         2003|      0.00|\n",
      "| Queens|             1|         2003|  87000.00|\n",
      "| Queens|             1|         2003|  85000.00|\n",
      "| Queens|             1|         2003|      0.00|\n",
      "+-------+--------------+-------------+----------+\n",
      "only showing top 20 rows\n",
      "\n"
     ]
    }
   ],
   "source": [
    "LAGLEADSelColdfQueens20032019 = SelColdfQueens20032019.withColumn(\"Year Of Sales\", year(col(\"Sale Date\"))) \\\n",
    "                                                            .withColumn(\"Month Of Sales\", month(col(\"Sale Date\")))\n",
    "LAGLEADSelColdfQueens20032019 = LAGLEADSelColdfQueens20032019.select(\"Borough\",\"Month Of Sales\",\n",
    "                                                                         \"Year Of Sales\",\n",
    "                                                                         \"Sale Price\")\n",
    "LAGLEADSelColdfQueens20032019.orderBy(\"Month Of Sales\", \"Year Of Sales\").show()"
   ]
  },
  {
   "cell_type": "code",
   "execution_count": 317,
   "id": "85624ae4",
   "metadata": {},
   "outputs": [],
   "source": [
    "SumGroupByYear = LAGLEADSelColdfQueens20032019.groupBy(\"Year Of Sales\").sum(\"Sale Price\")\n",
    "SumGroupByYearMonth = LAGLEADSelColdfQueens20032019.groupBy(\"Year of Sales\",\"Month Of Sales\").sum(\"Sale Price\")"
   ]
  },
  {
   "cell_type": "code",
   "execution_count": 318,
   "id": "bf177a26",
   "metadata": {},
   "outputs": [],
   "source": [
    "SumGroupByYear = SumGroupByYear.select(\"Year Of Sales\", col(\"sum(Sale Price)\").alias(\"Sale Price\"))"
   ]
  },
  {
   "cell_type": "code",
   "execution_count": 319,
   "id": "eceb42f2",
   "metadata": {},
   "outputs": [
    {
     "name": "stdout",
     "output_type": "stream",
     "text": [
      "+-------------+--------------+\n",
      "|Year Of Sales|    Sale Price|\n",
      "+-------------+--------------+\n",
      "|         2003| 9187418050.00|\n",
      "|         2004|12691527886.00|\n",
      "|         2005|14418140887.00|\n",
      "|         2006|14522706406.00|\n",
      "|         2007|12688428418.00|\n",
      "|         2008| 9782157389.00|\n",
      "|         2009| 7193767535.00|\n",
      "|         2010| 8242192950.00|\n",
      "|         2011| 7212369242.00|\n",
      "|         2012| 8163719778.00|\n",
      "|         2013| 9979411728.00|\n",
      "|         2014|11358887103.00|\n",
      "|         2015|13019068012.00|\n",
      "|         2016|14228777549.00|\n",
      "|         2017|14081455274.00|\n",
      "|         2018|14846219134.00|\n",
      "|         2019|16262013320.00|\n",
      "+-------------+--------------+\n",
      "\n"
     ]
    }
   ],
   "source": [
    "SumGroupByYear = SumGroupByYear.orderBy(\"Year Of Sales\")\n",
    "SumGroupByYear.show()"
   ]
  },
  {
   "cell_type": "code",
   "execution_count": 320,
   "id": "f73d4620",
   "metadata": {},
   "outputs": [
    {
     "name": "stdout",
     "output_type": "stream",
     "text": [
      "+-------------+--------------+--------------+--------------+--------------+---------------+\n",
      "|Year Of Sales|    Sale Price|           Lag|          Diff|          Lead| CummulativeSum|\n",
      "+-------------+--------------+--------------+--------------+--------------+---------------+\n",
      "|         2003| 9187418050.00|          0.00| 9187418050.00|12691527886.00|  9187418050.00|\n",
      "|         2004|12691527886.00| 9187418050.00| 3504109836.00|14418140887.00| 21878945936.00|\n",
      "|         2005|14418140887.00|12691527886.00| 1726613001.00|14522706406.00| 36297086823.00|\n",
      "|         2006|14522706406.00|14418140887.00|  104565519.00|12688428418.00| 50819793229.00|\n",
      "|         2007|12688428418.00|14522706406.00|-1834277988.00| 9782157389.00| 63508221647.00|\n",
      "|         2008| 9782157389.00|12688428418.00|-2906271029.00| 7193767535.00| 73290379036.00|\n",
      "|         2009| 7193767535.00| 9782157389.00|-2588389854.00| 8242192950.00| 80484146571.00|\n",
      "|         2010| 8242192950.00| 7193767535.00| 1048425415.00| 7212369242.00| 88726339521.00|\n",
      "|         2011| 7212369242.00| 8242192950.00|-1029823708.00| 8163719778.00| 95938708763.00|\n",
      "|         2012| 8163719778.00| 7212369242.00|  951350536.00| 9979411728.00|104102428541.00|\n",
      "|         2013| 9979411728.00| 8163719778.00| 1815691950.00|11358887103.00|114081840269.00|\n",
      "|         2014|11358887103.00| 9979411728.00| 1379475375.00|13019068012.00|125440727372.00|\n",
      "|         2015|13019068012.00|11358887103.00| 1660180909.00|14228777549.00|138459795384.00|\n",
      "|         2016|14228777549.00|13019068012.00| 1209709537.00|14081455274.00|152688572933.00|\n",
      "|         2017|14081455274.00|14228777549.00| -147322275.00|14846219134.00|166770028207.00|\n",
      "|         2018|14846219134.00|14081455274.00|  764763860.00|16262013320.00|181616247341.00|\n",
      "|         2019|16262013320.00|14846219134.00| 1415794186.00|          0.00|197878260661.00|\n",
      "+-------------+--------------+--------------+--------------+--------------+---------------+\n",
      "\n"
     ]
    }
   ],
   "source": [
    "windowSpec = Window.partitionBy().orderBy(\"Year Of Sales\")\n",
    "windowval = (Window.partitionBy().orderBy(\"Year Of Sales\").rangeBetween(Window.unboundedPreceding,0))\n",
    "SumGroupByYear = SumGroupByYear.withColumn(\"Lag\", lag(\"Sale Price\", offset=1, default=0).over(windowSpec))\n",
    "SumGroupByYear = SumGroupByYear.withColumn(\"Diff\", \n",
    "                                           when(isnull(SumGroupByYear[\"Sale Price\"] - SumGroupByYear[\"Lag\"]),0)\n",
    "                                           .otherwise(SumGroupByYear[\"Sale Price\"] - SumGroupByYear[\"Lag\"]))\n",
    "SumGroupByYear = SumGroupByYear.withColumn(\"Lead\", lead(\"Sale Price\", offset=1, default=0).over(windowSpec))\n",
    "SumGroupByYear = SumGroupByYear.withColumn(\"CummulativeSum\", sum(\"Sale Price\").over(windowval))\n",
    "\n",
    "SumGroupByYear.show()"
   ]
  },
  {
   "cell_type": "code",
   "execution_count": 321,
   "id": "0ca6ed6b",
   "metadata": {},
   "outputs": [
    {
     "name": "stdout",
     "output_type": "stream",
     "text": [
      "+-------------+--------------+-------------+--------------+\n",
      "|Year Of Sales|Month Of Sales|   Sale Price|CummulativeSum|\n",
      "+-------------+--------------+-------------+--------------+\n",
      "|         2003|             1| 672163838.00|  672163838.00|\n",
      "|         2003|             2| 623949064.00| 1296112902.00|\n",
      "|         2003|             3| 624060803.00| 1920173705.00|\n",
      "|         2003|             4| 613815672.00| 2533989377.00|\n",
      "|         2003|             5| 838200895.00| 3372190272.00|\n",
      "|         2003|             6| 702415786.00| 4074606058.00|\n",
      "|         2003|             7| 872141315.00| 4946747373.00|\n",
      "|         2003|             8| 774279239.00| 5721026612.00|\n",
      "|         2003|             9| 854912906.00| 6575939518.00|\n",
      "|         2003|            10| 975661918.00| 7551601436.00|\n",
      "|         2003|            11| 766714747.00| 8318316183.00|\n",
      "|         2003|            12| 869101867.00| 9187418050.00|\n",
      "|         2004|             1| 796428378.00|  796428378.00|\n",
      "|         2004|             2| 744691732.00| 1541120110.00|\n",
      "|         2004|             3|1050773021.00| 2591893131.00|\n",
      "|         2004|             4| 903794309.00| 3495687440.00|\n",
      "|         2004|             5|1142837740.00| 4638525180.00|\n",
      "|         2004|             6|1515398752.00| 6153923932.00|\n",
      "|         2004|             7|1200490199.00| 7354414131.00|\n",
      "|         2004|             8|1082540140.00| 8436954271.00|\n",
      "+-------------+--------------+-------------+--------------+\n",
      "only showing top 20 rows\n",
      "\n"
     ]
    }
   ],
   "source": [
    "windowval = (Window.partitionBy(\"Year Of Sales\").orderBy(\"Month Of Sales\").rangeBetween(Window.unboundedPreceding, 0))\n",
    "SumGroupByYearMonth = SumGroupByYearMonth.select(\"Year Of Sales\",\n",
    "                                        \"Month Of Sales\",\n",
    "                                         col(\"sum(Sale Price)\").alias(\"Sale Price\")).orderBy('Year of Sales','Month Of Sales')\n",
    "\n",
    "SumGroupByYearMonth = SumGroupByYearMonth.withColumn(\"CummulativeSum\", sum(\"Sale Price\").over(windowval))\n",
    "SumGroupByYearMonth.show()"
   ]
  },
  {
   "cell_type": "markdown",
   "id": "745e8e24",
   "metadata": {},
   "source": [
    "#### Combinig rows"
   ]
  },
  {
   "cell_type": "code",
   "execution_count": 322,
   "id": "97e26ab0",
   "metadata": {},
   "outputs": [
    {
     "name": "stdout",
     "output_type": "stream",
     "text": [
      "+---------------------------------------------------+\n",
      "|Full Name                                          |\n",
      "+---------------------------------------------------+\n",
      "|Queens Middle village COMMERCIAL CONDOS            |\n",
      "|Queens Hollis TWO FAMILY DWELLINGS                 |\n",
      "|Queens Kew gardens TAX CLASS 1 VACANT LAND         |\n",
      "|Queens Bayside COOPS - WALKUP APARTMENTS           |\n",
      "|Queens Belle harbor ONE FAMILY DWELLINGS           |\n",
      "|Queens Bellerose TWO FAMILY DWELLINGS              |\n",
      "|Queens Little neck TAX CLASS 1 - OTHER             |\n",
      "|Queens Whitestone COMMERCIAL VACANT LAND           |\n",
      "|Queens Maspeth COMMERCIAL GARAGES                  |\n",
      "|Queens Holliswood TWO FAMILY DWELLINGS             |\n",
      "|Queens Floral park OFFICE BUILDINGS                |\n",
      "|Queens Maspeth COMMERCIAL GARAGES                  |\n",
      "|Queens Glendale TWO FAMILY DWELLINGS               |\n",
      "|Queens Glendale TWO FAMILY DWELLINGS               |\n",
      "|Queens Rockaway park CONDOS - 2-10 UNIT RESIDENTIAL|\n",
      "|Queens Jackson heights RENTALS - 4-10 UNIT         |\n",
      "|Queens Rego park RENTALS - 4-10 UNIT               |\n",
      "|Queens Laurelton TAX CLASS 1 VACANT LAND           |\n",
      "|Queens Springfield gardens OFFICE BUILDINGS        |\n",
      "|Queens Floral park STORE BUILDINGS                 |\n",
      "+---------------------------------------------------+\n",
      "only showing top 20 rows\n",
      "\n"
     ]
    }
   ],
   "source": [
    "FULLNameGroupSalesQueens20032019 = GroupSalesQueens20032019.withColumn(\"Full Name\",\n",
    "                                            concat_col(GroupSalesQueens20032019[\"Borough\"],\n",
    "                                               GroupSalesQueens20032019[\"Neighborhood\"],\n",
    "                                               GroupSalesQueens20032019[\"Building Class Category\"]))\n",
    "\n",
    "\n",
    "FULLNameGroupSalesQueens20032019 =FULLNameGroupSalesQueens20032019.select(\"Full Name\")\n",
    "FULLNameGroupSalesQueens20032019.show(truncate=False)"
   ]
  },
  {
   "cell_type": "markdown",
   "id": "76bcdc47",
   "metadata": {},
   "source": [
    "#### Save DataFrame to Hive Table"
   ]
  },
  {
   "cell_type": "markdown",
   "id": "439cf6aa",
   "metadata": {},
   "source": [
    "##### Create Hive Internal Table"
   ]
  },
  {
   "cell_type": "code",
   "execution_count": 323,
   "id": "b5f0ba90",
   "metadata": {},
   "outputs": [],
   "source": [
    "FULLNameGroupSalesQueens20032019.write.mode(\"overwrite\").saveAsTable(\"QueensFullName\")"
   ]
  },
  {
   "cell_type": "markdown",
   "id": "1587f814",
   "metadata": {},
   "source": [
    "##### Read Hive Table"
   ]
  },
  {
   "cell_type": "code",
   "execution_count": 324,
   "id": "41c74afe",
   "metadata": {},
   "outputs": [],
   "source": [
    "HiveTableQueens = spark.read.table(\"QueensFullName\")"
   ]
  },
  {
   "cell_type": "code",
   "execution_count": 325,
   "id": "957450c3",
   "metadata": {},
   "outputs": [
    {
     "name": "stdout",
     "output_type": "stream",
     "text": [
      "+---------------------------------------------------+\n",
      "|Full Name                                          |\n",
      "+---------------------------------------------------+\n",
      "|Queens Middle village COMMERCIAL CONDOS            |\n",
      "|Queens Hollis TWO FAMILY DWELLINGS                 |\n",
      "|Queens Kew gardens TAX CLASS 1 VACANT LAND         |\n",
      "|Queens Bayside COOPS - WALKUP APARTMENTS           |\n",
      "|Queens Belle harbor ONE FAMILY DWELLINGS           |\n",
      "|Queens Bellerose TWO FAMILY DWELLINGS              |\n",
      "|Queens Little neck TAX CLASS 1 - OTHER             |\n",
      "|Queens Whitestone COMMERCIAL VACANT LAND           |\n",
      "|Queens Maspeth COMMERCIAL GARAGES                  |\n",
      "|Queens Holliswood TWO FAMILY DWELLINGS             |\n",
      "|Queens Floral park OFFICE BUILDINGS                |\n",
      "|Queens Maspeth COMMERCIAL GARAGES                  |\n",
      "|Queens Glendale TWO FAMILY DWELLINGS               |\n",
      "|Queens Glendale TWO FAMILY DWELLINGS               |\n",
      "|Queens Rockaway park CONDOS - 2-10 UNIT RESIDENTIAL|\n",
      "|Queens Jackson heights RENTALS - 4-10 UNIT         |\n",
      "|Queens Rego park RENTALS - 4-10 UNIT               |\n",
      "|Queens Laurelton TAX CLASS 1 VACANT LAND           |\n",
      "|Queens Springfield gardens OFFICE BUILDINGS        |\n",
      "|Queens Floral park STORE BUILDINGS                 |\n",
      "+---------------------------------------------------+\n",
      "only showing top 20 rows\n",
      "\n"
     ]
    }
   ],
   "source": [
    "HiveTableQueens.show(truncate=False)"
   ]
  },
  {
   "cell_type": "markdown",
   "id": "c273ee99",
   "metadata": {},
   "source": [
    "#### Finding minimum and maximum Sale Price"
   ]
  },
  {
   "cell_type": "code",
   "execution_count": 326,
   "id": "263703b7",
   "metadata": {},
   "outputs": [],
   "source": [
    "MaxGroupSalesQueens20032019 = GroupSalesQueens20032019.agg({\"Sale Price\": \"max\"}).collect()[0][0]"
   ]
  },
  {
   "cell_type": "code",
   "execution_count": 327,
   "id": "20453550",
   "metadata": {},
   "outputs": [],
   "source": [
    "FGroupSalesQueens20032019 = GroupSalesQueens20032019.filter(GroupSalesQueens20032019['Sale Price'] > 0)\n",
    "MinGroupSalesQueens20032019 = FGroupSalesQueens20032019.agg({\"Sale Price\": \"min\"}).collect()[0][0]"
   ]
  },
  {
   "cell_type": "code",
   "execution_count": 328,
   "id": "b4f4c3c7",
   "metadata": {},
   "outputs": [
    {
     "name": "stdout",
     "output_type": "stream",
     "text": [
      "+-------+--------------+-----------------------------+-------------+\n",
      "|Borough|Neighborhood  |Building Class Category      |Sale Price   |\n",
      "+-------+--------------+-----------------------------+-------------+\n",
      "|Queens |Flushing-north|ONE FAMILY HOMES             |2984584627.00|\n",
      "|Queens |Forest hills  |RENTALS - ELEVATOR APARTMENTS|1.00         |\n",
      "+-------+--------------+-----------------------------+-------------+\n",
      "\n"
     ]
    }
   ],
   "source": [
    "MaxQueens = GroupSalesQueens20032019.filter(GroupSalesQueens20032019[\"Sale Price\"] == MaxGroupSalesQueens20032019)\n",
    "MinQueens = GroupSalesQueens20032019.filter(GroupSalesQueens20032019[\"Sale Price\"] == \n",
    "                               MinGroupSalesQueens20032019).limit(1)\n",
    "unionMaxMinQueens = MaxQueens.union(MinQueens)\n",
    "unionMaxMinQueens.show(truncate=False)"
   ]
  },
  {
   "cell_type": "markdown",
   "id": "b7d02ad8",
   "metadata": {},
   "source": [
    "#### Pivoting Gross Square Feet"
   ]
  },
  {
   "cell_type": "code",
   "execution_count": 329,
   "id": "be2a2b57",
   "metadata": {},
   "outputs": [],
   "source": [
    "SelColGrossSquareFeetdfQueens20032019 = dfQueens20032019.select(\n",
    "                    CapitalizeStringUDF(col(\"Neighborhood\")).alias(\"Neighborhood\"),\n",
    "                    trim(RemoveTwoCharactersUDF(col(\"Building Class Category\"))).alias(\"Building Class Category\"),                                     \n",
    "                      \"Gross Square Feet\")"
   ]
  },
  {
   "cell_type": "code",
   "execution_count": 330,
   "id": "9c47a582",
   "metadata": {},
   "outputs": [],
   "source": [
    "GroupingGSF = SelColGrossSquareFeetdfQueens20032019.groupBy(\"Neighborhood\",\n",
    "                                                               \"Building Class Category\").sum(\"Gross Square Feet\")"
   ]
  },
  {
   "cell_type": "code",
   "execution_count": 342,
   "id": "047e9360",
   "metadata": {},
   "outputs": [],
   "source": [
    "Neighborhood = [\"Astoria\",\"Bayside\",\"Bellerose\",\"Corona\",\"Hollis\",\"Jamaica\",\"Flushing-north\",\"Forest hills\"]"
   ]
  },
  {
   "cell_type": "code",
   "execution_count": 343,
   "id": "e97ce420",
   "metadata": {},
   "outputs": [],
   "source": [
    "PivotGSF = GroupingGSF.filter(GroupingGSF.Neighborhood.isin(Neighborhood))"
   ]
  },
  {
   "cell_type": "code",
   "execution_count": 344,
   "id": "ce68925e",
   "metadata": {},
   "outputs": [
    {
     "name": "stdout",
     "output_type": "stream",
     "text": [
      "+---------------------------------------+-------+-------+---------+-------+--------------+------------+-------+-------+\n",
      "|                Building Class Category|Astoria|Bayside|Bellerose| Corona|Flushing-north|Forest hills| Hollis|Jamaica|\n",
      "+---------------------------------------+-------+-------+---------+-------+--------------+------------+-------+-------+\n",
      "|         CONDOS - 2-10 UNIT RESIDENTIAL|   9578|   null|     null|   9968|         18395|        null|   null|   null|\n",
      "|              COOPS - WALKUP APARTMENTS|      0| 401760|     null|   null|             0|           0|   null|   null|\n",
      "|                    TAX CLASS 4 - OTHER|    392|   null|     null|    384|          2400|        null|      0|     40|\n",
      "|            RENTALS - WALKUP APARTMENTS|2328785| 160256|     8644| 743791|        489117|       42688| 272562|  69598|\n",
      "|                 COMMERCIAL VACANT LAND| 170054|   null|     null|      0|         99600|        null|      0|      0|\n",
      "|                  CONDO STORE BUILDINGS|      0|   null|     null|   2898|          4962|        null|   null|   null|\n",
      "|                   TWO FAMILY DWELLINGS|1820431|1259528|   209589|1086087|       2187864|      305754| 705547| 562532|\n",
      "|                 THREE FAMILY DWELLINGS|1168070| 275888|    25766|1106414|        724063|       54562|  99027| 222724|\n",
      "|                TAX CLASS 1 VACANT LAND|   8452|      0|        0|      0|             0|           0|      0|      0|\n",
      "|                       OFFICE BUILDINGS|  25331| 168891|     null|   6068|        306927|       40495|  30077| 109634|\n",
      "|        OUTDOOR RECREATIONAL FACILITIES|      0|  11650|     null|   null|          null|        null|   null|   null|\n",
      "|                           OTHER HOTELS|   null|   null|    14979|   null|          9887|        null|  26621|   null|\n",
      "|          RENTALS - ELEVATOR APARTMENTS| 527405|  32099|     null|  26399|       2310938|     1357000| 142745| 341487|\n",
      "|                          LUXURY HOTELS|   null|   null|     null|   null|        210460|        null|   null|      0|\n",
      "|                      COMMERCIAL CONDOS|      0|   null|     null|   null|             0|           0|   null|      0|\n",
      "|             CONDOS - WALKUP APARTMENTS|    506|   6032|     null|   5288|         27628|       27255|    908|    646|\n",
      "|                            CONDO COOPS| 430000|   null|     null|   null|             0|           0|   null|   null|\n",
      "|  INDOOR PUBLIC AND CULTURAL FACILITIES|   6684|  49541|     null|   null|          7305|        null|   null|   9592|\n",
      "|                              FACTORIES| 642929|   null|     null|  14498|         46180|        null|   8700|  39710|\n",
      "|                        A CONDO-RENTALS|      0|   null|     null|   null|          null|        null|   null|   null|\n",
      "|                           CONDO HOTELS|   null|   null|     null|   null|             0|        null|   null|   null|\n",
      "|                 CONDO OFFICE BUILDINGS|      0|      0|     null|   null|             0|        null|   null|      0|\n",
      "|                     COMMERCIAL GARAGES|  98216|    680|     2700|  17898|        163097|           0|  59642| 423011|\n",
      "|                      ASYLUMS AND HOMES|   1914|   null|     null|   null|          null|        null|   null|   null|\n",
      "|             CONDO NON-BUSINESS STORAGE|      0|   null|     null|   null|             0|           0|   null|   null|\n",
      "|            COOPS - ELEVATOR APARTMENTS|      0|1654272|     null|      0|        243670|      903223|      0|      0|\n",
      "|                          CONDO PARKING|   4837|    459|     null|    313|         13414|        1992|      0|    153|\n",
      "|         HOSPITAL AND HEALTH FACILITIES|   null|   null|     null|  62907|        124172|        null|   null|  50384|\n",
      "|                     TAX CLASS 1 CONDOS|   8236|  70205|     null|  15069|         16616|        5250|   null|   null|\n",
      "|                        STORE BUILDINGS| 423505| 150295|    25156| 205373|       1538649|      125415|  67592| 370031|\n",
      "|                    TAX CLASS 1 - OTHER|      0|      0|     null|      0|             0|           0|      0|      0|\n",
      "|                    RENTALS - 4-10 UNIT| 238537|  13755|    15136| 197999|         71220|        6960|  40708|  38504|\n",
      "|           CONDOS - ELEVATOR APARTMENTS|  76377|  52043|     null|  35829|        464298|       54080|   null|   2924|\n",
      "|CONDOS - 2-10 UNIT WITH COMMERCIAL UNIT|  59249|   null|     null|      0|             0|        null|   null|   null|\n",
      "|                   ONE FAMILY DWELLINGS| 394943|2140216|   739094| 178638|       3387685|     1247965|1467200| 245186|\n",
      "|             SPECIAL CONDO BILLING LOTS|  90307|   null|     null|   null|          null|        null|   null|  62257|\n",
      "|                             WAREHOUSES| 237819|   null|     null|  14867|        189866|        null| 739103| 135413|\n",
      "|                   RELIGIOUS FACILITIES|  18773|  37500|     null|  31679|        267167|        null|  13240|  23900|\n",
      "| CONDO CULTURAL/MEDICAL/EDUCATIONAL/ETC|   null|   null|     null|   null|          1095|        null|   null|   null|\n",
      "|                 EDUCATIONAL FACILITIES|  33200|  13460|     null|   null|         45480|        1938|  25680| 101016|\n",
      "+---------------------------------------+-------+-------+---------+-------+--------------+------------+-------+-------+\n",
      "\n"
     ]
    }
   ],
   "source": [
    "PivotGSF.groupBy(\"Building Class Category\").pivot(\"Neighborhood\").sum(\"sum(Gross Square Feet)\").show(100,100)"
   ]
  },
  {
   "cell_type": "code",
   "execution_count": 345,
   "id": "3c8549fb",
   "metadata": {},
   "outputs": [],
   "source": [
    "ToPandas = PivotGSF.groupBy(\"Building Class Category\").pivot(\"Neighborhood\").sum(\"sum(Gross Square Feet)\")"
   ]
  },
  {
   "cell_type": "code",
   "execution_count": 346,
   "id": "53be7c5b",
   "metadata": {},
   "outputs": [
    {
     "name": "stdout",
     "output_type": "stream",
     "text": [
      "<class 'pyspark.pandas.frame.DataFrame'>\n"
     ]
    }
   ],
   "source": [
    "ToPandasAPI = ToPandas.pandas_api()\n",
    "print(type(ToPandasAPI))"
   ]
  },
  {
   "cell_type": "code",
   "execution_count": 347,
   "id": "e88a626d",
   "metadata": {},
   "outputs": [
    {
     "data": {
      "text/html": [
       "<div>\n",
       "<style scoped>\n",
       "    .dataframe tbody tr th:only-of-type {\n",
       "        vertical-align: middle;\n",
       "    }\n",
       "\n",
       "    .dataframe tbody tr th {\n",
       "        vertical-align: top;\n",
       "    }\n",
       "\n",
       "    .dataframe thead th {\n",
       "        text-align: right;\n",
       "    }\n",
       "</style>\n",
       "<table border=\"1\" class=\"dataframe\">\n",
       "  <thead>\n",
       "    <tr style=\"text-align: right;\">\n",
       "      <th></th>\n",
       "      <th>Building Class Category</th>\n",
       "      <th>Astoria</th>\n",
       "      <th>Bayside</th>\n",
       "      <th>Bellerose</th>\n",
       "      <th>Corona</th>\n",
       "      <th>Flushing-north</th>\n",
       "      <th>Forest hills</th>\n",
       "      <th>Hollis</th>\n",
       "      <th>Jamaica</th>\n",
       "    </tr>\n",
       "  </thead>\n",
       "  <tbody>\n",
       "    <tr>\n",
       "      <th>0</th>\n",
       "      <td>CONDOS - 2-10 UNIT RESIDENTIAL</td>\n",
       "      <td>9578.0</td>\n",
       "      <td>NaN</td>\n",
       "      <td>NaN</td>\n",
       "      <td>9968.0</td>\n",
       "      <td>18395.0</td>\n",
       "      <td>NaN</td>\n",
       "      <td>NaN</td>\n",
       "      <td>NaN</td>\n",
       "    </tr>\n",
       "    <tr>\n",
       "      <th>1</th>\n",
       "      <td>COOPS - WALKUP APARTMENTS</td>\n",
       "      <td>0.0</td>\n",
       "      <td>401760.0</td>\n",
       "      <td>NaN</td>\n",
       "      <td>NaN</td>\n",
       "      <td>0.0</td>\n",
       "      <td>0.0</td>\n",
       "      <td>NaN</td>\n",
       "      <td>NaN</td>\n",
       "    </tr>\n",
       "    <tr>\n",
       "      <th>2</th>\n",
       "      <td>TAX CLASS 4 - OTHER</td>\n",
       "      <td>392.0</td>\n",
       "      <td>NaN</td>\n",
       "      <td>NaN</td>\n",
       "      <td>384.0</td>\n",
       "      <td>2400.0</td>\n",
       "      <td>NaN</td>\n",
       "      <td>0.0</td>\n",
       "      <td>40.0</td>\n",
       "    </tr>\n",
       "    <tr>\n",
       "      <th>3</th>\n",
       "      <td>RENTALS - WALKUP APARTMENTS</td>\n",
       "      <td>2328785.0</td>\n",
       "      <td>160256.0</td>\n",
       "      <td>8644.0</td>\n",
       "      <td>743791.0</td>\n",
       "      <td>489117.0</td>\n",
       "      <td>42688.0</td>\n",
       "      <td>272562.0</td>\n",
       "      <td>69598.0</td>\n",
       "    </tr>\n",
       "    <tr>\n",
       "      <th>4</th>\n",
       "      <td>COMMERCIAL VACANT LAND</td>\n",
       "      <td>170054.0</td>\n",
       "      <td>NaN</td>\n",
       "      <td>NaN</td>\n",
       "      <td>0.0</td>\n",
       "      <td>99600.0</td>\n",
       "      <td>NaN</td>\n",
       "      <td>0.0</td>\n",
       "      <td>0.0</td>\n",
       "    </tr>\n",
       "    <tr>\n",
       "      <th>5</th>\n",
       "      <td>CONDO STORE BUILDINGS</td>\n",
       "      <td>0.0</td>\n",
       "      <td>NaN</td>\n",
       "      <td>NaN</td>\n",
       "      <td>2898.0</td>\n",
       "      <td>4962.0</td>\n",
       "      <td>NaN</td>\n",
       "      <td>NaN</td>\n",
       "      <td>NaN</td>\n",
       "    </tr>\n",
       "    <tr>\n",
       "      <th>6</th>\n",
       "      <td>TWO FAMILY DWELLINGS</td>\n",
       "      <td>1820431.0</td>\n",
       "      <td>1259528.0</td>\n",
       "      <td>209589.0</td>\n",
       "      <td>1086087.0</td>\n",
       "      <td>2187864.0</td>\n",
       "      <td>305754.0</td>\n",
       "      <td>705547.0</td>\n",
       "      <td>562532.0</td>\n",
       "    </tr>\n",
       "    <tr>\n",
       "      <th>7</th>\n",
       "      <td>THREE FAMILY DWELLINGS</td>\n",
       "      <td>1168070.0</td>\n",
       "      <td>275888.0</td>\n",
       "      <td>25766.0</td>\n",
       "      <td>1106414.0</td>\n",
       "      <td>724063.0</td>\n",
       "      <td>54562.0</td>\n",
       "      <td>99027.0</td>\n",
       "      <td>222724.0</td>\n",
       "    </tr>\n",
       "    <tr>\n",
       "      <th>8</th>\n",
       "      <td>TAX CLASS 1 VACANT LAND</td>\n",
       "      <td>8452.0</td>\n",
       "      <td>0.0</td>\n",
       "      <td>0.0</td>\n",
       "      <td>0.0</td>\n",
       "      <td>0.0</td>\n",
       "      <td>0.0</td>\n",
       "      <td>0.0</td>\n",
       "      <td>0.0</td>\n",
       "    </tr>\n",
       "    <tr>\n",
       "      <th>9</th>\n",
       "      <td>OFFICE BUILDINGS</td>\n",
       "      <td>25331.0</td>\n",
       "      <td>168891.0</td>\n",
       "      <td>NaN</td>\n",
       "      <td>6068.0</td>\n",
       "      <td>306927.0</td>\n",
       "      <td>40495.0</td>\n",
       "      <td>30077.0</td>\n",
       "      <td>109634.0</td>\n",
       "    </tr>\n",
       "    <tr>\n",
       "      <th>10</th>\n",
       "      <td>OUTDOOR RECREATIONAL FACILITIES</td>\n",
       "      <td>0.0</td>\n",
       "      <td>11650.0</td>\n",
       "      <td>NaN</td>\n",
       "      <td>NaN</td>\n",
       "      <td>NaN</td>\n",
       "      <td>NaN</td>\n",
       "      <td>NaN</td>\n",
       "      <td>NaN</td>\n",
       "    </tr>\n",
       "    <tr>\n",
       "      <th>11</th>\n",
       "      <td>OTHER HOTELS</td>\n",
       "      <td>NaN</td>\n",
       "      <td>NaN</td>\n",
       "      <td>14979.0</td>\n",
       "      <td>NaN</td>\n",
       "      <td>9887.0</td>\n",
       "      <td>NaN</td>\n",
       "      <td>26621.0</td>\n",
       "      <td>NaN</td>\n",
       "    </tr>\n",
       "    <tr>\n",
       "      <th>12</th>\n",
       "      <td>RENTALS - ELEVATOR APARTMENTS</td>\n",
       "      <td>527405.0</td>\n",
       "      <td>32099.0</td>\n",
       "      <td>NaN</td>\n",
       "      <td>26399.0</td>\n",
       "      <td>2310938.0</td>\n",
       "      <td>1357000.0</td>\n",
       "      <td>142745.0</td>\n",
       "      <td>341487.0</td>\n",
       "    </tr>\n",
       "    <tr>\n",
       "      <th>13</th>\n",
       "      <td>LUXURY HOTELS</td>\n",
       "      <td>NaN</td>\n",
       "      <td>NaN</td>\n",
       "      <td>NaN</td>\n",
       "      <td>NaN</td>\n",
       "      <td>210460.0</td>\n",
       "      <td>NaN</td>\n",
       "      <td>NaN</td>\n",
       "      <td>0.0</td>\n",
       "    </tr>\n",
       "    <tr>\n",
       "      <th>14</th>\n",
       "      <td>COMMERCIAL CONDOS</td>\n",
       "      <td>0.0</td>\n",
       "      <td>NaN</td>\n",
       "      <td>NaN</td>\n",
       "      <td>NaN</td>\n",
       "      <td>0.0</td>\n",
       "      <td>0.0</td>\n",
       "      <td>NaN</td>\n",
       "      <td>0.0</td>\n",
       "    </tr>\n",
       "    <tr>\n",
       "      <th>15</th>\n",
       "      <td>CONDOS - WALKUP APARTMENTS</td>\n",
       "      <td>506.0</td>\n",
       "      <td>6032.0</td>\n",
       "      <td>NaN</td>\n",
       "      <td>5288.0</td>\n",
       "      <td>27628.0</td>\n",
       "      <td>27255.0</td>\n",
       "      <td>908.0</td>\n",
       "      <td>646.0</td>\n",
       "    </tr>\n",
       "    <tr>\n",
       "      <th>16</th>\n",
       "      <td>CONDO COOPS</td>\n",
       "      <td>430000.0</td>\n",
       "      <td>NaN</td>\n",
       "      <td>NaN</td>\n",
       "      <td>NaN</td>\n",
       "      <td>0.0</td>\n",
       "      <td>0.0</td>\n",
       "      <td>NaN</td>\n",
       "      <td>NaN</td>\n",
       "    </tr>\n",
       "    <tr>\n",
       "      <th>17</th>\n",
       "      <td>INDOOR PUBLIC AND CULTURAL FACILITIES</td>\n",
       "      <td>6684.0</td>\n",
       "      <td>49541.0</td>\n",
       "      <td>NaN</td>\n",
       "      <td>NaN</td>\n",
       "      <td>7305.0</td>\n",
       "      <td>NaN</td>\n",
       "      <td>NaN</td>\n",
       "      <td>9592.0</td>\n",
       "    </tr>\n",
       "    <tr>\n",
       "      <th>18</th>\n",
       "      <td>FACTORIES</td>\n",
       "      <td>642929.0</td>\n",
       "      <td>NaN</td>\n",
       "      <td>NaN</td>\n",
       "      <td>14498.0</td>\n",
       "      <td>46180.0</td>\n",
       "      <td>NaN</td>\n",
       "      <td>8700.0</td>\n",
       "      <td>39710.0</td>\n",
       "    </tr>\n",
       "    <tr>\n",
       "      <th>19</th>\n",
       "      <td>A CONDO-RENTALS</td>\n",
       "      <td>0.0</td>\n",
       "      <td>NaN</td>\n",
       "      <td>NaN</td>\n",
       "      <td>NaN</td>\n",
       "      <td>NaN</td>\n",
       "      <td>NaN</td>\n",
       "      <td>NaN</td>\n",
       "      <td>NaN</td>\n",
       "    </tr>\n",
       "    <tr>\n",
       "      <th>20</th>\n",
       "      <td>CONDO HOTELS</td>\n",
       "      <td>NaN</td>\n",
       "      <td>NaN</td>\n",
       "      <td>NaN</td>\n",
       "      <td>NaN</td>\n",
       "      <td>0.0</td>\n",
       "      <td>NaN</td>\n",
       "      <td>NaN</td>\n",
       "      <td>NaN</td>\n",
       "    </tr>\n",
       "    <tr>\n",
       "      <th>21</th>\n",
       "      <td>CONDO OFFICE BUILDINGS</td>\n",
       "      <td>0.0</td>\n",
       "      <td>0.0</td>\n",
       "      <td>NaN</td>\n",
       "      <td>NaN</td>\n",
       "      <td>0.0</td>\n",
       "      <td>NaN</td>\n",
       "      <td>NaN</td>\n",
       "      <td>0.0</td>\n",
       "    </tr>\n",
       "    <tr>\n",
       "      <th>22</th>\n",
       "      <td>COMMERCIAL GARAGES</td>\n",
       "      <td>98216.0</td>\n",
       "      <td>680.0</td>\n",
       "      <td>2700.0</td>\n",
       "      <td>17898.0</td>\n",
       "      <td>163097.0</td>\n",
       "      <td>0.0</td>\n",
       "      <td>59642.0</td>\n",
       "      <td>423011.0</td>\n",
       "    </tr>\n",
       "    <tr>\n",
       "      <th>23</th>\n",
       "      <td>ASYLUMS AND HOMES</td>\n",
       "      <td>1914.0</td>\n",
       "      <td>NaN</td>\n",
       "      <td>NaN</td>\n",
       "      <td>NaN</td>\n",
       "      <td>NaN</td>\n",
       "      <td>NaN</td>\n",
       "      <td>NaN</td>\n",
       "      <td>NaN</td>\n",
       "    </tr>\n",
       "    <tr>\n",
       "      <th>24</th>\n",
       "      <td>CONDO NON-BUSINESS STORAGE</td>\n",
       "      <td>0.0</td>\n",
       "      <td>NaN</td>\n",
       "      <td>NaN</td>\n",
       "      <td>NaN</td>\n",
       "      <td>0.0</td>\n",
       "      <td>0.0</td>\n",
       "      <td>NaN</td>\n",
       "      <td>NaN</td>\n",
       "    </tr>\n",
       "    <tr>\n",
       "      <th>25</th>\n",
       "      <td>COOPS - ELEVATOR APARTMENTS</td>\n",
       "      <td>0.0</td>\n",
       "      <td>1654272.0</td>\n",
       "      <td>NaN</td>\n",
       "      <td>0.0</td>\n",
       "      <td>243670.0</td>\n",
       "      <td>903223.0</td>\n",
       "      <td>0.0</td>\n",
       "      <td>0.0</td>\n",
       "    </tr>\n",
       "    <tr>\n",
       "      <th>26</th>\n",
       "      <td>CONDO PARKING</td>\n",
       "      <td>4837.0</td>\n",
       "      <td>459.0</td>\n",
       "      <td>NaN</td>\n",
       "      <td>313.0</td>\n",
       "      <td>13414.0</td>\n",
       "      <td>1992.0</td>\n",
       "      <td>0.0</td>\n",
       "      <td>153.0</td>\n",
       "    </tr>\n",
       "    <tr>\n",
       "      <th>27</th>\n",
       "      <td>HOSPITAL AND HEALTH FACILITIES</td>\n",
       "      <td>NaN</td>\n",
       "      <td>NaN</td>\n",
       "      <td>NaN</td>\n",
       "      <td>62907.0</td>\n",
       "      <td>124172.0</td>\n",
       "      <td>NaN</td>\n",
       "      <td>NaN</td>\n",
       "      <td>50384.0</td>\n",
       "    </tr>\n",
       "    <tr>\n",
       "      <th>28</th>\n",
       "      <td>TAX CLASS 1 CONDOS</td>\n",
       "      <td>8236.0</td>\n",
       "      <td>70205.0</td>\n",
       "      <td>NaN</td>\n",
       "      <td>15069.0</td>\n",
       "      <td>16616.0</td>\n",
       "      <td>5250.0</td>\n",
       "      <td>NaN</td>\n",
       "      <td>NaN</td>\n",
       "    </tr>\n",
       "    <tr>\n",
       "      <th>29</th>\n",
       "      <td>STORE BUILDINGS</td>\n",
       "      <td>423505.0</td>\n",
       "      <td>150295.0</td>\n",
       "      <td>25156.0</td>\n",
       "      <td>205373.0</td>\n",
       "      <td>1538649.0</td>\n",
       "      <td>125415.0</td>\n",
       "      <td>67592.0</td>\n",
       "      <td>370031.0</td>\n",
       "    </tr>\n",
       "    <tr>\n",
       "      <th>30</th>\n",
       "      <td>TAX CLASS 1 - OTHER</td>\n",
       "      <td>0.0</td>\n",
       "      <td>0.0</td>\n",
       "      <td>NaN</td>\n",
       "      <td>0.0</td>\n",
       "      <td>0.0</td>\n",
       "      <td>0.0</td>\n",
       "      <td>0.0</td>\n",
       "      <td>0.0</td>\n",
       "    </tr>\n",
       "    <tr>\n",
       "      <th>31</th>\n",
       "      <td>RENTALS - 4-10 UNIT</td>\n",
       "      <td>238537.0</td>\n",
       "      <td>13755.0</td>\n",
       "      <td>15136.0</td>\n",
       "      <td>197999.0</td>\n",
       "      <td>71220.0</td>\n",
       "      <td>6960.0</td>\n",
       "      <td>40708.0</td>\n",
       "      <td>38504.0</td>\n",
       "    </tr>\n",
       "    <tr>\n",
       "      <th>32</th>\n",
       "      <td>CONDOS - ELEVATOR APARTMENTS</td>\n",
       "      <td>76377.0</td>\n",
       "      <td>52043.0</td>\n",
       "      <td>NaN</td>\n",
       "      <td>35829.0</td>\n",
       "      <td>464298.0</td>\n",
       "      <td>54080.0</td>\n",
       "      <td>NaN</td>\n",
       "      <td>2924.0</td>\n",
       "    </tr>\n",
       "    <tr>\n",
       "      <th>33</th>\n",
       "      <td>CONDOS - 2-10 UNIT WITH COMMERCIAL UNIT</td>\n",
       "      <td>59249.0</td>\n",
       "      <td>NaN</td>\n",
       "      <td>NaN</td>\n",
       "      <td>0.0</td>\n",
       "      <td>0.0</td>\n",
       "      <td>NaN</td>\n",
       "      <td>NaN</td>\n",
       "      <td>NaN</td>\n",
       "    </tr>\n",
       "    <tr>\n",
       "      <th>34</th>\n",
       "      <td>ONE FAMILY DWELLINGS</td>\n",
       "      <td>394943.0</td>\n",
       "      <td>2140216.0</td>\n",
       "      <td>739094.0</td>\n",
       "      <td>178638.0</td>\n",
       "      <td>3387685.0</td>\n",
       "      <td>1247965.0</td>\n",
       "      <td>1467200.0</td>\n",
       "      <td>245186.0</td>\n",
       "    </tr>\n",
       "    <tr>\n",
       "      <th>35</th>\n",
       "      <td>SPECIAL CONDO BILLING LOTS</td>\n",
       "      <td>90307.0</td>\n",
       "      <td>NaN</td>\n",
       "      <td>NaN</td>\n",
       "      <td>NaN</td>\n",
       "      <td>NaN</td>\n",
       "      <td>NaN</td>\n",
       "      <td>NaN</td>\n",
       "      <td>62257.0</td>\n",
       "    </tr>\n",
       "    <tr>\n",
       "      <th>36</th>\n",
       "      <td>WAREHOUSES</td>\n",
       "      <td>237819.0</td>\n",
       "      <td>NaN</td>\n",
       "      <td>NaN</td>\n",
       "      <td>14867.0</td>\n",
       "      <td>189866.0</td>\n",
       "      <td>NaN</td>\n",
       "      <td>739103.0</td>\n",
       "      <td>135413.0</td>\n",
       "    </tr>\n",
       "    <tr>\n",
       "      <th>37</th>\n",
       "      <td>RELIGIOUS FACILITIES</td>\n",
       "      <td>18773.0</td>\n",
       "      <td>37500.0</td>\n",
       "      <td>NaN</td>\n",
       "      <td>31679.0</td>\n",
       "      <td>267167.0</td>\n",
       "      <td>NaN</td>\n",
       "      <td>13240.0</td>\n",
       "      <td>23900.0</td>\n",
       "    </tr>\n",
       "    <tr>\n",
       "      <th>38</th>\n",
       "      <td>CONDO CULTURAL/MEDICAL/EDUCATIONAL/ETC</td>\n",
       "      <td>NaN</td>\n",
       "      <td>NaN</td>\n",
       "      <td>NaN</td>\n",
       "      <td>NaN</td>\n",
       "      <td>1095.0</td>\n",
       "      <td>NaN</td>\n",
       "      <td>NaN</td>\n",
       "      <td>NaN</td>\n",
       "    </tr>\n",
       "    <tr>\n",
       "      <th>39</th>\n",
       "      <td>EDUCATIONAL FACILITIES</td>\n",
       "      <td>33200.0</td>\n",
       "      <td>13460.0</td>\n",
       "      <td>NaN</td>\n",
       "      <td>NaN</td>\n",
       "      <td>45480.0</td>\n",
       "      <td>1938.0</td>\n",
       "      <td>25680.0</td>\n",
       "      <td>101016.0</td>\n",
       "    </tr>\n",
       "  </tbody>\n",
       "</table>\n",
       "</div>"
      ],
      "text/plain": [
       "                    Building Class Category    Astoria    Bayside  Bellerose     Corona  Flushing-north  Forest hills     Hollis   Jamaica\n",
       "0            CONDOS - 2-10 UNIT RESIDENTIAL     9578.0        NaN        NaN     9968.0         18395.0           NaN        NaN       NaN\n",
       "1                 COOPS - WALKUP APARTMENTS        0.0   401760.0        NaN        NaN             0.0           0.0        NaN       NaN\n",
       "2                       TAX CLASS 4 - OTHER      392.0        NaN        NaN      384.0          2400.0           NaN        0.0      40.0\n",
       "3               RENTALS - WALKUP APARTMENTS  2328785.0   160256.0     8644.0   743791.0        489117.0       42688.0   272562.0   69598.0\n",
       "4                    COMMERCIAL VACANT LAND   170054.0        NaN        NaN        0.0         99600.0           NaN        0.0       0.0\n",
       "5                     CONDO STORE BUILDINGS        0.0        NaN        NaN     2898.0          4962.0           NaN        NaN       NaN\n",
       "6                      TWO FAMILY DWELLINGS  1820431.0  1259528.0   209589.0  1086087.0       2187864.0      305754.0   705547.0  562532.0\n",
       "7                    THREE FAMILY DWELLINGS  1168070.0   275888.0    25766.0  1106414.0        724063.0       54562.0    99027.0  222724.0\n",
       "8                   TAX CLASS 1 VACANT LAND     8452.0        0.0        0.0        0.0             0.0           0.0        0.0       0.0\n",
       "9                          OFFICE BUILDINGS    25331.0   168891.0        NaN     6068.0        306927.0       40495.0    30077.0  109634.0\n",
       "10          OUTDOOR RECREATIONAL FACILITIES        0.0    11650.0        NaN        NaN             NaN           NaN        NaN       NaN\n",
       "11                             OTHER HOTELS        NaN        NaN    14979.0        NaN          9887.0           NaN    26621.0       NaN\n",
       "12            RENTALS - ELEVATOR APARTMENTS   527405.0    32099.0        NaN    26399.0       2310938.0     1357000.0   142745.0  341487.0\n",
       "13                            LUXURY HOTELS        NaN        NaN        NaN        NaN        210460.0           NaN        NaN       0.0\n",
       "14                        COMMERCIAL CONDOS        0.0        NaN        NaN        NaN             0.0           0.0        NaN       0.0\n",
       "15               CONDOS - WALKUP APARTMENTS      506.0     6032.0        NaN     5288.0         27628.0       27255.0      908.0     646.0\n",
       "16                              CONDO COOPS   430000.0        NaN        NaN        NaN             0.0           0.0        NaN       NaN\n",
       "17    INDOOR PUBLIC AND CULTURAL FACILITIES     6684.0    49541.0        NaN        NaN          7305.0           NaN        NaN    9592.0\n",
       "18                                FACTORIES   642929.0        NaN        NaN    14498.0         46180.0           NaN     8700.0   39710.0\n",
       "19                          A CONDO-RENTALS        0.0        NaN        NaN        NaN             NaN           NaN        NaN       NaN\n",
       "20                             CONDO HOTELS        NaN        NaN        NaN        NaN             0.0           NaN        NaN       NaN\n",
       "21                   CONDO OFFICE BUILDINGS        0.0        0.0        NaN        NaN             0.0           NaN        NaN       0.0\n",
       "22                       COMMERCIAL GARAGES    98216.0      680.0     2700.0    17898.0        163097.0           0.0    59642.0  423011.0\n",
       "23                        ASYLUMS AND HOMES     1914.0        NaN        NaN        NaN             NaN           NaN        NaN       NaN\n",
       "24               CONDO NON-BUSINESS STORAGE        0.0        NaN        NaN        NaN             0.0           0.0        NaN       NaN\n",
       "25              COOPS - ELEVATOR APARTMENTS        0.0  1654272.0        NaN        0.0        243670.0      903223.0        0.0       0.0\n",
       "26                            CONDO PARKING     4837.0      459.0        NaN      313.0         13414.0        1992.0        0.0     153.0\n",
       "27           HOSPITAL AND HEALTH FACILITIES        NaN        NaN        NaN    62907.0        124172.0           NaN        NaN   50384.0\n",
       "28                       TAX CLASS 1 CONDOS     8236.0    70205.0        NaN    15069.0         16616.0        5250.0        NaN       NaN\n",
       "29                          STORE BUILDINGS   423505.0   150295.0    25156.0   205373.0       1538649.0      125415.0    67592.0  370031.0\n",
       "30                      TAX CLASS 1 - OTHER        0.0        0.0        NaN        0.0             0.0           0.0        0.0       0.0\n",
       "31                      RENTALS - 4-10 UNIT   238537.0    13755.0    15136.0   197999.0         71220.0        6960.0    40708.0   38504.0\n",
       "32             CONDOS - ELEVATOR APARTMENTS    76377.0    52043.0        NaN    35829.0        464298.0       54080.0        NaN    2924.0\n",
       "33  CONDOS - 2-10 UNIT WITH COMMERCIAL UNIT    59249.0        NaN        NaN        0.0             0.0           NaN        NaN       NaN\n",
       "34                     ONE FAMILY DWELLINGS   394943.0  2140216.0   739094.0   178638.0       3387685.0     1247965.0  1467200.0  245186.0\n",
       "35               SPECIAL CONDO BILLING LOTS    90307.0        NaN        NaN        NaN             NaN           NaN        NaN   62257.0\n",
       "36                               WAREHOUSES   237819.0        NaN        NaN    14867.0        189866.0           NaN   739103.0  135413.0\n",
       "37                     RELIGIOUS FACILITIES    18773.0    37500.0        NaN    31679.0        267167.0           NaN    13240.0   23900.0\n",
       "38   CONDO CULTURAL/MEDICAL/EDUCATIONAL/ETC        NaN        NaN        NaN        NaN          1095.0           NaN        NaN       NaN\n",
       "39                   EDUCATIONAL FACILITIES    33200.0    13460.0        NaN        NaN         45480.0        1938.0    25680.0  101016.0"
      ]
     },
     "execution_count": 347,
     "metadata": {},
     "output_type": "execute_result"
    }
   ],
   "source": [
    "ToPandasAPI"
   ]
  },
  {
   "cell_type": "markdown",
   "id": "72aa066a",
   "metadata": {},
   "source": [
    "## dfStatenIsland20032019"
   ]
  },
  {
   "cell_type": "code",
   "execution_count": 348,
   "id": "484cbd04",
   "metadata": {},
   "outputs": [],
   "source": [
    "SelColdfStatenIsland20032019 = dfStatenIsland20032019.select(\"Borough\", \"Neighborhood\", \n",
    "                       \"Building Class Category\",\"Building Class At Present\",\n",
    "                      \"Sale Price\", \"Sale Date\")"
   ]
  },
  {
   "cell_type": "code",
   "execution_count": 349,
   "id": "57ac00ab",
   "metadata": {},
   "outputs": [
    {
     "data": {
      "text/plain": [
       "['Borough',\n",
       " 'Neighborhood',\n",
       " 'Building Class Category',\n",
       " 'Building Class At Present',\n",
       " 'Sale Price',\n",
       " 'Sale Date',\n",
       " 'Building Code',\n",
       " 'Description']"
      ]
     },
     "execution_count": 349,
     "metadata": {},
     "output_type": "execute_result"
    }
   ],
   "source": [
    "dfStatenIsland20032019BCD = SelColdfStatenIsland20032019.join(BuildingClassification,\n",
    "                     SelColdfStatenIsland20032019[\"Building Class At Present\"] == BuildingClassification[\"Building Code\"],\n",
    "                                                              \"inner\") \n",
    "dfStatenIsland20032019BCD.columns "
   ]
  },
  {
   "cell_type": "code",
   "execution_count": 350,
   "id": "7e9e22ee",
   "metadata": {},
   "outputs": [],
   "source": [
    "dfStatenIsland20032019BCD = dfStatenIsland20032019BCD.select('Borough',\n",
    " CapitalizeStringUDF(col(\"Neighborhood\")).alias(\"Neighborhood\"),\n",
    "trim(RemoveTwoCharactersUDF(col(\"Building Class Category\"))).alias(\"Building Class Category\"),\n",
    " 'Building Class At Present',\n",
    " 'Sale Price',\n",
    " 'Sale Date',\n",
    " 'Building Code',\n",
    " 'Description')"
   ]
  },
  {
   "cell_type": "code",
   "execution_count": 351,
   "id": "10f5a993",
   "metadata": {},
   "outputs": [
    {
     "name": "stdout",
     "output_type": "stream",
     "text": [
      "+------------+-------------------------+----------------------------+------------------------------------------+----------+\n",
      "|Borough     |Neighborhood             |Building Class Category     |Description                               |Sale Price|\n",
      "+------------+-------------------------+----------------------------+------------------------------------------+----------+\n",
      "|StatenIsland|Arden heights            |ONE FAMILY HOMES            |ONE FAMILY ATTACHED OR SEMI-DETACHED      |0.00      |\n",
      "|StatenIsland|Arden heights            |ONE FAMILY HOMES            |ONE FAMILY ATTACHED OR SEMI-DETACHED      |160000.00 |\n",
      "|StatenIsland|Arrochar-shore acres     |TWO FAMILY HOMES            |TWO FAMILY FRAME                          |0.00      |\n",
      "|StatenIsland|Arrochar-shore acres     |CONDOS - ELEVATOR APARTMENTS|CONDO; RESIDENTIAL UNIT IN ELEVATOR BLDG. |180000.00 |\n",
      "|StatenIsland|Bulls head               |ONE FAMILY HOMES            |ONE FAMILY ATTACHED OR SEMI-DETACHED      |0.00      |\n",
      "|StatenIsland|Bulls head               |TWO FAMILY HOMES            |TWO FAMILY FRAME                          |0.00      |\n",
      "|StatenIsland|Bulls head               |TAX CLASS 1 CONDOS          |CONDO; RESIDENTIAL UNIT IN 1-3 STORY BLDG.|2000.00   |\n",
      "|StatenIsland|Clove lakes              |OFFICE BUILDINGS            |MULTI-STORY RETAIL BUILDING (2 OR MORE)   |425000.00 |\n",
      "|StatenIsland|Concord                  |ONE FAMILY HOMES            |ONE STORY - PERMANENT LIVING QUARTER      |0.00      |\n",
      "|StatenIsland|Concord-fox hills        |ONE FAMILY HOMES            |ONE FAMILY ATTACHED OR SEMI-DETACHED      |233220.00 |\n",
      "|StatenIsland|Dongan hills-colony      |ONE FAMILY HOMES            |ZONED RESIDENTIAL; NOT MANHATTAN          |0.00      |\n",
      "|StatenIsland|Eltingville              |ONE FAMILY HOMES            |ONE STORY - PERMANENT LIVING QUARTER      |0.00      |\n",
      "|StatenIsland|Eltingville              |ONE FAMILY HOMES            |TWO STORIES - DETACHED SM OR MID          |450000.00 |\n",
      "|StatenIsland|Eltingville              |ONE FAMILY HOMES            |ONE FAMILY ATTACHED OR SEMI-DETACHED      |575000.00 |\n",
      "|StatenIsland|Eltingville              |TWO FAMILY HOMES            |TWO FAMILY FRAME                          |106134.00 |\n",
      "|StatenIsland|Eltingville              |TWO FAMILY HOMES            |MISCELLANEOUS TWO FAMILY                  |0.00      |\n",
      "|StatenIsland|Grant city               |ONE FAMILY HOMES            |TWO STORIES - DETACHED SM OR MID          |120000.00 |\n",
      "|StatenIsland|Grasmere                 |ONE FAMILY HOMES            |ONE STORY - PERMANENT LIVING QUARTER      |217000.00 |\n",
      "|StatenIsland|Great kills              |ONE FAMILY HOMES            |ONE FAMILY ATTACHED OR SEMI-DETACHED      |0.00      |\n",
      "|StatenIsland|Great kills              |ONE FAMILY HOMES            |ONE STORY - PERMANENT LIVING QUARTER      |435000.00 |\n",
      "+------------+-------------------------+----------------------------+------------------------------------------+----------+\n",
      "only showing top 20 rows\n",
      "\n"
     ]
    }
   ],
   "source": [
    "dfStatenIsland20032019BCD.select('Borough',\n",
    " 'Neighborhood',\n",
    " 'Building Class Category',\n",
    "'Description',\n",
    " 'Sale Price'\n",
    " ).show(truncate=False)"
   ]
  },
  {
   "cell_type": "markdown",
   "id": "57af2b63",
   "metadata": {},
   "source": [
    "### Calculating a few statistical methods"
   ]
  },
  {
   "cell_type": "code",
   "execution_count": 353,
   "id": "824642da",
   "metadata": {},
   "outputs": [
    {
     "name": "stdout",
     "output_type": "stream",
     "text": [
      "+-------------------------+-----------------+-----------------+--------------+--------------+\n",
      "|Neighborhood             |Sum Of Sale Price|Avg of Sale Price|Max Sale Price|Min Sale Price|\n",
      "+-------------------------+-----------------+-----------------+--------------+--------------+\n",
      "|Willowbrook              |719242648.00     |444251.172329    |2884700.00    |1.00          |\n",
      "|Richmondtown             |129301927.00     |730519.361582    |1700000.00    |10.00         |\n",
      "|Westerleigh              |267366353.00     |546761.458078    |3000000.00    |10.00         |\n",
      "|New brighton-st. george  |298250843.00     |626577.401261    |26736929.00   |10.00         |\n",
      "|Arden heights            |334132176.00     |431695.317829    |1750000.00    |1.00          |\n",
      "|Arden heights            |1061629496.00    |329289.545906    |10200000.00   |1.00          |\n",
      "|Fresh kills              |328536.00        |328536.000000    |328536.00     |328536.00     |\n",
      "|Castleton corners        |655246130.00     |444234.664407    |15246152.00   |1.00          |\n",
      "|Dongan hills-colony      |112167278.00     |789910.408451    |2200000.00    |10.00         |\n",
      "|Rossville-charleston     |101568564.00     |1025945.090909   |41000000.00   |10.00         |\n",
      "|Clove lakes              |145699716.00     |665295.506849    |21714071.00   |10.00         |\n",
      "|Willowbrook-seaview      |6002000.00       |3001000.000000   |6000000.00    |2000.00       |\n",
      "|Mariners harbor          |260930976.00     |403917.919505    |5000000.00    |10.00         |\n",
      "|New springville          |526362669.00     |473347.723921    |20964000.00   |1.00          |\n",
      "|Grasmere                 |125786445.00     |585053.232558    |1031500.00    |10.00         |\n",
      "|Todt hill                |496645151.00     |1283320.803618   |7250000.00    |1.00          |\n",
      "|New brighton-st. george  |122364100.00     |1748058.571429   |20000000.00   |100000.00     |\n",
      "|Emerson hill             |123402081.00     |851048.834483    |3012035.00    |10.00         |\n",
      "|Fresh kills              |17079753.00      |813321.571429    |3700000.00    |50714.00      |\n",
      "|Annadale                 |288090873.00     |707839.982801    |2575000.00    |10.00         |\n",
      "+-------------------------+-----------------+-----------------+--------------+--------------+\n",
      "only showing top 20 rows\n",
      "\n"
     ]
    }
   ],
   "source": [
    "STATdfStatenIsland20032019BCD = dfStatenIsland20032019BCD.filter(dfStatenIsland20032019BCD[\"Sale Price\"] > 0)\n",
    "\n",
    "\n",
    "STATdfStatenIsland20032019BCD.groupBy(\"Neighborhood\") \\\n",
    "    .agg(sum(\"Sale Price\").alias(\"Sum Of Sale Price\"), \\\n",
    "         avg(\"Sale Price\").alias(\"Avg of Sale Price\"), \\\n",
    "         max(\"Sale Price\").alias(\"Max Sale Price\"), \\\n",
    "         min(\"Sale Price\").alias(\"Min Sale Price\") \\\n",
    "     ) \\\n",
    "    .show(truncate=False)"
   ]
  },
  {
   "cell_type": "markdown",
   "id": "af2eec50",
   "metadata": {},
   "source": [
    "### Grouping by Neighborhood, Building Class Category and Description"
   ]
  },
  {
   "cell_type": "code",
   "execution_count": 354,
   "id": "ebdd2b53",
   "metadata": {},
   "outputs": [],
   "source": [
    "GroupingSalesStatenIsland20032019 = dfStatenIsland20032019BCD.groupBy('Borough',\n",
    "                                                     'Neighborhood',\n",
    "                                                     'Building Class Category',\n",
    "                                                     'Description').sum('Sale Price')"
   ]
  },
  {
   "cell_type": "code",
   "execution_count": 355,
   "id": "4494c51f",
   "metadata": {},
   "outputs": [
    {
     "name": "stdout",
     "output_type": "stream",
     "text": [
      "+------------+-------------------------+-----------------------+-----------------------------------+-----------+\n",
      "|     Borough|             Neighborhood|Building Class Category|                        Description| Sale Price|\n",
      "+------------+-------------------------+-----------------------+-----------------------------------+-----------+\n",
      "|StatenIsland|Mariners harbor          |       ONE FAMILY HOMES|   ZONED RESIDENTIAL; NOT MANHATTAN| 1085000.00|\n",
      "|StatenIsland|              Eltingville|   ONE FAMILY DWELLINGS|           MISCELLANEOUS ONE FAMILY|23835570.00|\n",
      "|StatenIsland|            Port richmond|   TWO FAMILY DWELLINGS|                   TWO FAMILY FRAME|77464786.00|\n",
      "|StatenIsland|Tompkinsville            |          CONDO PARKING|                     INDOOR PARKING|       0.00|\n",
      "|StatenIsland|               Bloomfield|             WAREHOUSES|            SELF-STORAGE WAREHOUSES|28600000.00|\n",
      "|StatenIsland|Rosebank                 |        STORE BUILDINGS|          ONE STORY RETAIL BUILDING|15757700.00|\n",
      "|StatenIsland|Concord                  |     COMMERCIAL GARAGES|GAS STATION ONLY WITH/WITHOUT SM...|  832500.00|\n",
      "|StatenIsland|Mariners harbor          |       ONE FAMILY HOMES|       MISCELLANEOUS STORE BUILDING|   81192.00|\n",
      "|StatenIsland|              Willowbrook|   TWO FAMILY DWELLINGS|           MISCELLANEOUS TWO FAMILY|11067500.00|\n",
      "|StatenIsland|Rossville-port mobil     | COMMERCIAL VACANT LAND|                OTHER MISCELLANEOUS|       0.00|\n",
      "+------------+-------------------------+-----------------------+-----------------------------------+-----------+\n",
      "only showing top 10 rows\n",
      "\n"
     ]
    }
   ],
   "source": [
    "GroupingSalesStatenIsland20032019.select(\"Borough\", \n",
    "                                  \"Neighborhood\",\n",
    "                                  \"Building Class Category\",\n",
    "                                  \"Description\",\n",
    "                                  col(\"sum(Sale Price)\").alias(\"Sale Price\")).show(10,35)"
   ]
  },
  {
   "cell_type": "markdown",
   "id": "f46c40ee",
   "metadata": {},
   "source": [
    "### Grouping and perform analysis using window functions"
   ]
  },
  {
   "cell_type": "code",
   "execution_count": 356,
   "id": "8b10978a",
   "metadata": {},
   "outputs": [],
   "source": [
    "GroupSalesStatenIsland20032019 = dfStatenIsland20032019BCD.groupBy('Borough',\n",
    "                                                                   'Neighborhood',\n",
    "                                                                   'Building Class Category').sum('Sale Price')"
   ]
  },
  {
   "cell_type": "code",
   "execution_count": 357,
   "id": "d2d17021",
   "metadata": {},
   "outputs": [
    {
     "name": "stdout",
     "output_type": "stream",
     "text": [
      "+------------+--------------------+---------------------------+------------+\n",
      "|Borough     |Neighborhood        |Building Class Category    |Sale Price  |\n",
      "+------------+--------------------+---------------------------+------------+\n",
      "|StatenIsland|Eltingville         |ONE FAMILY DWELLINGS       |269831627.00|\n",
      "|StatenIsland|Concord             |TAX CLASS 1 - OTHER        |1832010.00  |\n",
      "|StatenIsland|New brighton        |THREE FAMILY DWELLINGS     |12060772.00 |\n",
      "|StatenIsland|Stapleton           |TAX CLASS 1 VACANT LAND    |15575252.00 |\n",
      "|StatenIsland|Oakwood-beach       |TWO FAMILY HOMES           |33029870.00 |\n",
      "|StatenIsland|Pleasant plains     |TAX CLASS 1 VACANT LAND    |26749846.00 |\n",
      "|StatenIsland|Rossville-port mobil|ONE FAMILY HOMES           |1950000.00  |\n",
      "|StatenIsland|Rossville-charleston|TAX CLASS 4 - OTHER        |340000.00   |\n",
      "|StatenIsland|Pleasant plains     |ASYLUMS AND HOMES          |0.00        |\n",
      "|StatenIsland|South beach         |OFFICE BUILDINGS           |3215000.00  |\n",
      "|StatenIsland|Concord-fox hills   |COOPS - WALKUP APARTMENTS  |116500.00   |\n",
      "|StatenIsland|Woodrow             |TAX CLASS 1 - OTHER        |0.00        |\n",
      "|StatenIsland|Port ivory          |RENTALS - WALKUP APARTMENTS|2680000.00  |\n",
      "|StatenIsland|Clove lakes         |TWO FAMILY HOMES           |28448553.00 |\n",
      "|StatenIsland|Dongan hills        |TWO FAMILY DWELLINGS       |33607499.00 |\n",
      "|StatenIsland|Castleton corners   |ONE FAMILY DWELLINGS       |137176913.00|\n",
      "|StatenIsland|Concord             |RENTALS - WALKUP APARTMENTS|8664000.00  |\n",
      "|StatenIsland|Tottenville         |WAREHOUSES                 |1917000.00  |\n",
      "|StatenIsland|Travis              |FACTORIES                  |0.00        |\n",
      "|StatenIsland|Midland beach       |EDUCATIONAL FACILITIES     |668000.00   |\n",
      "+------------+--------------------+---------------------------+------------+\n",
      "only showing top 20 rows\n",
      "\n"
     ]
    }
   ],
   "source": [
    "GroupSalesStatenIsland20032019 = GroupSalesStatenIsland20032019.select(\n",
    "                                'Borough',\n",
    "                               trim(col(\"Neighborhood\")).alias(\"Neighborhood\"),\n",
    "                                trim(col(\"Building Class Category\")).alias(\"Building Class Category\"),\n",
    "                               col('sum(Sale Price)').alias(\"Sale Price\"))\n",
    "                                \n",
    "GroupSalesStatenIsland20032019.show(truncate=False)"
   ]
  },
  {
   "cell_type": "code",
   "execution_count": 358,
   "id": "d8251d57",
   "metadata": {},
   "outputs": [],
   "source": [
    "windowSpec = Window.partitionBy(\"Neighborhood\").orderBy(desc(col(\"Sale Price\")))"
   ]
  },
  {
   "cell_type": "code",
   "execution_count": 359,
   "id": "f2f8fb2f",
   "metadata": {},
   "outputs": [
    {
     "name": "stdout",
     "output_type": "stream",
     "text": [
      "+------------+------------+-----------------------+------------+------------+\n",
      "|     Borough|Neighborhood|Building Class Category|  Sale Price|RankingSales|\n",
      "+------------+------------+-----------------------+------------+------------+\n",
      "|StatenIsland|    Annadale|       ONE FAMILY HOMES|395608732.00|           1|\n",
      "|StatenIsland|    Annadale|       TWO FAMILY HOMES|197223495.00|           2|\n",
      "|StatenIsland|    Annadale|   ONE FAMILY DWELLINGS|169841780.00|           3|\n",
      "|StatenIsland|    Annadale|   ONE FAMILY DWELLINGS|158128442.00|           4|\n",
      "|StatenIsland|    Annadale|   TWO FAMILY DWELLINGS|116126393.00|           5|\n",
      "|StatenIsland|    Annadale|   TWO FAMILY DWELLINGS|104829803.00|           6|\n",
      "|StatenIsland|    Annadale|   TAX CLASS 1 VACAN...| 54773885.00|           7|\n",
      "|StatenIsland|    Annadale|   TAX CLASS 1 VACAN...| 16150536.00|           8|\n",
      "|StatenIsland|    Annadale|       OFFICE BUILDINGS|  7973258.00|           9|\n",
      "|StatenIsland|    Annadale|     COMMERCIAL GARAGES|  4711000.00|          10|\n",
      "|StatenIsland|    Annadale|        STORE BUILDINGS|  4550000.00|          11|\n",
      "|StatenIsland|    Annadale|        STORE BUILDINGS|  3813760.00|          12|\n",
      "|StatenIsland|    Annadale|     TAX CLASS 1 CONDOS|  2694490.00|          13|\n",
      "|StatenIsland|    Annadale|       OFFICE BUILDINGS|  2094327.00|          14|\n",
      "|StatenIsland|    Annadale|   OUTDOOR RECREATIO...|  1500000.00|          15|\n",
      "|StatenIsland|    Annadale|    TAX CLASS 1 - OTHER|  1360885.00|          16|\n",
      "|StatenIsland|    Annadale|   COMMERCIAL VACANT...|  1190000.00|          17|\n",
      "|StatenIsland|    Annadale|   CONDO STORE BUILD...|   930000.00|          18|\n",
      "|StatenIsland|    Annadale|   RENTALS - WALKUP ...|   783120.00|          19|\n",
      "|StatenIsland|    Annadale|   THREE FAMILY DWEL...|   740000.00|          20|\n",
      "+------------+------------+-----------------------+------------+------------+\n",
      "only showing top 20 rows\n",
      "\n"
     ]
    }
   ],
   "source": [
    "RNGroupSalesStatenIsland20032019 = GroupSalesStatenIsland20032019.withColumn(\"RankingSales\", row_number().over(windowSpec))\n",
    "RNGroupSalesStatenIsland20032019.show()"
   ]
  },
  {
   "cell_type": "code",
   "execution_count": 360,
   "id": "10820f3c",
   "metadata": {},
   "outputs": [
    {
     "name": "stdout",
     "output_type": "stream",
     "text": [
      "+------------+-------------------------+------------------------------+-------------+------------+\n",
      "|     Borough|             Neighborhood|       Building Class Category|   Sale Price|RankingSales|\n",
      "+------------+-------------------------+------------------------------+-------------+------------+\n",
      "|StatenIsland|                 Annadale|              ONE FAMILY HOMES| 395608732.00|           1|\n",
      "|StatenIsland|            Arden heights|              ONE FAMILY HOMES| 605568884.00|           1|\n",
      "|StatenIsland|                 Arrochar|              ONE FAMILY HOMES|  82237152.00|           1|\n",
      "|StatenIsland|     Arrochar-shore acres|              ONE FAMILY HOMES|  27022114.00|           1|\n",
      "|StatenIsland|               Bloomfield|        COMMERCIAL VACANT LAND| 297981760.00|           1|\n",
      "|StatenIsland|               Bulls head|              ONE FAMILY HOMES| 331800056.00|           1|\n",
      "|StatenIsland|        Castleton corners|              ONE FAMILY HOMES| 305050051.00|           1|\n",
      "|StatenIsland|              Clove lakes|              ONE FAMILY HOMES| 213263292.00|           1|\n",
      "|StatenIsland|                  Concord|              ONE FAMILY HOMES| 170008305.00|           1|\n",
      "|StatenIsland|        Concord-fox hills|              ONE FAMILY HOMES|  82298444.00|           1|\n",
      "|StatenIsland|             Dongan hills|              ONE FAMILY HOMES| 162116515.00|           1|\n",
      "|StatenIsland|      Dongan hills-colony|              ONE FAMILY HOMES| 166692101.00|           1|\n",
      "|StatenIsland|    Dongan hills-old town|              ONE FAMILY HOMES|   8154981.00|           1|\n",
      "|StatenIsland|              Eltingville|              ONE FAMILY HOMES| 659273557.00|           1|\n",
      "|StatenIsland|             Emerson hill|              ONE FAMILY HOMES|  75719629.00|           1|\n",
      "|StatenIsland|              Fresh kills|            COMMERCIAL GARAGES|   4400000.00|           1|\n",
      "|StatenIsland|               Grant city|              ONE FAMILY HOMES| 198730713.00|           1|\n",
      "|StatenIsland|                 Grasmere|              ONE FAMILY HOMES| 183958800.00|           1|\n",
      "|StatenIsland|              Great kills|              ONE FAMILY HOMES|1283228296.00|           1|\n",
      "|StatenIsland|  Great kills-bay terrace|              ONE FAMILY HOMES| 103492164.00|           1|\n",
      "|StatenIsland|              Grymes hill|              ONE FAMILY HOMES| 115305903.00|           1|\n",
      "|StatenIsland|                 Huguenot|              ONE FAMILY HOMES| 285430381.00|           1|\n",
      "|StatenIsland|               Livingston|              ONE FAMILY HOMES|  62469232.00|           1|\n",
      "|StatenIsland|            Manor heights|              ONE FAMILY HOMES| 267560032.00|           1|\n",
      "|StatenIsland|          Mariners harbor|              ONE FAMILY HOMES| 411875409.00|           1|\n",
      "|StatenIsland|            Midland beach|              ONE FAMILY HOMES| 456406908.00|           1|\n",
      "|StatenIsland|             New brighton|              TWO FAMILY HOMES| 234963032.00|           1|\n",
      "|StatenIsland|  New brighton-st. george|  CONDOS - ELEVATOR APARTMENTS| 118109152.00|           1|\n",
      "|StatenIsland|                 New dorp|              ONE FAMILY HOMES| 289077164.00|           1|\n",
      "|StatenIsland|           New dorp-beach|              ONE FAMILY HOMES| 145064148.00|           1|\n",
      "|StatenIsland|         New dorp-heights|              ONE FAMILY HOMES| 161440506.00|           1|\n",
      "|StatenIsland|          New springville|            TAX CLASS 1 CONDOS| 405848704.00|           1|\n",
      "|StatenIsland|                  Oakwood|              ONE FAMILY HOMES| 152755432.00|           1|\n",
      "|StatenIsland|            Oakwood-beach|          ONE FAMILY DWELLINGS| 184470305.00|           1|\n",
      "|StatenIsland|          Pleasant plains|              ONE FAMILY HOMES| 130069148.00|           1|\n",
      "|StatenIsland|               Port ivory|              ONE FAMILY HOMES|  61890363.00|           1|\n",
      "|StatenIsland|            Port richmond|              ONE FAMILY HOMES| 256356593.00|           1|\n",
      "|StatenIsland|              Princes bay|              ONE FAMILY HOMES| 293240665.00|           1|\n",
      "|StatenIsland|             Richmondtown|              ONE FAMILY HOMES| 252913691.00|           1|\n",
      "|StatenIsland|Richmondtown-lighths hill|              ONE FAMILY HOMES|  51564999.00|           1|\n",
      "|StatenIsland|                 Rosebank|              ONE FAMILY HOMES| 290459129.00|           1|\n",
      "|StatenIsland|                Rossville|              ONE FAMILY HOMES| 249203239.00|           1|\n",
      "|StatenIsland|     Rossville-charleston|              ONE FAMILY HOMES| 167428124.00|           1|\n",
      "|StatenIsland|     Rossville-port mobil|                     FACTORIES|  38630000.00|           1|\n",
      "|StatenIsland|Rossville-richmond valley|        COMMERCIAL VACANT LAND|  43368078.00|           1|\n",
      "|StatenIsland|              Silver lake|              ONE FAMILY HOMES| 137505553.00|           1|\n",
      "|StatenIsland|              South beach|              ONE FAMILY HOMES| 418264370.00|           1|\n",
      "|StatenIsland|                Stapleton|              ONE FAMILY HOMES| 120067599.00|           1|\n",
      "|StatenIsland|        Stapleton-clifton|              ONE FAMILY HOMES|  76516167.00|           1|\n",
      "|StatenIsland|    Staten island-unknown|SELECTED GOVERNMENTAL FACIL...|   7410000.00|           1|\n",
      "|StatenIsland|                Sunnyside|              ONE FAMILY HOMES|  90149863.00|           1|\n",
      "|StatenIsland|                Todt hill|              ONE FAMILY HOMES| 325116512.00|           1|\n",
      "|StatenIsland|            Tompkinsville|              ONE FAMILY HOMES|  61467040.00|           1|\n",
      "|StatenIsland|              Tottenville|              ONE FAMILY HOMES| 494557053.00|           1|\n",
      "|StatenIsland|                   Travis|              ONE FAMILY HOMES| 179713581.00|           1|\n",
      "|StatenIsland|        West new brighton|              ONE FAMILY HOMES| 395559627.00|           1|\n",
      "|StatenIsland|              Westerleigh|              ONE FAMILY HOMES| 360615132.00|           1|\n",
      "|StatenIsland|              Willowbrook|              ONE FAMILY HOMES| 280461767.00|           1|\n",
      "|StatenIsland|      Willowbrook-seaview|OUTDOOR RECREATIONAL FACILI...|   6000000.00|           1|\n",
      "|StatenIsland|                  Woodrow|              ONE FAMILY HOMES| 298963145.00|           1|\n",
      "+------------+-------------------------+------------------------------+-------------+------------+\n",
      "\n"
     ]
    }
   ],
   "source": [
    "RNGroupSalesStatenIsland20032019.filter(RNGroupSalesStatenIsland20032019[\"RankingSales\"] ==1).show(100,30)"
   ]
  },
  {
   "cell_type": "code",
   "execution_count": 361,
   "id": "b7d79a91",
   "metadata": {},
   "outputs": [
    {
     "name": "stdout",
     "output_type": "stream",
     "text": [
      "+------------+------------+-----------------------+------------+-------+\n",
      "|     Borough|Neighborhood|Building Class Category|  Sale Price|Ranking|\n",
      "+------------+------------+-----------------------+------------+-------+\n",
      "|StatenIsland|    Annadale|       ONE FAMILY HOMES|395608732.00|      1|\n",
      "|StatenIsland|    Annadale|       TWO FAMILY HOMES|197223495.00|      2|\n",
      "|StatenIsland|    Annadale|   ONE FAMILY DWELLINGS|169841780.00|      3|\n",
      "|StatenIsland|    Annadale|   ONE FAMILY DWELLINGS|158128442.00|      4|\n",
      "|StatenIsland|    Annadale|   TWO FAMILY DWELLINGS|116126393.00|      5|\n",
      "|StatenIsland|    Annadale|   TWO FAMILY DWELLINGS|104829803.00|      6|\n",
      "|StatenIsland|    Annadale|   TAX CLASS 1 VACAN...| 54773885.00|      7|\n",
      "|StatenIsland|    Annadale|   TAX CLASS 1 VACAN...| 16150536.00|      8|\n",
      "|StatenIsland|    Annadale|       OFFICE BUILDINGS|  7973258.00|      9|\n",
      "|StatenIsland|    Annadale|     COMMERCIAL GARAGES|  4711000.00|     10|\n",
      "|StatenIsland|    Annadale|        STORE BUILDINGS|  4550000.00|     11|\n",
      "|StatenIsland|    Annadale|        STORE BUILDINGS|  3813760.00|     12|\n",
      "|StatenIsland|    Annadale|     TAX CLASS 1 CONDOS|  2694490.00|     13|\n",
      "|StatenIsland|    Annadale|       OFFICE BUILDINGS|  2094327.00|     14|\n",
      "|StatenIsland|    Annadale|   OUTDOOR RECREATIO...|  1500000.00|     15|\n",
      "|StatenIsland|    Annadale|    TAX CLASS 1 - OTHER|  1360885.00|     16|\n",
      "|StatenIsland|    Annadale|   COMMERCIAL VACANT...|  1190000.00|     17|\n",
      "|StatenIsland|    Annadale|   CONDO STORE BUILD...|   930000.00|     18|\n",
      "|StatenIsland|    Annadale|   RENTALS - WALKUP ...|   783120.00|     19|\n",
      "|StatenIsland|    Annadale|   THREE FAMILY DWEL...|   740000.00|     20|\n",
      "+------------+------------+-----------------------+------------+-------+\n",
      "only showing top 20 rows\n",
      "\n"
     ]
    }
   ],
   "source": [
    "RANKGroupSalesStatenIsland20032019 = GroupSalesStatenIsland20032019.withColumn(\"Ranking\", rank().over(windowSpec))\n",
    "RANKGroupSalesStatenIsland20032019.show()"
   ]
  },
  {
   "cell_type": "code",
   "execution_count": 362,
   "id": "a5d484af",
   "metadata": {},
   "outputs": [
    {
     "name": "stdout",
     "output_type": "stream",
     "text": [
      "+------------+-------------------------+------------------------------+-------------+-------+\n",
      "|     Borough|             Neighborhood|       Building Class Category|   Sale Price|Ranking|\n",
      "+------------+-------------------------+------------------------------+-------------+-------+\n",
      "|StatenIsland|                 Annadale|              ONE FAMILY HOMES| 395608732.00|      1|\n",
      "|StatenIsland|            Arden heights|              ONE FAMILY HOMES| 605568884.00|      1|\n",
      "|StatenIsland|                 Arrochar|              ONE FAMILY HOMES|  82237152.00|      1|\n",
      "|StatenIsland|     Arrochar-shore acres|              ONE FAMILY HOMES|  27022114.00|      1|\n",
      "|StatenIsland|               Bloomfield|        COMMERCIAL VACANT LAND| 297981760.00|      1|\n",
      "|StatenIsland|               Bulls head|              ONE FAMILY HOMES| 331800056.00|      1|\n",
      "|StatenIsland|        Castleton corners|              ONE FAMILY HOMES| 305050051.00|      1|\n",
      "|StatenIsland|              Clove lakes|              ONE FAMILY HOMES| 213263292.00|      1|\n",
      "|StatenIsland|                  Concord|              ONE FAMILY HOMES| 170008305.00|      1|\n",
      "|StatenIsland|        Concord-fox hills|              ONE FAMILY HOMES|  82298444.00|      1|\n",
      "|StatenIsland|             Dongan hills|              ONE FAMILY HOMES| 162116515.00|      1|\n",
      "|StatenIsland|      Dongan hills-colony|              ONE FAMILY HOMES| 166692101.00|      1|\n",
      "|StatenIsland|    Dongan hills-old town|              ONE FAMILY HOMES|   8154981.00|      1|\n",
      "|StatenIsland|              Eltingville|              ONE FAMILY HOMES| 659273557.00|      1|\n",
      "|StatenIsland|             Emerson hill|              ONE FAMILY HOMES|  75719629.00|      1|\n",
      "|StatenIsland|              Fresh kills|            COMMERCIAL GARAGES|   4400000.00|      1|\n",
      "|StatenIsland|               Grant city|              ONE FAMILY HOMES| 198730713.00|      1|\n",
      "|StatenIsland|                 Grasmere|              ONE FAMILY HOMES| 183958800.00|      1|\n",
      "|StatenIsland|              Great kills|              ONE FAMILY HOMES|1283228296.00|      1|\n",
      "|StatenIsland|  Great kills-bay terrace|              ONE FAMILY HOMES| 103492164.00|      1|\n",
      "|StatenIsland|              Grymes hill|              ONE FAMILY HOMES| 115305903.00|      1|\n",
      "|StatenIsland|                 Huguenot|              ONE FAMILY HOMES| 285430381.00|      1|\n",
      "|StatenIsland|               Livingston|              ONE FAMILY HOMES|  62469232.00|      1|\n",
      "|StatenIsland|            Manor heights|              ONE FAMILY HOMES| 267560032.00|      1|\n",
      "|StatenIsland|          Mariners harbor|              ONE FAMILY HOMES| 411875409.00|      1|\n",
      "|StatenIsland|            Midland beach|              ONE FAMILY HOMES| 456406908.00|      1|\n",
      "|StatenIsland|             New brighton|              TWO FAMILY HOMES| 234963032.00|      1|\n",
      "|StatenIsland|  New brighton-st. george|  CONDOS - ELEVATOR APARTMENTS| 118109152.00|      1|\n",
      "|StatenIsland|                 New dorp|              ONE FAMILY HOMES| 289077164.00|      1|\n",
      "|StatenIsland|           New dorp-beach|              ONE FAMILY HOMES| 145064148.00|      1|\n",
      "|StatenIsland|         New dorp-heights|              ONE FAMILY HOMES| 161440506.00|      1|\n",
      "|StatenIsland|          New springville|            TAX CLASS 1 CONDOS| 405848704.00|      1|\n",
      "|StatenIsland|                  Oakwood|              ONE FAMILY HOMES| 152755432.00|      1|\n",
      "|StatenIsland|            Oakwood-beach|          ONE FAMILY DWELLINGS| 184470305.00|      1|\n",
      "|StatenIsland|          Pleasant plains|              ONE FAMILY HOMES| 130069148.00|      1|\n",
      "|StatenIsland|               Port ivory|              ONE FAMILY HOMES|  61890363.00|      1|\n",
      "|StatenIsland|            Port richmond|              ONE FAMILY HOMES| 256356593.00|      1|\n",
      "|StatenIsland|              Princes bay|              ONE FAMILY HOMES| 293240665.00|      1|\n",
      "|StatenIsland|             Richmondtown|              ONE FAMILY HOMES| 252913691.00|      1|\n",
      "|StatenIsland|Richmondtown-lighths hill|              ONE FAMILY HOMES|  51564999.00|      1|\n",
      "|StatenIsland|                 Rosebank|              ONE FAMILY HOMES| 290459129.00|      1|\n",
      "|StatenIsland|                Rossville|              ONE FAMILY HOMES| 249203239.00|      1|\n",
      "|StatenIsland|     Rossville-charleston|              ONE FAMILY HOMES| 167428124.00|      1|\n",
      "|StatenIsland|     Rossville-port mobil|                     FACTORIES|  38630000.00|      1|\n",
      "|StatenIsland|Rossville-richmond valley|        COMMERCIAL VACANT LAND|  43368078.00|      1|\n",
      "|StatenIsland|              Silver lake|              ONE FAMILY HOMES| 137505553.00|      1|\n",
      "|StatenIsland|              South beach|              ONE FAMILY HOMES| 418264370.00|      1|\n",
      "|StatenIsland|                Stapleton|              ONE FAMILY HOMES| 120067599.00|      1|\n",
      "|StatenIsland|        Stapleton-clifton|              ONE FAMILY HOMES|  76516167.00|      1|\n",
      "|StatenIsland|    Staten island-unknown|SELECTED GOVERNMENTAL FACIL...|   7410000.00|      1|\n",
      "|StatenIsland|                Sunnyside|              ONE FAMILY HOMES|  90149863.00|      1|\n",
      "|StatenIsland|                Todt hill|              ONE FAMILY HOMES| 325116512.00|      1|\n",
      "|StatenIsland|            Tompkinsville|              ONE FAMILY HOMES|  61467040.00|      1|\n",
      "|StatenIsland|              Tottenville|              ONE FAMILY HOMES| 494557053.00|      1|\n",
      "|StatenIsland|                   Travis|              ONE FAMILY HOMES| 179713581.00|      1|\n",
      "|StatenIsland|        West new brighton|              ONE FAMILY HOMES| 395559627.00|      1|\n",
      "|StatenIsland|              Westerleigh|              ONE FAMILY HOMES| 360615132.00|      1|\n",
      "|StatenIsland|              Willowbrook|              ONE FAMILY HOMES| 280461767.00|      1|\n",
      "|StatenIsland|      Willowbrook-seaview|OUTDOOR RECREATIONAL FACILI...|   6000000.00|      1|\n",
      "|StatenIsland|                  Woodrow|              ONE FAMILY HOMES| 298963145.00|      1|\n",
      "+------------+-------------------------+------------------------------+-------------+-------+\n",
      "\n"
     ]
    }
   ],
   "source": [
    "RANKGroupSalesStatenIsland20032019.filter(RANKGroupSalesStatenIsland20032019[\"Ranking\"] ==1).show(100,30)"
   ]
  },
  {
   "cell_type": "code",
   "execution_count": 363,
   "id": "65abe295",
   "metadata": {},
   "outputs": [
    {
     "name": "stdout",
     "output_type": "stream",
     "text": [
      "+------------+------------+-----------------------+------------+---------+\n",
      "|     Borough|Neighborhood|Building Class Category|  Sale Price|DenseRank|\n",
      "+------------+------------+-----------------------+------------+---------+\n",
      "|StatenIsland|    Annadale|       ONE FAMILY HOMES|395608732.00|        1|\n",
      "|StatenIsland|    Annadale|       TWO FAMILY HOMES|197223495.00|        2|\n",
      "|StatenIsland|    Annadale|   ONE FAMILY DWELLINGS|169841780.00|        3|\n",
      "|StatenIsland|    Annadale|   ONE FAMILY DWELLINGS|158128442.00|        4|\n",
      "|StatenIsland|    Annadale|   TWO FAMILY DWELLINGS|116126393.00|        5|\n",
      "|StatenIsland|    Annadale|   TWO FAMILY DWELLINGS|104829803.00|        6|\n",
      "|StatenIsland|    Annadale|   TAX CLASS 1 VACAN...| 54773885.00|        7|\n",
      "|StatenIsland|    Annadale|   TAX CLASS 1 VACAN...| 16150536.00|        8|\n",
      "|StatenIsland|    Annadale|       OFFICE BUILDINGS|  7973258.00|        9|\n",
      "|StatenIsland|    Annadale|     COMMERCIAL GARAGES|  4711000.00|       10|\n",
      "|StatenIsland|    Annadale|        STORE BUILDINGS|  4550000.00|       11|\n",
      "|StatenIsland|    Annadale|        STORE BUILDINGS|  3813760.00|       12|\n",
      "|StatenIsland|    Annadale|     TAX CLASS 1 CONDOS|  2694490.00|       13|\n",
      "|StatenIsland|    Annadale|       OFFICE BUILDINGS|  2094327.00|       14|\n",
      "|StatenIsland|    Annadale|   OUTDOOR RECREATIO...|  1500000.00|       15|\n",
      "|StatenIsland|    Annadale|    TAX CLASS 1 - OTHER|  1360885.00|       16|\n",
      "|StatenIsland|    Annadale|   COMMERCIAL VACANT...|  1190000.00|       17|\n",
      "|StatenIsland|    Annadale|   CONDO STORE BUILD...|   930000.00|       18|\n",
      "|StatenIsland|    Annadale|   RENTALS - WALKUP ...|   783120.00|       19|\n",
      "|StatenIsland|    Annadale|   THREE FAMILY DWEL...|   740000.00|       20|\n",
      "+------------+------------+-----------------------+------------+---------+\n",
      "only showing top 20 rows\n",
      "\n"
     ]
    }
   ],
   "source": [
    "DENSERANKGroupSalesStatenIsland20032019 = GroupSalesStatenIsland20032019.withColumn(\"DenseRank\", dense_rank().over(windowSpec))\n",
    "DENSERANKGroupSalesStatenIsland20032019.show()"
   ]
  },
  {
   "cell_type": "code",
   "execution_count": 364,
   "id": "d27e3a67",
   "metadata": {},
   "outputs": [
    {
     "name": "stdout",
     "output_type": "stream",
     "text": [
      "+------------+-------------------------+------------------------------+-------------+---------+\n",
      "|     Borough|             Neighborhood|       Building Class Category|   Sale Price|DenseRank|\n",
      "+------------+-------------------------+------------------------------+-------------+---------+\n",
      "|StatenIsland|                 Annadale|              ONE FAMILY HOMES| 395608732.00|        1|\n",
      "|StatenIsland|            Arden heights|              ONE FAMILY HOMES| 605568884.00|        1|\n",
      "|StatenIsland|                 Arrochar|              ONE FAMILY HOMES|  82237152.00|        1|\n",
      "|StatenIsland|     Arrochar-shore acres|              ONE FAMILY HOMES|  27022114.00|        1|\n",
      "|StatenIsland|               Bloomfield|        COMMERCIAL VACANT LAND| 297981760.00|        1|\n",
      "|StatenIsland|               Bulls head|              ONE FAMILY HOMES| 331800056.00|        1|\n",
      "|StatenIsland|        Castleton corners|              ONE FAMILY HOMES| 305050051.00|        1|\n",
      "|StatenIsland|              Clove lakes|              ONE FAMILY HOMES| 213263292.00|        1|\n",
      "|StatenIsland|                  Concord|              ONE FAMILY HOMES| 170008305.00|        1|\n",
      "|StatenIsland|        Concord-fox hills|              ONE FAMILY HOMES|  82298444.00|        1|\n",
      "|StatenIsland|             Dongan hills|              ONE FAMILY HOMES| 162116515.00|        1|\n",
      "|StatenIsland|      Dongan hills-colony|              ONE FAMILY HOMES| 166692101.00|        1|\n",
      "|StatenIsland|    Dongan hills-old town|              ONE FAMILY HOMES|   8154981.00|        1|\n",
      "|StatenIsland|              Eltingville|              ONE FAMILY HOMES| 659273557.00|        1|\n",
      "|StatenIsland|             Emerson hill|              ONE FAMILY HOMES|  75719629.00|        1|\n",
      "|StatenIsland|              Fresh kills|            COMMERCIAL GARAGES|   4400000.00|        1|\n",
      "|StatenIsland|               Grant city|              ONE FAMILY HOMES| 198730713.00|        1|\n",
      "|StatenIsland|                 Grasmere|              ONE FAMILY HOMES| 183958800.00|        1|\n",
      "|StatenIsland|              Great kills|              ONE FAMILY HOMES|1283228296.00|        1|\n",
      "|StatenIsland|  Great kills-bay terrace|              ONE FAMILY HOMES| 103492164.00|        1|\n",
      "|StatenIsland|              Grymes hill|              ONE FAMILY HOMES| 115305903.00|        1|\n",
      "|StatenIsland|                 Huguenot|              ONE FAMILY HOMES| 285430381.00|        1|\n",
      "|StatenIsland|               Livingston|              ONE FAMILY HOMES|  62469232.00|        1|\n",
      "|StatenIsland|            Manor heights|              ONE FAMILY HOMES| 267560032.00|        1|\n",
      "|StatenIsland|          Mariners harbor|              ONE FAMILY HOMES| 411875409.00|        1|\n",
      "|StatenIsland|            Midland beach|              ONE FAMILY HOMES| 456406908.00|        1|\n",
      "|StatenIsland|             New brighton|              TWO FAMILY HOMES| 234963032.00|        1|\n",
      "|StatenIsland|  New brighton-st. george|  CONDOS - ELEVATOR APARTMENTS| 118109152.00|        1|\n",
      "|StatenIsland|                 New dorp|              ONE FAMILY HOMES| 289077164.00|        1|\n",
      "|StatenIsland|           New dorp-beach|              ONE FAMILY HOMES| 145064148.00|        1|\n",
      "|StatenIsland|         New dorp-heights|              ONE FAMILY HOMES| 161440506.00|        1|\n",
      "|StatenIsland|          New springville|            TAX CLASS 1 CONDOS| 405848704.00|        1|\n",
      "|StatenIsland|                  Oakwood|              ONE FAMILY HOMES| 152755432.00|        1|\n",
      "|StatenIsland|            Oakwood-beach|          ONE FAMILY DWELLINGS| 184470305.00|        1|\n",
      "|StatenIsland|          Pleasant plains|              ONE FAMILY HOMES| 130069148.00|        1|\n",
      "|StatenIsland|               Port ivory|              ONE FAMILY HOMES|  61890363.00|        1|\n",
      "|StatenIsland|            Port richmond|              ONE FAMILY HOMES| 256356593.00|        1|\n",
      "|StatenIsland|              Princes bay|              ONE FAMILY HOMES| 293240665.00|        1|\n",
      "|StatenIsland|             Richmondtown|              ONE FAMILY HOMES| 252913691.00|        1|\n",
      "|StatenIsland|Richmondtown-lighths hill|              ONE FAMILY HOMES|  51564999.00|        1|\n",
      "|StatenIsland|                 Rosebank|              ONE FAMILY HOMES| 290459129.00|        1|\n",
      "|StatenIsland|                Rossville|              ONE FAMILY HOMES| 249203239.00|        1|\n",
      "|StatenIsland|     Rossville-charleston|              ONE FAMILY HOMES| 167428124.00|        1|\n",
      "|StatenIsland|     Rossville-port mobil|                     FACTORIES|  38630000.00|        1|\n",
      "|StatenIsland|Rossville-richmond valley|        COMMERCIAL VACANT LAND|  43368078.00|        1|\n",
      "|StatenIsland|              Silver lake|              ONE FAMILY HOMES| 137505553.00|        1|\n",
      "|StatenIsland|              South beach|              ONE FAMILY HOMES| 418264370.00|        1|\n",
      "|StatenIsland|                Stapleton|              ONE FAMILY HOMES| 120067599.00|        1|\n",
      "|StatenIsland|        Stapleton-clifton|              ONE FAMILY HOMES|  76516167.00|        1|\n",
      "|StatenIsland|    Staten island-unknown|SELECTED GOVERNMENTAL FACIL...|   7410000.00|        1|\n",
      "|StatenIsland|                Sunnyside|              ONE FAMILY HOMES|  90149863.00|        1|\n",
      "|StatenIsland|                Todt hill|              ONE FAMILY HOMES| 325116512.00|        1|\n",
      "|StatenIsland|            Tompkinsville|              ONE FAMILY HOMES|  61467040.00|        1|\n",
      "|StatenIsland|              Tottenville|              ONE FAMILY HOMES| 494557053.00|        1|\n",
      "|StatenIsland|                   Travis|              ONE FAMILY HOMES| 179713581.00|        1|\n",
      "|StatenIsland|        West new brighton|              ONE FAMILY HOMES| 395559627.00|        1|\n",
      "|StatenIsland|              Westerleigh|              ONE FAMILY HOMES| 360615132.00|        1|\n",
      "|StatenIsland|              Willowbrook|              ONE FAMILY HOMES| 280461767.00|        1|\n",
      "|StatenIsland|      Willowbrook-seaview|OUTDOOR RECREATIONAL FACILI...|   6000000.00|        1|\n",
      "|StatenIsland|                  Woodrow|              ONE FAMILY HOMES| 298963145.00|        1|\n",
      "+------------+-------------------------+------------------------------+-------------+---------+\n",
      "\n"
     ]
    }
   ],
   "source": [
    "DENSERANKGroupSalesStatenIsland20032019.filter(DENSERANKGroupSalesStatenIsland20032019[\"DenseRank\"]==1).show(100,30)"
   ]
  },
  {
   "cell_type": "code",
   "execution_count": 365,
   "id": "909677c7",
   "metadata": {},
   "outputs": [
    {
     "name": "stdout",
     "output_type": "stream",
     "text": [
      "+------------+------------+-----------------------+------------+------------------+\n",
      "|     Borough|Neighborhood|Building Class Category|  Sale Price|       PercentRank|\n",
      "+------------+------------+-----------------------+------------+------------------+\n",
      "|StatenIsland|    Annadale|       ONE FAMILY HOMES|395608732.00|               0.0|\n",
      "|StatenIsland|    Annadale|       TWO FAMILY HOMES|197223495.00|               4.0|\n",
      "|StatenIsland|    Annadale|   ONE FAMILY DWELLINGS|169841780.00|               8.0|\n",
      "|StatenIsland|    Annadale|   ONE FAMILY DWELLINGS|158128442.00|              12.0|\n",
      "|StatenIsland|    Annadale|   TWO FAMILY DWELLINGS|116126393.00|              16.0|\n",
      "|StatenIsland|    Annadale|   TWO FAMILY DWELLINGS|104829803.00|              20.0|\n",
      "|StatenIsland|    Annadale|   TAX CLASS 1 VACAN...| 54773885.00|              24.0|\n",
      "|StatenIsland|    Annadale|   TAX CLASS 1 VACAN...| 16150536.00|28.000000000000004|\n",
      "|StatenIsland|    Annadale|       OFFICE BUILDINGS|  7973258.00|              32.0|\n",
      "|StatenIsland|    Annadale|     COMMERCIAL GARAGES|  4711000.00|              36.0|\n",
      "|StatenIsland|    Annadale|        STORE BUILDINGS|  4550000.00|              40.0|\n",
      "|StatenIsland|    Annadale|        STORE BUILDINGS|  3813760.00|              44.0|\n",
      "|StatenIsland|    Annadale|     TAX CLASS 1 CONDOS|  2694490.00|              48.0|\n",
      "|StatenIsland|    Annadale|       OFFICE BUILDINGS|  2094327.00|              52.0|\n",
      "|StatenIsland|    Annadale|   OUTDOOR RECREATIO...|  1500000.00| 56.00000000000001|\n",
      "|StatenIsland|    Annadale|    TAX CLASS 1 - OTHER|  1360885.00|              60.0|\n",
      "|StatenIsland|    Annadale|   COMMERCIAL VACANT...|  1190000.00|              64.0|\n",
      "|StatenIsland|    Annadale|   CONDO STORE BUILD...|   930000.00|              68.0|\n",
      "|StatenIsland|    Annadale|   RENTALS - WALKUP ...|   783120.00|              72.0|\n",
      "|StatenIsland|    Annadale|   THREE FAMILY DWEL...|   740000.00|              76.0|\n",
      "+------------+------------+-----------------------+------------+------------------+\n",
      "only showing top 20 rows\n",
      "\n"
     ]
    }
   ],
   "source": [
    "PercentRankGroupSalesStatenIsland20032019 = GroupSalesStatenIsland20032019.withColumn(\"PercentRank\",\n",
    "                                                                                      percent_rank().over(windowSpec))\n",
    "PercentRankGroupSalesStatenIsland20032019 = PercentRankGroupSalesStatenIsland20032019.withColumn(\"PercentRank\",\n",
    "                                                                                        round(col(\"PercentRank\"),2) * 100)\n",
    "PercentRankGroupSalesStatenIsland20032019.show()"
   ]
  },
  {
   "cell_type": "code",
   "execution_count": 366,
   "id": "5034eb39",
   "metadata": {},
   "outputs": [
    {
     "name": "stdout",
     "output_type": "stream",
     "text": [
      "+------------+------------+-----------------------+------------+--------------+\n",
      "|     Borough|Neighborhood|Building Class Category|  Sale Price|Grouping Sales|\n",
      "+------------+------------+-----------------------+------------+--------------+\n",
      "|StatenIsland|    Annadale|       ONE FAMILY HOMES|395608732.00|             1|\n",
      "|StatenIsland|    Annadale|       TWO FAMILY HOMES|197223495.00|             1|\n",
      "|StatenIsland|    Annadale|   ONE FAMILY DWELLINGS|169841780.00|             1|\n",
      "|StatenIsland|    Annadale|   ONE FAMILY DWELLINGS|158128442.00|             1|\n",
      "|StatenIsland|    Annadale|   TWO FAMILY DWELLINGS|116126393.00|             1|\n",
      "|StatenIsland|    Annadale|   TWO FAMILY DWELLINGS|104829803.00|             1|\n",
      "|StatenIsland|    Annadale|   TAX CLASS 1 VACAN...| 54773885.00|             1|\n",
      "|StatenIsland|    Annadale|   TAX CLASS 1 VACAN...| 16150536.00|             2|\n",
      "|StatenIsland|    Annadale|       OFFICE BUILDINGS|  7973258.00|             2|\n",
      "|StatenIsland|    Annadale|     COMMERCIAL GARAGES|  4711000.00|             2|\n",
      "|StatenIsland|    Annadale|        STORE BUILDINGS|  4550000.00|             2|\n",
      "|StatenIsland|    Annadale|        STORE BUILDINGS|  3813760.00|             2|\n",
      "|StatenIsland|    Annadale|     TAX CLASS 1 CONDOS|  2694490.00|             2|\n",
      "|StatenIsland|    Annadale|       OFFICE BUILDINGS|  2094327.00|             2|\n",
      "|StatenIsland|    Annadale|   OUTDOOR RECREATIO...|  1500000.00|             3|\n",
      "|StatenIsland|    Annadale|    TAX CLASS 1 - OTHER|  1360885.00|             3|\n",
      "|StatenIsland|    Annadale|   COMMERCIAL VACANT...|  1190000.00|             3|\n",
      "|StatenIsland|    Annadale|   CONDO STORE BUILD...|   930000.00|             3|\n",
      "|StatenIsland|    Annadale|   RENTALS - WALKUP ...|   783120.00|             3|\n",
      "|StatenIsland|    Annadale|   THREE FAMILY DWEL...|   740000.00|             3|\n",
      "+------------+------------+-----------------------+------------+--------------+\n",
      "only showing top 20 rows\n",
      "\n"
     ]
    }
   ],
   "source": [
    "GroupingGroupSalesStatenIsland20032019 = GroupSalesStatenIsland20032019.withColumn(\"Grouping Sales\", ntile(4).over(windowSpec))\n",
    "GroupingGroupSalesStatenIsland20032019.show()"
   ]
  },
  {
   "cell_type": "code",
   "execution_count": 367,
   "id": "6d3eb1a8",
   "metadata": {},
   "outputs": [
    {
     "name": "stdout",
     "output_type": "stream",
     "text": [
      "+------------+--------------------+-----------------------+------------+--------------+\n",
      "|     Borough|        Neighborhood|Building Class Category|  Sale Price|Grouping Sales|\n",
      "+------------+--------------------+-----------------------+------------+--------------+\n",
      "|StatenIsland|            Annadale|       ONE FAMILY HOMES|395608732.00|             1|\n",
      "|StatenIsland|            Annadale|       TWO FAMILY HOMES|197223495.00|             1|\n",
      "|StatenIsland|            Annadale|   ONE FAMILY DWELLINGS|169841780.00|             1|\n",
      "|StatenIsland|            Annadale|   ONE FAMILY DWELLINGS|158128442.00|             1|\n",
      "|StatenIsland|            Annadale|   TWO FAMILY DWELLINGS|116126393.00|             1|\n",
      "|StatenIsland|            Annadale|   TWO FAMILY DWELLINGS|104829803.00|             1|\n",
      "|StatenIsland|            Annadale|   TAX CLASS 1 VACAN...| 54773885.00|             1|\n",
      "|StatenIsland|       Arden heights|       ONE FAMILY HOMES|605568884.00|             1|\n",
      "|StatenIsland|       Arden heights|   ONE FAMILY DWELLINGS|257577320.00|             1|\n",
      "|StatenIsland|       Arden heights|   ONE FAMILY DWELLINGS|219726958.00|             1|\n",
      "|StatenIsland|       Arden heights|       TWO FAMILY HOMES| 84100328.00|             1|\n",
      "|StatenIsland|       Arden heights|     TAX CLASS 1 CONDOS| 69497856.00|             1|\n",
      "|StatenIsland|            Arrochar|       ONE FAMILY HOMES| 82237152.00|             1|\n",
      "|StatenIsland|            Arrochar|   ONE FAMILY DWELLINGS| 27407798.00|             1|\n",
      "|StatenIsland|            Arrochar|   ONE FAMILY DWELLINGS| 27267503.00|             1|\n",
      "|StatenIsland|            Arrochar|       TWO FAMILY HOMES| 25001534.00|             1|\n",
      "|StatenIsland|            Arrochar|   EDUCATIONAL FACIL...| 20000000.00|             1|\n",
      "|StatenIsland|            Arrochar|   TWO FAMILY DWELLINGS|  9417273.00|             1|\n",
      "|StatenIsland|            Arrochar|   TWO FAMILY DWELLINGS|  8364100.00|             1|\n",
      "|StatenIsland|Arrochar-shore acres|       ONE FAMILY HOMES| 27022114.00|             1|\n",
      "+------------+--------------------+-----------------------+------------+--------------+\n",
      "only showing top 20 rows\n",
      "\n"
     ]
    }
   ],
   "source": [
    "GroupingGroupSalesStatenIsland20032019.filter(GroupingGroupSalesStatenIsland20032019[\"Grouping Sales\"] == 1).show()"
   ]
  },
  {
   "cell_type": "code",
   "execution_count": 368,
   "id": "5d61d133",
   "metadata": {},
   "outputs": [
    {
     "name": "stdout",
     "output_type": "stream",
     "text": [
      "+------------+--------------------+-----------------------+----------+--------------+\n",
      "|     Borough|        Neighborhood|Building Class Category|Sale Price|Grouping Sales|\n",
      "+------------+--------------------+-----------------------+----------+--------------+\n",
      "|StatenIsland|            Annadale|     THREE FAMILY HOMES| 540000.00|             4|\n",
      "|StatenIsland|            Annadale|    TAX CLASS 1 - OTHER| 530000.00|             4|\n",
      "|StatenIsland|            Annadale|   RENTALS - WALKUP ...| 525000.00|             4|\n",
      "|StatenIsland|            Annadale|      COMMERCIAL CONDOS| 450000.00|             4|\n",
      "|StatenIsland|            Annadale|    TAX CLASS 4 - OTHER| 414000.00|             4|\n",
      "|StatenIsland|            Annadale|   HOSPITAL AND HEAL...|      0.00|             4|\n",
      "|StatenIsland|       Arden heights|     THREE FAMILY HOMES|      0.00|             4|\n",
      "|StatenIsland|       Arden heights|             WAREHOUSES|      0.00|             4|\n",
      "|StatenIsland|       Arden heights|    TAX CLASS 1 - OTHER|      0.00|             4|\n",
      "|StatenIsland|       Arden heights|   RENTALS - WALKUP ...|      0.00|             4|\n",
      "|StatenIsland|            Arrochar|   TAX CLASS 1 VACAN...|      0.00|             4|\n",
      "|StatenIsland|            Arrochar|   COMMERCIAL VACANT...|      0.00|             4|\n",
      "|StatenIsland|            Arrochar|   THREE FAMILY DWEL...|      0.00|             4|\n",
      "|StatenIsland|            Arrochar|    TAX CLASS 1 - OTHER|      0.00|             4|\n",
      "|StatenIsland|            Arrochar|     COMMERCIAL GARAGES|      0.00|             4|\n",
      "|StatenIsland|            Arrochar|   EDUCATIONAL FACIL...|      0.00|             4|\n",
      "|StatenIsland|Arrochar-shore acres|    TAX CLASS 1 - OTHER|      0.00|             4|\n",
      "|StatenIsland|Arrochar-shore acres|   COMMERCIAL VACANT...|      0.00|             4|\n",
      "|StatenIsland|Arrochar-shore acres|   CONDO OFFICE BUIL...|      0.00|             4|\n",
      "|StatenIsland|Arrochar-shore acres|   THREE FAMILY DWEL...|      0.00|             4|\n",
      "+------------+--------------------+-----------------------+----------+--------------+\n",
      "only showing top 20 rows\n",
      "\n"
     ]
    }
   ],
   "source": [
    "GroupingGroupSalesStatenIsland20032019.filter(GroupingGroupSalesStatenIsland20032019[\"Grouping Sales\"] == 4).show()"
   ]
  },
  {
   "cell_type": "code",
   "execution_count": 369,
   "id": "337dc06f",
   "metadata": {},
   "outputs": [
    {
     "name": "stdout",
     "output_type": "stream",
     "text": [
      "+------------+------------+-----------------------+------------+--------------------+\n",
      "|     Borough|Neighborhood|Building Class Category|  Sale Price|            CumeDist|\n",
      "+------------+------------+-----------------------+------------+--------------------+\n",
      "|StatenIsland|    Annadale|       ONE FAMILY HOMES|395608732.00|0.038461538461538464|\n",
      "|StatenIsland|    Annadale|       TWO FAMILY HOMES|197223495.00| 0.07692307692307693|\n",
      "|StatenIsland|    Annadale|   ONE FAMILY DWELLINGS|169841780.00| 0.11538461538461539|\n",
      "|StatenIsland|    Annadale|   ONE FAMILY DWELLINGS|158128442.00| 0.15384615384615385|\n",
      "|StatenIsland|    Annadale|   TWO FAMILY DWELLINGS|116126393.00| 0.19230769230769232|\n",
      "|StatenIsland|    Annadale|   TWO FAMILY DWELLINGS|104829803.00| 0.23076923076923078|\n",
      "|StatenIsland|    Annadale|   TAX CLASS 1 VACAN...| 54773885.00|  0.2692307692307692|\n",
      "|StatenIsland|    Annadale|   TAX CLASS 1 VACAN...| 16150536.00|  0.3076923076923077|\n",
      "|StatenIsland|    Annadale|       OFFICE BUILDINGS|  7973258.00| 0.34615384615384615|\n",
      "|StatenIsland|    Annadale|     COMMERCIAL GARAGES|  4711000.00| 0.38461538461538464|\n",
      "|StatenIsland|    Annadale|        STORE BUILDINGS|  4550000.00|  0.4230769230769231|\n",
      "|StatenIsland|    Annadale|        STORE BUILDINGS|  3813760.00| 0.46153846153846156|\n",
      "|StatenIsland|    Annadale|     TAX CLASS 1 CONDOS|  2694490.00|                 0.5|\n",
      "|StatenIsland|    Annadale|       OFFICE BUILDINGS|  2094327.00|  0.5384615384615384|\n",
      "|StatenIsland|    Annadale|   OUTDOOR RECREATIO...|  1500000.00|  0.5769230769230769|\n",
      "|StatenIsland|    Annadale|    TAX CLASS 1 - OTHER|  1360885.00|  0.6153846153846154|\n",
      "|StatenIsland|    Annadale|   COMMERCIAL VACANT...|  1190000.00|  0.6538461538461539|\n",
      "|StatenIsland|    Annadale|   CONDO STORE BUILD...|   930000.00|  0.6923076923076923|\n",
      "|StatenIsland|    Annadale|   RENTALS - WALKUP ...|   783120.00|  0.7307692307692307|\n",
      "|StatenIsland|    Annadale|   THREE FAMILY DWEL...|   740000.00|  0.7692307692307693|\n",
      "+------------+------------+-----------------------+------------+--------------------+\n",
      "only showing top 20 rows\n",
      "\n"
     ]
    }
   ],
   "source": [
    "CUMEDISTGroupSalesStatenIsland20032019 = GroupSalesStatenIsland20032019.withColumn(\"CumeDist\", cume_dist().over(windowSpec))\n",
    "CUMEDISTGroupSalesStatenIsland20032019.withColumn(\"CumeDist\", round(col(\"CumeDist\"),2) * 100)\n",
    "CUMEDISTGroupSalesStatenIsland20032019.show()\n"
   ]
  },
  {
   "cell_type": "markdown",
   "id": "1e72ef4b",
   "metadata": {},
   "source": [
    "#### Analytic functions lag & lead"
   ]
  },
  {
   "cell_type": "code",
   "execution_count": 370,
   "id": "fe49fb75",
   "metadata": {},
   "outputs": [
    {
     "name": "stdout",
     "output_type": "stream",
     "text": [
      "+------------+--------------------+-----------------------+-------------------------+----------+----------+\n",
      "|     Borough|        Neighborhood|Building Class Category|Building Class At Present|Sale Price| Sale Date|\n",
      "+------------+--------------------+-----------------------+-------------------------+----------+----------+\n",
      "|StatenIsland|ARDEN HEIGHTS    ...|   01  ONE FAMILY HO...|                       A5|      0.00|2003-07-28|\n",
      "|StatenIsland|ARDEN HEIGHTS    ...|   01  ONE FAMILY HO...|                       A5| 160000.00|2003-01-17|\n",
      "|StatenIsland|ARROCHAR-SHORE AC...|   02  TWO FAMILY HO...|                       B2|      0.00|2003-03-11|\n",
      "|StatenIsland|ARROCHAR-SHORE AC...|   13  CONDOS - ELEV...|                       R4| 180000.00|2003-05-02|\n",
      "|StatenIsland|BULLS HEAD       ...|   01  ONE FAMILY HO...|                       A5|      0.00|2003-04-18|\n",
      "|StatenIsland|BULLS HEAD       ...|   02  TWO FAMILY HO...|                       B2|      0.00|2003-08-07|\n",
      "|StatenIsland|BULLS HEAD       ...|   04  TAX CLASS 1 C...|                       R3|   2000.00|2003-10-04|\n",
      "|StatenIsland|CLOVE LAKES      ...|   21  OFFICE BUILDI...|                       K2| 425000.00|2003-10-03|\n",
      "|StatenIsland|CONCORD          ...|   01  ONE FAMILY HO...|                       A2|      0.00|2003-04-25|\n",
      "|StatenIsland|CONCORD-FOX HILLS...|   01  ONE FAMILY HO...|                       A5| 233220.00|2003-10-10|\n",
      "|StatenIsland|DONGAN HILLS-COLO...|   01  ONE FAMILY HO...|                       V0|      0.00|2003-07-25|\n",
      "|StatenIsland|ELTINGVILLE      ...|   01  ONE FAMILY HO...|                       A2|      0.00|2003-10-17|\n",
      "|StatenIsland|ELTINGVILLE      ...|   01  ONE FAMILY HO...|                       A1| 450000.00|2003-12-16|\n",
      "|StatenIsland|ELTINGVILLE      ...|   01  ONE FAMILY HO...|                       A5| 575000.00|2003-07-23|\n",
      "|StatenIsland|ELTINGVILLE      ...|   02  TWO FAMILY HO...|                       B2| 106134.00|2003-08-08|\n",
      "|StatenIsland|ELTINGVILLE      ...|   02  TWO FAMILY HO...|                       B9|      0.00|2003-04-17|\n",
      "|StatenIsland|GRANT CITY       ...|   01  ONE FAMILY HO...|                       A1| 120000.00|2003-11-03|\n",
      "|StatenIsland|GRASMERE         ...|   01  ONE FAMILY HO...|                       A2| 217000.00|2003-04-24|\n",
      "|StatenIsland|GREAT KILLS      ...|   01  ONE FAMILY HO...|                       A5|      0.00|2003-05-16|\n",
      "|StatenIsland|GREAT KILLS      ...|   01  ONE FAMILY HO...|                       A2| 435000.00|2003-05-24|\n",
      "+------------+--------------------+-----------------------+-------------------------+----------+----------+\n",
      "only showing top 20 rows\n",
      "\n"
     ]
    }
   ],
   "source": [
    "SelColdfStatenIsland20032019.show()"
   ]
  },
  {
   "cell_type": "code",
   "execution_count": 371,
   "id": "c43c3033",
   "metadata": {},
   "outputs": [
    {
     "name": "stdout",
     "output_type": "stream",
     "text": [
      "+------------+--------------+-------------+----------+\n",
      "|     Borough|Month Of Sales|Year Of Sales|Sale Price|\n",
      "+------------+--------------+-------------+----------+\n",
      "|StatenIsland|             1|         2003|      0.00|\n",
      "|StatenIsland|             1|         2003| 325000.00|\n",
      "|StatenIsland|             1|         2003|      0.00|\n",
      "|StatenIsland|             1|         2003| 160000.00|\n",
      "|StatenIsland|             1|         2003| 247300.00|\n",
      "|StatenIsland|             1|         2003|      0.00|\n",
      "|StatenIsland|             1|         2003|      0.00|\n",
      "|StatenIsland|             1|         2003|      0.00|\n",
      "|StatenIsland|             1|         2003| 365000.00|\n",
      "|StatenIsland|             1|         2003|      0.00|\n",
      "|StatenIsland|             1|         2003|      0.00|\n",
      "|StatenIsland|             1|         2003| 359869.00|\n",
      "|StatenIsland|             1|         2003|      0.00|\n",
      "|StatenIsland|             1|         2003| 287318.00|\n",
      "|StatenIsland|             1|         2003| 450500.00|\n",
      "|StatenIsland|             1|         2003|      0.00|\n",
      "|StatenIsland|             1|         2003| 410000.00|\n",
      "|StatenIsland|             1|         2003|      0.00|\n",
      "|StatenIsland|             1|         2003|      0.00|\n",
      "|StatenIsland|             1|         2003|      0.00|\n",
      "+------------+--------------+-------------+----------+\n",
      "only showing top 20 rows\n",
      "\n"
     ]
    }
   ],
   "source": [
    "LAGLEADSelColdfStatenIsland20032019 = SelColdfStatenIsland20032019.withColumn(\"Year Of Sales\", year(col(\"Sale Date\"))) \\\n",
    "                                                          .withColumn(\"Month Of Sales\", month(col(\"Sale Date\")))\n",
    "LAGLEADSelColdfStatenIsland20032019 = LAGLEADSelColdfStatenIsland20032019.select(\"Borough\",\"Month Of Sales\",\n",
    "                                                                         \"Year Of Sales\",\n",
    "                                                                         \"Sale Price\")\n",
    "LAGLEADSelColdfStatenIsland20032019.orderBy(\"Month Of Sales\",\"Year Of Sales\").show()"
   ]
  },
  {
   "cell_type": "code",
   "execution_count": 372,
   "id": "66570eb1",
   "metadata": {},
   "outputs": [],
   "source": [
    "SumGroupByYear = LAGLEADSelColdfStatenIsland20032019.groupBy(\"Year of Sales\").sum(\"Sale Price\")\n",
    "SumGroupByYearMonth = LAGLEADSelColdfStatenIsland20032019.groupBy(\"Year of Sales\",\"Month Of Sales\").sum(\"Sale Price\")"
   ]
  },
  {
   "cell_type": "code",
   "execution_count": 373,
   "id": "e6f81b8d",
   "metadata": {},
   "outputs": [],
   "source": [
    "SumGroupByYear = SumGroupByYear.select(\"Year Of Sales\", col(\"sum(Sale Price)\").alias(\"Sale Price\"))"
   ]
  },
  {
   "cell_type": "code",
   "execution_count": 374,
   "id": "c7949dc6",
   "metadata": {},
   "outputs": [
    {
     "name": "stdout",
     "output_type": "stream",
     "text": [
      "+-------------+-------------+\n",
      "|Year Of Sales|   Sale Price|\n",
      "+-------------+-------------+\n",
      "|         2003|2963978184.00|\n",
      "|         2004|3838471266.00|\n",
      "|         2005|3521841046.00|\n",
      "|         2006|3090637723.00|\n",
      "|         2007|2757774261.00|\n",
      "|         2008|1884439046.00|\n",
      "|         2009|1590887472.00|\n",
      "|         2010|1593967356.00|\n",
      "|         2011|1214704231.00|\n",
      "|         2012|1509019775.00|\n",
      "|         2013|1975633450.00|\n",
      "|         2014|2198008384.00|\n",
      "|         2015|2570297185.00|\n",
      "|         2016|3149194608.00|\n",
      "|         2017|3495842201.00|\n",
      "|         2018|3657783409.00|\n",
      "|         2019|3214031331.00|\n",
      "+-------------+-------------+\n",
      "\n"
     ]
    }
   ],
   "source": [
    "SumGroupByYear = SumGroupByYear.orderBy(\"Year Of Sales\")\n",
    "SumGroupByYear.show()"
   ]
  },
  {
   "cell_type": "code",
   "execution_count": 375,
   "id": "b0857215",
   "metadata": {},
   "outputs": [
    {
     "name": "stdout",
     "output_type": "stream",
     "text": [
      "+-------------+-------------+-------------+-------------+-------------+--------------+\n",
      "|Year Of Sales|   Sale Price|          Lag|         Diff|         Lead|CummulativeSum|\n",
      "+-------------+-------------+-------------+-------------+-------------+--------------+\n",
      "|         2003|2963978184.00|         0.00|2963978184.00|3838471266.00| 2963978184.00|\n",
      "|         2004|3838471266.00|2963978184.00| 874493082.00|3521841046.00| 6802449450.00|\n",
      "|         2005|3521841046.00|3838471266.00|-316630220.00|3090637723.00|10324290496.00|\n",
      "|         2006|3090637723.00|3521841046.00|-431203323.00|2757774261.00|13414928219.00|\n",
      "|         2007|2757774261.00|3090637723.00|-332863462.00|1884439046.00|16172702480.00|\n",
      "|         2008|1884439046.00|2757774261.00|-873335215.00|1590887472.00|18057141526.00|\n",
      "|         2009|1590887472.00|1884439046.00|-293551574.00|1593967356.00|19648028998.00|\n",
      "|         2010|1593967356.00|1590887472.00|   3079884.00|1214704231.00|21241996354.00|\n",
      "|         2011|1214704231.00|1593967356.00|-379263125.00|1509019775.00|22456700585.00|\n",
      "|         2012|1509019775.00|1214704231.00| 294315544.00|1975633450.00|23965720360.00|\n",
      "|         2013|1975633450.00|1509019775.00| 466613675.00|2198008384.00|25941353810.00|\n",
      "|         2014|2198008384.00|1975633450.00| 222374934.00|2570297185.00|28139362194.00|\n",
      "|         2015|2570297185.00|2198008384.00| 372288801.00|3149194608.00|30709659379.00|\n",
      "|         2016|3149194608.00|2570297185.00| 578897423.00|3495842201.00|33858853987.00|\n",
      "|         2017|3495842201.00|3149194608.00| 346647593.00|3657783409.00|37354696188.00|\n",
      "|         2018|3657783409.00|3495842201.00| 161941208.00|3214031331.00|41012479597.00|\n",
      "|         2019|3214031331.00|3657783409.00|-443752078.00|         0.00|44226510928.00|\n",
      "+-------------+-------------+-------------+-------------+-------------+--------------+\n",
      "\n"
     ]
    }
   ],
   "source": [
    "windowSpec = Window.partitionBy().orderBy(\"Year Of Sales\")\n",
    "windowval = (Window.partitionBy().orderBy(\"Year Of Sales\").rangeBetween(Window.unboundedPreceding,0))\n",
    "\n",
    "SumGroupByYear = SumGroupByYear.withColumn(\"Lag\", lag(\"Sale Price\", offset=1, default=0).over(windowSpec))\n",
    "SumGroupByYear = SumGroupByYear.withColumn(\"Diff\", \n",
    "                                           when(isnull(SumGroupByYear[\"Sale Price\"] - SumGroupByYear[\"Lag\"]),0)\n",
    "                                           .otherwise(SumGroupByYear[\"Sale Price\"] - SumGroupByYear[\"Lag\"]))\n",
    "SumGroupByYear = SumGroupByYear.withColumn(\"Lead\", lead(\"Sale Price\", offset=1, default=0).over(windowSpec))\n",
    "SumGroupByYear = SumGroupByYear.withColumn(\"CummulativeSum\", sum(\"Sale Price\").over(windowval))\n",
    "\n",
    "SumGroupByYear.show()"
   ]
  },
  {
   "cell_type": "code",
   "execution_count": 376,
   "id": "020aa82f",
   "metadata": {},
   "outputs": [
    {
     "name": "stdout",
     "output_type": "stream",
     "text": [
      "+-------------+--------------+------------+--------------+\n",
      "|Year Of Sales|Month Of Sales|  Sale Price|CummulativeSum|\n",
      "+-------------+--------------+------------+--------------+\n",
      "|         2003|             1|262078780.00|  262078780.00|\n",
      "|         2003|             2|185706981.00|  447785761.00|\n",
      "|         2003|             3|249583124.00|  697368885.00|\n",
      "|         2003|             4|250308421.00|  947677306.00|\n",
      "|         2003|             5|215127550.00| 1162804856.00|\n",
      "|         2003|             6|237351972.00| 1400156828.00|\n",
      "|         2003|             7|283873847.00| 1684030675.00|\n",
      "|         2003|             8|254133548.00| 1938164223.00|\n",
      "|         2003|             9|265201792.00| 2203366015.00|\n",
      "|         2003|            10|272369132.00| 2475735147.00|\n",
      "|         2003|            11|226234363.00| 2701969510.00|\n",
      "|         2003|            12|262008674.00| 2963978184.00|\n",
      "|         2004|             1|338421429.00|  338421429.00|\n",
      "|         2004|             2|201834327.00|  540255756.00|\n",
      "|         2004|             3|268920217.00|  809175973.00|\n",
      "|         2004|             4|248708230.00| 1057884203.00|\n",
      "|         2004|             5|292400377.00| 1350284580.00|\n",
      "|         2004|             6|358932034.00| 1709216614.00|\n",
      "|         2004|             7|323115815.00| 2032332429.00|\n",
      "|         2004|             8|292209590.00| 2324542019.00|\n",
      "+-------------+--------------+------------+--------------+\n",
      "only showing top 20 rows\n",
      "\n"
     ]
    }
   ],
   "source": [
    "windowval = (Window.partitionBy(\"Year Of Sales\").orderBy(\"Month Of Sales\").rangeBetween(Window.unboundedPreceding, 0))\n",
    "SumGroupByYearMonth = SumGroupByYearMonth.select(\"Year Of Sales\",\n",
    "                                        \"Month Of Sales\",\n",
    "                                         col(\"sum(Sale Price)\").alias(\"Sale Price\")).orderBy('Year of Sales','Month Of Sales')\n",
    "\n",
    "SumGroupByYearMonth = SumGroupByYearMonth.withColumn(\"CummulativeSum\", sum(\"Sale Price\").over(windowval))\n",
    "SumGroupByYearMonth.show()"
   ]
  },
  {
   "cell_type": "markdown",
   "id": "9a2c670d",
   "metadata": {},
   "source": [
    "#### Combinig rows"
   ]
  },
  {
   "cell_type": "code",
   "execution_count": 377,
   "id": "87860119",
   "metadata": {},
   "outputs": [
    {
     "name": "stdout",
     "output_type": "stream",
     "text": [
      "+--------------------------------------------------------+\n",
      "|Full Name                                               |\n",
      "+--------------------------------------------------------+\n",
      "|StatenIsland Eltingville ONE FAMILY DWELLINGS           |\n",
      "|StatenIsland Concord TAX CLASS 1 - OTHER                |\n",
      "|StatenIsland New brighton THREE FAMILY DWELLINGS        |\n",
      "|StatenIsland Stapleton TAX CLASS 1 VACANT LAND          |\n",
      "|StatenIsland Oakwood-beach TWO FAMILY HOMES             |\n",
      "|StatenIsland Pleasant plains TAX CLASS 1 VACANT LAND    |\n",
      "|StatenIsland Rossville-port mobil ONE FAMILY HOMES      |\n",
      "|StatenIsland Rossville-charleston TAX CLASS 4 - OTHER   |\n",
      "|StatenIsland Pleasant plains ASYLUMS AND HOMES          |\n",
      "|StatenIsland South beach OFFICE BUILDINGS               |\n",
      "|StatenIsland Concord-fox hills COOPS - WALKUP APARTMENTS|\n",
      "|StatenIsland Woodrow TAX CLASS 1 - OTHER                |\n",
      "|StatenIsland Port ivory RENTALS - WALKUP APARTMENTS     |\n",
      "|StatenIsland Clove lakes TWO FAMILY HOMES               |\n",
      "|StatenIsland Dongan hills TWO FAMILY DWELLINGS          |\n",
      "|StatenIsland Castleton corners ONE FAMILY DWELLINGS     |\n",
      "|StatenIsland Concord RENTALS - WALKUP APARTMENTS        |\n",
      "|StatenIsland Tottenville WAREHOUSES                     |\n",
      "|StatenIsland Travis FACTORIES                           |\n",
      "|StatenIsland Midland beach EDUCATIONAL FACILITIES       |\n",
      "+--------------------------------------------------------+\n",
      "only showing top 20 rows\n",
      "\n"
     ]
    }
   ],
   "source": [
    "FULLNameGroupSalesStatenIsland20032019 = GroupSalesStatenIsland20032019.withColumn(\"Full Name\",\n",
    "                                            concat_col(GroupSalesStatenIsland20032019[\"Borough\"],\n",
    "                                               GroupSalesStatenIsland20032019[\"Neighborhood\"],\n",
    "                                               GroupSalesStatenIsland20032019[\"Building Class Category\"]))\n",
    "\n",
    "\n",
    "FULLNameGroupSalesStatenIsland20032019 =FULLNameGroupSalesStatenIsland20032019.select(\"Full Name\")\n",
    "FULLNameGroupSalesStatenIsland20032019.show(truncate=False)"
   ]
  },
  {
   "cell_type": "markdown",
   "id": "23cf9d4a",
   "metadata": {},
   "source": [
    "#### Save DataFrame to Hive Table"
   ]
  },
  {
   "cell_type": "markdown",
   "id": "a7d30719",
   "metadata": {},
   "source": [
    "##### Create Hive Internal Table"
   ]
  },
  {
   "cell_type": "code",
   "execution_count": 378,
   "id": "3dada73e",
   "metadata": {},
   "outputs": [],
   "source": [
    "FULLNameGroupSalesStatenIsland20032019.write.mode(\"overwrite\").saveAsTable(\"StatenIslandFullName\")"
   ]
  },
  {
   "cell_type": "markdown",
   "id": "006b5c3c",
   "metadata": {},
   "source": [
    "#### Read Hive Table"
   ]
  },
  {
   "cell_type": "code",
   "execution_count": 379,
   "id": "3fb0a740",
   "metadata": {},
   "outputs": [],
   "source": [
    "HiveTableStatenIsland = spark.read.table(\"StatenIslandFullName\")"
   ]
  },
  {
   "cell_type": "code",
   "execution_count": 380,
   "id": "b27d020e",
   "metadata": {},
   "outputs": [
    {
     "name": "stdout",
     "output_type": "stream",
     "text": [
      "+--------------------+\n",
      "|           Full Name|\n",
      "+--------------------+\n",
      "|StatenIsland Elti...|\n",
      "|StatenIsland Conc...|\n",
      "|StatenIsland New ...|\n",
      "|StatenIsland Stap...|\n",
      "|StatenIsland Oakw...|\n",
      "|StatenIsland Plea...|\n",
      "|StatenIsland Ross...|\n",
      "|StatenIsland Ross...|\n",
      "|StatenIsland Plea...|\n",
      "|StatenIsland Sout...|\n",
      "|StatenIsland Conc...|\n",
      "|StatenIsland Wood...|\n",
      "|StatenIsland Port...|\n",
      "|StatenIsland Clov...|\n",
      "|StatenIsland Dong...|\n",
      "|StatenIsland Cast...|\n",
      "|StatenIsland Conc...|\n",
      "|StatenIsland Tott...|\n",
      "|StatenIsland Trav...|\n",
      "|StatenIsland Midl...|\n",
      "+--------------------+\n",
      "only showing top 20 rows\n",
      "\n"
     ]
    }
   ],
   "source": [
    "HiveTableStatenIsland.show()"
   ]
  },
  {
   "cell_type": "markdown",
   "id": "956443d0",
   "metadata": {},
   "source": [
    "#### Finding minimum and maximum Sale Price"
   ]
  },
  {
   "cell_type": "code",
   "execution_count": 381,
   "id": "ae3ee1ea",
   "metadata": {},
   "outputs": [],
   "source": [
    "MaxGroupSalesStatenIsland20032019 = GroupSalesStatenIsland20032019.agg({\"Sale Price\": \"max\"}).collect()[0][0]"
   ]
  },
  {
   "cell_type": "code",
   "execution_count": 382,
   "id": "63fd0ec8",
   "metadata": {},
   "outputs": [],
   "source": [
    "FGroupSalesStatenIsland20032019 = GroupSalesStatenIsland20032019.filter(GroupSalesStatenIsland20032019['Sale Price'] > 0)\n",
    "MinGroupSalesStatenIsland20032019 = FGroupSalesStatenIsland20032019.agg({\"Sale Price\": \"min\"}).collect()[0][0]"
   ]
  },
  {
   "cell_type": "code",
   "execution_count": 383,
   "id": "29955ce2",
   "metadata": {},
   "outputs": [
    {
     "name": "stdout",
     "output_type": "stream",
     "text": [
      "+------------+-----------------+-----------------------------+-------------+\n",
      "|Borough     |Neighborhood     |Building Class Category      |Sale Price   |\n",
      "+------------+-----------------+-----------------------------+-------------+\n",
      "|StatenIsland|Great kills      |ONE FAMILY HOMES             |1283228296.00|\n",
      "|StatenIsland|West new brighton|RENTALS - ELEVATOR APARTMENTS|1.00         |\n",
      "+------------+-----------------+-----------------------------+-------------+\n",
      "\n"
     ]
    }
   ],
   "source": [
    "MaxStatenIsland = GroupSalesStatenIsland20032019.filter(GroupSalesStatenIsland20032019[\"Sale Price\"] == MaxGroupSalesStatenIsland20032019)\n",
    "MinStatenIsland = GroupSalesStatenIsland20032019.filter(GroupSalesStatenIsland20032019[\"Sale Price\"] == \n",
    "                               MinGroupSalesStatenIsland20032019).limit(1)\n",
    "unionMaxMinStatenIsland = MaxStatenIsland.union(MinStatenIsland)\n",
    "unionMaxMinStatenIsland.show(truncate=False)"
   ]
  },
  {
   "cell_type": "markdown",
   "id": "4e6a24fb",
   "metadata": {},
   "source": [
    "#### Pivoting Gross Square Feet"
   ]
  },
  {
   "cell_type": "code",
   "execution_count": 384,
   "id": "b6b5a0fc",
   "metadata": {},
   "outputs": [],
   "source": [
    "SelColGrossSquareFeetdfStatenIsland20032019 = dfStatenIsland20032019.select(\n",
    "                    CapitalizeStringUDF(col(\"Neighborhood\")).alias(\"Neighborhood\"),\n",
    "                    trim(RemoveTwoCharactersUDF(col(\"Building Class Category\"))).alias(\"Building Class Category\"),                                     \n",
    "                      \"Gross Square Feet\")"
   ]
  },
  {
   "cell_type": "code",
   "execution_count": 385,
   "id": "29f250aa",
   "metadata": {},
   "outputs": [],
   "source": [
    "GroupingGSF = SelColGrossSquareFeetdfStatenIsland20032019.groupBy(\"Neighborhood\", \n",
    "                                                                  \"Building Class Category\").sum(\"Gross Square Feet\")"
   ]
  },
  {
   "cell_type": "code",
   "execution_count": 386,
   "id": "161dc1e0",
   "metadata": {},
   "outputs": [],
   "source": [
    "Neighborhood = [\"Annadale\",\"Arrochar\",\"Bloomfield\",\"Concord\",\"Livingston\",\"Rossville\",\"Great kills\",\"West new brighton\"]"
   ]
  },
  {
   "cell_type": "code",
   "execution_count": 387,
   "id": "6b930cd3",
   "metadata": {},
   "outputs": [
    {
     "name": "stdout",
     "output_type": "stream",
     "text": [
      "+---------------------------------------+-------+-------+---------+-------+--------------+------------+-------+-------+\n",
      "|                Building Class Category|Astoria|Bayside|Bellerose| Corona|Flushing-north|Forest hills| Hollis|Jamaica|\n",
      "+---------------------------------------+-------+-------+---------+-------+--------------+------------+-------+-------+\n",
      "|         CONDOS - 2-10 UNIT RESIDENTIAL|   9578|   null|     null|   9968|         18395|        null|   null|   null|\n",
      "|              COOPS - WALKUP APARTMENTS|      0| 401760|     null|   null|             0|           0|   null|   null|\n",
      "|                    TAX CLASS 4 - OTHER|    392|   null|     null|    384|          2400|        null|      0|     40|\n",
      "|            RENTALS - WALKUP APARTMENTS|2328785| 160256|     8644| 743791|        489117|       42688| 272562|  69598|\n",
      "|                 COMMERCIAL VACANT LAND| 170054|   null|     null|      0|         99600|        null|      0|      0|\n",
      "|                  CONDO STORE BUILDINGS|      0|   null|     null|   2898|          4962|        null|   null|   null|\n",
      "|                   TWO FAMILY DWELLINGS|1820431|1259528|   209589|1086087|       2187864|      305754| 705547| 562532|\n",
      "|                 THREE FAMILY DWELLINGS|1168070| 275888|    25766|1106414|        724063|       54562|  99027| 222724|\n",
      "|                TAX CLASS 1 VACANT LAND|   8452|      0|        0|      0|             0|           0|      0|      0|\n",
      "|                       OFFICE BUILDINGS|  25331| 168891|     null|   6068|        306927|       40495|  30077| 109634|\n",
      "|        OUTDOOR RECREATIONAL FACILITIES|      0|  11650|     null|   null|          null|        null|   null|   null|\n",
      "|                           OTHER HOTELS|   null|   null|    14979|   null|          9887|        null|  26621|   null|\n",
      "|          RENTALS - ELEVATOR APARTMENTS| 527405|  32099|     null|  26399|       2310938|     1357000| 142745| 341487|\n",
      "|                          LUXURY HOTELS|   null|   null|     null|   null|        210460|        null|   null|      0|\n",
      "|                      COMMERCIAL CONDOS|      0|   null|     null|   null|             0|           0|   null|      0|\n",
      "|             CONDOS - WALKUP APARTMENTS|    506|   6032|     null|   5288|         27628|       27255|    908|    646|\n",
      "|                            CONDO COOPS| 430000|   null|     null|   null|             0|           0|   null|   null|\n",
      "|  INDOOR PUBLIC AND CULTURAL FACILITIES|   6684|  49541|     null|   null|          7305|        null|   null|   9592|\n",
      "|                              FACTORIES| 642929|   null|     null|  14498|         46180|        null|   8700|  39710|\n",
      "|                        A CONDO-RENTALS|      0|   null|     null|   null|          null|        null|   null|   null|\n",
      "|                           CONDO HOTELS|   null|   null|     null|   null|             0|        null|   null|   null|\n",
      "|                 CONDO OFFICE BUILDINGS|      0|      0|     null|   null|             0|        null|   null|      0|\n",
      "|                     COMMERCIAL GARAGES|  98216|    680|     2700|  17898|        163097|           0|  59642| 423011|\n",
      "|                      ASYLUMS AND HOMES|   1914|   null|     null|   null|          null|        null|   null|   null|\n",
      "|             CONDO NON-BUSINESS STORAGE|      0|   null|     null|   null|             0|           0|   null|   null|\n",
      "|            COOPS - ELEVATOR APARTMENTS|      0|1654272|     null|      0|        243670|      903223|      0|      0|\n",
      "|                          CONDO PARKING|   4837|    459|     null|    313|         13414|        1992|      0|    153|\n",
      "|         HOSPITAL AND HEALTH FACILITIES|   null|   null|     null|  62907|        124172|        null|   null|  50384|\n",
      "|                     TAX CLASS 1 CONDOS|   8236|  70205|     null|  15069|         16616|        5250|   null|   null|\n",
      "|                        STORE BUILDINGS| 423505| 150295|    25156| 205373|       1538649|      125415|  67592| 370031|\n",
      "|                    TAX CLASS 1 - OTHER|      0|      0|     null|      0|             0|           0|      0|      0|\n",
      "|                    RENTALS - 4-10 UNIT| 238537|  13755|    15136| 197999|         71220|        6960|  40708|  38504|\n",
      "|           CONDOS - ELEVATOR APARTMENTS|  76377|  52043|     null|  35829|        464298|       54080|   null|   2924|\n",
      "|CONDOS - 2-10 UNIT WITH COMMERCIAL UNIT|  59249|   null|     null|      0|             0|        null|   null|   null|\n",
      "|                   ONE FAMILY DWELLINGS| 394943|2140216|   739094| 178638|       3387685|     1247965|1467200| 245186|\n",
      "|             SPECIAL CONDO BILLING LOTS|  90307|   null|     null|   null|          null|        null|   null|  62257|\n",
      "|                             WAREHOUSES| 237819|   null|     null|  14867|        189866|        null| 739103| 135413|\n",
      "|                   RELIGIOUS FACILITIES|  18773|  37500|     null|  31679|        267167|        null|  13240|  23900|\n",
      "| CONDO CULTURAL/MEDICAL/EDUCATIONAL/ETC|   null|   null|     null|   null|          1095|        null|   null|   null|\n",
      "|                 EDUCATIONAL FACILITIES|  33200|  13460|     null|   null|         45480|        1938|  25680| 101016|\n",
      "+---------------------------------------+-------+-------+---------+-------+--------------+------------+-------+-------+\n",
      "\n"
     ]
    }
   ],
   "source": [
    "PivotGSF.groupBy(\"Building Class Category\").pivot(\"Neighborhood\").sum(\"sum(Gross Square Feet)\").show(100,100)"
   ]
  },
  {
   "cell_type": "code",
   "execution_count": 388,
   "id": "29ed39f3",
   "metadata": {},
   "outputs": [],
   "source": [
    "ToPandas = PivotGSF.groupBy(\"Building Class Category\").pivot(\"Neighborhood\").sum(\"sum(Gross Square Feet)\")"
   ]
  },
  {
   "cell_type": "code",
   "execution_count": 389,
   "id": "08c9a553",
   "metadata": {},
   "outputs": [
    {
     "name": "stdout",
     "output_type": "stream",
     "text": [
      "<class 'pyspark.pandas.frame.DataFrame'>\n"
     ]
    }
   ],
   "source": [
    "ToPandasAPI = ToPandas.pandas_api()\n",
    "print(type(ToPandasAPI))"
   ]
  },
  {
   "cell_type": "code",
   "execution_count": 390,
   "id": "c14107e1",
   "metadata": {},
   "outputs": [
    {
     "data": {
      "text/html": [
       "<div>\n",
       "<style scoped>\n",
       "    .dataframe tbody tr th:only-of-type {\n",
       "        vertical-align: middle;\n",
       "    }\n",
       "\n",
       "    .dataframe tbody tr th {\n",
       "        vertical-align: top;\n",
       "    }\n",
       "\n",
       "    .dataframe thead th {\n",
       "        text-align: right;\n",
       "    }\n",
       "</style>\n",
       "<table border=\"1\" class=\"dataframe\">\n",
       "  <thead>\n",
       "    <tr style=\"text-align: right;\">\n",
       "      <th></th>\n",
       "      <th>Building Class Category</th>\n",
       "      <th>Astoria</th>\n",
       "      <th>Bayside</th>\n",
       "      <th>Bellerose</th>\n",
       "      <th>Corona</th>\n",
       "      <th>Flushing-north</th>\n",
       "      <th>Forest hills</th>\n",
       "      <th>Hollis</th>\n",
       "      <th>Jamaica</th>\n",
       "    </tr>\n",
       "  </thead>\n",
       "  <tbody>\n",
       "    <tr>\n",
       "      <th>0</th>\n",
       "      <td>CONDOS - 2-10 UNIT RESIDENTIAL</td>\n",
       "      <td>9578.0</td>\n",
       "      <td>NaN</td>\n",
       "      <td>NaN</td>\n",
       "      <td>9968.0</td>\n",
       "      <td>18395.0</td>\n",
       "      <td>NaN</td>\n",
       "      <td>NaN</td>\n",
       "      <td>NaN</td>\n",
       "    </tr>\n",
       "    <tr>\n",
       "      <th>1</th>\n",
       "      <td>COOPS - WALKUP APARTMENTS</td>\n",
       "      <td>0.0</td>\n",
       "      <td>401760.0</td>\n",
       "      <td>NaN</td>\n",
       "      <td>NaN</td>\n",
       "      <td>0.0</td>\n",
       "      <td>0.0</td>\n",
       "      <td>NaN</td>\n",
       "      <td>NaN</td>\n",
       "    </tr>\n",
       "    <tr>\n",
       "      <th>2</th>\n",
       "      <td>TAX CLASS 4 - OTHER</td>\n",
       "      <td>392.0</td>\n",
       "      <td>NaN</td>\n",
       "      <td>NaN</td>\n",
       "      <td>384.0</td>\n",
       "      <td>2400.0</td>\n",
       "      <td>NaN</td>\n",
       "      <td>0.0</td>\n",
       "      <td>40.0</td>\n",
       "    </tr>\n",
       "    <tr>\n",
       "      <th>3</th>\n",
       "      <td>RENTALS - WALKUP APARTMENTS</td>\n",
       "      <td>2328785.0</td>\n",
       "      <td>160256.0</td>\n",
       "      <td>8644.0</td>\n",
       "      <td>743791.0</td>\n",
       "      <td>489117.0</td>\n",
       "      <td>42688.0</td>\n",
       "      <td>272562.0</td>\n",
       "      <td>69598.0</td>\n",
       "    </tr>\n",
       "    <tr>\n",
       "      <th>4</th>\n",
       "      <td>COMMERCIAL VACANT LAND</td>\n",
       "      <td>170054.0</td>\n",
       "      <td>NaN</td>\n",
       "      <td>NaN</td>\n",
       "      <td>0.0</td>\n",
       "      <td>99600.0</td>\n",
       "      <td>NaN</td>\n",
       "      <td>0.0</td>\n",
       "      <td>0.0</td>\n",
       "    </tr>\n",
       "    <tr>\n",
       "      <th>5</th>\n",
       "      <td>CONDO STORE BUILDINGS</td>\n",
       "      <td>0.0</td>\n",
       "      <td>NaN</td>\n",
       "      <td>NaN</td>\n",
       "      <td>2898.0</td>\n",
       "      <td>4962.0</td>\n",
       "      <td>NaN</td>\n",
       "      <td>NaN</td>\n",
       "      <td>NaN</td>\n",
       "    </tr>\n",
       "    <tr>\n",
       "      <th>6</th>\n",
       "      <td>TWO FAMILY DWELLINGS</td>\n",
       "      <td>1820431.0</td>\n",
       "      <td>1259528.0</td>\n",
       "      <td>209589.0</td>\n",
       "      <td>1086087.0</td>\n",
       "      <td>2187864.0</td>\n",
       "      <td>305754.0</td>\n",
       "      <td>705547.0</td>\n",
       "      <td>562532.0</td>\n",
       "    </tr>\n",
       "    <tr>\n",
       "      <th>7</th>\n",
       "      <td>THREE FAMILY DWELLINGS</td>\n",
       "      <td>1168070.0</td>\n",
       "      <td>275888.0</td>\n",
       "      <td>25766.0</td>\n",
       "      <td>1106414.0</td>\n",
       "      <td>724063.0</td>\n",
       "      <td>54562.0</td>\n",
       "      <td>99027.0</td>\n",
       "      <td>222724.0</td>\n",
       "    </tr>\n",
       "    <tr>\n",
       "      <th>8</th>\n",
       "      <td>TAX CLASS 1 VACANT LAND</td>\n",
       "      <td>8452.0</td>\n",
       "      <td>0.0</td>\n",
       "      <td>0.0</td>\n",
       "      <td>0.0</td>\n",
       "      <td>0.0</td>\n",
       "      <td>0.0</td>\n",
       "      <td>0.0</td>\n",
       "      <td>0.0</td>\n",
       "    </tr>\n",
       "    <tr>\n",
       "      <th>9</th>\n",
       "      <td>OFFICE BUILDINGS</td>\n",
       "      <td>25331.0</td>\n",
       "      <td>168891.0</td>\n",
       "      <td>NaN</td>\n",
       "      <td>6068.0</td>\n",
       "      <td>306927.0</td>\n",
       "      <td>40495.0</td>\n",
       "      <td>30077.0</td>\n",
       "      <td>109634.0</td>\n",
       "    </tr>\n",
       "    <tr>\n",
       "      <th>10</th>\n",
       "      <td>OUTDOOR RECREATIONAL FACILITIES</td>\n",
       "      <td>0.0</td>\n",
       "      <td>11650.0</td>\n",
       "      <td>NaN</td>\n",
       "      <td>NaN</td>\n",
       "      <td>NaN</td>\n",
       "      <td>NaN</td>\n",
       "      <td>NaN</td>\n",
       "      <td>NaN</td>\n",
       "    </tr>\n",
       "    <tr>\n",
       "      <th>11</th>\n",
       "      <td>OTHER HOTELS</td>\n",
       "      <td>NaN</td>\n",
       "      <td>NaN</td>\n",
       "      <td>14979.0</td>\n",
       "      <td>NaN</td>\n",
       "      <td>9887.0</td>\n",
       "      <td>NaN</td>\n",
       "      <td>26621.0</td>\n",
       "      <td>NaN</td>\n",
       "    </tr>\n",
       "    <tr>\n",
       "      <th>12</th>\n",
       "      <td>RENTALS - ELEVATOR APARTMENTS</td>\n",
       "      <td>527405.0</td>\n",
       "      <td>32099.0</td>\n",
       "      <td>NaN</td>\n",
       "      <td>26399.0</td>\n",
       "      <td>2310938.0</td>\n",
       "      <td>1357000.0</td>\n",
       "      <td>142745.0</td>\n",
       "      <td>341487.0</td>\n",
       "    </tr>\n",
       "    <tr>\n",
       "      <th>13</th>\n",
       "      <td>LUXURY HOTELS</td>\n",
       "      <td>NaN</td>\n",
       "      <td>NaN</td>\n",
       "      <td>NaN</td>\n",
       "      <td>NaN</td>\n",
       "      <td>210460.0</td>\n",
       "      <td>NaN</td>\n",
       "      <td>NaN</td>\n",
       "      <td>0.0</td>\n",
       "    </tr>\n",
       "    <tr>\n",
       "      <th>14</th>\n",
       "      <td>COMMERCIAL CONDOS</td>\n",
       "      <td>0.0</td>\n",
       "      <td>NaN</td>\n",
       "      <td>NaN</td>\n",
       "      <td>NaN</td>\n",
       "      <td>0.0</td>\n",
       "      <td>0.0</td>\n",
       "      <td>NaN</td>\n",
       "      <td>0.0</td>\n",
       "    </tr>\n",
       "    <tr>\n",
       "      <th>15</th>\n",
       "      <td>CONDOS - WALKUP APARTMENTS</td>\n",
       "      <td>506.0</td>\n",
       "      <td>6032.0</td>\n",
       "      <td>NaN</td>\n",
       "      <td>5288.0</td>\n",
       "      <td>27628.0</td>\n",
       "      <td>27255.0</td>\n",
       "      <td>908.0</td>\n",
       "      <td>646.0</td>\n",
       "    </tr>\n",
       "    <tr>\n",
       "      <th>16</th>\n",
       "      <td>CONDO COOPS</td>\n",
       "      <td>430000.0</td>\n",
       "      <td>NaN</td>\n",
       "      <td>NaN</td>\n",
       "      <td>NaN</td>\n",
       "      <td>0.0</td>\n",
       "      <td>0.0</td>\n",
       "      <td>NaN</td>\n",
       "      <td>NaN</td>\n",
       "    </tr>\n",
       "    <tr>\n",
       "      <th>17</th>\n",
       "      <td>INDOOR PUBLIC AND CULTURAL FACILITIES</td>\n",
       "      <td>6684.0</td>\n",
       "      <td>49541.0</td>\n",
       "      <td>NaN</td>\n",
       "      <td>NaN</td>\n",
       "      <td>7305.0</td>\n",
       "      <td>NaN</td>\n",
       "      <td>NaN</td>\n",
       "      <td>9592.0</td>\n",
       "    </tr>\n",
       "    <tr>\n",
       "      <th>18</th>\n",
       "      <td>FACTORIES</td>\n",
       "      <td>642929.0</td>\n",
       "      <td>NaN</td>\n",
       "      <td>NaN</td>\n",
       "      <td>14498.0</td>\n",
       "      <td>46180.0</td>\n",
       "      <td>NaN</td>\n",
       "      <td>8700.0</td>\n",
       "      <td>39710.0</td>\n",
       "    </tr>\n",
       "    <tr>\n",
       "      <th>19</th>\n",
       "      <td>A CONDO-RENTALS</td>\n",
       "      <td>0.0</td>\n",
       "      <td>NaN</td>\n",
       "      <td>NaN</td>\n",
       "      <td>NaN</td>\n",
       "      <td>NaN</td>\n",
       "      <td>NaN</td>\n",
       "      <td>NaN</td>\n",
       "      <td>NaN</td>\n",
       "    </tr>\n",
       "    <tr>\n",
       "      <th>20</th>\n",
       "      <td>CONDO HOTELS</td>\n",
       "      <td>NaN</td>\n",
       "      <td>NaN</td>\n",
       "      <td>NaN</td>\n",
       "      <td>NaN</td>\n",
       "      <td>0.0</td>\n",
       "      <td>NaN</td>\n",
       "      <td>NaN</td>\n",
       "      <td>NaN</td>\n",
       "    </tr>\n",
       "    <tr>\n",
       "      <th>21</th>\n",
       "      <td>CONDO OFFICE BUILDINGS</td>\n",
       "      <td>0.0</td>\n",
       "      <td>0.0</td>\n",
       "      <td>NaN</td>\n",
       "      <td>NaN</td>\n",
       "      <td>0.0</td>\n",
       "      <td>NaN</td>\n",
       "      <td>NaN</td>\n",
       "      <td>0.0</td>\n",
       "    </tr>\n",
       "    <tr>\n",
       "      <th>22</th>\n",
       "      <td>COMMERCIAL GARAGES</td>\n",
       "      <td>98216.0</td>\n",
       "      <td>680.0</td>\n",
       "      <td>2700.0</td>\n",
       "      <td>17898.0</td>\n",
       "      <td>163097.0</td>\n",
       "      <td>0.0</td>\n",
       "      <td>59642.0</td>\n",
       "      <td>423011.0</td>\n",
       "    </tr>\n",
       "    <tr>\n",
       "      <th>23</th>\n",
       "      <td>ASYLUMS AND HOMES</td>\n",
       "      <td>1914.0</td>\n",
       "      <td>NaN</td>\n",
       "      <td>NaN</td>\n",
       "      <td>NaN</td>\n",
       "      <td>NaN</td>\n",
       "      <td>NaN</td>\n",
       "      <td>NaN</td>\n",
       "      <td>NaN</td>\n",
       "    </tr>\n",
       "    <tr>\n",
       "      <th>24</th>\n",
       "      <td>CONDO NON-BUSINESS STORAGE</td>\n",
       "      <td>0.0</td>\n",
       "      <td>NaN</td>\n",
       "      <td>NaN</td>\n",
       "      <td>NaN</td>\n",
       "      <td>0.0</td>\n",
       "      <td>0.0</td>\n",
       "      <td>NaN</td>\n",
       "      <td>NaN</td>\n",
       "    </tr>\n",
       "    <tr>\n",
       "      <th>25</th>\n",
       "      <td>COOPS - ELEVATOR APARTMENTS</td>\n",
       "      <td>0.0</td>\n",
       "      <td>1654272.0</td>\n",
       "      <td>NaN</td>\n",
       "      <td>0.0</td>\n",
       "      <td>243670.0</td>\n",
       "      <td>903223.0</td>\n",
       "      <td>0.0</td>\n",
       "      <td>0.0</td>\n",
       "    </tr>\n",
       "    <tr>\n",
       "      <th>26</th>\n",
       "      <td>CONDO PARKING</td>\n",
       "      <td>4837.0</td>\n",
       "      <td>459.0</td>\n",
       "      <td>NaN</td>\n",
       "      <td>313.0</td>\n",
       "      <td>13414.0</td>\n",
       "      <td>1992.0</td>\n",
       "      <td>0.0</td>\n",
       "      <td>153.0</td>\n",
       "    </tr>\n",
       "    <tr>\n",
       "      <th>27</th>\n",
       "      <td>HOSPITAL AND HEALTH FACILITIES</td>\n",
       "      <td>NaN</td>\n",
       "      <td>NaN</td>\n",
       "      <td>NaN</td>\n",
       "      <td>62907.0</td>\n",
       "      <td>124172.0</td>\n",
       "      <td>NaN</td>\n",
       "      <td>NaN</td>\n",
       "      <td>50384.0</td>\n",
       "    </tr>\n",
       "    <tr>\n",
       "      <th>28</th>\n",
       "      <td>TAX CLASS 1 CONDOS</td>\n",
       "      <td>8236.0</td>\n",
       "      <td>70205.0</td>\n",
       "      <td>NaN</td>\n",
       "      <td>15069.0</td>\n",
       "      <td>16616.0</td>\n",
       "      <td>5250.0</td>\n",
       "      <td>NaN</td>\n",
       "      <td>NaN</td>\n",
       "    </tr>\n",
       "    <tr>\n",
       "      <th>29</th>\n",
       "      <td>STORE BUILDINGS</td>\n",
       "      <td>423505.0</td>\n",
       "      <td>150295.0</td>\n",
       "      <td>25156.0</td>\n",
       "      <td>205373.0</td>\n",
       "      <td>1538649.0</td>\n",
       "      <td>125415.0</td>\n",
       "      <td>67592.0</td>\n",
       "      <td>370031.0</td>\n",
       "    </tr>\n",
       "    <tr>\n",
       "      <th>30</th>\n",
       "      <td>TAX CLASS 1 - OTHER</td>\n",
       "      <td>0.0</td>\n",
       "      <td>0.0</td>\n",
       "      <td>NaN</td>\n",
       "      <td>0.0</td>\n",
       "      <td>0.0</td>\n",
       "      <td>0.0</td>\n",
       "      <td>0.0</td>\n",
       "      <td>0.0</td>\n",
       "    </tr>\n",
       "    <tr>\n",
       "      <th>31</th>\n",
       "      <td>RENTALS - 4-10 UNIT</td>\n",
       "      <td>238537.0</td>\n",
       "      <td>13755.0</td>\n",
       "      <td>15136.0</td>\n",
       "      <td>197999.0</td>\n",
       "      <td>71220.0</td>\n",
       "      <td>6960.0</td>\n",
       "      <td>40708.0</td>\n",
       "      <td>38504.0</td>\n",
       "    </tr>\n",
       "    <tr>\n",
       "      <th>32</th>\n",
       "      <td>CONDOS - ELEVATOR APARTMENTS</td>\n",
       "      <td>76377.0</td>\n",
       "      <td>52043.0</td>\n",
       "      <td>NaN</td>\n",
       "      <td>35829.0</td>\n",
       "      <td>464298.0</td>\n",
       "      <td>54080.0</td>\n",
       "      <td>NaN</td>\n",
       "      <td>2924.0</td>\n",
       "    </tr>\n",
       "    <tr>\n",
       "      <th>33</th>\n",
       "      <td>CONDOS - 2-10 UNIT WITH COMMERCIAL UNIT</td>\n",
       "      <td>59249.0</td>\n",
       "      <td>NaN</td>\n",
       "      <td>NaN</td>\n",
       "      <td>0.0</td>\n",
       "      <td>0.0</td>\n",
       "      <td>NaN</td>\n",
       "      <td>NaN</td>\n",
       "      <td>NaN</td>\n",
       "    </tr>\n",
       "    <tr>\n",
       "      <th>34</th>\n",
       "      <td>ONE FAMILY DWELLINGS</td>\n",
       "      <td>394943.0</td>\n",
       "      <td>2140216.0</td>\n",
       "      <td>739094.0</td>\n",
       "      <td>178638.0</td>\n",
       "      <td>3387685.0</td>\n",
       "      <td>1247965.0</td>\n",
       "      <td>1467200.0</td>\n",
       "      <td>245186.0</td>\n",
       "    </tr>\n",
       "    <tr>\n",
       "      <th>35</th>\n",
       "      <td>SPECIAL CONDO BILLING LOTS</td>\n",
       "      <td>90307.0</td>\n",
       "      <td>NaN</td>\n",
       "      <td>NaN</td>\n",
       "      <td>NaN</td>\n",
       "      <td>NaN</td>\n",
       "      <td>NaN</td>\n",
       "      <td>NaN</td>\n",
       "      <td>62257.0</td>\n",
       "    </tr>\n",
       "    <tr>\n",
       "      <th>36</th>\n",
       "      <td>WAREHOUSES</td>\n",
       "      <td>237819.0</td>\n",
       "      <td>NaN</td>\n",
       "      <td>NaN</td>\n",
       "      <td>14867.0</td>\n",
       "      <td>189866.0</td>\n",
       "      <td>NaN</td>\n",
       "      <td>739103.0</td>\n",
       "      <td>135413.0</td>\n",
       "    </tr>\n",
       "    <tr>\n",
       "      <th>37</th>\n",
       "      <td>RELIGIOUS FACILITIES</td>\n",
       "      <td>18773.0</td>\n",
       "      <td>37500.0</td>\n",
       "      <td>NaN</td>\n",
       "      <td>31679.0</td>\n",
       "      <td>267167.0</td>\n",
       "      <td>NaN</td>\n",
       "      <td>13240.0</td>\n",
       "      <td>23900.0</td>\n",
       "    </tr>\n",
       "    <tr>\n",
       "      <th>38</th>\n",
       "      <td>CONDO CULTURAL/MEDICAL/EDUCATIONAL/ETC</td>\n",
       "      <td>NaN</td>\n",
       "      <td>NaN</td>\n",
       "      <td>NaN</td>\n",
       "      <td>NaN</td>\n",
       "      <td>1095.0</td>\n",
       "      <td>NaN</td>\n",
       "      <td>NaN</td>\n",
       "      <td>NaN</td>\n",
       "    </tr>\n",
       "    <tr>\n",
       "      <th>39</th>\n",
       "      <td>EDUCATIONAL FACILITIES</td>\n",
       "      <td>33200.0</td>\n",
       "      <td>13460.0</td>\n",
       "      <td>NaN</td>\n",
       "      <td>NaN</td>\n",
       "      <td>45480.0</td>\n",
       "      <td>1938.0</td>\n",
       "      <td>25680.0</td>\n",
       "      <td>101016.0</td>\n",
       "    </tr>\n",
       "  </tbody>\n",
       "</table>\n",
       "</div>"
      ],
      "text/plain": [
       "                    Building Class Category    Astoria    Bayside  Bellerose     Corona  Flushing-north  Forest hills     Hollis   Jamaica\n",
       "0            CONDOS - 2-10 UNIT RESIDENTIAL     9578.0        NaN        NaN     9968.0         18395.0           NaN        NaN       NaN\n",
       "1                 COOPS - WALKUP APARTMENTS        0.0   401760.0        NaN        NaN             0.0           0.0        NaN       NaN\n",
       "2                       TAX CLASS 4 - OTHER      392.0        NaN        NaN      384.0          2400.0           NaN        0.0      40.0\n",
       "3               RENTALS - WALKUP APARTMENTS  2328785.0   160256.0     8644.0   743791.0        489117.0       42688.0   272562.0   69598.0\n",
       "4                    COMMERCIAL VACANT LAND   170054.0        NaN        NaN        0.0         99600.0           NaN        0.0       0.0\n",
       "5                     CONDO STORE BUILDINGS        0.0        NaN        NaN     2898.0          4962.0           NaN        NaN       NaN\n",
       "6                      TWO FAMILY DWELLINGS  1820431.0  1259528.0   209589.0  1086087.0       2187864.0      305754.0   705547.0  562532.0\n",
       "7                    THREE FAMILY DWELLINGS  1168070.0   275888.0    25766.0  1106414.0        724063.0       54562.0    99027.0  222724.0\n",
       "8                   TAX CLASS 1 VACANT LAND     8452.0        0.0        0.0        0.0             0.0           0.0        0.0       0.0\n",
       "9                          OFFICE BUILDINGS    25331.0   168891.0        NaN     6068.0        306927.0       40495.0    30077.0  109634.0\n",
       "10          OUTDOOR RECREATIONAL FACILITIES        0.0    11650.0        NaN        NaN             NaN           NaN        NaN       NaN\n",
       "11                             OTHER HOTELS        NaN        NaN    14979.0        NaN          9887.0           NaN    26621.0       NaN\n",
       "12            RENTALS - ELEVATOR APARTMENTS   527405.0    32099.0        NaN    26399.0       2310938.0     1357000.0   142745.0  341487.0\n",
       "13                            LUXURY HOTELS        NaN        NaN        NaN        NaN        210460.0           NaN        NaN       0.0\n",
       "14                        COMMERCIAL CONDOS        0.0        NaN        NaN        NaN             0.0           0.0        NaN       0.0\n",
       "15               CONDOS - WALKUP APARTMENTS      506.0     6032.0        NaN     5288.0         27628.0       27255.0      908.0     646.0\n",
       "16                              CONDO COOPS   430000.0        NaN        NaN        NaN             0.0           0.0        NaN       NaN\n",
       "17    INDOOR PUBLIC AND CULTURAL FACILITIES     6684.0    49541.0        NaN        NaN          7305.0           NaN        NaN    9592.0\n",
       "18                                FACTORIES   642929.0        NaN        NaN    14498.0         46180.0           NaN     8700.0   39710.0\n",
       "19                          A CONDO-RENTALS        0.0        NaN        NaN        NaN             NaN           NaN        NaN       NaN\n",
       "20                             CONDO HOTELS        NaN        NaN        NaN        NaN             0.0           NaN        NaN       NaN\n",
       "21                   CONDO OFFICE BUILDINGS        0.0        0.0        NaN        NaN             0.0           NaN        NaN       0.0\n",
       "22                       COMMERCIAL GARAGES    98216.0      680.0     2700.0    17898.0        163097.0           0.0    59642.0  423011.0\n",
       "23                        ASYLUMS AND HOMES     1914.0        NaN        NaN        NaN             NaN           NaN        NaN       NaN\n",
       "24               CONDO NON-BUSINESS STORAGE        0.0        NaN        NaN        NaN             0.0           0.0        NaN       NaN\n",
       "25              COOPS - ELEVATOR APARTMENTS        0.0  1654272.0        NaN        0.0        243670.0      903223.0        0.0       0.0\n",
       "26                            CONDO PARKING     4837.0      459.0        NaN      313.0         13414.0        1992.0        0.0     153.0\n",
       "27           HOSPITAL AND HEALTH FACILITIES        NaN        NaN        NaN    62907.0        124172.0           NaN        NaN   50384.0\n",
       "28                       TAX CLASS 1 CONDOS     8236.0    70205.0        NaN    15069.0         16616.0        5250.0        NaN       NaN\n",
       "29                          STORE BUILDINGS   423505.0   150295.0    25156.0   205373.0       1538649.0      125415.0    67592.0  370031.0\n",
       "30                      TAX CLASS 1 - OTHER        0.0        0.0        NaN        0.0             0.0           0.0        0.0       0.0\n",
       "31                      RENTALS - 4-10 UNIT   238537.0    13755.0    15136.0   197999.0         71220.0        6960.0    40708.0   38504.0\n",
       "32             CONDOS - ELEVATOR APARTMENTS    76377.0    52043.0        NaN    35829.0        464298.0       54080.0        NaN    2924.0\n",
       "33  CONDOS - 2-10 UNIT WITH COMMERCIAL UNIT    59249.0        NaN        NaN        0.0             0.0           NaN        NaN       NaN\n",
       "34                     ONE FAMILY DWELLINGS   394943.0  2140216.0   739094.0   178638.0       3387685.0     1247965.0  1467200.0  245186.0\n",
       "35               SPECIAL CONDO BILLING LOTS    90307.0        NaN        NaN        NaN             NaN           NaN        NaN   62257.0\n",
       "36                               WAREHOUSES   237819.0        NaN        NaN    14867.0        189866.0           NaN   739103.0  135413.0\n",
       "37                     RELIGIOUS FACILITIES    18773.0    37500.0        NaN    31679.0        267167.0           NaN    13240.0   23900.0\n",
       "38   CONDO CULTURAL/MEDICAL/EDUCATIONAL/ETC        NaN        NaN        NaN        NaN          1095.0           NaN        NaN       NaN\n",
       "39                   EDUCATIONAL FACILITIES    33200.0    13460.0        NaN        NaN         45480.0        1938.0    25680.0  101016.0"
      ]
     },
     "execution_count": 390,
     "metadata": {},
     "output_type": "execute_result"
    }
   ],
   "source": [
    "ToPandasAPI"
   ]
  },
  {
   "cell_type": "markdown",
   "id": "83cd6275",
   "metadata": {},
   "source": [
    "## Loading data to parquet files"
   ]
  },
  {
   "cell_type": "code",
   "execution_count": 391,
   "id": "17b7bbbd",
   "metadata": {},
   "outputs": [],
   "source": [
    "dfBronx20032019.coalesce(1).write.mode('overwrite').parquet(\"Bronx.parquet\")"
   ]
  },
  {
   "cell_type": "code",
   "execution_count": 392,
   "id": "c46b073a",
   "metadata": {},
   "outputs": [],
   "source": [
    "dfBrooklyn20032019.coalesce(1).write.mode('overwrite').parquet(\"Brooklyn.parquet\")\n"
   ]
  },
  {
   "cell_type": "code",
   "execution_count": 393,
   "id": "cee666f2",
   "metadata": {},
   "outputs": [],
   "source": [
    "dfManhattan20032019.coalesce(1).write.mode('overwrite').parquet(\"Manhattan.parquet\")"
   ]
  },
  {
   "cell_type": "code",
   "execution_count": 394,
   "id": "6a546ce2",
   "metadata": {},
   "outputs": [],
   "source": [
    "dfQueens20032019.coalesce(1).write.mode('overwrite').parquet(\"Queens.parquet\")"
   ]
  },
  {
   "cell_type": "code",
   "execution_count": 395,
   "id": "bb244bcf",
   "metadata": {},
   "outputs": [],
   "source": [
    "dfStatenIsland20032019.coalesce(1).write.mode('overwrite').parquet(\"StatenIsland.parquet\")"
   ]
  }
 ],
 "metadata": {
  "kernelspec": {
   "display_name": "Python 3 (ipykernel)",
   "language": "python",
   "name": "python3"
  },
  "language_info": {
   "codemirror_mode": {
    "name": "ipython",
    "version": 3
   },
   "file_extension": ".py",
   "mimetype": "text/x-python",
   "name": "python",
   "nbconvert_exporter": "python",
   "pygments_lexer": "ipython3",
   "version": "3.10.9"
  }
 },
 "nbformat": 4,
 "nbformat_minor": 5
}
